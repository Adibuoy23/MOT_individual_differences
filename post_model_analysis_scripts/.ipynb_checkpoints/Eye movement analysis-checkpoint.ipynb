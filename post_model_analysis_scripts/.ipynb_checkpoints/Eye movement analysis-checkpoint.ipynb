{
 "cells": [
  {
   "cell_type": "code",
   "execution_count": 1,
   "metadata": {},
   "outputs": [],
   "source": [
    "# clear all the variables & load the necessary modules\n",
    "%reset -f\n",
    "import numpy as np\n",
    "import sys\n",
    "import turicreate as tc\n",
    "import turicreate.aggregate as agg\n",
    "import os\n",
    "from os import walk\n",
    "import fnmatch\n",
    "import scipy.io\n",
    "import pandas as pd\n",
    "import chart_studio.plotly as py\n",
    "import plotly.graph_objs as go\n",
    "import plotly.figure_factory as ff\n",
    "from scipy.stats import norm\n",
    "from statsmodels.formula.api import ols\n",
    "from scipy.stats.mstats import zscore\n",
    "import scipy.stats as st\n",
    "import random\n",
    "from plotly import tools\n",
    "# Path variable (where the data is located)\n",
    "myPath = '../data/processed_files/MOT_json_files/'\n",
    "sys.path.append(myPath)\n",
    "# Get the file information in the directory\n",
    "file_list = []\n",
    "for root, dirs, files  in walk(myPath):\n",
    "    for filename in files:\n",
    "        if fnmatch.fnmatch(filename.lower(),\"*behavior*\"):\n",
    "            file_list.append(filename)\n",
    "file_list = [s for s in file_list if \"TCent\" not in s]"
   ]
  },
  {
   "cell_type": "code",
   "execution_count": null,
   "metadata": {
    "code_folding": [],
    "scrolled": true
   },
   "outputs": [
    {
     "data": {
      "text/html": [
       "<pre>Parsing JSON records from /Volumes/My Passport/Box Sync/Box Sync/MOT individual differences and eye movements/data/processed_files/MOT_json_files/behavior test trajectories_0_0_random_with fixation from sub_101</pre>"
      ],
      "text/plain": [
       "Parsing JSON records from /Volumes/My Passport/Box Sync/Box Sync/MOT individual differences and eye movements/data/processed_files/MOT_json_files/behavior test trajectories_0_0_random_with fixation from sub_101"
      ]
     },
     "metadata": {},
     "output_type": "display_data"
    },
    {
     "data": {
      "text/html": [
       "<pre>Successfully parsed an SArray of 72000 elements from the JSON file /Volumes/My Passport/Box Sync/Box Sync/MOT individual differences and eye movements/data/processed_files/MOT_json_files/behavior test trajectories_0_0_random_with fixation from sub_101</pre>"
      ],
      "text/plain": [
       "Successfully parsed an SArray of 72000 elements from the JSON file /Volumes/My Passport/Box Sync/Box Sync/MOT individual differences and eye movements/data/processed_files/MOT_json_files/behavior test trajectories_0_0_random_with fixation from sub_101"
      ]
     },
     "metadata": {},
     "output_type": "display_data"
    },
    {
     "data": {
      "text/html": [
       "<pre>Parsing JSON records from /Volumes/My Passport/Box Sync/Box Sync/MOT individual differences and eye movements/data/processed_files/MOT_json_files/behavior test trajectories_0_0_random_with fixation from sub_102</pre>"
      ],
      "text/plain": [
       "Parsing JSON records from /Volumes/My Passport/Box Sync/Box Sync/MOT individual differences and eye movements/data/processed_files/MOT_json_files/behavior test trajectories_0_0_random_with fixation from sub_102"
      ]
     },
     "metadata": {},
     "output_type": "display_data"
    },
    {
     "data": {
      "text/html": [
       "<pre>Successfully parsed an SArray of 72000 elements from the JSON file /Volumes/My Passport/Box Sync/Box Sync/MOT individual differences and eye movements/data/processed_files/MOT_json_files/behavior test trajectories_0_0_random_with fixation from sub_102</pre>"
      ],
      "text/plain": [
       "Successfully parsed an SArray of 72000 elements from the JSON file /Volumes/My Passport/Box Sync/Box Sync/MOT individual differences and eye movements/data/processed_files/MOT_json_files/behavior test trajectories_0_0_random_with fixation from sub_102"
      ]
     },
     "metadata": {},
     "output_type": "display_data"
    },
    {
     "data": {
      "text/html": [
       "<pre>Parsing JSON records from /Volumes/My Passport/Box Sync/Box Sync/MOT individual differences and eye movements/data/processed_files/MOT_json_files/behavior test trajectories_0_0_random_with fixation from sub_103</pre>"
      ],
      "text/plain": [
       "Parsing JSON records from /Volumes/My Passport/Box Sync/Box Sync/MOT individual differences and eye movements/data/processed_files/MOT_json_files/behavior test trajectories_0_0_random_with fixation from sub_103"
      ]
     },
     "metadata": {},
     "output_type": "display_data"
    },
    {
     "data": {
      "text/html": [
       "<pre>Successfully parsed an SArray of 72000 elements from the JSON file /Volumes/My Passport/Box Sync/Box Sync/MOT individual differences and eye movements/data/processed_files/MOT_json_files/behavior test trajectories_0_0_random_with fixation from sub_103</pre>"
      ],
      "text/plain": [
       "Successfully parsed an SArray of 72000 elements from the JSON file /Volumes/My Passport/Box Sync/Box Sync/MOT individual differences and eye movements/data/processed_files/MOT_json_files/behavior test trajectories_0_0_random_with fixation from sub_103"
      ]
     },
     "metadata": {},
     "output_type": "display_data"
    },
    {
     "data": {
      "text/html": [
       "<pre>Parsing JSON records from /Volumes/My Passport/Box Sync/Box Sync/MOT individual differences and eye movements/data/processed_files/MOT_json_files/behavior test trajectories_0_0_random_with fixation from sub_104</pre>"
      ],
      "text/plain": [
       "Parsing JSON records from /Volumes/My Passport/Box Sync/Box Sync/MOT individual differences and eye movements/data/processed_files/MOT_json_files/behavior test trajectories_0_0_random_with fixation from sub_104"
      ]
     },
     "metadata": {},
     "output_type": "display_data"
    },
    {
     "data": {
      "text/html": [
       "<pre>Successfully parsed an SArray of 72000 elements from the JSON file /Volumes/My Passport/Box Sync/Box Sync/MOT individual differences and eye movements/data/processed_files/MOT_json_files/behavior test trajectories_0_0_random_with fixation from sub_104</pre>"
      ],
      "text/plain": [
       "Successfully parsed an SArray of 72000 elements from the JSON file /Volumes/My Passport/Box Sync/Box Sync/MOT individual differences and eye movements/data/processed_files/MOT_json_files/behavior test trajectories_0_0_random_with fixation from sub_104"
      ]
     },
     "metadata": {},
     "output_type": "display_data"
    },
    {
     "data": {
      "text/html": [
       "<pre>Parsing JSON records from /Volumes/My Passport/Box Sync/Box Sync/MOT individual differences and eye movements/data/processed_files/MOT_json_files/behavior test trajectories_0_0_random_with fixation from sub_105</pre>"
      ],
      "text/plain": [
       "Parsing JSON records from /Volumes/My Passport/Box Sync/Box Sync/MOT individual differences and eye movements/data/processed_files/MOT_json_files/behavior test trajectories_0_0_random_with fixation from sub_105"
      ]
     },
     "metadata": {},
     "output_type": "display_data"
    },
    {
     "data": {
      "text/html": [
       "<pre>Successfully parsed an SArray of 72000 elements from the JSON file /Volumes/My Passport/Box Sync/Box Sync/MOT individual differences and eye movements/data/processed_files/MOT_json_files/behavior test trajectories_0_0_random_with fixation from sub_105</pre>"
      ],
      "text/plain": [
       "Successfully parsed an SArray of 72000 elements from the JSON file /Volumes/My Passport/Box Sync/Box Sync/MOT individual differences and eye movements/data/processed_files/MOT_json_files/behavior test trajectories_0_0_random_with fixation from sub_105"
      ]
     },
     "metadata": {},
     "output_type": "display_data"
    },
    {
     "data": {
      "text/html": [
       "<pre>Parsing JSON records from /Volumes/My Passport/Box Sync/Box Sync/MOT individual differences and eye movements/data/processed_files/MOT_json_files/behavior test trajectories_0_0_random_with fixation from sub_106</pre>"
      ],
      "text/plain": [
       "Parsing JSON records from /Volumes/My Passport/Box Sync/Box Sync/MOT individual differences and eye movements/data/processed_files/MOT_json_files/behavior test trajectories_0_0_random_with fixation from sub_106"
      ]
     },
     "metadata": {},
     "output_type": "display_data"
    },
    {
     "data": {
      "text/html": [
       "<pre>Successfully parsed an SArray of 72000 elements from the JSON file /Volumes/My Passport/Box Sync/Box Sync/MOT individual differences and eye movements/data/processed_files/MOT_json_files/behavior test trajectories_0_0_random_with fixation from sub_106</pre>"
      ],
      "text/plain": [
       "Successfully parsed an SArray of 72000 elements from the JSON file /Volumes/My Passport/Box Sync/Box Sync/MOT individual differences and eye movements/data/processed_files/MOT_json_files/behavior test trajectories_0_0_random_with fixation from sub_106"
      ]
     },
     "metadata": {},
     "output_type": "display_data"
    },
    {
     "data": {
      "text/html": [
       "<pre>Parsing JSON records from /Volumes/My Passport/Box Sync/Box Sync/MOT individual differences and eye movements/data/processed_files/MOT_json_files/behavior test trajectories_0_0_random_with fixation from sub_107</pre>"
      ],
      "text/plain": [
       "Parsing JSON records from /Volumes/My Passport/Box Sync/Box Sync/MOT individual differences and eye movements/data/processed_files/MOT_json_files/behavior test trajectories_0_0_random_with fixation from sub_107"
      ]
     },
     "metadata": {},
     "output_type": "display_data"
    },
    {
     "data": {
      "text/html": [
       "<pre>Successfully parsed an SArray of 72000 elements from the JSON file /Volumes/My Passport/Box Sync/Box Sync/MOT individual differences and eye movements/data/processed_files/MOT_json_files/behavior test trajectories_0_0_random_with fixation from sub_107</pre>"
      ],
      "text/plain": [
       "Successfully parsed an SArray of 72000 elements from the JSON file /Volumes/My Passport/Box Sync/Box Sync/MOT individual differences and eye movements/data/processed_files/MOT_json_files/behavior test trajectories_0_0_random_with fixation from sub_107"
      ]
     },
     "metadata": {},
     "output_type": "display_data"
    },
    {
     "data": {
      "text/html": [
       "<pre>Parsing JSON records from /Volumes/My Passport/Box Sync/Box Sync/MOT individual differences and eye movements/data/processed_files/MOT_json_files/behavior test trajectories_0_0_random_with fixation from sub_108</pre>"
      ],
      "text/plain": [
       "Parsing JSON records from /Volumes/My Passport/Box Sync/Box Sync/MOT individual differences and eye movements/data/processed_files/MOT_json_files/behavior test trajectories_0_0_random_with fixation from sub_108"
      ]
     },
     "metadata": {},
     "output_type": "display_data"
    },
    {
     "data": {
      "text/html": [
       "<pre>Successfully parsed an SArray of 72000 elements from the JSON file /Volumes/My Passport/Box Sync/Box Sync/MOT individual differences and eye movements/data/processed_files/MOT_json_files/behavior test trajectories_0_0_random_with fixation from sub_108</pre>"
      ],
      "text/plain": [
       "Successfully parsed an SArray of 72000 elements from the JSON file /Volumes/My Passport/Box Sync/Box Sync/MOT individual differences and eye movements/data/processed_files/MOT_json_files/behavior test trajectories_0_0_random_with fixation from sub_108"
      ]
     },
     "metadata": {},
     "output_type": "display_data"
    },
    {
     "data": {
      "text/html": [
       "<pre>Parsing JSON records from /Volumes/My Passport/Box Sync/Box Sync/MOT individual differences and eye movements/data/processed_files/MOT_json_files/behavior test trajectories_0_0_random_with fixation from sub_109</pre>"
      ],
      "text/plain": [
       "Parsing JSON records from /Volumes/My Passport/Box Sync/Box Sync/MOT individual differences and eye movements/data/processed_files/MOT_json_files/behavior test trajectories_0_0_random_with fixation from sub_109"
      ]
     },
     "metadata": {},
     "output_type": "display_data"
    },
    {
     "data": {
      "text/html": [
       "<pre>Successfully parsed an SArray of 72000 elements from the JSON file /Volumes/My Passport/Box Sync/Box Sync/MOT individual differences and eye movements/data/processed_files/MOT_json_files/behavior test trajectories_0_0_random_with fixation from sub_109</pre>"
      ],
      "text/plain": [
       "Successfully parsed an SArray of 72000 elements from the JSON file /Volumes/My Passport/Box Sync/Box Sync/MOT individual differences and eye movements/data/processed_files/MOT_json_files/behavior test trajectories_0_0_random_with fixation from sub_109"
      ]
     },
     "metadata": {},
     "output_type": "display_data"
    },
    {
     "data": {
      "text/html": [
       "<pre>Parsing JSON records from /Volumes/My Passport/Box Sync/Box Sync/MOT individual differences and eye movements/data/processed_files/MOT_json_files/behavior test trajectories_0_0_random_with fixation from sub_110</pre>"
      ],
      "text/plain": [
       "Parsing JSON records from /Volumes/My Passport/Box Sync/Box Sync/MOT individual differences and eye movements/data/processed_files/MOT_json_files/behavior test trajectories_0_0_random_with fixation from sub_110"
      ]
     },
     "metadata": {},
     "output_type": "display_data"
    },
    {
     "data": {
      "text/html": [
       "<pre>Successfully parsed an SArray of 72000 elements from the JSON file /Volumes/My Passport/Box Sync/Box Sync/MOT individual differences and eye movements/data/processed_files/MOT_json_files/behavior test trajectories_0_0_random_with fixation from sub_110</pre>"
      ],
      "text/plain": [
       "Successfully parsed an SArray of 72000 elements from the JSON file /Volumes/My Passport/Box Sync/Box Sync/MOT individual differences and eye movements/data/processed_files/MOT_json_files/behavior test trajectories_0_0_random_with fixation from sub_110"
      ]
     },
     "metadata": {},
     "output_type": "display_data"
    },
    {
     "data": {
      "text/html": [
       "<pre>Parsing JSON records from /Volumes/My Passport/Box Sync/Box Sync/MOT individual differences and eye movements/data/processed_files/MOT_json_files/behavior test trajectories_0_0_random_with fixation from sub_111</pre>"
      ],
      "text/plain": [
       "Parsing JSON records from /Volumes/My Passport/Box Sync/Box Sync/MOT individual differences and eye movements/data/processed_files/MOT_json_files/behavior test trajectories_0_0_random_with fixation from sub_111"
      ]
     },
     "metadata": {},
     "output_type": "display_data"
    },
    {
     "data": {
      "text/html": [
       "<pre>Successfully parsed an SArray of 72000 elements from the JSON file /Volumes/My Passport/Box Sync/Box Sync/MOT individual differences and eye movements/data/processed_files/MOT_json_files/behavior test trajectories_0_0_random_with fixation from sub_111</pre>"
      ],
      "text/plain": [
       "Successfully parsed an SArray of 72000 elements from the JSON file /Volumes/My Passport/Box Sync/Box Sync/MOT individual differences and eye movements/data/processed_files/MOT_json_files/behavior test trajectories_0_0_random_with fixation from sub_111"
      ]
     },
     "metadata": {},
     "output_type": "display_data"
    },
    {
     "data": {
      "text/html": [
       "<pre>Parsing JSON records from /Volumes/My Passport/Box Sync/Box Sync/MOT individual differences and eye movements/data/processed_files/MOT_json_files/behavior test trajectories_0_0_random_with fixation from sub_112</pre>"
      ],
      "text/plain": [
       "Parsing JSON records from /Volumes/My Passport/Box Sync/Box Sync/MOT individual differences and eye movements/data/processed_files/MOT_json_files/behavior test trajectories_0_0_random_with fixation from sub_112"
      ]
     },
     "metadata": {},
     "output_type": "display_data"
    },
    {
     "data": {
      "text/html": [
       "<pre>Successfully parsed an SArray of 72000 elements from the JSON file /Volumes/My Passport/Box Sync/Box Sync/MOT individual differences and eye movements/data/processed_files/MOT_json_files/behavior test trajectories_0_0_random_with fixation from sub_112</pre>"
      ],
      "text/plain": [
       "Successfully parsed an SArray of 72000 elements from the JSON file /Volumes/My Passport/Box Sync/Box Sync/MOT individual differences and eye movements/data/processed_files/MOT_json_files/behavior test trajectories_0_0_random_with fixation from sub_112"
      ]
     },
     "metadata": {},
     "output_type": "display_data"
    },
    {
     "data": {
      "text/html": [
       "<pre>Parsing JSON records from /Volumes/My Passport/Box Sync/Box Sync/MOT individual differences and eye movements/data/processed_files/MOT_json_files/behavior test trajectories_0_0_random_with fixation from sub_113</pre>"
      ],
      "text/plain": [
       "Parsing JSON records from /Volumes/My Passport/Box Sync/Box Sync/MOT individual differences and eye movements/data/processed_files/MOT_json_files/behavior test trajectories_0_0_random_with fixation from sub_113"
      ]
     },
     "metadata": {},
     "output_type": "display_data"
    },
    {
     "data": {
      "text/html": [
       "<pre>Successfully parsed an SArray of 72000 elements from the JSON file /Volumes/My Passport/Box Sync/Box Sync/MOT individual differences and eye movements/data/processed_files/MOT_json_files/behavior test trajectories_0_0_random_with fixation from sub_113</pre>"
      ],
      "text/plain": [
       "Successfully parsed an SArray of 72000 elements from the JSON file /Volumes/My Passport/Box Sync/Box Sync/MOT individual differences and eye movements/data/processed_files/MOT_json_files/behavior test trajectories_0_0_random_with fixation from sub_113"
      ]
     },
     "metadata": {},
     "output_type": "display_data"
    },
    {
     "data": {
      "text/html": [
       "<pre>Parsing JSON records from /Volumes/My Passport/Box Sync/Box Sync/MOT individual differences and eye movements/data/processed_files/MOT_json_files/behavior test trajectories_0_0_random_with fixation from sub_114</pre>"
      ],
      "text/plain": [
       "Parsing JSON records from /Volumes/My Passport/Box Sync/Box Sync/MOT individual differences and eye movements/data/processed_files/MOT_json_files/behavior test trajectories_0_0_random_with fixation from sub_114"
      ]
     },
     "metadata": {},
     "output_type": "display_data"
    },
    {
     "data": {
      "text/html": [
       "<pre>Successfully parsed an SArray of 72000 elements from the JSON file /Volumes/My Passport/Box Sync/Box Sync/MOT individual differences and eye movements/data/processed_files/MOT_json_files/behavior test trajectories_0_0_random_with fixation from sub_114</pre>"
      ],
      "text/plain": [
       "Successfully parsed an SArray of 72000 elements from the JSON file /Volumes/My Passport/Box Sync/Box Sync/MOT individual differences and eye movements/data/processed_files/MOT_json_files/behavior test trajectories_0_0_random_with fixation from sub_114"
      ]
     },
     "metadata": {},
     "output_type": "display_data"
    },
    {
     "data": {
      "text/html": [
       "<pre>Parsing JSON records from /Volumes/My Passport/Box Sync/Box Sync/MOT individual differences and eye movements/data/processed_files/MOT_json_files/behavior test trajectories_0_0_random_with fixation from sub_115</pre>"
      ],
      "text/plain": [
       "Parsing JSON records from /Volumes/My Passport/Box Sync/Box Sync/MOT individual differences and eye movements/data/processed_files/MOT_json_files/behavior test trajectories_0_0_random_with fixation from sub_115"
      ]
     },
     "metadata": {},
     "output_type": "display_data"
    },
    {
     "data": {
      "text/html": [
       "<pre>Successfully parsed an SArray of 72000 elements from the JSON file /Volumes/My Passport/Box Sync/Box Sync/MOT individual differences and eye movements/data/processed_files/MOT_json_files/behavior test trajectories_0_0_random_with fixation from sub_115</pre>"
      ],
      "text/plain": [
       "Successfully parsed an SArray of 72000 elements from the JSON file /Volumes/My Passport/Box Sync/Box Sync/MOT individual differences and eye movements/data/processed_files/MOT_json_files/behavior test trajectories_0_0_random_with fixation from sub_115"
      ]
     },
     "metadata": {},
     "output_type": "display_data"
    },
    {
     "data": {
      "text/html": [
       "<pre>Parsing JSON records from /Volumes/My Passport/Box Sync/Box Sync/MOT individual differences and eye movements/data/processed_files/MOT_json_files/behavior test trajectories_0_0_random_with fixation from sub_116</pre>"
      ],
      "text/plain": [
       "Parsing JSON records from /Volumes/My Passport/Box Sync/Box Sync/MOT individual differences and eye movements/data/processed_files/MOT_json_files/behavior test trajectories_0_0_random_with fixation from sub_116"
      ]
     },
     "metadata": {},
     "output_type": "display_data"
    },
    {
     "data": {
      "text/html": [
       "<pre>Successfully parsed an SArray of 72000 elements from the JSON file /Volumes/My Passport/Box Sync/Box Sync/MOT individual differences and eye movements/data/processed_files/MOT_json_files/behavior test trajectories_0_0_random_with fixation from sub_116</pre>"
      ],
      "text/plain": [
       "Successfully parsed an SArray of 72000 elements from the JSON file /Volumes/My Passport/Box Sync/Box Sync/MOT individual differences and eye movements/data/processed_files/MOT_json_files/behavior test trajectories_0_0_random_with fixation from sub_116"
      ]
     },
     "metadata": {},
     "output_type": "display_data"
    },
    {
     "data": {
      "text/html": [
       "<pre>Parsing JSON records from /Volumes/My Passport/Box Sync/Box Sync/MOT individual differences and eye movements/data/processed_files/MOT_json_files/behavior test trajectories_0_0_random_with fixation from sub_117</pre>"
      ],
      "text/plain": [
       "Parsing JSON records from /Volumes/My Passport/Box Sync/Box Sync/MOT individual differences and eye movements/data/processed_files/MOT_json_files/behavior test trajectories_0_0_random_with fixation from sub_117"
      ]
     },
     "metadata": {},
     "output_type": "display_data"
    },
    {
     "data": {
      "text/html": [
       "<pre>Successfully parsed an SArray of 72000 elements from the JSON file /Volumes/My Passport/Box Sync/Box Sync/MOT individual differences and eye movements/data/processed_files/MOT_json_files/behavior test trajectories_0_0_random_with fixation from sub_117</pre>"
      ],
      "text/plain": [
       "Successfully parsed an SArray of 72000 elements from the JSON file /Volumes/My Passport/Box Sync/Box Sync/MOT individual differences and eye movements/data/processed_files/MOT_json_files/behavior test trajectories_0_0_random_with fixation from sub_117"
      ]
     },
     "metadata": {},
     "output_type": "display_data"
    },
    {
     "data": {
      "text/html": [
       "<pre>Parsing JSON records from /Volumes/My Passport/Box Sync/Box Sync/MOT individual differences and eye movements/data/processed_files/MOT_json_files/behavior test trajectories_0_0_random_with fixation from sub_118</pre>"
      ],
      "text/plain": [
       "Parsing JSON records from /Volumes/My Passport/Box Sync/Box Sync/MOT individual differences and eye movements/data/processed_files/MOT_json_files/behavior test trajectories_0_0_random_with fixation from sub_118"
      ]
     },
     "metadata": {},
     "output_type": "display_data"
    },
    {
     "data": {
      "text/html": [
       "<pre>Successfully parsed an SArray of 72000 elements from the JSON file /Volumes/My Passport/Box Sync/Box Sync/MOT individual differences and eye movements/data/processed_files/MOT_json_files/behavior test trajectories_0_0_random_with fixation from sub_118</pre>"
      ],
      "text/plain": [
       "Successfully parsed an SArray of 72000 elements from the JSON file /Volumes/My Passport/Box Sync/Box Sync/MOT individual differences and eye movements/data/processed_files/MOT_json_files/behavior test trajectories_0_0_random_with fixation from sub_118"
      ]
     },
     "metadata": {},
     "output_type": "display_data"
    },
    {
     "data": {
      "text/html": [
       "<pre>Parsing JSON records from /Volumes/My Passport/Box Sync/Box Sync/MOT individual differences and eye movements/data/processed_files/MOT_json_files/behavior test trajectories_0_0_random_with fixation from sub_119</pre>"
      ],
      "text/plain": [
       "Parsing JSON records from /Volumes/My Passport/Box Sync/Box Sync/MOT individual differences and eye movements/data/processed_files/MOT_json_files/behavior test trajectories_0_0_random_with fixation from sub_119"
      ]
     },
     "metadata": {},
     "output_type": "display_data"
    },
    {
     "data": {
      "text/html": [
       "<pre>Successfully parsed an SArray of 72000 elements from the JSON file /Volumes/My Passport/Box Sync/Box Sync/MOT individual differences and eye movements/data/processed_files/MOT_json_files/behavior test trajectories_0_0_random_with fixation from sub_119</pre>"
      ],
      "text/plain": [
       "Successfully parsed an SArray of 72000 elements from the JSON file /Volumes/My Passport/Box Sync/Box Sync/MOT individual differences and eye movements/data/processed_files/MOT_json_files/behavior test trajectories_0_0_random_with fixation from sub_119"
      ]
     },
     "metadata": {},
     "output_type": "display_data"
    },
    {
     "data": {
      "text/html": [
       "<pre>Parsing JSON records from /Volumes/My Passport/Box Sync/Box Sync/MOT individual differences and eye movements/data/processed_files/MOT_json_files/behavior test trajectories_0_0_random_with fixation from sub_120</pre>"
      ],
      "text/plain": [
       "Parsing JSON records from /Volumes/My Passport/Box Sync/Box Sync/MOT individual differences and eye movements/data/processed_files/MOT_json_files/behavior test trajectories_0_0_random_with fixation from sub_120"
      ]
     },
     "metadata": {},
     "output_type": "display_data"
    },
    {
     "data": {
      "text/html": [
       "<pre>Successfully parsed an SArray of 72000 elements from the JSON file /Volumes/My Passport/Box Sync/Box Sync/MOT individual differences and eye movements/data/processed_files/MOT_json_files/behavior test trajectories_0_0_random_with fixation from sub_120</pre>"
      ],
      "text/plain": [
       "Successfully parsed an SArray of 72000 elements from the JSON file /Volumes/My Passport/Box Sync/Box Sync/MOT individual differences and eye movements/data/processed_files/MOT_json_files/behavior test trajectories_0_0_random_with fixation from sub_120"
      ]
     },
     "metadata": {},
     "output_type": "display_data"
    },
    {
     "data": {
      "text/html": [
       "<pre>Parsing JSON records from /Volumes/My Passport/Box Sync/Box Sync/MOT individual differences and eye movements/data/processed_files/MOT_json_files/behavior test trajectories_0_0_random_with fixation from sub_121</pre>"
      ],
      "text/plain": [
       "Parsing JSON records from /Volumes/My Passport/Box Sync/Box Sync/MOT individual differences and eye movements/data/processed_files/MOT_json_files/behavior test trajectories_0_0_random_with fixation from sub_121"
      ]
     },
     "metadata": {},
     "output_type": "display_data"
    },
    {
     "data": {
      "text/html": [
       "<pre>Successfully parsed an SArray of 72000 elements from the JSON file /Volumes/My Passport/Box Sync/Box Sync/MOT individual differences and eye movements/data/processed_files/MOT_json_files/behavior test trajectories_0_0_random_with fixation from sub_121</pre>"
      ],
      "text/plain": [
       "Successfully parsed an SArray of 72000 elements from the JSON file /Volumes/My Passport/Box Sync/Box Sync/MOT individual differences and eye movements/data/processed_files/MOT_json_files/behavior test trajectories_0_0_random_with fixation from sub_121"
      ]
     },
     "metadata": {},
     "output_type": "display_data"
    },
    {
     "data": {
      "text/html": [
       "<pre>Parsing JSON records from /Volumes/My Passport/Box Sync/Box Sync/MOT individual differences and eye movements/data/processed_files/MOT_json_files/behavior test trajectories_0_0_random_with fixation from sub_122</pre>"
      ],
      "text/plain": [
       "Parsing JSON records from /Volumes/My Passport/Box Sync/Box Sync/MOT individual differences and eye movements/data/processed_files/MOT_json_files/behavior test trajectories_0_0_random_with fixation from sub_122"
      ]
     },
     "metadata": {},
     "output_type": "display_data"
    }
   ],
   "source": [
    "trajectory_and_eye_data = tc.SFrame.read_json(myPath+file_list[0], orient = 'records')\n",
    "trajectory_and_eye_data['Subject ID'] = int(file_list[0][-3:])\n",
    "for file in file_list[1:]:\n",
    "    temp = tc.SFrame.read_json(myPath+file, orient='records')\n",
    "    temp['Subject ID'] = int(file[-3:])\n",
    "    trajectory_and_eye_data = trajectory_and_eye_data.append(temp)"
   ]
  },
  {
   "cell_type": "code",
   "execution_count": 6,
   "metadata": {},
   "outputs": [],
   "source": [
    "trajectory_and_eye_data = trajectory_and_eye_data.sort(['Subject ID','Trial number', 'Frame number'])"
   ]
  },
  {
   "cell_type": "code",
   "execution_count": 7,
   "metadata": {},
   "outputs": [
    {
     "data": {
      "text/html": [
       "<pre>Materializing SFrame</pre>"
      ],
      "text/plain": [
       "Materializing SFrame"
      ]
     },
     "metadata": {},
     "output_type": "display_data"
    },
    {
     "data": {
      "text/html": [
       "<pre>Materializing SFrame</pre>"
      ],
      "text/plain": [
       "Materializing SFrame"
      ]
     },
     "metadata": {},
     "output_type": "display_data"
    }
   ],
   "source": [
    "sub_data = trajectory_and_eye_data[trajectory_and_eye_data['Subject ID']==105]\n",
    "trial_data1 = sub_data[sub_data['Trial number']==11]\n",
    "trial_data2 = sub_data[sub_data['Trial number']==100]\n",
    "trial_data1.explore()\n",
    "trial_data2.explore()"
   ]
  },
  {
   "cell_type": "code",
   "execution_count": 8,
   "metadata": {},
   "outputs": [],
   "source": [
    "trajectory_and_eye_data = trajectory_and_eye_data[0:len(trajectory_and_eye_data):3]\n",
    "#trajectory_and_eye_data.show()"
   ]
  },
  {
   "cell_type": "code",
   "execution_count": 9,
   "metadata": {
    "code_folding": [
     0
    ]
   },
   "outputs": [],
   "source": [
    "def compute_centroid(numtargets,x_columns,df,target=True):\n",
    "    if target:\n",
    "        centroid = np.mean([df.get(x_column) for x_column in x_columns[0:numtargets]])\n",
    "    else:\n",
    "        centroid = np.mean([df.get(x_column) for x_column in x_columns[numtargets:2*numtargets]])\n",
    "    return centroid\n",
    "\n",
    "def compute_euc_dist(column1,column2,column3,column4,eccentricity,scale,x):\n",
    "    dist = tc.distances.euclidean([x[column1],x[column2]],[x[column3],x[column4]])\n",
    "    dist = dist/eccentricity\n",
    "    return dist\n",
    "def compute_euc_dist_origin(column1,column2,eccentricity,scale,x):\n",
    "    dist = tc.distances.euclidean([x[column1],x[column2]],[0,0])\n",
    "    dist = dist/eccentricity\n",
    "    return dist"
   ]
  },
  {
   "cell_type": "code",
   "execution_count": 10,
   "metadata": {},
   "outputs": [],
   "source": [
    "column_names = trajectory_and_eye_data.column_names()\n",
    "x_columns = [col for col in column_names if \".x\" in col]\n",
    "y_columns = [col for col in column_names if \".y\" in col]"
   ]
  },
  {
   "cell_type": "code",
   "execution_count": 11,
   "metadata": {},
   "outputs": [],
   "source": [
    "eccentricity = 33.6\n",
    "# Compute Tcentroid, All_Centroid in the data\n",
    "\n",
    "trajectory_and_eye_data['T_Centroid.x']=trajectory_and_eye_data.apply(lambda x: compute_centroid(x['Number of Targets'],x_columns,x,target=True))\n",
    "trajectory_and_eye_data['T_Centroid.y']=trajectory_and_eye_data.apply(lambda x: compute_centroid(x['Number of Targets'],y_columns,x,target=True))\n",
    "\n",
    "trajectory_and_eye_data['D_Centroid.x']=trajectory_and_eye_data.apply(lambda x: compute_centroid(x['Number of Targets'],x_columns,x,target=False))\n",
    "trajectory_and_eye_data['D_Centroid.y']=trajectory_and_eye_data.apply(lambda x: compute_centroid(x['Number of Targets'],y_columns,x,target=False))\n",
    "\n",
    "trajectory_and_eye_data['All_Centroid.x']=trajectory_and_eye_data.apply(lambda x: compute_centroid(2*x['Number of Targets'],x_columns,x))\n",
    "trajectory_and_eye_data['All_Centroid.y']=trajectory_and_eye_data.apply(lambda x: compute_centroid(2*x['Number of Targets'],y_columns,x))"
   ]
  },
  {
   "cell_type": "code",
   "execution_count": 12,
   "metadata": {},
   "outputs": [],
   "source": [
    "eccentricity = 33.6\n",
    "scale = 1600\n",
    "trajectory_and_eye_data['distOrigin'] = trajectory_and_eye_data.apply(lambda x: compute_euc_dist_origin('fixation.x','fixation.y',eccentricity,scale,x))\n",
    "trajectory_and_eye_data['TCent_fix_dist'] = trajectory_and_eye_data.apply(lambda x: compute_euc_dist('T_Centroid.x','T_Centroid.y','fixation.x','fixation.y',\n",
    "                                                                               eccentricity,scale,x))\n",
    "trajectory_and_eye_data['DCent_fix_dist'] = trajectory_and_eye_data.apply(lambda x: compute_euc_dist('D_Centroid.x','D_Centroid.y','fixation.x','fixation.y',\n",
    "                                                                               eccentricity,scale,x))\n",
    "trajectory_and_eye_data['AllCent_fix_dist'] = trajectory_and_eye_data.apply(lambda x: compute_euc_dist('All_Centroid.x','All_Centroid.y','fixation.x','fixation.y',\n",
    "                                                                                eccentricity,scale,x))"
   ]
  },
  {
   "cell_type": "code",
   "execution_count": 13,
   "metadata": {},
   "outputs": [],
   "source": [
    "threshold = 2\n",
    "trajectory_and_eye_data['TCent_fix_counts'] = trajectory_and_eye_data.apply(lambda x: 1 if x['TCent_fix_dist']<=threshold else 0)\n",
    "trajectory_and_eye_data['DCent_fix_counts'] = trajectory_and_eye_data.apply(lambda x: 1 if x['DCent_fix_dist']<=threshold else 0)\n",
    "trajectory_and_eye_data['AllCent_fix_counts'] = trajectory_and_eye_data.apply(lambda x: 1 if x['AllCent_fix_dist']<=threshold else 0)"
   ]
  },
  {
   "cell_type": "code",
   "execution_count": 14,
   "metadata": {},
   "outputs": [
    {
     "data": {
      "text/html": [
       "<pre>Materializing SFrame</pre>"
      ],
      "text/plain": [
       "Materializing SFrame"
      ]
     },
     "metadata": {},
     "output_type": "display_data"
    }
   ],
   "source": [
    "trajectory_and_eye_data.explore()"
   ]
  },
  {
   "cell_type": "code",
   "execution_count": 15,
   "metadata": {},
   "outputs": [
    {
     "data": {
      "text/html": [
       "<pre>Finished parsing file /Volumes/My Passport/Github/MOT_bayesian_model/data/MOT_csv_files/behavior_data/behavior_data.csv</pre>"
      ],
      "text/plain": [
       "Finished parsing file /Volumes/My Passport/Github/MOT_bayesian_model/data/MOT_csv_files/behavior_data/behavior_data.csv"
      ]
     },
     "metadata": {},
     "output_type": "display_data"
    },
    {
     "data": {
      "text/html": [
       "<pre>Parsing completed. Parsed 100 lines in 0.046914 secs.</pre>"
      ],
      "text/plain": [
       "Parsing completed. Parsed 100 lines in 0.046914 secs."
      ]
     },
     "metadata": {},
     "output_type": "display_data"
    },
    {
     "name": "stdout",
     "output_type": "stream",
     "text": [
      "------------------------------------------------------\n",
      "Inferred types from first 100 line(s) of file as \n",
      "column_type_hints=[int,int,int,int,int,int,int,float,int,int,int,int,float,int,int,int,int,int,int,int,int,int,int,int,int,int,int,int,int]\n",
      "If parsing fails due to incorrect types, you can correct\n",
      "the inferred type list above and pass it to read_csv in\n",
      "the column_type_hints argument\n",
      "------------------------------------------------------\n"
     ]
    },
    {
     "data": {
      "text/html": [
       "<pre>Finished parsing file /Volumes/My Passport/Github/MOT_bayesian_model/data/MOT_csv_files/behavior_data/behavior_data.csv</pre>"
      ],
      "text/plain": [
       "Finished parsing file /Volumes/My Passport/Github/MOT_bayesian_model/data/MOT_csv_files/behavior_data/behavior_data.csv"
      ]
     },
     "metadata": {},
     "output_type": "display_data"
    },
    {
     "data": {
      "text/html": [
       "<pre>Parsing completed. Parsed 6000 lines in 0.028416 secs.</pre>"
      ],
      "text/plain": [
       "Parsing completed. Parsed 6000 lines in 0.028416 secs."
      ]
     },
     "metadata": {},
     "output_type": "display_data"
    }
   ],
   "source": [
    "behavior_data = tc.SFrame.read_csv('./data/MOT_csv_files/behavior_data/' + 'behavior_data.csv')"
   ]
  },
  {
   "cell_type": "code",
   "execution_count": 16,
   "metadata": {},
   "outputs": [
    {
     "data": {
      "text/html": [
       "<div style=\"max-height:1000px;max-width:1500px;overflow:auto;\"><table frame=\"box\" rules=\"cols\">\n",
       "    <tr>\n",
       "        <th style=\"padding-left: 1em; padding-right: 1em; text-align: center\">subject_Num</th>\n",
       "        <th style=\"padding-left: 1em; padding-right: 1em; text-align: center\">avg_accuracy</th>\n",
       "        <th style=\"padding-left: 1em; padding-right: 1em; text-align: center\">rank</th>\n",
       "    </tr>\n",
       "    <tr>\n",
       "        <td style=\"padding-left: 1em; padding-right: 1em; text-align: center; vertical-align: top\">101</td>\n",
       "        <td style=\"padding-left: 1em; padding-right: 1em; text-align: center; vertical-align: top\">0.7477083333333335</td>\n",
       "        <td style=\"padding-left: 1em; padding-right: 1em; text-align: center; vertical-align: top\">16</td>\n",
       "    </tr>\n",
       "    <tr>\n",
       "        <td style=\"padding-left: 1em; padding-right: 1em; text-align: center; vertical-align: top\">102</td>\n",
       "        <td style=\"padding-left: 1em; padding-right: 1em; text-align: center; vertical-align: top\">0.8009250000000003</td>\n",
       "        <td style=\"padding-left: 1em; padding-right: 1em; text-align: center; vertical-align: top\">2</td>\n",
       "    </tr>\n",
       "    <tr>\n",
       "        <td style=\"padding-left: 1em; padding-right: 1em; text-align: center; vertical-align: top\">103</td>\n",
       "        <td style=\"padding-left: 1em; padding-right: 1em; text-align: center; vertical-align: top\">0.7633583333333335</td>\n",
       "        <td style=\"padding-left: 1em; padding-right: 1em; text-align: center; vertical-align: top\">10</td>\n",
       "    </tr>\n",
       "    <tr>\n",
       "        <td style=\"padding-left: 1em; padding-right: 1em; text-align: center; vertical-align: top\">104</td>\n",
       "        <td style=\"padding-left: 1em; padding-right: 1em; text-align: center; vertical-align: top\">0.7680833333333337</td>\n",
       "        <td style=\"padding-left: 1em; padding-right: 1em; text-align: center; vertical-align: top\">8</td>\n",
       "    </tr>\n",
       "    <tr>\n",
       "        <td style=\"padding-left: 1em; padding-right: 1em; text-align: center; vertical-align: top\">105</td>\n",
       "        <td style=\"padding-left: 1em; padding-right: 1em; text-align: center; vertical-align: top\">0.6633083333333334</td>\n",
       "        <td style=\"padding-left: 1em; padding-right: 1em; text-align: center; vertical-align: top\">43</td>\n",
       "    </tr>\n",
       "    <tr>\n",
       "        <td style=\"padding-left: 1em; padding-right: 1em; text-align: center; vertical-align: top\">106</td>\n",
       "        <td style=\"padding-left: 1em; padding-right: 1em; text-align: center; vertical-align: top\">0.7353749999999998</td>\n",
       "        <td style=\"padding-left: 1em; padding-right: 1em; text-align: center; vertical-align: top\">23</td>\n",
       "    </tr>\n",
       "    <tr>\n",
       "        <td style=\"padding-left: 1em; padding-right: 1em; text-align: center; vertical-align: top\">107</td>\n",
       "        <td style=\"padding-left: 1em; padding-right: 1em; text-align: center; vertical-align: top\">0.7586166666666667</td>\n",
       "        <td style=\"padding-left: 1em; padding-right: 1em; text-align: center; vertical-align: top\">12</td>\n",
       "    </tr>\n",
       "    <tr>\n",
       "        <td style=\"padding-left: 1em; padding-right: 1em; text-align: center; vertical-align: top\">108</td>\n",
       "        <td style=\"padding-left: 1em; padding-right: 1em; text-align: center; vertical-align: top\">0.7548249999999999</td>\n",
       "        <td style=\"padding-left: 1em; padding-right: 1em; text-align: center; vertical-align: top\">14</td>\n",
       "    </tr>\n",
       "    <tr>\n",
       "        <td style=\"padding-left: 1em; padding-right: 1em; text-align: center; vertical-align: top\">109</td>\n",
       "        <td style=\"padding-left: 1em; padding-right: 1em; text-align: center; vertical-align: top\">0.7060833333333331</td>\n",
       "        <td style=\"padding-left: 1em; padding-right: 1em; text-align: center; vertical-align: top\">30</td>\n",
       "    </tr>\n",
       "    <tr>\n",
       "        <td style=\"padding-left: 1em; padding-right: 1em; text-align: center; vertical-align: top\">110</td>\n",
       "        <td style=\"padding-left: 1em; padding-right: 1em; text-align: center; vertical-align: top\">0.6245749999999994</td>\n",
       "        <td style=\"padding-left: 1em; padding-right: 1em; text-align: center; vertical-align: top\">48</td>\n",
       "    </tr>\n",
       "</table>\n",
       "[50 rows x 3 columns]<br/>Note: Only the head of the SFrame is printed.<br/>You can use print_rows(num_rows=m, num_columns=n) to print more rows and columns.\n",
       "</div>"
      ],
      "text/plain": [
       "Columns:\n",
       "\tsubject_Num\tint\n",
       "\tavg_accuracy\tfloat\n",
       "\trank\tint\n",
       "\n",
       "Rows: 50\n",
       "\n",
       "Data:\n",
       "+-------------+--------------------+------+\n",
       "| subject_Num |    avg_accuracy    | rank |\n",
       "+-------------+--------------------+------+\n",
       "|     101     | 0.7477083333333335 |  16  |\n",
       "|     102     | 0.8009250000000003 |  2   |\n",
       "|     103     | 0.7633583333333335 |  10  |\n",
       "|     104     | 0.7680833333333337 |  8   |\n",
       "|     105     | 0.6633083333333334 |  43  |\n",
       "|     106     | 0.7353749999999998 |  23  |\n",
       "|     107     | 0.7586166666666667 |  12  |\n",
       "|     108     | 0.7548249999999999 |  14  |\n",
       "|     109     | 0.7060833333333331 |  30  |\n",
       "|     110     | 0.6245749999999994 |  48  |\n",
       "+-------------+--------------------+------+\n",
       "[50 rows x 3 columns]\n",
       "Note: Only the head of the SFrame is printed.\n",
       "You can use print_rows(num_rows=m, num_columns=n) to print more rows and columns."
      ]
     },
     "execution_count": 16,
     "metadata": {},
     "output_type": "execute_result"
    }
   ],
   "source": [
    "individual_ranking = behavior_data.groupby('subject_Num',operations = {'avg_accuracy':agg.MEAN('accuracy')})\n",
    "individual_ranking = individual_ranking.sort('subject_Num')\n",
    "individual_ranking = individual_ranking.sort('avg_accuracy',ascending=False)\n",
    "individual_ranking['rank'] = np.arange(1,len(individual_ranking)+1)\n",
    "individual_ranking = individual_ranking.sort('subject_Num')\n",
    "individual_ranking"
   ]
  },
  {
   "cell_type": "code",
   "execution_count": 17,
   "metadata": {},
   "outputs": [
    {
     "data": {
      "text/html": [
       "<pre>Materializing SFrame</pre>"
      ],
      "text/plain": [
       "Materializing SFrame"
      ]
     },
     "metadata": {},
     "output_type": "display_data"
    }
   ],
   "source": [
    "trajectory_and_eye_data.explore()"
   ]
  },
  {
   "cell_type": "code",
   "execution_count": 18,
   "metadata": {},
   "outputs": [
    {
     "data": {
      "text/html": [
       "<pre>Materializing SFrame</pre>"
      ],
      "text/plain": [
       "Materializing SFrame"
      ]
     },
     "metadata": {},
     "output_type": "display_data"
    }
   ],
   "source": [
    "sub_wise_centroid_counts = trajectory_and_eye_data.groupby(['Subject ID'], operations = {'avg_TCent_counts':agg.MEAN('TCent_fix_counts'),\n",
    "                                                                                                       'avg_DCent_counts':agg.MEAN('DCent_fix_counts'),\n",
    "                                                                                                       'avg_AllCent_counts':agg.MEAN('AllCent_fix_counts')})\n",
    "#sub_wise_centroid_counts['avg_TCent_counts'] = sub_wise_centroid_counts['avg_TCent_counts']\n",
    "#sub_wise_centroid_counts['avg_DCent_counts'] = sub_wise_centroid_counts['avg_DCent_counts']\n",
    "#sub_wise_centroid_counts['avg_AllCent_counts'] = sub_wise_centroid_counts['avg_AllCent_counts']\n",
    "sub_wise_centroid_counts = sub_wise_centroid_counts.sort(['Subject ID'])\n",
    "sub_wise_centroid_counts.explore()"
   ]
  },
  {
   "cell_type": "code",
   "execution_count": 19,
   "metadata": {},
   "outputs": [],
   "source": [
    "individual_ranking['avg_TCent_Counts'] = sub_wise_centroid_counts['avg_TCent_counts']\n",
    "individual_ranking['avg_DCent_Counts'] = sub_wise_centroid_counts['avg_DCent_counts']\n",
    "individual_ranking['avg_AllCent_Counts'] = sub_wise_centroid_counts['avg_AllCent_counts']\n",
    "individual_ranking = individual_ranking.sort('rank')"
   ]
  },
  {
   "cell_type": "code",
   "execution_count": 20,
   "metadata": {},
   "outputs": [
    {
     "name": "stdout",
     "output_type": "stream",
     "text": [
      "                            OLS Regression Results                            \n",
      "==============================================================================\n",
      "Dep. Variable:       avg_TCent_Counts   R-squared:                       0.140\n",
      "Model:                            OLS   Adj. R-squared:                  0.122\n",
      "Method:                 Least Squares   F-statistic:                     7.839\n",
      "Date:                Tue, 27 Aug 2019   Prob (F-statistic):            0.00734\n",
      "Time:                        13:01:02   Log-Likelihood:                 116.65\n",
      "No. Observations:                  50   AIC:                            -229.3\n",
      "Df Residuals:                      48   BIC:                            -225.5\n",
      "Df Model:                           1                                         \n",
      "Covariance Type:            nonrobust                                         \n",
      "==============================================================================\n",
      "                 coef    std err          t      P>|t|      [0.025      0.975]\n",
      "------------------------------------------------------------------------------\n",
      "Intercept      0.0953      0.007     13.860      0.000       0.082       0.109\n",
      "rank          -0.0007      0.000     -2.800      0.007      -0.001      -0.000\n",
      "==============================================================================\n",
      "Omnibus:                        1.894   Durbin-Watson:                   1.713\n",
      "Prob(Omnibus):                  0.388   Jarque-Bera (JB):                1.037\n",
      "Skew:                          -0.214   Prob(JB):                        0.595\n",
      "Kurtosis:                       3.561   Cond. No.                         59.5\n",
      "==============================================================================\n",
      "\n",
      "Warnings:\n",
      "[1] Standard Errors assume that the covariance matrix of the errors is correctly specified.\n"
     ]
    }
   ],
   "source": [
    "hsb = individual_ranking.to_dataframe()\n",
    "\n",
    "mod = ols(\"avg_TCent_Counts ~ rank\", data=hsb)\n",
    "res = mod.fit()\n",
    "print(res.summary())"
   ]
  },
  {
   "cell_type": "code",
   "execution_count": 34,
   "metadata": {},
   "outputs": [
    {
     "data": {
      "text/html": [
       "        <script type=\"text/javascript\">\n",
       "        window.PlotlyConfig = {MathJaxConfig: 'local'};\n",
       "        if (window.MathJax) {MathJax.Hub.Config({SVG: {font: \"STIX-Web\"}});}\n",
       "        if (typeof require !== 'undefined') {\n",
       "        require.undef(\"plotly\");\n",
       "        requirejs.config({\n",
       "            paths: {\n",
       "                'plotly': ['https://cdn.plot.ly/plotly-latest.min']\n",
       "            }\n",
       "        });\n",
       "        require(['plotly'], function(Plotly) {\n",
       "            window._Plotly = Plotly;\n",
       "        });\n",
       "        }\n",
       "        </script>\n",
       "        "
      ]
     },
     "metadata": {},
     "output_type": "display_data"
    },
    {
     "data": {
      "application/vnd.plotly.v1+json": {
       "config": {
        "plotlyServerURL": "https://plot.ly"
       },
       "data": [
        {
         "marker": {
          "color": "gray",
          "line": {
           "color": "black",
           "width": 1.5
          },
          "opacity": 0.5,
          "size": 14
         },
         "mode": "markers",
         "showlegend": false,
         "type": "scatter",
         "x": [
          1,
          2,
          3,
          4,
          5,
          6,
          7,
          8,
          9,
          10,
          11,
          12,
          13,
          14,
          15,
          16,
          17,
          18,
          19,
          20,
          21,
          22,
          23,
          24,
          25,
          26,
          27,
          28,
          29,
          30,
          31,
          32,
          33,
          34,
          35,
          36,
          37,
          38,
          39,
          40,
          41,
          42,
          43,
          44,
          45,
          46,
          47,
          48,
          49,
          50
         ],
         "y": [
          0.020625000000000036,
          0.0982916666666664,
          0.12845833333333273,
          0.11974999999999957,
          0.07070833333333353,
          0.12249999999999997,
          0.11504166666666633,
          0.09587499999999978,
          0.07687500000000064,
          0.05979166666666672,
          0.08724999999999938,
          0.08112499999999999,
          0.060958333333333156,
          0.0737083333333331,
          0.11004166666666591,
          0.08579166666666634,
          0.0982499999999999,
          0.054374999999999715,
          0.09712500000000047,
          0.08208333333333323,
          0.10016666666666724,
          0.08312500000000056,
          0.07933333333333291,
          0.07704166666666645,
          0.06754166666666683,
          0.11395833333333408,
          0.11041666666666712,
          0.0810416666666665,
          0.05116666666666666,
          0.046541666666666835,
          0.05383333333333339,
          0.0880416666666657,
          0.0784166666666663,
          0.09533333333333302,
          0.041375000000000176,
          0.10641666666666683,
          0.12549999999999997,
          0.05612500000000018,
          0.10037500000000016,
          0.044458333333333266,
          0.06408333333333349,
          0.056583333333333,
          0.05600000000000004,
          0.05962499999999976,
          0.037333333333333385,
          0.05116666666666661,
          0.06079166666666668,
          0.0570833333333333,
          0.08691666666666654,
          0.06020833333333297
         ]
        },
        {
         "line": {
          "color": "gray",
          "dash": "dash",
          "width": 3.5
         },
         "mode": "lines",
         "showlegend": false,
         "type": "scatter",
         "x": [
          1,
          1.494949494949495,
          1.98989898989899,
          2.484848484848485,
          2.97979797979798,
          3.474747474747475,
          3.9696969696969697,
          4.464646464646465,
          4.95959595959596,
          5.454545454545455,
          5.94949494949495,
          6.444444444444445,
          6.9393939393939394,
          7.434343434343434,
          7.92929292929293,
          8.424242424242426,
          8.91919191919192,
          9.414141414141415,
          9.90909090909091,
          10.404040404040405,
          10.8989898989899,
          11.393939393939394,
          11.88888888888889,
          12.383838383838384,
          12.878787878787879,
          13.373737373737374,
          13.868686868686869,
          14.363636363636365,
          14.85858585858586,
          15.353535353535355,
          15.84848484848485,
          16.343434343434346,
          16.83838383838384,
          17.333333333333336,
          17.82828282828283,
          18.323232323232325,
          18.81818181818182,
          19.313131313131315,
          19.80808080808081,
          20.303030303030305,
          20.7979797979798,
          21.292929292929294,
          21.78787878787879,
          22.282828282828284,
          22.77777777777778,
          23.272727272727273,
          23.767676767676768,
          24.262626262626263,
          24.757575757575758,
          25.252525252525253,
          25.747474747474747,
          26.242424242424242,
          26.737373737373737,
          27.232323232323232,
          27.72727272727273,
          28.222222222222225,
          28.71717171717172,
          29.212121212121215,
          29.70707070707071,
          30.202020202020204,
          30.6969696969697,
          31.191919191919194,
          31.68686868686869,
          32.18181818181819,
          32.67676767676768,
          33.17171717171718,
          33.66666666666667,
          34.161616161616166,
          34.65656565656566,
          35.151515151515156,
          35.64646464646465,
          36.141414141414145,
          36.63636363636364,
          37.131313131313135,
          37.62626262626263,
          38.121212121212125,
          38.61616161616162,
          39.111111111111114,
          39.60606060606061,
          40.101010101010104,
          40.5959595959596,
          41.09090909090909,
          41.58585858585859,
          42.08080808080808,
          42.57575757575758,
          43.07070707070707,
          43.56565656565657,
          44.06060606060606,
          44.55555555555556,
          45.05050505050505,
          45.54545454545455,
          46.04040404040404,
          46.535353535353536,
          47.03030303030303,
          47.525252525252526,
          48.02020202020202,
          48.515151515151516,
          49.01010101010101,
          49.505050505050505,
          50
         ],
         "y": [
          0.09467529411764693,
          0.09434998514557325,
          0.09402467617349956,
          0.0936993672014259,
          0.09337405822935221,
          0.09304874925727853,
          0.09272344028520486,
          0.09239813131313118,
          0.0920728223410575,
          0.09174751336898383,
          0.09142220439691015,
          0.09109689542483648,
          0.0907715864527628,
          0.09044627748068912,
          0.09012096850861545,
          0.08979565953654177,
          0.08947035056446809,
          0.08914504159239442,
          0.08881973262032074,
          0.08849442364824706,
          0.08816911467617339,
          0.0878438057040997,
          0.08751849673202602,
          0.08719318775995236,
          0.08686787878787867,
          0.086542569815805,
          0.08621726084373132,
          0.08589195187165764,
          0.08556664289958398,
          0.0852413339275103,
          0.08491602495543661,
          0.08459071598336294,
          0.08426540701128926,
          0.08394009803921558,
          0.08361478906714191,
          0.08328948009506823,
          0.08296417112299456,
          0.08263886215092088,
          0.0823135531788472,
          0.08198824420677353,
          0.08166293523469985,
          0.08133762626262617,
          0.0810123172905525,
          0.08068700831847882,
          0.08036169934640514,
          0.08003639037433147,
          0.07971108140225779,
          0.0793857724301841,
          0.07906046345811044,
          0.07873515448603675,
          0.07840984551396307,
          0.0780845365418894,
          0.07775922756981572,
          0.07743391859774205,
          0.07710860962566837,
          0.07678330065359469,
          0.07645799168152102,
          0.07613268270944734,
          0.07580737373737367,
          0.07548206476529999,
          0.07515675579322631,
          0.07483144682115264,
          0.07450613784907896,
          0.07418082887700528,
          0.07385551990493161,
          0.07353021093285793,
          0.07320490196078425,
          0.07287959298871058,
          0.0725542840166369,
          0.07222897504456322,
          0.07190366607248955,
          0.07157835710041587,
          0.07125304812834218,
          0.07092773915626852,
          0.07060243018419483,
          0.07027712121212115,
          0.06995181224004748,
          0.0696265032679738,
          0.06930119429590012,
          0.06897588532382645,
          0.06865057635175277,
          0.0683252673796791,
          0.06799995840760542,
          0.06767464943553175,
          0.06734934046345807,
          0.06702403149138439,
          0.06669872251931072,
          0.06637341354723704,
          0.06604810457516336,
          0.06572279560308969,
          0.06539748663101601,
          0.06507217765894233,
          0.06474686868686866,
          0.06442155971479498,
          0.0640962507427213,
          0.06377094177064763,
          0.06344563279857394,
          0.06312032382650026,
          0.0627950148544266,
          0.06246970588235291
         ]
        }
       ],
       "layout": {
        "annotations": [
         {
          "ax": 0,
          "ay": -40,
          "showarrow": false,
          "text": "$r^{2} : 0.14^{*}$",
          "x": 10,
          "xref": "x",
          "y": 0.2,
          "yref": "y"
         },
         {
          "ax": 0,
          "ay": -40,
          "showarrow": false,
          "text": "$n = 50$",
          "x": 35,
          "xref": "x",
          "y": 0.2,
          "yref": "y"
         }
        ],
        "font": {
         "color": "black",
         "size": 12
        },
        "height": 500,
        "paper_bgcolor": "rgba(0,0,0,0)",
        "plot_bgcolor": "rgba(0,0,0,0)",
        "template": {
         "data": {
          "bar": [
           {
            "error_x": {
             "color": "#2a3f5f"
            },
            "error_y": {
             "color": "#2a3f5f"
            },
            "marker": {
             "line": {
              "color": "#E5ECF6",
              "width": 0.5
             }
            },
            "type": "bar"
           }
          ],
          "barpolar": [
           {
            "marker": {
             "line": {
              "color": "#E5ECF6",
              "width": 0.5
             }
            },
            "type": "barpolar"
           }
          ],
          "carpet": [
           {
            "aaxis": {
             "endlinecolor": "#2a3f5f",
             "gridcolor": "white",
             "linecolor": "white",
             "minorgridcolor": "white",
             "startlinecolor": "#2a3f5f"
            },
            "baxis": {
             "endlinecolor": "#2a3f5f",
             "gridcolor": "white",
             "linecolor": "white",
             "minorgridcolor": "white",
             "startlinecolor": "#2a3f5f"
            },
            "type": "carpet"
           }
          ],
          "choropleth": [
           {
            "colorbar": {
             "outlinewidth": 0,
             "ticks": ""
            },
            "type": "choropleth"
           }
          ],
          "contour": [
           {
            "colorbar": {
             "outlinewidth": 0,
             "ticks": ""
            },
            "colorscale": [
             [
              0,
              "#0d0887"
             ],
             [
              0.1111111111111111,
              "#46039f"
             ],
             [
              0.2222222222222222,
              "#7201a8"
             ],
             [
              0.3333333333333333,
              "#9c179e"
             ],
             [
              0.4444444444444444,
              "#bd3786"
             ],
             [
              0.5555555555555556,
              "#d8576b"
             ],
             [
              0.6666666666666666,
              "#ed7953"
             ],
             [
              0.7777777777777778,
              "#fb9f3a"
             ],
             [
              0.8888888888888888,
              "#fdca26"
             ],
             [
              1,
              "#f0f921"
             ]
            ],
            "type": "contour"
           }
          ],
          "contourcarpet": [
           {
            "colorbar": {
             "outlinewidth": 0,
             "ticks": ""
            },
            "type": "contourcarpet"
           }
          ],
          "heatmap": [
           {
            "colorbar": {
             "outlinewidth": 0,
             "ticks": ""
            },
            "colorscale": [
             [
              0,
              "#0d0887"
             ],
             [
              0.1111111111111111,
              "#46039f"
             ],
             [
              0.2222222222222222,
              "#7201a8"
             ],
             [
              0.3333333333333333,
              "#9c179e"
             ],
             [
              0.4444444444444444,
              "#bd3786"
             ],
             [
              0.5555555555555556,
              "#d8576b"
             ],
             [
              0.6666666666666666,
              "#ed7953"
             ],
             [
              0.7777777777777778,
              "#fb9f3a"
             ],
             [
              0.8888888888888888,
              "#fdca26"
             ],
             [
              1,
              "#f0f921"
             ]
            ],
            "type": "heatmap"
           }
          ],
          "heatmapgl": [
           {
            "colorbar": {
             "outlinewidth": 0,
             "ticks": ""
            },
            "colorscale": [
             [
              0,
              "#0d0887"
             ],
             [
              0.1111111111111111,
              "#46039f"
             ],
             [
              0.2222222222222222,
              "#7201a8"
             ],
             [
              0.3333333333333333,
              "#9c179e"
             ],
             [
              0.4444444444444444,
              "#bd3786"
             ],
             [
              0.5555555555555556,
              "#d8576b"
             ],
             [
              0.6666666666666666,
              "#ed7953"
             ],
             [
              0.7777777777777778,
              "#fb9f3a"
             ],
             [
              0.8888888888888888,
              "#fdca26"
             ],
             [
              1,
              "#f0f921"
             ]
            ],
            "type": "heatmapgl"
           }
          ],
          "histogram": [
           {
            "marker": {
             "colorbar": {
              "outlinewidth": 0,
              "ticks": ""
             }
            },
            "type": "histogram"
           }
          ],
          "histogram2d": [
           {
            "colorbar": {
             "outlinewidth": 0,
             "ticks": ""
            },
            "colorscale": [
             [
              0,
              "#0d0887"
             ],
             [
              0.1111111111111111,
              "#46039f"
             ],
             [
              0.2222222222222222,
              "#7201a8"
             ],
             [
              0.3333333333333333,
              "#9c179e"
             ],
             [
              0.4444444444444444,
              "#bd3786"
             ],
             [
              0.5555555555555556,
              "#d8576b"
             ],
             [
              0.6666666666666666,
              "#ed7953"
             ],
             [
              0.7777777777777778,
              "#fb9f3a"
             ],
             [
              0.8888888888888888,
              "#fdca26"
             ],
             [
              1,
              "#f0f921"
             ]
            ],
            "type": "histogram2d"
           }
          ],
          "histogram2dcontour": [
           {
            "colorbar": {
             "outlinewidth": 0,
             "ticks": ""
            },
            "colorscale": [
             [
              0,
              "#0d0887"
             ],
             [
              0.1111111111111111,
              "#46039f"
             ],
             [
              0.2222222222222222,
              "#7201a8"
             ],
             [
              0.3333333333333333,
              "#9c179e"
             ],
             [
              0.4444444444444444,
              "#bd3786"
             ],
             [
              0.5555555555555556,
              "#d8576b"
             ],
             [
              0.6666666666666666,
              "#ed7953"
             ],
             [
              0.7777777777777778,
              "#fb9f3a"
             ],
             [
              0.8888888888888888,
              "#fdca26"
             ],
             [
              1,
              "#f0f921"
             ]
            ],
            "type": "histogram2dcontour"
           }
          ],
          "mesh3d": [
           {
            "colorbar": {
             "outlinewidth": 0,
             "ticks": ""
            },
            "type": "mesh3d"
           }
          ],
          "parcoords": [
           {
            "line": {
             "colorbar": {
              "outlinewidth": 0,
              "ticks": ""
             }
            },
            "type": "parcoords"
           }
          ],
          "scatter": [
           {
            "marker": {
             "colorbar": {
              "outlinewidth": 0,
              "ticks": ""
             }
            },
            "type": "scatter"
           }
          ],
          "scatter3d": [
           {
            "line": {
             "colorbar": {
              "outlinewidth": 0,
              "ticks": ""
             }
            },
            "marker": {
             "colorbar": {
              "outlinewidth": 0,
              "ticks": ""
             }
            },
            "type": "scatter3d"
           }
          ],
          "scattercarpet": [
           {
            "marker": {
             "colorbar": {
              "outlinewidth": 0,
              "ticks": ""
             }
            },
            "type": "scattercarpet"
           }
          ],
          "scattergeo": [
           {
            "marker": {
             "colorbar": {
              "outlinewidth": 0,
              "ticks": ""
             }
            },
            "type": "scattergeo"
           }
          ],
          "scattergl": [
           {
            "marker": {
             "colorbar": {
              "outlinewidth": 0,
              "ticks": ""
             }
            },
            "type": "scattergl"
           }
          ],
          "scattermapbox": [
           {
            "marker": {
             "colorbar": {
              "outlinewidth": 0,
              "ticks": ""
             }
            },
            "type": "scattermapbox"
           }
          ],
          "scatterpolar": [
           {
            "marker": {
             "colorbar": {
              "outlinewidth": 0,
              "ticks": ""
             }
            },
            "type": "scatterpolar"
           }
          ],
          "scatterpolargl": [
           {
            "marker": {
             "colorbar": {
              "outlinewidth": 0,
              "ticks": ""
             }
            },
            "type": "scatterpolargl"
           }
          ],
          "scatterternary": [
           {
            "marker": {
             "colorbar": {
              "outlinewidth": 0,
              "ticks": ""
             }
            },
            "type": "scatterternary"
           }
          ],
          "surface": [
           {
            "colorbar": {
             "outlinewidth": 0,
             "ticks": ""
            },
            "colorscale": [
             [
              0,
              "#0d0887"
             ],
             [
              0.1111111111111111,
              "#46039f"
             ],
             [
              0.2222222222222222,
              "#7201a8"
             ],
             [
              0.3333333333333333,
              "#9c179e"
             ],
             [
              0.4444444444444444,
              "#bd3786"
             ],
             [
              0.5555555555555556,
              "#d8576b"
             ],
             [
              0.6666666666666666,
              "#ed7953"
             ],
             [
              0.7777777777777778,
              "#fb9f3a"
             ],
             [
              0.8888888888888888,
              "#fdca26"
             ],
             [
              1,
              "#f0f921"
             ]
            ],
            "type": "surface"
           }
          ],
          "table": [
           {
            "cells": {
             "fill": {
              "color": "#EBF0F8"
             },
             "line": {
              "color": "white"
             }
            },
            "header": {
             "fill": {
              "color": "#C8D4E3"
             },
             "line": {
              "color": "white"
             }
            },
            "type": "table"
           }
          ]
         },
         "layout": {
          "annotationdefaults": {
           "arrowcolor": "#2a3f5f",
           "arrowhead": 0,
           "arrowwidth": 1
          },
          "colorscale": {
           "diverging": [
            [
             0,
             "#8e0152"
            ],
            [
             0.1,
             "#c51b7d"
            ],
            [
             0.2,
             "#de77ae"
            ],
            [
             0.3,
             "#f1b6da"
            ],
            [
             0.4,
             "#fde0ef"
            ],
            [
             0.5,
             "#f7f7f7"
            ],
            [
             0.6,
             "#e6f5d0"
            ],
            [
             0.7,
             "#b8e186"
            ],
            [
             0.8,
             "#7fbc41"
            ],
            [
             0.9,
             "#4d9221"
            ],
            [
             1,
             "#276419"
            ]
           ],
           "sequential": [
            [
             0,
             "#0d0887"
            ],
            [
             0.1111111111111111,
             "#46039f"
            ],
            [
             0.2222222222222222,
             "#7201a8"
            ],
            [
             0.3333333333333333,
             "#9c179e"
            ],
            [
             0.4444444444444444,
             "#bd3786"
            ],
            [
             0.5555555555555556,
             "#d8576b"
            ],
            [
             0.6666666666666666,
             "#ed7953"
            ],
            [
             0.7777777777777778,
             "#fb9f3a"
            ],
            [
             0.8888888888888888,
             "#fdca26"
            ],
            [
             1,
             "#f0f921"
            ]
           ],
           "sequentialminus": [
            [
             0,
             "#0d0887"
            ],
            [
             0.1111111111111111,
             "#46039f"
            ],
            [
             0.2222222222222222,
             "#7201a8"
            ],
            [
             0.3333333333333333,
             "#9c179e"
            ],
            [
             0.4444444444444444,
             "#bd3786"
            ],
            [
             0.5555555555555556,
             "#d8576b"
            ],
            [
             0.6666666666666666,
             "#ed7953"
            ],
            [
             0.7777777777777778,
             "#fb9f3a"
            ],
            [
             0.8888888888888888,
             "#fdca26"
            ],
            [
             1,
             "#f0f921"
            ]
           ]
          },
          "colorway": [
           "#636efa",
           "#EF553B",
           "#00cc96",
           "#ab63fa",
           "#FFA15A",
           "#19d3f3",
           "#FF6692",
           "#B6E880",
           "#FF97FF",
           "#FECB52"
          ],
          "font": {
           "color": "#2a3f5f"
          },
          "geo": {
           "bgcolor": "white",
           "lakecolor": "white",
           "landcolor": "#E5ECF6",
           "showlakes": true,
           "showland": true,
           "subunitcolor": "white"
          },
          "hoverlabel": {
           "align": "left"
          },
          "hovermode": "closest",
          "mapbox": {
           "style": "light"
          },
          "paper_bgcolor": "white",
          "plot_bgcolor": "#E5ECF6",
          "polar": {
           "angularaxis": {
            "gridcolor": "white",
            "linecolor": "white",
            "ticks": ""
           },
           "bgcolor": "#E5ECF6",
           "radialaxis": {
            "gridcolor": "white",
            "linecolor": "white",
            "ticks": ""
           }
          },
          "scene": {
           "xaxis": {
            "backgroundcolor": "#E5ECF6",
            "gridcolor": "white",
            "gridwidth": 2,
            "linecolor": "white",
            "showbackground": true,
            "ticks": "",
            "zerolinecolor": "white"
           },
           "yaxis": {
            "backgroundcolor": "#E5ECF6",
            "gridcolor": "white",
            "gridwidth": 2,
            "linecolor": "white",
            "showbackground": true,
            "ticks": "",
            "zerolinecolor": "white"
           },
           "zaxis": {
            "backgroundcolor": "#E5ECF6",
            "gridcolor": "white",
            "gridwidth": 2,
            "linecolor": "white",
            "showbackground": true,
            "ticks": "",
            "zerolinecolor": "white"
           }
          },
          "shapedefaults": {
           "line": {
            "color": "#2a3f5f"
           }
          },
          "ternary": {
           "aaxis": {
            "gridcolor": "white",
            "linecolor": "white",
            "ticks": ""
           },
           "baxis": {
            "gridcolor": "white",
            "linecolor": "white",
            "ticks": ""
           },
           "bgcolor": "#E5ECF6",
           "caxis": {
            "gridcolor": "white",
            "linecolor": "white",
            "ticks": ""
           }
          },
          "title": {
           "x": 0.05
          },
          "xaxis": {
           "automargin": true,
           "gridcolor": "white",
           "linecolor": "white",
           "ticks": "",
           "zerolinecolor": "white",
           "zerolinewidth": 2
          },
          "yaxis": {
           "automargin": true,
           "gridcolor": "white",
           "linecolor": "white",
           "ticks": "",
           "zerolinecolor": "white",
           "zerolinewidth": 2
          }
         }
        },
        "width": 500,
        "xaxis": {
         "gridcolor": "#DFDFDF",
         "gridwidth": 1.5,
         "linecolor": "#AFAFAF",
         "linewidth": 2.5,
         "nticks": 6,
         "showgrid": true,
         "showline": true,
         "title": {
          "text": "Overall participant rank <br> in the experiment"
         },
         "zeroline": true,
         "zerolinecolor": "#DFDFDF"
        },
        "yaxis": {
         "gridcolor": "#DFDFDF",
         "gridwidth": 1.5,
         "linecolor": "#AFAFAF",
         "linewidth": 2.5,
         "nticks": 6,
         "showgrid": true,
         "showline": true,
         "title": {
          "text": "Avg. % time spent looking at the <br> target centroid"
         }
        }
       }
      },
      "text/html": [
       "<div>\n",
       "        \n",
       "        \n",
       "            <div id=\"cfd398f4-e413-4282-9afb-1a9e5abfe48a\" class=\"plotly-graph-div\" style=\"height:500px; width:500px;\"></div>\n",
       "            <script type=\"text/javascript\">\n",
       "                require([\"plotly\"], function(Plotly) {\n",
       "                    window.PLOTLYENV=window.PLOTLYENV || {};\n",
       "                    \n",
       "                if (document.getElementById(\"cfd398f4-e413-4282-9afb-1a9e5abfe48a\")) {\n",
       "                    Plotly.newPlot(\n",
       "                        'cfd398f4-e413-4282-9afb-1a9e5abfe48a',\n",
       "                        [{\"marker\": {\"color\": \"gray\", \"line\": {\"color\": \"black\", \"width\": 1.5}, \"opacity\": 0.5, \"size\": 14}, \"mode\": \"markers\", \"showlegend\": false, \"type\": \"scatter\", \"x\": [1, 2, 3, 4, 5, 6, 7, 8, 9, 10, 11, 12, 13, 14, 15, 16, 17, 18, 19, 20, 21, 22, 23, 24, 25, 26, 27, 28, 29, 30, 31, 32, 33, 34, 35, 36, 37, 38, 39, 40, 41, 42, 43, 44, 45, 46, 47, 48, 49, 50], \"y\": [0.020625000000000036, 0.0982916666666664, 0.12845833333333273, 0.11974999999999957, 0.07070833333333353, 0.12249999999999997, 0.11504166666666633, 0.09587499999999978, 0.07687500000000064, 0.05979166666666672, 0.08724999999999938, 0.08112499999999999, 0.060958333333333156, 0.0737083333333331, 0.11004166666666591, 0.08579166666666634, 0.0982499999999999, 0.054374999999999715, 0.09712500000000047, 0.08208333333333323, 0.10016666666666724, 0.08312500000000056, 0.07933333333333291, 0.07704166666666645, 0.06754166666666683, 0.11395833333333408, 0.11041666666666712, 0.0810416666666665, 0.05116666666666666, 0.046541666666666835, 0.05383333333333339, 0.0880416666666657, 0.0784166666666663, 0.09533333333333302, 0.041375000000000176, 0.10641666666666683, 0.12549999999999997, 0.05612500000000018, 0.10037500000000016, 0.044458333333333266, 0.06408333333333349, 0.056583333333333, 0.05600000000000004, 0.05962499999999976, 0.037333333333333385, 0.05116666666666661, 0.06079166666666668, 0.0570833333333333, 0.08691666666666654, 0.06020833333333297]}, {\"line\": {\"color\": \"gray\", \"dash\": \"dash\", \"width\": 3.5}, \"mode\": \"lines\", \"showlegend\": false, \"type\": \"scatter\", \"x\": [1.0, 1.494949494949495, 1.98989898989899, 2.484848484848485, 2.97979797979798, 3.474747474747475, 3.9696969696969697, 4.464646464646465, 4.95959595959596, 5.454545454545455, 5.94949494949495, 6.444444444444445, 6.9393939393939394, 7.434343434343434, 7.92929292929293, 8.424242424242426, 8.91919191919192, 9.414141414141415, 9.90909090909091, 10.404040404040405, 10.8989898989899, 11.393939393939394, 11.88888888888889, 12.383838383838384, 12.878787878787879, 13.373737373737374, 13.868686868686869, 14.363636363636365, 14.85858585858586, 15.353535353535355, 15.84848484848485, 16.343434343434346, 16.83838383838384, 17.333333333333336, 17.82828282828283, 18.323232323232325, 18.81818181818182, 19.313131313131315, 19.80808080808081, 20.303030303030305, 20.7979797979798, 21.292929292929294, 21.78787878787879, 22.282828282828284, 22.77777777777778, 23.272727272727273, 23.767676767676768, 24.262626262626263, 24.757575757575758, 25.252525252525253, 25.747474747474747, 26.242424242424242, 26.737373737373737, 27.232323232323232, 27.72727272727273, 28.222222222222225, 28.71717171717172, 29.212121212121215, 29.70707070707071, 30.202020202020204, 30.6969696969697, 31.191919191919194, 31.68686868686869, 32.18181818181819, 32.67676767676768, 33.17171717171718, 33.66666666666667, 34.161616161616166, 34.65656565656566, 35.151515151515156, 35.64646464646465, 36.141414141414145, 36.63636363636364, 37.131313131313135, 37.62626262626263, 38.121212121212125, 38.61616161616162, 39.111111111111114, 39.60606060606061, 40.101010101010104, 40.5959595959596, 41.09090909090909, 41.58585858585859, 42.08080808080808, 42.57575757575758, 43.07070707070707, 43.56565656565657, 44.06060606060606, 44.55555555555556, 45.05050505050505, 45.54545454545455, 46.04040404040404, 46.535353535353536, 47.03030303030303, 47.525252525252526, 48.02020202020202, 48.515151515151516, 49.01010101010101, 49.505050505050505, 50.0], \"y\": [0.09467529411764693, 0.09434998514557325, 0.09402467617349956, 0.0936993672014259, 0.09337405822935221, 0.09304874925727853, 0.09272344028520486, 0.09239813131313118, 0.0920728223410575, 0.09174751336898383, 0.09142220439691015, 0.09109689542483648, 0.0907715864527628, 0.09044627748068912, 0.09012096850861545, 0.08979565953654177, 0.08947035056446809, 0.08914504159239442, 0.08881973262032074, 0.08849442364824706, 0.08816911467617339, 0.0878438057040997, 0.08751849673202602, 0.08719318775995236, 0.08686787878787867, 0.086542569815805, 0.08621726084373132, 0.08589195187165764, 0.08556664289958398, 0.0852413339275103, 0.08491602495543661, 0.08459071598336294, 0.08426540701128926, 0.08394009803921558, 0.08361478906714191, 0.08328948009506823, 0.08296417112299456, 0.08263886215092088, 0.0823135531788472, 0.08198824420677353, 0.08166293523469985, 0.08133762626262617, 0.0810123172905525, 0.08068700831847882, 0.08036169934640514, 0.08003639037433147, 0.07971108140225779, 0.0793857724301841, 0.07906046345811044, 0.07873515448603675, 0.07840984551396307, 0.0780845365418894, 0.07775922756981572, 0.07743391859774205, 0.07710860962566837, 0.07678330065359469, 0.07645799168152102, 0.07613268270944734, 0.07580737373737367, 0.07548206476529999, 0.07515675579322631, 0.07483144682115264, 0.07450613784907896, 0.07418082887700528, 0.07385551990493161, 0.07353021093285793, 0.07320490196078425, 0.07287959298871058, 0.0725542840166369, 0.07222897504456322, 0.07190366607248955, 0.07157835710041587, 0.07125304812834218, 0.07092773915626852, 0.07060243018419483, 0.07027712121212115, 0.06995181224004748, 0.0696265032679738, 0.06930119429590012, 0.06897588532382645, 0.06865057635175277, 0.0683252673796791, 0.06799995840760542, 0.06767464943553175, 0.06734934046345807, 0.06702403149138439, 0.06669872251931072, 0.06637341354723704, 0.06604810457516336, 0.06572279560308969, 0.06539748663101601, 0.06507217765894233, 0.06474686868686866, 0.06442155971479498, 0.0640962507427213, 0.06377094177064763, 0.06344563279857394, 0.06312032382650026, 0.0627950148544266, 0.06246970588235291]}],\n",
       "                        {\"annotations\": [{\"ax\": 0, \"ay\": -40, \"showarrow\": false, \"text\": \"$r^{2} : 0.14^{*}$\", \"x\": 10, \"xref\": \"x\", \"y\": 0.2, \"yref\": \"y\"}, {\"ax\": 0, \"ay\": -40, \"showarrow\": false, \"text\": \"$n = 50$\", \"x\": 35, \"xref\": \"x\", \"y\": 0.2, \"yref\": \"y\"}], \"font\": {\"color\": \"black\", \"size\": 12}, \"height\": 500, \"paper_bgcolor\": \"rgba(0,0,0,0)\", \"plot_bgcolor\": \"rgba(0,0,0,0)\", \"template\": {\"data\": {\"bar\": [{\"error_x\": {\"color\": \"#2a3f5f\"}, \"error_y\": {\"color\": \"#2a3f5f\"}, \"marker\": {\"line\": {\"color\": \"#E5ECF6\", \"width\": 0.5}}, \"type\": \"bar\"}], \"barpolar\": [{\"marker\": {\"line\": {\"color\": \"#E5ECF6\", \"width\": 0.5}}, \"type\": \"barpolar\"}], \"carpet\": [{\"aaxis\": {\"endlinecolor\": \"#2a3f5f\", \"gridcolor\": \"white\", \"linecolor\": \"white\", \"minorgridcolor\": \"white\", \"startlinecolor\": \"#2a3f5f\"}, \"baxis\": {\"endlinecolor\": \"#2a3f5f\", \"gridcolor\": \"white\", \"linecolor\": \"white\", \"minorgridcolor\": \"white\", \"startlinecolor\": \"#2a3f5f\"}, \"type\": \"carpet\"}], \"choropleth\": [{\"colorbar\": {\"outlinewidth\": 0, \"ticks\": \"\"}, \"type\": \"choropleth\"}], \"contour\": [{\"colorbar\": {\"outlinewidth\": 0, \"ticks\": \"\"}, \"colorscale\": [[0.0, \"#0d0887\"], [0.1111111111111111, \"#46039f\"], [0.2222222222222222, \"#7201a8\"], [0.3333333333333333, \"#9c179e\"], [0.4444444444444444, \"#bd3786\"], [0.5555555555555556, \"#d8576b\"], [0.6666666666666666, \"#ed7953\"], [0.7777777777777778, \"#fb9f3a\"], [0.8888888888888888, \"#fdca26\"], [1.0, \"#f0f921\"]], \"type\": \"contour\"}], \"contourcarpet\": [{\"colorbar\": {\"outlinewidth\": 0, \"ticks\": \"\"}, \"type\": \"contourcarpet\"}], \"heatmap\": [{\"colorbar\": {\"outlinewidth\": 0, \"ticks\": \"\"}, \"colorscale\": [[0.0, \"#0d0887\"], [0.1111111111111111, \"#46039f\"], [0.2222222222222222, \"#7201a8\"], [0.3333333333333333, \"#9c179e\"], [0.4444444444444444, \"#bd3786\"], [0.5555555555555556, \"#d8576b\"], [0.6666666666666666, \"#ed7953\"], [0.7777777777777778, \"#fb9f3a\"], [0.8888888888888888, \"#fdca26\"], [1.0, \"#f0f921\"]], \"type\": \"heatmap\"}], \"heatmapgl\": [{\"colorbar\": {\"outlinewidth\": 0, \"ticks\": \"\"}, \"colorscale\": [[0.0, \"#0d0887\"], [0.1111111111111111, \"#46039f\"], [0.2222222222222222, \"#7201a8\"], [0.3333333333333333, \"#9c179e\"], [0.4444444444444444, \"#bd3786\"], [0.5555555555555556, \"#d8576b\"], [0.6666666666666666, \"#ed7953\"], [0.7777777777777778, \"#fb9f3a\"], [0.8888888888888888, \"#fdca26\"], [1.0, \"#f0f921\"]], \"type\": \"heatmapgl\"}], \"histogram\": [{\"marker\": {\"colorbar\": {\"outlinewidth\": 0, \"ticks\": \"\"}}, \"type\": \"histogram\"}], \"histogram2d\": [{\"colorbar\": {\"outlinewidth\": 0, \"ticks\": \"\"}, \"colorscale\": [[0.0, \"#0d0887\"], [0.1111111111111111, \"#46039f\"], [0.2222222222222222, \"#7201a8\"], [0.3333333333333333, \"#9c179e\"], [0.4444444444444444, \"#bd3786\"], [0.5555555555555556, \"#d8576b\"], [0.6666666666666666, \"#ed7953\"], [0.7777777777777778, \"#fb9f3a\"], [0.8888888888888888, \"#fdca26\"], [1.0, \"#f0f921\"]], \"type\": \"histogram2d\"}], \"histogram2dcontour\": [{\"colorbar\": {\"outlinewidth\": 0, \"ticks\": \"\"}, \"colorscale\": [[0.0, \"#0d0887\"], [0.1111111111111111, \"#46039f\"], [0.2222222222222222, \"#7201a8\"], [0.3333333333333333, \"#9c179e\"], [0.4444444444444444, \"#bd3786\"], [0.5555555555555556, \"#d8576b\"], [0.6666666666666666, \"#ed7953\"], [0.7777777777777778, \"#fb9f3a\"], [0.8888888888888888, \"#fdca26\"], [1.0, \"#f0f921\"]], \"type\": \"histogram2dcontour\"}], \"mesh3d\": [{\"colorbar\": {\"outlinewidth\": 0, \"ticks\": \"\"}, \"type\": \"mesh3d\"}], \"parcoords\": [{\"line\": {\"colorbar\": {\"outlinewidth\": 0, \"ticks\": \"\"}}, \"type\": \"parcoords\"}], \"scatter\": [{\"marker\": {\"colorbar\": {\"outlinewidth\": 0, \"ticks\": \"\"}}, \"type\": \"scatter\"}], \"scatter3d\": [{\"line\": {\"colorbar\": {\"outlinewidth\": 0, \"ticks\": \"\"}}, \"marker\": {\"colorbar\": {\"outlinewidth\": 0, \"ticks\": \"\"}}, \"type\": \"scatter3d\"}], \"scattercarpet\": [{\"marker\": {\"colorbar\": {\"outlinewidth\": 0, \"ticks\": \"\"}}, \"type\": \"scattercarpet\"}], \"scattergeo\": [{\"marker\": {\"colorbar\": {\"outlinewidth\": 0, \"ticks\": \"\"}}, \"type\": \"scattergeo\"}], \"scattergl\": [{\"marker\": {\"colorbar\": {\"outlinewidth\": 0, \"ticks\": \"\"}}, \"type\": \"scattergl\"}], \"scattermapbox\": [{\"marker\": {\"colorbar\": {\"outlinewidth\": 0, \"ticks\": \"\"}}, \"type\": \"scattermapbox\"}], \"scatterpolar\": [{\"marker\": {\"colorbar\": {\"outlinewidth\": 0, \"ticks\": \"\"}}, \"type\": \"scatterpolar\"}], \"scatterpolargl\": [{\"marker\": {\"colorbar\": {\"outlinewidth\": 0, \"ticks\": \"\"}}, \"type\": \"scatterpolargl\"}], \"scatterternary\": [{\"marker\": {\"colorbar\": {\"outlinewidth\": 0, \"ticks\": \"\"}}, \"type\": \"scatterternary\"}], \"surface\": [{\"colorbar\": {\"outlinewidth\": 0, \"ticks\": \"\"}, \"colorscale\": [[0.0, \"#0d0887\"], [0.1111111111111111, \"#46039f\"], [0.2222222222222222, \"#7201a8\"], [0.3333333333333333, \"#9c179e\"], [0.4444444444444444, \"#bd3786\"], [0.5555555555555556, \"#d8576b\"], [0.6666666666666666, \"#ed7953\"], [0.7777777777777778, \"#fb9f3a\"], [0.8888888888888888, \"#fdca26\"], [1.0, \"#f0f921\"]], \"type\": \"surface\"}], \"table\": [{\"cells\": {\"fill\": {\"color\": \"#EBF0F8\"}, \"line\": {\"color\": \"white\"}}, \"header\": {\"fill\": {\"color\": \"#C8D4E3\"}, \"line\": {\"color\": \"white\"}}, \"type\": \"table\"}]}, \"layout\": {\"annotationdefaults\": {\"arrowcolor\": \"#2a3f5f\", \"arrowhead\": 0, \"arrowwidth\": 1}, \"colorscale\": {\"diverging\": [[0, \"#8e0152\"], [0.1, \"#c51b7d\"], [0.2, \"#de77ae\"], [0.3, \"#f1b6da\"], [0.4, \"#fde0ef\"], [0.5, \"#f7f7f7\"], [0.6, \"#e6f5d0\"], [0.7, \"#b8e186\"], [0.8, \"#7fbc41\"], [0.9, \"#4d9221\"], [1, \"#276419\"]], \"sequential\": [[0.0, \"#0d0887\"], [0.1111111111111111, \"#46039f\"], [0.2222222222222222, \"#7201a8\"], [0.3333333333333333, \"#9c179e\"], [0.4444444444444444, \"#bd3786\"], [0.5555555555555556, \"#d8576b\"], [0.6666666666666666, \"#ed7953\"], [0.7777777777777778, \"#fb9f3a\"], [0.8888888888888888, \"#fdca26\"], [1.0, \"#f0f921\"]], \"sequentialminus\": [[0.0, \"#0d0887\"], [0.1111111111111111, \"#46039f\"], [0.2222222222222222, \"#7201a8\"], [0.3333333333333333, \"#9c179e\"], [0.4444444444444444, \"#bd3786\"], [0.5555555555555556, \"#d8576b\"], [0.6666666666666666, \"#ed7953\"], [0.7777777777777778, \"#fb9f3a\"], [0.8888888888888888, \"#fdca26\"], [1.0, \"#f0f921\"]]}, \"colorway\": [\"#636efa\", \"#EF553B\", \"#00cc96\", \"#ab63fa\", \"#FFA15A\", \"#19d3f3\", \"#FF6692\", \"#B6E880\", \"#FF97FF\", \"#FECB52\"], \"font\": {\"color\": \"#2a3f5f\"}, \"geo\": {\"bgcolor\": \"white\", \"lakecolor\": \"white\", \"landcolor\": \"#E5ECF6\", \"showlakes\": true, \"showland\": true, \"subunitcolor\": \"white\"}, \"hoverlabel\": {\"align\": \"left\"}, \"hovermode\": \"closest\", \"mapbox\": {\"style\": \"light\"}, \"paper_bgcolor\": \"white\", \"plot_bgcolor\": \"#E5ECF6\", \"polar\": {\"angularaxis\": {\"gridcolor\": \"white\", \"linecolor\": \"white\", \"ticks\": \"\"}, \"bgcolor\": \"#E5ECF6\", \"radialaxis\": {\"gridcolor\": \"white\", \"linecolor\": \"white\", \"ticks\": \"\"}}, \"scene\": {\"xaxis\": {\"backgroundcolor\": \"#E5ECF6\", \"gridcolor\": \"white\", \"gridwidth\": 2, \"linecolor\": \"white\", \"showbackground\": true, \"ticks\": \"\", \"zerolinecolor\": \"white\"}, \"yaxis\": {\"backgroundcolor\": \"#E5ECF6\", \"gridcolor\": \"white\", \"gridwidth\": 2, \"linecolor\": \"white\", \"showbackground\": true, \"ticks\": \"\", \"zerolinecolor\": \"white\"}, \"zaxis\": {\"backgroundcolor\": \"#E5ECF6\", \"gridcolor\": \"white\", \"gridwidth\": 2, \"linecolor\": \"white\", \"showbackground\": true, \"ticks\": \"\", \"zerolinecolor\": \"white\"}}, \"shapedefaults\": {\"line\": {\"color\": \"#2a3f5f\"}}, \"ternary\": {\"aaxis\": {\"gridcolor\": \"white\", \"linecolor\": \"white\", \"ticks\": \"\"}, \"baxis\": {\"gridcolor\": \"white\", \"linecolor\": \"white\", \"ticks\": \"\"}, \"bgcolor\": \"#E5ECF6\", \"caxis\": {\"gridcolor\": \"white\", \"linecolor\": \"white\", \"ticks\": \"\"}}, \"title\": {\"x\": 0.05}, \"xaxis\": {\"automargin\": true, \"gridcolor\": \"white\", \"linecolor\": \"white\", \"ticks\": \"\", \"zerolinecolor\": \"white\", \"zerolinewidth\": 2}, \"yaxis\": {\"automargin\": true, \"gridcolor\": \"white\", \"linecolor\": \"white\", \"ticks\": \"\", \"zerolinecolor\": \"white\", \"zerolinewidth\": 2}}}, \"width\": 500, \"xaxis\": {\"gridcolor\": \"#DFDFDF\", \"gridwidth\": 1.5, \"linecolor\": \"#AFAFAF\", \"linewidth\": 2.5, \"nticks\": 6, \"showgrid\": true, \"showline\": true, \"title\": {\"text\": \"Overall participant rank <br> in the experiment\"}, \"zeroline\": true, \"zerolinecolor\": \"#DFDFDF\"}, \"yaxis\": {\"gridcolor\": \"#DFDFDF\", \"gridwidth\": 1.5, \"linecolor\": \"#AFAFAF\", \"linewidth\": 2.5, \"nticks\": 6, \"showgrid\": true, \"showline\": true, \"title\": {\"text\": \"Avg. % time spent looking at the <br> target centroid\"}}},\n",
       "                        {\"responsive\": true}\n",
       "                    ).then(function(){\n",
       "                            \n",
       "var gd = document.getElementById('cfd398f4-e413-4282-9afb-1a9e5abfe48a');\n",
       "var x = new MutationObserver(function (mutations, observer) {{\n",
       "        var display = window.getComputedStyle(gd).display;\n",
       "        if (!display || display === 'none') {{\n",
       "            console.log([gd, 'removed!']);\n",
       "            Plotly.purge(gd);\n",
       "            observer.disconnect();\n",
       "        }}\n",
       "}});\n",
       "\n",
       "// Listen for the removal of the full notebook cells\n",
       "var notebookContainer = gd.closest('#notebook-container');\n",
       "if (notebookContainer) {{\n",
       "    x.observe(notebookContainer, {childList: true});\n",
       "}}\n",
       "\n",
       "// Listen for the clearing of the current output cell\n",
       "var outputEl = gd.closest('.output');\n",
       "if (outputEl) {{\n",
       "    x.observe(outputEl, {childList: true});\n",
       "}}\n",
       "\n",
       "                        })\n",
       "                };\n",
       "                });\n",
       "            </script>\n",
       "        </div>"
      ]
     },
     "metadata": {},
     "output_type": "display_data"
    }
   ],
   "source": [
    "from plotly.offline import download_plotlyjs, init_notebook_mode, plot, iplot\n",
    "from plotly.graph_objs import *\n",
    "import colorlover as cl\n",
    "init_notebook_mode(connected=True)\n",
    "trace = []\n",
    "x = individual_ranking['rank'].to_numpy()\n",
    "y = individual_ranking['avg_TCent_Counts'].to_numpy()\n",
    "trace.append(go.Scatter(x = x,\n",
    "                       y = y,\n",
    "                       mode='markers',\n",
    "                       marker = dict(size = 14, opacity = 0.5, color = 'gray', line = dict(width = 1.5, color='black')), showlegend=False))\n",
    "\n",
    "x_lin_space = np.linspace(x.min(), x.max(),100)\n",
    "y_lin_space = res.params[0] + res.params[1]*x_lin_space\n",
    "trace.append(go.Scatter(x = x_lin_space, y = y_lin_space,\n",
    "                       mode='lines',line=Line(color='gray', dash = 'dash', width = 3.5), showlegend=False,\n",
    "                       ))\n",
    "\n",
    "annotations=[\n",
    "        dict(\n",
    "            x=10,\n",
    "            y=.2,\n",
    "            xref='x1',\n",
    "            yref='y1',\n",
    "            text='$r^{2} : 0.14^{*}$',\n",
    "            showarrow=False,\n",
    "            ax=0,\n",
    "            ay=-40\n",
    "        ),\n",
    "        dict(\n",
    "        x = 35,\n",
    "        y = .2,\n",
    "        xref='x1',\n",
    "        yref = 'y1',\n",
    "        text = '$n = 50$',\n",
    "        showarrow=False,\n",
    "        ax = 0,\n",
    "        ay = -40,\n",
    "        )\n",
    "    ]\n",
    "\n",
    "\n",
    "fig = go.Figure(data=trace)\n",
    "fig['layout'].update(height=500, width=500, font = dict(size=14))\n",
    "fig['layout']['annotations'] = annotations\n",
    "\n",
    "fig['layout']['xaxis'].update(title='Overall participant rank <br> in the experiment')\n",
    "fig['layout']['yaxis'].update(title='Avg. % time spent looking at the <br> target centroid')\n",
    "fig['layout'].update(paper_bgcolor='rgba(0,0,0,0)',plot_bgcolor ='rgba(0,0,0,0)', font = dict(size = 12, color = 'black'))\n",
    "\n",
    "fig.update_xaxes(showgrid=True, gridwidth=1.5, gridcolor='#DFDFDF', zeroline = True, zerolinecolor = '#DFDFDF', showline=True, linecolor = '#AFAFAF', linewidth = 2.5, nticks = 6)\n",
    "fig.update_yaxes(showgrid=True, gridwidth=1.5, gridcolor='#DFDFDF', showline=True, linecolor = '#AFAFAF', linewidth = 2.5, nticks = 6)\n",
    "fig.show()\n",
    "fig.write_image(\"/Users/supadhy6/Dropbox/Shared with Adi/Results_images/centroid_looking_as_a_function_of_individual_rank.png\")\n",
    "fig.write_image(\"/Users/supadhy6/Dropbox/Shared with Adi/Results_images/centroid_looking_as_a_function_of_individual_rank.svg\")\n",
    "#py.iplot(fig, filename='model-vs-human-accuracy-ranked-correlation')"
   ]
  },
  {
   "cell_type": "code",
   "execution_count": 30,
   "metadata": {},
   "outputs": [],
   "source": [
    "best_sub = []\n",
    "for trial in behavior_data['trial_Num_Original'].unique().sort():\n",
    "    trial_data = behavior_data[behavior_data['trial_Num_Original']==trial]\n",
    "    trial_data = trial_data.sort('accuracy',ascending=False)\n",
    "    best_sub.append(trial_data[0]['subject_Num'])"
   ]
  },
  {
   "cell_type": "code",
   "execution_count": 31,
   "metadata": {},
   "outputs": [],
   "source": [
    "sub_info = behavior_data['subject_Num'].unique().sort()"
   ]
  },
  {
   "cell_type": "code",
   "execution_count": 32,
   "metadata": {
    "code_folding": []
   },
   "outputs": [
    {
     "name": "stderr",
     "output_type": "stream",
     "text": [
      "/Users/supadhy6/miniconda3/envs/adiLab/lib/python3.6/site-packages/scipy/stats/stats.py:3010: RuntimeWarning:\n",
      "\n",
      "invalid value encountered in double_scalars\n",
      "\n"
     ]
    }
   ],
   "source": [
    "from scipy.stats.stats import pearsonr\n",
    "eye_movement_similarity = []\n",
    "corr = []\n",
    "pval = []\n",
    "for i,trial in enumerate(trajectory_and_eye_data['Trial number'].unique().sort()):\n",
    "    population_trial_data = trajectory_and_eye_data[trajectory_and_eye_data['Trial number']==trial]\n",
    "    best_eye_data = population_trial_data[population_trial_data['Subject ID']==best_sub[i]]['distOrigin'].to_numpy()\n",
    "    for sub in list(set(sub_info) - set([best_sub[i]])):\n",
    "        sub_eye_data = population_trial_data[population_trial_data['Subject ID']==sub]['distOrigin'].to_numpy()\n",
    "        [r, p] = pearsonr(sub_eye_data, best_eye_data)\n",
    "        corr.append(r)\n",
    "        pval.append(p)"
   ]
  },
  {
   "cell_type": "code",
   "execution_count": 33,
   "metadata": {},
   "outputs": [
    {
     "data": {
      "text/plain": [
       "{101}"
      ]
     },
     "execution_count": 33,
     "metadata": {},
     "output_type": "execute_result"
    }
   ],
   "source": [
    "set([best_sub[1]])"
   ]
  },
  {
   "cell_type": "code",
   "execution_count": 34,
   "metadata": {},
   "outputs": [],
   "source": [
    "ranks = individual_ranking[individual_ranking['rank']!=1]['rank'].to_numpy()\n",
    "eye_movement_similarity = tc.SFrame()\n",
    "eye_movement_similarity['correlation'] = corr\n",
    "eye_movement_similarity['pval'] = pval\n",
    "eye_movement_similarity['ranking'] = np.tile(ranks,120)\n",
    "eye_movement_similarity['Trial number'] = np.repeat(np.arange(1,121),49)\n",
    "target_data = behavior_data.groupby('trial_Num_Original',operations ={'num_targets':agg.MEAN('num_targets'), 'speed':agg.MEAN('speed (deg/sec)')})\n",
    "target_data = target_data.sort('trial_Num_Original')\n",
    "eye_movement_similarity['Target number'] = np.repeat(target_data['num_targets'].to_numpy(),49)\n",
    "eye_movement_similarity['speed'] = np.repeat(target_data['speed'].to_numpy(),49)"
   ]
  },
  {
   "cell_type": "code",
   "execution_count": 35,
   "metadata": {},
   "outputs": [],
   "source": [
    "eye_movement_similarity = eye_movement_similarity.sort(['Trial number','ranking'])"
   ]
  },
  {
   "cell_type": "code",
   "execution_count": 36,
   "metadata": {},
   "outputs": [],
   "source": [
    "temp = eye_movement_similarity\n",
    "def fillnan(x):\n",
    "    if x>=0.05:\n",
    "        x = np.nan\n",
    "    return x\n",
    "temp['pval'] = temp['pval'].apply(lambda x: fillnan(x))"
   ]
  },
  {
   "cell_type": "code",
   "execution_count": 37,
   "metadata": {},
   "outputs": [],
   "source": [
    "eye_movement_similarity = temp\n",
    "#eye_movement_similarity.export_json('eye_movement_similarity_best_performer_within_trial.json',orient='records')"
   ]
  },
  {
   "cell_type": "code",
   "execution_count": 44,
   "metadata": {},
   "outputs": [
    {
     "data": {
      "text/html": [
       "<pre>Finished parsing file /Users/supadhy6/Documents/GitHub/MOT_bayesian_model/eye_movement_similarity_best_performer_within_trial.json</pre>"
      ],
      "text/plain": [
       "Finished parsing file /Users/supadhy6/Documents/GitHub/MOT_bayesian_model/eye_movement_similarity_best_performer_within_trial.json"
      ]
     },
     "metadata": {},
     "output_type": "display_data"
    },
    {
     "data": {
      "text/html": [
       "<pre>Parsing completed. Parsed 1 lines in 0.081006 secs.</pre>"
      ],
      "text/plain": [
       "Parsing completed. Parsed 1 lines in 0.081006 secs."
      ]
     },
     "metadata": {},
     "output_type": "display_data"
    }
   ],
   "source": [
    "#eye_movement_similarity = tc.SFrame.read_json('eye_movement_similarity_best_performer_within_trial.json',orient='records')"
   ]
  },
  {
   "cell_type": "code",
   "execution_count": 46,
   "metadata": {},
   "outputs": [
    {
     "name": "stdout",
     "output_type": "stream",
     "text": [
      "This is the format of your plot grid:\n",
      "[ (1,1) x1,y1 ]  [ (1,2) x2,y2 ]  [ (1,3) x3,y3 ]\n",
      "[ (2,1) x4,y4 ]  [ (2,2) x5,y5 ]  [ (2,3) x6,y6 ]\n",
      "\n"
     ]
    },
    {
     "data": {
      "application/vnd.plotly.v1+json": {
       "config": {
        "linkText": "Export to plot.ly",
        "plotlyServerURL": "https://plot.ly",
        "showLink": false
       },
       "data": [
        {
         "line": {
          "width": 2
         },
         "marker": {
          "opacity": 0.3
         },
         "mode": "markers",
         "name": "Target load : 3.0",
         "type": "scatter",
         "uid": "33551c20-6192-4f5b-a07f-1415da63bf50",
         "x": [
          2,
          3,
          4,
          5,
          6,
          7,
          8,
          9,
          10,
          11,
          12,
          13,
          14,
          15,
          16,
          17,
          18,
          19,
          20,
          21,
          22,
          23,
          24,
          25,
          26,
          27,
          28,
          29,
          30,
          31,
          32,
          33,
          34,
          35,
          36,
          37,
          38,
          39,
          40,
          41,
          42,
          43,
          44,
          45,
          46,
          47,
          48,
          49,
          50
         ],
         "xaxis": "x",
         "y": [
          0.5548859433197099,
          0.568435477217878,
          0.5647524543198509,
          0.5924107559051078,
          0.5323157753471266,
          0.5987505317912161,
          0.659036550069455,
          0.5297844365729895,
          0.5547407941106166,
          0.4760760123307683,
          0.5845408642547768,
          0.6216997036000413,
          0.60322975429475,
          0.6097524871882534,
          0.6418849617877727,
          0.5778668320917643,
          0.5995177257127597,
          0.5361566614649305,
          0.6066886671579873,
          0.6112308936182782,
          0.4973178615737778,
          0.5749885950434391,
          0.5927906884310964,
          0.6754353451729136,
          0.5593194134497604,
          0.6151324923032552,
          0.648345635762586,
          0.6097658222545549,
          0.5851362795412405,
          0.547533967864396,
          0.02701986118341188,
          0.030406128841431974,
          -0.044355274181290844,
          -0.2091233260360321,
          0.005865214050804809,
          -0.049520400445956,
          -0.09805221717728195,
          -0.017879337357710984,
          0.5673725493864233,
          0.6283030247938755,
          0.6713506671155601,
          0.6764025779858639,
          0.6174340840843814,
          0.5620173138608952,
          0.5502121324615853,
          0.5749736561341531,
          0.5536007201424223,
          0.6162973808845154,
          0.5287385260476242
         ],
         "yaxis": "y"
        },
        {
         "line": {
          "width": 2
         },
         "marker": {
          "opacity": 0.3
         },
         "mode": "markers",
         "name": "Target load : 4.0",
         "type": "scatter",
         "uid": "579a9f7b-803b-4d64-84dd-37004bb551df",
         "x": [
          2,
          3,
          4,
          5,
          6,
          7,
          8,
          9,
          10,
          11,
          12,
          13,
          14,
          15,
          16,
          17,
          18,
          19,
          20,
          21,
          22,
          23,
          24,
          25,
          26,
          27,
          28,
          29,
          30,
          31,
          32,
          33,
          34,
          35,
          36,
          37,
          38,
          39,
          40,
          41,
          42,
          43,
          44,
          45,
          46,
          47,
          48,
          49,
          50
         ],
         "xaxis": "x2",
         "y": [
          0.4970178522122124,
          0.480828143007932,
          0.4052860514439584,
          0.47868313199106155,
          0.45700663353301635,
          0.5348931960734511,
          0.4553424190134326,
          0.5208174728839091,
          0.3217346098883128,
          0.3769916015571277,
          0.3203409612705865,
          0.35684135116384,
          0.46139426144355494,
          0.45146507602259595,
          0.4948132882217955,
          0.602950500856552,
          0.5429194289967622,
          0.4807526112749241,
          0.4902249516363608,
          0.4706441958515022,
          0.3402885230787321,
          0.4105850813920894,
          0.5159720655745614,
          0.47843439185802994,
          0.4086075235096506,
          0.42462647337278187,
          0.40596214619690946,
          0.4099553664893799,
          0.5150525970719952,
          0.47214812591420885,
          -0.07543753807202608,
          0.018351618209794526,
          -0.002530589775828637,
          -0.12073953464542567,
          0.011610019950479632,
          -0.004568624756090003,
          -0.24054991494361722,
          -0.15077609650885787,
          0.3047515254050882,
          0.3992305636330312,
          0.4843477777874864,
          0.5325736038064421,
          0.4830779478852462,
          0.47126449116932206,
          0.36202975029192,
          0.5244916610287261,
          0.4500943053788819,
          0.3503661694004858,
          0.32513513850251574
         ],
         "yaxis": "y2"
        },
        {
         "line": {
          "width": 2
         },
         "marker": {
          "opacity": 0.3
         },
         "mode": "markers",
         "name": "Target load : 5.0",
         "type": "scatter",
         "uid": "ec7aaca5-0ceb-4e03-ad05-ca9a38e3f311",
         "x": [
          2,
          3,
          4,
          5,
          6,
          7,
          8,
          9,
          10,
          11,
          12,
          13,
          14,
          15,
          16,
          17,
          18,
          19,
          20,
          21,
          22,
          23,
          24,
          25,
          26,
          27,
          28,
          29,
          30,
          31,
          32,
          33,
          34,
          35,
          36,
          37,
          38,
          39,
          40,
          41,
          42,
          43,
          44,
          45,
          46,
          47,
          48,
          49,
          50
         ],
         "xaxis": "x3",
         "y": [
          0.451315742928606,
          0.4820586366539792,
          0.3740461711324229,
          0.44320834694657324,
          0.33598682769383786,
          0.4572498516920919,
          0.5096684296193977,
          0.4428469780283893,
          0.4603199949448384,
          0.3190194971050415,
          0.3593926628112508,
          0.3426554484582498,
          0.3851182116190871,
          0.5043279563826795,
          0.5216753506570754,
          0.3417294273442959,
          0.42087790389190294,
          0.28024553302896754,
          0.35944441230349367,
          0.44962634432022086,
          0.48904317993893603,
          0.27785529398783726,
          0.48724918085997243,
          0.4699767886623295,
          0.37270591300169004,
          0.29538569531562925,
          0.43805718382334524,
          0.4343915534970458,
          0.38026448884425157,
          0.42243013961182574,
          0.1893553461375586,
          0.06694097700854285,
          0.12589583412581906,
          -0.0050505898476264355,
          0.1275472586958114,
          -0.1152971542585329,
          -0.003233923523254873,
          0.17438575947250495,
          0.29509668258683264,
          0.3377528451469111,
          0.4552950216371965,
          0.41671119823041064,
          0.38268160848734734,
          0.3177773439044599,
          0.14162367605300155,
          0.4072480405299264,
          0.333968716410104,
          0.35356896606640786,
          0.22923968417588764
         ],
         "yaxis": "y3"
        },
        {
         "line": {
          "width": 2
         },
         "marker": {
          "opacity": 0.3
         },
         "mode": "markers",
         "name": "Target load : 6.0",
         "type": "scatter",
         "uid": "ba78456c-1c66-4acc-a930-be6ff86c4da8",
         "x": [
          2,
          3,
          4,
          5,
          6,
          7,
          8,
          9,
          10,
          11,
          12,
          13,
          14,
          15,
          16,
          17,
          18,
          19,
          20,
          21,
          22,
          23,
          24,
          25,
          26,
          27,
          28,
          29,
          30,
          31,
          32,
          33,
          34,
          35,
          36,
          37,
          38,
          39,
          40,
          41,
          42,
          43,
          44,
          45,
          46,
          47,
          48,
          49,
          50
         ],
         "xaxis": "x4",
         "y": [
          0.29173943936806696,
          0.1641611386772898,
          0.22631730981590656,
          0.18618822532369972,
          0.13694395237585555,
          0.27596843663011106,
          0.1830309356483044,
          0.24201264801113256,
          0.12379946839199019,
          0.12650260767994567,
          0.21337031381540308,
          0.25013867698038117,
          0.2346732276449276,
          0.20064097754940402,
          0.39482174545681264,
          0.16781685872266133,
          0.12687238779053678,
          0.14129991255549706,
          0.12219222071870148,
          0.2227857368173965,
          0.2839850545360246,
          0.05735501214628069,
          0.16831371164460635,
          0.33422791506867705,
          0.22366333392927198,
          0.12373013426559502,
          0.2083722081601423,
          0.28835285133652244,
          0.19867178334756336,
          0.2982532986582881,
          0.18900405516985036,
          -0.11584540987523914,
          -0.11722153137087357,
          -0.11721952787334838,
          0.03466219576009612,
          -0.14224760498390068,
          -0.07845483048586671,
          -0.007572534578359352,
          0.2006564854442383,
          0.12321510191503646,
          0.1537117686918656,
          0.11772253057810292,
          0.2967391256658173,
          0.04880509416476325,
          0.18203725185594277,
          0.40019216339589514,
          0.22601245626633865,
          0.29605908200260556,
          0.2655749865281856
         ],
         "yaxis": "y4"
        },
        {
         "line": {
          "width": 2
         },
         "marker": {
          "opacity": 0.3
         },
         "mode": "markers",
         "name": "Target load : 7.0",
         "type": "scatter",
         "uid": "340a48bf-b415-48ca-a8d3-e2f0d461c9e3",
         "x": [
          2,
          3,
          4,
          5,
          6,
          7,
          8,
          9,
          10,
          11,
          12,
          13,
          14,
          15,
          16,
          17,
          18,
          19,
          20,
          21,
          22,
          23,
          24,
          25,
          26,
          27,
          28,
          29,
          30,
          31,
          32,
          33,
          34,
          35,
          36,
          37,
          38,
          39,
          40,
          41,
          42,
          43,
          44,
          45,
          46,
          47,
          48,
          49,
          50
         ],
         "xaxis": "x5",
         "y": [
          0.28590047894948395,
          0.434750787715638,
          0.42705275394004344,
          0.35818332235000366,
          0.31740656676147194,
          0.44270386584759475,
          0.46347090260518414,
          0.3445070618423817,
          0.3642893876847676,
          0.18999535722255234,
          0.28302369779631964,
          0.28906014818731446,
          0.31020852260304427,
          0.3914359532571889,
          0.41355231708283735,
          0.327998204779673,
          0.40793072833009897,
          0.3282082433886047,
          0.39179368264481784,
          0.4845528384633983,
          0.36725406374164327,
          0.32029491417154465,
          0.36637491698529834,
          0.32754943735313996,
          0.4202651290410714,
          0.37384158844217,
          0.2488624529732957,
          0.3799590307652283,
          0.2715852128606337,
          0.29122818383354454,
          0.01950040721817053,
          0.09455022929773224,
          -0.05912657218471851,
          0.13857952228149598,
          0.1390117069765168,
          0.19587246539393324,
          0.03188404683314327,
          -0.009512811779261426,
          0.33302968171449443,
          0.18703611525947858,
          0.4378336597371188,
          0.33289483543092474,
          0.29512390632073676,
          0.3421025057028109,
          0.3157149362218891,
          0.41002558632713487,
          0.4633093979334901,
          0.302471700298135,
          0.3735644669075859
         ],
         "yaxis": "y5"
        },
        {
         "line": {
          "width": 2
         },
         "marker": {
          "opacity": 0.3
         },
         "mode": "markers",
         "name": "Target load : 8.0",
         "type": "scatter",
         "uid": "b659cf88-ee5f-4f76-86d5-ce2b090e67ec",
         "x": [
          2,
          3,
          4,
          5,
          6,
          7,
          8,
          9,
          10,
          11,
          12,
          13,
          14,
          15,
          16,
          17,
          18,
          19,
          20,
          21,
          22,
          23,
          24,
          25,
          26,
          27,
          28,
          29,
          30,
          31,
          32,
          33,
          34,
          35,
          36,
          37,
          38,
          39,
          40,
          41,
          42,
          43,
          44,
          45,
          46,
          47,
          48,
          49,
          50
         ],
         "xaxis": "x6",
         "y": [
          0.06132591977682743,
          0.18913400119546867,
          -0.014703932422363307,
          0.17163399011738403,
          0.09751636592991372,
          0.07058991376323173,
          0.23117412556784417,
          0.34932486925255435,
          0.07831557826770548,
          0.057268466469900206,
          0.01827313963840699,
          -0.12901888906201917,
          0.13209897337898346,
          0.3456197577947575,
          -0.02659772990906257,
          0.08984718776285061,
          0.010158644614610173,
          0.2042650915908916,
          0.12170175415423416,
          0.02907197643026424,
          0.1356286201991842,
          0.12512686612918014,
          -0.004123451477269939,
          0.1475578510093205,
          0.16809769112071019,
          0.04919661416163698,
          0.19590839836865184,
          0.29503485327250295,
          -0.028139082757544405,
          0.15537718878384724,
          0.23812072025581732,
          -0.07951352336499684,
          -0.006055107869151886,
          -0.2065390920546577,
          0.04137319270327866,
          -0.12401936893854348,
          -0.10704088314714813,
          -0.14973343136433093,
          0.0030431475186686215,
          0.15381917949626542,
          0.06021687752141669,
          0.08153146548159904,
          0.16745883939194847,
          0.055917007715766756,
          0.13028752527461007,
          0.19463638853122356,
          0.2349314677785463,
          0.09694295367240033,
          0.0135950629843193
         ],
         "yaxis": "y6"
        },
        {
         "line": {
          "color": "gray"
         },
         "mode": "lines",
         "showlegend": false,
         "type": "scatter",
         "uid": "543c908e-fd6a-4da8-b564-132fcae9bde8",
         "x": [
          2,
          2.484848484848485,
          2.9696969696969697,
          3.4545454545454546,
          3.9393939393939394,
          4.424242424242424,
          4.909090909090909,
          5.3939393939393945,
          5.878787878787879,
          6.363636363636363,
          6.848484848484849,
          7.333333333333334,
          7.818181818181818,
          8.303030303030303,
          8.787878787878789,
          9.272727272727273,
          9.757575757575758,
          10.242424242424242,
          10.727272727272727,
          11.212121212121213,
          11.696969696969697,
          12.181818181818182,
          12.666666666666668,
          13.151515151515152,
          13.636363636363637,
          14.121212121212121,
          14.606060606060606,
          15.090909090909092,
          15.575757575757576,
          16.060606060606062,
          16.545454545454547,
          17.03030303030303,
          17.515151515151516,
          18,
          18.484848484848484,
          18.96969696969697,
          19.454545454545453,
          19.93939393939394,
          20.424242424242426,
          20.90909090909091,
          21.393939393939394,
          21.87878787878788,
          22.363636363636363,
          22.848484848484848,
          23.333333333333336,
          23.81818181818182,
          24.303030303030305,
          24.78787878787879,
          25.272727272727273,
          25.757575757575758,
          26.242424242424242,
          26.727272727272727,
          27.21212121212121,
          27.6969696969697,
          28.181818181818183,
          28.666666666666668,
          29.151515151515152,
          29.636363636363637,
          30.12121212121212,
          30.606060606060606,
          31.090909090909093,
          31.575757575757578,
          32.06060606060606,
          32.54545454545455,
          33.03030303030303,
          33.515151515151516,
          34,
          34.484848484848484,
          34.96969696969697,
          35.45454545454545,
          35.93939393939394,
          36.42424242424242,
          36.90909090909091,
          37.3939393939394,
          37.87878787878788,
          38.36363636363637,
          38.84848484848485,
          39.333333333333336,
          39.81818181818182,
          40.303030303030305,
          40.78787878787879,
          41.27272727272727,
          41.75757575757576,
          42.24242424242424,
          42.72727272727273,
          43.21212121212121,
          43.696969696969695,
          44.18181818181818,
          44.66666666666667,
          45.151515151515156,
          45.63636363636364,
          46.121212121212125,
          46.60606060606061,
          47.09090909090909,
          47.57575757575758,
          48.06060606060606,
          48.54545454545455,
          49.03030303030303,
          49.515151515151516,
          50
         ],
         "xaxis": "x",
         "y": [
          0.5924171385511048,
          0.590228784346332,
          0.5880404301415592,
          0.5858520759367863,
          0.5836637217320135,
          0.5814753675272408,
          0.579287013322468,
          0.5770986591176952,
          0.5749103049129224,
          0.5727219507081497,
          0.5705335965033769,
          0.5683452422986041,
          0.5661568880938312,
          0.5639685338890584,
          0.5617801796842857,
          0.5595918254795129,
          0.5574034712747401,
          0.5552151170699673,
          0.5530267628651946,
          0.5508384086604218,
          0.548650054455649,
          0.5464617002508761,
          0.5442733460461033,
          0.5420849918413306,
          0.5398966376365578,
          0.537708283431785,
          0.5355199292270122,
          0.5333315750222394,
          0.5311432208174667,
          0.5289548666126939,
          0.526766512407921,
          0.5245781582031483,
          0.5223898039983755,
          0.5202014497936027,
          0.5180130955888299,
          0.5158247413840571,
          0.5136363871792844,
          0.5114480329745116,
          0.5092596787697388,
          0.507071324564966,
          0.5048829703601931,
          0.5026946161554204,
          0.5005062619506476,
          0.4983179077458748,
          0.496129553541102,
          0.49394119933632924,
          0.4917528451315565,
          0.48956449092678367,
          0.48737613672201086,
          0.4851877825172381,
          0.48299942831246534,
          0.4808110741076925,
          0.4786227199029197,
          0.4764343656981469,
          0.47424601149337414,
          0.4720576572886014,
          0.46986930308382857,
          0.46768094887905576,
          0.465492594674283,
          0.46330424046951024,
          0.46111588626473743,
          0.4589275320599646,
          0.4567391778551918,
          0.45455082365041904,
          0.4523624694456463,
          0.4501741152408735,
          0.44798576103610066,
          0.4457974068313279,
          0.44360905262655514,
          0.44142069842178233,
          0.4392323442170095,
          0.43704399001223676,
          0.434855635807464,
          0.4326672816026912,
          0.4304789273979184,
          0.42829057319314556,
          0.4261022189883728,
          0.42391386478360005,
          0.42172551057882723,
          0.4195371563740544,
          0.41734880216928166,
          0.41516044796450885,
          0.4129720937597361,
          0.4107837395549633,
          0.40859538535019047,
          0.4064070311454177,
          0.40421867694064495,
          0.40203032273587214,
          0.3998419685310993,
          0.3976536143263265,
          0.39546526012155375,
          0.393276905916781,
          0.3910885517120082,
          0.38890019750723537,
          0.3867118433024626,
          0.38452348909768985,
          0.38233513489291704,
          0.3801467806881442,
          0.37795842648337147,
          0.3757700722785987
         ],
         "yaxis": "y"
        },
        {
         "line": {
          "color": "gray"
         },
         "mode": "lines",
         "showlegend": false,
         "type": "scatter",
         "uid": "efbf7e80-67ec-4f06-8a08-6ffde931ae1c",
         "x": [
          2,
          2.484848484848485,
          2.9696969696969697,
          3.4545454545454546,
          3.9393939393939394,
          4.424242424242424,
          4.909090909090909,
          5.3939393939393945,
          5.878787878787879,
          6.363636363636363,
          6.848484848484849,
          7.333333333333334,
          7.818181818181818,
          8.303030303030303,
          8.787878787878789,
          9.272727272727273,
          9.757575757575758,
          10.242424242424242,
          10.727272727272727,
          11.212121212121213,
          11.696969696969697,
          12.181818181818182,
          12.666666666666668,
          13.151515151515152,
          13.636363636363637,
          14.121212121212121,
          14.606060606060606,
          15.090909090909092,
          15.575757575757576,
          16.060606060606062,
          16.545454545454547,
          17.03030303030303,
          17.515151515151516,
          18,
          18.484848484848484,
          18.96969696969697,
          19.454545454545453,
          19.93939393939394,
          20.424242424242426,
          20.90909090909091,
          21.393939393939394,
          21.87878787878788,
          22.363636363636363,
          22.848484848484848,
          23.333333333333336,
          23.81818181818182,
          24.303030303030305,
          24.78787878787879,
          25.272727272727273,
          25.757575757575758,
          26.242424242424242,
          26.727272727272727,
          27.21212121212121,
          27.6969696969697,
          28.181818181818183,
          28.666666666666668,
          29.151515151515152,
          29.636363636363637,
          30.12121212121212,
          30.606060606060606,
          31.090909090909093,
          31.575757575757578,
          32.06060606060606,
          32.54545454545455,
          33.03030303030303,
          33.515151515151516,
          34,
          34.484848484848484,
          34.96969696969697,
          35.45454545454545,
          35.93939393939394,
          36.42424242424242,
          36.90909090909091,
          37.3939393939394,
          37.87878787878788,
          38.36363636363637,
          38.84848484848485,
          39.333333333333336,
          39.81818181818182,
          40.303030303030305,
          40.78787878787879,
          41.27272727272727,
          41.75757575757576,
          42.24242424242424,
          42.72727272727273,
          43.21212121212121,
          43.696969696969695,
          44.18181818181818,
          44.66666666666667,
          45.151515151515156,
          45.63636363636364,
          46.121212121212125,
          46.60606060606061,
          47.09090909090909,
          47.57575757575758,
          48.06060606060606,
          48.54545454545455,
          49.03030303030303,
          49.515151515151516,
          50
         ],
         "xaxis": "x2",
         "y": [
          0.47598851180450025,
          0.4736722327808467,
          0.47135595375719314,
          0.4690396747335396,
          0.466723395709886,
          0.46440711668623247,
          0.46209083766257886,
          0.4597745586389253,
          0.45745827961527175,
          0.4551420005916182,
          0.45282572156796463,
          0.4505094425443111,
          0.4481931635206575,
          0.4458768844970039,
          0.44356060547335036,
          0.4412443264496968,
          0.43892804742604324,
          0.4366117684023897,
          0.43429548937873613,
          0.4319792103550826,
          0.42966293133142897,
          0.4273466523077754,
          0.42503037328412185,
          0.4227140942604683,
          0.42039781523681474,
          0.4180815362131612,
          0.41576525718950763,
          0.413448978165854,
          0.41113269914220046,
          0.4088164201185469,
          0.40650014109489335,
          0.4041838620712398,
          0.40186758304758624,
          0.3995513040239327,
          0.3972350250002791,
          0.3949187459766255,
          0.39260246695297196,
          0.3902861879293184,
          0.38796990890566485,
          0.38565362988201124,
          0.38333735085835774,
          0.38102107183470413,
          0.3787047928110506,
          0.376388513787397,
          0.37407223476374346,
          0.3717559557400899,
          0.3694396767164363,
          0.3671233976927828,
          0.3648071186691292,
          0.3624908396454756,
          0.36017456062182207,
          0.3578582815981685,
          0.35554200257451496,
          0.35322572355086135,
          0.35090944452720785,
          0.34859316550355424,
          0.3462768864799007,
          0.3439606074562471,
          0.34164432843259357,
          0.33932804940894,
          0.3370117703852864,
          0.3346954913616329,
          0.3323792123379793,
          0.33006293331432573,
          0.3277466542906722,
          0.3254303752670186,
          0.32311409624336507,
          0.32079781721971146,
          0.31848153819605796,
          0.31616525917240434,
          0.31384898014875084,
          0.31153270112509723,
          0.3092164221014437,
          0.3069001430777901,
          0.3045838640541365,
          0.30226758503048295,
          0.2999513060068294,
          0.29763502698317584,
          0.2953187479595223,
          0.29300246893586873,
          0.2906861899122152,
          0.28836991088856156,
          0.28605363186490806,
          0.28373735284125445,
          0.2814210738176009,
          0.27910479479394734,
          0.2767885157702938,
          0.27447223674664023,
          0.2721559577229866,
          0.26983967869933306,
          0.2675233996756795,
          0.26520712065202595,
          0.2628908416283724,
          0.2605745626047188,
          0.2582582835810653,
          0.2559420045574117,
          0.2536257255337582,
          0.25130944651010456,
          0.248993167486451,
          0.24667688846279745
         ],
         "yaxis": "y2"
        },
        {
         "line": {
          "color": "gray"
         },
         "mode": "lines",
         "showlegend": false,
         "type": "scatter",
         "uid": "7fa99edb-8a03-4ed0-a336-2860f6511fc6",
         "x": [
          2,
          2.484848484848485,
          2.9696969696969697,
          3.4545454545454546,
          3.9393939393939394,
          4.424242424242424,
          4.909090909090909,
          5.3939393939393945,
          5.878787878787879,
          6.363636363636363,
          6.848484848484849,
          7.333333333333334,
          7.818181818181818,
          8.303030303030303,
          8.787878787878789,
          9.272727272727273,
          9.757575757575758,
          10.242424242424242,
          10.727272727272727,
          11.212121212121213,
          11.696969696969697,
          12.181818181818182,
          12.666666666666668,
          13.151515151515152,
          13.636363636363637,
          14.121212121212121,
          14.606060606060606,
          15.090909090909092,
          15.575757575757576,
          16.060606060606062,
          16.545454545454547,
          17.03030303030303,
          17.515151515151516,
          18,
          18.484848484848484,
          18.96969696969697,
          19.454545454545453,
          19.93939393939394,
          20.424242424242426,
          20.90909090909091,
          21.393939393939394,
          21.87878787878788,
          22.363636363636363,
          22.848484848484848,
          23.333333333333336,
          23.81818181818182,
          24.303030303030305,
          24.78787878787879,
          25.272727272727273,
          25.757575757575758,
          26.242424242424242,
          26.727272727272727,
          27.21212121212121,
          27.6969696969697,
          28.181818181818183,
          28.666666666666668,
          29.151515151515152,
          29.636363636363637,
          30.12121212121212,
          30.606060606060606,
          31.090909090909093,
          31.575757575757578,
          32.06060606060606,
          32.54545454545455,
          33.03030303030303,
          33.515151515151516,
          34,
          34.484848484848484,
          34.96969696969697,
          35.45454545454545,
          35.93939393939394,
          36.42424242424242,
          36.90909090909091,
          37.3939393939394,
          37.87878787878788,
          38.36363636363637,
          38.84848484848485,
          39.333333333333336,
          39.81818181818182,
          40.303030303030305,
          40.78787878787879,
          41.27272727272727,
          41.75757575757576,
          42.24242424242424,
          42.72727272727273,
          43.21212121212121,
          43.696969696969695,
          44.18181818181818,
          44.66666666666667,
          45.151515151515156,
          45.63636363636364,
          46.121212121212125,
          46.60606060606061,
          47.09090909090909,
          47.57575757575758,
          48.06060606060606,
          48.54545454545455,
          49.03030303030303,
          49.515151515151516,
          50
         ],
         "xaxis": "x3",
         "y": [
          0.4498613318708116,
          0.4475923049380039,
          0.4453232780051961,
          0.4430542510723884,
          0.4407852241395806,
          0.4385161972067729,
          0.43624717027396515,
          0.43397814334115736,
          0.43170911640834964,
          0.42944008947554185,
          0.4271710625427341,
          0.42490203560992634,
          0.4226330086771186,
          0.4203639817443109,
          0.4180949548115031,
          0.4158259278786954,
          0.4135569009458876,
          0.41128787401307987,
          0.40901884708027214,
          0.40674982014746436,
          0.40448079321465663,
          0.40221176628184885,
          0.3999427393490411,
          0.3976737124162334,
          0.3954046854834256,
          0.3931356585506179,
          0.3908666316178101,
          0.3885976046850024,
          0.38632857775219465,
          0.38405955081938686,
          0.38179052388657914,
          0.37952149695377135,
          0.3772524700209636,
          0.3749834430881559,
          0.3727144161553481,
          0.3704453892225404,
          0.3681763622897326,
          0.3659073353569249,
          0.36363830842411715,
          0.36136928149130937,
          0.35910025455850164,
          0.35683122762569386,
          0.35456220069288613,
          0.3522931737600784,
          0.3500241468272706,
          0.34775511989446284,
          0.3454860929616551,
          0.3432170660288474,
          0.3409480390960396,
          0.3386790121632319,
          0.33640998523042415,
          0.33414095829761636,
          0.33187193136480864,
          0.32960290443200085,
          0.3273338774991931,
          0.32506485056638534,
          0.3227958236335776,
          0.3205267967007699,
          0.31825776976796216,
          0.3159887428351544,
          0.3137197159023466,
          0.31145068896953887,
          0.30918166203673114,
          0.30691263510392336,
          0.30464360817111563,
          0.30237458123830785,
          0.3001055543055001,
          0.2978365273726924,
          0.29556750043988467,
          0.2932984735070769,
          0.2910294465742691,
          0.2887604196414614,
          0.28649139270865365,
          0.28422236577584586,
          0.2819533388430381,
          0.27968431191023035,
          0.2774152849774226,
          0.2751462580446149,
          0.2728772311118071,
          0.27060820417899933,
          0.2683391772461916,
          0.2660701503133839,
          0.26380112338057615,
          0.26153209644776837,
          0.25926306951496064,
          0.25699404258215286,
          0.25472501564934513,
          0.2524559887165374,
          0.25018696178372957,
          0.24791793485092187,
          0.2456489079181141,
          0.24337988098530636,
          0.2411108540524986,
          0.23884182711969087,
          0.23657280018688312,
          0.23430377325407536,
          0.2320347463212676,
          0.22976571938845988,
          0.22749669245565213,
          0.22522766552284437
         ],
         "yaxis": "y3"
        },
        {
         "line": {
          "color": "gray"
         },
         "mode": "lines",
         "showlegend": false,
         "type": "scatter",
         "uid": "3af0e19f-4165-46a3-9c2f-b2516a130729",
         "x": [
          2,
          2.484848484848485,
          2.9696969696969697,
          3.4545454545454546,
          3.9393939393939394,
          4.424242424242424,
          4.909090909090909,
          5.3939393939393945,
          5.878787878787879,
          6.363636363636363,
          6.848484848484849,
          7.333333333333334,
          7.818181818181818,
          8.303030303030303,
          8.787878787878789,
          9.272727272727273,
          9.757575757575758,
          10.242424242424242,
          10.727272727272727,
          11.212121212121213,
          11.696969696969697,
          12.181818181818182,
          12.666666666666668,
          13.151515151515152,
          13.636363636363637,
          14.121212121212121,
          14.606060606060606,
          15.090909090909092,
          15.575757575757576,
          16.060606060606062,
          16.545454545454547,
          17.03030303030303,
          17.515151515151516,
          18,
          18.484848484848484,
          18.96969696969697,
          19.454545454545453,
          19.93939393939394,
          20.424242424242426,
          20.90909090909091,
          21.393939393939394,
          21.87878787878788,
          22.363636363636363,
          22.848484848484848,
          23.333333333333336,
          23.81818181818182,
          24.303030303030305,
          24.78787878787879,
          25.272727272727273,
          25.757575757575758,
          26.242424242424242,
          26.727272727272727,
          27.21212121212121,
          27.6969696969697,
          28.181818181818183,
          28.666666666666668,
          29.151515151515152,
          29.636363636363637,
          30.12121212121212,
          30.606060606060606,
          31.090909090909093,
          31.575757575757578,
          32.06060606060606,
          32.54545454545455,
          33.03030303030303,
          33.515151515151516,
          34,
          34.484848484848484,
          34.96969696969697,
          35.45454545454545,
          35.93939393939394,
          36.42424242424242,
          36.90909090909091,
          37.3939393939394,
          37.87878787878788,
          38.36363636363637,
          38.84848484848485,
          39.333333333333336,
          39.81818181818182,
          40.303030303030305,
          40.78787878787879,
          41.27272727272727,
          41.75757575757576,
          42.24242424242424,
          42.72727272727273,
          43.21212121212121,
          43.696969696969695,
          44.18181818181818,
          44.66666666666667,
          45.151515151515156,
          45.63636363636364,
          46.121212121212125,
          46.60606060606061,
          47.09090909090909,
          47.57575757575758,
          48.06060606060606,
          48.54545454545455,
          49.03030303030303,
          49.515151515151516,
          50
         ],
         "xaxis": "x4",
         "y": [
          0.20629224379168856,
          0.20549393929181037,
          0.20469563479193215,
          0.20389733029205392,
          0.20309902579217573,
          0.2023007212922975,
          0.20150241679241931,
          0.2007041122925411,
          0.1999058077926629,
          0.19910750329278468,
          0.19830919879290645,
          0.19751089429302826,
          0.19671258979315004,
          0.19591428529327184,
          0.19511598079339362,
          0.19431767629351543,
          0.1935193717936372,
          0.19272106729375899,
          0.1919227627938808,
          0.19112445829400257,
          0.19032615379412438,
          0.18952784929424615,
          0.18872954479436796,
          0.18793124029448974,
          0.18713293579461154,
          0.18633463129473332,
          0.1855363267948551,
          0.1847380222949769,
          0.18393971779509868,
          0.1831414132952205,
          0.18234310879534227,
          0.18154480429546407,
          0.18074649979558585,
          0.17994819529570766,
          0.17914989079582944,
          0.17835158629595121,
          0.17755328179607302,
          0.1767549772961948,
          0.1759566727963166,
          0.17515836829643838,
          0.17436006379656016,
          0.17356175929668197,
          0.17276345479680377,
          0.17196515029692555,
          0.17116684579704733,
          0.17036854129716913,
          0.1695702367972909,
          0.16877193229741272,
          0.1679736277975345,
          0.16717532329765628,
          0.16637701879777808,
          0.1655787142978999,
          0.16478040979802167,
          0.16398210529814344,
          0.16318380079826525,
          0.16238549629838703,
          0.16158719179850883,
          0.1607888872986306,
          0.1599905827987524,
          0.1591922782988742,
          0.15839397379899597,
          0.15759566929911778,
          0.15679736479923956,
          0.15599906029936136,
          0.15520075579948314,
          0.15440245129960495,
          0.15360414679972673,
          0.1528058422998485,
          0.1520075377999703,
          0.15120923330009212,
          0.1504109288002139,
          0.14961262430033567,
          0.14881431980045748,
          0.14801601530057926,
          0.14721771080070103,
          0.14641940630082284,
          0.14562110180094462,
          0.14482279730106642,
          0.1440244928011882,
          0.14322618830131,
          0.1424278838014318,
          0.14162957930155357,
          0.14083127480167537,
          0.14003297030179718,
          0.13923466580191896,
          0.13843636130204073,
          0.13763805680216254,
          0.13683975230228435,
          0.13604144780240612,
          0.1352431433025279,
          0.13444483880264968,
          0.13364653430277149,
          0.1328482298028933,
          0.13204992530301507,
          0.13125162080313685,
          0.13045331630325863,
          0.12965501180338043,
          0.12885670730350224,
          0.12805840280362402,
          0.1272600983037458
         ],
         "yaxis": "y4"
        },
        {
         "line": {
          "color": "gray"
         },
         "mode": "lines",
         "showlegend": false,
         "type": "scatter",
         "uid": "ac32d575-e346-45d3-a68a-b0f28c738e0e",
         "x": [
          2,
          2.484848484848485,
          2.9696969696969697,
          3.4545454545454546,
          3.9393939393939394,
          4.424242424242424,
          4.909090909090909,
          5.3939393939393945,
          5.878787878787879,
          6.363636363636363,
          6.848484848484849,
          7.333333333333334,
          7.818181818181818,
          8.303030303030303,
          8.787878787878789,
          9.272727272727273,
          9.757575757575758,
          10.242424242424242,
          10.727272727272727,
          11.212121212121213,
          11.696969696969697,
          12.181818181818182,
          12.666666666666668,
          13.151515151515152,
          13.636363636363637,
          14.121212121212121,
          14.606060606060606,
          15.090909090909092,
          15.575757575757576,
          16.060606060606062,
          16.545454545454547,
          17.03030303030303,
          17.515151515151516,
          18,
          18.484848484848484,
          18.96969696969697,
          19.454545454545453,
          19.93939393939394,
          20.424242424242426,
          20.90909090909091,
          21.393939393939394,
          21.87878787878788,
          22.363636363636363,
          22.848484848484848,
          23.333333333333336,
          23.81818181818182,
          24.303030303030305,
          24.78787878787879,
          25.272727272727273,
          25.757575757575758,
          26.242424242424242,
          26.727272727272727,
          27.21212121212121,
          27.6969696969697,
          28.181818181818183,
          28.666666666666668,
          29.151515151515152,
          29.636363636363637,
          30.12121212121212,
          30.606060606060606,
          31.090909090909093,
          31.575757575757578,
          32.06060606060606,
          32.54545454545455,
          33.03030303030303,
          33.515151515151516,
          34,
          34.484848484848484,
          34.96969696969697,
          35.45454545454545,
          35.93939393939394,
          36.42424242424242,
          36.90909090909091,
          37.3939393939394,
          37.87878787878788,
          38.36363636363637,
          38.84848484848485,
          39.333333333333336,
          39.81818181818182,
          40.303030303030305,
          40.78787878787879,
          41.27272727272727,
          41.75757575757576,
          42.24242424242424,
          42.72727272727273,
          43.21212121212121,
          43.696969696969695,
          44.18181818181818,
          44.66666666666667,
          45.151515151515156,
          45.63636363636364,
          46.121212121212125,
          46.60606060606061,
          47.09090909090909,
          47.57575757575758,
          48.06060606060606,
          48.54545454545455,
          49.03030303030303,
          49.515151515151516,
          50
         ],
         "xaxis": "x5",
         "y": [
          0.36711701843972877,
          0.3658712429847562,
          0.36462546752978364,
          0.36337969207481113,
          0.36213391661983857,
          0.360888141164866,
          0.3596423657098935,
          0.35839659025492093,
          0.35715081479994837,
          0.35590503934497586,
          0.3546592638900033,
          0.35341348843503073,
          0.3521677129800582,
          0.35092193752508566,
          0.3496761620701131,
          0.3484303866151406,
          0.347184611160168,
          0.34593883570519546,
          0.34469306025022295,
          0.3434472847952504,
          0.3422015093402778,
          0.3409557338853053,
          0.33970995843033275,
          0.3384641829753602,
          0.3372184075203877,
          0.3359726320654151,
          0.33472685661044255,
          0.33348108115547004,
          0.3322353057004975,
          0.3309895302455249,
          0.3297437547905524,
          0.32849797933557984,
          0.3272522038806073,
          0.32600642842563476,
          0.3247606529706622,
          0.32351487751568964,
          0.3222691020607171,
          0.32102332660574456,
          0.319777551150772,
          0.3185317756957995,
          0.3172860002408269,
          0.31604022478585436,
          0.31479444933088185,
          0.3135486738759093,
          0.3123028984209367,
          0.31105712296596416,
          0.30981134751099165,
          0.3085655720560191,
          0.3073197966010466,
          0.306074021146074,
          0.30482824569110145,
          0.30358247023612894,
          0.3023366947811564,
          0.3010909193261838,
          0.2998451438712113,
          0.29859936841623874,
          0.2973535929612662,
          0.29610781750629367,
          0.2948620420513211,
          0.29361626659634854,
          0.29237049114137603,
          0.29112471568640347,
          0.2898789402314309,
          0.2886331647764584,
          0.28738738932148583,
          0.28614161386651327,
          0.28489583841154076,
          0.2836500629565682,
          0.28240428750159563,
          0.2811585120466231,
          0.27991273659165056,
          0.278666961136678,
          0.2774211856817055,
          0.2761754102267329,
          0.27492963477176036,
          0.2736838593167878,
          0.2724380838618153,
          0.2711923084068427,
          0.2699465329518702,
          0.26870075749689765,
          0.2674549820419251,
          0.2662092065869526,
          0.26496343113198,
          0.26371765567700745,
          0.26247188022203494,
          0.2612261047670624,
          0.2599803293120898,
          0.2587345538571173,
          0.2574887784021447,
          0.25624300294717217,
          0.2549972274921996,
          0.2537514520372271,
          0.25250567658225453,
          0.251259901127282,
          0.25001412567230946,
          0.2487683502173369,
          0.24752257476236436,
          0.24627679930739182,
          0.24503102385241926,
          0.24378524839744672
         ],
         "yaxis": "y5"
        },
        {
         "line": {
          "color": "gray"
         },
         "mode": "lines",
         "showlegend": false,
         "type": "scatter",
         "uid": "4492342f-c06b-4849-baf5-5fceec01c835",
         "x": [
          2,
          2.484848484848485,
          2.9696969696969697,
          3.4545454545454546,
          3.9393939393939394,
          4.424242424242424,
          4.909090909090909,
          5.3939393939393945,
          5.878787878787879,
          6.363636363636363,
          6.848484848484849,
          7.333333333333334,
          7.818181818181818,
          8.303030303030303,
          8.787878787878789,
          9.272727272727273,
          9.757575757575758,
          10.242424242424242,
          10.727272727272727,
          11.212121212121213,
          11.696969696969697,
          12.181818181818182,
          12.666666666666668,
          13.151515151515152,
          13.636363636363637,
          14.121212121212121,
          14.606060606060606,
          15.090909090909092,
          15.575757575757576,
          16.060606060606062,
          16.545454545454547,
          17.03030303030303,
          17.515151515151516,
          18,
          18.484848484848484,
          18.96969696969697,
          19.454545454545453,
          19.93939393939394,
          20.424242424242426,
          20.90909090909091,
          21.393939393939394,
          21.87878787878788,
          22.363636363636363,
          22.848484848484848,
          23.333333333333336,
          23.81818181818182,
          24.303030303030305,
          24.78787878787879,
          25.272727272727273,
          25.757575757575758,
          26.242424242424242,
          26.727272727272727,
          27.21212121212121,
          27.6969696969697,
          28.181818181818183,
          28.666666666666668,
          29.151515151515152,
          29.636363636363637,
          30.12121212121212,
          30.606060606060606,
          31.090909090909093,
          31.575757575757578,
          32.06060606060606,
          32.54545454545455,
          33.03030303030303,
          33.515151515151516,
          34,
          34.484848484848484,
          34.96969696969697,
          35.45454545454545,
          35.93939393939394,
          36.42424242424242,
          36.90909090909091,
          37.3939393939394,
          37.87878787878788,
          38.36363636363637,
          38.84848484848485,
          39.333333333333336,
          39.81818181818182,
          40.303030303030305,
          40.78787878787879,
          41.27272727272727,
          41.75757575757576,
          42.24242424242424,
          42.72727272727273,
          43.21212121212121,
          43.696969696969695,
          44.18181818181818,
          44.66666666666667,
          45.151515151515156,
          45.63636363636364,
          46.121212121212125,
          46.60606060606061,
          47.09090909090909,
          47.57575757575758,
          48.06060606060606,
          48.54545454545455,
          49.03030303030303,
          49.515151515151516,
          50
         ],
         "xaxis": "x6",
         "y": [
          0.11503104144972158,
          0.11440812499689672,
          0.11378520854407184,
          0.11316229209124698,
          0.1125393756384221,
          0.11191645918559724,
          0.11129354273277238,
          0.1106706262799475,
          0.11004770982712264,
          0.10942479337429777,
          0.1088018769214729,
          0.10817896046864803,
          0.10755604401582317,
          0.1069331275629983,
          0.10631021111017343,
          0.10568729465734855,
          0.10506437820452369,
          0.10444146175169883,
          0.10381854529887395,
          0.10319562884604909,
          0.10257271239322421,
          0.10194979594039935,
          0.10132687948757449,
          0.10070396303474961,
          0.10008104658192474,
          0.09945813012909988,
          0.09883521367627501,
          0.09821229722345014,
          0.09758938077062528,
          0.0969664643178004,
          0.09634354786497554,
          0.09572063141215068,
          0.0950977149593258,
          0.09447479850650094,
          0.09385188205367606,
          0.0932289656008512,
          0.09260604914802634,
          0.09198313269520146,
          0.09136021624237659,
          0.09073729978955172,
          0.09011438333672686,
          0.08949146688390199,
          0.08886855043107712,
          0.08824563397825225,
          0.08762271752542738,
          0.08699980107260251,
          0.08637688461977765,
          0.08575396816695277,
          0.08513105171412791,
          0.08450813526130305,
          0.08388521880847817,
          0.08326230235565331,
          0.08263938590282843,
          0.08201646945000357,
          0.08139355299717871,
          0.08077063654435383,
          0.08014772009152896,
          0.0795248036387041,
          0.07890188718587923,
          0.07827897073305437,
          0.07765605428022948,
          0.07703313782740462,
          0.07641022137457976,
          0.0757873049217549,
          0.07516438846893002,
          0.07454147201610514,
          0.07391855556328028,
          0.07329563911045542,
          0.07267272265763056,
          0.07204980620480568,
          0.0714268897519808,
          0.07080397329915594,
          0.07018105684633108,
          0.06955814039350619,
          0.06893522394068133,
          0.06831230748785647,
          0.0676893910350316,
          0.06706647458220673,
          0.06644355812938185,
          0.06582064167655699,
          0.06519772522373213,
          0.06457480877090727,
          0.06395189231808239,
          0.06332897586525751,
          0.06270605941243265,
          0.06208314295960779,
          0.06146022650678292,
          0.06083731005395805,
          0.060214393601133176,
          0.05959147714830831,
          0.058968560695483445,
          0.058345644242658576,
          0.05772272778983371,
          0.05709981133700884,
          0.05647689488418397,
          0.05585397843135911,
          0.05523106197853424,
          0.05460814552570936,
          0.0539852290728845,
          0.05336231262005964
         ],
         "yaxis": "y6"
        }
       ],
       "layout": {
        "annotations": [
         {
          "showarrow": false,
          "text": "rsq :0.071",
          "x": 20,
          "xref": "x",
          "y": 0.2,
          "yref": "y"
         },
         {
          "showarrow": false,
          "text": "rsq :0.109",
          "x": 20,
          "xref": "x2",
          "y": 0.2,
          "yref": "y2"
         },
         {
          "showarrow": false,
          "text": "rsq :0.208",
          "x": 20,
          "xref": "x3",
          "y": 0.2,
          "yref": "y3"
         },
         {
          "showarrow": false,
          "text": "rsq :0.034",
          "x": 20,
          "xref": "x4",
          "y": 0.2,
          "yref": "y4"
         },
         {
          "showarrow": false,
          "text": "rsq :0.083",
          "x": 20,
          "xref": "x5",
          "y": 0.2,
          "yref": "y5"
         },
         {
          "showarrow": false,
          "text": "rsq :0.022",
          "x": 20,
          "xref": "x6",
          "y": 0.2,
          "yref": "y6"
         }
        ],
        "font": {
         "size": 15
        },
        "height": 700,
        "legend": {
         "traceorder": "normal"
        },
        "width": 1000,
        "xaxis": {
         "anchor": "y",
         "domain": [
          0,
          0.2888888888888889
         ]
        },
        "xaxis2": {
         "anchor": "y2",
         "domain": [
          0.35555555555555557,
          0.6444444444444445
         ]
        },
        "xaxis3": {
         "anchor": "y3",
         "domain": [
          0.7111111111111111,
          1
         ]
        },
        "xaxis4": {
         "anchor": "y4",
         "domain": [
          0,
          0.2888888888888889
         ]
        },
        "xaxis5": {
         "anchor": "y5",
         "domain": [
          0.35555555555555557,
          0.6444444444444445
         ],
         "title": {
          "text": "overall individual rank in the experiment"
         }
        },
        "xaxis6": {
         "anchor": "y6",
         "domain": [
          0.7111111111111111,
          1
         ]
        },
        "yaxis": {
         "anchor": "x",
         "domain": [
          0.575,
          1
         ],
         "title": {
          "text": "avg Eye movement similarity index"
         }
        },
        "yaxis2": {
         "anchor": "x2",
         "domain": [
          0.575,
          1
         ]
        },
        "yaxis3": {
         "anchor": "x3",
         "domain": [
          0.575,
          1
         ]
        },
        "yaxis4": {
         "anchor": "x4",
         "domain": [
          0,
          0.425
         ]
        },
        "yaxis5": {
         "anchor": "x5",
         "domain": [
          0,
          0.425
         ]
        },
        "yaxis6": {
         "anchor": "x6",
         "domain": [
          0,
          0.425
         ]
        }
       }
      },
      "text/html": [
       "<div id=\"ba0c059a-2a43-4da5-9195-234eab834b83\" style=\"height: 700px; width: 1000px;\" class=\"plotly-graph-div\"></div><script type=\"text/javascript\">require([\"plotly\"], function(Plotly) { window.PLOTLYENV=window.PLOTLYENV || {};window.PLOTLYENV.BASE_URL=\"https://plot.ly\";Plotly.newPlot(\"ba0c059a-2a43-4da5-9195-234eab834b83\", [{\"line\": {\"width\": 2}, \"marker\": {\"opacity\": 0.3}, \"mode\": \"markers\", \"name\": \"Target load : 3.0\", \"x\": [2, 3, 4, 5, 6, 7, 8, 9, 10, 11, 12, 13, 14, 15, 16, 17, 18, 19, 20, 21, 22, 23, 24, 25, 26, 27, 28, 29, 30, 31, 32, 33, 34, 35, 36, 37, 38, 39, 40, 41, 42, 43, 44, 45, 46, 47, 48, 49, 50], \"y\": [0.5548859433197099, 0.568435477217878, 0.5647524543198509, 0.5924107559051078, 0.5323157753471266, 0.5987505317912161, 0.659036550069455, 0.5297844365729895, 0.5547407941106166, 0.4760760123307683, 0.5845408642547768, 0.6216997036000413, 0.60322975429475, 0.6097524871882534, 0.6418849617877727, 0.5778668320917643, 0.5995177257127597, 0.5361566614649305, 0.6066886671579873, 0.6112308936182782, 0.4973178615737778, 0.5749885950434391, 0.5927906884310964, 0.6754353451729136, 0.5593194134497604, 0.6151324923032552, 0.648345635762586, 0.6097658222545549, 0.5851362795412405, 0.547533967864396, 0.02701986118341188, 0.030406128841431974, -0.044355274181290844, -0.2091233260360321, 0.005865214050804809, -0.049520400445956, -0.09805221717728195, -0.017879337357710984, 0.5673725493864233, 0.6283030247938755, 0.6713506671155601, 0.6764025779858639, 0.6174340840843814, 0.5620173138608952, 0.5502121324615853, 0.5749736561341531, 0.5536007201424223, 0.6162973808845154, 0.5287385260476242], \"type\": \"scatter\", \"uid\": \"33551c20-6192-4f5b-a07f-1415da63bf50\", \"xaxis\": \"x\", \"yaxis\": \"y\"}, {\"line\": {\"width\": 2}, \"marker\": {\"opacity\": 0.3}, \"mode\": \"markers\", \"name\": \"Target load : 4.0\", \"x\": [2, 3, 4, 5, 6, 7, 8, 9, 10, 11, 12, 13, 14, 15, 16, 17, 18, 19, 20, 21, 22, 23, 24, 25, 26, 27, 28, 29, 30, 31, 32, 33, 34, 35, 36, 37, 38, 39, 40, 41, 42, 43, 44, 45, 46, 47, 48, 49, 50], \"y\": [0.4970178522122124, 0.480828143007932, 0.4052860514439584, 0.47868313199106155, 0.45700663353301635, 0.5348931960734511, 0.4553424190134326, 0.5208174728839091, 0.3217346098883128, 0.3769916015571277, 0.3203409612705865, 0.35684135116384, 0.46139426144355494, 0.45146507602259595, 0.4948132882217955, 0.602950500856552, 0.5429194289967622, 0.4807526112749241, 0.4902249516363608, 0.4706441958515022, 0.3402885230787321, 0.4105850813920894, 0.5159720655745614, 0.47843439185802994, 0.4086075235096506, 0.42462647337278187, 0.40596214619690946, 0.4099553664893799, 0.5150525970719952, 0.47214812591420885, -0.07543753807202608, 0.018351618209794526, -0.002530589775828637, -0.12073953464542567, 0.011610019950479632, -0.004568624756090003, -0.24054991494361722, -0.15077609650885787, 0.3047515254050882, 0.3992305636330312, 0.4843477777874864, 0.5325736038064421, 0.4830779478852462, 0.47126449116932206, 0.36202975029192, 0.5244916610287261, 0.4500943053788819, 0.3503661694004858, 0.32513513850251574], \"type\": \"scatter\", \"uid\": \"579a9f7b-803b-4d64-84dd-37004bb551df\", \"xaxis\": \"x2\", \"yaxis\": \"y2\"}, {\"line\": {\"width\": 2}, \"marker\": {\"opacity\": 0.3}, \"mode\": \"markers\", \"name\": \"Target load : 5.0\", \"x\": [2, 3, 4, 5, 6, 7, 8, 9, 10, 11, 12, 13, 14, 15, 16, 17, 18, 19, 20, 21, 22, 23, 24, 25, 26, 27, 28, 29, 30, 31, 32, 33, 34, 35, 36, 37, 38, 39, 40, 41, 42, 43, 44, 45, 46, 47, 48, 49, 50], \"y\": [0.451315742928606, 0.4820586366539792, 0.3740461711324229, 0.44320834694657324, 0.33598682769383786, 0.4572498516920919, 0.5096684296193977, 0.4428469780283893, 0.4603199949448384, 0.3190194971050415, 0.3593926628112508, 0.3426554484582498, 0.3851182116190871, 0.5043279563826795, 0.5216753506570754, 0.3417294273442959, 0.42087790389190294, 0.28024553302896754, 0.35944441230349367, 0.44962634432022086, 0.48904317993893603, 0.27785529398783726, 0.48724918085997243, 0.4699767886623295, 0.37270591300169004, 0.29538569531562925, 0.43805718382334524, 0.4343915534970458, 0.38026448884425157, 0.42243013961182574, 0.1893553461375586, 0.06694097700854285, 0.12589583412581906, -0.0050505898476264355, 0.1275472586958114, -0.1152971542585329, -0.003233923523254873, 0.17438575947250495, 0.29509668258683264, 0.3377528451469111, 0.4552950216371965, 0.41671119823041064, 0.38268160848734734, 0.3177773439044599, 0.14162367605300155, 0.4072480405299264, 0.333968716410104, 0.35356896606640786, 0.22923968417588764], \"type\": \"scatter\", \"uid\": \"ec7aaca5-0ceb-4e03-ad05-ca9a38e3f311\", \"xaxis\": \"x3\", \"yaxis\": \"y3\"}, {\"line\": {\"width\": 2}, \"marker\": {\"opacity\": 0.3}, \"mode\": \"markers\", \"name\": \"Target load : 6.0\", \"x\": [2, 3, 4, 5, 6, 7, 8, 9, 10, 11, 12, 13, 14, 15, 16, 17, 18, 19, 20, 21, 22, 23, 24, 25, 26, 27, 28, 29, 30, 31, 32, 33, 34, 35, 36, 37, 38, 39, 40, 41, 42, 43, 44, 45, 46, 47, 48, 49, 50], \"y\": [0.29173943936806696, 0.1641611386772898, 0.22631730981590656, 0.18618822532369972, 0.13694395237585555, 0.27596843663011106, 0.1830309356483044, 0.24201264801113256, 0.12379946839199019, 0.12650260767994567, 0.21337031381540308, 0.25013867698038117, 0.2346732276449276, 0.20064097754940402, 0.39482174545681264, 0.16781685872266133, 0.12687238779053678, 0.14129991255549706, 0.12219222071870148, 0.2227857368173965, 0.2839850545360246, 0.05735501214628069, 0.16831371164460635, 0.33422791506867705, 0.22366333392927198, 0.12373013426559502, 0.2083722081601423, 0.28835285133652244, 0.19867178334756336, 0.2982532986582881, 0.18900405516985036, -0.11584540987523914, -0.11722153137087357, -0.11721952787334838, 0.03466219576009612, -0.14224760498390068, -0.07845483048586671, -0.007572534578359352, 0.2006564854442383, 0.12321510191503646, 0.1537117686918656, 0.11772253057810292, 0.2967391256658173, 0.04880509416476325, 0.18203725185594277, 0.40019216339589514, 0.22601245626633865, 0.29605908200260556, 0.2655749865281856], \"type\": \"scatter\", \"uid\": \"ba78456c-1c66-4acc-a930-be6ff86c4da8\", \"xaxis\": \"x4\", \"yaxis\": \"y4\"}, {\"line\": {\"width\": 2}, \"marker\": {\"opacity\": 0.3}, \"mode\": \"markers\", \"name\": \"Target load : 7.0\", \"x\": [2, 3, 4, 5, 6, 7, 8, 9, 10, 11, 12, 13, 14, 15, 16, 17, 18, 19, 20, 21, 22, 23, 24, 25, 26, 27, 28, 29, 30, 31, 32, 33, 34, 35, 36, 37, 38, 39, 40, 41, 42, 43, 44, 45, 46, 47, 48, 49, 50], \"y\": [0.28590047894948395, 0.434750787715638, 0.42705275394004344, 0.35818332235000366, 0.31740656676147194, 0.44270386584759475, 0.46347090260518414, 0.3445070618423817, 0.3642893876847676, 0.18999535722255234, 0.28302369779631964, 0.28906014818731446, 0.31020852260304427, 0.3914359532571889, 0.41355231708283735, 0.327998204779673, 0.40793072833009897, 0.3282082433886047, 0.39179368264481784, 0.4845528384633983, 0.36725406374164327, 0.32029491417154465, 0.36637491698529834, 0.32754943735313996, 0.4202651290410714, 0.37384158844217, 0.2488624529732957, 0.3799590307652283, 0.2715852128606337, 0.29122818383354454, 0.01950040721817053, 0.09455022929773224, -0.05912657218471851, 0.13857952228149598, 0.1390117069765168, 0.19587246539393324, 0.03188404683314327, -0.009512811779261426, 0.33302968171449443, 0.18703611525947858, 0.4378336597371188, 0.33289483543092474, 0.29512390632073676, 0.3421025057028109, 0.3157149362218891, 0.41002558632713487, 0.4633093979334901, 0.302471700298135, 0.3735644669075859], \"type\": \"scatter\", \"uid\": \"340a48bf-b415-48ca-a8d3-e2f0d461c9e3\", \"xaxis\": \"x5\", \"yaxis\": \"y5\"}, {\"line\": {\"width\": 2}, \"marker\": {\"opacity\": 0.3}, \"mode\": \"markers\", \"name\": \"Target load : 8.0\", \"x\": [2, 3, 4, 5, 6, 7, 8, 9, 10, 11, 12, 13, 14, 15, 16, 17, 18, 19, 20, 21, 22, 23, 24, 25, 26, 27, 28, 29, 30, 31, 32, 33, 34, 35, 36, 37, 38, 39, 40, 41, 42, 43, 44, 45, 46, 47, 48, 49, 50], \"y\": [0.06132591977682743, 0.18913400119546867, -0.014703932422363307, 0.17163399011738403, 0.09751636592991372, 0.07058991376323173, 0.23117412556784417, 0.34932486925255435, 0.07831557826770548, 0.057268466469900206, 0.01827313963840699, -0.12901888906201917, 0.13209897337898346, 0.3456197577947575, -0.02659772990906257, 0.08984718776285061, 0.010158644614610173, 0.2042650915908916, 0.12170175415423416, 0.02907197643026424, 0.1356286201991842, 0.12512686612918014, -0.004123451477269939, 0.1475578510093205, 0.16809769112071019, 0.04919661416163698, 0.19590839836865184, 0.29503485327250295, -0.028139082757544405, 0.15537718878384724, 0.23812072025581732, -0.07951352336499684, -0.006055107869151886, -0.2065390920546577, 0.04137319270327866, -0.12401936893854348, -0.10704088314714813, -0.14973343136433093, 0.0030431475186686215, 0.15381917949626542, 0.06021687752141669, 0.08153146548159904, 0.16745883939194847, 0.055917007715766756, 0.13028752527461007, 0.19463638853122356, 0.2349314677785463, 0.09694295367240033, 0.0135950629843193], \"type\": \"scatter\", \"uid\": \"b659cf88-ee5f-4f76-86d5-ce2b090e67ec\", \"xaxis\": \"x6\", \"yaxis\": \"y6\"}, {\"line\": {\"color\": \"gray\"}, \"mode\": \"lines\", \"showlegend\": false, \"x\": [2.0, 2.484848484848485, 2.9696969696969697, 3.4545454545454546, 3.9393939393939394, 4.424242424242424, 4.909090909090909, 5.3939393939393945, 5.878787878787879, 6.363636363636363, 6.848484848484849, 7.333333333333334, 7.818181818181818, 8.303030303030303, 8.787878787878789, 9.272727272727273, 9.757575757575758, 10.242424242424242, 10.727272727272727, 11.212121212121213, 11.696969696969697, 12.181818181818182, 12.666666666666668, 13.151515151515152, 13.636363636363637, 14.121212121212121, 14.606060606060606, 15.090909090909092, 15.575757575757576, 16.060606060606062, 16.545454545454547, 17.03030303030303, 17.515151515151516, 18.0, 18.484848484848484, 18.96969696969697, 19.454545454545453, 19.93939393939394, 20.424242424242426, 20.90909090909091, 21.393939393939394, 21.87878787878788, 22.363636363636363, 22.848484848484848, 23.333333333333336, 23.81818181818182, 24.303030303030305, 24.78787878787879, 25.272727272727273, 25.757575757575758, 26.242424242424242, 26.727272727272727, 27.21212121212121, 27.6969696969697, 28.181818181818183, 28.666666666666668, 29.151515151515152, 29.636363636363637, 30.12121212121212, 30.606060606060606, 31.090909090909093, 31.575757575757578, 32.06060606060606, 32.54545454545455, 33.03030303030303, 33.515151515151516, 34.0, 34.484848484848484, 34.96969696969697, 35.45454545454545, 35.93939393939394, 36.42424242424242, 36.90909090909091, 37.3939393939394, 37.87878787878788, 38.36363636363637, 38.84848484848485, 39.333333333333336, 39.81818181818182, 40.303030303030305, 40.78787878787879, 41.27272727272727, 41.75757575757576, 42.24242424242424, 42.72727272727273, 43.21212121212121, 43.696969696969695, 44.18181818181818, 44.66666666666667, 45.151515151515156, 45.63636363636364, 46.121212121212125, 46.60606060606061, 47.09090909090909, 47.57575757575758, 48.06060606060606, 48.54545454545455, 49.03030303030303, 49.515151515151516, 50.0], \"y\": [0.5924171385511048, 0.590228784346332, 0.5880404301415592, 0.5858520759367863, 0.5836637217320135, 0.5814753675272408, 0.579287013322468, 0.5770986591176952, 0.5749103049129224, 0.5727219507081497, 0.5705335965033769, 0.5683452422986041, 0.5661568880938312, 0.5639685338890584, 0.5617801796842857, 0.5595918254795129, 0.5574034712747401, 0.5552151170699673, 0.5530267628651946, 0.5508384086604218, 0.548650054455649, 0.5464617002508761, 0.5442733460461033, 0.5420849918413306, 0.5398966376365578, 0.537708283431785, 0.5355199292270122, 0.5333315750222394, 0.5311432208174667, 0.5289548666126939, 0.526766512407921, 0.5245781582031483, 0.5223898039983755, 0.5202014497936027, 0.5180130955888299, 0.5158247413840571, 0.5136363871792844, 0.5114480329745116, 0.5092596787697388, 0.507071324564966, 0.5048829703601931, 0.5026946161554204, 0.5005062619506476, 0.4983179077458748, 0.496129553541102, 0.49394119933632924, 0.4917528451315565, 0.48956449092678367, 0.48737613672201086, 0.4851877825172381, 0.48299942831246534, 0.4808110741076925, 0.4786227199029197, 0.4764343656981469, 0.47424601149337414, 0.4720576572886014, 0.46986930308382857, 0.46768094887905576, 0.465492594674283, 0.46330424046951024, 0.46111588626473743, 0.4589275320599646, 0.4567391778551918, 0.45455082365041904, 0.4523624694456463, 0.4501741152408735, 0.44798576103610066, 0.4457974068313279, 0.44360905262655514, 0.44142069842178233, 0.4392323442170095, 0.43704399001223676, 0.434855635807464, 0.4326672816026912, 0.4304789273979184, 0.42829057319314556, 0.4261022189883728, 0.42391386478360005, 0.42172551057882723, 0.4195371563740544, 0.41734880216928166, 0.41516044796450885, 0.4129720937597361, 0.4107837395549633, 0.40859538535019047, 0.4064070311454177, 0.40421867694064495, 0.40203032273587214, 0.3998419685310993, 0.3976536143263265, 0.39546526012155375, 0.393276905916781, 0.3910885517120082, 0.38890019750723537, 0.3867118433024626, 0.38452348909768985, 0.38233513489291704, 0.3801467806881442, 0.37795842648337147, 0.3757700722785987], \"type\": \"scatter\", \"uid\": \"543c908e-fd6a-4da8-b564-132fcae9bde8\", \"xaxis\": \"x\", \"yaxis\": \"y\"}, {\"line\": {\"color\": \"gray\"}, \"mode\": \"lines\", \"showlegend\": false, \"x\": [2.0, 2.484848484848485, 2.9696969696969697, 3.4545454545454546, 3.9393939393939394, 4.424242424242424, 4.909090909090909, 5.3939393939393945, 5.878787878787879, 6.363636363636363, 6.848484848484849, 7.333333333333334, 7.818181818181818, 8.303030303030303, 8.787878787878789, 9.272727272727273, 9.757575757575758, 10.242424242424242, 10.727272727272727, 11.212121212121213, 11.696969696969697, 12.181818181818182, 12.666666666666668, 13.151515151515152, 13.636363636363637, 14.121212121212121, 14.606060606060606, 15.090909090909092, 15.575757575757576, 16.060606060606062, 16.545454545454547, 17.03030303030303, 17.515151515151516, 18.0, 18.484848484848484, 18.96969696969697, 19.454545454545453, 19.93939393939394, 20.424242424242426, 20.90909090909091, 21.393939393939394, 21.87878787878788, 22.363636363636363, 22.848484848484848, 23.333333333333336, 23.81818181818182, 24.303030303030305, 24.78787878787879, 25.272727272727273, 25.757575757575758, 26.242424242424242, 26.727272727272727, 27.21212121212121, 27.6969696969697, 28.181818181818183, 28.666666666666668, 29.151515151515152, 29.636363636363637, 30.12121212121212, 30.606060606060606, 31.090909090909093, 31.575757575757578, 32.06060606060606, 32.54545454545455, 33.03030303030303, 33.515151515151516, 34.0, 34.484848484848484, 34.96969696969697, 35.45454545454545, 35.93939393939394, 36.42424242424242, 36.90909090909091, 37.3939393939394, 37.87878787878788, 38.36363636363637, 38.84848484848485, 39.333333333333336, 39.81818181818182, 40.303030303030305, 40.78787878787879, 41.27272727272727, 41.75757575757576, 42.24242424242424, 42.72727272727273, 43.21212121212121, 43.696969696969695, 44.18181818181818, 44.66666666666667, 45.151515151515156, 45.63636363636364, 46.121212121212125, 46.60606060606061, 47.09090909090909, 47.57575757575758, 48.06060606060606, 48.54545454545455, 49.03030303030303, 49.515151515151516, 50.0], \"y\": [0.47598851180450025, 0.4736722327808467, 0.47135595375719314, 0.4690396747335396, 0.466723395709886, 0.46440711668623247, 0.46209083766257886, 0.4597745586389253, 0.45745827961527175, 0.4551420005916182, 0.45282572156796463, 0.4505094425443111, 0.4481931635206575, 0.4458768844970039, 0.44356060547335036, 0.4412443264496968, 0.43892804742604324, 0.4366117684023897, 0.43429548937873613, 0.4319792103550826, 0.42966293133142897, 0.4273466523077754, 0.42503037328412185, 0.4227140942604683, 0.42039781523681474, 0.4180815362131612, 0.41576525718950763, 0.413448978165854, 0.41113269914220046, 0.4088164201185469, 0.40650014109489335, 0.4041838620712398, 0.40186758304758624, 0.3995513040239327, 0.3972350250002791, 0.3949187459766255, 0.39260246695297196, 0.3902861879293184, 0.38796990890566485, 0.38565362988201124, 0.38333735085835774, 0.38102107183470413, 0.3787047928110506, 0.376388513787397, 0.37407223476374346, 0.3717559557400899, 0.3694396767164363, 0.3671233976927828, 0.3648071186691292, 0.3624908396454756, 0.36017456062182207, 0.3578582815981685, 0.35554200257451496, 0.35322572355086135, 0.35090944452720785, 0.34859316550355424, 0.3462768864799007, 0.3439606074562471, 0.34164432843259357, 0.33932804940894, 0.3370117703852864, 0.3346954913616329, 0.3323792123379793, 0.33006293331432573, 0.3277466542906722, 0.3254303752670186, 0.32311409624336507, 0.32079781721971146, 0.31848153819605796, 0.31616525917240434, 0.31384898014875084, 0.31153270112509723, 0.3092164221014437, 0.3069001430777901, 0.3045838640541365, 0.30226758503048295, 0.2999513060068294, 0.29763502698317584, 0.2953187479595223, 0.29300246893586873, 0.2906861899122152, 0.28836991088856156, 0.28605363186490806, 0.28373735284125445, 0.2814210738176009, 0.27910479479394734, 0.2767885157702938, 0.27447223674664023, 0.2721559577229866, 0.26983967869933306, 0.2675233996756795, 0.26520712065202595, 0.2628908416283724, 0.2605745626047188, 0.2582582835810653, 0.2559420045574117, 0.2536257255337582, 0.25130944651010456, 0.248993167486451, 0.24667688846279745], \"type\": \"scatter\", \"uid\": \"efbf7e80-67ec-4f06-8a08-6ffde931ae1c\", \"xaxis\": \"x2\", \"yaxis\": \"y2\"}, {\"line\": {\"color\": \"gray\"}, \"mode\": \"lines\", \"showlegend\": false, \"x\": [2.0, 2.484848484848485, 2.9696969696969697, 3.4545454545454546, 3.9393939393939394, 4.424242424242424, 4.909090909090909, 5.3939393939393945, 5.878787878787879, 6.363636363636363, 6.848484848484849, 7.333333333333334, 7.818181818181818, 8.303030303030303, 8.787878787878789, 9.272727272727273, 9.757575757575758, 10.242424242424242, 10.727272727272727, 11.212121212121213, 11.696969696969697, 12.181818181818182, 12.666666666666668, 13.151515151515152, 13.636363636363637, 14.121212121212121, 14.606060606060606, 15.090909090909092, 15.575757575757576, 16.060606060606062, 16.545454545454547, 17.03030303030303, 17.515151515151516, 18.0, 18.484848484848484, 18.96969696969697, 19.454545454545453, 19.93939393939394, 20.424242424242426, 20.90909090909091, 21.393939393939394, 21.87878787878788, 22.363636363636363, 22.848484848484848, 23.333333333333336, 23.81818181818182, 24.303030303030305, 24.78787878787879, 25.272727272727273, 25.757575757575758, 26.242424242424242, 26.727272727272727, 27.21212121212121, 27.6969696969697, 28.181818181818183, 28.666666666666668, 29.151515151515152, 29.636363636363637, 30.12121212121212, 30.606060606060606, 31.090909090909093, 31.575757575757578, 32.06060606060606, 32.54545454545455, 33.03030303030303, 33.515151515151516, 34.0, 34.484848484848484, 34.96969696969697, 35.45454545454545, 35.93939393939394, 36.42424242424242, 36.90909090909091, 37.3939393939394, 37.87878787878788, 38.36363636363637, 38.84848484848485, 39.333333333333336, 39.81818181818182, 40.303030303030305, 40.78787878787879, 41.27272727272727, 41.75757575757576, 42.24242424242424, 42.72727272727273, 43.21212121212121, 43.696969696969695, 44.18181818181818, 44.66666666666667, 45.151515151515156, 45.63636363636364, 46.121212121212125, 46.60606060606061, 47.09090909090909, 47.57575757575758, 48.06060606060606, 48.54545454545455, 49.03030303030303, 49.515151515151516, 50.0], \"y\": [0.4498613318708116, 0.4475923049380039, 0.4453232780051961, 0.4430542510723884, 0.4407852241395806, 0.4385161972067729, 0.43624717027396515, 0.43397814334115736, 0.43170911640834964, 0.42944008947554185, 0.4271710625427341, 0.42490203560992634, 0.4226330086771186, 0.4203639817443109, 0.4180949548115031, 0.4158259278786954, 0.4135569009458876, 0.41128787401307987, 0.40901884708027214, 0.40674982014746436, 0.40448079321465663, 0.40221176628184885, 0.3999427393490411, 0.3976737124162334, 0.3954046854834256, 0.3931356585506179, 0.3908666316178101, 0.3885976046850024, 0.38632857775219465, 0.38405955081938686, 0.38179052388657914, 0.37952149695377135, 0.3772524700209636, 0.3749834430881559, 0.3727144161553481, 0.3704453892225404, 0.3681763622897326, 0.3659073353569249, 0.36363830842411715, 0.36136928149130937, 0.35910025455850164, 0.35683122762569386, 0.35456220069288613, 0.3522931737600784, 0.3500241468272706, 0.34775511989446284, 0.3454860929616551, 0.3432170660288474, 0.3409480390960396, 0.3386790121632319, 0.33640998523042415, 0.33414095829761636, 0.33187193136480864, 0.32960290443200085, 0.3273338774991931, 0.32506485056638534, 0.3227958236335776, 0.3205267967007699, 0.31825776976796216, 0.3159887428351544, 0.3137197159023466, 0.31145068896953887, 0.30918166203673114, 0.30691263510392336, 0.30464360817111563, 0.30237458123830785, 0.3001055543055001, 0.2978365273726924, 0.29556750043988467, 0.2932984735070769, 0.2910294465742691, 0.2887604196414614, 0.28649139270865365, 0.28422236577584586, 0.2819533388430381, 0.27968431191023035, 0.2774152849774226, 0.2751462580446149, 0.2728772311118071, 0.27060820417899933, 0.2683391772461916, 0.2660701503133839, 0.26380112338057615, 0.26153209644776837, 0.25926306951496064, 0.25699404258215286, 0.25472501564934513, 0.2524559887165374, 0.25018696178372957, 0.24791793485092187, 0.2456489079181141, 0.24337988098530636, 0.2411108540524986, 0.23884182711969087, 0.23657280018688312, 0.23430377325407536, 0.2320347463212676, 0.22976571938845988, 0.22749669245565213, 0.22522766552284437], \"type\": \"scatter\", \"uid\": \"7fa99edb-8a03-4ed0-a336-2860f6511fc6\", \"xaxis\": \"x3\", \"yaxis\": \"y3\"}, {\"line\": {\"color\": \"gray\"}, \"mode\": \"lines\", \"showlegend\": false, \"x\": [2.0, 2.484848484848485, 2.9696969696969697, 3.4545454545454546, 3.9393939393939394, 4.424242424242424, 4.909090909090909, 5.3939393939393945, 5.878787878787879, 6.363636363636363, 6.848484848484849, 7.333333333333334, 7.818181818181818, 8.303030303030303, 8.787878787878789, 9.272727272727273, 9.757575757575758, 10.242424242424242, 10.727272727272727, 11.212121212121213, 11.696969696969697, 12.181818181818182, 12.666666666666668, 13.151515151515152, 13.636363636363637, 14.121212121212121, 14.606060606060606, 15.090909090909092, 15.575757575757576, 16.060606060606062, 16.545454545454547, 17.03030303030303, 17.515151515151516, 18.0, 18.484848484848484, 18.96969696969697, 19.454545454545453, 19.93939393939394, 20.424242424242426, 20.90909090909091, 21.393939393939394, 21.87878787878788, 22.363636363636363, 22.848484848484848, 23.333333333333336, 23.81818181818182, 24.303030303030305, 24.78787878787879, 25.272727272727273, 25.757575757575758, 26.242424242424242, 26.727272727272727, 27.21212121212121, 27.6969696969697, 28.181818181818183, 28.666666666666668, 29.151515151515152, 29.636363636363637, 30.12121212121212, 30.606060606060606, 31.090909090909093, 31.575757575757578, 32.06060606060606, 32.54545454545455, 33.03030303030303, 33.515151515151516, 34.0, 34.484848484848484, 34.96969696969697, 35.45454545454545, 35.93939393939394, 36.42424242424242, 36.90909090909091, 37.3939393939394, 37.87878787878788, 38.36363636363637, 38.84848484848485, 39.333333333333336, 39.81818181818182, 40.303030303030305, 40.78787878787879, 41.27272727272727, 41.75757575757576, 42.24242424242424, 42.72727272727273, 43.21212121212121, 43.696969696969695, 44.18181818181818, 44.66666666666667, 45.151515151515156, 45.63636363636364, 46.121212121212125, 46.60606060606061, 47.09090909090909, 47.57575757575758, 48.06060606060606, 48.54545454545455, 49.03030303030303, 49.515151515151516, 50.0], \"y\": [0.20629224379168856, 0.20549393929181037, 0.20469563479193215, 0.20389733029205392, 0.20309902579217573, 0.2023007212922975, 0.20150241679241931, 0.2007041122925411, 0.1999058077926629, 0.19910750329278468, 0.19830919879290645, 0.19751089429302826, 0.19671258979315004, 0.19591428529327184, 0.19511598079339362, 0.19431767629351543, 0.1935193717936372, 0.19272106729375899, 0.1919227627938808, 0.19112445829400257, 0.19032615379412438, 0.18952784929424615, 0.18872954479436796, 0.18793124029448974, 0.18713293579461154, 0.18633463129473332, 0.1855363267948551, 0.1847380222949769, 0.18393971779509868, 0.1831414132952205, 0.18234310879534227, 0.18154480429546407, 0.18074649979558585, 0.17994819529570766, 0.17914989079582944, 0.17835158629595121, 0.17755328179607302, 0.1767549772961948, 0.1759566727963166, 0.17515836829643838, 0.17436006379656016, 0.17356175929668197, 0.17276345479680377, 0.17196515029692555, 0.17116684579704733, 0.17036854129716913, 0.1695702367972909, 0.16877193229741272, 0.1679736277975345, 0.16717532329765628, 0.16637701879777808, 0.1655787142978999, 0.16478040979802167, 0.16398210529814344, 0.16318380079826525, 0.16238549629838703, 0.16158719179850883, 0.1607888872986306, 0.1599905827987524, 0.1591922782988742, 0.15839397379899597, 0.15759566929911778, 0.15679736479923956, 0.15599906029936136, 0.15520075579948314, 0.15440245129960495, 0.15360414679972673, 0.1528058422998485, 0.1520075377999703, 0.15120923330009212, 0.1504109288002139, 0.14961262430033567, 0.14881431980045748, 0.14801601530057926, 0.14721771080070103, 0.14641940630082284, 0.14562110180094462, 0.14482279730106642, 0.1440244928011882, 0.14322618830131, 0.1424278838014318, 0.14162957930155357, 0.14083127480167537, 0.14003297030179718, 0.13923466580191896, 0.13843636130204073, 0.13763805680216254, 0.13683975230228435, 0.13604144780240612, 0.1352431433025279, 0.13444483880264968, 0.13364653430277149, 0.1328482298028933, 0.13204992530301507, 0.13125162080313685, 0.13045331630325863, 0.12965501180338043, 0.12885670730350224, 0.12805840280362402, 0.1272600983037458], \"type\": \"scatter\", \"uid\": \"3af0e19f-4165-46a3-9c2f-b2516a130729\", \"xaxis\": \"x4\", \"yaxis\": \"y4\"}, {\"line\": {\"color\": \"gray\"}, \"mode\": \"lines\", \"showlegend\": false, \"x\": [2.0, 2.484848484848485, 2.9696969696969697, 3.4545454545454546, 3.9393939393939394, 4.424242424242424, 4.909090909090909, 5.3939393939393945, 5.878787878787879, 6.363636363636363, 6.848484848484849, 7.333333333333334, 7.818181818181818, 8.303030303030303, 8.787878787878789, 9.272727272727273, 9.757575757575758, 10.242424242424242, 10.727272727272727, 11.212121212121213, 11.696969696969697, 12.181818181818182, 12.666666666666668, 13.151515151515152, 13.636363636363637, 14.121212121212121, 14.606060606060606, 15.090909090909092, 15.575757575757576, 16.060606060606062, 16.545454545454547, 17.03030303030303, 17.515151515151516, 18.0, 18.484848484848484, 18.96969696969697, 19.454545454545453, 19.93939393939394, 20.424242424242426, 20.90909090909091, 21.393939393939394, 21.87878787878788, 22.363636363636363, 22.848484848484848, 23.333333333333336, 23.81818181818182, 24.303030303030305, 24.78787878787879, 25.272727272727273, 25.757575757575758, 26.242424242424242, 26.727272727272727, 27.21212121212121, 27.6969696969697, 28.181818181818183, 28.666666666666668, 29.151515151515152, 29.636363636363637, 30.12121212121212, 30.606060606060606, 31.090909090909093, 31.575757575757578, 32.06060606060606, 32.54545454545455, 33.03030303030303, 33.515151515151516, 34.0, 34.484848484848484, 34.96969696969697, 35.45454545454545, 35.93939393939394, 36.42424242424242, 36.90909090909091, 37.3939393939394, 37.87878787878788, 38.36363636363637, 38.84848484848485, 39.333333333333336, 39.81818181818182, 40.303030303030305, 40.78787878787879, 41.27272727272727, 41.75757575757576, 42.24242424242424, 42.72727272727273, 43.21212121212121, 43.696969696969695, 44.18181818181818, 44.66666666666667, 45.151515151515156, 45.63636363636364, 46.121212121212125, 46.60606060606061, 47.09090909090909, 47.57575757575758, 48.06060606060606, 48.54545454545455, 49.03030303030303, 49.515151515151516, 50.0], \"y\": [0.36711701843972877, 0.3658712429847562, 0.36462546752978364, 0.36337969207481113, 0.36213391661983857, 0.360888141164866, 0.3596423657098935, 0.35839659025492093, 0.35715081479994837, 0.35590503934497586, 0.3546592638900033, 0.35341348843503073, 0.3521677129800582, 0.35092193752508566, 0.3496761620701131, 0.3484303866151406, 0.347184611160168, 0.34593883570519546, 0.34469306025022295, 0.3434472847952504, 0.3422015093402778, 0.3409557338853053, 0.33970995843033275, 0.3384641829753602, 0.3372184075203877, 0.3359726320654151, 0.33472685661044255, 0.33348108115547004, 0.3322353057004975, 0.3309895302455249, 0.3297437547905524, 0.32849797933557984, 0.3272522038806073, 0.32600642842563476, 0.3247606529706622, 0.32351487751568964, 0.3222691020607171, 0.32102332660574456, 0.319777551150772, 0.3185317756957995, 0.3172860002408269, 0.31604022478585436, 0.31479444933088185, 0.3135486738759093, 0.3123028984209367, 0.31105712296596416, 0.30981134751099165, 0.3085655720560191, 0.3073197966010466, 0.306074021146074, 0.30482824569110145, 0.30358247023612894, 0.3023366947811564, 0.3010909193261838, 0.2998451438712113, 0.29859936841623874, 0.2973535929612662, 0.29610781750629367, 0.2948620420513211, 0.29361626659634854, 0.29237049114137603, 0.29112471568640347, 0.2898789402314309, 0.2886331647764584, 0.28738738932148583, 0.28614161386651327, 0.28489583841154076, 0.2836500629565682, 0.28240428750159563, 0.2811585120466231, 0.27991273659165056, 0.278666961136678, 0.2774211856817055, 0.2761754102267329, 0.27492963477176036, 0.2736838593167878, 0.2724380838618153, 0.2711923084068427, 0.2699465329518702, 0.26870075749689765, 0.2674549820419251, 0.2662092065869526, 0.26496343113198, 0.26371765567700745, 0.26247188022203494, 0.2612261047670624, 0.2599803293120898, 0.2587345538571173, 0.2574887784021447, 0.25624300294717217, 0.2549972274921996, 0.2537514520372271, 0.25250567658225453, 0.251259901127282, 0.25001412567230946, 0.2487683502173369, 0.24752257476236436, 0.24627679930739182, 0.24503102385241926, 0.24378524839744672], \"type\": \"scatter\", \"uid\": \"ac32d575-e346-45d3-a68a-b0f28c738e0e\", \"xaxis\": \"x5\", \"yaxis\": \"y5\"}, {\"line\": {\"color\": \"gray\"}, \"mode\": \"lines\", \"showlegend\": false, \"x\": [2.0, 2.484848484848485, 2.9696969696969697, 3.4545454545454546, 3.9393939393939394, 4.424242424242424, 4.909090909090909, 5.3939393939393945, 5.878787878787879, 6.363636363636363, 6.848484848484849, 7.333333333333334, 7.818181818181818, 8.303030303030303, 8.787878787878789, 9.272727272727273, 9.757575757575758, 10.242424242424242, 10.727272727272727, 11.212121212121213, 11.696969696969697, 12.181818181818182, 12.666666666666668, 13.151515151515152, 13.636363636363637, 14.121212121212121, 14.606060606060606, 15.090909090909092, 15.575757575757576, 16.060606060606062, 16.545454545454547, 17.03030303030303, 17.515151515151516, 18.0, 18.484848484848484, 18.96969696969697, 19.454545454545453, 19.93939393939394, 20.424242424242426, 20.90909090909091, 21.393939393939394, 21.87878787878788, 22.363636363636363, 22.848484848484848, 23.333333333333336, 23.81818181818182, 24.303030303030305, 24.78787878787879, 25.272727272727273, 25.757575757575758, 26.242424242424242, 26.727272727272727, 27.21212121212121, 27.6969696969697, 28.181818181818183, 28.666666666666668, 29.151515151515152, 29.636363636363637, 30.12121212121212, 30.606060606060606, 31.090909090909093, 31.575757575757578, 32.06060606060606, 32.54545454545455, 33.03030303030303, 33.515151515151516, 34.0, 34.484848484848484, 34.96969696969697, 35.45454545454545, 35.93939393939394, 36.42424242424242, 36.90909090909091, 37.3939393939394, 37.87878787878788, 38.36363636363637, 38.84848484848485, 39.333333333333336, 39.81818181818182, 40.303030303030305, 40.78787878787879, 41.27272727272727, 41.75757575757576, 42.24242424242424, 42.72727272727273, 43.21212121212121, 43.696969696969695, 44.18181818181818, 44.66666666666667, 45.151515151515156, 45.63636363636364, 46.121212121212125, 46.60606060606061, 47.09090909090909, 47.57575757575758, 48.06060606060606, 48.54545454545455, 49.03030303030303, 49.515151515151516, 50.0], \"y\": [0.11503104144972158, 0.11440812499689672, 0.11378520854407184, 0.11316229209124698, 0.1125393756384221, 0.11191645918559724, 0.11129354273277238, 0.1106706262799475, 0.11004770982712264, 0.10942479337429777, 0.1088018769214729, 0.10817896046864803, 0.10755604401582317, 0.1069331275629983, 0.10631021111017343, 0.10568729465734855, 0.10506437820452369, 0.10444146175169883, 0.10381854529887395, 0.10319562884604909, 0.10257271239322421, 0.10194979594039935, 0.10132687948757449, 0.10070396303474961, 0.10008104658192474, 0.09945813012909988, 0.09883521367627501, 0.09821229722345014, 0.09758938077062528, 0.0969664643178004, 0.09634354786497554, 0.09572063141215068, 0.0950977149593258, 0.09447479850650094, 0.09385188205367606, 0.0932289656008512, 0.09260604914802634, 0.09198313269520146, 0.09136021624237659, 0.09073729978955172, 0.09011438333672686, 0.08949146688390199, 0.08886855043107712, 0.08824563397825225, 0.08762271752542738, 0.08699980107260251, 0.08637688461977765, 0.08575396816695277, 0.08513105171412791, 0.08450813526130305, 0.08388521880847817, 0.08326230235565331, 0.08263938590282843, 0.08201646945000357, 0.08139355299717871, 0.08077063654435383, 0.08014772009152896, 0.0795248036387041, 0.07890188718587923, 0.07827897073305437, 0.07765605428022948, 0.07703313782740462, 0.07641022137457976, 0.0757873049217549, 0.07516438846893002, 0.07454147201610514, 0.07391855556328028, 0.07329563911045542, 0.07267272265763056, 0.07204980620480568, 0.0714268897519808, 0.07080397329915594, 0.07018105684633108, 0.06955814039350619, 0.06893522394068133, 0.06831230748785647, 0.0676893910350316, 0.06706647458220673, 0.06644355812938185, 0.06582064167655699, 0.06519772522373213, 0.06457480877090727, 0.06395189231808239, 0.06332897586525751, 0.06270605941243265, 0.06208314295960779, 0.06146022650678292, 0.06083731005395805, 0.060214393601133176, 0.05959147714830831, 0.058968560695483445, 0.058345644242658576, 0.05772272778983371, 0.05709981133700884, 0.05647689488418397, 0.05585397843135911, 0.05523106197853424, 0.05460814552570936, 0.0539852290728845, 0.05336231262005964], \"type\": \"scatter\", \"uid\": \"4492342f-c06b-4849-baf5-5fceec01c835\", \"xaxis\": \"x6\", \"yaxis\": \"y6\"}], {\"xaxis\": {\"anchor\": \"y\", \"domain\": [0.0, 0.2888888888888889]}, \"yaxis\": {\"anchor\": \"x\", \"domain\": [0.575, 1.0], \"title\": {\"text\": \"avg Eye movement similarity index\"}}, \"xaxis2\": {\"anchor\": \"y2\", \"domain\": [0.35555555555555557, 0.6444444444444445]}, \"yaxis2\": {\"anchor\": \"x2\", \"domain\": [0.575, 1.0]}, \"xaxis3\": {\"anchor\": \"y3\", \"domain\": [0.7111111111111111, 1.0]}, \"yaxis3\": {\"anchor\": \"x3\", \"domain\": [0.575, 1.0]}, \"xaxis4\": {\"anchor\": \"y4\", \"domain\": [0.0, 0.2888888888888889]}, \"yaxis4\": {\"anchor\": \"x4\", \"domain\": [0.0, 0.425]}, \"xaxis5\": {\"anchor\": \"y5\", \"domain\": [0.35555555555555557, 0.6444444444444445], \"title\": {\"text\": \"overall individual rank in the experiment\"}}, \"yaxis5\": {\"anchor\": \"x5\", \"domain\": [0.0, 0.425]}, \"xaxis6\": {\"anchor\": \"y6\", \"domain\": [0.7111111111111111, 1.0]}, \"yaxis6\": {\"anchor\": \"x6\", \"domain\": [0.0, 0.425]}, \"font\": {\"size\": 15}, \"height\": 700, \"width\": 1000, \"legend\": {\"traceorder\": \"normal\"}, \"annotations\": [{\"showarrow\": false, \"text\": \"rsq :0.071\", \"x\": 20, \"xref\": \"x\", \"y\": 0.2, \"yref\": \"y\"}, {\"showarrow\": false, \"text\": \"rsq :0.109\", \"x\": 20, \"xref\": \"x2\", \"y\": 0.2, \"yref\": \"y2\"}, {\"showarrow\": false, \"text\": \"rsq :0.208\", \"x\": 20, \"xref\": \"x3\", \"y\": 0.2, \"yref\": \"y3\"}, {\"showarrow\": false, \"text\": \"rsq :0.034\", \"x\": 20, \"xref\": \"x4\", \"y\": 0.2, \"yref\": \"y4\"}, {\"showarrow\": false, \"text\": \"rsq :0.083\", \"x\": 20, \"xref\": \"x5\", \"y\": 0.2, \"yref\": \"y5\"}, {\"showarrow\": false, \"text\": \"rsq :0.022\", \"x\": 20, \"xref\": \"x6\", \"y\": 0.2, \"yref\": \"y6\"}]}, {\"showLink\": false, \"linkText\": \"Export to plot.ly\", \"plotlyServerURL\": \"https://plot.ly\"})});</script>"
      ],
      "text/vnd.plotly.v1+html": [
       "<div id=\"ba0c059a-2a43-4da5-9195-234eab834b83\" style=\"height: 700px; width: 1000px;\" class=\"plotly-graph-div\"></div><script type=\"text/javascript\">require([\"plotly\"], function(Plotly) { window.PLOTLYENV=window.PLOTLYENV || {};window.PLOTLYENV.BASE_URL=\"https://plot.ly\";Plotly.newPlot(\"ba0c059a-2a43-4da5-9195-234eab834b83\", [{\"line\": {\"width\": 2}, \"marker\": {\"opacity\": 0.3}, \"mode\": \"markers\", \"name\": \"Target load : 3.0\", \"x\": [2, 3, 4, 5, 6, 7, 8, 9, 10, 11, 12, 13, 14, 15, 16, 17, 18, 19, 20, 21, 22, 23, 24, 25, 26, 27, 28, 29, 30, 31, 32, 33, 34, 35, 36, 37, 38, 39, 40, 41, 42, 43, 44, 45, 46, 47, 48, 49, 50], \"y\": [0.5548859433197099, 0.568435477217878, 0.5647524543198509, 0.5924107559051078, 0.5323157753471266, 0.5987505317912161, 0.659036550069455, 0.5297844365729895, 0.5547407941106166, 0.4760760123307683, 0.5845408642547768, 0.6216997036000413, 0.60322975429475, 0.6097524871882534, 0.6418849617877727, 0.5778668320917643, 0.5995177257127597, 0.5361566614649305, 0.6066886671579873, 0.6112308936182782, 0.4973178615737778, 0.5749885950434391, 0.5927906884310964, 0.6754353451729136, 0.5593194134497604, 0.6151324923032552, 0.648345635762586, 0.6097658222545549, 0.5851362795412405, 0.547533967864396, 0.02701986118341188, 0.030406128841431974, -0.044355274181290844, -0.2091233260360321, 0.005865214050804809, -0.049520400445956, -0.09805221717728195, -0.017879337357710984, 0.5673725493864233, 0.6283030247938755, 0.6713506671155601, 0.6764025779858639, 0.6174340840843814, 0.5620173138608952, 0.5502121324615853, 0.5749736561341531, 0.5536007201424223, 0.6162973808845154, 0.5287385260476242], \"type\": \"scatter\", \"uid\": \"33551c20-6192-4f5b-a07f-1415da63bf50\", \"xaxis\": \"x\", \"yaxis\": \"y\"}, {\"line\": {\"width\": 2}, \"marker\": {\"opacity\": 0.3}, \"mode\": \"markers\", \"name\": \"Target load : 4.0\", \"x\": [2, 3, 4, 5, 6, 7, 8, 9, 10, 11, 12, 13, 14, 15, 16, 17, 18, 19, 20, 21, 22, 23, 24, 25, 26, 27, 28, 29, 30, 31, 32, 33, 34, 35, 36, 37, 38, 39, 40, 41, 42, 43, 44, 45, 46, 47, 48, 49, 50], \"y\": [0.4970178522122124, 0.480828143007932, 0.4052860514439584, 0.47868313199106155, 0.45700663353301635, 0.5348931960734511, 0.4553424190134326, 0.5208174728839091, 0.3217346098883128, 0.3769916015571277, 0.3203409612705865, 0.35684135116384, 0.46139426144355494, 0.45146507602259595, 0.4948132882217955, 0.602950500856552, 0.5429194289967622, 0.4807526112749241, 0.4902249516363608, 0.4706441958515022, 0.3402885230787321, 0.4105850813920894, 0.5159720655745614, 0.47843439185802994, 0.4086075235096506, 0.42462647337278187, 0.40596214619690946, 0.4099553664893799, 0.5150525970719952, 0.47214812591420885, -0.07543753807202608, 0.018351618209794526, -0.002530589775828637, -0.12073953464542567, 0.011610019950479632, -0.004568624756090003, -0.24054991494361722, -0.15077609650885787, 0.3047515254050882, 0.3992305636330312, 0.4843477777874864, 0.5325736038064421, 0.4830779478852462, 0.47126449116932206, 0.36202975029192, 0.5244916610287261, 0.4500943053788819, 0.3503661694004858, 0.32513513850251574], \"type\": \"scatter\", \"uid\": \"579a9f7b-803b-4d64-84dd-37004bb551df\", \"xaxis\": \"x2\", \"yaxis\": \"y2\"}, {\"line\": {\"width\": 2}, \"marker\": {\"opacity\": 0.3}, \"mode\": \"markers\", \"name\": \"Target load : 5.0\", \"x\": [2, 3, 4, 5, 6, 7, 8, 9, 10, 11, 12, 13, 14, 15, 16, 17, 18, 19, 20, 21, 22, 23, 24, 25, 26, 27, 28, 29, 30, 31, 32, 33, 34, 35, 36, 37, 38, 39, 40, 41, 42, 43, 44, 45, 46, 47, 48, 49, 50], \"y\": [0.451315742928606, 0.4820586366539792, 0.3740461711324229, 0.44320834694657324, 0.33598682769383786, 0.4572498516920919, 0.5096684296193977, 0.4428469780283893, 0.4603199949448384, 0.3190194971050415, 0.3593926628112508, 0.3426554484582498, 0.3851182116190871, 0.5043279563826795, 0.5216753506570754, 0.3417294273442959, 0.42087790389190294, 0.28024553302896754, 0.35944441230349367, 0.44962634432022086, 0.48904317993893603, 0.27785529398783726, 0.48724918085997243, 0.4699767886623295, 0.37270591300169004, 0.29538569531562925, 0.43805718382334524, 0.4343915534970458, 0.38026448884425157, 0.42243013961182574, 0.1893553461375586, 0.06694097700854285, 0.12589583412581906, -0.0050505898476264355, 0.1275472586958114, -0.1152971542585329, -0.003233923523254873, 0.17438575947250495, 0.29509668258683264, 0.3377528451469111, 0.4552950216371965, 0.41671119823041064, 0.38268160848734734, 0.3177773439044599, 0.14162367605300155, 0.4072480405299264, 0.333968716410104, 0.35356896606640786, 0.22923968417588764], \"type\": \"scatter\", \"uid\": \"ec7aaca5-0ceb-4e03-ad05-ca9a38e3f311\", \"xaxis\": \"x3\", \"yaxis\": \"y3\"}, {\"line\": {\"width\": 2}, \"marker\": {\"opacity\": 0.3}, \"mode\": \"markers\", \"name\": \"Target load : 6.0\", \"x\": [2, 3, 4, 5, 6, 7, 8, 9, 10, 11, 12, 13, 14, 15, 16, 17, 18, 19, 20, 21, 22, 23, 24, 25, 26, 27, 28, 29, 30, 31, 32, 33, 34, 35, 36, 37, 38, 39, 40, 41, 42, 43, 44, 45, 46, 47, 48, 49, 50], \"y\": [0.29173943936806696, 0.1641611386772898, 0.22631730981590656, 0.18618822532369972, 0.13694395237585555, 0.27596843663011106, 0.1830309356483044, 0.24201264801113256, 0.12379946839199019, 0.12650260767994567, 0.21337031381540308, 0.25013867698038117, 0.2346732276449276, 0.20064097754940402, 0.39482174545681264, 0.16781685872266133, 0.12687238779053678, 0.14129991255549706, 0.12219222071870148, 0.2227857368173965, 0.2839850545360246, 0.05735501214628069, 0.16831371164460635, 0.33422791506867705, 0.22366333392927198, 0.12373013426559502, 0.2083722081601423, 0.28835285133652244, 0.19867178334756336, 0.2982532986582881, 0.18900405516985036, -0.11584540987523914, -0.11722153137087357, -0.11721952787334838, 0.03466219576009612, -0.14224760498390068, -0.07845483048586671, -0.007572534578359352, 0.2006564854442383, 0.12321510191503646, 0.1537117686918656, 0.11772253057810292, 0.2967391256658173, 0.04880509416476325, 0.18203725185594277, 0.40019216339589514, 0.22601245626633865, 0.29605908200260556, 0.2655749865281856], \"type\": \"scatter\", \"uid\": \"ba78456c-1c66-4acc-a930-be6ff86c4da8\", \"xaxis\": \"x4\", \"yaxis\": \"y4\"}, {\"line\": {\"width\": 2}, \"marker\": {\"opacity\": 0.3}, \"mode\": \"markers\", \"name\": \"Target load : 7.0\", \"x\": [2, 3, 4, 5, 6, 7, 8, 9, 10, 11, 12, 13, 14, 15, 16, 17, 18, 19, 20, 21, 22, 23, 24, 25, 26, 27, 28, 29, 30, 31, 32, 33, 34, 35, 36, 37, 38, 39, 40, 41, 42, 43, 44, 45, 46, 47, 48, 49, 50], \"y\": [0.28590047894948395, 0.434750787715638, 0.42705275394004344, 0.35818332235000366, 0.31740656676147194, 0.44270386584759475, 0.46347090260518414, 0.3445070618423817, 0.3642893876847676, 0.18999535722255234, 0.28302369779631964, 0.28906014818731446, 0.31020852260304427, 0.3914359532571889, 0.41355231708283735, 0.327998204779673, 0.40793072833009897, 0.3282082433886047, 0.39179368264481784, 0.4845528384633983, 0.36725406374164327, 0.32029491417154465, 0.36637491698529834, 0.32754943735313996, 0.4202651290410714, 0.37384158844217, 0.2488624529732957, 0.3799590307652283, 0.2715852128606337, 0.29122818383354454, 0.01950040721817053, 0.09455022929773224, -0.05912657218471851, 0.13857952228149598, 0.1390117069765168, 0.19587246539393324, 0.03188404683314327, -0.009512811779261426, 0.33302968171449443, 0.18703611525947858, 0.4378336597371188, 0.33289483543092474, 0.29512390632073676, 0.3421025057028109, 0.3157149362218891, 0.41002558632713487, 0.4633093979334901, 0.302471700298135, 0.3735644669075859], \"type\": \"scatter\", \"uid\": \"340a48bf-b415-48ca-a8d3-e2f0d461c9e3\", \"xaxis\": \"x5\", \"yaxis\": \"y5\"}, {\"line\": {\"width\": 2}, \"marker\": {\"opacity\": 0.3}, \"mode\": \"markers\", \"name\": \"Target load : 8.0\", \"x\": [2, 3, 4, 5, 6, 7, 8, 9, 10, 11, 12, 13, 14, 15, 16, 17, 18, 19, 20, 21, 22, 23, 24, 25, 26, 27, 28, 29, 30, 31, 32, 33, 34, 35, 36, 37, 38, 39, 40, 41, 42, 43, 44, 45, 46, 47, 48, 49, 50], \"y\": [0.06132591977682743, 0.18913400119546867, -0.014703932422363307, 0.17163399011738403, 0.09751636592991372, 0.07058991376323173, 0.23117412556784417, 0.34932486925255435, 0.07831557826770548, 0.057268466469900206, 0.01827313963840699, -0.12901888906201917, 0.13209897337898346, 0.3456197577947575, -0.02659772990906257, 0.08984718776285061, 0.010158644614610173, 0.2042650915908916, 0.12170175415423416, 0.02907197643026424, 0.1356286201991842, 0.12512686612918014, -0.004123451477269939, 0.1475578510093205, 0.16809769112071019, 0.04919661416163698, 0.19590839836865184, 0.29503485327250295, -0.028139082757544405, 0.15537718878384724, 0.23812072025581732, -0.07951352336499684, -0.006055107869151886, -0.2065390920546577, 0.04137319270327866, -0.12401936893854348, -0.10704088314714813, -0.14973343136433093, 0.0030431475186686215, 0.15381917949626542, 0.06021687752141669, 0.08153146548159904, 0.16745883939194847, 0.055917007715766756, 0.13028752527461007, 0.19463638853122356, 0.2349314677785463, 0.09694295367240033, 0.0135950629843193], \"type\": \"scatter\", \"uid\": \"b659cf88-ee5f-4f76-86d5-ce2b090e67ec\", \"xaxis\": \"x6\", \"yaxis\": \"y6\"}, {\"line\": {\"color\": \"gray\"}, \"mode\": \"lines\", \"showlegend\": false, \"x\": [2.0, 2.484848484848485, 2.9696969696969697, 3.4545454545454546, 3.9393939393939394, 4.424242424242424, 4.909090909090909, 5.3939393939393945, 5.878787878787879, 6.363636363636363, 6.848484848484849, 7.333333333333334, 7.818181818181818, 8.303030303030303, 8.787878787878789, 9.272727272727273, 9.757575757575758, 10.242424242424242, 10.727272727272727, 11.212121212121213, 11.696969696969697, 12.181818181818182, 12.666666666666668, 13.151515151515152, 13.636363636363637, 14.121212121212121, 14.606060606060606, 15.090909090909092, 15.575757575757576, 16.060606060606062, 16.545454545454547, 17.03030303030303, 17.515151515151516, 18.0, 18.484848484848484, 18.96969696969697, 19.454545454545453, 19.93939393939394, 20.424242424242426, 20.90909090909091, 21.393939393939394, 21.87878787878788, 22.363636363636363, 22.848484848484848, 23.333333333333336, 23.81818181818182, 24.303030303030305, 24.78787878787879, 25.272727272727273, 25.757575757575758, 26.242424242424242, 26.727272727272727, 27.21212121212121, 27.6969696969697, 28.181818181818183, 28.666666666666668, 29.151515151515152, 29.636363636363637, 30.12121212121212, 30.606060606060606, 31.090909090909093, 31.575757575757578, 32.06060606060606, 32.54545454545455, 33.03030303030303, 33.515151515151516, 34.0, 34.484848484848484, 34.96969696969697, 35.45454545454545, 35.93939393939394, 36.42424242424242, 36.90909090909091, 37.3939393939394, 37.87878787878788, 38.36363636363637, 38.84848484848485, 39.333333333333336, 39.81818181818182, 40.303030303030305, 40.78787878787879, 41.27272727272727, 41.75757575757576, 42.24242424242424, 42.72727272727273, 43.21212121212121, 43.696969696969695, 44.18181818181818, 44.66666666666667, 45.151515151515156, 45.63636363636364, 46.121212121212125, 46.60606060606061, 47.09090909090909, 47.57575757575758, 48.06060606060606, 48.54545454545455, 49.03030303030303, 49.515151515151516, 50.0], \"y\": [0.5924171385511048, 0.590228784346332, 0.5880404301415592, 0.5858520759367863, 0.5836637217320135, 0.5814753675272408, 0.579287013322468, 0.5770986591176952, 0.5749103049129224, 0.5727219507081497, 0.5705335965033769, 0.5683452422986041, 0.5661568880938312, 0.5639685338890584, 0.5617801796842857, 0.5595918254795129, 0.5574034712747401, 0.5552151170699673, 0.5530267628651946, 0.5508384086604218, 0.548650054455649, 0.5464617002508761, 0.5442733460461033, 0.5420849918413306, 0.5398966376365578, 0.537708283431785, 0.5355199292270122, 0.5333315750222394, 0.5311432208174667, 0.5289548666126939, 0.526766512407921, 0.5245781582031483, 0.5223898039983755, 0.5202014497936027, 0.5180130955888299, 0.5158247413840571, 0.5136363871792844, 0.5114480329745116, 0.5092596787697388, 0.507071324564966, 0.5048829703601931, 0.5026946161554204, 0.5005062619506476, 0.4983179077458748, 0.496129553541102, 0.49394119933632924, 0.4917528451315565, 0.48956449092678367, 0.48737613672201086, 0.4851877825172381, 0.48299942831246534, 0.4808110741076925, 0.4786227199029197, 0.4764343656981469, 0.47424601149337414, 0.4720576572886014, 0.46986930308382857, 0.46768094887905576, 0.465492594674283, 0.46330424046951024, 0.46111588626473743, 0.4589275320599646, 0.4567391778551918, 0.45455082365041904, 0.4523624694456463, 0.4501741152408735, 0.44798576103610066, 0.4457974068313279, 0.44360905262655514, 0.44142069842178233, 0.4392323442170095, 0.43704399001223676, 0.434855635807464, 0.4326672816026912, 0.4304789273979184, 0.42829057319314556, 0.4261022189883728, 0.42391386478360005, 0.42172551057882723, 0.4195371563740544, 0.41734880216928166, 0.41516044796450885, 0.4129720937597361, 0.4107837395549633, 0.40859538535019047, 0.4064070311454177, 0.40421867694064495, 0.40203032273587214, 0.3998419685310993, 0.3976536143263265, 0.39546526012155375, 0.393276905916781, 0.3910885517120082, 0.38890019750723537, 0.3867118433024626, 0.38452348909768985, 0.38233513489291704, 0.3801467806881442, 0.37795842648337147, 0.3757700722785987], \"type\": \"scatter\", \"uid\": \"543c908e-fd6a-4da8-b564-132fcae9bde8\", \"xaxis\": \"x\", \"yaxis\": \"y\"}, {\"line\": {\"color\": \"gray\"}, \"mode\": \"lines\", \"showlegend\": false, \"x\": [2.0, 2.484848484848485, 2.9696969696969697, 3.4545454545454546, 3.9393939393939394, 4.424242424242424, 4.909090909090909, 5.3939393939393945, 5.878787878787879, 6.363636363636363, 6.848484848484849, 7.333333333333334, 7.818181818181818, 8.303030303030303, 8.787878787878789, 9.272727272727273, 9.757575757575758, 10.242424242424242, 10.727272727272727, 11.212121212121213, 11.696969696969697, 12.181818181818182, 12.666666666666668, 13.151515151515152, 13.636363636363637, 14.121212121212121, 14.606060606060606, 15.090909090909092, 15.575757575757576, 16.060606060606062, 16.545454545454547, 17.03030303030303, 17.515151515151516, 18.0, 18.484848484848484, 18.96969696969697, 19.454545454545453, 19.93939393939394, 20.424242424242426, 20.90909090909091, 21.393939393939394, 21.87878787878788, 22.363636363636363, 22.848484848484848, 23.333333333333336, 23.81818181818182, 24.303030303030305, 24.78787878787879, 25.272727272727273, 25.757575757575758, 26.242424242424242, 26.727272727272727, 27.21212121212121, 27.6969696969697, 28.181818181818183, 28.666666666666668, 29.151515151515152, 29.636363636363637, 30.12121212121212, 30.606060606060606, 31.090909090909093, 31.575757575757578, 32.06060606060606, 32.54545454545455, 33.03030303030303, 33.515151515151516, 34.0, 34.484848484848484, 34.96969696969697, 35.45454545454545, 35.93939393939394, 36.42424242424242, 36.90909090909091, 37.3939393939394, 37.87878787878788, 38.36363636363637, 38.84848484848485, 39.333333333333336, 39.81818181818182, 40.303030303030305, 40.78787878787879, 41.27272727272727, 41.75757575757576, 42.24242424242424, 42.72727272727273, 43.21212121212121, 43.696969696969695, 44.18181818181818, 44.66666666666667, 45.151515151515156, 45.63636363636364, 46.121212121212125, 46.60606060606061, 47.09090909090909, 47.57575757575758, 48.06060606060606, 48.54545454545455, 49.03030303030303, 49.515151515151516, 50.0], \"y\": [0.47598851180450025, 0.4736722327808467, 0.47135595375719314, 0.4690396747335396, 0.466723395709886, 0.46440711668623247, 0.46209083766257886, 0.4597745586389253, 0.45745827961527175, 0.4551420005916182, 0.45282572156796463, 0.4505094425443111, 0.4481931635206575, 0.4458768844970039, 0.44356060547335036, 0.4412443264496968, 0.43892804742604324, 0.4366117684023897, 0.43429548937873613, 0.4319792103550826, 0.42966293133142897, 0.4273466523077754, 0.42503037328412185, 0.4227140942604683, 0.42039781523681474, 0.4180815362131612, 0.41576525718950763, 0.413448978165854, 0.41113269914220046, 0.4088164201185469, 0.40650014109489335, 0.4041838620712398, 0.40186758304758624, 0.3995513040239327, 0.3972350250002791, 0.3949187459766255, 0.39260246695297196, 0.3902861879293184, 0.38796990890566485, 0.38565362988201124, 0.38333735085835774, 0.38102107183470413, 0.3787047928110506, 0.376388513787397, 0.37407223476374346, 0.3717559557400899, 0.3694396767164363, 0.3671233976927828, 0.3648071186691292, 0.3624908396454756, 0.36017456062182207, 0.3578582815981685, 0.35554200257451496, 0.35322572355086135, 0.35090944452720785, 0.34859316550355424, 0.3462768864799007, 0.3439606074562471, 0.34164432843259357, 0.33932804940894, 0.3370117703852864, 0.3346954913616329, 0.3323792123379793, 0.33006293331432573, 0.3277466542906722, 0.3254303752670186, 0.32311409624336507, 0.32079781721971146, 0.31848153819605796, 0.31616525917240434, 0.31384898014875084, 0.31153270112509723, 0.3092164221014437, 0.3069001430777901, 0.3045838640541365, 0.30226758503048295, 0.2999513060068294, 0.29763502698317584, 0.2953187479595223, 0.29300246893586873, 0.2906861899122152, 0.28836991088856156, 0.28605363186490806, 0.28373735284125445, 0.2814210738176009, 0.27910479479394734, 0.2767885157702938, 0.27447223674664023, 0.2721559577229866, 0.26983967869933306, 0.2675233996756795, 0.26520712065202595, 0.2628908416283724, 0.2605745626047188, 0.2582582835810653, 0.2559420045574117, 0.2536257255337582, 0.25130944651010456, 0.248993167486451, 0.24667688846279745], \"type\": \"scatter\", \"uid\": \"efbf7e80-67ec-4f06-8a08-6ffde931ae1c\", \"xaxis\": \"x2\", \"yaxis\": \"y2\"}, {\"line\": {\"color\": \"gray\"}, \"mode\": \"lines\", \"showlegend\": false, \"x\": [2.0, 2.484848484848485, 2.9696969696969697, 3.4545454545454546, 3.9393939393939394, 4.424242424242424, 4.909090909090909, 5.3939393939393945, 5.878787878787879, 6.363636363636363, 6.848484848484849, 7.333333333333334, 7.818181818181818, 8.303030303030303, 8.787878787878789, 9.272727272727273, 9.757575757575758, 10.242424242424242, 10.727272727272727, 11.212121212121213, 11.696969696969697, 12.181818181818182, 12.666666666666668, 13.151515151515152, 13.636363636363637, 14.121212121212121, 14.606060606060606, 15.090909090909092, 15.575757575757576, 16.060606060606062, 16.545454545454547, 17.03030303030303, 17.515151515151516, 18.0, 18.484848484848484, 18.96969696969697, 19.454545454545453, 19.93939393939394, 20.424242424242426, 20.90909090909091, 21.393939393939394, 21.87878787878788, 22.363636363636363, 22.848484848484848, 23.333333333333336, 23.81818181818182, 24.303030303030305, 24.78787878787879, 25.272727272727273, 25.757575757575758, 26.242424242424242, 26.727272727272727, 27.21212121212121, 27.6969696969697, 28.181818181818183, 28.666666666666668, 29.151515151515152, 29.636363636363637, 30.12121212121212, 30.606060606060606, 31.090909090909093, 31.575757575757578, 32.06060606060606, 32.54545454545455, 33.03030303030303, 33.515151515151516, 34.0, 34.484848484848484, 34.96969696969697, 35.45454545454545, 35.93939393939394, 36.42424242424242, 36.90909090909091, 37.3939393939394, 37.87878787878788, 38.36363636363637, 38.84848484848485, 39.333333333333336, 39.81818181818182, 40.303030303030305, 40.78787878787879, 41.27272727272727, 41.75757575757576, 42.24242424242424, 42.72727272727273, 43.21212121212121, 43.696969696969695, 44.18181818181818, 44.66666666666667, 45.151515151515156, 45.63636363636364, 46.121212121212125, 46.60606060606061, 47.09090909090909, 47.57575757575758, 48.06060606060606, 48.54545454545455, 49.03030303030303, 49.515151515151516, 50.0], \"y\": [0.4498613318708116, 0.4475923049380039, 0.4453232780051961, 0.4430542510723884, 0.4407852241395806, 0.4385161972067729, 0.43624717027396515, 0.43397814334115736, 0.43170911640834964, 0.42944008947554185, 0.4271710625427341, 0.42490203560992634, 0.4226330086771186, 0.4203639817443109, 0.4180949548115031, 0.4158259278786954, 0.4135569009458876, 0.41128787401307987, 0.40901884708027214, 0.40674982014746436, 0.40448079321465663, 0.40221176628184885, 0.3999427393490411, 0.3976737124162334, 0.3954046854834256, 0.3931356585506179, 0.3908666316178101, 0.3885976046850024, 0.38632857775219465, 0.38405955081938686, 0.38179052388657914, 0.37952149695377135, 0.3772524700209636, 0.3749834430881559, 0.3727144161553481, 0.3704453892225404, 0.3681763622897326, 0.3659073353569249, 0.36363830842411715, 0.36136928149130937, 0.35910025455850164, 0.35683122762569386, 0.35456220069288613, 0.3522931737600784, 0.3500241468272706, 0.34775511989446284, 0.3454860929616551, 0.3432170660288474, 0.3409480390960396, 0.3386790121632319, 0.33640998523042415, 0.33414095829761636, 0.33187193136480864, 0.32960290443200085, 0.3273338774991931, 0.32506485056638534, 0.3227958236335776, 0.3205267967007699, 0.31825776976796216, 0.3159887428351544, 0.3137197159023466, 0.31145068896953887, 0.30918166203673114, 0.30691263510392336, 0.30464360817111563, 0.30237458123830785, 0.3001055543055001, 0.2978365273726924, 0.29556750043988467, 0.2932984735070769, 0.2910294465742691, 0.2887604196414614, 0.28649139270865365, 0.28422236577584586, 0.2819533388430381, 0.27968431191023035, 0.2774152849774226, 0.2751462580446149, 0.2728772311118071, 0.27060820417899933, 0.2683391772461916, 0.2660701503133839, 0.26380112338057615, 0.26153209644776837, 0.25926306951496064, 0.25699404258215286, 0.25472501564934513, 0.2524559887165374, 0.25018696178372957, 0.24791793485092187, 0.2456489079181141, 0.24337988098530636, 0.2411108540524986, 0.23884182711969087, 0.23657280018688312, 0.23430377325407536, 0.2320347463212676, 0.22976571938845988, 0.22749669245565213, 0.22522766552284437], \"type\": \"scatter\", \"uid\": \"7fa99edb-8a03-4ed0-a336-2860f6511fc6\", \"xaxis\": \"x3\", \"yaxis\": \"y3\"}, {\"line\": {\"color\": \"gray\"}, \"mode\": \"lines\", \"showlegend\": false, \"x\": [2.0, 2.484848484848485, 2.9696969696969697, 3.4545454545454546, 3.9393939393939394, 4.424242424242424, 4.909090909090909, 5.3939393939393945, 5.878787878787879, 6.363636363636363, 6.848484848484849, 7.333333333333334, 7.818181818181818, 8.303030303030303, 8.787878787878789, 9.272727272727273, 9.757575757575758, 10.242424242424242, 10.727272727272727, 11.212121212121213, 11.696969696969697, 12.181818181818182, 12.666666666666668, 13.151515151515152, 13.636363636363637, 14.121212121212121, 14.606060606060606, 15.090909090909092, 15.575757575757576, 16.060606060606062, 16.545454545454547, 17.03030303030303, 17.515151515151516, 18.0, 18.484848484848484, 18.96969696969697, 19.454545454545453, 19.93939393939394, 20.424242424242426, 20.90909090909091, 21.393939393939394, 21.87878787878788, 22.363636363636363, 22.848484848484848, 23.333333333333336, 23.81818181818182, 24.303030303030305, 24.78787878787879, 25.272727272727273, 25.757575757575758, 26.242424242424242, 26.727272727272727, 27.21212121212121, 27.6969696969697, 28.181818181818183, 28.666666666666668, 29.151515151515152, 29.636363636363637, 30.12121212121212, 30.606060606060606, 31.090909090909093, 31.575757575757578, 32.06060606060606, 32.54545454545455, 33.03030303030303, 33.515151515151516, 34.0, 34.484848484848484, 34.96969696969697, 35.45454545454545, 35.93939393939394, 36.42424242424242, 36.90909090909091, 37.3939393939394, 37.87878787878788, 38.36363636363637, 38.84848484848485, 39.333333333333336, 39.81818181818182, 40.303030303030305, 40.78787878787879, 41.27272727272727, 41.75757575757576, 42.24242424242424, 42.72727272727273, 43.21212121212121, 43.696969696969695, 44.18181818181818, 44.66666666666667, 45.151515151515156, 45.63636363636364, 46.121212121212125, 46.60606060606061, 47.09090909090909, 47.57575757575758, 48.06060606060606, 48.54545454545455, 49.03030303030303, 49.515151515151516, 50.0], \"y\": [0.20629224379168856, 0.20549393929181037, 0.20469563479193215, 0.20389733029205392, 0.20309902579217573, 0.2023007212922975, 0.20150241679241931, 0.2007041122925411, 0.1999058077926629, 0.19910750329278468, 0.19830919879290645, 0.19751089429302826, 0.19671258979315004, 0.19591428529327184, 0.19511598079339362, 0.19431767629351543, 0.1935193717936372, 0.19272106729375899, 0.1919227627938808, 0.19112445829400257, 0.19032615379412438, 0.18952784929424615, 0.18872954479436796, 0.18793124029448974, 0.18713293579461154, 0.18633463129473332, 0.1855363267948551, 0.1847380222949769, 0.18393971779509868, 0.1831414132952205, 0.18234310879534227, 0.18154480429546407, 0.18074649979558585, 0.17994819529570766, 0.17914989079582944, 0.17835158629595121, 0.17755328179607302, 0.1767549772961948, 0.1759566727963166, 0.17515836829643838, 0.17436006379656016, 0.17356175929668197, 0.17276345479680377, 0.17196515029692555, 0.17116684579704733, 0.17036854129716913, 0.1695702367972909, 0.16877193229741272, 0.1679736277975345, 0.16717532329765628, 0.16637701879777808, 0.1655787142978999, 0.16478040979802167, 0.16398210529814344, 0.16318380079826525, 0.16238549629838703, 0.16158719179850883, 0.1607888872986306, 0.1599905827987524, 0.1591922782988742, 0.15839397379899597, 0.15759566929911778, 0.15679736479923956, 0.15599906029936136, 0.15520075579948314, 0.15440245129960495, 0.15360414679972673, 0.1528058422998485, 0.1520075377999703, 0.15120923330009212, 0.1504109288002139, 0.14961262430033567, 0.14881431980045748, 0.14801601530057926, 0.14721771080070103, 0.14641940630082284, 0.14562110180094462, 0.14482279730106642, 0.1440244928011882, 0.14322618830131, 0.1424278838014318, 0.14162957930155357, 0.14083127480167537, 0.14003297030179718, 0.13923466580191896, 0.13843636130204073, 0.13763805680216254, 0.13683975230228435, 0.13604144780240612, 0.1352431433025279, 0.13444483880264968, 0.13364653430277149, 0.1328482298028933, 0.13204992530301507, 0.13125162080313685, 0.13045331630325863, 0.12965501180338043, 0.12885670730350224, 0.12805840280362402, 0.1272600983037458], \"type\": \"scatter\", \"uid\": \"3af0e19f-4165-46a3-9c2f-b2516a130729\", \"xaxis\": \"x4\", \"yaxis\": \"y4\"}, {\"line\": {\"color\": \"gray\"}, \"mode\": \"lines\", \"showlegend\": false, \"x\": [2.0, 2.484848484848485, 2.9696969696969697, 3.4545454545454546, 3.9393939393939394, 4.424242424242424, 4.909090909090909, 5.3939393939393945, 5.878787878787879, 6.363636363636363, 6.848484848484849, 7.333333333333334, 7.818181818181818, 8.303030303030303, 8.787878787878789, 9.272727272727273, 9.757575757575758, 10.242424242424242, 10.727272727272727, 11.212121212121213, 11.696969696969697, 12.181818181818182, 12.666666666666668, 13.151515151515152, 13.636363636363637, 14.121212121212121, 14.606060606060606, 15.090909090909092, 15.575757575757576, 16.060606060606062, 16.545454545454547, 17.03030303030303, 17.515151515151516, 18.0, 18.484848484848484, 18.96969696969697, 19.454545454545453, 19.93939393939394, 20.424242424242426, 20.90909090909091, 21.393939393939394, 21.87878787878788, 22.363636363636363, 22.848484848484848, 23.333333333333336, 23.81818181818182, 24.303030303030305, 24.78787878787879, 25.272727272727273, 25.757575757575758, 26.242424242424242, 26.727272727272727, 27.21212121212121, 27.6969696969697, 28.181818181818183, 28.666666666666668, 29.151515151515152, 29.636363636363637, 30.12121212121212, 30.606060606060606, 31.090909090909093, 31.575757575757578, 32.06060606060606, 32.54545454545455, 33.03030303030303, 33.515151515151516, 34.0, 34.484848484848484, 34.96969696969697, 35.45454545454545, 35.93939393939394, 36.42424242424242, 36.90909090909091, 37.3939393939394, 37.87878787878788, 38.36363636363637, 38.84848484848485, 39.333333333333336, 39.81818181818182, 40.303030303030305, 40.78787878787879, 41.27272727272727, 41.75757575757576, 42.24242424242424, 42.72727272727273, 43.21212121212121, 43.696969696969695, 44.18181818181818, 44.66666666666667, 45.151515151515156, 45.63636363636364, 46.121212121212125, 46.60606060606061, 47.09090909090909, 47.57575757575758, 48.06060606060606, 48.54545454545455, 49.03030303030303, 49.515151515151516, 50.0], \"y\": [0.36711701843972877, 0.3658712429847562, 0.36462546752978364, 0.36337969207481113, 0.36213391661983857, 0.360888141164866, 0.3596423657098935, 0.35839659025492093, 0.35715081479994837, 0.35590503934497586, 0.3546592638900033, 0.35341348843503073, 0.3521677129800582, 0.35092193752508566, 0.3496761620701131, 0.3484303866151406, 0.347184611160168, 0.34593883570519546, 0.34469306025022295, 0.3434472847952504, 0.3422015093402778, 0.3409557338853053, 0.33970995843033275, 0.3384641829753602, 0.3372184075203877, 0.3359726320654151, 0.33472685661044255, 0.33348108115547004, 0.3322353057004975, 0.3309895302455249, 0.3297437547905524, 0.32849797933557984, 0.3272522038806073, 0.32600642842563476, 0.3247606529706622, 0.32351487751568964, 0.3222691020607171, 0.32102332660574456, 0.319777551150772, 0.3185317756957995, 0.3172860002408269, 0.31604022478585436, 0.31479444933088185, 0.3135486738759093, 0.3123028984209367, 0.31105712296596416, 0.30981134751099165, 0.3085655720560191, 0.3073197966010466, 0.306074021146074, 0.30482824569110145, 0.30358247023612894, 0.3023366947811564, 0.3010909193261838, 0.2998451438712113, 0.29859936841623874, 0.2973535929612662, 0.29610781750629367, 0.2948620420513211, 0.29361626659634854, 0.29237049114137603, 0.29112471568640347, 0.2898789402314309, 0.2886331647764584, 0.28738738932148583, 0.28614161386651327, 0.28489583841154076, 0.2836500629565682, 0.28240428750159563, 0.2811585120466231, 0.27991273659165056, 0.278666961136678, 0.2774211856817055, 0.2761754102267329, 0.27492963477176036, 0.2736838593167878, 0.2724380838618153, 0.2711923084068427, 0.2699465329518702, 0.26870075749689765, 0.2674549820419251, 0.2662092065869526, 0.26496343113198, 0.26371765567700745, 0.26247188022203494, 0.2612261047670624, 0.2599803293120898, 0.2587345538571173, 0.2574887784021447, 0.25624300294717217, 0.2549972274921996, 0.2537514520372271, 0.25250567658225453, 0.251259901127282, 0.25001412567230946, 0.2487683502173369, 0.24752257476236436, 0.24627679930739182, 0.24503102385241926, 0.24378524839744672], \"type\": \"scatter\", \"uid\": \"ac32d575-e346-45d3-a68a-b0f28c738e0e\", \"xaxis\": \"x5\", \"yaxis\": \"y5\"}, {\"line\": {\"color\": \"gray\"}, \"mode\": \"lines\", \"showlegend\": false, \"x\": [2.0, 2.484848484848485, 2.9696969696969697, 3.4545454545454546, 3.9393939393939394, 4.424242424242424, 4.909090909090909, 5.3939393939393945, 5.878787878787879, 6.363636363636363, 6.848484848484849, 7.333333333333334, 7.818181818181818, 8.303030303030303, 8.787878787878789, 9.272727272727273, 9.757575757575758, 10.242424242424242, 10.727272727272727, 11.212121212121213, 11.696969696969697, 12.181818181818182, 12.666666666666668, 13.151515151515152, 13.636363636363637, 14.121212121212121, 14.606060606060606, 15.090909090909092, 15.575757575757576, 16.060606060606062, 16.545454545454547, 17.03030303030303, 17.515151515151516, 18.0, 18.484848484848484, 18.96969696969697, 19.454545454545453, 19.93939393939394, 20.424242424242426, 20.90909090909091, 21.393939393939394, 21.87878787878788, 22.363636363636363, 22.848484848484848, 23.333333333333336, 23.81818181818182, 24.303030303030305, 24.78787878787879, 25.272727272727273, 25.757575757575758, 26.242424242424242, 26.727272727272727, 27.21212121212121, 27.6969696969697, 28.181818181818183, 28.666666666666668, 29.151515151515152, 29.636363636363637, 30.12121212121212, 30.606060606060606, 31.090909090909093, 31.575757575757578, 32.06060606060606, 32.54545454545455, 33.03030303030303, 33.515151515151516, 34.0, 34.484848484848484, 34.96969696969697, 35.45454545454545, 35.93939393939394, 36.42424242424242, 36.90909090909091, 37.3939393939394, 37.87878787878788, 38.36363636363637, 38.84848484848485, 39.333333333333336, 39.81818181818182, 40.303030303030305, 40.78787878787879, 41.27272727272727, 41.75757575757576, 42.24242424242424, 42.72727272727273, 43.21212121212121, 43.696969696969695, 44.18181818181818, 44.66666666666667, 45.151515151515156, 45.63636363636364, 46.121212121212125, 46.60606060606061, 47.09090909090909, 47.57575757575758, 48.06060606060606, 48.54545454545455, 49.03030303030303, 49.515151515151516, 50.0], \"y\": [0.11503104144972158, 0.11440812499689672, 0.11378520854407184, 0.11316229209124698, 0.1125393756384221, 0.11191645918559724, 0.11129354273277238, 0.1106706262799475, 0.11004770982712264, 0.10942479337429777, 0.1088018769214729, 0.10817896046864803, 0.10755604401582317, 0.1069331275629983, 0.10631021111017343, 0.10568729465734855, 0.10506437820452369, 0.10444146175169883, 0.10381854529887395, 0.10319562884604909, 0.10257271239322421, 0.10194979594039935, 0.10132687948757449, 0.10070396303474961, 0.10008104658192474, 0.09945813012909988, 0.09883521367627501, 0.09821229722345014, 0.09758938077062528, 0.0969664643178004, 0.09634354786497554, 0.09572063141215068, 0.0950977149593258, 0.09447479850650094, 0.09385188205367606, 0.0932289656008512, 0.09260604914802634, 0.09198313269520146, 0.09136021624237659, 0.09073729978955172, 0.09011438333672686, 0.08949146688390199, 0.08886855043107712, 0.08824563397825225, 0.08762271752542738, 0.08699980107260251, 0.08637688461977765, 0.08575396816695277, 0.08513105171412791, 0.08450813526130305, 0.08388521880847817, 0.08326230235565331, 0.08263938590282843, 0.08201646945000357, 0.08139355299717871, 0.08077063654435383, 0.08014772009152896, 0.0795248036387041, 0.07890188718587923, 0.07827897073305437, 0.07765605428022948, 0.07703313782740462, 0.07641022137457976, 0.0757873049217549, 0.07516438846893002, 0.07454147201610514, 0.07391855556328028, 0.07329563911045542, 0.07267272265763056, 0.07204980620480568, 0.0714268897519808, 0.07080397329915594, 0.07018105684633108, 0.06955814039350619, 0.06893522394068133, 0.06831230748785647, 0.0676893910350316, 0.06706647458220673, 0.06644355812938185, 0.06582064167655699, 0.06519772522373213, 0.06457480877090727, 0.06395189231808239, 0.06332897586525751, 0.06270605941243265, 0.06208314295960779, 0.06146022650678292, 0.06083731005395805, 0.060214393601133176, 0.05959147714830831, 0.058968560695483445, 0.058345644242658576, 0.05772272778983371, 0.05709981133700884, 0.05647689488418397, 0.05585397843135911, 0.05523106197853424, 0.05460814552570936, 0.0539852290728845, 0.05336231262005964], \"type\": \"scatter\", \"uid\": \"4492342f-c06b-4849-baf5-5fceec01c835\", \"xaxis\": \"x6\", \"yaxis\": \"y6\"}], {\"xaxis\": {\"anchor\": \"y\", \"domain\": [0.0, 0.2888888888888889]}, \"yaxis\": {\"anchor\": \"x\", \"domain\": [0.575, 1.0], \"title\": {\"text\": \"avg Eye movement similarity index\"}}, \"xaxis2\": {\"anchor\": \"y2\", \"domain\": [0.35555555555555557, 0.6444444444444445]}, \"yaxis2\": {\"anchor\": \"x2\", \"domain\": [0.575, 1.0]}, \"xaxis3\": {\"anchor\": \"y3\", \"domain\": [0.7111111111111111, 1.0]}, \"yaxis3\": {\"anchor\": \"x3\", \"domain\": [0.575, 1.0]}, \"xaxis4\": {\"anchor\": \"y4\", \"domain\": [0.0, 0.2888888888888889]}, \"yaxis4\": {\"anchor\": \"x4\", \"domain\": [0.0, 0.425]}, \"xaxis5\": {\"anchor\": \"y5\", \"domain\": [0.35555555555555557, 0.6444444444444445], \"title\": {\"text\": \"overall individual rank in the experiment\"}}, \"yaxis5\": {\"anchor\": \"x5\", \"domain\": [0.0, 0.425]}, \"xaxis6\": {\"anchor\": \"y6\", \"domain\": [0.7111111111111111, 1.0]}, \"yaxis6\": {\"anchor\": \"x6\", \"domain\": [0.0, 0.425]}, \"font\": {\"size\": 15}, \"height\": 700, \"width\": 1000, \"legend\": {\"traceorder\": \"normal\"}, \"annotations\": [{\"showarrow\": false, \"text\": \"rsq :0.071\", \"x\": 20, \"xref\": \"x\", \"y\": 0.2, \"yref\": \"y\"}, {\"showarrow\": false, \"text\": \"rsq :0.109\", \"x\": 20, \"xref\": \"x2\", \"y\": 0.2, \"yref\": \"y2\"}, {\"showarrow\": false, \"text\": \"rsq :0.208\", \"x\": 20, \"xref\": \"x3\", \"y\": 0.2, \"yref\": \"y3\"}, {\"showarrow\": false, \"text\": \"rsq :0.034\", \"x\": 20, \"xref\": \"x4\", \"y\": 0.2, \"yref\": \"y4\"}, {\"showarrow\": false, \"text\": \"rsq :0.083\", \"x\": 20, \"xref\": \"x5\", \"y\": 0.2, \"yref\": \"y5\"}, {\"showarrow\": false, \"text\": \"rsq :0.022\", \"x\": 20, \"xref\": \"x6\", \"y\": 0.2, \"yref\": \"y6\"}]}, {\"showLink\": false, \"linkText\": \"Export to plot.ly\", \"plotlyServerURL\": \"https://plot.ly\"})});</script>"
      ]
     },
     "metadata": {},
     "output_type": "display_data"
    }
   ],
   "source": [
    "eye_movement_similarity = eye_movement_similarity.dropna()\n",
    "\n",
    "    \n",
    "sec2_trace = []\n",
    "sec3_trace = []\n",
    "annotations = []\n",
    "for i,target in enumerate(eye_movement_similarity['Target number'].unique().sort()):\n",
    "    target_load_eye_similarity = eye_movement_similarity[eye_movement_similarity['Target number']==target]\n",
    "    target_load_eye_similarity = target_load_eye_similarity.sort('ranking')\n",
    "    target_load_eye_similarity = target_load_eye_similarity.groupby('ranking',operations={'avg_correlation':agg.MEAN('correlation')})\n",
    "    target_load_eye_similarity = target_load_eye_similarity.sort('ranking')\n",
    "    sec2_trace.append(go.Scatter(x = target_load_eye_similarity['ranking'].to_numpy(),\n",
    "                           y = target_load_eye_similarity['avg_correlation'].to_numpy(),\n",
    "                           mode='markers',marker = dict(opacity = 0.3),\n",
    "                           line=dict(width = 2),\n",
    "                           name = 'Target load : '+ str(target)))\n",
    "    hsb = target_load_eye_similarity\n",
    "    hsb2 = hsb.to_dataframe()\n",
    "\n",
    "    mod = ols(\"avg_correlation ~ ranking\", data=hsb2)\n",
    "    res = mod.fit()\n",
    "    annotations.append(dict(x = 20, y = 0.2, xref = 'x'+str(i+1), yref = 'y'+str(i+1), text = 'rsq :'+str(round(res.rsquared,3)),\n",
    "                           showarrow = False))\n",
    "    \n",
    "    sec3_trace.append(go.Scatter(x = np.linspace(target_load_eye_similarity['ranking'].min(),target_load_eye_similarity['ranking'].max(),100),\n",
    "                   y = np.linspace(target_load_eye_similarity['ranking'].min(),target_load_eye_similarity['ranking'].max(),100)*res.params[1] + res.params[0],\n",
    "                                mode='lines', line = dict(color='gray'), showlegend=False))\n",
    "\n",
    "fig = tools.make_subplots(rows=2, cols=3)\n",
    "fig.append_trace(sec2_trace[0],1,1)\n",
    "fig.append_trace(sec2_trace[1],1,2)\n",
    "fig.append_trace(sec2_trace[2],1,3)\n",
    "fig.append_trace(sec2_trace[3],2,1)\n",
    "fig.append_trace(sec2_trace[4],2,2)\n",
    "fig.append_trace(sec2_trace[5],2,3)\n",
    "\n",
    "fig.append_trace(sec3_trace[0],1,1)\n",
    "fig.append_trace(sec3_trace[1],1,2)\n",
    "fig.append_trace(sec3_trace[2],1,3)\n",
    "fig.append_trace(sec3_trace[3],2,1)\n",
    "fig.append_trace(sec3_trace[4],2,2)\n",
    "fig.append_trace(sec3_trace[5],2,3)\n",
    "\n",
    "\n",
    "    \n",
    "    \n",
    "\n",
    "fig['layout'].update(height=700, width=1000, font = dict(size=15))\n",
    "fig['layout']['legend'].update(traceorder='normal')\n",
    "fig['layout']['annotations'] = annotations\n",
    "\n",
    "fig['layout']['yaxis'].update(title='avg Eye movement similarity index')\n",
    "fig['layout']['xaxis5'].update(title='overall individual rank in the experiment')\n",
    "\n",
    "\n",
    "iplot(fig, filename='subejct ranks vs. eye movement similarity')    "
   ]
  },
  {
   "cell_type": "code",
   "execution_count": 69,
   "metadata": {},
   "outputs": [
    {
     "data": {
      "application/vnd.plotly.v1+json": {
       "config": {
        "linkText": "Export to plot.ly",
        "plotlyServerURL": "https://plot.ly",
        "showLink": false
       },
       "data": [
        {
         "line": {
          "width": 2
         },
         "marker": {
          "opacity": 0.3,
          "size": 15
         },
         "mode": "markers",
         "type": "scatter",
         "uid": "4574f2e4-bd33-4837-bf28-56b4f1fedb45",
         "x": [
          2,
          3,
          4,
          5,
          6,
          7,
          8,
          9,
          10,
          11,
          12,
          13,
          14,
          15,
          16,
          17,
          18,
          19,
          20,
          21,
          22,
          23,
          24,
          25,
          26,
          27,
          28,
          29,
          30,
          31,
          32,
          33,
          34,
          35,
          36,
          37,
          38,
          39,
          40,
          41,
          42,
          43,
          44,
          45,
          46,
          47,
          48,
          49,
          50
         ],
         "y": [
          0.3778905114586786,
          0.39649685084165903,
          0.3319098422134598,
          0.3691980918140366,
          0.32008363883711544,
          0.41023319216240195,
          0.4227638436875501,
          0.40542568617920816,
          0.334737103932601,
          0.28333389253750346,
          0.31647989996646775,
          0.3153631770629488,
          0.3592145795343589,
          0.4216915479183189,
          0.41261971316520646,
          0.3488971911672806,
          0.3800672073140692,
          0.34109837797493087,
          0.3568682981492004,
          0.39861151819309865,
          0.3507116524716593,
          0.30600274841544806,
          0.3663688410778782,
          0.40993798811639176,
          0.3700242487272768,
          0.3246090776540757,
          0.36759253219145266,
          0.41590913788850725,
          0.3296904950413451,
          0.3803930105484161,
          0.08905983965376407,
          0.0037026149658208247,
          -0.01490246938359726,
          -0.0865277818263188,
          0.06237256453575703,
          -0.045675406900147326,
          -0.0804781038926826,
          -0.03216487260437312,
          0.29062309419893967,
          0.3074794223350213,
          0.3861661855245951,
          0.3826422714719092,
          0.38073111225198364,
          0.31021395629798587,
          0.29101409674247136,
          0.4266821533923392,
          0.3898695513126042,
          0.34627523260691373,
          0.2936204381832734
         ]
        },
        {
         "line": {
          "color": "gray"
         },
         "mode": "lines",
         "showlegend": false,
         "type": "scatter",
         "uid": "7ebd00f1-45ab-4275-b188-5c13b083fc60",
         "x": [
          2,
          2.484848484848485,
          2.9696969696969697,
          3.4545454545454546,
          3.9393939393939394,
          4.424242424242424,
          4.909090909090909,
          5.3939393939393945,
          5.878787878787879,
          6.363636363636363,
          6.848484848484849,
          7.333333333333334,
          7.818181818181818,
          8.303030303030303,
          8.787878787878789,
          9.272727272727273,
          9.757575757575758,
          10.242424242424242,
          10.727272727272727,
          11.212121212121213,
          11.696969696969697,
          12.181818181818182,
          12.666666666666668,
          13.151515151515152,
          13.636363636363637,
          14.121212121212121,
          14.606060606060606,
          15.090909090909092,
          15.575757575757576,
          16.060606060606062,
          16.545454545454547,
          17.03030303030303,
          17.515151515151516,
          18,
          18.484848484848484,
          18.96969696969697,
          19.454545454545453,
          19.93939393939394,
          20.424242424242426,
          20.90909090909091,
          21.393939393939394,
          21.87878787878788,
          22.363636363636363,
          22.848484848484848,
          23.333333333333336,
          23.81818181818182,
          24.303030303030305,
          24.78787878787879,
          25.272727272727273,
          25.757575757575758,
          26.242424242424242,
          26.727272727272727,
          27.21212121212121,
          27.6969696969697,
          28.181818181818183,
          28.666666666666668,
          29.151515151515152,
          29.636363636363637,
          30.12121212121212,
          30.606060606060606,
          31.090909090909093,
          31.575757575757578,
          32.06060606060606,
          32.54545454545455,
          33.03030303030303,
          33.515151515151516,
          34,
          34.484848484848484,
          34.96969696969697,
          35.45454545454545,
          35.93939393939394,
          36.42424242424242,
          36.90909090909091,
          37.3939393939394,
          37.87878787878788,
          38.36363636363637,
          38.84848484848485,
          39.333333333333336,
          39.81818181818182,
          40.303030303030305,
          40.78787878787879,
          41.27272727272727,
          41.75757575757576,
          42.24242424242424,
          42.72727272727273,
          43.21212121212121,
          43.696969696969695,
          44.18181818181818,
          44.66666666666667,
          45.151515151515156,
          45.63636363636364,
          46.121212121212125,
          46.60606060606061,
          47.09090909090909,
          47.57575757575758,
          48.06060606060606,
          48.54545454545455,
          49.03030303030303,
          49.515151515151516,
          50
         ],
         "y": [
          0.3790666201742853,
          0.3774383634876511,
          0.37581010680101695,
          0.37418185011438276,
          0.3725535934277486,
          0.37092533674111444,
          0.36929708005448025,
          0.36766882336784606,
          0.36604056668121193,
          0.36441230999457774,
          0.36278405330794355,
          0.3611557966213094,
          0.35952753993467523,
          0.35789928324804104,
          0.3562710265614069,
          0.3546427698747727,
          0.3530145131881386,
          0.3513862565015044,
          0.3497579998148702,
          0.3481297431282361,
          0.3465014864416019,
          0.3448732297549677,
          0.34324497306833357,
          0.3416167163816994,
          0.3399884596950652,
          0.33836020300843106,
          0.33673194632179687,
          0.3351036896351627,
          0.33347543294852855,
          0.33184717626189436,
          0.3302189195752602,
          0.32859066288862604,
          0.32696240620199185,
          0.32533414951535766,
          0.32370589282872353,
          0.32207763614208934,
          0.32044937945545515,
          0.318821122768821,
          0.31719286608218683,
          0.31556460939555264,
          0.3139363527089185,
          0.3123080960222843,
          0.3106798393356502,
          0.309051582649016,
          0.3074233259623818,
          0.3057950692757476,
          0.3041668125891135,
          0.3025385559024793,
          0.30091029921584517,
          0.299282042529211,
          0.29765378584257685,
          0.29602552915594266,
          0.29439727246930847,
          0.2927690157826743,
          0.29114075909604015,
          0.28951250240940596,
          0.2878842457227718,
          0.28625598903613764,
          0.28462773234950345,
          0.2829994756628693,
          0.2813712189762351,
          0.27974296228960094,
          0.2781147056029668,
          0.2764864489163326,
          0.27485819222969843,
          0.2732299355430643,
          0.2716016788564301,
          0.2699734221697959,
          0.2683451654831618,
          0.2667169087965276,
          0.2650886521098934,
          0.2634603954232593,
          0.2618321387366251,
          0.2602038820499909,
          0.25857562536335676,
          0.2569473686767226,
          0.2553191119900884,
          0.25369085530345425,
          0.25206259861682007,
          0.2504343419301859,
          0.24880608524355174,
          0.24717782855691758,
          0.2455495718702834,
          0.24392131518364923,
          0.24229305849701507,
          0.2406648018103809,
          0.23903654512374672,
          0.23740828843711256,
          0.23578003175047837,
          0.23415177506384421,
          0.23252351837721005,
          0.23089526169057586,
          0.2292670050039417,
          0.22763874831730754,
          0.22601049163067338,
          0.2243822349440392,
          0.22275397825740503,
          0.22112572157077087,
          0.2194974648841367,
          0.21786920819750252
         ]
        }
       ],
       "layout": {
        "annotations": [
         {
          "showarrow": false,
          "text": "rsq :0.108",
          "x": 20,
          "xref": "x",
          "y": 0.2,
          "yref": "y"
         }
        ],
        "xaxis": {
         "title": {
          "text": "Overall participant rank in the experiment"
         }
        },
        "yaxis": {
         "title": {
          "text": "Avg Eye movement similarity with the <br>best participant - at trial level"
         }
        }
       }
      },
      "text/html": [
       "<div id=\"e0ac8b23-1ab6-4a4b-b386-18c22fccac38\" style=\"height: 525px; width: 100%;\" class=\"plotly-graph-div\"></div><script type=\"text/javascript\">require([\"plotly\"], function(Plotly) { window.PLOTLYENV=window.PLOTLYENV || {};window.PLOTLYENV.BASE_URL=\"https://plot.ly\";Plotly.newPlot(\"e0ac8b23-1ab6-4a4b-b386-18c22fccac38\", [{\"line\": {\"width\": 2}, \"marker\": {\"opacity\": 0.3, \"size\": 15}, \"mode\": \"markers\", \"x\": [2, 3, 4, 5, 6, 7, 8, 9, 10, 11, 12, 13, 14, 15, 16, 17, 18, 19, 20, 21, 22, 23, 24, 25, 26, 27, 28, 29, 30, 31, 32, 33, 34, 35, 36, 37, 38, 39, 40, 41, 42, 43, 44, 45, 46, 47, 48, 49, 50], \"y\": [0.3778905114586786, 0.39649685084165903, 0.3319098422134598, 0.3691980918140366, 0.32008363883711544, 0.41023319216240195, 0.4227638436875501, 0.40542568617920816, 0.334737103932601, 0.28333389253750346, 0.31647989996646775, 0.3153631770629488, 0.3592145795343589, 0.4216915479183189, 0.41261971316520646, 0.3488971911672806, 0.3800672073140692, 0.34109837797493087, 0.3568682981492004, 0.39861151819309865, 0.3507116524716593, 0.30600274841544806, 0.3663688410778782, 0.40993798811639176, 0.3700242487272768, 0.3246090776540757, 0.36759253219145266, 0.41590913788850725, 0.3296904950413451, 0.3803930105484161, 0.08905983965376407, 0.0037026149658208247, -0.01490246938359726, -0.0865277818263188, 0.06237256453575703, -0.045675406900147326, -0.0804781038926826, -0.03216487260437312, 0.29062309419893967, 0.3074794223350213, 0.3861661855245951, 0.3826422714719092, 0.38073111225198364, 0.31021395629798587, 0.29101409674247136, 0.4266821533923392, 0.3898695513126042, 0.34627523260691373, 0.2936204381832734], \"type\": \"scatter\", \"uid\": \"4574f2e4-bd33-4837-bf28-56b4f1fedb45\"}, {\"line\": {\"color\": \"gray\"}, \"mode\": \"lines\", \"showlegend\": false, \"x\": [2.0, 2.484848484848485, 2.9696969696969697, 3.4545454545454546, 3.9393939393939394, 4.424242424242424, 4.909090909090909, 5.3939393939393945, 5.878787878787879, 6.363636363636363, 6.848484848484849, 7.333333333333334, 7.818181818181818, 8.303030303030303, 8.787878787878789, 9.272727272727273, 9.757575757575758, 10.242424242424242, 10.727272727272727, 11.212121212121213, 11.696969696969697, 12.181818181818182, 12.666666666666668, 13.151515151515152, 13.636363636363637, 14.121212121212121, 14.606060606060606, 15.090909090909092, 15.575757575757576, 16.060606060606062, 16.545454545454547, 17.03030303030303, 17.515151515151516, 18.0, 18.484848484848484, 18.96969696969697, 19.454545454545453, 19.93939393939394, 20.424242424242426, 20.90909090909091, 21.393939393939394, 21.87878787878788, 22.363636363636363, 22.848484848484848, 23.333333333333336, 23.81818181818182, 24.303030303030305, 24.78787878787879, 25.272727272727273, 25.757575757575758, 26.242424242424242, 26.727272727272727, 27.21212121212121, 27.6969696969697, 28.181818181818183, 28.666666666666668, 29.151515151515152, 29.636363636363637, 30.12121212121212, 30.606060606060606, 31.090909090909093, 31.575757575757578, 32.06060606060606, 32.54545454545455, 33.03030303030303, 33.515151515151516, 34.0, 34.484848484848484, 34.96969696969697, 35.45454545454545, 35.93939393939394, 36.42424242424242, 36.90909090909091, 37.3939393939394, 37.87878787878788, 38.36363636363637, 38.84848484848485, 39.333333333333336, 39.81818181818182, 40.303030303030305, 40.78787878787879, 41.27272727272727, 41.75757575757576, 42.24242424242424, 42.72727272727273, 43.21212121212121, 43.696969696969695, 44.18181818181818, 44.66666666666667, 45.151515151515156, 45.63636363636364, 46.121212121212125, 46.60606060606061, 47.09090909090909, 47.57575757575758, 48.06060606060606, 48.54545454545455, 49.03030303030303, 49.515151515151516, 50.0], \"y\": [0.3790666201742853, 0.3774383634876511, 0.37581010680101695, 0.37418185011438276, 0.3725535934277486, 0.37092533674111444, 0.36929708005448025, 0.36766882336784606, 0.36604056668121193, 0.36441230999457774, 0.36278405330794355, 0.3611557966213094, 0.35952753993467523, 0.35789928324804104, 0.3562710265614069, 0.3546427698747727, 0.3530145131881386, 0.3513862565015044, 0.3497579998148702, 0.3481297431282361, 0.3465014864416019, 0.3448732297549677, 0.34324497306833357, 0.3416167163816994, 0.3399884596950652, 0.33836020300843106, 0.33673194632179687, 0.3351036896351627, 0.33347543294852855, 0.33184717626189436, 0.3302189195752602, 0.32859066288862604, 0.32696240620199185, 0.32533414951535766, 0.32370589282872353, 0.32207763614208934, 0.32044937945545515, 0.318821122768821, 0.31719286608218683, 0.31556460939555264, 0.3139363527089185, 0.3123080960222843, 0.3106798393356502, 0.309051582649016, 0.3074233259623818, 0.3057950692757476, 0.3041668125891135, 0.3025385559024793, 0.30091029921584517, 0.299282042529211, 0.29765378584257685, 0.29602552915594266, 0.29439727246930847, 0.2927690157826743, 0.29114075909604015, 0.28951250240940596, 0.2878842457227718, 0.28625598903613764, 0.28462773234950345, 0.2829994756628693, 0.2813712189762351, 0.27974296228960094, 0.2781147056029668, 0.2764864489163326, 0.27485819222969843, 0.2732299355430643, 0.2716016788564301, 0.2699734221697959, 0.2683451654831618, 0.2667169087965276, 0.2650886521098934, 0.2634603954232593, 0.2618321387366251, 0.2602038820499909, 0.25857562536335676, 0.2569473686767226, 0.2553191119900884, 0.25369085530345425, 0.25206259861682007, 0.2504343419301859, 0.24880608524355174, 0.24717782855691758, 0.2455495718702834, 0.24392131518364923, 0.24229305849701507, 0.2406648018103809, 0.23903654512374672, 0.23740828843711256, 0.23578003175047837, 0.23415177506384421, 0.23252351837721005, 0.23089526169057586, 0.2292670050039417, 0.22763874831730754, 0.22601049163067338, 0.2243822349440392, 0.22275397825740503, 0.22112572157077087, 0.2194974648841367, 0.21786920819750252], \"type\": \"scatter\", \"uid\": \"7ebd00f1-45ab-4275-b188-5c13b083fc60\"}], {\"annotations\": [{\"showarrow\": false, \"text\": \"rsq :0.108\", \"x\": 20, \"xref\": \"x\", \"y\": 0.2, \"yref\": \"y\"}], \"xaxis\": {\"title\": {\"text\": \"Overall participant rank in the experiment\"}}, \"yaxis\": {\"title\": {\"text\": \"Avg Eye movement similarity with the <br>best participant - at trial level\"}}}, {\"showLink\": false, \"linkText\": \"Export to plot.ly\", \"plotlyServerURL\": \"https://plot.ly\"})});</script><script type=\"text/javascript\">window.addEventListener(\"resize\", function(){window._Plotly.Plots.resize(document.getElementById(\"e0ac8b23-1ab6-4a4b-b386-18c22fccac38\"));});</script>"
      ],
      "text/vnd.plotly.v1+html": [
       "<div id=\"e0ac8b23-1ab6-4a4b-b386-18c22fccac38\" style=\"height: 525px; width: 100%;\" class=\"plotly-graph-div\"></div><script type=\"text/javascript\">require([\"plotly\"], function(Plotly) { window.PLOTLYENV=window.PLOTLYENV || {};window.PLOTLYENV.BASE_URL=\"https://plot.ly\";Plotly.newPlot(\"e0ac8b23-1ab6-4a4b-b386-18c22fccac38\", [{\"line\": {\"width\": 2}, \"marker\": {\"opacity\": 0.3, \"size\": 15}, \"mode\": \"markers\", \"x\": [2, 3, 4, 5, 6, 7, 8, 9, 10, 11, 12, 13, 14, 15, 16, 17, 18, 19, 20, 21, 22, 23, 24, 25, 26, 27, 28, 29, 30, 31, 32, 33, 34, 35, 36, 37, 38, 39, 40, 41, 42, 43, 44, 45, 46, 47, 48, 49, 50], \"y\": [0.3778905114586786, 0.39649685084165903, 0.3319098422134598, 0.3691980918140366, 0.32008363883711544, 0.41023319216240195, 0.4227638436875501, 0.40542568617920816, 0.334737103932601, 0.28333389253750346, 0.31647989996646775, 0.3153631770629488, 0.3592145795343589, 0.4216915479183189, 0.41261971316520646, 0.3488971911672806, 0.3800672073140692, 0.34109837797493087, 0.3568682981492004, 0.39861151819309865, 0.3507116524716593, 0.30600274841544806, 0.3663688410778782, 0.40993798811639176, 0.3700242487272768, 0.3246090776540757, 0.36759253219145266, 0.41590913788850725, 0.3296904950413451, 0.3803930105484161, 0.08905983965376407, 0.0037026149658208247, -0.01490246938359726, -0.0865277818263188, 0.06237256453575703, -0.045675406900147326, -0.0804781038926826, -0.03216487260437312, 0.29062309419893967, 0.3074794223350213, 0.3861661855245951, 0.3826422714719092, 0.38073111225198364, 0.31021395629798587, 0.29101409674247136, 0.4266821533923392, 0.3898695513126042, 0.34627523260691373, 0.2936204381832734], \"type\": \"scatter\", \"uid\": \"4574f2e4-bd33-4837-bf28-56b4f1fedb45\"}, {\"line\": {\"color\": \"gray\"}, \"mode\": \"lines\", \"showlegend\": false, \"x\": [2.0, 2.484848484848485, 2.9696969696969697, 3.4545454545454546, 3.9393939393939394, 4.424242424242424, 4.909090909090909, 5.3939393939393945, 5.878787878787879, 6.363636363636363, 6.848484848484849, 7.333333333333334, 7.818181818181818, 8.303030303030303, 8.787878787878789, 9.272727272727273, 9.757575757575758, 10.242424242424242, 10.727272727272727, 11.212121212121213, 11.696969696969697, 12.181818181818182, 12.666666666666668, 13.151515151515152, 13.636363636363637, 14.121212121212121, 14.606060606060606, 15.090909090909092, 15.575757575757576, 16.060606060606062, 16.545454545454547, 17.03030303030303, 17.515151515151516, 18.0, 18.484848484848484, 18.96969696969697, 19.454545454545453, 19.93939393939394, 20.424242424242426, 20.90909090909091, 21.393939393939394, 21.87878787878788, 22.363636363636363, 22.848484848484848, 23.333333333333336, 23.81818181818182, 24.303030303030305, 24.78787878787879, 25.272727272727273, 25.757575757575758, 26.242424242424242, 26.727272727272727, 27.21212121212121, 27.6969696969697, 28.181818181818183, 28.666666666666668, 29.151515151515152, 29.636363636363637, 30.12121212121212, 30.606060606060606, 31.090909090909093, 31.575757575757578, 32.06060606060606, 32.54545454545455, 33.03030303030303, 33.515151515151516, 34.0, 34.484848484848484, 34.96969696969697, 35.45454545454545, 35.93939393939394, 36.42424242424242, 36.90909090909091, 37.3939393939394, 37.87878787878788, 38.36363636363637, 38.84848484848485, 39.333333333333336, 39.81818181818182, 40.303030303030305, 40.78787878787879, 41.27272727272727, 41.75757575757576, 42.24242424242424, 42.72727272727273, 43.21212121212121, 43.696969696969695, 44.18181818181818, 44.66666666666667, 45.151515151515156, 45.63636363636364, 46.121212121212125, 46.60606060606061, 47.09090909090909, 47.57575757575758, 48.06060606060606, 48.54545454545455, 49.03030303030303, 49.515151515151516, 50.0], \"y\": [0.3790666201742853, 0.3774383634876511, 0.37581010680101695, 0.37418185011438276, 0.3725535934277486, 0.37092533674111444, 0.36929708005448025, 0.36766882336784606, 0.36604056668121193, 0.36441230999457774, 0.36278405330794355, 0.3611557966213094, 0.35952753993467523, 0.35789928324804104, 0.3562710265614069, 0.3546427698747727, 0.3530145131881386, 0.3513862565015044, 0.3497579998148702, 0.3481297431282361, 0.3465014864416019, 0.3448732297549677, 0.34324497306833357, 0.3416167163816994, 0.3399884596950652, 0.33836020300843106, 0.33673194632179687, 0.3351036896351627, 0.33347543294852855, 0.33184717626189436, 0.3302189195752602, 0.32859066288862604, 0.32696240620199185, 0.32533414951535766, 0.32370589282872353, 0.32207763614208934, 0.32044937945545515, 0.318821122768821, 0.31719286608218683, 0.31556460939555264, 0.3139363527089185, 0.3123080960222843, 0.3106798393356502, 0.309051582649016, 0.3074233259623818, 0.3057950692757476, 0.3041668125891135, 0.3025385559024793, 0.30091029921584517, 0.299282042529211, 0.29765378584257685, 0.29602552915594266, 0.29439727246930847, 0.2927690157826743, 0.29114075909604015, 0.28951250240940596, 0.2878842457227718, 0.28625598903613764, 0.28462773234950345, 0.2829994756628693, 0.2813712189762351, 0.27974296228960094, 0.2781147056029668, 0.2764864489163326, 0.27485819222969843, 0.2732299355430643, 0.2716016788564301, 0.2699734221697959, 0.2683451654831618, 0.2667169087965276, 0.2650886521098934, 0.2634603954232593, 0.2618321387366251, 0.2602038820499909, 0.25857562536335676, 0.2569473686767226, 0.2553191119900884, 0.25369085530345425, 0.25206259861682007, 0.2504343419301859, 0.24880608524355174, 0.24717782855691758, 0.2455495718702834, 0.24392131518364923, 0.24229305849701507, 0.2406648018103809, 0.23903654512374672, 0.23740828843711256, 0.23578003175047837, 0.23415177506384421, 0.23252351837721005, 0.23089526169057586, 0.2292670050039417, 0.22763874831730754, 0.22601049163067338, 0.2243822349440392, 0.22275397825740503, 0.22112572157077087, 0.2194974648841367, 0.21786920819750252], \"type\": \"scatter\", \"uid\": \"7ebd00f1-45ab-4275-b188-5c13b083fc60\"}], {\"annotations\": [{\"showarrow\": false, \"text\": \"rsq :0.108\", \"x\": 20, \"xref\": \"x\", \"y\": 0.2, \"yref\": \"y\"}], \"xaxis\": {\"title\": {\"text\": \"Overall participant rank in the experiment\"}}, \"yaxis\": {\"title\": {\"text\": \"Avg Eye movement similarity with the <br>best participant - at trial level\"}}}, {\"showLink\": false, \"linkText\": \"Export to plot.ly\", \"plotlyServerURL\": \"https://plot.ly\"})});</script><script type=\"text/javascript\">window.addEventListener(\"resize\", function(){window._Plotly.Plots.resize(document.getElementById(\"e0ac8b23-1ab6-4a4b-b386-18c22fccac38\"));});</script>"
      ]
     },
     "metadata": {},
     "output_type": "display_data"
    }
   ],
   "source": [
    "average_eye_similarity = eye_movement_similarity.groupby('ranking',operations={'avg_correlation':agg.MEAN('correlation')})\n",
    "average_eye_similarity = average_eye_similarity.sort('ranking')\n",
    "\n",
    "trace = []\n",
    "trace.append(go.Scatter(x = average_eye_similarity['ranking'].to_numpy(),\n",
    "                           y = average_eye_similarity['avg_correlation'].to_numpy(),\n",
    "                           mode='markers',marker = dict(opacity = 0.3, size = 15),\n",
    "                           line=dict(width = 2)))\n",
    "hsb = average_eye_similarity\n",
    "hsb2 = hsb.to_dataframe()\n",
    "\n",
    "mod = ols(\"avg_correlation ~ ranking\", data=hsb2)\n",
    "res = mod.fit()\n",
    "annotations = []\n",
    "annotations.append(dict(x = 20, y = 0.2, xref = 'x', yref = 'y', text = 'rsq :'+str(round(res.rsquared,3)),\n",
    "                       showarrow = False))\n",
    "    \n",
    "trace.append(go.Scatter(x = np.linspace(average_eye_similarity['ranking'].min(),average_eye_similarity['ranking'].max(),100),\n",
    "               y = np.linspace(average_eye_similarity['ranking'].min(),average_eye_similarity['ranking'].max(),100)*res.params[1] + res.params[0],\n",
    "                            mode='lines', line = dict(color='gray'), showlegend=False))\n",
    "\n",
    "fig = go.Figure(data=trace)\n",
    "#fig['layout'].update(height=700, width=1000, margin = dict(l=130, b=130, r=80, t=150), font = dict(size=15))\n",
    "fig['layout']['annotations'] = annotations\n",
    "\n",
    "fig['layout']['xaxis'].update(title='Overall participant rank in the experiment')\n",
    "fig['layout']['yaxis'].update(title='Avg Eye movement similarity with the <br>best participant - at trial level')\n",
    "\n",
    "iplot(fig, filename='subejct ranks vs. eye movement similarity')    "
   ]
  },
  {
   "cell_type": "code",
   "execution_count": null,
   "metadata": {},
   "outputs": [],
   "source": []
  }
 ],
 "metadata": {
  "anaconda-cloud": {},
  "kernelspec": {
   "display_name": "adiLab (3.7)",
   "language": "python",
   "name": "adilab"
  },
  "language_info": {
   "codemirror_mode": {
    "name": "ipython",
    "version": 3
   },
   "file_extension": ".py",
   "mimetype": "text/x-python",
   "name": "python",
   "nbconvert_exporter": "python",
   "pygments_lexer": "ipython3",
   "version": "3.6.0"
  },
  "toc": {
   "base_numbering": 1,
   "nav_menu": {},
   "number_sections": true,
   "sideBar": true,
   "skip_h1_title": false,
   "title_cell": "Table of Contents",
   "title_sidebar": "Contents",
   "toc_cell": false,
   "toc_position": {},
   "toc_section_display": true,
   "toc_window_display": false
  }
 },
 "nbformat": 4,
 "nbformat_minor": 1
}

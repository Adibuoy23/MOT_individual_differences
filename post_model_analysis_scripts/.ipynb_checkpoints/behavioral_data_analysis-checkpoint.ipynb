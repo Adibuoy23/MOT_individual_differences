{
 "cells": [
  {
   "cell_type": "markdown",
   "metadata": {
    "toc": true
   },
   "source": [
    "<h1>Table of Contents<span class=\"tocSkip\"></span></h1>\n",
    "<div class=\"toc\"><ul class=\"toc-item\"><li><span><a href=\"#Data-summary\" data-toc-modified-id=\"Data-summary-1\"><span class=\"toc-item-num\">1&nbsp;&nbsp;</span><a href=\"#section 1\">Data summary</a></a></span><ul class=\"toc-item\"><li><span><a href=\"#Group-the-behavioral-data-by-target-load-and-subjects\" data-toc-modified-id=\"Group-the-behavioral-data-by-target-load-and-subjects-1.1\"><span class=\"toc-item-num\">1.1&nbsp;&nbsp;</span>Group the behavioral data by target load and subjects</a></span></li></ul></li><li><span><a href=\"#Consistencies-in-individual-differences-in-the-behavioral-data\" data-toc-modified-id=\"Consistencies-in-individual-differences-in-the-behavioral-data-2\"><span class=\"toc-item-num\">2&nbsp;&nbsp;</span><a href=\"#section 2\">Consistencies in individual differences in the behavioral data</a></a></span><ul class=\"toc-item\"><li><span><a href=\"#Obtain-rankings-of-participants-across-the-120-trials\" data-toc-modified-id=\"Obtain-rankings-of-participants-across-the-120-trials-2.1\"><span class=\"toc-item-num\">2.1&nbsp;&nbsp;</span>Obtain rankings of participants across the 120 trials</a></span></li><li><span><a href=\"#Check-for-consistencies-when-compared-across-target-load-sets-for-these-ranked-individuals\" data-toc-modified-id=\"Check-for-consistencies-when-compared-across-target-load-sets-for-these-ranked-individuals-2.2\"><span class=\"toc-item-num\">2.2&nbsp;&nbsp;</span>Check for consistencies when compared across target load sets for these ranked individuals</a></span></li><li><span><a href=\"#Check-for-consistencies-when-compared-across-speeds-for-these-ranked-individuals\" data-toc-modified-id=\"Check-for-consistencies-when-compared-across-speeds-for-these-ranked-individuals-2.3\"><span class=\"toc-item-num\">2.3&nbsp;&nbsp;</span>Check for consistencies when compared across speeds for these ranked individuals</a></span></li></ul></li><li><span><a href=\"#Analysis-using-number-of-targets-chosen\" data-toc-modified-id=\"Analysis-using-number-of-targets-chosen-3\"><span class=\"toc-item-num\">3&nbsp;&nbsp;</span><a href=\"#section 3\">Analysis using number of targets chosen</a></a></span><ul class=\"toc-item\"><li><span><a href=\"#Group-the-behavioral-data-by-target-load\" data-toc-modified-id=\"Group-the-behavioral-data-by-target-load-3.1\"><span class=\"toc-item-num\">3.1&nbsp;&nbsp;</span>Group the behavioral data by target load</a></span></li><li><span><a href=\"#Plot-the-grouped-data\" data-toc-modified-id=\"Plot-the-grouped-data-3.2\"><span class=\"toc-item-num\">3.2&nbsp;&nbsp;</span>Plot the grouped data</a></span></li><li><span><a href=\"#Subject-wise-analysis-of-the-number-of-targets-chosen:--Appendix-to-Section-3\" data-toc-modified-id=\"Subject-wise-analysis-of-the-number-of-targets-chosen:--Appendix-to-Section-3-3.3\"><span class=\"toc-item-num\">3.3&nbsp;&nbsp;</span><a href=\"#section 3.1\">Subject wise analysis of the number of targets chosen:</a>  Appendix to <a href=\"#section 3\">Section 3</a></a></span></li><li><span><a href=\"#Plot-the-subject-ranks-vs-avg.-number-of-targets-chosen-for-each-target-load\" data-toc-modified-id=\"Plot-the-subject-ranks-vs-avg.-number-of-targets-chosen-for-each-target-load-3.4\"><span class=\"toc-item-num\">3.4&nbsp;&nbsp;</span>Plot the subject ranks vs avg. number of targets chosen for each target load</a></span></li></ul></li></ul></div>"
   ]
  },
  {
   "cell_type": "code",
   "execution_count": 1,
   "metadata": {
    "code_folding": []
   },
   "outputs": [
    {
     "data": {
      "text/html": [
       "        <script type=\"text/javascript\">\n",
       "        window.PlotlyConfig = {MathJaxConfig: 'local'};\n",
       "        if (window.MathJax) {MathJax.Hub.Config({SVG: {font: \"STIX-Web\"}});}\n",
       "        if (typeof require !== 'undefined') {\n",
       "        require.undef(\"plotly\");\n",
       "        requirejs.config({\n",
       "            paths: {\n",
       "                'plotly': ['https://cdn.plot.ly/plotly-latest.min']\n",
       "            }\n",
       "        });\n",
       "        require(['plotly'], function(Plotly) {\n",
       "            window._Plotly = Plotly;\n",
       "        });\n",
       "        }\n",
       "        </script>\n",
       "        "
      ]
     },
     "metadata": {},
     "output_type": "display_data"
    }
   ],
   "source": [
    "# clear all the variables & load the necessary modules\n",
    "%reset -f\n",
    "import numpy as np\n",
    "import sys\n",
    "import turicreate as tc\n",
    "import turicreate.aggregate as agg\n",
    "import os\n",
    "from os import walk\n",
    "import fnmatch\n",
    "import scipy.io\n",
    "import pandas as pd\n",
    "import chart_studio.plotly as py\n",
    "import plotly.graph_objs as go\n",
    "import plotly.figure_factory as ff\n",
    "from scipy.stats import norm\n",
    "from statsmodels.formula.api import ols\n",
    "from scipy.stats.mstats import zscore\n",
    "import scipy.stats as st\n",
    "from plotly.offline import download_plotlyjs, init_notebook_mode, plot, iplot\n",
    "init_notebook_mode(connected=True)\n",
    "import random\n",
    "from plotly import tools\n",
    "# Path variable (where the data is located)\n",
    "myPath = '../data/processed_data/MOT_csv_files/behavior_data/'"
   ]
  },
  {
   "cell_type": "code",
   "execution_count": 2,
   "metadata": {
    "scrolled": true
   },
   "outputs": [
    {
     "name": "stdout",
     "output_type": "stream",
     "text": [
      "Could not detect types. Using str for each column.\n"
     ]
    },
    {
     "ename": "RuntimeError",
     "evalue": "No files corresponding to the specified path (/Volumes/My Passport/Box Sync/Box Sync/MOT individual differences and eye movements/post_model_analysis_scripts/data/processed_data/MOT_csv_files/behavior_data/behavior_data.csv).",
     "output_type": "error",
     "traceback": [
      "\u001b[0;31m---------------------------------------------------------------------------\u001b[0m",
      "\u001b[0;31mRuntimeError\u001b[0m                              Traceback (most recent call last)",
      "\u001b[0;32m~/miniconda3/envs/adiLab/lib/python3.6/site-packages/turicreate/data_structures/sframe.py\u001b[0m in \u001b[0;36m_read_csv_impl\u001b[0;34m(cls, url, delimiter, header, error_bad_lines, comment_char, escape_char, double_quote, quote_char, skip_initial_space, column_type_hints, na_values, line_terminator, usecols, nrows, skiprows, verbose, store_errors, nrows_to_infer, **kwargs)\u001b[0m\n\u001b[1;32m   1027\u001b[0m             \u001b[0;32mwith\u001b[0m \u001b[0mcython_context\u001b[0m\u001b[0;34m(\u001b[0m\u001b[0;34m)\u001b[0m\u001b[0;34m:\u001b[0m\u001b[0;34m\u001b[0m\u001b[0m\n\u001b[0;32m-> 1028\u001b[0;31m                 \u001b[0merrors\u001b[0m \u001b[0;34m=\u001b[0m \u001b[0mproxy\u001b[0m\u001b[0;34m.\u001b[0m\u001b[0mload_from_csvs\u001b[0m\u001b[0;34m(\u001b[0m\u001b[0minternal_url\u001b[0m\u001b[0;34m,\u001b[0m \u001b[0mparsing_config\u001b[0m\u001b[0;34m,\u001b[0m \u001b[0mtype_hints\u001b[0m\u001b[0;34m)\u001b[0m\u001b[0;34m\u001b[0m\u001b[0m\n\u001b[0m\u001b[1;32m   1029\u001b[0m         \u001b[0;32mexcept\u001b[0m \u001b[0mException\u001b[0m \u001b[0;32mas\u001b[0m \u001b[0me\u001b[0m\u001b[0;34m:\u001b[0m\u001b[0;34m\u001b[0m\u001b[0m\n",
      "\u001b[0;32mturicreate/cython/cy_sframe.pyx\u001b[0m in \u001b[0;36mturicreate.cython.cy_sframe.UnitySFrameProxy.load_from_csvs\u001b[0;34m()\u001b[0m\n",
      "\u001b[0;32mturicreate/cython/cy_sframe.pyx\u001b[0m in \u001b[0;36mturicreate.cython.cy_sframe.UnitySFrameProxy.load_from_csvs\u001b[0;34m()\u001b[0m\n",
      "\u001b[0;31mRuntimeError\u001b[0m: No files corresponding to the specified path (/Volumes/My Passport/Box Sync/Box Sync/MOT individual differences and eye movements/post_model_analysis_scripts/data/processed_data/MOT_csv_files/behavior_data/behavior_data.csv).",
      "\nDuring handling of the above exception, another exception occurred:\n",
      "\u001b[0;31mRuntimeError\u001b[0m                              Traceback (most recent call last)",
      "\u001b[0;32m<ipython-input-2-166925d45b20>\u001b[0m in \u001b[0;36m<module>\u001b[0;34m\u001b[0m\n\u001b[0;32m----> 1\u001b[0;31m \u001b[0mbehavior_data\u001b[0m \u001b[0;34m=\u001b[0m \u001b[0mtc\u001b[0m\u001b[0;34m.\u001b[0m\u001b[0mSFrame\u001b[0m\u001b[0;34m.\u001b[0m\u001b[0mread_csv\u001b[0m\u001b[0;34m(\u001b[0m\u001b[0mmyPath\u001b[0m \u001b[0;34m+\u001b[0m \u001b[0;34m'behavior_data.csv'\u001b[0m\u001b[0;34m)\u001b[0m\u001b[0;34m\u001b[0m\u001b[0m\n\u001b[0m\u001b[1;32m      2\u001b[0m \u001b[0mbehavior_data\u001b[0m\u001b[0;34m.\u001b[0m\u001b[0mexplore\u001b[0m\u001b[0;34m(\u001b[0m\u001b[0;34m)\u001b[0m\u001b[0;34m\u001b[0m\u001b[0m\n",
      "\u001b[0;32m~/miniconda3/envs/adiLab/lib/python3.6/site-packages/turicreate/data_structures/sframe.py\u001b[0m in \u001b[0;36mread_csv\u001b[0;34m(cls, url, delimiter, header, error_bad_lines, comment_char, escape_char, double_quote, quote_char, skip_initial_space, column_type_hints, na_values, line_terminator, usecols, nrows, skiprows, verbose, nrows_to_infer, **kwargs)\u001b[0m\n\u001b[1;32m   1470\u001b[0m                                   \u001b[0mstore_errors\u001b[0m\u001b[0;34m=\u001b[0m\u001b[0;32mFalse\u001b[0m\u001b[0;34m,\u001b[0m\u001b[0;34m\u001b[0m\u001b[0m\n\u001b[1;32m   1471\u001b[0m                                   \u001b[0mnrows_to_infer\u001b[0m\u001b[0;34m=\u001b[0m\u001b[0mnrows_to_infer\u001b[0m\u001b[0;34m,\u001b[0m\u001b[0;34m\u001b[0m\u001b[0m\n\u001b[0;32m-> 1472\u001b[0;31m                                   **kwargs)[0]\n\u001b[0m\u001b[1;32m   1473\u001b[0m \u001b[0;34m\u001b[0m\u001b[0m\n\u001b[1;32m   1474\u001b[0m \u001b[0;34m\u001b[0m\u001b[0m\n",
      "\u001b[0;32m~/miniconda3/envs/adiLab/lib/python3.6/site-packages/turicreate/data_structures/sframe.py\u001b[0m in \u001b[0;36m_read_csv_impl\u001b[0;34m(cls, url, delimiter, header, error_bad_lines, comment_char, escape_char, double_quote, quote_char, skip_initial_space, column_type_hints, na_values, line_terminator, usecols, nrows, skiprows, verbose, store_errors, nrows_to_infer, **kwargs)\u001b[0m\n\u001b[1;32m   1026\u001b[0m                 \u001b[0mglconnect\u001b[0m\u001b[0;34m.\u001b[0m\u001b[0mget_server\u001b[0m\u001b[0;34m(\u001b[0m\u001b[0;34m)\u001b[0m\u001b[0;34m.\u001b[0m\u001b[0mset_log_progress\u001b[0m\u001b[0;34m(\u001b[0m\u001b[0;32mFalse\u001b[0m\u001b[0;34m)\u001b[0m\u001b[0;34m\u001b[0m\u001b[0m\n\u001b[1;32m   1027\u001b[0m             \u001b[0;32mwith\u001b[0m \u001b[0mcython_context\u001b[0m\u001b[0;34m(\u001b[0m\u001b[0;34m)\u001b[0m\u001b[0;34m:\u001b[0m\u001b[0;34m\u001b[0m\u001b[0m\n\u001b[0;32m-> 1028\u001b[0;31m                 \u001b[0merrors\u001b[0m \u001b[0;34m=\u001b[0m \u001b[0mproxy\u001b[0m\u001b[0;34m.\u001b[0m\u001b[0mload_from_csvs\u001b[0m\u001b[0;34m(\u001b[0m\u001b[0minternal_url\u001b[0m\u001b[0;34m,\u001b[0m \u001b[0mparsing_config\u001b[0m\u001b[0;34m,\u001b[0m \u001b[0mtype_hints\u001b[0m\u001b[0;34m)\u001b[0m\u001b[0;34m\u001b[0m\u001b[0m\n\u001b[0m\u001b[1;32m   1029\u001b[0m         \u001b[0;32mexcept\u001b[0m \u001b[0mException\u001b[0m \u001b[0;32mas\u001b[0m \u001b[0me\u001b[0m\u001b[0;34m:\u001b[0m\u001b[0;34m\u001b[0m\u001b[0m\n\u001b[1;32m   1030\u001b[0m             \u001b[0;32mif\u001b[0m \u001b[0mtype\u001b[0m\u001b[0;34m(\u001b[0m\u001b[0me\u001b[0m\u001b[0;34m)\u001b[0m \u001b[0;34m==\u001b[0m \u001b[0mRuntimeError\u001b[0m \u001b[0;32mand\u001b[0m \u001b[0;34m\"CSV parsing cancelled\"\u001b[0m \u001b[0;32min\u001b[0m \u001b[0mstr\u001b[0m\u001b[0;34m(\u001b[0m\u001b[0me\u001b[0m\u001b[0;34m.\u001b[0m\u001b[0margs\u001b[0m\u001b[0;34m[\u001b[0m\u001b[0;36m0\u001b[0m\u001b[0;34m]\u001b[0m\u001b[0;34m)\u001b[0m\u001b[0;34m:\u001b[0m\u001b[0;34m\u001b[0m\u001b[0m\n",
      "\u001b[0;32m~/miniconda3/envs/adiLab/lib/python3.6/site-packages/turicreate/cython/context.py\u001b[0m in \u001b[0;36m__exit__\u001b[0;34m(self, exc_type, exc_value, traceback)\u001b[0m\n\u001b[1;32m     47\u001b[0m             \u001b[0;32mif\u001b[0m \u001b[0;32mnot\u001b[0m \u001b[0mself\u001b[0m\u001b[0;34m.\u001b[0m\u001b[0mshow_cython_trace\u001b[0m\u001b[0;34m:\u001b[0m\u001b[0;34m\u001b[0m\u001b[0m\n\u001b[1;32m     48\u001b[0m                 \u001b[0;31m# To hide cython trace, we re-raise from here\u001b[0m\u001b[0;34m\u001b[0m\u001b[0;34m\u001b[0m\u001b[0m\n\u001b[0;32m---> 49\u001b[0;31m                 \u001b[0;32mraise\u001b[0m \u001b[0mexc_type\u001b[0m\u001b[0;34m(\u001b[0m\u001b[0mexc_value\u001b[0m\u001b[0;34m)\u001b[0m\u001b[0;34m\u001b[0m\u001b[0m\n\u001b[0m\u001b[1;32m     50\u001b[0m             \u001b[0;32melse\u001b[0m\u001b[0;34m:\u001b[0m\u001b[0;34m\u001b[0m\u001b[0m\n\u001b[1;32m     51\u001b[0m                 \u001b[0;31m# To show the full trace, we do nothing and let exception propagate\u001b[0m\u001b[0;34m\u001b[0m\u001b[0;34m\u001b[0m\u001b[0m\n",
      "\u001b[0;31mRuntimeError\u001b[0m: No files corresponding to the specified path (/Volumes/My Passport/Box Sync/Box Sync/MOT individual differences and eye movements/post_model_analysis_scripts/data/processed_data/MOT_csv_files/behavior_data/behavior_data.csv)."
     ]
    }
   ],
   "source": [
    "behavior_data = tc.SFrame.read_csv(myPath + 'behavior_data.csv')\n",
    "behavior_data.explore()"
   ]
  },
  {
   "cell_type": "code",
   "execution_count": 3,
   "metadata": {},
   "outputs": [
    {
     "data": {
      "text/plain": [
       "30"
      ]
     },
     "execution_count": 3,
     "metadata": {},
     "output_type": "execute_result"
    }
   ],
   "source": [
    "len(behavior_data[behavior_data['subject_Num']==102]['trial_Num'].unique())"
   ]
  },
  {
   "cell_type": "markdown",
   "metadata": {},
   "source": [
    "<a> id = section 1></a>\n",
    "# [Data summary](#section 1) "
   ]
  },
  {
   "cell_type": "markdown",
   "metadata": {},
   "source": [
    "## Group the behavioral data by target load and subjects"
   ]
  },
  {
   "cell_type": "code",
   "execution_count": 4,
   "metadata": {
    "code_folding": [
     0,
     1
    ]
   },
   "outputs": [],
   "source": [
    "subject_data = behavior_data.groupby(['num_targets','subject_Num'],operations = {'avg_num_targets_chosen':agg.MEAN('num_targets_chosen'),\n",
    "                                                               'std_num_targets_chosen':agg.STD('num_targets_chosen'),\n",
    "                                                                                'avg_accuracy':agg.MEAN('accuracy')})\n",
    "subject_data = subject_data.sort(['subject_Num','num_targets'])"
   ]
  },
  {
   "cell_type": "code",
   "execution_count": 5,
   "metadata": {},
   "outputs": [
    {
     "data": {
      "text/html": [
       "<pre>Materializing SFrame</pre>"
      ],
      "text/plain": [
       "Materializing SFrame"
      ]
     },
     "metadata": {},
     "output_type": "display_data"
    }
   ],
   "source": [
    "trial_data = behavior_data.groupby(['trial_Num_Original'],operations = {'avg_num_targets_chosen':agg.MEAN('num_targets_chosen'),\n",
    "                                                               'std_num_targets_chosen':agg.STD('num_targets_chosen'),\n",
    "                                                                                'avg_accuracy':agg.MEAN('accuracy'),\n",
    "                                                                       'num_targets':agg.MEAN('num_targets')})\n",
    "trial_data = trial_data.sort(['trial_Num_Original'])\n",
    "trial_data.explore()"
   ]
  },
  {
   "cell_type": "code",
   "execution_count": 6,
   "metadata": {
    "code_folding": [
     0,
     1,
     6
    ]
   },
   "outputs": [
    {
     "data": {
      "text/html": [
       "<div style=\"max-height:1000px;max-width:1500px;overflow:auto;\"><table frame=\"box\" rules=\"cols\">\n",
       "    <tr>\n",
       "        <th style=\"padding-left: 1em; padding-right: 1em; text-align: center\">num_targets</th>\n",
       "        <th style=\"padding-left: 1em; padding-right: 1em; text-align: center\">avg_acc</th>\n",
       "        <th style=\"padding-left: 1em; padding-right: 1em; text-align: center\">Median</th>\n",
       "        <th style=\"padding-left: 1em; padding-right: 1em; text-align: center\">std_acc</th>\n",
       "        <th style=\"padding-left: 1em; padding-right: 1em; text-align: center\">Max_acc</th>\n",
       "        <th style=\"padding-left: 1em; padding-right: 1em; text-align: center\">Min_acc</th>\n",
       "    </tr>\n",
       "    <tr>\n",
       "        <td style=\"padding-left: 1em; padding-right: 1em; text-align: center; vertical-align: top\">3</td>\n",
       "        <td style=\"padding-left: 1em; padding-right: 1em; text-align: center; vertical-align: top\">0.928340707</td>\n",
       "        <td style=\"padding-left: 1em; padding-right: 1em; text-align: center; vertical-align: top\">1.0</td>\n",
       "        <td style=\"padding-left: 1em; padding-right: 1em; text-align: center; vertical-align: top\">0.062024315698396885</td>\n",
       "        <td style=\"padding-left: 1em; padding-right: 1em; text-align: center; vertical-align: top\">1.0</td>\n",
       "        <td style=\"padding-left: 1em; padding-right: 1em; text-align: center; vertical-align: top\">0.71666665</td>\n",
       "    </tr>\n",
       "    <tr>\n",
       "        <td style=\"padding-left: 1em; padding-right: 1em; text-align: center; vertical-align: top\">4</td>\n",
       "        <td style=\"padding-left: 1em; padding-right: 1em; text-align: center; vertical-align: top\">0.8249999999999998</td>\n",
       "        <td style=\"padding-left: 1em; padding-right: 1em; text-align: center; vertical-align: top\">0.75</td>\n",
       "        <td style=\"padding-left: 1em; padding-right: 1em; text-align: center; vertical-align: top\">0.07830229881682912</td>\n",
       "        <td style=\"padding-left: 1em; padding-right: 1em; text-align: center; vertical-align: top\">0.9749999999999999</td>\n",
       "        <td style=\"padding-left: 1em; padding-right: 1em; text-align: center; vertical-align: top\">0.6375</td>\n",
       "    </tr>\n",
       "    <tr>\n",
       "        <td style=\"padding-left: 1em; padding-right: 1em; text-align: center; vertical-align: top\">5</td>\n",
       "        <td style=\"padding-left: 1em; padding-right: 1em; text-align: center; vertical-align: top\">0.7208000000000001</td>\n",
       "        <td style=\"padding-left: 1em; padding-right: 1em; text-align: center; vertical-align: top\">0.8</td>\n",
       "        <td style=\"padding-left: 1em; padding-right: 1em; text-align: center; vertical-align: top\">0.0692196503891778</td>\n",
       "        <td style=\"padding-left: 1em; padding-right: 1em; text-align: center; vertical-align: top\">0.8199999999999998</td>\n",
       "        <td style=\"padding-left: 1em; padding-right: 1em; text-align: center; vertical-align: top\">0.59</td>\n",
       "    </tr>\n",
       "    <tr>\n",
       "        <td style=\"padding-left: 1em; padding-right: 1em; text-align: center; vertical-align: top\">6</td>\n",
       "        <td style=\"padding-left: 1em; padding-right: 1em; text-align: center; vertical-align: top\">0.6438366769999999</td>\n",
       "        <td style=\"padding-left: 1em; padding-right: 1em; text-align: center; vertical-align: top\">0.666667</td>\n",
       "        <td style=\"padding-left: 1em; padding-right: 1em; text-align: center; vertical-align: top\">0.0614876038965044</td>\n",
       "        <td style=\"padding-left: 1em; padding-right: 1em; text-align: center; vertical-align: top\">0.7834500000000002</td>\n",
       "        <td style=\"padding-left: 1em; padding-right: 1em; text-align: center; vertical-align: top\">0.47499994999999995</td>\n",
       "    </tr>\n",
       "    <tr>\n",
       "        <td style=\"padding-left: 1em; padding-right: 1em; text-align: center; vertical-align: top\">7</td>\n",
       "        <td style=\"padding-left: 1em; padding-right: 1em; text-align: center; vertical-align: top\">0.6215384130000001</td>\n",
       "        <td style=\"padding-left: 1em; padding-right: 1em; text-align: center; vertical-align: top\">0.571429</td>\n",
       "        <td style=\"padding-left: 1em; padding-right: 1em; text-align: center; vertical-align: top\">0.04835293750605937</td>\n",
       "        <td style=\"padding-left: 1em; padding-right: 1em; text-align: center; vertical-align: top\">0.7285716</td>\n",
       "        <td style=\"padding-left: 1em; padding-right: 1em; text-align: center; vertical-align: top\">0.5356499999999998</td>\n",
       "    </tr>\n",
       "    <tr>\n",
       "        <td style=\"padding-left: 1em; padding-right: 1em; text-align: center; vertical-align: top\">8</td>\n",
       "        <td style=\"padding-left: 1em; padding-right: 1em; text-align: center; vertical-align: top\">0.5714999999999999</td>\n",
       "        <td style=\"padding-left: 1em; padding-right: 1em; text-align: center; vertical-align: top\">0.625</td>\n",
       "        <td style=\"padding-left: 1em; padding-right: 1em; text-align: center; vertical-align: top\">0.040661714179311234</td>\n",
       "        <td style=\"padding-left: 1em; padding-right: 1em; text-align: center; vertical-align: top\">0.6625</td>\n",
       "        <td style=\"padding-left: 1em; padding-right: 1em; text-align: center; vertical-align: top\">0.46249999999999997</td>\n",
       "    </tr>\n",
       "</table>\n",
       "[6 rows x 6 columns]<br/>\n",
       "</div>"
      ],
      "text/plain": [
       "Columns:\n",
       "\tnum_targets\tint\n",
       "\tavg_acc\tfloat\n",
       "\tMedian\tfloat\n",
       "\tstd_acc\tfloat\n",
       "\tMax_acc\tfloat\n",
       "\tMin_acc\tfloat\n",
       "\n",
       "Rows: 6\n",
       "\n",
       "Data:\n",
       "+-------------+--------------------+----------+----------------------+\n",
       "| num_targets |      avg_acc       |  Median  |       std_acc        |\n",
       "+-------------+--------------------+----------+----------------------+\n",
       "|      3      |    0.928340707     |   1.0    | 0.062024315698396885 |\n",
       "|      4      | 0.8249999999999998 |   0.75   | 0.07830229881682912  |\n",
       "|      5      | 0.7208000000000001 |   0.8    |  0.0692196503891778  |\n",
       "|      6      | 0.6438366769999999 | 0.666667 |  0.0614876038965044  |\n",
       "|      7      | 0.6215384130000001 | 0.571429 | 0.04835293750605937  |\n",
       "|      8      | 0.5714999999999999 |  0.625   | 0.040661714179311234 |\n",
       "+-------------+--------------------+----------+----------------------+\n",
       "+--------------------+---------------------+\n",
       "|      Max_acc       |       Min_acc       |\n",
       "+--------------------+---------------------+\n",
       "|        1.0         |      0.71666665     |\n",
       "| 0.9749999999999999 |        0.6375       |\n",
       "| 0.8199999999999998 |         0.59        |\n",
       "| 0.7834500000000002 | 0.47499994999999995 |\n",
       "|     0.7285716      |  0.5356499999999998 |\n",
       "|       0.6625       | 0.46249999999999997 |\n",
       "+--------------------+---------------------+\n",
       "[6 rows x 6 columns]"
      ]
     },
     "execution_count": 6,
     "metadata": {},
     "output_type": "execute_result"
    }
   ],
   "source": [
    "accuracy_data = subject_data.groupby('num_targets',operations = {'avg_acc':agg.MEAN('avg_accuracy'),\n",
    "                                                               'std_acc':agg.STD('avg_accuracy'),\n",
    "                                                                 'Min_acc':agg.MIN('avg_accuracy'),\n",
    "                                                                 'Max_acc':agg.MAX('avg_accuracy')})\n",
    "median = []\n",
    "\n",
    "for target in behavior_data['num_targets'].unique().sort():\n",
    "    target_data = behavior_data[behavior_data['num_targets']==target]\n",
    "    median.append(np.median(target_data['accuracy'].to_numpy()))\n",
    "\n",
    "accuracy_data = accuracy_data.sort('num_targets')\n",
    "accuracy_data['Median'] = median\n",
    "accuracy_data['num_targets','avg_acc','Median','std_acc','Max_acc','Min_acc']"
   ]
  },
  {
   "cell_type": "code",
   "execution_count": 7,
   "metadata": {
    "code_folding": [
     1,
     7
    ]
   },
   "outputs": [
    {
     "data": {
      "application/vnd.plotly.v1+json": {
       "config": {
        "linkText": "Export to plot.ly",
        "plotlyServerURL": "https://plot.ly",
        "showLink": false
       },
       "data": [
        {
         "autobinx": false,
         "histnorm": "probability density",
         "legendgroup": "3",
         "marker": {
          "color": "rgb(31, 119, 180)"
         },
         "name": "3",
         "opacity": 0.7,
         "type": "histogram",
         "x": [
          0.95005,
          1,
          0.9833500000000001,
          0.9833500000000001,
          0.8833500000000001,
          0.9666999999999999,
          0.8834500000000001,
          0.9167,
          0.9333499999999999,
          0.8834000000000001,
          0.98333335,
          0.8500000999999999,
          0.98333335,
          0.9333333999999999,
          0.98333335,
          0.9666666999999999,
          0.9333333500000001,
          0.9666667,
          0.7333335,
          0.95000005,
          0.95000005,
          0.98333335,
          0.9666666999999999,
          0.9166667499999999,
          0.9333334000000001,
          0.9500000499999999,
          0.9666667,
          0.9833333499999999,
          0.98333335,
          0.9500000499999999,
          0.8500001,
          0.9500000499999999,
          0.8666667,
          0.95000005,
          0.91666675,
          0.8333334499999999,
          0.8666668,
          0.98333335,
          0.98333335,
          0.9333333499999998,
          0.9000000499999999,
          0.95000005,
          0.9666667,
          0.9500000499999999,
          0.8000001000000001,
          0.71666665,
          0.98333335,
          0.86666675,
          0.9666667,
          0.9333334
         ],
         "xaxis": "x",
         "xbins": {
          "end": 1,
          "size": 0.062024315698396885,
          "start": 0.71666665
         },
         "yaxis": "y"
        },
        {
         "autobinx": false,
         "histnorm": "probability density",
         "legendgroup": "4",
         "marker": {
          "color": "rgb(255, 127, 14)"
         },
         "name": "4",
         "opacity": 0.7,
         "type": "histogram",
         "x": [
          0.8374999999999999,
          0.9375,
          0.8624999999999998,
          0.9,
          0.7874999999999999,
          0.8124999999999999,
          0.8875,
          0.9125000000000001,
          0.7874999999999999,
          0.6375,
          0.8500000000000001,
          0.9125000000000001,
          0.9,
          0.7499999999999998,
          0.8999999999999999,
          0.825,
          0.7874999999999999,
          0.8375000000000001,
          0.65,
          0.8874999999999998,
          0.825,
          0.9,
          0.8124999999999999,
          0.7499999999999999,
          0.825,
          0.8749999999999999,
          0.8374999999999998,
          0.9125,
          0.85,
          0.8624999999999999,
          0.7999999999999999,
          0.8374999999999999,
          0.8375,
          0.7499999999999999,
          0.9249999999999998,
          0.65,
          0.725,
          0.9749999999999999,
          0.8875,
          0.775,
          0.825,
          0.8374999999999998,
          0.8500000000000001,
          0.8374999999999998,
          0.6625,
          0.675,
          0.9125,
          0.8375,
          0.7999999999999999,
          0.7374999999999999
         ],
         "xaxis": "x",
         "xbins": {
          "end": 0.9749999999999999,
          "size": 0.07830229881682912,
          "start": 0.6375
         },
         "yaxis": "y"
        },
        {
         "autobinx": false,
         "histnorm": "probability density",
         "legendgroup": "5",
         "marker": {
          "color": "rgb(44, 160, 44)"
         },
         "name": "5",
         "opacity": 0.7,
         "type": "histogram",
         "x": [
          0.73,
          0.8000000000000002,
          0.81,
          0.7999999999999999,
          0.59,
          0.7300000000000001,
          0.8099999999999999,
          0.7800000000000001,
          0.7,
          0.6100000000000001,
          0.7399999999999999,
          0.73,
          0.78,
          0.72,
          0.8,
          0.7400000000000001,
          0.6799999999999999,
          0.77,
          0.5999999999999999,
          0.74,
          0.7800000000000002,
          0.8,
          0.6700000000000002,
          0.7300000000000001,
          0.6499999999999999,
          0.7200000000000001,
          0.6699999999999999,
          0.8199999999999998,
          0.76,
          0.7200000000000001,
          0.7,
          0.7500000000000001,
          0.6100000000000001,
          0.5900000000000001,
          0.8000000000000002,
          0.5900000000000001,
          0.6,
          0.8,
          0.7499999999999999,
          0.6900000000000002,
          0.7,
          0.78,
          0.7000000000000001,
          0.7800000000000002,
          0.64,
          0.62,
          0.8199999999999998,
          0.7699999999999999,
          0.6699999999999999,
          0.7000000000000001
         ],
         "xaxis": "x",
         "xbins": {
          "end": 0.8199999999999998,
          "size": 0.0692196503891778,
          "start": 0.59
         },
         "yaxis": "y"
        },
        {
         "autobinx": false,
         "histnorm": "probability density",
         "legendgroup": "6",
         "marker": {
          "color": "rgb(214, 39, 40)"
         },
         "name": "6",
         "opacity": 0.7,
         "type": "histogram",
         "x": [
          0.6832,
          0.7834500000000002,
          0.6834,
          0.6833500000000001,
          0.60835,
          0.6667,
          0.70835,
          0.68335,
          0.6417,
          0.5666500000000001,
          0.63333325,
          0.47499994999999995,
          0.70833325,
          0.6333333,
          0.75833335,
          0.61666675,
          0.6250001,
          0.6499999999999999,
          0.575,
          0.6416666499999999,
          0.6416666999999999,
          0.7166666500000001,
          0.6166666,
          0.6416666499999998,
          0.625,
          0.6083333999999999,
          0.6166668,
          0.7583333999999998,
          0.6749999999999999,
          0.6666666000000001,
          0.6500000500000002,
          0.65000005,
          0.6000000999999999,
          0.5833333499999999,
          0.6500000000000001,
          0.5916666500000002,
          0.53333335,
          0.74166665,
          0.6916666,
          0.5750000000000002,
          0.5666667,
          0.6333334,
          0.65000005,
          0.73333335,
          0.63333335,
          0.54999995,
          0.7250001,
          0.625,
          0.5499999999999999,
          0.66666675
         ],
         "xaxis": "x",
         "xbins": {
          "end": 0.7834500000000002,
          "size": 0.0614876038965044,
          "start": 0.47499994999999995
         },
         "yaxis": "y"
        },
        {
         "autobinx": false,
         "histnorm": "probability density",
         "legendgroup": "7",
         "marker": {
          "color": "rgb(148, 103, 189)"
         },
         "name": "7",
         "opacity": 0.7,
         "type": "histogram",
         "x": [
          0.6855000000000002,
          0.67835,
          0.6783999999999999,
          0.63555,
          0.5356499999999998,
          0.6425999999999998,
          0.6498999999999999,
          0.6926500000000001,
          0.5927,
          0.5498999999999999,
          0.59285735,
          0.6428572999999997,
          0.6142859,
          0.5785715,
          0.6928572999999999,
          0.6214288499999999,
          0.5785716499999999,
          0.6357145,
          0.5857144999999999,
          0.6214287000000001,
          0.6785715500000001,
          0.6428572000000001,
          0.6000001999999999,
          0.6214287999999998,
          0.55714305,
          0.62857165,
          0.5500000500000001,
          0.7000002000000001,
          0.69285725,
          0.69285735,
          0.6142859499999999,
          0.6500002999999999,
          0.56428575,
          0.5785716500000001,
          0.6642859,
          0.5357144,
          0.61428585,
          0.65714295,
          0.6214287000000001,
          0.5785716500000001,
          0.56428585,
          0.6357144499999999,
          0.5928572499999999,
          0.7285716,
          0.5714287,
          0.6071429499999998,
          0.6500001,
          0.6500001999999999,
          0.5714286499999999,
          0.5571429499999999
         ],
         "xaxis": "x",
         "xbins": {
          "end": 0.7285716,
          "size": 0.04835293750605937,
          "start": 0.5356499999999998
         },
         "yaxis": "y"
        },
        {
         "autobinx": false,
         "histnorm": "probability density",
         "legendgroup": "8",
         "marker": {
          "color": "rgb(140, 86, 75)"
         },
         "name": "8",
         "opacity": 0.7,
         "type": "histogram",
         "x": [
          0.5999999999999999,
          0.60625,
          0.5625,
          0.60625,
          0.5750000000000001,
          0.59375,
          0.6125,
          0.5437500000000001,
          0.58125,
          0.5,
          0.575,
          0.5750000000000001,
          0.60625,
          0.49999999999999994,
          0.5999999999999999,
          0.5625,
          0.5499999999999998,
          0.6125,
          0.5375,
          0.5749999999999998,
          0.6062500000000001,
          0.61875,
          0.61875,
          0.5625,
          0.5375000000000001,
          0.54375,
          0.59375,
          0.61875,
          0.5875,
          0.54375,
          0.5625000000000001,
          0.5812500000000002,
          0.5499999999999999,
          0.47499999999999987,
          0.60625,
          0.5750000000000001,
          0.5499999999999999,
          0.6625,
          0.5562500000000001,
          0.5187499999999999,
          0.49375,
          0.6000000000000001,
          0.5750000000000001,
          0.64375,
          0.5687499999999999,
          0.5312499999999999,
          0.5812499999999999,
          0.59375,
          0.46249999999999997,
          0.58125
         ],
         "xaxis": "x",
         "xbins": {
          "end": 0.6625,
          "size": 0.040661714179311234,
          "start": 0.46249999999999997
         },
         "yaxis": "y"
        },
        {
         "legendgroup": "3",
         "marker": {
          "color": "rgb(31, 119, 180)"
         },
         "mode": "lines",
         "name": "3",
         "showlegend": false,
         "type": "scatter",
         "x": [
          0.71666665,
          0.7172333167,
          0.7177999834,
          0.7183666501,
          0.7189333167999999,
          0.7194999835,
          0.7200666501999999,
          0.7206333169,
          0.7211999835999999,
          0.7217666503,
          0.7223333169999999,
          0.7228999837,
          0.7234666503999999,
          0.7240333171,
          0.7245999838,
          0.7251666505,
          0.7257333172,
          0.7262999839,
          0.7268666506,
          0.7274333172999999,
          0.727999984,
          0.7285666506999999,
          0.7291333174,
          0.7296999840999999,
          0.7302666508,
          0.7308333174999999,
          0.7313999842,
          0.7319666509,
          0.7325333176,
          0.7330999843,
          0.733666651,
          0.7342333177,
          0.7347999843999999,
          0.7353666511,
          0.7359333177999999,
          0.7364999845,
          0.7370666511999999,
          0.7376333179,
          0.7381999845999999,
          0.7387666513,
          0.7393333179999999,
          0.7398999847,
          0.7404666514,
          0.7410333181,
          0.7415999848,
          0.7421666514999999,
          0.7427333182,
          0.7432999848999999,
          0.7438666516,
          0.7444333182999999,
          0.744999985,
          0.7455666516999999,
          0.7461333184,
          0.7466999851,
          0.7472666518,
          0.7478333185,
          0.7483999852,
          0.7489666519,
          0.7495333185999999,
          0.7500999853,
          0.7506666519999999,
          0.7512333187,
          0.7517999853999999,
          0.7523666521,
          0.7529333187999999,
          0.7534999855,
          0.7540666521999999,
          0.7546333189,
          0.7551999856,
          0.7557666523,
          0.756333319,
          0.7568999856999999,
          0.7574666524,
          0.7580333190999999,
          0.7585999858,
          0.7591666524999999,
          0.7597333192,
          0.7602999858999999,
          0.7608666526,
          0.7614333193,
          0.761999986,
          0.7625666527,
          0.7631333194,
          0.7636999861,
          0.7642666528,
          0.7648333195,
          0.7653999861999999,
          0.7659666529,
          0.7665333195999999,
          0.7670999863,
          0.7676666529999999,
          0.7682333197,
          0.7687999863999999,
          0.7693666531,
          0.7699333198,
          0.7704999865,
          0.7710666532,
          0.7716333199,
          0.7721999866,
          0.7727666532999999,
          0.77333332,
          0.7738999866999999,
          0.7744666534,
          0.7750333200999999,
          0.7755999868,
          0.7761666534999999,
          0.7767333202,
          0.7772999869,
          0.7778666536,
          0.7784333203,
          0.778999987,
          0.7795666537,
          0.7801333203999999,
          0.7806999871,
          0.7812666537999999,
          0.7818333205,
          0.7823999871999999,
          0.7829666539,
          0.7835333205999999,
          0.7840999873,
          0.784666654,
          0.7852333207,
          0.7857999874,
          0.7863666541,
          0.7869333208,
          0.7874999874999999,
          0.7880666542,
          0.7886333208999999,
          0.7891999876,
          0.7897666542999999,
          0.790333321,
          0.7908999877,
          0.7914666544,
          0.7920333210999999,
          0.7925999878,
          0.7931666545,
          0.7937333212,
          0.7942999879,
          0.7948666545999999,
          0.7954333213,
          0.7959999879999999,
          0.7965666547,
          0.7971333213999999,
          0.7976999881,
          0.7982666547999999,
          0.7988333215,
          0.7993999882,
          0.7999666549,
          0.8005333216,
          0.8010999883,
          0.801666655,
          0.8022333217,
          0.8027999884,
          0.8033666550999999,
          0.8039333218,
          0.8044999884999999,
          0.8050666552,
          0.8056333218999999,
          0.8061999886,
          0.8067666552999999,
          0.807333322,
          0.8078999887,
          0.8084666554,
          0.8090333221,
          0.8095999888,
          0.8101666555,
          0.8107333221999999,
          0.8112999889,
          0.8118666555999999,
          0.8124333223,
          0.8129999889999999,
          0.8135666557,
          0.8141333224,
          0.8146999891,
          0.8152666558,
          0.8158333225,
          0.8163999892,
          0.8169666559,
          0.8175333226,
          0.8180999892999999,
          0.818666656,
          0.8192333226999999,
          0.8197999894,
          0.8203666560999999,
          0.8209333228,
          0.8214999894999999,
          0.8220666562,
          0.8226333229,
          0.8231999896,
          0.8237666563,
          0.824333323,
          0.8248999897,
          0.8254666563999999,
          0.8260333231,
          0.8265999897999999,
          0.8271666565,
          0.8277333231999999,
          0.8282999899,
          0.8288666566,
          0.8294333233,
          0.82999999,
          0.8305666567,
          0.8311333234,
          0.8316999901,
          0.8322666568,
          0.8328333235,
          0.8333999902,
          0.8339666568999999,
          0.8345333236,
          0.8350999902999999,
          0.835666657,
          0.8362333236999999,
          0.8367999904,
          0.8373666571,
          0.8379333238,
          0.8384999905,
          0.8390666572,
          0.8396333239,
          0.8401999906,
          0.8407666573,
          0.8413333239999999,
          0.8418999907,
          0.8424666573999999,
          0.8430333241,
          0.8435999908,
          0.8441666575,
          0.8447333242,
          0.8452999909,
          0.8458666576,
          0.8464333243,
          0.846999991,
          0.8475666577000001,
          0.8481333244,
          0.8486999910999999,
          0.8492666578,
          0.8498333245,
          0.8503999912,
          0.8509666578999999,
          0.8515333246,
          0.8520999913,
          0.852666658,
          0.8532333247,
          0.8537999914,
          0.8543666581,
          0.8549333248,
          0.8554999915,
          0.8560666582,
          0.8566333249,
          0.8571999915999999,
          0.8577666583,
          0.858333325,
          0.8588999917,
          0.8594666583999999,
          0.8600333251,
          0.8605999918,
          0.8611666585,
          0.8617333252,
          0.8622999919000001,
          0.8628666586,
          0.8634333252999999,
          0.863999992,
          0.8645666587,
          0.8651333254,
          0.8656999920999999,
          0.8662666588,
          0.8668333255,
          0.8673999922,
          0.8679666589,
          0.8685333256,
          0.8690999923,
          0.869666659,
          0.8702333257,
          0.8707999924000001,
          0.8713666591,
          0.8719333257999999,
          0.8724999925,
          0.8730666592,
          0.8736333259,
          0.8741999925999999,
          0.8747666593,
          0.875333326,
          0.8758999927,
          0.8764666594,
          0.8770333261,
          0.8775999928,
          0.8781666595,
          0.8787333262,
          0.8792999929,
          0.8798666596,
          0.8804333262999999,
          0.880999993,
          0.8815666597,
          0.8821333264,
          0.8826999931,
          0.8832666598,
          0.8838333265,
          0.8843999932,
          0.8849666599,
          0.8855333266000001,
          0.8860999933,
          0.8866666599999999,
          0.8872333267,
          0.8877999934,
          0.8883666601,
          0.8889333267999999,
          0.8894999935,
          0.8900666602,
          0.8906333269,
          0.8911999936,
          0.8917666603,
          0.892333327,
          0.8928999937,
          0.8934666604,
          0.8940333271,
          0.8945999938,
          0.8951666604999999,
          0.8957333272,
          0.8962999939,
          0.8968666606,
          0.8974333273,
          0.897999994,
          0.8985666607,
          0.8991333274,
          0.8996999941,
          0.9002666608000001,
          0.9008333275,
          0.9013999941999999,
          0.9019666609,
          0.9025333276,
          0.9030999943,
          0.9036666609999999,
          0.9042333277,
          0.9047999944,
          0.9053666611,
          0.9059333278,
          0.9064999945,
          0.9070666612,
          0.9076333279,
          0.9081999946,
          0.9087666613000001,
          0.909333328,
          0.9098999946999999,
          0.9104666614,
          0.9110333281,
          0.9115999948,
          0.9121666614999999,
          0.9127333282,
          0.9132999949,
          0.9138666616,
          0.9144333283,
          0.9149999950000001,
          0.9155666617,
          0.9161333284,
          0.9166999951,
          0.9172666618,
          0.9178333285,
          0.9183999951999999,
          0.9189666619,
          0.9195333286,
          0.9200999953,
          0.920666662,
          0.9212333287,
          0.9217999954,
          0.9223666621,
          0.9229333288,
          0.9234999955000001,
          0.9240666622,
          0.9246333288999999,
          0.9251999956,
          0.9257666623,
          0.926333329,
          0.9268999956999999,
          0.9274666624,
          0.9280333291,
          0.9285999958,
          0.9291666625,
          0.9297333292,
          0.9302999959,
          0.9308666626,
          0.9314333293,
          0.931999996,
          0.9325666627,
          0.9331333293999999,
          0.9336999961,
          0.9342666628,
          0.9348333295,
          0.9353999962,
          0.9359666629,
          0.9365333296,
          0.9370999963,
          0.937666663,
          0.9382333297000001,
          0.9387999964,
          0.9393666630999999,
          0.9399333298,
          0.9404999965,
          0.9410666632,
          0.9416333298999999,
          0.9421999966,
          0.9427666633,
          0.94333333,
          0.9438999967,
          0.9444666634,
          0.9450333301,
          0.9455999968,
          0.9461666635,
          0.9467333302000001,
          0.9472999969,
          0.9478666635999999,
          0.9484333303,
          0.948999997,
          0.9495666637,
          0.9501333304,
          0.9506999971,
          0.9512666638,
          0.9518333305,
          0.9523999972,
          0.9529666639000001,
          0.9535333306,
          0.9540999973,
          0.954666664,
          0.9552333307,
          0.9557999974,
          0.9563666640999999,
          0.9569333308,
          0.9574999975,
          0.9580666642,
          0.9586333309,
          0.9591999976,
          0.9597666643,
          0.960333331,
          0.9608999977,
          0.9614666644000001,
          0.9620333311,
          0.9625999977999999,
          0.9631666645,
          0.9637333312,
          0.9642999979,
          0.9648666645999999,
          0.9654333313,
          0.965999998,
          0.9665666647,
          0.9671333313999999,
          0.9676999981000001,
          0.9682666648,
          0.9688333315,
          0.9693999982,
          0.9699666649,
          0.9705333316,
          0.9710999982999999,
          0.971666665,
          0.9722333317,
          0.9727999984,
          0.9733666650999999,
          0.9739333318,
          0.9744999985,
          0.9750666652,
          0.9756333319,
          0.9761999986,
          0.9767666653,
          0.9773333319999999,
          0.9778999987,
          0.9784666654,
          0.9790333321,
          0.9795999987999999,
          0.9801666655,
          0.9807333322,
          0.9812999989,
          0.9818666655999999,
          0.9824333323,
          0.982999999,
          0.9835666657,
          0.9841333324,
          0.9846999991,
          0.9852666658,
          0.9858333324999999,
          0.9863999992,
          0.9869666659,
          0.9875333326,
          0.9880999992999999,
          0.988666666,
          0.9892333327,
          0.9897999994,
          0.9903666661,
          0.9909333328,
          0.9914999995,
          0.9920666662,
          0.9926333329,
          0.9931999996,
          0.9937666663,
          0.9943333329999999,
          0.9948999997,
          0.9954666664,
          0.9960333331,
          0.9965999997999999,
          0.9971666665,
          0.9977333332,
          0.9982999999,
          0.9988666666,
          0.9994333333
         ],
         "xaxis": "x",
         "y": [
          0.5177403617780479,
          0.5206063033041178,
          0.5233126509595325,
          0.5258574071422446,
          0.5282387679363856,
          0.530455127435212,
          0.5325050817413601,
          0.5343874326338528,
          0.5361011908919889,
          0.5376455792670586,
          0.5390200350935728,
          0.5402242125325524,
          0.5412579844402396,
          0.5421214438564732,
          0.5428149051078498,
          0.5433389045216986,
          0.5436942007478103,
          0.5438817746857891,
          0.5439028290168466,
          0.5437587873397841,
          0.5434512929118758,
          0.5429822069963092,
          0.5423536068187856,
          0.5415677831368427,
          0.5406272374263825,
          0.5395346786908392,
          0.5382930198993189,
          0.536905374060968,
          0.535375049943697,
          0.5337055474462629,
          0.531900552633561,
          0.5299639324457928,
          0.5278997290929749,
          0.5257121541470184,
          0.523405582344348,
          0.5209845451127244,
          0.518453723836614,
          0.5158179428760639,
          0.5130821623546509,
          0.5102514707326097,
          0.5073310771817758,
          0.5043263037794167,
          0.5012425775384938,
          0.4980854222922297,
          0.49486045045121874,
          0.4915733546516058,
          0.48822989931306826,
          0.4848359121255701,
          0.4813972754839474,
          0.4779199178895338,
          0.4744098053380202,
          0.47087293271278663,
          0.46731531520285086,
          0.46374297976450246,
          0.4601619566455174,
          0.45657827099065407,
          0.45299793454689524,
          0.4494269374865742,
          0.44587124036621834,
          0.44233676623852103,
          0.4388293929344503,
          0.43535494553200366,
          0.431919189027623,
          0.4285278212257072,
          0.42518646586108605,
          0.4219006659686548,
          0.4186758775137422,
          0.4155174632960316,
          0.4124306871391687,
          0.4094207083773822,
          0.4064925766496737,
          0.40365122701131206,
          0.4009014753714998,
          0.39824801426524464,
          0.3956954089665521,
          0.39324809394916777,
          0.3909103697001708,
          0.3886863998907837,
          0.386580208907823,
          0.38459567974826075,
          0.38273655227840114,
          0.38100642185821965,
          0.37940873833045036,
          0.3779468053730239,
          0.37662378021253046,
          0.37544267369538803,
          0.37440635071249284,
          0.3735175309721531,
          0.37277879011521925,
          0.3721925611653916,
          0.3717611363068137,
          0.37148666898018606,
          0.37137117628778765,
          0.37141654169697186,
          0.37162451803091523,
          0.3719967307346197,
          0.372534681403451,
          0.37323975156077943,
          0.3741132066706351,
          0.3751562003706516,
          0.3763697789099924,
          0.37775488577638966,
          0.37931236649593464,
          0.38104297358877537,
          0.38294737166348114,
          0.3850261426324304,
          0.38727979103028654,
          0.3897087494173171,
          0.3923133838491105,
          0.3950939993940499,
          0.3980508456797812,
          0.401184122449852,
          0.404493985111646,
          0.4079805502568092,
          0.41164390113540167,
          0.41548409306518963,
          0.4195011587576377,
          0.4236951135424509,
          0.4280659604727538,
          0.43261369529339816,
          0.4373383112552334,
          0.442239803758662,
          0.44731817481027764,
          0.45257343727691945,
          0.45800561892210134,
          0.4636147662103639,
          0.46940094786582987,
          0.47536425817191175,
          0.48150481999994427,
          0.4878227875552522,
          0.4943183488300722,
          0.5009917277535516,
          0.5078431860300175,
          0.5148730246576024,
          0.5220815851202893,
          0.529469250247434,
          0.5370364447358309,
          0.5447836353304211,
          0.5527113306607611,
          0.5608200807314991,
          0.5691104760660839,
          0.577583146504115,
          0.5862387596537211,
          0.5950780190015497,
          0.604101661683928,
          0.6133104559239423,
          0.6227051981401551,
          0.6322867097338349,
          0.6420558335625633,
          0.6520134301091243,
          0.6621603733556458,
          0.6724975463738676,
          0.6830258366434829,
          0.6937461311113218,
          0.7046593110051831,
          0.7157662464168599,
          0.7270677906698747,
          0.7385647744881204,
          0.7502579999824762,
          0.7621482344730707,
          0.7742362041656594,
          0.7865225877010803,
          0.7990080095974431,
          0.8116930336051684,
          0.8245781559954537,
          0.8376637988032547,
          0.8509503030460969,
          0.8644379219405043,
          0.8781268141379215,
          0.8920170370023611,
          0.9061085399519935,
          0.9204011578871317,
          0.9348946047269268,
          0.9495884670771975,
          0.9644821980516355,
          0.9795751112684585,
          0.9948663750444772,
          1.0103550068081264,
          1.026039867752832,
          1.0419196577515475,
          1.057992910553022,
          1.0742579892796948,
          1.0907130822467355,
          1.1073561991209802,
          1.1241851674380419,
          1.1411976294949968,
          1.158391039635475,
          1.1757626619430313,
          1.1933095683579844,
          1.2110286372319445,
          1.228916552333324,
          1.2469698023162905,
          1.2651846806644529,
          1.2835572861197457,
          1.3020835236057284,
          1.3207591056536312,
          1.3395795543381694,
          1.3585402037292262,
          1.377636202864132,
          1.3968625192442967,
          1.4162139428586331,
          1.4356850907350076,
          1.4552704120198623,
          1.4749641935847178,
          1.4947605661572823,
          1.5146535109733996,
          1.5346368669450683,
          1.554704338338296,
          1.5748495029535634,
          1.5950658208001551,
          1.6153466432547008,
          1.6356852226927516,
          1.656074722581287,
          1.6765082280186232,
          1.6969787567072079,
          1.7174792703435433,
          1.7380026864082982,
          1.7585418903387329,
          1.7790897480642518,
          1.7996391188850727,
          1.8201828686727417,
          1.8407138833704941,
          1.8612250827701817,
          1.8817094345419272,
          1.9021599684913988,
          1.9225697910191004,
          1.9429320997549995,
          1.9632401983411862,
          1.9834875113345398,
          2.003667599200608,
          2.0237741733694357,
          2.0438011113233214,
          2.063742471686151,
          2.0835925092833345,
          2.1033456901410426,
          2.1229967063930335,
          2.1425404910631465,
          2.1619722326911965,
          2.181287389769863,
          2.20048170496007,
          2.219551219052304,
          2.2384922846412936,
          2.2573015794815015,
          2.2759761194912027,
          2.294513271372865,
          2.312910764818093,
          2.331166704265485,
          2.349279580180379,
          2.367248279825804,
          2.3850720974945387,
          2.4027507441728058,
          2.4202843566068277,
          2.4376735057442067,
          2.454919204522875,
          2.4720229149813355,
          2.4889865546648187,
          2.5058125023030287,
          2.5225036027361836,
          2.539063171067328,
          2.555494996020013,
          2.5718033424817457,
          2.587992953214958,
          2.604069049718703,
          2.620037332225616,
          2.635903978820311,
          2.6516756436668425,
          2.667359454334613,
          2.682963008213592,
          2.69849436801155,
          2.7139620563277074,
          2.7293750492989277,
          2.744742769316528,
          2.760075076813442,
          2.775382261123521,
          2.790675030416523,
          2.8059645007142953,
          2.8212621839955863,
          2.8365799753988257,
          2.851930139534218,
          2.8673252959183126,
          2.882778403546245,
          2.898302744618773,
          2.913911907443069,
          2.9296197685281364,
          2.9454404738976923,
          2.9613884196449973,
          2.9774782317561534,
          2.993724745229918,
          3.0101429825240023,
          3.026748131359395,
          3.0435555219158483,
          3.0605806034532876,
          3.0778389203954117,
          3.0953460879130903,
          3.113117767046579,
          3.131169639406929,
          3.1495173814979522,
          3.1681766387014996,
          3.187162998969555,
          3.2064919662678126,
          3.226178933816111,
          3.246239157171833,
          3.2666877272030868,
          3.287539542998992,
          3.3088092847648047,
          3.330511386749872,
          3.3526600102567756,
          3.3752690167799537,
          3.398351941322182,
          3.421921965937053,
          3.4459918935455045,
          3.4705741220738955,
          3.4956806189608605,
          3.5213228960793534,
          3.5475119851198342,
          3.5742584134795505,
          3.6015721807020453,
          3.6294627355099127,
          3.657938953472857,
          3.6870091153516618,
          3.7166808861574543,
          3.746961294964289,
          3.7778567155113487,
          3.8093728476297444,
          3.841514699526857,
          3.874286570959721,
          3.907692037326929,
          3.9417339347066136,
          3.9764143458661483,
          4.01173458726723,
          4.047695197087828,
          4.084295924280312,
          4.121535718683093,
          4.15941272220076,
          4.197924261065556,
          4.237066839190635,
          4.276836132623628,
          4.317226985106313,
          4.358233404744488,
          4.399848561789268,
          4.442064787529417,
          4.484873574291684,
          4.528265576544083,
          4.572230613094907,
          4.616757670378238,
          4.661834906814548,
          4.7074496582329814,
          4.753588444340098,
          4.80023697621792,
          4.847380164832347,
          4.895002130531166,
          4.943086213509492,
          4.991614985218797,
          5.0405702606941105,
          5.0899331117728535,
          5.139683881177425,
          5.189802197432467,
          5.240266990586659,
          5.291056508708072,
          5.342148335121315,
          5.3935194063538034,
          5.44514603075796,
          5.4970039077759605,
          5.549068147812663,
          5.601313292682842,
          5.653713336598014,
          5.706241747658671,
          5.758871489817505,
          5.811575045279415,
          5.8643244373045755,
          5.917091253381063,
          5.969846668734185,
          6.022561470140019,
          6.075206080011653,
          6.127750580727224,
          6.180164739169734,
          6.232418031449466,
          6.2844796677810875,
          6.336318617488219,
          6.387903634109769,
          6.439203280583067,
          6.490185954480492,
          6.540819913277204,
          6.59107329962899,
          6.640914166640491,
          6.690310503105537,
          6.739230258702415,
          6.787641369128243,
          6.835511781158192,
          6.882809477616107,
          6.929502502244858,
          6.9755589844654935,
          7.02094716401584,
          7.065635415460114,
          7.109592272562146,
          7.152786452516075,
          7.195186880029072,
          7.236762711251692,
          7.2774833575521045,
          7.317318509131307,
          7.356238158476999,
          7.394212623654245,
          7.431212571431538,
          7.467209040241319,
          7.502173462973954,
          7.53607768960465,
          7.568894009652331,
          7.600595174470022,
          7.631154419365419,
          7.660545485550499,
          7.688742641918328,
          7.715720706644875,
          7.741455068612861,
          7.765921708653965,
          7.789097220605045,
          7.810958832172837,
          7.831484425600826,
          7.850652558130718,
          7.86844248224991,
          7.8848341657150085,
          7.899808311340203,
          7.913346376537921,
          7.925430592597804,
          7.936043983688598,
          7.945170385566049,
          7.952794463968425,
          7.958901732679809,
          7.9634785712397775,
          7.966512242276512,
          7.967990908439066,
          7.9679036489029595,
          7.966240475421808,
          7.962992347896538,
          7.9581511894321855,
          7.9517099008513155,
          7.943662374631672,
          7.934003508234879,
          7.922729216791876,
          7.90983644511,
          7.895323178965876,
          7.87918845564772,
          7.861432373710097,
          7.842056101903972,
          7.821061887244597,
          7.798453062179884,
          7.774234050821871,
          7.748410374204416,
          7.72098865453054,
          7.691976618373559,
          7.661383098796951,
          7.6292180363589415,
          7.595492478968916,
          7.560218580564073,
          7.523409598576369,
          7.485079890161415,
          7.445244907162976,
          7.403921189788469,
          7.361126358973468,
          7.316879107415336,
          7.271199189258539,
          7.224107408417136,
          7.175625605522451,
          7.125776643487061,
          7.074584391679168,
          7.022073708704507,
          6.9682704237965,
          6.913201316818294,
          6.8568940968840435,
          6.799377379610054,
          6.7406806630102745,
          6.680834302053685,
          6.619869481905243,
          6.557818189875159,
          6.494713186105488,
          6.430587973025756,
          6.365476763613899,
          6.299414448501274,
          6.2324365619648585,
          6.164579246852451,
          6.095879218490274,
          6.02637372762561,
          5.956100522460052,
          5.8850978098317785,
          5.813404215608304,
          5.7410587443538486,
          5.668100738337403,
          5.594569835950828,
          5.520505929607352,
          5.445949123193844,
          5.370939689151075,
          5.295518025258291,
          5.219724611199543,
          5.143599964990276,
          5.06718459934349,
          4.990518978055628,
          4.9136434724925815,
          4.8365983182564225,
          4.759423572113293,
          4.682159069262692,
          4.604844381027943
         ],
         "yaxis": "y"
        },
        {
         "legendgroup": "4",
         "marker": {
          "color": "rgb(255, 127, 14)"
         },
         "mode": "lines",
         "name": "4",
         "showlegend": false,
         "type": "scatter",
         "x": [
          0.6375,
          0.6381749999999999,
          0.6388499999999999,
          0.639525,
          0.6402,
          0.640875,
          0.64155,
          0.6422249999999999,
          0.6428999999999999,
          0.643575,
          0.64425,
          0.644925,
          0.6456,
          0.6462749999999999,
          0.6469499999999999,
          0.647625,
          0.6483,
          0.648975,
          0.64965,
          0.6503249999999999,
          0.6509999999999999,
          0.651675,
          0.65235,
          0.653025,
          0.6537,
          0.6543749999999999,
          0.6550499999999999,
          0.655725,
          0.6564,
          0.657075,
          0.65775,
          0.6584249999999999,
          0.6590999999999999,
          0.659775,
          0.66045,
          0.661125,
          0.6617999999999999,
          0.6624749999999999,
          0.6631499999999999,
          0.663825,
          0.6645,
          0.665175,
          0.6658499999999999,
          0.6665249999999999,
          0.6671999999999999,
          0.667875,
          0.66855,
          0.669225,
          0.6698999999999999,
          0.6705749999999999,
          0.6712499999999999,
          0.671925,
          0.6726,
          0.673275,
          0.6739499999999999,
          0.6746249999999999,
          0.6752999999999999,
          0.675975,
          0.67665,
          0.677325,
          0.6779999999999999,
          0.6786749999999999,
          0.6793499999999999,
          0.680025,
          0.6807,
          0.681375,
          0.6820499999999999,
          0.6827249999999999,
          0.6833999999999999,
          0.684075,
          0.68475,
          0.685425,
          0.6860999999999999,
          0.6867749999999999,
          0.6874499999999999,
          0.688125,
          0.6888,
          0.689475,
          0.6901499999999999,
          0.6908249999999999,
          0.6914999999999999,
          0.692175,
          0.69285,
          0.693525,
          0.6941999999999999,
          0.6948749999999999,
          0.6955499999999999,
          0.696225,
          0.6969,
          0.697575,
          0.6982499999999999,
          0.6989249999999999,
          0.6995999999999999,
          0.700275,
          0.70095,
          0.7016249999999999,
          0.7022999999999999,
          0.7029749999999999,
          0.7036499999999999,
          0.704325,
          0.705,
          0.7056749999999999,
          0.7063499999999999,
          0.7070249999999999,
          0.7077,
          0.708375,
          0.70905,
          0.7097249999999999,
          0.7103999999999999,
          0.7110749999999999,
          0.7117499999999999,
          0.712425,
          0.7131,
          0.7137749999999999,
          0.7144499999999999,
          0.7151249999999999,
          0.7158,
          0.716475,
          0.71715,
          0.7178249999999999,
          0.7184999999999999,
          0.7191749999999999,
          0.7198499999999999,
          0.720525,
          0.7212,
          0.7218749999999999,
          0.7225499999999999,
          0.7232249999999999,
          0.7239,
          0.724575,
          0.72525,
          0.7259249999999999,
          0.7265999999999999,
          0.7272749999999999,
          0.7279499999999999,
          0.728625,
          0.7293,
          0.7299749999999999,
          0.7306499999999999,
          0.7313249999999999,
          0.732,
          0.732675,
          0.73335,
          0.7340249999999999,
          0.7346999999999999,
          0.7353749999999999,
          0.7360499999999999,
          0.736725,
          0.7373999999999999,
          0.7380749999999999,
          0.7387499999999999,
          0.7394249999999999,
          0.7401,
          0.740775,
          0.7414499999999999,
          0.7421249999999999,
          0.7427999999999999,
          0.7434749999999999,
          0.74415,
          0.744825,
          0.7454999999999999,
          0.7461749999999999,
          0.7468499999999999,
          0.747525,
          0.7482,
          0.748875,
          0.7495499999999999,
          0.7502249999999999,
          0.7508999999999999,
          0.7515749999999999,
          0.75225,
          0.752925,
          0.7535999999999999,
          0.7542749999999999,
          0.7549499999999999,
          0.7556249999999999,
          0.7563,
          0.756975,
          0.7576499999999999,
          0.7583249999999999,
          0.7589999999999999,
          0.7596749999999999,
          0.7603499999999999,
          0.761025,
          0.7616999999999999,
          0.7623749999999999,
          0.7630499999999999,
          0.763725,
          0.7644,
          0.765075,
          0.7657499999999999,
          0.7664249999999999,
          0.7670999999999999,
          0.7677749999999999,
          0.7684499999999999,
          0.769125,
          0.7697999999999999,
          0.7704749999999999,
          0.77115,
          0.771825,
          0.7725,
          0.773175,
          0.7738499999999999,
          0.7745249999999999,
          0.7751999999999999,
          0.7758749999999999,
          0.7765499999999999,
          0.7772249999999999,
          0.7778999999999999,
          0.7785749999999999,
          0.7792499999999999,
          0.779925,
          0.7806,
          0.7812749999999999,
          0.7819499999999999,
          0.7826249999999999,
          0.7832999999999999,
          0.7839749999999999,
          0.7846499999999998,
          0.7853249999999999,
          0.7859999999999999,
          0.7866749999999999,
          0.7873499999999999,
          0.7880249999999999,
          0.7887,
          0.7893749999999999,
          0.7900499999999999,
          0.7907249999999999,
          0.7913999999999999,
          0.7920749999999999,
          0.79275,
          0.7934249999999999,
          0.7940999999999999,
          0.7947749999999999,
          0.7954499999999999,
          0.796125,
          0.7968,
          0.7974749999999999,
          0.7981499999999999,
          0.7988249999999999,
          0.7994999999999999,
          0.8001749999999999,
          0.80085,
          0.8015249999999999,
          0.8021999999999999,
          0.8028749999999999,
          0.8035499999999999,
          0.804225,
          0.8049,
          0.8055749999999999,
          0.8062499999999999,
          0.8069249999999999,
          0.8075999999999999,
          0.8082749999999999,
          0.80895,
          0.8096249999999999,
          0.8102999999999999,
          0.8109749999999999,
          0.8116499999999999,
          0.812325,
          0.813,
          0.8136749999999999,
          0.8143499999999999,
          0.8150249999999999,
          0.8156999999999999,
          0.8163749999999999,
          0.8170499999999999,
          0.8177249999999999,
          0.8183999999999999,
          0.8190749999999999,
          0.8197499999999999,
          0.820425,
          0.8210999999999999,
          0.8217749999999999,
          0.8224499999999999,
          0.8231249999999999,
          0.8237999999999999,
          0.8244749999999998,
          0.8251499999999999,
          0.8258249999999999,
          0.8264999999999999,
          0.8271749999999999,
          0.8278499999999999,
          0.828525,
          0.8291999999999999,
          0.8298749999999999,
          0.8305499999999999,
          0.8312249999999999,
          0.8318999999999999,
          0.832575,
          0.8332499999999999,
          0.8339249999999999,
          0.8345999999999999,
          0.8352749999999999,
          0.83595,
          0.836625,
          0.8372999999999999,
          0.8379749999999999,
          0.8386499999999999,
          0.8393249999999999,
          0.8399999999999999,
          0.840675,
          0.8413499999999999,
          0.8420249999999999,
          0.8426999999999999,
          0.8433749999999999,
          0.84405,
          0.844725,
          0.8453999999999999,
          0.8460749999999999,
          0.8467499999999999,
          0.8474249999999999,
          0.8480999999999999,
          0.8487749999999998,
          0.8494499999999999,
          0.8501249999999999,
          0.8507999999999999,
          0.8514749999999999,
          0.85215,
          0.8528249999999999,
          0.8534999999999999,
          0.8541749999999999,
          0.8548499999999999,
          0.8555249999999999,
          0.8561999999999999,
          0.8568749999999998,
          0.8575499999999999,
          0.8582249999999999,
          0.8588999999999999,
          0.8595749999999999,
          0.86025,
          0.8609249999999999,
          0.8615999999999999,
          0.8622749999999999,
          0.8629499999999999,
          0.8636249999999999,
          0.8642999999999998,
          0.8649749999999998,
          0.8656499999999999,
          0.8663249999999999,
          0.8669999999999999,
          0.8676749999999999,
          0.86835,
          0.8690249999999999,
          0.8696999999999999,
          0.8703749999999999,
          0.8710499999999999,
          0.8717249999999999,
          0.8723999999999998,
          0.8730749999999998,
          0.8737499999999999,
          0.8744249999999999,
          0.8750999999999999,
          0.875775,
          0.87645,
          0.8771249999999999,
          0.8777999999999999,
          0.8784749999999999,
          0.8791499999999999,
          0.8798249999999999,
          0.8804999999999998,
          0.8811749999999998,
          0.8818499999999999,
          0.8825249999999999,
          0.8831999999999999,
          0.883875,
          0.88455,
          0.8852249999999999,
          0.8858999999999999,
          0.8865749999999999,
          0.8872499999999999,
          0.8879249999999999,
          0.8885999999999998,
          0.8892749999999998,
          0.8899499999999999,
          0.8906249999999999,
          0.8912999999999999,
          0.891975,
          0.8926499999999999,
          0.8933249999999999,
          0.8939999999999999,
          0.8946749999999999,
          0.8953499999999999,
          0.8960249999999998,
          0.8966999999999998,
          0.8973749999999999,
          0.8980499999999999,
          0.8987249999999999,
          0.8993999999999999,
          0.900075,
          0.9007499999999999,
          0.9014249999999999,
          0.9020999999999999,
          0.9027749999999999,
          0.9034499999999999,
          0.9041249999999998,
          0.9047999999999999,
          0.9054749999999998,
          0.9061499999999999,
          0.9068249999999999,
          0.9075,
          0.908175,
          0.9088499999999999,
          0.9095249999999999,
          0.9101999999999999,
          0.9108749999999999,
          0.9115499999999999,
          0.9122249999999998,
          0.9128999999999998,
          0.9135749999999999,
          0.9142499999999999,
          0.914925,
          0.9155999999999999,
          0.916275,
          0.9169499999999999,
          0.9176249999999999,
          0.9182999999999999,
          0.9189749999999999,
          0.9196499999999999,
          0.9203249999999998,
          0.9209999999999998,
          0.9216749999999998,
          0.9223499999999999,
          0.9230249999999999,
          0.9237,
          0.924375,
          0.9250499999999999,
          0.9257249999999999,
          0.9263999999999999,
          0.9270749999999999,
          0.9277499999999999,
          0.9284249999999998,
          0.9290999999999998,
          0.9297749999999998,
          0.9304499999999999,
          0.931125,
          0.9317999999999999,
          0.9324749999999999,
          0.9331499999999999,
          0.9338249999999999,
          0.9344999999999999,
          0.9351749999999999,
          0.9358499999999998,
          0.9365249999999998,
          0.9371999999999998,
          0.9378749999999999,
          0.9385499999999998,
          0.9392249999999999,
          0.9399,
          0.9405749999999999,
          0.9412499999999999,
          0.9419249999999999,
          0.9425999999999999,
          0.9432749999999999,
          0.9439499999999998,
          0.9446249999999998,
          0.9452999999999998,
          0.9459749999999998,
          0.9466499999999999,
          0.9473249999999999,
          0.948,
          0.9486749999999999,
          0.9493499999999999,
          0.9500249999999999,
          0.9506999999999999,
          0.9513749999999999,
          0.9520499999999998,
          0.9527249999999998,
          0.9533999999999998,
          0.9540749999999999,
          0.9547499999999999,
          0.9554249999999999,
          0.9560999999999998,
          0.9567749999999999,
          0.9574499999999999,
          0.9581249999999999,
          0.9587999999999999,
          0.9594749999999999,
          0.9601499999999998,
          0.9608249999999998,
          0.9614999999999998,
          0.9621749999999998,
          0.9628499999999999,
          0.9635249999999999,
          0.9642,
          0.9648749999999998,
          0.9655499999999999,
          0.9662249999999999,
          0.9668999999999999,
          0.9675749999999999,
          0.9682499999999998,
          0.9689249999999998,
          0.9695999999999998,
          0.9702749999999999,
          0.9709499999999999,
          0.9716249999999998,
          0.9722999999999998,
          0.9729749999999999,
          0.9736499999999999,
          0.9743249999999999
         ],
         "xaxis": "x",
         "y": [
          0.9609888668913543,
          0.9694208178761545,
          0.9776644363386536,
          0.9857154678669268,
          0.9935698863786327,
          1.0012239024736533,
          1.0086739714772004,
          1.0159168011545567,
          1.0229493590791514,
          1.0297688796361992,
          1.0363728706447761,
          1.0427591195818524,
          1.0489256993925027,
          1.054870973871274,
          1.0605936026004799,
          1.0660925454320163,
          1.0713670665001778,
          1.0764167377538543,
          1.0812414419974332,
          1.0858413754307068,
          1.0902170496791042,
          1.0943692933065952,
          1.098299252804665,
          1.102008393051878,
          1.1054984972396122,
          1.1087716662607048,
          1.111830317558879,
          1.114677183437973,
          1.1173153088311498,
          1.11974804853146,
          1.1219790638862768,
          1.1240123189593085,
          1.1258520761650816,
          1.1275028913819334,
          1.1289696085507301,
          1.1302573537676783,
          1.1313715288807251,
          1.1323178046001736,
          1.1331021131352434,
          1.133730640369378,
          1.1342098175881614,
          1.1345463127747426,
          1.1347470214886526,
          1.1348190573448675,
          1.134769742110913,
          1.1346065954406779,
          1.1343373242644823,
          1.133969811855734,
          1.1335121065952878,
          1.1329724104553427,
          1.132359067225369,
          1.1316805505032053,
          1.1309454514750052,
          1.1301624665082628,
          1.1293403845825785,
          1.128488074583256,
          1.1276144724831554,
          1.1267285684385318,
          1.1258393938248055,
          1.124956008238399,
          1.124087486490872,
          1.123242905621651,
          1.1224313319556343,
          1.12166180823187,
          1.1209433408294103,
          1.1202848871161926,
          1.1196953429466137,
          1.119183530333083,
          1.1187581853165245,
          1.118427946060317,
          1.1182013411917118,
          1.118086778414191,
          1.1180925334136391,
          1.118226739080549,
          1.1184973750697615,
          1.1189122577184825,
          1.119479030342511,
          1.1202051539297582,
          1.121097898249221,
          1.1221643333926414,
          1.1234113217650756,
          1.1248455105395982,
          1.12647332459026,
          1.1283009599163674,
          1.1303343775699763,
          1.1325792980973686,
          1.1350411965040745,
          1.1377252977517995,
          1.1406365727943872,
          1.1437797351587091,
          1.1471592380750923,
          1.1507792721606454,
          1.154643763657543,
          1.15875637322706,
          1.1631204952988345,
          1.167739257973587,
          1.1726155234761855,
          1.1777518891547263,
          1.1831506890199934,
          1.1888139958184212,
          1.1947436236304376,
          1.200941130984871,
          1.2074078244788666,
          1.214144762891626,
          1.2211527617791196,
          1.228432398535805,
          1.2359840179083326,
          1.243807737945133,
          1.2519034563648173,
          1.2602708573253298,
          1.2689094185748935,
          1.2778184189648873,
          1.286996946303993,
          1.2964439055321628,
          1.3061580271922204,
          1.3161378761762494,
          1.3263818607233089,
          1.336888241644428,
          1.3476551417503717,
          1.3586805554571675,
          1.3699623585440455,
          1.3814983180381046,
          1.3932861021997298,
          1.4053232905826287,
          1.4176073841421621,
          1.4301358153656345,
          1.442905958398116,
          1.4559151391374776,
          1.469160645272416,
          1.4826397362373842,
          1.4963496530586502,
          1.5102876280659028,
          1.524450894444269,
          1.5388366956019672,
          1.553442294329303,
          1.5682649817252619,
          1.5833020858684808,
          1.5985509802101168,
          1.6140090916666867,
          1.6296739083918046,
          1.645542987206478,
          1.6616139606684313,
          1.6778845437618948,
          1.6943525401900856,
          1.7110158482536741,
          1.7278724662994789,
          1.744920497724657,
          1.7621581555227464,
          1.7795837663589706,
          1.7971957741634024,
          1.814992743231631,
          1.8329733608238485,
          1.8511364392543743,
          1.8694809174648823,
          1.888005862075828,
          1.9067104679117293,
          1.9255940579972797,
          1.944656083022452,
          1.963896120276038,
          1.983313872048263,
          2.002909163504453,
          2.0226819400328484,
          2.0426322640710013,
          2.0627603114163544,
          2.083066367027817,
          2.1035508203264124,
          2.1242141600041324,
          2.145056968351417,
          2.1660799151147465,
          2.187283750896978,
          2.208669300114143,
          2.2302374535234692,
          2.251989160338493,
          2.2739254199480254,
          2.296047273256812,
          2.318355793666595,
          2.340852077717235,
          2.3635372354083537,
          2.386412380222894,
          2.4094786188746316,
          2.4327370408025333,
          2.45618870743554,
          2.479834641251944,
          2.503675814658231,
          2.527713138712751,
          2.5519474517201775,
          2.576379507723104,
          2.601009964917606,
          2.625839374019965,
          2.6508681666120704,
          2.6760966434932913,
          2.7015249630667912,
          2.7271531297885327,
          2.752980982707228,
          2.7790081841236165,
          2.8052342083974726,
          2.8316583309306154,
          2.8582796173542935,
          2.885096912948898,
          2.912108832323984,
          2.9393137493862493,
          2.9667097876227215,
          2.994294810726168,
          3.0220664135892488,
          3.050021913693452,
          3.078158342918352,
          3.1064724397961085,
          3.134960642235518,
          3.1636190807391604,
          3.1924435721365856,
          3.2214296138554577,
          3.250572378751898,
          3.2798667105202957,
          3.309307119701872,
          3.338887780310281,
          3.368602527091454,
          3.3984448534338245,
          3.4284079099438314,
          3.4584845037004373,
          3.488667098201116,
          3.518947814010446,
          3.549318430121169,
          3.579770386036051,
          3.6102947845775573,
          3.640882395430871,
          3.671523659424186,
          3.7022086935488367,
          3.732927296720037,
          3.763668956277579,
          3.7944228552241155,
          3.8251778801970446,
          3.855922630168285,
          3.886645425864632,
          3.9173343198995596,
          3.9479771076057295,
          3.9785613385556586,
          4.009074328756336,
          4.039503173501852,
          4.06983476086627,
          4.100055785817444,
          4.130152764930664,
          4.160112051679324,
          4.1899198522782495,
          4.219562242053584,
          4.249025182311636,
          4.278294537677431,
          4.3073560938722455,
          4.336195575898005,
          4.364798666594786,
          4.39315102553663,
          4.421238308229216,
          4.449046185571982,
          4.47656036354602,
          4.503766603087918,
          4.5306507401088565,
          4.557198705617209,
          4.583396545902209,
          4.609230442735321,
          4.634686733545517,
          4.659751931523981,
          4.684412745613389,
          4.708656100336627,
          4.7324691554194604,
          4.755839325161799,
          4.778754297511989,
          4.801202052798906,
          4.823170882076733,
          4.844649405037846,
          4.865626587449607,
          4.886091758071602,
          4.906034625010618,
          4.9254452914714815,
          4.944314270863006,
          4.962632501219366,
          4.980391358898529,
          4.9975826715207186,
          5.01419873011148,
          5.030232300415505,
          5.045676633349068,
          5.060525474560921,
          5.0747730730733345,
          5.088414188977112,
          5.101444100156541,
          5.1138586080225465,
          5.125654042234651,
          5.136827264394726,
          5.147375670698147,
          5.157297193530425,
          5.166590302000072,
          5.1752540014012425,
          5.183287831602255,
          5.190691864359049,
          5.1974666995554015,
          5.203613460374461,
          5.209133787409215,
          5.21402983172212,
          5.218304246867229,
          5.221960179890755,
          5.225001261329019,
          5.227431594225395,
          5.229255742190708,
          5.230478716534118,
          5.231105962494353,
          5.231143344603509,
          5.230597131218335,
          5.229473978256212,
          5.227780912175362,
          5.225525312241175,
          5.222714892122481,
          5.219357680863684,
          5.2154620032806065,
          5.211036459829488,
          5.206089906000322,
          5.200631431287126,
          5.1946703377890415,
          5.188216118497372,
          5.181278435324608,
          5.1738670969323834,
          5.16599203641597,
          5.15766328890337,
          5.148890969127498,
          5.139685249030015,
          5.130056335455411,
          5.120014447993697,
          5.109569797029789,
          5.098732562057012,
          5.087512870311488,
          5.075920775783348,
          5.063966238659481,
          5.051659105251505,
          5.039009088461093,
          5.026025748833337,
          5.012718476247063,
          4.999096472289188,
          4.985168733358239,
          4.9709440345398965,
          4.956430914295336,
          4.941637660000564,
          4.926572294372575,
          4.911242562815482,
          4.895655921716965,
          4.879819527722814,
          4.863740228014167,
          4.847424551609252,
          4.830878701708413,
          4.8141085490980045,
          4.797119626625748,
          4.779917124756889,
          4.762505888217391,
          4.744890413727111,
          4.72707484882284,
          4.7090629917677695,
          4.6908582925408835,
          4.672463854896564,
          4.653882439481667,
          4.635116467994208,
          4.616168028364855,
          4.597038880939467,
          4.577730465638111,
          4.558243910063219,
          4.538580038526835,
          4.51873938196441,
          4.498722188700136,
          4.478528436026469,
          4.458157842558222,
          4.4376098813197675,
          4.41688379352158,
          4.395978602980977,
          4.374893131139938,
          4.353626012631597,
          4.332175711345626,
          4.310540536941484,
          4.28871866175763,
          4.266708138063883,
          4.244506915603453,
          4.222112859370679,
          4.199523767570149,
          4.176737389702824,
          4.153751444724639,
          4.130563639223309,
          4.107171685559458,
          4.083573319918628,
          4.0597663202213505,
          4.035748523839426,
          4.011517845067405,
          3.9870722922993767,
          3.9624099848626613,
          3.937529169461003,
          3.912428236181864,
          3.8871057340237343,
          3.8615603859013286,
          3.8357911030883765,
          3.8097969990597895,
          3.7835774026969933,
          3.757131870822499,
          3.7304602000320233,
          3.7035624377948215,
          3.676438892795347,
          3.6490901444917365,
          3.6215170518693847,
          3.5937207613700437,
          3.5657027139799515,
          3.5374646514626913,
          3.509008621725452,
          3.480336983309799,
          3.4514524090008027,
          3.422357888550958,
          3.39305673051801,
          3.363552563218274,
          3.3338493347997225,
          3.303951312441526,
          3.27386308068917,
          3.24358953893684,
          3.2131358980708122,
          3.1825076762902365,
          3.1517106941234223,
          3.1207510686603106,
          3.0896352070234556,
          3.058369799101989,
          3.026961809574764,
          2.9954184692505925,
          2.9637472657551585,
          2.931955933595595,
          2.9000524436352335,
          2.868044992012109,
          2.8359419885361925,
          2.803752044601089,
          2.771483960647084,
          2.7391467132130436,
          2.7067494416153552,
          2.674301434292714,
          2.6418121148558456,
          2.609291027881635,
          2.5767478244912465,
          2.544192247751853,
          2.511634117941571,
          2.4790833177169294,
          2.446549777221881,
          2.4140434591771496,
          2.3815743439877637,
          2.349152414906457,
          2.3167876432895405,
          2.2844899739811884,
          2.2522693108610654,
          2.220135502589296,
          2.188098328581584,
          2.1561674852462174,
          2.1243525725132635,
          2.0926630806852886,
          2.061108377637078,
          2.029697696390819,
          1.998440123091512,
          1.9673445854058653,
          1.9364198413663658,
          1.9056744686806448,
          1.8751168545245565,
          1.8447551858357714,
          1.8145974401229996,
          1.7846513768042547,
          1.7549245290859101,
          1.7254241963925034,
          1.69615743735576,
          1.667131063369326,
          1.63835163271435,
          1.6098254452591552,
          1.5815585377347754,
          1.5535566795864533,
          1.5258253693996924,
          1.498369831897888,
          1.4711950155071296,
          1.4443055904823066,
          1.4177059475872231,
          1.3914001973202237,
          1.3653921696753886,
          1.3396854144283037,
          1.3142832019340722,
          1.2891885244243428,
          1.2644040977889308,
          1.2399323638267288,
          1.2157754929496989,
          1.1919353873228948,
          1.1684136844227253,
          1.1452117609949737,
          1.1223307373935032,
          1.0997714822799545,
          1.0775346176644385,
          1.0556205242665897,
          1.0340293471763136,
          1.0127610017929873,
          0.9918151800219563,
          0.9711913567068927,
          0.9508887962765771,
          0.9309065595846788,
          0.9112435109211737,
          0.8918983251742084,
          0.8728694951213315,
          0.8541553388293988,
          0.8357540071426364,
          0.8176634912388009,
          0.7998816302337026
         ],
         "yaxis": "y"
        },
        {
         "legendgroup": "5",
         "marker": {
          "color": "rgb(44, 160, 44)"
         },
         "mode": "lines",
         "name": "5",
         "showlegend": false,
         "type": "scatter",
         "x": [
          0.59,
          0.59046,
          0.59092,
          0.59138,
          0.5918399999999999,
          0.5922999999999999,
          0.59276,
          0.59322,
          0.59368,
          0.59414,
          0.5946,
          0.5950599999999999,
          0.5955199999999999,
          0.59598,
          0.59644,
          0.5969,
          0.59736,
          0.59782,
          0.5982799999999999,
          0.5987399999999999,
          0.5992,
          0.59966,
          0.60012,
          0.60058,
          0.60104,
          0.6014999999999999,
          0.6019599999999999,
          0.60242,
          0.60288,
          0.60334,
          0.6038,
          0.6042599999999999,
          0.6047199999999999,
          0.6051799999999999,
          0.60564,
          0.6061,
          0.60656,
          0.60702,
          0.6074799999999999,
          0.6079399999999999,
          0.6083999999999999,
          0.60886,
          0.60932,
          0.60978,
          0.61024,
          0.6106999999999999,
          0.6111599999999999,
          0.6116199999999999,
          0.61208,
          0.61254,
          0.613,
          0.61346,
          0.6139199999999999,
          0.6143799999999999,
          0.6148399999999999,
          0.6153,
          0.61576,
          0.61622,
          0.61668,
          0.6171399999999999,
          0.6175999999999999,
          0.6180599999999999,
          0.61852,
          0.61898,
          0.61944,
          0.6199,
          0.6203599999999999,
          0.6208199999999999,
          0.6212799999999999,
          0.62174,
          0.6222,
          0.62266,
          0.6231199999999999,
          0.6235799999999999,
          0.6240399999999999,
          0.6244999999999999,
          0.62496,
          0.62542,
          0.62588,
          0.6263399999999999,
          0.6267999999999999,
          0.6272599999999999,
          0.62772,
          0.62818,
          0.62864,
          0.6291,
          0.6295599999999999,
          0.6300199999999999,
          0.6304799999999999,
          0.63094,
          0.6314,
          0.63186,
          0.63232,
          0.6327799999999999,
          0.6332399999999999,
          0.6336999999999999,
          0.63416,
          0.63462,
          0.63508,
          0.63554,
          0.6359999999999999,
          0.6364599999999999,
          0.6369199999999999,
          0.63738,
          0.63784,
          0.6383,
          0.63876,
          0.6392199999999999,
          0.6396799999999999,
          0.6401399999999999,
          0.6406,
          0.64106,
          0.64152,
          0.64198,
          0.6424399999999999,
          0.6428999999999999,
          0.6433599999999999,
          0.64382,
          0.64428,
          0.64474,
          0.6451999999999999,
          0.6456599999999999,
          0.6461199999999999,
          0.6465799999999999,
          0.64704,
          0.6475,
          0.64796,
          0.6484199999999999,
          0.6488799999999999,
          0.6493399999999999,
          0.6497999999999999,
          0.65026,
          0.65072,
          0.65118,
          0.6516399999999999,
          0.6520999999999999,
          0.6525599999999999,
          0.6530199999999999,
          0.65348,
          0.65394,
          0.6543999999999999,
          0.6548599999999999,
          0.6553199999999999,
          0.6557799999999999,
          0.6562399999999999,
          0.6567,
          0.65716,
          0.6576199999999999,
          0.6580799999999999,
          0.6585399999999999,
          0.6589999999999999,
          0.6594599999999999,
          0.65992,
          0.66038,
          0.6608399999999999,
          0.6612999999999999,
          0.6617599999999999,
          0.6622199999999999,
          0.6626799999999999,
          0.66314,
          0.6636,
          0.6640599999999999,
          0.6645199999999999,
          0.6649799999999999,
          0.6654399999999999,
          0.6658999999999999,
          0.66636,
          0.66682,
          0.6672799999999999,
          0.6677399999999999,
          0.6681999999999999,
          0.6686599999999999,
          0.6691199999999999,
          0.66958,
          0.67004,
          0.6704999999999999,
          0.6709599999999999,
          0.6714199999999999,
          0.6718799999999999,
          0.6723399999999999,
          0.6728,
          0.67326,
          0.6737199999999999,
          0.6741799999999999,
          0.6746399999999999,
          0.6750999999999999,
          0.6755599999999999,
          0.67602,
          0.67648,
          0.6769399999999999,
          0.6773999999999999,
          0.6778599999999999,
          0.6783199999999999,
          0.6787799999999999,
          0.67924,
          0.6797,
          0.6801599999999999,
          0.6806199999999999,
          0.6810799999999999,
          0.6815399999999999,
          0.6819999999999999,
          0.68246,
          0.68292,
          0.6833799999999999,
          0.6838399999999999,
          0.6842999999999999,
          0.6847599999999999,
          0.6852199999999999,
          0.68568,
          0.68614,
          0.6865999999999999,
          0.6870599999999999,
          0.6875199999999999,
          0.6879799999999999,
          0.6884399999999999,
          0.6889,
          0.68936,
          0.6898199999999999,
          0.6902799999999999,
          0.6907399999999999,
          0.6911999999999999,
          0.6916599999999999,
          0.69212,
          0.6925799999999999,
          0.6930399999999999,
          0.6934999999999999,
          0.6939599999999999,
          0.6944199999999999,
          0.6948799999999999,
          0.69534,
          0.6957999999999999,
          0.6962599999999999,
          0.6967199999999999,
          0.6971799999999999,
          0.6976399999999999,
          0.6980999999999999,
          0.69856,
          0.6990199999999999,
          0.6994799999999999,
          0.6999399999999999,
          0.7003999999999999,
          0.7008599999999999,
          0.7013199999999999,
          0.70178,
          0.7022399999999999,
          0.7026999999999999,
          0.7031599999999999,
          0.7036199999999999,
          0.7040799999999999,
          0.7045399999999999,
          0.7049999999999998,
          0.7054599999999999,
          0.7059199999999999,
          0.7063799999999999,
          0.7068399999999999,
          0.7072999999999999,
          0.70776,
          0.7082199999999998,
          0.7086799999999999,
          0.7091399999999999,
          0.7095999999999999,
          0.7100599999999999,
          0.7105199999999999,
          0.71098,
          0.7114399999999999,
          0.7118999999999999,
          0.7123599999999999,
          0.7128199999999999,
          0.7132799999999999,
          0.7137399999999999,
          0.7142,
          0.7146599999999999,
          0.7151199999999999,
          0.7155799999999999,
          0.7160399999999999,
          0.7164999999999999,
          0.7169599999999999,
          0.71742,
          0.7178799999999999,
          0.7183399999999999,
          0.7187999999999999,
          0.7192599999999999,
          0.7197199999999999,
          0.7201799999999999,
          0.72064,
          0.7210999999999999,
          0.7215599999999999,
          0.7220199999999999,
          0.7224799999999999,
          0.7229399999999999,
          0.7233999999999998,
          0.72386,
          0.7243199999999999,
          0.7247799999999999,
          0.7252399999999999,
          0.7256999999999999,
          0.7261599999999999,
          0.7266199999999998,
          0.72708,
          0.7275399999999999,
          0.7279999999999999,
          0.7284599999999999,
          0.7289199999999999,
          0.7293799999999999,
          0.7298399999999998,
          0.7303,
          0.7307599999999999,
          0.7312199999999999,
          0.7316799999999999,
          0.7321399999999999,
          0.7325999999999999,
          0.7330599999999998,
          0.73352,
          0.7339799999999999,
          0.7344399999999999,
          0.7348999999999999,
          0.7353599999999999,
          0.7358199999999999,
          0.7362799999999998,
          0.73674,
          0.7371999999999999,
          0.7376599999999999,
          0.7381199999999999,
          0.7385799999999999,
          0.7390399999999999,
          0.7394999999999998,
          0.73996,
          0.7404199999999999,
          0.7408799999999999,
          0.7413399999999999,
          0.7417999999999999,
          0.7422599999999999,
          0.7427199999999998,
          0.74318,
          0.7436399999999999,
          0.7440999999999999,
          0.7445599999999999,
          0.7450199999999999,
          0.7454799999999999,
          0.7459399999999998,
          0.7464,
          0.7468599999999999,
          0.7473199999999999,
          0.7477799999999999,
          0.7482399999999999,
          0.7486999999999999,
          0.7491599999999998,
          0.74962,
          0.7500799999999999,
          0.7505399999999999,
          0.7509999999999999,
          0.7514599999999999,
          0.7519199999999999,
          0.7523799999999998,
          0.75284,
          0.7532999999999999,
          0.7537599999999999,
          0.7542199999999999,
          0.7546799999999999,
          0.7551399999999999,
          0.7555999999999998,
          0.75606,
          0.7565199999999999,
          0.7569799999999999,
          0.7574399999999999,
          0.7578999999999998,
          0.7583599999999999,
          0.7588199999999998,
          0.7592799999999998,
          0.7597399999999999,
          0.7601999999999999,
          0.7606599999999999,
          0.7611199999999998,
          0.7615799999999999,
          0.7620399999999998,
          0.7624999999999998,
          0.7629599999999999,
          0.7634199999999999,
          0.7638799999999999,
          0.7643399999999998,
          0.7647999999999999,
          0.7652599999999998,
          0.7657199999999998,
          0.7661799999999999,
          0.7666399999999999,
          0.7670999999999999,
          0.7675599999999998,
          0.7680199999999999,
          0.7684799999999998,
          0.7689399999999998,
          0.7693999999999999,
          0.7698599999999999,
          0.7703199999999999,
          0.7707799999999998,
          0.7712399999999999,
          0.7716999999999998,
          0.7721599999999998,
          0.7726199999999999,
          0.7730799999999999,
          0.7735399999999999,
          0.7739999999999998,
          0.7744599999999999,
          0.7749199999999998,
          0.7753799999999998,
          0.7758399999999999,
          0.7762999999999999,
          0.7767599999999999,
          0.7772199999999998,
          0.7776799999999999,
          0.7781399999999998,
          0.7785999999999998,
          0.7790599999999999,
          0.7795199999999999,
          0.7799799999999999,
          0.7804399999999998,
          0.7808999999999999,
          0.7813599999999998,
          0.7818199999999998,
          0.7822799999999999,
          0.7827399999999999,
          0.7831999999999999,
          0.7836599999999998,
          0.7841199999999999,
          0.7845799999999998,
          0.7850399999999998,
          0.7854999999999999,
          0.7859599999999999,
          0.7864199999999999,
          0.7868799999999998,
          0.7873399999999998,
          0.7877999999999998,
          0.7882599999999998,
          0.7887199999999999,
          0.7891799999999999,
          0.7896399999999999,
          0.7900999999999998,
          0.7905599999999998,
          0.7910199999999998,
          0.7914799999999999,
          0.7919399999999999,
          0.7923999999999999,
          0.7928599999999999,
          0.7933199999999998,
          0.7937799999999998,
          0.7942399999999998,
          0.7946999999999999,
          0.7951599999999999,
          0.7956199999999999,
          0.7960799999999999,
          0.7965399999999998,
          0.7969999999999998,
          0.7974599999999998,
          0.7979199999999999,
          0.7983799999999999,
          0.7988399999999999,
          0.7992999999999999,
          0.7997599999999998,
          0.8002199999999998,
          0.8006799999999998,
          0.8011399999999999,
          0.8015999999999999,
          0.8020599999999999,
          0.8025199999999999,
          0.8029799999999998,
          0.8034399999999998,
          0.8038999999999998,
          0.8043599999999999,
          0.8048199999999999,
          0.8052799999999999,
          0.8057399999999999,
          0.8061999999999998,
          0.8066599999999998,
          0.8071199999999998,
          0.8075799999999999,
          0.8080399999999999,
          0.8084999999999999,
          0.8089599999999999,
          0.8094199999999998,
          0.8098799999999998,
          0.8103399999999998,
          0.8107999999999999,
          0.8112599999999999,
          0.8117199999999999,
          0.8121799999999999,
          0.8126399999999998,
          0.8130999999999998,
          0.8135599999999998,
          0.8140199999999999,
          0.8144799999999999,
          0.8149399999999999,
          0.8153999999999998,
          0.8158599999999998,
          0.8163199999999998,
          0.8167799999999998,
          0.8172399999999999,
          0.8176999999999999,
          0.8181599999999999,
          0.8186199999999998,
          0.8190799999999998,
          0.8195399999999998
         ],
         "xaxis": "x",
         "y": [
          1.954283359319577,
          1.9666311983835207,
          1.9787756382310375,
          1.9907140722696641,
          2.002444046795297,
          2.0139632637052736,
          2.025269583068153,
          2.036361025546765,
          2.047235774671159,
          2.0578921789583813,
          2.068328753876128,
          2.078544183647566,
          2.088537322894784,
          2.098307198118557,
          2.1078530090123238,
          2.1171741296084763,
          2.1262701092552825,
          2.135140673422979,
          2.143785724337814,
          2.15220534144301,
          2.1603997816858436,
          2.168369479630335,
          2.17611504739514,
          2.183637274416598,
          2.1909371270370253,
          2.198015747918608,
          2.2048744552834822,
          2.2115147419807775,
          2.217938274381684,
          2.224146891103771,
          2.2301426015660217,
          2.2359275843762974,
          2.241504185553113,
          2.2468749165838426,
          2.2520424523216898,
          2.2570096287239467,
          2.2617794404342675,
          2.266355038211887,
          2.270739726210902,
          2.274936959112919,
          2.2789503391165393,
          2.2827836127873615,
          2.2864406677723133,
          2.289925529382312,
          2.293242357047386,
          2.296395440648579,
          2.2993891967310436,
          2.3022281646029223,
          2.304917002324713,
          2.307460482593938,
          2.309863488530052,
          2.312131009364643,
          2.3142681360420365,
          2.3162800567355815,
          2.318172052284867,
          2.319949491559295,
          2.3216178267534566,
          2.3231825886197828,
          2.324649381644053,
          2.326023879169346,
          2.3273118184740533,
          2.3285189958095893,
          2.329651261403494,
          2.3307145144335477,
          2.3317146979786045,
          2.3326577939517783,
          2.3335498180216177,
          2.33439681452688,
          2.3352048513905017,
          2.3359800150382526,
          2.3367284053276136,
          2.337456130492255,
          2.3381693021075085,
          2.3388740300821103,
          2.3395764176814358,
          2.340282556587328,
          2.340998521999585,
          2.341730367784023,
          2.3424841216719425,
          2.343265780515721,
          2.344081305605149,
          2.3449366180489624,
          2.3458375942259426,
          2.3467900613098123,
          2.347799792871995,
          2.3488725045661942,
          2.3500138498985947,
          2.351229416087312,
          2.352524720014628,
          2.353905204275313,
          2.3553762333242525,
          2.3569430897263643,
          2.358610970511709,
          2.3603849836384336,
          2.362270144566123,
          2.3642713729418716,
          2.3663934894012852,
          2.3686412124864304,
          2.3710191556825393,
          2.3735318245751844,
          2.376183614129377,
          2.3789788060919457,
          2.3819215665183306,
          2.385015943424775,
          2.3882658645667365,
          2.3916751353441503,
          2.3952474368340235,
          2.398986323950674,
          2.4028952237337666,
          2.4069774337641006,
          2.411236120707035,
          2.415674318983164,
          2.420294929565801,
          2.4251007189046185,
          2.4300943179746843,
          2.4352782214499658,
          2.4406547870002258,
          2.446226234710158,
          2.4519946466193945,
          2.4579619663819483,
          2.464129999043527,
          2.470500410935005,
          2.4770747296802496,
          2.4838543443163954,
          2.490840505524537,
          2.498034325968714,
          2.505436780740987,
          2.5130487079102855,
          2.520870809172658,
          2.5289036506004168,
          2.5371476634876924,
          2.5456031452897343,
          2.554270260653315,
          2.5631490425354877,
          2.572239393407924,
          2.581541086543998,
          2.5910537673857137,
          2.60077695498762,
          2.6107100435347035,
          2.6208523039313363,
          2.631202885458265,
          2.6417608174946396,
          2.6525250113020413,
          2.6634942618675237,
          2.674667249802597,
          2.686042543295153,
          2.697618600111313,
          2.7093937696441786,
          2.7213662950065354,
          2.7335343151644813,
          2.745895867109108,
          2.758448888063287,
          2.7711912177206877,
          2.7841206005142025,
          2.7972346879109766,
          2.8105310407313007,
          2.824007131488635,
          2.8376603467481654,
          2.851487989501267,
          2.8654872815533374,
          2.8796553659225474,
          2.8939893092470883,
          2.908486104198575,
          2.9231426718993307,
          2.9379558643413546,
          2.952922466804858,
          2.9680392002742897,
          2.983302723849893,
          2.9987096371529014,
          3.014256482722555,
          3.0299397484031667,
          3.0457558697196596,
          3.0617012322399275,
          3.0777721739225807,
          3.093964987448658,
          3.1102759225359877,
          3.1267011882349736,
          3.1432369552046193,
          3.159879357967796,
          3.176624497144707,
          3.193468441663679,
          3.2104072309484772,
          3.2274368770813746,
          3.2445533669413806,
          3.2617526643169774,
          3.279030711992959,
          3.2963834338108744,
          3.3138067367027992,
          3.331296512698107,
          3.348848640903096,
          3.3664589894533132,
          3.384123417438486,
          3.401837776800152,
          3.4195979142019515,
          3.4373996728727865,
          3.4552388944229673,
          3.473111420633637,
          3.491013095219742,
          3.508939765566841,
          3.526887284442222,
          3.5448515116806893,
          3.5628283158454814,
          3.5808135758648776,
          3.598803182644938,
          3.61679304065905,
          3.63477906951473,
          3.652757205498422,
          3.6707234030988443,
          3.6886736365095447,
          3.7066039011113183,
          3.724510214935158,
          3.742388620106414,
          3.760235184270767,
          3.77804600200278,
          3.7958171961975964,
          3.813544919446504,
          3.8312253553969287,
          3.8488547200975343,
          3.8664292633290156,
          3.883945269921101,
          3.9013990610564124,
          3.9187869955615984,
          3.9361054711863,
          3.953350925870332,
          3.970519838999554,
          3.9876087326507195,
          4.004614172825676,
          4.021532770675191,
          4.038361183712571,
          4.055096117017311,
          4.071734324428811,
          4.088272609730309,
          4.104707827822906,
          4.121036885889756,
          4.137256744550178,
          4.153364419003553,
          4.169356980162757,
          4.185231555776765,
          4.200985331542088,
          4.216615552202518,
          4.232119522636731,
          4.247494608933062,
          4.262738239450879,
          4.27784790586773,
          4.292821164211514,
          4.3076556358767935,
          4.322349008624257,
          4.336899037562401,
          4.351303546110275,
          4.365560426940205,
          4.3796676428992445,
          4.3936232279081215,
          4.407425287836309,
          4.421072001351883,
          4.434561620744679,
          4.4478924727212785,
          4.461062959170266,
          4.474071557896153,
          4.4869168233203585,
          4.4995973871475154,
          4.512111958995454,
          4.524459326987015,
          4.536638358302005,
          4.548647999687412,
          4.5604872779240635,
          4.572155300247924,
          4.583651254724072,
          4.594974410571566,
          4.606124118437284,
          4.617099810616863,
          4.627901001220844,
          4.638527286284192,
          4.648978343817336,
          4.659253933796847,
          4.669353898094044,
          4.679278160339675,
          4.6890267257229725,
          4.698599680723387,
          4.707997192773329,
          4.717219509850408,
          4.7262669599974565,
          4.7351399507690735,
          4.743838968603138,
          4.752364578115995,
          4.760717421320119,
          4.768898216762971,
          4.776907758586102,
          4.7847469155034,
          4.792416629697684,
          4.799917915634789,
          4.8072518587945465,
          4.8144196143180045,
          4.82142240557053,
          4.828261522620432,
          4.83493832063289,
          4.841454218179146,
          4.847810695461035,
          4.854009292451011,
          4.860051606948035,
          4.865939292549825,
          4.871674056542028,
          4.8772576577051545,
          4.88269190404015,
          4.887978650413733,
          4.893119796124571,
          4.898117282391935,
          4.902973089768051,
          4.907689235476083,
          4.912267770675467,
          4.916710777656589,
          4.9210203669670065,
          4.925198674471485,
          4.929247858348308,
          4.933170096024456,
          4.936967581052459,
          4.9406425199317585,
          4.944197128877697,
          4.9476336305412785,
          4.950954250683057,
          4.9541612148046505,
          4.957256744741403,
          4.960243055220025,
          4.963122350385022,
          4.965896820297866,
          4.968568637413076,
          4.971139953035332,
          4.973612893761995,
          4.9759895579154145,
          4.978272011969514,
          4.980462286975282,
          4.982562374989811,
          4.984574225513625,
          4.986499741941117,
          4.988340778028991,
          4.990099134387564,
          4.991776554999983,
          4.993374723774295,
          4.994895261133424,
          4.996339720648129,
          4.9977095857179705,
          4.999006266305416,
          5.00023109572809,
          5.001385327514273,
          5.002470132326645,
          5.003486594959334,
          5.004435711413164,
          5.005318386054099,
          5.006135428859689,
          5.006887552758342,
          5.00757537106617,
          5.008199395026019,
          5.008760031453255,
          5.009257580492779,
          5.009692233491604,
          5.010064070991227,
          5.010373060843937,
          5.010619056457019,
          5.0108017951686765,
          5.010920896759441,
          5.010975862102525,
          5.010966071956579,
          5.010890785903997,
          5.010749141437873,
          5.010540153200414,
          5.010262712375518,
          5.0099155862379945,
          5.009497417861656,
          5.009006725988434,
          5.008441905060309,
          5.007801225415756,
          5.0070828336521105,
          5.0062847531551,
          5.00540488479644,
          5.004441007800378,
          5.003390780779585,
          5.002251742940744,
          5.001021315459879,
          4.9996968030272315,
          4.9982753955612145,
          4.996754170090852,
          4.995130092805712,
          4.993400021272212,
          4.991560706814913,
          4.989608797061099,
          4.987540838646861,
          4.985353280082447,
          4.9830424747746065,
          4.9806046842033265,
          4.9780360812500595,
          4.975332753674487,
          4.972490707736447,
          4.969505871959617,
          4.96637410103308,
          4.963091179847009,
          4.959652827658168,
          4.956054702380995,
          4.952292404999585,
          4.9483614840959875,
          4.944257440489725,
          4.939975731983544,
          4.935511778210013,
          4.930860965573588,
          4.92601865228251,
          4.920980173464729,
          4.915740846362016,
          4.910295975596138,
          4.9046408585010255,
          4.898770790514527,
          4.892681070623436,
          4.886367006855274,
          4.879823921810173,
          4.873047158226305,
          4.866032084571943,
          4.8587741006575405,
          4.851268643260767,
          4.843511191757725,
          4.835497273753375,
          4.82722247070412,
          4.818682423525715,
          4.809872838179367,
          4.800789491229134,
          4.791428235363645,
          4.781785004875152,
          4.771855821089109,
          4.761636797737284,
          4.7511241462677445,
          4.740314181084866,
          4.729203324712784,
          4.71778811287565,
          4.706065199488237,
          4.694031361550549,
          4.68168350394008,
          4.669018664095678,
          4.656034016586913,
          4.64272687756314,
          4.629094709076486,
          4.6151351232732,
          4.600845886447972,
          4.586224922955967,
          4.571270318977499,
          4.555980326130519,
          4.540353364926187,
          4.524388028063077,
          4.508083083555718,
          4.491437477693437,
          4.47445033782561,
          4.4571209749697465,
          4.439448886238959,
          4.421433757085716,
          4.403075463358874,
          4.384374073171344,
          4.365329848575981,
          4.3459432470473915,
          4.326214922767829,
          4.306145727715403,
          4.285736712553195,
          4.264989127318083,
          4.243904421908326,
          4.222484246369322,
          4.2007304509769945,
          4.178645086118771,
          4.156230401972189,
          4.133488847981538,
          4.110423072133126,
          4.087035920030046,
          4.0633304337676215,
          4.03930985061084,
          4.014977601475444,
          3.990337309214569,
          3.965392786713025,
          3.940148034791573,
          3.9146072399238037,
          3.8887747717684857,
          3.8626551805203406,
          3.8362531940826075,
          3.8095737150648237,
          3.782621817609589,
          3.755402744052153,
          3.7279219014169422,
          3.7001848577554157,
          3.6721973383295676,
          3.643965221645892,
          3.6154945353445544,
          3.586791451948795,
          3.557862284479747,
          3.5287134819418804,
          3.4993516246846856,
          3.4697834196459656,
          3.4400156954826064,
          3.4100553975945713,
          3.37990958304804,
          3.3495854154037326,
          3.3190901594565636,
          3.288431175892758,
          3.257615915870724,
          3.2266519155320412,
          3.1955467904488946,
          3.164308230014443,
          3.132943991782494,
          3.1014618957631184
         ],
         "yaxis": "y"
        },
        {
         "legendgroup": "6",
         "marker": {
          "color": "rgb(214, 39, 40)"
         },
         "mode": "lines",
         "name": "6",
         "showlegend": false,
         "type": "scatter",
         "x": [
          0.47499994999999995,
          0.47561685009999993,
          0.4762337502,
          0.47685065029999996,
          0.47746755039999994,
          0.4780844504999999,
          0.47870135059999996,
          0.47931825069999995,
          0.47993515079999993,
          0.48055205089999997,
          0.48116895099999996,
          0.48178585109999994,
          0.4824027512,
          0.48301965129999996,
          0.48363655139999995,
          0.48425345149999993,
          0.48487035159999997,
          0.48548725169999996,
          0.48610415179999994,
          0.4867210519,
          0.48733795199999996,
          0.48795485209999995,
          0.48857175219999993,
          0.48918865229999997,
          0.48980555239999995,
          0.49042245249999994,
          0.4910393526,
          0.49165625269999996,
          0.49227315279999995,
          0.4928900529,
          0.49350695299999997,
          0.49412385309999995,
          0.4947407532,
          0.4953576533,
          0.49597455339999996,
          0.49659145349999995,
          0.4972083536,
          0.49782525369999997,
          0.49844215379999995,
          0.49905905389999994,
          0.499675954,
          0.5002928541,
          0.5009097542,
          0.5015266543,
          0.5021435543999999,
          0.5027604545,
          0.5033773546,
          0.5039942546999999,
          0.5046111548,
          0.5052280549,
          0.5058449549999999,
          0.5064618551,
          0.5070787552,
          0.5076956552999999,
          0.5083125554,
          0.5089294555,
          0.5095463556,
          0.5101632557,
          0.5107801558,
          0.5113970559,
          0.512013956,
          0.5126308561,
          0.5132477562,
          0.5138646563,
          0.5144815564,
          0.5150984565,
          0.5157153566,
          0.5163322566999999,
          0.5169491568,
          0.5175660569,
          0.5181829569999999,
          0.5187998571,
          0.5194167572,
          0.5200336573,
          0.5206505574,
          0.5212674575,
          0.5218843576,
          0.5225012577,
          0.5231181577999999,
          0.5237350579,
          0.524351958,
          0.5249688581,
          0.5255857582,
          0.5262026583,
          0.5268195583999999,
          0.5274364585,
          0.5280533586,
          0.5286702587,
          0.5292871588,
          0.5299040589,
          0.530520959,
          0.5311378591,
          0.5317547592,
          0.5323716593,
          0.5329885594,
          0.5336054595,
          0.5342223596,
          0.5348392597,
          0.5354561598,
          0.5360730599,
          0.53668996,
          0.5373068601,
          0.5379237602,
          0.5385406603,
          0.5391575604,
          0.5397744605,
          0.5403913606,
          0.5410082607,
          0.5416251608,
          0.5422420609,
          0.542858961,
          0.5434758611,
          0.5440927612,
          0.5447096613,
          0.5453265614,
          0.5459434615000001,
          0.5465603616,
          0.5471772617,
          0.5477941618,
          0.5484110619,
          0.549027962,
          0.5496448621,
          0.5502617622,
          0.5508786623,
          0.5514955624,
          0.5521124625,
          0.5527293626,
          0.5533462627,
          0.5539631628,
          0.5545800629,
          0.555196963,
          0.5558138631,
          0.5564307632000001,
          0.5570476633,
          0.5576645634,
          0.5582814635,
          0.5588983636,
          0.5595152637,
          0.5601321638000001,
          0.5607490639,
          0.561365964,
          0.5619828641,
          0.5625997642,
          0.5632166643000001,
          0.5638335644,
          0.5644504645,
          0.5650673646000001,
          0.5656842647,
          0.5663011648,
          0.5669180649000001,
          0.567534965,
          0.5681518651,
          0.5687687652,
          0.5693856653,
          0.5700025654,
          0.5706194655,
          0.5712363656,
          0.5718532657000001,
          0.5724701658,
          0.5730870659,
          0.5737039660000001,
          0.5743208661,
          0.5749377662,
          0.5755546663000001,
          0.5761715664,
          0.5767884665,
          0.5774053666000001,
          0.5780222667,
          0.5786391668,
          0.5792560669,
          0.579872967,
          0.5804898671000001,
          0.5811067672,
          0.5817236673,
          0.5823405674000001,
          0.5829574675,
          0.5835743676,
          0.5841912677000001,
          0.5848081678,
          0.5854250679,
          0.5860419680000001,
          0.5866588681,
          0.5872757682,
          0.5878926683000001,
          0.5885095684,
          0.5891264685000001,
          0.5897433686,
          0.5903602687,
          0.5909771688000001,
          0.5915940689000001,
          0.592210969,
          0.5928278691000001,
          0.5934447692,
          0.5940616693,
          0.5946785694000001,
          0.5952954695,
          0.5959123696,
          0.5965292697000001,
          0.5971461698,
          0.5977630699,
          0.5983799700000001,
          0.5989968701,
          0.5996137702000001,
          0.6002306703,
          0.6008475704,
          0.6014644705000001,
          0.6020813706000001,
          0.6026982707,
          0.6033151708000001,
          0.6039320709,
          0.604548971,
          0.6051658711000001,
          0.6057827712000001,
          0.6063996713,
          0.6070165714000001,
          0.6076334715,
          0.6082503716000001,
          0.6088672717000001,
          0.6094841718,
          0.6101010719000001,
          0.610717972,
          0.6113348721,
          0.6119517722000001,
          0.6125686723000001,
          0.6131855724,
          0.6138024725000001,
          0.6144193726,
          0.6150362727,
          0.6156531728000001,
          0.6162700729,
          0.6168869730000001,
          0.6175038731000001,
          0.6181207732,
          0.6187376733000001,
          0.6193545734000001,
          0.6199714735000001,
          0.6205883736000001,
          0.6212052737,
          0.6218221738,
          0.6224390739000001,
          0.6230559740000001,
          0.6236728741,
          0.6242897742000001,
          0.6249066743,
          0.6255235744000001,
          0.6261404745000001,
          0.6267573746000001,
          0.6273742747000001,
          0.6279911748,
          0.6286080749,
          0.6292249750000001,
          0.6298418751000001,
          0.6304587752,
          0.6310756753000001,
          0.6316925754000001,
          0.6323094755,
          0.6329263756000001,
          0.6335432757000001,
          0.6341601758000001,
          0.6347770759000001,
          0.635393976,
          0.6360108761000001,
          0.6366277762000001,
          0.6372446763000001,
          0.6378615764000001,
          0.6384784765000001,
          0.6390953766,
          0.6397122767000001,
          0.6403291768000001,
          0.6409460769,
          0.6415629770000001,
          0.6421798771,
          0.6427967772000001,
          0.6434136773000001,
          0.6440305774000001,
          0.6446474775000001,
          0.6452643776000001,
          0.6458812777,
          0.6464981778000001,
          0.6471150779000001,
          0.647731978,
          0.6483488781000001,
          0.6489657782000001,
          0.6495826783,
          0.6501995784000001,
          0.6508164785000001,
          0.6514333786000002,
          0.6520502787000001,
          0.6526671788,
          0.6532840789000001,
          0.6539009790000001,
          0.6545178791000001,
          0.6551347792000001,
          0.6557516793000001,
          0.6563685794,
          0.6569854795000001,
          0.6576023796000001,
          0.6582192797000002,
          0.6588361798000001,
          0.6594530799000001,
          0.6600699800000001,
          0.6606868801000001,
          0.6613037802000001,
          0.6619206803000001,
          0.6625375804000001,
          0.6631544805000001,
          0.6637713806000001,
          0.6643882807000001,
          0.6650051808000002,
          0.6656220809000001,
          0.6662389810000001,
          0.6668558811,
          0.6674727812000001,
          0.6680896813000001,
          0.6687065814000002,
          0.6693234815000001,
          0.6699403816000001,
          0.6705572817000001,
          0.6711741818000001,
          0.6717910819000001,
          0.6724079820000001,
          0.6730248821000001,
          0.6736417822,
          0.6742586823000001,
          0.6748755824000001,
          0.6754924825000002,
          0.6761093826000001,
          0.6767262827000001,
          0.6773431828000002,
          0.6779600829000001,
          0.6785769830000001,
          0.6791938831000002,
          0.6798107832000001,
          0.6804276833000001,
          0.6810445834000001,
          0.6816614835000001,
          0.6822783836000001,
          0.6828952837000002,
          0.6835121838000001,
          0.6841290839000002,
          0.6847459840000001,
          0.6853628841000001,
          0.6859797842000002,
          0.6865966843000001,
          0.6872135844000001,
          0.6878304845000001,
          0.6884473846000001,
          0.6890642847000001,
          0.6896811848000002,
          0.6902980849000001,
          0.6909149850000001,
          0.6915318851000001,
          0.6921487852000001,
          0.6927656853000002,
          0.6933825854000001,
          0.6939994855000001,
          0.6946163856000002,
          0.6952332857000001,
          0.6958501858000001,
          0.6964670859000002,
          0.6970839860000002,
          0.6977008861000001,
          0.6983177862000001,
          0.6989346863000001,
          0.6995515864000001,
          0.7001684865000002,
          0.7007853866000001,
          0.7014022867000002,
          0.7020191868000001,
          0.7026360869000001,
          0.7032529870000002,
          0.7038698871000002,
          0.7044867872000001,
          0.7051036873000001,
          0.7057205874000001,
          0.7063374875000001,
          0.7069543876000002,
          0.7075712877000001,
          0.7081881878000001,
          0.7088050879000002,
          0.7094219880000001,
          0.7100388881000002,
          0.7106557882000002,
          0.7112726883000001,
          0.7118895884000002,
          0.7125064885000001,
          0.7131233886000001,
          0.7137402887000002,
          0.7143571888000002,
          0.7149740889000001,
          0.7155909890000002,
          0.7162078891000001,
          0.7168247892000001,
          0.7174416893000002,
          0.7180585894000001,
          0.7186754895000002,
          0.7192923896000001,
          0.7199092897000001,
          0.7205261898000002,
          0.7211430899000002,
          0.7217599900000001,
          0.7223768901000002,
          0.7229937902000001,
          0.7236106903000001,
          0.7242275904000002,
          0.7248444905000001,
          0.7254613906000001,
          0.7260782907000002,
          0.7266951908000001,
          0.7273120909000002,
          0.7279289910000002,
          0.7285458911000002,
          0.7291627912000002,
          0.7297796913000001,
          0.7303965914000001,
          0.7310134915000002,
          0.7316303916000002,
          0.7322472917000002,
          0.7328641918000002,
          0.7334810919000002,
          0.7340979920000001,
          0.7347148921000002,
          0.7353317922000002,
          0.7359486923000002,
          0.7365655924000002,
          0.7371824925000001,
          0.7377993926000002,
          0.7384162927000002,
          0.7390331928000002,
          0.7396500929000002,
          0.7402669930000001,
          0.7408838931000001,
          0.7415007932000002,
          0.7421176933000002,
          0.7427345934000001,
          0.7433514935000002,
          0.7439683936000001,
          0.7445852937000002,
          0.7452021938000002,
          0.7458190939000002,
          0.7464359940000002,
          0.7470528941000001,
          0.7476697942000001,
          0.7482866943000002,
          0.7489035944000002,
          0.7495204945000001,
          0.7501373946000002,
          0.7507542947000001,
          0.7513711948000001,
          0.7519880949000002,
          0.7526049950000002,
          0.7532218951000003,
          0.7538387952000001,
          0.7544556953000001,
          0.7550725954000002,
          0.7556894955000002,
          0.7563063956000002,
          0.7569232957000003,
          0.7575401958000001,
          0.7581570959000001,
          0.7587739960000002,
          0.7593908961000002,
          0.7600077962000003,
          0.7606246963000002,
          0.7612415964000002,
          0.7618584965000001,
          0.7624753966000002,
          0.7630922967000002,
          0.7637091968000003,
          0.7643260969000002,
          0.7649429970000002,
          0.7655598971000002,
          0.7661767972000002,
          0.7667936973000002,
          0.7674105974000002,
          0.7680274975000002,
          0.7686443976000001,
          0.7692612977000002,
          0.7698781978000002,
          0.7704950979000003,
          0.7711119980000002,
          0.7717288981000002,
          0.7723457982000002,
          0.7729626983000002,
          0.7735795984000002,
          0.7741964985000002,
          0.7748133986000002,
          0.7754302987000001,
          0.7760471988000002,
          0.7766640989000002,
          0.7772809990000003,
          0.7778978991000002,
          0.7785147992000002,
          0.7791316993000001,
          0.7797485994000002,
          0.7803654995000002,
          0.7809823996000002,
          0.7815992997000002,
          0.7822161998000001,
          0.7828330999000002
         ],
         "xaxis": "x",
         "y": [
          0.33671364294667977,
          0.33954434649015275,
          0.34236873351696234,
          0.3451911980296688,
          0.3480163838876607,
          0.3508491811241993,
          0.3536947216298919,
          0.35655837420605163,
          0.35944573899328097,
          0.36236264128242884,
          0.36531512471692035,
          0.3683094438972574,
          0.3713520564002608,
          0.3744496142273751,
          0.37760895469805617,
          0.3808370908059136,
          0.38414120105688726,
          0.38752861881027817,
          0.39100682114493934,
          0.3945834172743359,
          0.39826613653553505,
          0.4020628159784433,
          0.405981387582786,
          0.4100298651314334,
          0.41421633076966985,
          0.4185489212809442,
          0.42303581411044006,
          0.4276852131685527,
          0.4325053344469953,
          0.43750439148077686,
          0.4426905806897538,
          0.4480720666337849,
          0.4536569672157612,
          0.4594533388669299,
          0.4654691617489777,
          0.47171232500728116,
          0.47819061210959746,
          0.4849116863042211,
          0.49188307623131833,
          0.49911216172071726,
          0.5066061598089485,
          0.5143721110077378,
          0.5224168658554973,
          0.5307470717826339,
          0.5393691603206501,
          0.5482893346842115,
          0.5575135577543263,
          0.5670475404898732,
          0.5768967307936143,
          0.5870663028577249,
          0.5975611470127753,
          0.6083858601028727,
          0.6195447364084379,
          0.6310417591368954,
          0.6428805925002216,
          0.6550645743969856,
          0.6675967097152483,
          0.6804796642712974,
          0.6937157593978306,
          0.7073069671939111,
          0.721254906447599,
          0.7355608392407832,
          0.7502256682444636,
          0.765249934711299,
          0.780633817170901,
          0.7963771308320726,
          0.8124793276948243,
          0.8289394973736671,
          0.8457563686325014,
          0.8629283116299985,
          0.8804533408732699,
          0.8983291188762945,
          0.9165529605183685,
          0.9351218380967312,
          0.9540323870662885,
          0.9732809124581953,
          0.9928633959680397,
          1.0127755037031834,
          1.0330125945777298,
          1.053569729342659,
          1.0744416802374452,
          1.0956229412486476,
          1.1171077389598223,
          1.1388900439762175,
          1.1609635829066596,
          1.1833218508842203,
          1.205958124606141,
          1.2288654758727506,
          1.2520367856040724,
          1.275464758311928,
          1.299141937004541,
          1.3230607184996708,
          1.3472133691214112,
          1.3715920407550484,
          1.3961887872333891,
          1.4209955810271098,
          1.4460043302109618,
          1.4712068956766977,
          1.496595108562755,
          1.5221607878700292,
          1.547895758232146,
          1.5737918678078149,
          1.5998410062622406,
          1.6260351228035341,
          1.6523662442395637,
          1.6788264930197914,
          1.705408105225946,
          1.7321034484748048,
          1.7589050396955992,
          1.7858055627439269,
          1.812797885813611,
          1.8398750786072635,
          1.8670304292258564,
          1.894257460737234,
          1.921549947383071,
          1.9489019303833846,
          1.976307733297639,
          2.0037619769011497,
          2.0312595935354048,
          2.058795840891054,
          2.0863663151821403,
          2.1139669636705922,
          2.1415940965000533,
          2.1692443977985496,
          2.1969149360100935,
          2.224603173415765,
          2.2523069748055815,
          2.28002461526338,
          2.3077547870278314,
          2.335496605393762,
          2.363249613619365,
          2.3910137868060324,
          2.4187895347192656,
          2.4465777035205867,
          2.4743795763823395,
          2.5021968729590194,
          2.530031747691073,
          2.5578867869190876,
          2.5857650047888643,
          2.613669837930238,
          2.6416051388951898,
          2.6695751683435067,
          2.697584585967285,
          2.7256384401483533,
          2.753742156346067,
          2.781901524216002,
          2.8101226834634296,
          2.8384121084390124,
          2.8667765914875583,
          2.895223225064272,
          2.9237593826367165,
          2.9523926983943265,
          2.9811310457910296,
          3.009982514950534,
          3.038955388967363,
          3.0680581191408227,
          3.0972992991827524,
          3.12668763844364,
          3.1562319342056826,
          3.185941043094854,
          3.2158238516677735,
          3.245889246232814,
          3.2761460819682906,
          3.3066031514038885,
          3.337269152334933,
          3.368152655242067,
          3.399262070291836,
          3.430605613996663,
          3.4621912756151927,
          3.4940267833763308,
          3.5261195706128152,
          3.5584767418918157,
          3.5911050392321187,
          3.6240108084988805,
          3.65719996606814,
          3.6906779658544924,
          3.7244497667959755,
          3.7585198008906,
          3.7928919418794265,
          3.8275694746707285,
          3.86255506559945,
          3.897850733615607,
          3.933457822494164,
          3.9693769741575142,
          4.005608103200353,
          4.042150372704595,
          4.079002171429757,
          4.116161092461906,
          4.153623913401149,
          4.191386578164831,
          4.229444180479909,
          4.267790949134547,
          4.3064202350546985,
          4.345324500267648,
          4.384495308809489,
          4.42392331962925,
          4.463598281537199,
          4.503509030239629,
          4.543643487497323,
          4.583988662439118,
          4.62453065505629,
          4.665254661897778,
          4.706144983980129,
          4.747185036919829,
          4.788357363289821,
          4.829643647195277,
          4.871024731057731,
          4.912480634590065,
          4.953990575938603,
          4.995532994961923,
          5.037085578610147,
          5.078625288361491,
          5.120128389667273,
          5.161570483349985,
          5.202926538893258,
          5.244170929556495,
          5.2852774692414926,
          5.326219451032379,
          5.366969687325389,
          5.407500551459421,
          5.447784020753597,
          5.487791720853545,
          5.527494971283427,
          5.566864832097059,
          5.60587215151737,
          5.64448761445022,
          5.682681791755314,
          5.720425190154409,
          5.7576883026543495,
          5.794441659360667,
          5.830655878555702,
          5.866301717913916,
          5.901350125726335,
          5.935772292005501,
          5.969539699342163,
          6.002624173385503,
          6.0349979328192385,
          6.066633638707186,
          6.0975044430834195,
          6.1275840366641035,
          6.156846695560513,
          6.18526732687534,
          6.21282151306775,
          6.2394855549758255,
          6.265236513389301,
          6.29005224906935,
          6.313911461116907,
          6.3367937235958705,
          6.358679520322627,
          6.379550277738881,
          6.39938839579039,
          6.418177276740318,
          6.435901351851946,
          6.452546105882074,
          6.4680980993327735,
          6.482544988416203,
          6.4958755426937875,
          6.508079660358191,
          6.519148381133574,
          6.529073896776669,
          6.537849559168423,
          6.545469885993121,
          6.551930564008912,
          6.557228449920984,
          6.561361568875304,
          6.564329110598109,
          6.566131423212803,
          6.566770004772755,
          6.566247492554803,
          6.564567650164635,
          6.561735352511095,
          6.557756568712434,
          6.55263834300285,
          6.54638877371301,
          6.539016990403103,
          6.530533129231613,
          6.520948306647239,
          6.510274591495298,
          6.498524975633449,
          6.485713343154846,
          6.471854438319493,
          6.456963832296979,
          6.441057888825857,
          6.424153728896321,
          6.406269194564188,
          6.38742281200487,
          6.367633753916389,
          6.346921801380375,
          6.325307305289757,
          6.302811147450715,
          6.279454701465586,
          6.255259793501444,
          6.230248663047521,
          6.204443923762,
          6.177868524506317,
          6.150545710662019,
          6.122498985822006,
          6.0937520739445326,
          6.064328882054448,
          6.034253463572153,
          6.003549982346641,
          5.97224267746422,
          5.940355828900377,
          5.9079137240769555,
          5.874940625382356,
          5.841460738707294,
          5.80749818304352,
          5.773076961187973,
          5.7382209315895905,
          5.702953781370831,
          5.667299000550899,
          5.631279857492633,
          5.5949193755898134,
          5.558240311207035,
          5.5212651328791145,
          5.484016001772639,
          5.446514753407528,
          5.4087828806322475,
          5.370841517841953,
          5.3327114264250985,
          5.294412981420032,
          5.25596615935967,
          5.217390527279105,
          5.178705232857636,
          5.13992899566434,
          5.101080099473234,
          5.062176385612222,
          5.023235247307641,
          4.984273624984799,
          4.945308002482987,
          4.906354404142544,
          4.867428392720568,
          4.828545068090861,
          4.789719066683531,
          4.75096456161948,
          4.712295263494654,
          4.673724421769755,
          4.635264826721033,
          4.596928811908842,
          4.558728257121307,
          4.520674591751679,
          4.482778798568904,
          4.445051417842666,
          4.407502551785344,
          4.3701418692751846,
          4.33297861082669,
          4.296021593775941,
          4.259279217650721,
          4.22275946969708,
          4.186469930536097,
          4.150417779926686,
          4.114609802612377,
          4.079052394231932,
          4.043751567276022,
          4.008712957073909,
          3.9739418277963643,
          3.9394430784629115,
          3.905221248943332,
          3.8712805259453096,
          3.8376247489819,
          3.8042574163139586,
          3.771181690864552,
          3.7384004061035716,
          3.7059160719024185,
          3.6737308803596647,
          3.6418467115998623,
          3.6102651395487197,
          3.5789874376887245,
          3.5480145848001756,
          3.5173472706931226,
          3.4869859019364755,
          3.4569306075907495,
          3.4271812449515076,
          3.397737405310478,
          3.3685984197417698,
          3.339763364920319,
          3.311231068979749,
          3.2830001174166745,
          3.2550688590480963,
          3.227435412028302,
          3.200097669931155,
          3.173053307903206,
          3.1462997888926005,
          3.119834369957925,
          3.093654108660719,
          3.067755869544588,
          3.0421363307030633,
          3.016791990437796,
          2.991719174007681,
          2.966914040468957,
          2.94237258960537,
          2.9180906689468915,
          2.894063980874517,
          2.8702880898081538,
          2.846758429473651,
          2.8234703102445096,
          2.800418926553048,
          2.777599364365114,
          2.755006608711975,
          2.7326355512723013,
          2.7104809979967306,
          2.688537676767001,
          2.666800245081234,
          2.6452632977564927,
          2.62392137463956,
          2.602768968316404,
          2.581800531810771,
          2.561010486262023,
          2.54039322857227,
          2.5199431390127334,
          2.499654588779318,
          2.479521947487258,
          2.4595395905948734,
          2.439701906746501,
          2.420003305024852,
          2.4004382221031846,
          2.381001129287882,
          2.3616865394423368,
          2.342489013783236,
          2.3234031685406746,
          2.3044236814739034,
          2.285545298234714,
          2.2667628385710383,
          2.248071202363502,
          2.2294653754882288,
          2.210940435499545,
          2.1924915571265906,
          2.1741140175783538,
          2.1558032016520055,
          2.137554606639856,
          2.1193638470306526,
          2.1012266590014317,
          2.083138904696455,
          2.0650965762902174,
          2.0470957998319452,
          2.0291328388693266,
          2.011204097849702,
          1.9933061252971693,
          1.9754356167645961,
          1.9575894175597286,
          1.9397645252450213,
          1.9219580919110884,
          1.9041674262240207,
          1.8863899952471037,
          1.8686234260377117,
          1.8508655070205127,
          1.833114189138293,
          1.8153675867820434,
          1.797623978502065,
          1.779881807502231,
          1.7621396819195838,
          1.7443963748917959,
          1.7266508244151133,
          1.7089021329955882,
          1.691149567096701,
          1.6733925563863972,
          1.6556306927869453,
          1.6378637293310523,
          1.6200915788278223,
          1.60231431234226,
          1.5845321574922562,
          1.5667454965668943,
          1.5489548644702507,
          1.5311609464948384,
          1.5133645759289784,
          1.4955667315025152,
          1.4777685346752993,
          1.4599712467730763,
          1.442176265975386,
          1.4243851241602425,
          1.4065994836103999,
          1.3888211335861402,
          1.3710519867695041,
          1.3532940755850804,
          1.335549548402423,
          1.3178206656252898,
          1.3001097956730239,
          1.2824194108592792,
          1.2647520831735963,
          1.2471104799711679,
          1.229497359576354,
          1.211915566805449,
          1.1943680284143674,
          1.1768577484768086,
          1.1593878036987,
          1.1419613386745822,
          1.1245815610917418,
          1.1072517368879653,
          1.0899751853686765,
          1.0727552742894468,
          1.0555954149097342,
          1.0384990570238182,
          1.0214696839749,
          1.0045108076583824,
          0.987625963520265,
          0.9708187055567609,
          0.9540926013210795,
          0.9374512269434324,
          0.9208981621703147,
          0.9044369854290042
         ],
         "yaxis": "y"
        },
        {
         "legendgroup": "7",
         "marker": {
          "color": "rgb(148, 103, 189)"
         },
         "mode": "lines",
         "name": "7",
         "showlegend": false,
         "type": "scatter",
         "x": [
          0.5356499999999998,
          0.5360358431999999,
          0.5364216863999999,
          0.5368075295999999,
          0.5371933727999999,
          0.5375792159999998,
          0.5379650591999998,
          0.5383509023999998,
          0.5387367455999998,
          0.5391225887999999,
          0.5395084319999999,
          0.5398942751999999,
          0.5402801183999999,
          0.5406659615999998,
          0.5410518047999998,
          0.5414376479999998,
          0.5418234911999998,
          0.5422093343999999,
          0.5425951775999999,
          0.5429810207999999,
          0.5433668639999999,
          0.5437527071999999,
          0.5441385503999998,
          0.5445243935999998,
          0.5449102367999998,
          0.5452960799999998,
          0.5456819231999999,
          0.5460677663999999,
          0.5464536095999999,
          0.5468394527999999,
          0.5472252959999998,
          0.5476111391999998,
          0.5479969823999998,
          0.5483828255999998,
          0.5487686687999999,
          0.5491545119999999,
          0.5495403551999999,
          0.5499261983999999,
          0.5503120415999999,
          0.5506978847999998,
          0.5510837279999998,
          0.5514695711999998,
          0.5518554143999999,
          0.5522412575999999,
          0.5526271007999999,
          0.5530129439999999,
          0.5533987871999999,
          0.5537846303999998,
          0.5541704735999998,
          0.5545563167999998,
          0.5549421599999999,
          0.5553280031999999,
          0.5557138463999999,
          0.5560996895999999,
          0.5564855327999999,
          0.5568713759999999,
          0.5572572191999998,
          0.5576430623999998,
          0.5580289055999998,
          0.5584147487999999,
          0.5588005919999999,
          0.5591864351999999,
          0.5595722783999999,
          0.5599581215999999,
          0.5603439647999998,
          0.5607298079999998,
          0.5611156511999998,
          0.5615014943999999,
          0.5618873375999999,
          0.5622731807999999,
          0.5626590239999999,
          0.5630448671999999,
          0.5634307103999998,
          0.5638165535999998,
          0.5642023967999998,
          0.5645882399999999,
          0.5649740831999999,
          0.5653599263999999,
          0.5657457695999999,
          0.5661316127999999,
          0.5665174559999999,
          0.5669032991999998,
          0.5672891423999998,
          0.5676749855999998,
          0.5680608287999999,
          0.5684466719999999,
          0.5688325151999999,
          0.5692183583999999,
          0.5696042015999999,
          0.5699900447999999,
          0.5703758879999998,
          0.5707617311999998,
          0.5711475743999999,
          0.5715334175999999,
          0.5719192607999999,
          0.5723051039999999,
          0.5726909471999999,
          0.5730767903999999,
          0.5734626335999998,
          0.5738484767999998,
          0.5742343199999999,
          0.5746201631999999,
          0.5750060063999999,
          0.5753918495999999,
          0.5757776927999999,
          0.5761635359999999,
          0.5765493791999998,
          0.5769352223999998,
          0.5773210655999998,
          0.5777069087999999,
          0.5780927519999999,
          0.5784785951999999,
          0.5788644383999999,
          0.5792502815999999,
          0.5796361247999999,
          0.5800219679999998,
          0.5804078111999998,
          0.5807936543999999,
          0.5811794975999999,
          0.5815653407999999,
          0.5819511839999999,
          0.5823370271999999,
          0.5827228703999999,
          0.5831087135999998,
          0.5834945567999998,
          0.5838803999999999,
          0.5842662431999999,
          0.5846520863999999,
          0.5850379295999999,
          0.5854237727999999,
          0.5858096159999999,
          0.5861954591999999,
          0.5865813023999998,
          0.5869671455999999,
          0.5873529887999999,
          0.5877388319999999,
          0.5881246751999999,
          0.5885105183999999,
          0.5888963615999999,
          0.5892822047999999,
          0.5896680479999998,
          0.5900538911999998,
          0.5904397343999999,
          0.5908255775999999,
          0.5912114207999999,
          0.5915972639999999,
          0.5919831071999999,
          0.5923689503999999,
          0.5927547935999999,
          0.5931406367999998,
          0.5935264799999999,
          0.5939123231999999,
          0.5942981663999999,
          0.5946840095999999,
          0.5950698527999999,
          0.5954556959999999,
          0.5958415391999999,
          0.5962273823999998,
          0.5966132255999999,
          0.5969990687999999,
          0.5973849119999999,
          0.5977707551999999,
          0.5981565983999999,
          0.5985424415999999,
          0.5989282847999999,
          0.5993141279999998,
          0.5996999711999998,
          0.6000858143999999,
          0.6004716575999999,
          0.6008575007999999,
          0.6012433439999999,
          0.6016291871999999,
          0.6020150303999999,
          0.6024008735999999,
          0.6027867167999998,
          0.6031725599999999,
          0.6035584031999999,
          0.6039442463999999,
          0.6043300895999999,
          0.6047159327999999,
          0.6051017759999999,
          0.6054876191999999,
          0.6058734624,
          0.6062593055999999,
          0.6066451487999999,
          0.6070309919999999,
          0.6074168351999999,
          0.6078026783999999,
          0.6081885215999999,
          0.6085743647999999,
          0.6089602079999998,
          0.6093460512,
          0.6097318943999999,
          0.6101177375999999,
          0.6105035807999999,
          0.6108894239999999,
          0.6112752671999999,
          0.6116611103999999,
          0.6120469535999999,
          0.6124327967999998,
          0.6128186399999999,
          0.6132044831999999,
          0.6135903263999999,
          0.6139761695999999,
          0.6143620127999999,
          0.6147478559999999,
          0.6151336991999999,
          0.6155195424,
          0.6159053855999999,
          0.6162912287999999,
          0.6166770719999999,
          0.6170629151999999,
          0.6174487583999999,
          0.6178346015999999,
          0.6182204447999999,
          0.618606288,
          0.6189921312,
          0.6193779743999999,
          0.6197638175999999,
          0.6201496607999999,
          0.6205355039999999,
          0.6209213471999999,
          0.6213071903999999,
          0.6216930336,
          0.6220788768,
          0.62246472,
          0.6228505631999999,
          0.6232364063999999,
          0.6236222495999999,
          0.6240080927999999,
          0.6243939359999999,
          0.6247797791999999,
          0.6251656224,
          0.6255514655999999,
          0.6259373087999999,
          0.6263231519999999,
          0.6267089951999999,
          0.6270948383999999,
          0.6274806815999999,
          0.6278665247999999,
          0.628252368,
          0.6286382112,
          0.6290240543999999,
          0.6294098975999999,
          0.6297957407999999,
          0.6301815839999999,
          0.6305674271999999,
          0.6309532703999999,
          0.6313391136,
          0.6317249568,
          0.6321108,
          0.6324966431999999,
          0.6328824863999999,
          0.6332683295999999,
          0.6336541727999999,
          0.6340400159999999,
          0.6344258591999999,
          0.6348117024,
          0.6351975456,
          0.6355833888,
          0.6359692319999999,
          0.6363550751999999,
          0.6367409183999999,
          0.6371267615999999,
          0.6375126047999999,
          0.637898448,
          0.6382842912,
          0.6386701343999999,
          0.6390559775999999,
          0.6394418207999999,
          0.6398276639999999,
          0.6402135071999999,
          0.6405993503999999,
          0.6409851936,
          0.6413710368,
          0.64175688,
          0.6421427231999999,
          0.6425285663999999,
          0.6429144095999999,
          0.6433002527999999,
          0.6436860959999999,
          0.6440719391999999,
          0.6444577824,
          0.6448436256,
          0.6452294687999999,
          0.6456153119999999,
          0.6460011551999999,
          0.6463869983999999,
          0.6467728415999999,
          0.6471586847999999,
          0.647544528,
          0.6479303712,
          0.6483162144,
          0.6487020576,
          0.6490879007999999,
          0.6494737439999999,
          0.6498595871999999,
          0.6502454303999999,
          0.6506312736,
          0.6510171168,
          0.65140296,
          0.6517888031999999,
          0.6521746463999999,
          0.6525604895999999,
          0.6529463327999999,
          0.6533321759999999,
          0.6537180192,
          0.6541038624,
          0.6544897056,
          0.6548755488,
          0.6552613919999999,
          0.6556472351999999,
          0.6560330783999999,
          0.6564189215999999,
          0.6568047647999999,
          0.657190608,
          0.6575764512,
          0.6579622944,
          0.6583481375999999,
          0.6587339807999999,
          0.6591198239999999,
          0.6595056671999999,
          0.6598915103999999,
          0.6602773536,
          0.6606631968,
          0.66104904,
          0.6614348831999999,
          0.6618207264,
          0.6622065695999999,
          0.6625924127999999,
          0.6629782559999999,
          0.6633640992,
          0.6637499424,
          0.6641357856,
          0.6645216288,
          0.6649074719999999,
          0.6652933152,
          0.6656791583999999,
          0.6660650015999999,
          0.6664508447999999,
          0.666836688,
          0.6672225312,
          0.6676083743999999,
          0.6679942176,
          0.6683800607999999,
          0.6687659039999999,
          0.6691517471999999,
          0.6695375903999999,
          0.6699234336,
          0.6703092768,
          0.67069512,
          0.6710809631999999,
          0.6714668064,
          0.6718526495999999,
          0.6722384927999999,
          0.6726243359999999,
          0.6730101792,
          0.6733960224,
          0.6737818656,
          0.6741677088,
          0.6745535519999999,
          0.6749393951999999,
          0.6753252383999999,
          0.6757110815999999,
          0.6760969247999999,
          0.676482768,
          0.6768686112,
          0.6772544544,
          0.6776402976,
          0.6780261407999999,
          0.6784119839999999,
          0.6787978271999999,
          0.6791836703999999,
          0.6795695136,
          0.6799553568,
          0.6803412,
          0.6807270432,
          0.6811128864,
          0.6814987295999999,
          0.6818845727999999,
          0.6822704159999999,
          0.6826562592,
          0.6830421024,
          0.6834279456,
          0.6838137888,
          0.684199632,
          0.6845854752,
          0.6849713183999999,
          0.6853571615999999,
          0.6857430048,
          0.686128848,
          0.6865146912,
          0.6869005344,
          0.6872863776,
          0.6876722207999999,
          0.688058064,
          0.6884439071999999,
          0.6888297503999999,
          0.6892155936,
          0.6896014368,
          0.68998728,
          0.6903731232,
          0.6907589664,
          0.6911448095999999,
          0.6915306528,
          0.6919164959999999,
          0.6923023392,
          0.6926881824,
          0.6930740256,
          0.6934598688,
          0.6938457119999999,
          0.6942315552,
          0.6946173983999999,
          0.6950032415999999,
          0.6953890848,
          0.695774928,
          0.6961607712,
          0.6965466144,
          0.6969324576,
          0.6973183007999999,
          0.697704144,
          0.6980899871999999,
          0.6984758303999999,
          0.6988616736,
          0.6992475168,
          0.69963336,
          0.7000192032,
          0.7004050464,
          0.7007908895999999,
          0.7011767327999999,
          0.7015625759999999,
          0.7019484192,
          0.7023342624,
          0.7027201056,
          0.7031059488,
          0.7034917919999999,
          0.7038776352,
          0.7042634783999999,
          0.7046493215999999,
          0.7050351648,
          0.705421008,
          0.7058068512,
          0.7061926944,
          0.7065785376,
          0.7069643807999999,
          0.707350224,
          0.7077360671999999,
          0.7081219103999999,
          0.7085077536,
          0.7088935968,
          0.70927944,
          0.7096652832,
          0.7100511264,
          0.7104369696,
          0.7108228127999999,
          0.7112086559999999,
          0.7115944992,
          0.7119803424,
          0.7123661856,
          0.7127520288,
          0.713137872,
          0.7135237152,
          0.7139095583999999,
          0.7142954015999999,
          0.7146812448,
          0.715067088,
          0.7154529312,
          0.7158387744,
          0.7162246176,
          0.7166104608,
          0.716996304,
          0.7173821471999999,
          0.7177679904,
          0.7181538336,
          0.7185396768,
          0.71892552,
          0.7193113632,
          0.7196972064,
          0.7200830495999999,
          0.7204688928,
          0.7208547359999999,
          0.7212405792,
          0.7216264224,
          0.7220122656,
          0.7223981088,
          0.722783952,
          0.7231697952,
          0.7235556383999999,
          0.7239414816,
          0.7243273248,
          0.724713168,
          0.7250990112,
          0.7254848544,
          0.7258706976,
          0.7262565408,
          0.726642384,
          0.7270282271999999,
          0.7274140704000001,
          0.7277999136,
          0.7281857568
         ],
         "xaxis": "x",
         "y": [
          2.5643184871864357,
          2.6017528578143962,
          2.6393197601959733,
          2.67701134924056,
          2.714819684342627,
          2.752736732712892,
          2.790754372776833,
          2.8288643976403893,
          2.8670585186231703,
          2.905328368859141,
          2.9436655069650843,
          2.982061420777076,
          3.0205075311553227,
          3.058995195857659,
          3.097515713482216,
          3.1360603274794663,
          3.174620230234342,
          3.2131865672186524,
          3.2517504412143605,
          3.2903029166080806,
          3.328835023757235,
          3.367337763428238,
          3.4058021113069894,
          3.444219022582054,
          3.4825794366005307,
          3.5208742815969654,
          3.5590944794951764,
          3.5972309507829565,
          3.635274619459501,
          3.673216418055162,
          3.711047292723156,
          3.748758208402573,
          3.786340154051845,
          3.8237841479518426,
          3.8610812430773773,
          3.898222532535763,
          3.935199155070932,
          3.9720023006312637,
          4.008623215999196,
          4.04505321048032,
          4.081283661649498,
          4.117306021151164,
          4.15311182055094,
          4.188692677235135,
          4.224040300354603,
          4.2591464968091195,
          4.294003177268087,
          4.328602362223135,
          4.36293618806793,
          4.396996913199986,
          4.430776924139366,
          4.464268741658412,
          4.497465026916694,
          4.53035858759485,
          4.562942384020818,
          4.5952095352815965,
          4.6271533253134125,
          4.658767208962931,
          4.690044818011714,
          4.720979967156128,
          4.751566659934384,
          4.781799094592306,
          4.811671669879143,
          4.8411789907644955,
          4.870315874067269,
          4.899077353987359,
          4.927458687530494,
          4.9554553598167566,
          4.983063089262845,
          5.010277832628248,
          5.037095789915327,
          5.063513409113173,
          5.089527390775147,
          5.115134692419884,
          5.140332532745547,
          5.165118395647194,
          5.189490034027078,
          5.213445473387768,
          5.236983015198146,
          5.260101240022294,
          5.282799010401642,
          5.305075473480651,
          5.326930063366785,
          5.348362503215431,
          5.369372807031022,
          5.389961281175554,
          5.410128525576267,
          5.42987543462439,
          5.449203197757347,
          5.468113299717112,
          5.486607520477846,
          5.5046879348364195,
          5.52235691165977,
          5.5396171127836915,
          5.5564714915580184,
          5.572923291033756,
          5.588976041788277,
          5.604633559385235,
          5.61989994146648,
          5.6347795644738286,
          5.649277079999198,
          5.663397410762272,
          5.677145746215471,
          5.690527537776724,
          5.703548493691192,
          5.716214573523824,
          5.728531982285227,
          5.740507164194228,
          5.752146796080962,
          5.76345778043534,
          5.774447238106138,
          5.785122500656985,
          5.795491102385991,
          5.805560772016632,
          5.815339424068105,
          5.8248351499141675,
          5.834056208540061,
          5.843011017007865,
          5.851708140641284,
          5.8601562829414675,
          5.8683642752462,
          5.876341066145242,
          5.8840957106654335,
          5.8916373592394455,
          5.898975246472962,
          5.906118679725213,
          5.913077027518617,
          5.919859707793566,
          5.926476176024811,
          5.9329359132164585,
          5.939248413792822,
          5.945423173402725,
          5.95146967665531,
          5.957397384805415,
          5.963215723407088,
          5.968934069953781,
          5.974561741524099,
          5.980107982451947,
          5.985581952040158,
          5.990992712336528,
          5.996349215991458,
          6.001660294216046,
          6.006934644859662,
          6.012180820625816,
          6.017407217444927,
          6.022622063022503,
          6.027833405580967,
          6.033049102813038,
          6.038276811064435,
          6.043523974763078,
          6.0487978161118345,
          6.0541053250612675,
          6.059453249578495,
          6.064848086227708,
          6.070296071077507,
          6.075803170949501,
          6.081375075022237,
          6.087017186803753,
          6.092734616485616,
          6.098532173690437,
          6.104414360624409,
          6.110385365645595,
          6.116449057258015,
          6.1226089785408915,
          6.128868342021628,
          6.135230025000403,
          6.141696565333464,
          6.148270157681452,
          6.154952650228281,
          6.161745541875395,
          6.168649979915377,
          6.175666758188054,
          6.182796315721638,
          6.190038735860428,
          6.197393745880007,
          6.20486071709,
          6.212438665423712,
          6.220126252513264,
          6.227921787247984,
          6.235823227813226,
          6.2438281842059435,
          6.251933921222746,
          6.26013736191536,
          6.268435091507901,
          6.276823361769594,
          6.285298095835941,
          6.293854893470876,
          6.302489036761652,
          6.311195496237815,
          6.31996893740496,
          6.328803727683528,
          6.337693943742322,
          6.346633379216024,
          6.355615552795565,
          6.3646337166796165,
          6.373680865375304,
          6.382749744835708,
          6.391832861921409,
          6.400922494173053,
          6.410010699881498,
          6.419089328442066,
          6.428150030978778,
          6.437184271224674,
          6.44618333664374,
          6.455138349779992,
          6.464040279818995,
          6.47287995434701,
          6.481648071292784,
          6.490335211036926,
          6.498931848673714,
          6.507428366410055,
          6.515815066086345,
          6.524082181803869,
          6.532219892643346,
          6.540218335459261,
          6.548067617734565,
          6.555757830480387,
          6.563279061165297,
          6.5706214066589315,
          6.577774986174483,
          6.584729954194961,
          6.591476513367889,
          6.598004927353364,
          6.604305533610356,
          6.610368756106231,
          6.6161851179345925,
          6.621745253826559,
          6.627039922540762,
          6.632060019117326,
          6.636796586981308,
          6.641240829881183,
          6.645384123647888,
          6.649218027760283,
          6.652734296702906,
          6.655924891101933,
          6.658781988625566,
          6.661297994635067,
          6.663465552572817,
          6.665277554074049,
          6.666727148788813,
          6.66780775390122,
          6.6685130633328615,
          6.668837056617773,
          6.668774007436227,
          6.668318491795154,
          6.667465395842904,
          6.666209923306502,
          6.66454760253977,
          6.66247429317082,
          6.659986192337867,
          6.657079840502525,
          6.6537521268300654,
          6.650000294126463,
          6.645821943322379,
          6.641215037494767,
          6.636177905416842,
          6.630709244627987,
          6.624808124015303,
          6.61847398589913,
          6.611706647615338,
          6.604506302587653,
          6.596873520883884,
          6.5888092492505175,
          6.580314810620618,
          6.571391903090737,
          6.562042598363153,
          6.552269339650333,
          6.542074939039383,
          6.531462574314885,
          6.520435785239269,
          6.508998469290689,
          6.4971548768592084,
          6.484909605902794,
          6.472267596065721,
          6.459234122262547,
          6.445814787731991,
          6.432015516565843,
          6.417842545718888,
          6.403302416506979,
          6.388401965601159,
          6.37314831552677,
          6.35754886467755,
          6.341611276855571,
          6.325343470348966,
          6.308753606560363,
          6.29185007819989,
          6.274641497057767,
          6.257136681372232,
          6.23934464280981,
          6.22127457307572,
          6.202935830173216,
          6.184337924331662,
          6.165490503623963,
          6.146403339294963,
          6.127086310823256,
          6.10754939073961,
          6.087802629226301,
          6.067856138522027,
          6.047720077158134,
          6.027404634052483,
          6.006920012487873,
          5.986276414002681,
          5.96548402222175,
          5.9445529866563485,
          5.9234934065021205,
          5.902315314464666,
          5.881028660642534,
          5.859643296497734,
          5.838168958944131,
          5.816615254584183,
          5.79499164412455,
          5.7733074270011455,
          5.751571726244216,
          5.729793473613686,
          5.707981395035029,
          5.686143996365573,
          5.664289549520711,
          5.642426078989247,
          5.620561348766395,
          5.59870284973255,
          5.576857787505303,
          5.555033070791227,
          5.533235300263521,
          5.511470757990447,
          5.489745397438746,
          5.468064834075077,
          5.446434336587611,
          5.424858818748636,
          5.403342831938008,
          5.3818905583457335,
          5.360505804871115,
          5.339191997734034,
          5.317952177812888,
          5.2967889967220705,
          5.275704713640412,
          5.2547011929004395,
          5.233779902346717,
          5.212941912469999,
          5.192187896322012,
          5.171518130214422,
          5.150932495203388,
          5.130430479359739,
          5.110011180822882,
          5.08967331163485,
          5.069415202349288,
          5.049234807408103,
          5.02912971127724,
          5.009097135330853,
          4.989133945471743,
          4.969236660474108,
          4.949401461033004,
          4.929624199503294,
          4.90990041030921,
          4.890225321004203,
          4.870593863959008,
          4.8510006886546435,
          4.831440174555431,
          4.811906444535794,
          4.792393378833391,
          4.772894629499697,
          4.753403635318125,
          4.733913637158549,
          4.714417693736183,
          4.694908697741562,
          4.675379392307796,
          4.655822387780162,
          4.6362301787525935,
          4.616595161334863,
          4.5969096506137435,
          4.57716589827097,
          4.557356110320456,
          4.537472464926944,
          4.517507130268049,
          4.497452282401593,
          4.477300123100148,
          4.457042897614755,
          4.436672912329971,
          4.416182552272751,
          4.395564298437991,
          4.374810744893945,
          4.3539146156315365,
          4.332868781121904,
          4.311666274547494,
          4.290300307672742,
          4.26876428632131,
          4.247051825427755,
          4.225156763632691,
          4.203073177391516,
          4.180795394568041,
          4.158318007485664,
          4.135635885409956,
          4.11274418643804,
          4.089638368771562,
          4.066314201351498,
          4.042767773834736,
          4.018995505893759,
          3.994994155822745,
          3.970760828434547,
          3.946292982235361,
          3.921588435865054,
          3.896645373793247,
          3.8714623512628576,
          3.846038298474625,
          3.820372524007954,
          3.7944647174751456,
          3.7683149514080285,
          3.7419236823774322,
          3.715291751348295,
          3.6884203832742997,
          3.6613111859381644,
          3.6339661480451624,
          3.6063876365791754,
          3.5785783934323905,
          3.550541531320878,
          3.5222805290005854,
          3.493799225799053,
          3.4651018154801023,
          3.436192839459952,
          3.4070771793946375,
          3.377760049159852,
          3.348246986245526,
          3.318543842588855,
          3.2886567748700153,
          3.2585922342966467,
          3.2283569559032834,
          3.197957947393393,
          3.167402477552144,
          3.136698064258873,
          3.1058524621288,
          3.074873649814084,
          3.043769816994866,
          3.0125493510911645,
          2.9812208237269493,
          2.9497929769778786,
          2.918274709434296,
          2.8866750621111854,
          2.855003204236678,
          2.8232684189508555,
          2.791480088945822,
          2.7596476820786373,
          2.727780736987455,
          2.6958888487414527,
          2.6639816545543336,
          2.6320688195907347,
          2.6001600228942223,
          2.5682649434648437,
          2.5363932465136463,
          2.504554569920275,
          2.4727585109196593,
          2.4410146130420807,
          2.409332353330519,
          2.377721129857885,
          2.346190249565767,
          2.3147489164452018,
          2.2834062200788834,
          2.252171124562947,
          2.2210524578255053,
          2.190058901357533,
          2.1591989803708183,
          2.128481054396206,
          2.0979133083341557,
          2.067503743968391,
          2.0372601719520502,
          2.007190204274476,
          1.9773012472156357,
          1.9476004947935588,
          1.9180949227092488,
          1.8887912827920301,
          1.8596960979471282,
          1.8308156576060404,
          1.8021560136790196,
          1.7737229770078429,
          1.7455221143157886,
          1.7175587456508674,
          1.6898379423167322,
          1.6623645252853938,
          1.635143064084058,
          1.6081778761479817,
          1.5814730266300496,
          1.5550323286568768,
          1.5288593440206035,
          1.5029573842942838,
          1.4773295123586765,
          1.4519785443268574,
          1.426907051852919,
          1.4021173648101473,
          1.3776115743236268,
          1.3533915361416846,
          1.329458874330108,
          1.3058149852728493,
          1.282461041962195,
          1.2593979985616668,
          1.2366265952241045,
          1.2141473631475999,
          1.1919606298516405,
          1.1700665246557804,
          1.1484649843431343,
          1.1271557589909478,
          1.1061384179507658,
          1.085412355960403
         ],
         "yaxis": "y"
        },
        {
         "legendgroup": "8",
         "marker": {
          "color": "rgb(140, 86, 75)"
         },
         "mode": "lines",
         "name": "8",
         "showlegend": false,
         "type": "scatter",
         "x": [
          0.46249999999999997,
          0.4629,
          0.4633,
          0.46369999999999995,
          0.46409999999999996,
          0.46449999999999997,
          0.4649,
          0.4653,
          0.46569999999999995,
          0.46609999999999996,
          0.46649999999999997,
          0.4669,
          0.4673,
          0.46769999999999995,
          0.46809999999999996,
          0.46849999999999997,
          0.4689,
          0.46929999999999994,
          0.46969999999999995,
          0.47009999999999996,
          0.4705,
          0.4709,
          0.47129999999999994,
          0.47169999999999995,
          0.47209999999999996,
          0.4725,
          0.4729,
          0.47329999999999994,
          0.47369999999999995,
          0.47409999999999997,
          0.4745,
          0.4749,
          0.47529999999999994,
          0.47569999999999996,
          0.47609999999999997,
          0.4765,
          0.4769,
          0.47729999999999995,
          0.47769999999999996,
          0.47809999999999997,
          0.4785,
          0.4789,
          0.47929999999999995,
          0.47969999999999996,
          0.48009999999999997,
          0.4805,
          0.4809,
          0.48129999999999995,
          0.48169999999999996,
          0.4821,
          0.4825,
          0.4829,
          0.48329999999999995,
          0.48369999999999996,
          0.4841,
          0.4845,
          0.4849,
          0.48529999999999995,
          0.48569999999999997,
          0.4861,
          0.4865,
          0.48689999999999994,
          0.48729999999999996,
          0.48769999999999997,
          0.4881,
          0.4885,
          0.48889999999999995,
          0.48929999999999996,
          0.48969999999999997,
          0.4901,
          0.4905,
          0.49089999999999995,
          0.49129999999999996,
          0.49169999999999997,
          0.4921,
          0.49249999999999994,
          0.49289999999999995,
          0.49329999999999996,
          0.49369999999999997,
          0.4941,
          0.49449999999999994,
          0.49489999999999995,
          0.49529999999999996,
          0.4957,
          0.4961,
          0.49649999999999994,
          0.49689999999999995,
          0.49729999999999996,
          0.4977,
          0.4981,
          0.49849999999999994,
          0.49889999999999995,
          0.49929999999999997,
          0.4997,
          0.5001,
          0.5005,
          0.5009,
          0.5013,
          0.5016999999999999,
          0.5021,
          0.5025,
          0.5029,
          0.5033,
          0.5036999999999999,
          0.5041,
          0.5045,
          0.5049,
          0.5053,
          0.5056999999999999,
          0.5061,
          0.5065,
          0.5069,
          0.5073,
          0.5076999999999999,
          0.5081,
          0.5085,
          0.5089,
          0.5093,
          0.5096999999999999,
          0.5101,
          0.5105,
          0.5109,
          0.5113,
          0.5116999999999999,
          0.5121,
          0.5125,
          0.5129,
          0.5133,
          0.5136999999999999,
          0.5141,
          0.5145,
          0.5149,
          0.5153,
          0.5156999999999999,
          0.5161,
          0.5165,
          0.5168999999999999,
          0.5173,
          0.5176999999999999,
          0.5181,
          0.5185,
          0.5188999999999999,
          0.5193,
          0.5196999999999999,
          0.5201,
          0.5205,
          0.5208999999999999,
          0.5213,
          0.5216999999999999,
          0.5221,
          0.5225,
          0.5228999999999999,
          0.5233,
          0.5236999999999999,
          0.5241,
          0.5245,
          0.5248999999999999,
          0.5253,
          0.5257,
          0.5261,
          0.5265,
          0.5268999999999999,
          0.5273,
          0.5277,
          0.5281,
          0.5285,
          0.5288999999999999,
          0.5293,
          0.5297,
          0.5301,
          0.5305,
          0.5308999999999999,
          0.5313,
          0.5317,
          0.5321,
          0.5325,
          0.5328999999999999,
          0.5333,
          0.5337,
          0.5341,
          0.5345,
          0.5348999999999999,
          0.5353,
          0.5357,
          0.5361,
          0.5365,
          0.5368999999999999,
          0.5373,
          0.5377,
          0.5381,
          0.5385,
          0.5388999999999999,
          0.5393,
          0.5397,
          0.5401,
          0.5405,
          0.5408999999999999,
          0.5413,
          0.5417,
          0.5421,
          0.5425,
          0.5428999999999999,
          0.5433,
          0.5437,
          0.5441,
          0.5445,
          0.5448999999999999,
          0.5453,
          0.5457,
          0.5461,
          0.5465,
          0.5468999999999999,
          0.5473,
          0.5477,
          0.5481,
          0.5485,
          0.5488999999999999,
          0.5493,
          0.5497,
          0.5501,
          0.5505,
          0.5509,
          0.5513,
          0.5517,
          0.5521,
          0.5525,
          0.5529,
          0.5533,
          0.5537,
          0.5541,
          0.5545,
          0.5549,
          0.5553,
          0.5557,
          0.5560999999999999,
          0.5565,
          0.5569,
          0.5573,
          0.5577,
          0.5580999999999999,
          0.5585,
          0.5589,
          0.5593,
          0.5597,
          0.5600999999999999,
          0.5605,
          0.5609,
          0.5613,
          0.5617,
          0.5620999999999999,
          0.5625,
          0.5629,
          0.5633,
          0.5637,
          0.5640999999999999,
          0.5645,
          0.5649,
          0.5653,
          0.5657,
          0.5660999999999999,
          0.5665,
          0.5669,
          0.5673,
          0.5677,
          0.5680999999999999,
          0.5685,
          0.5689,
          0.5692999999999999,
          0.5697,
          0.5700999999999999,
          0.5705,
          0.5709,
          0.5712999999999999,
          0.5717,
          0.5720999999999999,
          0.5725,
          0.5729,
          0.5732999999999999,
          0.5737,
          0.5740999999999999,
          0.5745,
          0.5749,
          0.5752999999999999,
          0.5757,
          0.5761,
          0.5765,
          0.5769,
          0.5772999999999999,
          0.5777,
          0.5781,
          0.5785,
          0.5789,
          0.5792999999999999,
          0.5797,
          0.5801,
          0.5805,
          0.5809,
          0.5812999999999999,
          0.5817,
          0.5821,
          0.5825,
          0.5829,
          0.5832999999999999,
          0.5837,
          0.5841,
          0.5845,
          0.5849,
          0.5852999999999999,
          0.5857,
          0.5861,
          0.5865,
          0.5869,
          0.5872999999999999,
          0.5877,
          0.5881,
          0.5885,
          0.5889,
          0.5892999999999999,
          0.5897,
          0.5901,
          0.5905,
          0.5909,
          0.5912999999999999,
          0.5917,
          0.5921,
          0.5925,
          0.5929,
          0.5932999999999999,
          0.5937,
          0.5941,
          0.5945,
          0.5949,
          0.5952999999999999,
          0.5957,
          0.5961,
          0.5965,
          0.5969,
          0.5972999999999999,
          0.5977,
          0.5981,
          0.5985,
          0.5989,
          0.5992999999999999,
          0.5997,
          0.6001,
          0.6005,
          0.6009,
          0.6013,
          0.6017,
          0.6021,
          0.6025,
          0.6029,
          0.6033,
          0.6037,
          0.6041,
          0.6044999999999999,
          0.6049,
          0.6053,
          0.6057,
          0.6061,
          0.6064999999999999,
          0.6069,
          0.6073,
          0.6077,
          0.6081,
          0.6084999999999999,
          0.6089,
          0.6093,
          0.6097,
          0.6101,
          0.6104999999999999,
          0.6109,
          0.6113,
          0.6117,
          0.6121,
          0.6124999999999999,
          0.6129,
          0.6133,
          0.6137,
          0.6141,
          0.6144999999999999,
          0.6149,
          0.6153,
          0.6157,
          0.6161,
          0.6164999999999999,
          0.6169,
          0.6173,
          0.6176999999999999,
          0.6181,
          0.6184999999999999,
          0.6189,
          0.6193,
          0.6196999999999999,
          0.6201,
          0.6204999999999999,
          0.6209,
          0.6213,
          0.6216999999999999,
          0.6221,
          0.6224999999999999,
          0.6229,
          0.6233,
          0.6236999999999999,
          0.6241,
          0.6244999999999999,
          0.6249,
          0.6253,
          0.6256999999999999,
          0.6261,
          0.6265,
          0.6269,
          0.6273,
          0.6276999999999999,
          0.6281,
          0.6285,
          0.6289,
          0.6293,
          0.6296999999999999,
          0.6301,
          0.6305,
          0.6309,
          0.6313,
          0.6316999999999999,
          0.6321,
          0.6325,
          0.6329,
          0.6333,
          0.6336999999999999,
          0.6341,
          0.6345,
          0.6349,
          0.6353,
          0.6356999999999999,
          0.6361,
          0.6365,
          0.6369,
          0.6373,
          0.6376999999999999,
          0.6381,
          0.6385,
          0.6389,
          0.6393,
          0.6396999999999999,
          0.6401,
          0.6405,
          0.6409,
          0.6413,
          0.6416999999999999,
          0.6421,
          0.6425,
          0.6429,
          0.6433,
          0.6436999999999999,
          0.6441,
          0.6445,
          0.6449,
          0.6453,
          0.6456999999999999,
          0.6461,
          0.6465,
          0.6469,
          0.6473,
          0.6476999999999999,
          0.6481,
          0.6485,
          0.6489,
          0.6493,
          0.6496999999999999,
          0.6501,
          0.6505,
          0.6509,
          0.6513,
          0.6517,
          0.6521,
          0.6525,
          0.6529,
          0.6533,
          0.6537,
          0.6541,
          0.6545,
          0.6549,
          0.6553,
          0.6557,
          0.6561,
          0.6565,
          0.6569,
          0.6573,
          0.6577,
          0.6581,
          0.6585,
          0.6589,
          0.6593,
          0.6597,
          0.6601,
          0.6605,
          0.6608999999999999,
          0.6613,
          0.6617,
          0.6621
         ],
         "xaxis": "x",
         "y": [
          0.9931787189393443,
          1.0070746181244326,
          1.0209549536482025,
          1.0348173584495948,
          1.0486595712233373,
          1.0624794349904176,
          1.076274895244665,
          1.0900439976902603,
          1.1037848855874257,
          1.1174957967258898,
          1.1311750600479984,
          1.1448210919456192,
          1.158432392257101,
          1.17200753999263,
          1.1855451888183008,
          1.1990440623310226,
          1.2125029491581656,
          1.225920697917377,
          1.2392962120734663,
          1.252628444730503,
          1.2659163933984199,
          1.2791590947743001,
          1.292355619579294,
          1.3055050674926647,
          1.3186065622247742,
          1.3316592467710326,
          1.3446622788886917,
          1.3576148268381354,
          1.370516065429805,
          1.38336517241715,
          1.3961613252751146,
          1.4089036984024548,
          1.421591460784832,
          1.434223774154035,
          1.4467997916768514,
          1.4593186572051373,
          1.471779505116383,
          1.4841814607716677,
          1.4965236416153251,
          1.508805158937819,
          1.5210251203204463,
          1.5331826327773257,
          1.5452768066069456,
          1.5573067599621226,
          1.5692716241437554,
          1.58117054962018,
          1.5930027127702282,
          1.6047673233443416,
          1.6164636326343298,
          1.6280909423384418,
          1.6396486141046633,
          1.6511360797311934,
          1.6625528519992712,
          1.673898536109701,
          1.6851728416906377,
          1.6963755953405735,
          1.7075067536668058,
          1.7185664167762438,
          1.7295548421720102,
          1.7404724590060976,
          1.7513198826353131,
          1.7620979294248256,
          1.7728076317409964,
          1.783450253072668,
          1.7940273032178653,
          1.8045405534708503,
          1.8149920517426885,
          1.8253841375470201,
          1.8357194567814668,
          1.8460009762341838,
          1.8562319977443942,
          1.8664161719453713,
          1.8765575115182922,
          1.8866604038855828,
          1.896729623272996,
          1.906770342070435,
          1.9167881414227732,
          1.9267890209833356,
          1.9367794077645517,
          1.9467661640222933,
          1.9567565941128644,
          1.966758450264219,
          1.9767799372059207,
          1.9868297156056591,
          1.9969169042635029,
          2.007051081018857,
          2.0172422823290677,
          2.0275010014827313,
          2.037838185415235,
          2.0482652300985746,
          2.0587939744822705,
          2.0694366929671086,
          2.0802060863984644,
          2.091115271571148,
          2.102177769242947,
          2.1134074906593865,
          2.1248187225976065,
          2.1364261109426916,
          2.1482446428152424,
          2.1602896272743304,
          2.172576674625514,
          2.1851216743688004,
          2.197940771826801,
          2.211050343498513,
          2.2244669711891447,
          2.2382074149714466,
          2.252288585038735,
          2.266727512514342,
          2.281541319286785,
          2.2967471869439735,
          2.312362324883855,
          2.3284039376826526,
          2.3448891918051418,
          2.361835181744837,
          2.379258895684676,
          2.397177180771424,
          2.4156067080994705,
          2.4345639375013293,
          2.45406508224417,
          2.4741260737326614,
          2.4947625263195583,
          2.515989702326057,
          2.537822477373983,
          2.5602753061320773,
          2.583362188577847,
          2.6070966368758066,
          2.631491642971767,
          2.6565596470010293,
          2.6823125066068183,
          2.708761467262671,
          2.7359171336901396,
          2.7637894424602516,
          2.792387635863709,
          2.8217202371316024,
          2.8517950270842065,
          2.8826190222815056,
          2.91419845474471,
          2.9465387533131073,
          2.979644526695883,
          3.013519548273452,
          3.0481667426971293,
          3.0835881743309237,
          3.1197850375730263,
          3.156757649089004,
          3.1945054419826864,
          3.233026961924285,
          3.2723198652496457,
          3.3123809190376394,
          3.353206003166754,
          3.394790114345677,
          3.4371273721057825,
          3.4802110267378703,
          3.524033469148499,
          3.5685862426055333,
          3.613860056336265,
          3.6598448009352835,
          3.7065295655337915,
          3.7539026566759053,
          3.801951618842268,
          3.8506632565560213,
          3.9000236580006113,
          3.950018220074794,
          4.0006316748048585,
          4.051848117030223,
          4.1036510332746206,
          4.156023331710762,
          4.2089473731239435,
          4.262405002776083,
          4.316377583069617,
          4.370846026908317,
          4.425790831649695,
          4.481192113542894,
          4.537029642544048,
          4.593282877400823,
          4.649931000897566,
          4.7069529551520235,
          4.764327476855845,
          4.822033132351265,
          4.880048352438046,
          4.938351466806625,
          4.996920737994805,
          5.0557343947688205,
          5.114770664831549,
          5.17400780676445,
          5.233424141113406,
          5.292998080532108,
          5.352708158901688,
          5.412533059349111,
          5.472451641092181,
          5.532442965044372,
          5.59248631811733,
          5.6525612361655835,
          5.712647525522951,
          5.772725283086704,
          5.832774914911775,
          5.892777153283076,
          5.952713072241301,
          6.0125641015432345,
          6.072312039044661,
          6.131939061500633,
          6.1914277337837476,
          6.2507610165286085,
          6.309922272216081,
          6.3688952697179895,
          6.427664187329032,
          6.486213614318221,
          6.544528551038911,
          6.602594407641224,
          6.660397001436714,
          6.717922552970171,
          6.77515768085781,
          6.832089395456557,
          6.888705091432303,
          6.94499253929958,
          7.000939876008442,
          7.056535594656911,
          7.1117685334108796,
          7.166627863714607,
          7.22110307787758,
          7.275183976124477,
          7.3288606531956875,
          7.382123484586927,
          7.4349631125157725,
          7.487370431702895,
          7.539336575054922,
          7.590852899334046,
          7.641910970898293,
          7.6925025515936145,
          7.742619584876549,
          7.792254182243253,
          7.841398610036864,
          7.89004527670186,
          7.93818672054935,
          7.985815598093134,
          8.03292467301161,
          8.079506805785018,
          8.125554944052759,
          8.171062113729866,
          8.216021410915534,
          8.26042599462143,
          8.30426908034093,
          8.347543934474578,
          8.390243869621056,
          8.432362240736373,
          8.4738924421584,
          8.51482790548723,
          8.55516209830625,
          8.594888523722888,
          8.634000720701934,
          8.672492265159386,
          8.710356771779,
          8.747587896508865,
          8.784179339690755,
          8.820124849770197,
          8.855418227531596,
          8.890053330798562,
          8.924024079536647,
          8.957324461292812,
          8.989948536902977,
          9.021890446397917,
          9.053144415035257,
          9.083704759384958,
          9.113565893394957,
          9.142722334363249,
          9.171168708743656,
          9.198899757712994,
          9.22591034242901,
          9.252195448910433,
          9.27775019247263,
          9.302569821655466,
          9.326649721583268,
          9.349985416700358,
          9.372572572830114,
          9.394406998509858,
          9.415484645558905,
          9.435801608842528,
          9.455354125200001,
          9.474138571511004,
          9.49215146188065,
          9.509389443929928,
          9.525849294184807,
          9.541527912563973,
          9.556422315972066,
          9.570529631011869,
          9.58384708583621,
          9.59637200116684,
          9.608101780514506,
          9.619033899641174,
          9.629165895311854,
          9.638495353389827,
          9.647019896335427,
          9.65473717017406,
          9.661644831005198,
          9.667740531128816,
          9.673021904871193,
          9.677486554195946,
          9.681132034190558,
          9.683955838522172,
          9.685955384959364,
          9.687128001059413,
          9.687470910122459,
          9.68698121751548,
          9.685655897470088,
          9.683491780458157,
          9.68048554124948,
          9.676633687754462,
          9.671932550753644,
          9.666378274613773,
          9.659966809087475,
          9.652693902290448,
          9.644555094946337,
          9.635545715985122,
          9.62566087957589,
          9.614895483669663,
          9.603244210122003,
          9.59070152645857,
          9.577261689340375,
          9.562918749778033,
          9.547666560136694,
          9.531498782965675,
          9.514408901678214,
          9.496390233098744,
          9.477435941885844,
          9.457539056830562,
          9.436692489020695,
          9.414889051852159,
          9.39212148285998,
          9.368382467331664,
          9.34366466365721,
          9.317960730360387,
          9.291263354747452,
          9.263565283100649,
          9.234859352335173,
          9.205138523030335,
          9.174395913737712,
          9.142624836461161,
          9.109818833197094,
          9.075971713415996,
          9.041077592360342,
          9.005130930028214,
          8.968126570706334,
          8.930059782912346,
          8.890926299600963,
          8.850722358486125,
          8.809444742327816,
          8.767090819029926,
          8.723658581394524,
          8.679146686376036,
          8.63355449367951,
          8.586882103546833,
          8.539130393576094,
          8.490301054421177,
          8.440396624220634,
          8.389420521608477,
          8.337377077162621,
          8.284271563151544,
          8.230110221444253,
          8.174900289454474,
          8.118650023995562,
          8.061368722929961,
          8.00306674450324,
          7.943755524261072,
          7.883447589455266,
          7.82215657085298,
          7.759897211872958,
          7.696685374980682,
          7.632538045284651,
          7.567473331285188,
          7.501510462736957,
          7.434669785597041,
          7.366972754039685,
          7.298441919530018,
          7.229100916958654,
          7.158974447849508,
          7.08808826066389,
          7.0164691282331875,
          6.944144822363382,
          6.87114408566391,
          6.797496600663014,
          6.7232329562816435,
          6.648384611746195,
          6.572983858029991,
          6.497063776921359,
          6.420658197823942,
          6.343801652403325,
          6.2665293272001055,
          6.188877014337153,
          6.110881060454554,
          6.032578314011089,
          5.954006071097067,
          5.875202019907144,
          5.796204184025813,
          5.717050864682472,
          5.637780582134531,
          5.558432016340573,
          5.479043947086405,
          5.399655193727933,
          5.320304554716048,
          5.241030747067347,
          5.16187234594508,
          5.082867724512656,
          5.004054994220164,
          4.92547194568291,
          4.847155990306646,
          4.769144102812171,
          4.691472764807179,
          4.614177909548877,
          4.53729486803688,
          4.460858316569368,
          4.384902225891101,
          4.30945981205507,
          4.234563489113241,
          4.160244823745838,
          4.086534491930637,
          4.013462237747493,
          3.9410568344053676,
          3.8693460475713066,
          3.7983566010739103,
          3.7281141450447297,
          3.6586432265541213,
          3.5899672627894046,
          3.5221085168149577,
          3.455088075946565,
          3.3889258327631246,
          3.3236404687719294,
          3.259249440735028,
          3.195768969656478,
          3.1332140324231785,
          3.0715983560834994,
          3.010934414741535,
          2.9512334290371247,
          2.8925053681748434,
          2.8347589544591707,
          2.7780016702857195,
          2.7222397675332535,
          2.667478279294875,
          2.61372103388128,
          2.560970671024438,
          2.50922866020433,
          2.4584953210178604,
          2.4087698455043403,
          2.360050322338293,
          2.3123337627973655,
          2.2656161284094596,
          2.2198923601812135,
          2.1751564093072675,
          2.1314012692578532,
          2.0886190091411,
          2.0468008082346225,
          2.005936991580762,
          1.9660170665389316,
          1.9270297601883823,
          1.8889630574752758,
          1.8518042399977706,
          1.815539925324315,
          1.7801561067409308,
          1.7456381933247582,
          1.7119710502430383,
          1.6791390391780856,
          1.6471260587814753,
          1.6159155850626719,
          1.5854907116199048,
          1.555834189624175,
          1.5269284674697259,
          1.498755730007911,
          1.4712979372843191,
          1.4445368627024466,
          1.418454130540964,
          1.3930312527548327,
          1.3682496649946199,
          1.3440907617818925,
          1.3205359307824032,
          1.297566586122897,
          1.2751642007009092,
          1.253310337441222,
          1.2319866794563432,
          1.211175059072324,
          1.1908574856853311,
          1.1710161724179675,
          1.1516335615484947,
          1.1326923486896934,
          1.1141755056978573,
          1.0960663022962704,
          1.0783483264008118,
          1.0610055031391525,
          1.0440221125582416,
          1.0273828060181196,
          1.0110726212734924,
          0.9950769962473704,
          0.9793817815043385,
          0.9639732514337714,
          0.9488381141560889,
          0.9339635201679617,
          0.9193370697446822,
          0.9049468191205604,
          0.8907812854703457,
          0.8768294507168409,
          0.8630807641920193,
          0.8495251441807345,
          0.8361529783779047
         ],
         "yaxis": "y"
        },
        {
         "legendgroup": "3",
         "marker": {
          "color": "rgb(31, 119, 180)",
          "symbol": "line-ns-open"
         },
         "mode": "markers",
         "name": "3",
         "showlegend": false,
         "type": "scatter",
         "x": [
          0.95005,
          1,
          0.9833500000000001,
          0.9833500000000001,
          0.8833500000000001,
          0.9666999999999999,
          0.8834500000000001,
          0.9167,
          0.9333499999999999,
          0.8834000000000001,
          0.98333335,
          0.8500000999999999,
          0.98333335,
          0.9333333999999999,
          0.98333335,
          0.9666666999999999,
          0.9333333500000001,
          0.9666667,
          0.7333335,
          0.95000005,
          0.95000005,
          0.98333335,
          0.9666666999999999,
          0.9166667499999999,
          0.9333334000000001,
          0.9500000499999999,
          0.9666667,
          0.9833333499999999,
          0.98333335,
          0.9500000499999999,
          0.8500001,
          0.9500000499999999,
          0.8666667,
          0.95000005,
          0.91666675,
          0.8333334499999999,
          0.8666668,
          0.98333335,
          0.98333335,
          0.9333333499999998,
          0.9000000499999999,
          0.95000005,
          0.9666667,
          0.9500000499999999,
          0.8000001000000001,
          0.71666665,
          0.98333335,
          0.86666675,
          0.9666667,
          0.9333334
         ],
         "xaxis": "x",
         "y": [
          "3",
          "3",
          "3",
          "3",
          "3",
          "3",
          "3",
          "3",
          "3",
          "3",
          "3",
          "3",
          "3",
          "3",
          "3",
          "3",
          "3",
          "3",
          "3",
          "3",
          "3",
          "3",
          "3",
          "3",
          "3",
          "3",
          "3",
          "3",
          "3",
          "3",
          "3",
          "3",
          "3",
          "3",
          "3",
          "3",
          "3",
          "3",
          "3",
          "3",
          "3",
          "3",
          "3",
          "3",
          "3",
          "3",
          "3",
          "3",
          "3",
          "3"
         ],
         "yaxis": "y2"
        },
        {
         "legendgroup": "4",
         "marker": {
          "color": "rgb(255, 127, 14)",
          "symbol": "line-ns-open"
         },
         "mode": "markers",
         "name": "4",
         "showlegend": false,
         "type": "scatter",
         "x": [
          0.8374999999999999,
          0.9375,
          0.8624999999999998,
          0.9,
          0.7874999999999999,
          0.8124999999999999,
          0.8875,
          0.9125000000000001,
          0.7874999999999999,
          0.6375,
          0.8500000000000001,
          0.9125000000000001,
          0.9,
          0.7499999999999998,
          0.8999999999999999,
          0.825,
          0.7874999999999999,
          0.8375000000000001,
          0.65,
          0.8874999999999998,
          0.825,
          0.9,
          0.8124999999999999,
          0.7499999999999999,
          0.825,
          0.8749999999999999,
          0.8374999999999998,
          0.9125,
          0.85,
          0.8624999999999999,
          0.7999999999999999,
          0.8374999999999999,
          0.8375,
          0.7499999999999999,
          0.9249999999999998,
          0.65,
          0.725,
          0.9749999999999999,
          0.8875,
          0.775,
          0.825,
          0.8374999999999998,
          0.8500000000000001,
          0.8374999999999998,
          0.6625,
          0.675,
          0.9125,
          0.8375,
          0.7999999999999999,
          0.7374999999999999
         ],
         "xaxis": "x",
         "y": [
          "4",
          "4",
          "4",
          "4",
          "4",
          "4",
          "4",
          "4",
          "4",
          "4",
          "4",
          "4",
          "4",
          "4",
          "4",
          "4",
          "4",
          "4",
          "4",
          "4",
          "4",
          "4",
          "4",
          "4",
          "4",
          "4",
          "4",
          "4",
          "4",
          "4",
          "4",
          "4",
          "4",
          "4",
          "4",
          "4",
          "4",
          "4",
          "4",
          "4",
          "4",
          "4",
          "4",
          "4",
          "4",
          "4",
          "4",
          "4",
          "4",
          "4"
         ],
         "yaxis": "y2"
        },
        {
         "legendgroup": "5",
         "marker": {
          "color": "rgb(44, 160, 44)",
          "symbol": "line-ns-open"
         },
         "mode": "markers",
         "name": "5",
         "showlegend": false,
         "type": "scatter",
         "x": [
          0.73,
          0.8000000000000002,
          0.81,
          0.7999999999999999,
          0.59,
          0.7300000000000001,
          0.8099999999999999,
          0.7800000000000001,
          0.7,
          0.6100000000000001,
          0.7399999999999999,
          0.73,
          0.78,
          0.72,
          0.8,
          0.7400000000000001,
          0.6799999999999999,
          0.77,
          0.5999999999999999,
          0.74,
          0.7800000000000002,
          0.8,
          0.6700000000000002,
          0.7300000000000001,
          0.6499999999999999,
          0.7200000000000001,
          0.6699999999999999,
          0.8199999999999998,
          0.76,
          0.7200000000000001,
          0.7,
          0.7500000000000001,
          0.6100000000000001,
          0.5900000000000001,
          0.8000000000000002,
          0.5900000000000001,
          0.6,
          0.8,
          0.7499999999999999,
          0.6900000000000002,
          0.7,
          0.78,
          0.7000000000000001,
          0.7800000000000002,
          0.64,
          0.62,
          0.8199999999999998,
          0.7699999999999999,
          0.6699999999999999,
          0.7000000000000001
         ],
         "xaxis": "x",
         "y": [
          "5",
          "5",
          "5",
          "5",
          "5",
          "5",
          "5",
          "5",
          "5",
          "5",
          "5",
          "5",
          "5",
          "5",
          "5",
          "5",
          "5",
          "5",
          "5",
          "5",
          "5",
          "5",
          "5",
          "5",
          "5",
          "5",
          "5",
          "5",
          "5",
          "5",
          "5",
          "5",
          "5",
          "5",
          "5",
          "5",
          "5",
          "5",
          "5",
          "5",
          "5",
          "5",
          "5",
          "5",
          "5",
          "5",
          "5",
          "5",
          "5",
          "5"
         ],
         "yaxis": "y2"
        },
        {
         "legendgroup": "6",
         "marker": {
          "color": "rgb(214, 39, 40)",
          "symbol": "line-ns-open"
         },
         "mode": "markers",
         "name": "6",
         "showlegend": false,
         "type": "scatter",
         "x": [
          0.6832,
          0.7834500000000002,
          0.6834,
          0.6833500000000001,
          0.60835,
          0.6667,
          0.70835,
          0.68335,
          0.6417,
          0.5666500000000001,
          0.63333325,
          0.47499994999999995,
          0.70833325,
          0.6333333,
          0.75833335,
          0.61666675,
          0.6250001,
          0.6499999999999999,
          0.575,
          0.6416666499999999,
          0.6416666999999999,
          0.7166666500000001,
          0.6166666,
          0.6416666499999998,
          0.625,
          0.6083333999999999,
          0.6166668,
          0.7583333999999998,
          0.6749999999999999,
          0.6666666000000001,
          0.6500000500000002,
          0.65000005,
          0.6000000999999999,
          0.5833333499999999,
          0.6500000000000001,
          0.5916666500000002,
          0.53333335,
          0.74166665,
          0.6916666,
          0.5750000000000002,
          0.5666667,
          0.6333334,
          0.65000005,
          0.73333335,
          0.63333335,
          0.54999995,
          0.7250001,
          0.625,
          0.5499999999999999,
          0.66666675
         ],
         "xaxis": "x",
         "y": [
          "6",
          "6",
          "6",
          "6",
          "6",
          "6",
          "6",
          "6",
          "6",
          "6",
          "6",
          "6",
          "6",
          "6",
          "6",
          "6",
          "6",
          "6",
          "6",
          "6",
          "6",
          "6",
          "6",
          "6",
          "6",
          "6",
          "6",
          "6",
          "6",
          "6",
          "6",
          "6",
          "6",
          "6",
          "6",
          "6",
          "6",
          "6",
          "6",
          "6",
          "6",
          "6",
          "6",
          "6",
          "6",
          "6",
          "6",
          "6",
          "6",
          "6"
         ],
         "yaxis": "y2"
        },
        {
         "legendgroup": "7",
         "marker": {
          "color": "rgb(148, 103, 189)",
          "symbol": "line-ns-open"
         },
         "mode": "markers",
         "name": "7",
         "showlegend": false,
         "type": "scatter",
         "x": [
          0.6855000000000002,
          0.67835,
          0.6783999999999999,
          0.63555,
          0.5356499999999998,
          0.6425999999999998,
          0.6498999999999999,
          0.6926500000000001,
          0.5927,
          0.5498999999999999,
          0.59285735,
          0.6428572999999997,
          0.6142859,
          0.5785715,
          0.6928572999999999,
          0.6214288499999999,
          0.5785716499999999,
          0.6357145,
          0.5857144999999999,
          0.6214287000000001,
          0.6785715500000001,
          0.6428572000000001,
          0.6000001999999999,
          0.6214287999999998,
          0.55714305,
          0.62857165,
          0.5500000500000001,
          0.7000002000000001,
          0.69285725,
          0.69285735,
          0.6142859499999999,
          0.6500002999999999,
          0.56428575,
          0.5785716500000001,
          0.6642859,
          0.5357144,
          0.61428585,
          0.65714295,
          0.6214287000000001,
          0.5785716500000001,
          0.56428585,
          0.6357144499999999,
          0.5928572499999999,
          0.7285716,
          0.5714287,
          0.6071429499999998,
          0.6500001,
          0.6500001999999999,
          0.5714286499999999,
          0.5571429499999999
         ],
         "xaxis": "x",
         "y": [
          "7",
          "7",
          "7",
          "7",
          "7",
          "7",
          "7",
          "7",
          "7",
          "7",
          "7",
          "7",
          "7",
          "7",
          "7",
          "7",
          "7",
          "7",
          "7",
          "7",
          "7",
          "7",
          "7",
          "7",
          "7",
          "7",
          "7",
          "7",
          "7",
          "7",
          "7",
          "7",
          "7",
          "7",
          "7",
          "7",
          "7",
          "7",
          "7",
          "7",
          "7",
          "7",
          "7",
          "7",
          "7",
          "7",
          "7",
          "7",
          "7",
          "7"
         ],
         "yaxis": "y2"
        },
        {
         "legendgroup": "8",
         "marker": {
          "color": "rgb(140, 86, 75)",
          "symbol": "line-ns-open"
         },
         "mode": "markers",
         "name": "8",
         "showlegend": false,
         "type": "scatter",
         "x": [
          0.5999999999999999,
          0.60625,
          0.5625,
          0.60625,
          0.5750000000000001,
          0.59375,
          0.6125,
          0.5437500000000001,
          0.58125,
          0.5,
          0.575,
          0.5750000000000001,
          0.60625,
          0.49999999999999994,
          0.5999999999999999,
          0.5625,
          0.5499999999999998,
          0.6125,
          0.5375,
          0.5749999999999998,
          0.6062500000000001,
          0.61875,
          0.61875,
          0.5625,
          0.5375000000000001,
          0.54375,
          0.59375,
          0.61875,
          0.5875,
          0.54375,
          0.5625000000000001,
          0.5812500000000002,
          0.5499999999999999,
          0.47499999999999987,
          0.60625,
          0.5750000000000001,
          0.5499999999999999,
          0.6625,
          0.5562500000000001,
          0.5187499999999999,
          0.49375,
          0.6000000000000001,
          0.5750000000000001,
          0.64375,
          0.5687499999999999,
          0.5312499999999999,
          0.5812499999999999,
          0.59375,
          0.46249999999999997,
          0.58125
         ],
         "xaxis": "x",
         "y": [
          "8",
          "8",
          "8",
          "8",
          "8",
          "8",
          "8",
          "8",
          "8",
          "8",
          "8",
          "8",
          "8",
          "8",
          "8",
          "8",
          "8",
          "8",
          "8",
          "8",
          "8",
          "8",
          "8",
          "8",
          "8",
          "8",
          "8",
          "8",
          "8",
          "8",
          "8",
          "8",
          "8",
          "8",
          "8",
          "8",
          "8",
          "8",
          "8",
          "8",
          "8",
          "8",
          "8",
          "8",
          "8",
          "8",
          "8",
          "8",
          "8",
          "8"
         ],
         "yaxis": "y2"
        }
       ],
       "layout": {
        "barmode": "overlay",
        "hovermode": "closest",
        "legend": {
         "traceorder": "reversed"
        },
        "template": {
         "data": {
          "bar": [
           {
            "error_x": {
             "color": "#2a3f5f"
            },
            "error_y": {
             "color": "#2a3f5f"
            },
            "marker": {
             "line": {
              "color": "#E5ECF6",
              "width": 0.5
             }
            },
            "type": "bar"
           }
          ],
          "barpolar": [
           {
            "marker": {
             "line": {
              "color": "#E5ECF6",
              "width": 0.5
             }
            },
            "type": "barpolar"
           }
          ],
          "carpet": [
           {
            "aaxis": {
             "endlinecolor": "#2a3f5f",
             "gridcolor": "white",
             "linecolor": "white",
             "minorgridcolor": "white",
             "startlinecolor": "#2a3f5f"
            },
            "baxis": {
             "endlinecolor": "#2a3f5f",
             "gridcolor": "white",
             "linecolor": "white",
             "minorgridcolor": "white",
             "startlinecolor": "#2a3f5f"
            },
            "type": "carpet"
           }
          ],
          "choropleth": [
           {
            "colorbar": {
             "outlinewidth": 0,
             "ticks": ""
            },
            "type": "choropleth"
           }
          ],
          "contour": [
           {
            "colorbar": {
             "outlinewidth": 0,
             "ticks": ""
            },
            "colorscale": [
             [
              0,
              "#0d0887"
             ],
             [
              0.1111111111111111,
              "#46039f"
             ],
             [
              0.2222222222222222,
              "#7201a8"
             ],
             [
              0.3333333333333333,
              "#9c179e"
             ],
             [
              0.4444444444444444,
              "#bd3786"
             ],
             [
              0.5555555555555556,
              "#d8576b"
             ],
             [
              0.6666666666666666,
              "#ed7953"
             ],
             [
              0.7777777777777778,
              "#fb9f3a"
             ],
             [
              0.8888888888888888,
              "#fdca26"
             ],
             [
              1,
              "#f0f921"
             ]
            ],
            "type": "contour"
           }
          ],
          "contourcarpet": [
           {
            "colorbar": {
             "outlinewidth": 0,
             "ticks": ""
            },
            "type": "contourcarpet"
           }
          ],
          "heatmap": [
           {
            "colorbar": {
             "outlinewidth": 0,
             "ticks": ""
            },
            "colorscale": [
             [
              0,
              "#0d0887"
             ],
             [
              0.1111111111111111,
              "#46039f"
             ],
             [
              0.2222222222222222,
              "#7201a8"
             ],
             [
              0.3333333333333333,
              "#9c179e"
             ],
             [
              0.4444444444444444,
              "#bd3786"
             ],
             [
              0.5555555555555556,
              "#d8576b"
             ],
             [
              0.6666666666666666,
              "#ed7953"
             ],
             [
              0.7777777777777778,
              "#fb9f3a"
             ],
             [
              0.8888888888888888,
              "#fdca26"
             ],
             [
              1,
              "#f0f921"
             ]
            ],
            "type": "heatmap"
           }
          ],
          "heatmapgl": [
           {
            "colorbar": {
             "outlinewidth": 0,
             "ticks": ""
            },
            "colorscale": [
             [
              0,
              "#0d0887"
             ],
             [
              0.1111111111111111,
              "#46039f"
             ],
             [
              0.2222222222222222,
              "#7201a8"
             ],
             [
              0.3333333333333333,
              "#9c179e"
             ],
             [
              0.4444444444444444,
              "#bd3786"
             ],
             [
              0.5555555555555556,
              "#d8576b"
             ],
             [
              0.6666666666666666,
              "#ed7953"
             ],
             [
              0.7777777777777778,
              "#fb9f3a"
             ],
             [
              0.8888888888888888,
              "#fdca26"
             ],
             [
              1,
              "#f0f921"
             ]
            ],
            "type": "heatmapgl"
           }
          ],
          "histogram": [
           {
            "marker": {
             "colorbar": {
              "outlinewidth": 0,
              "ticks": ""
             }
            },
            "type": "histogram"
           }
          ],
          "histogram2d": [
           {
            "colorbar": {
             "outlinewidth": 0,
             "ticks": ""
            },
            "colorscale": [
             [
              0,
              "#0d0887"
             ],
             [
              0.1111111111111111,
              "#46039f"
             ],
             [
              0.2222222222222222,
              "#7201a8"
             ],
             [
              0.3333333333333333,
              "#9c179e"
             ],
             [
              0.4444444444444444,
              "#bd3786"
             ],
             [
              0.5555555555555556,
              "#d8576b"
             ],
             [
              0.6666666666666666,
              "#ed7953"
             ],
             [
              0.7777777777777778,
              "#fb9f3a"
             ],
             [
              0.8888888888888888,
              "#fdca26"
             ],
             [
              1,
              "#f0f921"
             ]
            ],
            "type": "histogram2d"
           }
          ],
          "histogram2dcontour": [
           {
            "colorbar": {
             "outlinewidth": 0,
             "ticks": ""
            },
            "colorscale": [
             [
              0,
              "#0d0887"
             ],
             [
              0.1111111111111111,
              "#46039f"
             ],
             [
              0.2222222222222222,
              "#7201a8"
             ],
             [
              0.3333333333333333,
              "#9c179e"
             ],
             [
              0.4444444444444444,
              "#bd3786"
             ],
             [
              0.5555555555555556,
              "#d8576b"
             ],
             [
              0.6666666666666666,
              "#ed7953"
             ],
             [
              0.7777777777777778,
              "#fb9f3a"
             ],
             [
              0.8888888888888888,
              "#fdca26"
             ],
             [
              1,
              "#f0f921"
             ]
            ],
            "type": "histogram2dcontour"
           }
          ],
          "mesh3d": [
           {
            "colorbar": {
             "outlinewidth": 0,
             "ticks": ""
            },
            "type": "mesh3d"
           }
          ],
          "parcoords": [
           {
            "line": {
             "colorbar": {
              "outlinewidth": 0,
              "ticks": ""
             }
            },
            "type": "parcoords"
           }
          ],
          "scatter": [
           {
            "marker": {
             "colorbar": {
              "outlinewidth": 0,
              "ticks": ""
             }
            },
            "type": "scatter"
           }
          ],
          "scatter3d": [
           {
            "line": {
             "colorbar": {
              "outlinewidth": 0,
              "ticks": ""
             }
            },
            "marker": {
             "colorbar": {
              "outlinewidth": 0,
              "ticks": ""
             }
            },
            "type": "scatter3d"
           }
          ],
          "scattercarpet": [
           {
            "marker": {
             "colorbar": {
              "outlinewidth": 0,
              "ticks": ""
             }
            },
            "type": "scattercarpet"
           }
          ],
          "scattergeo": [
           {
            "marker": {
             "colorbar": {
              "outlinewidth": 0,
              "ticks": ""
             }
            },
            "type": "scattergeo"
           }
          ],
          "scattergl": [
           {
            "marker": {
             "colorbar": {
              "outlinewidth": 0,
              "ticks": ""
             }
            },
            "type": "scattergl"
           }
          ],
          "scattermapbox": [
           {
            "marker": {
             "colorbar": {
              "outlinewidth": 0,
              "ticks": ""
             }
            },
            "type": "scattermapbox"
           }
          ],
          "scatterpolar": [
           {
            "marker": {
             "colorbar": {
              "outlinewidth": 0,
              "ticks": ""
             }
            },
            "type": "scatterpolar"
           }
          ],
          "scatterpolargl": [
           {
            "marker": {
             "colorbar": {
              "outlinewidth": 0,
              "ticks": ""
             }
            },
            "type": "scatterpolargl"
           }
          ],
          "scatterternary": [
           {
            "marker": {
             "colorbar": {
              "outlinewidth": 0,
              "ticks": ""
             }
            },
            "type": "scatterternary"
           }
          ],
          "surface": [
           {
            "colorbar": {
             "outlinewidth": 0,
             "ticks": ""
            },
            "colorscale": [
             [
              0,
              "#0d0887"
             ],
             [
              0.1111111111111111,
              "#46039f"
             ],
             [
              0.2222222222222222,
              "#7201a8"
             ],
             [
              0.3333333333333333,
              "#9c179e"
             ],
             [
              0.4444444444444444,
              "#bd3786"
             ],
             [
              0.5555555555555556,
              "#d8576b"
             ],
             [
              0.6666666666666666,
              "#ed7953"
             ],
             [
              0.7777777777777778,
              "#fb9f3a"
             ],
             [
              0.8888888888888888,
              "#fdca26"
             ],
             [
              1,
              "#f0f921"
             ]
            ],
            "type": "surface"
           }
          ],
          "table": [
           {
            "cells": {
             "fill": {
              "color": "#EBF0F8"
             },
             "line": {
              "color": "white"
             }
            },
            "header": {
             "fill": {
              "color": "#C8D4E3"
             },
             "line": {
              "color": "white"
             }
            },
            "type": "table"
           }
          ]
         },
         "layout": {
          "annotationdefaults": {
           "arrowcolor": "#2a3f5f",
           "arrowhead": 0,
           "arrowwidth": 1
          },
          "colorscale": {
           "diverging": [
            [
             0,
             "#8e0152"
            ],
            [
             0.1,
             "#c51b7d"
            ],
            [
             0.2,
             "#de77ae"
            ],
            [
             0.3,
             "#f1b6da"
            ],
            [
             0.4,
             "#fde0ef"
            ],
            [
             0.5,
             "#f7f7f7"
            ],
            [
             0.6,
             "#e6f5d0"
            ],
            [
             0.7,
             "#b8e186"
            ],
            [
             0.8,
             "#7fbc41"
            ],
            [
             0.9,
             "#4d9221"
            ],
            [
             1,
             "#276419"
            ]
           ],
           "sequential": [
            [
             0,
             "#0d0887"
            ],
            [
             0.1111111111111111,
             "#46039f"
            ],
            [
             0.2222222222222222,
             "#7201a8"
            ],
            [
             0.3333333333333333,
             "#9c179e"
            ],
            [
             0.4444444444444444,
             "#bd3786"
            ],
            [
             0.5555555555555556,
             "#d8576b"
            ],
            [
             0.6666666666666666,
             "#ed7953"
            ],
            [
             0.7777777777777778,
             "#fb9f3a"
            ],
            [
             0.8888888888888888,
             "#fdca26"
            ],
            [
             1,
             "#f0f921"
            ]
           ],
           "sequentialminus": [
            [
             0,
             "#0d0887"
            ],
            [
             0.1111111111111111,
             "#46039f"
            ],
            [
             0.2222222222222222,
             "#7201a8"
            ],
            [
             0.3333333333333333,
             "#9c179e"
            ],
            [
             0.4444444444444444,
             "#bd3786"
            ],
            [
             0.5555555555555556,
             "#d8576b"
            ],
            [
             0.6666666666666666,
             "#ed7953"
            ],
            [
             0.7777777777777778,
             "#fb9f3a"
            ],
            [
             0.8888888888888888,
             "#fdca26"
            ],
            [
             1,
             "#f0f921"
            ]
           ]
          },
          "colorway": [
           "#636efa",
           "#EF553B",
           "#00cc96",
           "#ab63fa",
           "#FFA15A",
           "#19d3f3",
           "#FF6692",
           "#B6E880",
           "#FF97FF",
           "#FECB52"
          ],
          "font": {
           "color": "#2a3f5f"
          },
          "geo": {
           "bgcolor": "white",
           "lakecolor": "white",
           "landcolor": "#E5ECF6",
           "showlakes": true,
           "showland": true,
           "subunitcolor": "white"
          },
          "hoverlabel": {
           "align": "left"
          },
          "hovermode": "closest",
          "mapbox": {
           "style": "light"
          },
          "paper_bgcolor": "white",
          "plot_bgcolor": "#E5ECF6",
          "polar": {
           "angularaxis": {
            "gridcolor": "white",
            "linecolor": "white",
            "ticks": ""
           },
           "bgcolor": "#E5ECF6",
           "radialaxis": {
            "gridcolor": "white",
            "linecolor": "white",
            "ticks": ""
           }
          },
          "scene": {
           "xaxis": {
            "backgroundcolor": "#E5ECF6",
            "gridcolor": "white",
            "gridwidth": 2,
            "linecolor": "white",
            "showbackground": true,
            "ticks": "",
            "zerolinecolor": "white"
           },
           "yaxis": {
            "backgroundcolor": "#E5ECF6",
            "gridcolor": "white",
            "gridwidth": 2,
            "linecolor": "white",
            "showbackground": true,
            "ticks": "",
            "zerolinecolor": "white"
           },
           "zaxis": {
            "backgroundcolor": "#E5ECF6",
            "gridcolor": "white",
            "gridwidth": 2,
            "linecolor": "white",
            "showbackground": true,
            "ticks": "",
            "zerolinecolor": "white"
           }
          },
          "shapedefaults": {
           "line": {
            "color": "#2a3f5f"
           }
          },
          "ternary": {
           "aaxis": {
            "gridcolor": "white",
            "linecolor": "white",
            "ticks": ""
           },
           "baxis": {
            "gridcolor": "white",
            "linecolor": "white",
            "ticks": ""
           },
           "bgcolor": "#E5ECF6",
           "caxis": {
            "gridcolor": "white",
            "linecolor": "white",
            "ticks": ""
           }
          },
          "title": {
           "x": 0.05
          },
          "xaxis": {
           "automargin": true,
           "gridcolor": "white",
           "linecolor": "white",
           "ticks": "",
           "zerolinecolor": "white",
           "zerolinewidth": 2
          },
          "yaxis": {
           "automargin": true,
           "gridcolor": "white",
           "linecolor": "white",
           "ticks": "",
           "zerolinecolor": "white",
           "zerolinewidth": 2
          }
         }
        },
        "title": {
         "text": "Hist and Rug plots of accuracy distribution for various target loads"
        },
        "xaxis": {
         "anchor": "y2",
         "domain": [
          0,
          1
         ],
         "title": {
          "text": "Accuracy distribution for target loads"
         },
         "zeroline": false
        },
        "yaxis": {
         "anchor": "free",
         "domain": [
          0.35,
          1
         ],
         "position": 0,
         "title": {
          "text": "Frequency"
         }
        },
        "yaxis2": {
         "anchor": "x",
         "domain": [
          0,
          0.25
         ],
         "dtick": 1,
         "showticklabels": false
        }
       }
      },
      "text/html": [
       "<div>\n",
       "        \n",
       "        \n",
       "            <div id=\"cc0338a7-1ec4-4fb8-b72c-8df7cc1de499\" class=\"plotly-graph-div\" style=\"height:525px; width:100%;\"></div>\n",
       "            <script type=\"text/javascript\">\n",
       "                require([\"plotly\"], function(Plotly) {\n",
       "                    window.PLOTLYENV=window.PLOTLYENV || {};\n",
       "                    \n",
       "                if (document.getElementById(\"cc0338a7-1ec4-4fb8-b72c-8df7cc1de499\")) {\n",
       "                    Plotly.newPlot(\n",
       "                        'cc0338a7-1ec4-4fb8-b72c-8df7cc1de499',\n",
       "                        [{\"autobinx\": false, \"histnorm\": \"probability density\", \"legendgroup\": \"3\", \"marker\": {\"color\": \"rgb(31, 119, 180)\"}, \"name\": \"3\", \"opacity\": 0.7, \"type\": \"histogram\", \"x\": [0.95005, 1.0, 0.9833500000000001, 0.9833500000000001, 0.8833500000000001, 0.9666999999999999, 0.8834500000000001, 0.9167, 0.9333499999999999, 0.8834000000000001, 0.98333335, 0.8500000999999999, 0.98333335, 0.9333333999999999, 0.98333335, 0.9666666999999999, 0.9333333500000001, 0.9666667, 0.7333335, 0.95000005, 0.95000005, 0.98333335, 0.9666666999999999, 0.9166667499999999, 0.9333334000000001, 0.9500000499999999, 0.9666667, 0.9833333499999999, 0.98333335, 0.9500000499999999, 0.8500001, 0.9500000499999999, 0.8666667, 0.95000005, 0.91666675, 0.8333334499999999, 0.8666668, 0.98333335, 0.98333335, 0.9333333499999998, 0.9000000499999999, 0.95000005, 0.9666667, 0.9500000499999999, 0.8000001000000001, 0.71666665, 0.98333335, 0.86666675, 0.9666667, 0.9333334], \"xaxis\": \"x\", \"xbins\": {\"end\": 1.0, \"size\": 0.062024315698396885, \"start\": 0.71666665}, \"yaxis\": \"y\"}, {\"autobinx\": false, \"histnorm\": \"probability density\", \"legendgroup\": \"4\", \"marker\": {\"color\": \"rgb(255, 127, 14)\"}, \"name\": \"4\", \"opacity\": 0.7, \"type\": \"histogram\", \"x\": [0.8374999999999999, 0.9375, 0.8624999999999998, 0.9, 0.7874999999999999, 0.8124999999999999, 0.8875, 0.9125000000000001, 0.7874999999999999, 0.6375, 0.8500000000000001, 0.9125000000000001, 0.9, 0.7499999999999998, 0.8999999999999999, 0.825, 0.7874999999999999, 0.8375000000000001, 0.65, 0.8874999999999998, 0.825, 0.9, 0.8124999999999999, 0.7499999999999999, 0.825, 0.8749999999999999, 0.8374999999999998, 0.9125, 0.85, 0.8624999999999999, 0.7999999999999999, 0.8374999999999999, 0.8375, 0.7499999999999999, 0.9249999999999998, 0.65, 0.725, 0.9749999999999999, 0.8875, 0.775, 0.825, 0.8374999999999998, 0.8500000000000001, 0.8374999999999998, 0.6625, 0.675, 0.9125, 0.8375, 0.7999999999999999, 0.7374999999999999], \"xaxis\": \"x\", \"xbins\": {\"end\": 0.9749999999999999, \"size\": 0.07830229881682912, \"start\": 0.6375}, \"yaxis\": \"y\"}, {\"autobinx\": false, \"histnorm\": \"probability density\", \"legendgroup\": \"5\", \"marker\": {\"color\": \"rgb(44, 160, 44)\"}, \"name\": \"5\", \"opacity\": 0.7, \"type\": \"histogram\", \"x\": [0.73, 0.8000000000000002, 0.81, 0.7999999999999999, 0.59, 0.7300000000000001, 0.8099999999999999, 0.7800000000000001, 0.7, 0.6100000000000001, 0.7399999999999999, 0.73, 0.78, 0.72, 0.8, 0.7400000000000001, 0.6799999999999999, 0.77, 0.5999999999999999, 0.74, 0.7800000000000002, 0.8, 0.6700000000000002, 0.7300000000000001, 0.6499999999999999, 0.7200000000000001, 0.6699999999999999, 0.8199999999999998, 0.76, 0.7200000000000001, 0.7, 0.7500000000000001, 0.6100000000000001, 0.5900000000000001, 0.8000000000000002, 0.5900000000000001, 0.6, 0.8, 0.7499999999999999, 0.6900000000000002, 0.7, 0.78, 0.7000000000000001, 0.7800000000000002, 0.64, 0.62, 0.8199999999999998, 0.7699999999999999, 0.6699999999999999, 0.7000000000000001], \"xaxis\": \"x\", \"xbins\": {\"end\": 0.8199999999999998, \"size\": 0.0692196503891778, \"start\": 0.59}, \"yaxis\": \"y\"}, {\"autobinx\": false, \"histnorm\": \"probability density\", \"legendgroup\": \"6\", \"marker\": {\"color\": \"rgb(214, 39, 40)\"}, \"name\": \"6\", \"opacity\": 0.7, \"type\": \"histogram\", \"x\": [0.6832, 0.7834500000000002, 0.6834, 0.6833500000000001, 0.60835, 0.6667, 0.70835, 0.68335, 0.6417, 0.5666500000000001, 0.63333325, 0.47499994999999995, 0.70833325, 0.6333333, 0.75833335, 0.61666675, 0.6250001, 0.6499999999999999, 0.575, 0.6416666499999999, 0.6416666999999999, 0.7166666500000001, 0.6166666, 0.6416666499999998, 0.625, 0.6083333999999999, 0.6166668, 0.7583333999999998, 0.6749999999999999, 0.6666666000000001, 0.6500000500000002, 0.65000005, 0.6000000999999999, 0.5833333499999999, 0.6500000000000001, 0.5916666500000002, 0.53333335, 0.74166665, 0.6916666, 0.5750000000000002, 0.5666667, 0.6333334, 0.65000005, 0.73333335, 0.63333335, 0.54999995, 0.7250001, 0.625, 0.5499999999999999, 0.66666675], \"xaxis\": \"x\", \"xbins\": {\"end\": 0.7834500000000002, \"size\": 0.0614876038965044, \"start\": 0.47499994999999995}, \"yaxis\": \"y\"}, {\"autobinx\": false, \"histnorm\": \"probability density\", \"legendgroup\": \"7\", \"marker\": {\"color\": \"rgb(148, 103, 189)\"}, \"name\": \"7\", \"opacity\": 0.7, \"type\": \"histogram\", \"x\": [0.6855000000000002, 0.67835, 0.6783999999999999, 0.63555, 0.5356499999999998, 0.6425999999999998, 0.6498999999999999, 0.6926500000000001, 0.5927, 0.5498999999999999, 0.59285735, 0.6428572999999997, 0.6142859, 0.5785715, 0.6928572999999999, 0.6214288499999999, 0.5785716499999999, 0.6357145, 0.5857144999999999, 0.6214287000000001, 0.6785715500000001, 0.6428572000000001, 0.6000001999999999, 0.6214287999999998, 0.55714305, 0.62857165, 0.5500000500000001, 0.7000002000000001, 0.69285725, 0.69285735, 0.6142859499999999, 0.6500002999999999, 0.56428575, 0.5785716500000001, 0.6642859, 0.5357144, 0.61428585, 0.65714295, 0.6214287000000001, 0.5785716500000001, 0.56428585, 0.6357144499999999, 0.5928572499999999, 0.7285716, 0.5714287, 0.6071429499999998, 0.6500001, 0.6500001999999999, 0.5714286499999999, 0.5571429499999999], \"xaxis\": \"x\", \"xbins\": {\"end\": 0.7285716, \"size\": 0.04835293750605937, \"start\": 0.5356499999999998}, \"yaxis\": \"y\"}, {\"autobinx\": false, \"histnorm\": \"probability density\", \"legendgroup\": \"8\", \"marker\": {\"color\": \"rgb(140, 86, 75)\"}, \"name\": \"8\", \"opacity\": 0.7, \"type\": \"histogram\", \"x\": [0.5999999999999999, 0.60625, 0.5625, 0.60625, 0.5750000000000001, 0.59375, 0.6125, 0.5437500000000001, 0.58125, 0.5, 0.575, 0.5750000000000001, 0.60625, 0.49999999999999994, 0.5999999999999999, 0.5625, 0.5499999999999998, 0.6125, 0.5375, 0.5749999999999998, 0.6062500000000001, 0.61875, 0.61875, 0.5625, 0.5375000000000001, 0.54375, 0.59375, 0.61875, 0.5875, 0.54375, 0.5625000000000001, 0.5812500000000002, 0.5499999999999999, 0.47499999999999987, 0.60625, 0.5750000000000001, 0.5499999999999999, 0.6625, 0.5562500000000001, 0.5187499999999999, 0.49375, 0.6000000000000001, 0.5750000000000001, 0.64375, 0.5687499999999999, 0.5312499999999999, 0.5812499999999999, 0.59375, 0.46249999999999997, 0.58125], \"xaxis\": \"x\", \"xbins\": {\"end\": 0.6625, \"size\": 0.040661714179311234, \"start\": 0.46249999999999997}, \"yaxis\": \"y\"}, {\"legendgroup\": \"3\", \"marker\": {\"color\": \"rgb(31, 119, 180)\"}, \"mode\": \"lines\", \"name\": \"3\", \"showlegend\": false, \"type\": \"scatter\", \"x\": [0.71666665, 0.7172333167, 0.7177999834, 0.7183666501, 0.7189333167999999, 0.7194999835, 0.7200666501999999, 0.7206333169, 0.7211999835999999, 0.7217666503, 0.7223333169999999, 0.7228999837, 0.7234666503999999, 0.7240333171, 0.7245999838, 0.7251666505, 0.7257333172, 0.7262999839, 0.7268666506, 0.7274333172999999, 0.727999984, 0.7285666506999999, 0.7291333174, 0.7296999840999999, 0.7302666508, 0.7308333174999999, 0.7313999842, 0.7319666509, 0.7325333176, 0.7330999843, 0.733666651, 0.7342333177, 0.7347999843999999, 0.7353666511, 0.7359333177999999, 0.7364999845, 0.7370666511999999, 0.7376333179, 0.7381999845999999, 0.7387666513, 0.7393333179999999, 0.7398999847, 0.7404666514, 0.7410333181, 0.7415999848, 0.7421666514999999, 0.7427333182, 0.7432999848999999, 0.7438666516, 0.7444333182999999, 0.744999985, 0.7455666516999999, 0.7461333184, 0.7466999851, 0.7472666518, 0.7478333185, 0.7483999852, 0.7489666519, 0.7495333185999999, 0.7500999853, 0.7506666519999999, 0.7512333187, 0.7517999853999999, 0.7523666521, 0.7529333187999999, 0.7534999855, 0.7540666521999999, 0.7546333189, 0.7551999856, 0.7557666523, 0.756333319, 0.7568999856999999, 0.7574666524, 0.7580333190999999, 0.7585999858, 0.7591666524999999, 0.7597333192, 0.7602999858999999, 0.7608666526, 0.7614333193, 0.761999986, 0.7625666527, 0.7631333194, 0.7636999861, 0.7642666528, 0.7648333195, 0.7653999861999999, 0.7659666529, 0.7665333195999999, 0.7670999863, 0.7676666529999999, 0.7682333197, 0.7687999863999999, 0.7693666531, 0.7699333198, 0.7704999865, 0.7710666532, 0.7716333199, 0.7721999866, 0.7727666532999999, 0.77333332, 0.7738999866999999, 0.7744666534, 0.7750333200999999, 0.7755999868, 0.7761666534999999, 0.7767333202, 0.7772999869, 0.7778666536, 0.7784333203, 0.778999987, 0.7795666537, 0.7801333203999999, 0.7806999871, 0.7812666537999999, 0.7818333205, 0.7823999871999999, 0.7829666539, 0.7835333205999999, 0.7840999873, 0.784666654, 0.7852333207, 0.7857999874, 0.7863666541, 0.7869333208, 0.7874999874999999, 0.7880666542, 0.7886333208999999, 0.7891999876, 0.7897666542999999, 0.790333321, 0.7908999877, 0.7914666544, 0.7920333210999999, 0.7925999878, 0.7931666545, 0.7937333212, 0.7942999879, 0.7948666545999999, 0.7954333213, 0.7959999879999999, 0.7965666547, 0.7971333213999999, 0.7976999881, 0.7982666547999999, 0.7988333215, 0.7993999882, 0.7999666549, 0.8005333216, 0.8010999883, 0.801666655, 0.8022333217, 0.8027999884, 0.8033666550999999, 0.8039333218, 0.8044999884999999, 0.8050666552, 0.8056333218999999, 0.8061999886, 0.8067666552999999, 0.807333322, 0.8078999887, 0.8084666554, 0.8090333221, 0.8095999888, 0.8101666555, 0.8107333221999999, 0.8112999889, 0.8118666555999999, 0.8124333223, 0.8129999889999999, 0.8135666557, 0.8141333224, 0.8146999891, 0.8152666558, 0.8158333225, 0.8163999892, 0.8169666559, 0.8175333226, 0.8180999892999999, 0.818666656, 0.8192333226999999, 0.8197999894, 0.8203666560999999, 0.8209333228, 0.8214999894999999, 0.8220666562, 0.8226333229, 0.8231999896, 0.8237666563, 0.824333323, 0.8248999897, 0.8254666563999999, 0.8260333231, 0.8265999897999999, 0.8271666565, 0.8277333231999999, 0.8282999899, 0.8288666566, 0.8294333233, 0.82999999, 0.8305666567, 0.8311333234, 0.8316999901, 0.8322666568, 0.8328333235, 0.8333999902, 0.8339666568999999, 0.8345333236, 0.8350999902999999, 0.835666657, 0.8362333236999999, 0.8367999904, 0.8373666571, 0.8379333238, 0.8384999905, 0.8390666572, 0.8396333239, 0.8401999906, 0.8407666573, 0.8413333239999999, 0.8418999907, 0.8424666573999999, 0.8430333241, 0.8435999908, 0.8441666575, 0.8447333242, 0.8452999909, 0.8458666576, 0.8464333243, 0.846999991, 0.8475666577000001, 0.8481333244, 0.8486999910999999, 0.8492666578, 0.8498333245, 0.8503999912, 0.8509666578999999, 0.8515333246, 0.8520999913, 0.852666658, 0.8532333247, 0.8537999914, 0.8543666581, 0.8549333248, 0.8554999915, 0.8560666582, 0.8566333249, 0.8571999915999999, 0.8577666583, 0.858333325, 0.8588999917, 0.8594666583999999, 0.8600333251, 0.8605999918, 0.8611666585, 0.8617333252, 0.8622999919000001, 0.8628666586, 0.8634333252999999, 0.863999992, 0.8645666587, 0.8651333254, 0.8656999920999999, 0.8662666588, 0.8668333255, 0.8673999922, 0.8679666589, 0.8685333256, 0.8690999923, 0.869666659, 0.8702333257, 0.8707999924000001, 0.8713666591, 0.8719333257999999, 0.8724999925, 0.8730666592, 0.8736333259, 0.8741999925999999, 0.8747666593, 0.875333326, 0.8758999927, 0.8764666594, 0.8770333261, 0.8775999928, 0.8781666595, 0.8787333262, 0.8792999929, 0.8798666596, 0.8804333262999999, 0.880999993, 0.8815666597, 0.8821333264, 0.8826999931, 0.8832666598, 0.8838333265, 0.8843999932, 0.8849666599, 0.8855333266000001, 0.8860999933, 0.8866666599999999, 0.8872333267, 0.8877999934, 0.8883666601, 0.8889333267999999, 0.8894999935, 0.8900666602, 0.8906333269, 0.8911999936, 0.8917666603, 0.892333327, 0.8928999937, 0.8934666604, 0.8940333271, 0.8945999938, 0.8951666604999999, 0.8957333272, 0.8962999939, 0.8968666606, 0.8974333273, 0.897999994, 0.8985666607, 0.8991333274, 0.8996999941, 0.9002666608000001, 0.9008333275, 0.9013999941999999, 0.9019666609, 0.9025333276, 0.9030999943, 0.9036666609999999, 0.9042333277, 0.9047999944, 0.9053666611, 0.9059333278, 0.9064999945, 0.9070666612, 0.9076333279, 0.9081999946, 0.9087666613000001, 0.909333328, 0.9098999946999999, 0.9104666614, 0.9110333281, 0.9115999948, 0.9121666614999999, 0.9127333282, 0.9132999949, 0.9138666616, 0.9144333283, 0.9149999950000001, 0.9155666617, 0.9161333284, 0.9166999951, 0.9172666618, 0.9178333285, 0.9183999951999999, 0.9189666619, 0.9195333286, 0.9200999953, 0.920666662, 0.9212333287, 0.9217999954, 0.9223666621, 0.9229333288, 0.9234999955000001, 0.9240666622, 0.9246333288999999, 0.9251999956, 0.9257666623, 0.926333329, 0.9268999956999999, 0.9274666624, 0.9280333291, 0.9285999958, 0.9291666625, 0.9297333292, 0.9302999959, 0.9308666626, 0.9314333293, 0.931999996, 0.9325666627, 0.9331333293999999, 0.9336999961, 0.9342666628, 0.9348333295, 0.9353999962, 0.9359666629, 0.9365333296, 0.9370999963, 0.937666663, 0.9382333297000001, 0.9387999964, 0.9393666630999999, 0.9399333298, 0.9404999965, 0.9410666632, 0.9416333298999999, 0.9421999966, 0.9427666633, 0.94333333, 0.9438999967, 0.9444666634, 0.9450333301, 0.9455999968, 0.9461666635, 0.9467333302000001, 0.9472999969, 0.9478666635999999, 0.9484333303, 0.948999997, 0.9495666637, 0.9501333304, 0.9506999971, 0.9512666638, 0.9518333305, 0.9523999972, 0.9529666639000001, 0.9535333306, 0.9540999973, 0.954666664, 0.9552333307, 0.9557999974, 0.9563666640999999, 0.9569333308, 0.9574999975, 0.9580666642, 0.9586333309, 0.9591999976, 0.9597666643, 0.960333331, 0.9608999977, 0.9614666644000001, 0.9620333311, 0.9625999977999999, 0.9631666645, 0.9637333312, 0.9642999979, 0.9648666645999999, 0.9654333313, 0.965999998, 0.9665666647, 0.9671333313999999, 0.9676999981000001, 0.9682666648, 0.9688333315, 0.9693999982, 0.9699666649, 0.9705333316, 0.9710999982999999, 0.971666665, 0.9722333317, 0.9727999984, 0.9733666650999999, 0.9739333318, 0.9744999985, 0.9750666652, 0.9756333319, 0.9761999986, 0.9767666653, 0.9773333319999999, 0.9778999987, 0.9784666654, 0.9790333321, 0.9795999987999999, 0.9801666655, 0.9807333322, 0.9812999989, 0.9818666655999999, 0.9824333323, 0.982999999, 0.9835666657, 0.9841333324, 0.9846999991, 0.9852666658, 0.9858333324999999, 0.9863999992, 0.9869666659, 0.9875333326, 0.9880999992999999, 0.988666666, 0.9892333327, 0.9897999994, 0.9903666661, 0.9909333328, 0.9914999995, 0.9920666662, 0.9926333329, 0.9931999996, 0.9937666663, 0.9943333329999999, 0.9948999997, 0.9954666664, 0.9960333331, 0.9965999997999999, 0.9971666665, 0.9977333332, 0.9982999999, 0.9988666666, 0.9994333333], \"xaxis\": \"x\", \"y\": [0.5177403617780479, 0.5206063033041178, 0.5233126509595325, 0.5258574071422446, 0.5282387679363856, 0.530455127435212, 0.5325050817413601, 0.5343874326338528, 0.5361011908919889, 0.5376455792670586, 0.5390200350935728, 0.5402242125325524, 0.5412579844402396, 0.5421214438564732, 0.5428149051078498, 0.5433389045216986, 0.5436942007478103, 0.5438817746857891, 0.5439028290168466, 0.5437587873397841, 0.5434512929118758, 0.5429822069963092, 0.5423536068187856, 0.5415677831368427, 0.5406272374263825, 0.5395346786908392, 0.5382930198993189, 0.536905374060968, 0.535375049943697, 0.5337055474462629, 0.531900552633561, 0.5299639324457928, 0.5278997290929749, 0.5257121541470184, 0.523405582344348, 0.5209845451127244, 0.518453723836614, 0.5158179428760639, 0.5130821623546509, 0.5102514707326097, 0.5073310771817758, 0.5043263037794167, 0.5012425775384938, 0.4980854222922297, 0.49486045045121874, 0.4915733546516058, 0.48822989931306826, 0.4848359121255701, 0.4813972754839474, 0.4779199178895338, 0.4744098053380202, 0.47087293271278663, 0.46731531520285086, 0.46374297976450246, 0.4601619566455174, 0.45657827099065407, 0.45299793454689524, 0.4494269374865742, 0.44587124036621834, 0.44233676623852103, 0.4388293929344503, 0.43535494553200366, 0.431919189027623, 0.4285278212257072, 0.42518646586108605, 0.4219006659686548, 0.4186758775137422, 0.4155174632960316, 0.4124306871391687, 0.4094207083773822, 0.4064925766496737, 0.40365122701131206, 0.4009014753714998, 0.39824801426524464, 0.3956954089665521, 0.39324809394916777, 0.3909103697001708, 0.3886863998907837, 0.386580208907823, 0.38459567974826075, 0.38273655227840114, 0.38100642185821965, 0.37940873833045036, 0.3779468053730239, 0.37662378021253046, 0.37544267369538803, 0.37440635071249284, 0.3735175309721531, 0.37277879011521925, 0.3721925611653916, 0.3717611363068137, 0.37148666898018606, 0.37137117628778765, 0.37141654169697186, 0.37162451803091523, 0.3719967307346197, 0.372534681403451, 0.37323975156077943, 0.3741132066706351, 0.3751562003706516, 0.3763697789099924, 0.37775488577638966, 0.37931236649593464, 0.38104297358877537, 0.38294737166348114, 0.3850261426324304, 0.38727979103028654, 0.3897087494173171, 0.3923133838491105, 0.3950939993940499, 0.3980508456797812, 0.401184122449852, 0.404493985111646, 0.4079805502568092, 0.41164390113540167, 0.41548409306518963, 0.4195011587576377, 0.4236951135424509, 0.4280659604727538, 0.43261369529339816, 0.4373383112552334, 0.442239803758662, 0.44731817481027764, 0.45257343727691945, 0.45800561892210134, 0.4636147662103639, 0.46940094786582987, 0.47536425817191175, 0.48150481999994427, 0.4878227875552522, 0.4943183488300722, 0.5009917277535516, 0.5078431860300175, 0.5148730246576024, 0.5220815851202893, 0.529469250247434, 0.5370364447358309, 0.5447836353304211, 0.5527113306607611, 0.5608200807314991, 0.5691104760660839, 0.577583146504115, 0.5862387596537211, 0.5950780190015497, 0.604101661683928, 0.6133104559239423, 0.6227051981401551, 0.6322867097338349, 0.6420558335625633, 0.6520134301091243, 0.6621603733556458, 0.6724975463738676, 0.6830258366434829, 0.6937461311113218, 0.7046593110051831, 0.7157662464168599, 0.7270677906698747, 0.7385647744881204, 0.7502579999824762, 0.7621482344730707, 0.7742362041656594, 0.7865225877010803, 0.7990080095974431, 0.8116930336051684, 0.8245781559954537, 0.8376637988032547, 0.8509503030460969, 0.8644379219405043, 0.8781268141379215, 0.8920170370023611, 0.9061085399519935, 0.9204011578871317, 0.9348946047269268, 0.9495884670771975, 0.9644821980516355, 0.9795751112684585, 0.9948663750444772, 1.0103550068081264, 1.026039867752832, 1.0419196577515475, 1.057992910553022, 1.0742579892796948, 1.0907130822467355, 1.1073561991209802, 1.1241851674380419, 1.1411976294949968, 1.158391039635475, 1.1757626619430313, 1.1933095683579844, 1.2110286372319445, 1.228916552333324, 1.2469698023162905, 1.2651846806644529, 1.2835572861197457, 1.3020835236057284, 1.3207591056536312, 1.3395795543381694, 1.3585402037292262, 1.377636202864132, 1.3968625192442967, 1.4162139428586331, 1.4356850907350076, 1.4552704120198623, 1.4749641935847178, 1.4947605661572823, 1.5146535109733996, 1.5346368669450683, 1.554704338338296, 1.5748495029535634, 1.5950658208001551, 1.6153466432547008, 1.6356852226927516, 1.656074722581287, 1.6765082280186232, 1.6969787567072079, 1.7174792703435433, 1.7380026864082982, 1.7585418903387329, 1.7790897480642518, 1.7996391188850727, 1.8201828686727417, 1.8407138833704941, 1.8612250827701817, 1.8817094345419272, 1.9021599684913988, 1.9225697910191004, 1.9429320997549995, 1.9632401983411862, 1.9834875113345398, 2.003667599200608, 2.0237741733694357, 2.0438011113233214, 2.063742471686151, 2.0835925092833345, 2.1033456901410426, 2.1229967063930335, 2.1425404910631465, 2.1619722326911965, 2.181287389769863, 2.20048170496007, 2.219551219052304, 2.2384922846412936, 2.2573015794815015, 2.2759761194912027, 2.294513271372865, 2.312910764818093, 2.331166704265485, 2.349279580180379, 2.367248279825804, 2.3850720974945387, 2.4027507441728058, 2.4202843566068277, 2.4376735057442067, 2.454919204522875, 2.4720229149813355, 2.4889865546648187, 2.5058125023030287, 2.5225036027361836, 2.539063171067328, 2.555494996020013, 2.5718033424817457, 2.587992953214958, 2.604069049718703, 2.620037332225616, 2.635903978820311, 2.6516756436668425, 2.667359454334613, 2.682963008213592, 2.69849436801155, 2.7139620563277074, 2.7293750492989277, 2.744742769316528, 2.760075076813442, 2.775382261123521, 2.790675030416523, 2.8059645007142953, 2.8212621839955863, 2.8365799753988257, 2.851930139534218, 2.8673252959183126, 2.882778403546245, 2.898302744618773, 2.913911907443069, 2.9296197685281364, 2.9454404738976923, 2.9613884196449973, 2.9774782317561534, 2.993724745229918, 3.0101429825240023, 3.026748131359395, 3.0435555219158483, 3.0605806034532876, 3.0778389203954117, 3.0953460879130903, 3.113117767046579, 3.131169639406929, 3.1495173814979522, 3.1681766387014996, 3.187162998969555, 3.2064919662678126, 3.226178933816111, 3.246239157171833, 3.2666877272030868, 3.287539542998992, 3.3088092847648047, 3.330511386749872, 3.3526600102567756, 3.3752690167799537, 3.398351941322182, 3.421921965937053, 3.4459918935455045, 3.4705741220738955, 3.4956806189608605, 3.5213228960793534, 3.5475119851198342, 3.5742584134795505, 3.6015721807020453, 3.6294627355099127, 3.657938953472857, 3.6870091153516618, 3.7166808861574543, 3.746961294964289, 3.7778567155113487, 3.8093728476297444, 3.841514699526857, 3.874286570959721, 3.907692037326929, 3.9417339347066136, 3.9764143458661483, 4.01173458726723, 4.047695197087828, 4.084295924280312, 4.121535718683093, 4.15941272220076, 4.197924261065556, 4.237066839190635, 4.276836132623628, 4.317226985106313, 4.358233404744488, 4.399848561789268, 4.442064787529417, 4.484873574291684, 4.528265576544083, 4.572230613094907, 4.616757670378238, 4.661834906814548, 4.7074496582329814, 4.753588444340098, 4.80023697621792, 4.847380164832347, 4.895002130531166, 4.943086213509492, 4.991614985218797, 5.0405702606941105, 5.0899331117728535, 5.139683881177425, 5.189802197432467, 5.240266990586659, 5.291056508708072, 5.342148335121315, 5.3935194063538034, 5.44514603075796, 5.4970039077759605, 5.549068147812663, 5.601313292682842, 5.653713336598014, 5.706241747658671, 5.758871489817505, 5.811575045279415, 5.8643244373045755, 5.917091253381063, 5.969846668734185, 6.022561470140019, 6.075206080011653, 6.127750580727224, 6.180164739169734, 6.232418031449466, 6.2844796677810875, 6.336318617488219, 6.387903634109769, 6.439203280583067, 6.490185954480492, 6.540819913277204, 6.59107329962899, 6.640914166640491, 6.690310503105537, 6.739230258702415, 6.787641369128243, 6.835511781158192, 6.882809477616107, 6.929502502244858, 6.9755589844654935, 7.02094716401584, 7.065635415460114, 7.109592272562146, 7.152786452516075, 7.195186880029072, 7.236762711251692, 7.2774833575521045, 7.317318509131307, 7.356238158476999, 7.394212623654245, 7.431212571431538, 7.467209040241319, 7.502173462973954, 7.53607768960465, 7.568894009652331, 7.600595174470022, 7.631154419365419, 7.660545485550499, 7.688742641918328, 7.715720706644875, 7.741455068612861, 7.765921708653965, 7.789097220605045, 7.810958832172837, 7.831484425600826, 7.850652558130718, 7.86844248224991, 7.8848341657150085, 7.899808311340203, 7.913346376537921, 7.925430592597804, 7.936043983688598, 7.945170385566049, 7.952794463968425, 7.958901732679809, 7.9634785712397775, 7.966512242276512, 7.967990908439066, 7.9679036489029595, 7.966240475421808, 7.962992347896538, 7.9581511894321855, 7.9517099008513155, 7.943662374631672, 7.934003508234879, 7.922729216791876, 7.90983644511, 7.895323178965876, 7.87918845564772, 7.861432373710097, 7.842056101903972, 7.821061887244597, 7.798453062179884, 7.774234050821871, 7.748410374204416, 7.72098865453054, 7.691976618373559, 7.661383098796951, 7.6292180363589415, 7.595492478968916, 7.560218580564073, 7.523409598576369, 7.485079890161415, 7.445244907162976, 7.403921189788469, 7.361126358973468, 7.316879107415336, 7.271199189258539, 7.224107408417136, 7.175625605522451, 7.125776643487061, 7.074584391679168, 7.022073708704507, 6.9682704237965, 6.913201316818294, 6.8568940968840435, 6.799377379610054, 6.7406806630102745, 6.680834302053685, 6.619869481905243, 6.557818189875159, 6.494713186105488, 6.430587973025756, 6.365476763613899, 6.299414448501274, 6.2324365619648585, 6.164579246852451, 6.095879218490274, 6.02637372762561, 5.956100522460052, 5.8850978098317785, 5.813404215608304, 5.7410587443538486, 5.668100738337403, 5.594569835950828, 5.520505929607352, 5.445949123193844, 5.370939689151075, 5.295518025258291, 5.219724611199543, 5.143599964990276, 5.06718459934349, 4.990518978055628, 4.9136434724925815, 4.8365983182564225, 4.759423572113293, 4.682159069262692, 4.604844381027943], \"yaxis\": \"y\"}, {\"legendgroup\": \"4\", \"marker\": {\"color\": \"rgb(255, 127, 14)\"}, \"mode\": \"lines\", \"name\": \"4\", \"showlegend\": false, \"type\": \"scatter\", \"x\": [0.6375, 0.6381749999999999, 0.6388499999999999, 0.639525, 0.6402, 0.640875, 0.64155, 0.6422249999999999, 0.6428999999999999, 0.643575, 0.64425, 0.644925, 0.6456, 0.6462749999999999, 0.6469499999999999, 0.647625, 0.6483, 0.648975, 0.64965, 0.6503249999999999, 0.6509999999999999, 0.651675, 0.65235, 0.653025, 0.6537, 0.6543749999999999, 0.6550499999999999, 0.655725, 0.6564, 0.657075, 0.65775, 0.6584249999999999, 0.6590999999999999, 0.659775, 0.66045, 0.661125, 0.6617999999999999, 0.6624749999999999, 0.6631499999999999, 0.663825, 0.6645, 0.665175, 0.6658499999999999, 0.6665249999999999, 0.6671999999999999, 0.667875, 0.66855, 0.669225, 0.6698999999999999, 0.6705749999999999, 0.6712499999999999, 0.671925, 0.6726, 0.673275, 0.6739499999999999, 0.6746249999999999, 0.6752999999999999, 0.675975, 0.67665, 0.677325, 0.6779999999999999, 0.6786749999999999, 0.6793499999999999, 0.680025, 0.6807, 0.681375, 0.6820499999999999, 0.6827249999999999, 0.6833999999999999, 0.684075, 0.68475, 0.685425, 0.6860999999999999, 0.6867749999999999, 0.6874499999999999, 0.688125, 0.6888, 0.689475, 0.6901499999999999, 0.6908249999999999, 0.6914999999999999, 0.692175, 0.69285, 0.693525, 0.6941999999999999, 0.6948749999999999, 0.6955499999999999, 0.696225, 0.6969, 0.697575, 0.6982499999999999, 0.6989249999999999, 0.6995999999999999, 0.700275, 0.70095, 0.7016249999999999, 0.7022999999999999, 0.7029749999999999, 0.7036499999999999, 0.704325, 0.705, 0.7056749999999999, 0.7063499999999999, 0.7070249999999999, 0.7077, 0.708375, 0.70905, 0.7097249999999999, 0.7103999999999999, 0.7110749999999999, 0.7117499999999999, 0.712425, 0.7131, 0.7137749999999999, 0.7144499999999999, 0.7151249999999999, 0.7158, 0.716475, 0.71715, 0.7178249999999999, 0.7184999999999999, 0.7191749999999999, 0.7198499999999999, 0.720525, 0.7212, 0.7218749999999999, 0.7225499999999999, 0.7232249999999999, 0.7239, 0.724575, 0.72525, 0.7259249999999999, 0.7265999999999999, 0.7272749999999999, 0.7279499999999999, 0.728625, 0.7293, 0.7299749999999999, 0.7306499999999999, 0.7313249999999999, 0.732, 0.732675, 0.73335, 0.7340249999999999, 0.7346999999999999, 0.7353749999999999, 0.7360499999999999, 0.736725, 0.7373999999999999, 0.7380749999999999, 0.7387499999999999, 0.7394249999999999, 0.7401, 0.740775, 0.7414499999999999, 0.7421249999999999, 0.7427999999999999, 0.7434749999999999, 0.74415, 0.744825, 0.7454999999999999, 0.7461749999999999, 0.7468499999999999, 0.747525, 0.7482, 0.748875, 0.7495499999999999, 0.7502249999999999, 0.7508999999999999, 0.7515749999999999, 0.75225, 0.752925, 0.7535999999999999, 0.7542749999999999, 0.7549499999999999, 0.7556249999999999, 0.7563, 0.756975, 0.7576499999999999, 0.7583249999999999, 0.7589999999999999, 0.7596749999999999, 0.7603499999999999, 0.761025, 0.7616999999999999, 0.7623749999999999, 0.7630499999999999, 0.763725, 0.7644, 0.765075, 0.7657499999999999, 0.7664249999999999, 0.7670999999999999, 0.7677749999999999, 0.7684499999999999, 0.769125, 0.7697999999999999, 0.7704749999999999, 0.77115, 0.771825, 0.7725, 0.773175, 0.7738499999999999, 0.7745249999999999, 0.7751999999999999, 0.7758749999999999, 0.7765499999999999, 0.7772249999999999, 0.7778999999999999, 0.7785749999999999, 0.7792499999999999, 0.779925, 0.7806, 0.7812749999999999, 0.7819499999999999, 0.7826249999999999, 0.7832999999999999, 0.7839749999999999, 0.7846499999999998, 0.7853249999999999, 0.7859999999999999, 0.7866749999999999, 0.7873499999999999, 0.7880249999999999, 0.7887, 0.7893749999999999, 0.7900499999999999, 0.7907249999999999, 0.7913999999999999, 0.7920749999999999, 0.79275, 0.7934249999999999, 0.7940999999999999, 0.7947749999999999, 0.7954499999999999, 0.796125, 0.7968, 0.7974749999999999, 0.7981499999999999, 0.7988249999999999, 0.7994999999999999, 0.8001749999999999, 0.80085, 0.8015249999999999, 0.8021999999999999, 0.8028749999999999, 0.8035499999999999, 0.804225, 0.8049, 0.8055749999999999, 0.8062499999999999, 0.8069249999999999, 0.8075999999999999, 0.8082749999999999, 0.80895, 0.8096249999999999, 0.8102999999999999, 0.8109749999999999, 0.8116499999999999, 0.812325, 0.813, 0.8136749999999999, 0.8143499999999999, 0.8150249999999999, 0.8156999999999999, 0.8163749999999999, 0.8170499999999999, 0.8177249999999999, 0.8183999999999999, 0.8190749999999999, 0.8197499999999999, 0.820425, 0.8210999999999999, 0.8217749999999999, 0.8224499999999999, 0.8231249999999999, 0.8237999999999999, 0.8244749999999998, 0.8251499999999999, 0.8258249999999999, 0.8264999999999999, 0.8271749999999999, 0.8278499999999999, 0.828525, 0.8291999999999999, 0.8298749999999999, 0.8305499999999999, 0.8312249999999999, 0.8318999999999999, 0.832575, 0.8332499999999999, 0.8339249999999999, 0.8345999999999999, 0.8352749999999999, 0.83595, 0.836625, 0.8372999999999999, 0.8379749999999999, 0.8386499999999999, 0.8393249999999999, 0.8399999999999999, 0.840675, 0.8413499999999999, 0.8420249999999999, 0.8426999999999999, 0.8433749999999999, 0.84405, 0.844725, 0.8453999999999999, 0.8460749999999999, 0.8467499999999999, 0.8474249999999999, 0.8480999999999999, 0.8487749999999998, 0.8494499999999999, 0.8501249999999999, 0.8507999999999999, 0.8514749999999999, 0.85215, 0.8528249999999999, 0.8534999999999999, 0.8541749999999999, 0.8548499999999999, 0.8555249999999999, 0.8561999999999999, 0.8568749999999998, 0.8575499999999999, 0.8582249999999999, 0.8588999999999999, 0.8595749999999999, 0.86025, 0.8609249999999999, 0.8615999999999999, 0.8622749999999999, 0.8629499999999999, 0.8636249999999999, 0.8642999999999998, 0.8649749999999998, 0.8656499999999999, 0.8663249999999999, 0.8669999999999999, 0.8676749999999999, 0.86835, 0.8690249999999999, 0.8696999999999999, 0.8703749999999999, 0.8710499999999999, 0.8717249999999999, 0.8723999999999998, 0.8730749999999998, 0.8737499999999999, 0.8744249999999999, 0.8750999999999999, 0.875775, 0.87645, 0.8771249999999999, 0.8777999999999999, 0.8784749999999999, 0.8791499999999999, 0.8798249999999999, 0.8804999999999998, 0.8811749999999998, 0.8818499999999999, 0.8825249999999999, 0.8831999999999999, 0.883875, 0.88455, 0.8852249999999999, 0.8858999999999999, 0.8865749999999999, 0.8872499999999999, 0.8879249999999999, 0.8885999999999998, 0.8892749999999998, 0.8899499999999999, 0.8906249999999999, 0.8912999999999999, 0.891975, 0.8926499999999999, 0.8933249999999999, 0.8939999999999999, 0.8946749999999999, 0.8953499999999999, 0.8960249999999998, 0.8966999999999998, 0.8973749999999999, 0.8980499999999999, 0.8987249999999999, 0.8993999999999999, 0.900075, 0.9007499999999999, 0.9014249999999999, 0.9020999999999999, 0.9027749999999999, 0.9034499999999999, 0.9041249999999998, 0.9047999999999999, 0.9054749999999998, 0.9061499999999999, 0.9068249999999999, 0.9075, 0.908175, 0.9088499999999999, 0.9095249999999999, 0.9101999999999999, 0.9108749999999999, 0.9115499999999999, 0.9122249999999998, 0.9128999999999998, 0.9135749999999999, 0.9142499999999999, 0.914925, 0.9155999999999999, 0.916275, 0.9169499999999999, 0.9176249999999999, 0.9182999999999999, 0.9189749999999999, 0.9196499999999999, 0.9203249999999998, 0.9209999999999998, 0.9216749999999998, 0.9223499999999999, 0.9230249999999999, 0.9237, 0.924375, 0.9250499999999999, 0.9257249999999999, 0.9263999999999999, 0.9270749999999999, 0.9277499999999999, 0.9284249999999998, 0.9290999999999998, 0.9297749999999998, 0.9304499999999999, 0.931125, 0.9317999999999999, 0.9324749999999999, 0.9331499999999999, 0.9338249999999999, 0.9344999999999999, 0.9351749999999999, 0.9358499999999998, 0.9365249999999998, 0.9371999999999998, 0.9378749999999999, 0.9385499999999998, 0.9392249999999999, 0.9399, 0.9405749999999999, 0.9412499999999999, 0.9419249999999999, 0.9425999999999999, 0.9432749999999999, 0.9439499999999998, 0.9446249999999998, 0.9452999999999998, 0.9459749999999998, 0.9466499999999999, 0.9473249999999999, 0.948, 0.9486749999999999, 0.9493499999999999, 0.9500249999999999, 0.9506999999999999, 0.9513749999999999, 0.9520499999999998, 0.9527249999999998, 0.9533999999999998, 0.9540749999999999, 0.9547499999999999, 0.9554249999999999, 0.9560999999999998, 0.9567749999999999, 0.9574499999999999, 0.9581249999999999, 0.9587999999999999, 0.9594749999999999, 0.9601499999999998, 0.9608249999999998, 0.9614999999999998, 0.9621749999999998, 0.9628499999999999, 0.9635249999999999, 0.9642, 0.9648749999999998, 0.9655499999999999, 0.9662249999999999, 0.9668999999999999, 0.9675749999999999, 0.9682499999999998, 0.9689249999999998, 0.9695999999999998, 0.9702749999999999, 0.9709499999999999, 0.9716249999999998, 0.9722999999999998, 0.9729749999999999, 0.9736499999999999, 0.9743249999999999], \"xaxis\": \"x\", \"y\": [0.9609888668913543, 0.9694208178761545, 0.9776644363386536, 0.9857154678669268, 0.9935698863786327, 1.0012239024736533, 1.0086739714772004, 1.0159168011545567, 1.0229493590791514, 1.0297688796361992, 1.0363728706447761, 1.0427591195818524, 1.0489256993925027, 1.054870973871274, 1.0605936026004799, 1.0660925454320163, 1.0713670665001778, 1.0764167377538543, 1.0812414419974332, 1.0858413754307068, 1.0902170496791042, 1.0943692933065952, 1.098299252804665, 1.102008393051878, 1.1054984972396122, 1.1087716662607048, 1.111830317558879, 1.114677183437973, 1.1173153088311498, 1.11974804853146, 1.1219790638862768, 1.1240123189593085, 1.1258520761650816, 1.1275028913819334, 1.1289696085507301, 1.1302573537676783, 1.1313715288807251, 1.1323178046001736, 1.1331021131352434, 1.133730640369378, 1.1342098175881614, 1.1345463127747426, 1.1347470214886526, 1.1348190573448675, 1.134769742110913, 1.1346065954406779, 1.1343373242644823, 1.133969811855734, 1.1335121065952878, 1.1329724104553427, 1.132359067225369, 1.1316805505032053, 1.1309454514750052, 1.1301624665082628, 1.1293403845825785, 1.128488074583256, 1.1276144724831554, 1.1267285684385318, 1.1258393938248055, 1.124956008238399, 1.124087486490872, 1.123242905621651, 1.1224313319556343, 1.12166180823187, 1.1209433408294103, 1.1202848871161926, 1.1196953429466137, 1.119183530333083, 1.1187581853165245, 1.118427946060317, 1.1182013411917118, 1.118086778414191, 1.1180925334136391, 1.118226739080549, 1.1184973750697615, 1.1189122577184825, 1.119479030342511, 1.1202051539297582, 1.121097898249221, 1.1221643333926414, 1.1234113217650756, 1.1248455105395982, 1.12647332459026, 1.1283009599163674, 1.1303343775699763, 1.1325792980973686, 1.1350411965040745, 1.1377252977517995, 1.1406365727943872, 1.1437797351587091, 1.1471592380750923, 1.1507792721606454, 1.154643763657543, 1.15875637322706, 1.1631204952988345, 1.167739257973587, 1.1726155234761855, 1.1777518891547263, 1.1831506890199934, 1.1888139958184212, 1.1947436236304376, 1.200941130984871, 1.2074078244788666, 1.214144762891626, 1.2211527617791196, 1.228432398535805, 1.2359840179083326, 1.243807737945133, 1.2519034563648173, 1.2602708573253298, 1.2689094185748935, 1.2778184189648873, 1.286996946303993, 1.2964439055321628, 1.3061580271922204, 1.3161378761762494, 1.3263818607233089, 1.336888241644428, 1.3476551417503717, 1.3586805554571675, 1.3699623585440455, 1.3814983180381046, 1.3932861021997298, 1.4053232905826287, 1.4176073841421621, 1.4301358153656345, 1.442905958398116, 1.4559151391374776, 1.469160645272416, 1.4826397362373842, 1.4963496530586502, 1.5102876280659028, 1.524450894444269, 1.5388366956019672, 1.553442294329303, 1.5682649817252619, 1.5833020858684808, 1.5985509802101168, 1.6140090916666867, 1.6296739083918046, 1.645542987206478, 1.6616139606684313, 1.6778845437618948, 1.6943525401900856, 1.7110158482536741, 1.7278724662994789, 1.744920497724657, 1.7621581555227464, 1.7795837663589706, 1.7971957741634024, 1.814992743231631, 1.8329733608238485, 1.8511364392543743, 1.8694809174648823, 1.888005862075828, 1.9067104679117293, 1.9255940579972797, 1.944656083022452, 1.963896120276038, 1.983313872048263, 2.002909163504453, 2.0226819400328484, 2.0426322640710013, 2.0627603114163544, 2.083066367027817, 2.1035508203264124, 2.1242141600041324, 2.145056968351417, 2.1660799151147465, 2.187283750896978, 2.208669300114143, 2.2302374535234692, 2.251989160338493, 2.2739254199480254, 2.296047273256812, 2.318355793666595, 2.340852077717235, 2.3635372354083537, 2.386412380222894, 2.4094786188746316, 2.4327370408025333, 2.45618870743554, 2.479834641251944, 2.503675814658231, 2.527713138712751, 2.5519474517201775, 2.576379507723104, 2.601009964917606, 2.625839374019965, 2.6508681666120704, 2.6760966434932913, 2.7015249630667912, 2.7271531297885327, 2.752980982707228, 2.7790081841236165, 2.8052342083974726, 2.8316583309306154, 2.8582796173542935, 2.885096912948898, 2.912108832323984, 2.9393137493862493, 2.9667097876227215, 2.994294810726168, 3.0220664135892488, 3.050021913693452, 3.078158342918352, 3.1064724397961085, 3.134960642235518, 3.1636190807391604, 3.1924435721365856, 3.2214296138554577, 3.250572378751898, 3.2798667105202957, 3.309307119701872, 3.338887780310281, 3.368602527091454, 3.3984448534338245, 3.4284079099438314, 3.4584845037004373, 3.488667098201116, 3.518947814010446, 3.549318430121169, 3.579770386036051, 3.6102947845775573, 3.640882395430871, 3.671523659424186, 3.7022086935488367, 3.732927296720037, 3.763668956277579, 3.7944228552241155, 3.8251778801970446, 3.855922630168285, 3.886645425864632, 3.9173343198995596, 3.9479771076057295, 3.9785613385556586, 4.009074328756336, 4.039503173501852, 4.06983476086627, 4.100055785817444, 4.130152764930664, 4.160112051679324, 4.1899198522782495, 4.219562242053584, 4.249025182311636, 4.278294537677431, 4.3073560938722455, 4.336195575898005, 4.364798666594786, 4.39315102553663, 4.421238308229216, 4.449046185571982, 4.47656036354602, 4.503766603087918, 4.5306507401088565, 4.557198705617209, 4.583396545902209, 4.609230442735321, 4.634686733545517, 4.659751931523981, 4.684412745613389, 4.708656100336627, 4.7324691554194604, 4.755839325161799, 4.778754297511989, 4.801202052798906, 4.823170882076733, 4.844649405037846, 4.865626587449607, 4.886091758071602, 4.906034625010618, 4.9254452914714815, 4.944314270863006, 4.962632501219366, 4.980391358898529, 4.9975826715207186, 5.01419873011148, 5.030232300415505, 5.045676633349068, 5.060525474560921, 5.0747730730733345, 5.088414188977112, 5.101444100156541, 5.1138586080225465, 5.125654042234651, 5.136827264394726, 5.147375670698147, 5.157297193530425, 5.166590302000072, 5.1752540014012425, 5.183287831602255, 5.190691864359049, 5.1974666995554015, 5.203613460374461, 5.209133787409215, 5.21402983172212, 5.218304246867229, 5.221960179890755, 5.225001261329019, 5.227431594225395, 5.229255742190708, 5.230478716534118, 5.231105962494353, 5.231143344603509, 5.230597131218335, 5.229473978256212, 5.227780912175362, 5.225525312241175, 5.222714892122481, 5.219357680863684, 5.2154620032806065, 5.211036459829488, 5.206089906000322, 5.200631431287126, 5.1946703377890415, 5.188216118497372, 5.181278435324608, 5.1738670969323834, 5.16599203641597, 5.15766328890337, 5.148890969127498, 5.139685249030015, 5.130056335455411, 5.120014447993697, 5.109569797029789, 5.098732562057012, 5.087512870311488, 5.075920775783348, 5.063966238659481, 5.051659105251505, 5.039009088461093, 5.026025748833337, 5.012718476247063, 4.999096472289188, 4.985168733358239, 4.9709440345398965, 4.956430914295336, 4.941637660000564, 4.926572294372575, 4.911242562815482, 4.895655921716965, 4.879819527722814, 4.863740228014167, 4.847424551609252, 4.830878701708413, 4.8141085490980045, 4.797119626625748, 4.779917124756889, 4.762505888217391, 4.744890413727111, 4.72707484882284, 4.7090629917677695, 4.6908582925408835, 4.672463854896564, 4.653882439481667, 4.635116467994208, 4.616168028364855, 4.597038880939467, 4.577730465638111, 4.558243910063219, 4.538580038526835, 4.51873938196441, 4.498722188700136, 4.478528436026469, 4.458157842558222, 4.4376098813197675, 4.41688379352158, 4.395978602980977, 4.374893131139938, 4.353626012631597, 4.332175711345626, 4.310540536941484, 4.28871866175763, 4.266708138063883, 4.244506915603453, 4.222112859370679, 4.199523767570149, 4.176737389702824, 4.153751444724639, 4.130563639223309, 4.107171685559458, 4.083573319918628, 4.0597663202213505, 4.035748523839426, 4.011517845067405, 3.9870722922993767, 3.9624099848626613, 3.937529169461003, 3.912428236181864, 3.8871057340237343, 3.8615603859013286, 3.8357911030883765, 3.8097969990597895, 3.7835774026969933, 3.757131870822499, 3.7304602000320233, 3.7035624377948215, 3.676438892795347, 3.6490901444917365, 3.6215170518693847, 3.5937207613700437, 3.5657027139799515, 3.5374646514626913, 3.509008621725452, 3.480336983309799, 3.4514524090008027, 3.422357888550958, 3.39305673051801, 3.363552563218274, 3.3338493347997225, 3.303951312441526, 3.27386308068917, 3.24358953893684, 3.2131358980708122, 3.1825076762902365, 3.1517106941234223, 3.1207510686603106, 3.0896352070234556, 3.058369799101989, 3.026961809574764, 2.9954184692505925, 2.9637472657551585, 2.931955933595595, 2.9000524436352335, 2.868044992012109, 2.8359419885361925, 2.803752044601089, 2.771483960647084, 2.7391467132130436, 2.7067494416153552, 2.674301434292714, 2.6418121148558456, 2.609291027881635, 2.5767478244912465, 2.544192247751853, 2.511634117941571, 2.4790833177169294, 2.446549777221881, 2.4140434591771496, 2.3815743439877637, 2.349152414906457, 2.3167876432895405, 2.2844899739811884, 2.2522693108610654, 2.220135502589296, 2.188098328581584, 2.1561674852462174, 2.1243525725132635, 2.0926630806852886, 2.061108377637078, 2.029697696390819, 1.998440123091512, 1.9673445854058653, 1.9364198413663658, 1.9056744686806448, 1.8751168545245565, 1.8447551858357714, 1.8145974401229996, 1.7846513768042547, 1.7549245290859101, 1.7254241963925034, 1.69615743735576, 1.667131063369326, 1.63835163271435, 1.6098254452591552, 1.5815585377347754, 1.5535566795864533, 1.5258253693996924, 1.498369831897888, 1.4711950155071296, 1.4443055904823066, 1.4177059475872231, 1.3914001973202237, 1.3653921696753886, 1.3396854144283037, 1.3142832019340722, 1.2891885244243428, 1.2644040977889308, 1.2399323638267288, 1.2157754929496989, 1.1919353873228948, 1.1684136844227253, 1.1452117609949737, 1.1223307373935032, 1.0997714822799545, 1.0775346176644385, 1.0556205242665897, 1.0340293471763136, 1.0127610017929873, 0.9918151800219563, 0.9711913567068927, 0.9508887962765771, 0.9309065595846788, 0.9112435109211737, 0.8918983251742084, 0.8728694951213315, 0.8541553388293988, 0.8357540071426364, 0.8176634912388009, 0.7998816302337026], \"yaxis\": \"y\"}, {\"legendgroup\": \"5\", \"marker\": {\"color\": \"rgb(44, 160, 44)\"}, \"mode\": \"lines\", \"name\": \"5\", \"showlegend\": false, \"type\": \"scatter\", \"x\": [0.59, 0.59046, 0.59092, 0.59138, 0.5918399999999999, 0.5922999999999999, 0.59276, 0.59322, 0.59368, 0.59414, 0.5946, 0.5950599999999999, 0.5955199999999999, 0.59598, 0.59644, 0.5969, 0.59736, 0.59782, 0.5982799999999999, 0.5987399999999999, 0.5992, 0.59966, 0.60012, 0.60058, 0.60104, 0.6014999999999999, 0.6019599999999999, 0.60242, 0.60288, 0.60334, 0.6038, 0.6042599999999999, 0.6047199999999999, 0.6051799999999999, 0.60564, 0.6061, 0.60656, 0.60702, 0.6074799999999999, 0.6079399999999999, 0.6083999999999999, 0.60886, 0.60932, 0.60978, 0.61024, 0.6106999999999999, 0.6111599999999999, 0.6116199999999999, 0.61208, 0.61254, 0.613, 0.61346, 0.6139199999999999, 0.6143799999999999, 0.6148399999999999, 0.6153, 0.61576, 0.61622, 0.61668, 0.6171399999999999, 0.6175999999999999, 0.6180599999999999, 0.61852, 0.61898, 0.61944, 0.6199, 0.6203599999999999, 0.6208199999999999, 0.6212799999999999, 0.62174, 0.6222, 0.62266, 0.6231199999999999, 0.6235799999999999, 0.6240399999999999, 0.6244999999999999, 0.62496, 0.62542, 0.62588, 0.6263399999999999, 0.6267999999999999, 0.6272599999999999, 0.62772, 0.62818, 0.62864, 0.6291, 0.6295599999999999, 0.6300199999999999, 0.6304799999999999, 0.63094, 0.6314, 0.63186, 0.63232, 0.6327799999999999, 0.6332399999999999, 0.6336999999999999, 0.63416, 0.63462, 0.63508, 0.63554, 0.6359999999999999, 0.6364599999999999, 0.6369199999999999, 0.63738, 0.63784, 0.6383, 0.63876, 0.6392199999999999, 0.6396799999999999, 0.6401399999999999, 0.6406, 0.64106, 0.64152, 0.64198, 0.6424399999999999, 0.6428999999999999, 0.6433599999999999, 0.64382, 0.64428, 0.64474, 0.6451999999999999, 0.6456599999999999, 0.6461199999999999, 0.6465799999999999, 0.64704, 0.6475, 0.64796, 0.6484199999999999, 0.6488799999999999, 0.6493399999999999, 0.6497999999999999, 0.65026, 0.65072, 0.65118, 0.6516399999999999, 0.6520999999999999, 0.6525599999999999, 0.6530199999999999, 0.65348, 0.65394, 0.6543999999999999, 0.6548599999999999, 0.6553199999999999, 0.6557799999999999, 0.6562399999999999, 0.6567, 0.65716, 0.6576199999999999, 0.6580799999999999, 0.6585399999999999, 0.6589999999999999, 0.6594599999999999, 0.65992, 0.66038, 0.6608399999999999, 0.6612999999999999, 0.6617599999999999, 0.6622199999999999, 0.6626799999999999, 0.66314, 0.6636, 0.6640599999999999, 0.6645199999999999, 0.6649799999999999, 0.6654399999999999, 0.6658999999999999, 0.66636, 0.66682, 0.6672799999999999, 0.6677399999999999, 0.6681999999999999, 0.6686599999999999, 0.6691199999999999, 0.66958, 0.67004, 0.6704999999999999, 0.6709599999999999, 0.6714199999999999, 0.6718799999999999, 0.6723399999999999, 0.6728, 0.67326, 0.6737199999999999, 0.6741799999999999, 0.6746399999999999, 0.6750999999999999, 0.6755599999999999, 0.67602, 0.67648, 0.6769399999999999, 0.6773999999999999, 0.6778599999999999, 0.6783199999999999, 0.6787799999999999, 0.67924, 0.6797, 0.6801599999999999, 0.6806199999999999, 0.6810799999999999, 0.6815399999999999, 0.6819999999999999, 0.68246, 0.68292, 0.6833799999999999, 0.6838399999999999, 0.6842999999999999, 0.6847599999999999, 0.6852199999999999, 0.68568, 0.68614, 0.6865999999999999, 0.6870599999999999, 0.6875199999999999, 0.6879799999999999, 0.6884399999999999, 0.6889, 0.68936, 0.6898199999999999, 0.6902799999999999, 0.6907399999999999, 0.6911999999999999, 0.6916599999999999, 0.69212, 0.6925799999999999, 0.6930399999999999, 0.6934999999999999, 0.6939599999999999, 0.6944199999999999, 0.6948799999999999, 0.69534, 0.6957999999999999, 0.6962599999999999, 0.6967199999999999, 0.6971799999999999, 0.6976399999999999, 0.6980999999999999, 0.69856, 0.6990199999999999, 0.6994799999999999, 0.6999399999999999, 0.7003999999999999, 0.7008599999999999, 0.7013199999999999, 0.70178, 0.7022399999999999, 0.7026999999999999, 0.7031599999999999, 0.7036199999999999, 0.7040799999999999, 0.7045399999999999, 0.7049999999999998, 0.7054599999999999, 0.7059199999999999, 0.7063799999999999, 0.7068399999999999, 0.7072999999999999, 0.70776, 0.7082199999999998, 0.7086799999999999, 0.7091399999999999, 0.7095999999999999, 0.7100599999999999, 0.7105199999999999, 0.71098, 0.7114399999999999, 0.7118999999999999, 0.7123599999999999, 0.7128199999999999, 0.7132799999999999, 0.7137399999999999, 0.7142, 0.7146599999999999, 0.7151199999999999, 0.7155799999999999, 0.7160399999999999, 0.7164999999999999, 0.7169599999999999, 0.71742, 0.7178799999999999, 0.7183399999999999, 0.7187999999999999, 0.7192599999999999, 0.7197199999999999, 0.7201799999999999, 0.72064, 0.7210999999999999, 0.7215599999999999, 0.7220199999999999, 0.7224799999999999, 0.7229399999999999, 0.7233999999999998, 0.72386, 0.7243199999999999, 0.7247799999999999, 0.7252399999999999, 0.7256999999999999, 0.7261599999999999, 0.7266199999999998, 0.72708, 0.7275399999999999, 0.7279999999999999, 0.7284599999999999, 0.7289199999999999, 0.7293799999999999, 0.7298399999999998, 0.7303, 0.7307599999999999, 0.7312199999999999, 0.7316799999999999, 0.7321399999999999, 0.7325999999999999, 0.7330599999999998, 0.73352, 0.7339799999999999, 0.7344399999999999, 0.7348999999999999, 0.7353599999999999, 0.7358199999999999, 0.7362799999999998, 0.73674, 0.7371999999999999, 0.7376599999999999, 0.7381199999999999, 0.7385799999999999, 0.7390399999999999, 0.7394999999999998, 0.73996, 0.7404199999999999, 0.7408799999999999, 0.7413399999999999, 0.7417999999999999, 0.7422599999999999, 0.7427199999999998, 0.74318, 0.7436399999999999, 0.7440999999999999, 0.7445599999999999, 0.7450199999999999, 0.7454799999999999, 0.7459399999999998, 0.7464, 0.7468599999999999, 0.7473199999999999, 0.7477799999999999, 0.7482399999999999, 0.7486999999999999, 0.7491599999999998, 0.74962, 0.7500799999999999, 0.7505399999999999, 0.7509999999999999, 0.7514599999999999, 0.7519199999999999, 0.7523799999999998, 0.75284, 0.7532999999999999, 0.7537599999999999, 0.7542199999999999, 0.7546799999999999, 0.7551399999999999, 0.7555999999999998, 0.75606, 0.7565199999999999, 0.7569799999999999, 0.7574399999999999, 0.7578999999999998, 0.7583599999999999, 0.7588199999999998, 0.7592799999999998, 0.7597399999999999, 0.7601999999999999, 0.7606599999999999, 0.7611199999999998, 0.7615799999999999, 0.7620399999999998, 0.7624999999999998, 0.7629599999999999, 0.7634199999999999, 0.7638799999999999, 0.7643399999999998, 0.7647999999999999, 0.7652599999999998, 0.7657199999999998, 0.7661799999999999, 0.7666399999999999, 0.7670999999999999, 0.7675599999999998, 0.7680199999999999, 0.7684799999999998, 0.7689399999999998, 0.7693999999999999, 0.7698599999999999, 0.7703199999999999, 0.7707799999999998, 0.7712399999999999, 0.7716999999999998, 0.7721599999999998, 0.7726199999999999, 0.7730799999999999, 0.7735399999999999, 0.7739999999999998, 0.7744599999999999, 0.7749199999999998, 0.7753799999999998, 0.7758399999999999, 0.7762999999999999, 0.7767599999999999, 0.7772199999999998, 0.7776799999999999, 0.7781399999999998, 0.7785999999999998, 0.7790599999999999, 0.7795199999999999, 0.7799799999999999, 0.7804399999999998, 0.7808999999999999, 0.7813599999999998, 0.7818199999999998, 0.7822799999999999, 0.7827399999999999, 0.7831999999999999, 0.7836599999999998, 0.7841199999999999, 0.7845799999999998, 0.7850399999999998, 0.7854999999999999, 0.7859599999999999, 0.7864199999999999, 0.7868799999999998, 0.7873399999999998, 0.7877999999999998, 0.7882599999999998, 0.7887199999999999, 0.7891799999999999, 0.7896399999999999, 0.7900999999999998, 0.7905599999999998, 0.7910199999999998, 0.7914799999999999, 0.7919399999999999, 0.7923999999999999, 0.7928599999999999, 0.7933199999999998, 0.7937799999999998, 0.7942399999999998, 0.7946999999999999, 0.7951599999999999, 0.7956199999999999, 0.7960799999999999, 0.7965399999999998, 0.7969999999999998, 0.7974599999999998, 0.7979199999999999, 0.7983799999999999, 0.7988399999999999, 0.7992999999999999, 0.7997599999999998, 0.8002199999999998, 0.8006799999999998, 0.8011399999999999, 0.8015999999999999, 0.8020599999999999, 0.8025199999999999, 0.8029799999999998, 0.8034399999999998, 0.8038999999999998, 0.8043599999999999, 0.8048199999999999, 0.8052799999999999, 0.8057399999999999, 0.8061999999999998, 0.8066599999999998, 0.8071199999999998, 0.8075799999999999, 0.8080399999999999, 0.8084999999999999, 0.8089599999999999, 0.8094199999999998, 0.8098799999999998, 0.8103399999999998, 0.8107999999999999, 0.8112599999999999, 0.8117199999999999, 0.8121799999999999, 0.8126399999999998, 0.8130999999999998, 0.8135599999999998, 0.8140199999999999, 0.8144799999999999, 0.8149399999999999, 0.8153999999999998, 0.8158599999999998, 0.8163199999999998, 0.8167799999999998, 0.8172399999999999, 0.8176999999999999, 0.8181599999999999, 0.8186199999999998, 0.8190799999999998, 0.8195399999999998], \"xaxis\": \"x\", \"y\": [1.954283359319577, 1.9666311983835207, 1.9787756382310375, 1.9907140722696641, 2.002444046795297, 2.0139632637052736, 2.025269583068153, 2.036361025546765, 2.047235774671159, 2.0578921789583813, 2.068328753876128, 2.078544183647566, 2.088537322894784, 2.098307198118557, 2.1078530090123238, 2.1171741296084763, 2.1262701092552825, 2.135140673422979, 2.143785724337814, 2.15220534144301, 2.1603997816858436, 2.168369479630335, 2.17611504739514, 2.183637274416598, 2.1909371270370253, 2.198015747918608, 2.2048744552834822, 2.2115147419807775, 2.217938274381684, 2.224146891103771, 2.2301426015660217, 2.2359275843762974, 2.241504185553113, 2.2468749165838426, 2.2520424523216898, 2.2570096287239467, 2.2617794404342675, 2.266355038211887, 2.270739726210902, 2.274936959112919, 2.2789503391165393, 2.2827836127873615, 2.2864406677723133, 2.289925529382312, 2.293242357047386, 2.296395440648579, 2.2993891967310436, 2.3022281646029223, 2.304917002324713, 2.307460482593938, 2.309863488530052, 2.312131009364643, 2.3142681360420365, 2.3162800567355815, 2.318172052284867, 2.319949491559295, 2.3216178267534566, 2.3231825886197828, 2.324649381644053, 2.326023879169346, 2.3273118184740533, 2.3285189958095893, 2.329651261403494, 2.3307145144335477, 2.3317146979786045, 2.3326577939517783, 2.3335498180216177, 2.33439681452688, 2.3352048513905017, 2.3359800150382526, 2.3367284053276136, 2.337456130492255, 2.3381693021075085, 2.3388740300821103, 2.3395764176814358, 2.340282556587328, 2.340998521999585, 2.341730367784023, 2.3424841216719425, 2.343265780515721, 2.344081305605149, 2.3449366180489624, 2.3458375942259426, 2.3467900613098123, 2.347799792871995, 2.3488725045661942, 2.3500138498985947, 2.351229416087312, 2.352524720014628, 2.353905204275313, 2.3553762333242525, 2.3569430897263643, 2.358610970511709, 2.3603849836384336, 2.362270144566123, 2.3642713729418716, 2.3663934894012852, 2.3686412124864304, 2.3710191556825393, 2.3735318245751844, 2.376183614129377, 2.3789788060919457, 2.3819215665183306, 2.385015943424775, 2.3882658645667365, 2.3916751353441503, 2.3952474368340235, 2.398986323950674, 2.4028952237337666, 2.4069774337641006, 2.411236120707035, 2.415674318983164, 2.420294929565801, 2.4251007189046185, 2.4300943179746843, 2.4352782214499658, 2.4406547870002258, 2.446226234710158, 2.4519946466193945, 2.4579619663819483, 2.464129999043527, 2.470500410935005, 2.4770747296802496, 2.4838543443163954, 2.490840505524537, 2.498034325968714, 2.505436780740987, 2.5130487079102855, 2.520870809172658, 2.5289036506004168, 2.5371476634876924, 2.5456031452897343, 2.554270260653315, 2.5631490425354877, 2.572239393407924, 2.581541086543998, 2.5910537673857137, 2.60077695498762, 2.6107100435347035, 2.6208523039313363, 2.631202885458265, 2.6417608174946396, 2.6525250113020413, 2.6634942618675237, 2.674667249802597, 2.686042543295153, 2.697618600111313, 2.7093937696441786, 2.7213662950065354, 2.7335343151644813, 2.745895867109108, 2.758448888063287, 2.7711912177206877, 2.7841206005142025, 2.7972346879109766, 2.8105310407313007, 2.824007131488635, 2.8376603467481654, 2.851487989501267, 2.8654872815533374, 2.8796553659225474, 2.8939893092470883, 2.908486104198575, 2.9231426718993307, 2.9379558643413546, 2.952922466804858, 2.9680392002742897, 2.983302723849893, 2.9987096371529014, 3.014256482722555, 3.0299397484031667, 3.0457558697196596, 3.0617012322399275, 3.0777721739225807, 3.093964987448658, 3.1102759225359877, 3.1267011882349736, 3.1432369552046193, 3.159879357967796, 3.176624497144707, 3.193468441663679, 3.2104072309484772, 3.2274368770813746, 3.2445533669413806, 3.2617526643169774, 3.279030711992959, 3.2963834338108744, 3.3138067367027992, 3.331296512698107, 3.348848640903096, 3.3664589894533132, 3.384123417438486, 3.401837776800152, 3.4195979142019515, 3.4373996728727865, 3.4552388944229673, 3.473111420633637, 3.491013095219742, 3.508939765566841, 3.526887284442222, 3.5448515116806893, 3.5628283158454814, 3.5808135758648776, 3.598803182644938, 3.61679304065905, 3.63477906951473, 3.652757205498422, 3.6707234030988443, 3.6886736365095447, 3.7066039011113183, 3.724510214935158, 3.742388620106414, 3.760235184270767, 3.77804600200278, 3.7958171961975964, 3.813544919446504, 3.8312253553969287, 3.8488547200975343, 3.8664292633290156, 3.883945269921101, 3.9013990610564124, 3.9187869955615984, 3.9361054711863, 3.953350925870332, 3.970519838999554, 3.9876087326507195, 4.004614172825676, 4.021532770675191, 4.038361183712571, 4.055096117017311, 4.071734324428811, 4.088272609730309, 4.104707827822906, 4.121036885889756, 4.137256744550178, 4.153364419003553, 4.169356980162757, 4.185231555776765, 4.200985331542088, 4.216615552202518, 4.232119522636731, 4.247494608933062, 4.262738239450879, 4.27784790586773, 4.292821164211514, 4.3076556358767935, 4.322349008624257, 4.336899037562401, 4.351303546110275, 4.365560426940205, 4.3796676428992445, 4.3936232279081215, 4.407425287836309, 4.421072001351883, 4.434561620744679, 4.4478924727212785, 4.461062959170266, 4.474071557896153, 4.4869168233203585, 4.4995973871475154, 4.512111958995454, 4.524459326987015, 4.536638358302005, 4.548647999687412, 4.5604872779240635, 4.572155300247924, 4.583651254724072, 4.594974410571566, 4.606124118437284, 4.617099810616863, 4.627901001220844, 4.638527286284192, 4.648978343817336, 4.659253933796847, 4.669353898094044, 4.679278160339675, 4.6890267257229725, 4.698599680723387, 4.707997192773329, 4.717219509850408, 4.7262669599974565, 4.7351399507690735, 4.743838968603138, 4.752364578115995, 4.760717421320119, 4.768898216762971, 4.776907758586102, 4.7847469155034, 4.792416629697684, 4.799917915634789, 4.8072518587945465, 4.8144196143180045, 4.82142240557053, 4.828261522620432, 4.83493832063289, 4.841454218179146, 4.847810695461035, 4.854009292451011, 4.860051606948035, 4.865939292549825, 4.871674056542028, 4.8772576577051545, 4.88269190404015, 4.887978650413733, 4.893119796124571, 4.898117282391935, 4.902973089768051, 4.907689235476083, 4.912267770675467, 4.916710777656589, 4.9210203669670065, 4.925198674471485, 4.929247858348308, 4.933170096024456, 4.936967581052459, 4.9406425199317585, 4.944197128877697, 4.9476336305412785, 4.950954250683057, 4.9541612148046505, 4.957256744741403, 4.960243055220025, 4.963122350385022, 4.965896820297866, 4.968568637413076, 4.971139953035332, 4.973612893761995, 4.9759895579154145, 4.978272011969514, 4.980462286975282, 4.982562374989811, 4.984574225513625, 4.986499741941117, 4.988340778028991, 4.990099134387564, 4.991776554999983, 4.993374723774295, 4.994895261133424, 4.996339720648129, 4.9977095857179705, 4.999006266305416, 5.00023109572809, 5.001385327514273, 5.002470132326645, 5.003486594959334, 5.004435711413164, 5.005318386054099, 5.006135428859689, 5.006887552758342, 5.00757537106617, 5.008199395026019, 5.008760031453255, 5.009257580492779, 5.009692233491604, 5.010064070991227, 5.010373060843937, 5.010619056457019, 5.0108017951686765, 5.010920896759441, 5.010975862102525, 5.010966071956579, 5.010890785903997, 5.010749141437873, 5.010540153200414, 5.010262712375518, 5.0099155862379945, 5.009497417861656, 5.009006725988434, 5.008441905060309, 5.007801225415756, 5.0070828336521105, 5.0062847531551, 5.00540488479644, 5.004441007800378, 5.003390780779585, 5.002251742940744, 5.001021315459879, 4.9996968030272315, 4.9982753955612145, 4.996754170090852, 4.995130092805712, 4.993400021272212, 4.991560706814913, 4.989608797061099, 4.987540838646861, 4.985353280082447, 4.9830424747746065, 4.9806046842033265, 4.9780360812500595, 4.975332753674487, 4.972490707736447, 4.969505871959617, 4.96637410103308, 4.963091179847009, 4.959652827658168, 4.956054702380995, 4.952292404999585, 4.9483614840959875, 4.944257440489725, 4.939975731983544, 4.935511778210013, 4.930860965573588, 4.92601865228251, 4.920980173464729, 4.915740846362016, 4.910295975596138, 4.9046408585010255, 4.898770790514527, 4.892681070623436, 4.886367006855274, 4.879823921810173, 4.873047158226305, 4.866032084571943, 4.8587741006575405, 4.851268643260767, 4.843511191757725, 4.835497273753375, 4.82722247070412, 4.818682423525715, 4.809872838179367, 4.800789491229134, 4.791428235363645, 4.781785004875152, 4.771855821089109, 4.761636797737284, 4.7511241462677445, 4.740314181084866, 4.729203324712784, 4.71778811287565, 4.706065199488237, 4.694031361550549, 4.68168350394008, 4.669018664095678, 4.656034016586913, 4.64272687756314, 4.629094709076486, 4.6151351232732, 4.600845886447972, 4.586224922955967, 4.571270318977499, 4.555980326130519, 4.540353364926187, 4.524388028063077, 4.508083083555718, 4.491437477693437, 4.47445033782561, 4.4571209749697465, 4.439448886238959, 4.421433757085716, 4.403075463358874, 4.384374073171344, 4.365329848575981, 4.3459432470473915, 4.326214922767829, 4.306145727715403, 4.285736712553195, 4.264989127318083, 4.243904421908326, 4.222484246369322, 4.2007304509769945, 4.178645086118771, 4.156230401972189, 4.133488847981538, 4.110423072133126, 4.087035920030046, 4.0633304337676215, 4.03930985061084, 4.014977601475444, 3.990337309214569, 3.965392786713025, 3.940148034791573, 3.9146072399238037, 3.8887747717684857, 3.8626551805203406, 3.8362531940826075, 3.8095737150648237, 3.782621817609589, 3.755402744052153, 3.7279219014169422, 3.7001848577554157, 3.6721973383295676, 3.643965221645892, 3.6154945353445544, 3.586791451948795, 3.557862284479747, 3.5287134819418804, 3.4993516246846856, 3.4697834196459656, 3.4400156954826064, 3.4100553975945713, 3.37990958304804, 3.3495854154037326, 3.3190901594565636, 3.288431175892758, 3.257615915870724, 3.2266519155320412, 3.1955467904488946, 3.164308230014443, 3.132943991782494, 3.1014618957631184], \"yaxis\": \"y\"}, {\"legendgroup\": \"6\", \"marker\": {\"color\": \"rgb(214, 39, 40)\"}, \"mode\": \"lines\", \"name\": \"6\", \"showlegend\": false, \"type\": \"scatter\", \"x\": [0.47499994999999995, 0.47561685009999993, 0.4762337502, 0.47685065029999996, 0.47746755039999994, 0.4780844504999999, 0.47870135059999996, 0.47931825069999995, 0.47993515079999993, 0.48055205089999997, 0.48116895099999996, 0.48178585109999994, 0.4824027512, 0.48301965129999996, 0.48363655139999995, 0.48425345149999993, 0.48487035159999997, 0.48548725169999996, 0.48610415179999994, 0.4867210519, 0.48733795199999996, 0.48795485209999995, 0.48857175219999993, 0.48918865229999997, 0.48980555239999995, 0.49042245249999994, 0.4910393526, 0.49165625269999996, 0.49227315279999995, 0.4928900529, 0.49350695299999997, 0.49412385309999995, 0.4947407532, 0.4953576533, 0.49597455339999996, 0.49659145349999995, 0.4972083536, 0.49782525369999997, 0.49844215379999995, 0.49905905389999994, 0.499675954, 0.5002928541, 0.5009097542, 0.5015266543, 0.5021435543999999, 0.5027604545, 0.5033773546, 0.5039942546999999, 0.5046111548, 0.5052280549, 0.5058449549999999, 0.5064618551, 0.5070787552, 0.5076956552999999, 0.5083125554, 0.5089294555, 0.5095463556, 0.5101632557, 0.5107801558, 0.5113970559, 0.512013956, 0.5126308561, 0.5132477562, 0.5138646563, 0.5144815564, 0.5150984565, 0.5157153566, 0.5163322566999999, 0.5169491568, 0.5175660569, 0.5181829569999999, 0.5187998571, 0.5194167572, 0.5200336573, 0.5206505574, 0.5212674575, 0.5218843576, 0.5225012577, 0.5231181577999999, 0.5237350579, 0.524351958, 0.5249688581, 0.5255857582, 0.5262026583, 0.5268195583999999, 0.5274364585, 0.5280533586, 0.5286702587, 0.5292871588, 0.5299040589, 0.530520959, 0.5311378591, 0.5317547592, 0.5323716593, 0.5329885594, 0.5336054595, 0.5342223596, 0.5348392597, 0.5354561598, 0.5360730599, 0.53668996, 0.5373068601, 0.5379237602, 0.5385406603, 0.5391575604, 0.5397744605, 0.5403913606, 0.5410082607, 0.5416251608, 0.5422420609, 0.542858961, 0.5434758611, 0.5440927612, 0.5447096613, 0.5453265614, 0.5459434615000001, 0.5465603616, 0.5471772617, 0.5477941618, 0.5484110619, 0.549027962, 0.5496448621, 0.5502617622, 0.5508786623, 0.5514955624, 0.5521124625, 0.5527293626, 0.5533462627, 0.5539631628, 0.5545800629, 0.555196963, 0.5558138631, 0.5564307632000001, 0.5570476633, 0.5576645634, 0.5582814635, 0.5588983636, 0.5595152637, 0.5601321638000001, 0.5607490639, 0.561365964, 0.5619828641, 0.5625997642, 0.5632166643000001, 0.5638335644, 0.5644504645, 0.5650673646000001, 0.5656842647, 0.5663011648, 0.5669180649000001, 0.567534965, 0.5681518651, 0.5687687652, 0.5693856653, 0.5700025654, 0.5706194655, 0.5712363656, 0.5718532657000001, 0.5724701658, 0.5730870659, 0.5737039660000001, 0.5743208661, 0.5749377662, 0.5755546663000001, 0.5761715664, 0.5767884665, 0.5774053666000001, 0.5780222667, 0.5786391668, 0.5792560669, 0.579872967, 0.5804898671000001, 0.5811067672, 0.5817236673, 0.5823405674000001, 0.5829574675, 0.5835743676, 0.5841912677000001, 0.5848081678, 0.5854250679, 0.5860419680000001, 0.5866588681, 0.5872757682, 0.5878926683000001, 0.5885095684, 0.5891264685000001, 0.5897433686, 0.5903602687, 0.5909771688000001, 0.5915940689000001, 0.592210969, 0.5928278691000001, 0.5934447692, 0.5940616693, 0.5946785694000001, 0.5952954695, 0.5959123696, 0.5965292697000001, 0.5971461698, 0.5977630699, 0.5983799700000001, 0.5989968701, 0.5996137702000001, 0.6002306703, 0.6008475704, 0.6014644705000001, 0.6020813706000001, 0.6026982707, 0.6033151708000001, 0.6039320709, 0.604548971, 0.6051658711000001, 0.6057827712000001, 0.6063996713, 0.6070165714000001, 0.6076334715, 0.6082503716000001, 0.6088672717000001, 0.6094841718, 0.6101010719000001, 0.610717972, 0.6113348721, 0.6119517722000001, 0.6125686723000001, 0.6131855724, 0.6138024725000001, 0.6144193726, 0.6150362727, 0.6156531728000001, 0.6162700729, 0.6168869730000001, 0.6175038731000001, 0.6181207732, 0.6187376733000001, 0.6193545734000001, 0.6199714735000001, 0.6205883736000001, 0.6212052737, 0.6218221738, 0.6224390739000001, 0.6230559740000001, 0.6236728741, 0.6242897742000001, 0.6249066743, 0.6255235744000001, 0.6261404745000001, 0.6267573746000001, 0.6273742747000001, 0.6279911748, 0.6286080749, 0.6292249750000001, 0.6298418751000001, 0.6304587752, 0.6310756753000001, 0.6316925754000001, 0.6323094755, 0.6329263756000001, 0.6335432757000001, 0.6341601758000001, 0.6347770759000001, 0.635393976, 0.6360108761000001, 0.6366277762000001, 0.6372446763000001, 0.6378615764000001, 0.6384784765000001, 0.6390953766, 0.6397122767000001, 0.6403291768000001, 0.6409460769, 0.6415629770000001, 0.6421798771, 0.6427967772000001, 0.6434136773000001, 0.6440305774000001, 0.6446474775000001, 0.6452643776000001, 0.6458812777, 0.6464981778000001, 0.6471150779000001, 0.647731978, 0.6483488781000001, 0.6489657782000001, 0.6495826783, 0.6501995784000001, 0.6508164785000001, 0.6514333786000002, 0.6520502787000001, 0.6526671788, 0.6532840789000001, 0.6539009790000001, 0.6545178791000001, 0.6551347792000001, 0.6557516793000001, 0.6563685794, 0.6569854795000001, 0.6576023796000001, 0.6582192797000002, 0.6588361798000001, 0.6594530799000001, 0.6600699800000001, 0.6606868801000001, 0.6613037802000001, 0.6619206803000001, 0.6625375804000001, 0.6631544805000001, 0.6637713806000001, 0.6643882807000001, 0.6650051808000002, 0.6656220809000001, 0.6662389810000001, 0.6668558811, 0.6674727812000001, 0.6680896813000001, 0.6687065814000002, 0.6693234815000001, 0.6699403816000001, 0.6705572817000001, 0.6711741818000001, 0.6717910819000001, 0.6724079820000001, 0.6730248821000001, 0.6736417822, 0.6742586823000001, 0.6748755824000001, 0.6754924825000002, 0.6761093826000001, 0.6767262827000001, 0.6773431828000002, 0.6779600829000001, 0.6785769830000001, 0.6791938831000002, 0.6798107832000001, 0.6804276833000001, 0.6810445834000001, 0.6816614835000001, 0.6822783836000001, 0.6828952837000002, 0.6835121838000001, 0.6841290839000002, 0.6847459840000001, 0.6853628841000001, 0.6859797842000002, 0.6865966843000001, 0.6872135844000001, 0.6878304845000001, 0.6884473846000001, 0.6890642847000001, 0.6896811848000002, 0.6902980849000001, 0.6909149850000001, 0.6915318851000001, 0.6921487852000001, 0.6927656853000002, 0.6933825854000001, 0.6939994855000001, 0.6946163856000002, 0.6952332857000001, 0.6958501858000001, 0.6964670859000002, 0.6970839860000002, 0.6977008861000001, 0.6983177862000001, 0.6989346863000001, 0.6995515864000001, 0.7001684865000002, 0.7007853866000001, 0.7014022867000002, 0.7020191868000001, 0.7026360869000001, 0.7032529870000002, 0.7038698871000002, 0.7044867872000001, 0.7051036873000001, 0.7057205874000001, 0.7063374875000001, 0.7069543876000002, 0.7075712877000001, 0.7081881878000001, 0.7088050879000002, 0.7094219880000001, 0.7100388881000002, 0.7106557882000002, 0.7112726883000001, 0.7118895884000002, 0.7125064885000001, 0.7131233886000001, 0.7137402887000002, 0.7143571888000002, 0.7149740889000001, 0.7155909890000002, 0.7162078891000001, 0.7168247892000001, 0.7174416893000002, 0.7180585894000001, 0.7186754895000002, 0.7192923896000001, 0.7199092897000001, 0.7205261898000002, 0.7211430899000002, 0.7217599900000001, 0.7223768901000002, 0.7229937902000001, 0.7236106903000001, 0.7242275904000002, 0.7248444905000001, 0.7254613906000001, 0.7260782907000002, 0.7266951908000001, 0.7273120909000002, 0.7279289910000002, 0.7285458911000002, 0.7291627912000002, 0.7297796913000001, 0.7303965914000001, 0.7310134915000002, 0.7316303916000002, 0.7322472917000002, 0.7328641918000002, 0.7334810919000002, 0.7340979920000001, 0.7347148921000002, 0.7353317922000002, 0.7359486923000002, 0.7365655924000002, 0.7371824925000001, 0.7377993926000002, 0.7384162927000002, 0.7390331928000002, 0.7396500929000002, 0.7402669930000001, 0.7408838931000001, 0.7415007932000002, 0.7421176933000002, 0.7427345934000001, 0.7433514935000002, 0.7439683936000001, 0.7445852937000002, 0.7452021938000002, 0.7458190939000002, 0.7464359940000002, 0.7470528941000001, 0.7476697942000001, 0.7482866943000002, 0.7489035944000002, 0.7495204945000001, 0.7501373946000002, 0.7507542947000001, 0.7513711948000001, 0.7519880949000002, 0.7526049950000002, 0.7532218951000003, 0.7538387952000001, 0.7544556953000001, 0.7550725954000002, 0.7556894955000002, 0.7563063956000002, 0.7569232957000003, 0.7575401958000001, 0.7581570959000001, 0.7587739960000002, 0.7593908961000002, 0.7600077962000003, 0.7606246963000002, 0.7612415964000002, 0.7618584965000001, 0.7624753966000002, 0.7630922967000002, 0.7637091968000003, 0.7643260969000002, 0.7649429970000002, 0.7655598971000002, 0.7661767972000002, 0.7667936973000002, 0.7674105974000002, 0.7680274975000002, 0.7686443976000001, 0.7692612977000002, 0.7698781978000002, 0.7704950979000003, 0.7711119980000002, 0.7717288981000002, 0.7723457982000002, 0.7729626983000002, 0.7735795984000002, 0.7741964985000002, 0.7748133986000002, 0.7754302987000001, 0.7760471988000002, 0.7766640989000002, 0.7772809990000003, 0.7778978991000002, 0.7785147992000002, 0.7791316993000001, 0.7797485994000002, 0.7803654995000002, 0.7809823996000002, 0.7815992997000002, 0.7822161998000001, 0.7828330999000002], \"xaxis\": \"x\", \"y\": [0.33671364294667977, 0.33954434649015275, 0.34236873351696234, 0.3451911980296688, 0.3480163838876607, 0.3508491811241993, 0.3536947216298919, 0.35655837420605163, 0.35944573899328097, 0.36236264128242884, 0.36531512471692035, 0.3683094438972574, 0.3713520564002608, 0.3744496142273751, 0.37760895469805617, 0.3808370908059136, 0.38414120105688726, 0.38752861881027817, 0.39100682114493934, 0.3945834172743359, 0.39826613653553505, 0.4020628159784433, 0.405981387582786, 0.4100298651314334, 0.41421633076966985, 0.4185489212809442, 0.42303581411044006, 0.4276852131685527, 0.4325053344469953, 0.43750439148077686, 0.4426905806897538, 0.4480720666337849, 0.4536569672157612, 0.4594533388669299, 0.4654691617489777, 0.47171232500728116, 0.47819061210959746, 0.4849116863042211, 0.49188307623131833, 0.49911216172071726, 0.5066061598089485, 0.5143721110077378, 0.5224168658554973, 0.5307470717826339, 0.5393691603206501, 0.5482893346842115, 0.5575135577543263, 0.5670475404898732, 0.5768967307936143, 0.5870663028577249, 0.5975611470127753, 0.6083858601028727, 0.6195447364084379, 0.6310417591368954, 0.6428805925002216, 0.6550645743969856, 0.6675967097152483, 0.6804796642712974, 0.6937157593978306, 0.7073069671939111, 0.721254906447599, 0.7355608392407832, 0.7502256682444636, 0.765249934711299, 0.780633817170901, 0.7963771308320726, 0.8124793276948243, 0.8289394973736671, 0.8457563686325014, 0.8629283116299985, 0.8804533408732699, 0.8983291188762945, 0.9165529605183685, 0.9351218380967312, 0.9540323870662885, 0.9732809124581953, 0.9928633959680397, 1.0127755037031834, 1.0330125945777298, 1.053569729342659, 1.0744416802374452, 1.0956229412486476, 1.1171077389598223, 1.1388900439762175, 1.1609635829066596, 1.1833218508842203, 1.205958124606141, 1.2288654758727506, 1.2520367856040724, 1.275464758311928, 1.299141937004541, 1.3230607184996708, 1.3472133691214112, 1.3715920407550484, 1.3961887872333891, 1.4209955810271098, 1.4460043302109618, 1.4712068956766977, 1.496595108562755, 1.5221607878700292, 1.547895758232146, 1.5737918678078149, 1.5998410062622406, 1.6260351228035341, 1.6523662442395637, 1.6788264930197914, 1.705408105225946, 1.7321034484748048, 1.7589050396955992, 1.7858055627439269, 1.812797885813611, 1.8398750786072635, 1.8670304292258564, 1.894257460737234, 1.921549947383071, 1.9489019303833846, 1.976307733297639, 2.0037619769011497, 2.0312595935354048, 2.058795840891054, 2.0863663151821403, 2.1139669636705922, 2.1415940965000533, 2.1692443977985496, 2.1969149360100935, 2.224603173415765, 2.2523069748055815, 2.28002461526338, 2.3077547870278314, 2.335496605393762, 2.363249613619365, 2.3910137868060324, 2.4187895347192656, 2.4465777035205867, 2.4743795763823395, 2.5021968729590194, 2.530031747691073, 2.5578867869190876, 2.5857650047888643, 2.613669837930238, 2.6416051388951898, 2.6695751683435067, 2.697584585967285, 2.7256384401483533, 2.753742156346067, 2.781901524216002, 2.8101226834634296, 2.8384121084390124, 2.8667765914875583, 2.895223225064272, 2.9237593826367165, 2.9523926983943265, 2.9811310457910296, 3.009982514950534, 3.038955388967363, 3.0680581191408227, 3.0972992991827524, 3.12668763844364, 3.1562319342056826, 3.185941043094854, 3.2158238516677735, 3.245889246232814, 3.2761460819682906, 3.3066031514038885, 3.337269152334933, 3.368152655242067, 3.399262070291836, 3.430605613996663, 3.4621912756151927, 3.4940267833763308, 3.5261195706128152, 3.5584767418918157, 3.5911050392321187, 3.6240108084988805, 3.65719996606814, 3.6906779658544924, 3.7244497667959755, 3.7585198008906, 3.7928919418794265, 3.8275694746707285, 3.86255506559945, 3.897850733615607, 3.933457822494164, 3.9693769741575142, 4.005608103200353, 4.042150372704595, 4.079002171429757, 4.116161092461906, 4.153623913401149, 4.191386578164831, 4.229444180479909, 4.267790949134547, 4.3064202350546985, 4.345324500267648, 4.384495308809489, 4.42392331962925, 4.463598281537199, 4.503509030239629, 4.543643487497323, 4.583988662439118, 4.62453065505629, 4.665254661897778, 4.706144983980129, 4.747185036919829, 4.788357363289821, 4.829643647195277, 4.871024731057731, 4.912480634590065, 4.953990575938603, 4.995532994961923, 5.037085578610147, 5.078625288361491, 5.120128389667273, 5.161570483349985, 5.202926538893258, 5.244170929556495, 5.2852774692414926, 5.326219451032379, 5.366969687325389, 5.407500551459421, 5.447784020753597, 5.487791720853545, 5.527494971283427, 5.566864832097059, 5.60587215151737, 5.64448761445022, 5.682681791755314, 5.720425190154409, 5.7576883026543495, 5.794441659360667, 5.830655878555702, 5.866301717913916, 5.901350125726335, 5.935772292005501, 5.969539699342163, 6.002624173385503, 6.0349979328192385, 6.066633638707186, 6.0975044430834195, 6.1275840366641035, 6.156846695560513, 6.18526732687534, 6.21282151306775, 6.2394855549758255, 6.265236513389301, 6.29005224906935, 6.313911461116907, 6.3367937235958705, 6.358679520322627, 6.379550277738881, 6.39938839579039, 6.418177276740318, 6.435901351851946, 6.452546105882074, 6.4680980993327735, 6.482544988416203, 6.4958755426937875, 6.508079660358191, 6.519148381133574, 6.529073896776669, 6.537849559168423, 6.545469885993121, 6.551930564008912, 6.557228449920984, 6.561361568875304, 6.564329110598109, 6.566131423212803, 6.566770004772755, 6.566247492554803, 6.564567650164635, 6.561735352511095, 6.557756568712434, 6.55263834300285, 6.54638877371301, 6.539016990403103, 6.530533129231613, 6.520948306647239, 6.510274591495298, 6.498524975633449, 6.485713343154846, 6.471854438319493, 6.456963832296979, 6.441057888825857, 6.424153728896321, 6.406269194564188, 6.38742281200487, 6.367633753916389, 6.346921801380375, 6.325307305289757, 6.302811147450715, 6.279454701465586, 6.255259793501444, 6.230248663047521, 6.204443923762, 6.177868524506317, 6.150545710662019, 6.122498985822006, 6.0937520739445326, 6.064328882054448, 6.034253463572153, 6.003549982346641, 5.97224267746422, 5.940355828900377, 5.9079137240769555, 5.874940625382356, 5.841460738707294, 5.80749818304352, 5.773076961187973, 5.7382209315895905, 5.702953781370831, 5.667299000550899, 5.631279857492633, 5.5949193755898134, 5.558240311207035, 5.5212651328791145, 5.484016001772639, 5.446514753407528, 5.4087828806322475, 5.370841517841953, 5.3327114264250985, 5.294412981420032, 5.25596615935967, 5.217390527279105, 5.178705232857636, 5.13992899566434, 5.101080099473234, 5.062176385612222, 5.023235247307641, 4.984273624984799, 4.945308002482987, 4.906354404142544, 4.867428392720568, 4.828545068090861, 4.789719066683531, 4.75096456161948, 4.712295263494654, 4.673724421769755, 4.635264826721033, 4.596928811908842, 4.558728257121307, 4.520674591751679, 4.482778798568904, 4.445051417842666, 4.407502551785344, 4.3701418692751846, 4.33297861082669, 4.296021593775941, 4.259279217650721, 4.22275946969708, 4.186469930536097, 4.150417779926686, 4.114609802612377, 4.079052394231932, 4.043751567276022, 4.008712957073909, 3.9739418277963643, 3.9394430784629115, 3.905221248943332, 3.8712805259453096, 3.8376247489819, 3.8042574163139586, 3.771181690864552, 3.7384004061035716, 3.7059160719024185, 3.6737308803596647, 3.6418467115998623, 3.6102651395487197, 3.5789874376887245, 3.5480145848001756, 3.5173472706931226, 3.4869859019364755, 3.4569306075907495, 3.4271812449515076, 3.397737405310478, 3.3685984197417698, 3.339763364920319, 3.311231068979749, 3.2830001174166745, 3.2550688590480963, 3.227435412028302, 3.200097669931155, 3.173053307903206, 3.1462997888926005, 3.119834369957925, 3.093654108660719, 3.067755869544588, 3.0421363307030633, 3.016791990437796, 2.991719174007681, 2.966914040468957, 2.94237258960537, 2.9180906689468915, 2.894063980874517, 2.8702880898081538, 2.846758429473651, 2.8234703102445096, 2.800418926553048, 2.777599364365114, 2.755006608711975, 2.7326355512723013, 2.7104809979967306, 2.688537676767001, 2.666800245081234, 2.6452632977564927, 2.62392137463956, 2.602768968316404, 2.581800531810771, 2.561010486262023, 2.54039322857227, 2.5199431390127334, 2.499654588779318, 2.479521947487258, 2.4595395905948734, 2.439701906746501, 2.420003305024852, 2.4004382221031846, 2.381001129287882, 2.3616865394423368, 2.342489013783236, 2.3234031685406746, 2.3044236814739034, 2.285545298234714, 2.2667628385710383, 2.248071202363502, 2.2294653754882288, 2.210940435499545, 2.1924915571265906, 2.1741140175783538, 2.1558032016520055, 2.137554606639856, 2.1193638470306526, 2.1012266590014317, 2.083138904696455, 2.0650965762902174, 2.0470957998319452, 2.0291328388693266, 2.011204097849702, 1.9933061252971693, 1.9754356167645961, 1.9575894175597286, 1.9397645252450213, 1.9219580919110884, 1.9041674262240207, 1.8863899952471037, 1.8686234260377117, 1.8508655070205127, 1.833114189138293, 1.8153675867820434, 1.797623978502065, 1.779881807502231, 1.7621396819195838, 1.7443963748917959, 1.7266508244151133, 1.7089021329955882, 1.691149567096701, 1.6733925563863972, 1.6556306927869453, 1.6378637293310523, 1.6200915788278223, 1.60231431234226, 1.5845321574922562, 1.5667454965668943, 1.5489548644702507, 1.5311609464948384, 1.5133645759289784, 1.4955667315025152, 1.4777685346752993, 1.4599712467730763, 1.442176265975386, 1.4243851241602425, 1.4065994836103999, 1.3888211335861402, 1.3710519867695041, 1.3532940755850804, 1.335549548402423, 1.3178206656252898, 1.3001097956730239, 1.2824194108592792, 1.2647520831735963, 1.2471104799711679, 1.229497359576354, 1.211915566805449, 1.1943680284143674, 1.1768577484768086, 1.1593878036987, 1.1419613386745822, 1.1245815610917418, 1.1072517368879653, 1.0899751853686765, 1.0727552742894468, 1.0555954149097342, 1.0384990570238182, 1.0214696839749, 1.0045108076583824, 0.987625963520265, 0.9708187055567609, 0.9540926013210795, 0.9374512269434324, 0.9208981621703147, 0.9044369854290042], \"yaxis\": \"y\"}, {\"legendgroup\": \"7\", \"marker\": {\"color\": \"rgb(148, 103, 189)\"}, \"mode\": \"lines\", \"name\": \"7\", \"showlegend\": false, \"type\": \"scatter\", \"x\": [0.5356499999999998, 0.5360358431999999, 0.5364216863999999, 0.5368075295999999, 0.5371933727999999, 0.5375792159999998, 0.5379650591999998, 0.5383509023999998, 0.5387367455999998, 0.5391225887999999, 0.5395084319999999, 0.5398942751999999, 0.5402801183999999, 0.5406659615999998, 0.5410518047999998, 0.5414376479999998, 0.5418234911999998, 0.5422093343999999, 0.5425951775999999, 0.5429810207999999, 0.5433668639999999, 0.5437527071999999, 0.5441385503999998, 0.5445243935999998, 0.5449102367999998, 0.5452960799999998, 0.5456819231999999, 0.5460677663999999, 0.5464536095999999, 0.5468394527999999, 0.5472252959999998, 0.5476111391999998, 0.5479969823999998, 0.5483828255999998, 0.5487686687999999, 0.5491545119999999, 0.5495403551999999, 0.5499261983999999, 0.5503120415999999, 0.5506978847999998, 0.5510837279999998, 0.5514695711999998, 0.5518554143999999, 0.5522412575999999, 0.5526271007999999, 0.5530129439999999, 0.5533987871999999, 0.5537846303999998, 0.5541704735999998, 0.5545563167999998, 0.5549421599999999, 0.5553280031999999, 0.5557138463999999, 0.5560996895999999, 0.5564855327999999, 0.5568713759999999, 0.5572572191999998, 0.5576430623999998, 0.5580289055999998, 0.5584147487999999, 0.5588005919999999, 0.5591864351999999, 0.5595722783999999, 0.5599581215999999, 0.5603439647999998, 0.5607298079999998, 0.5611156511999998, 0.5615014943999999, 0.5618873375999999, 0.5622731807999999, 0.5626590239999999, 0.5630448671999999, 0.5634307103999998, 0.5638165535999998, 0.5642023967999998, 0.5645882399999999, 0.5649740831999999, 0.5653599263999999, 0.5657457695999999, 0.5661316127999999, 0.5665174559999999, 0.5669032991999998, 0.5672891423999998, 0.5676749855999998, 0.5680608287999999, 0.5684466719999999, 0.5688325151999999, 0.5692183583999999, 0.5696042015999999, 0.5699900447999999, 0.5703758879999998, 0.5707617311999998, 0.5711475743999999, 0.5715334175999999, 0.5719192607999999, 0.5723051039999999, 0.5726909471999999, 0.5730767903999999, 0.5734626335999998, 0.5738484767999998, 0.5742343199999999, 0.5746201631999999, 0.5750060063999999, 0.5753918495999999, 0.5757776927999999, 0.5761635359999999, 0.5765493791999998, 0.5769352223999998, 0.5773210655999998, 0.5777069087999999, 0.5780927519999999, 0.5784785951999999, 0.5788644383999999, 0.5792502815999999, 0.5796361247999999, 0.5800219679999998, 0.5804078111999998, 0.5807936543999999, 0.5811794975999999, 0.5815653407999999, 0.5819511839999999, 0.5823370271999999, 0.5827228703999999, 0.5831087135999998, 0.5834945567999998, 0.5838803999999999, 0.5842662431999999, 0.5846520863999999, 0.5850379295999999, 0.5854237727999999, 0.5858096159999999, 0.5861954591999999, 0.5865813023999998, 0.5869671455999999, 0.5873529887999999, 0.5877388319999999, 0.5881246751999999, 0.5885105183999999, 0.5888963615999999, 0.5892822047999999, 0.5896680479999998, 0.5900538911999998, 0.5904397343999999, 0.5908255775999999, 0.5912114207999999, 0.5915972639999999, 0.5919831071999999, 0.5923689503999999, 0.5927547935999999, 0.5931406367999998, 0.5935264799999999, 0.5939123231999999, 0.5942981663999999, 0.5946840095999999, 0.5950698527999999, 0.5954556959999999, 0.5958415391999999, 0.5962273823999998, 0.5966132255999999, 0.5969990687999999, 0.5973849119999999, 0.5977707551999999, 0.5981565983999999, 0.5985424415999999, 0.5989282847999999, 0.5993141279999998, 0.5996999711999998, 0.6000858143999999, 0.6004716575999999, 0.6008575007999999, 0.6012433439999999, 0.6016291871999999, 0.6020150303999999, 0.6024008735999999, 0.6027867167999998, 0.6031725599999999, 0.6035584031999999, 0.6039442463999999, 0.6043300895999999, 0.6047159327999999, 0.6051017759999999, 0.6054876191999999, 0.6058734624, 0.6062593055999999, 0.6066451487999999, 0.6070309919999999, 0.6074168351999999, 0.6078026783999999, 0.6081885215999999, 0.6085743647999999, 0.6089602079999998, 0.6093460512, 0.6097318943999999, 0.6101177375999999, 0.6105035807999999, 0.6108894239999999, 0.6112752671999999, 0.6116611103999999, 0.6120469535999999, 0.6124327967999998, 0.6128186399999999, 0.6132044831999999, 0.6135903263999999, 0.6139761695999999, 0.6143620127999999, 0.6147478559999999, 0.6151336991999999, 0.6155195424, 0.6159053855999999, 0.6162912287999999, 0.6166770719999999, 0.6170629151999999, 0.6174487583999999, 0.6178346015999999, 0.6182204447999999, 0.618606288, 0.6189921312, 0.6193779743999999, 0.6197638175999999, 0.6201496607999999, 0.6205355039999999, 0.6209213471999999, 0.6213071903999999, 0.6216930336, 0.6220788768, 0.62246472, 0.6228505631999999, 0.6232364063999999, 0.6236222495999999, 0.6240080927999999, 0.6243939359999999, 0.6247797791999999, 0.6251656224, 0.6255514655999999, 0.6259373087999999, 0.6263231519999999, 0.6267089951999999, 0.6270948383999999, 0.6274806815999999, 0.6278665247999999, 0.628252368, 0.6286382112, 0.6290240543999999, 0.6294098975999999, 0.6297957407999999, 0.6301815839999999, 0.6305674271999999, 0.6309532703999999, 0.6313391136, 0.6317249568, 0.6321108, 0.6324966431999999, 0.6328824863999999, 0.6332683295999999, 0.6336541727999999, 0.6340400159999999, 0.6344258591999999, 0.6348117024, 0.6351975456, 0.6355833888, 0.6359692319999999, 0.6363550751999999, 0.6367409183999999, 0.6371267615999999, 0.6375126047999999, 0.637898448, 0.6382842912, 0.6386701343999999, 0.6390559775999999, 0.6394418207999999, 0.6398276639999999, 0.6402135071999999, 0.6405993503999999, 0.6409851936, 0.6413710368, 0.64175688, 0.6421427231999999, 0.6425285663999999, 0.6429144095999999, 0.6433002527999999, 0.6436860959999999, 0.6440719391999999, 0.6444577824, 0.6448436256, 0.6452294687999999, 0.6456153119999999, 0.6460011551999999, 0.6463869983999999, 0.6467728415999999, 0.6471586847999999, 0.647544528, 0.6479303712, 0.6483162144, 0.6487020576, 0.6490879007999999, 0.6494737439999999, 0.6498595871999999, 0.6502454303999999, 0.6506312736, 0.6510171168, 0.65140296, 0.6517888031999999, 0.6521746463999999, 0.6525604895999999, 0.6529463327999999, 0.6533321759999999, 0.6537180192, 0.6541038624, 0.6544897056, 0.6548755488, 0.6552613919999999, 0.6556472351999999, 0.6560330783999999, 0.6564189215999999, 0.6568047647999999, 0.657190608, 0.6575764512, 0.6579622944, 0.6583481375999999, 0.6587339807999999, 0.6591198239999999, 0.6595056671999999, 0.6598915103999999, 0.6602773536, 0.6606631968, 0.66104904, 0.6614348831999999, 0.6618207264, 0.6622065695999999, 0.6625924127999999, 0.6629782559999999, 0.6633640992, 0.6637499424, 0.6641357856, 0.6645216288, 0.6649074719999999, 0.6652933152, 0.6656791583999999, 0.6660650015999999, 0.6664508447999999, 0.666836688, 0.6672225312, 0.6676083743999999, 0.6679942176, 0.6683800607999999, 0.6687659039999999, 0.6691517471999999, 0.6695375903999999, 0.6699234336, 0.6703092768, 0.67069512, 0.6710809631999999, 0.6714668064, 0.6718526495999999, 0.6722384927999999, 0.6726243359999999, 0.6730101792, 0.6733960224, 0.6737818656, 0.6741677088, 0.6745535519999999, 0.6749393951999999, 0.6753252383999999, 0.6757110815999999, 0.6760969247999999, 0.676482768, 0.6768686112, 0.6772544544, 0.6776402976, 0.6780261407999999, 0.6784119839999999, 0.6787978271999999, 0.6791836703999999, 0.6795695136, 0.6799553568, 0.6803412, 0.6807270432, 0.6811128864, 0.6814987295999999, 0.6818845727999999, 0.6822704159999999, 0.6826562592, 0.6830421024, 0.6834279456, 0.6838137888, 0.684199632, 0.6845854752, 0.6849713183999999, 0.6853571615999999, 0.6857430048, 0.686128848, 0.6865146912, 0.6869005344, 0.6872863776, 0.6876722207999999, 0.688058064, 0.6884439071999999, 0.6888297503999999, 0.6892155936, 0.6896014368, 0.68998728, 0.6903731232, 0.6907589664, 0.6911448095999999, 0.6915306528, 0.6919164959999999, 0.6923023392, 0.6926881824, 0.6930740256, 0.6934598688, 0.6938457119999999, 0.6942315552, 0.6946173983999999, 0.6950032415999999, 0.6953890848, 0.695774928, 0.6961607712, 0.6965466144, 0.6969324576, 0.6973183007999999, 0.697704144, 0.6980899871999999, 0.6984758303999999, 0.6988616736, 0.6992475168, 0.69963336, 0.7000192032, 0.7004050464, 0.7007908895999999, 0.7011767327999999, 0.7015625759999999, 0.7019484192, 0.7023342624, 0.7027201056, 0.7031059488, 0.7034917919999999, 0.7038776352, 0.7042634783999999, 0.7046493215999999, 0.7050351648, 0.705421008, 0.7058068512, 0.7061926944, 0.7065785376, 0.7069643807999999, 0.707350224, 0.7077360671999999, 0.7081219103999999, 0.7085077536, 0.7088935968, 0.70927944, 0.7096652832, 0.7100511264, 0.7104369696, 0.7108228127999999, 0.7112086559999999, 0.7115944992, 0.7119803424, 0.7123661856, 0.7127520288, 0.713137872, 0.7135237152, 0.7139095583999999, 0.7142954015999999, 0.7146812448, 0.715067088, 0.7154529312, 0.7158387744, 0.7162246176, 0.7166104608, 0.716996304, 0.7173821471999999, 0.7177679904, 0.7181538336, 0.7185396768, 0.71892552, 0.7193113632, 0.7196972064, 0.7200830495999999, 0.7204688928, 0.7208547359999999, 0.7212405792, 0.7216264224, 0.7220122656, 0.7223981088, 0.722783952, 0.7231697952, 0.7235556383999999, 0.7239414816, 0.7243273248, 0.724713168, 0.7250990112, 0.7254848544, 0.7258706976, 0.7262565408, 0.726642384, 0.7270282271999999, 0.7274140704000001, 0.7277999136, 0.7281857568], \"xaxis\": \"x\", \"y\": [2.5643184871864357, 2.6017528578143962, 2.6393197601959733, 2.67701134924056, 2.714819684342627, 2.752736732712892, 2.790754372776833, 2.8288643976403893, 2.8670585186231703, 2.905328368859141, 2.9436655069650843, 2.982061420777076, 3.0205075311553227, 3.058995195857659, 3.097515713482216, 3.1360603274794663, 3.174620230234342, 3.2131865672186524, 3.2517504412143605, 3.2903029166080806, 3.328835023757235, 3.367337763428238, 3.4058021113069894, 3.444219022582054, 3.4825794366005307, 3.5208742815969654, 3.5590944794951764, 3.5972309507829565, 3.635274619459501, 3.673216418055162, 3.711047292723156, 3.748758208402573, 3.786340154051845, 3.8237841479518426, 3.8610812430773773, 3.898222532535763, 3.935199155070932, 3.9720023006312637, 4.008623215999196, 4.04505321048032, 4.081283661649498, 4.117306021151164, 4.15311182055094, 4.188692677235135, 4.224040300354603, 4.2591464968091195, 4.294003177268087, 4.328602362223135, 4.36293618806793, 4.396996913199986, 4.430776924139366, 4.464268741658412, 4.497465026916694, 4.53035858759485, 4.562942384020818, 4.5952095352815965, 4.6271533253134125, 4.658767208962931, 4.690044818011714, 4.720979967156128, 4.751566659934384, 4.781799094592306, 4.811671669879143, 4.8411789907644955, 4.870315874067269, 4.899077353987359, 4.927458687530494, 4.9554553598167566, 4.983063089262845, 5.010277832628248, 5.037095789915327, 5.063513409113173, 5.089527390775147, 5.115134692419884, 5.140332532745547, 5.165118395647194, 5.189490034027078, 5.213445473387768, 5.236983015198146, 5.260101240022294, 5.282799010401642, 5.305075473480651, 5.326930063366785, 5.348362503215431, 5.369372807031022, 5.389961281175554, 5.410128525576267, 5.42987543462439, 5.449203197757347, 5.468113299717112, 5.486607520477846, 5.5046879348364195, 5.52235691165977, 5.5396171127836915, 5.5564714915580184, 5.572923291033756, 5.588976041788277, 5.604633559385235, 5.61989994146648, 5.6347795644738286, 5.649277079999198, 5.663397410762272, 5.677145746215471, 5.690527537776724, 5.703548493691192, 5.716214573523824, 5.728531982285227, 5.740507164194228, 5.752146796080962, 5.76345778043534, 5.774447238106138, 5.785122500656985, 5.795491102385991, 5.805560772016632, 5.815339424068105, 5.8248351499141675, 5.834056208540061, 5.843011017007865, 5.851708140641284, 5.8601562829414675, 5.8683642752462, 5.876341066145242, 5.8840957106654335, 5.8916373592394455, 5.898975246472962, 5.906118679725213, 5.913077027518617, 5.919859707793566, 5.926476176024811, 5.9329359132164585, 5.939248413792822, 5.945423173402725, 5.95146967665531, 5.957397384805415, 5.963215723407088, 5.968934069953781, 5.974561741524099, 5.980107982451947, 5.985581952040158, 5.990992712336528, 5.996349215991458, 6.001660294216046, 6.006934644859662, 6.012180820625816, 6.017407217444927, 6.022622063022503, 6.027833405580967, 6.033049102813038, 6.038276811064435, 6.043523974763078, 6.0487978161118345, 6.0541053250612675, 6.059453249578495, 6.064848086227708, 6.070296071077507, 6.075803170949501, 6.081375075022237, 6.087017186803753, 6.092734616485616, 6.098532173690437, 6.104414360624409, 6.110385365645595, 6.116449057258015, 6.1226089785408915, 6.128868342021628, 6.135230025000403, 6.141696565333464, 6.148270157681452, 6.154952650228281, 6.161745541875395, 6.168649979915377, 6.175666758188054, 6.182796315721638, 6.190038735860428, 6.197393745880007, 6.20486071709, 6.212438665423712, 6.220126252513264, 6.227921787247984, 6.235823227813226, 6.2438281842059435, 6.251933921222746, 6.26013736191536, 6.268435091507901, 6.276823361769594, 6.285298095835941, 6.293854893470876, 6.302489036761652, 6.311195496237815, 6.31996893740496, 6.328803727683528, 6.337693943742322, 6.346633379216024, 6.355615552795565, 6.3646337166796165, 6.373680865375304, 6.382749744835708, 6.391832861921409, 6.400922494173053, 6.410010699881498, 6.419089328442066, 6.428150030978778, 6.437184271224674, 6.44618333664374, 6.455138349779992, 6.464040279818995, 6.47287995434701, 6.481648071292784, 6.490335211036926, 6.498931848673714, 6.507428366410055, 6.515815066086345, 6.524082181803869, 6.532219892643346, 6.540218335459261, 6.548067617734565, 6.555757830480387, 6.563279061165297, 6.5706214066589315, 6.577774986174483, 6.584729954194961, 6.591476513367889, 6.598004927353364, 6.604305533610356, 6.610368756106231, 6.6161851179345925, 6.621745253826559, 6.627039922540762, 6.632060019117326, 6.636796586981308, 6.641240829881183, 6.645384123647888, 6.649218027760283, 6.652734296702906, 6.655924891101933, 6.658781988625566, 6.661297994635067, 6.663465552572817, 6.665277554074049, 6.666727148788813, 6.66780775390122, 6.6685130633328615, 6.668837056617773, 6.668774007436227, 6.668318491795154, 6.667465395842904, 6.666209923306502, 6.66454760253977, 6.66247429317082, 6.659986192337867, 6.657079840502525, 6.6537521268300654, 6.650000294126463, 6.645821943322379, 6.641215037494767, 6.636177905416842, 6.630709244627987, 6.624808124015303, 6.61847398589913, 6.611706647615338, 6.604506302587653, 6.596873520883884, 6.5888092492505175, 6.580314810620618, 6.571391903090737, 6.562042598363153, 6.552269339650333, 6.542074939039383, 6.531462574314885, 6.520435785239269, 6.508998469290689, 6.4971548768592084, 6.484909605902794, 6.472267596065721, 6.459234122262547, 6.445814787731991, 6.432015516565843, 6.417842545718888, 6.403302416506979, 6.388401965601159, 6.37314831552677, 6.35754886467755, 6.341611276855571, 6.325343470348966, 6.308753606560363, 6.29185007819989, 6.274641497057767, 6.257136681372232, 6.23934464280981, 6.22127457307572, 6.202935830173216, 6.184337924331662, 6.165490503623963, 6.146403339294963, 6.127086310823256, 6.10754939073961, 6.087802629226301, 6.067856138522027, 6.047720077158134, 6.027404634052483, 6.006920012487873, 5.986276414002681, 5.96548402222175, 5.9445529866563485, 5.9234934065021205, 5.902315314464666, 5.881028660642534, 5.859643296497734, 5.838168958944131, 5.816615254584183, 5.79499164412455, 5.7733074270011455, 5.751571726244216, 5.729793473613686, 5.707981395035029, 5.686143996365573, 5.664289549520711, 5.642426078989247, 5.620561348766395, 5.59870284973255, 5.576857787505303, 5.555033070791227, 5.533235300263521, 5.511470757990447, 5.489745397438746, 5.468064834075077, 5.446434336587611, 5.424858818748636, 5.403342831938008, 5.3818905583457335, 5.360505804871115, 5.339191997734034, 5.317952177812888, 5.2967889967220705, 5.275704713640412, 5.2547011929004395, 5.233779902346717, 5.212941912469999, 5.192187896322012, 5.171518130214422, 5.150932495203388, 5.130430479359739, 5.110011180822882, 5.08967331163485, 5.069415202349288, 5.049234807408103, 5.02912971127724, 5.009097135330853, 4.989133945471743, 4.969236660474108, 4.949401461033004, 4.929624199503294, 4.90990041030921, 4.890225321004203, 4.870593863959008, 4.8510006886546435, 4.831440174555431, 4.811906444535794, 4.792393378833391, 4.772894629499697, 4.753403635318125, 4.733913637158549, 4.714417693736183, 4.694908697741562, 4.675379392307796, 4.655822387780162, 4.6362301787525935, 4.616595161334863, 4.5969096506137435, 4.57716589827097, 4.557356110320456, 4.537472464926944, 4.517507130268049, 4.497452282401593, 4.477300123100148, 4.457042897614755, 4.436672912329971, 4.416182552272751, 4.395564298437991, 4.374810744893945, 4.3539146156315365, 4.332868781121904, 4.311666274547494, 4.290300307672742, 4.26876428632131, 4.247051825427755, 4.225156763632691, 4.203073177391516, 4.180795394568041, 4.158318007485664, 4.135635885409956, 4.11274418643804, 4.089638368771562, 4.066314201351498, 4.042767773834736, 4.018995505893759, 3.994994155822745, 3.970760828434547, 3.946292982235361, 3.921588435865054, 3.896645373793247, 3.8714623512628576, 3.846038298474625, 3.820372524007954, 3.7944647174751456, 3.7683149514080285, 3.7419236823774322, 3.715291751348295, 3.6884203832742997, 3.6613111859381644, 3.6339661480451624, 3.6063876365791754, 3.5785783934323905, 3.550541531320878, 3.5222805290005854, 3.493799225799053, 3.4651018154801023, 3.436192839459952, 3.4070771793946375, 3.377760049159852, 3.348246986245526, 3.318543842588855, 3.2886567748700153, 3.2585922342966467, 3.2283569559032834, 3.197957947393393, 3.167402477552144, 3.136698064258873, 3.1058524621288, 3.074873649814084, 3.043769816994866, 3.0125493510911645, 2.9812208237269493, 2.9497929769778786, 2.918274709434296, 2.8866750621111854, 2.855003204236678, 2.8232684189508555, 2.791480088945822, 2.7596476820786373, 2.727780736987455, 2.6958888487414527, 2.6639816545543336, 2.6320688195907347, 2.6001600228942223, 2.5682649434648437, 2.5363932465136463, 2.504554569920275, 2.4727585109196593, 2.4410146130420807, 2.409332353330519, 2.377721129857885, 2.346190249565767, 2.3147489164452018, 2.2834062200788834, 2.252171124562947, 2.2210524578255053, 2.190058901357533, 2.1591989803708183, 2.128481054396206, 2.0979133083341557, 2.067503743968391, 2.0372601719520502, 2.007190204274476, 1.9773012472156357, 1.9476004947935588, 1.9180949227092488, 1.8887912827920301, 1.8596960979471282, 1.8308156576060404, 1.8021560136790196, 1.7737229770078429, 1.7455221143157886, 1.7175587456508674, 1.6898379423167322, 1.6623645252853938, 1.635143064084058, 1.6081778761479817, 1.5814730266300496, 1.5550323286568768, 1.5288593440206035, 1.5029573842942838, 1.4773295123586765, 1.4519785443268574, 1.426907051852919, 1.4021173648101473, 1.3776115743236268, 1.3533915361416846, 1.329458874330108, 1.3058149852728493, 1.282461041962195, 1.2593979985616668, 1.2366265952241045, 1.2141473631475999, 1.1919606298516405, 1.1700665246557804, 1.1484649843431343, 1.1271557589909478, 1.1061384179507658, 1.085412355960403], \"yaxis\": \"y\"}, {\"legendgroup\": \"8\", \"marker\": {\"color\": \"rgb(140, 86, 75)\"}, \"mode\": \"lines\", \"name\": \"8\", \"showlegend\": false, \"type\": \"scatter\", \"x\": [0.46249999999999997, 0.4629, 0.4633, 0.46369999999999995, 0.46409999999999996, 0.46449999999999997, 0.4649, 0.4653, 0.46569999999999995, 0.46609999999999996, 0.46649999999999997, 0.4669, 0.4673, 0.46769999999999995, 0.46809999999999996, 0.46849999999999997, 0.4689, 0.46929999999999994, 0.46969999999999995, 0.47009999999999996, 0.4705, 0.4709, 0.47129999999999994, 0.47169999999999995, 0.47209999999999996, 0.4725, 0.4729, 0.47329999999999994, 0.47369999999999995, 0.47409999999999997, 0.4745, 0.4749, 0.47529999999999994, 0.47569999999999996, 0.47609999999999997, 0.4765, 0.4769, 0.47729999999999995, 0.47769999999999996, 0.47809999999999997, 0.4785, 0.4789, 0.47929999999999995, 0.47969999999999996, 0.48009999999999997, 0.4805, 0.4809, 0.48129999999999995, 0.48169999999999996, 0.4821, 0.4825, 0.4829, 0.48329999999999995, 0.48369999999999996, 0.4841, 0.4845, 0.4849, 0.48529999999999995, 0.48569999999999997, 0.4861, 0.4865, 0.48689999999999994, 0.48729999999999996, 0.48769999999999997, 0.4881, 0.4885, 0.48889999999999995, 0.48929999999999996, 0.48969999999999997, 0.4901, 0.4905, 0.49089999999999995, 0.49129999999999996, 0.49169999999999997, 0.4921, 0.49249999999999994, 0.49289999999999995, 0.49329999999999996, 0.49369999999999997, 0.4941, 0.49449999999999994, 0.49489999999999995, 0.49529999999999996, 0.4957, 0.4961, 0.49649999999999994, 0.49689999999999995, 0.49729999999999996, 0.4977, 0.4981, 0.49849999999999994, 0.49889999999999995, 0.49929999999999997, 0.4997, 0.5001, 0.5005, 0.5009, 0.5013, 0.5016999999999999, 0.5021, 0.5025, 0.5029, 0.5033, 0.5036999999999999, 0.5041, 0.5045, 0.5049, 0.5053, 0.5056999999999999, 0.5061, 0.5065, 0.5069, 0.5073, 0.5076999999999999, 0.5081, 0.5085, 0.5089, 0.5093, 0.5096999999999999, 0.5101, 0.5105, 0.5109, 0.5113, 0.5116999999999999, 0.5121, 0.5125, 0.5129, 0.5133, 0.5136999999999999, 0.5141, 0.5145, 0.5149, 0.5153, 0.5156999999999999, 0.5161, 0.5165, 0.5168999999999999, 0.5173, 0.5176999999999999, 0.5181, 0.5185, 0.5188999999999999, 0.5193, 0.5196999999999999, 0.5201, 0.5205, 0.5208999999999999, 0.5213, 0.5216999999999999, 0.5221, 0.5225, 0.5228999999999999, 0.5233, 0.5236999999999999, 0.5241, 0.5245, 0.5248999999999999, 0.5253, 0.5257, 0.5261, 0.5265, 0.5268999999999999, 0.5273, 0.5277, 0.5281, 0.5285, 0.5288999999999999, 0.5293, 0.5297, 0.5301, 0.5305, 0.5308999999999999, 0.5313, 0.5317, 0.5321, 0.5325, 0.5328999999999999, 0.5333, 0.5337, 0.5341, 0.5345, 0.5348999999999999, 0.5353, 0.5357, 0.5361, 0.5365, 0.5368999999999999, 0.5373, 0.5377, 0.5381, 0.5385, 0.5388999999999999, 0.5393, 0.5397, 0.5401, 0.5405, 0.5408999999999999, 0.5413, 0.5417, 0.5421, 0.5425, 0.5428999999999999, 0.5433, 0.5437, 0.5441, 0.5445, 0.5448999999999999, 0.5453, 0.5457, 0.5461, 0.5465, 0.5468999999999999, 0.5473, 0.5477, 0.5481, 0.5485, 0.5488999999999999, 0.5493, 0.5497, 0.5501, 0.5505, 0.5509, 0.5513, 0.5517, 0.5521, 0.5525, 0.5529, 0.5533, 0.5537, 0.5541, 0.5545, 0.5549, 0.5553, 0.5557, 0.5560999999999999, 0.5565, 0.5569, 0.5573, 0.5577, 0.5580999999999999, 0.5585, 0.5589, 0.5593, 0.5597, 0.5600999999999999, 0.5605, 0.5609, 0.5613, 0.5617, 0.5620999999999999, 0.5625, 0.5629, 0.5633, 0.5637, 0.5640999999999999, 0.5645, 0.5649, 0.5653, 0.5657, 0.5660999999999999, 0.5665, 0.5669, 0.5673, 0.5677, 0.5680999999999999, 0.5685, 0.5689, 0.5692999999999999, 0.5697, 0.5700999999999999, 0.5705, 0.5709, 0.5712999999999999, 0.5717, 0.5720999999999999, 0.5725, 0.5729, 0.5732999999999999, 0.5737, 0.5740999999999999, 0.5745, 0.5749, 0.5752999999999999, 0.5757, 0.5761, 0.5765, 0.5769, 0.5772999999999999, 0.5777, 0.5781, 0.5785, 0.5789, 0.5792999999999999, 0.5797, 0.5801, 0.5805, 0.5809, 0.5812999999999999, 0.5817, 0.5821, 0.5825, 0.5829, 0.5832999999999999, 0.5837, 0.5841, 0.5845, 0.5849, 0.5852999999999999, 0.5857, 0.5861, 0.5865, 0.5869, 0.5872999999999999, 0.5877, 0.5881, 0.5885, 0.5889, 0.5892999999999999, 0.5897, 0.5901, 0.5905, 0.5909, 0.5912999999999999, 0.5917, 0.5921, 0.5925, 0.5929, 0.5932999999999999, 0.5937, 0.5941, 0.5945, 0.5949, 0.5952999999999999, 0.5957, 0.5961, 0.5965, 0.5969, 0.5972999999999999, 0.5977, 0.5981, 0.5985, 0.5989, 0.5992999999999999, 0.5997, 0.6001, 0.6005, 0.6009, 0.6013, 0.6017, 0.6021, 0.6025, 0.6029, 0.6033, 0.6037, 0.6041, 0.6044999999999999, 0.6049, 0.6053, 0.6057, 0.6061, 0.6064999999999999, 0.6069, 0.6073, 0.6077, 0.6081, 0.6084999999999999, 0.6089, 0.6093, 0.6097, 0.6101, 0.6104999999999999, 0.6109, 0.6113, 0.6117, 0.6121, 0.6124999999999999, 0.6129, 0.6133, 0.6137, 0.6141, 0.6144999999999999, 0.6149, 0.6153, 0.6157, 0.6161, 0.6164999999999999, 0.6169, 0.6173, 0.6176999999999999, 0.6181, 0.6184999999999999, 0.6189, 0.6193, 0.6196999999999999, 0.6201, 0.6204999999999999, 0.6209, 0.6213, 0.6216999999999999, 0.6221, 0.6224999999999999, 0.6229, 0.6233, 0.6236999999999999, 0.6241, 0.6244999999999999, 0.6249, 0.6253, 0.6256999999999999, 0.6261, 0.6265, 0.6269, 0.6273, 0.6276999999999999, 0.6281, 0.6285, 0.6289, 0.6293, 0.6296999999999999, 0.6301, 0.6305, 0.6309, 0.6313, 0.6316999999999999, 0.6321, 0.6325, 0.6329, 0.6333, 0.6336999999999999, 0.6341, 0.6345, 0.6349, 0.6353, 0.6356999999999999, 0.6361, 0.6365, 0.6369, 0.6373, 0.6376999999999999, 0.6381, 0.6385, 0.6389, 0.6393, 0.6396999999999999, 0.6401, 0.6405, 0.6409, 0.6413, 0.6416999999999999, 0.6421, 0.6425, 0.6429, 0.6433, 0.6436999999999999, 0.6441, 0.6445, 0.6449, 0.6453, 0.6456999999999999, 0.6461, 0.6465, 0.6469, 0.6473, 0.6476999999999999, 0.6481, 0.6485, 0.6489, 0.6493, 0.6496999999999999, 0.6501, 0.6505, 0.6509, 0.6513, 0.6517, 0.6521, 0.6525, 0.6529, 0.6533, 0.6537, 0.6541, 0.6545, 0.6549, 0.6553, 0.6557, 0.6561, 0.6565, 0.6569, 0.6573, 0.6577, 0.6581, 0.6585, 0.6589, 0.6593, 0.6597, 0.6601, 0.6605, 0.6608999999999999, 0.6613, 0.6617, 0.6621], \"xaxis\": \"x\", \"y\": [0.9931787189393443, 1.0070746181244326, 1.0209549536482025, 1.0348173584495948, 1.0486595712233373, 1.0624794349904176, 1.076274895244665, 1.0900439976902603, 1.1037848855874257, 1.1174957967258898, 1.1311750600479984, 1.1448210919456192, 1.158432392257101, 1.17200753999263, 1.1855451888183008, 1.1990440623310226, 1.2125029491581656, 1.225920697917377, 1.2392962120734663, 1.252628444730503, 1.2659163933984199, 1.2791590947743001, 1.292355619579294, 1.3055050674926647, 1.3186065622247742, 1.3316592467710326, 1.3446622788886917, 1.3576148268381354, 1.370516065429805, 1.38336517241715, 1.3961613252751146, 1.4089036984024548, 1.421591460784832, 1.434223774154035, 1.4467997916768514, 1.4593186572051373, 1.471779505116383, 1.4841814607716677, 1.4965236416153251, 1.508805158937819, 1.5210251203204463, 1.5331826327773257, 1.5452768066069456, 1.5573067599621226, 1.5692716241437554, 1.58117054962018, 1.5930027127702282, 1.6047673233443416, 1.6164636326343298, 1.6280909423384418, 1.6396486141046633, 1.6511360797311934, 1.6625528519992712, 1.673898536109701, 1.6851728416906377, 1.6963755953405735, 1.7075067536668058, 1.7185664167762438, 1.7295548421720102, 1.7404724590060976, 1.7513198826353131, 1.7620979294248256, 1.7728076317409964, 1.783450253072668, 1.7940273032178653, 1.8045405534708503, 1.8149920517426885, 1.8253841375470201, 1.8357194567814668, 1.8460009762341838, 1.8562319977443942, 1.8664161719453713, 1.8765575115182922, 1.8866604038855828, 1.896729623272996, 1.906770342070435, 1.9167881414227732, 1.9267890209833356, 1.9367794077645517, 1.9467661640222933, 1.9567565941128644, 1.966758450264219, 1.9767799372059207, 1.9868297156056591, 1.9969169042635029, 2.007051081018857, 2.0172422823290677, 2.0275010014827313, 2.037838185415235, 2.0482652300985746, 2.0587939744822705, 2.0694366929671086, 2.0802060863984644, 2.091115271571148, 2.102177769242947, 2.1134074906593865, 2.1248187225976065, 2.1364261109426916, 2.1482446428152424, 2.1602896272743304, 2.172576674625514, 2.1851216743688004, 2.197940771826801, 2.211050343498513, 2.2244669711891447, 2.2382074149714466, 2.252288585038735, 2.266727512514342, 2.281541319286785, 2.2967471869439735, 2.312362324883855, 2.3284039376826526, 2.3448891918051418, 2.361835181744837, 2.379258895684676, 2.397177180771424, 2.4156067080994705, 2.4345639375013293, 2.45406508224417, 2.4741260737326614, 2.4947625263195583, 2.515989702326057, 2.537822477373983, 2.5602753061320773, 2.583362188577847, 2.6070966368758066, 2.631491642971767, 2.6565596470010293, 2.6823125066068183, 2.708761467262671, 2.7359171336901396, 2.7637894424602516, 2.792387635863709, 2.8217202371316024, 2.8517950270842065, 2.8826190222815056, 2.91419845474471, 2.9465387533131073, 2.979644526695883, 3.013519548273452, 3.0481667426971293, 3.0835881743309237, 3.1197850375730263, 3.156757649089004, 3.1945054419826864, 3.233026961924285, 3.2723198652496457, 3.3123809190376394, 3.353206003166754, 3.394790114345677, 3.4371273721057825, 3.4802110267378703, 3.524033469148499, 3.5685862426055333, 3.613860056336265, 3.6598448009352835, 3.7065295655337915, 3.7539026566759053, 3.801951618842268, 3.8506632565560213, 3.9000236580006113, 3.950018220074794, 4.0006316748048585, 4.051848117030223, 4.1036510332746206, 4.156023331710762, 4.2089473731239435, 4.262405002776083, 4.316377583069617, 4.370846026908317, 4.425790831649695, 4.481192113542894, 4.537029642544048, 4.593282877400823, 4.649931000897566, 4.7069529551520235, 4.764327476855845, 4.822033132351265, 4.880048352438046, 4.938351466806625, 4.996920737994805, 5.0557343947688205, 5.114770664831549, 5.17400780676445, 5.233424141113406, 5.292998080532108, 5.352708158901688, 5.412533059349111, 5.472451641092181, 5.532442965044372, 5.59248631811733, 5.6525612361655835, 5.712647525522951, 5.772725283086704, 5.832774914911775, 5.892777153283076, 5.952713072241301, 6.0125641015432345, 6.072312039044661, 6.131939061500633, 6.1914277337837476, 6.2507610165286085, 6.309922272216081, 6.3688952697179895, 6.427664187329032, 6.486213614318221, 6.544528551038911, 6.602594407641224, 6.660397001436714, 6.717922552970171, 6.77515768085781, 6.832089395456557, 6.888705091432303, 6.94499253929958, 7.000939876008442, 7.056535594656911, 7.1117685334108796, 7.166627863714607, 7.22110307787758, 7.275183976124477, 7.3288606531956875, 7.382123484586927, 7.4349631125157725, 7.487370431702895, 7.539336575054922, 7.590852899334046, 7.641910970898293, 7.6925025515936145, 7.742619584876549, 7.792254182243253, 7.841398610036864, 7.89004527670186, 7.93818672054935, 7.985815598093134, 8.03292467301161, 8.079506805785018, 8.125554944052759, 8.171062113729866, 8.216021410915534, 8.26042599462143, 8.30426908034093, 8.347543934474578, 8.390243869621056, 8.432362240736373, 8.4738924421584, 8.51482790548723, 8.55516209830625, 8.594888523722888, 8.634000720701934, 8.672492265159386, 8.710356771779, 8.747587896508865, 8.784179339690755, 8.820124849770197, 8.855418227531596, 8.890053330798562, 8.924024079536647, 8.957324461292812, 8.989948536902977, 9.021890446397917, 9.053144415035257, 9.083704759384958, 9.113565893394957, 9.142722334363249, 9.171168708743656, 9.198899757712994, 9.22591034242901, 9.252195448910433, 9.27775019247263, 9.302569821655466, 9.326649721583268, 9.349985416700358, 9.372572572830114, 9.394406998509858, 9.415484645558905, 9.435801608842528, 9.455354125200001, 9.474138571511004, 9.49215146188065, 9.509389443929928, 9.525849294184807, 9.541527912563973, 9.556422315972066, 9.570529631011869, 9.58384708583621, 9.59637200116684, 9.608101780514506, 9.619033899641174, 9.629165895311854, 9.638495353389827, 9.647019896335427, 9.65473717017406, 9.661644831005198, 9.667740531128816, 9.673021904871193, 9.677486554195946, 9.681132034190558, 9.683955838522172, 9.685955384959364, 9.687128001059413, 9.687470910122459, 9.68698121751548, 9.685655897470088, 9.683491780458157, 9.68048554124948, 9.676633687754462, 9.671932550753644, 9.666378274613773, 9.659966809087475, 9.652693902290448, 9.644555094946337, 9.635545715985122, 9.62566087957589, 9.614895483669663, 9.603244210122003, 9.59070152645857, 9.577261689340375, 9.562918749778033, 9.547666560136694, 9.531498782965675, 9.514408901678214, 9.496390233098744, 9.477435941885844, 9.457539056830562, 9.436692489020695, 9.414889051852159, 9.39212148285998, 9.368382467331664, 9.34366466365721, 9.317960730360387, 9.291263354747452, 9.263565283100649, 9.234859352335173, 9.205138523030335, 9.174395913737712, 9.142624836461161, 9.109818833197094, 9.075971713415996, 9.041077592360342, 9.005130930028214, 8.968126570706334, 8.930059782912346, 8.890926299600963, 8.850722358486125, 8.809444742327816, 8.767090819029926, 8.723658581394524, 8.679146686376036, 8.63355449367951, 8.586882103546833, 8.539130393576094, 8.490301054421177, 8.440396624220634, 8.389420521608477, 8.337377077162621, 8.284271563151544, 8.230110221444253, 8.174900289454474, 8.118650023995562, 8.061368722929961, 8.00306674450324, 7.943755524261072, 7.883447589455266, 7.82215657085298, 7.759897211872958, 7.696685374980682, 7.632538045284651, 7.567473331285188, 7.501510462736957, 7.434669785597041, 7.366972754039685, 7.298441919530018, 7.229100916958654, 7.158974447849508, 7.08808826066389, 7.0164691282331875, 6.944144822363382, 6.87114408566391, 6.797496600663014, 6.7232329562816435, 6.648384611746195, 6.572983858029991, 6.497063776921359, 6.420658197823942, 6.343801652403325, 6.2665293272001055, 6.188877014337153, 6.110881060454554, 6.032578314011089, 5.954006071097067, 5.875202019907144, 5.796204184025813, 5.717050864682472, 5.637780582134531, 5.558432016340573, 5.479043947086405, 5.399655193727933, 5.320304554716048, 5.241030747067347, 5.16187234594508, 5.082867724512656, 5.004054994220164, 4.92547194568291, 4.847155990306646, 4.769144102812171, 4.691472764807179, 4.614177909548877, 4.53729486803688, 4.460858316569368, 4.384902225891101, 4.30945981205507, 4.234563489113241, 4.160244823745838, 4.086534491930637, 4.013462237747493, 3.9410568344053676, 3.8693460475713066, 3.7983566010739103, 3.7281141450447297, 3.6586432265541213, 3.5899672627894046, 3.5221085168149577, 3.455088075946565, 3.3889258327631246, 3.3236404687719294, 3.259249440735028, 3.195768969656478, 3.1332140324231785, 3.0715983560834994, 3.010934414741535, 2.9512334290371247, 2.8925053681748434, 2.8347589544591707, 2.7780016702857195, 2.7222397675332535, 2.667478279294875, 2.61372103388128, 2.560970671024438, 2.50922866020433, 2.4584953210178604, 2.4087698455043403, 2.360050322338293, 2.3123337627973655, 2.2656161284094596, 2.2198923601812135, 2.1751564093072675, 2.1314012692578532, 2.0886190091411, 2.0468008082346225, 2.005936991580762, 1.9660170665389316, 1.9270297601883823, 1.8889630574752758, 1.8518042399977706, 1.815539925324315, 1.7801561067409308, 1.7456381933247582, 1.7119710502430383, 1.6791390391780856, 1.6471260587814753, 1.6159155850626719, 1.5854907116199048, 1.555834189624175, 1.5269284674697259, 1.498755730007911, 1.4712979372843191, 1.4445368627024466, 1.418454130540964, 1.3930312527548327, 1.3682496649946199, 1.3440907617818925, 1.3205359307824032, 1.297566586122897, 1.2751642007009092, 1.253310337441222, 1.2319866794563432, 1.211175059072324, 1.1908574856853311, 1.1710161724179675, 1.1516335615484947, 1.1326923486896934, 1.1141755056978573, 1.0960663022962704, 1.0783483264008118, 1.0610055031391525, 1.0440221125582416, 1.0273828060181196, 1.0110726212734924, 0.9950769962473704, 0.9793817815043385, 0.9639732514337714, 0.9488381141560889, 0.9339635201679617, 0.9193370697446822, 0.9049468191205604, 0.8907812854703457, 0.8768294507168409, 0.8630807641920193, 0.8495251441807345, 0.8361529783779047], \"yaxis\": \"y\"}, {\"legendgroup\": \"3\", \"marker\": {\"color\": \"rgb(31, 119, 180)\", \"symbol\": \"line-ns-open\"}, \"mode\": \"markers\", \"name\": \"3\", \"showlegend\": false, \"type\": \"scatter\", \"x\": [0.95005, 1.0, 0.9833500000000001, 0.9833500000000001, 0.8833500000000001, 0.9666999999999999, 0.8834500000000001, 0.9167, 0.9333499999999999, 0.8834000000000001, 0.98333335, 0.8500000999999999, 0.98333335, 0.9333333999999999, 0.98333335, 0.9666666999999999, 0.9333333500000001, 0.9666667, 0.7333335, 0.95000005, 0.95000005, 0.98333335, 0.9666666999999999, 0.9166667499999999, 0.9333334000000001, 0.9500000499999999, 0.9666667, 0.9833333499999999, 0.98333335, 0.9500000499999999, 0.8500001, 0.9500000499999999, 0.8666667, 0.95000005, 0.91666675, 0.8333334499999999, 0.8666668, 0.98333335, 0.98333335, 0.9333333499999998, 0.9000000499999999, 0.95000005, 0.9666667, 0.9500000499999999, 0.8000001000000001, 0.71666665, 0.98333335, 0.86666675, 0.9666667, 0.9333334], \"xaxis\": \"x\", \"y\": [\"3\", \"3\", \"3\", \"3\", \"3\", \"3\", \"3\", \"3\", \"3\", \"3\", \"3\", \"3\", \"3\", \"3\", \"3\", \"3\", \"3\", \"3\", \"3\", \"3\", \"3\", \"3\", \"3\", \"3\", \"3\", \"3\", \"3\", \"3\", \"3\", \"3\", \"3\", \"3\", \"3\", \"3\", \"3\", \"3\", \"3\", \"3\", \"3\", \"3\", \"3\", \"3\", \"3\", \"3\", \"3\", \"3\", \"3\", \"3\", \"3\", \"3\"], \"yaxis\": \"y2\"}, {\"legendgroup\": \"4\", \"marker\": {\"color\": \"rgb(255, 127, 14)\", \"symbol\": \"line-ns-open\"}, \"mode\": \"markers\", \"name\": \"4\", \"showlegend\": false, \"type\": \"scatter\", \"x\": [0.8374999999999999, 0.9375, 0.8624999999999998, 0.9, 0.7874999999999999, 0.8124999999999999, 0.8875, 0.9125000000000001, 0.7874999999999999, 0.6375, 0.8500000000000001, 0.9125000000000001, 0.9, 0.7499999999999998, 0.8999999999999999, 0.825, 0.7874999999999999, 0.8375000000000001, 0.65, 0.8874999999999998, 0.825, 0.9, 0.8124999999999999, 0.7499999999999999, 0.825, 0.8749999999999999, 0.8374999999999998, 0.9125, 0.85, 0.8624999999999999, 0.7999999999999999, 0.8374999999999999, 0.8375, 0.7499999999999999, 0.9249999999999998, 0.65, 0.725, 0.9749999999999999, 0.8875, 0.775, 0.825, 0.8374999999999998, 0.8500000000000001, 0.8374999999999998, 0.6625, 0.675, 0.9125, 0.8375, 0.7999999999999999, 0.7374999999999999], \"xaxis\": \"x\", \"y\": [\"4\", \"4\", \"4\", \"4\", \"4\", \"4\", \"4\", \"4\", \"4\", \"4\", \"4\", \"4\", \"4\", \"4\", \"4\", \"4\", \"4\", \"4\", \"4\", \"4\", \"4\", \"4\", \"4\", \"4\", \"4\", \"4\", \"4\", \"4\", \"4\", \"4\", \"4\", \"4\", \"4\", \"4\", \"4\", \"4\", \"4\", \"4\", \"4\", \"4\", \"4\", \"4\", \"4\", \"4\", \"4\", \"4\", \"4\", \"4\", \"4\", \"4\"], \"yaxis\": \"y2\"}, {\"legendgroup\": \"5\", \"marker\": {\"color\": \"rgb(44, 160, 44)\", \"symbol\": \"line-ns-open\"}, \"mode\": \"markers\", \"name\": \"5\", \"showlegend\": false, \"type\": \"scatter\", \"x\": [0.73, 0.8000000000000002, 0.81, 0.7999999999999999, 0.59, 0.7300000000000001, 0.8099999999999999, 0.7800000000000001, 0.7, 0.6100000000000001, 0.7399999999999999, 0.73, 0.78, 0.72, 0.8, 0.7400000000000001, 0.6799999999999999, 0.77, 0.5999999999999999, 0.74, 0.7800000000000002, 0.8, 0.6700000000000002, 0.7300000000000001, 0.6499999999999999, 0.7200000000000001, 0.6699999999999999, 0.8199999999999998, 0.76, 0.7200000000000001, 0.7, 0.7500000000000001, 0.6100000000000001, 0.5900000000000001, 0.8000000000000002, 0.5900000000000001, 0.6, 0.8, 0.7499999999999999, 0.6900000000000002, 0.7, 0.78, 0.7000000000000001, 0.7800000000000002, 0.64, 0.62, 0.8199999999999998, 0.7699999999999999, 0.6699999999999999, 0.7000000000000001], \"xaxis\": \"x\", \"y\": [\"5\", \"5\", \"5\", \"5\", \"5\", \"5\", \"5\", \"5\", \"5\", \"5\", \"5\", \"5\", \"5\", \"5\", \"5\", \"5\", \"5\", \"5\", \"5\", \"5\", \"5\", \"5\", \"5\", \"5\", \"5\", \"5\", \"5\", \"5\", \"5\", \"5\", \"5\", \"5\", \"5\", \"5\", \"5\", \"5\", \"5\", \"5\", \"5\", \"5\", \"5\", \"5\", \"5\", \"5\", \"5\", \"5\", \"5\", \"5\", \"5\", \"5\"], \"yaxis\": \"y2\"}, {\"legendgroup\": \"6\", \"marker\": {\"color\": \"rgb(214, 39, 40)\", \"symbol\": \"line-ns-open\"}, \"mode\": \"markers\", \"name\": \"6\", \"showlegend\": false, \"type\": \"scatter\", \"x\": [0.6832, 0.7834500000000002, 0.6834, 0.6833500000000001, 0.60835, 0.6667, 0.70835, 0.68335, 0.6417, 0.5666500000000001, 0.63333325, 0.47499994999999995, 0.70833325, 0.6333333, 0.75833335, 0.61666675, 0.6250001, 0.6499999999999999, 0.575, 0.6416666499999999, 0.6416666999999999, 0.7166666500000001, 0.6166666, 0.6416666499999998, 0.625, 0.6083333999999999, 0.6166668, 0.7583333999999998, 0.6749999999999999, 0.6666666000000001, 0.6500000500000002, 0.65000005, 0.6000000999999999, 0.5833333499999999, 0.6500000000000001, 0.5916666500000002, 0.53333335, 0.74166665, 0.6916666, 0.5750000000000002, 0.5666667, 0.6333334, 0.65000005, 0.73333335, 0.63333335, 0.54999995, 0.7250001, 0.625, 0.5499999999999999, 0.66666675], \"xaxis\": \"x\", \"y\": [\"6\", \"6\", \"6\", \"6\", \"6\", \"6\", \"6\", \"6\", \"6\", \"6\", \"6\", \"6\", \"6\", \"6\", \"6\", \"6\", \"6\", \"6\", \"6\", \"6\", \"6\", \"6\", \"6\", \"6\", \"6\", \"6\", \"6\", \"6\", \"6\", \"6\", \"6\", \"6\", \"6\", \"6\", \"6\", \"6\", \"6\", \"6\", \"6\", \"6\", \"6\", \"6\", \"6\", \"6\", \"6\", \"6\", \"6\", \"6\", \"6\", \"6\"], \"yaxis\": \"y2\"}, {\"legendgroup\": \"7\", \"marker\": {\"color\": \"rgb(148, 103, 189)\", \"symbol\": \"line-ns-open\"}, \"mode\": \"markers\", \"name\": \"7\", \"showlegend\": false, \"type\": \"scatter\", \"x\": [0.6855000000000002, 0.67835, 0.6783999999999999, 0.63555, 0.5356499999999998, 0.6425999999999998, 0.6498999999999999, 0.6926500000000001, 0.5927, 0.5498999999999999, 0.59285735, 0.6428572999999997, 0.6142859, 0.5785715, 0.6928572999999999, 0.6214288499999999, 0.5785716499999999, 0.6357145, 0.5857144999999999, 0.6214287000000001, 0.6785715500000001, 0.6428572000000001, 0.6000001999999999, 0.6214287999999998, 0.55714305, 0.62857165, 0.5500000500000001, 0.7000002000000001, 0.69285725, 0.69285735, 0.6142859499999999, 0.6500002999999999, 0.56428575, 0.5785716500000001, 0.6642859, 0.5357144, 0.61428585, 0.65714295, 0.6214287000000001, 0.5785716500000001, 0.56428585, 0.6357144499999999, 0.5928572499999999, 0.7285716, 0.5714287, 0.6071429499999998, 0.6500001, 0.6500001999999999, 0.5714286499999999, 0.5571429499999999], \"xaxis\": \"x\", \"y\": [\"7\", \"7\", \"7\", \"7\", \"7\", \"7\", \"7\", \"7\", \"7\", \"7\", \"7\", \"7\", \"7\", \"7\", \"7\", \"7\", \"7\", \"7\", \"7\", \"7\", \"7\", \"7\", \"7\", \"7\", \"7\", \"7\", \"7\", \"7\", \"7\", \"7\", \"7\", \"7\", \"7\", \"7\", \"7\", \"7\", \"7\", \"7\", \"7\", \"7\", \"7\", \"7\", \"7\", \"7\", \"7\", \"7\", \"7\", \"7\", \"7\", \"7\"], \"yaxis\": \"y2\"}, {\"legendgroup\": \"8\", \"marker\": {\"color\": \"rgb(140, 86, 75)\", \"symbol\": \"line-ns-open\"}, \"mode\": \"markers\", \"name\": \"8\", \"showlegend\": false, \"type\": \"scatter\", \"x\": [0.5999999999999999, 0.60625, 0.5625, 0.60625, 0.5750000000000001, 0.59375, 0.6125, 0.5437500000000001, 0.58125, 0.5, 0.575, 0.5750000000000001, 0.60625, 0.49999999999999994, 0.5999999999999999, 0.5625, 0.5499999999999998, 0.6125, 0.5375, 0.5749999999999998, 0.6062500000000001, 0.61875, 0.61875, 0.5625, 0.5375000000000001, 0.54375, 0.59375, 0.61875, 0.5875, 0.54375, 0.5625000000000001, 0.5812500000000002, 0.5499999999999999, 0.47499999999999987, 0.60625, 0.5750000000000001, 0.5499999999999999, 0.6625, 0.5562500000000001, 0.5187499999999999, 0.49375, 0.6000000000000001, 0.5750000000000001, 0.64375, 0.5687499999999999, 0.5312499999999999, 0.5812499999999999, 0.59375, 0.46249999999999997, 0.58125], \"xaxis\": \"x\", \"y\": [\"8\", \"8\", \"8\", \"8\", \"8\", \"8\", \"8\", \"8\", \"8\", \"8\", \"8\", \"8\", \"8\", \"8\", \"8\", \"8\", \"8\", \"8\", \"8\", \"8\", \"8\", \"8\", \"8\", \"8\", \"8\", \"8\", \"8\", \"8\", \"8\", \"8\", \"8\", \"8\", \"8\", \"8\", \"8\", \"8\", \"8\", \"8\", \"8\", \"8\", \"8\", \"8\", \"8\", \"8\", \"8\", \"8\", \"8\", \"8\", \"8\", \"8\"], \"yaxis\": \"y2\"}],\n",
       "                        {\"barmode\": \"overlay\", \"hovermode\": \"closest\", \"legend\": {\"traceorder\": \"reversed\"}, \"template\": {\"data\": {\"bar\": [{\"error_x\": {\"color\": \"#2a3f5f\"}, \"error_y\": {\"color\": \"#2a3f5f\"}, \"marker\": {\"line\": {\"color\": \"#E5ECF6\", \"width\": 0.5}}, \"type\": \"bar\"}], \"barpolar\": [{\"marker\": {\"line\": {\"color\": \"#E5ECF6\", \"width\": 0.5}}, \"type\": \"barpolar\"}], \"carpet\": [{\"aaxis\": {\"endlinecolor\": \"#2a3f5f\", \"gridcolor\": \"white\", \"linecolor\": \"white\", \"minorgridcolor\": \"white\", \"startlinecolor\": \"#2a3f5f\"}, \"baxis\": {\"endlinecolor\": \"#2a3f5f\", \"gridcolor\": \"white\", \"linecolor\": \"white\", \"minorgridcolor\": \"white\", \"startlinecolor\": \"#2a3f5f\"}, \"type\": \"carpet\"}], \"choropleth\": [{\"colorbar\": {\"outlinewidth\": 0, \"ticks\": \"\"}, \"type\": \"choropleth\"}], \"contour\": [{\"colorbar\": {\"outlinewidth\": 0, \"ticks\": \"\"}, \"colorscale\": [[0.0, \"#0d0887\"], [0.1111111111111111, \"#46039f\"], [0.2222222222222222, \"#7201a8\"], [0.3333333333333333, \"#9c179e\"], [0.4444444444444444, \"#bd3786\"], [0.5555555555555556, \"#d8576b\"], [0.6666666666666666, \"#ed7953\"], [0.7777777777777778, \"#fb9f3a\"], [0.8888888888888888, \"#fdca26\"], [1.0, \"#f0f921\"]], \"type\": \"contour\"}], \"contourcarpet\": [{\"colorbar\": {\"outlinewidth\": 0, \"ticks\": \"\"}, \"type\": \"contourcarpet\"}], \"heatmap\": [{\"colorbar\": {\"outlinewidth\": 0, \"ticks\": \"\"}, \"colorscale\": [[0.0, \"#0d0887\"], [0.1111111111111111, \"#46039f\"], [0.2222222222222222, \"#7201a8\"], [0.3333333333333333, \"#9c179e\"], [0.4444444444444444, \"#bd3786\"], [0.5555555555555556, \"#d8576b\"], [0.6666666666666666, \"#ed7953\"], [0.7777777777777778, \"#fb9f3a\"], [0.8888888888888888, \"#fdca26\"], [1.0, \"#f0f921\"]], \"type\": \"heatmap\"}], \"heatmapgl\": [{\"colorbar\": {\"outlinewidth\": 0, \"ticks\": \"\"}, \"colorscale\": [[0.0, \"#0d0887\"], [0.1111111111111111, \"#46039f\"], [0.2222222222222222, \"#7201a8\"], [0.3333333333333333, \"#9c179e\"], [0.4444444444444444, \"#bd3786\"], [0.5555555555555556, \"#d8576b\"], [0.6666666666666666, \"#ed7953\"], [0.7777777777777778, \"#fb9f3a\"], [0.8888888888888888, \"#fdca26\"], [1.0, \"#f0f921\"]], \"type\": \"heatmapgl\"}], \"histogram\": [{\"marker\": {\"colorbar\": {\"outlinewidth\": 0, \"ticks\": \"\"}}, \"type\": \"histogram\"}], \"histogram2d\": [{\"colorbar\": {\"outlinewidth\": 0, \"ticks\": \"\"}, \"colorscale\": [[0.0, \"#0d0887\"], [0.1111111111111111, \"#46039f\"], [0.2222222222222222, \"#7201a8\"], [0.3333333333333333, \"#9c179e\"], [0.4444444444444444, \"#bd3786\"], [0.5555555555555556, \"#d8576b\"], [0.6666666666666666, \"#ed7953\"], [0.7777777777777778, \"#fb9f3a\"], [0.8888888888888888, \"#fdca26\"], [1.0, \"#f0f921\"]], \"type\": \"histogram2d\"}], \"histogram2dcontour\": [{\"colorbar\": {\"outlinewidth\": 0, \"ticks\": \"\"}, \"colorscale\": [[0.0, \"#0d0887\"], [0.1111111111111111, \"#46039f\"], [0.2222222222222222, \"#7201a8\"], [0.3333333333333333, \"#9c179e\"], [0.4444444444444444, \"#bd3786\"], [0.5555555555555556, \"#d8576b\"], [0.6666666666666666, \"#ed7953\"], [0.7777777777777778, \"#fb9f3a\"], [0.8888888888888888, \"#fdca26\"], [1.0, \"#f0f921\"]], \"type\": \"histogram2dcontour\"}], \"mesh3d\": [{\"colorbar\": {\"outlinewidth\": 0, \"ticks\": \"\"}, \"type\": \"mesh3d\"}], \"parcoords\": [{\"line\": {\"colorbar\": {\"outlinewidth\": 0, \"ticks\": \"\"}}, \"type\": \"parcoords\"}], \"scatter\": [{\"marker\": {\"colorbar\": {\"outlinewidth\": 0, \"ticks\": \"\"}}, \"type\": \"scatter\"}], \"scatter3d\": [{\"line\": {\"colorbar\": {\"outlinewidth\": 0, \"ticks\": \"\"}}, \"marker\": {\"colorbar\": {\"outlinewidth\": 0, \"ticks\": \"\"}}, \"type\": \"scatter3d\"}], \"scattercarpet\": [{\"marker\": {\"colorbar\": {\"outlinewidth\": 0, \"ticks\": \"\"}}, \"type\": \"scattercarpet\"}], \"scattergeo\": [{\"marker\": {\"colorbar\": {\"outlinewidth\": 0, \"ticks\": \"\"}}, \"type\": \"scattergeo\"}], \"scattergl\": [{\"marker\": {\"colorbar\": {\"outlinewidth\": 0, \"ticks\": \"\"}}, \"type\": \"scattergl\"}], \"scattermapbox\": [{\"marker\": {\"colorbar\": {\"outlinewidth\": 0, \"ticks\": \"\"}}, \"type\": \"scattermapbox\"}], \"scatterpolar\": [{\"marker\": {\"colorbar\": {\"outlinewidth\": 0, \"ticks\": \"\"}}, \"type\": \"scatterpolar\"}], \"scatterpolargl\": [{\"marker\": {\"colorbar\": {\"outlinewidth\": 0, \"ticks\": \"\"}}, \"type\": \"scatterpolargl\"}], \"scatterternary\": [{\"marker\": {\"colorbar\": {\"outlinewidth\": 0, \"ticks\": \"\"}}, \"type\": \"scatterternary\"}], \"surface\": [{\"colorbar\": {\"outlinewidth\": 0, \"ticks\": \"\"}, \"colorscale\": [[0.0, \"#0d0887\"], [0.1111111111111111, \"#46039f\"], [0.2222222222222222, \"#7201a8\"], [0.3333333333333333, \"#9c179e\"], [0.4444444444444444, \"#bd3786\"], [0.5555555555555556, \"#d8576b\"], [0.6666666666666666, \"#ed7953\"], [0.7777777777777778, \"#fb9f3a\"], [0.8888888888888888, \"#fdca26\"], [1.0, \"#f0f921\"]], \"type\": \"surface\"}], \"table\": [{\"cells\": {\"fill\": {\"color\": \"#EBF0F8\"}, \"line\": {\"color\": \"white\"}}, \"header\": {\"fill\": {\"color\": \"#C8D4E3\"}, \"line\": {\"color\": \"white\"}}, \"type\": \"table\"}]}, \"layout\": {\"annotationdefaults\": {\"arrowcolor\": \"#2a3f5f\", \"arrowhead\": 0, \"arrowwidth\": 1}, \"colorscale\": {\"diverging\": [[0, \"#8e0152\"], [0.1, \"#c51b7d\"], [0.2, \"#de77ae\"], [0.3, \"#f1b6da\"], [0.4, \"#fde0ef\"], [0.5, \"#f7f7f7\"], [0.6, \"#e6f5d0\"], [0.7, \"#b8e186\"], [0.8, \"#7fbc41\"], [0.9, \"#4d9221\"], [1, \"#276419\"]], \"sequential\": [[0.0, \"#0d0887\"], [0.1111111111111111, \"#46039f\"], [0.2222222222222222, \"#7201a8\"], [0.3333333333333333, \"#9c179e\"], [0.4444444444444444, \"#bd3786\"], [0.5555555555555556, \"#d8576b\"], [0.6666666666666666, \"#ed7953\"], [0.7777777777777778, \"#fb9f3a\"], [0.8888888888888888, \"#fdca26\"], [1.0, \"#f0f921\"]], \"sequentialminus\": [[0.0, \"#0d0887\"], [0.1111111111111111, \"#46039f\"], [0.2222222222222222, \"#7201a8\"], [0.3333333333333333, \"#9c179e\"], [0.4444444444444444, \"#bd3786\"], [0.5555555555555556, \"#d8576b\"], [0.6666666666666666, \"#ed7953\"], [0.7777777777777778, \"#fb9f3a\"], [0.8888888888888888, \"#fdca26\"], [1.0, \"#f0f921\"]]}, \"colorway\": [\"#636efa\", \"#EF553B\", \"#00cc96\", \"#ab63fa\", \"#FFA15A\", \"#19d3f3\", \"#FF6692\", \"#B6E880\", \"#FF97FF\", \"#FECB52\"], \"font\": {\"color\": \"#2a3f5f\"}, \"geo\": {\"bgcolor\": \"white\", \"lakecolor\": \"white\", \"landcolor\": \"#E5ECF6\", \"showlakes\": true, \"showland\": true, \"subunitcolor\": \"white\"}, \"hoverlabel\": {\"align\": \"left\"}, \"hovermode\": \"closest\", \"mapbox\": {\"style\": \"light\"}, \"paper_bgcolor\": \"white\", \"plot_bgcolor\": \"#E5ECF6\", \"polar\": {\"angularaxis\": {\"gridcolor\": \"white\", \"linecolor\": \"white\", \"ticks\": \"\"}, \"bgcolor\": \"#E5ECF6\", \"radialaxis\": {\"gridcolor\": \"white\", \"linecolor\": \"white\", \"ticks\": \"\"}}, \"scene\": {\"xaxis\": {\"backgroundcolor\": \"#E5ECF6\", \"gridcolor\": \"white\", \"gridwidth\": 2, \"linecolor\": \"white\", \"showbackground\": true, \"ticks\": \"\", \"zerolinecolor\": \"white\"}, \"yaxis\": {\"backgroundcolor\": \"#E5ECF6\", \"gridcolor\": \"white\", \"gridwidth\": 2, \"linecolor\": \"white\", \"showbackground\": true, \"ticks\": \"\", \"zerolinecolor\": \"white\"}, \"zaxis\": {\"backgroundcolor\": \"#E5ECF6\", \"gridcolor\": \"white\", \"gridwidth\": 2, \"linecolor\": \"white\", \"showbackground\": true, \"ticks\": \"\", \"zerolinecolor\": \"white\"}}, \"shapedefaults\": {\"line\": {\"color\": \"#2a3f5f\"}}, \"ternary\": {\"aaxis\": {\"gridcolor\": \"white\", \"linecolor\": \"white\", \"ticks\": \"\"}, \"baxis\": {\"gridcolor\": \"white\", \"linecolor\": \"white\", \"ticks\": \"\"}, \"bgcolor\": \"#E5ECF6\", \"caxis\": {\"gridcolor\": \"white\", \"linecolor\": \"white\", \"ticks\": \"\"}}, \"title\": {\"x\": 0.05}, \"xaxis\": {\"automargin\": true, \"gridcolor\": \"white\", \"linecolor\": \"white\", \"ticks\": \"\", \"zerolinecolor\": \"white\", \"zerolinewidth\": 2}, \"yaxis\": {\"automargin\": true, \"gridcolor\": \"white\", \"linecolor\": \"white\", \"ticks\": \"\", \"zerolinecolor\": \"white\", \"zerolinewidth\": 2}}}, \"title\": {\"text\": \"Hist and Rug plots of accuracy distribution for various target loads\"}, \"xaxis\": {\"anchor\": \"y2\", \"domain\": [0.0, 1.0], \"title\": {\"text\": \"Accuracy distribution for target loads\"}, \"zeroline\": false}, \"yaxis\": {\"anchor\": \"free\", \"domain\": [0.35, 1], \"position\": 0.0, \"title\": {\"text\": \"Frequency\"}}, \"yaxis2\": {\"anchor\": \"x\", \"domain\": [0, 0.25], \"dtick\": 1, \"showticklabels\": false}},\n",
       "                        {\"responsive\": true}\n",
       "                    ).then(function(){\n",
       "                            \n",
       "var gd = document.getElementById('cc0338a7-1ec4-4fb8-b72c-8df7cc1de499');\n",
       "var x = new MutationObserver(function (mutations, observer) {{\n",
       "        var display = window.getComputedStyle(gd).display;\n",
       "        if (!display || display === 'none') {{\n",
       "            console.log([gd, 'removed!']);\n",
       "            Plotly.purge(gd);\n",
       "            observer.disconnect();\n",
       "        }}\n",
       "}});\n",
       "\n",
       "// Listen for the removal of the full notebook cells\n",
       "var notebookContainer = gd.closest('#notebook-container');\n",
       "if (notebookContainer) {{\n",
       "    x.observe(notebookContainer, {childList: true});\n",
       "}}\n",
       "\n",
       "// Listen for the clearing of the current output cell\n",
       "var outputEl = gd.closest('.output');\n",
       "if (outputEl) {{\n",
       "    x.observe(outputEl, {childList: true});\n",
       "}}\n",
       "\n",
       "                        })\n",
       "                };\n",
       "                });\n",
       "            </script>\n",
       "        </div>"
      ]
     },
     "metadata": {},
     "output_type": "display_data"
    }
   ],
   "source": [
    "sec1_trace = []\n",
    "for target in subject_data['num_targets'].unique().sort():\n",
    "    target_data = subject_data[subject_data['num_targets']==target]\n",
    "    #sec3_trace.append(go.Histogram(x = target_data['avg_accuracy'].to_numpy(),\n",
    "    #                             histnorm = 'percent', name='Target load: ' + str(target)))\n",
    "    sec1_trace.append(target_data['avg_accuracy'].to_numpy())\n",
    "\n",
    "group_labels = ['3','4','5','6','7','8']\n",
    "        \n",
    "fig = ff.create_distplot(sec1_trace,group_labels, curve_type='kde', bin_size = accuracy_data['std_acc'].to_numpy())\n",
    "\n",
    "\n",
    "fig['layout'].update(title='Hist and Rug plots of accuracy distribution for various target loads')\n",
    "fig['layout']['xaxis'].update(title='Accuracy distribution for target loads')\n",
    "fig['layout']['yaxis'].update(title='Frequency')\n",
    "\n",
    "iplot(fig, filename='histograms of accuracies for various target loads')  "
   ]
  },
  {
   "cell_type": "code",
   "execution_count": 8,
   "metadata": {},
   "outputs": [
    {
     "data": {
      "text/plain": [
       "50.0"
      ]
     },
     "execution_count": 8,
     "metadata": {},
     "output_type": "execute_result"
    }
   ],
   "source": [
    "len(subject_data)/6"
   ]
  },
  {
   "cell_type": "markdown",
   "metadata": {},
   "source": [
    "<a id = section 2></a>\n",
    "# [Consistencies in individual differences in the behavioral data](#section 2) \n",
    "\n",
    "In this section, we check whether the individual differences we observe are consistent across the individuals across conditions. We check for the consistencies in the following ways:\n",
    "\n",
    "* First, obtain the individual rankings of all the 50 participants by collapsing across 120 trials\n",
    "* Second, check if these rankings are consistent when the compared across target load sets [3,5,7] vs. [4,6,8]\n",
    "* Third, check if these rankings are consistent across speed conditions [2.8 8.4] vs. [5.6 11.2]\n"
   ]
  },
  {
   "cell_type": "markdown",
   "metadata": {},
   "source": [
    "## Obtain rankings of participants across the 120 trials"
   ]
  },
  {
   "cell_type": "code",
   "execution_count": 9,
   "metadata": {},
   "outputs": [
    {
     "data": {
      "text/html": [
       "<div style=\"max-height:1000px;max-width:1500px;overflow:auto;\"><table frame=\"box\" rules=\"cols\">\n",
       "    <tr>\n",
       "        <th style=\"padding-left: 1em; padding-right: 1em; text-align: center\">subject_Num</th>\n",
       "        <th style=\"padding-left: 1em; padding-right: 1em; text-align: center\">avg_accuracy</th>\n",
       "        <th style=\"padding-left: 1em; padding-right: 1em; text-align: center\">rank</th>\n",
       "    </tr>\n",
       "    <tr>\n",
       "        <td style=\"padding-left: 1em; padding-right: 1em; text-align: center; vertical-align: top\">101</td>\n",
       "        <td style=\"padding-left: 1em; padding-right: 1em; text-align: center; vertical-align: top\">0.7477083333333335</td>\n",
       "        <td style=\"padding-left: 1em; padding-right: 1em; text-align: center; vertical-align: top\">16</td>\n",
       "    </tr>\n",
       "    <tr>\n",
       "        <td style=\"padding-left: 1em; padding-right: 1em; text-align: center; vertical-align: top\">102</td>\n",
       "        <td style=\"padding-left: 1em; padding-right: 1em; text-align: center; vertical-align: top\">0.8009250000000003</td>\n",
       "        <td style=\"padding-left: 1em; padding-right: 1em; text-align: center; vertical-align: top\">2</td>\n",
       "    </tr>\n",
       "    <tr>\n",
       "        <td style=\"padding-left: 1em; padding-right: 1em; text-align: center; vertical-align: top\">103</td>\n",
       "        <td style=\"padding-left: 1em; padding-right: 1em; text-align: center; vertical-align: top\">0.7633583333333335</td>\n",
       "        <td style=\"padding-left: 1em; padding-right: 1em; text-align: center; vertical-align: top\">10</td>\n",
       "    </tr>\n",
       "    <tr>\n",
       "        <td style=\"padding-left: 1em; padding-right: 1em; text-align: center; vertical-align: top\">104</td>\n",
       "        <td style=\"padding-left: 1em; padding-right: 1em; text-align: center; vertical-align: top\">0.7680833333333337</td>\n",
       "        <td style=\"padding-left: 1em; padding-right: 1em; text-align: center; vertical-align: top\">8</td>\n",
       "    </tr>\n",
       "    <tr>\n",
       "        <td style=\"padding-left: 1em; padding-right: 1em; text-align: center; vertical-align: top\">105</td>\n",
       "        <td style=\"padding-left: 1em; padding-right: 1em; text-align: center; vertical-align: top\">0.6633083333333334</td>\n",
       "        <td style=\"padding-left: 1em; padding-right: 1em; text-align: center; vertical-align: top\">43</td>\n",
       "    </tr>\n",
       "    <tr>\n",
       "        <td style=\"padding-left: 1em; padding-right: 1em; text-align: center; vertical-align: top\">106</td>\n",
       "        <td style=\"padding-left: 1em; padding-right: 1em; text-align: center; vertical-align: top\">0.7353749999999998</td>\n",
       "        <td style=\"padding-left: 1em; padding-right: 1em; text-align: center; vertical-align: top\">23</td>\n",
       "    </tr>\n",
       "    <tr>\n",
       "        <td style=\"padding-left: 1em; padding-right: 1em; text-align: center; vertical-align: top\">107</td>\n",
       "        <td style=\"padding-left: 1em; padding-right: 1em; text-align: center; vertical-align: top\">0.7586166666666667</td>\n",
       "        <td style=\"padding-left: 1em; padding-right: 1em; text-align: center; vertical-align: top\">12</td>\n",
       "    </tr>\n",
       "    <tr>\n",
       "        <td style=\"padding-left: 1em; padding-right: 1em; text-align: center; vertical-align: top\">108</td>\n",
       "        <td style=\"padding-left: 1em; padding-right: 1em; text-align: center; vertical-align: top\">0.7548249999999999</td>\n",
       "        <td style=\"padding-left: 1em; padding-right: 1em; text-align: center; vertical-align: top\">14</td>\n",
       "    </tr>\n",
       "    <tr>\n",
       "        <td style=\"padding-left: 1em; padding-right: 1em; text-align: center; vertical-align: top\">109</td>\n",
       "        <td style=\"padding-left: 1em; padding-right: 1em; text-align: center; vertical-align: top\">0.7060833333333331</td>\n",
       "        <td style=\"padding-left: 1em; padding-right: 1em; text-align: center; vertical-align: top\">30</td>\n",
       "    </tr>\n",
       "    <tr>\n",
       "        <td style=\"padding-left: 1em; padding-right: 1em; text-align: center; vertical-align: top\">110</td>\n",
       "        <td style=\"padding-left: 1em; padding-right: 1em; text-align: center; vertical-align: top\">0.6245749999999994</td>\n",
       "        <td style=\"padding-left: 1em; padding-right: 1em; text-align: center; vertical-align: top\">48</td>\n",
       "    </tr>\n",
       "</table>\n",
       "[50 rows x 3 columns]<br/>Note: Only the head of the SFrame is printed.<br/>You can use print_rows(num_rows=m, num_columns=n) to print more rows and columns.\n",
       "</div>"
      ],
      "text/plain": [
       "Columns:\n",
       "\tsubject_Num\tint\n",
       "\tavg_accuracy\tfloat\n",
       "\trank\tint\n",
       "\n",
       "Rows: 50\n",
       "\n",
       "Data:\n",
       "+-------------+--------------------+------+\n",
       "| subject_Num |    avg_accuracy    | rank |\n",
       "+-------------+--------------------+------+\n",
       "|     101     | 0.7477083333333335 |  16  |\n",
       "|     102     | 0.8009250000000003 |  2   |\n",
       "|     103     | 0.7633583333333335 |  10  |\n",
       "|     104     | 0.7680833333333337 |  8   |\n",
       "|     105     | 0.6633083333333334 |  43  |\n",
       "|     106     | 0.7353749999999998 |  23  |\n",
       "|     107     | 0.7586166666666667 |  12  |\n",
       "|     108     | 0.7548249999999999 |  14  |\n",
       "|     109     | 0.7060833333333331 |  30  |\n",
       "|     110     | 0.6245749999999994 |  48  |\n",
       "+-------------+--------------------+------+\n",
       "[50 rows x 3 columns]\n",
       "Note: Only the head of the SFrame is printed.\n",
       "You can use print_rows(num_rows=m, num_columns=n) to print more rows and columns."
      ]
     },
     "execution_count": 9,
     "metadata": {},
     "output_type": "execute_result"
    }
   ],
   "source": [
    "individual_ranking = behavior_data.groupby('subject_Num',operations = {'avg_accuracy':agg.MEAN('accuracy')})\n",
    "individual_ranking = individual_ranking.sort('avg_accuracy',ascending=False)\n",
    "individual_ranking['rank'] = np.arange(1,len(individual_ranking)+1)\n",
    "individual_ranking = individual_ranking.sort('subject_Num')\n",
    "individual_ranking"
   ]
  },
  {
   "cell_type": "markdown",
   "metadata": {},
   "source": [
    "## Check for consistencies when compared across target load sets for these ranked individuals"
   ]
  },
  {
   "cell_type": "code",
   "execution_count": 17,
   "metadata": {
    "code_folding": [
     23,
     29
    ]
   },
   "outputs": [
    {
     "name": "stdout",
     "output_type": "stream",
     "text": [
      "0.5691466972120705\n"
     ]
    },
    {
     "data": {
      "application/vnd.plotly.v1+json": {
       "config": {
        "plotlyServerURL": "https://plot.ly"
       },
       "data": [
        {
         "marker": {
          "color": "gray",
          "line": {
           "color": "black",
           "width": 1.5
          },
          "opacity": 0.5,
          "size": 14
         },
         "mode": "markers+text",
         "showlegend": false,
         "text": [
          1,
          2,
          3,
          4,
          5,
          6,
          7,
          8,
          9,
          10,
          11,
          12,
          13,
          14,
          15,
          16,
          17,
          18,
          19,
          20,
          21,
          22,
          23,
          24,
          25,
          26,
          27,
          28,
          29,
          30,
          31,
          32,
          33,
          34,
          35,
          36,
          37,
          38,
          39,
          40,
          41,
          42,
          43,
          44,
          45,
          46,
          47,
          48,
          49,
          50
         ],
         "textfont": {
          "size": 9
         },
         "type": "scatter",
         "x": [
          0.9194444499999999,
          0.9125,
          0.9052777833333335,
          0.8944444500000003,
          0.85583335,
          0.9052777833333333,
          0.89444445,
          0.89445,
          0.8877777833333332,
          0.8852833333333333,
          0.8805555833333333,
          0.8603166666666666,
          0.8644444500000001,
          0.8697333333333332,
          0.8736111166666666,
          0.8391833333333335,
          0.8516666833333333,
          0.8580555666666668,
          0.8558333500000002,
          0.8441666833333333,
          0.8458333499999999,
          0.8591666833333332,
          0.8364000000000001,
          0.8577777833333334,
          0.8247222499999999,
          0.8388889000000002,
          0.8438888999999999,
          0.8483333500000001,
          0.8163889000000002,
          0.8069499999999998,
          0.8247222333333332,
          0.7988889166666667,
          0.8308333666666665,
          0.7833333666666666,
          0.7902778,
          0.8002777833333332,
          0.8027778,
          0.8011111333333336,
          0.79944445,
          0.8083333500000002,
          0.7713888999999999,
          0.8122222333333333,
          0.7536166666666666,
          0.7633333499999997,
          0.7305555999999999,
          0.7008333666666666,
          0.6911111500000001,
          0.7103,
          0.6705555499999999,
          0.6611111666666668
         ],
         "y": [
          0.6871032,
          0.6893499999999999,
          0.6923612000000001,
          0.6837302166666666,
          0.7018849833333334,
          0.6520833999999999,
          0.6594246166666667,
          0.641716666666667,
          0.6429563833333335,
          0.6414333333333334,
          0.6401786333333331,
          0.6569166666666667,
          0.65178575,
          0.6399166666666666,
          0.6231151000000003,
          0.6562333333333332,
          0.64216275,
          0.6327381666666666,
          0.62301595,
          0.6344246500000001,
          0.62708345,
          0.6126984499999998,
          0.6343499999999999,
          0.6003968666666664,
          0.6229167333333333,
          0.6059524333333334,
          0.6001985333333333,
          0.5935516833333333,
          0.6118055999999998,
          0.6052166666666665,
          0.5868056166666671,
          0.6085318166666669,
          0.5642857499999998,
          0.6089286666666668,
          0.6016865666666668,
          0.5845239166666665,
          0.5732143500000003,
          0.5706349333333331,
          0.5574405499999998,
          0.5415675166666666,
          0.5714286166666666,
          0.5279762166666667,
          0.5729999999999997,
          0.5456350000000002,
          0.5658730666666665,
          0.5911706833333334,
          0.56746035,
          0.5388499999999998,
          0.5627976333333332,
          0.5660715
         ]
        },
        {
         "line": {
          "color": "gray",
          "dash": "dash",
          "width": 3.5
         },
         "mode": "lines",
         "name": "$r^{2}_{partial} = 0.753$",
         "showlegend": false,
         "type": "scatter",
         "x": [
          0.6611111666666668,
          0.6637205937710439,
          0.666330020875421,
          0.6689394479797981,
          0.6715488750841752,
          0.6741583021885523,
          0.6767677292929294,
          0.6793771563973066,
          0.6819865835016836,
          0.6845960106060607,
          0.6872054377104378,
          0.6898148648148149,
          0.6924242919191921,
          0.6950337190235691,
          0.6976431461279462,
          0.7002525732323234,
          0.7028620003367004,
          0.7054714274410775,
          0.7080808545454547,
          0.7106902816498317,
          0.7132997087542088,
          0.715909135858586,
          0.718518562962963,
          0.7211279900673402,
          0.7237374171717172,
          0.7263468442760943,
          0.7289562713804715,
          0.7315656984848485,
          0.7341751255892257,
          0.7367845526936028,
          0.7393939797979798,
          0.742003406902357,
          0.7446128340067341,
          0.7472222611111111,
          0.7498316882154883,
          0.7524411153198654,
          0.7550505424242424,
          0.7576599695286196,
          0.7602693966329966,
          0.7628788237373738,
          0.7654882508417509,
          0.7680976779461279,
          0.7707071050505051,
          0.7733165321548822,
          0.7759259592592593,
          0.7785353863636364,
          0.7811448134680135,
          0.7837542405723906,
          0.7863636676767677,
          0.7889730947811449,
          0.7915825218855219,
          0.794191948989899,
          0.796801376094276,
          0.7994108031986532,
          0.8020202303030303,
          0.8046296574074074,
          0.8072390845117845,
          0.8098485116161616,
          0.8124579387205387,
          0.8150673658249158,
          0.817676792929293,
          0.82028622003367,
          0.8228956471380471,
          0.8255050742424241,
          0.8281145013468013,
          0.8307239284511785,
          0.8333333555555555,
          0.8359427826599326,
          0.8385522097643097,
          0.8411616368686868,
          0.8437710639730639,
          0.8463804910774411,
          0.8489899181818181,
          0.8515993452861952,
          0.8542087723905724,
          0.8568181994949494,
          0.8594276265993266,
          0.8620370537037036,
          0.8646464808080807,
          0.8672559079124578,
          0.8698653350168349,
          0.8724747621212121,
          0.8750841892255892,
          0.8776936163299662,
          0.8803030434343433,
          0.8829124705387205,
          0.8855218976430975,
          0.8881313247474747,
          0.8907407518518518,
          0.8933501789562288,
          0.895959606060606,
          0.898569033164983,
          0.9011784602693602,
          0.9037878873737373,
          0.9063973144781143,
          0.9090067415824914,
          0.9116161686868686,
          0.9142255957912457,
          0.9168350228956228,
          0.9194444499999999
         ],
         "y": [
          0.5271506331229343,
          0.5285086168428423,
          0.5298666005627504,
          0.5312245842826584,
          0.5325825680025663,
          0.5339405517224743,
          0.5352985354423824,
          0.5366565191622904,
          0.5380145028821984,
          0.5393724866021063,
          0.5407304703220145,
          0.5420884540419224,
          0.5434464377618305,
          0.5448044214817385,
          0.5461624052016465,
          0.5475203889215545,
          0.5488783726414626,
          0.5502363563613706,
          0.5515943400812786,
          0.5529523238011866,
          0.5543103075210947,
          0.5556682912410027,
          0.5570262749609107,
          0.5583842586808188,
          0.5597422424007268,
          0.5611002261206347,
          0.5624582098405428,
          0.5638161935604508,
          0.5651741772803589,
          0.5665321610002668,
          0.5678901447201748,
          0.5692481284400829,
          0.5706061121599909,
          0.5719640958798988,
          0.573322079599807,
          0.5746800633197149,
          0.5760380470396229,
          0.5773960307595309,
          0.578754014479439,
          0.580111998199347,
          0.581469981919255,
          0.5828279656391631,
          0.5841859493590711,
          0.5855439330789791,
          0.5869019167988871,
          0.5882599005187952,
          0.5896178842387032,
          0.5909758679586112,
          0.5923338516785193,
          0.5936918353984273,
          0.5950498191183353,
          0.5964078028382432,
          0.5977657865581513,
          0.5991237702780593,
          0.6004817539979673,
          0.6018397377178754,
          0.6031977214377834,
          0.6045557051576913,
          0.6059136888775993,
          0.6072716725975074,
          0.6086296563174154,
          0.6099876400373234,
          0.6113456237572314,
          0.6127036074771395,
          0.6140615911970475,
          0.6154195749169555,
          0.6167775586368636,
          0.6181355423567716,
          0.6194935260766796,
          0.6208515097965877,
          0.6222094935164957,
          0.6235674772364037,
          0.6249254609563117,
          0.6262834446762197,
          0.6276414283961278,
          0.6289994121160357,
          0.6303573958359439,
          0.6317153795558518,
          0.6330733632757597,
          0.6344313469956677,
          0.6357893307155758,
          0.6371473144354839,
          0.6385052981553918,
          0.6398632818752998,
          0.6412212655952079,
          0.6425792493151159,
          0.6439372330350239,
          0.645295216754932,
          0.64665320047484,
          0.648011184194748,
          0.649369167914656,
          0.6507271516345641,
          0.6520851353544721,
          0.6534431190743801,
          0.6548011027942882,
          0.6561590865141961,
          0.6575170702341042,
          0.6588750539540122,
          0.6602330376739203,
          0.6615910213938282
         ]
        }
       ],
       "layout": {
        "annotations": [
         {
          "showarrow": false,
          "text": "$r^{2} = 0.569^{*}$",
          "x": 0.75,
          "xref": "x",
          "y": 0.65,
          "yref": "y"
         }
        ],
        "font": {
         "size": 14
        },
        "height": 500,
        "plot_bgcolor": "rgba(0,0,0,0)",
        "template": {
         "data": {
          "bar": [
           {
            "error_x": {
             "color": "#2a3f5f"
            },
            "error_y": {
             "color": "#2a3f5f"
            },
            "marker": {
             "line": {
              "color": "#E5ECF6",
              "width": 0.5
             }
            },
            "type": "bar"
           }
          ],
          "barpolar": [
           {
            "marker": {
             "line": {
              "color": "#E5ECF6",
              "width": 0.5
             }
            },
            "type": "barpolar"
           }
          ],
          "carpet": [
           {
            "aaxis": {
             "endlinecolor": "#2a3f5f",
             "gridcolor": "white",
             "linecolor": "white",
             "minorgridcolor": "white",
             "startlinecolor": "#2a3f5f"
            },
            "baxis": {
             "endlinecolor": "#2a3f5f",
             "gridcolor": "white",
             "linecolor": "white",
             "minorgridcolor": "white",
             "startlinecolor": "#2a3f5f"
            },
            "type": "carpet"
           }
          ],
          "choropleth": [
           {
            "colorbar": {
             "outlinewidth": 0,
             "ticks": ""
            },
            "type": "choropleth"
           }
          ],
          "contour": [
           {
            "colorbar": {
             "outlinewidth": 0,
             "ticks": ""
            },
            "colorscale": [
             [
              0,
              "#0d0887"
             ],
             [
              0.1111111111111111,
              "#46039f"
             ],
             [
              0.2222222222222222,
              "#7201a8"
             ],
             [
              0.3333333333333333,
              "#9c179e"
             ],
             [
              0.4444444444444444,
              "#bd3786"
             ],
             [
              0.5555555555555556,
              "#d8576b"
             ],
             [
              0.6666666666666666,
              "#ed7953"
             ],
             [
              0.7777777777777778,
              "#fb9f3a"
             ],
             [
              0.8888888888888888,
              "#fdca26"
             ],
             [
              1,
              "#f0f921"
             ]
            ],
            "type": "contour"
           }
          ],
          "contourcarpet": [
           {
            "colorbar": {
             "outlinewidth": 0,
             "ticks": ""
            },
            "type": "contourcarpet"
           }
          ],
          "heatmap": [
           {
            "colorbar": {
             "outlinewidth": 0,
             "ticks": ""
            },
            "colorscale": [
             [
              0,
              "#0d0887"
             ],
             [
              0.1111111111111111,
              "#46039f"
             ],
             [
              0.2222222222222222,
              "#7201a8"
             ],
             [
              0.3333333333333333,
              "#9c179e"
             ],
             [
              0.4444444444444444,
              "#bd3786"
             ],
             [
              0.5555555555555556,
              "#d8576b"
             ],
             [
              0.6666666666666666,
              "#ed7953"
             ],
             [
              0.7777777777777778,
              "#fb9f3a"
             ],
             [
              0.8888888888888888,
              "#fdca26"
             ],
             [
              1,
              "#f0f921"
             ]
            ],
            "type": "heatmap"
           }
          ],
          "heatmapgl": [
           {
            "colorbar": {
             "outlinewidth": 0,
             "ticks": ""
            },
            "colorscale": [
             [
              0,
              "#0d0887"
             ],
             [
              0.1111111111111111,
              "#46039f"
             ],
             [
              0.2222222222222222,
              "#7201a8"
             ],
             [
              0.3333333333333333,
              "#9c179e"
             ],
             [
              0.4444444444444444,
              "#bd3786"
             ],
             [
              0.5555555555555556,
              "#d8576b"
             ],
             [
              0.6666666666666666,
              "#ed7953"
             ],
             [
              0.7777777777777778,
              "#fb9f3a"
             ],
             [
              0.8888888888888888,
              "#fdca26"
             ],
             [
              1,
              "#f0f921"
             ]
            ],
            "type": "heatmapgl"
           }
          ],
          "histogram": [
           {
            "marker": {
             "colorbar": {
              "outlinewidth": 0,
              "ticks": ""
             }
            },
            "type": "histogram"
           }
          ],
          "histogram2d": [
           {
            "colorbar": {
             "outlinewidth": 0,
             "ticks": ""
            },
            "colorscale": [
             [
              0,
              "#0d0887"
             ],
             [
              0.1111111111111111,
              "#46039f"
             ],
             [
              0.2222222222222222,
              "#7201a8"
             ],
             [
              0.3333333333333333,
              "#9c179e"
             ],
             [
              0.4444444444444444,
              "#bd3786"
             ],
             [
              0.5555555555555556,
              "#d8576b"
             ],
             [
              0.6666666666666666,
              "#ed7953"
             ],
             [
              0.7777777777777778,
              "#fb9f3a"
             ],
             [
              0.8888888888888888,
              "#fdca26"
             ],
             [
              1,
              "#f0f921"
             ]
            ],
            "type": "histogram2d"
           }
          ],
          "histogram2dcontour": [
           {
            "colorbar": {
             "outlinewidth": 0,
             "ticks": ""
            },
            "colorscale": [
             [
              0,
              "#0d0887"
             ],
             [
              0.1111111111111111,
              "#46039f"
             ],
             [
              0.2222222222222222,
              "#7201a8"
             ],
             [
              0.3333333333333333,
              "#9c179e"
             ],
             [
              0.4444444444444444,
              "#bd3786"
             ],
             [
              0.5555555555555556,
              "#d8576b"
             ],
             [
              0.6666666666666666,
              "#ed7953"
             ],
             [
              0.7777777777777778,
              "#fb9f3a"
             ],
             [
              0.8888888888888888,
              "#fdca26"
             ],
             [
              1,
              "#f0f921"
             ]
            ],
            "type": "histogram2dcontour"
           }
          ],
          "mesh3d": [
           {
            "colorbar": {
             "outlinewidth": 0,
             "ticks": ""
            },
            "type": "mesh3d"
           }
          ],
          "parcoords": [
           {
            "line": {
             "colorbar": {
              "outlinewidth": 0,
              "ticks": ""
             }
            },
            "type": "parcoords"
           }
          ],
          "scatter": [
           {
            "marker": {
             "colorbar": {
              "outlinewidth": 0,
              "ticks": ""
             }
            },
            "type": "scatter"
           }
          ],
          "scatter3d": [
           {
            "line": {
             "colorbar": {
              "outlinewidth": 0,
              "ticks": ""
             }
            },
            "marker": {
             "colorbar": {
              "outlinewidth": 0,
              "ticks": ""
             }
            },
            "type": "scatter3d"
           }
          ],
          "scattercarpet": [
           {
            "marker": {
             "colorbar": {
              "outlinewidth": 0,
              "ticks": ""
             }
            },
            "type": "scattercarpet"
           }
          ],
          "scattergeo": [
           {
            "marker": {
             "colorbar": {
              "outlinewidth": 0,
              "ticks": ""
             }
            },
            "type": "scattergeo"
           }
          ],
          "scattergl": [
           {
            "marker": {
             "colorbar": {
              "outlinewidth": 0,
              "ticks": ""
             }
            },
            "type": "scattergl"
           }
          ],
          "scattermapbox": [
           {
            "marker": {
             "colorbar": {
              "outlinewidth": 0,
              "ticks": ""
             }
            },
            "type": "scattermapbox"
           }
          ],
          "scatterpolar": [
           {
            "marker": {
             "colorbar": {
              "outlinewidth": 0,
              "ticks": ""
             }
            },
            "type": "scatterpolar"
           }
          ],
          "scatterpolargl": [
           {
            "marker": {
             "colorbar": {
              "outlinewidth": 0,
              "ticks": ""
             }
            },
            "type": "scatterpolargl"
           }
          ],
          "scatterternary": [
           {
            "marker": {
             "colorbar": {
              "outlinewidth": 0,
              "ticks": ""
             }
            },
            "type": "scatterternary"
           }
          ],
          "surface": [
           {
            "colorbar": {
             "outlinewidth": 0,
             "ticks": ""
            },
            "colorscale": [
             [
              0,
              "#0d0887"
             ],
             [
              0.1111111111111111,
              "#46039f"
             ],
             [
              0.2222222222222222,
              "#7201a8"
             ],
             [
              0.3333333333333333,
              "#9c179e"
             ],
             [
              0.4444444444444444,
              "#bd3786"
             ],
             [
              0.5555555555555556,
              "#d8576b"
             ],
             [
              0.6666666666666666,
              "#ed7953"
             ],
             [
              0.7777777777777778,
              "#fb9f3a"
             ],
             [
              0.8888888888888888,
              "#fdca26"
             ],
             [
              1,
              "#f0f921"
             ]
            ],
            "type": "surface"
           }
          ],
          "table": [
           {
            "cells": {
             "fill": {
              "color": "#EBF0F8"
             },
             "line": {
              "color": "white"
             }
            },
            "header": {
             "fill": {
              "color": "#C8D4E3"
             },
             "line": {
              "color": "white"
             }
            },
            "type": "table"
           }
          ]
         },
         "layout": {
          "annotationdefaults": {
           "arrowcolor": "#2a3f5f",
           "arrowhead": 0,
           "arrowwidth": 1
          },
          "colorscale": {
           "diverging": [
            [
             0,
             "#8e0152"
            ],
            [
             0.1,
             "#c51b7d"
            ],
            [
             0.2,
             "#de77ae"
            ],
            [
             0.3,
             "#f1b6da"
            ],
            [
             0.4,
             "#fde0ef"
            ],
            [
             0.5,
             "#f7f7f7"
            ],
            [
             0.6,
             "#e6f5d0"
            ],
            [
             0.7,
             "#b8e186"
            ],
            [
             0.8,
             "#7fbc41"
            ],
            [
             0.9,
             "#4d9221"
            ],
            [
             1,
             "#276419"
            ]
           ],
           "sequential": [
            [
             0,
             "#0d0887"
            ],
            [
             0.1111111111111111,
             "#46039f"
            ],
            [
             0.2222222222222222,
             "#7201a8"
            ],
            [
             0.3333333333333333,
             "#9c179e"
            ],
            [
             0.4444444444444444,
             "#bd3786"
            ],
            [
             0.5555555555555556,
             "#d8576b"
            ],
            [
             0.6666666666666666,
             "#ed7953"
            ],
            [
             0.7777777777777778,
             "#fb9f3a"
            ],
            [
             0.8888888888888888,
             "#fdca26"
            ],
            [
             1,
             "#f0f921"
            ]
           ],
           "sequentialminus": [
            [
             0,
             "#0d0887"
            ],
            [
             0.1111111111111111,
             "#46039f"
            ],
            [
             0.2222222222222222,
             "#7201a8"
            ],
            [
             0.3333333333333333,
             "#9c179e"
            ],
            [
             0.4444444444444444,
             "#bd3786"
            ],
            [
             0.5555555555555556,
             "#d8576b"
            ],
            [
             0.6666666666666666,
             "#ed7953"
            ],
            [
             0.7777777777777778,
             "#fb9f3a"
            ],
            [
             0.8888888888888888,
             "#fdca26"
            ],
            [
             1,
             "#f0f921"
            ]
           ]
          },
          "colorway": [
           "#636efa",
           "#EF553B",
           "#00cc96",
           "#ab63fa",
           "#FFA15A",
           "#19d3f3",
           "#FF6692",
           "#B6E880",
           "#FF97FF",
           "#FECB52"
          ],
          "font": {
           "color": "#2a3f5f"
          },
          "geo": {
           "bgcolor": "white",
           "lakecolor": "white",
           "landcolor": "#E5ECF6",
           "showlakes": true,
           "showland": true,
           "subunitcolor": "white"
          },
          "hoverlabel": {
           "align": "left"
          },
          "hovermode": "closest",
          "mapbox": {
           "style": "light"
          },
          "paper_bgcolor": "white",
          "plot_bgcolor": "#E5ECF6",
          "polar": {
           "angularaxis": {
            "gridcolor": "white",
            "linecolor": "white",
            "ticks": ""
           },
           "bgcolor": "#E5ECF6",
           "radialaxis": {
            "gridcolor": "white",
            "linecolor": "white",
            "ticks": ""
           }
          },
          "scene": {
           "xaxis": {
            "backgroundcolor": "#E5ECF6",
            "gridcolor": "white",
            "gridwidth": 2,
            "linecolor": "white",
            "showbackground": true,
            "ticks": "",
            "zerolinecolor": "white"
           },
           "yaxis": {
            "backgroundcolor": "#E5ECF6",
            "gridcolor": "white",
            "gridwidth": 2,
            "linecolor": "white",
            "showbackground": true,
            "ticks": "",
            "zerolinecolor": "white"
           },
           "zaxis": {
            "backgroundcolor": "#E5ECF6",
            "gridcolor": "white",
            "gridwidth": 2,
            "linecolor": "white",
            "showbackground": true,
            "ticks": "",
            "zerolinecolor": "white"
           }
          },
          "shapedefaults": {
           "line": {
            "color": "#2a3f5f"
           }
          },
          "ternary": {
           "aaxis": {
            "gridcolor": "white",
            "linecolor": "white",
            "ticks": ""
           },
           "baxis": {
            "gridcolor": "white",
            "linecolor": "white",
            "ticks": ""
           },
           "bgcolor": "#E5ECF6",
           "caxis": {
            "gridcolor": "white",
            "linecolor": "white",
            "ticks": ""
           }
          },
          "title": {
           "x": 0.05
          },
          "xaxis": {
           "automargin": true,
           "gridcolor": "white",
           "linecolor": "white",
           "ticks": "",
           "zerolinecolor": "white",
           "zerolinewidth": 2
          },
          "yaxis": {
           "automargin": true,
           "gridcolor": "white",
           "linecolor": "white",
           "ticks": "",
           "zerolinecolor": "white",
           "zerolinewidth": 2
          }
         }
        },
        "title": {
         "text": ""
        },
        "width": 500,
        "xaxis": {
         "gridcolor": "#DFDFDF",
         "gridwidth": 1.5,
         "linecolor": "#AFAFAF",
         "linewidth": 2,
         "nticks": 8,
         "range": [
          0.65,
          0.95
         ],
         "showgrid": true,
         "showline": true,
         "title": {
          "text": "accuracy in lower target loads"
         },
         "zeroline": true,
         "zerolinecolor": "#AFAFAF",
         "zerolinewidth": 2.5
        },
        "yaxis": {
         "gridcolor": "#DFDFDF",
         "gridwidth": 1.5,
         "linecolor": "#AFAFAF",
         "linewidth": 2,
         "nticks": 8,
         "showgrid": true,
         "showline": true,
         "title": {
          "text": "accuracy in higher target loads"
         },
         "zeroline": true,
         "zerolinecolor": "#AFAFAF",
         "zerolinewidth": 2.5
        }
       }
      },
      "text/html": [
       "<div>\n",
       "        \n",
       "        \n",
       "            <div id=\"2742d974-50c1-4892-9233-e8a8de4e79e3\" class=\"plotly-graph-div\" style=\"height:500px; width:500px;\"></div>\n",
       "            <script type=\"text/javascript\">\n",
       "                require([\"plotly\"], function(Plotly) {\n",
       "                    window.PLOTLYENV=window.PLOTLYENV || {};\n",
       "                    \n",
       "                if (document.getElementById(\"2742d974-50c1-4892-9233-e8a8de4e79e3\")) {\n",
       "                    Plotly.newPlot(\n",
       "                        '2742d974-50c1-4892-9233-e8a8de4e79e3',\n",
       "                        [{\"marker\": {\"color\": \"gray\", \"line\": {\"color\": \"black\", \"width\": 1.5}, \"opacity\": 0.5, \"size\": 14}, \"mode\": \"markers+text\", \"showlegend\": false, \"text\": [1.0, 2.0, 3.0, 4.0, 5.0, 6.0, 7.0, 8.0, 9.0, 10.0, 11.0, 12.0, 13.0, 14.0, 15.0, 16.0, 17.0, 18.0, 19.0, 20.0, 21.0, 22.0, 23.0, 24.0, 25.0, 26.0, 27.0, 28.0, 29.0, 30.0, 31.0, 32.0, 33.0, 34.0, 35.0, 36.0, 37.0, 38.0, 39.0, 40.0, 41.0, 42.0, 43.0, 44.0, 45.0, 46.0, 47.0, 48.0, 49.0, 50.0], \"textfont\": {\"size\": 9}, \"type\": \"scatter\", \"x\": [0.9194444499999999, 0.9125, 0.9052777833333335, 0.8944444500000003, 0.85583335, 0.9052777833333333, 0.89444445, 0.89445, 0.8877777833333332, 0.8852833333333333, 0.8805555833333333, 0.8603166666666666, 0.8644444500000001, 0.8697333333333332, 0.8736111166666666, 0.8391833333333335, 0.8516666833333333, 0.8580555666666668, 0.8558333500000002, 0.8441666833333333, 0.8458333499999999, 0.8591666833333332, 0.8364000000000001, 0.8577777833333334, 0.8247222499999999, 0.8388889000000002, 0.8438888999999999, 0.8483333500000001, 0.8163889000000002, 0.8069499999999998, 0.8247222333333332, 0.7988889166666667, 0.8308333666666665, 0.7833333666666666, 0.7902778, 0.8002777833333332, 0.8027778, 0.8011111333333336, 0.79944445, 0.8083333500000002, 0.7713888999999999, 0.8122222333333333, 0.7536166666666666, 0.7633333499999997, 0.7305555999999999, 0.7008333666666666, 0.6911111500000001, 0.7103, 0.6705555499999999, 0.6611111666666668], \"y\": [0.6871032, 0.6893499999999999, 0.6923612000000001, 0.6837302166666666, 0.7018849833333334, 0.6520833999999999, 0.6594246166666667, 0.641716666666667, 0.6429563833333335, 0.6414333333333334, 0.6401786333333331, 0.6569166666666667, 0.65178575, 0.6399166666666666, 0.6231151000000003, 0.6562333333333332, 0.64216275, 0.6327381666666666, 0.62301595, 0.6344246500000001, 0.62708345, 0.6126984499999998, 0.6343499999999999, 0.6003968666666664, 0.6229167333333333, 0.6059524333333334, 0.6001985333333333, 0.5935516833333333, 0.6118055999999998, 0.6052166666666665, 0.5868056166666671, 0.6085318166666669, 0.5642857499999998, 0.6089286666666668, 0.6016865666666668, 0.5845239166666665, 0.5732143500000003, 0.5706349333333331, 0.5574405499999998, 0.5415675166666666, 0.5714286166666666, 0.5279762166666667, 0.5729999999999997, 0.5456350000000002, 0.5658730666666665, 0.5911706833333334, 0.56746035, 0.5388499999999998, 0.5627976333333332, 0.5660715]}, {\"line\": {\"color\": \"gray\", \"dash\": \"dash\", \"width\": 3.5}, \"mode\": \"lines\", \"name\": \"$r^{2}_{partial} = 0.753$\", \"showlegend\": false, \"type\": \"scatter\", \"x\": [0.6611111666666668, 0.6637205937710439, 0.666330020875421, 0.6689394479797981, 0.6715488750841752, 0.6741583021885523, 0.6767677292929294, 0.6793771563973066, 0.6819865835016836, 0.6845960106060607, 0.6872054377104378, 0.6898148648148149, 0.6924242919191921, 0.6950337190235691, 0.6976431461279462, 0.7002525732323234, 0.7028620003367004, 0.7054714274410775, 0.7080808545454547, 0.7106902816498317, 0.7132997087542088, 0.715909135858586, 0.718518562962963, 0.7211279900673402, 0.7237374171717172, 0.7263468442760943, 0.7289562713804715, 0.7315656984848485, 0.7341751255892257, 0.7367845526936028, 0.7393939797979798, 0.742003406902357, 0.7446128340067341, 0.7472222611111111, 0.7498316882154883, 0.7524411153198654, 0.7550505424242424, 0.7576599695286196, 0.7602693966329966, 0.7628788237373738, 0.7654882508417509, 0.7680976779461279, 0.7707071050505051, 0.7733165321548822, 0.7759259592592593, 0.7785353863636364, 0.7811448134680135, 0.7837542405723906, 0.7863636676767677, 0.7889730947811449, 0.7915825218855219, 0.794191948989899, 0.796801376094276, 0.7994108031986532, 0.8020202303030303, 0.8046296574074074, 0.8072390845117845, 0.8098485116161616, 0.8124579387205387, 0.8150673658249158, 0.817676792929293, 0.82028622003367, 0.8228956471380471, 0.8255050742424241, 0.8281145013468013, 0.8307239284511785, 0.8333333555555555, 0.8359427826599326, 0.8385522097643097, 0.8411616368686868, 0.8437710639730639, 0.8463804910774411, 0.8489899181818181, 0.8515993452861952, 0.8542087723905724, 0.8568181994949494, 0.8594276265993266, 0.8620370537037036, 0.8646464808080807, 0.8672559079124578, 0.8698653350168349, 0.8724747621212121, 0.8750841892255892, 0.8776936163299662, 0.8803030434343433, 0.8829124705387205, 0.8855218976430975, 0.8881313247474747, 0.8907407518518518, 0.8933501789562288, 0.895959606060606, 0.898569033164983, 0.9011784602693602, 0.9037878873737373, 0.9063973144781143, 0.9090067415824914, 0.9116161686868686, 0.9142255957912457, 0.9168350228956228, 0.9194444499999999], \"y\": [0.5271506331229343, 0.5285086168428423, 0.5298666005627504, 0.5312245842826584, 0.5325825680025663, 0.5339405517224743, 0.5352985354423824, 0.5366565191622904, 0.5380145028821984, 0.5393724866021063, 0.5407304703220145, 0.5420884540419224, 0.5434464377618305, 0.5448044214817385, 0.5461624052016465, 0.5475203889215545, 0.5488783726414626, 0.5502363563613706, 0.5515943400812786, 0.5529523238011866, 0.5543103075210947, 0.5556682912410027, 0.5570262749609107, 0.5583842586808188, 0.5597422424007268, 0.5611002261206347, 0.5624582098405428, 0.5638161935604508, 0.5651741772803589, 0.5665321610002668, 0.5678901447201748, 0.5692481284400829, 0.5706061121599909, 0.5719640958798988, 0.573322079599807, 0.5746800633197149, 0.5760380470396229, 0.5773960307595309, 0.578754014479439, 0.580111998199347, 0.581469981919255, 0.5828279656391631, 0.5841859493590711, 0.5855439330789791, 0.5869019167988871, 0.5882599005187952, 0.5896178842387032, 0.5909758679586112, 0.5923338516785193, 0.5936918353984273, 0.5950498191183353, 0.5964078028382432, 0.5977657865581513, 0.5991237702780593, 0.6004817539979673, 0.6018397377178754, 0.6031977214377834, 0.6045557051576913, 0.6059136888775993, 0.6072716725975074, 0.6086296563174154, 0.6099876400373234, 0.6113456237572314, 0.6127036074771395, 0.6140615911970475, 0.6154195749169555, 0.6167775586368636, 0.6181355423567716, 0.6194935260766796, 0.6208515097965877, 0.6222094935164957, 0.6235674772364037, 0.6249254609563117, 0.6262834446762197, 0.6276414283961278, 0.6289994121160357, 0.6303573958359439, 0.6317153795558518, 0.6330733632757597, 0.6344313469956677, 0.6357893307155758, 0.6371473144354839, 0.6385052981553918, 0.6398632818752998, 0.6412212655952079, 0.6425792493151159, 0.6439372330350239, 0.645295216754932, 0.64665320047484, 0.648011184194748, 0.649369167914656, 0.6507271516345641, 0.6520851353544721, 0.6534431190743801, 0.6548011027942882, 0.6561590865141961, 0.6575170702341042, 0.6588750539540122, 0.6602330376739203, 0.6615910213938282]}],\n",
       "                        {\"annotations\": [{\"showarrow\": false, \"text\": \"$r^{2} = 0.569^{*}$\", \"x\": 0.75, \"xref\": \"x\", \"y\": 0.65, \"yref\": \"y\"}], \"font\": {\"size\": 14}, \"height\": 500, \"plot_bgcolor\": \"rgba(0,0,0,0)\", \"template\": {\"data\": {\"bar\": [{\"error_x\": {\"color\": \"#2a3f5f\"}, \"error_y\": {\"color\": \"#2a3f5f\"}, \"marker\": {\"line\": {\"color\": \"#E5ECF6\", \"width\": 0.5}}, \"type\": \"bar\"}], \"barpolar\": [{\"marker\": {\"line\": {\"color\": \"#E5ECF6\", \"width\": 0.5}}, \"type\": \"barpolar\"}], \"carpet\": [{\"aaxis\": {\"endlinecolor\": \"#2a3f5f\", \"gridcolor\": \"white\", \"linecolor\": \"white\", \"minorgridcolor\": \"white\", \"startlinecolor\": \"#2a3f5f\"}, \"baxis\": {\"endlinecolor\": \"#2a3f5f\", \"gridcolor\": \"white\", \"linecolor\": \"white\", \"minorgridcolor\": \"white\", \"startlinecolor\": \"#2a3f5f\"}, \"type\": \"carpet\"}], \"choropleth\": [{\"colorbar\": {\"outlinewidth\": 0, \"ticks\": \"\"}, \"type\": \"choropleth\"}], \"contour\": [{\"colorbar\": {\"outlinewidth\": 0, \"ticks\": \"\"}, \"colorscale\": [[0.0, \"#0d0887\"], [0.1111111111111111, \"#46039f\"], [0.2222222222222222, \"#7201a8\"], [0.3333333333333333, \"#9c179e\"], [0.4444444444444444, \"#bd3786\"], [0.5555555555555556, \"#d8576b\"], [0.6666666666666666, \"#ed7953\"], [0.7777777777777778, \"#fb9f3a\"], [0.8888888888888888, \"#fdca26\"], [1.0, \"#f0f921\"]], \"type\": \"contour\"}], \"contourcarpet\": [{\"colorbar\": {\"outlinewidth\": 0, \"ticks\": \"\"}, \"type\": \"contourcarpet\"}], \"heatmap\": [{\"colorbar\": {\"outlinewidth\": 0, \"ticks\": \"\"}, \"colorscale\": [[0.0, \"#0d0887\"], [0.1111111111111111, \"#46039f\"], [0.2222222222222222, \"#7201a8\"], [0.3333333333333333, \"#9c179e\"], [0.4444444444444444, \"#bd3786\"], [0.5555555555555556, \"#d8576b\"], [0.6666666666666666, \"#ed7953\"], [0.7777777777777778, \"#fb9f3a\"], [0.8888888888888888, \"#fdca26\"], [1.0, \"#f0f921\"]], \"type\": \"heatmap\"}], \"heatmapgl\": [{\"colorbar\": {\"outlinewidth\": 0, \"ticks\": \"\"}, \"colorscale\": [[0.0, \"#0d0887\"], [0.1111111111111111, \"#46039f\"], [0.2222222222222222, \"#7201a8\"], [0.3333333333333333, \"#9c179e\"], [0.4444444444444444, \"#bd3786\"], [0.5555555555555556, \"#d8576b\"], [0.6666666666666666, \"#ed7953\"], [0.7777777777777778, \"#fb9f3a\"], [0.8888888888888888, \"#fdca26\"], [1.0, \"#f0f921\"]], \"type\": \"heatmapgl\"}], \"histogram\": [{\"marker\": {\"colorbar\": {\"outlinewidth\": 0, \"ticks\": \"\"}}, \"type\": \"histogram\"}], \"histogram2d\": [{\"colorbar\": {\"outlinewidth\": 0, \"ticks\": \"\"}, \"colorscale\": [[0.0, \"#0d0887\"], [0.1111111111111111, \"#46039f\"], [0.2222222222222222, \"#7201a8\"], [0.3333333333333333, \"#9c179e\"], [0.4444444444444444, \"#bd3786\"], [0.5555555555555556, \"#d8576b\"], [0.6666666666666666, \"#ed7953\"], [0.7777777777777778, \"#fb9f3a\"], [0.8888888888888888, \"#fdca26\"], [1.0, \"#f0f921\"]], \"type\": \"histogram2d\"}], \"histogram2dcontour\": [{\"colorbar\": {\"outlinewidth\": 0, \"ticks\": \"\"}, \"colorscale\": [[0.0, \"#0d0887\"], [0.1111111111111111, \"#46039f\"], [0.2222222222222222, \"#7201a8\"], [0.3333333333333333, \"#9c179e\"], [0.4444444444444444, \"#bd3786\"], [0.5555555555555556, \"#d8576b\"], [0.6666666666666666, \"#ed7953\"], [0.7777777777777778, \"#fb9f3a\"], [0.8888888888888888, \"#fdca26\"], [1.0, \"#f0f921\"]], \"type\": \"histogram2dcontour\"}], \"mesh3d\": [{\"colorbar\": {\"outlinewidth\": 0, \"ticks\": \"\"}, \"type\": \"mesh3d\"}], \"parcoords\": [{\"line\": {\"colorbar\": {\"outlinewidth\": 0, \"ticks\": \"\"}}, \"type\": \"parcoords\"}], \"scatter\": [{\"marker\": {\"colorbar\": {\"outlinewidth\": 0, \"ticks\": \"\"}}, \"type\": \"scatter\"}], \"scatter3d\": [{\"line\": {\"colorbar\": {\"outlinewidth\": 0, \"ticks\": \"\"}}, \"marker\": {\"colorbar\": {\"outlinewidth\": 0, \"ticks\": \"\"}}, \"type\": \"scatter3d\"}], \"scattercarpet\": [{\"marker\": {\"colorbar\": {\"outlinewidth\": 0, \"ticks\": \"\"}}, \"type\": \"scattercarpet\"}], \"scattergeo\": [{\"marker\": {\"colorbar\": {\"outlinewidth\": 0, \"ticks\": \"\"}}, \"type\": \"scattergeo\"}], \"scattergl\": [{\"marker\": {\"colorbar\": {\"outlinewidth\": 0, \"ticks\": \"\"}}, \"type\": \"scattergl\"}], \"scattermapbox\": [{\"marker\": {\"colorbar\": {\"outlinewidth\": 0, \"ticks\": \"\"}}, \"type\": \"scattermapbox\"}], \"scatterpolar\": [{\"marker\": {\"colorbar\": {\"outlinewidth\": 0, \"ticks\": \"\"}}, \"type\": \"scatterpolar\"}], \"scatterpolargl\": [{\"marker\": {\"colorbar\": {\"outlinewidth\": 0, \"ticks\": \"\"}}, \"type\": \"scatterpolargl\"}], \"scatterternary\": [{\"marker\": {\"colorbar\": {\"outlinewidth\": 0, \"ticks\": \"\"}}, \"type\": \"scatterternary\"}], \"surface\": [{\"colorbar\": {\"outlinewidth\": 0, \"ticks\": \"\"}, \"colorscale\": [[0.0, \"#0d0887\"], [0.1111111111111111, \"#46039f\"], [0.2222222222222222, \"#7201a8\"], [0.3333333333333333, \"#9c179e\"], [0.4444444444444444, \"#bd3786\"], [0.5555555555555556, \"#d8576b\"], [0.6666666666666666, \"#ed7953\"], [0.7777777777777778, \"#fb9f3a\"], [0.8888888888888888, \"#fdca26\"], [1.0, \"#f0f921\"]], \"type\": \"surface\"}], \"table\": [{\"cells\": {\"fill\": {\"color\": \"#EBF0F8\"}, \"line\": {\"color\": \"white\"}}, \"header\": {\"fill\": {\"color\": \"#C8D4E3\"}, \"line\": {\"color\": \"white\"}}, \"type\": \"table\"}]}, \"layout\": {\"annotationdefaults\": {\"arrowcolor\": \"#2a3f5f\", \"arrowhead\": 0, \"arrowwidth\": 1}, \"colorscale\": {\"diverging\": [[0, \"#8e0152\"], [0.1, \"#c51b7d\"], [0.2, \"#de77ae\"], [0.3, \"#f1b6da\"], [0.4, \"#fde0ef\"], [0.5, \"#f7f7f7\"], [0.6, \"#e6f5d0\"], [0.7, \"#b8e186\"], [0.8, \"#7fbc41\"], [0.9, \"#4d9221\"], [1, \"#276419\"]], \"sequential\": [[0.0, \"#0d0887\"], [0.1111111111111111, \"#46039f\"], [0.2222222222222222, \"#7201a8\"], [0.3333333333333333, \"#9c179e\"], [0.4444444444444444, \"#bd3786\"], [0.5555555555555556, \"#d8576b\"], [0.6666666666666666, \"#ed7953\"], [0.7777777777777778, \"#fb9f3a\"], [0.8888888888888888, \"#fdca26\"], [1.0, \"#f0f921\"]], \"sequentialminus\": [[0.0, \"#0d0887\"], [0.1111111111111111, \"#46039f\"], [0.2222222222222222, \"#7201a8\"], [0.3333333333333333, \"#9c179e\"], [0.4444444444444444, \"#bd3786\"], [0.5555555555555556, \"#d8576b\"], [0.6666666666666666, \"#ed7953\"], [0.7777777777777778, \"#fb9f3a\"], [0.8888888888888888, \"#fdca26\"], [1.0, \"#f0f921\"]]}, \"colorway\": [\"#636efa\", \"#EF553B\", \"#00cc96\", \"#ab63fa\", \"#FFA15A\", \"#19d3f3\", \"#FF6692\", \"#B6E880\", \"#FF97FF\", \"#FECB52\"], \"font\": {\"color\": \"#2a3f5f\"}, \"geo\": {\"bgcolor\": \"white\", \"lakecolor\": \"white\", \"landcolor\": \"#E5ECF6\", \"showlakes\": true, \"showland\": true, \"subunitcolor\": \"white\"}, \"hoverlabel\": {\"align\": \"left\"}, \"hovermode\": \"closest\", \"mapbox\": {\"style\": \"light\"}, \"paper_bgcolor\": \"white\", \"plot_bgcolor\": \"#E5ECF6\", \"polar\": {\"angularaxis\": {\"gridcolor\": \"white\", \"linecolor\": \"white\", \"ticks\": \"\"}, \"bgcolor\": \"#E5ECF6\", \"radialaxis\": {\"gridcolor\": \"white\", \"linecolor\": \"white\", \"ticks\": \"\"}}, \"scene\": {\"xaxis\": {\"backgroundcolor\": \"#E5ECF6\", \"gridcolor\": \"white\", \"gridwidth\": 2, \"linecolor\": \"white\", \"showbackground\": true, \"ticks\": \"\", \"zerolinecolor\": \"white\"}, \"yaxis\": {\"backgroundcolor\": \"#E5ECF6\", \"gridcolor\": \"white\", \"gridwidth\": 2, \"linecolor\": \"white\", \"showbackground\": true, \"ticks\": \"\", \"zerolinecolor\": \"white\"}, \"zaxis\": {\"backgroundcolor\": \"#E5ECF6\", \"gridcolor\": \"white\", \"gridwidth\": 2, \"linecolor\": \"white\", \"showbackground\": true, \"ticks\": \"\", \"zerolinecolor\": \"white\"}}, \"shapedefaults\": {\"line\": {\"color\": \"#2a3f5f\"}}, \"ternary\": {\"aaxis\": {\"gridcolor\": \"white\", \"linecolor\": \"white\", \"ticks\": \"\"}, \"baxis\": {\"gridcolor\": \"white\", \"linecolor\": \"white\", \"ticks\": \"\"}, \"bgcolor\": \"#E5ECF6\", \"caxis\": {\"gridcolor\": \"white\", \"linecolor\": \"white\", \"ticks\": \"\"}}, \"title\": {\"x\": 0.05}, \"xaxis\": {\"automargin\": true, \"gridcolor\": \"white\", \"linecolor\": \"white\", \"ticks\": \"\", \"zerolinecolor\": \"white\", \"zerolinewidth\": 2}, \"yaxis\": {\"automargin\": true, \"gridcolor\": \"white\", \"linecolor\": \"white\", \"ticks\": \"\", \"zerolinecolor\": \"white\", \"zerolinewidth\": 2}}}, \"title\": {\"text\": \"\"}, \"width\": 500, \"xaxis\": {\"gridcolor\": \"#DFDFDF\", \"gridwidth\": 1.5, \"linecolor\": \"#AFAFAF\", \"linewidth\": 2, \"nticks\": 8, \"range\": [0.65, 0.95], \"showgrid\": true, \"showline\": true, \"title\": {\"text\": \"accuracy in lower target loads\"}, \"zeroline\": true, \"zerolinecolor\": \"#AFAFAF\", \"zerolinewidth\": 2.5}, \"yaxis\": {\"gridcolor\": \"#DFDFDF\", \"gridwidth\": 1.5, \"linecolor\": \"#AFAFAF\", \"linewidth\": 2, \"nticks\": 8, \"showgrid\": true, \"showline\": true, \"title\": {\"text\": \"accuracy in higher target loads\"}, \"zeroline\": true, \"zerolinecolor\": \"#AFAFAF\", \"zerolinewidth\": 2.5}},\n",
       "                        {\"responsive\": true}\n",
       "                    ).then(function(){\n",
       "                            \n",
       "var gd = document.getElementById('2742d974-50c1-4892-9233-e8a8de4e79e3');\n",
       "var x = new MutationObserver(function (mutations, observer) {{\n",
       "        var display = window.getComputedStyle(gd).display;\n",
       "        if (!display || display === 'none') {{\n",
       "            console.log([gd, 'removed!']);\n",
       "            Plotly.purge(gd);\n",
       "            observer.disconnect();\n",
       "        }}\n",
       "}});\n",
       "\n",
       "// Listen for the removal of the full notebook cells\n",
       "var notebookContainer = gd.closest('#notebook-container');\n",
       "if (notebookContainer) {{\n",
       "    x.observe(notebookContainer, {childList: true});\n",
       "}}\n",
       "\n",
       "// Listen for the clearing of the current output cell\n",
       "var outputEl = gd.closest('.output');\n",
       "if (outputEl) {{\n",
       "    x.observe(outputEl, {childList: true});\n",
       "}}\n",
       "\n",
       "                        })\n",
       "                };\n",
       "                });\n",
       "            </script>\n",
       "        </div>"
      ]
     },
     "metadata": {},
     "output_type": "display_data"
    }
   ],
   "source": [
    "odd_set = [6,7,8]\n",
    "even_set = [3,4,5]\n",
    "sub_id = individual_ranking['subject_Num'].to_numpy()\n",
    "\n",
    "even_load_data = behavior_data.filter_by(even_set,'num_targets')\n",
    "individual_even_load_data = even_load_data.groupby('subject_Num',operations = {'avg_accuracy':agg.MEAN('accuracy')})\n",
    "individual_even_load_data = individual_even_load_data.sort('subject_Num')\n",
    "individual_even_load_data['rank'] = individual_ranking['rank']\n",
    "individual_even_load_data = individual_even_load_data.sort('rank')\n",
    "\n",
    "odd_load_data = behavior_data.filter_by(odd_set,'num_targets')\n",
    "individual_odd_load_data = odd_load_data.groupby('subject_Num',operations = {'avg_accuracy':agg.MEAN('accuracy')})\n",
    "individual_odd_load_data = individual_odd_load_data.sort('subject_Num')\n",
    "individual_odd_load_data['rank'] = individual_ranking['rank']\n",
    "individual_odd_load_data = individual_odd_load_data.sort('rank')\n",
    "\n",
    "hsb = individual_odd_load_data\n",
    "hsb['avg_accuracy_even'] = individual_even_load_data['avg_accuracy']\n",
    "hsb2 = hsb.to_dataframe()\n",
    "\n",
    "mod = ols(\"avg_accuracy ~ avg_accuracy_even\", data=hsb2)\n",
    "res = mod.fit()\n",
    "print(res.rsquared)\n",
    "\n",
    "sec2_trace = go.Scatter(x = individual_even_load_data['avg_accuracy'].to_numpy(),\n",
    "                       y = individual_odd_load_data['avg_accuracy'].to_numpy(),\n",
    "                       mode='markers+text', marker = dict(size = 14, opacity = 0.5, color = 'gray',line = dict(width = 1.5, color='black')),\n",
    "                       text = individual_even_load_data['rank'].to_numpy(),\n",
    "                        textfont = dict(size = 9),\n",
    "                       showlegend=False)\n",
    "\n",
    "sec2_trace_fit = go.Scatter(x = np.linspace(individual_even_load_data['avg_accuracy'].min(),individual_even_load_data['avg_accuracy'].max(),100),\n",
    "                   y = np.linspace(individual_even_load_data['avg_accuracy'].min(),individual_even_load_data['avg_accuracy'].max(),100)*res.params[1] + res.params[0],\n",
    "                    mode='lines',\n",
    "                  line = dict(width = 3.5, color='gray', dash = 'dash'),\n",
    "                    name = '$r^{2}_{partial} = 0.753$',\n",
    "                   showlegend=False)\n",
    "\n",
    "\n",
    "layout = go.Layout(title = '',font = dict(size = 14),\n",
    "                  xaxis = dict(title = 'accuracy in lower target loads'),\n",
    "                  yaxis = dict(title = 'accuracy in higher target loads'), plot_bgcolor = 'rgba(0,0,0,0)')\n",
    "\n",
    "fig = go.Figure(data = [sec2_trace, sec2_trace_fit], layout = layout)\n",
    "fig['layout']['annotations']= [dict(x=.75,y=.65,xref='x',yref='y',text='$r^{2} = 0.569^{*}$', showarrow=False)]\n",
    "fig['layout'].update(width = 500, height = 500)\n",
    "fig.update_xaxes(showline=True, linewidth = 2, linecolor = '#AFAFAF', range = [0.65, 0.95], showgrid=True, gridwidth=1.5, gridcolor='#DFDFDF', zeroline=True, zerolinecolor = '#AFAFAF', zerolinewidth = 2.5, nticks = 8)\n",
    "fig.update_yaxes(showline = True, linewidth = 2, linecolor = '#AFAFAF',showgrid=True, gridwidth=1.5, gridcolor='#DFDFDF', zeroline=True, zerolinecolor = '#AFAFAF', zerolinewidth = 2.5, nticks = 8)\n",
    "fig.show()\n",
    "fig.write_image(\"/Users/supadhy6/Dropbox/Shared with Adi/Results_images/consistent_individual_differences_split_by_target_load.png\")\n",
    "fig.write_image(\"/Users/supadhy6/Dropbox/Shared with Adi/Results_images/consistent_individual_differences_split_by_target_load.svg\")\n",
    "#py.iplot(fig, filename='split half correlations across target loads')"
   ]
  },
  {
   "cell_type": "code",
   "execution_count": 18,
   "metadata": {},
   "outputs": [
    {
     "data": {
      "text/html": [
       "<table class=\"simpletable\">\n",
       "<caption>OLS Regression Results</caption>\n",
       "<tr>\n",
       "  <th>Dep. Variable:</th>      <td>avg_accuracy</td>   <th>  R-squared:         </th> <td>   0.569</td>\n",
       "</tr>\n",
       "<tr>\n",
       "  <th>Model:</th>                   <td>OLS</td>       <th>  Adj. R-squared:    </th> <td>   0.560</td>\n",
       "</tr>\n",
       "<tr>\n",
       "  <th>Method:</th>             <td>Least Squares</td>  <th>  F-statistic:       </th> <td>   63.41</td>\n",
       "</tr>\n",
       "<tr>\n",
       "  <th>Date:</th>             <td>Mon, 26 Aug 2019</td> <th>  Prob (F-statistic):</th> <td>2.51e-10</td>\n",
       "</tr>\n",
       "<tr>\n",
       "  <th>Time:</th>                 <td>21:58:37</td>     <th>  Log-Likelihood:    </th> <td>  107.38</td>\n",
       "</tr>\n",
       "<tr>\n",
       "  <th>No. Observations:</th>      <td>    50</td>      <th>  AIC:               </th> <td>  -210.8</td>\n",
       "</tr>\n",
       "<tr>\n",
       "  <th>Df Residuals:</th>          <td>    48</td>      <th>  BIC:               </th> <td>  -206.9</td>\n",
       "</tr>\n",
       "<tr>\n",
       "  <th>Df Model:</th>              <td>     1</td>      <th>                     </th>     <td> </td>   \n",
       "</tr>\n",
       "<tr>\n",
       "  <th>Covariance Type:</th>      <td>nonrobust</td>    <th>                     </th>     <td> </td>   \n",
       "</tr>\n",
       "</table>\n",
       "<table class=\"simpletable\">\n",
       "<tr>\n",
       "          <td></td>             <th>coef</th>     <th>std err</th>      <th>t</th>      <th>P>|t|</th>  <th>[0.025</th>    <th>0.975]</th>  \n",
       "</tr>\n",
       "<tr>\n",
       "  <th>Intercept</th>         <td>    0.1831</td> <td>    0.054</td> <td>    3.387</td> <td> 0.001</td> <td>    0.074</td> <td>    0.292</td>\n",
       "</tr>\n",
       "<tr>\n",
       "  <th>avg_accuracy_even</th> <td>    0.5204</td> <td>    0.065</td> <td>    7.963</td> <td> 0.000</td> <td>    0.389</td> <td>    0.652</td>\n",
       "</tr>\n",
       "</table>\n",
       "<table class=\"simpletable\">\n",
       "<tr>\n",
       "  <th>Omnibus:</th>       <td> 1.863</td> <th>  Durbin-Watson:     </th> <td>   1.305</td>\n",
       "</tr>\n",
       "<tr>\n",
       "  <th>Prob(Omnibus):</th> <td> 0.394</td> <th>  Jarque-Bera (JB):  </th> <td>   1.020</td>\n",
       "</tr>\n",
       "<tr>\n",
       "  <th>Skew:</th>          <td>-0.257</td> <th>  Prob(JB):          </th> <td>   0.600</td>\n",
       "</tr>\n",
       "<tr>\n",
       "  <th>Kurtosis:</th>      <td> 3.475</td> <th>  Cond. No.          </th> <td>    27.0</td>\n",
       "</tr>\n",
       "</table><br/><br/>Warnings:<br/>[1] Standard Errors assume that the covariance matrix of the errors is correctly specified."
      ],
      "text/plain": [
       "<class 'statsmodels.iolib.summary.Summary'>\n",
       "\"\"\"\n",
       "                            OLS Regression Results                            \n",
       "==============================================================================\n",
       "Dep. Variable:           avg_accuracy   R-squared:                       0.569\n",
       "Model:                            OLS   Adj. R-squared:                  0.560\n",
       "Method:                 Least Squares   F-statistic:                     63.41\n",
       "Date:                Mon, 26 Aug 2019   Prob (F-statistic):           2.51e-10\n",
       "Time:                        21:58:37   Log-Likelihood:                 107.38\n",
       "No. Observations:                  50   AIC:                            -210.8\n",
       "Df Residuals:                      48   BIC:                            -206.9\n",
       "Df Model:                           1                                         \n",
       "Covariance Type:            nonrobust                                         \n",
       "=====================================================================================\n",
       "                        coef    std err          t      P>|t|      [0.025      0.975]\n",
       "-------------------------------------------------------------------------------------\n",
       "Intercept             0.1831      0.054      3.387      0.001       0.074       0.292\n",
       "avg_accuracy_even     0.5204      0.065      7.963      0.000       0.389       0.652\n",
       "==============================================================================\n",
       "Omnibus:                        1.863   Durbin-Watson:                   1.305\n",
       "Prob(Omnibus):                  0.394   Jarque-Bera (JB):                1.020\n",
       "Skew:                          -0.257   Prob(JB):                        0.600\n",
       "Kurtosis:                       3.475   Cond. No.                         27.0\n",
       "==============================================================================\n",
       "\n",
       "Warnings:\n",
       "[1] Standard Errors assume that the covariance matrix of the errors is correctly specified.\n",
       "\"\"\""
      ]
     },
     "execution_count": 18,
     "metadata": {},
     "output_type": "execute_result"
    }
   ],
   "source": [
    "res.summary()"
   ]
  },
  {
   "cell_type": "code",
   "execution_count": 19,
   "metadata": {},
   "outputs": [
    {
     "name": "stdout",
     "output_type": "stream",
     "text": [
      "0.6856978085351788\n"
     ]
    },
    {
     "data": {
      "text/html": [
       "\n",
       "        <iframe\n",
       "            width=\"700px\"\n",
       "            height=\"700px\"\n",
       "            src=\"https://plot.ly/~adiboy_123/918.embed\"\n",
       "            frameborder=\"0\"\n",
       "            allowfullscreen\n",
       "        ></iframe>\n",
       "        "
      ],
      "text/plain": [
       "<IPython.lib.display.IFrame at 0x13074d588>"
      ]
     },
     "execution_count": 19,
     "metadata": {},
     "output_type": "execute_result"
    }
   ],
   "source": [
    "odd_set = [6,7,8]\n",
    "even_set = [3,4,5]\n",
    "sub_id = individual_ranking['subject_Num'].to_numpy()\n",
    "\n",
    "even_load_data = behavior_data.filter_by(even_set,'num_targets')\n",
    "individual_even_load_data = even_load_data.groupby('subject_Num',operations = {'avg_accuracy':agg.MEAN('accuracy')})\n",
    "individual_even_load_data = individual_even_load_data.sort('avg_accuracy',ascending=False)\n",
    "individual_even_load_data['rank_within'] = np.arange(1,len(individual_even_load_data)+1)\n",
    "individual_even_load_data = individual_even_load_data.sort('subject_Num')\n",
    "\n",
    "odd_load_data = behavior_data.filter_by(odd_set,'num_targets')\n",
    "individual_odd_load_data = odd_load_data.groupby('subject_Num',operations = {'avg_accuracy':agg.MEAN('accuracy')})\n",
    "individual_odd_load_data = individual_odd_load_data.sort('avg_accuracy',ascending=False)\n",
    "individual_odd_load_data['rank_within'] = np.arange(1,len(individual_odd_load_data)+1)\n",
    "individual_odd_load_data = individual_odd_load_data.sort('subject_Num')\n",
    "\n",
    "hsb = individual_odd_load_data\n",
    "hsb['rank_within_even'] = individual_even_load_data['rank_within']\n",
    "hsb2 = hsb.to_dataframe()\n",
    "\n",
    "mod = ols(\"rank_within ~ rank_within_even\", data=hsb2)\n",
    "res = mod.fit()\n",
    "print(res.rsquared_adj)\n",
    "\n",
    "sec2_trace = go.Scatter(x = individual_even_load_data['rank_within'].to_numpy(),\n",
    "                       y = individual_odd_load_data['rank_within'].to_numpy(),\n",
    "                       mode='markers+text', marker = dict(size = 20, opacity = 0.5),\n",
    "                       text = individual_even_load_data['subject_Num'].to_numpy(),\n",
    "                       showlegend=False)\n",
    "\n",
    "sec2_trace_fit = go.Scatter(x = np.linspace(individual_even_load_data['rank_within'].min(),individual_even_load_data['rank_within'].max(),100),\n",
    "                   y = np.linspace(individual_even_load_data['rank_within'].min(),individual_even_load_data['rank_within'].max(),100)*res.params[1] + res.params[0],\n",
    "                    mode='lines',\n",
    "                  line = dict(width = 7, color='gray', dash = 'dash'),\n",
    "                    name = '$r^{2}_{partial} = 0.685$',\n",
    "                   showlegend=False)\n",
    "\n",
    "\n",
    "layout = go.Layout(title = '',\n",
    "                  xaxis = dict(title = 'rank in lower target loads'),\n",
    "                  yaxis = dict(title = 'Corresponding rank in higher target loads'))\n",
    "\n",
    "fig = go.Figure(data = [sec2_trace, sec2_trace_fit], layout = layout)\n",
    "fig['layout']['annotations']= [dict(x=10,y=45,xref='x',yref='y',text='$r^{2}_{adj} = 0.685^{*}$', showarrow=False)]\n",
    "fig['layout'].update(width = 700, height = 700,title=('Consistent performance for low and high tracking loads across individuals'))\n",
    "py.iplot(fig, filename='split half correlations across target loads')"
   ]
  },
  {
   "cell_type": "code",
   "execution_count": 20,
   "metadata": {},
   "outputs": [
    {
     "name": "stdout",
     "output_type": "stream",
     "text": [
      "0.5622211334613807\n",
      "0.7348250900637723\n",
      "0.4729709350361113\n"
     ]
    },
    {
     "data": {
      "application/vnd.plotly.v1+json": {
       "config": {
        "linkText": "Export to plot.ly",
        "plotlyServerURL": "https://plot.ly",
        "showLink": false
       },
       "data": [
        {
         "marker": {
          "opacity": 0.5,
          "size": 20
         },
         "mode": "markers+text",
         "showlegend": false,
         "text": [
          1,
          2,
          3,
          4,
          5,
          6,
          7,
          8,
          9,
          10,
          11,
          12,
          13,
          14,
          15,
          16,
          17,
          18,
          19,
          20,
          21,
          22,
          23,
          24,
          25,
          26,
          27,
          28,
          29,
          30,
          31,
          32,
          33,
          34,
          35,
          36,
          37,
          38,
          39,
          40,
          41,
          42,
          43,
          44,
          45,
          46,
          47,
          48,
          49,
          50
         ],
         "type": "scatter",
         "x": [
          0.770833325,
          0.7917250000000001,
          0.7891667,
          0.7791666749999999,
          0.756666675,
          0.7725000500000002,
          0.7583333250000001,
          0.7416750000000002,
          0.7441666250000002,
          0.7467,
          0.7249999999999999,
          0.759175,
          0.7175000000000001,
          0.731675,
          0.7208333,
          0.7066000000000001,
          0.7108333500000003,
          0.7100000000000001,
          0.7066667,
          0.6933332999999998,
          0.7000000249999999,
          0.6908333249999999,
          0.69835,
          0.6866666249999999,
          0.6975,
          0.6750000249999999,
          0.6783333749999999,
          0.6641667000000001,
          0.6433333000000002,
          0.6708500000000001,
          0.6433333999999999,
          0.685833325,
          0.6024999750000001,
          0.6750000249999999,
          0.6833333750000002,
          0.65250005,
          0.6375000000000003,
          0.6766666499999999,
          0.6325,
          0.6333333500000001,
          0.60500005,
          0.61,
          0.5991749999999998,
          0.5866666750000001,
          0.566666675,
          0.6366666750000002,
          0.5908333249999996,
          0.5883249999999999,
          0.584999975,
          0.5875
         ],
         "y": [
          0.975,
          0.9375,
          0.9125,
          0.8999999999999999,
          0.8374999999999998,
          0.9125,
          0.9,
          0.9,
          0.9,
          0.8624999999999998,
          0.9249999999999998,
          0.8875,
          0.85,
          0.9125000000000001,
          0.8875,
          0.8374999999999999,
          0.825,
          0.8375000000000001,
          0.8374999999999998,
          0.8624999999999999,
          0.8374999999999999,
          0.8874999999999998,
          0.8124999999999999,
          0.8500000000000001,
          0.8375,
          0.8500000000000001,
          0.825,
          0.8749999999999999,
          0.8124999999999999,
          0.7874999999999999,
          0.8374999999999998,
          0.7499999999999999,
          0.9125000000000001,
          0.7999999999999999,
          0.7374999999999999,
          0.7874999999999999,
          0.825,
          0.7499999999999998,
          0.775,
          0.825,
          0.8375,
          0.7999999999999999,
          0.7874999999999999,
          0.7499999999999999,
          0.725,
          0.6625,
          0.65,
          0.6375,
          0.675,
          0.65
         ]
        },
        {
         "line": {
          "color": "gray",
          "dash": "dash",
          "width": 7
         },
         "mode": "lines",
         "name": "$r^{2}_{partial} = 0.57$",
         "showlegend": false,
         "type": "scatter",
         "x": [
          0.566666675,
          0.5689399914141414,
          0.5712133078282828,
          0.5734866242424242,
          0.5757599406565657,
          0.5780332570707071,
          0.5803065734848485,
          0.5825798898989899,
          0.5848532063131313,
          0.5871265227272727,
          0.5893998391414141,
          0.5916731555555556,
          0.593946471969697,
          0.5962197883838384,
          0.5984931047979798,
          0.6007664212121212,
          0.6030397376262626,
          0.605313054040404,
          0.6075863704545454,
          0.6098596868686869,
          0.6121330032828283,
          0.6144063196969697,
          0.6166796361111111,
          0.6189529525252525,
          0.6212262689393939,
          0.6234995853535354,
          0.6257729017676767,
          0.6280462181818183,
          0.6303195345959596,
          0.6325928510101011,
          0.6348661674242425,
          0.6371394838383839,
          0.6394128002525253,
          0.6416861166666668,
          0.6439594330808082,
          0.6462327494949496,
          0.648506065909091,
          0.6507793823232324,
          0.6530526987373738,
          0.6553260151515152,
          0.6575993315656566,
          0.659872647979798,
          0.6621459643939395,
          0.6644192808080809,
          0.6666925972222223,
          0.6689659136363637,
          0.6712392300505051,
          0.6735125464646465,
          0.675785862878788,
          0.6780591792929294,
          0.6803324957070708,
          0.6826058121212122,
          0.6848791285353536,
          0.687152444949495,
          0.6894257613636364,
          0.6916990777777778,
          0.6939723941919193,
          0.6962457106060607,
          0.6985190270202021,
          0.7007923434343435,
          0.7030656598484849,
          0.7053389762626263,
          0.7076122926767677,
          0.7098856090909091,
          0.7121589255050506,
          0.714432241919192,
          0.7167055583333334,
          0.7189788747474748,
          0.7212521911616162,
          0.7235255075757576,
          0.725798823989899,
          0.7280721404040404,
          0.730345456818182,
          0.7326187732323233,
          0.7348920896464648,
          0.7371654060606061,
          0.7394387224747476,
          0.7417120388888889,
          0.7439853553030304,
          0.7462586717171718,
          0.7485319881313133,
          0.7508053045454546,
          0.7530786209595961,
          0.7553519373737374,
          0.7576252537878789,
          0.7598985702020203,
          0.7621718866161618,
          0.7644452030303032,
          0.7667185194444446,
          0.768991835858586,
          0.7712651522727274,
          0.7735384686868688,
          0.7758117851010102,
          0.7780851015151516,
          0.7803584179292931,
          0.7826317343434345,
          0.7849050507575759,
          0.7871783671717173,
          0.7894516835858587,
          0.7917250000000001
         ],
         "y": [
          0.7131914017532568,
          0.7153891766398797,
          0.7175869515265025,
          0.7197847264131254,
          0.7219825012997483,
          0.7241802761863714,
          0.7263780510729942,
          0.7285758259596171,
          0.73077360084624,
          0.7329713757328629,
          0.7351691506194857,
          0.7373669255061086,
          0.7395647003927315,
          0.7417624752793543,
          0.7439602501659772,
          0.7461580250526001,
          0.748355799939223,
          0.7505535748258458,
          0.7527513497124687,
          0.7549491245990916,
          0.7571468994857145,
          0.7593446743723373,
          0.7615424492589602,
          0.7637402241455831,
          0.7659379990322062,
          0.768135773918829,
          0.7703335488054519,
          0.7725313236920748,
          0.7747290985786977,
          0.7769268734653205,
          0.7791246483519434,
          0.7813224232385663,
          0.7835201981251891,
          0.785717973011812,
          0.7879157478984351,
          0.790113522785058,
          0.7923112976716808,
          0.7945090725583037,
          0.7967068474449266,
          0.7989046223315495,
          0.8011023972181723,
          0.8033001721047952,
          0.8054979469914181,
          0.807695721878041,
          0.8098934967646638,
          0.8120912716512867,
          0.8142890465379096,
          0.8164868214245324,
          0.8186845963111553,
          0.8208823711977782,
          0.823080146084401,
          0.8252779209710239,
          0.8274756958576468,
          0.8296734707442699,
          0.8318712456308928,
          0.8340690205175156,
          0.8362667954041385,
          0.8384645702907614,
          0.8406623451773843,
          0.8428601200640071,
          0.84505789495063,
          0.8472556698372529,
          0.8494534447238757,
          0.8516512196104986,
          0.8538489944971215,
          0.8560467693837444,
          0.8582445442703672,
          0.8604423191569901,
          0.862640094043613,
          0.8648378689302358,
          0.8670356438168587,
          0.8692334187034816,
          0.8714311935901047,
          0.8736289684767276,
          0.8758267433633504,
          0.8780245182499733,
          0.8802222931365962,
          0.882420068023219,
          0.8846178429098419,
          0.8868156177964648,
          0.8890133926830877,
          0.8912111675697105,
          0.8934089424563336,
          0.8956067173429563,
          0.8978044922295794,
          0.9000022671162022,
          0.9022000420028251,
          0.904397816889448,
          0.9065955917760709,
          0.9087933666626937,
          0.9109911415493166,
          0.9131889164359395,
          0.9153866913225623,
          0.9175844662091852,
          0.9197822410958081,
          0.921980015982431,
          0.9241777908690538,
          0.9263755657556767,
          0.9285733406422996,
          0.9307711155289224
         ]
        },
        {
         "marker": {
          "opacity": 0.5,
          "size": 20
         },
         "mode": "markers+text",
         "showlegend": false,
         "text": [
          1,
          2,
          3,
          4,
          5,
          6,
          7,
          8,
          9,
          10,
          11,
          12,
          13,
          14,
          15,
          16,
          17,
          18,
          19,
          20,
          21,
          22,
          23,
          24,
          25,
          26,
          27,
          28,
          29,
          30,
          31,
          32,
          33,
          34,
          35,
          36,
          37,
          38,
          39,
          40,
          41,
          42,
          43,
          44,
          45,
          46,
          47,
          48,
          49,
          50
         ],
         "type": "scatter",
         "x": [
          0.858333325,
          0.860475,
          0.8354166999999999,
          0.829166675,
          0.7854166750000003,
          0.8187500500000002,
          0.8083333249999999,
          0.7916750000000001,
          0.804166625,
          0.77295,
          0.7874999999999998,
          0.7979250000000003,
          0.7625,
          0.797925,
          0.7895833000000001,
          0.76035,
          0.73333335,
          0.7437499999999999,
          0.7354167000000001,
          0.7645833,
          0.7437500249999999,
          0.7645833249999997,
          0.7395999999999999,
          0.7416666249999999,
          0.7312500000000001,
          0.750000025,
          0.7208333750000001,
          0.7416667,
          0.7145833000000003,
          0.7145999999999998,
          0.7270834,
          0.6958333250000001,
          0.693749975,
          0.7250000250000002,
          0.702083375,
          0.7062500500000001,
          0.7250000000000001,
          0.6916666499999999,
          0.675,
          0.6958333500000001,
          0.7187500499999999,
          0.6749999999999999,
          0.6979250000000001,
          0.6666666749999999,
          0.6291666749999999,
          0.647916675,
          0.6208333249999999,
          0.6020750000000001,
          0.6124999749999999,
          0.6124999999999999
         ],
         "xaxis": "x2",
         "y": [
          0.8,
          0.8000000000000002,
          0.8199999999999998,
          0.8,
          0.7800000000000002,
          0.8199999999999998,
          0.8,
          0.7999999999999999,
          0.7799999999999999,
          0.81,
          0.8000000000000002,
          0.8099999999999999,
          0.76,
          0.7800000000000001,
          0.7499999999999999,
          0.73,
          0.7800000000000002,
          0.77,
          0.78,
          0.7200000000000001,
          0.7500000000000001,
          0.74,
          0.7300000000000001,
          0.7399999999999999,
          0.7699999999999999,
          0.7000000000000001,
          0.7400000000000001,
          0.7200000000000001,
          0.6700000000000002,
          0.7,
          0.6699999999999999,
          0.7300000000000001,
          0.73,
          0.7,
          0.7000000000000001,
          0.6799999999999999,
          0.6499999999999999,
          0.72,
          0.6900000000000002,
          0.7,
          0.6100000000000001,
          0.6699999999999999,
          0.59,
          0.5900000000000001,
          0.6,
          0.64,
          0.5900000000000001,
          0.6100000000000001,
          0.62,
          0.5999999999999999
         ],
         "yaxis": "y2"
        },
        {
         "line": {
          "color": "gray",
          "dash": "dash",
          "width": 7
         },
         "mode": "lines",
         "name": "$r^{2}_{partial} = 0.57$",
         "showlegend": false,
         "type": "scatter",
         "x": [
          0.6020750000000001,
          0.6046851010101012,
          0.6072952020202022,
          0.6099053030303032,
          0.6125154040404042,
          0.6151255050505052,
          0.6177356060606062,
          0.6203457070707072,
          0.6229558080808082,
          0.6255659090909093,
          0.6281760101010102,
          0.6307861111111113,
          0.6333962121212122,
          0.6360063131313133,
          0.6386164141414142,
          0.6412265151515153,
          0.6438366161616162,
          0.6464467171717173,
          0.6490568181818183,
          0.6516669191919193,
          0.6542770202020203,
          0.6568871212121213,
          0.6594972222222223,
          0.6621073232323234,
          0.6647174242424243,
          0.6673275252525254,
          0.6699376262626263,
          0.6725477272727274,
          0.6751578282828283,
          0.6777679292929294,
          0.6803780303030305,
          0.6829881313131314,
          0.6855982323232324,
          0.6882083333333334,
          0.6908184343434345,
          0.6934285353535354,
          0.6960386363636364,
          0.6986487373737374,
          0.7012588383838385,
          0.7038689393939395,
          0.7064790404040405,
          0.7090891414141415,
          0.7116992424242425,
          0.7143093434343435,
          0.7169194444444446,
          0.7195295454545455,
          0.7221396464646466,
          0.7247497474747475,
          0.7273598484848486,
          0.7299699494949495,
          0.7325800505050506,
          0.7351901515151515,
          0.7378002525252526,
          0.7404103535353536,
          0.7430204545454546,
          0.7456305555555556,
          0.7482406565656566,
          0.7508507575757577,
          0.7534608585858587,
          0.7560709595959596,
          0.7586810606060607,
          0.7612911616161617,
          0.7639012626262627,
          0.7665113636363636,
          0.7691214646464647,
          0.7717315656565658,
          0.7743416666666667,
          0.7769517676767677,
          0.7795618686868687,
          0.7821719696969698,
          0.7847820707070707,
          0.7873921717171717,
          0.7900022727272727,
          0.7926123737373738,
          0.7952224747474748,
          0.7978325757575758,
          0.8004426767676768,
          0.8030527777777778,
          0.8056628787878788,
          0.8082729797979799,
          0.8108830808080808,
          0.8134931818181819,
          0.8161032828282828,
          0.8187133838383839,
          0.8213234848484848,
          0.8239335858585859,
          0.8265436868686868,
          0.8291537878787879,
          0.831763888888889,
          0.8343739898989899,
          0.8369840909090909,
          0.8395941919191919,
          0.842204292929293,
          0.844814393939394,
          0.8474244949494949,
          0.850034595959596,
          0.852644696969697,
          0.855254797979798,
          0.8578648989898989,
          0.860475
         ],
         "xaxis": "x2",
         "y": [
          0.5948706192968835,
          0.5973542229863477,
          0.5998378266758118,
          0.6023214303652759,
          0.60480503405474,
          0.6072886377442042,
          0.6097722414336681,
          0.6122558451231324,
          0.6147394488125965,
          0.6172230525020606,
          0.6197066561915247,
          0.6221902598809889,
          0.624673863570453,
          0.6271574672599171,
          0.6296410709493812,
          0.6321246746388454,
          0.6346082783283093,
          0.6370918820177736,
          0.6395754857072377,
          0.6420590893967018,
          0.6445426930861659,
          0.6470262967756301,
          0.649509900465094,
          0.6519935041545583,
          0.6544771078440224,
          0.6569607115334865,
          0.6594443152229506,
          0.6619279189124148,
          0.6644115226018789,
          0.666895126291343,
          0.6693787299808072,
          0.6718623336702713,
          0.6743459373597352,
          0.6768295410491995,
          0.6793131447386637,
          0.6817967484281277,
          0.6842803521175918,
          0.686763955807056,
          0.6892475594965201,
          0.6917311631859842,
          0.6942147668754484,
          0.6966983705649125,
          0.6991819742543766,
          0.7016655779438407,
          0.7041491816333049,
          0.7066327853227689,
          0.7091163890122331,
          0.7115999927016972,
          0.7140835963911613,
          0.7165672000806254,
          0.7190508037700896,
          0.7215344074595536,
          0.7240180111490178,
          0.7265016148384819,
          0.7289852185279461,
          0.73146882221741,
          0.7339524259068743,
          0.7364360295963385,
          0.7389196332858025,
          0.7414032369752666,
          0.7438868406647308,
          0.7463704443541949,
          0.748854048043659,
          0.7513376517331231,
          0.7538212554225872,
          0.7563048591120514,
          0.7587884628015155,
          0.7612720664909796,
          0.7637556701804437,
          0.7662392738699079,
          0.768722877559372,
          0.771206481248836,
          0.7736900849383002,
          0.7761736886277644,
          0.7786572923172284,
          0.7811408960066926,
          0.7836244996961567,
          0.7861081033856208,
          0.7885917070750849,
          0.7910753107645491,
          0.7935589144540132,
          0.7960425181434773,
          0.7985261218329414,
          0.8010097255224056,
          0.8034933292118696,
          0.8059769329013338,
          0.8084605365907979,
          0.810944140280262,
          0.8134277439697262,
          0.8159113476591903,
          0.8183949513486543,
          0.8208785550381185,
          0.8233621587275827,
          0.8258457624170467,
          0.8283293661065108,
          0.830812969795975,
          0.8332965734854392,
          0.8357801771749032,
          0.8382637808643673,
          0.8407473845538315
         ],
         "yaxis": "y2"
        },
        {
         "marker": {
          "opacity": 0.5,
          "size": 20
         },
         "mode": "markers+text",
         "showlegend": false,
         "text": [
          1,
          2,
          3,
          4,
          5,
          6,
          7,
          8,
          9,
          10,
          11,
          12,
          13,
          14,
          15,
          16,
          17,
          18,
          19,
          20,
          21,
          22,
          23,
          24,
          25,
          26,
          27,
          28,
          29,
          30,
          31,
          32,
          33,
          34,
          35,
          36,
          37,
          38,
          39,
          40,
          41,
          42,
          43,
          44,
          45,
          46,
          47,
          48,
          49,
          50
         ],
         "type": "scatter",
         "x": [
          0.8875,
          0.86875,
          0.86625,
          0.8499999999999999,
          0.80875,
          0.8662499999999999,
          0.8500000000000001,
          0.8500000000000002,
          0.8400000000000003,
          0.8362499999999999,
          0.8625000000000002,
          0.8487499999999998,
          0.8049999999999999,
          0.84625,
          0.81875,
          0.7837500000000001,
          0.8025000000000001,
          0.8037499999999997,
          0.8087499999999999,
          0.79125,
          0.7937500000000004,
          0.81375,
          0.7712499999999999,
          0.7949999999999998,
          0.8037499999999997,
          0.775,
          0.7825000000000001,
          0.7975,
          0.74125,
          0.7437499999999999,
          0.7537499999999997,
          0.7399999999999999,
          0.8212499999999999,
          0.75,
          0.7187500000000003,
          0.73375,
          0.7375,
          0.7349999999999999,
          0.7324999999999998,
          0.7625,
          0.72375,
          0.7349999999999999,
          0.68875,
          0.6700000000000002,
          0.6625,
          0.6512499999999998,
          0.62,
          0.62375,
          0.6475000000000001,
          0.625
         ],
         "xaxis": "x3",
         "y": [
          0.74166665,
          0.7834500000000002,
          0.7583333999999998,
          0.75833335,
          0.73333335,
          0.7250001,
          0.7166666500000001,
          0.6833500000000001,
          0.70833325,
          0.6834,
          0.6500000000000001,
          0.70835,
          0.6749999999999999,
          0.68335,
          0.6916666,
          0.6832,
          0.6416666999999999,
          0.6499999999999999,
          0.6333334,
          0.6666666000000001,
          0.65000005,
          0.6416666499999999,
          0.6667,
          0.63333325,
          0.625,
          0.65000005,
          0.61666675,
          0.6083333999999999,
          0.6166666,
          0.6417,
          0.6166668,
          0.6416666499999998,
          0.47499994999999995,
          0.6500000500000002,
          0.66666675,
          0.6250001,
          0.625,
          0.6333333,
          0.5750000000000002,
          0.5666667,
          0.6000000999999999,
          0.5499999999999999,
          0.60835,
          0.5833333499999999,
          0.53333335,
          0.63333335,
          0.5916666500000002,
          0.5666500000000001,
          0.54999995,
          0.575
         ],
         "yaxis": "y3"
        },
        {
         "line": {
          "color": "gray",
          "dash": "dash",
          "width": 7
         },
         "mode": "lines",
         "name": "$r^{2}_{partial} = 0.57$",
         "showlegend": false,
         "type": "scatter",
         "x": [
          0.62,
          0.6227020202020201,
          0.6254040404040404,
          0.6281060606060606,
          0.6308080808080808,
          0.633510101010101,
          0.6362121212121212,
          0.6389141414141414,
          0.6416161616161616,
          0.6443181818181818,
          0.647020202020202,
          0.6497222222222222,
          0.6524242424242425,
          0.6551262626262626,
          0.6578282828282829,
          0.660530303030303,
          0.6632323232323232,
          0.6659343434343434,
          0.6686363636363636,
          0.6713383838383838,
          0.674040404040404,
          0.6767424242424243,
          0.6794444444444444,
          0.6821464646464647,
          0.6848484848484848,
          0.6875505050505051,
          0.6902525252525252,
          0.6929545454545454,
          0.6956565656565656,
          0.6983585858585859,
          0.701060606060606,
          0.7037626262626262,
          0.7064646464646465,
          0.7091666666666666,
          0.7118686868686869,
          0.714570707070707,
          0.7172727272727273,
          0.7199747474747474,
          0.7226767676767677,
          0.7253787878787878,
          0.7280808080808081,
          0.7307828282828283,
          0.7334848484848484,
          0.7361868686868687,
          0.7388888888888889,
          0.7415909090909091,
          0.7442929292929292,
          0.7469949494949495,
          0.7496969696969696,
          0.7523989898989899,
          0.75510101010101,
          0.7578030303030303,
          0.7605050505050505,
          0.7632070707070707,
          0.7659090909090909,
          0.7686111111111111,
          0.7713131313131313,
          0.7740151515151514,
          0.7767171717171717,
          0.779419191919192,
          0.7821212121212121,
          0.7848232323232323,
          0.7875252525252525,
          0.7902272727272727,
          0.7929292929292929,
          0.7956313131313131,
          0.7983333333333333,
          0.8010353535353535,
          0.8037373737373736,
          0.8064393939393939,
          0.8091414141414142,
          0.8118434343434343,
          0.8145454545454545,
          0.8172474747474747,
          0.819949494949495,
          0.8226515151515151,
          0.8253535353535353,
          0.8280555555555555,
          0.8307575757575757,
          0.833459595959596,
          0.8361616161616161,
          0.8388636363636364,
          0.8415656565656565,
          0.8442676767676767,
          0.8469696969696969,
          0.8496717171717172,
          0.8523737373737373,
          0.8550757575757575,
          0.8577777777777778,
          0.8604797979797979,
          0.8631818181818182,
          0.8658838383838383,
          0.8685858585858586,
          0.8712878787878787,
          0.8739898989898989,
          0.8766919191919191,
          0.8793939393939394,
          0.8820959595959595,
          0.8847979797979797,
          0.8875
         ],
         "xaxis": "x3",
         "y": [
          0.5513347043106962,
          0.5529693818707564,
          0.5546040594308168,
          0.556238736990877,
          0.5578734145509374,
          0.5595080921109976,
          0.561142769671058,
          0.5627774472311182,
          0.5644121247911786,
          0.5660468023512388,
          0.5676814799112992,
          0.5693161574713594,
          0.5709508350314199,
          0.57258551259148,
          0.5742201901515405,
          0.5758548677116007,
          0.5774895452716611,
          0.5791242228317214,
          0.5807589003917817,
          0.582393577951842,
          0.5840282555119023,
          0.5856629330719626,
          0.5872976106320229,
          0.5889322881920832,
          0.5905669657521435,
          0.5922016433122038,
          0.5938363208722641,
          0.5954709984323243,
          0.5971056759923847,
          0.598740353552445,
          0.6003750311125053,
          0.6020097086725655,
          0.603644386232626,
          0.6052790637926861,
          0.6069137413527466,
          0.6085484189128068,
          0.6101830964728672,
          0.6118177740329274,
          0.6134524515929878,
          0.615087129153048,
          0.6167218067131084,
          0.6183564842731686,
          0.6199911618332289,
          0.6216258393932892,
          0.6232605169533496,
          0.6248951945134098,
          0.6265298720734701,
          0.6281645496335304,
          0.6297992271935907,
          0.631433904753651,
          0.6330685823137113,
          0.6347032598737716,
          0.636337937433832,
          0.6379726149938922,
          0.6396072925539527,
          0.6412419701140128,
          0.6428766476740733,
          0.6445113252341335,
          0.6461460027941939,
          0.6477806803542541,
          0.6494153579143145,
          0.6510500354743747,
          0.6526847130344351,
          0.6543193905944953,
          0.6559540681545557,
          0.6575887457146159,
          0.6592234232746763,
          0.6608581008347365,
          0.6624927783947968,
          0.6641274559548571,
          0.6657621335149175,
          0.6673968110749777,
          0.669031488635038,
          0.6706661661950983,
          0.6723008437551588,
          0.6739355213152189,
          0.6755701988752792,
          0.6772048764353396,
          0.6788395539953999,
          0.6804742315554602,
          0.6821089091155205,
          0.6837435866755808,
          0.6853782642356411,
          0.6870129417957014,
          0.6886476193557617,
          0.690282296915822,
          0.6919169744758823,
          0.6935516520359426,
          0.6951863295960029,
          0.6968210071560632,
          0.6984556847161235,
          0.7000903622761838,
          0.7017250398362441,
          0.7033597173963044,
          0.7049943949563647,
          0.706629072516425,
          0.7082637500764853,
          0.7098984276365456,
          0.711533105196606,
          0.7131677827566663
         ],
         "yaxis": "y3"
        }
       ],
       "layout": {
        "annotations": [
         {
          "showarrow": false,
          "text": "$r^{2} = 0.56^{*}$",
          "x": 0.6,
          "xref": "x",
          "y": 0.95,
          "yref": "y"
         },
         {
          "showarrow": false,
          "text": "$r^{2} = 0.73^{*}$",
          "x": 0.65,
          "xref": "x2",
          "y": 0.9,
          "yref": "y2"
         },
         {
          "showarrow": false,
          "text": "$r^{2} = 0.47^{*}$",
          "x": 0.65,
          "xref": "x3",
          "y": 0.8,
          "yref": "y3"
         }
        ],
        "height": 600,
        "template": {
         "data": {
          "bar": [
           {
            "error_x": {
             "color": "#2a3f5f"
            },
            "error_y": {
             "color": "#2a3f5f"
            },
            "marker": {
             "line": {
              "color": "#E5ECF6",
              "width": 0.5
             }
            },
            "type": "bar"
           }
          ],
          "barpolar": [
           {
            "marker": {
             "line": {
              "color": "#E5ECF6",
              "width": 0.5
             }
            },
            "type": "barpolar"
           }
          ],
          "carpet": [
           {
            "aaxis": {
             "endlinecolor": "#2a3f5f",
             "gridcolor": "white",
             "linecolor": "white",
             "minorgridcolor": "white",
             "startlinecolor": "#2a3f5f"
            },
            "baxis": {
             "endlinecolor": "#2a3f5f",
             "gridcolor": "white",
             "linecolor": "white",
             "minorgridcolor": "white",
             "startlinecolor": "#2a3f5f"
            },
            "type": "carpet"
           }
          ],
          "choropleth": [
           {
            "colorbar": {
             "outlinewidth": 0,
             "ticks": ""
            },
            "type": "choropleth"
           }
          ],
          "contour": [
           {
            "colorbar": {
             "outlinewidth": 0,
             "ticks": ""
            },
            "colorscale": [
             [
              0,
              "#0d0887"
             ],
             [
              0.1111111111111111,
              "#46039f"
             ],
             [
              0.2222222222222222,
              "#7201a8"
             ],
             [
              0.3333333333333333,
              "#9c179e"
             ],
             [
              0.4444444444444444,
              "#bd3786"
             ],
             [
              0.5555555555555556,
              "#d8576b"
             ],
             [
              0.6666666666666666,
              "#ed7953"
             ],
             [
              0.7777777777777778,
              "#fb9f3a"
             ],
             [
              0.8888888888888888,
              "#fdca26"
             ],
             [
              1,
              "#f0f921"
             ]
            ],
            "type": "contour"
           }
          ],
          "contourcarpet": [
           {
            "colorbar": {
             "outlinewidth": 0,
             "ticks": ""
            },
            "type": "contourcarpet"
           }
          ],
          "heatmap": [
           {
            "colorbar": {
             "outlinewidth": 0,
             "ticks": ""
            },
            "colorscale": [
             [
              0,
              "#0d0887"
             ],
             [
              0.1111111111111111,
              "#46039f"
             ],
             [
              0.2222222222222222,
              "#7201a8"
             ],
             [
              0.3333333333333333,
              "#9c179e"
             ],
             [
              0.4444444444444444,
              "#bd3786"
             ],
             [
              0.5555555555555556,
              "#d8576b"
             ],
             [
              0.6666666666666666,
              "#ed7953"
             ],
             [
              0.7777777777777778,
              "#fb9f3a"
             ],
             [
              0.8888888888888888,
              "#fdca26"
             ],
             [
              1,
              "#f0f921"
             ]
            ],
            "type": "heatmap"
           }
          ],
          "heatmapgl": [
           {
            "colorbar": {
             "outlinewidth": 0,
             "ticks": ""
            },
            "colorscale": [
             [
              0,
              "#0d0887"
             ],
             [
              0.1111111111111111,
              "#46039f"
             ],
             [
              0.2222222222222222,
              "#7201a8"
             ],
             [
              0.3333333333333333,
              "#9c179e"
             ],
             [
              0.4444444444444444,
              "#bd3786"
             ],
             [
              0.5555555555555556,
              "#d8576b"
             ],
             [
              0.6666666666666666,
              "#ed7953"
             ],
             [
              0.7777777777777778,
              "#fb9f3a"
             ],
             [
              0.8888888888888888,
              "#fdca26"
             ],
             [
              1,
              "#f0f921"
             ]
            ],
            "type": "heatmapgl"
           }
          ],
          "histogram": [
           {
            "marker": {
             "colorbar": {
              "outlinewidth": 0,
              "ticks": ""
             }
            },
            "type": "histogram"
           }
          ],
          "histogram2d": [
           {
            "colorbar": {
             "outlinewidth": 0,
             "ticks": ""
            },
            "colorscale": [
             [
              0,
              "#0d0887"
             ],
             [
              0.1111111111111111,
              "#46039f"
             ],
             [
              0.2222222222222222,
              "#7201a8"
             ],
             [
              0.3333333333333333,
              "#9c179e"
             ],
             [
              0.4444444444444444,
              "#bd3786"
             ],
             [
              0.5555555555555556,
              "#d8576b"
             ],
             [
              0.6666666666666666,
              "#ed7953"
             ],
             [
              0.7777777777777778,
              "#fb9f3a"
             ],
             [
              0.8888888888888888,
              "#fdca26"
             ],
             [
              1,
              "#f0f921"
             ]
            ],
            "type": "histogram2d"
           }
          ],
          "histogram2dcontour": [
           {
            "colorbar": {
             "outlinewidth": 0,
             "ticks": ""
            },
            "colorscale": [
             [
              0,
              "#0d0887"
             ],
             [
              0.1111111111111111,
              "#46039f"
             ],
             [
              0.2222222222222222,
              "#7201a8"
             ],
             [
              0.3333333333333333,
              "#9c179e"
             ],
             [
              0.4444444444444444,
              "#bd3786"
             ],
             [
              0.5555555555555556,
              "#d8576b"
             ],
             [
              0.6666666666666666,
              "#ed7953"
             ],
             [
              0.7777777777777778,
              "#fb9f3a"
             ],
             [
              0.8888888888888888,
              "#fdca26"
             ],
             [
              1,
              "#f0f921"
             ]
            ],
            "type": "histogram2dcontour"
           }
          ],
          "mesh3d": [
           {
            "colorbar": {
             "outlinewidth": 0,
             "ticks": ""
            },
            "type": "mesh3d"
           }
          ],
          "parcoords": [
           {
            "line": {
             "colorbar": {
              "outlinewidth": 0,
              "ticks": ""
             }
            },
            "type": "parcoords"
           }
          ],
          "scatter": [
           {
            "marker": {
             "colorbar": {
              "outlinewidth": 0,
              "ticks": ""
             }
            },
            "type": "scatter"
           }
          ],
          "scatter3d": [
           {
            "line": {
             "colorbar": {
              "outlinewidth": 0,
              "ticks": ""
             }
            },
            "marker": {
             "colorbar": {
              "outlinewidth": 0,
              "ticks": ""
             }
            },
            "type": "scatter3d"
           }
          ],
          "scattercarpet": [
           {
            "marker": {
             "colorbar": {
              "outlinewidth": 0,
              "ticks": ""
             }
            },
            "type": "scattercarpet"
           }
          ],
          "scattergeo": [
           {
            "marker": {
             "colorbar": {
              "outlinewidth": 0,
              "ticks": ""
             }
            },
            "type": "scattergeo"
           }
          ],
          "scattergl": [
           {
            "marker": {
             "colorbar": {
              "outlinewidth": 0,
              "ticks": ""
             }
            },
            "type": "scattergl"
           }
          ],
          "scattermapbox": [
           {
            "marker": {
             "colorbar": {
              "outlinewidth": 0,
              "ticks": ""
             }
            },
            "type": "scattermapbox"
           }
          ],
          "scatterpolar": [
           {
            "marker": {
             "colorbar": {
              "outlinewidth": 0,
              "ticks": ""
             }
            },
            "type": "scatterpolar"
           }
          ],
          "scatterpolargl": [
           {
            "marker": {
             "colorbar": {
              "outlinewidth": 0,
              "ticks": ""
             }
            },
            "type": "scatterpolargl"
           }
          ],
          "scatterternary": [
           {
            "marker": {
             "colorbar": {
              "outlinewidth": 0,
              "ticks": ""
             }
            },
            "type": "scatterternary"
           }
          ],
          "surface": [
           {
            "colorbar": {
             "outlinewidth": 0,
             "ticks": ""
            },
            "colorscale": [
             [
              0,
              "#0d0887"
             ],
             [
              0.1111111111111111,
              "#46039f"
             ],
             [
              0.2222222222222222,
              "#7201a8"
             ],
             [
              0.3333333333333333,
              "#9c179e"
             ],
             [
              0.4444444444444444,
              "#bd3786"
             ],
             [
              0.5555555555555556,
              "#d8576b"
             ],
             [
              0.6666666666666666,
              "#ed7953"
             ],
             [
              0.7777777777777778,
              "#fb9f3a"
             ],
             [
              0.8888888888888888,
              "#fdca26"
             ],
             [
              1,
              "#f0f921"
             ]
            ],
            "type": "surface"
           }
          ],
          "table": [
           {
            "cells": {
             "fill": {
              "color": "#EBF0F8"
             },
             "line": {
              "color": "white"
             }
            },
            "header": {
             "fill": {
              "color": "#C8D4E3"
             },
             "line": {
              "color": "white"
             }
            },
            "type": "table"
           }
          ]
         },
         "layout": {
          "annotationdefaults": {
           "arrowcolor": "#2a3f5f",
           "arrowhead": 0,
           "arrowwidth": 1
          },
          "colorscale": {
           "diverging": [
            [
             0,
             "#8e0152"
            ],
            [
             0.1,
             "#c51b7d"
            ],
            [
             0.2,
             "#de77ae"
            ],
            [
             0.3,
             "#f1b6da"
            ],
            [
             0.4,
             "#fde0ef"
            ],
            [
             0.5,
             "#f7f7f7"
            ],
            [
             0.6,
             "#e6f5d0"
            ],
            [
             0.7,
             "#b8e186"
            ],
            [
             0.8,
             "#7fbc41"
            ],
            [
             0.9,
             "#4d9221"
            ],
            [
             1,
             "#276419"
            ]
           ],
           "sequential": [
            [
             0,
             "#0d0887"
            ],
            [
             0.1111111111111111,
             "#46039f"
            ],
            [
             0.2222222222222222,
             "#7201a8"
            ],
            [
             0.3333333333333333,
             "#9c179e"
            ],
            [
             0.4444444444444444,
             "#bd3786"
            ],
            [
             0.5555555555555556,
             "#d8576b"
            ],
            [
             0.6666666666666666,
             "#ed7953"
            ],
            [
             0.7777777777777778,
             "#fb9f3a"
            ],
            [
             0.8888888888888888,
             "#fdca26"
            ],
            [
             1,
             "#f0f921"
            ]
           ],
           "sequentialminus": [
            [
             0,
             "#0d0887"
            ],
            [
             0.1111111111111111,
             "#46039f"
            ],
            [
             0.2222222222222222,
             "#7201a8"
            ],
            [
             0.3333333333333333,
             "#9c179e"
            ],
            [
             0.4444444444444444,
             "#bd3786"
            ],
            [
             0.5555555555555556,
             "#d8576b"
            ],
            [
             0.6666666666666666,
             "#ed7953"
            ],
            [
             0.7777777777777778,
             "#fb9f3a"
            ],
            [
             0.8888888888888888,
             "#fdca26"
            ],
            [
             1,
             "#f0f921"
            ]
           ]
          },
          "colorway": [
           "#636efa",
           "#EF553B",
           "#00cc96",
           "#ab63fa",
           "#FFA15A",
           "#19d3f3",
           "#FF6692",
           "#B6E880",
           "#FF97FF",
           "#FECB52"
          ],
          "font": {
           "color": "#2a3f5f"
          },
          "geo": {
           "bgcolor": "white",
           "lakecolor": "white",
           "landcolor": "#E5ECF6",
           "showlakes": true,
           "showland": true,
           "subunitcolor": "white"
          },
          "hoverlabel": {
           "align": "left"
          },
          "hovermode": "closest",
          "mapbox": {
           "style": "light"
          },
          "paper_bgcolor": "white",
          "plot_bgcolor": "#E5ECF6",
          "polar": {
           "angularaxis": {
            "gridcolor": "white",
            "linecolor": "white",
            "ticks": ""
           },
           "bgcolor": "#E5ECF6",
           "radialaxis": {
            "gridcolor": "white",
            "linecolor": "white",
            "ticks": ""
           }
          },
          "scene": {
           "xaxis": {
            "backgroundcolor": "#E5ECF6",
            "gridcolor": "white",
            "gridwidth": 2,
            "linecolor": "white",
            "showbackground": true,
            "ticks": "",
            "zerolinecolor": "white"
           },
           "yaxis": {
            "backgroundcolor": "#E5ECF6",
            "gridcolor": "white",
            "gridwidth": 2,
            "linecolor": "white",
            "showbackground": true,
            "ticks": "",
            "zerolinecolor": "white"
           },
           "zaxis": {
            "backgroundcolor": "#E5ECF6",
            "gridcolor": "white",
            "gridwidth": 2,
            "linecolor": "white",
            "showbackground": true,
            "ticks": "",
            "zerolinecolor": "white"
           }
          },
          "shapedefaults": {
           "line": {
            "color": "#2a3f5f"
           }
          },
          "ternary": {
           "aaxis": {
            "gridcolor": "white",
            "linecolor": "white",
            "ticks": ""
           },
           "baxis": {
            "gridcolor": "white",
            "linecolor": "white",
            "ticks": ""
           },
           "bgcolor": "#E5ECF6",
           "caxis": {
            "gridcolor": "white",
            "linecolor": "white",
            "ticks": ""
           }
          },
          "title": {
           "x": 0.05
          },
          "xaxis": {
           "automargin": true,
           "gridcolor": "white",
           "linecolor": "white",
           "ticks": "",
           "zerolinecolor": "white",
           "zerolinewidth": 2
          },
          "yaxis": {
           "automargin": true,
           "gridcolor": "white",
           "linecolor": "white",
           "ticks": "",
           "zerolinecolor": "white",
           "zerolinewidth": 2
          }
         }
        },
        "title": {
         "text": "Consistent performance for low and high tracking loads across individuals"
        },
        "width": 1200,
        "xaxis": {
         "domain": [
          0,
          0.27
         ],
         "title": {
          "text": "accuracy in loads [5,6]"
         }
        },
        "xaxis2": {
         "anchor": "y2",
         "domain": [
          0.33,
          0.63
         ],
         "title": {
          "text": "accuracy in loads [4,6]"
         }
        },
        "xaxis3": {
         "anchor": "y3",
         "domain": [
          0.67,
          1
         ],
         "title": {
          "text": "accuracy in loads [4,5]"
         }
        },
        "yaxis": {
         "title": {
          "text": "accuracy in load [4]"
         }
        },
        "yaxis2": {
         "anchor": "x2",
         "title": {
          "text": "accuracy in load [5]"
         }
        },
        "yaxis3": {
         "anchor": "x3",
         "title": {
          "text": "accuracy in load [6]"
         }
        }
       }
      },
      "text/html": [
       "<div>\n",
       "        \n",
       "        \n",
       "            <div id=\"c70eb589-a2d5-4cfc-a513-f868979dc0f7\" class=\"plotly-graph-div\" style=\"height:600px; width:1200px;\"></div>\n",
       "            <script type=\"text/javascript\">\n",
       "                require([\"plotly\"], function(Plotly) {\n",
       "                    window.PLOTLYENV=window.PLOTLYENV || {};\n",
       "                    \n",
       "                if (document.getElementById(\"c70eb589-a2d5-4cfc-a513-f868979dc0f7\")) {\n",
       "                    Plotly.newPlot(\n",
       "                        'c70eb589-a2d5-4cfc-a513-f868979dc0f7',\n",
       "                        [{\"marker\": {\"opacity\": 0.5, \"size\": 20}, \"mode\": \"markers+text\", \"showlegend\": false, \"text\": [1.0, 2.0, 3.0, 4.0, 5.0, 6.0, 7.0, 8.0, 9.0, 10.0, 11.0, 12.0, 13.0, 14.0, 15.0, 16.0, 17.0, 18.0, 19.0, 20.0, 21.0, 22.0, 23.0, 24.0, 25.0, 26.0, 27.0, 28.0, 29.0, 30.0, 31.0, 32.0, 33.0, 34.0, 35.0, 36.0, 37.0, 38.0, 39.0, 40.0, 41.0, 42.0, 43.0, 44.0, 45.0, 46.0, 47.0, 48.0, 49.0, 50.0], \"type\": \"scatter\", \"x\": [0.770833325, 0.7917250000000001, 0.7891667, 0.7791666749999999, 0.756666675, 0.7725000500000002, 0.7583333250000001, 0.7416750000000002, 0.7441666250000002, 0.7467, 0.7249999999999999, 0.759175, 0.7175000000000001, 0.731675, 0.7208333, 0.7066000000000001, 0.7108333500000003, 0.7100000000000001, 0.7066667, 0.6933332999999998, 0.7000000249999999, 0.6908333249999999, 0.69835, 0.6866666249999999, 0.6975, 0.6750000249999999, 0.6783333749999999, 0.6641667000000001, 0.6433333000000002, 0.6708500000000001, 0.6433333999999999, 0.685833325, 0.6024999750000001, 0.6750000249999999, 0.6833333750000002, 0.65250005, 0.6375000000000003, 0.6766666499999999, 0.6325, 0.6333333500000001, 0.60500005, 0.61, 0.5991749999999998, 0.5866666750000001, 0.566666675, 0.6366666750000002, 0.5908333249999996, 0.5883249999999999, 0.584999975, 0.5875], \"y\": [0.975, 0.9375, 0.9125, 0.8999999999999999, 0.8374999999999998, 0.9125, 0.9, 0.9, 0.9, 0.8624999999999998, 0.9249999999999998, 0.8875, 0.85, 0.9125000000000001, 0.8875, 0.8374999999999999, 0.825, 0.8375000000000001, 0.8374999999999998, 0.8624999999999999, 0.8374999999999999, 0.8874999999999998, 0.8124999999999999, 0.8500000000000001, 0.8375, 0.8500000000000001, 0.825, 0.8749999999999999, 0.8124999999999999, 0.7874999999999999, 0.8374999999999998, 0.7499999999999999, 0.9125000000000001, 0.7999999999999999, 0.7374999999999999, 0.7874999999999999, 0.825, 0.7499999999999998, 0.775, 0.825, 0.8375, 0.7999999999999999, 0.7874999999999999, 0.7499999999999999, 0.725, 0.6625, 0.65, 0.6375, 0.675, 0.65]}, {\"line\": {\"color\": \"gray\", \"dash\": \"dash\", \"width\": 7}, \"mode\": \"lines\", \"name\": \"$r^{2}_{partial} = 0.57$\", \"showlegend\": false, \"type\": \"scatter\", \"x\": [0.566666675, 0.5689399914141414, 0.5712133078282828, 0.5734866242424242, 0.5757599406565657, 0.5780332570707071, 0.5803065734848485, 0.5825798898989899, 0.5848532063131313, 0.5871265227272727, 0.5893998391414141, 0.5916731555555556, 0.593946471969697, 0.5962197883838384, 0.5984931047979798, 0.6007664212121212, 0.6030397376262626, 0.605313054040404, 0.6075863704545454, 0.6098596868686869, 0.6121330032828283, 0.6144063196969697, 0.6166796361111111, 0.6189529525252525, 0.6212262689393939, 0.6234995853535354, 0.6257729017676767, 0.6280462181818183, 0.6303195345959596, 0.6325928510101011, 0.6348661674242425, 0.6371394838383839, 0.6394128002525253, 0.6416861166666668, 0.6439594330808082, 0.6462327494949496, 0.648506065909091, 0.6507793823232324, 0.6530526987373738, 0.6553260151515152, 0.6575993315656566, 0.659872647979798, 0.6621459643939395, 0.6644192808080809, 0.6666925972222223, 0.6689659136363637, 0.6712392300505051, 0.6735125464646465, 0.675785862878788, 0.6780591792929294, 0.6803324957070708, 0.6826058121212122, 0.6848791285353536, 0.687152444949495, 0.6894257613636364, 0.6916990777777778, 0.6939723941919193, 0.6962457106060607, 0.6985190270202021, 0.7007923434343435, 0.7030656598484849, 0.7053389762626263, 0.7076122926767677, 0.7098856090909091, 0.7121589255050506, 0.714432241919192, 0.7167055583333334, 0.7189788747474748, 0.7212521911616162, 0.7235255075757576, 0.725798823989899, 0.7280721404040404, 0.730345456818182, 0.7326187732323233, 0.7348920896464648, 0.7371654060606061, 0.7394387224747476, 0.7417120388888889, 0.7439853553030304, 0.7462586717171718, 0.7485319881313133, 0.7508053045454546, 0.7530786209595961, 0.7553519373737374, 0.7576252537878789, 0.7598985702020203, 0.7621718866161618, 0.7644452030303032, 0.7667185194444446, 0.768991835858586, 0.7712651522727274, 0.7735384686868688, 0.7758117851010102, 0.7780851015151516, 0.7803584179292931, 0.7826317343434345, 0.7849050507575759, 0.7871783671717173, 0.7894516835858587, 0.7917250000000001], \"y\": [0.7131914017532568, 0.7153891766398797, 0.7175869515265025, 0.7197847264131254, 0.7219825012997483, 0.7241802761863714, 0.7263780510729942, 0.7285758259596171, 0.73077360084624, 0.7329713757328629, 0.7351691506194857, 0.7373669255061086, 0.7395647003927315, 0.7417624752793543, 0.7439602501659772, 0.7461580250526001, 0.748355799939223, 0.7505535748258458, 0.7527513497124687, 0.7549491245990916, 0.7571468994857145, 0.7593446743723373, 0.7615424492589602, 0.7637402241455831, 0.7659379990322062, 0.768135773918829, 0.7703335488054519, 0.7725313236920748, 0.7747290985786977, 0.7769268734653205, 0.7791246483519434, 0.7813224232385663, 0.7835201981251891, 0.785717973011812, 0.7879157478984351, 0.790113522785058, 0.7923112976716808, 0.7945090725583037, 0.7967068474449266, 0.7989046223315495, 0.8011023972181723, 0.8033001721047952, 0.8054979469914181, 0.807695721878041, 0.8098934967646638, 0.8120912716512867, 0.8142890465379096, 0.8164868214245324, 0.8186845963111553, 0.8208823711977782, 0.823080146084401, 0.8252779209710239, 0.8274756958576468, 0.8296734707442699, 0.8318712456308928, 0.8340690205175156, 0.8362667954041385, 0.8384645702907614, 0.8406623451773843, 0.8428601200640071, 0.84505789495063, 0.8472556698372529, 0.8494534447238757, 0.8516512196104986, 0.8538489944971215, 0.8560467693837444, 0.8582445442703672, 0.8604423191569901, 0.862640094043613, 0.8648378689302358, 0.8670356438168587, 0.8692334187034816, 0.8714311935901047, 0.8736289684767276, 0.8758267433633504, 0.8780245182499733, 0.8802222931365962, 0.882420068023219, 0.8846178429098419, 0.8868156177964648, 0.8890133926830877, 0.8912111675697105, 0.8934089424563336, 0.8956067173429563, 0.8978044922295794, 0.9000022671162022, 0.9022000420028251, 0.904397816889448, 0.9065955917760709, 0.9087933666626937, 0.9109911415493166, 0.9131889164359395, 0.9153866913225623, 0.9175844662091852, 0.9197822410958081, 0.921980015982431, 0.9241777908690538, 0.9263755657556767, 0.9285733406422996, 0.9307711155289224]}, {\"marker\": {\"opacity\": 0.5, \"size\": 20}, \"mode\": \"markers+text\", \"showlegend\": false, \"text\": [1.0, 2.0, 3.0, 4.0, 5.0, 6.0, 7.0, 8.0, 9.0, 10.0, 11.0, 12.0, 13.0, 14.0, 15.0, 16.0, 17.0, 18.0, 19.0, 20.0, 21.0, 22.0, 23.0, 24.0, 25.0, 26.0, 27.0, 28.0, 29.0, 30.0, 31.0, 32.0, 33.0, 34.0, 35.0, 36.0, 37.0, 38.0, 39.0, 40.0, 41.0, 42.0, 43.0, 44.0, 45.0, 46.0, 47.0, 48.0, 49.0, 50.0], \"type\": \"scatter\", \"x\": [0.858333325, 0.860475, 0.8354166999999999, 0.829166675, 0.7854166750000003, 0.8187500500000002, 0.8083333249999999, 0.7916750000000001, 0.804166625, 0.77295, 0.7874999999999998, 0.7979250000000003, 0.7625, 0.797925, 0.7895833000000001, 0.76035, 0.73333335, 0.7437499999999999, 0.7354167000000001, 0.7645833, 0.7437500249999999, 0.7645833249999997, 0.7395999999999999, 0.7416666249999999, 0.7312500000000001, 0.750000025, 0.7208333750000001, 0.7416667, 0.7145833000000003, 0.7145999999999998, 0.7270834, 0.6958333250000001, 0.693749975, 0.7250000250000002, 0.702083375, 0.7062500500000001, 0.7250000000000001, 0.6916666499999999, 0.675, 0.6958333500000001, 0.7187500499999999, 0.6749999999999999, 0.6979250000000001, 0.6666666749999999, 0.6291666749999999, 0.647916675, 0.6208333249999999, 0.6020750000000001, 0.6124999749999999, 0.6124999999999999], \"xaxis\": \"x2\", \"y\": [0.8, 0.8000000000000002, 0.8199999999999998, 0.8, 0.7800000000000002, 0.8199999999999998, 0.8, 0.7999999999999999, 0.7799999999999999, 0.81, 0.8000000000000002, 0.8099999999999999, 0.76, 0.7800000000000001, 0.7499999999999999, 0.73, 0.7800000000000002, 0.77, 0.78, 0.7200000000000001, 0.7500000000000001, 0.74, 0.7300000000000001, 0.7399999999999999, 0.7699999999999999, 0.7000000000000001, 0.7400000000000001, 0.7200000000000001, 0.6700000000000002, 0.7, 0.6699999999999999, 0.7300000000000001, 0.73, 0.7, 0.7000000000000001, 0.6799999999999999, 0.6499999999999999, 0.72, 0.6900000000000002, 0.7, 0.6100000000000001, 0.6699999999999999, 0.59, 0.5900000000000001, 0.6, 0.64, 0.5900000000000001, 0.6100000000000001, 0.62, 0.5999999999999999], \"yaxis\": \"y2\"}, {\"line\": {\"color\": \"gray\", \"dash\": \"dash\", \"width\": 7}, \"mode\": \"lines\", \"name\": \"$r^{2}_{partial} = 0.57$\", \"showlegend\": false, \"type\": \"scatter\", \"x\": [0.6020750000000001, 0.6046851010101012, 0.6072952020202022, 0.6099053030303032, 0.6125154040404042, 0.6151255050505052, 0.6177356060606062, 0.6203457070707072, 0.6229558080808082, 0.6255659090909093, 0.6281760101010102, 0.6307861111111113, 0.6333962121212122, 0.6360063131313133, 0.6386164141414142, 0.6412265151515153, 0.6438366161616162, 0.6464467171717173, 0.6490568181818183, 0.6516669191919193, 0.6542770202020203, 0.6568871212121213, 0.6594972222222223, 0.6621073232323234, 0.6647174242424243, 0.6673275252525254, 0.6699376262626263, 0.6725477272727274, 0.6751578282828283, 0.6777679292929294, 0.6803780303030305, 0.6829881313131314, 0.6855982323232324, 0.6882083333333334, 0.6908184343434345, 0.6934285353535354, 0.6960386363636364, 0.6986487373737374, 0.7012588383838385, 0.7038689393939395, 0.7064790404040405, 0.7090891414141415, 0.7116992424242425, 0.7143093434343435, 0.7169194444444446, 0.7195295454545455, 0.7221396464646466, 0.7247497474747475, 0.7273598484848486, 0.7299699494949495, 0.7325800505050506, 0.7351901515151515, 0.7378002525252526, 0.7404103535353536, 0.7430204545454546, 0.7456305555555556, 0.7482406565656566, 0.7508507575757577, 0.7534608585858587, 0.7560709595959596, 0.7586810606060607, 0.7612911616161617, 0.7639012626262627, 0.7665113636363636, 0.7691214646464647, 0.7717315656565658, 0.7743416666666667, 0.7769517676767677, 0.7795618686868687, 0.7821719696969698, 0.7847820707070707, 0.7873921717171717, 0.7900022727272727, 0.7926123737373738, 0.7952224747474748, 0.7978325757575758, 0.8004426767676768, 0.8030527777777778, 0.8056628787878788, 0.8082729797979799, 0.8108830808080808, 0.8134931818181819, 0.8161032828282828, 0.8187133838383839, 0.8213234848484848, 0.8239335858585859, 0.8265436868686868, 0.8291537878787879, 0.831763888888889, 0.8343739898989899, 0.8369840909090909, 0.8395941919191919, 0.842204292929293, 0.844814393939394, 0.8474244949494949, 0.850034595959596, 0.852644696969697, 0.855254797979798, 0.8578648989898989, 0.860475], \"xaxis\": \"x2\", \"y\": [0.5948706192968835, 0.5973542229863477, 0.5998378266758118, 0.6023214303652759, 0.60480503405474, 0.6072886377442042, 0.6097722414336681, 0.6122558451231324, 0.6147394488125965, 0.6172230525020606, 0.6197066561915247, 0.6221902598809889, 0.624673863570453, 0.6271574672599171, 0.6296410709493812, 0.6321246746388454, 0.6346082783283093, 0.6370918820177736, 0.6395754857072377, 0.6420590893967018, 0.6445426930861659, 0.6470262967756301, 0.649509900465094, 0.6519935041545583, 0.6544771078440224, 0.6569607115334865, 0.6594443152229506, 0.6619279189124148, 0.6644115226018789, 0.666895126291343, 0.6693787299808072, 0.6718623336702713, 0.6743459373597352, 0.6768295410491995, 0.6793131447386637, 0.6817967484281277, 0.6842803521175918, 0.686763955807056, 0.6892475594965201, 0.6917311631859842, 0.6942147668754484, 0.6966983705649125, 0.6991819742543766, 0.7016655779438407, 0.7041491816333049, 0.7066327853227689, 0.7091163890122331, 0.7115999927016972, 0.7140835963911613, 0.7165672000806254, 0.7190508037700896, 0.7215344074595536, 0.7240180111490178, 0.7265016148384819, 0.7289852185279461, 0.73146882221741, 0.7339524259068743, 0.7364360295963385, 0.7389196332858025, 0.7414032369752666, 0.7438868406647308, 0.7463704443541949, 0.748854048043659, 0.7513376517331231, 0.7538212554225872, 0.7563048591120514, 0.7587884628015155, 0.7612720664909796, 0.7637556701804437, 0.7662392738699079, 0.768722877559372, 0.771206481248836, 0.7736900849383002, 0.7761736886277644, 0.7786572923172284, 0.7811408960066926, 0.7836244996961567, 0.7861081033856208, 0.7885917070750849, 0.7910753107645491, 0.7935589144540132, 0.7960425181434773, 0.7985261218329414, 0.8010097255224056, 0.8034933292118696, 0.8059769329013338, 0.8084605365907979, 0.810944140280262, 0.8134277439697262, 0.8159113476591903, 0.8183949513486543, 0.8208785550381185, 0.8233621587275827, 0.8258457624170467, 0.8283293661065108, 0.830812969795975, 0.8332965734854392, 0.8357801771749032, 0.8382637808643673, 0.8407473845538315], \"yaxis\": \"y2\"}, {\"marker\": {\"opacity\": 0.5, \"size\": 20}, \"mode\": \"markers+text\", \"showlegend\": false, \"text\": [1.0, 2.0, 3.0, 4.0, 5.0, 6.0, 7.0, 8.0, 9.0, 10.0, 11.0, 12.0, 13.0, 14.0, 15.0, 16.0, 17.0, 18.0, 19.0, 20.0, 21.0, 22.0, 23.0, 24.0, 25.0, 26.0, 27.0, 28.0, 29.0, 30.0, 31.0, 32.0, 33.0, 34.0, 35.0, 36.0, 37.0, 38.0, 39.0, 40.0, 41.0, 42.0, 43.0, 44.0, 45.0, 46.0, 47.0, 48.0, 49.0, 50.0], \"type\": \"scatter\", \"x\": [0.8875, 0.86875, 0.86625, 0.8499999999999999, 0.80875, 0.8662499999999999, 0.8500000000000001, 0.8500000000000002, 0.8400000000000003, 0.8362499999999999, 0.8625000000000002, 0.8487499999999998, 0.8049999999999999, 0.84625, 0.81875, 0.7837500000000001, 0.8025000000000001, 0.8037499999999997, 0.8087499999999999, 0.79125, 0.7937500000000004, 0.81375, 0.7712499999999999, 0.7949999999999998, 0.8037499999999997, 0.775, 0.7825000000000001, 0.7975, 0.74125, 0.7437499999999999, 0.7537499999999997, 0.7399999999999999, 0.8212499999999999, 0.75, 0.7187500000000003, 0.73375, 0.7375, 0.7349999999999999, 0.7324999999999998, 0.7625, 0.72375, 0.7349999999999999, 0.68875, 0.6700000000000002, 0.6625, 0.6512499999999998, 0.62, 0.62375, 0.6475000000000001, 0.625], \"xaxis\": \"x3\", \"y\": [0.74166665, 0.7834500000000002, 0.7583333999999998, 0.75833335, 0.73333335, 0.7250001, 0.7166666500000001, 0.6833500000000001, 0.70833325, 0.6834, 0.6500000000000001, 0.70835, 0.6749999999999999, 0.68335, 0.6916666, 0.6832, 0.6416666999999999, 0.6499999999999999, 0.6333334, 0.6666666000000001, 0.65000005, 0.6416666499999999, 0.6667, 0.63333325, 0.625, 0.65000005, 0.61666675, 0.6083333999999999, 0.6166666, 0.6417, 0.6166668, 0.6416666499999998, 0.47499994999999995, 0.6500000500000002, 0.66666675, 0.6250001, 0.625, 0.6333333, 0.5750000000000002, 0.5666667, 0.6000000999999999, 0.5499999999999999, 0.60835, 0.5833333499999999, 0.53333335, 0.63333335, 0.5916666500000002, 0.5666500000000001, 0.54999995, 0.575], \"yaxis\": \"y3\"}, {\"line\": {\"color\": \"gray\", \"dash\": \"dash\", \"width\": 7}, \"mode\": \"lines\", \"name\": \"$r^{2}_{partial} = 0.57$\", \"showlegend\": false, \"type\": \"scatter\", \"x\": [0.62, 0.6227020202020201, 0.6254040404040404, 0.6281060606060606, 0.6308080808080808, 0.633510101010101, 0.6362121212121212, 0.6389141414141414, 0.6416161616161616, 0.6443181818181818, 0.647020202020202, 0.6497222222222222, 0.6524242424242425, 0.6551262626262626, 0.6578282828282829, 0.660530303030303, 0.6632323232323232, 0.6659343434343434, 0.6686363636363636, 0.6713383838383838, 0.674040404040404, 0.6767424242424243, 0.6794444444444444, 0.6821464646464647, 0.6848484848484848, 0.6875505050505051, 0.6902525252525252, 0.6929545454545454, 0.6956565656565656, 0.6983585858585859, 0.701060606060606, 0.7037626262626262, 0.7064646464646465, 0.7091666666666666, 0.7118686868686869, 0.714570707070707, 0.7172727272727273, 0.7199747474747474, 0.7226767676767677, 0.7253787878787878, 0.7280808080808081, 0.7307828282828283, 0.7334848484848484, 0.7361868686868687, 0.7388888888888889, 0.7415909090909091, 0.7442929292929292, 0.7469949494949495, 0.7496969696969696, 0.7523989898989899, 0.75510101010101, 0.7578030303030303, 0.7605050505050505, 0.7632070707070707, 0.7659090909090909, 0.7686111111111111, 0.7713131313131313, 0.7740151515151514, 0.7767171717171717, 0.779419191919192, 0.7821212121212121, 0.7848232323232323, 0.7875252525252525, 0.7902272727272727, 0.7929292929292929, 0.7956313131313131, 0.7983333333333333, 0.8010353535353535, 0.8037373737373736, 0.8064393939393939, 0.8091414141414142, 0.8118434343434343, 0.8145454545454545, 0.8172474747474747, 0.819949494949495, 0.8226515151515151, 0.8253535353535353, 0.8280555555555555, 0.8307575757575757, 0.833459595959596, 0.8361616161616161, 0.8388636363636364, 0.8415656565656565, 0.8442676767676767, 0.8469696969696969, 0.8496717171717172, 0.8523737373737373, 0.8550757575757575, 0.8577777777777778, 0.8604797979797979, 0.8631818181818182, 0.8658838383838383, 0.8685858585858586, 0.8712878787878787, 0.8739898989898989, 0.8766919191919191, 0.8793939393939394, 0.8820959595959595, 0.8847979797979797, 0.8875], \"xaxis\": \"x3\", \"y\": [0.5513347043106962, 0.5529693818707564, 0.5546040594308168, 0.556238736990877, 0.5578734145509374, 0.5595080921109976, 0.561142769671058, 0.5627774472311182, 0.5644121247911786, 0.5660468023512388, 0.5676814799112992, 0.5693161574713594, 0.5709508350314199, 0.57258551259148, 0.5742201901515405, 0.5758548677116007, 0.5774895452716611, 0.5791242228317214, 0.5807589003917817, 0.582393577951842, 0.5840282555119023, 0.5856629330719626, 0.5872976106320229, 0.5889322881920832, 0.5905669657521435, 0.5922016433122038, 0.5938363208722641, 0.5954709984323243, 0.5971056759923847, 0.598740353552445, 0.6003750311125053, 0.6020097086725655, 0.603644386232626, 0.6052790637926861, 0.6069137413527466, 0.6085484189128068, 0.6101830964728672, 0.6118177740329274, 0.6134524515929878, 0.615087129153048, 0.6167218067131084, 0.6183564842731686, 0.6199911618332289, 0.6216258393932892, 0.6232605169533496, 0.6248951945134098, 0.6265298720734701, 0.6281645496335304, 0.6297992271935907, 0.631433904753651, 0.6330685823137113, 0.6347032598737716, 0.636337937433832, 0.6379726149938922, 0.6396072925539527, 0.6412419701140128, 0.6428766476740733, 0.6445113252341335, 0.6461460027941939, 0.6477806803542541, 0.6494153579143145, 0.6510500354743747, 0.6526847130344351, 0.6543193905944953, 0.6559540681545557, 0.6575887457146159, 0.6592234232746763, 0.6608581008347365, 0.6624927783947968, 0.6641274559548571, 0.6657621335149175, 0.6673968110749777, 0.669031488635038, 0.6706661661950983, 0.6723008437551588, 0.6739355213152189, 0.6755701988752792, 0.6772048764353396, 0.6788395539953999, 0.6804742315554602, 0.6821089091155205, 0.6837435866755808, 0.6853782642356411, 0.6870129417957014, 0.6886476193557617, 0.690282296915822, 0.6919169744758823, 0.6935516520359426, 0.6951863295960029, 0.6968210071560632, 0.6984556847161235, 0.7000903622761838, 0.7017250398362441, 0.7033597173963044, 0.7049943949563647, 0.706629072516425, 0.7082637500764853, 0.7098984276365456, 0.711533105196606, 0.7131677827566663], \"yaxis\": \"y3\"}],\n",
       "                        {\"annotations\": [{\"showarrow\": false, \"text\": \"$r^{2} = 0.56^{*}$\", \"x\": 0.6, \"xref\": \"x\", \"y\": 0.95, \"yref\": \"y\"}, {\"showarrow\": false, \"text\": \"$r^{2} = 0.73^{*}$\", \"x\": 0.65, \"xref\": \"x2\", \"y\": 0.9, \"yref\": \"y2\"}, {\"showarrow\": false, \"text\": \"$r^{2} = 0.47^{*}$\", \"x\": 0.65, \"xref\": \"x3\", \"y\": 0.8, \"yref\": \"y3\"}], \"height\": 600, \"template\": {\"data\": {\"bar\": [{\"error_x\": {\"color\": \"#2a3f5f\"}, \"error_y\": {\"color\": \"#2a3f5f\"}, \"marker\": {\"line\": {\"color\": \"#E5ECF6\", \"width\": 0.5}}, \"type\": \"bar\"}], \"barpolar\": [{\"marker\": {\"line\": {\"color\": \"#E5ECF6\", \"width\": 0.5}}, \"type\": \"barpolar\"}], \"carpet\": [{\"aaxis\": {\"endlinecolor\": \"#2a3f5f\", \"gridcolor\": \"white\", \"linecolor\": \"white\", \"minorgridcolor\": \"white\", \"startlinecolor\": \"#2a3f5f\"}, \"baxis\": {\"endlinecolor\": \"#2a3f5f\", \"gridcolor\": \"white\", \"linecolor\": \"white\", \"minorgridcolor\": \"white\", \"startlinecolor\": \"#2a3f5f\"}, \"type\": \"carpet\"}], \"choropleth\": [{\"colorbar\": {\"outlinewidth\": 0, \"ticks\": \"\"}, \"type\": \"choropleth\"}], \"contour\": [{\"colorbar\": {\"outlinewidth\": 0, \"ticks\": \"\"}, \"colorscale\": [[0.0, \"#0d0887\"], [0.1111111111111111, \"#46039f\"], [0.2222222222222222, \"#7201a8\"], [0.3333333333333333, \"#9c179e\"], [0.4444444444444444, \"#bd3786\"], [0.5555555555555556, \"#d8576b\"], [0.6666666666666666, \"#ed7953\"], [0.7777777777777778, \"#fb9f3a\"], [0.8888888888888888, \"#fdca26\"], [1.0, \"#f0f921\"]], \"type\": \"contour\"}], \"contourcarpet\": [{\"colorbar\": {\"outlinewidth\": 0, \"ticks\": \"\"}, \"type\": \"contourcarpet\"}], \"heatmap\": [{\"colorbar\": {\"outlinewidth\": 0, \"ticks\": \"\"}, \"colorscale\": [[0.0, \"#0d0887\"], [0.1111111111111111, \"#46039f\"], [0.2222222222222222, \"#7201a8\"], [0.3333333333333333, \"#9c179e\"], [0.4444444444444444, \"#bd3786\"], [0.5555555555555556, \"#d8576b\"], [0.6666666666666666, \"#ed7953\"], [0.7777777777777778, \"#fb9f3a\"], [0.8888888888888888, \"#fdca26\"], [1.0, \"#f0f921\"]], \"type\": \"heatmap\"}], \"heatmapgl\": [{\"colorbar\": {\"outlinewidth\": 0, \"ticks\": \"\"}, \"colorscale\": [[0.0, \"#0d0887\"], [0.1111111111111111, \"#46039f\"], [0.2222222222222222, \"#7201a8\"], [0.3333333333333333, \"#9c179e\"], [0.4444444444444444, \"#bd3786\"], [0.5555555555555556, \"#d8576b\"], [0.6666666666666666, \"#ed7953\"], [0.7777777777777778, \"#fb9f3a\"], [0.8888888888888888, \"#fdca26\"], [1.0, \"#f0f921\"]], \"type\": \"heatmapgl\"}], \"histogram\": [{\"marker\": {\"colorbar\": {\"outlinewidth\": 0, \"ticks\": \"\"}}, \"type\": \"histogram\"}], \"histogram2d\": [{\"colorbar\": {\"outlinewidth\": 0, \"ticks\": \"\"}, \"colorscale\": [[0.0, \"#0d0887\"], [0.1111111111111111, \"#46039f\"], [0.2222222222222222, \"#7201a8\"], [0.3333333333333333, \"#9c179e\"], [0.4444444444444444, \"#bd3786\"], [0.5555555555555556, \"#d8576b\"], [0.6666666666666666, \"#ed7953\"], [0.7777777777777778, \"#fb9f3a\"], [0.8888888888888888, \"#fdca26\"], [1.0, \"#f0f921\"]], \"type\": \"histogram2d\"}], \"histogram2dcontour\": [{\"colorbar\": {\"outlinewidth\": 0, \"ticks\": \"\"}, \"colorscale\": [[0.0, \"#0d0887\"], [0.1111111111111111, \"#46039f\"], [0.2222222222222222, \"#7201a8\"], [0.3333333333333333, \"#9c179e\"], [0.4444444444444444, \"#bd3786\"], [0.5555555555555556, \"#d8576b\"], [0.6666666666666666, \"#ed7953\"], [0.7777777777777778, \"#fb9f3a\"], [0.8888888888888888, \"#fdca26\"], [1.0, \"#f0f921\"]], \"type\": \"histogram2dcontour\"}], \"mesh3d\": [{\"colorbar\": {\"outlinewidth\": 0, \"ticks\": \"\"}, \"type\": \"mesh3d\"}], \"parcoords\": [{\"line\": {\"colorbar\": {\"outlinewidth\": 0, \"ticks\": \"\"}}, \"type\": \"parcoords\"}], \"scatter\": [{\"marker\": {\"colorbar\": {\"outlinewidth\": 0, \"ticks\": \"\"}}, \"type\": \"scatter\"}], \"scatter3d\": [{\"line\": {\"colorbar\": {\"outlinewidth\": 0, \"ticks\": \"\"}}, \"marker\": {\"colorbar\": {\"outlinewidth\": 0, \"ticks\": \"\"}}, \"type\": \"scatter3d\"}], \"scattercarpet\": [{\"marker\": {\"colorbar\": {\"outlinewidth\": 0, \"ticks\": \"\"}}, \"type\": \"scattercarpet\"}], \"scattergeo\": [{\"marker\": {\"colorbar\": {\"outlinewidth\": 0, \"ticks\": \"\"}}, \"type\": \"scattergeo\"}], \"scattergl\": [{\"marker\": {\"colorbar\": {\"outlinewidth\": 0, \"ticks\": \"\"}}, \"type\": \"scattergl\"}], \"scattermapbox\": [{\"marker\": {\"colorbar\": {\"outlinewidth\": 0, \"ticks\": \"\"}}, \"type\": \"scattermapbox\"}], \"scatterpolar\": [{\"marker\": {\"colorbar\": {\"outlinewidth\": 0, \"ticks\": \"\"}}, \"type\": \"scatterpolar\"}], \"scatterpolargl\": [{\"marker\": {\"colorbar\": {\"outlinewidth\": 0, \"ticks\": \"\"}}, \"type\": \"scatterpolargl\"}], \"scatterternary\": [{\"marker\": {\"colorbar\": {\"outlinewidth\": 0, \"ticks\": \"\"}}, \"type\": \"scatterternary\"}], \"surface\": [{\"colorbar\": {\"outlinewidth\": 0, \"ticks\": \"\"}, \"colorscale\": [[0.0, \"#0d0887\"], [0.1111111111111111, \"#46039f\"], [0.2222222222222222, \"#7201a8\"], [0.3333333333333333, \"#9c179e\"], [0.4444444444444444, \"#bd3786\"], [0.5555555555555556, \"#d8576b\"], [0.6666666666666666, \"#ed7953\"], [0.7777777777777778, \"#fb9f3a\"], [0.8888888888888888, \"#fdca26\"], [1.0, \"#f0f921\"]], \"type\": \"surface\"}], \"table\": [{\"cells\": {\"fill\": {\"color\": \"#EBF0F8\"}, \"line\": {\"color\": \"white\"}}, \"header\": {\"fill\": {\"color\": \"#C8D4E3\"}, \"line\": {\"color\": \"white\"}}, \"type\": \"table\"}]}, \"layout\": {\"annotationdefaults\": {\"arrowcolor\": \"#2a3f5f\", \"arrowhead\": 0, \"arrowwidth\": 1}, \"colorscale\": {\"diverging\": [[0, \"#8e0152\"], [0.1, \"#c51b7d\"], [0.2, \"#de77ae\"], [0.3, \"#f1b6da\"], [0.4, \"#fde0ef\"], [0.5, \"#f7f7f7\"], [0.6, \"#e6f5d0\"], [0.7, \"#b8e186\"], [0.8, \"#7fbc41\"], [0.9, \"#4d9221\"], [1, \"#276419\"]], \"sequential\": [[0.0, \"#0d0887\"], [0.1111111111111111, \"#46039f\"], [0.2222222222222222, \"#7201a8\"], [0.3333333333333333, \"#9c179e\"], [0.4444444444444444, \"#bd3786\"], [0.5555555555555556, \"#d8576b\"], [0.6666666666666666, \"#ed7953\"], [0.7777777777777778, \"#fb9f3a\"], [0.8888888888888888, \"#fdca26\"], [1.0, \"#f0f921\"]], \"sequentialminus\": [[0.0, \"#0d0887\"], [0.1111111111111111, \"#46039f\"], [0.2222222222222222, \"#7201a8\"], [0.3333333333333333, \"#9c179e\"], [0.4444444444444444, \"#bd3786\"], [0.5555555555555556, \"#d8576b\"], [0.6666666666666666, \"#ed7953\"], [0.7777777777777778, \"#fb9f3a\"], [0.8888888888888888, \"#fdca26\"], [1.0, \"#f0f921\"]]}, \"colorway\": [\"#636efa\", \"#EF553B\", \"#00cc96\", \"#ab63fa\", \"#FFA15A\", \"#19d3f3\", \"#FF6692\", \"#B6E880\", \"#FF97FF\", \"#FECB52\"], \"font\": {\"color\": \"#2a3f5f\"}, \"geo\": {\"bgcolor\": \"white\", \"lakecolor\": \"white\", \"landcolor\": \"#E5ECF6\", \"showlakes\": true, \"showland\": true, \"subunitcolor\": \"white\"}, \"hoverlabel\": {\"align\": \"left\"}, \"hovermode\": \"closest\", \"mapbox\": {\"style\": \"light\"}, \"paper_bgcolor\": \"white\", \"plot_bgcolor\": \"#E5ECF6\", \"polar\": {\"angularaxis\": {\"gridcolor\": \"white\", \"linecolor\": \"white\", \"ticks\": \"\"}, \"bgcolor\": \"#E5ECF6\", \"radialaxis\": {\"gridcolor\": \"white\", \"linecolor\": \"white\", \"ticks\": \"\"}}, \"scene\": {\"xaxis\": {\"backgroundcolor\": \"#E5ECF6\", \"gridcolor\": \"white\", \"gridwidth\": 2, \"linecolor\": \"white\", \"showbackground\": true, \"ticks\": \"\", \"zerolinecolor\": \"white\"}, \"yaxis\": {\"backgroundcolor\": \"#E5ECF6\", \"gridcolor\": \"white\", \"gridwidth\": 2, \"linecolor\": \"white\", \"showbackground\": true, \"ticks\": \"\", \"zerolinecolor\": \"white\"}, \"zaxis\": {\"backgroundcolor\": \"#E5ECF6\", \"gridcolor\": \"white\", \"gridwidth\": 2, \"linecolor\": \"white\", \"showbackground\": true, \"ticks\": \"\", \"zerolinecolor\": \"white\"}}, \"shapedefaults\": {\"line\": {\"color\": \"#2a3f5f\"}}, \"ternary\": {\"aaxis\": {\"gridcolor\": \"white\", \"linecolor\": \"white\", \"ticks\": \"\"}, \"baxis\": {\"gridcolor\": \"white\", \"linecolor\": \"white\", \"ticks\": \"\"}, \"bgcolor\": \"#E5ECF6\", \"caxis\": {\"gridcolor\": \"white\", \"linecolor\": \"white\", \"ticks\": \"\"}}, \"title\": {\"x\": 0.05}, \"xaxis\": {\"automargin\": true, \"gridcolor\": \"white\", \"linecolor\": \"white\", \"ticks\": \"\", \"zerolinecolor\": \"white\", \"zerolinewidth\": 2}, \"yaxis\": {\"automargin\": true, \"gridcolor\": \"white\", \"linecolor\": \"white\", \"ticks\": \"\", \"zerolinecolor\": \"white\", \"zerolinewidth\": 2}}}, \"title\": {\"text\": \"Consistent performance for low and high tracking loads across individuals\"}, \"width\": 1200, \"xaxis\": {\"domain\": [0, 0.27], \"title\": {\"text\": \"accuracy in loads [5,6]\"}}, \"xaxis2\": {\"anchor\": \"y2\", \"domain\": [0.33, 0.63], \"title\": {\"text\": \"accuracy in loads [4,6]\"}}, \"xaxis3\": {\"anchor\": \"y3\", \"domain\": [0.67, 1.0], \"title\": {\"text\": \"accuracy in loads [4,5]\"}}, \"yaxis\": {\"title\": {\"text\": \"accuracy in load [4]\"}}, \"yaxis2\": {\"anchor\": \"x2\", \"title\": {\"text\": \"accuracy in load [5]\"}}, \"yaxis3\": {\"anchor\": \"x3\", \"title\": {\"text\": \"accuracy in load [6]\"}}},\n",
       "                        {\"responsive\": true}\n",
       "                    ).then(function(){\n",
       "                            \n",
       "var gd = document.getElementById('c70eb589-a2d5-4cfc-a513-f868979dc0f7');\n",
       "var x = new MutationObserver(function (mutations, observer) {{\n",
       "        var display = window.getComputedStyle(gd).display;\n",
       "        if (!display || display === 'none') {{\n",
       "            console.log([gd, 'removed!']);\n",
       "            Plotly.purge(gd);\n",
       "            observer.disconnect();\n",
       "        }}\n",
       "}});\n",
       "\n",
       "// Listen for the removal of the full notebook cells\n",
       "var notebookContainer = gd.closest('#notebook-container');\n",
       "if (notebookContainer) {{\n",
       "    x.observe(notebookContainer, {childList: true});\n",
       "}}\n",
       "\n",
       "// Listen for the clearing of the current output cell\n",
       "var outputEl = gd.closest('.output');\n",
       "if (outputEl) {{\n",
       "    x.observe(outputEl, {childList: true});\n",
       "}}\n",
       "\n",
       "                        })\n",
       "                };\n",
       "                });\n",
       "            </script>\n",
       "        </div>"
      ]
     },
     "metadata": {},
     "output_type": "display_data"
    }
   ],
   "source": [
    "odd_set = [4]\n",
    "even_set = [5,6]\n",
    "sub_id = individual_ranking['subject_Num'].to_numpy()\n",
    "\n",
    "even_load_data = behavior_data.filter_by(even_set,'num_targets')\n",
    "individual_even_load_data = even_load_data.groupby('subject_Num',operations = {'avg_accuracy':agg.MEAN('accuracy')})\n",
    "individual_even_load_data = individual_even_load_data.sort('subject_Num')\n",
    "individual_even_load_data['rank'] = individual_ranking['rank'] #store the global rank\n",
    "individual_even_load_data = individual_even_load_data.sort('rank')\n",
    "\n",
    "odd_load_data = behavior_data.filter_by(odd_set,'num_targets')\n",
    "individual_odd_load_data = odd_load_data.groupby('subject_Num',operations = {'avg_accuracy':agg.MEAN('accuracy')})\n",
    "individual_odd_load_data = individual_odd_load_data.sort('subject_Num')\n",
    "individual_odd_load_data['rank'] = individual_ranking['rank']\n",
    "individual_odd_load_data = individual_odd_load_data.sort('rank')\n",
    "\n",
    "hsb = individual_odd_load_data\n",
    "hsb['avg_accuracy_even'] = individual_even_load_data['avg_accuracy']\n",
    "hsb2 = hsb.to_dataframe()\n",
    "\n",
    "mod = ols(\"avg_accuracy ~ avg_accuracy_even\", data=hsb2)\n",
    "res = mod.fit()\n",
    "print(res.rsquared)\n",
    "\n",
    "sec2_trace_1 = go.Scatter(x = individual_even_load_data['avg_accuracy'].to_numpy(),\n",
    "                       y = individual_odd_load_data['avg_accuracy'].to_numpy(),\n",
    "                       mode='markers+text', marker = dict(size = 20, opacity = 0.5),\n",
    "                       text = individual_even_load_data['rank'].to_numpy(),\n",
    "                       showlegend=False)\n",
    "\n",
    "sec2_trace_fit_1 = go.Scatter(x = np.linspace(individual_even_load_data['avg_accuracy'].min(),individual_even_load_data['avg_accuracy'].max(),100),\n",
    "                   y = np.linspace(individual_even_load_data['avg_accuracy'].min(),individual_even_load_data['avg_accuracy'].max(),100)*res.params[1] + res.params[0],\n",
    "                    mode='lines',\n",
    "                  line = dict(width = 7, color='gray', dash = 'dash'),\n",
    "                    name = '$r^{2}_{partial} = 0.57$',\n",
    "                   showlegend=False)\n",
    "\n",
    "odd_set = [5]\n",
    "even_set = [4,6]\n",
    "sub_id = individual_ranking['subject_Num'].to_numpy()\n",
    "\n",
    "even_load_data = behavior_data.filter_by(even_set,'num_targets')\n",
    "individual_even_load_data = even_load_data.groupby('subject_Num',operations = {'avg_accuracy':agg.MEAN('accuracy')})\n",
    "individual_even_load_data = individual_even_load_data.sort('subject_Num')\n",
    "individual_even_load_data['rank'] = individual_ranking['rank'] # store the global rank\n",
    "individual_even_load_data = individual_even_load_data.sort('rank')\n",
    "\n",
    "odd_load_data = behavior_data.filter_by(odd_set,'num_targets')\n",
    "individual_odd_load_data = odd_load_data.groupby('subject_Num',operations = {'avg_accuracy':agg.MEAN('accuracy')})\n",
    "individual_odd_load_data = individual_odd_load_data.sort('subject_Num')\n",
    "individual_odd_load_data['rank'] = individual_ranking['rank']\n",
    "individual_odd_load_data = individual_odd_load_data.sort('rank')\n",
    "\n",
    "hsb = individual_odd_load_data\n",
    "hsb['avg_accuracy_even'] = individual_even_load_data['avg_accuracy']\n",
    "hsb2 = hsb.to_dataframe()\n",
    "\n",
    "mod = ols(\"avg_accuracy ~ avg_accuracy_even\", data=hsb2)\n",
    "res = mod.fit()\n",
    "print(res.rsquared)\n",
    "\n",
    "sec2_trace_2 = go.Scatter(x = individual_even_load_data['avg_accuracy'].to_numpy(),\n",
    "                       y = individual_odd_load_data['avg_accuracy'].to_numpy(),\n",
    "                       mode='markers+text', marker = dict(size = 20, opacity = 0.5),\n",
    "                       text = individual_even_load_data['rank'].to_numpy(),\n",
    "                       showlegend=False, xaxis = 'x2', yaxis = 'y2')\n",
    "\n",
    "sec2_trace_fit_2 = go.Scatter(x = np.linspace(individual_even_load_data['avg_accuracy'].min(),individual_even_load_data['avg_accuracy'].max(),100),\n",
    "                   y = np.linspace(individual_even_load_data['avg_accuracy'].min(),individual_even_load_data['avg_accuracy'].max(),100)*res.params[1] + res.params[0],\n",
    "                    mode='lines',\n",
    "                  line = dict(width = 7, color='gray', dash = 'dash'),\n",
    "                    name = '$r^{2}_{partial} = 0.57$',\n",
    "                   showlegend=False, xaxis = 'x2', yaxis = 'y2')\n",
    "\n",
    "odd_set = [6]\n",
    "even_set = [4,5]\n",
    "sub_id = individual_ranking['subject_Num'].to_numpy()\n",
    "\n",
    "even_load_data = behavior_data.filter_by(even_set,'num_targets')\n",
    "individual_even_load_data = even_load_data.groupby('subject_Num',operations = {'avg_accuracy':agg.MEAN('accuracy')})\n",
    "individual_even_load_data = individual_even_load_data.sort('subject_Num')\n",
    "individual_even_load_data['rank'] = individual_ranking['rank'] # store the global rank\n",
    "individual_even_load_data = individual_even_load_data.sort('rank')\n",
    "\n",
    "odd_load_data = behavior_data.filter_by(odd_set,'num_targets')\n",
    "individual_odd_load_data = odd_load_data.groupby('subject_Num',operations = {'avg_accuracy':agg.MEAN('accuracy')})\n",
    "individual_odd_load_data = individual_odd_load_data.sort('subject_Num')\n",
    "individual_odd_load_data['rank'] = individual_ranking['rank'] # store the global rank\n",
    "individual_odd_load_data = individual_odd_load_data.sort('rank')\n",
    "\n",
    "hsb = individual_odd_load_data\n",
    "hsb['avg_accuracy_even'] = individual_even_load_data['avg_accuracy']\n",
    "hsb2 = hsb.to_dataframe()\n",
    "\n",
    "mod = ols(\"avg_accuracy ~ avg_accuracy_even\", data=hsb2)\n",
    "res = mod.fit()\n",
    "print(res.rsquared)\n",
    "\n",
    "sec2_trace_3 = go.Scatter(x = individual_even_load_data['avg_accuracy'].to_numpy(),\n",
    "                       y = individual_odd_load_data['avg_accuracy'].to_numpy(),\n",
    "                       mode='markers+text', marker = dict(size = 20, opacity = 0.5),\n",
    "                       text = individual_even_load_data['rank'].to_numpy(),\n",
    "                       showlegend=False, xaxis = 'x3', yaxis = 'y3')\n",
    "\n",
    "sec2_trace_fit_3 = go.Scatter(x = np.linspace(individual_even_load_data['avg_accuracy'].min(),individual_even_load_data['avg_accuracy'].max(),100),\n",
    "                   y = np.linspace(individual_even_load_data['avg_accuracy'].min(),individual_even_load_data['avg_accuracy'].max(),100)*res.params[1] + res.params[0],\n",
    "                    mode='lines',\n",
    "                  line = dict(width = 7, color='gray', dash = 'dash'),\n",
    "                    name = '$r^{2}_{partial} = 0.57$',\n",
    "                   showlegend=False, xaxis = 'x3', yaxis = 'y3')\n",
    "\n",
    "\n",
    "layout = go.Layout(title = '',\n",
    "                  xaxis = dict(title = 'accuracy in loads [5,6]', domain = [0, 0.27]),\n",
    "                  yaxis = dict(title = 'accuracy in load [4]'),\n",
    "                  xaxis2 = dict(title = 'accuracy in loads [4,6]', anchor = 'y2', domain = [0.33, 0.63]),\n",
    "                  yaxis2 = dict(title = 'accuracy in load [5]', anchor = 'x2'),\n",
    "                  xaxis3 = dict(title = 'accuracy in loads [4,5]', anchor = 'y3', domain = [0.67, 1.0]),\n",
    "                  yaxis3 = dict(title = 'accuracy in load [6]', anchor = 'x3'))\n",
    "\n",
    "fig = go.Figure(data = [sec2_trace_1, sec2_trace_fit_1, sec2_trace_2, sec2_trace_fit_2, sec2_trace_3, sec2_trace_fit_3], layout = layout)\n",
    "#fig = tools.make_subplots(rows=1, cols=3, subplot_titles=('4 vs. [5,6]', '5 vs. [4,6]',\n",
    "#                                                          '6 vs [4,5]'))\n",
    "#fig.add_trace\n",
    "fig['layout']['annotations']= [dict(x=.6,y=.95,xref='x1',yref='y1',text='$r^{2} = 0.56^{*}$', showarrow=False),\n",
    "                              dict(x=.65,y=.9,xref='x2',yref='y2',text='$r^{2} = 0.73^{*}$', showarrow=False),\n",
    "                              dict(x=.65,y=.8,xref='x3',yref='y3',text='$r^{2} = 0.47^{*}$', showarrow=False)]\n",
    "fig['layout'].update(width = 1200, height = 600,title=('Consistent performance for low and high tracking loads across individuals'))\n",
    "\n",
    "iplot(fig, filename='split half correlations across target loads')"
   ]
  },
  {
   "cell_type": "markdown",
   "metadata": {},
   "source": [
    "## Check for consistencies when compared across speeds for these ranked individuals"
   ]
  },
  {
   "cell_type": "code",
   "execution_count": 24,
   "metadata": {
    "code_folding": [
     23,
     29
    ]
   },
   "outputs": [
    {
     "name": "stdout",
     "output_type": "stream",
     "text": [
      "0.7758722970900837\n"
     ]
    },
    {
     "data": {
      "application/vnd.plotly.v1+json": {
       "config": {
        "plotlyServerURL": "https://plot.ly"
       },
       "data": [
        {
         "marker": {
          "color": "gray",
          "line": {
           "color": "black",
           "width": 1.5
          },
          "opacity": 0.5,
          "size": 14
         },
         "mode": "markers+text",
         "showlegend": false,
         "text": [
          1,
          2,
          3,
          4,
          5,
          6,
          7,
          8,
          9,
          10,
          11,
          12,
          13,
          14,
          15,
          16,
          17,
          18,
          19,
          20,
          21,
          22,
          23,
          24,
          25,
          26,
          27,
          28,
          29,
          30,
          31,
          32,
          33,
          34,
          35,
          36,
          37,
          38,
          39,
          40,
          41,
          42,
          43,
          44,
          45,
          46,
          47,
          48,
          49,
          50
         ],
         "textfont": {
          "size": 9
         },
         "type": "scatter",
         "x": [
          0.8811904999999998,
          0.8744000000000001,
          0.8838690833333335,
          0.8588690833333334,
          0.8657341333333335,
          0.8514682999999998,
          0.8481150999999999,
          0.8314666666666668,
          0.8399801833333335,
          0.8454500000000003,
          0.8315674833333332,
          0.8394666666666667,
          0.8398214333333336,
          0.83725,
          0.8093055666666665,
          0.8167500000000001,
          0.8543849666666665,
          0.8286309833333332,
          0.812381,
          0.8027381000000001,
          0.8030556166666666,
          0.8047024166666668,
          0.8087833333333332,
          0.8008730333333332,
          0.7886309833333334,
          0.7835119500000001,
          0.79763895,
          0.7671627333333335,
          0.7682540166666667,
          0.7752333333333334,
          0.7376587499999998,
          0.7907936833333333,
          0.78371035,
          0.7557341833333332,
          0.7583135166666666,
          0.7751786333333335,
          0.7579166999999999,
          0.7489285999999999,
          0.7286111499999999,
          0.7440873499999997,
          0.7030555833333333,
          0.7144444833333335,
          0.71885,
          0.7134127666666666,
          0.6974405333333333,
          0.7039881333333332,
          0.6692063666666666,
          0.6868999999999997,
          0.6586508166666668,
          0.6725199000000001
         ],
         "y": [
          0.72535715,
          0.7274499999999999,
          0.7137698999999998,
          0.7193055833333334,
          0.6919842,
          0.705892883333333,
          0.7057539666666665,
          0.7047,
          0.6907539833333336,
          0.6812666666666665,
          0.6891667333333336,
          0.6777666666666667,
          0.6764087666666666,
          0.6724000000000001,
          0.6874206499999999,
          0.6786666666666666,
          0.6394444666666671,
          0.6621627499999999,
          0.6664682999999999,
          0.6758532333333332,
          0.6698611833333332,
          0.6671627166666669,
          0.6619666666666668,
          0.6573016166666666,
          0.6590080000000001,
          0.6613293833333336,
          0.6464484833333334,
          0.6747223000000002,
          0.6599404833333333,
          0.6369333333333332,
          0.6738690999999998,
          0.61662705,
          0.6114087666666669,
          0.6365278499999998,
          0.6336508499999999,
          0.6096230666666668,
          0.6180754500000002,
          0.6228174666666665,
          0.62827385,
          0.605813516666667,
          0.6397619333333335,
          0.6257539666666662,
          0.6077666666666666,
          0.5955555833333334,
          0.5989881333333335,
          0.5880159166666665,
          0.5893651333333332,
          0.5622499999999999,
          0.5747023666666665,
          0.5546627666666666
         ]
        },
        {
         "line": {
          "color": "gray",
          "dash": "dash",
          "width": 3.5
         },
         "mode": "lines",
         "name": "$r^{2}_{partial} = 0.771$",
         "showlegend": false,
         "type": "scatter",
         "x": [
          0.6586508166666668,
          0.6609257486531988,
          0.6632006806397308,
          0.6654756126262628,
          0.6677505446127947,
          0.6700254765993268,
          0.6723004085858587,
          0.6745753405723907,
          0.6768502725589227,
          0.6791252045454547,
          0.6814001365319867,
          0.6836750685185187,
          0.6859500005050506,
          0.6882249324915827,
          0.6904998644781146,
          0.6927747964646466,
          0.6950497284511786,
          0.6973246604377106,
          0.6995995924242425,
          0.7018745244107746,
          0.7041494563973065,
          0.7064243883838385,
          0.7086993203703705,
          0.7109742523569025,
          0.7132491843434345,
          0.7155241163299665,
          0.7177990483164984,
          0.7200739803030305,
          0.7223489122895624,
          0.7246238442760944,
          0.7268987762626264,
          0.7291737082491584,
          0.7314486402356903,
          0.7337235722222224,
          0.7359985042087543,
          0.7382734361952863,
          0.7405483681818184,
          0.7428233001683503,
          0.7450982321548822,
          0.7473731641414143,
          0.7496480961279463,
          0.7519230281144783,
          0.7541979601010103,
          0.7564728920875422,
          0.7587478240740743,
          0.7610227560606062,
          0.7632976880471382,
          0.7655726200336702,
          0.7678475520202022,
          0.7701224840067341,
          0.7723974159932662,
          0.7746723479797981,
          0.7769472799663302,
          0.7792222119528621,
          0.7814971439393941,
          0.7837720759259261,
          0.7860470079124581,
          0.78832193989899,
          0.7905968718855221,
          0.792871803872054,
          0.795146735858586,
          0.797421667845118,
          0.79969659983165,
          0.8019715318181819,
          0.804246463804714,
          0.8065213957912459,
          0.8087963277777779,
          0.8110712597643099,
          0.8133461917508419,
          0.8156211237373738,
          0.8178960557239059,
          0.8201709877104378,
          0.8224459196969698,
          0.8247208516835018,
          0.8269957836700338,
          0.8292707156565658,
          0.8315456476430978,
          0.8338205796296297,
          0.8360955116161618,
          0.8383704436026937,
          0.8406453755892258,
          0.8429203075757578,
          0.8451952395622897,
          0.8474701715488218,
          0.8497451035353537,
          0.8520200355218857,
          0.8542949675084177,
          0.8565698994949497,
          0.8588448314814816,
          0.8611197634680137,
          0.8633946954545456,
          0.8656696274410776,
          0.8679445594276096,
          0.8702194914141416,
          0.8724944234006735,
          0.8747693553872056,
          0.8770442873737375,
          0.8793192193602695,
          0.8815941513468015,
          0.8838690833333335
         ],
         "y": [
          0.5717585911656999,
          0.5731916520226148,
          0.5746247128795297,
          0.5760577737364445,
          0.5774908345933594,
          0.5789238954502742,
          0.5803569563071891,
          0.581790017164104,
          0.5832230780210188,
          0.5846561388779337,
          0.5860891997348485,
          0.5875222605917634,
          0.5889553214486782,
          0.5903883823055931,
          0.591821443162508,
          0.5932545040194228,
          0.5946875648763377,
          0.5961206257332525,
          0.5975536865901674,
          0.5989867474470822,
          0.6004198083039971,
          0.6018528691609119,
          0.6032859300178268,
          0.6047189908747417,
          0.6061520517316565,
          0.6075851125885714,
          0.6090181734454861,
          0.6104512343024011,
          0.611884295159316,
          0.6133173560162307,
          0.6147504168731457,
          0.6161834777300605,
          0.6176165385869753,
          0.6190495994438903,
          0.620482660300805,
          0.6219157211577199,
          0.6233487820146348,
          0.6247818428715496,
          0.6262149037284644,
          0.6276479645853794,
          0.6290810254422942,
          0.6305140862992091,
          0.6319471471561239,
          0.6333802080130387,
          0.6348132688699537,
          0.6362463297268685,
          0.6376793905837833,
          0.6391124514406983,
          0.640545512297613,
          0.6419785731545279,
          0.6434116340114427,
          0.6448446948683576,
          0.6462777557252726,
          0.6477108165821873,
          0.6491438774391022,
          0.6505769382960171,
          0.6520099991529319,
          0.6534430600098468,
          0.6548761208667616,
          0.6563091817236765,
          0.6577422425805912,
          0.6591753034375063,
          0.6606083642944209,
          0.6620414251513358,
          0.6634744860082509,
          0.6649075468651655,
          0.6663406077220804,
          0.6677736685789952,
          0.6692067294359101,
          0.6706397902928249,
          0.6720728511497398,
          0.6735059120066547,
          0.6749389728635695,
          0.6763720337204844,
          0.6778050945773992,
          0.6792381554343141,
          0.680671216291229,
          0.6821042771481438,
          0.6835373380050587,
          0.6849703988619735,
          0.6864034597188886,
          0.6878365205758032,
          0.6892695814327181,
          0.690702642289633,
          0.6921357031465478,
          0.6935687640034627,
          0.6950018248603775,
          0.6964348857172924,
          0.6978679465742073,
          0.6993010074311221,
          0.700734068288037,
          0.7021671291449518,
          0.7036001900018667,
          0.7050332508587815,
          0.7064663117156964,
          0.7078993725726113,
          0.7093324334295261,
          0.710765494286441,
          0.7121985551433558,
          0.7136316160002707
         ]
        }
       ],
       "layout": {
        "annotations": [
         {
          "showarrow": false,
          "text": "$r^{2} = 0.775^{*}$",
          "x": 0.7,
          "xref": "x",
          "y": 0.69,
          "yref": "y"
         }
        ],
        "font": {
         "size": 14
        },
        "height": 500,
        "plot_bgcolor": "rgba(0,0,0,0)",
        "template": {
         "data": {
          "bar": [
           {
            "error_x": {
             "color": "#2a3f5f"
            },
            "error_y": {
             "color": "#2a3f5f"
            },
            "marker": {
             "line": {
              "color": "#E5ECF6",
              "width": 0.5
             }
            },
            "type": "bar"
           }
          ],
          "barpolar": [
           {
            "marker": {
             "line": {
              "color": "#E5ECF6",
              "width": 0.5
             }
            },
            "type": "barpolar"
           }
          ],
          "carpet": [
           {
            "aaxis": {
             "endlinecolor": "#2a3f5f",
             "gridcolor": "white",
             "linecolor": "white",
             "minorgridcolor": "white",
             "startlinecolor": "#2a3f5f"
            },
            "baxis": {
             "endlinecolor": "#2a3f5f",
             "gridcolor": "white",
             "linecolor": "white",
             "minorgridcolor": "white",
             "startlinecolor": "#2a3f5f"
            },
            "type": "carpet"
           }
          ],
          "choropleth": [
           {
            "colorbar": {
             "outlinewidth": 0,
             "ticks": ""
            },
            "type": "choropleth"
           }
          ],
          "contour": [
           {
            "colorbar": {
             "outlinewidth": 0,
             "ticks": ""
            },
            "colorscale": [
             [
              0,
              "#0d0887"
             ],
             [
              0.1111111111111111,
              "#46039f"
             ],
             [
              0.2222222222222222,
              "#7201a8"
             ],
             [
              0.3333333333333333,
              "#9c179e"
             ],
             [
              0.4444444444444444,
              "#bd3786"
             ],
             [
              0.5555555555555556,
              "#d8576b"
             ],
             [
              0.6666666666666666,
              "#ed7953"
             ],
             [
              0.7777777777777778,
              "#fb9f3a"
             ],
             [
              0.8888888888888888,
              "#fdca26"
             ],
             [
              1,
              "#f0f921"
             ]
            ],
            "type": "contour"
           }
          ],
          "contourcarpet": [
           {
            "colorbar": {
             "outlinewidth": 0,
             "ticks": ""
            },
            "type": "contourcarpet"
           }
          ],
          "heatmap": [
           {
            "colorbar": {
             "outlinewidth": 0,
             "ticks": ""
            },
            "colorscale": [
             [
              0,
              "#0d0887"
             ],
             [
              0.1111111111111111,
              "#46039f"
             ],
             [
              0.2222222222222222,
              "#7201a8"
             ],
             [
              0.3333333333333333,
              "#9c179e"
             ],
             [
              0.4444444444444444,
              "#bd3786"
             ],
             [
              0.5555555555555556,
              "#d8576b"
             ],
             [
              0.6666666666666666,
              "#ed7953"
             ],
             [
              0.7777777777777778,
              "#fb9f3a"
             ],
             [
              0.8888888888888888,
              "#fdca26"
             ],
             [
              1,
              "#f0f921"
             ]
            ],
            "type": "heatmap"
           }
          ],
          "heatmapgl": [
           {
            "colorbar": {
             "outlinewidth": 0,
             "ticks": ""
            },
            "colorscale": [
             [
              0,
              "#0d0887"
             ],
             [
              0.1111111111111111,
              "#46039f"
             ],
             [
              0.2222222222222222,
              "#7201a8"
             ],
             [
              0.3333333333333333,
              "#9c179e"
             ],
             [
              0.4444444444444444,
              "#bd3786"
             ],
             [
              0.5555555555555556,
              "#d8576b"
             ],
             [
              0.6666666666666666,
              "#ed7953"
             ],
             [
              0.7777777777777778,
              "#fb9f3a"
             ],
             [
              0.8888888888888888,
              "#fdca26"
             ],
             [
              1,
              "#f0f921"
             ]
            ],
            "type": "heatmapgl"
           }
          ],
          "histogram": [
           {
            "marker": {
             "colorbar": {
              "outlinewidth": 0,
              "ticks": ""
             }
            },
            "type": "histogram"
           }
          ],
          "histogram2d": [
           {
            "colorbar": {
             "outlinewidth": 0,
             "ticks": ""
            },
            "colorscale": [
             [
              0,
              "#0d0887"
             ],
             [
              0.1111111111111111,
              "#46039f"
             ],
             [
              0.2222222222222222,
              "#7201a8"
             ],
             [
              0.3333333333333333,
              "#9c179e"
             ],
             [
              0.4444444444444444,
              "#bd3786"
             ],
             [
              0.5555555555555556,
              "#d8576b"
             ],
             [
              0.6666666666666666,
              "#ed7953"
             ],
             [
              0.7777777777777778,
              "#fb9f3a"
             ],
             [
              0.8888888888888888,
              "#fdca26"
             ],
             [
              1,
              "#f0f921"
             ]
            ],
            "type": "histogram2d"
           }
          ],
          "histogram2dcontour": [
           {
            "colorbar": {
             "outlinewidth": 0,
             "ticks": ""
            },
            "colorscale": [
             [
              0,
              "#0d0887"
             ],
             [
              0.1111111111111111,
              "#46039f"
             ],
             [
              0.2222222222222222,
              "#7201a8"
             ],
             [
              0.3333333333333333,
              "#9c179e"
             ],
             [
              0.4444444444444444,
              "#bd3786"
             ],
             [
              0.5555555555555556,
              "#d8576b"
             ],
             [
              0.6666666666666666,
              "#ed7953"
             ],
             [
              0.7777777777777778,
              "#fb9f3a"
             ],
             [
              0.8888888888888888,
              "#fdca26"
             ],
             [
              1,
              "#f0f921"
             ]
            ],
            "type": "histogram2dcontour"
           }
          ],
          "mesh3d": [
           {
            "colorbar": {
             "outlinewidth": 0,
             "ticks": ""
            },
            "type": "mesh3d"
           }
          ],
          "parcoords": [
           {
            "line": {
             "colorbar": {
              "outlinewidth": 0,
              "ticks": ""
             }
            },
            "type": "parcoords"
           }
          ],
          "scatter": [
           {
            "marker": {
             "colorbar": {
              "outlinewidth": 0,
              "ticks": ""
             }
            },
            "type": "scatter"
           }
          ],
          "scatter3d": [
           {
            "line": {
             "colorbar": {
              "outlinewidth": 0,
              "ticks": ""
             }
            },
            "marker": {
             "colorbar": {
              "outlinewidth": 0,
              "ticks": ""
             }
            },
            "type": "scatter3d"
           }
          ],
          "scattercarpet": [
           {
            "marker": {
             "colorbar": {
              "outlinewidth": 0,
              "ticks": ""
             }
            },
            "type": "scattercarpet"
           }
          ],
          "scattergeo": [
           {
            "marker": {
             "colorbar": {
              "outlinewidth": 0,
              "ticks": ""
             }
            },
            "type": "scattergeo"
           }
          ],
          "scattergl": [
           {
            "marker": {
             "colorbar": {
              "outlinewidth": 0,
              "ticks": ""
             }
            },
            "type": "scattergl"
           }
          ],
          "scattermapbox": [
           {
            "marker": {
             "colorbar": {
              "outlinewidth": 0,
              "ticks": ""
             }
            },
            "type": "scattermapbox"
           }
          ],
          "scatterpolar": [
           {
            "marker": {
             "colorbar": {
              "outlinewidth": 0,
              "ticks": ""
             }
            },
            "type": "scatterpolar"
           }
          ],
          "scatterpolargl": [
           {
            "marker": {
             "colorbar": {
              "outlinewidth": 0,
              "ticks": ""
             }
            },
            "type": "scatterpolargl"
           }
          ],
          "scatterternary": [
           {
            "marker": {
             "colorbar": {
              "outlinewidth": 0,
              "ticks": ""
             }
            },
            "type": "scatterternary"
           }
          ],
          "surface": [
           {
            "colorbar": {
             "outlinewidth": 0,
             "ticks": ""
            },
            "colorscale": [
             [
              0,
              "#0d0887"
             ],
             [
              0.1111111111111111,
              "#46039f"
             ],
             [
              0.2222222222222222,
              "#7201a8"
             ],
             [
              0.3333333333333333,
              "#9c179e"
             ],
             [
              0.4444444444444444,
              "#bd3786"
             ],
             [
              0.5555555555555556,
              "#d8576b"
             ],
             [
              0.6666666666666666,
              "#ed7953"
             ],
             [
              0.7777777777777778,
              "#fb9f3a"
             ],
             [
              0.8888888888888888,
              "#fdca26"
             ],
             [
              1,
              "#f0f921"
             ]
            ],
            "type": "surface"
           }
          ],
          "table": [
           {
            "cells": {
             "fill": {
              "color": "#EBF0F8"
             },
             "line": {
              "color": "white"
             }
            },
            "header": {
             "fill": {
              "color": "#C8D4E3"
             },
             "line": {
              "color": "white"
             }
            },
            "type": "table"
           }
          ]
         },
         "layout": {
          "annotationdefaults": {
           "arrowcolor": "#2a3f5f",
           "arrowhead": 0,
           "arrowwidth": 1
          },
          "colorscale": {
           "diverging": [
            [
             0,
             "#8e0152"
            ],
            [
             0.1,
             "#c51b7d"
            ],
            [
             0.2,
             "#de77ae"
            ],
            [
             0.3,
             "#f1b6da"
            ],
            [
             0.4,
             "#fde0ef"
            ],
            [
             0.5,
             "#f7f7f7"
            ],
            [
             0.6,
             "#e6f5d0"
            ],
            [
             0.7,
             "#b8e186"
            ],
            [
             0.8,
             "#7fbc41"
            ],
            [
             0.9,
             "#4d9221"
            ],
            [
             1,
             "#276419"
            ]
           ],
           "sequential": [
            [
             0,
             "#0d0887"
            ],
            [
             0.1111111111111111,
             "#46039f"
            ],
            [
             0.2222222222222222,
             "#7201a8"
            ],
            [
             0.3333333333333333,
             "#9c179e"
            ],
            [
             0.4444444444444444,
             "#bd3786"
            ],
            [
             0.5555555555555556,
             "#d8576b"
            ],
            [
             0.6666666666666666,
             "#ed7953"
            ],
            [
             0.7777777777777778,
             "#fb9f3a"
            ],
            [
             0.8888888888888888,
             "#fdca26"
            ],
            [
             1,
             "#f0f921"
            ]
           ],
           "sequentialminus": [
            [
             0,
             "#0d0887"
            ],
            [
             0.1111111111111111,
             "#46039f"
            ],
            [
             0.2222222222222222,
             "#7201a8"
            ],
            [
             0.3333333333333333,
             "#9c179e"
            ],
            [
             0.4444444444444444,
             "#bd3786"
            ],
            [
             0.5555555555555556,
             "#d8576b"
            ],
            [
             0.6666666666666666,
             "#ed7953"
            ],
            [
             0.7777777777777778,
             "#fb9f3a"
            ],
            [
             0.8888888888888888,
             "#fdca26"
            ],
            [
             1,
             "#f0f921"
            ]
           ]
          },
          "colorway": [
           "#636efa",
           "#EF553B",
           "#00cc96",
           "#ab63fa",
           "#FFA15A",
           "#19d3f3",
           "#FF6692",
           "#B6E880",
           "#FF97FF",
           "#FECB52"
          ],
          "font": {
           "color": "#2a3f5f"
          },
          "geo": {
           "bgcolor": "white",
           "lakecolor": "white",
           "landcolor": "#E5ECF6",
           "showlakes": true,
           "showland": true,
           "subunitcolor": "white"
          },
          "hoverlabel": {
           "align": "left"
          },
          "hovermode": "closest",
          "mapbox": {
           "style": "light"
          },
          "paper_bgcolor": "white",
          "plot_bgcolor": "#E5ECF6",
          "polar": {
           "angularaxis": {
            "gridcolor": "white",
            "linecolor": "white",
            "ticks": ""
           },
           "bgcolor": "#E5ECF6",
           "radialaxis": {
            "gridcolor": "white",
            "linecolor": "white",
            "ticks": ""
           }
          },
          "scene": {
           "xaxis": {
            "backgroundcolor": "#E5ECF6",
            "gridcolor": "white",
            "gridwidth": 2,
            "linecolor": "white",
            "showbackground": true,
            "ticks": "",
            "zerolinecolor": "white"
           },
           "yaxis": {
            "backgroundcolor": "#E5ECF6",
            "gridcolor": "white",
            "gridwidth": 2,
            "linecolor": "white",
            "showbackground": true,
            "ticks": "",
            "zerolinecolor": "white"
           },
           "zaxis": {
            "backgroundcolor": "#E5ECF6",
            "gridcolor": "white",
            "gridwidth": 2,
            "linecolor": "white",
            "showbackground": true,
            "ticks": "",
            "zerolinecolor": "white"
           }
          },
          "shapedefaults": {
           "line": {
            "color": "#2a3f5f"
           }
          },
          "ternary": {
           "aaxis": {
            "gridcolor": "white",
            "linecolor": "white",
            "ticks": ""
           },
           "baxis": {
            "gridcolor": "white",
            "linecolor": "white",
            "ticks": ""
           },
           "bgcolor": "#E5ECF6",
           "caxis": {
            "gridcolor": "white",
            "linecolor": "white",
            "ticks": ""
           }
          },
          "title": {
           "x": 0.05
          },
          "xaxis": {
           "automargin": true,
           "gridcolor": "white",
           "linecolor": "white",
           "ticks": "",
           "zerolinecolor": "white",
           "zerolinewidth": 2
          },
          "yaxis": {
           "automargin": true,
           "gridcolor": "white",
           "linecolor": "white",
           "ticks": "",
           "zerolinecolor": "white",
           "zerolinewidth": 2
          }
         }
        },
        "title": {
         "text": ""
        },
        "width": 500,
        "xaxis": {
         "gridcolor": "#DFDFDF",
         "gridwidth": 1.5,
         "linecolor": "#AFAFAF",
         "linewidth": 2,
         "nticks": 6,
         "range": [
          0.65,
          0.9
         ],
         "showgrid": true,
         "showline": true,
         "title": {
          "text": "avg. accuracy at lower speed"
         },
         "zeroline": true,
         "zerolinecolor": "#AFAFAF",
         "zerolinewidth": 2.5
        },
        "yaxis": {
         "gridcolor": "#DFDFDF",
         "gridwidth": 1.5,
         "linecolor": "#AFAFAF",
         "linewidth": 2,
         "nticks": 6,
         "range": [
          0.55,
          0.8
         ],
         "showgrid": true,
         "showline": true,
         "title": {
          "text": "avg. accuracy at higher speed"
         },
         "zeroline": true,
         "zerolinecolor": "#AFAFAF",
         "zerolinewidth": 2.5
        }
       }
      },
      "text/html": [
       "<div>\n",
       "        \n",
       "        \n",
       "            <div id=\"317471d9-9cae-4b25-a648-90e377aa022d\" class=\"plotly-graph-div\" style=\"height:500px; width:500px;\"></div>\n",
       "            <script type=\"text/javascript\">\n",
       "                require([\"plotly\"], function(Plotly) {\n",
       "                    window.PLOTLYENV=window.PLOTLYENV || {};\n",
       "                    \n",
       "                if (document.getElementById(\"317471d9-9cae-4b25-a648-90e377aa022d\")) {\n",
       "                    Plotly.newPlot(\n",
       "                        '317471d9-9cae-4b25-a648-90e377aa022d',\n",
       "                        [{\"marker\": {\"color\": \"gray\", \"line\": {\"color\": \"black\", \"width\": 1.5}, \"opacity\": 0.5, \"size\": 14}, \"mode\": \"markers+text\", \"showlegend\": false, \"text\": [1.0, 2.0, 3.0, 4.0, 5.0, 6.0, 7.0, 8.0, 9.0, 10.0, 11.0, 12.0, 13.0, 14.0, 15.0, 16.0, 17.0, 18.0, 19.0, 20.0, 21.0, 22.0, 23.0, 24.0, 25.0, 26.0, 27.0, 28.0, 29.0, 30.0, 31.0, 32.0, 33.0, 34.0, 35.0, 36.0, 37.0, 38.0, 39.0, 40.0, 41.0, 42.0, 43.0, 44.0, 45.0, 46.0, 47.0, 48.0, 49.0, 50.0], \"textfont\": {\"size\": 9}, \"type\": \"scatter\", \"x\": [0.8811904999999998, 0.8744000000000001, 0.8838690833333335, 0.8588690833333334, 0.8657341333333335, 0.8514682999999998, 0.8481150999999999, 0.8314666666666668, 0.8399801833333335, 0.8454500000000003, 0.8315674833333332, 0.8394666666666667, 0.8398214333333336, 0.83725, 0.8093055666666665, 0.8167500000000001, 0.8543849666666665, 0.8286309833333332, 0.812381, 0.8027381000000001, 0.8030556166666666, 0.8047024166666668, 0.8087833333333332, 0.8008730333333332, 0.7886309833333334, 0.7835119500000001, 0.79763895, 0.7671627333333335, 0.7682540166666667, 0.7752333333333334, 0.7376587499999998, 0.7907936833333333, 0.78371035, 0.7557341833333332, 0.7583135166666666, 0.7751786333333335, 0.7579166999999999, 0.7489285999999999, 0.7286111499999999, 0.7440873499999997, 0.7030555833333333, 0.7144444833333335, 0.71885, 0.7134127666666666, 0.6974405333333333, 0.7039881333333332, 0.6692063666666666, 0.6868999999999997, 0.6586508166666668, 0.6725199000000001], \"y\": [0.72535715, 0.7274499999999999, 0.7137698999999998, 0.7193055833333334, 0.6919842, 0.705892883333333, 0.7057539666666665, 0.7047, 0.6907539833333336, 0.6812666666666665, 0.6891667333333336, 0.6777666666666667, 0.6764087666666666, 0.6724000000000001, 0.6874206499999999, 0.6786666666666666, 0.6394444666666671, 0.6621627499999999, 0.6664682999999999, 0.6758532333333332, 0.6698611833333332, 0.6671627166666669, 0.6619666666666668, 0.6573016166666666, 0.6590080000000001, 0.6613293833333336, 0.6464484833333334, 0.6747223000000002, 0.6599404833333333, 0.6369333333333332, 0.6738690999999998, 0.61662705, 0.6114087666666669, 0.6365278499999998, 0.6336508499999999, 0.6096230666666668, 0.6180754500000002, 0.6228174666666665, 0.62827385, 0.605813516666667, 0.6397619333333335, 0.6257539666666662, 0.6077666666666666, 0.5955555833333334, 0.5989881333333335, 0.5880159166666665, 0.5893651333333332, 0.5622499999999999, 0.5747023666666665, 0.5546627666666666]}, {\"line\": {\"color\": \"gray\", \"dash\": \"dash\", \"width\": 3.5}, \"mode\": \"lines\", \"name\": \"$r^{2}_{partial} = 0.771$\", \"showlegend\": false, \"type\": \"scatter\", \"x\": [0.6586508166666668, 0.6609257486531988, 0.6632006806397308, 0.6654756126262628, 0.6677505446127947, 0.6700254765993268, 0.6723004085858587, 0.6745753405723907, 0.6768502725589227, 0.6791252045454547, 0.6814001365319867, 0.6836750685185187, 0.6859500005050506, 0.6882249324915827, 0.6904998644781146, 0.6927747964646466, 0.6950497284511786, 0.6973246604377106, 0.6995995924242425, 0.7018745244107746, 0.7041494563973065, 0.7064243883838385, 0.7086993203703705, 0.7109742523569025, 0.7132491843434345, 0.7155241163299665, 0.7177990483164984, 0.7200739803030305, 0.7223489122895624, 0.7246238442760944, 0.7268987762626264, 0.7291737082491584, 0.7314486402356903, 0.7337235722222224, 0.7359985042087543, 0.7382734361952863, 0.7405483681818184, 0.7428233001683503, 0.7450982321548822, 0.7473731641414143, 0.7496480961279463, 0.7519230281144783, 0.7541979601010103, 0.7564728920875422, 0.7587478240740743, 0.7610227560606062, 0.7632976880471382, 0.7655726200336702, 0.7678475520202022, 0.7701224840067341, 0.7723974159932662, 0.7746723479797981, 0.7769472799663302, 0.7792222119528621, 0.7814971439393941, 0.7837720759259261, 0.7860470079124581, 0.78832193989899, 0.7905968718855221, 0.792871803872054, 0.795146735858586, 0.797421667845118, 0.79969659983165, 0.8019715318181819, 0.804246463804714, 0.8065213957912459, 0.8087963277777779, 0.8110712597643099, 0.8133461917508419, 0.8156211237373738, 0.8178960557239059, 0.8201709877104378, 0.8224459196969698, 0.8247208516835018, 0.8269957836700338, 0.8292707156565658, 0.8315456476430978, 0.8338205796296297, 0.8360955116161618, 0.8383704436026937, 0.8406453755892258, 0.8429203075757578, 0.8451952395622897, 0.8474701715488218, 0.8497451035353537, 0.8520200355218857, 0.8542949675084177, 0.8565698994949497, 0.8588448314814816, 0.8611197634680137, 0.8633946954545456, 0.8656696274410776, 0.8679445594276096, 0.8702194914141416, 0.8724944234006735, 0.8747693553872056, 0.8770442873737375, 0.8793192193602695, 0.8815941513468015, 0.8838690833333335], \"y\": [0.5717585911656999, 0.5731916520226148, 0.5746247128795297, 0.5760577737364445, 0.5774908345933594, 0.5789238954502742, 0.5803569563071891, 0.581790017164104, 0.5832230780210188, 0.5846561388779337, 0.5860891997348485, 0.5875222605917634, 0.5889553214486782, 0.5903883823055931, 0.591821443162508, 0.5932545040194228, 0.5946875648763377, 0.5961206257332525, 0.5975536865901674, 0.5989867474470822, 0.6004198083039971, 0.6018528691609119, 0.6032859300178268, 0.6047189908747417, 0.6061520517316565, 0.6075851125885714, 0.6090181734454861, 0.6104512343024011, 0.611884295159316, 0.6133173560162307, 0.6147504168731457, 0.6161834777300605, 0.6176165385869753, 0.6190495994438903, 0.620482660300805, 0.6219157211577199, 0.6233487820146348, 0.6247818428715496, 0.6262149037284644, 0.6276479645853794, 0.6290810254422942, 0.6305140862992091, 0.6319471471561239, 0.6333802080130387, 0.6348132688699537, 0.6362463297268685, 0.6376793905837833, 0.6391124514406983, 0.640545512297613, 0.6419785731545279, 0.6434116340114427, 0.6448446948683576, 0.6462777557252726, 0.6477108165821873, 0.6491438774391022, 0.6505769382960171, 0.6520099991529319, 0.6534430600098468, 0.6548761208667616, 0.6563091817236765, 0.6577422425805912, 0.6591753034375063, 0.6606083642944209, 0.6620414251513358, 0.6634744860082509, 0.6649075468651655, 0.6663406077220804, 0.6677736685789952, 0.6692067294359101, 0.6706397902928249, 0.6720728511497398, 0.6735059120066547, 0.6749389728635695, 0.6763720337204844, 0.6778050945773992, 0.6792381554343141, 0.680671216291229, 0.6821042771481438, 0.6835373380050587, 0.6849703988619735, 0.6864034597188886, 0.6878365205758032, 0.6892695814327181, 0.690702642289633, 0.6921357031465478, 0.6935687640034627, 0.6950018248603775, 0.6964348857172924, 0.6978679465742073, 0.6993010074311221, 0.700734068288037, 0.7021671291449518, 0.7036001900018667, 0.7050332508587815, 0.7064663117156964, 0.7078993725726113, 0.7093324334295261, 0.710765494286441, 0.7121985551433558, 0.7136316160002707]}],\n",
       "                        {\"annotations\": [{\"showarrow\": false, \"text\": \"$r^{2} = 0.775^{*}$\", \"x\": 0.7, \"xref\": \"x\", \"y\": 0.69, \"yref\": \"y\"}], \"font\": {\"size\": 14}, \"height\": 500, \"plot_bgcolor\": \"rgba(0,0,0,0)\", \"template\": {\"data\": {\"bar\": [{\"error_x\": {\"color\": \"#2a3f5f\"}, \"error_y\": {\"color\": \"#2a3f5f\"}, \"marker\": {\"line\": {\"color\": \"#E5ECF6\", \"width\": 0.5}}, \"type\": \"bar\"}], \"barpolar\": [{\"marker\": {\"line\": {\"color\": \"#E5ECF6\", \"width\": 0.5}}, \"type\": \"barpolar\"}], \"carpet\": [{\"aaxis\": {\"endlinecolor\": \"#2a3f5f\", \"gridcolor\": \"white\", \"linecolor\": \"white\", \"minorgridcolor\": \"white\", \"startlinecolor\": \"#2a3f5f\"}, \"baxis\": {\"endlinecolor\": \"#2a3f5f\", \"gridcolor\": \"white\", \"linecolor\": \"white\", \"minorgridcolor\": \"white\", \"startlinecolor\": \"#2a3f5f\"}, \"type\": \"carpet\"}], \"choropleth\": [{\"colorbar\": {\"outlinewidth\": 0, \"ticks\": \"\"}, \"type\": \"choropleth\"}], \"contour\": [{\"colorbar\": {\"outlinewidth\": 0, \"ticks\": \"\"}, \"colorscale\": [[0.0, \"#0d0887\"], [0.1111111111111111, \"#46039f\"], [0.2222222222222222, \"#7201a8\"], [0.3333333333333333, \"#9c179e\"], [0.4444444444444444, \"#bd3786\"], [0.5555555555555556, \"#d8576b\"], [0.6666666666666666, \"#ed7953\"], [0.7777777777777778, \"#fb9f3a\"], [0.8888888888888888, \"#fdca26\"], [1.0, \"#f0f921\"]], \"type\": \"contour\"}], \"contourcarpet\": [{\"colorbar\": {\"outlinewidth\": 0, \"ticks\": \"\"}, \"type\": \"contourcarpet\"}], \"heatmap\": [{\"colorbar\": {\"outlinewidth\": 0, \"ticks\": \"\"}, \"colorscale\": [[0.0, \"#0d0887\"], [0.1111111111111111, \"#46039f\"], [0.2222222222222222, \"#7201a8\"], [0.3333333333333333, \"#9c179e\"], [0.4444444444444444, \"#bd3786\"], [0.5555555555555556, \"#d8576b\"], [0.6666666666666666, \"#ed7953\"], [0.7777777777777778, \"#fb9f3a\"], [0.8888888888888888, \"#fdca26\"], [1.0, \"#f0f921\"]], \"type\": \"heatmap\"}], \"heatmapgl\": [{\"colorbar\": {\"outlinewidth\": 0, \"ticks\": \"\"}, \"colorscale\": [[0.0, \"#0d0887\"], [0.1111111111111111, \"#46039f\"], [0.2222222222222222, \"#7201a8\"], [0.3333333333333333, \"#9c179e\"], [0.4444444444444444, \"#bd3786\"], [0.5555555555555556, \"#d8576b\"], [0.6666666666666666, \"#ed7953\"], [0.7777777777777778, \"#fb9f3a\"], [0.8888888888888888, \"#fdca26\"], [1.0, \"#f0f921\"]], \"type\": \"heatmapgl\"}], \"histogram\": [{\"marker\": {\"colorbar\": {\"outlinewidth\": 0, \"ticks\": \"\"}}, \"type\": \"histogram\"}], \"histogram2d\": [{\"colorbar\": {\"outlinewidth\": 0, \"ticks\": \"\"}, \"colorscale\": [[0.0, \"#0d0887\"], [0.1111111111111111, \"#46039f\"], [0.2222222222222222, \"#7201a8\"], [0.3333333333333333, \"#9c179e\"], [0.4444444444444444, \"#bd3786\"], [0.5555555555555556, \"#d8576b\"], [0.6666666666666666, \"#ed7953\"], [0.7777777777777778, \"#fb9f3a\"], [0.8888888888888888, \"#fdca26\"], [1.0, \"#f0f921\"]], \"type\": \"histogram2d\"}], \"histogram2dcontour\": [{\"colorbar\": {\"outlinewidth\": 0, \"ticks\": \"\"}, \"colorscale\": [[0.0, \"#0d0887\"], [0.1111111111111111, \"#46039f\"], [0.2222222222222222, \"#7201a8\"], [0.3333333333333333, \"#9c179e\"], [0.4444444444444444, \"#bd3786\"], [0.5555555555555556, \"#d8576b\"], [0.6666666666666666, \"#ed7953\"], [0.7777777777777778, \"#fb9f3a\"], [0.8888888888888888, \"#fdca26\"], [1.0, \"#f0f921\"]], \"type\": \"histogram2dcontour\"}], \"mesh3d\": [{\"colorbar\": {\"outlinewidth\": 0, \"ticks\": \"\"}, \"type\": \"mesh3d\"}], \"parcoords\": [{\"line\": {\"colorbar\": {\"outlinewidth\": 0, \"ticks\": \"\"}}, \"type\": \"parcoords\"}], \"scatter\": [{\"marker\": {\"colorbar\": {\"outlinewidth\": 0, \"ticks\": \"\"}}, \"type\": \"scatter\"}], \"scatter3d\": [{\"line\": {\"colorbar\": {\"outlinewidth\": 0, \"ticks\": \"\"}}, \"marker\": {\"colorbar\": {\"outlinewidth\": 0, \"ticks\": \"\"}}, \"type\": \"scatter3d\"}], \"scattercarpet\": [{\"marker\": {\"colorbar\": {\"outlinewidth\": 0, \"ticks\": \"\"}}, \"type\": \"scattercarpet\"}], \"scattergeo\": [{\"marker\": {\"colorbar\": {\"outlinewidth\": 0, \"ticks\": \"\"}}, \"type\": \"scattergeo\"}], \"scattergl\": [{\"marker\": {\"colorbar\": {\"outlinewidth\": 0, \"ticks\": \"\"}}, \"type\": \"scattergl\"}], \"scattermapbox\": [{\"marker\": {\"colorbar\": {\"outlinewidth\": 0, \"ticks\": \"\"}}, \"type\": \"scattermapbox\"}], \"scatterpolar\": [{\"marker\": {\"colorbar\": {\"outlinewidth\": 0, \"ticks\": \"\"}}, \"type\": \"scatterpolar\"}], \"scatterpolargl\": [{\"marker\": {\"colorbar\": {\"outlinewidth\": 0, \"ticks\": \"\"}}, \"type\": \"scatterpolargl\"}], \"scatterternary\": [{\"marker\": {\"colorbar\": {\"outlinewidth\": 0, \"ticks\": \"\"}}, \"type\": \"scatterternary\"}], \"surface\": [{\"colorbar\": {\"outlinewidth\": 0, \"ticks\": \"\"}, \"colorscale\": [[0.0, \"#0d0887\"], [0.1111111111111111, \"#46039f\"], [0.2222222222222222, \"#7201a8\"], [0.3333333333333333, \"#9c179e\"], [0.4444444444444444, \"#bd3786\"], [0.5555555555555556, \"#d8576b\"], [0.6666666666666666, \"#ed7953\"], [0.7777777777777778, \"#fb9f3a\"], [0.8888888888888888, \"#fdca26\"], [1.0, \"#f0f921\"]], \"type\": \"surface\"}], \"table\": [{\"cells\": {\"fill\": {\"color\": \"#EBF0F8\"}, \"line\": {\"color\": \"white\"}}, \"header\": {\"fill\": {\"color\": \"#C8D4E3\"}, \"line\": {\"color\": \"white\"}}, \"type\": \"table\"}]}, \"layout\": {\"annotationdefaults\": {\"arrowcolor\": \"#2a3f5f\", \"arrowhead\": 0, \"arrowwidth\": 1}, \"colorscale\": {\"diverging\": [[0, \"#8e0152\"], [0.1, \"#c51b7d\"], [0.2, \"#de77ae\"], [0.3, \"#f1b6da\"], [0.4, \"#fde0ef\"], [0.5, \"#f7f7f7\"], [0.6, \"#e6f5d0\"], [0.7, \"#b8e186\"], [0.8, \"#7fbc41\"], [0.9, \"#4d9221\"], [1, \"#276419\"]], \"sequential\": [[0.0, \"#0d0887\"], [0.1111111111111111, \"#46039f\"], [0.2222222222222222, \"#7201a8\"], [0.3333333333333333, \"#9c179e\"], [0.4444444444444444, \"#bd3786\"], [0.5555555555555556, \"#d8576b\"], [0.6666666666666666, \"#ed7953\"], [0.7777777777777778, \"#fb9f3a\"], [0.8888888888888888, \"#fdca26\"], [1.0, \"#f0f921\"]], \"sequentialminus\": [[0.0, \"#0d0887\"], [0.1111111111111111, \"#46039f\"], [0.2222222222222222, \"#7201a8\"], [0.3333333333333333, \"#9c179e\"], [0.4444444444444444, \"#bd3786\"], [0.5555555555555556, \"#d8576b\"], [0.6666666666666666, \"#ed7953\"], [0.7777777777777778, \"#fb9f3a\"], [0.8888888888888888, \"#fdca26\"], [1.0, \"#f0f921\"]]}, \"colorway\": [\"#636efa\", \"#EF553B\", \"#00cc96\", \"#ab63fa\", \"#FFA15A\", \"#19d3f3\", \"#FF6692\", \"#B6E880\", \"#FF97FF\", \"#FECB52\"], \"font\": {\"color\": \"#2a3f5f\"}, \"geo\": {\"bgcolor\": \"white\", \"lakecolor\": \"white\", \"landcolor\": \"#E5ECF6\", \"showlakes\": true, \"showland\": true, \"subunitcolor\": \"white\"}, \"hoverlabel\": {\"align\": \"left\"}, \"hovermode\": \"closest\", \"mapbox\": {\"style\": \"light\"}, \"paper_bgcolor\": \"white\", \"plot_bgcolor\": \"#E5ECF6\", \"polar\": {\"angularaxis\": {\"gridcolor\": \"white\", \"linecolor\": \"white\", \"ticks\": \"\"}, \"bgcolor\": \"#E5ECF6\", \"radialaxis\": {\"gridcolor\": \"white\", \"linecolor\": \"white\", \"ticks\": \"\"}}, \"scene\": {\"xaxis\": {\"backgroundcolor\": \"#E5ECF6\", \"gridcolor\": \"white\", \"gridwidth\": 2, \"linecolor\": \"white\", \"showbackground\": true, \"ticks\": \"\", \"zerolinecolor\": \"white\"}, \"yaxis\": {\"backgroundcolor\": \"#E5ECF6\", \"gridcolor\": \"white\", \"gridwidth\": 2, \"linecolor\": \"white\", \"showbackground\": true, \"ticks\": \"\", \"zerolinecolor\": \"white\"}, \"zaxis\": {\"backgroundcolor\": \"#E5ECF6\", \"gridcolor\": \"white\", \"gridwidth\": 2, \"linecolor\": \"white\", \"showbackground\": true, \"ticks\": \"\", \"zerolinecolor\": \"white\"}}, \"shapedefaults\": {\"line\": {\"color\": \"#2a3f5f\"}}, \"ternary\": {\"aaxis\": {\"gridcolor\": \"white\", \"linecolor\": \"white\", \"ticks\": \"\"}, \"baxis\": {\"gridcolor\": \"white\", \"linecolor\": \"white\", \"ticks\": \"\"}, \"bgcolor\": \"#E5ECF6\", \"caxis\": {\"gridcolor\": \"white\", \"linecolor\": \"white\", \"ticks\": \"\"}}, \"title\": {\"x\": 0.05}, \"xaxis\": {\"automargin\": true, \"gridcolor\": \"white\", \"linecolor\": \"white\", \"ticks\": \"\", \"zerolinecolor\": \"white\", \"zerolinewidth\": 2}, \"yaxis\": {\"automargin\": true, \"gridcolor\": \"white\", \"linecolor\": \"white\", \"ticks\": \"\", \"zerolinecolor\": \"white\", \"zerolinewidth\": 2}}}, \"title\": {\"text\": \"\"}, \"width\": 500, \"xaxis\": {\"gridcolor\": \"#DFDFDF\", \"gridwidth\": 1.5, \"linecolor\": \"#AFAFAF\", \"linewidth\": 2, \"nticks\": 6, \"range\": [0.65, 0.9], \"showgrid\": true, \"showline\": true, \"title\": {\"text\": \"avg. accuracy at lower speed\"}, \"zeroline\": true, \"zerolinecolor\": \"#AFAFAF\", \"zerolinewidth\": 2.5}, \"yaxis\": {\"gridcolor\": \"#DFDFDF\", \"gridwidth\": 1.5, \"linecolor\": \"#AFAFAF\", \"linewidth\": 2, \"nticks\": 6, \"range\": [0.55, 0.8], \"showgrid\": true, \"showline\": true, \"title\": {\"text\": \"avg. accuracy at higher speed\"}, \"zeroline\": true, \"zerolinecolor\": \"#AFAFAF\", \"zerolinewidth\": 2.5}},\n",
       "                        {\"responsive\": true}\n",
       "                    ).then(function(){\n",
       "                            \n",
       "var gd = document.getElementById('317471d9-9cae-4b25-a648-90e377aa022d');\n",
       "var x = new MutationObserver(function (mutations, observer) {{\n",
       "        var display = window.getComputedStyle(gd).display;\n",
       "        if (!display || display === 'none') {{\n",
       "            console.log([gd, 'removed!']);\n",
       "            Plotly.purge(gd);\n",
       "            observer.disconnect();\n",
       "        }}\n",
       "}});\n",
       "\n",
       "// Listen for the removal of the full notebook cells\n",
       "var notebookContainer = gd.closest('#notebook-container');\n",
       "if (notebookContainer) {{\n",
       "    x.observe(notebookContainer, {childList: true});\n",
       "}}\n",
       "\n",
       "// Listen for the clearing of the current output cell\n",
       "var outputEl = gd.closest('.output');\n",
       "if (outputEl) {{\n",
       "    x.observe(outputEl, {childList: true});\n",
       "}}\n",
       "\n",
       "                        })\n",
       "                };\n",
       "                });\n",
       "            </script>\n",
       "        </div>"
      ]
     },
     "metadata": {},
     "output_type": "display_data"
    }
   ],
   "source": [
    "odd_set = [5.0, 6.26]\n",
    "even_set = [1.57,3.13]\n",
    "sub_id = individual_ranking['subject_Num'].to_numpy()\n",
    "\n",
    "even_load_data = behavior_data.filter_by(even_set,'speed (deg/sec)')\n",
    "individual_even_load_data = even_load_data.groupby('subject_Num',operations = {'avg_accuracy':agg.MEAN('accuracy')})\n",
    "individual_even_load_data = individual_even_load_data.sort('subject_Num')\n",
    "individual_even_load_data['rank'] = individual_ranking['rank']\n",
    "individual_even_load_data = individual_even_load_data.sort('rank')\n",
    "\n",
    "odd_load_data = behavior_data.filter_by(odd_set,'speed (deg/sec)')\n",
    "individual_odd_load_data = odd_load_data.groupby('subject_Num',operations = {'avg_accuracy':agg.MEAN('accuracy')})\n",
    "individual_odd_load_data = individual_odd_load_data.sort('subject_Num')\n",
    "individual_odd_load_data['rank'] = individual_ranking['rank']\n",
    "individual_odd_load_data = individual_odd_load_data.sort('rank')\n",
    "\n",
    "hsb = individual_odd_load_data\n",
    "hsb['avg_accuracy_even'] = individual_even_load_data['avg_accuracy']\n",
    "hsb2 = hsb.to_dataframe()\n",
    "\n",
    "mod = ols(\"avg_accuracy ~ avg_accuracy_even\", data=hsb2)\n",
    "res = mod.fit()\n",
    "print(res.rsquared)\n",
    "sec2_trace = go.Scatter(x = individual_even_load_data['avg_accuracy'].to_numpy(),\n",
    "                       y = individual_odd_load_data['avg_accuracy'].to_numpy(),\n",
    "                       mode='markers+text', marker = dict(size = 14, opacity = 0.5, color = 'gray',line = dict(width = 1.5, color='black')),\n",
    "                       text = individual_even_load_data['rank'].to_numpy(),\n",
    "                        textfont = dict(size = 9),\n",
    "                       showlegend=False)\n",
    "\n",
    "sec2_trace_fit = go.Scatter(x = np.linspace(individual_even_load_data['avg_accuracy'].min(),individual_even_load_data['avg_accuracy'].max(),100),\n",
    "                   y = np.linspace(individual_even_load_data['avg_accuracy'].min(),individual_even_load_data['avg_accuracy'].max(),100)*res.params[1] + res.params[0],\n",
    "                    mode='lines',\n",
    "                  line = dict(width = 3.5, color='gray', dash = 'dash'),\n",
    "                    name = '$r^{2}_{partial} = 0.771$',\n",
    "                   showlegend=False)\n",
    "\n",
    "\n",
    "layout = go.Layout(title = '',\n",
    "                  xaxis = dict(title = 'avg. accuracy at lower speed'),\n",
    "                  yaxis = dict(title = 'avg. accuracy at higher speed'))\n",
    "\n",
    "fig = go.Figure(data = [sec2_trace, sec2_trace_fit], layout = layout )\n",
    "fig['layout']['annotations']= [dict(x=.7,y=.69,xref='x',yref='y',text='$r^{2} = 0.775^{*}$', showarrow=False)]\n",
    "fig['layout'].update(width = 500, height = 500, font = dict(size = 14), plot_bgcolor = 'rgba(0,0,0,0)')\n",
    "fig.update_xaxes(showgrid=True, showline=True, linewidth = 2, linecolor = '#AFAFAF', range = [0.65, 0.9], gridwidth=1.5, gridcolor='#DFDFDF', zeroline=True, zerolinecolor = '#AFAFAF', zerolinewidth = 2.5, nticks = 6)\n",
    "fig.update_yaxes(showgrid=True, showline=True, linewidth = 2, linecolor = '#AFAFAF', range = [0.55, 0.8], gridwidth=1.5, gridcolor='#DFDFDF', zeroline=True, zerolinecolor = '#AFAFAF', zerolinewidth = 2.5, nticks = 6)\n",
    "fig.show()\n",
    "fig.write_image(\"/Users/supadhy6/Dropbox/Shared with Adi/Results_images/consistent_individual_differences_split_by_speed.png\")\n",
    "fig.write_image(\"/Users/supadhy6/Dropbox/Shared with Adi/Results_images/consistent_individual_differences_split_by_speed.svg\")\n",
    "#py.iplot(fig, filename='split half correlations across speeds')"
   ]
  },
  {
   "cell_type": "code",
   "execution_count": 25,
   "metadata": {},
   "outputs": [
    {
     "name": "stdout",
     "output_type": "stream",
     "text": [
      "0.7616968293199633\n"
     ]
    },
    {
     "data": {
      "application/vnd.plotly.v1+json": {
       "config": {
        "linkText": "Export to plot.ly",
        "plotlyServerURL": "https://plot.ly",
        "showLink": false
       },
       "data": [
        {
         "marker": {
          "opacity": 0.5,
          "size": 20
         },
         "mode": "markers+text",
         "showlegend": false,
         "text": [
          101,
          102,
          103,
          104,
          105,
          106,
          107,
          108,
          109,
          110,
          111,
          112,
          113,
          114,
          115,
          116,
          117,
          118,
          119,
          120,
          121,
          122,
          123,
          124,
          125,
          126,
          127,
          128,
          129,
          130,
          131,
          133,
          134,
          135,
          136,
          137,
          138,
          139,
          140,
          141,
          142,
          143,
          144,
          145,
          146,
          147,
          148,
          149,
          150,
          151
         ],
         "type": "scatter",
         "x": [
          17,
          3,
          9,
          15,
          41,
          20,
          12,
          13,
          30,
          47,
          24,
          28,
          10,
          37,
          5,
          25,
          31,
          16,
          48,
          21,
          6,
          8,
          32,
          26,
          35,
          33,
          39,
          1,
          11,
          23,
          36,
          22,
          45,
          43,
          14,
          49,
          46,
          2,
          19,
          40,
          38,
          18,
          29,
          4,
          44,
          50,
          7,
          27,
          42,
          34
         ],
         "y": [
          13,
          1,
          12,
          7,
          42,
          24,
          14,
          19,
          32,
          49,
          28,
          40,
          9,
          37,
          3,
          29,
          41,
          23,
          50,
          21,
          31,
          6,
          26,
          39,
          38,
          17,
          18,
          4,
          15,
          16,
          33,
          20,
          30,
          45,
          10,
          46,
          44,
          2,
          11,
          35,
          43,
          22,
          25,
          8,
          47,
          48,
          5,
          27,
          36,
          34
         ]
        },
        {
         "line": {
          "color": "gray",
          "dash": "dash",
          "width": 7
         },
         "mode": "lines",
         "name": "$r^{2}_{partial} = 0.761$",
         "showlegend": false,
         "type": "scatter",
         "x": [
          1,
          1.494949494949495,
          1.98989898989899,
          2.484848484848485,
          2.97979797979798,
          3.474747474747475,
          3.9696969696969697,
          4.464646464646465,
          4.95959595959596,
          5.454545454545455,
          5.94949494949495,
          6.444444444444445,
          6.9393939393939394,
          7.434343434343434,
          7.92929292929293,
          8.424242424242426,
          8.91919191919192,
          9.414141414141415,
          9.90909090909091,
          10.404040404040405,
          10.8989898989899,
          11.393939393939394,
          11.88888888888889,
          12.383838383838384,
          12.878787878787879,
          13.373737373737374,
          13.868686868686869,
          14.363636363636365,
          14.85858585858586,
          15.353535353535355,
          15.84848484848485,
          16.343434343434346,
          16.83838383838384,
          17.333333333333336,
          17.82828282828283,
          18.323232323232325,
          18.81818181818182,
          19.313131313131315,
          19.80808080808081,
          20.303030303030305,
          20.7979797979798,
          21.292929292929294,
          21.78787878787879,
          22.282828282828284,
          22.77777777777778,
          23.272727272727273,
          23.767676767676768,
          24.262626262626263,
          24.757575757575758,
          25.252525252525253,
          25.747474747474747,
          26.242424242424242,
          26.737373737373737,
          27.232323232323232,
          27.72727272727273,
          28.222222222222225,
          28.71717171717172,
          29.212121212121215,
          29.70707070707071,
          30.202020202020204,
          30.6969696969697,
          31.191919191919194,
          31.68686868686869,
          32.18181818181819,
          32.67676767676768,
          33.17171717171718,
          33.66666666666667,
          34.161616161616166,
          34.65656565656566,
          35.151515151515156,
          35.64646464646465,
          36.141414141414145,
          36.63636363636364,
          37.131313131313135,
          37.62626262626263,
          38.121212121212125,
          38.61616161616162,
          39.111111111111114,
          39.60606060606061,
          40.101010101010104,
          40.5959595959596,
          41.09090909090909,
          41.58585858585859,
          42.08080808080808,
          42.57575757575758,
          43.07070707070707,
          43.56565656565657,
          44.06060606060606,
          44.55555555555556,
          45.05050505050505,
          45.54545454545455,
          46.04040404040404,
          46.535353535353536,
          47.03030303030303,
          47.525252525252526,
          48.02020202020202,
          48.515151515151516,
          49.01010101010101,
          49.505050505050505,
          50
         ],
         "y": [
          4.04941176470588,
          4.482756981580509,
          4.916102198455137,
          5.349447415329767,
          5.782792632204396,
          6.216137849079025,
          6.649483065953653,
          7.082828282828283,
          7.516173499702912,
          7.94951871657754,
          8.38286393345217,
          8.816209150326799,
          9.249554367201426,
          9.682899584076056,
          10.116244800950685,
          10.549590017825315,
          10.982935234699944,
          11.416280451574574,
          11.849625668449201,
          12.28297088532383,
          12.71631610219846,
          13.149661319073088,
          13.583006535947717,
          14.016351752822345,
          14.449696969696975,
          14.883042186571604,
          15.316387403446232,
          15.749732620320863,
          16.18307783719549,
          16.61642305407012,
          17.04976827094475,
          17.483113487819377,
          17.91645870469401,
          18.349803921568636,
          18.783149138443264,
          19.21649435531789,
          19.649839572192523,
          20.08318478906715,
          20.516530005941778,
          20.94987522281641,
          21.383220439691037,
          21.816565656565665,
          22.249910873440296,
          22.683256090314924,
          23.11660130718955,
          23.549946524064183,
          23.98329174093881,
          24.416636957813438,
          24.84998217468807,
          25.283327391562697,
          25.716672608437324,
          26.150017825311956,
          26.583363042186583,
          27.01670825906121,
          27.450053475935842,
          27.883398692810474,
          28.3167439096851,
          28.75008912655973,
          29.18343434343436,
          29.616779560308988,
          30.050124777183616,
          30.483469994058247,
          30.916815210932874,
          31.350160427807506,
          31.783505644682133,
          32.216850861556765,
          32.65019607843139,
          33.08354129530602,
          33.516886512180655,
          33.95023172905528,
          34.38357694592991,
          34.81692216280454,
          35.250267379679165,
          35.68361259655379,
          36.11695781342842,
          36.55030303030305,
          36.98364824717768,
          37.41699346405231,
          37.85033868092694,
          38.283683897801566,
          38.717029114676194,
          39.15037433155082,
          39.58371954842546,
          40.017064765300084,
          40.45040998217471,
          40.88375519904934,
          41.31710041592397,
          41.750445632798595,
          42.18379084967323,
          42.61713606654786,
          43.050481283422485,
          43.48382650029711,
          43.91717171717174,
          44.35051693404637,
          44.783862150920996,
          45.21720736779563,
          45.65055258467026,
          46.083897801544886,
          46.517243018419514,
          46.95058823529414
         ]
        }
       ],
       "layout": {
        "annotations": [
         {
          "showarrow": false,
          "text": "$r^{2}_{adj} = 0.761^{*}$",
          "x": 10,
          "xref": "x",
          "y": 45,
          "yref": "y"
         }
        ],
        "height": 700,
        "template": {
         "data": {
          "bar": [
           {
            "error_x": {
             "color": "#2a3f5f"
            },
            "error_y": {
             "color": "#2a3f5f"
            },
            "marker": {
             "line": {
              "color": "#E5ECF6",
              "width": 0.5
             }
            },
            "type": "bar"
           }
          ],
          "barpolar": [
           {
            "marker": {
             "line": {
              "color": "#E5ECF6",
              "width": 0.5
             }
            },
            "type": "barpolar"
           }
          ],
          "carpet": [
           {
            "aaxis": {
             "endlinecolor": "#2a3f5f",
             "gridcolor": "white",
             "linecolor": "white",
             "minorgridcolor": "white",
             "startlinecolor": "#2a3f5f"
            },
            "baxis": {
             "endlinecolor": "#2a3f5f",
             "gridcolor": "white",
             "linecolor": "white",
             "minorgridcolor": "white",
             "startlinecolor": "#2a3f5f"
            },
            "type": "carpet"
           }
          ],
          "choropleth": [
           {
            "colorbar": {
             "outlinewidth": 0,
             "ticks": ""
            },
            "type": "choropleth"
           }
          ],
          "contour": [
           {
            "colorbar": {
             "outlinewidth": 0,
             "ticks": ""
            },
            "colorscale": [
             [
              0,
              "#0d0887"
             ],
             [
              0.1111111111111111,
              "#46039f"
             ],
             [
              0.2222222222222222,
              "#7201a8"
             ],
             [
              0.3333333333333333,
              "#9c179e"
             ],
             [
              0.4444444444444444,
              "#bd3786"
             ],
             [
              0.5555555555555556,
              "#d8576b"
             ],
             [
              0.6666666666666666,
              "#ed7953"
             ],
             [
              0.7777777777777778,
              "#fb9f3a"
             ],
             [
              0.8888888888888888,
              "#fdca26"
             ],
             [
              1,
              "#f0f921"
             ]
            ],
            "type": "contour"
           }
          ],
          "contourcarpet": [
           {
            "colorbar": {
             "outlinewidth": 0,
             "ticks": ""
            },
            "type": "contourcarpet"
           }
          ],
          "heatmap": [
           {
            "colorbar": {
             "outlinewidth": 0,
             "ticks": ""
            },
            "colorscale": [
             [
              0,
              "#0d0887"
             ],
             [
              0.1111111111111111,
              "#46039f"
             ],
             [
              0.2222222222222222,
              "#7201a8"
             ],
             [
              0.3333333333333333,
              "#9c179e"
             ],
             [
              0.4444444444444444,
              "#bd3786"
             ],
             [
              0.5555555555555556,
              "#d8576b"
             ],
             [
              0.6666666666666666,
              "#ed7953"
             ],
             [
              0.7777777777777778,
              "#fb9f3a"
             ],
             [
              0.8888888888888888,
              "#fdca26"
             ],
             [
              1,
              "#f0f921"
             ]
            ],
            "type": "heatmap"
           }
          ],
          "heatmapgl": [
           {
            "colorbar": {
             "outlinewidth": 0,
             "ticks": ""
            },
            "colorscale": [
             [
              0,
              "#0d0887"
             ],
             [
              0.1111111111111111,
              "#46039f"
             ],
             [
              0.2222222222222222,
              "#7201a8"
             ],
             [
              0.3333333333333333,
              "#9c179e"
             ],
             [
              0.4444444444444444,
              "#bd3786"
             ],
             [
              0.5555555555555556,
              "#d8576b"
             ],
             [
              0.6666666666666666,
              "#ed7953"
             ],
             [
              0.7777777777777778,
              "#fb9f3a"
             ],
             [
              0.8888888888888888,
              "#fdca26"
             ],
             [
              1,
              "#f0f921"
             ]
            ],
            "type": "heatmapgl"
           }
          ],
          "histogram": [
           {
            "marker": {
             "colorbar": {
              "outlinewidth": 0,
              "ticks": ""
             }
            },
            "type": "histogram"
           }
          ],
          "histogram2d": [
           {
            "colorbar": {
             "outlinewidth": 0,
             "ticks": ""
            },
            "colorscale": [
             [
              0,
              "#0d0887"
             ],
             [
              0.1111111111111111,
              "#46039f"
             ],
             [
              0.2222222222222222,
              "#7201a8"
             ],
             [
              0.3333333333333333,
              "#9c179e"
             ],
             [
              0.4444444444444444,
              "#bd3786"
             ],
             [
              0.5555555555555556,
              "#d8576b"
             ],
             [
              0.6666666666666666,
              "#ed7953"
             ],
             [
              0.7777777777777778,
              "#fb9f3a"
             ],
             [
              0.8888888888888888,
              "#fdca26"
             ],
             [
              1,
              "#f0f921"
             ]
            ],
            "type": "histogram2d"
           }
          ],
          "histogram2dcontour": [
           {
            "colorbar": {
             "outlinewidth": 0,
             "ticks": ""
            },
            "colorscale": [
             [
              0,
              "#0d0887"
             ],
             [
              0.1111111111111111,
              "#46039f"
             ],
             [
              0.2222222222222222,
              "#7201a8"
             ],
             [
              0.3333333333333333,
              "#9c179e"
             ],
             [
              0.4444444444444444,
              "#bd3786"
             ],
             [
              0.5555555555555556,
              "#d8576b"
             ],
             [
              0.6666666666666666,
              "#ed7953"
             ],
             [
              0.7777777777777778,
              "#fb9f3a"
             ],
             [
              0.8888888888888888,
              "#fdca26"
             ],
             [
              1,
              "#f0f921"
             ]
            ],
            "type": "histogram2dcontour"
           }
          ],
          "mesh3d": [
           {
            "colorbar": {
             "outlinewidth": 0,
             "ticks": ""
            },
            "type": "mesh3d"
           }
          ],
          "parcoords": [
           {
            "line": {
             "colorbar": {
              "outlinewidth": 0,
              "ticks": ""
             }
            },
            "type": "parcoords"
           }
          ],
          "scatter": [
           {
            "marker": {
             "colorbar": {
              "outlinewidth": 0,
              "ticks": ""
             }
            },
            "type": "scatter"
           }
          ],
          "scatter3d": [
           {
            "line": {
             "colorbar": {
              "outlinewidth": 0,
              "ticks": ""
             }
            },
            "marker": {
             "colorbar": {
              "outlinewidth": 0,
              "ticks": ""
             }
            },
            "type": "scatter3d"
           }
          ],
          "scattercarpet": [
           {
            "marker": {
             "colorbar": {
              "outlinewidth": 0,
              "ticks": ""
             }
            },
            "type": "scattercarpet"
           }
          ],
          "scattergeo": [
           {
            "marker": {
             "colorbar": {
              "outlinewidth": 0,
              "ticks": ""
             }
            },
            "type": "scattergeo"
           }
          ],
          "scattergl": [
           {
            "marker": {
             "colorbar": {
              "outlinewidth": 0,
              "ticks": ""
             }
            },
            "type": "scattergl"
           }
          ],
          "scattermapbox": [
           {
            "marker": {
             "colorbar": {
              "outlinewidth": 0,
              "ticks": ""
             }
            },
            "type": "scattermapbox"
           }
          ],
          "scatterpolar": [
           {
            "marker": {
             "colorbar": {
              "outlinewidth": 0,
              "ticks": ""
             }
            },
            "type": "scatterpolar"
           }
          ],
          "scatterpolargl": [
           {
            "marker": {
             "colorbar": {
              "outlinewidth": 0,
              "ticks": ""
             }
            },
            "type": "scatterpolargl"
           }
          ],
          "scatterternary": [
           {
            "marker": {
             "colorbar": {
              "outlinewidth": 0,
              "ticks": ""
             }
            },
            "type": "scatterternary"
           }
          ],
          "surface": [
           {
            "colorbar": {
             "outlinewidth": 0,
             "ticks": ""
            },
            "colorscale": [
             [
              0,
              "#0d0887"
             ],
             [
              0.1111111111111111,
              "#46039f"
             ],
             [
              0.2222222222222222,
              "#7201a8"
             ],
             [
              0.3333333333333333,
              "#9c179e"
             ],
             [
              0.4444444444444444,
              "#bd3786"
             ],
             [
              0.5555555555555556,
              "#d8576b"
             ],
             [
              0.6666666666666666,
              "#ed7953"
             ],
             [
              0.7777777777777778,
              "#fb9f3a"
             ],
             [
              0.8888888888888888,
              "#fdca26"
             ],
             [
              1,
              "#f0f921"
             ]
            ],
            "type": "surface"
           }
          ],
          "table": [
           {
            "cells": {
             "fill": {
              "color": "#EBF0F8"
             },
             "line": {
              "color": "white"
             }
            },
            "header": {
             "fill": {
              "color": "#C8D4E3"
             },
             "line": {
              "color": "white"
             }
            },
            "type": "table"
           }
          ]
         },
         "layout": {
          "annotationdefaults": {
           "arrowcolor": "#2a3f5f",
           "arrowhead": 0,
           "arrowwidth": 1
          },
          "colorscale": {
           "diverging": [
            [
             0,
             "#8e0152"
            ],
            [
             0.1,
             "#c51b7d"
            ],
            [
             0.2,
             "#de77ae"
            ],
            [
             0.3,
             "#f1b6da"
            ],
            [
             0.4,
             "#fde0ef"
            ],
            [
             0.5,
             "#f7f7f7"
            ],
            [
             0.6,
             "#e6f5d0"
            ],
            [
             0.7,
             "#b8e186"
            ],
            [
             0.8,
             "#7fbc41"
            ],
            [
             0.9,
             "#4d9221"
            ],
            [
             1,
             "#276419"
            ]
           ],
           "sequential": [
            [
             0,
             "#0d0887"
            ],
            [
             0.1111111111111111,
             "#46039f"
            ],
            [
             0.2222222222222222,
             "#7201a8"
            ],
            [
             0.3333333333333333,
             "#9c179e"
            ],
            [
             0.4444444444444444,
             "#bd3786"
            ],
            [
             0.5555555555555556,
             "#d8576b"
            ],
            [
             0.6666666666666666,
             "#ed7953"
            ],
            [
             0.7777777777777778,
             "#fb9f3a"
            ],
            [
             0.8888888888888888,
             "#fdca26"
            ],
            [
             1,
             "#f0f921"
            ]
           ],
           "sequentialminus": [
            [
             0,
             "#0d0887"
            ],
            [
             0.1111111111111111,
             "#46039f"
            ],
            [
             0.2222222222222222,
             "#7201a8"
            ],
            [
             0.3333333333333333,
             "#9c179e"
            ],
            [
             0.4444444444444444,
             "#bd3786"
            ],
            [
             0.5555555555555556,
             "#d8576b"
            ],
            [
             0.6666666666666666,
             "#ed7953"
            ],
            [
             0.7777777777777778,
             "#fb9f3a"
            ],
            [
             0.8888888888888888,
             "#fdca26"
            ],
            [
             1,
             "#f0f921"
            ]
           ]
          },
          "colorway": [
           "#636efa",
           "#EF553B",
           "#00cc96",
           "#ab63fa",
           "#FFA15A",
           "#19d3f3",
           "#FF6692",
           "#B6E880",
           "#FF97FF",
           "#FECB52"
          ],
          "font": {
           "color": "#2a3f5f"
          },
          "geo": {
           "bgcolor": "white",
           "lakecolor": "white",
           "landcolor": "#E5ECF6",
           "showlakes": true,
           "showland": true,
           "subunitcolor": "white"
          },
          "hoverlabel": {
           "align": "left"
          },
          "hovermode": "closest",
          "mapbox": {
           "style": "light"
          },
          "paper_bgcolor": "white",
          "plot_bgcolor": "#E5ECF6",
          "polar": {
           "angularaxis": {
            "gridcolor": "white",
            "linecolor": "white",
            "ticks": ""
           },
           "bgcolor": "#E5ECF6",
           "radialaxis": {
            "gridcolor": "white",
            "linecolor": "white",
            "ticks": ""
           }
          },
          "scene": {
           "xaxis": {
            "backgroundcolor": "#E5ECF6",
            "gridcolor": "white",
            "gridwidth": 2,
            "linecolor": "white",
            "showbackground": true,
            "ticks": "",
            "zerolinecolor": "white"
           },
           "yaxis": {
            "backgroundcolor": "#E5ECF6",
            "gridcolor": "white",
            "gridwidth": 2,
            "linecolor": "white",
            "showbackground": true,
            "ticks": "",
            "zerolinecolor": "white"
           },
           "zaxis": {
            "backgroundcolor": "#E5ECF6",
            "gridcolor": "white",
            "gridwidth": 2,
            "linecolor": "white",
            "showbackground": true,
            "ticks": "",
            "zerolinecolor": "white"
           }
          },
          "shapedefaults": {
           "line": {
            "color": "#2a3f5f"
           }
          },
          "ternary": {
           "aaxis": {
            "gridcolor": "white",
            "linecolor": "white",
            "ticks": ""
           },
           "baxis": {
            "gridcolor": "white",
            "linecolor": "white",
            "ticks": ""
           },
           "bgcolor": "#E5ECF6",
           "caxis": {
            "gridcolor": "white",
            "linecolor": "white",
            "ticks": ""
           }
          },
          "title": {
           "x": 0.05
          },
          "xaxis": {
           "automargin": true,
           "gridcolor": "white",
           "linecolor": "white",
           "ticks": "",
           "zerolinecolor": "white",
           "zerolinewidth": 2
          },
          "yaxis": {
           "automargin": true,
           "gridcolor": "white",
           "linecolor": "white",
           "ticks": "",
           "zerolinecolor": "white",
           "zerolinewidth": 2
          }
         }
        },
        "title": {
         "text": "Consistent performance for low and high tracking speeds across individuals"
        },
        "width": 700,
        "xaxis": {
         "title": {
          "text": "rank in lower speed"
         }
        },
        "yaxis": {
         "title": {
          "text": "Corresponding rank in higher speed"
         }
        }
       }
      },
      "text/html": [
       "<div>\n",
       "        \n",
       "        \n",
       "            <div id=\"998144fe-e256-4f37-8153-f6247bff9153\" class=\"plotly-graph-div\" style=\"height:700px; width:700px;\"></div>\n",
       "            <script type=\"text/javascript\">\n",
       "                require([\"plotly\"], function(Plotly) {\n",
       "                    window.PLOTLYENV=window.PLOTLYENV || {};\n",
       "                    \n",
       "                if (document.getElementById(\"998144fe-e256-4f37-8153-f6247bff9153\")) {\n",
       "                    Plotly.newPlot(\n",
       "                        '998144fe-e256-4f37-8153-f6247bff9153',\n",
       "                        [{\"marker\": {\"opacity\": 0.5, \"size\": 20}, \"mode\": \"markers+text\", \"showlegend\": false, \"text\": [101.0, 102.0, 103.0, 104.0, 105.0, 106.0, 107.0, 108.0, 109.0, 110.0, 111.0, 112.0, 113.0, 114.0, 115.0, 116.0, 117.0, 118.0, 119.0, 120.0, 121.0, 122.0, 123.0, 124.0, 125.0, 126.0, 127.0, 128.0, 129.0, 130.0, 131.0, 133.0, 134.0, 135.0, 136.0, 137.0, 138.0, 139.0, 140.0, 141.0, 142.0, 143.0, 144.0, 145.0, 146.0, 147.0, 148.0, 149.0, 150.0, 151.0], \"type\": \"scatter\", \"x\": [17, 3, 9, 15, 41, 20, 12, 13, 30, 47, 24, 28, 10, 37, 5, 25, 31, 16, 48, 21, 6, 8, 32, 26, 35, 33, 39, 1, 11, 23, 36, 22, 45, 43, 14, 49, 46, 2, 19, 40, 38, 18, 29, 4, 44, 50, 7, 27, 42, 34], \"y\": [13, 1, 12, 7, 42, 24, 14, 19, 32, 49, 28, 40, 9, 37, 3, 29, 41, 23, 50, 21, 31, 6, 26, 39, 38, 17, 18, 4, 15, 16, 33, 20, 30, 45, 10, 46, 44, 2, 11, 35, 43, 22, 25, 8, 47, 48, 5, 27, 36, 34]}, {\"line\": {\"color\": \"gray\", \"dash\": \"dash\", \"width\": 7}, \"mode\": \"lines\", \"name\": \"$r^{2}_{partial} = 0.761$\", \"showlegend\": false, \"type\": \"scatter\", \"x\": [1.0, 1.494949494949495, 1.98989898989899, 2.484848484848485, 2.97979797979798, 3.474747474747475, 3.9696969696969697, 4.464646464646465, 4.95959595959596, 5.454545454545455, 5.94949494949495, 6.444444444444445, 6.9393939393939394, 7.434343434343434, 7.92929292929293, 8.424242424242426, 8.91919191919192, 9.414141414141415, 9.90909090909091, 10.404040404040405, 10.8989898989899, 11.393939393939394, 11.88888888888889, 12.383838383838384, 12.878787878787879, 13.373737373737374, 13.868686868686869, 14.363636363636365, 14.85858585858586, 15.353535353535355, 15.84848484848485, 16.343434343434346, 16.83838383838384, 17.333333333333336, 17.82828282828283, 18.323232323232325, 18.81818181818182, 19.313131313131315, 19.80808080808081, 20.303030303030305, 20.7979797979798, 21.292929292929294, 21.78787878787879, 22.282828282828284, 22.77777777777778, 23.272727272727273, 23.767676767676768, 24.262626262626263, 24.757575757575758, 25.252525252525253, 25.747474747474747, 26.242424242424242, 26.737373737373737, 27.232323232323232, 27.72727272727273, 28.222222222222225, 28.71717171717172, 29.212121212121215, 29.70707070707071, 30.202020202020204, 30.6969696969697, 31.191919191919194, 31.68686868686869, 32.18181818181819, 32.67676767676768, 33.17171717171718, 33.66666666666667, 34.161616161616166, 34.65656565656566, 35.151515151515156, 35.64646464646465, 36.141414141414145, 36.63636363636364, 37.131313131313135, 37.62626262626263, 38.121212121212125, 38.61616161616162, 39.111111111111114, 39.60606060606061, 40.101010101010104, 40.5959595959596, 41.09090909090909, 41.58585858585859, 42.08080808080808, 42.57575757575758, 43.07070707070707, 43.56565656565657, 44.06060606060606, 44.55555555555556, 45.05050505050505, 45.54545454545455, 46.04040404040404, 46.535353535353536, 47.03030303030303, 47.525252525252526, 48.02020202020202, 48.515151515151516, 49.01010101010101, 49.505050505050505, 50.0], \"y\": [4.04941176470588, 4.482756981580509, 4.916102198455137, 5.349447415329767, 5.782792632204396, 6.216137849079025, 6.649483065953653, 7.082828282828283, 7.516173499702912, 7.94951871657754, 8.38286393345217, 8.816209150326799, 9.249554367201426, 9.682899584076056, 10.116244800950685, 10.549590017825315, 10.982935234699944, 11.416280451574574, 11.849625668449201, 12.28297088532383, 12.71631610219846, 13.149661319073088, 13.583006535947717, 14.016351752822345, 14.449696969696975, 14.883042186571604, 15.316387403446232, 15.749732620320863, 16.18307783719549, 16.61642305407012, 17.04976827094475, 17.483113487819377, 17.91645870469401, 18.349803921568636, 18.783149138443264, 19.21649435531789, 19.649839572192523, 20.08318478906715, 20.516530005941778, 20.94987522281641, 21.383220439691037, 21.816565656565665, 22.249910873440296, 22.683256090314924, 23.11660130718955, 23.549946524064183, 23.98329174093881, 24.416636957813438, 24.84998217468807, 25.283327391562697, 25.716672608437324, 26.150017825311956, 26.583363042186583, 27.01670825906121, 27.450053475935842, 27.883398692810474, 28.3167439096851, 28.75008912655973, 29.18343434343436, 29.616779560308988, 30.050124777183616, 30.483469994058247, 30.916815210932874, 31.350160427807506, 31.783505644682133, 32.216850861556765, 32.65019607843139, 33.08354129530602, 33.516886512180655, 33.95023172905528, 34.38357694592991, 34.81692216280454, 35.250267379679165, 35.68361259655379, 36.11695781342842, 36.55030303030305, 36.98364824717768, 37.41699346405231, 37.85033868092694, 38.283683897801566, 38.717029114676194, 39.15037433155082, 39.58371954842546, 40.017064765300084, 40.45040998217471, 40.88375519904934, 41.31710041592397, 41.750445632798595, 42.18379084967323, 42.61713606654786, 43.050481283422485, 43.48382650029711, 43.91717171717174, 44.35051693404637, 44.783862150920996, 45.21720736779563, 45.65055258467026, 46.083897801544886, 46.517243018419514, 46.95058823529414]}],\n",
       "                        {\"annotations\": [{\"showarrow\": false, \"text\": \"$r^{2}_{adj} = 0.761^{*}$\", \"x\": 10, \"xref\": \"x\", \"y\": 45, \"yref\": \"y\"}], \"height\": 700, \"template\": {\"data\": {\"bar\": [{\"error_x\": {\"color\": \"#2a3f5f\"}, \"error_y\": {\"color\": \"#2a3f5f\"}, \"marker\": {\"line\": {\"color\": \"#E5ECF6\", \"width\": 0.5}}, \"type\": \"bar\"}], \"barpolar\": [{\"marker\": {\"line\": {\"color\": \"#E5ECF6\", \"width\": 0.5}}, \"type\": \"barpolar\"}], \"carpet\": [{\"aaxis\": {\"endlinecolor\": \"#2a3f5f\", \"gridcolor\": \"white\", \"linecolor\": \"white\", \"minorgridcolor\": \"white\", \"startlinecolor\": \"#2a3f5f\"}, \"baxis\": {\"endlinecolor\": \"#2a3f5f\", \"gridcolor\": \"white\", \"linecolor\": \"white\", \"minorgridcolor\": \"white\", \"startlinecolor\": \"#2a3f5f\"}, \"type\": \"carpet\"}], \"choropleth\": [{\"colorbar\": {\"outlinewidth\": 0, \"ticks\": \"\"}, \"type\": \"choropleth\"}], \"contour\": [{\"colorbar\": {\"outlinewidth\": 0, \"ticks\": \"\"}, \"colorscale\": [[0.0, \"#0d0887\"], [0.1111111111111111, \"#46039f\"], [0.2222222222222222, \"#7201a8\"], [0.3333333333333333, \"#9c179e\"], [0.4444444444444444, \"#bd3786\"], [0.5555555555555556, \"#d8576b\"], [0.6666666666666666, \"#ed7953\"], [0.7777777777777778, \"#fb9f3a\"], [0.8888888888888888, \"#fdca26\"], [1.0, \"#f0f921\"]], \"type\": \"contour\"}], \"contourcarpet\": [{\"colorbar\": {\"outlinewidth\": 0, \"ticks\": \"\"}, \"type\": \"contourcarpet\"}], \"heatmap\": [{\"colorbar\": {\"outlinewidth\": 0, \"ticks\": \"\"}, \"colorscale\": [[0.0, \"#0d0887\"], [0.1111111111111111, \"#46039f\"], [0.2222222222222222, \"#7201a8\"], [0.3333333333333333, \"#9c179e\"], [0.4444444444444444, \"#bd3786\"], [0.5555555555555556, \"#d8576b\"], [0.6666666666666666, \"#ed7953\"], [0.7777777777777778, \"#fb9f3a\"], [0.8888888888888888, \"#fdca26\"], [1.0, \"#f0f921\"]], \"type\": \"heatmap\"}], \"heatmapgl\": [{\"colorbar\": {\"outlinewidth\": 0, \"ticks\": \"\"}, \"colorscale\": [[0.0, \"#0d0887\"], [0.1111111111111111, \"#46039f\"], [0.2222222222222222, \"#7201a8\"], [0.3333333333333333, \"#9c179e\"], [0.4444444444444444, \"#bd3786\"], [0.5555555555555556, \"#d8576b\"], [0.6666666666666666, \"#ed7953\"], [0.7777777777777778, \"#fb9f3a\"], [0.8888888888888888, \"#fdca26\"], [1.0, \"#f0f921\"]], \"type\": \"heatmapgl\"}], \"histogram\": [{\"marker\": {\"colorbar\": {\"outlinewidth\": 0, \"ticks\": \"\"}}, \"type\": \"histogram\"}], \"histogram2d\": [{\"colorbar\": {\"outlinewidth\": 0, \"ticks\": \"\"}, \"colorscale\": [[0.0, \"#0d0887\"], [0.1111111111111111, \"#46039f\"], [0.2222222222222222, \"#7201a8\"], [0.3333333333333333, \"#9c179e\"], [0.4444444444444444, \"#bd3786\"], [0.5555555555555556, \"#d8576b\"], [0.6666666666666666, \"#ed7953\"], [0.7777777777777778, \"#fb9f3a\"], [0.8888888888888888, \"#fdca26\"], [1.0, \"#f0f921\"]], \"type\": \"histogram2d\"}], \"histogram2dcontour\": [{\"colorbar\": {\"outlinewidth\": 0, \"ticks\": \"\"}, \"colorscale\": [[0.0, \"#0d0887\"], [0.1111111111111111, \"#46039f\"], [0.2222222222222222, \"#7201a8\"], [0.3333333333333333, \"#9c179e\"], [0.4444444444444444, \"#bd3786\"], [0.5555555555555556, \"#d8576b\"], [0.6666666666666666, \"#ed7953\"], [0.7777777777777778, \"#fb9f3a\"], [0.8888888888888888, \"#fdca26\"], [1.0, \"#f0f921\"]], \"type\": \"histogram2dcontour\"}], \"mesh3d\": [{\"colorbar\": {\"outlinewidth\": 0, \"ticks\": \"\"}, \"type\": \"mesh3d\"}], \"parcoords\": [{\"line\": {\"colorbar\": {\"outlinewidth\": 0, \"ticks\": \"\"}}, \"type\": \"parcoords\"}], \"scatter\": [{\"marker\": {\"colorbar\": {\"outlinewidth\": 0, \"ticks\": \"\"}}, \"type\": \"scatter\"}], \"scatter3d\": [{\"line\": {\"colorbar\": {\"outlinewidth\": 0, \"ticks\": \"\"}}, \"marker\": {\"colorbar\": {\"outlinewidth\": 0, \"ticks\": \"\"}}, \"type\": \"scatter3d\"}], \"scattercarpet\": [{\"marker\": {\"colorbar\": {\"outlinewidth\": 0, \"ticks\": \"\"}}, \"type\": \"scattercarpet\"}], \"scattergeo\": [{\"marker\": {\"colorbar\": {\"outlinewidth\": 0, \"ticks\": \"\"}}, \"type\": \"scattergeo\"}], \"scattergl\": [{\"marker\": {\"colorbar\": {\"outlinewidth\": 0, \"ticks\": \"\"}}, \"type\": \"scattergl\"}], \"scattermapbox\": [{\"marker\": {\"colorbar\": {\"outlinewidth\": 0, \"ticks\": \"\"}}, \"type\": \"scattermapbox\"}], \"scatterpolar\": [{\"marker\": {\"colorbar\": {\"outlinewidth\": 0, \"ticks\": \"\"}}, \"type\": \"scatterpolar\"}], \"scatterpolargl\": [{\"marker\": {\"colorbar\": {\"outlinewidth\": 0, \"ticks\": \"\"}}, \"type\": \"scatterpolargl\"}], \"scatterternary\": [{\"marker\": {\"colorbar\": {\"outlinewidth\": 0, \"ticks\": \"\"}}, \"type\": \"scatterternary\"}], \"surface\": [{\"colorbar\": {\"outlinewidth\": 0, \"ticks\": \"\"}, \"colorscale\": [[0.0, \"#0d0887\"], [0.1111111111111111, \"#46039f\"], [0.2222222222222222, \"#7201a8\"], [0.3333333333333333, \"#9c179e\"], [0.4444444444444444, \"#bd3786\"], [0.5555555555555556, \"#d8576b\"], [0.6666666666666666, \"#ed7953\"], [0.7777777777777778, \"#fb9f3a\"], [0.8888888888888888, \"#fdca26\"], [1.0, \"#f0f921\"]], \"type\": \"surface\"}], \"table\": [{\"cells\": {\"fill\": {\"color\": \"#EBF0F8\"}, \"line\": {\"color\": \"white\"}}, \"header\": {\"fill\": {\"color\": \"#C8D4E3\"}, \"line\": {\"color\": \"white\"}}, \"type\": \"table\"}]}, \"layout\": {\"annotationdefaults\": {\"arrowcolor\": \"#2a3f5f\", \"arrowhead\": 0, \"arrowwidth\": 1}, \"colorscale\": {\"diverging\": [[0, \"#8e0152\"], [0.1, \"#c51b7d\"], [0.2, \"#de77ae\"], [0.3, \"#f1b6da\"], [0.4, \"#fde0ef\"], [0.5, \"#f7f7f7\"], [0.6, \"#e6f5d0\"], [0.7, \"#b8e186\"], [0.8, \"#7fbc41\"], [0.9, \"#4d9221\"], [1, \"#276419\"]], \"sequential\": [[0.0, \"#0d0887\"], [0.1111111111111111, \"#46039f\"], [0.2222222222222222, \"#7201a8\"], [0.3333333333333333, \"#9c179e\"], [0.4444444444444444, \"#bd3786\"], [0.5555555555555556, \"#d8576b\"], [0.6666666666666666, \"#ed7953\"], [0.7777777777777778, \"#fb9f3a\"], [0.8888888888888888, \"#fdca26\"], [1.0, \"#f0f921\"]], \"sequentialminus\": [[0.0, \"#0d0887\"], [0.1111111111111111, \"#46039f\"], [0.2222222222222222, \"#7201a8\"], [0.3333333333333333, \"#9c179e\"], [0.4444444444444444, \"#bd3786\"], [0.5555555555555556, \"#d8576b\"], [0.6666666666666666, \"#ed7953\"], [0.7777777777777778, \"#fb9f3a\"], [0.8888888888888888, \"#fdca26\"], [1.0, \"#f0f921\"]]}, \"colorway\": [\"#636efa\", \"#EF553B\", \"#00cc96\", \"#ab63fa\", \"#FFA15A\", \"#19d3f3\", \"#FF6692\", \"#B6E880\", \"#FF97FF\", \"#FECB52\"], \"font\": {\"color\": \"#2a3f5f\"}, \"geo\": {\"bgcolor\": \"white\", \"lakecolor\": \"white\", \"landcolor\": \"#E5ECF6\", \"showlakes\": true, \"showland\": true, \"subunitcolor\": \"white\"}, \"hoverlabel\": {\"align\": \"left\"}, \"hovermode\": \"closest\", \"mapbox\": {\"style\": \"light\"}, \"paper_bgcolor\": \"white\", \"plot_bgcolor\": \"#E5ECF6\", \"polar\": {\"angularaxis\": {\"gridcolor\": \"white\", \"linecolor\": \"white\", \"ticks\": \"\"}, \"bgcolor\": \"#E5ECF6\", \"radialaxis\": {\"gridcolor\": \"white\", \"linecolor\": \"white\", \"ticks\": \"\"}}, \"scene\": {\"xaxis\": {\"backgroundcolor\": \"#E5ECF6\", \"gridcolor\": \"white\", \"gridwidth\": 2, \"linecolor\": \"white\", \"showbackground\": true, \"ticks\": \"\", \"zerolinecolor\": \"white\"}, \"yaxis\": {\"backgroundcolor\": \"#E5ECF6\", \"gridcolor\": \"white\", \"gridwidth\": 2, \"linecolor\": \"white\", \"showbackground\": true, \"ticks\": \"\", \"zerolinecolor\": \"white\"}, \"zaxis\": {\"backgroundcolor\": \"#E5ECF6\", \"gridcolor\": \"white\", \"gridwidth\": 2, \"linecolor\": \"white\", \"showbackground\": true, \"ticks\": \"\", \"zerolinecolor\": \"white\"}}, \"shapedefaults\": {\"line\": {\"color\": \"#2a3f5f\"}}, \"ternary\": {\"aaxis\": {\"gridcolor\": \"white\", \"linecolor\": \"white\", \"ticks\": \"\"}, \"baxis\": {\"gridcolor\": \"white\", \"linecolor\": \"white\", \"ticks\": \"\"}, \"bgcolor\": \"#E5ECF6\", \"caxis\": {\"gridcolor\": \"white\", \"linecolor\": \"white\", \"ticks\": \"\"}}, \"title\": {\"x\": 0.05}, \"xaxis\": {\"automargin\": true, \"gridcolor\": \"white\", \"linecolor\": \"white\", \"ticks\": \"\", \"zerolinecolor\": \"white\", \"zerolinewidth\": 2}, \"yaxis\": {\"automargin\": true, \"gridcolor\": \"white\", \"linecolor\": \"white\", \"ticks\": \"\", \"zerolinecolor\": \"white\", \"zerolinewidth\": 2}}}, \"title\": {\"text\": \"Consistent performance for low and high tracking speeds across individuals\"}, \"width\": 700, \"xaxis\": {\"title\": {\"text\": \"rank in lower speed\"}}, \"yaxis\": {\"title\": {\"text\": \"Corresponding rank in higher speed\"}}},\n",
       "                        {\"responsive\": true}\n",
       "                    ).then(function(){\n",
       "                            \n",
       "var gd = document.getElementById('998144fe-e256-4f37-8153-f6247bff9153');\n",
       "var x = new MutationObserver(function (mutations, observer) {{\n",
       "        var display = window.getComputedStyle(gd).display;\n",
       "        if (!display || display === 'none') {{\n",
       "            console.log([gd, 'removed!']);\n",
       "            Plotly.purge(gd);\n",
       "            observer.disconnect();\n",
       "        }}\n",
       "}});\n",
       "\n",
       "// Listen for the removal of the full notebook cells\n",
       "var notebookContainer = gd.closest('#notebook-container');\n",
       "if (notebookContainer) {{\n",
       "    x.observe(notebookContainer, {childList: true});\n",
       "}}\n",
       "\n",
       "// Listen for the clearing of the current output cell\n",
       "var outputEl = gd.closest('.output');\n",
       "if (outputEl) {{\n",
       "    x.observe(outputEl, {childList: true});\n",
       "}}\n",
       "\n",
       "                        })\n",
       "                };\n",
       "                });\n",
       "            </script>\n",
       "        </div>"
      ]
     },
     "metadata": {},
     "output_type": "display_data"
    }
   ],
   "source": [
    "odd_set = [5.0, 6.26]\n",
    "even_set = [1.57,3.13]\n",
    "sub_id = individual_ranking['subject_Num'].to_numpy()\n",
    "\n",
    "even_load_data = behavior_data.filter_by(even_set,'speed (deg/sec)')\n",
    "individual_even_load_data = even_load_data.groupby('subject_Num',operations = {'avg_accuracy':agg.MEAN('accuracy')})\n",
    "individual_even_load_data = individual_even_load_data.sort('avg_accuracy',ascending=False)\n",
    "individual_even_load_data['rank_within'] = np.arange(1,len(individual_even_load_data)+1)\n",
    "individual_even_load_data = individual_even_load_data.sort('subject_Num')\n",
    "\n",
    "odd_load_data = behavior_data.filter_by(odd_set,'speed (deg/sec)')\n",
    "individual_odd_load_data = odd_load_data.groupby('subject_Num',operations = {'avg_accuracy':agg.MEAN('accuracy')})\n",
    "individual_odd_load_data = individual_odd_load_data.sort('avg_accuracy',ascending=False)\n",
    "individual_odd_load_data['rank_within'] = np.arange(1,len(individual_odd_load_data)+1)\n",
    "individual_odd_load_data = individual_odd_load_data.sort('subject_Num')\n",
    "\n",
    "hsb = individual_odd_load_data\n",
    "hsb['rank_within_even'] = individual_even_load_data['rank_within']\n",
    "hsb2 = hsb.to_dataframe()\n",
    "\n",
    "mod = ols(\"rank_within ~ rank_within_even\", data=hsb2)\n",
    "res = mod.fit()\n",
    "print(res.rsquared_adj)\n",
    "\n",
    "sec2_trace = go.Scatter(x = individual_even_load_data['rank_within'].to_numpy(),\n",
    "                       y = individual_odd_load_data['rank_within'].to_numpy(),\n",
    "                       mode='markers+text', marker = dict(size = 20, opacity = 0.5),\n",
    "                       text = individual_even_load_data['subject_Num'].to_numpy(),\n",
    "                       showlegend=False)\n",
    "\n",
    "sec2_trace_fit = go.Scatter(x = np.linspace(individual_even_load_data['rank_within'].min(),individual_even_load_data['rank_within'].max(),100),\n",
    "                   y = np.linspace(individual_even_load_data['rank_within'].min(),individual_even_load_data['rank_within'].max(),100)*res.params[1] + res.params[0],\n",
    "                    mode='lines',\n",
    "                  line = dict(width = 7, color='gray', dash = 'dash'),\n",
    "                    name = '$r^{2}_{partial} = 0.761$',\n",
    "                   showlegend=False)\n",
    "\n",
    "\n",
    "layout = go.Layout(title = '',\n",
    "                  xaxis = dict(title = 'rank in lower speed'),\n",
    "                  yaxis = dict(title = 'Corresponding rank in higher speed'))\n",
    "\n",
    "fig = go.Figure(data = [sec2_trace, sec2_trace_fit], layout = layout)\n",
    "fig['layout']['annotations']= [dict(x=10,y=45,xref='x',yref='y',text='$r^{2}_{adj} = 0.761^{*}$', showarrow=False)]\n",
    "fig['layout'].update(width = 700, height = 700,title=('Consistent performance for low and high tracking speeds across individuals'))\n",
    "iplot(fig, filename='split half correlations across target speed')"
   ]
  },
  {
   "cell_type": "code",
   "execution_count": 26,
   "metadata": {},
   "outputs": [
    {
     "data": {
      "text/plain": [
       "0.7616968293199633"
      ]
     },
     "execution_count": 26,
     "metadata": {},
     "output_type": "execute_result"
    }
   ],
   "source": [
    "res.rsquared_adj"
   ]
  },
  {
   "cell_type": "markdown",
   "metadata": {
    "collapsed": true
   },
   "source": [
    "<a id = section 3></a>\n",
    "# [Analysis using number of targets chosen](#section 3) \n"
   ]
  },
  {
   "cell_type": "markdown",
   "metadata": {},
   "source": [
    "## Group the behavioral data by target load"
   ]
  },
  {
   "cell_type": "code",
   "execution_count": 27,
   "metadata": {
    "code_folding": [
     0
    ]
   },
   "outputs": [],
   "source": [
    "target_data = behavior_data.groupby('num_targets',operations = {'avg_num_targets_chosen':agg.MEAN('num_targets_chosen'),\n",
    "                                                               'std_num_targets_chosen':agg.STD('num_targets_chosen')})\n",
    "target_data = target_data.sort('num_targets')"
   ]
  },
  {
   "cell_type": "markdown",
   "metadata": {},
   "source": [
    "## Plot the grouped data"
   ]
  },
  {
   "cell_type": "code",
   "execution_count": 28,
   "metadata": {
    "code_folding": [
     0,
     5,
     12,
     19
    ]
   },
   "outputs": [
    {
     "data": {
      "application/vnd.plotly.v1+json": {
       "config": {
        "linkText": "Export to plot.ly",
        "plotlyServerURL": "https://plot.ly",
        "showLink": false
       },
       "data": [
        {
         "line": {
          "color": "beige"
         },
         "mode": "lines",
         "showlegend": false,
         "type": "scatter",
         "x": [
          3,
          4,
          5,
          6,
          7,
          8
         ],
         "y": [
          3.2756882920959036,
          4.1099382692526625,
          4.630247533492772,
          4.966735022548438,
          5.480512726798588,
          5.669641107101944
         ]
        },
        {
         "fill": "tonexty",
         "fillcolor": "lightgray",
         "line": {
          "color": "black",
          "width": 2
         },
         "mode": "markers+lines",
         "name": "avg",
         "type": "scatter",
         "x": [
          3,
          4,
          5,
          6,
          7,
          8
         ],
         "y": [
          2.7849999999999953,
          3.299999999999999,
          3.603999999999999,
          3.862999999999999,
          4.350999999999991,
          4.571999999999991
         ]
        },
        {
         "fill": "tonexty",
         "fillcolor": "lightgray",
         "line": {
          "color": "beige"
         },
         "mode": "lines",
         "name": "std",
         "type": "scatter",
         "x": [
          3,
          4,
          5,
          6,
          7,
          8
         ],
         "y": [
          2.294311707904087,
          2.490061730747336,
          2.5777524665072264,
          2.759264977451561,
          3.2214872732013946,
          3.4743588928980387
         ]
        }
       ],
       "layout": {
        "template": {
         "data": {
          "bar": [
           {
            "error_x": {
             "color": "#2a3f5f"
            },
            "error_y": {
             "color": "#2a3f5f"
            },
            "marker": {
             "line": {
              "color": "#E5ECF6",
              "width": 0.5
             }
            },
            "type": "bar"
           }
          ],
          "barpolar": [
           {
            "marker": {
             "line": {
              "color": "#E5ECF6",
              "width": 0.5
             }
            },
            "type": "barpolar"
           }
          ],
          "carpet": [
           {
            "aaxis": {
             "endlinecolor": "#2a3f5f",
             "gridcolor": "white",
             "linecolor": "white",
             "minorgridcolor": "white",
             "startlinecolor": "#2a3f5f"
            },
            "baxis": {
             "endlinecolor": "#2a3f5f",
             "gridcolor": "white",
             "linecolor": "white",
             "minorgridcolor": "white",
             "startlinecolor": "#2a3f5f"
            },
            "type": "carpet"
           }
          ],
          "choropleth": [
           {
            "colorbar": {
             "outlinewidth": 0,
             "ticks": ""
            },
            "type": "choropleth"
           }
          ],
          "contour": [
           {
            "colorbar": {
             "outlinewidth": 0,
             "ticks": ""
            },
            "colorscale": [
             [
              0,
              "#0d0887"
             ],
             [
              0.1111111111111111,
              "#46039f"
             ],
             [
              0.2222222222222222,
              "#7201a8"
             ],
             [
              0.3333333333333333,
              "#9c179e"
             ],
             [
              0.4444444444444444,
              "#bd3786"
             ],
             [
              0.5555555555555556,
              "#d8576b"
             ],
             [
              0.6666666666666666,
              "#ed7953"
             ],
             [
              0.7777777777777778,
              "#fb9f3a"
             ],
             [
              0.8888888888888888,
              "#fdca26"
             ],
             [
              1,
              "#f0f921"
             ]
            ],
            "type": "contour"
           }
          ],
          "contourcarpet": [
           {
            "colorbar": {
             "outlinewidth": 0,
             "ticks": ""
            },
            "type": "contourcarpet"
           }
          ],
          "heatmap": [
           {
            "colorbar": {
             "outlinewidth": 0,
             "ticks": ""
            },
            "colorscale": [
             [
              0,
              "#0d0887"
             ],
             [
              0.1111111111111111,
              "#46039f"
             ],
             [
              0.2222222222222222,
              "#7201a8"
             ],
             [
              0.3333333333333333,
              "#9c179e"
             ],
             [
              0.4444444444444444,
              "#bd3786"
             ],
             [
              0.5555555555555556,
              "#d8576b"
             ],
             [
              0.6666666666666666,
              "#ed7953"
             ],
             [
              0.7777777777777778,
              "#fb9f3a"
             ],
             [
              0.8888888888888888,
              "#fdca26"
             ],
             [
              1,
              "#f0f921"
             ]
            ],
            "type": "heatmap"
           }
          ],
          "heatmapgl": [
           {
            "colorbar": {
             "outlinewidth": 0,
             "ticks": ""
            },
            "colorscale": [
             [
              0,
              "#0d0887"
             ],
             [
              0.1111111111111111,
              "#46039f"
             ],
             [
              0.2222222222222222,
              "#7201a8"
             ],
             [
              0.3333333333333333,
              "#9c179e"
             ],
             [
              0.4444444444444444,
              "#bd3786"
             ],
             [
              0.5555555555555556,
              "#d8576b"
             ],
             [
              0.6666666666666666,
              "#ed7953"
             ],
             [
              0.7777777777777778,
              "#fb9f3a"
             ],
             [
              0.8888888888888888,
              "#fdca26"
             ],
             [
              1,
              "#f0f921"
             ]
            ],
            "type": "heatmapgl"
           }
          ],
          "histogram": [
           {
            "marker": {
             "colorbar": {
              "outlinewidth": 0,
              "ticks": ""
             }
            },
            "type": "histogram"
           }
          ],
          "histogram2d": [
           {
            "colorbar": {
             "outlinewidth": 0,
             "ticks": ""
            },
            "colorscale": [
             [
              0,
              "#0d0887"
             ],
             [
              0.1111111111111111,
              "#46039f"
             ],
             [
              0.2222222222222222,
              "#7201a8"
             ],
             [
              0.3333333333333333,
              "#9c179e"
             ],
             [
              0.4444444444444444,
              "#bd3786"
             ],
             [
              0.5555555555555556,
              "#d8576b"
             ],
             [
              0.6666666666666666,
              "#ed7953"
             ],
             [
              0.7777777777777778,
              "#fb9f3a"
             ],
             [
              0.8888888888888888,
              "#fdca26"
             ],
             [
              1,
              "#f0f921"
             ]
            ],
            "type": "histogram2d"
           }
          ],
          "histogram2dcontour": [
           {
            "colorbar": {
             "outlinewidth": 0,
             "ticks": ""
            },
            "colorscale": [
             [
              0,
              "#0d0887"
             ],
             [
              0.1111111111111111,
              "#46039f"
             ],
             [
              0.2222222222222222,
              "#7201a8"
             ],
             [
              0.3333333333333333,
              "#9c179e"
             ],
             [
              0.4444444444444444,
              "#bd3786"
             ],
             [
              0.5555555555555556,
              "#d8576b"
             ],
             [
              0.6666666666666666,
              "#ed7953"
             ],
             [
              0.7777777777777778,
              "#fb9f3a"
             ],
             [
              0.8888888888888888,
              "#fdca26"
             ],
             [
              1,
              "#f0f921"
             ]
            ],
            "type": "histogram2dcontour"
           }
          ],
          "mesh3d": [
           {
            "colorbar": {
             "outlinewidth": 0,
             "ticks": ""
            },
            "type": "mesh3d"
           }
          ],
          "parcoords": [
           {
            "line": {
             "colorbar": {
              "outlinewidth": 0,
              "ticks": ""
             }
            },
            "type": "parcoords"
           }
          ],
          "scatter": [
           {
            "marker": {
             "colorbar": {
              "outlinewidth": 0,
              "ticks": ""
             }
            },
            "type": "scatter"
           }
          ],
          "scatter3d": [
           {
            "line": {
             "colorbar": {
              "outlinewidth": 0,
              "ticks": ""
             }
            },
            "marker": {
             "colorbar": {
              "outlinewidth": 0,
              "ticks": ""
             }
            },
            "type": "scatter3d"
           }
          ],
          "scattercarpet": [
           {
            "marker": {
             "colorbar": {
              "outlinewidth": 0,
              "ticks": ""
             }
            },
            "type": "scattercarpet"
           }
          ],
          "scattergeo": [
           {
            "marker": {
             "colorbar": {
              "outlinewidth": 0,
              "ticks": ""
             }
            },
            "type": "scattergeo"
           }
          ],
          "scattergl": [
           {
            "marker": {
             "colorbar": {
              "outlinewidth": 0,
              "ticks": ""
             }
            },
            "type": "scattergl"
           }
          ],
          "scattermapbox": [
           {
            "marker": {
             "colorbar": {
              "outlinewidth": 0,
              "ticks": ""
             }
            },
            "type": "scattermapbox"
           }
          ],
          "scatterpolar": [
           {
            "marker": {
             "colorbar": {
              "outlinewidth": 0,
              "ticks": ""
             }
            },
            "type": "scatterpolar"
           }
          ],
          "scatterpolargl": [
           {
            "marker": {
             "colorbar": {
              "outlinewidth": 0,
              "ticks": ""
             }
            },
            "type": "scatterpolargl"
           }
          ],
          "scatterternary": [
           {
            "marker": {
             "colorbar": {
              "outlinewidth": 0,
              "ticks": ""
             }
            },
            "type": "scatterternary"
           }
          ],
          "surface": [
           {
            "colorbar": {
             "outlinewidth": 0,
             "ticks": ""
            },
            "colorscale": [
             [
              0,
              "#0d0887"
             ],
             [
              0.1111111111111111,
              "#46039f"
             ],
             [
              0.2222222222222222,
              "#7201a8"
             ],
             [
              0.3333333333333333,
              "#9c179e"
             ],
             [
              0.4444444444444444,
              "#bd3786"
             ],
             [
              0.5555555555555556,
              "#d8576b"
             ],
             [
              0.6666666666666666,
              "#ed7953"
             ],
             [
              0.7777777777777778,
              "#fb9f3a"
             ],
             [
              0.8888888888888888,
              "#fdca26"
             ],
             [
              1,
              "#f0f921"
             ]
            ],
            "type": "surface"
           }
          ],
          "table": [
           {
            "cells": {
             "fill": {
              "color": "#EBF0F8"
             },
             "line": {
              "color": "white"
             }
            },
            "header": {
             "fill": {
              "color": "#C8D4E3"
             },
             "line": {
              "color": "white"
             }
            },
            "type": "table"
           }
          ]
         },
         "layout": {
          "annotationdefaults": {
           "arrowcolor": "#2a3f5f",
           "arrowhead": 0,
           "arrowwidth": 1
          },
          "colorscale": {
           "diverging": [
            [
             0,
             "#8e0152"
            ],
            [
             0.1,
             "#c51b7d"
            ],
            [
             0.2,
             "#de77ae"
            ],
            [
             0.3,
             "#f1b6da"
            ],
            [
             0.4,
             "#fde0ef"
            ],
            [
             0.5,
             "#f7f7f7"
            ],
            [
             0.6,
             "#e6f5d0"
            ],
            [
             0.7,
             "#b8e186"
            ],
            [
             0.8,
             "#7fbc41"
            ],
            [
             0.9,
             "#4d9221"
            ],
            [
             1,
             "#276419"
            ]
           ],
           "sequential": [
            [
             0,
             "#0d0887"
            ],
            [
             0.1111111111111111,
             "#46039f"
            ],
            [
             0.2222222222222222,
             "#7201a8"
            ],
            [
             0.3333333333333333,
             "#9c179e"
            ],
            [
             0.4444444444444444,
             "#bd3786"
            ],
            [
             0.5555555555555556,
             "#d8576b"
            ],
            [
             0.6666666666666666,
             "#ed7953"
            ],
            [
             0.7777777777777778,
             "#fb9f3a"
            ],
            [
             0.8888888888888888,
             "#fdca26"
            ],
            [
             1,
             "#f0f921"
            ]
           ],
           "sequentialminus": [
            [
             0,
             "#0d0887"
            ],
            [
             0.1111111111111111,
             "#46039f"
            ],
            [
             0.2222222222222222,
             "#7201a8"
            ],
            [
             0.3333333333333333,
             "#9c179e"
            ],
            [
             0.4444444444444444,
             "#bd3786"
            ],
            [
             0.5555555555555556,
             "#d8576b"
            ],
            [
             0.6666666666666666,
             "#ed7953"
            ],
            [
             0.7777777777777778,
             "#fb9f3a"
            ],
            [
             0.8888888888888888,
             "#fdca26"
            ],
            [
             1,
             "#f0f921"
            ]
           ]
          },
          "colorway": [
           "#636efa",
           "#EF553B",
           "#00cc96",
           "#ab63fa",
           "#FFA15A",
           "#19d3f3",
           "#FF6692",
           "#B6E880",
           "#FF97FF",
           "#FECB52"
          ],
          "font": {
           "color": "#2a3f5f"
          },
          "geo": {
           "bgcolor": "white",
           "lakecolor": "white",
           "landcolor": "#E5ECF6",
           "showlakes": true,
           "showland": true,
           "subunitcolor": "white"
          },
          "hoverlabel": {
           "align": "left"
          },
          "hovermode": "closest",
          "mapbox": {
           "style": "light"
          },
          "paper_bgcolor": "white",
          "plot_bgcolor": "#E5ECF6",
          "polar": {
           "angularaxis": {
            "gridcolor": "white",
            "linecolor": "white",
            "ticks": ""
           },
           "bgcolor": "#E5ECF6",
           "radialaxis": {
            "gridcolor": "white",
            "linecolor": "white",
            "ticks": ""
           }
          },
          "scene": {
           "xaxis": {
            "backgroundcolor": "#E5ECF6",
            "gridcolor": "white",
            "gridwidth": 2,
            "linecolor": "white",
            "showbackground": true,
            "ticks": "",
            "zerolinecolor": "white"
           },
           "yaxis": {
            "backgroundcolor": "#E5ECF6",
            "gridcolor": "white",
            "gridwidth": 2,
            "linecolor": "white",
            "showbackground": true,
            "ticks": "",
            "zerolinecolor": "white"
           },
           "zaxis": {
            "backgroundcolor": "#E5ECF6",
            "gridcolor": "white",
            "gridwidth": 2,
            "linecolor": "white",
            "showbackground": true,
            "ticks": "",
            "zerolinecolor": "white"
           }
          },
          "shapedefaults": {
           "line": {
            "color": "#2a3f5f"
           }
          },
          "ternary": {
           "aaxis": {
            "gridcolor": "white",
            "linecolor": "white",
            "ticks": ""
           },
           "baxis": {
            "gridcolor": "white",
            "linecolor": "white",
            "ticks": ""
           },
           "bgcolor": "#E5ECF6",
           "caxis": {
            "gridcolor": "white",
            "linecolor": "white",
            "ticks": ""
           }
          },
          "title": {
           "x": 0.05
          },
          "xaxis": {
           "automargin": true,
           "gridcolor": "white",
           "linecolor": "white",
           "ticks": "",
           "zerolinecolor": "white",
           "zerolinewidth": 2
          },
          "yaxis": {
           "automargin": true,
           "gridcolor": "white",
           "linecolor": "white",
           "ticks": "",
           "zerolinecolor": "white",
           "zerolinewidth": 2
          }
         }
        },
        "title": {
         "text": "avg. number of targets chosen vs. target load"
        },
        "xaxis": {
         "range": [
          2,
          9
         ],
         "title": {
          "text": "target load"
         }
        },
        "yaxis": {
         "title": {
          "text": "avg. number of targets chosen"
         }
        }
       }
      },
      "text/html": [
       "<div>\n",
       "        \n",
       "        \n",
       "            <div id=\"324ba759-ee13-4fc5-86a3-13980f63bd9d\" class=\"plotly-graph-div\" style=\"height:525px; width:100%;\"></div>\n",
       "            <script type=\"text/javascript\">\n",
       "                require([\"plotly\"], function(Plotly) {\n",
       "                    window.PLOTLYENV=window.PLOTLYENV || {};\n",
       "                    \n",
       "                if (document.getElementById(\"324ba759-ee13-4fc5-86a3-13980f63bd9d\")) {\n",
       "                    Plotly.newPlot(\n",
       "                        '324ba759-ee13-4fc5-86a3-13980f63bd9d',\n",
       "                        [{\"line\": {\"color\": \"beige\"}, \"mode\": \"lines\", \"showlegend\": false, \"type\": \"scatter\", \"x\": [3, 4, 5, 6, 7, 8], \"y\": [3.2756882920959036, 4.1099382692526625, 4.630247533492772, 4.966735022548438, 5.480512726798588, 5.669641107101944]}, {\"fill\": \"tonexty\", \"fillcolor\": \"lightgray\", \"line\": {\"color\": \"black\", \"width\": 2}, \"mode\": \"markers+lines\", \"name\": \"avg\", \"type\": \"scatter\", \"x\": [3, 4, 5, 6, 7, 8], \"y\": [2.7849999999999953, 3.299999999999999, 3.603999999999999, 3.862999999999999, 4.350999999999991, 4.571999999999991]}, {\"fill\": \"tonexty\", \"fillcolor\": \"lightgray\", \"line\": {\"color\": \"beige\"}, \"mode\": \"lines\", \"name\": \"std\", \"type\": \"scatter\", \"x\": [3, 4, 5, 6, 7, 8], \"y\": [2.294311707904087, 2.490061730747336, 2.5777524665072264, 2.759264977451561, 3.2214872732013946, 3.4743588928980387]}],\n",
       "                        {\"template\": {\"data\": {\"bar\": [{\"error_x\": {\"color\": \"#2a3f5f\"}, \"error_y\": {\"color\": \"#2a3f5f\"}, \"marker\": {\"line\": {\"color\": \"#E5ECF6\", \"width\": 0.5}}, \"type\": \"bar\"}], \"barpolar\": [{\"marker\": {\"line\": {\"color\": \"#E5ECF6\", \"width\": 0.5}}, \"type\": \"barpolar\"}], \"carpet\": [{\"aaxis\": {\"endlinecolor\": \"#2a3f5f\", \"gridcolor\": \"white\", \"linecolor\": \"white\", \"minorgridcolor\": \"white\", \"startlinecolor\": \"#2a3f5f\"}, \"baxis\": {\"endlinecolor\": \"#2a3f5f\", \"gridcolor\": \"white\", \"linecolor\": \"white\", \"minorgridcolor\": \"white\", \"startlinecolor\": \"#2a3f5f\"}, \"type\": \"carpet\"}], \"choropleth\": [{\"colorbar\": {\"outlinewidth\": 0, \"ticks\": \"\"}, \"type\": \"choropleth\"}], \"contour\": [{\"colorbar\": {\"outlinewidth\": 0, \"ticks\": \"\"}, \"colorscale\": [[0.0, \"#0d0887\"], [0.1111111111111111, \"#46039f\"], [0.2222222222222222, \"#7201a8\"], [0.3333333333333333, \"#9c179e\"], [0.4444444444444444, \"#bd3786\"], [0.5555555555555556, \"#d8576b\"], [0.6666666666666666, \"#ed7953\"], [0.7777777777777778, \"#fb9f3a\"], [0.8888888888888888, \"#fdca26\"], [1.0, \"#f0f921\"]], \"type\": \"contour\"}], \"contourcarpet\": [{\"colorbar\": {\"outlinewidth\": 0, \"ticks\": \"\"}, \"type\": \"contourcarpet\"}], \"heatmap\": [{\"colorbar\": {\"outlinewidth\": 0, \"ticks\": \"\"}, \"colorscale\": [[0.0, \"#0d0887\"], [0.1111111111111111, \"#46039f\"], [0.2222222222222222, \"#7201a8\"], [0.3333333333333333, \"#9c179e\"], [0.4444444444444444, \"#bd3786\"], [0.5555555555555556, \"#d8576b\"], [0.6666666666666666, \"#ed7953\"], [0.7777777777777778, \"#fb9f3a\"], [0.8888888888888888, \"#fdca26\"], [1.0, \"#f0f921\"]], \"type\": \"heatmap\"}], \"heatmapgl\": [{\"colorbar\": {\"outlinewidth\": 0, \"ticks\": \"\"}, \"colorscale\": [[0.0, \"#0d0887\"], [0.1111111111111111, \"#46039f\"], [0.2222222222222222, \"#7201a8\"], [0.3333333333333333, \"#9c179e\"], [0.4444444444444444, \"#bd3786\"], [0.5555555555555556, \"#d8576b\"], [0.6666666666666666, \"#ed7953\"], [0.7777777777777778, \"#fb9f3a\"], [0.8888888888888888, \"#fdca26\"], [1.0, \"#f0f921\"]], \"type\": \"heatmapgl\"}], \"histogram\": [{\"marker\": {\"colorbar\": {\"outlinewidth\": 0, \"ticks\": \"\"}}, \"type\": \"histogram\"}], \"histogram2d\": [{\"colorbar\": {\"outlinewidth\": 0, \"ticks\": \"\"}, \"colorscale\": [[0.0, \"#0d0887\"], [0.1111111111111111, \"#46039f\"], [0.2222222222222222, \"#7201a8\"], [0.3333333333333333, \"#9c179e\"], [0.4444444444444444, \"#bd3786\"], [0.5555555555555556, \"#d8576b\"], [0.6666666666666666, \"#ed7953\"], [0.7777777777777778, \"#fb9f3a\"], [0.8888888888888888, \"#fdca26\"], [1.0, \"#f0f921\"]], \"type\": \"histogram2d\"}], \"histogram2dcontour\": [{\"colorbar\": {\"outlinewidth\": 0, \"ticks\": \"\"}, \"colorscale\": [[0.0, \"#0d0887\"], [0.1111111111111111, \"#46039f\"], [0.2222222222222222, \"#7201a8\"], [0.3333333333333333, \"#9c179e\"], [0.4444444444444444, \"#bd3786\"], [0.5555555555555556, \"#d8576b\"], [0.6666666666666666, \"#ed7953\"], [0.7777777777777778, \"#fb9f3a\"], [0.8888888888888888, \"#fdca26\"], [1.0, \"#f0f921\"]], \"type\": \"histogram2dcontour\"}], \"mesh3d\": [{\"colorbar\": {\"outlinewidth\": 0, \"ticks\": \"\"}, \"type\": \"mesh3d\"}], \"parcoords\": [{\"line\": {\"colorbar\": {\"outlinewidth\": 0, \"ticks\": \"\"}}, \"type\": \"parcoords\"}], \"scatter\": [{\"marker\": {\"colorbar\": {\"outlinewidth\": 0, \"ticks\": \"\"}}, \"type\": \"scatter\"}], \"scatter3d\": [{\"line\": {\"colorbar\": {\"outlinewidth\": 0, \"ticks\": \"\"}}, \"marker\": {\"colorbar\": {\"outlinewidth\": 0, \"ticks\": \"\"}}, \"type\": \"scatter3d\"}], \"scattercarpet\": [{\"marker\": {\"colorbar\": {\"outlinewidth\": 0, \"ticks\": \"\"}}, \"type\": \"scattercarpet\"}], \"scattergeo\": [{\"marker\": {\"colorbar\": {\"outlinewidth\": 0, \"ticks\": \"\"}}, \"type\": \"scattergeo\"}], \"scattergl\": [{\"marker\": {\"colorbar\": {\"outlinewidth\": 0, \"ticks\": \"\"}}, \"type\": \"scattergl\"}], \"scattermapbox\": [{\"marker\": {\"colorbar\": {\"outlinewidth\": 0, \"ticks\": \"\"}}, \"type\": \"scattermapbox\"}], \"scatterpolar\": [{\"marker\": {\"colorbar\": {\"outlinewidth\": 0, \"ticks\": \"\"}}, \"type\": \"scatterpolar\"}], \"scatterpolargl\": [{\"marker\": {\"colorbar\": {\"outlinewidth\": 0, \"ticks\": \"\"}}, \"type\": \"scatterpolargl\"}], \"scatterternary\": [{\"marker\": {\"colorbar\": {\"outlinewidth\": 0, \"ticks\": \"\"}}, \"type\": \"scatterternary\"}], \"surface\": [{\"colorbar\": {\"outlinewidth\": 0, \"ticks\": \"\"}, \"colorscale\": [[0.0, \"#0d0887\"], [0.1111111111111111, \"#46039f\"], [0.2222222222222222, \"#7201a8\"], [0.3333333333333333, \"#9c179e\"], [0.4444444444444444, \"#bd3786\"], [0.5555555555555556, \"#d8576b\"], [0.6666666666666666, \"#ed7953\"], [0.7777777777777778, \"#fb9f3a\"], [0.8888888888888888, \"#fdca26\"], [1.0, \"#f0f921\"]], \"type\": \"surface\"}], \"table\": [{\"cells\": {\"fill\": {\"color\": \"#EBF0F8\"}, \"line\": {\"color\": \"white\"}}, \"header\": {\"fill\": {\"color\": \"#C8D4E3\"}, \"line\": {\"color\": \"white\"}}, \"type\": \"table\"}]}, \"layout\": {\"annotationdefaults\": {\"arrowcolor\": \"#2a3f5f\", \"arrowhead\": 0, \"arrowwidth\": 1}, \"colorscale\": {\"diverging\": [[0, \"#8e0152\"], [0.1, \"#c51b7d\"], [0.2, \"#de77ae\"], [0.3, \"#f1b6da\"], [0.4, \"#fde0ef\"], [0.5, \"#f7f7f7\"], [0.6, \"#e6f5d0\"], [0.7, \"#b8e186\"], [0.8, \"#7fbc41\"], [0.9, \"#4d9221\"], [1, \"#276419\"]], \"sequential\": [[0.0, \"#0d0887\"], [0.1111111111111111, \"#46039f\"], [0.2222222222222222, \"#7201a8\"], [0.3333333333333333, \"#9c179e\"], [0.4444444444444444, \"#bd3786\"], [0.5555555555555556, \"#d8576b\"], [0.6666666666666666, \"#ed7953\"], [0.7777777777777778, \"#fb9f3a\"], [0.8888888888888888, \"#fdca26\"], [1.0, \"#f0f921\"]], \"sequentialminus\": [[0.0, \"#0d0887\"], [0.1111111111111111, \"#46039f\"], [0.2222222222222222, \"#7201a8\"], [0.3333333333333333, \"#9c179e\"], [0.4444444444444444, \"#bd3786\"], [0.5555555555555556, \"#d8576b\"], [0.6666666666666666, \"#ed7953\"], [0.7777777777777778, \"#fb9f3a\"], [0.8888888888888888, \"#fdca26\"], [1.0, \"#f0f921\"]]}, \"colorway\": [\"#636efa\", \"#EF553B\", \"#00cc96\", \"#ab63fa\", \"#FFA15A\", \"#19d3f3\", \"#FF6692\", \"#B6E880\", \"#FF97FF\", \"#FECB52\"], \"font\": {\"color\": \"#2a3f5f\"}, \"geo\": {\"bgcolor\": \"white\", \"lakecolor\": \"white\", \"landcolor\": \"#E5ECF6\", \"showlakes\": true, \"showland\": true, \"subunitcolor\": \"white\"}, \"hoverlabel\": {\"align\": \"left\"}, \"hovermode\": \"closest\", \"mapbox\": {\"style\": \"light\"}, \"paper_bgcolor\": \"white\", \"plot_bgcolor\": \"#E5ECF6\", \"polar\": {\"angularaxis\": {\"gridcolor\": \"white\", \"linecolor\": \"white\", \"ticks\": \"\"}, \"bgcolor\": \"#E5ECF6\", \"radialaxis\": {\"gridcolor\": \"white\", \"linecolor\": \"white\", \"ticks\": \"\"}}, \"scene\": {\"xaxis\": {\"backgroundcolor\": \"#E5ECF6\", \"gridcolor\": \"white\", \"gridwidth\": 2, \"linecolor\": \"white\", \"showbackground\": true, \"ticks\": \"\", \"zerolinecolor\": \"white\"}, \"yaxis\": {\"backgroundcolor\": \"#E5ECF6\", \"gridcolor\": \"white\", \"gridwidth\": 2, \"linecolor\": \"white\", \"showbackground\": true, \"ticks\": \"\", \"zerolinecolor\": \"white\"}, \"zaxis\": {\"backgroundcolor\": \"#E5ECF6\", \"gridcolor\": \"white\", \"gridwidth\": 2, \"linecolor\": \"white\", \"showbackground\": true, \"ticks\": \"\", \"zerolinecolor\": \"white\"}}, \"shapedefaults\": {\"line\": {\"color\": \"#2a3f5f\"}}, \"ternary\": {\"aaxis\": {\"gridcolor\": \"white\", \"linecolor\": \"white\", \"ticks\": \"\"}, \"baxis\": {\"gridcolor\": \"white\", \"linecolor\": \"white\", \"ticks\": \"\"}, \"bgcolor\": \"#E5ECF6\", \"caxis\": {\"gridcolor\": \"white\", \"linecolor\": \"white\", \"ticks\": \"\"}}, \"title\": {\"x\": 0.05}, \"xaxis\": {\"automargin\": true, \"gridcolor\": \"white\", \"linecolor\": \"white\", \"ticks\": \"\", \"zerolinecolor\": \"white\", \"zerolinewidth\": 2}, \"yaxis\": {\"automargin\": true, \"gridcolor\": \"white\", \"linecolor\": \"white\", \"ticks\": \"\", \"zerolinecolor\": \"white\", \"zerolinewidth\": 2}}}, \"title\": {\"text\": \"avg. number of targets chosen vs. target load\"}, \"xaxis\": {\"range\": [2, 9], \"title\": {\"text\": \"target load\"}}, \"yaxis\": {\"title\": {\"text\": \"avg. number of targets chosen\"}}},\n",
       "                        {\"responsive\": true}\n",
       "                    ).then(function(){\n",
       "                            \n",
       "var gd = document.getElementById('324ba759-ee13-4fc5-86a3-13980f63bd9d');\n",
       "var x = new MutationObserver(function (mutations, observer) {{\n",
       "        var display = window.getComputedStyle(gd).display;\n",
       "        if (!display || display === 'none') {{\n",
       "            console.log([gd, 'removed!']);\n",
       "            Plotly.purge(gd);\n",
       "            observer.disconnect();\n",
       "        }}\n",
       "}});\n",
       "\n",
       "// Listen for the removal of the full notebook cells\n",
       "var notebookContainer = gd.closest('#notebook-container');\n",
       "if (notebookContainer) {{\n",
       "    x.observe(notebookContainer, {childList: true});\n",
       "}}\n",
       "\n",
       "// Listen for the clearing of the current output cell\n",
       "var outputEl = gd.closest('.output');\n",
       "if (outputEl) {{\n",
       "    x.observe(outputEl, {childList: true});\n",
       "}}\n",
       "\n",
       "                        })\n",
       "                };\n",
       "                });\n",
       "            </script>\n",
       "        </div>"
      ]
     },
     "metadata": {},
     "output_type": "display_data"
    }
   ],
   "source": [
    "sec3_trace_before = go.Scatter(x = target_data['num_targets'].to_numpy(),\n",
    "                   y = target_data['avg_num_targets_chosen'].to_numpy() + target_data['std_num_targets_chosen'].to_numpy(),\n",
    "                   mode = 'lines',\n",
    "                   line = dict(color = 'beige'), showlegend=False)\n",
    "sec3_trace = go.Scatter(x = target_data['num_targets'].to_numpy(),\n",
    "                  y = target_data['avg_num_targets_chosen'].to_numpy(),\n",
    "                  mode='markers+lines',\n",
    "                  line = dict(width = 2,\n",
    "                             color = 'black'),\n",
    "                  fill = 'tonexty',\n",
    "                  fillcolor = 'lightgray', name = 'avg')\n",
    "sec3_trace_after = go.Scatter(x = target_data['num_targets'].to_numpy(),\n",
    "                   y = target_data['avg_num_targets_chosen'].to_numpy() - target_data['std_num_targets_chosen'].to_numpy(),\n",
    "                   mode = 'lines',\n",
    "                   line = dict(color = 'beige'),\n",
    "                   fill = 'tonexty',\n",
    "                   fillcolor='lightgray',name='std')\n",
    "\n",
    "layout = go.Layout(title = 'avg. number of targets chosen vs. target load',\n",
    "                  xaxis = dict(title = 'target load', range = [2,9]),\n",
    "                  yaxis = dict(title = 'avg. number of targets chosen'))\n",
    "\n",
    "fig = go.Figure(data = [sec3_trace_before, sec3_trace, sec3_trace_after], layout = layout )\n",
    "iplot(fig, filename='MOT_avg_num_targets_chosen_vs_target_load')"
   ]
  },
  {
   "cell_type": "markdown",
   "metadata": {},
   "source": [
    "<a id = section 3.1></a>\n",
    "# [Subject wise analysis of the number of targets chosen:](#section 3.1)  Appendix to [Section 3](#section 3)"
   ]
  },
  {
   "cell_type": "markdown",
   "metadata": {},
   "source": [
    "## Plot the subject ranks vs avg. number of targets chosen for each target load\n",
    "\n",
    "* For each target load, Plot the overall individual ranks against the avg. number of targets chosen (y axis in the above figure)\n",
    "* Ideally we should expect a negative slope : Best performers (low rank) on an avg. should track more number of targets"
   ]
  },
  {
   "cell_type": "code",
   "execution_count": 29,
   "metadata": {
    "code_folding": [
     1
    ]
   },
   "outputs": [
    {
     "name": "stderr",
     "output_type": "stream",
     "text": [
      "/Users/supadhy6/miniconda3/envs/adiLab/lib/python3.6/site-packages/plotly/tools.py:465: DeprecationWarning:\n",
      "\n",
      "plotly.tools.make_subplots is deprecated, please use plotly.subplots.make_subplots instead\n",
      "\n"
     ]
    },
    {
     "data": {
      "application/vnd.plotly.v1+json": {
       "config": {
        "linkText": "Export to plot.ly",
        "plotlyServerURL": "https://plot.ly",
        "showLink": false
       },
       "data": [
        {
         "line": {
          "width": 2
         },
         "mode": "markers",
         "name": "Target load : 3",
         "type": "scatter",
         "x": [
          16,
          2,
          10,
          8,
          43,
          23,
          12,
          14,
          30,
          48,
          24,
          33,
          9,
          38,
          4,
          27,
          36,
          18,
          50,
          22,
          17,
          7,
          29,
          32,
          37,
          28,
          31,
          3,
          13,
          20,
          34,
          21,
          41,
          44,
          11,
          47,
          45,
          1,
          15,
          39,
          40,
          19,
          26,
          5,
          46,
          49,
          6,
          25,
          42,
          35
         ],
         "xaxis": "x",
         "y": [
          2.8500000000000005,
          3,
          2.95,
          2.95,
          2.65,
          2.9,
          2.6499999999999995,
          2.75,
          2.8000000000000003,
          2.6499999999999995,
          2.9499999999999997,
          2.5499999999999994,
          2.95,
          2.8,
          2.9499999999999997,
          2.9,
          2.8000000000000003,
          2.9000000000000004,
          2.2,
          2.85,
          2.85,
          2.95,
          2.9000000000000004,
          2.75,
          2.8,
          2.8500000000000005,
          2.9000000000000004,
          2.95,
          2.95,
          2.85,
          2.55,
          2.8499999999999996,
          2.5999999999999996,
          2.85,
          2.7499999999999996,
          2.5,
          2.6,
          2.95,
          2.95,
          2.7999999999999994,
          2.7000000000000006,
          2.85,
          2.9,
          2.85,
          2.4,
          2.149999999999999,
          2.9499999999999997,
          2.6,
          2.8999999999999995,
          2.8
         ],
         "yaxis": "y"
        },
        {
         "line": {
          "width": 2
         },
         "mode": "markers",
         "name": "Target load : 4",
         "type": "scatter",
         "x": [
          16,
          2,
          10,
          8,
          43,
          23,
          12,
          14,
          30,
          48,
          24,
          33,
          9,
          38,
          4,
          27,
          36,
          18,
          50,
          22,
          17,
          7,
          29,
          32,
          37,
          28,
          31,
          3,
          13,
          20,
          34,
          21,
          41,
          44,
          11,
          47,
          45,
          1,
          15,
          39,
          40,
          19,
          26,
          5,
          46,
          49,
          6,
          25,
          42,
          35
         ],
         "xaxis": "x2",
         "y": [
          3.3499999999999996,
          3.75,
          3.4499999999999993,
          3.6,
          3.1499999999999995,
          3.2499999999999996,
          3.55,
          3.6500000000000004,
          3.1499999999999995,
          2.55,
          3.4000000000000004,
          3.6500000000000004,
          3.6,
          2.999999999999999,
          3.5999999999999996,
          3.3,
          3.1499999999999995,
          3.3500000000000005,
          2.6,
          3.5499999999999994,
          3.3,
          3.6,
          3.2499999999999996,
          2.9999999999999996,
          3.3,
          3.4999999999999996,
          3.349999999999999,
          3.65,
          3.4,
          3.4499999999999997,
          3.1999999999999997,
          3.3499999999999996,
          3.35,
          2.9999999999999996,
          3.6999999999999993,
          2.6,
          2.9,
          3.8999999999999995,
          3.55,
          3.1,
          3.3,
          3.349999999999999,
          3.4000000000000004,
          3.349999999999999,
          2.65,
          2.7,
          3.65,
          3.35,
          3.1999999999999997,
          2.9499999999999997
         ],
         "yaxis": "y2"
        },
        {
         "line": {
          "width": 2
         },
         "mode": "markers",
         "name": "Target load : 5",
         "type": "scatter",
         "x": [
          16,
          2,
          10,
          8,
          43,
          23,
          12,
          14,
          30,
          48,
          24,
          33,
          9,
          38,
          4,
          27,
          36,
          18,
          50,
          22,
          17,
          7,
          29,
          32,
          37,
          28,
          31,
          3,
          13,
          20,
          34,
          21,
          41,
          44,
          11,
          47,
          45,
          1,
          15,
          39,
          40,
          19,
          26,
          5,
          46,
          49,
          6,
          25,
          42,
          35
         ],
         "xaxis": "x3",
         "y": [
          3.650000000000001,
          4,
          4.050000000000001,
          3.9999999999999996,
          2.9499999999999997,
          3.6499999999999995,
          4.05,
          3.9000000000000012,
          3.5,
          3.0499999999999994,
          3.6999999999999997,
          3.6500000000000004,
          3.9,
          3.6,
          3.9999999999999982,
          3.7,
          3.4000000000000004,
          3.8499999999999996,
          2.9999999999999996,
          3.6999999999999993,
          3.9,
          3.9999999999999996,
          3.3500000000000005,
          3.6499999999999995,
          3.250000000000001,
          3.6000000000000005,
          3.349999999999999,
          4.1,
          3.8000000000000003,
          3.5999999999999996,
          3.5,
          3.75,
          3.05,
          2.95,
          4,
          2.95,
          2.9999999999999996,
          4.000000000000001,
          3.75,
          3.4500000000000006,
          3.5000000000000004,
          3.9,
          3.499999999999999,
          3.9,
          3.1999999999999997,
          3.1,
          4.100000000000001,
          3.8500000000000005,
          3.3499999999999988,
          3.5000000000000004
         ],
         "yaxis": "y3"
        },
        {
         "line": {
          "width": 2
         },
         "mode": "markers",
         "name": "Target load : 6",
         "type": "scatter",
         "x": [
          16,
          2,
          10,
          8,
          43,
          23,
          12,
          14,
          30,
          48,
          24,
          33,
          9,
          38,
          4,
          27,
          36,
          18,
          50,
          22,
          17,
          7,
          29,
          32,
          37,
          28,
          31,
          3,
          13,
          20,
          34,
          21,
          41,
          44,
          11,
          47,
          45,
          1,
          15,
          39,
          40,
          19,
          26,
          5,
          46,
          49,
          6,
          25,
          42,
          35
         ],
         "xaxis": "x4",
         "y": [
          4.1,
          4.7,
          4.1,
          4.1000000000000005,
          3.65,
          4,
          4.25,
          4.1,
          3.85,
          3.3999999999999995,
          3.8000000000000003,
          2.85,
          4.250000000000001,
          3.8000000000000003,
          4.550000000000001,
          3.7,
          3.7499999999999996,
          3.8999999999999995,
          3.4499999999999993,
          3.8500000000000005,
          3.8499999999999996,
          4.3,
          3.7,
          3.8499999999999996,
          3.7499999999999996,
          3.65,
          3.7,
          4.55,
          4.050000000000001,
          3.9999999999999996,
          3.9,
          3.900000000000001,
          3.6,
          3.5,
          3.9,
          3.55,
          3.1999999999999997,
          4.449999999999998,
          4.1499999999999995,
          3.4499999999999997,
          3.3999999999999995,
          3.8,
          3.9,
          4.4,
          3.8000000000000003,
          3.3000000000000007,
          4.3500000000000005,
          3.75,
          3.2999999999999994,
          3.999999999999999
         ],
         "yaxis": "y4"
        },
        {
         "line": {
          "width": 2
         },
         "mode": "markers",
         "name": "Target load : 7",
         "type": "scatter",
         "x": [
          16,
          2,
          10,
          8,
          43,
          23,
          12,
          14,
          30,
          48,
          24,
          33,
          9,
          38,
          4,
          27,
          36,
          18,
          50,
          22,
          17,
          7,
          29,
          32,
          37,
          28,
          31,
          3,
          13,
          20,
          34,
          21,
          41,
          44,
          11,
          47,
          45,
          1,
          15,
          39,
          40,
          19,
          26,
          5,
          46,
          49,
          6,
          25,
          42,
          35
         ],
         "xaxis": "x5",
         "y": [
          4.8,
          4.750000000000002,
          4.749999999999999,
          4.450000000000001,
          3.75,
          4.5,
          4.55,
          4.85,
          4.150000000000001,
          3.85,
          4.150000000000001,
          4.5,
          4.3,
          4.050000000000001,
          4.8500000000000005,
          4.350000000000001,
          4.049999999999999,
          4.45,
          4.1,
          4.35,
          4.75,
          4.5,
          4.200000000000001,
          4.3500000000000005,
          3.9000000000000004,
          4.4,
          3.85,
          4.900000000000001,
          4.85,
          4.85,
          4.3,
          4.55,
          3.95,
          4.05,
          4.65,
          3.75,
          4.300000000000001,
          4.6000000000000005,
          4.35,
          4.05,
          3.949999999999999,
          4.45,
          4.150000000000001,
          5.1000000000000005,
          3.9999999999999996,
          4.25,
          4.549999999999999,
          4.550000000000001,
          4.000000000000001,
          3.9
         ],
         "yaxis": "y5"
        },
        {
         "line": {
          "width": 2
         },
         "mode": "markers",
         "name": "Target load : 8",
         "type": "scatter",
         "x": [
          16,
          2,
          10,
          8,
          43,
          23,
          12,
          14,
          30,
          48,
          24,
          33,
          9,
          38,
          4,
          27,
          36,
          18,
          50,
          22,
          17,
          7,
          29,
          32,
          37,
          28,
          31,
          3,
          13,
          20,
          34,
          21,
          41,
          44,
          11,
          47,
          45,
          1,
          15,
          39,
          40,
          19,
          26,
          5,
          46,
          49,
          6,
          25,
          42,
          35
         ],
         "xaxis": "x6",
         "y": [
          4.799999999999999,
          4.85,
          4.5,
          4.85,
          4.6000000000000005,
          4.75,
          4.9,
          4.3500000000000005,
          4.65,
          4,
          4.6,
          4.6000000000000005,
          4.85,
          3.9999999999999996,
          4.799999999999999,
          4.5,
          4.399999999999999,
          4.9,
          4.3,
          4.599999999999999,
          4.8500000000000005,
          4.95,
          4.95,
          4.5,
          4.300000000000001,
          4.35,
          4.75,
          4.95,
          4.7,
          4.35,
          4.500000000000001,
          4.650000000000001,
          4.3999999999999995,
          3.799999999999999,
          4.85,
          4.6000000000000005,
          4.3999999999999995,
          5.3,
          4.450000000000001,
          4.1499999999999995,
          3.95,
          4.800000000000001,
          4.6000000000000005,
          5.15,
          4.549999999999999,
          4.249999999999999,
          4.6499999999999995,
          4.75,
          3.6999999999999997,
          4.65
         ],
         "yaxis": "y6"
        }
       ],
       "layout": {
        "font": {
         "size": 15
        },
        "height": 700,
        "legend": {
         "traceorder": "normal"
        },
        "margin": {
         "b": 130,
         "l": 130,
         "r": 80,
         "t": 150
        },
        "template": {
         "data": {
          "bar": [
           {
            "error_x": {
             "color": "#2a3f5f"
            },
            "error_y": {
             "color": "#2a3f5f"
            },
            "marker": {
             "line": {
              "color": "#E5ECF6",
              "width": 0.5
             }
            },
            "type": "bar"
           }
          ],
          "barpolar": [
           {
            "marker": {
             "line": {
              "color": "#E5ECF6",
              "width": 0.5
             }
            },
            "type": "barpolar"
           }
          ],
          "carpet": [
           {
            "aaxis": {
             "endlinecolor": "#2a3f5f",
             "gridcolor": "white",
             "linecolor": "white",
             "minorgridcolor": "white",
             "startlinecolor": "#2a3f5f"
            },
            "baxis": {
             "endlinecolor": "#2a3f5f",
             "gridcolor": "white",
             "linecolor": "white",
             "minorgridcolor": "white",
             "startlinecolor": "#2a3f5f"
            },
            "type": "carpet"
           }
          ],
          "choropleth": [
           {
            "colorbar": {
             "outlinewidth": 0,
             "ticks": ""
            },
            "type": "choropleth"
           }
          ],
          "contour": [
           {
            "colorbar": {
             "outlinewidth": 0,
             "ticks": ""
            },
            "colorscale": [
             [
              0,
              "#0d0887"
             ],
             [
              0.1111111111111111,
              "#46039f"
             ],
             [
              0.2222222222222222,
              "#7201a8"
             ],
             [
              0.3333333333333333,
              "#9c179e"
             ],
             [
              0.4444444444444444,
              "#bd3786"
             ],
             [
              0.5555555555555556,
              "#d8576b"
             ],
             [
              0.6666666666666666,
              "#ed7953"
             ],
             [
              0.7777777777777778,
              "#fb9f3a"
             ],
             [
              0.8888888888888888,
              "#fdca26"
             ],
             [
              1,
              "#f0f921"
             ]
            ],
            "type": "contour"
           }
          ],
          "contourcarpet": [
           {
            "colorbar": {
             "outlinewidth": 0,
             "ticks": ""
            },
            "type": "contourcarpet"
           }
          ],
          "heatmap": [
           {
            "colorbar": {
             "outlinewidth": 0,
             "ticks": ""
            },
            "colorscale": [
             [
              0,
              "#0d0887"
             ],
             [
              0.1111111111111111,
              "#46039f"
             ],
             [
              0.2222222222222222,
              "#7201a8"
             ],
             [
              0.3333333333333333,
              "#9c179e"
             ],
             [
              0.4444444444444444,
              "#bd3786"
             ],
             [
              0.5555555555555556,
              "#d8576b"
             ],
             [
              0.6666666666666666,
              "#ed7953"
             ],
             [
              0.7777777777777778,
              "#fb9f3a"
             ],
             [
              0.8888888888888888,
              "#fdca26"
             ],
             [
              1,
              "#f0f921"
             ]
            ],
            "type": "heatmap"
           }
          ],
          "heatmapgl": [
           {
            "colorbar": {
             "outlinewidth": 0,
             "ticks": ""
            },
            "colorscale": [
             [
              0,
              "#0d0887"
             ],
             [
              0.1111111111111111,
              "#46039f"
             ],
             [
              0.2222222222222222,
              "#7201a8"
             ],
             [
              0.3333333333333333,
              "#9c179e"
             ],
             [
              0.4444444444444444,
              "#bd3786"
             ],
             [
              0.5555555555555556,
              "#d8576b"
             ],
             [
              0.6666666666666666,
              "#ed7953"
             ],
             [
              0.7777777777777778,
              "#fb9f3a"
             ],
             [
              0.8888888888888888,
              "#fdca26"
             ],
             [
              1,
              "#f0f921"
             ]
            ],
            "type": "heatmapgl"
           }
          ],
          "histogram": [
           {
            "marker": {
             "colorbar": {
              "outlinewidth": 0,
              "ticks": ""
             }
            },
            "type": "histogram"
           }
          ],
          "histogram2d": [
           {
            "colorbar": {
             "outlinewidth": 0,
             "ticks": ""
            },
            "colorscale": [
             [
              0,
              "#0d0887"
             ],
             [
              0.1111111111111111,
              "#46039f"
             ],
             [
              0.2222222222222222,
              "#7201a8"
             ],
             [
              0.3333333333333333,
              "#9c179e"
             ],
             [
              0.4444444444444444,
              "#bd3786"
             ],
             [
              0.5555555555555556,
              "#d8576b"
             ],
             [
              0.6666666666666666,
              "#ed7953"
             ],
             [
              0.7777777777777778,
              "#fb9f3a"
             ],
             [
              0.8888888888888888,
              "#fdca26"
             ],
             [
              1,
              "#f0f921"
             ]
            ],
            "type": "histogram2d"
           }
          ],
          "histogram2dcontour": [
           {
            "colorbar": {
             "outlinewidth": 0,
             "ticks": ""
            },
            "colorscale": [
             [
              0,
              "#0d0887"
             ],
             [
              0.1111111111111111,
              "#46039f"
             ],
             [
              0.2222222222222222,
              "#7201a8"
             ],
             [
              0.3333333333333333,
              "#9c179e"
             ],
             [
              0.4444444444444444,
              "#bd3786"
             ],
             [
              0.5555555555555556,
              "#d8576b"
             ],
             [
              0.6666666666666666,
              "#ed7953"
             ],
             [
              0.7777777777777778,
              "#fb9f3a"
             ],
             [
              0.8888888888888888,
              "#fdca26"
             ],
             [
              1,
              "#f0f921"
             ]
            ],
            "type": "histogram2dcontour"
           }
          ],
          "mesh3d": [
           {
            "colorbar": {
             "outlinewidth": 0,
             "ticks": ""
            },
            "type": "mesh3d"
           }
          ],
          "parcoords": [
           {
            "line": {
             "colorbar": {
              "outlinewidth": 0,
              "ticks": ""
             }
            },
            "type": "parcoords"
           }
          ],
          "scatter": [
           {
            "marker": {
             "colorbar": {
              "outlinewidth": 0,
              "ticks": ""
             }
            },
            "type": "scatter"
           }
          ],
          "scatter3d": [
           {
            "line": {
             "colorbar": {
              "outlinewidth": 0,
              "ticks": ""
             }
            },
            "marker": {
             "colorbar": {
              "outlinewidth": 0,
              "ticks": ""
             }
            },
            "type": "scatter3d"
           }
          ],
          "scattercarpet": [
           {
            "marker": {
             "colorbar": {
              "outlinewidth": 0,
              "ticks": ""
             }
            },
            "type": "scattercarpet"
           }
          ],
          "scattergeo": [
           {
            "marker": {
             "colorbar": {
              "outlinewidth": 0,
              "ticks": ""
             }
            },
            "type": "scattergeo"
           }
          ],
          "scattergl": [
           {
            "marker": {
             "colorbar": {
              "outlinewidth": 0,
              "ticks": ""
             }
            },
            "type": "scattergl"
           }
          ],
          "scattermapbox": [
           {
            "marker": {
             "colorbar": {
              "outlinewidth": 0,
              "ticks": ""
             }
            },
            "type": "scattermapbox"
           }
          ],
          "scatterpolar": [
           {
            "marker": {
             "colorbar": {
              "outlinewidth": 0,
              "ticks": ""
             }
            },
            "type": "scatterpolar"
           }
          ],
          "scatterpolargl": [
           {
            "marker": {
             "colorbar": {
              "outlinewidth": 0,
              "ticks": ""
             }
            },
            "type": "scatterpolargl"
           }
          ],
          "scatterternary": [
           {
            "marker": {
             "colorbar": {
              "outlinewidth": 0,
              "ticks": ""
             }
            },
            "type": "scatterternary"
           }
          ],
          "surface": [
           {
            "colorbar": {
             "outlinewidth": 0,
             "ticks": ""
            },
            "colorscale": [
             [
              0,
              "#0d0887"
             ],
             [
              0.1111111111111111,
              "#46039f"
             ],
             [
              0.2222222222222222,
              "#7201a8"
             ],
             [
              0.3333333333333333,
              "#9c179e"
             ],
             [
              0.4444444444444444,
              "#bd3786"
             ],
             [
              0.5555555555555556,
              "#d8576b"
             ],
             [
              0.6666666666666666,
              "#ed7953"
             ],
             [
              0.7777777777777778,
              "#fb9f3a"
             ],
             [
              0.8888888888888888,
              "#fdca26"
             ],
             [
              1,
              "#f0f921"
             ]
            ],
            "type": "surface"
           }
          ],
          "table": [
           {
            "cells": {
             "fill": {
              "color": "#EBF0F8"
             },
             "line": {
              "color": "white"
             }
            },
            "header": {
             "fill": {
              "color": "#C8D4E3"
             },
             "line": {
              "color": "white"
             }
            },
            "type": "table"
           }
          ]
         },
         "layout": {
          "annotationdefaults": {
           "arrowcolor": "#2a3f5f",
           "arrowhead": 0,
           "arrowwidth": 1
          },
          "colorscale": {
           "diverging": [
            [
             0,
             "#8e0152"
            ],
            [
             0.1,
             "#c51b7d"
            ],
            [
             0.2,
             "#de77ae"
            ],
            [
             0.3,
             "#f1b6da"
            ],
            [
             0.4,
             "#fde0ef"
            ],
            [
             0.5,
             "#f7f7f7"
            ],
            [
             0.6,
             "#e6f5d0"
            ],
            [
             0.7,
             "#b8e186"
            ],
            [
             0.8,
             "#7fbc41"
            ],
            [
             0.9,
             "#4d9221"
            ],
            [
             1,
             "#276419"
            ]
           ],
           "sequential": [
            [
             0,
             "#0d0887"
            ],
            [
             0.1111111111111111,
             "#46039f"
            ],
            [
             0.2222222222222222,
             "#7201a8"
            ],
            [
             0.3333333333333333,
             "#9c179e"
            ],
            [
             0.4444444444444444,
             "#bd3786"
            ],
            [
             0.5555555555555556,
             "#d8576b"
            ],
            [
             0.6666666666666666,
             "#ed7953"
            ],
            [
             0.7777777777777778,
             "#fb9f3a"
            ],
            [
             0.8888888888888888,
             "#fdca26"
            ],
            [
             1,
             "#f0f921"
            ]
           ],
           "sequentialminus": [
            [
             0,
             "#0d0887"
            ],
            [
             0.1111111111111111,
             "#46039f"
            ],
            [
             0.2222222222222222,
             "#7201a8"
            ],
            [
             0.3333333333333333,
             "#9c179e"
            ],
            [
             0.4444444444444444,
             "#bd3786"
            ],
            [
             0.5555555555555556,
             "#d8576b"
            ],
            [
             0.6666666666666666,
             "#ed7953"
            ],
            [
             0.7777777777777778,
             "#fb9f3a"
            ],
            [
             0.8888888888888888,
             "#fdca26"
            ],
            [
             1,
             "#f0f921"
            ]
           ]
          },
          "colorway": [
           "#636efa",
           "#EF553B",
           "#00cc96",
           "#ab63fa",
           "#FFA15A",
           "#19d3f3",
           "#FF6692",
           "#B6E880",
           "#FF97FF",
           "#FECB52"
          ],
          "font": {
           "color": "#2a3f5f"
          },
          "geo": {
           "bgcolor": "white",
           "lakecolor": "white",
           "landcolor": "#E5ECF6",
           "showlakes": true,
           "showland": true,
           "subunitcolor": "white"
          },
          "hoverlabel": {
           "align": "left"
          },
          "hovermode": "closest",
          "mapbox": {
           "style": "light"
          },
          "paper_bgcolor": "white",
          "plot_bgcolor": "#E5ECF6",
          "polar": {
           "angularaxis": {
            "gridcolor": "white",
            "linecolor": "white",
            "ticks": ""
           },
           "bgcolor": "#E5ECF6",
           "radialaxis": {
            "gridcolor": "white",
            "linecolor": "white",
            "ticks": ""
           }
          },
          "scene": {
           "xaxis": {
            "backgroundcolor": "#E5ECF6",
            "gridcolor": "white",
            "gridwidth": 2,
            "linecolor": "white",
            "showbackground": true,
            "ticks": "",
            "zerolinecolor": "white"
           },
           "yaxis": {
            "backgroundcolor": "#E5ECF6",
            "gridcolor": "white",
            "gridwidth": 2,
            "linecolor": "white",
            "showbackground": true,
            "ticks": "",
            "zerolinecolor": "white"
           },
           "zaxis": {
            "backgroundcolor": "#E5ECF6",
            "gridcolor": "white",
            "gridwidth": 2,
            "linecolor": "white",
            "showbackground": true,
            "ticks": "",
            "zerolinecolor": "white"
           }
          },
          "shapedefaults": {
           "line": {
            "color": "#2a3f5f"
           }
          },
          "ternary": {
           "aaxis": {
            "gridcolor": "white",
            "linecolor": "white",
            "ticks": ""
           },
           "baxis": {
            "gridcolor": "white",
            "linecolor": "white",
            "ticks": ""
           },
           "bgcolor": "#E5ECF6",
           "caxis": {
            "gridcolor": "white",
            "linecolor": "white",
            "ticks": ""
           }
          },
          "title": {
           "x": 0.05
          },
          "xaxis": {
           "automargin": true,
           "gridcolor": "white",
           "linecolor": "white",
           "ticks": "",
           "zerolinecolor": "white",
           "zerolinewidth": 2
          },
          "yaxis": {
           "automargin": true,
           "gridcolor": "white",
           "linecolor": "white",
           "ticks": "",
           "zerolinecolor": "white",
           "zerolinewidth": 2
          }
         }
        },
        "width": 1000,
        "xaxis": {
         "anchor": "y",
         "domain": [
          0,
          0.2888888888888889
         ]
        },
        "xaxis2": {
         "anchor": "y2",
         "domain": [
          0.35555555555555557,
          0.6444444444444445
         ]
        },
        "xaxis3": {
         "anchor": "y3",
         "domain": [
          0.7111111111111111,
          1
         ]
        },
        "xaxis4": {
         "anchor": "y4",
         "domain": [
          0,
          0.2888888888888889
         ]
        },
        "xaxis5": {
         "anchor": "y5",
         "domain": [
          0.35555555555555557,
          0.6444444444444445
         ],
         "title": {
          "text": "overall ranked individual performance in the experiment"
         }
        },
        "xaxis6": {
         "anchor": "y6",
         "domain": [
          0.7111111111111111,
          1
         ]
        },
        "yaxis": {
         "anchor": "x",
         "domain": [
          0.575,
          1
         ]
        },
        "yaxis2": {
         "anchor": "x2",
         "domain": [
          0.575,
          1
         ]
        },
        "yaxis3": {
         "anchor": "x3",
         "domain": [
          0.575,
          1
         ]
        },
        "yaxis4": {
         "anchor": "x4",
         "domain": [
          0,
          0.425
         ],
         "title": {
          "text": "avg num. targets chosen"
         }
        },
        "yaxis5": {
         "anchor": "x5",
         "domain": [
          0,
          0.425
         ]
        },
        "yaxis6": {
         "anchor": "x6",
         "domain": [
          0,
          0.425
         ]
        }
       }
      },
      "text/html": [
       "<div>\n",
       "        \n",
       "        \n",
       "            <div id=\"b415bc06-9f4d-43fa-baac-3d970a6a2fc6\" class=\"plotly-graph-div\" style=\"height:700px; width:1000px;\"></div>\n",
       "            <script type=\"text/javascript\">\n",
       "                require([\"plotly\"], function(Plotly) {\n",
       "                    window.PLOTLYENV=window.PLOTLYENV || {};\n",
       "                    \n",
       "                if (document.getElementById(\"b415bc06-9f4d-43fa-baac-3d970a6a2fc6\")) {\n",
       "                    Plotly.newPlot(\n",
       "                        'b415bc06-9f4d-43fa-baac-3d970a6a2fc6',\n",
       "                        [{\"line\": {\"width\": 2}, \"mode\": \"markers\", \"name\": \"Target load : 3\", \"type\": \"scatter\", \"x\": [16, 2, 10, 8, 43, 23, 12, 14, 30, 48, 24, 33, 9, 38, 4, 27, 36, 18, 50, 22, 17, 7, 29, 32, 37, 28, 31, 3, 13, 20, 34, 21, 41, 44, 11, 47, 45, 1, 15, 39, 40, 19, 26, 5, 46, 49, 6, 25, 42, 35], \"xaxis\": \"x\", \"y\": [2.8500000000000005, 3.0, 2.95, 2.95, 2.65, 2.9, 2.6499999999999995, 2.75, 2.8000000000000003, 2.6499999999999995, 2.9499999999999997, 2.5499999999999994, 2.95, 2.8, 2.9499999999999997, 2.9, 2.8000000000000003, 2.9000000000000004, 2.2, 2.85, 2.85, 2.95, 2.9000000000000004, 2.75, 2.8, 2.8500000000000005, 2.9000000000000004, 2.95, 2.95, 2.85, 2.55, 2.8499999999999996, 2.5999999999999996, 2.85, 2.7499999999999996, 2.5, 2.6, 2.95, 2.95, 2.7999999999999994, 2.7000000000000006, 2.85, 2.9, 2.85, 2.4, 2.149999999999999, 2.9499999999999997, 2.6, 2.8999999999999995, 2.8], \"yaxis\": \"y\"}, {\"line\": {\"width\": 2}, \"mode\": \"markers\", \"name\": \"Target load : 4\", \"type\": \"scatter\", \"x\": [16, 2, 10, 8, 43, 23, 12, 14, 30, 48, 24, 33, 9, 38, 4, 27, 36, 18, 50, 22, 17, 7, 29, 32, 37, 28, 31, 3, 13, 20, 34, 21, 41, 44, 11, 47, 45, 1, 15, 39, 40, 19, 26, 5, 46, 49, 6, 25, 42, 35], \"xaxis\": \"x2\", \"y\": [3.3499999999999996, 3.75, 3.4499999999999993, 3.6, 3.1499999999999995, 3.2499999999999996, 3.55, 3.6500000000000004, 3.1499999999999995, 2.55, 3.4000000000000004, 3.6500000000000004, 3.6, 2.999999999999999, 3.5999999999999996, 3.3, 3.1499999999999995, 3.3500000000000005, 2.6, 3.5499999999999994, 3.3, 3.6, 3.2499999999999996, 2.9999999999999996, 3.3, 3.4999999999999996, 3.349999999999999, 3.65, 3.4, 3.4499999999999997, 3.1999999999999997, 3.3499999999999996, 3.35, 2.9999999999999996, 3.6999999999999993, 2.6, 2.9, 3.8999999999999995, 3.55, 3.1, 3.3, 3.349999999999999, 3.4000000000000004, 3.349999999999999, 2.65, 2.7, 3.65, 3.35, 3.1999999999999997, 2.9499999999999997], \"yaxis\": \"y2\"}, {\"line\": {\"width\": 2}, \"mode\": \"markers\", \"name\": \"Target load : 5\", \"type\": \"scatter\", \"x\": [16, 2, 10, 8, 43, 23, 12, 14, 30, 48, 24, 33, 9, 38, 4, 27, 36, 18, 50, 22, 17, 7, 29, 32, 37, 28, 31, 3, 13, 20, 34, 21, 41, 44, 11, 47, 45, 1, 15, 39, 40, 19, 26, 5, 46, 49, 6, 25, 42, 35], \"xaxis\": \"x3\", \"y\": [3.650000000000001, 4.0, 4.050000000000001, 3.9999999999999996, 2.9499999999999997, 3.6499999999999995, 4.05, 3.9000000000000012, 3.5, 3.0499999999999994, 3.6999999999999997, 3.6500000000000004, 3.9, 3.6, 3.9999999999999982, 3.7, 3.4000000000000004, 3.8499999999999996, 2.9999999999999996, 3.6999999999999993, 3.9, 3.9999999999999996, 3.3500000000000005, 3.6499999999999995, 3.250000000000001, 3.6000000000000005, 3.349999999999999, 4.1, 3.8000000000000003, 3.5999999999999996, 3.5, 3.75, 3.05, 2.95, 4.0, 2.95, 2.9999999999999996, 4.000000000000001, 3.75, 3.4500000000000006, 3.5000000000000004, 3.9, 3.499999999999999, 3.9, 3.1999999999999997, 3.1, 4.100000000000001, 3.8500000000000005, 3.3499999999999988, 3.5000000000000004], \"yaxis\": \"y3\"}, {\"line\": {\"width\": 2}, \"mode\": \"markers\", \"name\": \"Target load : 6\", \"type\": \"scatter\", \"x\": [16, 2, 10, 8, 43, 23, 12, 14, 30, 48, 24, 33, 9, 38, 4, 27, 36, 18, 50, 22, 17, 7, 29, 32, 37, 28, 31, 3, 13, 20, 34, 21, 41, 44, 11, 47, 45, 1, 15, 39, 40, 19, 26, 5, 46, 49, 6, 25, 42, 35], \"xaxis\": \"x4\", \"y\": [4.1, 4.7, 4.1, 4.1000000000000005, 3.65, 4.0, 4.25, 4.1, 3.85, 3.3999999999999995, 3.8000000000000003, 2.85, 4.250000000000001, 3.8000000000000003, 4.550000000000001, 3.7, 3.7499999999999996, 3.8999999999999995, 3.4499999999999993, 3.8500000000000005, 3.8499999999999996, 4.3, 3.7, 3.8499999999999996, 3.7499999999999996, 3.65, 3.7, 4.55, 4.050000000000001, 3.9999999999999996, 3.9, 3.900000000000001, 3.6, 3.5, 3.9, 3.55, 3.1999999999999997, 4.449999999999998, 4.1499999999999995, 3.4499999999999997, 3.3999999999999995, 3.8, 3.9, 4.4, 3.8000000000000003, 3.3000000000000007, 4.3500000000000005, 3.75, 3.2999999999999994, 3.999999999999999], \"yaxis\": \"y4\"}, {\"line\": {\"width\": 2}, \"mode\": \"markers\", \"name\": \"Target load : 7\", \"type\": \"scatter\", \"x\": [16, 2, 10, 8, 43, 23, 12, 14, 30, 48, 24, 33, 9, 38, 4, 27, 36, 18, 50, 22, 17, 7, 29, 32, 37, 28, 31, 3, 13, 20, 34, 21, 41, 44, 11, 47, 45, 1, 15, 39, 40, 19, 26, 5, 46, 49, 6, 25, 42, 35], \"xaxis\": \"x5\", \"y\": [4.8, 4.750000000000002, 4.749999999999999, 4.450000000000001, 3.75, 4.5, 4.55, 4.85, 4.150000000000001, 3.85, 4.150000000000001, 4.5, 4.3, 4.050000000000001, 4.8500000000000005, 4.350000000000001, 4.049999999999999, 4.45, 4.1, 4.35, 4.75, 4.5, 4.200000000000001, 4.3500000000000005, 3.9000000000000004, 4.4, 3.85, 4.900000000000001, 4.85, 4.85, 4.3, 4.55, 3.95, 4.05, 4.65, 3.75, 4.300000000000001, 4.6000000000000005, 4.35, 4.05, 3.949999999999999, 4.45, 4.150000000000001, 5.1000000000000005, 3.9999999999999996, 4.25, 4.549999999999999, 4.550000000000001, 4.000000000000001, 3.9], \"yaxis\": \"y5\"}, {\"line\": {\"width\": 2}, \"mode\": \"markers\", \"name\": \"Target load : 8\", \"type\": \"scatter\", \"x\": [16, 2, 10, 8, 43, 23, 12, 14, 30, 48, 24, 33, 9, 38, 4, 27, 36, 18, 50, 22, 17, 7, 29, 32, 37, 28, 31, 3, 13, 20, 34, 21, 41, 44, 11, 47, 45, 1, 15, 39, 40, 19, 26, 5, 46, 49, 6, 25, 42, 35], \"xaxis\": \"x6\", \"y\": [4.799999999999999, 4.85, 4.5, 4.85, 4.6000000000000005, 4.75, 4.9, 4.3500000000000005, 4.65, 4.0, 4.6, 4.6000000000000005, 4.85, 3.9999999999999996, 4.799999999999999, 4.5, 4.399999999999999, 4.9, 4.3, 4.599999999999999, 4.8500000000000005, 4.95, 4.95, 4.5, 4.300000000000001, 4.35, 4.75, 4.95, 4.7, 4.35, 4.500000000000001, 4.650000000000001, 4.3999999999999995, 3.799999999999999, 4.85, 4.6000000000000005, 4.3999999999999995, 5.3, 4.450000000000001, 4.1499999999999995, 3.95, 4.800000000000001, 4.6000000000000005, 5.15, 4.549999999999999, 4.249999999999999, 4.6499999999999995, 4.75, 3.6999999999999997, 4.65], \"yaxis\": \"y6\"}],\n",
       "                        {\"font\": {\"size\": 15}, \"height\": 700, \"legend\": {\"traceorder\": \"normal\"}, \"margin\": {\"b\": 130, \"l\": 130, \"r\": 80, \"t\": 150}, \"template\": {\"data\": {\"bar\": [{\"error_x\": {\"color\": \"#2a3f5f\"}, \"error_y\": {\"color\": \"#2a3f5f\"}, \"marker\": {\"line\": {\"color\": \"#E5ECF6\", \"width\": 0.5}}, \"type\": \"bar\"}], \"barpolar\": [{\"marker\": {\"line\": {\"color\": \"#E5ECF6\", \"width\": 0.5}}, \"type\": \"barpolar\"}], \"carpet\": [{\"aaxis\": {\"endlinecolor\": \"#2a3f5f\", \"gridcolor\": \"white\", \"linecolor\": \"white\", \"minorgridcolor\": \"white\", \"startlinecolor\": \"#2a3f5f\"}, \"baxis\": {\"endlinecolor\": \"#2a3f5f\", \"gridcolor\": \"white\", \"linecolor\": \"white\", \"minorgridcolor\": \"white\", \"startlinecolor\": \"#2a3f5f\"}, \"type\": \"carpet\"}], \"choropleth\": [{\"colorbar\": {\"outlinewidth\": 0, \"ticks\": \"\"}, \"type\": \"choropleth\"}], \"contour\": [{\"colorbar\": {\"outlinewidth\": 0, \"ticks\": \"\"}, \"colorscale\": [[0.0, \"#0d0887\"], [0.1111111111111111, \"#46039f\"], [0.2222222222222222, \"#7201a8\"], [0.3333333333333333, \"#9c179e\"], [0.4444444444444444, \"#bd3786\"], [0.5555555555555556, \"#d8576b\"], [0.6666666666666666, \"#ed7953\"], [0.7777777777777778, \"#fb9f3a\"], [0.8888888888888888, \"#fdca26\"], [1.0, \"#f0f921\"]], \"type\": \"contour\"}], \"contourcarpet\": [{\"colorbar\": {\"outlinewidth\": 0, \"ticks\": \"\"}, \"type\": \"contourcarpet\"}], \"heatmap\": [{\"colorbar\": {\"outlinewidth\": 0, \"ticks\": \"\"}, \"colorscale\": [[0.0, \"#0d0887\"], [0.1111111111111111, \"#46039f\"], [0.2222222222222222, \"#7201a8\"], [0.3333333333333333, \"#9c179e\"], [0.4444444444444444, \"#bd3786\"], [0.5555555555555556, \"#d8576b\"], [0.6666666666666666, \"#ed7953\"], [0.7777777777777778, \"#fb9f3a\"], [0.8888888888888888, \"#fdca26\"], [1.0, \"#f0f921\"]], \"type\": \"heatmap\"}], \"heatmapgl\": [{\"colorbar\": {\"outlinewidth\": 0, \"ticks\": \"\"}, \"colorscale\": [[0.0, \"#0d0887\"], [0.1111111111111111, \"#46039f\"], [0.2222222222222222, \"#7201a8\"], [0.3333333333333333, \"#9c179e\"], [0.4444444444444444, \"#bd3786\"], [0.5555555555555556, \"#d8576b\"], [0.6666666666666666, \"#ed7953\"], [0.7777777777777778, \"#fb9f3a\"], [0.8888888888888888, \"#fdca26\"], [1.0, \"#f0f921\"]], \"type\": \"heatmapgl\"}], \"histogram\": [{\"marker\": {\"colorbar\": {\"outlinewidth\": 0, \"ticks\": \"\"}}, \"type\": \"histogram\"}], \"histogram2d\": [{\"colorbar\": {\"outlinewidth\": 0, \"ticks\": \"\"}, \"colorscale\": [[0.0, \"#0d0887\"], [0.1111111111111111, \"#46039f\"], [0.2222222222222222, \"#7201a8\"], [0.3333333333333333, \"#9c179e\"], [0.4444444444444444, \"#bd3786\"], [0.5555555555555556, \"#d8576b\"], [0.6666666666666666, \"#ed7953\"], [0.7777777777777778, \"#fb9f3a\"], [0.8888888888888888, \"#fdca26\"], [1.0, \"#f0f921\"]], \"type\": \"histogram2d\"}], \"histogram2dcontour\": [{\"colorbar\": {\"outlinewidth\": 0, \"ticks\": \"\"}, \"colorscale\": [[0.0, \"#0d0887\"], [0.1111111111111111, \"#46039f\"], [0.2222222222222222, \"#7201a8\"], [0.3333333333333333, \"#9c179e\"], [0.4444444444444444, \"#bd3786\"], [0.5555555555555556, \"#d8576b\"], [0.6666666666666666, \"#ed7953\"], [0.7777777777777778, \"#fb9f3a\"], [0.8888888888888888, \"#fdca26\"], [1.0, \"#f0f921\"]], \"type\": \"histogram2dcontour\"}], \"mesh3d\": [{\"colorbar\": {\"outlinewidth\": 0, \"ticks\": \"\"}, \"type\": \"mesh3d\"}], \"parcoords\": [{\"line\": {\"colorbar\": {\"outlinewidth\": 0, \"ticks\": \"\"}}, \"type\": \"parcoords\"}], \"scatter\": [{\"marker\": {\"colorbar\": {\"outlinewidth\": 0, \"ticks\": \"\"}}, \"type\": \"scatter\"}], \"scatter3d\": [{\"line\": {\"colorbar\": {\"outlinewidth\": 0, \"ticks\": \"\"}}, \"marker\": {\"colorbar\": {\"outlinewidth\": 0, \"ticks\": \"\"}}, \"type\": \"scatter3d\"}], \"scattercarpet\": [{\"marker\": {\"colorbar\": {\"outlinewidth\": 0, \"ticks\": \"\"}}, \"type\": \"scattercarpet\"}], \"scattergeo\": [{\"marker\": {\"colorbar\": {\"outlinewidth\": 0, \"ticks\": \"\"}}, \"type\": \"scattergeo\"}], \"scattergl\": [{\"marker\": {\"colorbar\": {\"outlinewidth\": 0, \"ticks\": \"\"}}, \"type\": \"scattergl\"}], \"scattermapbox\": [{\"marker\": {\"colorbar\": {\"outlinewidth\": 0, \"ticks\": \"\"}}, \"type\": \"scattermapbox\"}], \"scatterpolar\": [{\"marker\": {\"colorbar\": {\"outlinewidth\": 0, \"ticks\": \"\"}}, \"type\": \"scatterpolar\"}], \"scatterpolargl\": [{\"marker\": {\"colorbar\": {\"outlinewidth\": 0, \"ticks\": \"\"}}, \"type\": \"scatterpolargl\"}], \"scatterternary\": [{\"marker\": {\"colorbar\": {\"outlinewidth\": 0, \"ticks\": \"\"}}, \"type\": \"scatterternary\"}], \"surface\": [{\"colorbar\": {\"outlinewidth\": 0, \"ticks\": \"\"}, \"colorscale\": [[0.0, \"#0d0887\"], [0.1111111111111111, \"#46039f\"], [0.2222222222222222, \"#7201a8\"], [0.3333333333333333, \"#9c179e\"], [0.4444444444444444, \"#bd3786\"], [0.5555555555555556, \"#d8576b\"], [0.6666666666666666, \"#ed7953\"], [0.7777777777777778, \"#fb9f3a\"], [0.8888888888888888, \"#fdca26\"], [1.0, \"#f0f921\"]], \"type\": \"surface\"}], \"table\": [{\"cells\": {\"fill\": {\"color\": \"#EBF0F8\"}, \"line\": {\"color\": \"white\"}}, \"header\": {\"fill\": {\"color\": \"#C8D4E3\"}, \"line\": {\"color\": \"white\"}}, \"type\": \"table\"}]}, \"layout\": {\"annotationdefaults\": {\"arrowcolor\": \"#2a3f5f\", \"arrowhead\": 0, \"arrowwidth\": 1}, \"colorscale\": {\"diverging\": [[0, \"#8e0152\"], [0.1, \"#c51b7d\"], [0.2, \"#de77ae\"], [0.3, \"#f1b6da\"], [0.4, \"#fde0ef\"], [0.5, \"#f7f7f7\"], [0.6, \"#e6f5d0\"], [0.7, \"#b8e186\"], [0.8, \"#7fbc41\"], [0.9, \"#4d9221\"], [1, \"#276419\"]], \"sequential\": [[0.0, \"#0d0887\"], [0.1111111111111111, \"#46039f\"], [0.2222222222222222, \"#7201a8\"], [0.3333333333333333, \"#9c179e\"], [0.4444444444444444, \"#bd3786\"], [0.5555555555555556, \"#d8576b\"], [0.6666666666666666, \"#ed7953\"], [0.7777777777777778, \"#fb9f3a\"], [0.8888888888888888, \"#fdca26\"], [1.0, \"#f0f921\"]], \"sequentialminus\": [[0.0, \"#0d0887\"], [0.1111111111111111, \"#46039f\"], [0.2222222222222222, \"#7201a8\"], [0.3333333333333333, \"#9c179e\"], [0.4444444444444444, \"#bd3786\"], [0.5555555555555556, \"#d8576b\"], [0.6666666666666666, \"#ed7953\"], [0.7777777777777778, \"#fb9f3a\"], [0.8888888888888888, \"#fdca26\"], [1.0, \"#f0f921\"]]}, \"colorway\": [\"#636efa\", \"#EF553B\", \"#00cc96\", \"#ab63fa\", \"#FFA15A\", \"#19d3f3\", \"#FF6692\", \"#B6E880\", \"#FF97FF\", \"#FECB52\"], \"font\": {\"color\": \"#2a3f5f\"}, \"geo\": {\"bgcolor\": \"white\", \"lakecolor\": \"white\", \"landcolor\": \"#E5ECF6\", \"showlakes\": true, \"showland\": true, \"subunitcolor\": \"white\"}, \"hoverlabel\": {\"align\": \"left\"}, \"hovermode\": \"closest\", \"mapbox\": {\"style\": \"light\"}, \"paper_bgcolor\": \"white\", \"plot_bgcolor\": \"#E5ECF6\", \"polar\": {\"angularaxis\": {\"gridcolor\": \"white\", \"linecolor\": \"white\", \"ticks\": \"\"}, \"bgcolor\": \"#E5ECF6\", \"radialaxis\": {\"gridcolor\": \"white\", \"linecolor\": \"white\", \"ticks\": \"\"}}, \"scene\": {\"xaxis\": {\"backgroundcolor\": \"#E5ECF6\", \"gridcolor\": \"white\", \"gridwidth\": 2, \"linecolor\": \"white\", \"showbackground\": true, \"ticks\": \"\", \"zerolinecolor\": \"white\"}, \"yaxis\": {\"backgroundcolor\": \"#E5ECF6\", \"gridcolor\": \"white\", \"gridwidth\": 2, \"linecolor\": \"white\", \"showbackground\": true, \"ticks\": \"\", \"zerolinecolor\": \"white\"}, \"zaxis\": {\"backgroundcolor\": \"#E5ECF6\", \"gridcolor\": \"white\", \"gridwidth\": 2, \"linecolor\": \"white\", \"showbackground\": true, \"ticks\": \"\", \"zerolinecolor\": \"white\"}}, \"shapedefaults\": {\"line\": {\"color\": \"#2a3f5f\"}}, \"ternary\": {\"aaxis\": {\"gridcolor\": \"white\", \"linecolor\": \"white\", \"ticks\": \"\"}, \"baxis\": {\"gridcolor\": \"white\", \"linecolor\": \"white\", \"ticks\": \"\"}, \"bgcolor\": \"#E5ECF6\", \"caxis\": {\"gridcolor\": \"white\", \"linecolor\": \"white\", \"ticks\": \"\"}}, \"title\": {\"x\": 0.05}, \"xaxis\": {\"automargin\": true, \"gridcolor\": \"white\", \"linecolor\": \"white\", \"ticks\": \"\", \"zerolinecolor\": \"white\", \"zerolinewidth\": 2}, \"yaxis\": {\"automargin\": true, \"gridcolor\": \"white\", \"linecolor\": \"white\", \"ticks\": \"\", \"zerolinecolor\": \"white\", \"zerolinewidth\": 2}}}, \"width\": 1000, \"xaxis\": {\"anchor\": \"y\", \"domain\": [0.0, 0.2888888888888889]}, \"xaxis2\": {\"anchor\": \"y2\", \"domain\": [0.35555555555555557, 0.6444444444444445]}, \"xaxis3\": {\"anchor\": \"y3\", \"domain\": [0.7111111111111111, 1.0]}, \"xaxis4\": {\"anchor\": \"y4\", \"domain\": [0.0, 0.2888888888888889]}, \"xaxis5\": {\"anchor\": \"y5\", \"domain\": [0.35555555555555557, 0.6444444444444445], \"title\": {\"text\": \"overall ranked individual performance in the experiment\"}}, \"xaxis6\": {\"anchor\": \"y6\", \"domain\": [0.7111111111111111, 1.0]}, \"yaxis\": {\"anchor\": \"x\", \"domain\": [0.575, 1.0]}, \"yaxis2\": {\"anchor\": \"x2\", \"domain\": [0.575, 1.0]}, \"yaxis3\": {\"anchor\": \"x3\", \"domain\": [0.575, 1.0]}, \"yaxis4\": {\"anchor\": \"x4\", \"domain\": [0.0, 0.425], \"title\": {\"text\": \"avg num. targets chosen\"}}, \"yaxis5\": {\"anchor\": \"x5\", \"domain\": [0.0, 0.425]}, \"yaxis6\": {\"anchor\": \"x6\", \"domain\": [0.0, 0.425]}},\n",
       "                        {\"responsive\": true}\n",
       "                    ).then(function(){\n",
       "                            \n",
       "var gd = document.getElementById('b415bc06-9f4d-43fa-baac-3d970a6a2fc6');\n",
       "var x = new MutationObserver(function (mutations, observer) {{\n",
       "        var display = window.getComputedStyle(gd).display;\n",
       "        if (!display || display === 'none') {{\n",
       "            console.log([gd, 'removed!']);\n",
       "            Plotly.purge(gd);\n",
       "            observer.disconnect();\n",
       "        }}\n",
       "}});\n",
       "\n",
       "// Listen for the removal of the full notebook cells\n",
       "var notebookContainer = gd.closest('#notebook-container');\n",
       "if (notebookContainer) {{\n",
       "    x.observe(notebookContainer, {childList: true});\n",
       "}}\n",
       "\n",
       "// Listen for the clearing of the current output cell\n",
       "var outputEl = gd.closest('.output');\n",
       "if (outputEl) {{\n",
       "    x.observe(outputEl, {childList: true});\n",
       "}}\n",
       "\n",
       "                        })\n",
       "                };\n",
       "                });\n",
       "            </script>\n",
       "        </div>"
      ]
     },
     "metadata": {},
     "output_type": "display_data"
    }
   ],
   "source": [
    "sec2_trace = []\n",
    "for target in subject_data['num_targets'].unique().sort():\n",
    "    rank_data = subject_data[subject_data['num_targets']==target]\n",
    "    rank_data = rank_data.sort('subject_Num')\n",
    "    rank_data['rank'] = individual_ranking['rank']\n",
    "    sec2_trace.append(go.Scatter(x = rank_data['rank'].to_numpy(),\n",
    "                           y = rank_data['avg_num_targets_chosen'].to_numpy(),\n",
    "                           mode='markers',\n",
    "                           line=dict(width = 2),\n",
    "                           name = 'Target load : '+ str(target)))\n",
    "\n",
    "fig = tools.make_subplots(rows=2, cols=3)\n",
    "fig.add_trace(sec2_trace[0],1,1)\n",
    "fig.add_trace(sec2_trace[1],1,2)\n",
    "fig.add_trace(sec2_trace[2],1,3)\n",
    "fig.add_trace(sec2_trace[3],2,1)\n",
    "fig.add_trace(sec2_trace[4],2,2)\n",
    "fig.add_trace(sec2_trace[5],2,3)\n",
    "\n",
    "\n",
    "\n",
    "fig['layout'].update(height=700, width=1000, margin = dict(l=130, b=130, r=80, t=150), font = dict(size=15))\n",
    "fig['layout']['legend'].update(traceorder='normal')\n",
    "\n",
    "fig['layout']['yaxis4'].update(title='avg num. targets chosen')\n",
    "fig['layout']['xaxis5'].update(title='overall ranked individual performance in the experiment')\n",
    "\n",
    "\n",
    "iplot(fig, filename='subejct ranks vs. num targets chosen')    "
   ]
  },
  {
   "cell_type": "markdown",
   "metadata": {
    "collapsed": true
   },
   "source": [
    "<a id = section 3.2></a>\n",
    "# [Proportion of number of targets selected for each target load:](#section 3.2)  "
   ]
  },
  {
   "cell_type": "code",
   "execution_count": 30,
   "metadata": {},
   "outputs": [],
   "source": [
    "def compute_sum(x):\n",
    "    sum_counts = numT_select_by_target_load[numT_select_by_target_load['num_targets']==x['num_targets']]['count'].sum()\n",
    "    return x['count']/sum_counts"
   ]
  },
  {
   "cell_type": "code",
   "execution_count": 31,
   "metadata": {},
   "outputs": [
    {
     "data": {
      "text/html": [
       "<pre>Materializing SFrame</pre>"
      ],
      "text/plain": [
       "Materializing SFrame"
      ]
     },
     "metadata": {},
     "output_type": "display_data"
    }
   ],
   "source": [
    "numT_select_by_target_load = behavior_data.groupby(['num_targets','num_targets_chosen'],operations = {'count':agg.COUNT('num_targets_chosen')})\n",
    "numT_select_by_target_load['avg_propT'] = numT_select_by_target_load.apply(lambda x: compute_sum(x))\n",
    "numT_select_by_target_load = numT_select_by_target_load.sort(['num_targets','num_targets_chosen'])\n",
    "numT_select_by_target_load.explore()"
   ]
  },
  {
   "cell_type": "code",
   "execution_count": 56,
   "metadata": {},
   "outputs": [
    {
     "data": {
      "application/vnd.plotly.v1+json": {
       "config": {
        "plotlyServerURL": "https://plot.ly"
       },
       "data": [
        {
         "line": {
          "color": "rgb(102,194,165)",
          "shape": "spline",
          "width": 3
         },
         "marker": {
          "color": "rgb(102,194,165)",
          "line": {
           "color": "gray",
           "width": 2
          },
          "opacity": 0.5,
          "size": 16
         },
         "mode": "markers+text+lines",
         "name": "Target load:3",
         "text": "3",
         "type": "scatter",
         "x": [
          0,
          1,
          2,
          3
         ],
         "y": [
          0.006,
          0.018,
          0.161,
          0.815
         ]
        },
        {
         "line": {
          "color": "rgb(252,141,98)",
          "shape": "spline",
          "width": 3
         },
         "marker": {
          "color": "rgb(252,141,98)",
          "line": {
           "color": "gray",
           "width": 2
          },
          "opacity": 0.5,
          "size": 16
         },
         "mode": "markers+text+lines",
         "name": "Target load:4",
         "text": "4",
         "type": "scatter",
         "x": [
          0,
          1,
          2,
          3,
          4
         ],
         "y": [
          0.001,
          0.021,
          0.154,
          0.325,
          0.499
         ]
        },
        {
         "line": {
          "color": "rgb(141,160,203)",
          "shape": "spline",
          "width": 3
         },
         "marker": {
          "color": "rgb(141,160,203)",
          "line": {
           "color": "gray",
           "width": 2
          },
          "opacity": 0.5,
          "size": 16
         },
         "mode": "markers+text+lines",
         "name": "Target load:5",
         "text": "5",
         "type": "scatter",
         "x": [
          0,
          1,
          2,
          3,
          4,
          5
         ],
         "y": [
          0.001,
          0.012,
          0.126,
          0.343,
          0.279,
          0.239
         ]
        },
        {
         "line": {
          "color": "rgb(231,138,195)",
          "shape": "spline",
          "width": 3
         },
         "marker": {
          "color": "rgb(231,138,195)",
          "line": {
           "color": "gray",
           "width": 2
          },
          "opacity": 0.5,
          "size": 16
         },
         "mode": "markers+text+lines",
         "name": "Target load:6",
         "text": "6",
         "type": "scatter",
         "x": [
          1,
          2,
          3,
          4,
          5,
          6
         ],
         "y": [
          0.006,
          0.094,
          0.29,
          0.33,
          0.201,
          0.079
         ]
        },
        {
         "line": {
          "color": "rgb(166,216,84)",
          "shape": "spline",
          "width": 3
         },
         "marker": {
          "color": "rgb(166,216,84)",
          "line": {
           "color": "gray",
           "width": 2
          },
          "opacity": 0.5,
          "size": 16
         },
         "mode": "markers+text+lines",
         "name": "Target load:7",
         "text": "7",
         "type": "scatter",
         "x": [
          1,
          2,
          3,
          4,
          5,
          6,
          7
         ],
         "y": [
          0.003,
          0.038,
          0.177,
          0.352,
          0.279,
          0.119,
          0.032
         ]
        },
        {
         "line": {
          "color": "rgb(255,217,47)",
          "shape": "spline",
          "width": 3
         },
         "marker": {
          "color": "rgb(255,217,47)",
          "line": {
           "color": "gray",
           "width": 2
          },
          "opacity": 0.5,
          "size": 16
         },
         "mode": "markers+text+lines",
         "name": "Target load:8",
         "text": "8",
         "type": "scatter",
         "x": [
          1,
          2,
          3,
          4,
          5,
          6,
          7,
          8
         ],
         "y": [
          0.002,
          0.03,
          0.12,
          0.313,
          0.345,
          0.159,
          0.029,
          0.002
         ]
        }
       ],
       "layout": {
        "font": {
         "size": 14
        },
        "height": 500,
        "paper_bgcolor": "rgba(0,0,0,0)",
        "plot_bgcolor": "rgba(0,0,0,0)",
        "template": {
         "data": {
          "bar": [
           {
            "error_x": {
             "color": "#2a3f5f"
            },
            "error_y": {
             "color": "#2a3f5f"
            },
            "marker": {
             "line": {
              "color": "#E5ECF6",
              "width": 0.5
             }
            },
            "type": "bar"
           }
          ],
          "barpolar": [
           {
            "marker": {
             "line": {
              "color": "#E5ECF6",
              "width": 0.5
             }
            },
            "type": "barpolar"
           }
          ],
          "carpet": [
           {
            "aaxis": {
             "endlinecolor": "#2a3f5f",
             "gridcolor": "white",
             "linecolor": "white",
             "minorgridcolor": "white",
             "startlinecolor": "#2a3f5f"
            },
            "baxis": {
             "endlinecolor": "#2a3f5f",
             "gridcolor": "white",
             "linecolor": "white",
             "minorgridcolor": "white",
             "startlinecolor": "#2a3f5f"
            },
            "type": "carpet"
           }
          ],
          "choropleth": [
           {
            "colorbar": {
             "outlinewidth": 0,
             "ticks": ""
            },
            "type": "choropleth"
           }
          ],
          "contour": [
           {
            "colorbar": {
             "outlinewidth": 0,
             "ticks": ""
            },
            "colorscale": [
             [
              0,
              "#0d0887"
             ],
             [
              0.1111111111111111,
              "#46039f"
             ],
             [
              0.2222222222222222,
              "#7201a8"
             ],
             [
              0.3333333333333333,
              "#9c179e"
             ],
             [
              0.4444444444444444,
              "#bd3786"
             ],
             [
              0.5555555555555556,
              "#d8576b"
             ],
             [
              0.6666666666666666,
              "#ed7953"
             ],
             [
              0.7777777777777778,
              "#fb9f3a"
             ],
             [
              0.8888888888888888,
              "#fdca26"
             ],
             [
              1,
              "#f0f921"
             ]
            ],
            "type": "contour"
           }
          ],
          "contourcarpet": [
           {
            "colorbar": {
             "outlinewidth": 0,
             "ticks": ""
            },
            "type": "contourcarpet"
           }
          ],
          "heatmap": [
           {
            "colorbar": {
             "outlinewidth": 0,
             "ticks": ""
            },
            "colorscale": [
             [
              0,
              "#0d0887"
             ],
             [
              0.1111111111111111,
              "#46039f"
             ],
             [
              0.2222222222222222,
              "#7201a8"
             ],
             [
              0.3333333333333333,
              "#9c179e"
             ],
             [
              0.4444444444444444,
              "#bd3786"
             ],
             [
              0.5555555555555556,
              "#d8576b"
             ],
             [
              0.6666666666666666,
              "#ed7953"
             ],
             [
              0.7777777777777778,
              "#fb9f3a"
             ],
             [
              0.8888888888888888,
              "#fdca26"
             ],
             [
              1,
              "#f0f921"
             ]
            ],
            "type": "heatmap"
           }
          ],
          "heatmapgl": [
           {
            "colorbar": {
             "outlinewidth": 0,
             "ticks": ""
            },
            "colorscale": [
             [
              0,
              "#0d0887"
             ],
             [
              0.1111111111111111,
              "#46039f"
             ],
             [
              0.2222222222222222,
              "#7201a8"
             ],
             [
              0.3333333333333333,
              "#9c179e"
             ],
             [
              0.4444444444444444,
              "#bd3786"
             ],
             [
              0.5555555555555556,
              "#d8576b"
             ],
             [
              0.6666666666666666,
              "#ed7953"
             ],
             [
              0.7777777777777778,
              "#fb9f3a"
             ],
             [
              0.8888888888888888,
              "#fdca26"
             ],
             [
              1,
              "#f0f921"
             ]
            ],
            "type": "heatmapgl"
           }
          ],
          "histogram": [
           {
            "marker": {
             "colorbar": {
              "outlinewidth": 0,
              "ticks": ""
             }
            },
            "type": "histogram"
           }
          ],
          "histogram2d": [
           {
            "colorbar": {
             "outlinewidth": 0,
             "ticks": ""
            },
            "colorscale": [
             [
              0,
              "#0d0887"
             ],
             [
              0.1111111111111111,
              "#46039f"
             ],
             [
              0.2222222222222222,
              "#7201a8"
             ],
             [
              0.3333333333333333,
              "#9c179e"
             ],
             [
              0.4444444444444444,
              "#bd3786"
             ],
             [
              0.5555555555555556,
              "#d8576b"
             ],
             [
              0.6666666666666666,
              "#ed7953"
             ],
             [
              0.7777777777777778,
              "#fb9f3a"
             ],
             [
              0.8888888888888888,
              "#fdca26"
             ],
             [
              1,
              "#f0f921"
             ]
            ],
            "type": "histogram2d"
           }
          ],
          "histogram2dcontour": [
           {
            "colorbar": {
             "outlinewidth": 0,
             "ticks": ""
            },
            "colorscale": [
             [
              0,
              "#0d0887"
             ],
             [
              0.1111111111111111,
              "#46039f"
             ],
             [
              0.2222222222222222,
              "#7201a8"
             ],
             [
              0.3333333333333333,
              "#9c179e"
             ],
             [
              0.4444444444444444,
              "#bd3786"
             ],
             [
              0.5555555555555556,
              "#d8576b"
             ],
             [
              0.6666666666666666,
              "#ed7953"
             ],
             [
              0.7777777777777778,
              "#fb9f3a"
             ],
             [
              0.8888888888888888,
              "#fdca26"
             ],
             [
              1,
              "#f0f921"
             ]
            ],
            "type": "histogram2dcontour"
           }
          ],
          "mesh3d": [
           {
            "colorbar": {
             "outlinewidth": 0,
             "ticks": ""
            },
            "type": "mesh3d"
           }
          ],
          "parcoords": [
           {
            "line": {
             "colorbar": {
              "outlinewidth": 0,
              "ticks": ""
             }
            },
            "type": "parcoords"
           }
          ],
          "scatter": [
           {
            "marker": {
             "colorbar": {
              "outlinewidth": 0,
              "ticks": ""
             }
            },
            "type": "scatter"
           }
          ],
          "scatter3d": [
           {
            "line": {
             "colorbar": {
              "outlinewidth": 0,
              "ticks": ""
             }
            },
            "marker": {
             "colorbar": {
              "outlinewidth": 0,
              "ticks": ""
             }
            },
            "type": "scatter3d"
           }
          ],
          "scattercarpet": [
           {
            "marker": {
             "colorbar": {
              "outlinewidth": 0,
              "ticks": ""
             }
            },
            "type": "scattercarpet"
           }
          ],
          "scattergeo": [
           {
            "marker": {
             "colorbar": {
              "outlinewidth": 0,
              "ticks": ""
             }
            },
            "type": "scattergeo"
           }
          ],
          "scattergl": [
           {
            "marker": {
             "colorbar": {
              "outlinewidth": 0,
              "ticks": ""
             }
            },
            "type": "scattergl"
           }
          ],
          "scattermapbox": [
           {
            "marker": {
             "colorbar": {
              "outlinewidth": 0,
              "ticks": ""
             }
            },
            "type": "scattermapbox"
           }
          ],
          "scatterpolar": [
           {
            "marker": {
             "colorbar": {
              "outlinewidth": 0,
              "ticks": ""
             }
            },
            "type": "scatterpolar"
           }
          ],
          "scatterpolargl": [
           {
            "marker": {
             "colorbar": {
              "outlinewidth": 0,
              "ticks": ""
             }
            },
            "type": "scatterpolargl"
           }
          ],
          "scatterternary": [
           {
            "marker": {
             "colorbar": {
              "outlinewidth": 0,
              "ticks": ""
             }
            },
            "type": "scatterternary"
           }
          ],
          "surface": [
           {
            "colorbar": {
             "outlinewidth": 0,
             "ticks": ""
            },
            "colorscale": [
             [
              0,
              "#0d0887"
             ],
             [
              0.1111111111111111,
              "#46039f"
             ],
             [
              0.2222222222222222,
              "#7201a8"
             ],
             [
              0.3333333333333333,
              "#9c179e"
             ],
             [
              0.4444444444444444,
              "#bd3786"
             ],
             [
              0.5555555555555556,
              "#d8576b"
             ],
             [
              0.6666666666666666,
              "#ed7953"
             ],
             [
              0.7777777777777778,
              "#fb9f3a"
             ],
             [
              0.8888888888888888,
              "#fdca26"
             ],
             [
              1,
              "#f0f921"
             ]
            ],
            "type": "surface"
           }
          ],
          "table": [
           {
            "cells": {
             "fill": {
              "color": "#EBF0F8"
             },
             "line": {
              "color": "white"
             }
            },
            "header": {
             "fill": {
              "color": "#C8D4E3"
             },
             "line": {
              "color": "white"
             }
            },
            "type": "table"
           }
          ]
         },
         "layout": {
          "annotationdefaults": {
           "arrowcolor": "#2a3f5f",
           "arrowhead": 0,
           "arrowwidth": 1
          },
          "colorscale": {
           "diverging": [
            [
             0,
             "#8e0152"
            ],
            [
             0.1,
             "#c51b7d"
            ],
            [
             0.2,
             "#de77ae"
            ],
            [
             0.3,
             "#f1b6da"
            ],
            [
             0.4,
             "#fde0ef"
            ],
            [
             0.5,
             "#f7f7f7"
            ],
            [
             0.6,
             "#e6f5d0"
            ],
            [
             0.7,
             "#b8e186"
            ],
            [
             0.8,
             "#7fbc41"
            ],
            [
             0.9,
             "#4d9221"
            ],
            [
             1,
             "#276419"
            ]
           ],
           "sequential": [
            [
             0,
             "#0d0887"
            ],
            [
             0.1111111111111111,
             "#46039f"
            ],
            [
             0.2222222222222222,
             "#7201a8"
            ],
            [
             0.3333333333333333,
             "#9c179e"
            ],
            [
             0.4444444444444444,
             "#bd3786"
            ],
            [
             0.5555555555555556,
             "#d8576b"
            ],
            [
             0.6666666666666666,
             "#ed7953"
            ],
            [
             0.7777777777777778,
             "#fb9f3a"
            ],
            [
             0.8888888888888888,
             "#fdca26"
            ],
            [
             1,
             "#f0f921"
            ]
           ],
           "sequentialminus": [
            [
             0,
             "#0d0887"
            ],
            [
             0.1111111111111111,
             "#46039f"
            ],
            [
             0.2222222222222222,
             "#7201a8"
            ],
            [
             0.3333333333333333,
             "#9c179e"
            ],
            [
             0.4444444444444444,
             "#bd3786"
            ],
            [
             0.5555555555555556,
             "#d8576b"
            ],
            [
             0.6666666666666666,
             "#ed7953"
            ],
            [
             0.7777777777777778,
             "#fb9f3a"
            ],
            [
             0.8888888888888888,
             "#fdca26"
            ],
            [
             1,
             "#f0f921"
            ]
           ]
          },
          "colorway": [
           "#636efa",
           "#EF553B",
           "#00cc96",
           "#ab63fa",
           "#FFA15A",
           "#19d3f3",
           "#FF6692",
           "#B6E880",
           "#FF97FF",
           "#FECB52"
          ],
          "font": {
           "color": "#2a3f5f"
          },
          "geo": {
           "bgcolor": "white",
           "lakecolor": "white",
           "landcolor": "#E5ECF6",
           "showlakes": true,
           "showland": true,
           "subunitcolor": "white"
          },
          "hoverlabel": {
           "align": "left"
          },
          "hovermode": "closest",
          "mapbox": {
           "style": "light"
          },
          "paper_bgcolor": "white",
          "plot_bgcolor": "#E5ECF6",
          "polar": {
           "angularaxis": {
            "gridcolor": "white",
            "linecolor": "white",
            "ticks": ""
           },
           "bgcolor": "#E5ECF6",
           "radialaxis": {
            "gridcolor": "white",
            "linecolor": "white",
            "ticks": ""
           }
          },
          "scene": {
           "xaxis": {
            "backgroundcolor": "#E5ECF6",
            "gridcolor": "white",
            "gridwidth": 2,
            "linecolor": "white",
            "showbackground": true,
            "ticks": "",
            "zerolinecolor": "white"
           },
           "yaxis": {
            "backgroundcolor": "#E5ECF6",
            "gridcolor": "white",
            "gridwidth": 2,
            "linecolor": "white",
            "showbackground": true,
            "ticks": "",
            "zerolinecolor": "white"
           },
           "zaxis": {
            "backgroundcolor": "#E5ECF6",
            "gridcolor": "white",
            "gridwidth": 2,
            "linecolor": "white",
            "showbackground": true,
            "ticks": "",
            "zerolinecolor": "white"
           }
          },
          "shapedefaults": {
           "line": {
            "color": "#2a3f5f"
           }
          },
          "ternary": {
           "aaxis": {
            "gridcolor": "white",
            "linecolor": "white",
            "ticks": ""
           },
           "baxis": {
            "gridcolor": "white",
            "linecolor": "white",
            "ticks": ""
           },
           "bgcolor": "#E5ECF6",
           "caxis": {
            "gridcolor": "white",
            "linecolor": "white",
            "ticks": ""
           }
          },
          "title": {
           "x": 0.05
          },
          "xaxis": {
           "automargin": true,
           "gridcolor": "white",
           "linecolor": "white",
           "ticks": "",
           "zerolinecolor": "white",
           "zerolinewidth": 2
          },
          "yaxis": {
           "automargin": true,
           "gridcolor": "white",
           "linecolor": "white",
           "ticks": "",
           "zerolinecolor": "white",
           "zerolinewidth": 2
          }
         }
        },
        "title": {
         "text": ""
        },
        "width": 600,
        "xaxis": {
         "gridcolor": "#DFDFDF",
         "gridwidth": 1.5,
         "linecolor": "#AFAFAF",
         "linewidth": 2,
         "nticks": 6,
         "showgrid": true,
         "showline": true,
         "title": {
          "text": "num targets chosen"
         },
         "zeroline": false,
         "zerolinecolor": "#AFAFAF",
         "zerolinewidth": 2.5
        },
        "yaxis": {
         "gridcolor": "#DFDFDF",
         "gridwidth": 1.5,
         "linecolor": "#AFAFAF",
         "linewidth": 2,
         "nticks": 6,
         "showgrid": true,
         "showline": true,
         "title": {
          "text": "average proprtion of targets chosen"
         },
         "zeroline": false,
         "zerolinecolor": "#AFAFAF",
         "zerolinewidth": 2.5
        }
       }
      },
      "text/html": [
       "<div>\n",
       "        \n",
       "        \n",
       "            <div id=\"55145966-a5b2-4433-bf32-7d667f20f814\" class=\"plotly-graph-div\" style=\"height:500px; width:600px;\"></div>\n",
       "            <script type=\"text/javascript\">\n",
       "                require([\"plotly\"], function(Plotly) {\n",
       "                    window.PLOTLYENV=window.PLOTLYENV || {};\n",
       "                    \n",
       "                if (document.getElementById(\"55145966-a5b2-4433-bf32-7d667f20f814\")) {\n",
       "                    Plotly.newPlot(\n",
       "                        '55145966-a5b2-4433-bf32-7d667f20f814',\n",
       "                        [{\"line\": {\"color\": \"rgb(102,194,165)\", \"shape\": \"spline\", \"width\": 3}, \"marker\": {\"color\": \"rgb(102,194,165)\", \"line\": {\"color\": \"gray\", \"width\": 2}, \"opacity\": 0.5, \"size\": 16}, \"mode\": \"markers+text+lines\", \"name\": \"Target load:3\", \"text\": \"3\", \"type\": \"scatter\", \"x\": [0, 1, 2, 3], \"y\": [0.006, 0.018, 0.161, 0.815]}, {\"line\": {\"color\": \"rgb(252,141,98)\", \"shape\": \"spline\", \"width\": 3}, \"marker\": {\"color\": \"rgb(252,141,98)\", \"line\": {\"color\": \"gray\", \"width\": 2}, \"opacity\": 0.5, \"size\": 16}, \"mode\": \"markers+text+lines\", \"name\": \"Target load:4\", \"text\": \"4\", \"type\": \"scatter\", \"x\": [0, 1, 2, 3, 4], \"y\": [0.001, 0.021, 0.154, 0.325, 0.499]}, {\"line\": {\"color\": \"rgb(141,160,203)\", \"shape\": \"spline\", \"width\": 3}, \"marker\": {\"color\": \"rgb(141,160,203)\", \"line\": {\"color\": \"gray\", \"width\": 2}, \"opacity\": 0.5, \"size\": 16}, \"mode\": \"markers+text+lines\", \"name\": \"Target load:5\", \"text\": \"5\", \"type\": \"scatter\", \"x\": [0, 1, 2, 3, 4, 5], \"y\": [0.001, 0.012, 0.126, 0.343, 0.279, 0.239]}, {\"line\": {\"color\": \"rgb(231,138,195)\", \"shape\": \"spline\", \"width\": 3}, \"marker\": {\"color\": \"rgb(231,138,195)\", \"line\": {\"color\": \"gray\", \"width\": 2}, \"opacity\": 0.5, \"size\": 16}, \"mode\": \"markers+text+lines\", \"name\": \"Target load:6\", \"text\": \"6\", \"type\": \"scatter\", \"x\": [1, 2, 3, 4, 5, 6], \"y\": [0.006, 0.094, 0.29, 0.33, 0.201, 0.079]}, {\"line\": {\"color\": \"rgb(166,216,84)\", \"shape\": \"spline\", \"width\": 3}, \"marker\": {\"color\": \"rgb(166,216,84)\", \"line\": {\"color\": \"gray\", \"width\": 2}, \"opacity\": 0.5, \"size\": 16}, \"mode\": \"markers+text+lines\", \"name\": \"Target load:7\", \"text\": \"7\", \"type\": \"scatter\", \"x\": [1, 2, 3, 4, 5, 6, 7], \"y\": [0.003, 0.038, 0.177, 0.352, 0.279, 0.119, 0.032]}, {\"line\": {\"color\": \"rgb(255,217,47)\", \"shape\": \"spline\", \"width\": 3}, \"marker\": {\"color\": \"rgb(255,217,47)\", \"line\": {\"color\": \"gray\", \"width\": 2}, \"opacity\": 0.5, \"size\": 16}, \"mode\": \"markers+text+lines\", \"name\": \"Target load:8\", \"text\": \"8\", \"type\": \"scatter\", \"x\": [1, 2, 3, 4, 5, 6, 7, 8], \"y\": [0.002, 0.03, 0.12, 0.313, 0.345, 0.159, 0.029, 0.002]}],\n",
       "                        {\"font\": {\"size\": 14}, \"height\": 500, \"paper_bgcolor\": \"rgba(0,0,0,0)\", \"plot_bgcolor\": \"rgba(0,0,0,0)\", \"template\": {\"data\": {\"bar\": [{\"error_x\": {\"color\": \"#2a3f5f\"}, \"error_y\": {\"color\": \"#2a3f5f\"}, \"marker\": {\"line\": {\"color\": \"#E5ECF6\", \"width\": 0.5}}, \"type\": \"bar\"}], \"barpolar\": [{\"marker\": {\"line\": {\"color\": \"#E5ECF6\", \"width\": 0.5}}, \"type\": \"barpolar\"}], \"carpet\": [{\"aaxis\": {\"endlinecolor\": \"#2a3f5f\", \"gridcolor\": \"white\", \"linecolor\": \"white\", \"minorgridcolor\": \"white\", \"startlinecolor\": \"#2a3f5f\"}, \"baxis\": {\"endlinecolor\": \"#2a3f5f\", \"gridcolor\": \"white\", \"linecolor\": \"white\", \"minorgridcolor\": \"white\", \"startlinecolor\": \"#2a3f5f\"}, \"type\": \"carpet\"}], \"choropleth\": [{\"colorbar\": {\"outlinewidth\": 0, \"ticks\": \"\"}, \"type\": \"choropleth\"}], \"contour\": [{\"colorbar\": {\"outlinewidth\": 0, \"ticks\": \"\"}, \"colorscale\": [[0.0, \"#0d0887\"], [0.1111111111111111, \"#46039f\"], [0.2222222222222222, \"#7201a8\"], [0.3333333333333333, \"#9c179e\"], [0.4444444444444444, \"#bd3786\"], [0.5555555555555556, \"#d8576b\"], [0.6666666666666666, \"#ed7953\"], [0.7777777777777778, \"#fb9f3a\"], [0.8888888888888888, \"#fdca26\"], [1.0, \"#f0f921\"]], \"type\": \"contour\"}], \"contourcarpet\": [{\"colorbar\": {\"outlinewidth\": 0, \"ticks\": \"\"}, \"type\": \"contourcarpet\"}], \"heatmap\": [{\"colorbar\": {\"outlinewidth\": 0, \"ticks\": \"\"}, \"colorscale\": [[0.0, \"#0d0887\"], [0.1111111111111111, \"#46039f\"], [0.2222222222222222, \"#7201a8\"], [0.3333333333333333, \"#9c179e\"], [0.4444444444444444, \"#bd3786\"], [0.5555555555555556, \"#d8576b\"], [0.6666666666666666, \"#ed7953\"], [0.7777777777777778, \"#fb9f3a\"], [0.8888888888888888, \"#fdca26\"], [1.0, \"#f0f921\"]], \"type\": \"heatmap\"}], \"heatmapgl\": [{\"colorbar\": {\"outlinewidth\": 0, \"ticks\": \"\"}, \"colorscale\": [[0.0, \"#0d0887\"], [0.1111111111111111, \"#46039f\"], [0.2222222222222222, \"#7201a8\"], [0.3333333333333333, \"#9c179e\"], [0.4444444444444444, \"#bd3786\"], [0.5555555555555556, \"#d8576b\"], [0.6666666666666666, \"#ed7953\"], [0.7777777777777778, \"#fb9f3a\"], [0.8888888888888888, \"#fdca26\"], [1.0, \"#f0f921\"]], \"type\": \"heatmapgl\"}], \"histogram\": [{\"marker\": {\"colorbar\": {\"outlinewidth\": 0, \"ticks\": \"\"}}, \"type\": \"histogram\"}], \"histogram2d\": [{\"colorbar\": {\"outlinewidth\": 0, \"ticks\": \"\"}, \"colorscale\": [[0.0, \"#0d0887\"], [0.1111111111111111, \"#46039f\"], [0.2222222222222222, \"#7201a8\"], [0.3333333333333333, \"#9c179e\"], [0.4444444444444444, \"#bd3786\"], [0.5555555555555556, \"#d8576b\"], [0.6666666666666666, \"#ed7953\"], [0.7777777777777778, \"#fb9f3a\"], [0.8888888888888888, \"#fdca26\"], [1.0, \"#f0f921\"]], \"type\": \"histogram2d\"}], \"histogram2dcontour\": [{\"colorbar\": {\"outlinewidth\": 0, \"ticks\": \"\"}, \"colorscale\": [[0.0, \"#0d0887\"], [0.1111111111111111, \"#46039f\"], [0.2222222222222222, \"#7201a8\"], [0.3333333333333333, \"#9c179e\"], [0.4444444444444444, \"#bd3786\"], [0.5555555555555556, \"#d8576b\"], [0.6666666666666666, \"#ed7953\"], [0.7777777777777778, \"#fb9f3a\"], [0.8888888888888888, \"#fdca26\"], [1.0, \"#f0f921\"]], \"type\": \"histogram2dcontour\"}], \"mesh3d\": [{\"colorbar\": {\"outlinewidth\": 0, \"ticks\": \"\"}, \"type\": \"mesh3d\"}], \"parcoords\": [{\"line\": {\"colorbar\": {\"outlinewidth\": 0, \"ticks\": \"\"}}, \"type\": \"parcoords\"}], \"scatter\": [{\"marker\": {\"colorbar\": {\"outlinewidth\": 0, \"ticks\": \"\"}}, \"type\": \"scatter\"}], \"scatter3d\": [{\"line\": {\"colorbar\": {\"outlinewidth\": 0, \"ticks\": \"\"}}, \"marker\": {\"colorbar\": {\"outlinewidth\": 0, \"ticks\": \"\"}}, \"type\": \"scatter3d\"}], \"scattercarpet\": [{\"marker\": {\"colorbar\": {\"outlinewidth\": 0, \"ticks\": \"\"}}, \"type\": \"scattercarpet\"}], \"scattergeo\": [{\"marker\": {\"colorbar\": {\"outlinewidth\": 0, \"ticks\": \"\"}}, \"type\": \"scattergeo\"}], \"scattergl\": [{\"marker\": {\"colorbar\": {\"outlinewidth\": 0, \"ticks\": \"\"}}, \"type\": \"scattergl\"}], \"scattermapbox\": [{\"marker\": {\"colorbar\": {\"outlinewidth\": 0, \"ticks\": \"\"}}, \"type\": \"scattermapbox\"}], \"scatterpolar\": [{\"marker\": {\"colorbar\": {\"outlinewidth\": 0, \"ticks\": \"\"}}, \"type\": \"scatterpolar\"}], \"scatterpolargl\": [{\"marker\": {\"colorbar\": {\"outlinewidth\": 0, \"ticks\": \"\"}}, \"type\": \"scatterpolargl\"}], \"scatterternary\": [{\"marker\": {\"colorbar\": {\"outlinewidth\": 0, \"ticks\": \"\"}}, \"type\": \"scatterternary\"}], \"surface\": [{\"colorbar\": {\"outlinewidth\": 0, \"ticks\": \"\"}, \"colorscale\": [[0.0, \"#0d0887\"], [0.1111111111111111, \"#46039f\"], [0.2222222222222222, \"#7201a8\"], [0.3333333333333333, \"#9c179e\"], [0.4444444444444444, \"#bd3786\"], [0.5555555555555556, \"#d8576b\"], [0.6666666666666666, \"#ed7953\"], [0.7777777777777778, \"#fb9f3a\"], [0.8888888888888888, \"#fdca26\"], [1.0, \"#f0f921\"]], \"type\": \"surface\"}], \"table\": [{\"cells\": {\"fill\": {\"color\": \"#EBF0F8\"}, \"line\": {\"color\": \"white\"}}, \"header\": {\"fill\": {\"color\": \"#C8D4E3\"}, \"line\": {\"color\": \"white\"}}, \"type\": \"table\"}]}, \"layout\": {\"annotationdefaults\": {\"arrowcolor\": \"#2a3f5f\", \"arrowhead\": 0, \"arrowwidth\": 1}, \"colorscale\": {\"diverging\": [[0, \"#8e0152\"], [0.1, \"#c51b7d\"], [0.2, \"#de77ae\"], [0.3, \"#f1b6da\"], [0.4, \"#fde0ef\"], [0.5, \"#f7f7f7\"], [0.6, \"#e6f5d0\"], [0.7, \"#b8e186\"], [0.8, \"#7fbc41\"], [0.9, \"#4d9221\"], [1, \"#276419\"]], \"sequential\": [[0.0, \"#0d0887\"], [0.1111111111111111, \"#46039f\"], [0.2222222222222222, \"#7201a8\"], [0.3333333333333333, \"#9c179e\"], [0.4444444444444444, \"#bd3786\"], [0.5555555555555556, \"#d8576b\"], [0.6666666666666666, \"#ed7953\"], [0.7777777777777778, \"#fb9f3a\"], [0.8888888888888888, \"#fdca26\"], [1.0, \"#f0f921\"]], \"sequentialminus\": [[0.0, \"#0d0887\"], [0.1111111111111111, \"#46039f\"], [0.2222222222222222, \"#7201a8\"], [0.3333333333333333, \"#9c179e\"], [0.4444444444444444, \"#bd3786\"], [0.5555555555555556, \"#d8576b\"], [0.6666666666666666, \"#ed7953\"], [0.7777777777777778, \"#fb9f3a\"], [0.8888888888888888, \"#fdca26\"], [1.0, \"#f0f921\"]]}, \"colorway\": [\"#636efa\", \"#EF553B\", \"#00cc96\", \"#ab63fa\", \"#FFA15A\", \"#19d3f3\", \"#FF6692\", \"#B6E880\", \"#FF97FF\", \"#FECB52\"], \"font\": {\"color\": \"#2a3f5f\"}, \"geo\": {\"bgcolor\": \"white\", \"lakecolor\": \"white\", \"landcolor\": \"#E5ECF6\", \"showlakes\": true, \"showland\": true, \"subunitcolor\": \"white\"}, \"hoverlabel\": {\"align\": \"left\"}, \"hovermode\": \"closest\", \"mapbox\": {\"style\": \"light\"}, \"paper_bgcolor\": \"white\", \"plot_bgcolor\": \"#E5ECF6\", \"polar\": {\"angularaxis\": {\"gridcolor\": \"white\", \"linecolor\": \"white\", \"ticks\": \"\"}, \"bgcolor\": \"#E5ECF6\", \"radialaxis\": {\"gridcolor\": \"white\", \"linecolor\": \"white\", \"ticks\": \"\"}}, \"scene\": {\"xaxis\": {\"backgroundcolor\": \"#E5ECF6\", \"gridcolor\": \"white\", \"gridwidth\": 2, \"linecolor\": \"white\", \"showbackground\": true, \"ticks\": \"\", \"zerolinecolor\": \"white\"}, \"yaxis\": {\"backgroundcolor\": \"#E5ECF6\", \"gridcolor\": \"white\", \"gridwidth\": 2, \"linecolor\": \"white\", \"showbackground\": true, \"ticks\": \"\", \"zerolinecolor\": \"white\"}, \"zaxis\": {\"backgroundcolor\": \"#E5ECF6\", \"gridcolor\": \"white\", \"gridwidth\": 2, \"linecolor\": \"white\", \"showbackground\": true, \"ticks\": \"\", \"zerolinecolor\": \"white\"}}, \"shapedefaults\": {\"line\": {\"color\": \"#2a3f5f\"}}, \"ternary\": {\"aaxis\": {\"gridcolor\": \"white\", \"linecolor\": \"white\", \"ticks\": \"\"}, \"baxis\": {\"gridcolor\": \"white\", \"linecolor\": \"white\", \"ticks\": \"\"}, \"bgcolor\": \"#E5ECF6\", \"caxis\": {\"gridcolor\": \"white\", \"linecolor\": \"white\", \"ticks\": \"\"}}, \"title\": {\"x\": 0.05}, \"xaxis\": {\"automargin\": true, \"gridcolor\": \"white\", \"linecolor\": \"white\", \"ticks\": \"\", \"zerolinecolor\": \"white\", \"zerolinewidth\": 2}, \"yaxis\": {\"automargin\": true, \"gridcolor\": \"white\", \"linecolor\": \"white\", \"ticks\": \"\", \"zerolinecolor\": \"white\", \"zerolinewidth\": 2}}}, \"title\": {\"text\": \"\"}, \"width\": 600, \"xaxis\": {\"gridcolor\": \"#DFDFDF\", \"gridwidth\": 1.5, \"linecolor\": \"#AFAFAF\", \"linewidth\": 2, \"nticks\": 6, \"showgrid\": true, \"showline\": true, \"title\": {\"text\": \"num targets chosen\"}, \"zeroline\": false, \"zerolinecolor\": \"#AFAFAF\", \"zerolinewidth\": 2.5}, \"yaxis\": {\"gridcolor\": \"#DFDFDF\", \"gridwidth\": 1.5, \"linecolor\": \"#AFAFAF\", \"linewidth\": 2, \"nticks\": 6, \"showgrid\": true, \"showline\": true, \"title\": {\"text\": \"average proprtion of targets chosen\"}, \"zeroline\": false, \"zerolinecolor\": \"#AFAFAF\", \"zerolinewidth\": 2.5}},\n",
       "                        {\"responsive\": true}\n",
       "                    ).then(function(){\n",
       "                            \n",
       "var gd = document.getElementById('55145966-a5b2-4433-bf32-7d667f20f814');\n",
       "var x = new MutationObserver(function (mutations, observer) {{\n",
       "        var display = window.getComputedStyle(gd).display;\n",
       "        if (!display || display === 'none') {{\n",
       "            console.log([gd, 'removed!']);\n",
       "            Plotly.purge(gd);\n",
       "            observer.disconnect();\n",
       "        }}\n",
       "}});\n",
       "\n",
       "// Listen for the removal of the full notebook cells\n",
       "var notebookContainer = gd.closest('#notebook-container');\n",
       "if (notebookContainer) {{\n",
       "    x.observe(notebookContainer, {childList: true});\n",
       "}}\n",
       "\n",
       "// Listen for the clearing of the current output cell\n",
       "var outputEl = gd.closest('.output');\n",
       "if (outputEl) {{\n",
       "    x.observe(outputEl, {childList: true});\n",
       "}}\n",
       "\n",
       "                        })\n",
       "                };\n",
       "                });\n",
       "            </script>\n",
       "        </div>"
      ]
     },
     "metadata": {},
     "output_type": "display_data"
    }
   ],
   "source": [
    "trace = []\n",
    "import colorlover as cl\n",
    "target_load_colors = cl.scales['6']['qual']['Set2']\n",
    "for i,target in enumerate(numT_select_by_target_load['num_targets'].unique().sort()):\n",
    "    target_load_data = numT_select_by_target_load[numT_select_by_target_load['num_targets']==target]\n",
    "    trace.append(go.Scatter(x = target_load_data['num_targets_chosen'].to_numpy(),\n",
    "                           y = target_load_data['avg_propT'].to_numpy(),\n",
    "                           name = 'Target load:' + str(target),\n",
    "                           mode='markers+text+lines',\n",
    "                           line = dict(shape='spline',width = 3, color = target_load_colors[i]),\n",
    "                           text = str(target),\n",
    "                           marker = dict(size = 16, opacity = 0.5, line = dict(color='gray', width = 2), color = target_load_colors[i])))\n",
    "    \n",
    "layout = go.Layout(title = '',\n",
    "                  xaxis = dict(title = 'num targets chosen'),\n",
    "                  yaxis = dict(title = 'average proprtion of targets chosen'))\n",
    "\n",
    "fig = go.Figure(data = trace, layout = layout )\n",
    "#fig['layout'].update(width = 900, height = 600, )\n",
    "fig['layout'].update(width = 600, height = 500, font = dict(size = 14), plot_bgcolor = 'rgba(0,0,0,0)', paper_bgcolor = 'rgba(0,0,0,0)')\n",
    "fig.update_xaxes(showgrid=True, showline=True, linewidth = 2, linecolor = '#AFAFAF', gridwidth=1.5, gridcolor='#DFDFDF', zeroline=False, zerolinecolor = '#AFAFAF', zerolinewidth = 2.5, nticks = 6)\n",
    "fig.update_yaxes(showgrid=True, showline=True, linewidth = 2, linecolor = '#AFAFAF', gridwidth=1.5, gridcolor='#DFDFDF', zeroline=False, zerolinecolor = '#AFAFAF', zerolinewidth = 2.5, nticks = 6)\n",
    "fig.show()\n",
    "fig.write_image(\"/Users/supadhy6/Dropbox/Shared with Adi/Results_images/num_targetsChosen_as_function_of_load.png\")\n",
    "fig.write_image(\"/Users/supadhy6/Dropbox/Shared with Adi/Results_images/num_targetsChosen_as_function_of_load.svg\")\n",
    "#py.iplot(fig, filename='split half correlations across speeds')\n",
    "#py.iplot(fig, filename='Number of targets chosen as a function of target load')"
   ]
  },
  {
   "cell_type": "markdown",
   "metadata": {},
   "source": [
    "<a id = section 3.3></a>\n",
    "# [Centroid Model : Number of targets chosen as a function of target load](#section 3.3)"
   ]
  },
  {
   "cell_type": "code",
   "execution_count": 2,
   "metadata": {},
   "outputs": [
    {
     "ename": "NameError",
     "evalue": "name 'tc' is not defined",
     "output_type": "error",
     "traceback": [
      "\u001b[0;31m---------------------------------------------------------------------------\u001b[0m",
      "\u001b[0;31mNameError\u001b[0m                                 Traceback (most recent call last)",
      "\u001b[0;32m<ipython-input-2-f3cd38b3c0b6>\u001b[0m in \u001b[0;36m<module>\u001b[0;34m\u001b[0m\n\u001b[1;32m      1\u001b[0m \u001b[0mdestPath\u001b[0m\u001b[0;34m=\u001b[0m\u001b[0;34m'./data/MOT_correspondences_replication/'\u001b[0m\u001b[0;34m\u001b[0m\u001b[0m\n\u001b[0;32m----> 2\u001b[0;31m \u001b[0mcentroid_model_data\u001b[0m \u001b[0;34m=\u001b[0m \u001b[0mtc\u001b[0m\u001b[0;34m.\u001b[0m\u001b[0mSFrame\u001b[0m\u001b[0;34m.\u001b[0m\u001b[0mread_json\u001b[0m\u001b[0;34m(\u001b[0m\u001b[0mdestPath\u001b[0m\u001b[0;34m+\u001b[0m\u001b[0;34m'correspondences_sub_20_Hz_Centroid.json'\u001b[0m\u001b[0;34m)\u001b[0m\u001b[0;34m\u001b[0m\u001b[0m\n\u001b[0m",
      "\u001b[0;31mNameError\u001b[0m: name 'tc' is not defined"
     ]
    }
   ],
   "source": [
    "destPath='./data/MOT_correspondences_replication/'\n",
    "centroid_model_data = tc.SFrame.read_json(destPath+'correspondences_sub_20_Hz_Centroid.json')"
   ]
  },
  {
   "cell_type": "code",
   "execution_count": 60,
   "metadata": {},
   "outputs": [
    {
     "data": {
      "text/html": [
       "<pre>Materializing SFrame</pre>"
      ],
      "text/plain": [
       "Materializing SFrame"
      ]
     },
     "metadata": {},
     "output_type": "display_data"
    }
   ],
   "source": [
    "centroid_model_data['num_targets_chosen'] = centroid_model_data.apply(lambda x: int(x['num_targets']*x['predicted_accuracy']))\n",
    "centroid_model_data.explore()"
   ]
  },
  {
   "cell_type": "code",
   "execution_count": 63,
   "metadata": {},
   "outputs": [],
   "source": [
    "def compute_sum_centroid(x):\n",
    "    sum_counts = centroid_numT_select_by_target_load[centroid_numT_select_by_target_load['num_targets']==x['num_targets']]['count'].sum()\n",
    "    return x['count']/sum_counts"
   ]
  },
  {
   "cell_type": "code",
   "execution_count": 1,
   "metadata": {},
   "outputs": [
    {
     "ename": "NameError",
     "evalue": "name 'centroid_model_data' is not defined",
     "output_type": "error",
     "traceback": [
      "\u001b[0;31m---------------------------------------------------------------------------\u001b[0m",
      "\u001b[0;31mNameError\u001b[0m                                 Traceback (most recent call last)",
      "\u001b[0;32m<ipython-input-1-baa6937391c0>\u001b[0m in \u001b[0;36m<module>\u001b[0;34m\u001b[0m\n\u001b[0;32m----> 1\u001b[0;31m \u001b[0mcentroid_numT_select_by_target_load\u001b[0m \u001b[0;34m=\u001b[0m \u001b[0mcentroid_model_data\u001b[0m\u001b[0;34m.\u001b[0m\u001b[0mgroupby\u001b[0m\u001b[0;34m(\u001b[0m\u001b[0;34m[\u001b[0m\u001b[0;34m'num_targets'\u001b[0m\u001b[0;34m,\u001b[0m\u001b[0;34m'num_targets_chosen'\u001b[0m\u001b[0;34m]\u001b[0m\u001b[0;34m,\u001b[0m\u001b[0moperations\u001b[0m \u001b[0;34m=\u001b[0m \u001b[0;34m{\u001b[0m\u001b[0;34m'count'\u001b[0m\u001b[0;34m:\u001b[0m\u001b[0magg\u001b[0m\u001b[0;34m.\u001b[0m\u001b[0mCOUNT\u001b[0m\u001b[0;34m(\u001b[0m\u001b[0;34m'num_targets_chosen'\u001b[0m\u001b[0;34m)\u001b[0m\u001b[0;34m}\u001b[0m\u001b[0;34m)\u001b[0m\u001b[0;34m\u001b[0m\u001b[0m\n\u001b[0m\u001b[1;32m      2\u001b[0m \u001b[0mcentroid_numT_select_by_target_load\u001b[0m\u001b[0;34m[\u001b[0m\u001b[0;34m'avg_propT'\u001b[0m\u001b[0;34m]\u001b[0m \u001b[0;34m=\u001b[0m \u001b[0mcentroid_numT_select_by_target_load\u001b[0m\u001b[0;34m.\u001b[0m\u001b[0mapply\u001b[0m\u001b[0;34m(\u001b[0m\u001b[0;32mlambda\u001b[0m \u001b[0mx\u001b[0m\u001b[0;34m:\u001b[0m \u001b[0mcompute_sum_centroid\u001b[0m\u001b[0;34m(\u001b[0m\u001b[0mx\u001b[0m\u001b[0;34m)\u001b[0m\u001b[0;34m)\u001b[0m\u001b[0;34m\u001b[0m\u001b[0m\n\u001b[1;32m      3\u001b[0m \u001b[0mcentroid_numT_select_by_target_load\u001b[0m \u001b[0;34m=\u001b[0m \u001b[0mcentroid_numT_select_by_target_load\u001b[0m\u001b[0;34m.\u001b[0m\u001b[0msort\u001b[0m\u001b[0;34m(\u001b[0m\u001b[0;34m[\u001b[0m\u001b[0;34m'num_targets'\u001b[0m\u001b[0;34m,\u001b[0m\u001b[0;34m'num_targets_chosen'\u001b[0m\u001b[0;34m]\u001b[0m\u001b[0;34m)\u001b[0m\u001b[0;34m\u001b[0m\u001b[0m\n\u001b[1;32m      4\u001b[0m \u001b[0mcentroid_numT_select_by_target_load\u001b[0m\u001b[0;34m.\u001b[0m\u001b[0mexplore\u001b[0m\u001b[0;34m(\u001b[0m\u001b[0;34m)\u001b[0m\u001b[0;34m\u001b[0m\u001b[0m\n",
      "\u001b[0;31mNameError\u001b[0m: name 'centroid_model_data' is not defined"
     ]
    }
   ],
   "source": [
    "centroid_numT_select_by_target_load = centroid_model_data.groupby(['num_targets','num_targets_chosen'],operations = {'count':agg.COUNT('num_targets_chosen')})\n",
    "centroid_numT_select_by_target_load['avg_propT'] = centroid_numT_select_by_target_load.apply(lambda x: compute_sum_centroid(x))\n",
    "centroid_numT_select_by_target_load = centroid_numT_select_by_target_load.sort(['num_targets','num_targets_chosen'])\n",
    "centroid_numT_select_by_target_load.explore()"
   ]
  },
  {
   "cell_type": "code",
   "execution_count": 65,
   "metadata": {},
   "outputs": [
    {
     "data": {
      "application/vnd.plotly.v1+json": {
       "config": {
        "plotlyServerURL": "https://plot.ly"
       },
       "data": [
        {
         "line": {
          "color": "rgb(102,194,165)",
          "shape": "spline",
          "width": 3
         },
         "marker": {
          "color": "rgb(102,194,165)",
          "line": {
           "color": "gray",
           "width": 2
          },
          "opacity": 0.5,
          "size": 16
         },
         "mode": "markers+text+lines",
         "name": "Target load:3",
         "text": "3",
         "type": "scatter",
         "x": [
          0,
          2,
          3
         ],
         "y": [
          0.041,
          0.3445,
          0.6145
         ]
        },
        {
         "line": {
          "color": "rgb(252,141,98)",
          "shape": "spline",
          "width": 3
         },
         "marker": {
          "color": "rgb(252,141,98)",
          "line": {
           "color": "gray",
           "width": 2
          },
          "opacity": 0.5,
          "size": 16
         },
         "mode": "markers+text+lines",
         "name": "Target load:4",
         "text": "4",
         "type": "scatter",
         "x": [
          0,
          1,
          2,
          3,
          4
         ],
         "y": [
          0.0005,
          0.015,
          0.161,
          0.456,
          0.3675
         ]
        },
        {
         "line": {
          "color": "rgb(141,160,203)",
          "shape": "spline",
          "width": 3
         },
         "marker": {
          "color": "rgb(141,160,203)",
          "line": {
           "color": "gray",
           "width": 2
          },
          "opacity": 0.5,
          "size": 16
         },
         "mode": "markers+text+lines",
         "name": "Target load:5",
         "text": "5",
         "type": "scatter",
         "x": [
          1,
          2,
          3,
          4,
          5
         ],
         "y": [
          0.004,
          0.0665,
          0.241,
          0.407,
          0.2815
         ]
        },
        {
         "line": {
          "color": "rgb(231,138,195)",
          "shape": "spline",
          "width": 3
         },
         "marker": {
          "color": "rgb(231,138,195)",
          "line": {
           "color": "gray",
           "width": 2
          },
          "opacity": 0.5,
          "size": 16
         },
         "mode": "markers+text+lines",
         "name": "Target load:6",
         "text": "6",
         "type": "scatter",
         "x": [
          1,
          3,
          4,
          6
         ],
         "y": [
          0.0275,
          0.1215,
          0.7545,
          0.0965
         ]
        },
        {
         "line": {
          "color": "rgb(166,216,84)",
          "shape": "spline",
          "width": 3
         },
         "marker": {
          "color": "rgb(166,216,84)",
          "line": {
           "color": "gray",
           "width": 2
          },
          "opacity": 0.5,
          "size": 16
         },
         "mode": "markers+text+lines",
         "name": "Target load:7",
         "text": "7",
         "type": "scatter",
         "x": [
          1,
          2,
          4,
          5,
          6,
          7
         ],
         "y": [
          0.0095,
          0.0745,
          0.198,
          0.344,
          0.2675,
          0.1065
         ]
        },
        {
         "line": {
          "color": "rgb(255,217,47)",
          "shape": "spline",
          "width": 3
         },
         "marker": {
          "color": "rgb(255,217,47)",
          "line": {
           "color": "gray",
           "width": 2
          },
          "opacity": 0.5,
          "size": 16
         },
         "mode": "markers+text+lines",
         "name": "Target load:8",
         "text": "8",
         "type": "scatter",
         "x": [
          2,
          3,
          4,
          5,
          6,
          7,
          8
         ],
         "y": [
          0.0065,
          0.0485,
          0.1895,
          0.3135,
          0.298,
          0.1275,
          0.0165
         ]
        }
       ],
       "layout": {
        "font": {
         "size": 14
        },
        "height": 500,
        "paper_bgcolor": "rgba(0,0,0,0)",
        "plot_bgcolor": "rgba(0,0,0,0)",
        "template": {
         "data": {
          "bar": [
           {
            "error_x": {
             "color": "#2a3f5f"
            },
            "error_y": {
             "color": "#2a3f5f"
            },
            "marker": {
             "line": {
              "color": "#E5ECF6",
              "width": 0.5
             }
            },
            "type": "bar"
           }
          ],
          "barpolar": [
           {
            "marker": {
             "line": {
              "color": "#E5ECF6",
              "width": 0.5
             }
            },
            "type": "barpolar"
           }
          ],
          "carpet": [
           {
            "aaxis": {
             "endlinecolor": "#2a3f5f",
             "gridcolor": "white",
             "linecolor": "white",
             "minorgridcolor": "white",
             "startlinecolor": "#2a3f5f"
            },
            "baxis": {
             "endlinecolor": "#2a3f5f",
             "gridcolor": "white",
             "linecolor": "white",
             "minorgridcolor": "white",
             "startlinecolor": "#2a3f5f"
            },
            "type": "carpet"
           }
          ],
          "choropleth": [
           {
            "colorbar": {
             "outlinewidth": 0,
             "ticks": ""
            },
            "type": "choropleth"
           }
          ],
          "contour": [
           {
            "colorbar": {
             "outlinewidth": 0,
             "ticks": ""
            },
            "colorscale": [
             [
              0,
              "#0d0887"
             ],
             [
              0.1111111111111111,
              "#46039f"
             ],
             [
              0.2222222222222222,
              "#7201a8"
             ],
             [
              0.3333333333333333,
              "#9c179e"
             ],
             [
              0.4444444444444444,
              "#bd3786"
             ],
             [
              0.5555555555555556,
              "#d8576b"
             ],
             [
              0.6666666666666666,
              "#ed7953"
             ],
             [
              0.7777777777777778,
              "#fb9f3a"
             ],
             [
              0.8888888888888888,
              "#fdca26"
             ],
             [
              1,
              "#f0f921"
             ]
            ],
            "type": "contour"
           }
          ],
          "contourcarpet": [
           {
            "colorbar": {
             "outlinewidth": 0,
             "ticks": ""
            },
            "type": "contourcarpet"
           }
          ],
          "heatmap": [
           {
            "colorbar": {
             "outlinewidth": 0,
             "ticks": ""
            },
            "colorscale": [
             [
              0,
              "#0d0887"
             ],
             [
              0.1111111111111111,
              "#46039f"
             ],
             [
              0.2222222222222222,
              "#7201a8"
             ],
             [
              0.3333333333333333,
              "#9c179e"
             ],
             [
              0.4444444444444444,
              "#bd3786"
             ],
             [
              0.5555555555555556,
              "#d8576b"
             ],
             [
              0.6666666666666666,
              "#ed7953"
             ],
             [
              0.7777777777777778,
              "#fb9f3a"
             ],
             [
              0.8888888888888888,
              "#fdca26"
             ],
             [
              1,
              "#f0f921"
             ]
            ],
            "type": "heatmap"
           }
          ],
          "heatmapgl": [
           {
            "colorbar": {
             "outlinewidth": 0,
             "ticks": ""
            },
            "colorscale": [
             [
              0,
              "#0d0887"
             ],
             [
              0.1111111111111111,
              "#46039f"
             ],
             [
              0.2222222222222222,
              "#7201a8"
             ],
             [
              0.3333333333333333,
              "#9c179e"
             ],
             [
              0.4444444444444444,
              "#bd3786"
             ],
             [
              0.5555555555555556,
              "#d8576b"
             ],
             [
              0.6666666666666666,
              "#ed7953"
             ],
             [
              0.7777777777777778,
              "#fb9f3a"
             ],
             [
              0.8888888888888888,
              "#fdca26"
             ],
             [
              1,
              "#f0f921"
             ]
            ],
            "type": "heatmapgl"
           }
          ],
          "histogram": [
           {
            "marker": {
             "colorbar": {
              "outlinewidth": 0,
              "ticks": ""
             }
            },
            "type": "histogram"
           }
          ],
          "histogram2d": [
           {
            "colorbar": {
             "outlinewidth": 0,
             "ticks": ""
            },
            "colorscale": [
             [
              0,
              "#0d0887"
             ],
             [
              0.1111111111111111,
              "#46039f"
             ],
             [
              0.2222222222222222,
              "#7201a8"
             ],
             [
              0.3333333333333333,
              "#9c179e"
             ],
             [
              0.4444444444444444,
              "#bd3786"
             ],
             [
              0.5555555555555556,
              "#d8576b"
             ],
             [
              0.6666666666666666,
              "#ed7953"
             ],
             [
              0.7777777777777778,
              "#fb9f3a"
             ],
             [
              0.8888888888888888,
              "#fdca26"
             ],
             [
              1,
              "#f0f921"
             ]
            ],
            "type": "histogram2d"
           }
          ],
          "histogram2dcontour": [
           {
            "colorbar": {
             "outlinewidth": 0,
             "ticks": ""
            },
            "colorscale": [
             [
              0,
              "#0d0887"
             ],
             [
              0.1111111111111111,
              "#46039f"
             ],
             [
              0.2222222222222222,
              "#7201a8"
             ],
             [
              0.3333333333333333,
              "#9c179e"
             ],
             [
              0.4444444444444444,
              "#bd3786"
             ],
             [
              0.5555555555555556,
              "#d8576b"
             ],
             [
              0.6666666666666666,
              "#ed7953"
             ],
             [
              0.7777777777777778,
              "#fb9f3a"
             ],
             [
              0.8888888888888888,
              "#fdca26"
             ],
             [
              1,
              "#f0f921"
             ]
            ],
            "type": "histogram2dcontour"
           }
          ],
          "mesh3d": [
           {
            "colorbar": {
             "outlinewidth": 0,
             "ticks": ""
            },
            "type": "mesh3d"
           }
          ],
          "parcoords": [
           {
            "line": {
             "colorbar": {
              "outlinewidth": 0,
              "ticks": ""
             }
            },
            "type": "parcoords"
           }
          ],
          "scatter": [
           {
            "marker": {
             "colorbar": {
              "outlinewidth": 0,
              "ticks": ""
             }
            },
            "type": "scatter"
           }
          ],
          "scatter3d": [
           {
            "line": {
             "colorbar": {
              "outlinewidth": 0,
              "ticks": ""
             }
            },
            "marker": {
             "colorbar": {
              "outlinewidth": 0,
              "ticks": ""
             }
            },
            "type": "scatter3d"
           }
          ],
          "scattercarpet": [
           {
            "marker": {
             "colorbar": {
              "outlinewidth": 0,
              "ticks": ""
             }
            },
            "type": "scattercarpet"
           }
          ],
          "scattergeo": [
           {
            "marker": {
             "colorbar": {
              "outlinewidth": 0,
              "ticks": ""
             }
            },
            "type": "scattergeo"
           }
          ],
          "scattergl": [
           {
            "marker": {
             "colorbar": {
              "outlinewidth": 0,
              "ticks": ""
             }
            },
            "type": "scattergl"
           }
          ],
          "scattermapbox": [
           {
            "marker": {
             "colorbar": {
              "outlinewidth": 0,
              "ticks": ""
             }
            },
            "type": "scattermapbox"
           }
          ],
          "scatterpolar": [
           {
            "marker": {
             "colorbar": {
              "outlinewidth": 0,
              "ticks": ""
             }
            },
            "type": "scatterpolar"
           }
          ],
          "scatterpolargl": [
           {
            "marker": {
             "colorbar": {
              "outlinewidth": 0,
              "ticks": ""
             }
            },
            "type": "scatterpolargl"
           }
          ],
          "scatterternary": [
           {
            "marker": {
             "colorbar": {
              "outlinewidth": 0,
              "ticks": ""
             }
            },
            "type": "scatterternary"
           }
          ],
          "surface": [
           {
            "colorbar": {
             "outlinewidth": 0,
             "ticks": ""
            },
            "colorscale": [
             [
              0,
              "#0d0887"
             ],
             [
              0.1111111111111111,
              "#46039f"
             ],
             [
              0.2222222222222222,
              "#7201a8"
             ],
             [
              0.3333333333333333,
              "#9c179e"
             ],
             [
              0.4444444444444444,
              "#bd3786"
             ],
             [
              0.5555555555555556,
              "#d8576b"
             ],
             [
              0.6666666666666666,
              "#ed7953"
             ],
             [
              0.7777777777777778,
              "#fb9f3a"
             ],
             [
              0.8888888888888888,
              "#fdca26"
             ],
             [
              1,
              "#f0f921"
             ]
            ],
            "type": "surface"
           }
          ],
          "table": [
           {
            "cells": {
             "fill": {
              "color": "#EBF0F8"
             },
             "line": {
              "color": "white"
             }
            },
            "header": {
             "fill": {
              "color": "#C8D4E3"
             },
             "line": {
              "color": "white"
             }
            },
            "type": "table"
           }
          ]
         },
         "layout": {
          "annotationdefaults": {
           "arrowcolor": "#2a3f5f",
           "arrowhead": 0,
           "arrowwidth": 1
          },
          "colorscale": {
           "diverging": [
            [
             0,
             "#8e0152"
            ],
            [
             0.1,
             "#c51b7d"
            ],
            [
             0.2,
             "#de77ae"
            ],
            [
             0.3,
             "#f1b6da"
            ],
            [
             0.4,
             "#fde0ef"
            ],
            [
             0.5,
             "#f7f7f7"
            ],
            [
             0.6,
             "#e6f5d0"
            ],
            [
             0.7,
             "#b8e186"
            ],
            [
             0.8,
             "#7fbc41"
            ],
            [
             0.9,
             "#4d9221"
            ],
            [
             1,
             "#276419"
            ]
           ],
           "sequential": [
            [
             0,
             "#0d0887"
            ],
            [
             0.1111111111111111,
             "#46039f"
            ],
            [
             0.2222222222222222,
             "#7201a8"
            ],
            [
             0.3333333333333333,
             "#9c179e"
            ],
            [
             0.4444444444444444,
             "#bd3786"
            ],
            [
             0.5555555555555556,
             "#d8576b"
            ],
            [
             0.6666666666666666,
             "#ed7953"
            ],
            [
             0.7777777777777778,
             "#fb9f3a"
            ],
            [
             0.8888888888888888,
             "#fdca26"
            ],
            [
             1,
             "#f0f921"
            ]
           ],
           "sequentialminus": [
            [
             0,
             "#0d0887"
            ],
            [
             0.1111111111111111,
             "#46039f"
            ],
            [
             0.2222222222222222,
             "#7201a8"
            ],
            [
             0.3333333333333333,
             "#9c179e"
            ],
            [
             0.4444444444444444,
             "#bd3786"
            ],
            [
             0.5555555555555556,
             "#d8576b"
            ],
            [
             0.6666666666666666,
             "#ed7953"
            ],
            [
             0.7777777777777778,
             "#fb9f3a"
            ],
            [
             0.8888888888888888,
             "#fdca26"
            ],
            [
             1,
             "#f0f921"
            ]
           ]
          },
          "colorway": [
           "#636efa",
           "#EF553B",
           "#00cc96",
           "#ab63fa",
           "#FFA15A",
           "#19d3f3",
           "#FF6692",
           "#B6E880",
           "#FF97FF",
           "#FECB52"
          ],
          "font": {
           "color": "#2a3f5f"
          },
          "geo": {
           "bgcolor": "white",
           "lakecolor": "white",
           "landcolor": "#E5ECF6",
           "showlakes": true,
           "showland": true,
           "subunitcolor": "white"
          },
          "hoverlabel": {
           "align": "left"
          },
          "hovermode": "closest",
          "mapbox": {
           "style": "light"
          },
          "paper_bgcolor": "white",
          "plot_bgcolor": "#E5ECF6",
          "polar": {
           "angularaxis": {
            "gridcolor": "white",
            "linecolor": "white",
            "ticks": ""
           },
           "bgcolor": "#E5ECF6",
           "radialaxis": {
            "gridcolor": "white",
            "linecolor": "white",
            "ticks": ""
           }
          },
          "scene": {
           "xaxis": {
            "backgroundcolor": "#E5ECF6",
            "gridcolor": "white",
            "gridwidth": 2,
            "linecolor": "white",
            "showbackground": true,
            "ticks": "",
            "zerolinecolor": "white"
           },
           "yaxis": {
            "backgroundcolor": "#E5ECF6",
            "gridcolor": "white",
            "gridwidth": 2,
            "linecolor": "white",
            "showbackground": true,
            "ticks": "",
            "zerolinecolor": "white"
           },
           "zaxis": {
            "backgroundcolor": "#E5ECF6",
            "gridcolor": "white",
            "gridwidth": 2,
            "linecolor": "white",
            "showbackground": true,
            "ticks": "",
            "zerolinecolor": "white"
           }
          },
          "shapedefaults": {
           "line": {
            "color": "#2a3f5f"
           }
          },
          "ternary": {
           "aaxis": {
            "gridcolor": "white",
            "linecolor": "white",
            "ticks": ""
           },
           "baxis": {
            "gridcolor": "white",
            "linecolor": "white",
            "ticks": ""
           },
           "bgcolor": "#E5ECF6",
           "caxis": {
            "gridcolor": "white",
            "linecolor": "white",
            "ticks": ""
           }
          },
          "title": {
           "x": 0.05
          },
          "xaxis": {
           "automargin": true,
           "gridcolor": "white",
           "linecolor": "white",
           "ticks": "",
           "zerolinecolor": "white",
           "zerolinewidth": 2
          },
          "yaxis": {
           "automargin": true,
           "gridcolor": "white",
           "linecolor": "white",
           "ticks": "",
           "zerolinecolor": "white",
           "zerolinewidth": 2
          }
         }
        },
        "title": {
         "text": ""
        },
        "width": 600,
        "xaxis": {
         "gridcolor": "#DFDFDF",
         "gridwidth": 1.5,
         "linecolor": "#AFAFAF",
         "linewidth": 2,
         "nticks": 6,
         "showgrid": true,
         "showline": true,
         "title": {
          "text": "num targets chosen"
         },
         "zeroline": false,
         "zerolinecolor": "#AFAFAF",
         "zerolinewidth": 2.5
        },
        "yaxis": {
         "gridcolor": "#DFDFDF",
         "gridwidth": 1.5,
         "linecolor": "#AFAFAF",
         "linewidth": 2,
         "nticks": 6,
         "showgrid": true,
         "showline": true,
         "title": {
          "text": "average proprtion of targets chosen"
         },
         "zeroline": false,
         "zerolinecolor": "#AFAFAF",
         "zerolinewidth": 2.5
        }
       }
      },
      "text/html": [
       "<div>\n",
       "        \n",
       "        \n",
       "            <div id=\"7f240c60-5fc8-47b8-926e-7862a24125a4\" class=\"plotly-graph-div\" style=\"height:500px; width:600px;\"></div>\n",
       "            <script type=\"text/javascript\">\n",
       "                require([\"plotly\"], function(Plotly) {\n",
       "                    window.PLOTLYENV=window.PLOTLYENV || {};\n",
       "                    \n",
       "                if (document.getElementById(\"7f240c60-5fc8-47b8-926e-7862a24125a4\")) {\n",
       "                    Plotly.newPlot(\n",
       "                        '7f240c60-5fc8-47b8-926e-7862a24125a4',\n",
       "                        [{\"line\": {\"color\": \"rgb(102,194,165)\", \"shape\": \"spline\", \"width\": 3}, \"marker\": {\"color\": \"rgb(102,194,165)\", \"line\": {\"color\": \"gray\", \"width\": 2}, \"opacity\": 0.5, \"size\": 16}, \"mode\": \"markers+text+lines\", \"name\": \"Target load:3\", \"text\": \"3\", \"type\": \"scatter\", \"x\": [0, 2, 3], \"y\": [0.041, 0.3445, 0.6145]}, {\"line\": {\"color\": \"rgb(252,141,98)\", \"shape\": \"spline\", \"width\": 3}, \"marker\": {\"color\": \"rgb(252,141,98)\", \"line\": {\"color\": \"gray\", \"width\": 2}, \"opacity\": 0.5, \"size\": 16}, \"mode\": \"markers+text+lines\", \"name\": \"Target load:4\", \"text\": \"4\", \"type\": \"scatter\", \"x\": [0, 1, 2, 3, 4], \"y\": [0.0005, 0.015, 0.161, 0.456, 0.3675]}, {\"line\": {\"color\": \"rgb(141,160,203)\", \"shape\": \"spline\", \"width\": 3}, \"marker\": {\"color\": \"rgb(141,160,203)\", \"line\": {\"color\": \"gray\", \"width\": 2}, \"opacity\": 0.5, \"size\": 16}, \"mode\": \"markers+text+lines\", \"name\": \"Target load:5\", \"text\": \"5\", \"type\": \"scatter\", \"x\": [1, 2, 3, 4, 5], \"y\": [0.004, 0.0665, 0.241, 0.407, 0.2815]}, {\"line\": {\"color\": \"rgb(231,138,195)\", \"shape\": \"spline\", \"width\": 3}, \"marker\": {\"color\": \"rgb(231,138,195)\", \"line\": {\"color\": \"gray\", \"width\": 2}, \"opacity\": 0.5, \"size\": 16}, \"mode\": \"markers+text+lines\", \"name\": \"Target load:6\", \"text\": \"6\", \"type\": \"scatter\", \"x\": [1, 3, 4, 6], \"y\": [0.0275, 0.1215, 0.7545, 0.0965]}, {\"line\": {\"color\": \"rgb(166,216,84)\", \"shape\": \"spline\", \"width\": 3}, \"marker\": {\"color\": \"rgb(166,216,84)\", \"line\": {\"color\": \"gray\", \"width\": 2}, \"opacity\": 0.5, \"size\": 16}, \"mode\": \"markers+text+lines\", \"name\": \"Target load:7\", \"text\": \"7\", \"type\": \"scatter\", \"x\": [1, 2, 4, 5, 6, 7], \"y\": [0.0095, 0.0745, 0.198, 0.344, 0.2675, 0.1065]}, {\"line\": {\"color\": \"rgb(255,217,47)\", \"shape\": \"spline\", \"width\": 3}, \"marker\": {\"color\": \"rgb(255,217,47)\", \"line\": {\"color\": \"gray\", \"width\": 2}, \"opacity\": 0.5, \"size\": 16}, \"mode\": \"markers+text+lines\", \"name\": \"Target load:8\", \"text\": \"8\", \"type\": \"scatter\", \"x\": [2, 3, 4, 5, 6, 7, 8], \"y\": [0.0065, 0.0485, 0.1895, 0.3135, 0.298, 0.1275, 0.0165]}],\n",
       "                        {\"font\": {\"size\": 14}, \"height\": 500, \"paper_bgcolor\": \"rgba(0,0,0,0)\", \"plot_bgcolor\": \"rgba(0,0,0,0)\", \"template\": {\"data\": {\"bar\": [{\"error_x\": {\"color\": \"#2a3f5f\"}, \"error_y\": {\"color\": \"#2a3f5f\"}, \"marker\": {\"line\": {\"color\": \"#E5ECF6\", \"width\": 0.5}}, \"type\": \"bar\"}], \"barpolar\": [{\"marker\": {\"line\": {\"color\": \"#E5ECF6\", \"width\": 0.5}}, \"type\": \"barpolar\"}], \"carpet\": [{\"aaxis\": {\"endlinecolor\": \"#2a3f5f\", \"gridcolor\": \"white\", \"linecolor\": \"white\", \"minorgridcolor\": \"white\", \"startlinecolor\": \"#2a3f5f\"}, \"baxis\": {\"endlinecolor\": \"#2a3f5f\", \"gridcolor\": \"white\", \"linecolor\": \"white\", \"minorgridcolor\": \"white\", \"startlinecolor\": \"#2a3f5f\"}, \"type\": \"carpet\"}], \"choropleth\": [{\"colorbar\": {\"outlinewidth\": 0, \"ticks\": \"\"}, \"type\": \"choropleth\"}], \"contour\": [{\"colorbar\": {\"outlinewidth\": 0, \"ticks\": \"\"}, \"colorscale\": [[0.0, \"#0d0887\"], [0.1111111111111111, \"#46039f\"], [0.2222222222222222, \"#7201a8\"], [0.3333333333333333, \"#9c179e\"], [0.4444444444444444, \"#bd3786\"], [0.5555555555555556, \"#d8576b\"], [0.6666666666666666, \"#ed7953\"], [0.7777777777777778, \"#fb9f3a\"], [0.8888888888888888, \"#fdca26\"], [1.0, \"#f0f921\"]], \"type\": \"contour\"}], \"contourcarpet\": [{\"colorbar\": {\"outlinewidth\": 0, \"ticks\": \"\"}, \"type\": \"contourcarpet\"}], \"heatmap\": [{\"colorbar\": {\"outlinewidth\": 0, \"ticks\": \"\"}, \"colorscale\": [[0.0, \"#0d0887\"], [0.1111111111111111, \"#46039f\"], [0.2222222222222222, \"#7201a8\"], [0.3333333333333333, \"#9c179e\"], [0.4444444444444444, \"#bd3786\"], [0.5555555555555556, \"#d8576b\"], [0.6666666666666666, \"#ed7953\"], [0.7777777777777778, \"#fb9f3a\"], [0.8888888888888888, \"#fdca26\"], [1.0, \"#f0f921\"]], \"type\": \"heatmap\"}], \"heatmapgl\": [{\"colorbar\": {\"outlinewidth\": 0, \"ticks\": \"\"}, \"colorscale\": [[0.0, \"#0d0887\"], [0.1111111111111111, \"#46039f\"], [0.2222222222222222, \"#7201a8\"], [0.3333333333333333, \"#9c179e\"], [0.4444444444444444, \"#bd3786\"], [0.5555555555555556, \"#d8576b\"], [0.6666666666666666, \"#ed7953\"], [0.7777777777777778, \"#fb9f3a\"], [0.8888888888888888, \"#fdca26\"], [1.0, \"#f0f921\"]], \"type\": \"heatmapgl\"}], \"histogram\": [{\"marker\": {\"colorbar\": {\"outlinewidth\": 0, \"ticks\": \"\"}}, \"type\": \"histogram\"}], \"histogram2d\": [{\"colorbar\": {\"outlinewidth\": 0, \"ticks\": \"\"}, \"colorscale\": [[0.0, \"#0d0887\"], [0.1111111111111111, \"#46039f\"], [0.2222222222222222, \"#7201a8\"], [0.3333333333333333, \"#9c179e\"], [0.4444444444444444, \"#bd3786\"], [0.5555555555555556, \"#d8576b\"], [0.6666666666666666, \"#ed7953\"], [0.7777777777777778, \"#fb9f3a\"], [0.8888888888888888, \"#fdca26\"], [1.0, \"#f0f921\"]], \"type\": \"histogram2d\"}], \"histogram2dcontour\": [{\"colorbar\": {\"outlinewidth\": 0, \"ticks\": \"\"}, \"colorscale\": [[0.0, \"#0d0887\"], [0.1111111111111111, \"#46039f\"], [0.2222222222222222, \"#7201a8\"], [0.3333333333333333, \"#9c179e\"], [0.4444444444444444, \"#bd3786\"], [0.5555555555555556, \"#d8576b\"], [0.6666666666666666, \"#ed7953\"], [0.7777777777777778, \"#fb9f3a\"], [0.8888888888888888, \"#fdca26\"], [1.0, \"#f0f921\"]], \"type\": \"histogram2dcontour\"}], \"mesh3d\": [{\"colorbar\": {\"outlinewidth\": 0, \"ticks\": \"\"}, \"type\": \"mesh3d\"}], \"parcoords\": [{\"line\": {\"colorbar\": {\"outlinewidth\": 0, \"ticks\": \"\"}}, \"type\": \"parcoords\"}], \"scatter\": [{\"marker\": {\"colorbar\": {\"outlinewidth\": 0, \"ticks\": \"\"}}, \"type\": \"scatter\"}], \"scatter3d\": [{\"line\": {\"colorbar\": {\"outlinewidth\": 0, \"ticks\": \"\"}}, \"marker\": {\"colorbar\": {\"outlinewidth\": 0, \"ticks\": \"\"}}, \"type\": \"scatter3d\"}], \"scattercarpet\": [{\"marker\": {\"colorbar\": {\"outlinewidth\": 0, \"ticks\": \"\"}}, \"type\": \"scattercarpet\"}], \"scattergeo\": [{\"marker\": {\"colorbar\": {\"outlinewidth\": 0, \"ticks\": \"\"}}, \"type\": \"scattergeo\"}], \"scattergl\": [{\"marker\": {\"colorbar\": {\"outlinewidth\": 0, \"ticks\": \"\"}}, \"type\": \"scattergl\"}], \"scattermapbox\": [{\"marker\": {\"colorbar\": {\"outlinewidth\": 0, \"ticks\": \"\"}}, \"type\": \"scattermapbox\"}], \"scatterpolar\": [{\"marker\": {\"colorbar\": {\"outlinewidth\": 0, \"ticks\": \"\"}}, \"type\": \"scatterpolar\"}], \"scatterpolargl\": [{\"marker\": {\"colorbar\": {\"outlinewidth\": 0, \"ticks\": \"\"}}, \"type\": \"scatterpolargl\"}], \"scatterternary\": [{\"marker\": {\"colorbar\": {\"outlinewidth\": 0, \"ticks\": \"\"}}, \"type\": \"scatterternary\"}], \"surface\": [{\"colorbar\": {\"outlinewidth\": 0, \"ticks\": \"\"}, \"colorscale\": [[0.0, \"#0d0887\"], [0.1111111111111111, \"#46039f\"], [0.2222222222222222, \"#7201a8\"], [0.3333333333333333, \"#9c179e\"], [0.4444444444444444, \"#bd3786\"], [0.5555555555555556, \"#d8576b\"], [0.6666666666666666, \"#ed7953\"], [0.7777777777777778, \"#fb9f3a\"], [0.8888888888888888, \"#fdca26\"], [1.0, \"#f0f921\"]], \"type\": \"surface\"}], \"table\": [{\"cells\": {\"fill\": {\"color\": \"#EBF0F8\"}, \"line\": {\"color\": \"white\"}}, \"header\": {\"fill\": {\"color\": \"#C8D4E3\"}, \"line\": {\"color\": \"white\"}}, \"type\": \"table\"}]}, \"layout\": {\"annotationdefaults\": {\"arrowcolor\": \"#2a3f5f\", \"arrowhead\": 0, \"arrowwidth\": 1}, \"colorscale\": {\"diverging\": [[0, \"#8e0152\"], [0.1, \"#c51b7d\"], [0.2, \"#de77ae\"], [0.3, \"#f1b6da\"], [0.4, \"#fde0ef\"], [0.5, \"#f7f7f7\"], [0.6, \"#e6f5d0\"], [0.7, \"#b8e186\"], [0.8, \"#7fbc41\"], [0.9, \"#4d9221\"], [1, \"#276419\"]], \"sequential\": [[0.0, \"#0d0887\"], [0.1111111111111111, \"#46039f\"], [0.2222222222222222, \"#7201a8\"], [0.3333333333333333, \"#9c179e\"], [0.4444444444444444, \"#bd3786\"], [0.5555555555555556, \"#d8576b\"], [0.6666666666666666, \"#ed7953\"], [0.7777777777777778, \"#fb9f3a\"], [0.8888888888888888, \"#fdca26\"], [1.0, \"#f0f921\"]], \"sequentialminus\": [[0.0, \"#0d0887\"], [0.1111111111111111, \"#46039f\"], [0.2222222222222222, \"#7201a8\"], [0.3333333333333333, \"#9c179e\"], [0.4444444444444444, \"#bd3786\"], [0.5555555555555556, \"#d8576b\"], [0.6666666666666666, \"#ed7953\"], [0.7777777777777778, \"#fb9f3a\"], [0.8888888888888888, \"#fdca26\"], [1.0, \"#f0f921\"]]}, \"colorway\": [\"#636efa\", \"#EF553B\", \"#00cc96\", \"#ab63fa\", \"#FFA15A\", \"#19d3f3\", \"#FF6692\", \"#B6E880\", \"#FF97FF\", \"#FECB52\"], \"font\": {\"color\": \"#2a3f5f\"}, \"geo\": {\"bgcolor\": \"white\", \"lakecolor\": \"white\", \"landcolor\": \"#E5ECF6\", \"showlakes\": true, \"showland\": true, \"subunitcolor\": \"white\"}, \"hoverlabel\": {\"align\": \"left\"}, \"hovermode\": \"closest\", \"mapbox\": {\"style\": \"light\"}, \"paper_bgcolor\": \"white\", \"plot_bgcolor\": \"#E5ECF6\", \"polar\": {\"angularaxis\": {\"gridcolor\": \"white\", \"linecolor\": \"white\", \"ticks\": \"\"}, \"bgcolor\": \"#E5ECF6\", \"radialaxis\": {\"gridcolor\": \"white\", \"linecolor\": \"white\", \"ticks\": \"\"}}, \"scene\": {\"xaxis\": {\"backgroundcolor\": \"#E5ECF6\", \"gridcolor\": \"white\", \"gridwidth\": 2, \"linecolor\": \"white\", \"showbackground\": true, \"ticks\": \"\", \"zerolinecolor\": \"white\"}, \"yaxis\": {\"backgroundcolor\": \"#E5ECF6\", \"gridcolor\": \"white\", \"gridwidth\": 2, \"linecolor\": \"white\", \"showbackground\": true, \"ticks\": \"\", \"zerolinecolor\": \"white\"}, \"zaxis\": {\"backgroundcolor\": \"#E5ECF6\", \"gridcolor\": \"white\", \"gridwidth\": 2, \"linecolor\": \"white\", \"showbackground\": true, \"ticks\": \"\", \"zerolinecolor\": \"white\"}}, \"shapedefaults\": {\"line\": {\"color\": \"#2a3f5f\"}}, \"ternary\": {\"aaxis\": {\"gridcolor\": \"white\", \"linecolor\": \"white\", \"ticks\": \"\"}, \"baxis\": {\"gridcolor\": \"white\", \"linecolor\": \"white\", \"ticks\": \"\"}, \"bgcolor\": \"#E5ECF6\", \"caxis\": {\"gridcolor\": \"white\", \"linecolor\": \"white\", \"ticks\": \"\"}}, \"title\": {\"x\": 0.05}, \"xaxis\": {\"automargin\": true, \"gridcolor\": \"white\", \"linecolor\": \"white\", \"ticks\": \"\", \"zerolinecolor\": \"white\", \"zerolinewidth\": 2}, \"yaxis\": {\"automargin\": true, \"gridcolor\": \"white\", \"linecolor\": \"white\", \"ticks\": \"\", \"zerolinecolor\": \"white\", \"zerolinewidth\": 2}}}, \"title\": {\"text\": \"\"}, \"width\": 600, \"xaxis\": {\"gridcolor\": \"#DFDFDF\", \"gridwidth\": 1.5, \"linecolor\": \"#AFAFAF\", \"linewidth\": 2, \"nticks\": 6, \"showgrid\": true, \"showline\": true, \"title\": {\"text\": \"num targets chosen\"}, \"zeroline\": false, \"zerolinecolor\": \"#AFAFAF\", \"zerolinewidth\": 2.5}, \"yaxis\": {\"gridcolor\": \"#DFDFDF\", \"gridwidth\": 1.5, \"linecolor\": \"#AFAFAF\", \"linewidth\": 2, \"nticks\": 6, \"showgrid\": true, \"showline\": true, \"title\": {\"text\": \"average proprtion of targets chosen\"}, \"zeroline\": false, \"zerolinecolor\": \"#AFAFAF\", \"zerolinewidth\": 2.5}},\n",
       "                        {\"responsive\": true}\n",
       "                    ).then(function(){\n",
       "                            \n",
       "var gd = document.getElementById('7f240c60-5fc8-47b8-926e-7862a24125a4');\n",
       "var x = new MutationObserver(function (mutations, observer) {{\n",
       "        var display = window.getComputedStyle(gd).display;\n",
       "        if (!display || display === 'none') {{\n",
       "            console.log([gd, 'removed!']);\n",
       "            Plotly.purge(gd);\n",
       "            observer.disconnect();\n",
       "        }}\n",
       "}});\n",
       "\n",
       "// Listen for the removal of the full notebook cells\n",
       "var notebookContainer = gd.closest('#notebook-container');\n",
       "if (notebookContainer) {{\n",
       "    x.observe(notebookContainer, {childList: true});\n",
       "}}\n",
       "\n",
       "// Listen for the clearing of the current output cell\n",
       "var outputEl = gd.closest('.output');\n",
       "if (outputEl) {{\n",
       "    x.observe(outputEl, {childList: true});\n",
       "}}\n",
       "\n",
       "                        })\n",
       "                };\n",
       "                });\n",
       "            </script>\n",
       "        </div>"
      ]
     },
     "metadata": {},
     "output_type": "display_data"
    }
   ],
   "source": [
    "trace = []\n",
    "import colorlover as cl\n",
    "target_load_colors = cl.scales['6']['qual']['Set2']\n",
    "for i,target in enumerate(centroid_numT_select_by_target_load['num_targets'].unique().sort()):\n",
    "    target_load_data = centroid_numT_select_by_target_load[centroid_numT_select_by_target_load['num_targets']==target]\n",
    "    trace.append(go.Scatter(x = target_load_data['num_targets_chosen'].to_numpy(),\n",
    "                           y = target_load_data['avg_propT'].to_numpy(),\n",
    "                           name = 'Target load:' + str(target),\n",
    "                           mode='markers+text+lines',\n",
    "                           line = dict(shape='spline',width = 3, color = target_load_colors[i]),\n",
    "                           text = str(target),\n",
    "                           marker = dict(size = 16, opacity = 0.5, line = dict(color='gray', width = 2), color = target_load_colors[i])))\n",
    "    \n",
    "layout = go.Layout(title = '',\n",
    "                  xaxis = dict(title = 'num targets chosen'),\n",
    "                  yaxis = dict(title = 'average proprtion of targets chosen'))\n",
    "\n",
    "fig = go.Figure(data = trace, layout = layout )\n",
    "#fig['layout'].update(width = 900, height = 600, )\n",
    "fig['layout'].update(width = 600, height = 500, font = dict(size = 14), plot_bgcolor = 'rgba(0,0,0,0)', paper_bgcolor = 'rgba(0,0,0,0)')\n",
    "fig.update_xaxes(showgrid=True, showline=True, linewidth = 2, linecolor = '#AFAFAF', gridwidth=1.5, gridcolor='#DFDFDF', zeroline=False, zerolinecolor = '#AFAFAF', zerolinewidth = 2.5, nticks = 6)\n",
    "fig.update_yaxes(showgrid=True, showline=True, linewidth = 2, linecolor = '#AFAFAF', gridwidth=1.5, gridcolor='#DFDFDF', zeroline=False, zerolinecolor = '#AFAFAF', zerolinewidth = 2.5, nticks = 6)\n",
    "fig.show()\n",
    "fig.write_image(\"/Users/supadhy6/Dropbox/Shared with Adi/Results_images/Centroid_model_num_targetsChosen_as_function_of_load.png\")\n",
    "fig.write_image(\"/Users/supadhy6/Dropbox/Shared with Adi/Results_images/Centroid_model_num_targetsChosen_as_function_of_load.svg\")\n",
    "#py.iplot(fig, filename='split half correlations across speeds')\n",
    "#py.iplot(fig, filename='Number of targets chosen as a function of target load')"
   ]
  },
  {
   "cell_type": "code",
   "execution_count": null,
   "metadata": {},
   "outputs": [],
   "source": []
  }
 ],
 "metadata": {
  "anaconda-cloud": {},
  "kernelspec": {
   "display_name": "adiLab (3.7)",
   "language": "python",
   "name": "adilab"
  },
  "language_info": {
   "codemirror_mode": {
    "name": "ipython",
    "version": 3
   },
   "file_extension": ".py",
   "mimetype": "text/x-python",
   "name": "python",
   "nbconvert_exporter": "python",
   "pygments_lexer": "ipython3",
   "version": "3.6.0"
  },
  "toc": {
   "base_numbering": 1,
   "nav_menu": {},
   "number_sections": true,
   "sideBar": true,
   "skip_h1_title": false,
   "title_cell": "Table of Contents",
   "title_sidebar": "Contents",
   "toc_cell": true,
   "toc_position": {},
   "toc_section_display": true,
   "toc_window_display": false
  }
 },
 "nbformat": 4,
 "nbformat_minor": 1
}

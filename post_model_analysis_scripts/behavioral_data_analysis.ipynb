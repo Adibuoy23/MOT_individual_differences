{
 "cells": [
  {
   "cell_type": "markdown",
   "metadata": {
    "toc": true
   },
   "source": [
    "<h1>Table of Contents<span class=\"tocSkip\"></span></h1>\n",
    "<div class=\"toc\"><ul class=\"toc-item\"><li><span><a href=\"#Data-summary\" data-toc-modified-id=\"Data-summary-1\"><span class=\"toc-item-num\">1&nbsp;&nbsp;</span><a href=\"#section 1\">Data summary</a></a></span><ul class=\"toc-item\"><li><span><a href=\"#Group-the-behavioral-data-by-target-load-and-subjects\" data-toc-modified-id=\"Group-the-behavioral-data-by-target-load-and-subjects-1.1\"><span class=\"toc-item-num\">1.1&nbsp;&nbsp;</span>Group the behavioral data by target load and subjects</a></span></li></ul></li><li><span><a href=\"#Consistencies-in-individual-differences-in-the-behavioral-data\" data-toc-modified-id=\"Consistencies-in-individual-differences-in-the-behavioral-data-2\"><span class=\"toc-item-num\">2&nbsp;&nbsp;</span><a href=\"#section 2\">Consistencies in individual differences in the behavioral data</a></a></span><ul class=\"toc-item\"><li><span><a href=\"#Obtain-rankings-of-participants-across-the-120-trials\" data-toc-modified-id=\"Obtain-rankings-of-participants-across-the-120-trials-2.1\"><span class=\"toc-item-num\">2.1&nbsp;&nbsp;</span>Obtain rankings of participants across the 120 trials</a></span></li><li><span><a href=\"#Check-for-consistencies-when-compared-across-target-load-sets-for-these-ranked-individuals\" data-toc-modified-id=\"Check-for-consistencies-when-compared-across-target-load-sets-for-these-ranked-individuals-2.2\"><span class=\"toc-item-num\">2.2&nbsp;&nbsp;</span>Check for consistencies when compared across target load sets for these ranked individuals</a></span></li><li><span><a href=\"#Check-for-consistencies-when-compared-across-speeds-for-these-ranked-individuals\" data-toc-modified-id=\"Check-for-consistencies-when-compared-across-speeds-for-these-ranked-individuals-2.3\"><span class=\"toc-item-num\">2.3&nbsp;&nbsp;</span>Check for consistencies when compared across speeds for these ranked individuals</a></span></li></ul></li><li><span><a href=\"#Analysis-using-number-of-targets-chosen\" data-toc-modified-id=\"Analysis-using-number-of-targets-chosen-3\"><span class=\"toc-item-num\">3&nbsp;&nbsp;</span><a href=\"#section 3\">Analysis using number of targets chosen</a></a></span><ul class=\"toc-item\"><li><span><a href=\"#Group-the-behavioral-data-by-target-load\" data-toc-modified-id=\"Group-the-behavioral-data-by-target-load-3.1\"><span class=\"toc-item-num\">3.1&nbsp;&nbsp;</span>Group the behavioral data by target load</a></span></li><li><span><a href=\"#Plot-the-grouped-data\" data-toc-modified-id=\"Plot-the-grouped-data-3.2\"><span class=\"toc-item-num\">3.2&nbsp;&nbsp;</span>Plot the grouped data</a></span></li><li><span><a href=\"#Subject-wise-analysis-of-the-number-of-targets-chosen:--Appendix-to-Section-3\" data-toc-modified-id=\"Subject-wise-analysis-of-the-number-of-targets-chosen:--Appendix-to-Section-3-3.3\"><span class=\"toc-item-num\">3.3&nbsp;&nbsp;</span><a href=\"#section 3.1\">Subject wise analysis of the number of targets chosen:</a>  Appendix to <a href=\"#section 3\">Section 3</a></a></span></li><li><span><a href=\"#Plot-the-subject-ranks-vs-avg.-number-of-targets-chosen-for-each-target-load\" data-toc-modified-id=\"Plot-the-subject-ranks-vs-avg.-number-of-targets-chosen-for-each-target-load-3.4\"><span class=\"toc-item-num\">3.4&nbsp;&nbsp;</span>Plot the subject ranks vs avg. number of targets chosen for each target load</a></span></li></ul></li></ul></div>"
   ]
  },
  {
   "cell_type": "code",
   "execution_count": 1,
   "metadata": {
    "code_folding": []
   },
   "outputs": [
    {
     "data": {
      "text/html": [
       "        <script type=\"text/javascript\">\n",
       "        window.PlotlyConfig = {MathJaxConfig: 'local'};\n",
       "        if (window.MathJax) {MathJax.Hub.Config({SVG: {font: \"STIX-Web\"}});}\n",
       "        if (typeof require !== 'undefined') {\n",
       "        require.undef(\"plotly\");\n",
       "        requirejs.config({\n",
       "            paths: {\n",
       "                'plotly': ['https://cdn.plot.ly/plotly-latest.min']\n",
       "            }\n",
       "        });\n",
       "        require(['plotly'], function(Plotly) {\n",
       "            window._Plotly = Plotly;\n",
       "        });\n",
       "        }\n",
       "        </script>\n",
       "        "
      ]
     },
     "metadata": {},
     "output_type": "display_data"
    }
   ],
   "source": [
    "# clear all the variables & load the necessary modules\n",
    "%reset -f\n",
    "import numpy as np\n",
    "import sys\n",
    "import turicreate as tc\n",
    "import turicreate.aggregate as agg\n",
    "import os\n",
    "from os import walk\n",
    "import fnmatch\n",
    "import scipy.io\n",
    "import pandas as pd\n",
    "import chart_studio.plotly as py\n",
    "import plotly.graph_objs as go\n",
    "import plotly.figure_factory as ff\n",
    "from scipy.stats import norm\n",
    "from statsmodels.formula.api import ols\n",
    "from scipy.stats.mstats import zscore\n",
    "import scipy.stats as st\n",
    "from plotly.offline import download_plotlyjs, init_notebook_mode, plot, iplot\n",
    "init_notebook_mode(connected=True)\n",
    "import random\n",
    "from plotly import tools\n",
    "# Path variable (where the data is located)\n",
    "myPath = '../data/processed_files/MOT_csv_files/behavior_data/'#'./data/MOT_csv_files/behavior_data/'"
   ]
  },
  {
   "cell_type": "code",
   "execution_count": 2,
   "metadata": {
    "scrolled": true
   },
   "outputs": [
    {
     "data": {
      "text/html": [
       "<pre>Finished parsing file /Volumes/My Passport/Github/MOT_bayesian_model/data/MOT_csv_files/behavior_data/behavior_data.csv</pre>"
      ],
      "text/plain": [
       "Finished parsing file /Volumes/My Passport/Github/MOT_bayesian_model/data/MOT_csv_files/behavior_data/behavior_data.csv"
      ]
     },
     "metadata": {},
     "output_type": "display_data"
    },
    {
     "data": {
      "text/html": [
       "<pre>Parsing completed. Parsed 100 lines in 0.044287 secs.</pre>"
      ],
      "text/plain": [
       "Parsing completed. Parsed 100 lines in 0.044287 secs."
      ]
     },
     "metadata": {},
     "output_type": "display_data"
    },
    {
     "name": "stdout",
     "output_type": "stream",
     "text": [
      "------------------------------------------------------\n",
      "Inferred types from first 100 line(s) of file as \n",
      "column_type_hints=[int,int,int,int,int,int,int,float,int,int,int,int,float,int,int,int,int,int,int,int,int,int,int,int,int,int,int,int,int]\n",
      "If parsing fails due to incorrect types, you can correct\n",
      "the inferred type list above and pass it to read_csv in\n",
      "the column_type_hints argument\n",
      "------------------------------------------------------\n"
     ]
    },
    {
     "data": {
      "text/html": [
       "<pre>Finished parsing file /Volumes/My Passport/Github/MOT_bayesian_model/data/MOT_csv_files/behavior_data/behavior_data.csv</pre>"
      ],
      "text/plain": [
       "Finished parsing file /Volumes/My Passport/Github/MOT_bayesian_model/data/MOT_csv_files/behavior_data/behavior_data.csv"
      ]
     },
     "metadata": {},
     "output_type": "display_data"
    },
    {
     "data": {
      "text/html": [
       "<pre>Parsing completed. Parsed 6000 lines in 0.034725 secs.</pre>"
      ],
      "text/plain": [
       "Parsing completed. Parsed 6000 lines in 0.034725 secs."
      ]
     },
     "metadata": {},
     "output_type": "display_data"
    },
    {
     "data": {
      "text/html": [
       "<pre>Materializing SFrame</pre>"
      ],
      "text/plain": [
       "Materializing SFrame"
      ]
     },
     "metadata": {},
     "output_type": "display_data"
    }
   ],
   "source": [
    "behavior_data = tc.SFrame.read_csv(myPath + 'behavior_data.csv')\n",
    "behavior_data.explore()"
   ]
  },
  {
   "cell_type": "code",
   "execution_count": 3,
   "metadata": {},
   "outputs": [
    {
     "data": {
      "text/plain": [
       "30"
      ]
     },
     "execution_count": 3,
     "metadata": {},
     "output_type": "execute_result"
    }
   ],
   "source": [
    "len(behavior_data[behavior_data['subject_Num']==102]['trial_Num'].unique())"
   ]
  },
  {
   "cell_type": "markdown",
   "metadata": {},
   "source": [
    "<a> id = section 1></a>\n",
    "# [Data summary](#section 1) "
   ]
  },
  {
   "cell_type": "markdown",
   "metadata": {},
   "source": [
    "## Group the behavioral data by target load and subjects"
   ]
  },
  {
   "cell_type": "code",
   "execution_count": 4,
   "metadata": {
    "code_folding": [
     0,
     1
    ]
   },
   "outputs": [],
   "source": [
    "subject_data = behavior_data.groupby(['num_targets','subject_Num'],operations = {'avg_num_targets_chosen':agg.MEAN('num_targets_chosen'),\n",
    "                                                               'std_num_targets_chosen':agg.STD('num_targets_chosen'),\n",
    "                                                                                'avg_accuracy':agg.MEAN('accuracy')})\n",
    "subject_data = subject_data.sort(['subject_Num','num_targets'])"
   ]
  },
  {
   "cell_type": "code",
   "execution_count": 5,
   "metadata": {},
   "outputs": [
    {
     "data": {
      "text/html": [
       "<pre>Materializing SFrame</pre>"
      ],
      "text/plain": [
       "Materializing SFrame"
      ]
     },
     "metadata": {},
     "output_type": "display_data"
    }
   ],
   "source": [
    "trial_data = behavior_data.groupby(['trial_Num_Original'],operations = {'avg_num_targets_chosen':agg.MEAN('num_targets_chosen'),\n",
    "                                                               'std_num_targets_chosen':agg.STD('num_targets_chosen'),\n",
    "                                                                                'avg_accuracy':agg.MEAN('accuracy'),\n",
    "                                                                       'num_targets':agg.MEAN('num_targets')})\n",
    "trial_data = trial_data.sort(['trial_Num_Original'])\n",
    "trial_data.explore()"
   ]
  },
  {
   "cell_type": "code",
   "execution_count": 6,
   "metadata": {
    "code_folding": [
     0,
     1,
     6
    ]
   },
   "outputs": [
    {
     "data": {
      "text/html": [
       "<div style=\"max-height:1000px;max-width:1500px;overflow:auto;\"><table frame=\"box\" rules=\"cols\">\n",
       "    <tr>\n",
       "        <th style=\"padding-left: 1em; padding-right: 1em; text-align: center\">num_targets</th>\n",
       "        <th style=\"padding-left: 1em; padding-right: 1em; text-align: center\">avg_acc</th>\n",
       "        <th style=\"padding-left: 1em; padding-right: 1em; text-align: center\">Median</th>\n",
       "        <th style=\"padding-left: 1em; padding-right: 1em; text-align: center\">std_acc</th>\n",
       "        <th style=\"padding-left: 1em; padding-right: 1em; text-align: center\">Max_acc</th>\n",
       "        <th style=\"padding-left: 1em; padding-right: 1em; text-align: center\">Min_acc</th>\n",
       "    </tr>\n",
       "    <tr>\n",
       "        <td style=\"padding-left: 1em; padding-right: 1em; text-align: center; vertical-align: top\">3</td>\n",
       "        <td style=\"padding-left: 1em; padding-right: 1em; text-align: center; vertical-align: top\">0.9283407069999997</td>\n",
       "        <td style=\"padding-left: 1em; padding-right: 1em; text-align: center; vertical-align: top\">1.0</td>\n",
       "        <td style=\"padding-left: 1em; padding-right: 1em; text-align: center; vertical-align: top\">0.06202431569839687</td>\n",
       "        <td style=\"padding-left: 1em; padding-right: 1em; text-align: center; vertical-align: top\">1.0</td>\n",
       "        <td style=\"padding-left: 1em; padding-right: 1em; text-align: center; vertical-align: top\">0.71666665</td>\n",
       "    </tr>\n",
       "    <tr>\n",
       "        <td style=\"padding-left: 1em; padding-right: 1em; text-align: center; vertical-align: top\">4</td>\n",
       "        <td style=\"padding-left: 1em; padding-right: 1em; text-align: center; vertical-align: top\">0.8250000000000001</td>\n",
       "        <td style=\"padding-left: 1em; padding-right: 1em; text-align: center; vertical-align: top\">0.75</td>\n",
       "        <td style=\"padding-left: 1em; padding-right: 1em; text-align: center; vertical-align: top\">0.07830229881682914</td>\n",
       "        <td style=\"padding-left: 1em; padding-right: 1em; text-align: center; vertical-align: top\">0.975</td>\n",
       "        <td style=\"padding-left: 1em; padding-right: 1em; text-align: center; vertical-align: top\">0.6375</td>\n",
       "    </tr>\n",
       "    <tr>\n",
       "        <td style=\"padding-left: 1em; padding-right: 1em; text-align: center; vertical-align: top\">5</td>\n",
       "        <td style=\"padding-left: 1em; padding-right: 1em; text-align: center; vertical-align: top\">0.7207999999999999</td>\n",
       "        <td style=\"padding-left: 1em; padding-right: 1em; text-align: center; vertical-align: top\">0.8</td>\n",
       "        <td style=\"padding-left: 1em; padding-right: 1em; text-align: center; vertical-align: top\">0.06921965038917778</td>\n",
       "        <td style=\"padding-left: 1em; padding-right: 1em; text-align: center; vertical-align: top\">0.8199999999999998</td>\n",
       "        <td style=\"padding-left: 1em; padding-right: 1em; text-align: center; vertical-align: top\">0.59</td>\n",
       "    </tr>\n",
       "    <tr>\n",
       "        <td style=\"padding-left: 1em; padding-right: 1em; text-align: center; vertical-align: top\">6</td>\n",
       "        <td style=\"padding-left: 1em; padding-right: 1em; text-align: center; vertical-align: top\">0.6438366770000001</td>\n",
       "        <td style=\"padding-left: 1em; padding-right: 1em; text-align: center; vertical-align: top\">0.666667</td>\n",
       "        <td style=\"padding-left: 1em; padding-right: 1em; text-align: center; vertical-align: top\">0.06148760389650442</td>\n",
       "        <td style=\"padding-left: 1em; padding-right: 1em; text-align: center; vertical-align: top\">0.7834500000000002</td>\n",
       "        <td style=\"padding-left: 1em; padding-right: 1em; text-align: center; vertical-align: top\">0.47499994999999995</td>\n",
       "    </tr>\n",
       "    <tr>\n",
       "        <td style=\"padding-left: 1em; padding-right: 1em; text-align: center; vertical-align: top\">7</td>\n",
       "        <td style=\"padding-left: 1em; padding-right: 1em; text-align: center; vertical-align: top\">0.6215384129999999</td>\n",
       "        <td style=\"padding-left: 1em; padding-right: 1em; text-align: center; vertical-align: top\">0.571429</td>\n",
       "        <td style=\"padding-left: 1em; padding-right: 1em; text-align: center; vertical-align: top\">0.04835293750605936</td>\n",
       "        <td style=\"padding-left: 1em; padding-right: 1em; text-align: center; vertical-align: top\">0.7285716</td>\n",
       "        <td style=\"padding-left: 1em; padding-right: 1em; text-align: center; vertical-align: top\">0.5356499999999998</td>\n",
       "    </tr>\n",
       "    <tr>\n",
       "        <td style=\"padding-left: 1em; padding-right: 1em; text-align: center; vertical-align: top\">8</td>\n",
       "        <td style=\"padding-left: 1em; padding-right: 1em; text-align: center; vertical-align: top\">0.5715</td>\n",
       "        <td style=\"padding-left: 1em; padding-right: 1em; text-align: center; vertical-align: top\">0.625</td>\n",
       "        <td style=\"padding-left: 1em; padding-right: 1em; text-align: center; vertical-align: top\">0.04066171417931125</td>\n",
       "        <td style=\"padding-left: 1em; padding-right: 1em; text-align: center; vertical-align: top\">0.6624999999999999</td>\n",
       "        <td style=\"padding-left: 1em; padding-right: 1em; text-align: center; vertical-align: top\">0.46249999999999997</td>\n",
       "    </tr>\n",
       "</table>\n",
       "[6 rows x 6 columns]<br/>\n",
       "</div>"
      ],
      "text/plain": [
       "Columns:\n",
       "\tnum_targets\tint\n",
       "\tavg_acc\tfloat\n",
       "\tMedian\tfloat\n",
       "\tstd_acc\tfloat\n",
       "\tMax_acc\tfloat\n",
       "\tMin_acc\tfloat\n",
       "\n",
       "Rows: 6\n",
       "\n",
       "Data:\n",
       "+-------------+--------------------+----------+---------------------+\n",
       "| num_targets |      avg_acc       |  Median  |       std_acc       |\n",
       "+-------------+--------------------+----------+---------------------+\n",
       "|      3      | 0.9283407069999997 |   1.0    | 0.06202431569839687 |\n",
       "|      4      | 0.8250000000000001 |   0.75   | 0.07830229881682914 |\n",
       "|      5      | 0.7207999999999999 |   0.8    | 0.06921965038917778 |\n",
       "|      6      | 0.6438366770000001 | 0.666667 | 0.06148760389650442 |\n",
       "|      7      | 0.6215384129999999 | 0.571429 | 0.04835293750605936 |\n",
       "|      8      |       0.5715       |  0.625   | 0.04066171417931125 |\n",
       "+-------------+--------------------+----------+---------------------+\n",
       "+--------------------+---------------------+\n",
       "|      Max_acc       |       Min_acc       |\n",
       "+--------------------+---------------------+\n",
       "|        1.0         |      0.71666665     |\n",
       "|       0.975        |        0.6375       |\n",
       "| 0.8199999999999998 |         0.59        |\n",
       "| 0.7834500000000002 | 0.47499994999999995 |\n",
       "|     0.7285716      |  0.5356499999999998 |\n",
       "| 0.6624999999999999 | 0.46249999999999997 |\n",
       "+--------------------+---------------------+\n",
       "[6 rows x 6 columns]"
      ]
     },
     "execution_count": 6,
     "metadata": {},
     "output_type": "execute_result"
    }
   ],
   "source": [
    "accuracy_data = subject_data.groupby('num_targets',operations = {'avg_acc':agg.MEAN('avg_accuracy'),\n",
    "                                                               'std_acc':agg.STD('avg_accuracy'),\n",
    "                                                                 'Min_acc':agg.MIN('avg_accuracy'),\n",
    "                                                                 'Max_acc':agg.MAX('avg_accuracy')})\n",
    "median = []\n",
    "\n",
    "for target in behavior_data['num_targets'].unique().sort():\n",
    "    target_data = behavior_data[behavior_data['num_targets']==target]\n",
    "    median.append(np.median(target_data['accuracy'].to_numpy()))\n",
    "\n",
    "accuracy_data = accuracy_data.sort('num_targets')\n",
    "accuracy_data['Median'] = median\n",
    "accuracy_data['num_targets','avg_acc','Median','std_acc','Max_acc','Min_acc']"
   ]
  },
  {
   "cell_type": "code",
   "execution_count": 7,
   "metadata": {
    "code_folding": [
     1,
     7
    ]
   },
   "outputs": [
    {
     "data": {
      "application/vnd.plotly.v1+json": {
       "config": {
        "linkText": "Export to plot.ly",
        "plotlyServerURL": "https://plot.ly",
        "showLink": false
       },
       "data": [
        {
         "autobinx": false,
         "histnorm": "probability density",
         "legendgroup": "3",
         "marker": {
          "color": "rgb(31, 119, 180)"
         },
         "name": "3",
         "opacity": 0.7,
         "type": "histogram",
         "x": [
          0.95005,
          1,
          0.9833500000000001,
          0.9833500000000001,
          0.8833500000000001,
          0.9666999999999999,
          0.8834500000000001,
          0.9167,
          0.9333499999999999,
          0.8834000000000001,
          0.98333335,
          0.8500000999999999,
          0.98333335,
          0.9333333999999999,
          0.98333335,
          0.9666666999999999,
          0.9333333500000001,
          0.9666667,
          0.7333335,
          0.95000005,
          0.95000005,
          0.98333335,
          0.9666666999999999,
          0.9166667499999999,
          0.9333334000000001,
          0.9500000499999999,
          0.9666667,
          0.9833333499999999,
          0.98333335,
          0.9500000499999999,
          0.8500001,
          0.9500000499999999,
          0.8666667,
          0.95000005,
          0.91666675,
          0.8333334499999999,
          0.8666668,
          0.9833333499999999,
          0.98333335,
          0.9333333499999998,
          0.9000000499999999,
          0.95000005,
          0.9666667,
          0.9500000499999999,
          0.8000001000000001,
          0.71666665,
          0.98333335,
          0.86666675,
          0.9666667,
          0.9333334
         ],
         "xaxis": "x",
         "xbins": {
          "end": 1,
          "size": 0.06202431569839687,
          "start": 0.71666665
         },
         "yaxis": "y"
        },
        {
         "autobinx": false,
         "histnorm": "probability density",
         "legendgroup": "4",
         "marker": {
          "color": "rgb(255, 127, 14)"
         },
         "name": "4",
         "opacity": 0.7,
         "type": "histogram",
         "x": [
          0.8374999999999999,
          0.9375,
          0.8624999999999998,
          0.9,
          0.7874999999999999,
          0.8124999999999999,
          0.8875,
          0.9125000000000001,
          0.7874999999999999,
          0.6375,
          0.8500000000000001,
          0.9125000000000001,
          0.9000000000000001,
          0.7499999999999998,
          0.8999999999999999,
          0.825,
          0.7874999999999999,
          0.8375000000000001,
          0.65,
          0.8874999999999998,
          0.825,
          0.9,
          0.8124999999999999,
          0.7499999999999999,
          0.825,
          0.8749999999999999,
          0.8374999999999998,
          0.9125,
          0.85,
          0.8624999999999999,
          0.7999999999999999,
          0.8374999999999999,
          0.8375,
          0.7499999999999999,
          0.9249999999999998,
          0.65,
          0.725,
          0.975,
          0.8875,
          0.775,
          0.825,
          0.8374999999999998,
          0.8500000000000001,
          0.8374999999999998,
          0.6625,
          0.675,
          0.9125,
          0.8375,
          0.7999999999999999,
          0.7374999999999999
         ],
         "xaxis": "x",
         "xbins": {
          "end": 0.975,
          "size": 0.07830229881682914,
          "start": 0.6375
         },
         "yaxis": "y"
        },
        {
         "autobinx": false,
         "histnorm": "probability density",
         "legendgroup": "5",
         "marker": {
          "color": "rgb(44, 160, 44)"
         },
         "name": "5",
         "opacity": 0.7,
         "type": "histogram",
         "x": [
          0.73,
          0.8000000000000002,
          0.81,
          0.7999999999999999,
          0.59,
          0.7300000000000001,
          0.8099999999999999,
          0.7800000000000001,
          0.7,
          0.6100000000000001,
          0.7399999999999999,
          0.73,
          0.7799999999999999,
          0.72,
          0.8,
          0.7400000000000001,
          0.6799999999999999,
          0.77,
          0.5999999999999999,
          0.74,
          0.7800000000000002,
          0.8,
          0.6700000000000002,
          0.7300000000000001,
          0.6499999999999999,
          0.7200000000000001,
          0.6699999999999999,
          0.8199999999999998,
          0.76,
          0.7200000000000001,
          0.7,
          0.7500000000000001,
          0.6100000000000001,
          0.5900000000000001,
          0.8000000000000002,
          0.5900000000000001,
          0.6,
          0.8,
          0.7499999999999999,
          0.6900000000000002,
          0.7,
          0.78,
          0.7000000000000001,
          0.7800000000000002,
          0.64,
          0.62,
          0.8199999999999998,
          0.7699999999999999,
          0.6699999999999999,
          0.7000000000000001
         ],
         "xaxis": "x",
         "xbins": {
          "end": 0.8199999999999998,
          "size": 0.06921965038917778,
          "start": 0.59
         },
         "yaxis": "y"
        },
        {
         "autobinx": false,
         "histnorm": "probability density",
         "legendgroup": "6",
         "marker": {
          "color": "rgb(214, 39, 40)"
         },
         "name": "6",
         "opacity": 0.7,
         "type": "histogram",
         "x": [
          0.6832,
          0.7834500000000002,
          0.6834,
          0.6833500000000001,
          0.60835,
          0.6667,
          0.70835,
          0.68335,
          0.6417,
          0.5666500000000001,
          0.63333325,
          0.47499994999999995,
          0.70833325,
          0.6333333,
          0.75833335,
          0.61666675,
          0.6250001,
          0.6499999999999999,
          0.575,
          0.6416666499999999,
          0.6416666999999999,
          0.7166666500000001,
          0.6166666,
          0.6416666499999998,
          0.625,
          0.6083333999999999,
          0.6166668,
          0.7583333999999998,
          0.6749999999999999,
          0.6666666000000001,
          0.6500000500000002,
          0.65000005,
          0.6000000999999999,
          0.5833333499999999,
          0.6500000000000001,
          0.5916666500000002,
          0.53333335,
          0.74166665,
          0.6916666,
          0.5750000000000002,
          0.5666667,
          0.6333334,
          0.65000005,
          0.73333335,
          0.63333335,
          0.54999995,
          0.7250001,
          0.625,
          0.5499999999999999,
          0.66666675
         ],
         "xaxis": "x",
         "xbins": {
          "end": 0.7834500000000002,
          "size": 0.06148760389650442,
          "start": 0.47499994999999995
         },
         "yaxis": "y"
        },
        {
         "autobinx": false,
         "histnorm": "probability density",
         "legendgroup": "7",
         "marker": {
          "color": "rgb(148, 103, 189)"
         },
         "name": "7",
         "opacity": 0.7,
         "type": "histogram",
         "x": [
          0.6855000000000002,
          0.67835,
          0.6783999999999999,
          0.63555,
          0.5356499999999998,
          0.6425999999999998,
          0.6498999999999999,
          0.6926500000000001,
          0.5927,
          0.5498999999999999,
          0.59285735,
          0.6428572999999997,
          0.6142858999999998,
          0.5785715,
          0.6928572999999999,
          0.6214288499999999,
          0.5785716499999999,
          0.6357145,
          0.5857144999999999,
          0.6214287000000001,
          0.6785715500000001,
          0.6428572000000001,
          0.6000001999999999,
          0.6214287999999998,
          0.55714305,
          0.62857165,
          0.5500000500000001,
          0.7000002000000001,
          0.69285725,
          0.69285735,
          0.6142859499999999,
          0.6500002999999999,
          0.56428575,
          0.5785716500000001,
          0.6642859,
          0.5357144,
          0.61428585,
          0.65714295,
          0.6214287000000001,
          0.5785716500000001,
          0.56428585,
          0.6357144499999999,
          0.5928572499999999,
          0.7285716,
          0.5714287,
          0.6071429499999998,
          0.6500001,
          0.6500001999999999,
          0.5714286499999999,
          0.5571429499999999
         ],
         "xaxis": "x",
         "xbins": {
          "end": 0.7285716,
          "size": 0.04835293750605936,
          "start": 0.5356499999999998
         },
         "yaxis": "y"
        },
        {
         "autobinx": false,
         "histnorm": "probability density",
         "legendgroup": "8",
         "marker": {
          "color": "rgb(140, 86, 75)"
         },
         "name": "8",
         "opacity": 0.7,
         "type": "histogram",
         "x": [
          0.5999999999999999,
          0.60625,
          0.5625,
          0.60625,
          0.5750000000000001,
          0.59375,
          0.6125,
          0.5437500000000001,
          0.58125,
          0.5,
          0.575,
          0.5750000000000001,
          0.60625,
          0.49999999999999994,
          0.5999999999999999,
          0.5625,
          0.5499999999999998,
          0.6125,
          0.5375,
          0.5749999999999998,
          0.6062500000000001,
          0.61875,
          0.61875,
          0.5625,
          0.5375000000000001,
          0.54375,
          0.59375,
          0.61875,
          0.5875,
          0.54375,
          0.5625000000000001,
          0.5812500000000002,
          0.5499999999999999,
          0.47499999999999987,
          0.60625,
          0.5750000000000001,
          0.5499999999999999,
          0.6624999999999999,
          0.5562500000000001,
          0.5187499999999999,
          0.49375,
          0.6000000000000001,
          0.5750000000000001,
          0.64375,
          0.5687499999999999,
          0.5312499999999999,
          0.5812499999999999,
          0.59375,
          0.46249999999999997,
          0.58125
         ],
         "xaxis": "x",
         "xbins": {
          "end": 0.6624999999999999,
          "size": 0.04066171417931125,
          "start": 0.46249999999999997
         },
         "yaxis": "y"
        },
        {
         "legendgroup": "3",
         "marker": {
          "color": "rgb(31, 119, 180)"
         },
         "mode": "lines",
         "name": "3",
         "showlegend": false,
         "type": "scatter",
         "x": [
          0.71666665,
          0.7172333167,
          0.7177999834,
          0.7183666501,
          0.7189333167999999,
          0.7194999835,
          0.7200666501999999,
          0.7206333169,
          0.7211999835999999,
          0.7217666503,
          0.7223333169999999,
          0.7228999837,
          0.7234666503999999,
          0.7240333171,
          0.7245999838,
          0.7251666505,
          0.7257333172,
          0.7262999839,
          0.7268666506,
          0.7274333172999999,
          0.727999984,
          0.7285666506999999,
          0.7291333174,
          0.7296999840999999,
          0.7302666508,
          0.7308333174999999,
          0.7313999842,
          0.7319666509,
          0.7325333176,
          0.7330999843,
          0.733666651,
          0.7342333177,
          0.7347999843999999,
          0.7353666511,
          0.7359333177999999,
          0.7364999845,
          0.7370666511999999,
          0.7376333179,
          0.7381999845999999,
          0.7387666513,
          0.7393333179999999,
          0.7398999847,
          0.7404666514,
          0.7410333181,
          0.7415999848,
          0.7421666514999999,
          0.7427333182,
          0.7432999848999999,
          0.7438666516,
          0.7444333182999999,
          0.744999985,
          0.7455666516999999,
          0.7461333184,
          0.7466999851,
          0.7472666518,
          0.7478333185,
          0.7483999852,
          0.7489666519,
          0.7495333185999999,
          0.7500999853,
          0.7506666519999999,
          0.7512333187,
          0.7517999853999999,
          0.7523666521,
          0.7529333187999999,
          0.7534999855,
          0.7540666521999999,
          0.7546333189,
          0.7551999856,
          0.7557666523,
          0.756333319,
          0.7568999856999999,
          0.7574666524,
          0.7580333190999999,
          0.7585999858,
          0.7591666524999999,
          0.7597333192,
          0.7602999858999999,
          0.7608666526,
          0.7614333193,
          0.761999986,
          0.7625666527,
          0.7631333194,
          0.7636999861,
          0.7642666528,
          0.7648333195,
          0.7653999861999999,
          0.7659666529,
          0.7665333195999999,
          0.7670999863,
          0.7676666529999999,
          0.7682333197,
          0.7687999863999999,
          0.7693666531,
          0.7699333198,
          0.7704999865,
          0.7710666532,
          0.7716333199,
          0.7721999866,
          0.7727666532999999,
          0.77333332,
          0.7738999866999999,
          0.7744666534,
          0.7750333200999999,
          0.7755999868,
          0.7761666534999999,
          0.7767333202,
          0.7772999869,
          0.7778666536,
          0.7784333203,
          0.778999987,
          0.7795666537,
          0.7801333203999999,
          0.7806999871,
          0.7812666537999999,
          0.7818333205,
          0.7823999871999999,
          0.7829666539,
          0.7835333205999999,
          0.7840999873,
          0.784666654,
          0.7852333207,
          0.7857999874,
          0.7863666541,
          0.7869333208,
          0.7874999874999999,
          0.7880666542,
          0.7886333208999999,
          0.7891999876,
          0.7897666542999999,
          0.790333321,
          0.7908999877,
          0.7914666544,
          0.7920333210999999,
          0.7925999878,
          0.7931666545,
          0.7937333212,
          0.7942999879,
          0.7948666545999999,
          0.7954333213,
          0.7959999879999999,
          0.7965666547,
          0.7971333213999999,
          0.7976999881,
          0.7982666547999999,
          0.7988333215,
          0.7993999882,
          0.7999666549,
          0.8005333216,
          0.8010999883,
          0.801666655,
          0.8022333217,
          0.8027999884,
          0.8033666550999999,
          0.8039333218,
          0.8044999884999999,
          0.8050666552,
          0.8056333218999999,
          0.8061999886,
          0.8067666552999999,
          0.807333322,
          0.8078999887,
          0.8084666554,
          0.8090333221,
          0.8095999888,
          0.8101666555,
          0.8107333221999999,
          0.8112999889,
          0.8118666555999999,
          0.8124333223,
          0.8129999889999999,
          0.8135666557,
          0.8141333224,
          0.8146999891,
          0.8152666558,
          0.8158333225,
          0.8163999892,
          0.8169666559,
          0.8175333226,
          0.8180999892999999,
          0.818666656,
          0.8192333226999999,
          0.8197999894,
          0.8203666560999999,
          0.8209333228,
          0.8214999894999999,
          0.8220666562,
          0.8226333229,
          0.8231999896,
          0.8237666563,
          0.824333323,
          0.8248999897,
          0.8254666563999999,
          0.8260333231,
          0.8265999897999999,
          0.8271666565,
          0.8277333231999999,
          0.8282999899,
          0.8288666566,
          0.8294333233,
          0.82999999,
          0.8305666567,
          0.8311333234,
          0.8316999901,
          0.8322666568,
          0.8328333235,
          0.8333999902,
          0.8339666568999999,
          0.8345333236,
          0.8350999902999999,
          0.835666657,
          0.8362333236999999,
          0.8367999904,
          0.8373666571,
          0.8379333238,
          0.8384999905,
          0.8390666572,
          0.8396333239,
          0.8401999906,
          0.8407666573,
          0.8413333239999999,
          0.8418999907,
          0.8424666573999999,
          0.8430333241,
          0.8435999908,
          0.8441666575,
          0.8447333242,
          0.8452999909,
          0.8458666576,
          0.8464333243,
          0.846999991,
          0.8475666577000001,
          0.8481333244,
          0.8486999910999999,
          0.8492666578,
          0.8498333245,
          0.8503999912,
          0.8509666578999999,
          0.8515333246,
          0.8520999913,
          0.852666658,
          0.8532333247,
          0.8537999914,
          0.8543666581,
          0.8549333248,
          0.8554999915,
          0.8560666582,
          0.8566333249,
          0.8571999915999999,
          0.8577666583,
          0.858333325,
          0.8588999917,
          0.8594666583999999,
          0.8600333251,
          0.8605999918,
          0.8611666585,
          0.8617333252,
          0.8622999919000001,
          0.8628666586,
          0.8634333252999999,
          0.863999992,
          0.8645666587,
          0.8651333254,
          0.8656999920999999,
          0.8662666588,
          0.8668333255,
          0.8673999922,
          0.8679666589,
          0.8685333256,
          0.8690999923,
          0.869666659,
          0.8702333257,
          0.8707999924000001,
          0.8713666591,
          0.8719333257999999,
          0.8724999925,
          0.8730666592,
          0.8736333259,
          0.8741999925999999,
          0.8747666593,
          0.875333326,
          0.8758999927,
          0.8764666594,
          0.8770333261,
          0.8775999928,
          0.8781666595,
          0.8787333262,
          0.8792999929,
          0.8798666596,
          0.8804333262999999,
          0.880999993,
          0.8815666597,
          0.8821333264,
          0.8826999931,
          0.8832666598,
          0.8838333265,
          0.8843999932,
          0.8849666599,
          0.8855333266000001,
          0.8860999933,
          0.8866666599999999,
          0.8872333267,
          0.8877999934,
          0.8883666601,
          0.8889333267999999,
          0.8894999935,
          0.8900666602,
          0.8906333269,
          0.8911999936,
          0.8917666603,
          0.892333327,
          0.8928999937,
          0.8934666604,
          0.8940333271,
          0.8945999938,
          0.8951666604999999,
          0.8957333272,
          0.8962999939,
          0.8968666606,
          0.8974333273,
          0.897999994,
          0.8985666607,
          0.8991333274,
          0.8996999941,
          0.9002666608000001,
          0.9008333275,
          0.9013999941999999,
          0.9019666609,
          0.9025333276,
          0.9030999943,
          0.9036666609999999,
          0.9042333277,
          0.9047999944,
          0.9053666611,
          0.9059333278,
          0.9064999945,
          0.9070666612,
          0.9076333279,
          0.9081999946,
          0.9087666613000001,
          0.909333328,
          0.9098999946999999,
          0.9104666614,
          0.9110333281,
          0.9115999948,
          0.9121666614999999,
          0.9127333282,
          0.9132999949,
          0.9138666616,
          0.9144333283,
          0.9149999950000001,
          0.9155666617,
          0.9161333284,
          0.9166999951,
          0.9172666618,
          0.9178333285,
          0.9183999951999999,
          0.9189666619,
          0.9195333286,
          0.9200999953,
          0.920666662,
          0.9212333287,
          0.9217999954,
          0.9223666621,
          0.9229333288,
          0.9234999955000001,
          0.9240666622,
          0.9246333288999999,
          0.9251999956,
          0.9257666623,
          0.926333329,
          0.9268999956999999,
          0.9274666624,
          0.9280333291,
          0.9285999958,
          0.9291666625,
          0.9297333292,
          0.9302999959,
          0.9308666626,
          0.9314333293,
          0.931999996,
          0.9325666627,
          0.9331333293999999,
          0.9336999961,
          0.9342666628,
          0.9348333295,
          0.9353999962,
          0.9359666629,
          0.9365333296,
          0.9370999963,
          0.937666663,
          0.9382333297000001,
          0.9387999964,
          0.9393666630999999,
          0.9399333298,
          0.9404999965,
          0.9410666632,
          0.9416333298999999,
          0.9421999966,
          0.9427666633,
          0.94333333,
          0.9438999967,
          0.9444666634,
          0.9450333301,
          0.9455999968,
          0.9461666635,
          0.9467333302000001,
          0.9472999969,
          0.9478666635999999,
          0.9484333303,
          0.948999997,
          0.9495666637,
          0.9501333304,
          0.9506999971,
          0.9512666638,
          0.9518333305,
          0.9523999972,
          0.9529666639000001,
          0.9535333306,
          0.9540999973,
          0.954666664,
          0.9552333307,
          0.9557999974,
          0.9563666640999999,
          0.9569333308,
          0.9574999975,
          0.9580666642,
          0.9586333309,
          0.9591999976,
          0.9597666643,
          0.960333331,
          0.9608999977,
          0.9614666644000001,
          0.9620333311,
          0.9625999977999999,
          0.9631666645,
          0.9637333312,
          0.9642999979,
          0.9648666645999999,
          0.9654333313,
          0.965999998,
          0.9665666647,
          0.9671333313999999,
          0.9676999981000001,
          0.9682666648,
          0.9688333315,
          0.9693999982,
          0.9699666649,
          0.9705333316,
          0.9710999982999999,
          0.971666665,
          0.9722333317,
          0.9727999984,
          0.9733666650999999,
          0.9739333318,
          0.9744999985,
          0.9750666652,
          0.9756333319,
          0.9761999986,
          0.9767666653,
          0.9773333319999999,
          0.9778999987,
          0.9784666654,
          0.9790333321,
          0.9795999987999999,
          0.9801666655,
          0.9807333322,
          0.9812999989,
          0.9818666655999999,
          0.9824333323,
          0.982999999,
          0.9835666657,
          0.9841333324,
          0.9846999991,
          0.9852666658,
          0.9858333324999999,
          0.9863999992,
          0.9869666659,
          0.9875333326,
          0.9880999992999999,
          0.988666666,
          0.9892333327,
          0.9897999994,
          0.9903666661,
          0.9909333328,
          0.9914999995,
          0.9920666662,
          0.9926333329,
          0.9931999996,
          0.9937666663,
          0.9943333329999999,
          0.9948999997,
          0.9954666664,
          0.9960333331,
          0.9965999997999999,
          0.9971666665,
          0.9977333332,
          0.9982999999,
          0.9988666666,
          0.9994333333
         ],
         "xaxis": "x",
         "y": [
          0.5177403617780482,
          0.5206063033041178,
          0.5233126509595323,
          0.5258574071422443,
          0.5282387679363848,
          0.5304551274352115,
          0.53250508174136,
          0.5343874326338528,
          0.5361011908919889,
          0.5376455792670582,
          0.5390200350935722,
          0.5402242125325523,
          0.5412579844402398,
          0.5421214438564732,
          0.5428149051078497,
          0.5433389045216985,
          0.54369420074781,
          0.5438817746857891,
          0.5439028290168467,
          0.5437587873397839,
          0.5434512929118758,
          0.5429822069963093,
          0.5423536068187859,
          0.5415677831368426,
          0.5406272374263827,
          0.5395346786908393,
          0.538293019899319,
          0.5369053740609684,
          0.5353750499436973,
          0.5337055474462628,
          0.5319005526335611,
          0.5299639324457928,
          0.5278997290929751,
          0.5257121541470186,
          0.5234055823443483,
          0.5209845451127241,
          0.5184537238366145,
          0.5158179428760642,
          0.5130821623546514,
          0.5102514707326102,
          0.5073310771817764,
          0.5043263037794171,
          0.5012425775384942,
          0.4980854222922302,
          0.4948604504512193,
          0.4915733546516062,
          0.4882298993130691,
          0.48483591212557053,
          0.48139727548394806,
          0.47791991788953453,
          0.4744098053380207,
          0.47087293271278713,
          0.46731531520285136,
          0.4637429797645032,
          0.46016195664551757,
          0.45657827099065446,
          0.45299793454689585,
          0.44942693748657464,
          0.44587124036621884,
          0.44233676623852125,
          0.4388293929344507,
          0.4353549455320036,
          0.431919189027623,
          0.4285278212257078,
          0.4251864658610861,
          0.4219006659686552,
          0.41867587751374247,
          0.4155174632960319,
          0.4124306871391689,
          0.40942070837738254,
          0.40649257664967414,
          0.40365122701131256,
          0.4009014753715,
          0.3982480142652451,
          0.3956954089665521,
          0.3932480939491686,
          0.3909103697001712,
          0.3886863998907842,
          0.38658020890782363,
          0.3845956797482614,
          0.3827365522784016,
          0.38100642185822015,
          0.37940873833045063,
          0.3779468053730245,
          0.3766237802125309,
          0.37544267369538864,
          0.37440635071249323,
          0.37351753097215346,
          0.3727787901152199,
          0.37219256116539207,
          0.37176113630681396,
          0.37148666898018645,
          0.3713711762877878,
          0.37141654169697214,
          0.37162451803091556,
          0.3719967307346199,
          0.3725346814034513,
          0.3732397515607798,
          0.3741132066706353,
          0.375156200370652,
          0.37636977890999274,
          0.37775488577639,
          0.3793123664959348,
          0.38104297358877576,
          0.38294737166348136,
          0.3850261426324308,
          0.3872797910302868,
          0.3897087494173175,
          0.39231338384911085,
          0.3950939993940503,
          0.39805084567978166,
          0.4011841224498524,
          0.4044939851116458,
          0.4079805502568092,
          0.41164390113540167,
          0.4154840930651893,
          0.41950115875763755,
          0.4236951135424509,
          0.42806596047275364,
          0.432613695293398,
          0.43733831125523326,
          0.4422398037586619,
          0.4473181748102775,
          0.4525734372769193,
          0.45800561892210134,
          0.46361476621036385,
          0.46940094786582987,
          0.4753642581719115,
          0.4815048199999442,
          0.48782278755525205,
          0.49431834883007225,
          0.5009917277535518,
          0.5078431860300177,
          0.5148730246576025,
          0.5220815851202897,
          0.5294692502474341,
          0.5370364447358311,
          0.5447836353304214,
          0.5527113306607613,
          0.5608200807314994,
          0.5691104760660844,
          0.5775831465041154,
          0.5862387596537216,
          0.5950780190015501,
          0.6041016616839285,
          0.6133104559239428,
          0.6227051981401559,
          0.6322867097338357,
          0.6420558335625642,
          0.6520134301091233,
          0.6621603733556448,
          0.6724975463738669,
          0.683025836643482,
          0.6937461311113209,
          0.7046593110051824,
          0.7157662464168588,
          0.7270677906698741,
          0.7385647744881201,
          0.7502579999824757,
          0.7621482344730699,
          0.7742362041656589,
          0.7865225877010794,
          0.7990080095974428,
          0.8116930336051681,
          0.8245781559954537,
          0.8376637988032545,
          0.8509503030460964,
          0.8644379219405042,
          0.8781268141379217,
          0.8920170370023612,
          0.9061085399519939,
          0.920401157887132,
          0.9348946047269264,
          0.9495884670771975,
          0.964482198051636,
          0.979575111268459,
          0.9948663750444777,
          1.010355006808127,
          1.0260398677528326,
          1.0419196577515477,
          1.0579929105530226,
          1.0742579892796957,
          1.0907130822467361,
          1.107356199120981,
          1.124185167438043,
          1.1411976294949953,
          1.1583910396354733,
          1.1757626619430297,
          1.193309568357983,
          1.2110286372319425,
          1.2289165523333225,
          1.246969802316289,
          1.2651846806644522,
          1.2835572861197448,
          1.302083523605727,
          1.3207591056536305,
          1.3395795543381688,
          1.3585402037292256,
          1.3776362028641314,
          1.3968625192442956,
          1.4162139428586322,
          1.435685090735008,
          1.455270412019862,
          1.4749641935847173,
          1.4947605661572825,
          1.5146535109734003,
          1.5346368669450687,
          1.5547043383382966,
          1.5748495029535632,
          1.5950658208001556,
          1.6153466432547015,
          1.6356852226927525,
          1.6560747225812884,
          1.6765082280186234,
          1.6969787567072088,
          1.7174792703435444,
          1.7380026864082991,
          1.7585418903387346,
          1.779089748064254,
          1.7996391188850738,
          1.8201828686727444,
          1.8407138833704952,
          1.8612250827701804,
          1.8817094345419245,
          1.9021599684914012,
          1.9225697910190986,
          1.9429320997549988,
          1.9632401983411858,
          1.983487511334539,
          2.0036675992006074,
          2.0237741733694343,
          2.0438011113233197,
          2.063742471686149,
          2.083592509283334,
          2.103345690141042,
          2.122996706393033,
          2.142540491063147,
          2.1619722326911974,
          2.181287389769861,
          2.2004817049600702,
          2.2195512190523052,
          2.238492284641294,
          2.257301579481502,
          2.2759761194912036,
          2.2945132713728666,
          2.3129107648180938,
          2.331166704265486,
          2.34927958018038,
          2.3672482798258048,
          2.3850720974945405,
          2.4027507441728053,
          2.420284356606828,
          2.4376735057442085,
          2.4549192045228767,
          2.472022914981338,
          2.4889865546648213,
          2.5058125023030313,
          2.522503602736186,
          2.53906317106733,
          2.555494996020013,
          2.571803342481745,
          2.58799295321496,
          2.604069049718701,
          2.620037332225617,
          2.6359039788203114,
          2.6516756436668434,
          2.667359454334612,
          2.682963008213591,
          2.69849436801155,
          2.7139620563277083,
          2.729375049298929,
          2.7447427693165287,
          2.7600750768134437,
          2.775382261123522,
          2.7906750304165238,
          2.8059645007142984,
          2.8212621839955867,
          2.836579975398826,
          2.8519301395342183,
          2.8673252959183113,
          2.8827784035462454,
          2.898302744618774,
          2.91391190744307,
          2.9296197685281387,
          2.945440473897695,
          2.9613884196449987,
          2.9774782317561566,
          2.9937247452299216,
          3.0101429825240054,
          3.0267481313594002,
          3.043555521915851,
          3.060580603453292,
          3.077838920395415,
          3.095346087913093,
          3.113117767046582,
          3.131169639406933,
          3.149517381497954,
          3.168176638701504,
          3.187162998969559,
          3.206491966267815,
          3.226178933816113,
          3.246239157171832,
          3.2666877272030863,
          3.287539542998993,
          3.308809284764806,
          3.330511386749875,
          3.3526600102567783,
          3.3752690167799555,
          3.398351941322183,
          3.4219219659370554,
          3.445991893545505,
          3.470574122073896,
          3.495680618960862,
          3.521322896079356,
          3.5475119851198365,
          3.5742584134795545,
          3.601572180702046,
          3.6294627355099136,
          3.657938953472857,
          3.687009115351665,
          3.7166808861574565,
          3.7469612949642923,
          3.7778567155113527,
          3.809372847629749,
          3.8415146995268596,
          3.8742865709597236,
          3.907692037326933,
          3.9417339347066163,
          3.9764143458661505,
          4.011734587267235,
          4.047695197087832,
          4.084295924280316,
          4.121535718683097,
          4.1594127222007655,
          4.1979242610655625,
          4.237066839190633,
          4.276836132623624,
          4.317226985106311,
          4.358233404744486,
          4.399848561789267,
          4.442064787529417,
          4.484873574291685,
          4.528265576544084,
          4.572230613094905,
          4.616757670378237,
          4.661834906814548,
          4.707449658232984,
          4.753588444340095,
          4.80023697621792,
          4.847380164832349,
          4.895002130531167,
          4.943086213509496,
          4.991614985218798,
          5.040570260694113,
          5.089933111772855,
          5.1396838811774295,
          5.189802197432472,
          5.24026699058665,
          5.291056508708075,
          5.342148335121316,
          5.393519406353796,
          5.445146030757954,
          5.497003907775962,
          5.549068147812666,
          5.6013132926828355,
          5.653713336598017,
          5.7062417476586775,
          5.758871489817508,
          5.811575045279411,
          5.86432443730458,
          5.9170912533810665,
          5.96984666873419,
          6.022561470140013,
          6.075206080011659,
          6.127750580727229,
          6.18016473916973,
          6.232418031449461,
          6.284479667781095,
          6.3363186174882244,
          6.387903634109764,
          6.439203280583073,
          6.490185954480495,
          6.540819913277211,
          6.591073299628985,
          6.640914166640496,
          6.690310503105546,
          6.739230258702417,
          6.787641369128241,
          6.835511781158198,
          6.882809477616095,
          6.929502502244855,
          6.975558984465502,
          7.020947164015834,
          7.065635415460106,
          7.1095922725621445,
          7.152786452516067,
          7.195186880029067,
          7.236762711251682,
          7.277483357552102,
          7.317318509131306,
          7.356238158476998,
          7.3942126236542505,
          7.431212571431537,
          7.467209040241314,
          7.502173462973954,
          7.5360776896046495,
          7.568894009652327,
          7.600595174470017,
          7.631154419365414,
          7.660545485550497,
          7.688742641918325,
          7.715720706644873,
          7.741455068612863,
          7.765921708653965,
          7.789097220605044,
          7.810958832172832,
          7.831484425600828,
          7.850652558130715,
          7.868442482249905,
          7.884834165715004,
          7.8998083113401965,
          7.913346376537914,
          7.925430592597795,
          7.936043983688595,
          7.945170385566049,
          7.952794463968421,
          7.958901732679808,
          7.963478571239774,
          7.966512242276505,
          7.9679909084390665,
          7.96790364890296,
          7.96624047542181,
          7.962992347896533,
          7.958151189432182,
          7.951709900851317,
          7.94366237463167,
          7.934003508234877,
          7.922729216791872,
          7.909836445109997,
          7.8953231789658735,
          7.879188455647715,
          7.861432373710094,
          7.8420561019039665,
          7.821061887244591,
          7.798453062179874,
          7.774234050821863,
          7.748410374204414,
          7.720988654530535,
          7.6919766183735545,
          7.661383098796946,
          7.629218036358942,
          7.59549247896891,
          7.5602185805640625,
          7.5234095985763565,
          7.485079890161416,
          7.445244907162967,
          7.403921189788461,
          7.361126358973465,
          7.316879107415335,
          7.27119918925853,
          7.224107408417126,
          7.175625605522448,
          7.125776643487053,
          7.074584391679176,
          7.022073708704516,
          6.968270423796493,
          6.913201316818297,
          6.856894096884045,
          6.799377379610063,
          6.740680663010269,
          6.680834302053696,
          6.61986948190525,
          6.557818189875155,
          6.4947131861054785,
          6.430587973025763,
          6.36547676361391,
          6.29941444850127,
          6.232436561964868,
          6.164579246852458,
          6.095879218490274,
          6.026373727625601,
          5.956100522460057,
          5.885097809831784,
          5.813404215608294,
          5.741058744353835,
          5.668100738337407,
          5.594569835950835,
          5.520505929607344,
          5.445949123193845,
          5.370939689151075,
          5.295518025258294,
          5.219724611199535,
          5.1435999649902815,
          5.067184599343492,
          4.990518978055631,
          4.913643472492566,
          4.836598318256423,
          4.7594235721132945,
          4.682159069262679,
          4.6048443810279585
         ],
         "yaxis": "y"
        },
        {
         "legendgroup": "4",
         "marker": {
          "color": "rgb(255, 127, 14)"
         },
         "mode": "lines",
         "name": "4",
         "showlegend": false,
         "type": "scatter",
         "x": [
          0.6375,
          0.6381749999999999,
          0.6388499999999999,
          0.639525,
          0.6402,
          0.640875,
          0.64155,
          0.6422249999999999,
          0.6428999999999999,
          0.643575,
          0.64425,
          0.644925,
          0.6456,
          0.6462749999999999,
          0.6469499999999999,
          0.647625,
          0.6483,
          0.648975,
          0.64965,
          0.6503249999999999,
          0.6509999999999999,
          0.651675,
          0.65235,
          0.653025,
          0.6537,
          0.6543749999999999,
          0.6550499999999999,
          0.655725,
          0.6564,
          0.657075,
          0.65775,
          0.6584249999999999,
          0.6590999999999999,
          0.659775,
          0.66045,
          0.661125,
          0.6617999999999999,
          0.6624749999999999,
          0.6631499999999999,
          0.663825,
          0.6645,
          0.665175,
          0.6658499999999999,
          0.6665249999999999,
          0.6672,
          0.667875,
          0.66855,
          0.669225,
          0.6698999999999999,
          0.6705749999999999,
          0.6712499999999999,
          0.671925,
          0.6726,
          0.673275,
          0.6739499999999999,
          0.6746249999999999,
          0.6753,
          0.675975,
          0.67665,
          0.677325,
          0.6779999999999999,
          0.6786749999999999,
          0.6793499999999999,
          0.680025,
          0.6807,
          0.681375,
          0.6820499999999999,
          0.6827249999999999,
          0.6834,
          0.684075,
          0.68475,
          0.685425,
          0.6860999999999999,
          0.6867749999999999,
          0.68745,
          0.688125,
          0.6888,
          0.689475,
          0.6901499999999999,
          0.6908249999999999,
          0.6915,
          0.692175,
          0.69285,
          0.693525,
          0.6941999999999999,
          0.6948749999999999,
          0.69555,
          0.696225,
          0.6969,
          0.697575,
          0.6982499999999999,
          0.698925,
          0.6996,
          0.700275,
          0.70095,
          0.7016249999999999,
          0.7022999999999999,
          0.7029749999999999,
          0.70365,
          0.704325,
          0.705,
          0.7056749999999999,
          0.7063499999999999,
          0.707025,
          0.7077,
          0.708375,
          0.70905,
          0.7097249999999999,
          0.7103999999999999,
          0.7110749999999999,
          0.71175,
          0.712425,
          0.7131,
          0.7137749999999999,
          0.7144499999999999,
          0.715125,
          0.7158,
          0.716475,
          0.71715,
          0.7178249999999999,
          0.7184999999999999,
          0.719175,
          0.71985,
          0.720525,
          0.7212,
          0.7218749999999999,
          0.72255,
          0.723225,
          0.7239,
          0.724575,
          0.72525,
          0.7259249999999999,
          0.7265999999999999,
          0.727275,
          0.72795,
          0.728625,
          0.7293,
          0.7299749999999999,
          0.73065,
          0.731325,
          0.732,
          0.732675,
          0.73335,
          0.7340249999999999,
          0.7346999999999999,
          0.735375,
          0.73605,
          0.736725,
          0.7373999999999999,
          0.7380749999999999,
          0.73875,
          0.739425,
          0.7401,
          0.740775,
          0.7414499999999999,
          0.7421249999999999,
          0.7427999999999999,
          0.743475,
          0.74415,
          0.744825,
          0.7454999999999999,
          0.7461749999999999,
          0.74685,
          0.747525,
          0.7482,
          0.748875,
          0.7495499999999999,
          0.7502249999999999,
          0.7508999999999999,
          0.751575,
          0.75225,
          0.752925,
          0.7535999999999999,
          0.7542749999999999,
          0.75495,
          0.755625,
          0.7563,
          0.756975,
          0.7576499999999999,
          0.7583249999999999,
          0.759,
          0.759675,
          0.76035,
          0.761025,
          0.7616999999999999,
          0.762375,
          0.76305,
          0.763725,
          0.7644,
          0.765075,
          0.7657499999999999,
          0.7664249999999999,
          0.7671,
          0.767775,
          0.76845,
          0.769125,
          0.7697999999999999,
          0.770475,
          0.77115,
          0.771825,
          0.7725,
          0.773175,
          0.7738499999999999,
          0.7745249999999999,
          0.7752,
          0.775875,
          0.77655,
          0.7772249999999999,
          0.7778999999999999,
          0.778575,
          0.77925,
          0.779925,
          0.7806,
          0.7812749999999999,
          0.7819499999999999,
          0.7826249999999999,
          0.7833,
          0.783975,
          0.78465,
          0.7853249999999999,
          0.7859999999999999,
          0.786675,
          0.78735,
          0.788025,
          0.7887,
          0.7893749999999999,
          0.7900499999999999,
          0.790725,
          0.7914,
          0.792075,
          0.79275,
          0.7934249999999999,
          0.7941,
          0.794775,
          0.79545,
          0.796125,
          0.7968,
          0.7974749999999999,
          0.7981499999999999,
          0.798825,
          0.7995,
          0.800175,
          0.80085,
          0.8015249999999999,
          0.8022,
          0.802875,
          0.80355,
          0.804225,
          0.8049,
          0.8055749999999999,
          0.8062499999999999,
          0.806925,
          0.8076,
          0.808275,
          0.80895,
          0.8096249999999999,
          0.8103,
          0.810975,
          0.81165,
          0.812325,
          0.813,
          0.8136749999999999,
          0.81435,
          0.815025,
          0.8157,
          0.816375,
          0.8170499999999999,
          0.817725,
          0.8184,
          0.819075,
          0.81975,
          0.820425,
          0.8210999999999999,
          0.8217749999999999,
          0.8224499999999999,
          0.823125,
          0.8238,
          0.824475,
          0.8251499999999999,
          0.825825,
          0.8265,
          0.827175,
          0.82785,
          0.828525,
          0.8291999999999999,
          0.8298749999999999,
          0.8305499999999999,
          0.831225,
          0.8319,
          0.832575,
          0.8332499999999999,
          0.833925,
          0.8346,
          0.835275,
          0.83595,
          0.836625,
          0.8372999999999999,
          0.8379749999999999,
          0.8386499999999999,
          0.839325,
          0.84,
          0.840675,
          0.84135,
          0.842025,
          0.8427,
          0.843375,
          0.84405,
          0.844725,
          0.8453999999999999,
          0.8460749999999999,
          0.8467499999999999,
          0.847425,
          0.8481,
          0.848775,
          0.84945,
          0.850125,
          0.8508,
          0.851475,
          0.85215,
          0.8528249999999999,
          0.8534999999999999,
          0.8541749999999999,
          0.85485,
          0.855525,
          0.8562,
          0.856875,
          0.85755,
          0.858225,
          0.8589,
          0.859575,
          0.86025,
          0.8609249999999999,
          0.8615999999999999,
          0.8622749999999999,
          0.86295,
          0.863625,
          0.8643,
          0.8649749999999999,
          0.86565,
          0.866325,
          0.867,
          0.867675,
          0.86835,
          0.8690249999999999,
          0.8696999999999999,
          0.870375,
          0.87105,
          0.871725,
          0.8724,
          0.8730749999999999,
          0.87375,
          0.874425,
          0.8751,
          0.875775,
          0.87645,
          0.8771249999999999,
          0.8777999999999999,
          0.878475,
          0.87915,
          0.879825,
          0.8805,
          0.8811749999999999,
          0.88185,
          0.882525,
          0.8832,
          0.883875,
          0.88455,
          0.8852249999999999,
          0.8858999999999999,
          0.886575,
          0.88725,
          0.887925,
          0.8886000000000001,
          0.889275,
          0.88995,
          0.890625,
          0.8913,
          0.891975,
          0.8926499999999999,
          0.8933249999999999,
          0.8939999999999999,
          0.8946749999999999,
          0.89535,
          0.8960250000000001,
          0.8967,
          0.897375,
          0.89805,
          0.898725,
          0.8994,
          0.900075,
          0.9007499999999999,
          0.9014249999999999,
          0.9020999999999999,
          0.902775,
          0.90345,
          0.904125,
          0.9048,
          0.905475,
          0.90615,
          0.906825,
          0.9075,
          0.908175,
          0.9088499999999999,
          0.9095249999999999,
          0.9102,
          0.9108749999999999,
          0.91155,
          0.912225,
          0.9129,
          0.913575,
          0.91425,
          0.914925,
          0.9156,
          0.916275,
          0.9169499999999999,
          0.9176249999999999,
          0.9182999999999999,
          0.918975,
          0.91965,
          0.9203250000000001,
          0.9209999999999999,
          0.921675,
          0.92235,
          0.923025,
          0.9237,
          0.924375,
          0.9250499999999999,
          0.9257249999999999,
          0.9264,
          0.927075,
          0.92775,
          0.928425,
          0.9291,
          0.929775,
          0.93045,
          0.931125,
          0.9318,
          0.9324749999999999,
          0.9331499999999999,
          0.933825,
          0.9344999999999999,
          0.935175,
          0.93585,
          0.936525,
          0.9372,
          0.937875,
          0.93855,
          0.939225,
          0.9399,
          0.9405749999999999,
          0.9412499999999999,
          0.9419249999999999,
          0.9426,
          0.943275,
          0.9439500000000001,
          0.9446249999999999,
          0.9453,
          0.945975,
          0.94665,
          0.947325,
          0.948,
          0.9486749999999999,
          0.9493499999999999,
          0.950025,
          0.9507,
          0.951375,
          0.95205,
          0.952725,
          0.9534,
          0.954075,
          0.95475,
          0.955425,
          0.9561,
          0.9567749999999999,
          0.95745,
          0.9581249999999999,
          0.9588,
          0.959475,
          0.9601500000000001,
          0.960825,
          0.9615,
          0.962175,
          0.96285,
          0.963525,
          0.9642,
          0.9648749999999999,
          0.9655499999999999,
          0.966225,
          0.9669,
          0.9675750000000001,
          0.9682499999999999,
          0.968925,
          0.9696,
          0.970275,
          0.97095,
          0.971625,
          0.9722999999999999,
          0.9729749999999999,
          0.97365,
          0.974325
         ],
         "xaxis": "x",
         "y": [
          0.9609888668913539,
          0.9694208178761545,
          0.9776644363386533,
          0.9857154678669268,
          0.9935698863786322,
          1.0012239024736538,
          1.0086739714772002,
          1.015916801154556,
          1.0229493590791507,
          1.029768879636199,
          1.036372870644776,
          1.042759119581852,
          1.0489256993925027,
          1.054870973871274,
          1.0605936026004796,
          1.066092545432016,
          1.071367066500177,
          1.0764167377538545,
          1.0812414419974332,
          1.0858413754307061,
          1.0902170496791037,
          1.0943692933065945,
          1.0982992528046644,
          1.102008393051878,
          1.1054984972396114,
          1.1087716662607041,
          1.1118303175588788,
          1.1146771834379727,
          1.1173153088311494,
          1.1197480485314604,
          1.1219790638862768,
          1.1240123189593083,
          1.125852076165082,
          1.1275028913819334,
          1.1289696085507304,
          1.1302573537676786,
          1.1313715288807251,
          1.1323178046001734,
          1.1331021131352437,
          1.1337306403693783,
          1.1342098175881612,
          1.1345463127747426,
          1.1347470214886526,
          1.1348190573448678,
          1.1347697421109129,
          1.1346065954406779,
          1.134337324264482,
          1.1339698118557335,
          1.1335121065952873,
          1.1329724104553422,
          1.1323590672253694,
          1.1316805505032053,
          1.1309454514750055,
          1.1301624665082628,
          1.1293403845825785,
          1.128488074583256,
          1.1276144724831552,
          1.1267285684385318,
          1.1258393938248057,
          1.1249560082383994,
          1.124087486490872,
          1.1232429056216517,
          1.122431331955634,
          1.12166180823187,
          1.1209433408294098,
          1.1202848871161928,
          1.1196953429466134,
          1.1191835303330835,
          1.1187581853165245,
          1.118427946060317,
          1.118201341191712,
          1.1180867784141906,
          1.1180925334136387,
          1.118226739080549,
          1.1184973750697618,
          1.1189122577184825,
          1.119479030342511,
          1.120205153929758,
          1.1210978982492212,
          1.1221643333926414,
          1.1234113217650756,
          1.1248455105395978,
          1.1264733245902603,
          1.1283009599163674,
          1.130334377569976,
          1.1325792980973688,
          1.135041196504075,
          1.1377252977517998,
          1.1406365727943875,
          1.1437797351587087,
          1.1471592380750923,
          1.1507792721606458,
          1.1546437636575435,
          1.1587563732270594,
          1.1631204952988348,
          1.1677392579735872,
          1.1726155234761855,
          1.1777518891547256,
          1.1831506890199948,
          1.1888139958184214,
          1.1947436236304376,
          1.2009411309848708,
          1.207407824478866,
          1.214144762891627,
          1.2211527617791191,
          1.2284323985358045,
          1.235984017908332,
          1.2438077379451324,
          1.2519034563648164,
          1.2602708573253292,
          1.2689094185748944,
          1.277818418964887,
          1.2869969463039923,
          1.296443905532162,
          1.306158027192219,
          1.3161378761762497,
          1.3263818607233082,
          1.336888241644427,
          1.3476551417503706,
          1.3586805554571655,
          1.3699623585440441,
          1.381498318038105,
          1.3932861021997307,
          1.4053232905826272,
          1.4176073841421606,
          1.4301358153656334,
          1.4429059583981168,
          1.4559151391374783,
          1.4691606452724142,
          1.4826397362373827,
          1.4963496530586484,
          1.5102876280659037,
          1.52445089444427,
          1.5388366956019675,
          1.5534422943293065,
          1.5682649817252623,
          1.5833020858684808,
          1.5985509802101168,
          1.6140090916666896,
          1.6296739083918081,
          1.6455429872064782,
          1.6616139606684313,
          1.6778845437618957,
          1.6943525401900863,
          1.7110158482536746,
          1.727872466299482,
          1.7449204977246604,
          1.7621581555227464,
          1.7795837663589713,
          1.797195774163402,
          1.8149927432316342,
          1.8329733608238514,
          1.8511364392543743,
          1.869480917464883,
          1.8880058620758273,
          1.9067104679117288,
          1.9255940579972786,
          1.9446560830224553,
          1.9638961202760374,
          1.983313872048262,
          2.002909163504452,
          2.022681940032848,
          2.0426322640710044,
          2.0627603114163535,
          2.083066367027816,
          2.1035508203264115,
          2.124214160004132,
          2.145056968351416,
          2.1660799151147447,
          2.187283750896981,
          2.2086693001141424,
          2.2302374535234675,
          2.25198916033849,
          2.2739254199480237,
          2.2960472732568142,
          2.3183557936665977,
          2.3408520777172335,
          2.363537235408352,
          2.3864123802228927,
          2.4094786188746333,
          2.4327370408025355,
          2.4561887074355435,
          2.47983464125195,
          2.5036758146582345,
          2.5277131387127523,
          2.5519474517201846,
          2.5763795077231104,
          2.601009964917609,
          2.6258393740199653,
          2.650868166612073,
          2.676096643493293,
          2.7015249630667926,
          2.7271531297885394,
          2.752980982707234,
          2.779008184123623,
          2.805234208397475,
          2.831658330930616,
          2.8582796173542993,
          2.885096912948898,
          2.9121088323239848,
          2.9393137493862516,
          2.9667097876227237,
          2.9942948107261698,
          3.02206641358925,
          3.0500219136934588,
          3.0781583429183574,
          3.106472439796115,
          3.134960642235519,
          3.16361908073916,
          3.192443572136593,
          3.221429613855462,
          3.2505723787518983,
          3.279866710520296,
          3.309307119701874,
          3.3388877803102806,
          3.368602527091454,
          3.3984448534338303,
          3.428407909943838,
          3.4584845037004435,
          3.488667098201117,
          3.5189478140104455,
          3.5493184301211747,
          3.5797703860360577,
          3.6102947845775613,
          3.640882395430869,
          3.671523659424183,
          3.702208693548834,
          3.732927296720042,
          3.7636689562775825,
          3.7944228552241204,
          3.8251778801970437,
          3.8559226301682883,
          3.886645425864634,
          3.9173343198995645,
          3.9479771076057375,
          3.9785613385556613,
          4.0090743287563395,
          4.039503173501855,
          4.0698347608662715,
          4.100055785817451,
          4.130152764930672,
          4.16011205167933,
          4.18991985227825,
          4.219562242053587,
          4.249025182311647,
          4.278294537677439,
          4.3073560938722535,
          4.336195575898007,
          4.364798666594787,
          4.393151025536632,
          4.421238308229216,
          4.449046185571991,
          4.476560363546028,
          4.503766603087925,
          4.530650740108857,
          4.55719870561721,
          4.5833965459022155,
          4.609230442735327,
          4.634686733545521,
          4.6597519315239815,
          4.68441274561339,
          4.708656100336625,
          4.732469155419464,
          4.755839325161803,
          4.778754297511995,
          4.801202052798907,
          4.823170882076734,
          4.844649405037851,
          4.86562658744961,
          4.886091758071607,
          4.906034625010622,
          4.925445291471484,
          4.944314270863004,
          4.962632501219367,
          4.980391358898528,
          4.997582671520719,
          5.014198730111481,
          5.030232300415506,
          5.045676633349067,
          5.060525474560921,
          5.074773073073337,
          5.088414188977115,
          5.101444100156545,
          5.11385860802255,
          5.125654042234652,
          5.136827264394726,
          5.1473756706981515,
          5.157297193530428,
          5.166590302000077,
          5.175254001401244,
          5.183287831602257,
          5.190691864359054,
          5.197466699555403,
          5.203613460374464,
          5.209133787409216,
          5.2140298317221205,
          5.21830424686723,
          5.221960179890755,
          5.225001261329021,
          5.2274315942254015,
          5.229255742190711,
          5.230478716534121,
          5.231105962494353,
          5.231143344603506,
          5.230597131218336,
          5.22947397825621,
          5.227780912175364,
          5.225525312241178,
          5.222714892122481,
          5.219357680863684,
          5.215462003280608,
          5.211036459829487,
          5.206089906000322,
          5.200631431287126,
          5.19467033778904,
          5.188216118497372,
          5.181278435324606,
          5.1738670969323834,
          5.16599203641597,
          5.15766328890337,
          5.1488909691275,
          5.139685249030016,
          5.130056335455409,
          5.120014447993696,
          5.109569797029789,
          5.098732562057008,
          5.087512870311488,
          5.075920775783348,
          5.06396623865948,
          5.051659105251504,
          5.039009088461092,
          5.0260257488333355,
          5.012718476247063,
          4.999096472289188,
          4.985168733358236,
          4.970944034539896,
          4.956430914295332,
          4.941637660000561,
          4.92657229437257,
          4.911242562815476,
          4.89565592171696,
          4.8798195277228125,
          4.863740228014164,
          4.847424551609249,
          4.83087870170841,
          4.814108549098,
          4.797119626625741,
          4.779917124756886,
          4.762505888217386,
          4.7448904137271075,
          4.727074848822833,
          4.709062991767768,
          4.69085829254088,
          4.672463854896562,
          4.653882439481667,
          4.63511646799421,
          4.616168028364854,
          4.597038880939464,
          4.577730465638107,
          4.558243910063215,
          4.53858003852683,
          4.518739381964403,
          4.498722188700133,
          4.478528436026462,
          4.458157842558218,
          4.437609881319763,
          4.416883793521579,
          4.3959786029809775,
          4.374893131139934,
          4.353626012631593,
          4.332175711345623,
          4.31054053694148,
          4.288718661757621,
          4.266708138063876,
          4.24450691560345,
          4.222112859370676,
          4.1995237675701445,
          4.176737389702825,
          4.15375144472464,
          4.130563639223305,
          4.1071716855594556,
          4.083573319918624,
          4.059766320221342,
          4.035748523839419,
          4.011517845067395,
          3.9870722922993704,
          3.9624099848626546,
          3.9375291694609937,
          3.912428236181858,
          3.887105734023729,
          3.861560385901324,
          3.835791103088374,
          3.809796999059789,
          3.783577402696987,
          3.7571318708224917,
          3.7304602000320175,
          3.7035624377948126,
          3.676438892795336,
          3.6490901444917307,
          3.6215170518693776,
          3.593720761370042,
          3.5657027139799506,
          3.53746465146269,
          3.509008621725449,
          3.480336983309793,
          3.4514524090008023,
          3.422357888550955,
          3.3930567305180057,
          3.363552563218262,
          3.3338493347997153,
          3.3039513124415194,
          3.273863080689169,
          3.2435895389368357,
          3.2131358980708122,
          3.1825076762902365,
          3.1517106941234236,
          3.1207510686603124,
          3.089635207023451,
          3.058369799101984,
          3.0269618095747526,
          2.9954184692505903,
          2.963747265755149,
          2.9319559335955914,
          2.9000524436352304,
          2.86804499201211,
          2.8359419885361934,
          2.8037520446010884,
          2.7714839606470867,
          2.7391467132130396,
          2.706749441615352,
          2.67430143429271,
          2.6418121148558362,
          2.6092910278816284,
          2.5767478244912403,
          2.5441922477518437,
          2.511634117941568,
          2.4790833177169214,
          2.446549777221879,
          2.414043459177148,
          2.381574343987755,
          2.3491524149064547,
          2.3167876432895333,
          2.284489973981182,
          2.2522693108610525,
          2.2201355025892835,
          2.1880983285815763,
          2.1561674852462045,
          2.124352572513257,
          2.092663080685286,
          2.061108377637076,
          2.029697696390818,
          1.998440123091511,
          1.9673445854058587,
          1.9364198413663603,
          1.9056744686806344,
          1.8751168545245511,
          1.8447551858357607,
          1.8145974401229892,
          1.7846513768042507,
          1.7549245290859055,
          1.7254241963925045,
          1.696157437355761,
          1.667131063369327,
          1.6383516327143455,
          1.609825445259152,
          1.5815585377347725,
          1.5535566795864504,
          1.525825369399684,
          1.4983698318978798,
          1.4711950155071256,
          1.4443055904823041,
          1.4177059475872213,
          1.3914001973202215,
          1.3653921696753908,
          1.3396854144283015,
          1.3142832019340749,
          1.2891885244243408,
          1.2644040977889288,
          1.2399323638267226,
          1.2157754929496931,
          1.1919353873228886,
          1.1684136844227202,
          1.1452117609949684,
          1.1223307373934979,
          1.0997714822799534,
          1.0775346176644334,
          1.0556205242665881,
          1.034029347176309,
          1.0127610017929827,
          0.991815180021948,
          0.9711913567068889,
          0.9508887962765694,
          0.9309065595846712,
          0.9112435109211702,
          0.8918983251742045,
          0.8728694951213282,
          0.8541553388293959,
          0.8357540071426369,
          0.8176634912387977,
          0.7998816302336994
         ],
         "yaxis": "y"
        },
        {
         "legendgroup": "5",
         "marker": {
          "color": "rgb(44, 160, 44)"
         },
         "mode": "lines",
         "name": "5",
         "showlegend": false,
         "type": "scatter",
         "x": [
          0.59,
          0.59046,
          0.59092,
          0.59138,
          0.5918399999999999,
          0.5922999999999999,
          0.59276,
          0.59322,
          0.59368,
          0.59414,
          0.5946,
          0.5950599999999999,
          0.5955199999999999,
          0.59598,
          0.59644,
          0.5969,
          0.59736,
          0.59782,
          0.5982799999999999,
          0.5987399999999999,
          0.5992,
          0.59966,
          0.60012,
          0.60058,
          0.60104,
          0.6014999999999999,
          0.6019599999999999,
          0.60242,
          0.60288,
          0.60334,
          0.6038,
          0.6042599999999999,
          0.6047199999999999,
          0.6051799999999999,
          0.60564,
          0.6061,
          0.60656,
          0.60702,
          0.6074799999999999,
          0.6079399999999999,
          0.6083999999999999,
          0.60886,
          0.60932,
          0.60978,
          0.61024,
          0.6106999999999999,
          0.6111599999999999,
          0.6116199999999999,
          0.61208,
          0.61254,
          0.613,
          0.61346,
          0.6139199999999999,
          0.6143799999999999,
          0.6148399999999999,
          0.6153,
          0.61576,
          0.61622,
          0.61668,
          0.6171399999999999,
          0.6175999999999999,
          0.6180599999999999,
          0.61852,
          0.61898,
          0.61944,
          0.6199,
          0.6203599999999999,
          0.6208199999999999,
          0.6212799999999999,
          0.62174,
          0.6222,
          0.62266,
          0.6231199999999999,
          0.6235799999999999,
          0.6240399999999999,
          0.6244999999999999,
          0.62496,
          0.62542,
          0.62588,
          0.6263399999999999,
          0.6267999999999999,
          0.6272599999999999,
          0.62772,
          0.62818,
          0.62864,
          0.6291,
          0.6295599999999999,
          0.6300199999999999,
          0.6304799999999999,
          0.63094,
          0.6314,
          0.63186,
          0.63232,
          0.6327799999999999,
          0.6332399999999999,
          0.6336999999999999,
          0.63416,
          0.63462,
          0.63508,
          0.63554,
          0.6359999999999999,
          0.6364599999999999,
          0.6369199999999999,
          0.63738,
          0.63784,
          0.6383,
          0.63876,
          0.6392199999999999,
          0.6396799999999999,
          0.6401399999999999,
          0.6406,
          0.64106,
          0.64152,
          0.64198,
          0.6424399999999999,
          0.6428999999999999,
          0.6433599999999999,
          0.64382,
          0.64428,
          0.64474,
          0.6451999999999999,
          0.6456599999999999,
          0.6461199999999999,
          0.6465799999999999,
          0.64704,
          0.6475,
          0.64796,
          0.6484199999999999,
          0.6488799999999999,
          0.6493399999999999,
          0.6497999999999999,
          0.65026,
          0.65072,
          0.65118,
          0.6516399999999999,
          0.6520999999999999,
          0.6525599999999999,
          0.6530199999999999,
          0.65348,
          0.65394,
          0.6543999999999999,
          0.6548599999999999,
          0.6553199999999999,
          0.6557799999999999,
          0.6562399999999999,
          0.6567,
          0.65716,
          0.6576199999999999,
          0.6580799999999999,
          0.6585399999999999,
          0.6589999999999999,
          0.6594599999999999,
          0.65992,
          0.66038,
          0.6608399999999999,
          0.6612999999999999,
          0.6617599999999999,
          0.6622199999999999,
          0.6626799999999999,
          0.66314,
          0.6636,
          0.6640599999999999,
          0.6645199999999999,
          0.6649799999999999,
          0.6654399999999999,
          0.6658999999999999,
          0.66636,
          0.66682,
          0.6672799999999999,
          0.6677399999999999,
          0.6681999999999999,
          0.6686599999999999,
          0.6691199999999999,
          0.66958,
          0.67004,
          0.6704999999999999,
          0.6709599999999999,
          0.6714199999999999,
          0.6718799999999999,
          0.6723399999999999,
          0.6728,
          0.67326,
          0.6737199999999999,
          0.6741799999999999,
          0.6746399999999999,
          0.6750999999999999,
          0.6755599999999999,
          0.67602,
          0.67648,
          0.6769399999999999,
          0.6773999999999999,
          0.6778599999999999,
          0.6783199999999999,
          0.6787799999999999,
          0.67924,
          0.6797,
          0.6801599999999999,
          0.6806199999999999,
          0.6810799999999999,
          0.6815399999999999,
          0.6819999999999999,
          0.68246,
          0.68292,
          0.6833799999999999,
          0.6838399999999999,
          0.6842999999999999,
          0.6847599999999999,
          0.6852199999999999,
          0.68568,
          0.68614,
          0.6865999999999999,
          0.6870599999999999,
          0.6875199999999999,
          0.6879799999999999,
          0.6884399999999999,
          0.6889,
          0.68936,
          0.6898199999999999,
          0.6902799999999999,
          0.6907399999999999,
          0.6911999999999999,
          0.6916599999999999,
          0.69212,
          0.6925799999999999,
          0.6930399999999999,
          0.6934999999999999,
          0.6939599999999999,
          0.6944199999999999,
          0.6948799999999999,
          0.69534,
          0.6957999999999999,
          0.6962599999999999,
          0.6967199999999999,
          0.6971799999999999,
          0.6976399999999999,
          0.6980999999999999,
          0.69856,
          0.6990199999999999,
          0.6994799999999999,
          0.6999399999999999,
          0.7003999999999999,
          0.7008599999999999,
          0.7013199999999999,
          0.70178,
          0.7022399999999999,
          0.7026999999999999,
          0.7031599999999999,
          0.7036199999999999,
          0.7040799999999999,
          0.7045399999999999,
          0.7049999999999998,
          0.7054599999999999,
          0.7059199999999999,
          0.7063799999999999,
          0.7068399999999999,
          0.7072999999999999,
          0.70776,
          0.7082199999999998,
          0.7086799999999999,
          0.7091399999999999,
          0.7095999999999999,
          0.7100599999999999,
          0.7105199999999999,
          0.71098,
          0.7114399999999999,
          0.7118999999999999,
          0.7123599999999999,
          0.7128199999999999,
          0.7132799999999999,
          0.7137399999999999,
          0.7142,
          0.7146599999999999,
          0.7151199999999999,
          0.7155799999999999,
          0.7160399999999999,
          0.7164999999999999,
          0.7169599999999999,
          0.71742,
          0.7178799999999999,
          0.7183399999999999,
          0.7187999999999999,
          0.7192599999999999,
          0.7197199999999999,
          0.7201799999999999,
          0.72064,
          0.7210999999999999,
          0.7215599999999999,
          0.7220199999999999,
          0.7224799999999999,
          0.7229399999999999,
          0.7233999999999998,
          0.72386,
          0.7243199999999999,
          0.7247799999999999,
          0.7252399999999999,
          0.7256999999999999,
          0.7261599999999999,
          0.7266199999999998,
          0.72708,
          0.7275399999999999,
          0.7279999999999999,
          0.7284599999999999,
          0.7289199999999999,
          0.7293799999999999,
          0.7298399999999998,
          0.7303,
          0.7307599999999999,
          0.7312199999999999,
          0.7316799999999999,
          0.7321399999999999,
          0.7325999999999999,
          0.7330599999999998,
          0.73352,
          0.7339799999999999,
          0.7344399999999999,
          0.7348999999999999,
          0.7353599999999999,
          0.7358199999999999,
          0.7362799999999998,
          0.73674,
          0.7371999999999999,
          0.7376599999999999,
          0.7381199999999999,
          0.7385799999999999,
          0.7390399999999999,
          0.7394999999999998,
          0.73996,
          0.7404199999999999,
          0.7408799999999999,
          0.7413399999999999,
          0.7417999999999999,
          0.7422599999999999,
          0.7427199999999998,
          0.74318,
          0.7436399999999999,
          0.7440999999999999,
          0.7445599999999999,
          0.7450199999999999,
          0.7454799999999999,
          0.7459399999999998,
          0.7464,
          0.7468599999999999,
          0.7473199999999999,
          0.7477799999999999,
          0.7482399999999999,
          0.7486999999999999,
          0.7491599999999998,
          0.74962,
          0.7500799999999999,
          0.7505399999999999,
          0.7509999999999999,
          0.7514599999999999,
          0.7519199999999999,
          0.7523799999999998,
          0.75284,
          0.7532999999999999,
          0.7537599999999999,
          0.7542199999999999,
          0.7546799999999999,
          0.7551399999999999,
          0.7555999999999998,
          0.75606,
          0.7565199999999999,
          0.7569799999999999,
          0.7574399999999999,
          0.7578999999999998,
          0.7583599999999999,
          0.7588199999999998,
          0.7592799999999998,
          0.7597399999999999,
          0.7601999999999999,
          0.7606599999999999,
          0.7611199999999998,
          0.7615799999999999,
          0.7620399999999998,
          0.7624999999999998,
          0.7629599999999999,
          0.7634199999999999,
          0.7638799999999999,
          0.7643399999999998,
          0.7647999999999999,
          0.7652599999999998,
          0.7657199999999998,
          0.7661799999999999,
          0.7666399999999999,
          0.7670999999999999,
          0.7675599999999998,
          0.7680199999999999,
          0.7684799999999998,
          0.7689399999999998,
          0.7693999999999999,
          0.7698599999999999,
          0.7703199999999999,
          0.7707799999999998,
          0.7712399999999999,
          0.7716999999999998,
          0.7721599999999998,
          0.7726199999999999,
          0.7730799999999999,
          0.7735399999999999,
          0.7739999999999998,
          0.7744599999999999,
          0.7749199999999998,
          0.7753799999999998,
          0.7758399999999999,
          0.7762999999999999,
          0.7767599999999999,
          0.7772199999999998,
          0.7776799999999999,
          0.7781399999999998,
          0.7785999999999998,
          0.7790599999999999,
          0.7795199999999999,
          0.7799799999999999,
          0.7804399999999998,
          0.7808999999999999,
          0.7813599999999998,
          0.7818199999999998,
          0.7822799999999999,
          0.7827399999999999,
          0.7831999999999999,
          0.7836599999999998,
          0.7841199999999999,
          0.7845799999999998,
          0.7850399999999998,
          0.7854999999999999,
          0.7859599999999999,
          0.7864199999999999,
          0.7868799999999998,
          0.7873399999999998,
          0.7877999999999998,
          0.7882599999999998,
          0.7887199999999999,
          0.7891799999999999,
          0.7896399999999999,
          0.7900999999999998,
          0.7905599999999998,
          0.7910199999999998,
          0.7914799999999999,
          0.7919399999999999,
          0.7923999999999999,
          0.7928599999999999,
          0.7933199999999998,
          0.7937799999999998,
          0.7942399999999998,
          0.7946999999999999,
          0.7951599999999999,
          0.7956199999999999,
          0.7960799999999999,
          0.7965399999999998,
          0.7969999999999998,
          0.7974599999999998,
          0.7979199999999999,
          0.7983799999999999,
          0.7988399999999999,
          0.7992999999999999,
          0.7997599999999998,
          0.8002199999999998,
          0.8006799999999998,
          0.8011399999999999,
          0.8015999999999999,
          0.8020599999999999,
          0.8025199999999999,
          0.8029799999999998,
          0.8034399999999998,
          0.8038999999999998,
          0.8043599999999999,
          0.8048199999999999,
          0.8052799999999999,
          0.8057399999999999,
          0.8061999999999998,
          0.8066599999999998,
          0.8071199999999998,
          0.8075799999999999,
          0.8080399999999999,
          0.8084999999999999,
          0.8089599999999999,
          0.8094199999999998,
          0.8098799999999998,
          0.8103399999999998,
          0.8107999999999999,
          0.8112599999999999,
          0.8117199999999999,
          0.8121799999999999,
          0.8126399999999998,
          0.8130999999999998,
          0.8135599999999998,
          0.8140199999999999,
          0.8144799999999999,
          0.8149399999999999,
          0.8153999999999998,
          0.8158599999999998,
          0.8163199999999998,
          0.8167799999999998,
          0.8172399999999999,
          0.8176999999999999,
          0.8181599999999999,
          0.8186199999999998,
          0.8190799999999998,
          0.8195399999999998
         ],
         "xaxis": "x",
         "y": [
          1.9542833593195765,
          1.9666311983835223,
          1.9787756382310369,
          1.9907140722696661,
          2.002444046795297,
          2.0139632637052745,
          2.025269583068155,
          2.036361025546764,
          2.047235774671159,
          2.057892178958379,
          2.0683287538761292,
          2.0785441836475638,
          2.088537322894784,
          2.0983071981185555,
          2.107853009012324,
          2.1171741296084763,
          2.126270109255282,
          2.1351406734229785,
          2.1437857243378153,
          2.1522053414430093,
          2.1603997816858445,
          2.168369479630335,
          2.17611504739514,
          2.183637274416597,
          2.1909371270370253,
          2.1980157479186078,
          2.2048744552834822,
          2.2115147419807752,
          2.2179382743816847,
          2.224146891103769,
          2.2301426015660217,
          2.235927584376297,
          2.2415041855531146,
          2.246874916583842,
          2.25204245232169,
          2.2570096287239463,
          2.261779440434267,
          2.2663550382118864,
          2.2707397262109024,
          2.2749369591129187,
          2.27895033911654,
          2.2827836127873606,
          2.286440667772313,
          2.289925529382311,
          2.293242357047387,
          2.29639544064858,
          2.2993891967310445,
          2.3022281646029223,
          2.304917002324714,
          2.307460482593939,
          2.309863488530053,
          2.3121310093646428,
          2.314268136042036,
          2.316280056735582,
          2.3181720522848663,
          2.319949491559295,
          2.321617826753458,
          2.323182588619783,
          2.324649381644054,
          2.3260238791693477,
          2.3273118184740533,
          2.3285189958095907,
          2.329651261403495,
          2.330714514433548,
          2.3317146979786045,
          2.332657793951779,
          2.3335498180216177,
          2.3343968145268814,
          2.3352048513905017,
          2.3359800150382535,
          2.3367284053276145,
          2.3374561304922556,
          2.338169302107508,
          2.3388740300821125,
          2.339576417681437,
          2.3402825565873284,
          2.3409985219995857,
          2.3417303677840238,
          2.342484121671941,
          2.3432657805157215,
          2.344081305605151,
          2.3449366180489633,
          2.3458375942259435,
          2.346790061309813,
          2.3477997928719945,
          2.3488725045661947,
          2.3500138498985956,
          2.3512294160873135,
          2.352524720014629,
          2.3539052042753137,
          2.3553762333242525,
          2.3569430897263643,
          2.358610970511709,
          2.360384983638434,
          2.362270144566124,
          2.3642713729418716,
          2.3663934894012866,
          2.36864121248643,
          2.37101915568254,
          2.373531824575184,
          2.3761836141293773,
          2.3789788060919452,
          2.3819215665183298,
          2.3850159434247744,
          2.388265864566737,
          2.3916751353441494,
          2.3952474368340235,
          2.398986323950675,
          2.4028952237337666,
          2.406977433764101,
          2.411236120707035,
          2.4156743189831653,
          2.4202949295658014,
          2.425100718904619,
          2.430094317974685,
          2.4352782214499653,
          2.440654787000227,
          2.446226234710159,
          2.4519946466193954,
          2.457961966381949,
          2.4641299990435277,
          2.4705004109350046,
          2.477074729680251,
          2.483854344316396,
          2.4908405055245386,
          2.4980343259687143,
          2.505436780740988,
          2.513048707910285,
          2.520870809172659,
          2.528903650600417,
          2.537147663487691,
          2.545603145289734,
          2.554270260653314,
          2.5631490425354877,
          2.5722393934079237,
          2.5815410865439974,
          2.5910537673857132,
          2.60077695498762,
          2.610710043534702,
          2.6208523039313367,
          2.631202885458263,
          2.641760817494638,
          2.65252501130204,
          2.6634942618675237,
          2.674667249802595,
          2.6860425432951534,
          2.697618600111311,
          2.7093937696441786,
          2.721366295006535,
          2.7335343151644813,
          2.7458958671091067,
          2.7584488880632865,
          2.771191217720684,
          2.784120600514202,
          2.7972346879109757,
          2.8105310407313007,
          2.8240071314886332,
          2.8376603467481654,
          2.851487989501265,
          2.865487281553337,
          2.8796553659225466,
          2.8939893092470883,
          2.9084861041985732,
          2.9231426718993307,
          2.937955864341353,
          2.9529224668048593,
          2.9680392002742875,
          2.983302723849893,
          2.9987096371529,
          3.014256482722554,
          3.0299397484031654,
          3.045755869719659,
          3.0617012322399244,
          3.0777721739225803,
          3.0939649874486572,
          3.110275922535988,
          3.1267011882349705,
          3.143236955204619,
          3.159879357967795,
          3.1766244971447053,
          3.193468441663678,
          3.2104072309484777,
          3.227436877081372,
          3.244553366941381,
          3.261752664316976,
          3.2790307119929594,
          3.2963834338108726,
          3.3138067367027992,
          3.331296512698105,
          3.3488486409030975,
          3.366458989453311,
          3.384123417438487,
          3.40183777680015,
          3.4195979142019537,
          3.4373996728727843,
          3.455238894422968,
          3.4731114206336358,
          3.4910130952197425,
          3.5089397655668377,
          3.5268872844422225,
          3.5448515116806867,
          3.5628283158454805,
          3.5808135758648736,
          3.598803182644939,
          3.6167930406590494,
          3.6347790695147313,
          3.6527572054984216,
          3.6707234030988447,
          3.688673636509542,
          3.70660390111132,
          3.7245102149351585,
          3.7423886201064147,
          3.760235184270767,
          3.77804600200278,
          3.795817196197595,
          3.8135449194465054,
          3.8312253553969295,
          3.8488547200975356,
          3.8664292633290147,
          3.883945269921102,
          3.90139906105641,
          3.9187869955616015,
          3.936105471186299,
          3.9533509258703323,
          3.9705198389995546,
          3.987608732650721,
          4.004614172825674,
          4.021532770675191,
          4.03836118371257,
          4.055096117017312,
          4.07173432442881,
          4.08827260973031,
          4.104707827822905,
          4.121036885889757,
          4.137256744550178,
          4.153364419003554,
          4.169356980162757,
          4.185231555776767,
          4.200985331542088,
          4.216615552202521,
          4.23211952263673,
          4.247494608933064,
          4.262738239450878,
          4.2778479058677314,
          4.292821164211514,
          4.307655635876797,
          4.322349008624257,
          4.336899037562401,
          4.351303546110276,
          4.365560426940207,
          4.3796676428992445,
          4.393623227908123,
          4.407425287836309,
          4.421072001351881,
          4.434561620744679,
          4.447892472721279,
          4.4610629591702695,
          4.474071557896152,
          4.486916823320359,
          4.499597387147514,
          4.512111958995454,
          4.524459326987014,
          4.536638358302007,
          4.54864799968741,
          4.5604872779240635,
          4.572155300247924,
          4.583651254724072,
          4.594974410571567,
          4.606124118437285,
          4.617099810616861,
          4.627901001220844,
          4.638527286284191,
          4.648978343817334,
          4.659253933796846,
          4.669353898094045,
          4.679278160339675,
          4.689026725722974,
          4.698599680723385,
          4.707997192773332,
          4.717219509850408,
          4.726266959997458,
          4.735139950769075,
          4.743838968603138,
          4.752364578115994,
          4.760717421320121,
          4.76889821676297,
          4.776907758586104,
          4.784746915503401,
          4.792416629697687,
          4.799917915634792,
          4.807251858794548,
          4.8144196143180045,
          4.821422405570532,
          4.828261522620435,
          4.834938320632889,
          4.841454218179147,
          4.847810695461038,
          4.854009292451007,
          4.860051606948037,
          4.865939292549826,
          4.8716740565420285,
          4.877257657705152,
          4.882691904040155,
          4.88797865041373,
          4.893119796124573,
          4.898117282391936,
          4.902973089768052,
          4.907689235476084,
          4.912267770675472,
          4.916710777656589,
          4.921020366967008,
          4.925198674471487,
          4.92924785834831,
          4.933170096024456,
          4.93696758105246,
          4.94064251993176,
          4.9441971288777,
          4.94763363054128,
          4.950954250683061,
          4.954161214804655,
          4.957256744741405,
          4.960243055220028,
          4.963122350385023,
          4.965896820297869,
          4.968568637413076,
          4.9711399530353315,
          4.973612893761999,
          4.975989557915416,
          4.9782720119695165,
          4.980462286975284,
          4.982562374989814,
          4.984574225513629,
          4.98649974194112,
          4.9883407780289915,
          4.990099134387566,
          4.991776554999985,
          4.993374723774298,
          4.9948952611334265,
          4.9963397206481295,
          4.997709585717971,
          4.999006266305419,
          5.000231095728092,
          5.0013853275142734,
          5.002470132326646,
          5.003486594959336,
          5.004435711413167,
          5.005318386054101,
          5.006135428859691,
          5.006887552758345,
          5.007575371066173,
          5.008199395026021,
          5.008760031453259,
          5.009257580492782,
          5.009692233491606,
          5.010064070991229,
          5.010373060843942,
          5.010619056457023,
          5.010801795168679,
          5.01092089675944,
          5.010975862102529,
          5.010966071956579,
          5.010890785904,
          5.010749141437876,
          5.010540153200414,
          5.010262712375521,
          5.009915586237996,
          5.009497417861661,
          5.009006725988438,
          5.008441905060312,
          5.007801225415758,
          5.007082833652115,
          5.006284753155102,
          5.005404884796443,
          5.004441007800382,
          5.003390780779586,
          5.002251742940745,
          5.001021315459882,
          4.999696803027232,
          4.998275395561216,
          4.996754170090857,
          4.995130092805716,
          4.993400021272215,
          4.991560706814915,
          4.989608797061102,
          4.987540838646864,
          4.985353280082447,
          4.983042474774614,
          4.98060468420333,
          4.978036081250064,
          4.975332753674486,
          4.972490707736451,
          4.969505871959617,
          4.966374101033081,
          4.963091179847009,
          4.959652827658174,
          4.956054702380995,
          4.952292404999588,
          4.948361484095989,
          4.9442574404897295,
          4.939975731983548,
          4.935511778210012,
          4.930860965573589,
          4.926018652282512,
          4.920980173464732,
          4.915740846362017,
          4.910295975596137,
          4.904640858501027,
          4.898770790514528,
          4.892681070623439,
          4.886367006855277,
          4.879823921810179,
          4.873047158226307,
          4.866032084571944,
          4.858774100657542,
          4.8512686432607675,
          4.8435111917577265,
          4.835497273753377,
          4.827222470704121,
          4.8186824235257175,
          4.809872838179367,
          4.800789491229136,
          4.791428235363646,
          4.7817850048751565,
          4.771855821089109,
          4.761636797737289,
          4.7511241462677445,
          4.7403141810848695,
          4.729203324712785,
          4.717788112875654,
          4.706065199488238,
          4.694031361550551,
          4.6816835039400795,
          4.669018664095679,
          4.656034016586913,
          4.642726877563143,
          4.629094709076488,
          4.615135123273201,
          4.600845886447974,
          4.586224922955972,
          4.571270318977499,
          4.555980326130521,
          4.540353364926186,
          4.524388028063081,
          4.508083083555718,
          4.49143747769344,
          4.474450337825613,
          4.457120974969748,
          4.439448886238959,
          4.421433757085716,
          4.403075463358876,
          4.3843740731713465,
          4.36532984857598,
          4.345943247047393,
          4.3262149227678295,
          4.306145727715403,
          4.2857367125531916,
          4.264989127318083,
          4.243904421908323,
          4.222484246369323,
          4.200730450976994,
          4.178645086118773,
          4.156230401972187,
          4.133488847981539,
          4.110423072133124,
          4.087035920030048,
          4.063330433767622,
          4.039309850610841,
          4.01497760147544,
          3.9903373092145715,
          3.96539278671302,
          3.9401480347915716,
          3.9146072399237988,
          3.888774771768485,
          3.8626551805203397,
          3.8362531940826075,
          3.809573715064822,
          3.78262181760959,
          3.755402744052149,
          3.7279219014169414,
          3.700184857755411,
          3.672197338329567,
          3.6439652216458893,
          3.615494535344553,
          3.5867914519487916,
          3.5578622844797474,
          3.5287134819418795,
          3.4993516246846847,
          3.469783419645962,
          3.4400156954826064,
          3.4100553975945664,
          3.3799095830480383,
          3.3495854154037272,
          3.319090159456563,
          3.288431175892753,
          3.2576159158707245,
          3.2266519155320355,
          3.1955467904488937,
          3.164308230014439,
          3.1329439917824926,
          3.101461895763114
         ],
         "yaxis": "y"
        },
        {
         "legendgroup": "6",
         "marker": {
          "color": "rgb(214, 39, 40)"
         },
         "mode": "lines",
         "name": "6",
         "showlegend": false,
         "type": "scatter",
         "x": [
          0.47499994999999995,
          0.47561685009999993,
          0.4762337502,
          0.47685065029999996,
          0.47746755039999994,
          0.4780844504999999,
          0.47870135059999996,
          0.47931825069999995,
          0.47993515079999993,
          0.48055205089999997,
          0.48116895099999996,
          0.48178585109999994,
          0.4824027512,
          0.48301965129999996,
          0.48363655139999995,
          0.48425345149999993,
          0.48487035159999997,
          0.48548725169999996,
          0.48610415179999994,
          0.4867210519,
          0.48733795199999996,
          0.48795485209999995,
          0.48857175219999993,
          0.48918865229999997,
          0.48980555239999995,
          0.49042245249999994,
          0.4910393526,
          0.49165625269999996,
          0.49227315279999995,
          0.4928900529,
          0.49350695299999997,
          0.49412385309999995,
          0.4947407532,
          0.4953576533,
          0.49597455339999996,
          0.49659145349999995,
          0.4972083536,
          0.49782525369999997,
          0.49844215379999995,
          0.49905905389999994,
          0.499675954,
          0.5002928541,
          0.5009097542,
          0.5015266543,
          0.5021435543999999,
          0.5027604545,
          0.5033773546,
          0.5039942546999999,
          0.5046111548,
          0.5052280549,
          0.5058449549999999,
          0.5064618551,
          0.5070787552,
          0.5076956552999999,
          0.5083125554,
          0.5089294555,
          0.5095463556,
          0.5101632557,
          0.5107801558,
          0.5113970559,
          0.512013956,
          0.5126308561,
          0.5132477562,
          0.5138646563,
          0.5144815564,
          0.5150984565,
          0.5157153566,
          0.5163322566999999,
          0.5169491568,
          0.5175660569,
          0.5181829569999999,
          0.5187998571,
          0.5194167572,
          0.5200336573,
          0.5206505574,
          0.5212674575,
          0.5218843576,
          0.5225012577,
          0.5231181577999999,
          0.5237350579,
          0.524351958,
          0.5249688581,
          0.5255857582,
          0.5262026583,
          0.5268195583999999,
          0.5274364585,
          0.5280533586,
          0.5286702587,
          0.5292871588,
          0.5299040589,
          0.530520959,
          0.5311378591,
          0.5317547592,
          0.5323716593,
          0.5329885594,
          0.5336054595,
          0.5342223596,
          0.5348392597,
          0.5354561598,
          0.5360730599,
          0.53668996,
          0.5373068601,
          0.5379237602,
          0.5385406603,
          0.5391575604,
          0.5397744605,
          0.5403913606,
          0.5410082607,
          0.5416251608,
          0.5422420609,
          0.542858961,
          0.5434758611,
          0.5440927612,
          0.5447096613,
          0.5453265614,
          0.5459434615000001,
          0.5465603616,
          0.5471772617,
          0.5477941618,
          0.5484110619,
          0.549027962,
          0.5496448621,
          0.5502617622,
          0.5508786623,
          0.5514955624,
          0.5521124625,
          0.5527293626,
          0.5533462627,
          0.5539631628,
          0.5545800629,
          0.555196963,
          0.5558138631,
          0.5564307632000001,
          0.5570476633,
          0.5576645634,
          0.5582814635,
          0.5588983636,
          0.5595152637,
          0.5601321638000001,
          0.5607490639,
          0.561365964,
          0.5619828641,
          0.5625997642,
          0.5632166643000001,
          0.5638335644,
          0.5644504645,
          0.5650673646000001,
          0.5656842647,
          0.5663011648,
          0.5669180649000001,
          0.567534965,
          0.5681518651,
          0.5687687652,
          0.5693856653,
          0.5700025654,
          0.5706194655,
          0.5712363656,
          0.5718532657000001,
          0.5724701658,
          0.5730870659,
          0.5737039660000001,
          0.5743208661,
          0.5749377662,
          0.5755546663000001,
          0.5761715664,
          0.5767884665,
          0.5774053666000001,
          0.5780222667,
          0.5786391668,
          0.5792560669,
          0.579872967,
          0.5804898671000001,
          0.5811067672,
          0.5817236673,
          0.5823405674000001,
          0.5829574675,
          0.5835743676,
          0.5841912677000001,
          0.5848081678,
          0.5854250679,
          0.5860419680000001,
          0.5866588681,
          0.5872757682,
          0.5878926683000001,
          0.5885095684,
          0.5891264685000001,
          0.5897433686,
          0.5903602687,
          0.5909771688000001,
          0.5915940689000001,
          0.592210969,
          0.5928278691000001,
          0.5934447692,
          0.5940616693,
          0.5946785694000001,
          0.5952954695,
          0.5959123696,
          0.5965292697000001,
          0.5971461698,
          0.5977630699,
          0.5983799700000001,
          0.5989968701,
          0.5996137702000001,
          0.6002306703,
          0.6008475704,
          0.6014644705000001,
          0.6020813706000001,
          0.6026982707,
          0.6033151708000001,
          0.6039320709,
          0.604548971,
          0.6051658711000001,
          0.6057827712000001,
          0.6063996713,
          0.6070165714000001,
          0.6076334715,
          0.6082503716000001,
          0.6088672717000001,
          0.6094841718,
          0.6101010719000001,
          0.610717972,
          0.6113348721,
          0.6119517722000001,
          0.6125686723000001,
          0.6131855724,
          0.6138024725000001,
          0.6144193726,
          0.6150362727,
          0.6156531728000001,
          0.6162700729,
          0.6168869730000001,
          0.6175038731000001,
          0.6181207732,
          0.6187376733000001,
          0.6193545734000001,
          0.6199714735000001,
          0.6205883736000001,
          0.6212052737,
          0.6218221738,
          0.6224390739000001,
          0.6230559740000001,
          0.6236728741,
          0.6242897742000001,
          0.6249066743,
          0.6255235744000001,
          0.6261404745000001,
          0.6267573746000001,
          0.6273742747000001,
          0.6279911748,
          0.6286080749,
          0.6292249750000001,
          0.6298418751000001,
          0.6304587752,
          0.6310756753000001,
          0.6316925754000001,
          0.6323094755,
          0.6329263756000001,
          0.6335432757000001,
          0.6341601758000001,
          0.6347770759000001,
          0.635393976,
          0.6360108761000001,
          0.6366277762000001,
          0.6372446763000001,
          0.6378615764000001,
          0.6384784765000001,
          0.6390953766,
          0.6397122767000001,
          0.6403291768000001,
          0.6409460769,
          0.6415629770000001,
          0.6421798771,
          0.6427967772000001,
          0.6434136773000001,
          0.6440305774000001,
          0.6446474775000001,
          0.6452643776000001,
          0.6458812777,
          0.6464981778000001,
          0.6471150779000001,
          0.647731978,
          0.6483488781000001,
          0.6489657782000001,
          0.6495826783,
          0.6501995784000001,
          0.6508164785000001,
          0.6514333786000002,
          0.6520502787000001,
          0.6526671788,
          0.6532840789000001,
          0.6539009790000001,
          0.6545178791000001,
          0.6551347792000001,
          0.6557516793000001,
          0.6563685794,
          0.6569854795000001,
          0.6576023796000001,
          0.6582192797000002,
          0.6588361798000001,
          0.6594530799000001,
          0.6600699800000001,
          0.6606868801000001,
          0.6613037802000001,
          0.6619206803000001,
          0.6625375804000001,
          0.6631544805000001,
          0.6637713806000001,
          0.6643882807000001,
          0.6650051808000002,
          0.6656220809000001,
          0.6662389810000001,
          0.6668558811,
          0.6674727812000001,
          0.6680896813000001,
          0.6687065814000002,
          0.6693234815000001,
          0.6699403816000001,
          0.6705572817000001,
          0.6711741818000001,
          0.6717910819000001,
          0.6724079820000001,
          0.6730248821000001,
          0.6736417822,
          0.6742586823000001,
          0.6748755824000001,
          0.6754924825000002,
          0.6761093826000001,
          0.6767262827000001,
          0.6773431828000002,
          0.6779600829000001,
          0.6785769830000001,
          0.6791938831000002,
          0.6798107832000001,
          0.6804276833000001,
          0.6810445834000001,
          0.6816614835000001,
          0.6822783836000001,
          0.6828952837000002,
          0.6835121838000001,
          0.6841290839000002,
          0.6847459840000001,
          0.6853628841000001,
          0.6859797842000002,
          0.6865966843000001,
          0.6872135844000001,
          0.6878304845000001,
          0.6884473846000001,
          0.6890642847000001,
          0.6896811848000002,
          0.6902980849000001,
          0.6909149850000001,
          0.6915318851000001,
          0.6921487852000001,
          0.6927656853000002,
          0.6933825854000001,
          0.6939994855000001,
          0.6946163856000002,
          0.6952332857000001,
          0.6958501858000001,
          0.6964670859000002,
          0.6970839860000002,
          0.6977008861000001,
          0.6983177862000001,
          0.6989346863000001,
          0.6995515864000001,
          0.7001684865000002,
          0.7007853866000001,
          0.7014022867000002,
          0.7020191868000001,
          0.7026360869000001,
          0.7032529870000002,
          0.7038698871000002,
          0.7044867872000001,
          0.7051036873000001,
          0.7057205874000001,
          0.7063374875000001,
          0.7069543876000002,
          0.7075712877000001,
          0.7081881878000001,
          0.7088050879000002,
          0.7094219880000001,
          0.7100388881000002,
          0.7106557882000002,
          0.7112726883000001,
          0.7118895884000002,
          0.7125064885000001,
          0.7131233886000001,
          0.7137402887000002,
          0.7143571888000002,
          0.7149740889000001,
          0.7155909890000002,
          0.7162078891000001,
          0.7168247892000001,
          0.7174416893000002,
          0.7180585894000001,
          0.7186754895000002,
          0.7192923896000001,
          0.7199092897000001,
          0.7205261898000002,
          0.7211430899000002,
          0.7217599900000001,
          0.7223768901000002,
          0.7229937902000001,
          0.7236106903000001,
          0.7242275904000002,
          0.7248444905000001,
          0.7254613906000001,
          0.7260782907000002,
          0.7266951908000001,
          0.7273120909000002,
          0.7279289910000002,
          0.7285458911000002,
          0.7291627912000002,
          0.7297796913000001,
          0.7303965914000001,
          0.7310134915000002,
          0.7316303916000002,
          0.7322472917000002,
          0.7328641918000002,
          0.7334810919000002,
          0.7340979920000001,
          0.7347148921000002,
          0.7353317922000002,
          0.7359486923000002,
          0.7365655924000002,
          0.7371824925000001,
          0.7377993926000002,
          0.7384162927000002,
          0.7390331928000002,
          0.7396500929000002,
          0.7402669930000001,
          0.7408838931000001,
          0.7415007932000002,
          0.7421176933000002,
          0.7427345934000001,
          0.7433514935000002,
          0.7439683936000001,
          0.7445852937000002,
          0.7452021938000002,
          0.7458190939000002,
          0.7464359940000002,
          0.7470528941000001,
          0.7476697942000001,
          0.7482866943000002,
          0.7489035944000002,
          0.7495204945000001,
          0.7501373946000002,
          0.7507542947000001,
          0.7513711948000001,
          0.7519880949000002,
          0.7526049950000002,
          0.7532218951000003,
          0.7538387952000001,
          0.7544556953000001,
          0.7550725954000002,
          0.7556894955000002,
          0.7563063956000002,
          0.7569232957000003,
          0.7575401958000001,
          0.7581570959000001,
          0.7587739960000002,
          0.7593908961000002,
          0.7600077962000003,
          0.7606246963000002,
          0.7612415964000002,
          0.7618584965000001,
          0.7624753966000002,
          0.7630922967000002,
          0.7637091968000003,
          0.7643260969000002,
          0.7649429970000002,
          0.7655598971000002,
          0.7661767972000002,
          0.7667936973000002,
          0.7674105974000002,
          0.7680274975000002,
          0.7686443976000001,
          0.7692612977000002,
          0.7698781978000002,
          0.7704950979000003,
          0.7711119980000002,
          0.7717288981000002,
          0.7723457982000002,
          0.7729626983000002,
          0.7735795984000002,
          0.7741964985000002,
          0.7748133986000002,
          0.7754302987000001,
          0.7760471988000002,
          0.7766640989000002,
          0.7772809990000003,
          0.7778978991000002,
          0.7785147992000002,
          0.7791316993000001,
          0.7797485994000002,
          0.7803654995000002,
          0.7809823996000002,
          0.7815992997000002,
          0.7822161998000001,
          0.7828330999000002
         ],
         "xaxis": "x",
         "y": [
          0.3367136429466799,
          0.3395443464901526,
          0.3423687335169626,
          0.3451911980296689,
          0.34801638388766054,
          0.35084918112419966,
          0.35369472162989213,
          0.35655837420605174,
          0.3594457389932812,
          0.36236264128242884,
          0.36531512471692096,
          0.36830944389725767,
          0.3713520564002611,
          0.37444961422737544,
          0.37760895469805617,
          0.380837090805914,
          0.38414120105688776,
          0.3875286188102785,
          0.39100682114493945,
          0.39458341727433616,
          0.39826613653553544,
          0.4020628159784439,
          0.4059813875827863,
          0.4100298651314339,
          0.41421633076966996,
          0.4185489212809448,
          0.4230358141104409,
          0.42768521316855357,
          0.4325053344469956,
          0.43750439148077747,
          0.44269058068975403,
          0.44807206663378574,
          0.45365696721576204,
          0.4594533388669306,
          0.4654691617489783,
          0.4717123250072821,
          0.47819061210959773,
          0.4849116863042222,
          0.4918830762313189,
          0.49911216172071754,
          0.506606159808949,
          0.5143721110077382,
          0.5224168658554981,
          0.5307470717826348,
          0.5393691603206513,
          0.5482893346842115,
          0.5575135577543264,
          0.5670475404898738,
          0.5768967307936151,
          0.5870663028577257,
          0.5975611470127765,
          0.6083858601028743,
          0.6195447364084379,
          0.631041759136896,
          0.6428805925002222,
          0.6550645743969864,
          0.6675967097152494,
          0.6804796642712991,
          0.6937157593978303,
          0.7073069671939115,
          0.7212549064475997,
          0.7355608392407839,
          0.7502256682444646,
          0.7652499347113008,
          0.7806338171709032,
          0.7963771308320728,
          0.8124793276948249,
          0.8289394973736679,
          0.8457563686325026,
          0.8629283116300002,
          0.8804533408732692,
          0.8983291188762943,
          0.9165529605183684,
          0.9351218380967316,
          0.9540323870662892,
          0.9732809124581968,
          0.9928633959680417,
          1.012775503703183,
          1.03301259457773,
          1.0535697293426596,
          1.074441680237446,
          1.0956229412486493,
          1.1171077389598243,
          1.138890043976217,
          1.1609635829066594,
          1.1833218508842207,
          1.205958124606142,
          1.2288654758727524,
          1.2520367856040746,
          1.2754647583119305,
          1.2991419370045403,
          1.32306071849967,
          1.347213369121411,
          1.3715920407550501,
          1.396188787233391,
          1.4209955810271122,
          1.446004330210961,
          1.471206895676697,
          1.4965951085627547,
          1.52216078787003,
          1.547895758232148,
          1.5737918678078173,
          1.5998410062622392,
          1.626035122803533,
          1.6523662442395637,
          1.6788264930197923,
          1.705408105225947,
          1.7321034484748075,
          1.7589050396955972,
          1.785805562743926,
          1.8127978858136105,
          1.8398750786072644,
          1.8670304292258568,
          1.8942574607372358,
          1.9215499473830737,
          1.9489019303833839,
          1.9763077332976386,
          2.0037619769011497,
          2.031259593535406,
          2.0587958408910545,
          2.0863663151821426,
          2.113966963670591,
          2.141594096500052,
          2.1692443977985496,
          2.196914936010094,
          2.2246031734157667,
          2.2523069748055837,
          2.280024615263377,
          2.3077547870278305,
          2.3354966053937614,
          2.363249613619364,
          2.3910137868060337,
          2.4187895347192674,
          2.4465777035205845,
          2.4743795763823386,
          2.5021968729590194,
          2.5300317476910745,
          2.557886786919087,
          2.5857650047888647,
          2.6136698379302405,
          2.641605138895189,
          2.6695751683435067,
          2.6975845859672845,
          2.725638440148354,
          2.7537421563460684,
          2.781901524216005,
          2.8101226834634287,
          2.83841210843901,
          2.8667765914875587,
          2.8952232250642713,
          2.9237593826367165,
          2.9523926983943283,
          2.981131045791029,
          3.0099825149505346,
          3.038955388967362,
          3.068058119140823,
          3.097299299182753,
          3.1266876384436424,
          3.1562319342056817,
          3.185941043094851,
          3.215823851667772,
          3.2458892462328146,
          3.2761460819682915,
          3.30660315140389,
          3.337269152334936,
          3.368152655242066,
          3.399262070291834,
          3.4306056139966623,
          3.462191275615195,
          3.494026783376332,
          3.5261195706128183,
          3.558476741891814,
          3.591105039232117,
          3.6240108084988805,
          3.6571999660681422,
          3.690677965854496,
          3.724449766795978,
          3.758519800890603,
          3.7928919418794242,
          3.8275694746707294,
          3.862555065599449,
          3.8978507336156083,
          3.933457822494169,
          3.969376974157515,
          4.005608103200351,
          4.042150372704593,
          4.079002171429757,
          4.1161610924619065,
          4.153623913401152,
          4.191386578164835,
          4.2294441804799074,
          4.267790949134546,
          4.306420235054698,
          4.345324500267649,
          4.38449530880949,
          4.423923319629255,
          4.4635982815371955,
          4.50350903023963,
          4.543643487497322,
          4.58398866243912,
          4.624530655056292,
          4.665254661897782,
          4.706144983980135,
          4.747185036919828,
          4.788357363289822,
          4.829643647195276,
          4.871024731057728,
          4.91248063459007,
          4.953990575938605,
          4.995532994961923,
          5.037085578610148,
          5.078625288361492,
          5.120128389667274,
          5.16157048334999,
          5.202926538893262,
          5.244170929556495,
          5.28527746924149,
          5.3262194510323795,
          5.366969687325387,
          5.407500551459421,
          5.447784020753601,
          5.487791720853542,
          5.527494971283425,
          5.566864832097059,
          5.605872151517373,
          5.644487614450223,
          5.682681791755318,
          5.720425190154414,
          5.757688302654348,
          5.794441659360669,
          5.830655878555703,
          5.866301717913917,
          5.901350125726338,
          5.935772292005503,
          5.969539699342159,
          6.002624173385503,
          6.0349979328192385,
          6.066633638707189,
          6.097504443083421,
          6.127584036664105,
          6.156846695560512,
          6.185267326875342,
          6.2128215130677535,
          6.239485554975826,
          6.265236513389303,
          6.290052249069356,
          6.3139114611169145,
          6.336793723595868,
          6.358679520322624,
          6.37955027773888,
          6.399388395790391,
          6.418177276740318,
          6.43590135185195,
          6.4525461058820754,
          6.468098099332776,
          6.482544988416203,
          6.4958755426937875,
          6.508079660358195,
          6.5191483811335775,
          6.52907389677667,
          6.537849559168425,
          6.545469885993121,
          6.551930564008912,
          6.557228449920983,
          6.561361568875305,
          6.564329110598109,
          6.566131423212801,
          6.5667700047727555,
          6.566247492554806,
          6.564567650164636,
          6.561735352511095,
          6.557756568712433,
          6.552638343002853,
          6.546388773713012,
          6.539016990403105,
          6.53053312923161,
          6.5209483066472425,
          6.510274591495298,
          6.49852497563345,
          6.4857133431548455,
          6.471854438319493,
          6.45696383229698,
          6.441057888825855,
          6.424153728896321,
          6.406269194564185,
          6.387422812004873,
          6.3676337539163885,
          6.346921801380377,
          6.325307305289754,
          6.302811147450713,
          6.279454701465583,
          6.255259793501446,
          6.230248663047521,
          6.204443923761997,
          6.17786852450632,
          6.15054571066202,
          6.122498985822006,
          6.093752073944536,
          6.06432888205445,
          6.034253463572157,
          6.003549982346639,
          5.972242677464222,
          5.940355828900374,
          5.90791372407696,
          5.87494062538236,
          5.841460738707295,
          5.80749818304352,
          5.7730769611879715,
          5.73822093158959,
          5.7029537813708275,
          5.6672990005509,
          5.631279857492632,
          5.594919375589816,
          5.5582403112070375,
          5.5212651328791145,
          5.4840160017726385,
          5.4465147534075316,
          5.408782880632251,
          5.370841517841952,
          5.3327114264250985,
          5.294412981420033,
          5.255966159359669,
          5.217390527279108,
          5.178705232857636,
          5.13992899566434,
          5.101080099473234,
          5.0621763856122195,
          5.023235247307641,
          4.984273624984798,
          4.945308002482986,
          4.906354404142544,
          4.86742839272057,
          4.828545068090858,
          4.789719066683529,
          4.750964561619477,
          4.712295263494656,
          4.673724421769755,
          4.635264826721032,
          4.596928811908841,
          4.558728257121304,
          4.520674591751677,
          4.482778798568907,
          4.4450514178426666,
          4.4075025517853454,
          4.370141869275187,
          4.332978610826688,
          4.296021593775938,
          4.25927921765072,
          4.222759469697084,
          4.186469930536096,
          4.150417779926687,
          4.114609802612376,
          4.079052394231933,
          4.04375156727602,
          4.008712957073912,
          3.973941827796365,
          3.939443078462911,
          3.90522124894333,
          3.8712805259453074,
          3.837624748981897,
          3.8042574163139613,
          3.7711816908645517,
          3.738400406103571,
          3.7059160719024167,
          3.673730880359666,
          3.641846711599862,
          3.610265139548722,
          3.5789874376887254,
          3.5480145848001743,
          3.5173472706931226,
          3.4869859019364733,
          3.45693060759075,
          3.427181244951504,
          3.397737405310479,
          3.3685984197417724,
          3.339763364920319,
          3.3112310689797475,
          3.2830001174166727,
          3.255068859048094,
          3.2274354120283038,
          3.2000976699311545,
          3.1730533079032064,
          3.146299788892601,
          3.1198343699579234,
          3.0936541086607163,
          3.0677558695445892,
          3.042136330703065,
          3.0167919904377953,
          2.9917191740076796,
          2.9669140404689553,
          2.942372589605368,
          2.918090668946893,
          2.8940639808745185,
          2.8702880898081546,
          2.8467584294736517,
          2.8234703102445082,
          2.800418926553047,
          2.777599364365112,
          2.755006608711976,
          2.732635551272301,
          2.710480997996731,
          2.688537676767,
          2.6668002450812325,
          2.645263297756493,
          2.623921374639561,
          2.602768968316406,
          2.5818005318107713,
          2.5610104862620227,
          2.540393228572269,
          2.519943139012732,
          2.4996545887793165,
          2.47952194748726,
          2.4595395905948743,
          2.4397019067465004,
          2.420003305024851,
          2.4004382221031833,
          2.3810011292878817,
          2.3616865394423394,
          2.342489013783237,
          2.3234031685406746,
          2.304423681473902,
          2.285545298234714,
          2.266762838571037,
          2.248071202363504,
          2.2294653754882288,
          2.2109404354995466,
          2.19249155712659,
          2.1741140175783533,
          2.155803201652006,
          2.1375546066398576,
          2.1193638470306535,
          2.101226659001432,
          2.083138904696455,
          2.0650965762902165,
          2.0470957998319443,
          2.0291328388693257,
          2.011204097849703,
          1.9933061252971698,
          1.9754356167645963,
          1.9575894175597284,
          1.939764525245021,
          1.9219580919110897,
          1.9041674262240216,
          1.8863899952471046,
          1.8686234260377124,
          1.8508655070205133,
          1.8331141891382916,
          1.8153675867820418,
          1.797623978502067,
          1.7798818075022316,
          1.7621396819195843,
          1.7443963748917963,
          1.7266508244151122,
          1.7089021329955865,
          1.6911495670967027,
          1.6733925563863978,
          1.6556306927869466,
          1.6378637293310534,
          1.6200915788278218,
          1.6023143123422592,
          1.5845321574922557,
          1.566745496566896,
          1.5489548644702513,
          1.5311609464948384,
          1.5133645759289787,
          1.4955667315025152,
          1.4777685346752982,
          1.4599712467730774,
          1.4421762659753874,
          1.4243851241602443,
          1.4065994836104005,
          1.38882113358614,
          1.3710519867695037,
          1.3532940755850795,
          1.3355495484024233,
          1.3178206656252909,
          1.300109795673025,
          1.2824194108592795,
          1.264752083173596,
          1.2471104799711674,
          1.229497359576356,
          1.2119155668054504,
          1.1943680284143678,
          1.176857748476809,
          1.1593878036987006,
          1.1419613386745815,
          1.1245815610917438,
          1.1072517368879666,
          1.0899751853686768,
          1.0727552742894475,
          1.055595414909734,
          1.038499057023817,
          1.021469683974902,
          1.0045108076583833,
          0.9876259635202657,
          0.9708187055567618,
          0.9540926013210794,
          0.937451226943432,
          0.9208981621703164,
          0.9044369854290056
         ],
         "yaxis": "y"
        },
        {
         "legendgroup": "7",
         "marker": {
          "color": "rgb(148, 103, 189)"
         },
         "mode": "lines",
         "name": "7",
         "showlegend": false,
         "type": "scatter",
         "x": [
          0.5356499999999998,
          0.5360358431999999,
          0.5364216863999999,
          0.5368075295999999,
          0.5371933727999999,
          0.5375792159999998,
          0.5379650591999998,
          0.5383509023999998,
          0.5387367455999998,
          0.5391225887999999,
          0.5395084319999999,
          0.5398942751999999,
          0.5402801183999999,
          0.5406659615999998,
          0.5410518047999998,
          0.5414376479999998,
          0.5418234911999998,
          0.5422093343999999,
          0.5425951775999999,
          0.5429810207999999,
          0.5433668639999999,
          0.5437527071999999,
          0.5441385503999998,
          0.5445243935999998,
          0.5449102367999998,
          0.5452960799999998,
          0.5456819231999999,
          0.5460677663999999,
          0.5464536095999999,
          0.5468394527999999,
          0.5472252959999998,
          0.5476111391999998,
          0.5479969823999998,
          0.5483828255999998,
          0.5487686687999999,
          0.5491545119999999,
          0.5495403551999999,
          0.5499261983999999,
          0.5503120415999999,
          0.5506978847999998,
          0.5510837279999998,
          0.5514695711999998,
          0.5518554143999999,
          0.5522412575999999,
          0.5526271007999999,
          0.5530129439999999,
          0.5533987871999999,
          0.5537846303999998,
          0.5541704735999998,
          0.5545563167999998,
          0.5549421599999999,
          0.5553280031999999,
          0.5557138463999999,
          0.5560996895999999,
          0.5564855327999999,
          0.5568713759999999,
          0.5572572191999998,
          0.5576430623999998,
          0.5580289055999998,
          0.5584147487999999,
          0.5588005919999999,
          0.5591864351999999,
          0.5595722783999999,
          0.5599581215999999,
          0.5603439647999998,
          0.5607298079999998,
          0.5611156511999998,
          0.5615014943999999,
          0.5618873375999999,
          0.5622731807999999,
          0.5626590239999999,
          0.5630448671999999,
          0.5634307103999998,
          0.5638165535999998,
          0.5642023967999998,
          0.5645882399999999,
          0.5649740831999999,
          0.5653599263999999,
          0.5657457695999999,
          0.5661316127999999,
          0.5665174559999999,
          0.5669032991999998,
          0.5672891423999998,
          0.5676749855999998,
          0.5680608287999999,
          0.5684466719999999,
          0.5688325151999999,
          0.5692183583999999,
          0.5696042015999999,
          0.5699900447999999,
          0.5703758879999998,
          0.5707617311999998,
          0.5711475743999999,
          0.5715334175999999,
          0.5719192607999999,
          0.5723051039999999,
          0.5726909471999999,
          0.5730767903999999,
          0.5734626335999998,
          0.5738484767999998,
          0.5742343199999999,
          0.5746201631999999,
          0.5750060063999999,
          0.5753918495999999,
          0.5757776927999999,
          0.5761635359999999,
          0.5765493791999998,
          0.5769352223999998,
          0.5773210655999998,
          0.5777069087999999,
          0.5780927519999999,
          0.5784785951999999,
          0.5788644383999999,
          0.5792502815999999,
          0.5796361247999999,
          0.5800219679999998,
          0.5804078111999998,
          0.5807936543999999,
          0.5811794975999999,
          0.5815653407999999,
          0.5819511839999999,
          0.5823370271999999,
          0.5827228703999999,
          0.5831087135999998,
          0.5834945567999998,
          0.5838803999999999,
          0.5842662431999999,
          0.5846520863999999,
          0.5850379295999999,
          0.5854237727999999,
          0.5858096159999999,
          0.5861954591999999,
          0.5865813023999998,
          0.5869671455999999,
          0.5873529887999999,
          0.5877388319999999,
          0.5881246751999999,
          0.5885105183999999,
          0.5888963615999999,
          0.5892822047999999,
          0.5896680479999998,
          0.5900538911999998,
          0.5904397343999999,
          0.5908255775999999,
          0.5912114207999999,
          0.5915972639999999,
          0.5919831071999999,
          0.5923689503999999,
          0.5927547935999999,
          0.5931406367999998,
          0.5935264799999999,
          0.5939123231999999,
          0.5942981663999999,
          0.5946840095999999,
          0.5950698527999999,
          0.5954556959999999,
          0.5958415391999999,
          0.5962273823999998,
          0.5966132255999999,
          0.5969990687999999,
          0.5973849119999999,
          0.5977707551999999,
          0.5981565983999999,
          0.5985424415999999,
          0.5989282847999999,
          0.5993141279999998,
          0.5996999711999998,
          0.6000858143999999,
          0.6004716575999999,
          0.6008575007999999,
          0.6012433439999999,
          0.6016291871999999,
          0.6020150303999999,
          0.6024008735999999,
          0.6027867167999998,
          0.6031725599999999,
          0.6035584031999999,
          0.6039442463999999,
          0.6043300895999999,
          0.6047159327999999,
          0.6051017759999999,
          0.6054876191999999,
          0.6058734624,
          0.6062593055999999,
          0.6066451487999999,
          0.6070309919999999,
          0.6074168351999999,
          0.6078026783999999,
          0.6081885215999999,
          0.6085743647999999,
          0.6089602079999998,
          0.6093460512,
          0.6097318943999999,
          0.6101177375999999,
          0.6105035807999999,
          0.6108894239999999,
          0.6112752671999999,
          0.6116611103999999,
          0.6120469535999999,
          0.6124327967999998,
          0.6128186399999999,
          0.6132044831999999,
          0.6135903263999999,
          0.6139761695999999,
          0.6143620127999999,
          0.6147478559999999,
          0.6151336991999999,
          0.6155195424,
          0.6159053855999999,
          0.6162912287999999,
          0.6166770719999999,
          0.6170629151999999,
          0.6174487583999999,
          0.6178346015999999,
          0.6182204447999999,
          0.618606288,
          0.6189921312,
          0.6193779743999999,
          0.6197638175999999,
          0.6201496607999999,
          0.6205355039999999,
          0.6209213471999999,
          0.6213071903999999,
          0.6216930336,
          0.6220788768,
          0.62246472,
          0.6228505631999999,
          0.6232364063999999,
          0.6236222495999999,
          0.6240080927999999,
          0.6243939359999999,
          0.6247797791999999,
          0.6251656224,
          0.6255514655999999,
          0.6259373087999999,
          0.6263231519999999,
          0.6267089951999999,
          0.6270948383999999,
          0.6274806815999999,
          0.6278665247999999,
          0.628252368,
          0.6286382112,
          0.6290240543999999,
          0.6294098975999999,
          0.6297957407999999,
          0.6301815839999999,
          0.6305674271999999,
          0.6309532703999999,
          0.6313391136,
          0.6317249568,
          0.6321108,
          0.6324966431999999,
          0.6328824863999999,
          0.6332683295999999,
          0.6336541727999999,
          0.6340400159999999,
          0.6344258591999999,
          0.6348117024,
          0.6351975456,
          0.6355833888,
          0.6359692319999999,
          0.6363550751999999,
          0.6367409183999999,
          0.6371267615999999,
          0.6375126047999999,
          0.637898448,
          0.6382842912,
          0.6386701343999999,
          0.6390559775999999,
          0.6394418207999999,
          0.6398276639999999,
          0.6402135071999999,
          0.6405993503999999,
          0.6409851936,
          0.6413710368,
          0.64175688,
          0.6421427231999999,
          0.6425285663999999,
          0.6429144095999999,
          0.6433002527999999,
          0.6436860959999999,
          0.6440719391999999,
          0.6444577824,
          0.6448436256,
          0.6452294687999999,
          0.6456153119999999,
          0.6460011551999999,
          0.6463869983999999,
          0.6467728415999999,
          0.6471586847999999,
          0.647544528,
          0.6479303712,
          0.6483162144,
          0.6487020576,
          0.6490879007999999,
          0.6494737439999999,
          0.6498595871999999,
          0.6502454303999999,
          0.6506312736,
          0.6510171168,
          0.65140296,
          0.6517888031999999,
          0.6521746463999999,
          0.6525604895999999,
          0.6529463327999999,
          0.6533321759999999,
          0.6537180192,
          0.6541038624,
          0.6544897056,
          0.6548755488,
          0.6552613919999999,
          0.6556472351999999,
          0.6560330783999999,
          0.6564189215999999,
          0.6568047647999999,
          0.657190608,
          0.6575764512,
          0.6579622944,
          0.6583481375999999,
          0.6587339807999999,
          0.6591198239999999,
          0.6595056671999999,
          0.6598915103999999,
          0.6602773536,
          0.6606631968,
          0.66104904,
          0.6614348831999999,
          0.6618207264,
          0.6622065695999999,
          0.6625924127999999,
          0.6629782559999999,
          0.6633640992,
          0.6637499424,
          0.6641357856,
          0.6645216288,
          0.6649074719999999,
          0.6652933152,
          0.6656791583999999,
          0.6660650015999999,
          0.6664508447999999,
          0.666836688,
          0.6672225312,
          0.6676083743999999,
          0.6679942176,
          0.6683800607999999,
          0.6687659039999999,
          0.6691517471999999,
          0.6695375903999999,
          0.6699234336,
          0.6703092768,
          0.67069512,
          0.6710809631999999,
          0.6714668064,
          0.6718526495999999,
          0.6722384927999999,
          0.6726243359999999,
          0.6730101792,
          0.6733960224,
          0.6737818656,
          0.6741677088,
          0.6745535519999999,
          0.6749393951999999,
          0.6753252383999999,
          0.6757110815999999,
          0.6760969247999999,
          0.676482768,
          0.6768686112,
          0.6772544544,
          0.6776402976,
          0.6780261407999999,
          0.6784119839999999,
          0.6787978271999999,
          0.6791836703999999,
          0.6795695136,
          0.6799553568,
          0.6803412,
          0.6807270432,
          0.6811128864,
          0.6814987295999999,
          0.6818845727999999,
          0.6822704159999999,
          0.6826562592,
          0.6830421024,
          0.6834279456,
          0.6838137888,
          0.684199632,
          0.6845854752,
          0.6849713183999999,
          0.6853571615999999,
          0.6857430048,
          0.686128848,
          0.6865146912,
          0.6869005344,
          0.6872863776,
          0.6876722207999999,
          0.688058064,
          0.6884439071999999,
          0.6888297503999999,
          0.6892155936,
          0.6896014368,
          0.68998728,
          0.6903731232,
          0.6907589664,
          0.6911448095999999,
          0.6915306528,
          0.6919164959999999,
          0.6923023392,
          0.6926881824,
          0.6930740256,
          0.6934598688,
          0.6938457119999999,
          0.6942315552,
          0.6946173983999999,
          0.6950032415999999,
          0.6953890848,
          0.695774928,
          0.6961607712,
          0.6965466144,
          0.6969324576,
          0.6973183007999999,
          0.697704144,
          0.6980899871999999,
          0.6984758303999999,
          0.6988616736,
          0.6992475168,
          0.69963336,
          0.7000192032,
          0.7004050464,
          0.7007908895999999,
          0.7011767327999999,
          0.7015625759999999,
          0.7019484192,
          0.7023342624,
          0.7027201056,
          0.7031059488,
          0.7034917919999999,
          0.7038776352,
          0.7042634783999999,
          0.7046493215999999,
          0.7050351648,
          0.705421008,
          0.7058068512,
          0.7061926944,
          0.7065785376,
          0.7069643807999999,
          0.707350224,
          0.7077360671999999,
          0.7081219103999999,
          0.7085077536,
          0.7088935968,
          0.70927944,
          0.7096652832,
          0.7100511264,
          0.7104369696,
          0.7108228127999999,
          0.7112086559999999,
          0.7115944992,
          0.7119803424,
          0.7123661856,
          0.7127520288,
          0.713137872,
          0.7135237152,
          0.7139095583999999,
          0.7142954015999999,
          0.7146812448,
          0.715067088,
          0.7154529312,
          0.7158387744,
          0.7162246176,
          0.7166104608,
          0.716996304,
          0.7173821471999999,
          0.7177679904,
          0.7181538336,
          0.7185396768,
          0.71892552,
          0.7193113632,
          0.7196972064,
          0.7200830495999999,
          0.7204688928,
          0.7208547359999999,
          0.7212405792,
          0.7216264224,
          0.7220122656,
          0.7223981088,
          0.722783952,
          0.7231697952,
          0.7235556383999999,
          0.7239414816,
          0.7243273248,
          0.724713168,
          0.7250990112,
          0.7254848544,
          0.7258706976,
          0.7262565408,
          0.726642384,
          0.7270282271999999,
          0.7274140704000001,
          0.7277999136,
          0.7281857568
         ],
         "xaxis": "x",
         "y": [
          2.564318487186438,
          2.6017528578143985,
          2.6393197601959772,
          2.6770113492405634,
          2.7148196843426216,
          2.75273673271289,
          2.790754372776831,
          2.8288643976403884,
          2.867058518623169,
          2.90532836885914,
          2.9436655069650826,
          2.9820614207770757,
          3.020507531155322,
          3.0589951958576616,
          3.097515713482218,
          3.13606032747947,
          3.1746202302343445,
          3.2131865672186564,
          3.2517504412143636,
          3.2903029166080833,
          3.3288350237572386,
          3.367337763428242,
          3.4058021113069894,
          3.444219022582053,
          3.482579436600529,
          3.520874281596965,
          3.559094479495175,
          3.597230950782956,
          3.6352746194595,
          3.673216418055162,
          3.711047292723158,
          3.748758208402576,
          3.7863401540518473,
          3.8237841479518444,
          3.861081243077379,
          3.898222532535769,
          3.9351991550709338,
          3.9720023006312646,
          4.0086232159992,
          4.04505321048032,
          4.081283661649497,
          4.117306021151164,
          4.153111820550939,
          4.1886926772351325,
          4.224040300354601,
          4.2591464968091195,
          4.294003177268087,
          4.3286023622231395,
          4.362936188067933,
          4.39699691319999,
          4.430776924139368,
          4.464268741658414,
          4.4974650269166965,
          4.5303585875948515,
          4.562942384020823,
          4.595209535281601,
          4.627153325313409,
          4.6587672089629315,
          4.690044818011714,
          4.7209799671561266,
          4.751566659934382,
          4.781799094592306,
          4.811671669879143,
          4.841178990764496,
          4.870315874067271,
          4.8990773539873596,
          4.927458687530497,
          4.955455359816761,
          4.98306308926285,
          5.010277832628253,
          5.03709578991533,
          5.0635134091131775,
          5.089527390775144,
          5.115134692419885,
          5.140332532745547,
          5.165118395647195,
          5.189490034027076,
          5.213445473387771,
          5.236983015198145,
          5.260101240022297,
          5.282799010401641,
          5.3050754734806524,
          5.3269300633667855,
          5.348362503215434,
          5.3693728070310245,
          5.389961281175556,
          5.410128525576268,
          5.4298754346243925,
          5.449203197757352,
          5.468113299717117,
          5.486607520477846,
          5.504687934836417,
          5.52235691165977,
          5.539617112783692,
          5.5564714915580184,
          5.5729232910337565,
          5.588976041788277,
          5.604633559385241,
          5.61989994146648,
          5.634779564473829,
          5.6492770799992025,
          5.6633974107622755,
          5.677145746215474,
          5.690527537776726,
          5.703548493691195,
          5.716214573523826,
          5.728531982285228,
          5.740507164194226,
          5.7521467960809645,
          5.763457780435342,
          5.7744472381061405,
          5.7851225006569855,
          5.795491102385991,
          5.805560772016632,
          5.815339424068107,
          5.82483514991417,
          5.834056208540063,
          5.8430110170078695,
          5.851708140641285,
          5.860156282941474,
          5.8683642752462015,
          5.876341066145246,
          5.884095710665434,
          5.891637359239447,
          5.898975246472964,
          5.906118679725215,
          5.91307702751862,
          5.919859707793568,
          5.9264761760248135,
          5.932935913216462,
          5.939248413792824,
          5.945423173402729,
          5.951469676655312,
          5.957397384805418,
          5.96321572340709,
          5.968934069953787,
          5.974561741524104,
          5.980107982451953,
          5.9855819520401585,
          5.990992712336532,
          5.99634921599146,
          6.001660294216048,
          6.006934644859665,
          6.0121808206258205,
          6.017407217444931,
          6.022622063022509,
          6.027833405580966,
          6.033049102813039,
          6.03827681106444,
          6.043523974763081,
          6.048797816111838,
          6.054105325061276,
          6.059453249578499,
          6.064848086227712,
          6.070296071077512,
          6.075803170949507,
          6.08137507502224,
          6.087017186803756,
          6.092734616485621,
          6.098532173690441,
          6.1044143606244115,
          6.110385365645597,
          6.11644905725802,
          6.122608978540897,
          6.12886834202163,
          6.135230025000404,
          6.141696565333468,
          6.1482701576814565,
          6.154952650228283,
          6.1617455418754,
          6.168649979915379,
          6.175666758188055,
          6.182796315721639,
          6.190038735860432,
          6.197393745880009,
          6.204860717090002,
          6.212438665423713,
          6.2201262525132694,
          6.227921787247989,
          6.235823227813228,
          6.243828184205951,
          6.251933921222748,
          6.260137361915363,
          6.268435091507905,
          6.2768233617696,
          6.285298095835945,
          6.29385489347088,
          6.302489036761654,
          6.311195496237815,
          6.319968937404962,
          6.328803727683528,
          6.337693943742323,
          6.346633379216026,
          6.355615552795566,
          6.3646337166796165,
          6.373680865375306,
          6.382749744835711,
          6.391832861921412,
          6.400922494173051,
          6.410010699881501,
          6.419089328442069,
          6.42815003097878,
          6.437184271224674,
          6.446183336643743,
          6.455138349779994,
          6.464040279818999,
          6.472879954347013,
          6.481648071292787,
          6.490335211036925,
          6.498931848673715,
          6.5074283664100525,
          6.515815066086347,
          6.524082181803866,
          6.532219892643345,
          6.540218335459262,
          6.548067617734565,
          6.555757830480386,
          6.563279061165299,
          6.570621406658932,
          6.577774986174484,
          6.584729954194961,
          6.591476513367887,
          6.598004927353365,
          6.604305533610357,
          6.61036875610623,
          6.6161851179345925,
          6.621745253826562,
          6.627039922540765,
          6.632060019117325,
          6.636796586981309,
          6.641240829881184,
          6.645384123647888,
          6.649218027760283,
          6.652734296702905,
          6.655924891101932,
          6.6587819886255675,
          6.661297994635064,
          6.663465552572818,
          6.665277554074046,
          6.666727148788816,
          6.667807753901219,
          6.668513063332864,
          6.668837056617771,
          6.668774007436226,
          6.668318491795155,
          6.667465395842898,
          6.666209923306501,
          6.664547602539769,
          6.662474293170819,
          6.659986192337862,
          6.657079840502526,
          6.6537521268300654,
          6.650000294126458,
          6.645821943322377,
          6.641215037494763,
          6.636177905416842,
          6.630709244627984,
          6.624808124015299,
          6.61847398589913,
          6.6117066476153346,
          6.604506302587651,
          6.596873520883883,
          6.588809249250516,
          6.580314810620611,
          6.571391903090735,
          6.56204259836315,
          6.552269339650328,
          6.54207493903938,
          6.531462574314883,
          6.520435785239266,
          6.508998469290688,
          6.497154876859203,
          6.484909605902793,
          6.472267596065721,
          6.459234122262541,
          6.445814787731987,
          6.432015516565844,
          6.417842545718885,
          6.4033024165069765,
          6.3884019656011555,
          6.373148315526769,
          6.357548864677545,
          6.341611276855569,
          6.325343470348965,
          6.3087536065603596,
          6.29185007819989,
          6.274641497057763,
          6.257136681372229,
          6.239344642809807,
          6.221274573075717,
          6.202935830173214,
          6.1843379243316585,
          6.165490503623956,
          6.146403339294959,
          6.127086310823253,
          6.1075493907396075,
          6.087802629226301,
          6.067856138522023,
          6.047720077158133,
          6.0274046340524805,
          6.006920012487874,
          5.986276414002678,
          5.965484022221749,
          5.944552986656347,
          5.923493406502116,
          5.902315314464665,
          5.881028660642531,
          5.859643296497727,
          5.838168958944129,
          5.816615254584177,
          5.79499164412455,
          5.773307427001144,
          5.75157172624422,
          5.729793473613685,
          5.707981395035027,
          5.68614399636557,
          5.664289549520709,
          5.642426078989245,
          5.620561348766391,
          5.59870284973255,
          5.576857787505302,
          5.555033070791223,
          5.53323530026352,
          5.511470757990445,
          5.489745397438746,
          5.468064834075072,
          5.446434336587613,
          5.424858818748633,
          5.403342831938008,
          5.381890558345733,
          5.360505804871113,
          5.339191997734032,
          5.317952177812885,
          5.296788996722068,
          5.27570471364041,
          5.254701192900438,
          5.233779902346713,
          5.2129419124699945,
          5.19218789632201,
          5.171518130214419,
          5.150932495203385,
          5.130430479359735,
          5.110011180822882,
          5.089673311634849,
          5.069415202349289,
          5.049234807408102,
          5.02912971127724,
          5.009097135330851,
          4.989133945471744,
          4.969236660474109,
          4.949401461033005,
          4.929624199503295,
          4.909900410309208,
          4.8902253210042,
          4.870593863959005,
          4.851000688654642,
          4.831440174555427,
          4.811906444535792,
          4.7923933788333875,
          4.772894629499693,
          4.753403635318123,
          4.73391363715855,
          4.714417693736181,
          4.694908697741563,
          4.675379392307796,
          4.655822387780163,
          4.636230178752595,
          4.616595161334864,
          4.596909650613741,
          4.577165898270969,
          4.5573561103204545,
          4.537472464926942,
          4.517507130268046,
          4.497452282401591,
          4.477300123100149,
          4.4570428976147545,
          4.43667291232997,
          4.416182552272749,
          4.395564298437991,
          4.374810744893944,
          4.353914615631539,
          4.332868781121906,
          4.311666274547494,
          4.290300307672744,
          4.2687642863213116,
          4.247051825427755,
          4.2251567636326905,
          4.2030731773915155,
          4.180795394568041,
          4.158318007485663,
          4.135635885409953,
          4.112744186438041,
          4.089638368771562,
          4.066314201351499,
          4.042767773834737,
          4.0189955058937565,
          3.9949941558227473,
          3.970760828434549,
          3.9462929822353607,
          3.9215884358650555,
          3.8966453737932474,
          3.871462351262858,
          3.846038298474625,
          3.820372524007954,
          3.7944647174751474,
          3.7683149514080285,
          3.7419236823774327,
          3.7152917513482944,
          3.688420383274301,
          3.6613111859381626,
          3.6339661480451584,
          3.606387636579174,
          3.5785783934323927,
          3.5505415313208797,
          3.522280529000588,
          3.4937992257990578,
          3.4651018154801054,
          3.4361928394599537,
          3.407077179394639,
          3.3777600491598516,
          3.3482469862455284,
          3.318543842588856,
          3.288656774870016,
          3.2585922342966454,
          3.228356955903282,
          3.1979579473933932,
          3.1674024775521423,
          3.1366980642588715,
          3.1058524621287966,
          3.0748736498140805,
          3.0437698169948697,
          3.0125493510911667,
          2.981220823726952,
          2.9497929769778817,
          2.9182747094342987,
          2.886675062111185,
          2.855003204236681,
          2.8232684189508546,
          2.791480088945822,
          2.759647682078637,
          2.727780736987455,
          2.6958888487414527,
          2.6639816545543327,
          2.6320688195907334,
          2.6001600228942188,
          2.568264943464843,
          2.536393246513642,
          2.5045545699202716,
          2.4727585109196566,
          2.441014613042083,
          2.409332353330522,
          2.377721129857889,
          2.3461902495657694,
          2.3147489164452044,
          2.2834062200788843,
          2.252171124562948,
          2.221052457825506,
          2.190058901357533,
          2.159198980370819,
          2.128481054396205,
          2.0979133083341552,
          2.0675037439683903,
          2.0372601719520462,
          2.0071902042744725,
          1.9773012472156324,
          1.9476004947935623,
          1.9180949227092463,
          1.8887912827920335,
          1.8596960979471253,
          1.8308156576060437,
          1.8021560136790171,
          1.7737229770078384,
          1.7455221143157857,
          1.7175587456508608,
          1.6898379423167322,
          1.6623645252853887,
          1.6351430640840576,
          1.6081778761479875,
          1.5814730266300525,
          1.5550323286568821,
          1.5288593440206055,
          1.5029573842942816,
          1.477329512358679,
          1.4519785443268556,
          1.4269070518529223,
          1.4021173648101448,
          1.3776115743236295,
          1.3533915361416855,
          1.3294588743301101,
          1.3058149852728491,
          1.2824610419621902,
          1.2593979985616672,
          1.2366265952241002,
          1.2141473631476,
          1.1919606298516356,
          1.170066524655781,
          1.1484649843431323,
          1.127155758990948,
          1.1061384179507647,
          1.0854123559604054
         ],
         "yaxis": "y"
        },
        {
         "legendgroup": "8",
         "marker": {
          "color": "rgb(140, 86, 75)"
         },
         "mode": "lines",
         "name": "8",
         "showlegend": false,
         "type": "scatter",
         "x": [
          0.46249999999999997,
          0.4629,
          0.4633,
          0.46369999999999995,
          0.46409999999999996,
          0.46449999999999997,
          0.4649,
          0.4653,
          0.46569999999999995,
          0.46609999999999996,
          0.46649999999999997,
          0.4669,
          0.46729999999999994,
          0.46769999999999995,
          0.46809999999999996,
          0.46849999999999997,
          0.4689,
          0.46929999999999994,
          0.46969999999999995,
          0.47009999999999996,
          0.4705,
          0.4709,
          0.47129999999999994,
          0.47169999999999995,
          0.47209999999999996,
          0.4725,
          0.4729,
          0.47329999999999994,
          0.47369999999999995,
          0.47409999999999997,
          0.4745,
          0.47489999999999993,
          0.47529999999999994,
          0.47569999999999996,
          0.47609999999999997,
          0.4765,
          0.47689999999999994,
          0.47729999999999995,
          0.47769999999999996,
          0.47809999999999997,
          0.4785,
          0.47889999999999994,
          0.47929999999999995,
          0.47969999999999996,
          0.48009999999999997,
          0.4804999999999999,
          0.48089999999999994,
          0.48129999999999995,
          0.48169999999999996,
          0.4821,
          0.48249999999999993,
          0.48289999999999994,
          0.48329999999999995,
          0.48369999999999996,
          0.4841,
          0.48449999999999993,
          0.48489999999999994,
          0.48529999999999995,
          0.48569999999999997,
          0.4861,
          0.48649999999999993,
          0.48689999999999994,
          0.48729999999999996,
          0.48769999999999997,
          0.4881,
          0.48849999999999993,
          0.48889999999999995,
          0.48929999999999996,
          0.48969999999999997,
          0.4901,
          0.49049999999999994,
          0.49089999999999995,
          0.49129999999999996,
          0.49169999999999997,
          0.4920999999999999,
          0.49249999999999994,
          0.49289999999999995,
          0.49329999999999996,
          0.49369999999999997,
          0.49409999999999993,
          0.49449999999999994,
          0.49489999999999995,
          0.49529999999999996,
          0.4956999999999999,
          0.49609999999999993,
          0.49649999999999994,
          0.49689999999999995,
          0.49729999999999996,
          0.4976999999999999,
          0.49809999999999993,
          0.49849999999999994,
          0.49889999999999995,
          0.49929999999999997,
          0.4996999999999999,
          0.5001,
          0.5005,
          0.5008999999999999,
          0.5013,
          0.5016999999999999,
          0.5021,
          0.5025,
          0.5028999999999999,
          0.5033,
          0.5036999999999999,
          0.5041,
          0.5045,
          0.5048999999999999,
          0.5053,
          0.5056999999999999,
          0.5061,
          0.5065,
          0.5068999999999999,
          0.5073,
          0.5076999999999999,
          0.5081,
          0.5085,
          0.5088999999999999,
          0.5093,
          0.5096999999999999,
          0.5101,
          0.5105,
          0.5108999999999999,
          0.5113,
          0.5116999999999999,
          0.5120999999999999,
          0.5125,
          0.5128999999999999,
          0.5133,
          0.5136999999999999,
          0.5140999999999999,
          0.5145,
          0.5148999999999999,
          0.5153,
          0.5156999999999999,
          0.5160999999999999,
          0.5165,
          0.5168999999999999,
          0.5173,
          0.5176999999999999,
          0.5180999999999999,
          0.5185,
          0.5188999999999999,
          0.5193,
          0.5196999999999999,
          0.5200999999999999,
          0.5205,
          0.5208999999999999,
          0.5213,
          0.5216999999999999,
          0.5220999999999999,
          0.5225,
          0.5228999999999999,
          0.5233,
          0.5236999999999999,
          0.5240999999999999,
          0.5245,
          0.5248999999999999,
          0.5252999999999999,
          0.5257,
          0.5260999999999999,
          0.5265,
          0.5268999999999999,
          0.5272999999999999,
          0.5277,
          0.5280999999999999,
          0.5285,
          0.5288999999999999,
          0.5292999999999999,
          0.5297,
          0.5300999999999999,
          0.5305,
          0.5308999999999999,
          0.5312999999999999,
          0.5317,
          0.5320999999999999,
          0.5325,
          0.5328999999999999,
          0.5332999999999999,
          0.5337,
          0.5340999999999999,
          0.5345,
          0.5348999999999999,
          0.5352999999999999,
          0.5357,
          0.5360999999999999,
          0.5365,
          0.5368999999999999,
          0.5372999999999999,
          0.5377,
          0.5380999999999999,
          0.5385,
          0.5388999999999999,
          0.5392999999999999,
          0.5397,
          0.5400999999999999,
          0.5405,
          0.5408999999999999,
          0.5412999999999999,
          0.5417,
          0.5420999999999999,
          0.5425,
          0.5428999999999999,
          0.5432999999999999,
          0.5437,
          0.5440999999999999,
          0.5445,
          0.5448999999999999,
          0.5452999999999999,
          0.5457,
          0.5460999999999999,
          0.5465,
          0.5468999999999999,
          0.5472999999999999,
          0.5477,
          0.5480999999999999,
          0.5484999999999999,
          0.5488999999999999,
          0.5492999999999999,
          0.5497,
          0.5500999999999999,
          0.5504999999999999,
          0.5509,
          0.5512999999999999,
          0.5517,
          0.5520999999999999,
          0.5524999999999999,
          0.5529,
          0.5532999999999999,
          0.5537,
          0.5540999999999999,
          0.5544999999999999,
          0.5549,
          0.5552999999999999,
          0.5557,
          0.5560999999999999,
          0.5564999999999999,
          0.5569,
          0.5572999999999999,
          0.5576999999999999,
          0.5580999999999999,
          0.5584999999999999,
          0.5589,
          0.5592999999999999,
          0.5596999999999999,
          0.5600999999999999,
          0.5604999999999999,
          0.5609,
          0.5612999999999999,
          0.5616999999999999,
          0.5620999999999999,
          0.5624999999999999,
          0.5629,
          0.5632999999999999,
          0.5636999999999999,
          0.5640999999999999,
          0.5644999999999999,
          0.5649,
          0.5652999999999999,
          0.5656999999999999,
          0.5660999999999999,
          0.5664999999999999,
          0.5669,
          0.5672999999999999,
          0.5676999999999999,
          0.5680999999999999,
          0.5684999999999999,
          0.5689,
          0.5692999999999999,
          0.5696999999999999,
          0.5700999999999999,
          0.5704999999999999,
          0.5709,
          0.5712999999999999,
          0.5716999999999999,
          0.5720999999999999,
          0.5724999999999999,
          0.5729,
          0.5732999999999999,
          0.5736999999999999,
          0.5740999999999999,
          0.5744999999999999,
          0.5749,
          0.5752999999999999,
          0.5756999999999999,
          0.5761,
          0.5764999999999999,
          0.5769,
          0.5772999999999999,
          0.5776999999999999,
          0.5781,
          0.5784999999999999,
          0.5789,
          0.5792999999999999,
          0.5796999999999999,
          0.5801,
          0.5804999999999999,
          0.5808999999999999,
          0.5812999999999999,
          0.5816999999999999,
          0.5821,
          0.5824999999999999,
          0.5828999999999999,
          0.5832999999999999,
          0.5836999999999999,
          0.5841,
          0.5844999999999999,
          0.5848999999999999,
          0.5852999999999999,
          0.5856999999999999,
          0.5860999999999998,
          0.5864999999999999,
          0.5868999999999999,
          0.5872999999999999,
          0.5876999999999999,
          0.5880999999999998,
          0.5884999999999999,
          0.5888999999999999,
          0.5892999999999999,
          0.5896999999999999,
          0.5900999999999998,
          0.5904999999999999,
          0.5909,
          0.5912999999999999,
          0.5916999999999999,
          0.5920999999999998,
          0.5924999999999999,
          0.5929,
          0.5932999999999999,
          0.5936999999999999,
          0.5940999999999999,
          0.5944999999999999,
          0.5948999999999999,
          0.5952999999999999,
          0.5956999999999999,
          0.5960999999999999,
          0.5964999999999999,
          0.5968999999999999,
          0.5972999999999999,
          0.5976999999999999,
          0.5980999999999999,
          0.5984999999999999,
          0.5988999999999999,
          0.5992999999999999,
          0.5996999999999999,
          0.6000999999999999,
          0.6004999999999999,
          0.6008999999999999,
          0.6013,
          0.6016999999999999,
          0.6020999999999999,
          0.6024999999999999,
          0.6028999999999999,
          0.6033,
          0.6036999999999999,
          0.6040999999999999,
          0.6044999999999999,
          0.6048999999999999,
          0.6053,
          0.6056999999999999,
          0.6060999999999999,
          0.6064999999999998,
          0.6068999999999999,
          0.6073,
          0.6076999999999999,
          0.6080999999999999,
          0.6084999999999998,
          0.6088999999999999,
          0.6093,
          0.6096999999999999,
          0.6100999999999999,
          0.6104999999999998,
          0.6108999999999999,
          0.6113,
          0.6116999999999999,
          0.6120999999999999,
          0.6124999999999998,
          0.6128999999999999,
          0.6133,
          0.6136999999999999,
          0.6140999999999999,
          0.6144999999999998,
          0.6148999999999999,
          0.6153,
          0.6156999999999999,
          0.6160999999999999,
          0.6164999999999998,
          0.6168999999999999,
          0.6173,
          0.6176999999999999,
          0.6180999999999999,
          0.6184999999999998,
          0.6188999999999999,
          0.6193,
          0.6196999999999999,
          0.6200999999999999,
          0.6204999999999998,
          0.6208999999999999,
          0.6212999999999999,
          0.6216999999999999,
          0.6220999999999999,
          0.6224999999999998,
          0.6228999999999999,
          0.6232999999999999,
          0.6236999999999999,
          0.6240999999999999,
          0.6244999999999998,
          0.6248999999999999,
          0.6252999999999999,
          0.6256999999999999,
          0.6260999999999999,
          0.6264999999999998,
          0.6268999999999999,
          0.6272999999999999,
          0.6276999999999999,
          0.6280999999999999,
          0.6284999999999998,
          0.6288999999999999,
          0.6292999999999999,
          0.6296999999999999,
          0.6300999999999999,
          0.6304999999999998,
          0.6308999999999999,
          0.6312999999999999,
          0.6316999999999999,
          0.6320999999999999,
          0.6324999999999998,
          0.6328999999999999,
          0.6332999999999999,
          0.6336999999999999,
          0.6340999999999999,
          0.6344999999999998,
          0.6348999999999999,
          0.6352999999999999,
          0.6356999999999999,
          0.6360999999999999,
          0.6364999999999998,
          0.6368999999999999,
          0.6372999999999999,
          0.6376999999999999,
          0.6380999999999999,
          0.6384999999999998,
          0.6388999999999999,
          0.6392999999999999,
          0.6396999999999999,
          0.6400999999999999,
          0.6404999999999998,
          0.6408999999999999,
          0.6412999999999999,
          0.6416999999999999,
          0.6420999999999999,
          0.6424999999999998,
          0.6428999999999999,
          0.6432999999999999,
          0.6436999999999999,
          0.6440999999999999,
          0.6444999999999999,
          0.6448999999999999,
          0.6452999999999999,
          0.6456999999999998,
          0.6460999999999999,
          0.6464999999999999,
          0.6468999999999999,
          0.6472999999999999,
          0.6476999999999998,
          0.6480999999999999,
          0.6484999999999999,
          0.6488999999999999,
          0.6492999999999999,
          0.6496999999999998,
          0.6500999999999999,
          0.6504999999999999,
          0.6508999999999998,
          0.6512999999999999,
          0.6516999999999998,
          0.6520999999999999,
          0.6524999999999999,
          0.6528999999999998,
          0.6532999999999999,
          0.6536999999999998,
          0.6540999999999999,
          0.6544999999999999,
          0.6548999999999998,
          0.6552999999999999,
          0.6556999999999998,
          0.6560999999999999,
          0.6564999999999999,
          0.6568999999999998,
          0.6572999999999999,
          0.6576999999999998,
          0.6580999999999999,
          0.6584999999999999,
          0.6588999999999998,
          0.6592999999999999,
          0.6596999999999998,
          0.6600999999999999,
          0.6604999999999999,
          0.6608999999999998,
          0.6612999999999999,
          0.6616999999999998,
          0.6620999999999999
         ],
         "xaxis": "x",
         "y": [
          0.9931787189393451,
          1.007074618124433,
          1.0209549536482032,
          1.0348173584495952,
          1.0486595712233377,
          1.0624794349904179,
          1.0762748952446652,
          1.090043997690261,
          1.1037848855874257,
          1.1174957967258896,
          1.1311750600479984,
          1.1448210919456194,
          1.158432392257099,
          1.17200753999263,
          1.1855451888183013,
          1.199044062331023,
          1.2125029491581656,
          1.225920697917379,
          1.239296212073466,
          1.2526284447305027,
          1.2659163933984199,
          1.2791590947743001,
          1.2923556195792958,
          1.305505067492666,
          1.318606562224776,
          1.3316592467710346,
          1.3446622788886937,
          1.3576148268381365,
          1.370516065429807,
          1.3833651724171516,
          1.3961613252751162,
          1.408903698402454,
          1.421591460784833,
          1.4342237741540362,
          1.4467997916768522,
          1.459318657205138,
          1.471779505116382,
          1.484181460771669,
          1.4965236416153262,
          1.5088051589378202,
          1.5210251203204468,
          1.5331826327773244,
          1.5452768066069462,
          1.557306759962123,
          1.5692716241437557,
          1.581170549620179,
          1.5930027127702273,
          1.6047673233443425,
          1.6164636326343298,
          1.628090942338442,
          1.6396486141046613,
          1.6511360797311916,
          1.6625528519992714,
          1.6738985361097012,
          1.6851728416906389,
          1.6963755953405708,
          1.7075067536668045,
          1.7185664167762433,
          1.7295548421720104,
          1.7404724590060978,
          1.7513198826353116,
          1.7620979294248245,
          1.7728076317409964,
          1.7834502530726672,
          1.7940273032178644,
          1.8045405534708479,
          1.8149920517426883,
          1.8253841375470194,
          1.8357194567814656,
          1.8460009762341827,
          1.8562319977443917,
          1.8664161719453711,
          1.8765575115182915,
          1.8866604038855816,
          1.8967296232729935,
          1.906770342070434,
          1.916788141422772,
          1.926789020983335,
          1.9367794077645497,
          1.9467661640222904,
          1.956756594112864,
          1.9667584502642173,
          1.9767799372059185,
          1.986829715605658,
          1.9969169042635009,
          2.007051081018856,
          2.017242282329068,
          2.0275010014827304,
          2.0378381854152328,
          2.048265230098573,
          2.0587939744822705,
          2.0694366929671086,
          2.080206086398465,
          2.091115271571146,
          2.1021777692429477,
          2.1134074906593856,
          2.124818722597604,
          2.1364261109426934,
          2.1482446428152406,
          2.160289627274331,
          2.1725766746255126,
          2.185121674368796,
          2.197940771826802,
          2.211050343498512,
          2.224466971189144,
          2.238207414971446,
          2.2522885850387304,
          2.2667275125143416,
          2.2815413192867844,
          2.2967471869439726,
          2.3123623248838547,
          2.328403937682648,
          2.3448891918051404,
          2.361835181744837,
          2.3792588956846745,
          2.397177180771423,
          2.4156067080994634,
          2.4345639375013293,
          2.4540650822441696,
          2.4741260737326622,
          2.4947625263195583,
          2.515989702326049,
          2.537822477373981,
          2.560275306132076,
          2.583362188577839,
          2.607096636875806,
          2.631491642971759,
          2.656559647001028,
          2.682312506606817,
          2.7087614672626623,
          2.7359171336901382,
          2.763789442460242,
          2.7923876358637076,
          2.8217202371316006,
          2.8517950270841945,
          2.8826190222815025,
          2.914198454744707,
          2.946538753313106,
          2.9796445266958798,
          3.013519548273444,
          3.048166742697127,
          3.0835881743309197,
          3.1197850375730245,
          3.156757649089001,
          3.1945054419826775,
          3.2330269619242804,
          3.27231986524965,
          3.312380919037636,
          3.353206003166758,
          3.3947901143456694,
          3.437127372105779,
          3.4802110267378716,
          3.5240334691484985,
          3.568586242605535,
          3.6138600563362533,
          3.659844800935287,
          3.7065295655337924,
          3.7539026566758924,
          3.8019516188422706,
          3.8506632565560093,
          3.9000236580006136,
          3.950018220074797,
          4.000631674804843,
          4.051848117030227,
          4.103651033274608,
          4.156023331710764,
          4.208947373123945,
          4.262405002776068,
          4.316377583069617,
          4.3708460269083025,
          4.425790831649698,
          4.481192113542896,
          4.537029642544032,
          4.593282877400823,
          4.64993100089755,
          4.706952955152025,
          4.764327476855846,
          4.822033132351248,
          4.880048352438048,
          4.9383514668066075,
          4.996920737994805,
          5.055734394768818,
          5.114770664831533,
          5.174007806764451,
          5.233424141113385,
          5.292998080532108,
          5.352708158901692,
          5.412533059349092,
          5.472451641092179,
          5.532442965044355,
          5.59248631811733,
          5.652561236165583,
          5.712647525522933,
          5.772725283086703,
          5.832774914911755,
          5.892777153283073,
          5.952713072241298,
          6.012564101543215,
          6.072312039044662,
          6.131939061500612,
          6.191427733783747,
          6.250761016528605,
          6.30992227221606,
          6.368895269717987,
          6.427664187329013,
          6.486213614318219,
          6.544528551038908,
          6.602594407641214,
          6.660397001436716,
          6.71792255297015,
          6.775157680857807,
          6.8320893954565545,
          6.888705091432293,
          6.944992539299581,
          7.000939876008432,
          7.056535594656902,
          7.11176853341088,
          7.166627863714597,
          7.221103077877577,
          7.2751839761244685,
          7.3288606531956715,
          7.382123484586931,
          7.434963112515761,
          7.487370431702899,
          7.539336575054913,
          7.5908528993340285,
          7.641910970898292,
          7.692502551593602,
          7.742619584876549,
          7.792254182243242,
          7.8413986100368485,
          7.8900452767018665,
          7.938186720549335,
          7.985815598093139,
          8.032924673011616,
          8.079506805785003,
          8.125554944052759,
          8.171062113729858,
          8.216021410915518,
          8.26042599462143,
          8.30426908034092,
          8.347543934474578,
          8.390243869621045,
          8.432362240736364,
          8.473892442158402,
          8.514827905487216,
          8.555162098306253,
          8.594888523722883,
          8.634000720701925,
          8.67249226515939,
          8.71035677177899,
          8.747587896508866,
          8.784179339690743,
          8.820124849770188,
          8.855418227531597,
          8.890053330798544,
          8.924024079536654,
          8.957324461292803,
          8.989948536902965,
          9.021890446397919,
          9.053144415035245,
          9.08370475938496,
          9.113565893394945,
          9.14272233436324,
          9.171168708743657,
          9.198899757712985,
          9.22591034242901,
          9.252195448910433,
          9.277750192472629,
          9.302569821655466,
          9.326649721583266,
          9.349985416700362,
          9.372572572830116,
          9.394406998509853,
          9.415484645558903,
          9.435801608842525,
          9.455354125200001,
          9.474138571511007,
          9.49215146188065,
          9.50938944392993,
          9.525849294184802,
          9.541527912563978,
          9.556422315972066,
          9.570529631011867,
          9.583847085836211,
          9.596372001166841,
          9.608101780514511,
          9.61903389964118,
          9.629165895311855,
          9.63849535338983,
          9.647019896335427,
          9.654737170174064,
          9.661644831005198,
          9.667740531128814,
          9.673021904871192,
          9.677486554195946,
          9.681132034190561,
          9.683955838522174,
          9.685955384959367,
          9.687128001059415,
          9.687470910122453,
          9.68698121751548,
          9.685655897470086,
          9.683491780458157,
          9.680485541249483,
          9.676633687754464,
          9.671932550753647,
          9.666378274613775,
          9.65996680908748,
          9.652693902290453,
          9.644555094946345,
          9.635545715985131,
          9.625660879575884,
          9.614895483669669,
          9.603244210122012,
          9.590701526458576,
          9.577261689340382,
          9.562918749778035,
          9.547666560136701,
          9.531498782965677,
          9.514408901678221,
          9.49639023309875,
          9.477435941885846,
          9.457539056830571,
          9.436692489020704,
          9.414889051852171,
          9.392121482859977,
          9.36838246733167,
          9.34366466365722,
          9.317960730360396,
          9.291263354747462,
          9.263565283100661,
          9.234859352335171,
          9.205138523030353,
          9.174395913737724,
          9.14262483646117,
          9.109818833197105,
          9.075971713416005,
          9.041077592360356,
          9.005130930028223,
          8.968126570706348,
          8.930059782912355,
          8.890926299600968,
          8.850722358486138,
          8.809444742327829,
          8.767090819029937,
          8.723658581394533,
          8.679146686376038,
          8.633554493679526,
          8.586882103546849,
          8.539130393576103,
          8.490301054421185,
          8.440396624220643,
          8.389420521608487,
          8.33737707716264,
          8.284271563151547,
          8.23011022144427,
          8.174900289454474,
          8.118650023995572,
          8.061368722929977,
          8.00306674450326,
          7.943755524261088,
          7.883447589455268,
          7.8221565708529965,
          7.7598972118729765,
          7.696685374980703,
          7.632538045284667,
          7.567473331285187,
          7.5015104627369755,
          7.4346697855970625,
          7.366972754039711,
          7.298441919530044,
          7.2291009169586555,
          7.15897444784953,
          7.088088260663918,
          7.016469128233218,
          6.944144822363407,
          6.871144085663916,
          6.797496600663043,
          6.723232956281673,
          6.6483846117462235,
          6.572983858030016,
          6.497063776921361,
          6.420658197823966,
          6.343801652403355,
          6.2665293272001374,
          6.188877014337183,
          6.110881060454559,
          6.0325783140110945,
          5.9540060710971,
          5.87520201990718,
          5.796204184025843,
          5.717050864682478,
          5.63778058213454,
          5.558432016340605,
          5.4790439470864385,
          5.399655193727968,
          5.320304554716082,
          5.241030747067358,
          5.161872345945117,
          5.082867724512691,
          5.004054994220198,
          4.925471945682947,
          4.847155990306655,
          4.769144102812203,
          4.691472764807215,
          4.614177909548911,
          4.537294868036916,
          4.460858316569381,
          4.3849022258911345,
          4.309459812055105,
          4.234563489113273,
          4.160244823745874,
          4.0865344919306485,
          4.013462237747527,
          3.941056834405404,
          3.8693460475713404,
          3.7983566010739462,
          3.7281141450447395,
          3.6586432265541537,
          3.5899672627894406,
          3.5221085168149906,
          3.4550880759465956,
          3.388925832763136,
          3.3236404687719627,
          3.259249440735041,
          3.19576896965651,
          3.13321403242321,
          3.0715983560835105,
          3.0109344147415658,
          2.9512334290371367,
          2.8925053681748727,
          2.8347589544591827,
          2.7780016702857298,
          2.7222397675332632,
          2.6674782792948855,
          2.613721033881306,
          2.5609706710244486,
          2.509228660204341,
          2.45849532101787,
          2.408769845504352,
          2.3600503223383025,
          2.312333762797376,
          2.2656161284094556,
          2.2198923601812237,
          2.1751564093072777,
          2.1314012692578626,
          2.0886190091411097,
          2.0468008082346203,
          2.0059369915807728,
          1.9660170665389423,
          1.927029760188392,
          1.8889630574752838,
          1.8518042399977688,
          1.8155399253243236,
          1.7801561067409402,
          1.7456381933247669,
          1.7119710502430479,
          1.6791390391780958,
          1.647126058781483,
          1.6159155850626812,
          1.5854907116199124,
          1.5558341896241836,
          1.5269284674697345,
          1.4987557300079186,
          1.4712979372843278,
          1.444536862702453,
          1.4184541305409708,
          1.393031252754841,
          1.3682496649946272,
          1.3440907617819002,
          1.3205359307824178,
          1.297566586122904,
          1.2751642007009165,
          1.253310337441228,
          1.2319866794563503,
          1.2111750590723374,
          1.1908574856853373,
          1.1710161724179744,
          1.1516335615485007,
          1.1326923486896994,
          1.114175505697869,
          1.0960663022962764,
          1.0783483264008178,
          1.0610055031391583,
          1.0440221125582472,
          1.0273828060181305,
          1.0110726212734977,
          0.995076996247376,
          0.9793817815043435,
          0.9639732514337761,
          0.9488381141560983,
          0.9339635201679665,
          0.9193370697446869,
          0.9049468191205651,
          0.8907812854703502,
          0.876829450716846,
          0.8630807641920234,
          0.8495251441807391,
          0.8361529783779085
         ],
         "yaxis": "y"
        },
        {
         "legendgroup": "3",
         "marker": {
          "color": "rgb(31, 119, 180)",
          "symbol": "line-ns-open"
         },
         "mode": "markers",
         "name": "3",
         "showlegend": false,
         "type": "scatter",
         "x": [
          0.95005,
          1,
          0.9833500000000001,
          0.9833500000000001,
          0.8833500000000001,
          0.9666999999999999,
          0.8834500000000001,
          0.9167,
          0.9333499999999999,
          0.8834000000000001,
          0.98333335,
          0.8500000999999999,
          0.98333335,
          0.9333333999999999,
          0.98333335,
          0.9666666999999999,
          0.9333333500000001,
          0.9666667,
          0.7333335,
          0.95000005,
          0.95000005,
          0.98333335,
          0.9666666999999999,
          0.9166667499999999,
          0.9333334000000001,
          0.9500000499999999,
          0.9666667,
          0.9833333499999999,
          0.98333335,
          0.9500000499999999,
          0.8500001,
          0.9500000499999999,
          0.8666667,
          0.95000005,
          0.91666675,
          0.8333334499999999,
          0.8666668,
          0.9833333499999999,
          0.98333335,
          0.9333333499999998,
          0.9000000499999999,
          0.95000005,
          0.9666667,
          0.9500000499999999,
          0.8000001000000001,
          0.71666665,
          0.98333335,
          0.86666675,
          0.9666667,
          0.9333334
         ],
         "xaxis": "x",
         "y": [
          "3",
          "3",
          "3",
          "3",
          "3",
          "3",
          "3",
          "3",
          "3",
          "3",
          "3",
          "3",
          "3",
          "3",
          "3",
          "3",
          "3",
          "3",
          "3",
          "3",
          "3",
          "3",
          "3",
          "3",
          "3",
          "3",
          "3",
          "3",
          "3",
          "3",
          "3",
          "3",
          "3",
          "3",
          "3",
          "3",
          "3",
          "3",
          "3",
          "3",
          "3",
          "3",
          "3",
          "3",
          "3",
          "3",
          "3",
          "3",
          "3",
          "3"
         ],
         "yaxis": "y2"
        },
        {
         "legendgroup": "4",
         "marker": {
          "color": "rgb(255, 127, 14)",
          "symbol": "line-ns-open"
         },
         "mode": "markers",
         "name": "4",
         "showlegend": false,
         "type": "scatter",
         "x": [
          0.8374999999999999,
          0.9375,
          0.8624999999999998,
          0.9,
          0.7874999999999999,
          0.8124999999999999,
          0.8875,
          0.9125000000000001,
          0.7874999999999999,
          0.6375,
          0.8500000000000001,
          0.9125000000000001,
          0.9000000000000001,
          0.7499999999999998,
          0.8999999999999999,
          0.825,
          0.7874999999999999,
          0.8375000000000001,
          0.65,
          0.8874999999999998,
          0.825,
          0.9,
          0.8124999999999999,
          0.7499999999999999,
          0.825,
          0.8749999999999999,
          0.8374999999999998,
          0.9125,
          0.85,
          0.8624999999999999,
          0.7999999999999999,
          0.8374999999999999,
          0.8375,
          0.7499999999999999,
          0.9249999999999998,
          0.65,
          0.725,
          0.975,
          0.8875,
          0.775,
          0.825,
          0.8374999999999998,
          0.8500000000000001,
          0.8374999999999998,
          0.6625,
          0.675,
          0.9125,
          0.8375,
          0.7999999999999999,
          0.7374999999999999
         ],
         "xaxis": "x",
         "y": [
          "4",
          "4",
          "4",
          "4",
          "4",
          "4",
          "4",
          "4",
          "4",
          "4",
          "4",
          "4",
          "4",
          "4",
          "4",
          "4",
          "4",
          "4",
          "4",
          "4",
          "4",
          "4",
          "4",
          "4",
          "4",
          "4",
          "4",
          "4",
          "4",
          "4",
          "4",
          "4",
          "4",
          "4",
          "4",
          "4",
          "4",
          "4",
          "4",
          "4",
          "4",
          "4",
          "4",
          "4",
          "4",
          "4",
          "4",
          "4",
          "4",
          "4"
         ],
         "yaxis": "y2"
        },
        {
         "legendgroup": "5",
         "marker": {
          "color": "rgb(44, 160, 44)",
          "symbol": "line-ns-open"
         },
         "mode": "markers",
         "name": "5",
         "showlegend": false,
         "type": "scatter",
         "x": [
          0.73,
          0.8000000000000002,
          0.81,
          0.7999999999999999,
          0.59,
          0.7300000000000001,
          0.8099999999999999,
          0.7800000000000001,
          0.7,
          0.6100000000000001,
          0.7399999999999999,
          0.73,
          0.7799999999999999,
          0.72,
          0.8,
          0.7400000000000001,
          0.6799999999999999,
          0.77,
          0.5999999999999999,
          0.74,
          0.7800000000000002,
          0.8,
          0.6700000000000002,
          0.7300000000000001,
          0.6499999999999999,
          0.7200000000000001,
          0.6699999999999999,
          0.8199999999999998,
          0.76,
          0.7200000000000001,
          0.7,
          0.7500000000000001,
          0.6100000000000001,
          0.5900000000000001,
          0.8000000000000002,
          0.5900000000000001,
          0.6,
          0.8,
          0.7499999999999999,
          0.6900000000000002,
          0.7,
          0.78,
          0.7000000000000001,
          0.7800000000000002,
          0.64,
          0.62,
          0.8199999999999998,
          0.7699999999999999,
          0.6699999999999999,
          0.7000000000000001
         ],
         "xaxis": "x",
         "y": [
          "5",
          "5",
          "5",
          "5",
          "5",
          "5",
          "5",
          "5",
          "5",
          "5",
          "5",
          "5",
          "5",
          "5",
          "5",
          "5",
          "5",
          "5",
          "5",
          "5",
          "5",
          "5",
          "5",
          "5",
          "5",
          "5",
          "5",
          "5",
          "5",
          "5",
          "5",
          "5",
          "5",
          "5",
          "5",
          "5",
          "5",
          "5",
          "5",
          "5",
          "5",
          "5",
          "5",
          "5",
          "5",
          "5",
          "5",
          "5",
          "5",
          "5"
         ],
         "yaxis": "y2"
        },
        {
         "legendgroup": "6",
         "marker": {
          "color": "rgb(214, 39, 40)",
          "symbol": "line-ns-open"
         },
         "mode": "markers",
         "name": "6",
         "showlegend": false,
         "type": "scatter",
         "x": [
          0.6832,
          0.7834500000000002,
          0.6834,
          0.6833500000000001,
          0.60835,
          0.6667,
          0.70835,
          0.68335,
          0.6417,
          0.5666500000000001,
          0.63333325,
          0.47499994999999995,
          0.70833325,
          0.6333333,
          0.75833335,
          0.61666675,
          0.6250001,
          0.6499999999999999,
          0.575,
          0.6416666499999999,
          0.6416666999999999,
          0.7166666500000001,
          0.6166666,
          0.6416666499999998,
          0.625,
          0.6083333999999999,
          0.6166668,
          0.7583333999999998,
          0.6749999999999999,
          0.6666666000000001,
          0.6500000500000002,
          0.65000005,
          0.6000000999999999,
          0.5833333499999999,
          0.6500000000000001,
          0.5916666500000002,
          0.53333335,
          0.74166665,
          0.6916666,
          0.5750000000000002,
          0.5666667,
          0.6333334,
          0.65000005,
          0.73333335,
          0.63333335,
          0.54999995,
          0.7250001,
          0.625,
          0.5499999999999999,
          0.66666675
         ],
         "xaxis": "x",
         "y": [
          "6",
          "6",
          "6",
          "6",
          "6",
          "6",
          "6",
          "6",
          "6",
          "6",
          "6",
          "6",
          "6",
          "6",
          "6",
          "6",
          "6",
          "6",
          "6",
          "6",
          "6",
          "6",
          "6",
          "6",
          "6",
          "6",
          "6",
          "6",
          "6",
          "6",
          "6",
          "6",
          "6",
          "6",
          "6",
          "6",
          "6",
          "6",
          "6",
          "6",
          "6",
          "6",
          "6",
          "6",
          "6",
          "6",
          "6",
          "6",
          "6",
          "6"
         ],
         "yaxis": "y2"
        },
        {
         "legendgroup": "7",
         "marker": {
          "color": "rgb(148, 103, 189)",
          "symbol": "line-ns-open"
         },
         "mode": "markers",
         "name": "7",
         "showlegend": false,
         "type": "scatter",
         "x": [
          0.6855000000000002,
          0.67835,
          0.6783999999999999,
          0.63555,
          0.5356499999999998,
          0.6425999999999998,
          0.6498999999999999,
          0.6926500000000001,
          0.5927,
          0.5498999999999999,
          0.59285735,
          0.6428572999999997,
          0.6142858999999998,
          0.5785715,
          0.6928572999999999,
          0.6214288499999999,
          0.5785716499999999,
          0.6357145,
          0.5857144999999999,
          0.6214287000000001,
          0.6785715500000001,
          0.6428572000000001,
          0.6000001999999999,
          0.6214287999999998,
          0.55714305,
          0.62857165,
          0.5500000500000001,
          0.7000002000000001,
          0.69285725,
          0.69285735,
          0.6142859499999999,
          0.6500002999999999,
          0.56428575,
          0.5785716500000001,
          0.6642859,
          0.5357144,
          0.61428585,
          0.65714295,
          0.6214287000000001,
          0.5785716500000001,
          0.56428585,
          0.6357144499999999,
          0.5928572499999999,
          0.7285716,
          0.5714287,
          0.6071429499999998,
          0.6500001,
          0.6500001999999999,
          0.5714286499999999,
          0.5571429499999999
         ],
         "xaxis": "x",
         "y": [
          "7",
          "7",
          "7",
          "7",
          "7",
          "7",
          "7",
          "7",
          "7",
          "7",
          "7",
          "7",
          "7",
          "7",
          "7",
          "7",
          "7",
          "7",
          "7",
          "7",
          "7",
          "7",
          "7",
          "7",
          "7",
          "7",
          "7",
          "7",
          "7",
          "7",
          "7",
          "7",
          "7",
          "7",
          "7",
          "7",
          "7",
          "7",
          "7",
          "7",
          "7",
          "7",
          "7",
          "7",
          "7",
          "7",
          "7",
          "7",
          "7",
          "7"
         ],
         "yaxis": "y2"
        },
        {
         "legendgroup": "8",
         "marker": {
          "color": "rgb(140, 86, 75)",
          "symbol": "line-ns-open"
         },
         "mode": "markers",
         "name": "8",
         "showlegend": false,
         "type": "scatter",
         "x": [
          0.5999999999999999,
          0.60625,
          0.5625,
          0.60625,
          0.5750000000000001,
          0.59375,
          0.6125,
          0.5437500000000001,
          0.58125,
          0.5,
          0.575,
          0.5750000000000001,
          0.60625,
          0.49999999999999994,
          0.5999999999999999,
          0.5625,
          0.5499999999999998,
          0.6125,
          0.5375,
          0.5749999999999998,
          0.6062500000000001,
          0.61875,
          0.61875,
          0.5625,
          0.5375000000000001,
          0.54375,
          0.59375,
          0.61875,
          0.5875,
          0.54375,
          0.5625000000000001,
          0.5812500000000002,
          0.5499999999999999,
          0.47499999999999987,
          0.60625,
          0.5750000000000001,
          0.5499999999999999,
          0.6624999999999999,
          0.5562500000000001,
          0.5187499999999999,
          0.49375,
          0.6000000000000001,
          0.5750000000000001,
          0.64375,
          0.5687499999999999,
          0.5312499999999999,
          0.5812499999999999,
          0.59375,
          0.46249999999999997,
          0.58125
         ],
         "xaxis": "x",
         "y": [
          "8",
          "8",
          "8",
          "8",
          "8",
          "8",
          "8",
          "8",
          "8",
          "8",
          "8",
          "8",
          "8",
          "8",
          "8",
          "8",
          "8",
          "8",
          "8",
          "8",
          "8",
          "8",
          "8",
          "8",
          "8",
          "8",
          "8",
          "8",
          "8",
          "8",
          "8",
          "8",
          "8",
          "8",
          "8",
          "8",
          "8",
          "8",
          "8",
          "8",
          "8",
          "8",
          "8",
          "8",
          "8",
          "8",
          "8",
          "8",
          "8",
          "8"
         ],
         "yaxis": "y2"
        }
       ],
       "layout": {
        "barmode": "overlay",
        "hovermode": "closest",
        "legend": {
         "traceorder": "reversed"
        },
        "template": {
         "data": {
          "bar": [
           {
            "error_x": {
             "color": "#2a3f5f"
            },
            "error_y": {
             "color": "#2a3f5f"
            },
            "marker": {
             "line": {
              "color": "#E5ECF6",
              "width": 0.5
             }
            },
            "type": "bar"
           }
          ],
          "barpolar": [
           {
            "marker": {
             "line": {
              "color": "#E5ECF6",
              "width": 0.5
             }
            },
            "type": "barpolar"
           }
          ],
          "carpet": [
           {
            "aaxis": {
             "endlinecolor": "#2a3f5f",
             "gridcolor": "white",
             "linecolor": "white",
             "minorgridcolor": "white",
             "startlinecolor": "#2a3f5f"
            },
            "baxis": {
             "endlinecolor": "#2a3f5f",
             "gridcolor": "white",
             "linecolor": "white",
             "minorgridcolor": "white",
             "startlinecolor": "#2a3f5f"
            },
            "type": "carpet"
           }
          ],
          "choropleth": [
           {
            "colorbar": {
             "outlinewidth": 0,
             "ticks": ""
            },
            "type": "choropleth"
           }
          ],
          "contour": [
           {
            "colorbar": {
             "outlinewidth": 0,
             "ticks": ""
            },
            "colorscale": [
             [
              0,
              "#0d0887"
             ],
             [
              0.1111111111111111,
              "#46039f"
             ],
             [
              0.2222222222222222,
              "#7201a8"
             ],
             [
              0.3333333333333333,
              "#9c179e"
             ],
             [
              0.4444444444444444,
              "#bd3786"
             ],
             [
              0.5555555555555556,
              "#d8576b"
             ],
             [
              0.6666666666666666,
              "#ed7953"
             ],
             [
              0.7777777777777778,
              "#fb9f3a"
             ],
             [
              0.8888888888888888,
              "#fdca26"
             ],
             [
              1,
              "#f0f921"
             ]
            ],
            "type": "contour"
           }
          ],
          "contourcarpet": [
           {
            "colorbar": {
             "outlinewidth": 0,
             "ticks": ""
            },
            "type": "contourcarpet"
           }
          ],
          "heatmap": [
           {
            "colorbar": {
             "outlinewidth": 0,
             "ticks": ""
            },
            "colorscale": [
             [
              0,
              "#0d0887"
             ],
             [
              0.1111111111111111,
              "#46039f"
             ],
             [
              0.2222222222222222,
              "#7201a8"
             ],
             [
              0.3333333333333333,
              "#9c179e"
             ],
             [
              0.4444444444444444,
              "#bd3786"
             ],
             [
              0.5555555555555556,
              "#d8576b"
             ],
             [
              0.6666666666666666,
              "#ed7953"
             ],
             [
              0.7777777777777778,
              "#fb9f3a"
             ],
             [
              0.8888888888888888,
              "#fdca26"
             ],
             [
              1,
              "#f0f921"
             ]
            ],
            "type": "heatmap"
           }
          ],
          "heatmapgl": [
           {
            "colorbar": {
             "outlinewidth": 0,
             "ticks": ""
            },
            "colorscale": [
             [
              0,
              "#0d0887"
             ],
             [
              0.1111111111111111,
              "#46039f"
             ],
             [
              0.2222222222222222,
              "#7201a8"
             ],
             [
              0.3333333333333333,
              "#9c179e"
             ],
             [
              0.4444444444444444,
              "#bd3786"
             ],
             [
              0.5555555555555556,
              "#d8576b"
             ],
             [
              0.6666666666666666,
              "#ed7953"
             ],
             [
              0.7777777777777778,
              "#fb9f3a"
             ],
             [
              0.8888888888888888,
              "#fdca26"
             ],
             [
              1,
              "#f0f921"
             ]
            ],
            "type": "heatmapgl"
           }
          ],
          "histogram": [
           {
            "marker": {
             "colorbar": {
              "outlinewidth": 0,
              "ticks": ""
             }
            },
            "type": "histogram"
           }
          ],
          "histogram2d": [
           {
            "colorbar": {
             "outlinewidth": 0,
             "ticks": ""
            },
            "colorscale": [
             [
              0,
              "#0d0887"
             ],
             [
              0.1111111111111111,
              "#46039f"
             ],
             [
              0.2222222222222222,
              "#7201a8"
             ],
             [
              0.3333333333333333,
              "#9c179e"
             ],
             [
              0.4444444444444444,
              "#bd3786"
             ],
             [
              0.5555555555555556,
              "#d8576b"
             ],
             [
              0.6666666666666666,
              "#ed7953"
             ],
             [
              0.7777777777777778,
              "#fb9f3a"
             ],
             [
              0.8888888888888888,
              "#fdca26"
             ],
             [
              1,
              "#f0f921"
             ]
            ],
            "type": "histogram2d"
           }
          ],
          "histogram2dcontour": [
           {
            "colorbar": {
             "outlinewidth": 0,
             "ticks": ""
            },
            "colorscale": [
             [
              0,
              "#0d0887"
             ],
             [
              0.1111111111111111,
              "#46039f"
             ],
             [
              0.2222222222222222,
              "#7201a8"
             ],
             [
              0.3333333333333333,
              "#9c179e"
             ],
             [
              0.4444444444444444,
              "#bd3786"
             ],
             [
              0.5555555555555556,
              "#d8576b"
             ],
             [
              0.6666666666666666,
              "#ed7953"
             ],
             [
              0.7777777777777778,
              "#fb9f3a"
             ],
             [
              0.8888888888888888,
              "#fdca26"
             ],
             [
              1,
              "#f0f921"
             ]
            ],
            "type": "histogram2dcontour"
           }
          ],
          "mesh3d": [
           {
            "colorbar": {
             "outlinewidth": 0,
             "ticks": ""
            },
            "type": "mesh3d"
           }
          ],
          "parcoords": [
           {
            "line": {
             "colorbar": {
              "outlinewidth": 0,
              "ticks": ""
             }
            },
            "type": "parcoords"
           }
          ],
          "scatter": [
           {
            "marker": {
             "colorbar": {
              "outlinewidth": 0,
              "ticks": ""
             }
            },
            "type": "scatter"
           }
          ],
          "scatter3d": [
           {
            "line": {
             "colorbar": {
              "outlinewidth": 0,
              "ticks": ""
             }
            },
            "marker": {
             "colorbar": {
              "outlinewidth": 0,
              "ticks": ""
             }
            },
            "type": "scatter3d"
           }
          ],
          "scattercarpet": [
           {
            "marker": {
             "colorbar": {
              "outlinewidth": 0,
              "ticks": ""
             }
            },
            "type": "scattercarpet"
           }
          ],
          "scattergeo": [
           {
            "marker": {
             "colorbar": {
              "outlinewidth": 0,
              "ticks": ""
             }
            },
            "type": "scattergeo"
           }
          ],
          "scattergl": [
           {
            "marker": {
             "colorbar": {
              "outlinewidth": 0,
              "ticks": ""
             }
            },
            "type": "scattergl"
           }
          ],
          "scattermapbox": [
           {
            "marker": {
             "colorbar": {
              "outlinewidth": 0,
              "ticks": ""
             }
            },
            "type": "scattermapbox"
           }
          ],
          "scatterpolar": [
           {
            "marker": {
             "colorbar": {
              "outlinewidth": 0,
              "ticks": ""
             }
            },
            "type": "scatterpolar"
           }
          ],
          "scatterpolargl": [
           {
            "marker": {
             "colorbar": {
              "outlinewidth": 0,
              "ticks": ""
             }
            },
            "type": "scatterpolargl"
           }
          ],
          "scatterternary": [
           {
            "marker": {
             "colorbar": {
              "outlinewidth": 0,
              "ticks": ""
             }
            },
            "type": "scatterternary"
           }
          ],
          "surface": [
           {
            "colorbar": {
             "outlinewidth": 0,
             "ticks": ""
            },
            "colorscale": [
             [
              0,
              "#0d0887"
             ],
             [
              0.1111111111111111,
              "#46039f"
             ],
             [
              0.2222222222222222,
              "#7201a8"
             ],
             [
              0.3333333333333333,
              "#9c179e"
             ],
             [
              0.4444444444444444,
              "#bd3786"
             ],
             [
              0.5555555555555556,
              "#d8576b"
             ],
             [
              0.6666666666666666,
              "#ed7953"
             ],
             [
              0.7777777777777778,
              "#fb9f3a"
             ],
             [
              0.8888888888888888,
              "#fdca26"
             ],
             [
              1,
              "#f0f921"
             ]
            ],
            "type": "surface"
           }
          ],
          "table": [
           {
            "cells": {
             "fill": {
              "color": "#EBF0F8"
             },
             "line": {
              "color": "white"
             }
            },
            "header": {
             "fill": {
              "color": "#C8D4E3"
             },
             "line": {
              "color": "white"
             }
            },
            "type": "table"
           }
          ]
         },
         "layout": {
          "annotationdefaults": {
           "arrowcolor": "#2a3f5f",
           "arrowhead": 0,
           "arrowwidth": 1
          },
          "colorscale": {
           "diverging": [
            [
             0,
             "#8e0152"
            ],
            [
             0.1,
             "#c51b7d"
            ],
            [
             0.2,
             "#de77ae"
            ],
            [
             0.3,
             "#f1b6da"
            ],
            [
             0.4,
             "#fde0ef"
            ],
            [
             0.5,
             "#f7f7f7"
            ],
            [
             0.6,
             "#e6f5d0"
            ],
            [
             0.7,
             "#b8e186"
            ],
            [
             0.8,
             "#7fbc41"
            ],
            [
             0.9,
             "#4d9221"
            ],
            [
             1,
             "#276419"
            ]
           ],
           "sequential": [
            [
             0,
             "#0d0887"
            ],
            [
             0.1111111111111111,
             "#46039f"
            ],
            [
             0.2222222222222222,
             "#7201a8"
            ],
            [
             0.3333333333333333,
             "#9c179e"
            ],
            [
             0.4444444444444444,
             "#bd3786"
            ],
            [
             0.5555555555555556,
             "#d8576b"
            ],
            [
             0.6666666666666666,
             "#ed7953"
            ],
            [
             0.7777777777777778,
             "#fb9f3a"
            ],
            [
             0.8888888888888888,
             "#fdca26"
            ],
            [
             1,
             "#f0f921"
            ]
           ],
           "sequentialminus": [
            [
             0,
             "#0d0887"
            ],
            [
             0.1111111111111111,
             "#46039f"
            ],
            [
             0.2222222222222222,
             "#7201a8"
            ],
            [
             0.3333333333333333,
             "#9c179e"
            ],
            [
             0.4444444444444444,
             "#bd3786"
            ],
            [
             0.5555555555555556,
             "#d8576b"
            ],
            [
             0.6666666666666666,
             "#ed7953"
            ],
            [
             0.7777777777777778,
             "#fb9f3a"
            ],
            [
             0.8888888888888888,
             "#fdca26"
            ],
            [
             1,
             "#f0f921"
            ]
           ]
          },
          "colorway": [
           "#636efa",
           "#EF553B",
           "#00cc96",
           "#ab63fa",
           "#FFA15A",
           "#19d3f3",
           "#FF6692",
           "#B6E880",
           "#FF97FF",
           "#FECB52"
          ],
          "font": {
           "color": "#2a3f5f"
          },
          "geo": {
           "bgcolor": "white",
           "lakecolor": "white",
           "landcolor": "#E5ECF6",
           "showlakes": true,
           "showland": true,
           "subunitcolor": "white"
          },
          "hoverlabel": {
           "align": "left"
          },
          "hovermode": "closest",
          "mapbox": {
           "style": "light"
          },
          "paper_bgcolor": "white",
          "plot_bgcolor": "#E5ECF6",
          "polar": {
           "angularaxis": {
            "gridcolor": "white",
            "linecolor": "white",
            "ticks": ""
           },
           "bgcolor": "#E5ECF6",
           "radialaxis": {
            "gridcolor": "white",
            "linecolor": "white",
            "ticks": ""
           }
          },
          "scene": {
           "xaxis": {
            "backgroundcolor": "#E5ECF6",
            "gridcolor": "white",
            "gridwidth": 2,
            "linecolor": "white",
            "showbackground": true,
            "ticks": "",
            "zerolinecolor": "white"
           },
           "yaxis": {
            "backgroundcolor": "#E5ECF6",
            "gridcolor": "white",
            "gridwidth": 2,
            "linecolor": "white",
            "showbackground": true,
            "ticks": "",
            "zerolinecolor": "white"
           },
           "zaxis": {
            "backgroundcolor": "#E5ECF6",
            "gridcolor": "white",
            "gridwidth": 2,
            "linecolor": "white",
            "showbackground": true,
            "ticks": "",
            "zerolinecolor": "white"
           }
          },
          "shapedefaults": {
           "line": {
            "color": "#2a3f5f"
           }
          },
          "ternary": {
           "aaxis": {
            "gridcolor": "white",
            "linecolor": "white",
            "ticks": ""
           },
           "baxis": {
            "gridcolor": "white",
            "linecolor": "white",
            "ticks": ""
           },
           "bgcolor": "#E5ECF6",
           "caxis": {
            "gridcolor": "white",
            "linecolor": "white",
            "ticks": ""
           }
          },
          "title": {
           "x": 0.05
          },
          "xaxis": {
           "automargin": true,
           "gridcolor": "white",
           "linecolor": "white",
           "ticks": "",
           "zerolinecolor": "white",
           "zerolinewidth": 2
          },
          "yaxis": {
           "automargin": true,
           "gridcolor": "white",
           "linecolor": "white",
           "ticks": "",
           "zerolinecolor": "white",
           "zerolinewidth": 2
          }
         }
        },
        "title": {
         "text": "Hist and Rug plots of accuracy distribution for various target loads"
        },
        "xaxis": {
         "anchor": "y2",
         "domain": [
          0,
          1
         ],
         "title": {
          "text": "Accuracy distribution for target loads"
         },
         "zeroline": false
        },
        "yaxis": {
         "anchor": "free",
         "domain": [
          0.35,
          1
         ],
         "position": 0,
         "title": {
          "text": "Frequency"
         }
        },
        "yaxis2": {
         "anchor": "x",
         "domain": [
          0,
          0.25
         ],
         "dtick": 1,
         "showticklabels": false
        }
       }
      },
      "text/html": [
       "<div>\n",
       "        \n",
       "        \n",
       "            <div id=\"f69eaa21-7d17-44af-aa9a-801f5ed0680d\" class=\"plotly-graph-div\" style=\"height:525px; width:100%;\"></div>\n",
       "            <script type=\"text/javascript\">\n",
       "                require([\"plotly\"], function(Plotly) {\n",
       "                    window.PLOTLYENV=window.PLOTLYENV || {};\n",
       "                    \n",
       "                if (document.getElementById(\"f69eaa21-7d17-44af-aa9a-801f5ed0680d\")) {\n",
       "                    Plotly.newPlot(\n",
       "                        'f69eaa21-7d17-44af-aa9a-801f5ed0680d',\n",
       "                        [{\"autobinx\": false, \"histnorm\": \"probability density\", \"legendgroup\": \"3\", \"marker\": {\"color\": \"rgb(31, 119, 180)\"}, \"name\": \"3\", \"opacity\": 0.7, \"type\": \"histogram\", \"x\": [0.95005, 1.0, 0.9833500000000001, 0.9833500000000001, 0.8833500000000001, 0.9666999999999999, 0.8834500000000001, 0.9167, 0.9333499999999999, 0.8834000000000001, 0.98333335, 0.8500000999999999, 0.98333335, 0.9333333999999999, 0.98333335, 0.9666666999999999, 0.9333333500000001, 0.9666667, 0.7333335, 0.95000005, 0.95000005, 0.98333335, 0.9666666999999999, 0.9166667499999999, 0.9333334000000001, 0.9500000499999999, 0.9666667, 0.9833333499999999, 0.98333335, 0.9500000499999999, 0.8500001, 0.9500000499999999, 0.8666667, 0.95000005, 0.91666675, 0.8333334499999999, 0.8666668, 0.9833333499999999, 0.98333335, 0.9333333499999998, 0.9000000499999999, 0.95000005, 0.9666667, 0.9500000499999999, 0.8000001000000001, 0.71666665, 0.98333335, 0.86666675, 0.9666667, 0.9333334], \"xaxis\": \"x\", \"xbins\": {\"end\": 1.0, \"size\": 0.06202431569839687, \"start\": 0.71666665}, \"yaxis\": \"y\"}, {\"autobinx\": false, \"histnorm\": \"probability density\", \"legendgroup\": \"4\", \"marker\": {\"color\": \"rgb(255, 127, 14)\"}, \"name\": \"4\", \"opacity\": 0.7, \"type\": \"histogram\", \"x\": [0.8374999999999999, 0.9375, 0.8624999999999998, 0.9, 0.7874999999999999, 0.8124999999999999, 0.8875, 0.9125000000000001, 0.7874999999999999, 0.6375, 0.8500000000000001, 0.9125000000000001, 0.9000000000000001, 0.7499999999999998, 0.8999999999999999, 0.825, 0.7874999999999999, 0.8375000000000001, 0.65, 0.8874999999999998, 0.825, 0.9, 0.8124999999999999, 0.7499999999999999, 0.825, 0.8749999999999999, 0.8374999999999998, 0.9125, 0.85, 0.8624999999999999, 0.7999999999999999, 0.8374999999999999, 0.8375, 0.7499999999999999, 0.9249999999999998, 0.65, 0.725, 0.975, 0.8875, 0.775, 0.825, 0.8374999999999998, 0.8500000000000001, 0.8374999999999998, 0.6625, 0.675, 0.9125, 0.8375, 0.7999999999999999, 0.7374999999999999], \"xaxis\": \"x\", \"xbins\": {\"end\": 0.975, \"size\": 0.07830229881682914, \"start\": 0.6375}, \"yaxis\": \"y\"}, {\"autobinx\": false, \"histnorm\": \"probability density\", \"legendgroup\": \"5\", \"marker\": {\"color\": \"rgb(44, 160, 44)\"}, \"name\": \"5\", \"opacity\": 0.7, \"type\": \"histogram\", \"x\": [0.73, 0.8000000000000002, 0.81, 0.7999999999999999, 0.59, 0.7300000000000001, 0.8099999999999999, 0.7800000000000001, 0.7, 0.6100000000000001, 0.7399999999999999, 0.73, 0.7799999999999999, 0.72, 0.8, 0.7400000000000001, 0.6799999999999999, 0.77, 0.5999999999999999, 0.74, 0.7800000000000002, 0.8, 0.6700000000000002, 0.7300000000000001, 0.6499999999999999, 0.7200000000000001, 0.6699999999999999, 0.8199999999999998, 0.76, 0.7200000000000001, 0.7, 0.7500000000000001, 0.6100000000000001, 0.5900000000000001, 0.8000000000000002, 0.5900000000000001, 0.6, 0.8, 0.7499999999999999, 0.6900000000000002, 0.7, 0.78, 0.7000000000000001, 0.7800000000000002, 0.64, 0.62, 0.8199999999999998, 0.7699999999999999, 0.6699999999999999, 0.7000000000000001], \"xaxis\": \"x\", \"xbins\": {\"end\": 0.8199999999999998, \"size\": 0.06921965038917778, \"start\": 0.59}, \"yaxis\": \"y\"}, {\"autobinx\": false, \"histnorm\": \"probability density\", \"legendgroup\": \"6\", \"marker\": {\"color\": \"rgb(214, 39, 40)\"}, \"name\": \"6\", \"opacity\": 0.7, \"type\": \"histogram\", \"x\": [0.6832, 0.7834500000000002, 0.6834, 0.6833500000000001, 0.60835, 0.6667, 0.70835, 0.68335, 0.6417, 0.5666500000000001, 0.63333325, 0.47499994999999995, 0.70833325, 0.6333333, 0.75833335, 0.61666675, 0.6250001, 0.6499999999999999, 0.575, 0.6416666499999999, 0.6416666999999999, 0.7166666500000001, 0.6166666, 0.6416666499999998, 0.625, 0.6083333999999999, 0.6166668, 0.7583333999999998, 0.6749999999999999, 0.6666666000000001, 0.6500000500000002, 0.65000005, 0.6000000999999999, 0.5833333499999999, 0.6500000000000001, 0.5916666500000002, 0.53333335, 0.74166665, 0.6916666, 0.5750000000000002, 0.5666667, 0.6333334, 0.65000005, 0.73333335, 0.63333335, 0.54999995, 0.7250001, 0.625, 0.5499999999999999, 0.66666675], \"xaxis\": \"x\", \"xbins\": {\"end\": 0.7834500000000002, \"size\": 0.06148760389650442, \"start\": 0.47499994999999995}, \"yaxis\": \"y\"}, {\"autobinx\": false, \"histnorm\": \"probability density\", \"legendgroup\": \"7\", \"marker\": {\"color\": \"rgb(148, 103, 189)\"}, \"name\": \"7\", \"opacity\": 0.7, \"type\": \"histogram\", \"x\": [0.6855000000000002, 0.67835, 0.6783999999999999, 0.63555, 0.5356499999999998, 0.6425999999999998, 0.6498999999999999, 0.6926500000000001, 0.5927, 0.5498999999999999, 0.59285735, 0.6428572999999997, 0.6142858999999998, 0.5785715, 0.6928572999999999, 0.6214288499999999, 0.5785716499999999, 0.6357145, 0.5857144999999999, 0.6214287000000001, 0.6785715500000001, 0.6428572000000001, 0.6000001999999999, 0.6214287999999998, 0.55714305, 0.62857165, 0.5500000500000001, 0.7000002000000001, 0.69285725, 0.69285735, 0.6142859499999999, 0.6500002999999999, 0.56428575, 0.5785716500000001, 0.6642859, 0.5357144, 0.61428585, 0.65714295, 0.6214287000000001, 0.5785716500000001, 0.56428585, 0.6357144499999999, 0.5928572499999999, 0.7285716, 0.5714287, 0.6071429499999998, 0.6500001, 0.6500001999999999, 0.5714286499999999, 0.5571429499999999], \"xaxis\": \"x\", \"xbins\": {\"end\": 0.7285716, \"size\": 0.04835293750605936, \"start\": 0.5356499999999998}, \"yaxis\": \"y\"}, {\"autobinx\": false, \"histnorm\": \"probability density\", \"legendgroup\": \"8\", \"marker\": {\"color\": \"rgb(140, 86, 75)\"}, \"name\": \"8\", \"opacity\": 0.7, \"type\": \"histogram\", \"x\": [0.5999999999999999, 0.60625, 0.5625, 0.60625, 0.5750000000000001, 0.59375, 0.6125, 0.5437500000000001, 0.58125, 0.5, 0.575, 0.5750000000000001, 0.60625, 0.49999999999999994, 0.5999999999999999, 0.5625, 0.5499999999999998, 0.6125, 0.5375, 0.5749999999999998, 0.6062500000000001, 0.61875, 0.61875, 0.5625, 0.5375000000000001, 0.54375, 0.59375, 0.61875, 0.5875, 0.54375, 0.5625000000000001, 0.5812500000000002, 0.5499999999999999, 0.47499999999999987, 0.60625, 0.5750000000000001, 0.5499999999999999, 0.6624999999999999, 0.5562500000000001, 0.5187499999999999, 0.49375, 0.6000000000000001, 0.5750000000000001, 0.64375, 0.5687499999999999, 0.5312499999999999, 0.5812499999999999, 0.59375, 0.46249999999999997, 0.58125], \"xaxis\": \"x\", \"xbins\": {\"end\": 0.6624999999999999, \"size\": 0.04066171417931125, \"start\": 0.46249999999999997}, \"yaxis\": \"y\"}, {\"legendgroup\": \"3\", \"marker\": {\"color\": \"rgb(31, 119, 180)\"}, \"mode\": \"lines\", \"name\": \"3\", \"showlegend\": false, \"type\": \"scatter\", \"x\": [0.71666665, 0.7172333167, 0.7177999834, 0.7183666501, 0.7189333167999999, 0.7194999835, 0.7200666501999999, 0.7206333169, 0.7211999835999999, 0.7217666503, 0.7223333169999999, 0.7228999837, 0.7234666503999999, 0.7240333171, 0.7245999838, 0.7251666505, 0.7257333172, 0.7262999839, 0.7268666506, 0.7274333172999999, 0.727999984, 0.7285666506999999, 0.7291333174, 0.7296999840999999, 0.7302666508, 0.7308333174999999, 0.7313999842, 0.7319666509, 0.7325333176, 0.7330999843, 0.733666651, 0.7342333177, 0.7347999843999999, 0.7353666511, 0.7359333177999999, 0.7364999845, 0.7370666511999999, 0.7376333179, 0.7381999845999999, 0.7387666513, 0.7393333179999999, 0.7398999847, 0.7404666514, 0.7410333181, 0.7415999848, 0.7421666514999999, 0.7427333182, 0.7432999848999999, 0.7438666516, 0.7444333182999999, 0.744999985, 0.7455666516999999, 0.7461333184, 0.7466999851, 0.7472666518, 0.7478333185, 0.7483999852, 0.7489666519, 0.7495333185999999, 0.7500999853, 0.7506666519999999, 0.7512333187, 0.7517999853999999, 0.7523666521, 0.7529333187999999, 0.7534999855, 0.7540666521999999, 0.7546333189, 0.7551999856, 0.7557666523, 0.756333319, 0.7568999856999999, 0.7574666524, 0.7580333190999999, 0.7585999858, 0.7591666524999999, 0.7597333192, 0.7602999858999999, 0.7608666526, 0.7614333193, 0.761999986, 0.7625666527, 0.7631333194, 0.7636999861, 0.7642666528, 0.7648333195, 0.7653999861999999, 0.7659666529, 0.7665333195999999, 0.7670999863, 0.7676666529999999, 0.7682333197, 0.7687999863999999, 0.7693666531, 0.7699333198, 0.7704999865, 0.7710666532, 0.7716333199, 0.7721999866, 0.7727666532999999, 0.77333332, 0.7738999866999999, 0.7744666534, 0.7750333200999999, 0.7755999868, 0.7761666534999999, 0.7767333202, 0.7772999869, 0.7778666536, 0.7784333203, 0.778999987, 0.7795666537, 0.7801333203999999, 0.7806999871, 0.7812666537999999, 0.7818333205, 0.7823999871999999, 0.7829666539, 0.7835333205999999, 0.7840999873, 0.784666654, 0.7852333207, 0.7857999874, 0.7863666541, 0.7869333208, 0.7874999874999999, 0.7880666542, 0.7886333208999999, 0.7891999876, 0.7897666542999999, 0.790333321, 0.7908999877, 0.7914666544, 0.7920333210999999, 0.7925999878, 0.7931666545, 0.7937333212, 0.7942999879, 0.7948666545999999, 0.7954333213, 0.7959999879999999, 0.7965666547, 0.7971333213999999, 0.7976999881, 0.7982666547999999, 0.7988333215, 0.7993999882, 0.7999666549, 0.8005333216, 0.8010999883, 0.801666655, 0.8022333217, 0.8027999884, 0.8033666550999999, 0.8039333218, 0.8044999884999999, 0.8050666552, 0.8056333218999999, 0.8061999886, 0.8067666552999999, 0.807333322, 0.8078999887, 0.8084666554, 0.8090333221, 0.8095999888, 0.8101666555, 0.8107333221999999, 0.8112999889, 0.8118666555999999, 0.8124333223, 0.8129999889999999, 0.8135666557, 0.8141333224, 0.8146999891, 0.8152666558, 0.8158333225, 0.8163999892, 0.8169666559, 0.8175333226, 0.8180999892999999, 0.818666656, 0.8192333226999999, 0.8197999894, 0.8203666560999999, 0.8209333228, 0.8214999894999999, 0.8220666562, 0.8226333229, 0.8231999896, 0.8237666563, 0.824333323, 0.8248999897, 0.8254666563999999, 0.8260333231, 0.8265999897999999, 0.8271666565, 0.8277333231999999, 0.8282999899, 0.8288666566, 0.8294333233, 0.82999999, 0.8305666567, 0.8311333234, 0.8316999901, 0.8322666568, 0.8328333235, 0.8333999902, 0.8339666568999999, 0.8345333236, 0.8350999902999999, 0.835666657, 0.8362333236999999, 0.8367999904, 0.8373666571, 0.8379333238, 0.8384999905, 0.8390666572, 0.8396333239, 0.8401999906, 0.8407666573, 0.8413333239999999, 0.8418999907, 0.8424666573999999, 0.8430333241, 0.8435999908, 0.8441666575, 0.8447333242, 0.8452999909, 0.8458666576, 0.8464333243, 0.846999991, 0.8475666577000001, 0.8481333244, 0.8486999910999999, 0.8492666578, 0.8498333245, 0.8503999912, 0.8509666578999999, 0.8515333246, 0.8520999913, 0.852666658, 0.8532333247, 0.8537999914, 0.8543666581, 0.8549333248, 0.8554999915, 0.8560666582, 0.8566333249, 0.8571999915999999, 0.8577666583, 0.858333325, 0.8588999917, 0.8594666583999999, 0.8600333251, 0.8605999918, 0.8611666585, 0.8617333252, 0.8622999919000001, 0.8628666586, 0.8634333252999999, 0.863999992, 0.8645666587, 0.8651333254, 0.8656999920999999, 0.8662666588, 0.8668333255, 0.8673999922, 0.8679666589, 0.8685333256, 0.8690999923, 0.869666659, 0.8702333257, 0.8707999924000001, 0.8713666591, 0.8719333257999999, 0.8724999925, 0.8730666592, 0.8736333259, 0.8741999925999999, 0.8747666593, 0.875333326, 0.8758999927, 0.8764666594, 0.8770333261, 0.8775999928, 0.8781666595, 0.8787333262, 0.8792999929, 0.8798666596, 0.8804333262999999, 0.880999993, 0.8815666597, 0.8821333264, 0.8826999931, 0.8832666598, 0.8838333265, 0.8843999932, 0.8849666599, 0.8855333266000001, 0.8860999933, 0.8866666599999999, 0.8872333267, 0.8877999934, 0.8883666601, 0.8889333267999999, 0.8894999935, 0.8900666602, 0.8906333269, 0.8911999936, 0.8917666603, 0.892333327, 0.8928999937, 0.8934666604, 0.8940333271, 0.8945999938, 0.8951666604999999, 0.8957333272, 0.8962999939, 0.8968666606, 0.8974333273, 0.897999994, 0.8985666607, 0.8991333274, 0.8996999941, 0.9002666608000001, 0.9008333275, 0.9013999941999999, 0.9019666609, 0.9025333276, 0.9030999943, 0.9036666609999999, 0.9042333277, 0.9047999944, 0.9053666611, 0.9059333278, 0.9064999945, 0.9070666612, 0.9076333279, 0.9081999946, 0.9087666613000001, 0.909333328, 0.9098999946999999, 0.9104666614, 0.9110333281, 0.9115999948, 0.9121666614999999, 0.9127333282, 0.9132999949, 0.9138666616, 0.9144333283, 0.9149999950000001, 0.9155666617, 0.9161333284, 0.9166999951, 0.9172666618, 0.9178333285, 0.9183999951999999, 0.9189666619, 0.9195333286, 0.9200999953, 0.920666662, 0.9212333287, 0.9217999954, 0.9223666621, 0.9229333288, 0.9234999955000001, 0.9240666622, 0.9246333288999999, 0.9251999956, 0.9257666623, 0.926333329, 0.9268999956999999, 0.9274666624, 0.9280333291, 0.9285999958, 0.9291666625, 0.9297333292, 0.9302999959, 0.9308666626, 0.9314333293, 0.931999996, 0.9325666627, 0.9331333293999999, 0.9336999961, 0.9342666628, 0.9348333295, 0.9353999962, 0.9359666629, 0.9365333296, 0.9370999963, 0.937666663, 0.9382333297000001, 0.9387999964, 0.9393666630999999, 0.9399333298, 0.9404999965, 0.9410666632, 0.9416333298999999, 0.9421999966, 0.9427666633, 0.94333333, 0.9438999967, 0.9444666634, 0.9450333301, 0.9455999968, 0.9461666635, 0.9467333302000001, 0.9472999969, 0.9478666635999999, 0.9484333303, 0.948999997, 0.9495666637, 0.9501333304, 0.9506999971, 0.9512666638, 0.9518333305, 0.9523999972, 0.9529666639000001, 0.9535333306, 0.9540999973, 0.954666664, 0.9552333307, 0.9557999974, 0.9563666640999999, 0.9569333308, 0.9574999975, 0.9580666642, 0.9586333309, 0.9591999976, 0.9597666643, 0.960333331, 0.9608999977, 0.9614666644000001, 0.9620333311, 0.9625999977999999, 0.9631666645, 0.9637333312, 0.9642999979, 0.9648666645999999, 0.9654333313, 0.965999998, 0.9665666647, 0.9671333313999999, 0.9676999981000001, 0.9682666648, 0.9688333315, 0.9693999982, 0.9699666649, 0.9705333316, 0.9710999982999999, 0.971666665, 0.9722333317, 0.9727999984, 0.9733666650999999, 0.9739333318, 0.9744999985, 0.9750666652, 0.9756333319, 0.9761999986, 0.9767666653, 0.9773333319999999, 0.9778999987, 0.9784666654, 0.9790333321, 0.9795999987999999, 0.9801666655, 0.9807333322, 0.9812999989, 0.9818666655999999, 0.9824333323, 0.982999999, 0.9835666657, 0.9841333324, 0.9846999991, 0.9852666658, 0.9858333324999999, 0.9863999992, 0.9869666659, 0.9875333326, 0.9880999992999999, 0.988666666, 0.9892333327, 0.9897999994, 0.9903666661, 0.9909333328, 0.9914999995, 0.9920666662, 0.9926333329, 0.9931999996, 0.9937666663, 0.9943333329999999, 0.9948999997, 0.9954666664, 0.9960333331, 0.9965999997999999, 0.9971666665, 0.9977333332, 0.9982999999, 0.9988666666, 0.9994333333], \"xaxis\": \"x\", \"y\": [0.5177403617780482, 0.5206063033041178, 0.5233126509595323, 0.5258574071422443, 0.5282387679363848, 0.5304551274352115, 0.53250508174136, 0.5343874326338528, 0.5361011908919889, 0.5376455792670582, 0.5390200350935722, 0.5402242125325523, 0.5412579844402398, 0.5421214438564732, 0.5428149051078497, 0.5433389045216985, 0.54369420074781, 0.5438817746857891, 0.5439028290168467, 0.5437587873397839, 0.5434512929118758, 0.5429822069963093, 0.5423536068187859, 0.5415677831368426, 0.5406272374263827, 0.5395346786908393, 0.538293019899319, 0.5369053740609684, 0.5353750499436973, 0.5337055474462628, 0.5319005526335611, 0.5299639324457928, 0.5278997290929751, 0.5257121541470186, 0.5234055823443483, 0.5209845451127241, 0.5184537238366145, 0.5158179428760642, 0.5130821623546514, 0.5102514707326102, 0.5073310771817764, 0.5043263037794171, 0.5012425775384942, 0.4980854222922302, 0.4948604504512193, 0.4915733546516062, 0.4882298993130691, 0.48483591212557053, 0.48139727548394806, 0.47791991788953453, 0.4744098053380207, 0.47087293271278713, 0.46731531520285136, 0.4637429797645032, 0.46016195664551757, 0.45657827099065446, 0.45299793454689585, 0.44942693748657464, 0.44587124036621884, 0.44233676623852125, 0.4388293929344507, 0.4353549455320036, 0.431919189027623, 0.4285278212257078, 0.4251864658610861, 0.4219006659686552, 0.41867587751374247, 0.4155174632960319, 0.4124306871391689, 0.40942070837738254, 0.40649257664967414, 0.40365122701131256, 0.4009014753715, 0.3982480142652451, 0.3956954089665521, 0.3932480939491686, 0.3909103697001712, 0.3886863998907842, 0.38658020890782363, 0.3845956797482614, 0.3827365522784016, 0.38100642185822015, 0.37940873833045063, 0.3779468053730245, 0.3766237802125309, 0.37544267369538864, 0.37440635071249323, 0.37351753097215346, 0.3727787901152199, 0.37219256116539207, 0.37176113630681396, 0.37148666898018645, 0.3713711762877878, 0.37141654169697214, 0.37162451803091556, 0.3719967307346199, 0.3725346814034513, 0.3732397515607798, 0.3741132066706353, 0.375156200370652, 0.37636977890999274, 0.37775488577639, 0.3793123664959348, 0.38104297358877576, 0.38294737166348136, 0.3850261426324308, 0.3872797910302868, 0.3897087494173175, 0.39231338384911085, 0.3950939993940503, 0.39805084567978166, 0.4011841224498524, 0.4044939851116458, 0.4079805502568092, 0.41164390113540167, 0.4154840930651893, 0.41950115875763755, 0.4236951135424509, 0.42806596047275364, 0.432613695293398, 0.43733831125523326, 0.4422398037586619, 0.4473181748102775, 0.4525734372769193, 0.45800561892210134, 0.46361476621036385, 0.46940094786582987, 0.4753642581719115, 0.4815048199999442, 0.48782278755525205, 0.49431834883007225, 0.5009917277535518, 0.5078431860300177, 0.5148730246576025, 0.5220815851202897, 0.5294692502474341, 0.5370364447358311, 0.5447836353304214, 0.5527113306607613, 0.5608200807314994, 0.5691104760660844, 0.5775831465041154, 0.5862387596537216, 0.5950780190015501, 0.6041016616839285, 0.6133104559239428, 0.6227051981401559, 0.6322867097338357, 0.6420558335625642, 0.6520134301091233, 0.6621603733556448, 0.6724975463738669, 0.683025836643482, 0.6937461311113209, 0.7046593110051824, 0.7157662464168588, 0.7270677906698741, 0.7385647744881201, 0.7502579999824757, 0.7621482344730699, 0.7742362041656589, 0.7865225877010794, 0.7990080095974428, 0.8116930336051681, 0.8245781559954537, 0.8376637988032545, 0.8509503030460964, 0.8644379219405042, 0.8781268141379217, 0.8920170370023612, 0.9061085399519939, 0.920401157887132, 0.9348946047269264, 0.9495884670771975, 0.964482198051636, 0.979575111268459, 0.9948663750444777, 1.010355006808127, 1.0260398677528326, 1.0419196577515477, 1.0579929105530226, 1.0742579892796957, 1.0907130822467361, 1.107356199120981, 1.124185167438043, 1.1411976294949953, 1.1583910396354733, 1.1757626619430297, 1.193309568357983, 1.2110286372319425, 1.2289165523333225, 1.246969802316289, 1.2651846806644522, 1.2835572861197448, 1.302083523605727, 1.3207591056536305, 1.3395795543381688, 1.3585402037292256, 1.3776362028641314, 1.3968625192442956, 1.4162139428586322, 1.435685090735008, 1.455270412019862, 1.4749641935847173, 1.4947605661572825, 1.5146535109734003, 1.5346368669450687, 1.5547043383382966, 1.5748495029535632, 1.5950658208001556, 1.6153466432547015, 1.6356852226927525, 1.6560747225812884, 1.6765082280186234, 1.6969787567072088, 1.7174792703435444, 1.7380026864082991, 1.7585418903387346, 1.779089748064254, 1.7996391188850738, 1.8201828686727444, 1.8407138833704952, 1.8612250827701804, 1.8817094345419245, 1.9021599684914012, 1.9225697910190986, 1.9429320997549988, 1.9632401983411858, 1.983487511334539, 2.0036675992006074, 2.0237741733694343, 2.0438011113233197, 2.063742471686149, 2.083592509283334, 2.103345690141042, 2.122996706393033, 2.142540491063147, 2.1619722326911974, 2.181287389769861, 2.2004817049600702, 2.2195512190523052, 2.238492284641294, 2.257301579481502, 2.2759761194912036, 2.2945132713728666, 2.3129107648180938, 2.331166704265486, 2.34927958018038, 2.3672482798258048, 2.3850720974945405, 2.4027507441728053, 2.420284356606828, 2.4376735057442085, 2.4549192045228767, 2.472022914981338, 2.4889865546648213, 2.5058125023030313, 2.522503602736186, 2.53906317106733, 2.555494996020013, 2.571803342481745, 2.58799295321496, 2.604069049718701, 2.620037332225617, 2.6359039788203114, 2.6516756436668434, 2.667359454334612, 2.682963008213591, 2.69849436801155, 2.7139620563277083, 2.729375049298929, 2.7447427693165287, 2.7600750768134437, 2.775382261123522, 2.7906750304165238, 2.8059645007142984, 2.8212621839955867, 2.836579975398826, 2.8519301395342183, 2.8673252959183113, 2.8827784035462454, 2.898302744618774, 2.91391190744307, 2.9296197685281387, 2.945440473897695, 2.9613884196449987, 2.9774782317561566, 2.9937247452299216, 3.0101429825240054, 3.0267481313594002, 3.043555521915851, 3.060580603453292, 3.077838920395415, 3.095346087913093, 3.113117767046582, 3.131169639406933, 3.149517381497954, 3.168176638701504, 3.187162998969559, 3.206491966267815, 3.226178933816113, 3.246239157171832, 3.2666877272030863, 3.287539542998993, 3.308809284764806, 3.330511386749875, 3.3526600102567783, 3.3752690167799555, 3.398351941322183, 3.4219219659370554, 3.445991893545505, 3.470574122073896, 3.495680618960862, 3.521322896079356, 3.5475119851198365, 3.5742584134795545, 3.601572180702046, 3.6294627355099136, 3.657938953472857, 3.687009115351665, 3.7166808861574565, 3.7469612949642923, 3.7778567155113527, 3.809372847629749, 3.8415146995268596, 3.8742865709597236, 3.907692037326933, 3.9417339347066163, 3.9764143458661505, 4.011734587267235, 4.047695197087832, 4.084295924280316, 4.121535718683097, 4.1594127222007655, 4.1979242610655625, 4.237066839190633, 4.276836132623624, 4.317226985106311, 4.358233404744486, 4.399848561789267, 4.442064787529417, 4.484873574291685, 4.528265576544084, 4.572230613094905, 4.616757670378237, 4.661834906814548, 4.707449658232984, 4.753588444340095, 4.80023697621792, 4.847380164832349, 4.895002130531167, 4.943086213509496, 4.991614985218798, 5.040570260694113, 5.089933111772855, 5.1396838811774295, 5.189802197432472, 5.24026699058665, 5.291056508708075, 5.342148335121316, 5.393519406353796, 5.445146030757954, 5.497003907775962, 5.549068147812666, 5.6013132926828355, 5.653713336598017, 5.7062417476586775, 5.758871489817508, 5.811575045279411, 5.86432443730458, 5.9170912533810665, 5.96984666873419, 6.022561470140013, 6.075206080011659, 6.127750580727229, 6.18016473916973, 6.232418031449461, 6.284479667781095, 6.3363186174882244, 6.387903634109764, 6.439203280583073, 6.490185954480495, 6.540819913277211, 6.591073299628985, 6.640914166640496, 6.690310503105546, 6.739230258702417, 6.787641369128241, 6.835511781158198, 6.882809477616095, 6.929502502244855, 6.975558984465502, 7.020947164015834, 7.065635415460106, 7.1095922725621445, 7.152786452516067, 7.195186880029067, 7.236762711251682, 7.277483357552102, 7.317318509131306, 7.356238158476998, 7.3942126236542505, 7.431212571431537, 7.467209040241314, 7.502173462973954, 7.5360776896046495, 7.568894009652327, 7.600595174470017, 7.631154419365414, 7.660545485550497, 7.688742641918325, 7.715720706644873, 7.741455068612863, 7.765921708653965, 7.789097220605044, 7.810958832172832, 7.831484425600828, 7.850652558130715, 7.868442482249905, 7.884834165715004, 7.8998083113401965, 7.913346376537914, 7.925430592597795, 7.936043983688595, 7.945170385566049, 7.952794463968421, 7.958901732679808, 7.963478571239774, 7.966512242276505, 7.9679909084390665, 7.96790364890296, 7.96624047542181, 7.962992347896533, 7.958151189432182, 7.951709900851317, 7.94366237463167, 7.934003508234877, 7.922729216791872, 7.909836445109997, 7.8953231789658735, 7.879188455647715, 7.861432373710094, 7.8420561019039665, 7.821061887244591, 7.798453062179874, 7.774234050821863, 7.748410374204414, 7.720988654530535, 7.6919766183735545, 7.661383098796946, 7.629218036358942, 7.59549247896891, 7.5602185805640625, 7.5234095985763565, 7.485079890161416, 7.445244907162967, 7.403921189788461, 7.361126358973465, 7.316879107415335, 7.27119918925853, 7.224107408417126, 7.175625605522448, 7.125776643487053, 7.074584391679176, 7.022073708704516, 6.968270423796493, 6.913201316818297, 6.856894096884045, 6.799377379610063, 6.740680663010269, 6.680834302053696, 6.61986948190525, 6.557818189875155, 6.4947131861054785, 6.430587973025763, 6.36547676361391, 6.29941444850127, 6.232436561964868, 6.164579246852458, 6.095879218490274, 6.026373727625601, 5.956100522460057, 5.885097809831784, 5.813404215608294, 5.741058744353835, 5.668100738337407, 5.594569835950835, 5.520505929607344, 5.445949123193845, 5.370939689151075, 5.295518025258294, 5.219724611199535, 5.1435999649902815, 5.067184599343492, 4.990518978055631, 4.913643472492566, 4.836598318256423, 4.7594235721132945, 4.682159069262679, 4.6048443810279585], \"yaxis\": \"y\"}, {\"legendgroup\": \"4\", \"marker\": {\"color\": \"rgb(255, 127, 14)\"}, \"mode\": \"lines\", \"name\": \"4\", \"showlegend\": false, \"type\": \"scatter\", \"x\": [0.6375, 0.6381749999999999, 0.6388499999999999, 0.639525, 0.6402, 0.640875, 0.64155, 0.6422249999999999, 0.6428999999999999, 0.643575, 0.64425, 0.644925, 0.6456, 0.6462749999999999, 0.6469499999999999, 0.647625, 0.6483, 0.648975, 0.64965, 0.6503249999999999, 0.6509999999999999, 0.651675, 0.65235, 0.653025, 0.6537, 0.6543749999999999, 0.6550499999999999, 0.655725, 0.6564, 0.657075, 0.65775, 0.6584249999999999, 0.6590999999999999, 0.659775, 0.66045, 0.661125, 0.6617999999999999, 0.6624749999999999, 0.6631499999999999, 0.663825, 0.6645, 0.665175, 0.6658499999999999, 0.6665249999999999, 0.6672, 0.667875, 0.66855, 0.669225, 0.6698999999999999, 0.6705749999999999, 0.6712499999999999, 0.671925, 0.6726, 0.673275, 0.6739499999999999, 0.6746249999999999, 0.6753, 0.675975, 0.67665, 0.677325, 0.6779999999999999, 0.6786749999999999, 0.6793499999999999, 0.680025, 0.6807, 0.681375, 0.6820499999999999, 0.6827249999999999, 0.6834, 0.684075, 0.68475, 0.685425, 0.6860999999999999, 0.6867749999999999, 0.68745, 0.688125, 0.6888, 0.689475, 0.6901499999999999, 0.6908249999999999, 0.6915, 0.692175, 0.69285, 0.693525, 0.6941999999999999, 0.6948749999999999, 0.69555, 0.696225, 0.6969, 0.697575, 0.6982499999999999, 0.698925, 0.6996, 0.700275, 0.70095, 0.7016249999999999, 0.7022999999999999, 0.7029749999999999, 0.70365, 0.704325, 0.705, 0.7056749999999999, 0.7063499999999999, 0.707025, 0.7077, 0.708375, 0.70905, 0.7097249999999999, 0.7103999999999999, 0.7110749999999999, 0.71175, 0.712425, 0.7131, 0.7137749999999999, 0.7144499999999999, 0.715125, 0.7158, 0.716475, 0.71715, 0.7178249999999999, 0.7184999999999999, 0.719175, 0.71985, 0.720525, 0.7212, 0.7218749999999999, 0.72255, 0.723225, 0.7239, 0.724575, 0.72525, 0.7259249999999999, 0.7265999999999999, 0.727275, 0.72795, 0.728625, 0.7293, 0.7299749999999999, 0.73065, 0.731325, 0.732, 0.732675, 0.73335, 0.7340249999999999, 0.7346999999999999, 0.735375, 0.73605, 0.736725, 0.7373999999999999, 0.7380749999999999, 0.73875, 0.739425, 0.7401, 0.740775, 0.7414499999999999, 0.7421249999999999, 0.7427999999999999, 0.743475, 0.74415, 0.744825, 0.7454999999999999, 0.7461749999999999, 0.74685, 0.747525, 0.7482, 0.748875, 0.7495499999999999, 0.7502249999999999, 0.7508999999999999, 0.751575, 0.75225, 0.752925, 0.7535999999999999, 0.7542749999999999, 0.75495, 0.755625, 0.7563, 0.756975, 0.7576499999999999, 0.7583249999999999, 0.759, 0.759675, 0.76035, 0.761025, 0.7616999999999999, 0.762375, 0.76305, 0.763725, 0.7644, 0.765075, 0.7657499999999999, 0.7664249999999999, 0.7671, 0.767775, 0.76845, 0.769125, 0.7697999999999999, 0.770475, 0.77115, 0.771825, 0.7725, 0.773175, 0.7738499999999999, 0.7745249999999999, 0.7752, 0.775875, 0.77655, 0.7772249999999999, 0.7778999999999999, 0.778575, 0.77925, 0.779925, 0.7806, 0.7812749999999999, 0.7819499999999999, 0.7826249999999999, 0.7833, 0.783975, 0.78465, 0.7853249999999999, 0.7859999999999999, 0.786675, 0.78735, 0.788025, 0.7887, 0.7893749999999999, 0.7900499999999999, 0.790725, 0.7914, 0.792075, 0.79275, 0.7934249999999999, 0.7941, 0.794775, 0.79545, 0.796125, 0.7968, 0.7974749999999999, 0.7981499999999999, 0.798825, 0.7995, 0.800175, 0.80085, 0.8015249999999999, 0.8022, 0.802875, 0.80355, 0.804225, 0.8049, 0.8055749999999999, 0.8062499999999999, 0.806925, 0.8076, 0.808275, 0.80895, 0.8096249999999999, 0.8103, 0.810975, 0.81165, 0.812325, 0.813, 0.8136749999999999, 0.81435, 0.815025, 0.8157, 0.816375, 0.8170499999999999, 0.817725, 0.8184, 0.819075, 0.81975, 0.820425, 0.8210999999999999, 0.8217749999999999, 0.8224499999999999, 0.823125, 0.8238, 0.824475, 0.8251499999999999, 0.825825, 0.8265, 0.827175, 0.82785, 0.828525, 0.8291999999999999, 0.8298749999999999, 0.8305499999999999, 0.831225, 0.8319, 0.832575, 0.8332499999999999, 0.833925, 0.8346, 0.835275, 0.83595, 0.836625, 0.8372999999999999, 0.8379749999999999, 0.8386499999999999, 0.839325, 0.84, 0.840675, 0.84135, 0.842025, 0.8427, 0.843375, 0.84405, 0.844725, 0.8453999999999999, 0.8460749999999999, 0.8467499999999999, 0.847425, 0.8481, 0.848775, 0.84945, 0.850125, 0.8508, 0.851475, 0.85215, 0.8528249999999999, 0.8534999999999999, 0.8541749999999999, 0.85485, 0.855525, 0.8562, 0.856875, 0.85755, 0.858225, 0.8589, 0.859575, 0.86025, 0.8609249999999999, 0.8615999999999999, 0.8622749999999999, 0.86295, 0.863625, 0.8643, 0.8649749999999999, 0.86565, 0.866325, 0.867, 0.867675, 0.86835, 0.8690249999999999, 0.8696999999999999, 0.870375, 0.87105, 0.871725, 0.8724, 0.8730749999999999, 0.87375, 0.874425, 0.8751, 0.875775, 0.87645, 0.8771249999999999, 0.8777999999999999, 0.878475, 0.87915, 0.879825, 0.8805, 0.8811749999999999, 0.88185, 0.882525, 0.8832, 0.883875, 0.88455, 0.8852249999999999, 0.8858999999999999, 0.886575, 0.88725, 0.887925, 0.8886000000000001, 0.889275, 0.88995, 0.890625, 0.8913, 0.891975, 0.8926499999999999, 0.8933249999999999, 0.8939999999999999, 0.8946749999999999, 0.89535, 0.8960250000000001, 0.8967, 0.897375, 0.89805, 0.898725, 0.8994, 0.900075, 0.9007499999999999, 0.9014249999999999, 0.9020999999999999, 0.902775, 0.90345, 0.904125, 0.9048, 0.905475, 0.90615, 0.906825, 0.9075, 0.908175, 0.9088499999999999, 0.9095249999999999, 0.9102, 0.9108749999999999, 0.91155, 0.912225, 0.9129, 0.913575, 0.91425, 0.914925, 0.9156, 0.916275, 0.9169499999999999, 0.9176249999999999, 0.9182999999999999, 0.918975, 0.91965, 0.9203250000000001, 0.9209999999999999, 0.921675, 0.92235, 0.923025, 0.9237, 0.924375, 0.9250499999999999, 0.9257249999999999, 0.9264, 0.927075, 0.92775, 0.928425, 0.9291, 0.929775, 0.93045, 0.931125, 0.9318, 0.9324749999999999, 0.9331499999999999, 0.933825, 0.9344999999999999, 0.935175, 0.93585, 0.936525, 0.9372, 0.937875, 0.93855, 0.939225, 0.9399, 0.9405749999999999, 0.9412499999999999, 0.9419249999999999, 0.9426, 0.943275, 0.9439500000000001, 0.9446249999999999, 0.9453, 0.945975, 0.94665, 0.947325, 0.948, 0.9486749999999999, 0.9493499999999999, 0.950025, 0.9507, 0.951375, 0.95205, 0.952725, 0.9534, 0.954075, 0.95475, 0.955425, 0.9561, 0.9567749999999999, 0.95745, 0.9581249999999999, 0.9588, 0.959475, 0.9601500000000001, 0.960825, 0.9615, 0.962175, 0.96285, 0.963525, 0.9642, 0.9648749999999999, 0.9655499999999999, 0.966225, 0.9669, 0.9675750000000001, 0.9682499999999999, 0.968925, 0.9696, 0.970275, 0.97095, 0.971625, 0.9722999999999999, 0.9729749999999999, 0.97365, 0.974325], \"xaxis\": \"x\", \"y\": [0.9609888668913539, 0.9694208178761545, 0.9776644363386533, 0.9857154678669268, 0.9935698863786322, 1.0012239024736538, 1.0086739714772002, 1.015916801154556, 1.0229493590791507, 1.029768879636199, 1.036372870644776, 1.042759119581852, 1.0489256993925027, 1.054870973871274, 1.0605936026004796, 1.066092545432016, 1.071367066500177, 1.0764167377538545, 1.0812414419974332, 1.0858413754307061, 1.0902170496791037, 1.0943692933065945, 1.0982992528046644, 1.102008393051878, 1.1054984972396114, 1.1087716662607041, 1.1118303175588788, 1.1146771834379727, 1.1173153088311494, 1.1197480485314604, 1.1219790638862768, 1.1240123189593083, 1.125852076165082, 1.1275028913819334, 1.1289696085507304, 1.1302573537676786, 1.1313715288807251, 1.1323178046001734, 1.1331021131352437, 1.1337306403693783, 1.1342098175881612, 1.1345463127747426, 1.1347470214886526, 1.1348190573448678, 1.1347697421109129, 1.1346065954406779, 1.134337324264482, 1.1339698118557335, 1.1335121065952873, 1.1329724104553422, 1.1323590672253694, 1.1316805505032053, 1.1309454514750055, 1.1301624665082628, 1.1293403845825785, 1.128488074583256, 1.1276144724831552, 1.1267285684385318, 1.1258393938248057, 1.1249560082383994, 1.124087486490872, 1.1232429056216517, 1.122431331955634, 1.12166180823187, 1.1209433408294098, 1.1202848871161928, 1.1196953429466134, 1.1191835303330835, 1.1187581853165245, 1.118427946060317, 1.118201341191712, 1.1180867784141906, 1.1180925334136387, 1.118226739080549, 1.1184973750697618, 1.1189122577184825, 1.119479030342511, 1.120205153929758, 1.1210978982492212, 1.1221643333926414, 1.1234113217650756, 1.1248455105395978, 1.1264733245902603, 1.1283009599163674, 1.130334377569976, 1.1325792980973688, 1.135041196504075, 1.1377252977517998, 1.1406365727943875, 1.1437797351587087, 1.1471592380750923, 1.1507792721606458, 1.1546437636575435, 1.1587563732270594, 1.1631204952988348, 1.1677392579735872, 1.1726155234761855, 1.1777518891547256, 1.1831506890199948, 1.1888139958184214, 1.1947436236304376, 1.2009411309848708, 1.207407824478866, 1.214144762891627, 1.2211527617791191, 1.2284323985358045, 1.235984017908332, 1.2438077379451324, 1.2519034563648164, 1.2602708573253292, 1.2689094185748944, 1.277818418964887, 1.2869969463039923, 1.296443905532162, 1.306158027192219, 1.3161378761762497, 1.3263818607233082, 1.336888241644427, 1.3476551417503706, 1.3586805554571655, 1.3699623585440441, 1.381498318038105, 1.3932861021997307, 1.4053232905826272, 1.4176073841421606, 1.4301358153656334, 1.4429059583981168, 1.4559151391374783, 1.4691606452724142, 1.4826397362373827, 1.4963496530586484, 1.5102876280659037, 1.52445089444427, 1.5388366956019675, 1.5534422943293065, 1.5682649817252623, 1.5833020858684808, 1.5985509802101168, 1.6140090916666896, 1.6296739083918081, 1.6455429872064782, 1.6616139606684313, 1.6778845437618957, 1.6943525401900863, 1.7110158482536746, 1.727872466299482, 1.7449204977246604, 1.7621581555227464, 1.7795837663589713, 1.797195774163402, 1.8149927432316342, 1.8329733608238514, 1.8511364392543743, 1.869480917464883, 1.8880058620758273, 1.9067104679117288, 1.9255940579972786, 1.9446560830224553, 1.9638961202760374, 1.983313872048262, 2.002909163504452, 2.022681940032848, 2.0426322640710044, 2.0627603114163535, 2.083066367027816, 2.1035508203264115, 2.124214160004132, 2.145056968351416, 2.1660799151147447, 2.187283750896981, 2.2086693001141424, 2.2302374535234675, 2.25198916033849, 2.2739254199480237, 2.2960472732568142, 2.3183557936665977, 2.3408520777172335, 2.363537235408352, 2.3864123802228927, 2.4094786188746333, 2.4327370408025355, 2.4561887074355435, 2.47983464125195, 2.5036758146582345, 2.5277131387127523, 2.5519474517201846, 2.5763795077231104, 2.601009964917609, 2.6258393740199653, 2.650868166612073, 2.676096643493293, 2.7015249630667926, 2.7271531297885394, 2.752980982707234, 2.779008184123623, 2.805234208397475, 2.831658330930616, 2.8582796173542993, 2.885096912948898, 2.9121088323239848, 2.9393137493862516, 2.9667097876227237, 2.9942948107261698, 3.02206641358925, 3.0500219136934588, 3.0781583429183574, 3.106472439796115, 3.134960642235519, 3.16361908073916, 3.192443572136593, 3.221429613855462, 3.2505723787518983, 3.279866710520296, 3.309307119701874, 3.3388877803102806, 3.368602527091454, 3.3984448534338303, 3.428407909943838, 3.4584845037004435, 3.488667098201117, 3.5189478140104455, 3.5493184301211747, 3.5797703860360577, 3.6102947845775613, 3.640882395430869, 3.671523659424183, 3.702208693548834, 3.732927296720042, 3.7636689562775825, 3.7944228552241204, 3.8251778801970437, 3.8559226301682883, 3.886645425864634, 3.9173343198995645, 3.9479771076057375, 3.9785613385556613, 4.0090743287563395, 4.039503173501855, 4.0698347608662715, 4.100055785817451, 4.130152764930672, 4.16011205167933, 4.18991985227825, 4.219562242053587, 4.249025182311647, 4.278294537677439, 4.3073560938722535, 4.336195575898007, 4.364798666594787, 4.393151025536632, 4.421238308229216, 4.449046185571991, 4.476560363546028, 4.503766603087925, 4.530650740108857, 4.55719870561721, 4.5833965459022155, 4.609230442735327, 4.634686733545521, 4.6597519315239815, 4.68441274561339, 4.708656100336625, 4.732469155419464, 4.755839325161803, 4.778754297511995, 4.801202052798907, 4.823170882076734, 4.844649405037851, 4.86562658744961, 4.886091758071607, 4.906034625010622, 4.925445291471484, 4.944314270863004, 4.962632501219367, 4.980391358898528, 4.997582671520719, 5.014198730111481, 5.030232300415506, 5.045676633349067, 5.060525474560921, 5.074773073073337, 5.088414188977115, 5.101444100156545, 5.11385860802255, 5.125654042234652, 5.136827264394726, 5.1473756706981515, 5.157297193530428, 5.166590302000077, 5.175254001401244, 5.183287831602257, 5.190691864359054, 5.197466699555403, 5.203613460374464, 5.209133787409216, 5.2140298317221205, 5.21830424686723, 5.221960179890755, 5.225001261329021, 5.2274315942254015, 5.229255742190711, 5.230478716534121, 5.231105962494353, 5.231143344603506, 5.230597131218336, 5.22947397825621, 5.227780912175364, 5.225525312241178, 5.222714892122481, 5.219357680863684, 5.215462003280608, 5.211036459829487, 5.206089906000322, 5.200631431287126, 5.19467033778904, 5.188216118497372, 5.181278435324606, 5.1738670969323834, 5.16599203641597, 5.15766328890337, 5.1488909691275, 5.139685249030016, 5.130056335455409, 5.120014447993696, 5.109569797029789, 5.098732562057008, 5.087512870311488, 5.075920775783348, 5.06396623865948, 5.051659105251504, 5.039009088461092, 5.0260257488333355, 5.012718476247063, 4.999096472289188, 4.985168733358236, 4.970944034539896, 4.956430914295332, 4.941637660000561, 4.92657229437257, 4.911242562815476, 4.89565592171696, 4.8798195277228125, 4.863740228014164, 4.847424551609249, 4.83087870170841, 4.814108549098, 4.797119626625741, 4.779917124756886, 4.762505888217386, 4.7448904137271075, 4.727074848822833, 4.709062991767768, 4.69085829254088, 4.672463854896562, 4.653882439481667, 4.63511646799421, 4.616168028364854, 4.597038880939464, 4.577730465638107, 4.558243910063215, 4.53858003852683, 4.518739381964403, 4.498722188700133, 4.478528436026462, 4.458157842558218, 4.437609881319763, 4.416883793521579, 4.3959786029809775, 4.374893131139934, 4.353626012631593, 4.332175711345623, 4.31054053694148, 4.288718661757621, 4.266708138063876, 4.24450691560345, 4.222112859370676, 4.1995237675701445, 4.176737389702825, 4.15375144472464, 4.130563639223305, 4.1071716855594556, 4.083573319918624, 4.059766320221342, 4.035748523839419, 4.011517845067395, 3.9870722922993704, 3.9624099848626546, 3.9375291694609937, 3.912428236181858, 3.887105734023729, 3.861560385901324, 3.835791103088374, 3.809796999059789, 3.783577402696987, 3.7571318708224917, 3.7304602000320175, 3.7035624377948126, 3.676438892795336, 3.6490901444917307, 3.6215170518693776, 3.593720761370042, 3.5657027139799506, 3.53746465146269, 3.509008621725449, 3.480336983309793, 3.4514524090008023, 3.422357888550955, 3.3930567305180057, 3.363552563218262, 3.3338493347997153, 3.3039513124415194, 3.273863080689169, 3.2435895389368357, 3.2131358980708122, 3.1825076762902365, 3.1517106941234236, 3.1207510686603124, 3.089635207023451, 3.058369799101984, 3.0269618095747526, 2.9954184692505903, 2.963747265755149, 2.9319559335955914, 2.9000524436352304, 2.86804499201211, 2.8359419885361934, 2.8037520446010884, 2.7714839606470867, 2.7391467132130396, 2.706749441615352, 2.67430143429271, 2.6418121148558362, 2.6092910278816284, 2.5767478244912403, 2.5441922477518437, 2.511634117941568, 2.4790833177169214, 2.446549777221879, 2.414043459177148, 2.381574343987755, 2.3491524149064547, 2.3167876432895333, 2.284489973981182, 2.2522693108610525, 2.2201355025892835, 2.1880983285815763, 2.1561674852462045, 2.124352572513257, 2.092663080685286, 2.061108377637076, 2.029697696390818, 1.998440123091511, 1.9673445854058587, 1.9364198413663603, 1.9056744686806344, 1.8751168545245511, 1.8447551858357607, 1.8145974401229892, 1.7846513768042507, 1.7549245290859055, 1.7254241963925045, 1.696157437355761, 1.667131063369327, 1.6383516327143455, 1.609825445259152, 1.5815585377347725, 1.5535566795864504, 1.525825369399684, 1.4983698318978798, 1.4711950155071256, 1.4443055904823041, 1.4177059475872213, 1.3914001973202215, 1.3653921696753908, 1.3396854144283015, 1.3142832019340749, 1.2891885244243408, 1.2644040977889288, 1.2399323638267226, 1.2157754929496931, 1.1919353873228886, 1.1684136844227202, 1.1452117609949684, 1.1223307373934979, 1.0997714822799534, 1.0775346176644334, 1.0556205242665881, 1.034029347176309, 1.0127610017929827, 0.991815180021948, 0.9711913567068889, 0.9508887962765694, 0.9309065595846712, 0.9112435109211702, 0.8918983251742045, 0.8728694951213282, 0.8541553388293959, 0.8357540071426369, 0.8176634912387977, 0.7998816302336994], \"yaxis\": \"y\"}, {\"legendgroup\": \"5\", \"marker\": {\"color\": \"rgb(44, 160, 44)\"}, \"mode\": \"lines\", \"name\": \"5\", \"showlegend\": false, \"type\": \"scatter\", \"x\": [0.59, 0.59046, 0.59092, 0.59138, 0.5918399999999999, 0.5922999999999999, 0.59276, 0.59322, 0.59368, 0.59414, 0.5946, 0.5950599999999999, 0.5955199999999999, 0.59598, 0.59644, 0.5969, 0.59736, 0.59782, 0.5982799999999999, 0.5987399999999999, 0.5992, 0.59966, 0.60012, 0.60058, 0.60104, 0.6014999999999999, 0.6019599999999999, 0.60242, 0.60288, 0.60334, 0.6038, 0.6042599999999999, 0.6047199999999999, 0.6051799999999999, 0.60564, 0.6061, 0.60656, 0.60702, 0.6074799999999999, 0.6079399999999999, 0.6083999999999999, 0.60886, 0.60932, 0.60978, 0.61024, 0.6106999999999999, 0.6111599999999999, 0.6116199999999999, 0.61208, 0.61254, 0.613, 0.61346, 0.6139199999999999, 0.6143799999999999, 0.6148399999999999, 0.6153, 0.61576, 0.61622, 0.61668, 0.6171399999999999, 0.6175999999999999, 0.6180599999999999, 0.61852, 0.61898, 0.61944, 0.6199, 0.6203599999999999, 0.6208199999999999, 0.6212799999999999, 0.62174, 0.6222, 0.62266, 0.6231199999999999, 0.6235799999999999, 0.6240399999999999, 0.6244999999999999, 0.62496, 0.62542, 0.62588, 0.6263399999999999, 0.6267999999999999, 0.6272599999999999, 0.62772, 0.62818, 0.62864, 0.6291, 0.6295599999999999, 0.6300199999999999, 0.6304799999999999, 0.63094, 0.6314, 0.63186, 0.63232, 0.6327799999999999, 0.6332399999999999, 0.6336999999999999, 0.63416, 0.63462, 0.63508, 0.63554, 0.6359999999999999, 0.6364599999999999, 0.6369199999999999, 0.63738, 0.63784, 0.6383, 0.63876, 0.6392199999999999, 0.6396799999999999, 0.6401399999999999, 0.6406, 0.64106, 0.64152, 0.64198, 0.6424399999999999, 0.6428999999999999, 0.6433599999999999, 0.64382, 0.64428, 0.64474, 0.6451999999999999, 0.6456599999999999, 0.6461199999999999, 0.6465799999999999, 0.64704, 0.6475, 0.64796, 0.6484199999999999, 0.6488799999999999, 0.6493399999999999, 0.6497999999999999, 0.65026, 0.65072, 0.65118, 0.6516399999999999, 0.6520999999999999, 0.6525599999999999, 0.6530199999999999, 0.65348, 0.65394, 0.6543999999999999, 0.6548599999999999, 0.6553199999999999, 0.6557799999999999, 0.6562399999999999, 0.6567, 0.65716, 0.6576199999999999, 0.6580799999999999, 0.6585399999999999, 0.6589999999999999, 0.6594599999999999, 0.65992, 0.66038, 0.6608399999999999, 0.6612999999999999, 0.6617599999999999, 0.6622199999999999, 0.6626799999999999, 0.66314, 0.6636, 0.6640599999999999, 0.6645199999999999, 0.6649799999999999, 0.6654399999999999, 0.6658999999999999, 0.66636, 0.66682, 0.6672799999999999, 0.6677399999999999, 0.6681999999999999, 0.6686599999999999, 0.6691199999999999, 0.66958, 0.67004, 0.6704999999999999, 0.6709599999999999, 0.6714199999999999, 0.6718799999999999, 0.6723399999999999, 0.6728, 0.67326, 0.6737199999999999, 0.6741799999999999, 0.6746399999999999, 0.6750999999999999, 0.6755599999999999, 0.67602, 0.67648, 0.6769399999999999, 0.6773999999999999, 0.6778599999999999, 0.6783199999999999, 0.6787799999999999, 0.67924, 0.6797, 0.6801599999999999, 0.6806199999999999, 0.6810799999999999, 0.6815399999999999, 0.6819999999999999, 0.68246, 0.68292, 0.6833799999999999, 0.6838399999999999, 0.6842999999999999, 0.6847599999999999, 0.6852199999999999, 0.68568, 0.68614, 0.6865999999999999, 0.6870599999999999, 0.6875199999999999, 0.6879799999999999, 0.6884399999999999, 0.6889, 0.68936, 0.6898199999999999, 0.6902799999999999, 0.6907399999999999, 0.6911999999999999, 0.6916599999999999, 0.69212, 0.6925799999999999, 0.6930399999999999, 0.6934999999999999, 0.6939599999999999, 0.6944199999999999, 0.6948799999999999, 0.69534, 0.6957999999999999, 0.6962599999999999, 0.6967199999999999, 0.6971799999999999, 0.6976399999999999, 0.6980999999999999, 0.69856, 0.6990199999999999, 0.6994799999999999, 0.6999399999999999, 0.7003999999999999, 0.7008599999999999, 0.7013199999999999, 0.70178, 0.7022399999999999, 0.7026999999999999, 0.7031599999999999, 0.7036199999999999, 0.7040799999999999, 0.7045399999999999, 0.7049999999999998, 0.7054599999999999, 0.7059199999999999, 0.7063799999999999, 0.7068399999999999, 0.7072999999999999, 0.70776, 0.7082199999999998, 0.7086799999999999, 0.7091399999999999, 0.7095999999999999, 0.7100599999999999, 0.7105199999999999, 0.71098, 0.7114399999999999, 0.7118999999999999, 0.7123599999999999, 0.7128199999999999, 0.7132799999999999, 0.7137399999999999, 0.7142, 0.7146599999999999, 0.7151199999999999, 0.7155799999999999, 0.7160399999999999, 0.7164999999999999, 0.7169599999999999, 0.71742, 0.7178799999999999, 0.7183399999999999, 0.7187999999999999, 0.7192599999999999, 0.7197199999999999, 0.7201799999999999, 0.72064, 0.7210999999999999, 0.7215599999999999, 0.7220199999999999, 0.7224799999999999, 0.7229399999999999, 0.7233999999999998, 0.72386, 0.7243199999999999, 0.7247799999999999, 0.7252399999999999, 0.7256999999999999, 0.7261599999999999, 0.7266199999999998, 0.72708, 0.7275399999999999, 0.7279999999999999, 0.7284599999999999, 0.7289199999999999, 0.7293799999999999, 0.7298399999999998, 0.7303, 0.7307599999999999, 0.7312199999999999, 0.7316799999999999, 0.7321399999999999, 0.7325999999999999, 0.7330599999999998, 0.73352, 0.7339799999999999, 0.7344399999999999, 0.7348999999999999, 0.7353599999999999, 0.7358199999999999, 0.7362799999999998, 0.73674, 0.7371999999999999, 0.7376599999999999, 0.7381199999999999, 0.7385799999999999, 0.7390399999999999, 0.7394999999999998, 0.73996, 0.7404199999999999, 0.7408799999999999, 0.7413399999999999, 0.7417999999999999, 0.7422599999999999, 0.7427199999999998, 0.74318, 0.7436399999999999, 0.7440999999999999, 0.7445599999999999, 0.7450199999999999, 0.7454799999999999, 0.7459399999999998, 0.7464, 0.7468599999999999, 0.7473199999999999, 0.7477799999999999, 0.7482399999999999, 0.7486999999999999, 0.7491599999999998, 0.74962, 0.7500799999999999, 0.7505399999999999, 0.7509999999999999, 0.7514599999999999, 0.7519199999999999, 0.7523799999999998, 0.75284, 0.7532999999999999, 0.7537599999999999, 0.7542199999999999, 0.7546799999999999, 0.7551399999999999, 0.7555999999999998, 0.75606, 0.7565199999999999, 0.7569799999999999, 0.7574399999999999, 0.7578999999999998, 0.7583599999999999, 0.7588199999999998, 0.7592799999999998, 0.7597399999999999, 0.7601999999999999, 0.7606599999999999, 0.7611199999999998, 0.7615799999999999, 0.7620399999999998, 0.7624999999999998, 0.7629599999999999, 0.7634199999999999, 0.7638799999999999, 0.7643399999999998, 0.7647999999999999, 0.7652599999999998, 0.7657199999999998, 0.7661799999999999, 0.7666399999999999, 0.7670999999999999, 0.7675599999999998, 0.7680199999999999, 0.7684799999999998, 0.7689399999999998, 0.7693999999999999, 0.7698599999999999, 0.7703199999999999, 0.7707799999999998, 0.7712399999999999, 0.7716999999999998, 0.7721599999999998, 0.7726199999999999, 0.7730799999999999, 0.7735399999999999, 0.7739999999999998, 0.7744599999999999, 0.7749199999999998, 0.7753799999999998, 0.7758399999999999, 0.7762999999999999, 0.7767599999999999, 0.7772199999999998, 0.7776799999999999, 0.7781399999999998, 0.7785999999999998, 0.7790599999999999, 0.7795199999999999, 0.7799799999999999, 0.7804399999999998, 0.7808999999999999, 0.7813599999999998, 0.7818199999999998, 0.7822799999999999, 0.7827399999999999, 0.7831999999999999, 0.7836599999999998, 0.7841199999999999, 0.7845799999999998, 0.7850399999999998, 0.7854999999999999, 0.7859599999999999, 0.7864199999999999, 0.7868799999999998, 0.7873399999999998, 0.7877999999999998, 0.7882599999999998, 0.7887199999999999, 0.7891799999999999, 0.7896399999999999, 0.7900999999999998, 0.7905599999999998, 0.7910199999999998, 0.7914799999999999, 0.7919399999999999, 0.7923999999999999, 0.7928599999999999, 0.7933199999999998, 0.7937799999999998, 0.7942399999999998, 0.7946999999999999, 0.7951599999999999, 0.7956199999999999, 0.7960799999999999, 0.7965399999999998, 0.7969999999999998, 0.7974599999999998, 0.7979199999999999, 0.7983799999999999, 0.7988399999999999, 0.7992999999999999, 0.7997599999999998, 0.8002199999999998, 0.8006799999999998, 0.8011399999999999, 0.8015999999999999, 0.8020599999999999, 0.8025199999999999, 0.8029799999999998, 0.8034399999999998, 0.8038999999999998, 0.8043599999999999, 0.8048199999999999, 0.8052799999999999, 0.8057399999999999, 0.8061999999999998, 0.8066599999999998, 0.8071199999999998, 0.8075799999999999, 0.8080399999999999, 0.8084999999999999, 0.8089599999999999, 0.8094199999999998, 0.8098799999999998, 0.8103399999999998, 0.8107999999999999, 0.8112599999999999, 0.8117199999999999, 0.8121799999999999, 0.8126399999999998, 0.8130999999999998, 0.8135599999999998, 0.8140199999999999, 0.8144799999999999, 0.8149399999999999, 0.8153999999999998, 0.8158599999999998, 0.8163199999999998, 0.8167799999999998, 0.8172399999999999, 0.8176999999999999, 0.8181599999999999, 0.8186199999999998, 0.8190799999999998, 0.8195399999999998], \"xaxis\": \"x\", \"y\": [1.9542833593195765, 1.9666311983835223, 1.9787756382310369, 1.9907140722696661, 2.002444046795297, 2.0139632637052745, 2.025269583068155, 2.036361025546764, 2.047235774671159, 2.057892178958379, 2.0683287538761292, 2.0785441836475638, 2.088537322894784, 2.0983071981185555, 2.107853009012324, 2.1171741296084763, 2.126270109255282, 2.1351406734229785, 2.1437857243378153, 2.1522053414430093, 2.1603997816858445, 2.168369479630335, 2.17611504739514, 2.183637274416597, 2.1909371270370253, 2.1980157479186078, 2.2048744552834822, 2.2115147419807752, 2.2179382743816847, 2.224146891103769, 2.2301426015660217, 2.235927584376297, 2.2415041855531146, 2.246874916583842, 2.25204245232169, 2.2570096287239463, 2.261779440434267, 2.2663550382118864, 2.2707397262109024, 2.2749369591129187, 2.27895033911654, 2.2827836127873606, 2.286440667772313, 2.289925529382311, 2.293242357047387, 2.29639544064858, 2.2993891967310445, 2.3022281646029223, 2.304917002324714, 2.307460482593939, 2.309863488530053, 2.3121310093646428, 2.314268136042036, 2.316280056735582, 2.3181720522848663, 2.319949491559295, 2.321617826753458, 2.323182588619783, 2.324649381644054, 2.3260238791693477, 2.3273118184740533, 2.3285189958095907, 2.329651261403495, 2.330714514433548, 2.3317146979786045, 2.332657793951779, 2.3335498180216177, 2.3343968145268814, 2.3352048513905017, 2.3359800150382535, 2.3367284053276145, 2.3374561304922556, 2.338169302107508, 2.3388740300821125, 2.339576417681437, 2.3402825565873284, 2.3409985219995857, 2.3417303677840238, 2.342484121671941, 2.3432657805157215, 2.344081305605151, 2.3449366180489633, 2.3458375942259435, 2.346790061309813, 2.3477997928719945, 2.3488725045661947, 2.3500138498985956, 2.3512294160873135, 2.352524720014629, 2.3539052042753137, 2.3553762333242525, 2.3569430897263643, 2.358610970511709, 2.360384983638434, 2.362270144566124, 2.3642713729418716, 2.3663934894012866, 2.36864121248643, 2.37101915568254, 2.373531824575184, 2.3761836141293773, 2.3789788060919452, 2.3819215665183298, 2.3850159434247744, 2.388265864566737, 2.3916751353441494, 2.3952474368340235, 2.398986323950675, 2.4028952237337666, 2.406977433764101, 2.411236120707035, 2.4156743189831653, 2.4202949295658014, 2.425100718904619, 2.430094317974685, 2.4352782214499653, 2.440654787000227, 2.446226234710159, 2.4519946466193954, 2.457961966381949, 2.4641299990435277, 2.4705004109350046, 2.477074729680251, 2.483854344316396, 2.4908405055245386, 2.4980343259687143, 2.505436780740988, 2.513048707910285, 2.520870809172659, 2.528903650600417, 2.537147663487691, 2.545603145289734, 2.554270260653314, 2.5631490425354877, 2.5722393934079237, 2.5815410865439974, 2.5910537673857132, 2.60077695498762, 2.610710043534702, 2.6208523039313367, 2.631202885458263, 2.641760817494638, 2.65252501130204, 2.6634942618675237, 2.674667249802595, 2.6860425432951534, 2.697618600111311, 2.7093937696441786, 2.721366295006535, 2.7335343151644813, 2.7458958671091067, 2.7584488880632865, 2.771191217720684, 2.784120600514202, 2.7972346879109757, 2.8105310407313007, 2.8240071314886332, 2.8376603467481654, 2.851487989501265, 2.865487281553337, 2.8796553659225466, 2.8939893092470883, 2.9084861041985732, 2.9231426718993307, 2.937955864341353, 2.9529224668048593, 2.9680392002742875, 2.983302723849893, 2.9987096371529, 3.014256482722554, 3.0299397484031654, 3.045755869719659, 3.0617012322399244, 3.0777721739225803, 3.0939649874486572, 3.110275922535988, 3.1267011882349705, 3.143236955204619, 3.159879357967795, 3.1766244971447053, 3.193468441663678, 3.2104072309484777, 3.227436877081372, 3.244553366941381, 3.261752664316976, 3.2790307119929594, 3.2963834338108726, 3.3138067367027992, 3.331296512698105, 3.3488486409030975, 3.366458989453311, 3.384123417438487, 3.40183777680015, 3.4195979142019537, 3.4373996728727843, 3.455238894422968, 3.4731114206336358, 3.4910130952197425, 3.5089397655668377, 3.5268872844422225, 3.5448515116806867, 3.5628283158454805, 3.5808135758648736, 3.598803182644939, 3.6167930406590494, 3.6347790695147313, 3.6527572054984216, 3.6707234030988447, 3.688673636509542, 3.70660390111132, 3.7245102149351585, 3.7423886201064147, 3.760235184270767, 3.77804600200278, 3.795817196197595, 3.8135449194465054, 3.8312253553969295, 3.8488547200975356, 3.8664292633290147, 3.883945269921102, 3.90139906105641, 3.9187869955616015, 3.936105471186299, 3.9533509258703323, 3.9705198389995546, 3.987608732650721, 4.004614172825674, 4.021532770675191, 4.03836118371257, 4.055096117017312, 4.07173432442881, 4.08827260973031, 4.104707827822905, 4.121036885889757, 4.137256744550178, 4.153364419003554, 4.169356980162757, 4.185231555776767, 4.200985331542088, 4.216615552202521, 4.23211952263673, 4.247494608933064, 4.262738239450878, 4.2778479058677314, 4.292821164211514, 4.307655635876797, 4.322349008624257, 4.336899037562401, 4.351303546110276, 4.365560426940207, 4.3796676428992445, 4.393623227908123, 4.407425287836309, 4.421072001351881, 4.434561620744679, 4.447892472721279, 4.4610629591702695, 4.474071557896152, 4.486916823320359, 4.499597387147514, 4.512111958995454, 4.524459326987014, 4.536638358302007, 4.54864799968741, 4.5604872779240635, 4.572155300247924, 4.583651254724072, 4.594974410571567, 4.606124118437285, 4.617099810616861, 4.627901001220844, 4.638527286284191, 4.648978343817334, 4.659253933796846, 4.669353898094045, 4.679278160339675, 4.689026725722974, 4.698599680723385, 4.707997192773332, 4.717219509850408, 4.726266959997458, 4.735139950769075, 4.743838968603138, 4.752364578115994, 4.760717421320121, 4.76889821676297, 4.776907758586104, 4.784746915503401, 4.792416629697687, 4.799917915634792, 4.807251858794548, 4.8144196143180045, 4.821422405570532, 4.828261522620435, 4.834938320632889, 4.841454218179147, 4.847810695461038, 4.854009292451007, 4.860051606948037, 4.865939292549826, 4.8716740565420285, 4.877257657705152, 4.882691904040155, 4.88797865041373, 4.893119796124573, 4.898117282391936, 4.902973089768052, 4.907689235476084, 4.912267770675472, 4.916710777656589, 4.921020366967008, 4.925198674471487, 4.92924785834831, 4.933170096024456, 4.93696758105246, 4.94064251993176, 4.9441971288777, 4.94763363054128, 4.950954250683061, 4.954161214804655, 4.957256744741405, 4.960243055220028, 4.963122350385023, 4.965896820297869, 4.968568637413076, 4.9711399530353315, 4.973612893761999, 4.975989557915416, 4.9782720119695165, 4.980462286975284, 4.982562374989814, 4.984574225513629, 4.98649974194112, 4.9883407780289915, 4.990099134387566, 4.991776554999985, 4.993374723774298, 4.9948952611334265, 4.9963397206481295, 4.997709585717971, 4.999006266305419, 5.000231095728092, 5.0013853275142734, 5.002470132326646, 5.003486594959336, 5.004435711413167, 5.005318386054101, 5.006135428859691, 5.006887552758345, 5.007575371066173, 5.008199395026021, 5.008760031453259, 5.009257580492782, 5.009692233491606, 5.010064070991229, 5.010373060843942, 5.010619056457023, 5.010801795168679, 5.01092089675944, 5.010975862102529, 5.010966071956579, 5.010890785904, 5.010749141437876, 5.010540153200414, 5.010262712375521, 5.009915586237996, 5.009497417861661, 5.009006725988438, 5.008441905060312, 5.007801225415758, 5.007082833652115, 5.006284753155102, 5.005404884796443, 5.004441007800382, 5.003390780779586, 5.002251742940745, 5.001021315459882, 4.999696803027232, 4.998275395561216, 4.996754170090857, 4.995130092805716, 4.993400021272215, 4.991560706814915, 4.989608797061102, 4.987540838646864, 4.985353280082447, 4.983042474774614, 4.98060468420333, 4.978036081250064, 4.975332753674486, 4.972490707736451, 4.969505871959617, 4.966374101033081, 4.963091179847009, 4.959652827658174, 4.956054702380995, 4.952292404999588, 4.948361484095989, 4.9442574404897295, 4.939975731983548, 4.935511778210012, 4.930860965573589, 4.926018652282512, 4.920980173464732, 4.915740846362017, 4.910295975596137, 4.904640858501027, 4.898770790514528, 4.892681070623439, 4.886367006855277, 4.879823921810179, 4.873047158226307, 4.866032084571944, 4.858774100657542, 4.8512686432607675, 4.8435111917577265, 4.835497273753377, 4.827222470704121, 4.8186824235257175, 4.809872838179367, 4.800789491229136, 4.791428235363646, 4.7817850048751565, 4.771855821089109, 4.761636797737289, 4.7511241462677445, 4.7403141810848695, 4.729203324712785, 4.717788112875654, 4.706065199488238, 4.694031361550551, 4.6816835039400795, 4.669018664095679, 4.656034016586913, 4.642726877563143, 4.629094709076488, 4.615135123273201, 4.600845886447974, 4.586224922955972, 4.571270318977499, 4.555980326130521, 4.540353364926186, 4.524388028063081, 4.508083083555718, 4.49143747769344, 4.474450337825613, 4.457120974969748, 4.439448886238959, 4.421433757085716, 4.403075463358876, 4.3843740731713465, 4.36532984857598, 4.345943247047393, 4.3262149227678295, 4.306145727715403, 4.2857367125531916, 4.264989127318083, 4.243904421908323, 4.222484246369323, 4.200730450976994, 4.178645086118773, 4.156230401972187, 4.133488847981539, 4.110423072133124, 4.087035920030048, 4.063330433767622, 4.039309850610841, 4.01497760147544, 3.9903373092145715, 3.96539278671302, 3.9401480347915716, 3.9146072399237988, 3.888774771768485, 3.8626551805203397, 3.8362531940826075, 3.809573715064822, 3.78262181760959, 3.755402744052149, 3.7279219014169414, 3.700184857755411, 3.672197338329567, 3.6439652216458893, 3.615494535344553, 3.5867914519487916, 3.5578622844797474, 3.5287134819418795, 3.4993516246846847, 3.469783419645962, 3.4400156954826064, 3.4100553975945664, 3.3799095830480383, 3.3495854154037272, 3.319090159456563, 3.288431175892753, 3.2576159158707245, 3.2266519155320355, 3.1955467904488937, 3.164308230014439, 3.1329439917824926, 3.101461895763114], \"yaxis\": \"y\"}, {\"legendgroup\": \"6\", \"marker\": {\"color\": \"rgb(214, 39, 40)\"}, \"mode\": \"lines\", \"name\": \"6\", \"showlegend\": false, \"type\": \"scatter\", \"x\": [0.47499994999999995, 0.47561685009999993, 0.4762337502, 0.47685065029999996, 0.47746755039999994, 0.4780844504999999, 0.47870135059999996, 0.47931825069999995, 0.47993515079999993, 0.48055205089999997, 0.48116895099999996, 0.48178585109999994, 0.4824027512, 0.48301965129999996, 0.48363655139999995, 0.48425345149999993, 0.48487035159999997, 0.48548725169999996, 0.48610415179999994, 0.4867210519, 0.48733795199999996, 0.48795485209999995, 0.48857175219999993, 0.48918865229999997, 0.48980555239999995, 0.49042245249999994, 0.4910393526, 0.49165625269999996, 0.49227315279999995, 0.4928900529, 0.49350695299999997, 0.49412385309999995, 0.4947407532, 0.4953576533, 0.49597455339999996, 0.49659145349999995, 0.4972083536, 0.49782525369999997, 0.49844215379999995, 0.49905905389999994, 0.499675954, 0.5002928541, 0.5009097542, 0.5015266543, 0.5021435543999999, 0.5027604545, 0.5033773546, 0.5039942546999999, 0.5046111548, 0.5052280549, 0.5058449549999999, 0.5064618551, 0.5070787552, 0.5076956552999999, 0.5083125554, 0.5089294555, 0.5095463556, 0.5101632557, 0.5107801558, 0.5113970559, 0.512013956, 0.5126308561, 0.5132477562, 0.5138646563, 0.5144815564, 0.5150984565, 0.5157153566, 0.5163322566999999, 0.5169491568, 0.5175660569, 0.5181829569999999, 0.5187998571, 0.5194167572, 0.5200336573, 0.5206505574, 0.5212674575, 0.5218843576, 0.5225012577, 0.5231181577999999, 0.5237350579, 0.524351958, 0.5249688581, 0.5255857582, 0.5262026583, 0.5268195583999999, 0.5274364585, 0.5280533586, 0.5286702587, 0.5292871588, 0.5299040589, 0.530520959, 0.5311378591, 0.5317547592, 0.5323716593, 0.5329885594, 0.5336054595, 0.5342223596, 0.5348392597, 0.5354561598, 0.5360730599, 0.53668996, 0.5373068601, 0.5379237602, 0.5385406603, 0.5391575604, 0.5397744605, 0.5403913606, 0.5410082607, 0.5416251608, 0.5422420609, 0.542858961, 0.5434758611, 0.5440927612, 0.5447096613, 0.5453265614, 0.5459434615000001, 0.5465603616, 0.5471772617, 0.5477941618, 0.5484110619, 0.549027962, 0.5496448621, 0.5502617622, 0.5508786623, 0.5514955624, 0.5521124625, 0.5527293626, 0.5533462627, 0.5539631628, 0.5545800629, 0.555196963, 0.5558138631, 0.5564307632000001, 0.5570476633, 0.5576645634, 0.5582814635, 0.5588983636, 0.5595152637, 0.5601321638000001, 0.5607490639, 0.561365964, 0.5619828641, 0.5625997642, 0.5632166643000001, 0.5638335644, 0.5644504645, 0.5650673646000001, 0.5656842647, 0.5663011648, 0.5669180649000001, 0.567534965, 0.5681518651, 0.5687687652, 0.5693856653, 0.5700025654, 0.5706194655, 0.5712363656, 0.5718532657000001, 0.5724701658, 0.5730870659, 0.5737039660000001, 0.5743208661, 0.5749377662, 0.5755546663000001, 0.5761715664, 0.5767884665, 0.5774053666000001, 0.5780222667, 0.5786391668, 0.5792560669, 0.579872967, 0.5804898671000001, 0.5811067672, 0.5817236673, 0.5823405674000001, 0.5829574675, 0.5835743676, 0.5841912677000001, 0.5848081678, 0.5854250679, 0.5860419680000001, 0.5866588681, 0.5872757682, 0.5878926683000001, 0.5885095684, 0.5891264685000001, 0.5897433686, 0.5903602687, 0.5909771688000001, 0.5915940689000001, 0.592210969, 0.5928278691000001, 0.5934447692, 0.5940616693, 0.5946785694000001, 0.5952954695, 0.5959123696, 0.5965292697000001, 0.5971461698, 0.5977630699, 0.5983799700000001, 0.5989968701, 0.5996137702000001, 0.6002306703, 0.6008475704, 0.6014644705000001, 0.6020813706000001, 0.6026982707, 0.6033151708000001, 0.6039320709, 0.604548971, 0.6051658711000001, 0.6057827712000001, 0.6063996713, 0.6070165714000001, 0.6076334715, 0.6082503716000001, 0.6088672717000001, 0.6094841718, 0.6101010719000001, 0.610717972, 0.6113348721, 0.6119517722000001, 0.6125686723000001, 0.6131855724, 0.6138024725000001, 0.6144193726, 0.6150362727, 0.6156531728000001, 0.6162700729, 0.6168869730000001, 0.6175038731000001, 0.6181207732, 0.6187376733000001, 0.6193545734000001, 0.6199714735000001, 0.6205883736000001, 0.6212052737, 0.6218221738, 0.6224390739000001, 0.6230559740000001, 0.6236728741, 0.6242897742000001, 0.6249066743, 0.6255235744000001, 0.6261404745000001, 0.6267573746000001, 0.6273742747000001, 0.6279911748, 0.6286080749, 0.6292249750000001, 0.6298418751000001, 0.6304587752, 0.6310756753000001, 0.6316925754000001, 0.6323094755, 0.6329263756000001, 0.6335432757000001, 0.6341601758000001, 0.6347770759000001, 0.635393976, 0.6360108761000001, 0.6366277762000001, 0.6372446763000001, 0.6378615764000001, 0.6384784765000001, 0.6390953766, 0.6397122767000001, 0.6403291768000001, 0.6409460769, 0.6415629770000001, 0.6421798771, 0.6427967772000001, 0.6434136773000001, 0.6440305774000001, 0.6446474775000001, 0.6452643776000001, 0.6458812777, 0.6464981778000001, 0.6471150779000001, 0.647731978, 0.6483488781000001, 0.6489657782000001, 0.6495826783, 0.6501995784000001, 0.6508164785000001, 0.6514333786000002, 0.6520502787000001, 0.6526671788, 0.6532840789000001, 0.6539009790000001, 0.6545178791000001, 0.6551347792000001, 0.6557516793000001, 0.6563685794, 0.6569854795000001, 0.6576023796000001, 0.6582192797000002, 0.6588361798000001, 0.6594530799000001, 0.6600699800000001, 0.6606868801000001, 0.6613037802000001, 0.6619206803000001, 0.6625375804000001, 0.6631544805000001, 0.6637713806000001, 0.6643882807000001, 0.6650051808000002, 0.6656220809000001, 0.6662389810000001, 0.6668558811, 0.6674727812000001, 0.6680896813000001, 0.6687065814000002, 0.6693234815000001, 0.6699403816000001, 0.6705572817000001, 0.6711741818000001, 0.6717910819000001, 0.6724079820000001, 0.6730248821000001, 0.6736417822, 0.6742586823000001, 0.6748755824000001, 0.6754924825000002, 0.6761093826000001, 0.6767262827000001, 0.6773431828000002, 0.6779600829000001, 0.6785769830000001, 0.6791938831000002, 0.6798107832000001, 0.6804276833000001, 0.6810445834000001, 0.6816614835000001, 0.6822783836000001, 0.6828952837000002, 0.6835121838000001, 0.6841290839000002, 0.6847459840000001, 0.6853628841000001, 0.6859797842000002, 0.6865966843000001, 0.6872135844000001, 0.6878304845000001, 0.6884473846000001, 0.6890642847000001, 0.6896811848000002, 0.6902980849000001, 0.6909149850000001, 0.6915318851000001, 0.6921487852000001, 0.6927656853000002, 0.6933825854000001, 0.6939994855000001, 0.6946163856000002, 0.6952332857000001, 0.6958501858000001, 0.6964670859000002, 0.6970839860000002, 0.6977008861000001, 0.6983177862000001, 0.6989346863000001, 0.6995515864000001, 0.7001684865000002, 0.7007853866000001, 0.7014022867000002, 0.7020191868000001, 0.7026360869000001, 0.7032529870000002, 0.7038698871000002, 0.7044867872000001, 0.7051036873000001, 0.7057205874000001, 0.7063374875000001, 0.7069543876000002, 0.7075712877000001, 0.7081881878000001, 0.7088050879000002, 0.7094219880000001, 0.7100388881000002, 0.7106557882000002, 0.7112726883000001, 0.7118895884000002, 0.7125064885000001, 0.7131233886000001, 0.7137402887000002, 0.7143571888000002, 0.7149740889000001, 0.7155909890000002, 0.7162078891000001, 0.7168247892000001, 0.7174416893000002, 0.7180585894000001, 0.7186754895000002, 0.7192923896000001, 0.7199092897000001, 0.7205261898000002, 0.7211430899000002, 0.7217599900000001, 0.7223768901000002, 0.7229937902000001, 0.7236106903000001, 0.7242275904000002, 0.7248444905000001, 0.7254613906000001, 0.7260782907000002, 0.7266951908000001, 0.7273120909000002, 0.7279289910000002, 0.7285458911000002, 0.7291627912000002, 0.7297796913000001, 0.7303965914000001, 0.7310134915000002, 0.7316303916000002, 0.7322472917000002, 0.7328641918000002, 0.7334810919000002, 0.7340979920000001, 0.7347148921000002, 0.7353317922000002, 0.7359486923000002, 0.7365655924000002, 0.7371824925000001, 0.7377993926000002, 0.7384162927000002, 0.7390331928000002, 0.7396500929000002, 0.7402669930000001, 0.7408838931000001, 0.7415007932000002, 0.7421176933000002, 0.7427345934000001, 0.7433514935000002, 0.7439683936000001, 0.7445852937000002, 0.7452021938000002, 0.7458190939000002, 0.7464359940000002, 0.7470528941000001, 0.7476697942000001, 0.7482866943000002, 0.7489035944000002, 0.7495204945000001, 0.7501373946000002, 0.7507542947000001, 0.7513711948000001, 0.7519880949000002, 0.7526049950000002, 0.7532218951000003, 0.7538387952000001, 0.7544556953000001, 0.7550725954000002, 0.7556894955000002, 0.7563063956000002, 0.7569232957000003, 0.7575401958000001, 0.7581570959000001, 0.7587739960000002, 0.7593908961000002, 0.7600077962000003, 0.7606246963000002, 0.7612415964000002, 0.7618584965000001, 0.7624753966000002, 0.7630922967000002, 0.7637091968000003, 0.7643260969000002, 0.7649429970000002, 0.7655598971000002, 0.7661767972000002, 0.7667936973000002, 0.7674105974000002, 0.7680274975000002, 0.7686443976000001, 0.7692612977000002, 0.7698781978000002, 0.7704950979000003, 0.7711119980000002, 0.7717288981000002, 0.7723457982000002, 0.7729626983000002, 0.7735795984000002, 0.7741964985000002, 0.7748133986000002, 0.7754302987000001, 0.7760471988000002, 0.7766640989000002, 0.7772809990000003, 0.7778978991000002, 0.7785147992000002, 0.7791316993000001, 0.7797485994000002, 0.7803654995000002, 0.7809823996000002, 0.7815992997000002, 0.7822161998000001, 0.7828330999000002], \"xaxis\": \"x\", \"y\": [0.3367136429466799, 0.3395443464901526, 0.3423687335169626, 0.3451911980296689, 0.34801638388766054, 0.35084918112419966, 0.35369472162989213, 0.35655837420605174, 0.3594457389932812, 0.36236264128242884, 0.36531512471692096, 0.36830944389725767, 0.3713520564002611, 0.37444961422737544, 0.37760895469805617, 0.380837090805914, 0.38414120105688776, 0.3875286188102785, 0.39100682114493945, 0.39458341727433616, 0.39826613653553544, 0.4020628159784439, 0.4059813875827863, 0.4100298651314339, 0.41421633076966996, 0.4185489212809448, 0.4230358141104409, 0.42768521316855357, 0.4325053344469956, 0.43750439148077747, 0.44269058068975403, 0.44807206663378574, 0.45365696721576204, 0.4594533388669306, 0.4654691617489783, 0.4717123250072821, 0.47819061210959773, 0.4849116863042222, 0.4918830762313189, 0.49911216172071754, 0.506606159808949, 0.5143721110077382, 0.5224168658554981, 0.5307470717826348, 0.5393691603206513, 0.5482893346842115, 0.5575135577543264, 0.5670475404898738, 0.5768967307936151, 0.5870663028577257, 0.5975611470127765, 0.6083858601028743, 0.6195447364084379, 0.631041759136896, 0.6428805925002222, 0.6550645743969864, 0.6675967097152494, 0.6804796642712991, 0.6937157593978303, 0.7073069671939115, 0.7212549064475997, 0.7355608392407839, 0.7502256682444646, 0.7652499347113008, 0.7806338171709032, 0.7963771308320728, 0.8124793276948249, 0.8289394973736679, 0.8457563686325026, 0.8629283116300002, 0.8804533408732692, 0.8983291188762943, 0.9165529605183684, 0.9351218380967316, 0.9540323870662892, 0.9732809124581968, 0.9928633959680417, 1.012775503703183, 1.03301259457773, 1.0535697293426596, 1.074441680237446, 1.0956229412486493, 1.1171077389598243, 1.138890043976217, 1.1609635829066594, 1.1833218508842207, 1.205958124606142, 1.2288654758727524, 1.2520367856040746, 1.2754647583119305, 1.2991419370045403, 1.32306071849967, 1.347213369121411, 1.3715920407550501, 1.396188787233391, 1.4209955810271122, 1.446004330210961, 1.471206895676697, 1.4965951085627547, 1.52216078787003, 1.547895758232148, 1.5737918678078173, 1.5998410062622392, 1.626035122803533, 1.6523662442395637, 1.6788264930197923, 1.705408105225947, 1.7321034484748075, 1.7589050396955972, 1.785805562743926, 1.8127978858136105, 1.8398750786072644, 1.8670304292258568, 1.8942574607372358, 1.9215499473830737, 1.9489019303833839, 1.9763077332976386, 2.0037619769011497, 2.031259593535406, 2.0587958408910545, 2.0863663151821426, 2.113966963670591, 2.141594096500052, 2.1692443977985496, 2.196914936010094, 2.2246031734157667, 2.2523069748055837, 2.280024615263377, 2.3077547870278305, 2.3354966053937614, 2.363249613619364, 2.3910137868060337, 2.4187895347192674, 2.4465777035205845, 2.4743795763823386, 2.5021968729590194, 2.5300317476910745, 2.557886786919087, 2.5857650047888647, 2.6136698379302405, 2.641605138895189, 2.6695751683435067, 2.6975845859672845, 2.725638440148354, 2.7537421563460684, 2.781901524216005, 2.8101226834634287, 2.83841210843901, 2.8667765914875587, 2.8952232250642713, 2.9237593826367165, 2.9523926983943283, 2.981131045791029, 3.0099825149505346, 3.038955388967362, 3.068058119140823, 3.097299299182753, 3.1266876384436424, 3.1562319342056817, 3.185941043094851, 3.215823851667772, 3.2458892462328146, 3.2761460819682915, 3.30660315140389, 3.337269152334936, 3.368152655242066, 3.399262070291834, 3.4306056139966623, 3.462191275615195, 3.494026783376332, 3.5261195706128183, 3.558476741891814, 3.591105039232117, 3.6240108084988805, 3.6571999660681422, 3.690677965854496, 3.724449766795978, 3.758519800890603, 3.7928919418794242, 3.8275694746707294, 3.862555065599449, 3.8978507336156083, 3.933457822494169, 3.969376974157515, 4.005608103200351, 4.042150372704593, 4.079002171429757, 4.1161610924619065, 4.153623913401152, 4.191386578164835, 4.2294441804799074, 4.267790949134546, 4.306420235054698, 4.345324500267649, 4.38449530880949, 4.423923319629255, 4.4635982815371955, 4.50350903023963, 4.543643487497322, 4.58398866243912, 4.624530655056292, 4.665254661897782, 4.706144983980135, 4.747185036919828, 4.788357363289822, 4.829643647195276, 4.871024731057728, 4.91248063459007, 4.953990575938605, 4.995532994961923, 5.037085578610148, 5.078625288361492, 5.120128389667274, 5.16157048334999, 5.202926538893262, 5.244170929556495, 5.28527746924149, 5.3262194510323795, 5.366969687325387, 5.407500551459421, 5.447784020753601, 5.487791720853542, 5.527494971283425, 5.566864832097059, 5.605872151517373, 5.644487614450223, 5.682681791755318, 5.720425190154414, 5.757688302654348, 5.794441659360669, 5.830655878555703, 5.866301717913917, 5.901350125726338, 5.935772292005503, 5.969539699342159, 6.002624173385503, 6.0349979328192385, 6.066633638707189, 6.097504443083421, 6.127584036664105, 6.156846695560512, 6.185267326875342, 6.2128215130677535, 6.239485554975826, 6.265236513389303, 6.290052249069356, 6.3139114611169145, 6.336793723595868, 6.358679520322624, 6.37955027773888, 6.399388395790391, 6.418177276740318, 6.43590135185195, 6.4525461058820754, 6.468098099332776, 6.482544988416203, 6.4958755426937875, 6.508079660358195, 6.5191483811335775, 6.52907389677667, 6.537849559168425, 6.545469885993121, 6.551930564008912, 6.557228449920983, 6.561361568875305, 6.564329110598109, 6.566131423212801, 6.5667700047727555, 6.566247492554806, 6.564567650164636, 6.561735352511095, 6.557756568712433, 6.552638343002853, 6.546388773713012, 6.539016990403105, 6.53053312923161, 6.5209483066472425, 6.510274591495298, 6.49852497563345, 6.4857133431548455, 6.471854438319493, 6.45696383229698, 6.441057888825855, 6.424153728896321, 6.406269194564185, 6.387422812004873, 6.3676337539163885, 6.346921801380377, 6.325307305289754, 6.302811147450713, 6.279454701465583, 6.255259793501446, 6.230248663047521, 6.204443923761997, 6.17786852450632, 6.15054571066202, 6.122498985822006, 6.093752073944536, 6.06432888205445, 6.034253463572157, 6.003549982346639, 5.972242677464222, 5.940355828900374, 5.90791372407696, 5.87494062538236, 5.841460738707295, 5.80749818304352, 5.7730769611879715, 5.73822093158959, 5.7029537813708275, 5.6672990005509, 5.631279857492632, 5.594919375589816, 5.5582403112070375, 5.5212651328791145, 5.4840160017726385, 5.4465147534075316, 5.408782880632251, 5.370841517841952, 5.3327114264250985, 5.294412981420033, 5.255966159359669, 5.217390527279108, 5.178705232857636, 5.13992899566434, 5.101080099473234, 5.0621763856122195, 5.023235247307641, 4.984273624984798, 4.945308002482986, 4.906354404142544, 4.86742839272057, 4.828545068090858, 4.789719066683529, 4.750964561619477, 4.712295263494656, 4.673724421769755, 4.635264826721032, 4.596928811908841, 4.558728257121304, 4.520674591751677, 4.482778798568907, 4.4450514178426666, 4.4075025517853454, 4.370141869275187, 4.332978610826688, 4.296021593775938, 4.25927921765072, 4.222759469697084, 4.186469930536096, 4.150417779926687, 4.114609802612376, 4.079052394231933, 4.04375156727602, 4.008712957073912, 3.973941827796365, 3.939443078462911, 3.90522124894333, 3.8712805259453074, 3.837624748981897, 3.8042574163139613, 3.7711816908645517, 3.738400406103571, 3.7059160719024167, 3.673730880359666, 3.641846711599862, 3.610265139548722, 3.5789874376887254, 3.5480145848001743, 3.5173472706931226, 3.4869859019364733, 3.45693060759075, 3.427181244951504, 3.397737405310479, 3.3685984197417724, 3.339763364920319, 3.3112310689797475, 3.2830001174166727, 3.255068859048094, 3.2274354120283038, 3.2000976699311545, 3.1730533079032064, 3.146299788892601, 3.1198343699579234, 3.0936541086607163, 3.0677558695445892, 3.042136330703065, 3.0167919904377953, 2.9917191740076796, 2.9669140404689553, 2.942372589605368, 2.918090668946893, 2.8940639808745185, 2.8702880898081546, 2.8467584294736517, 2.8234703102445082, 2.800418926553047, 2.777599364365112, 2.755006608711976, 2.732635551272301, 2.710480997996731, 2.688537676767, 2.6668002450812325, 2.645263297756493, 2.623921374639561, 2.602768968316406, 2.5818005318107713, 2.5610104862620227, 2.540393228572269, 2.519943139012732, 2.4996545887793165, 2.47952194748726, 2.4595395905948743, 2.4397019067465004, 2.420003305024851, 2.4004382221031833, 2.3810011292878817, 2.3616865394423394, 2.342489013783237, 2.3234031685406746, 2.304423681473902, 2.285545298234714, 2.266762838571037, 2.248071202363504, 2.2294653754882288, 2.2109404354995466, 2.19249155712659, 2.1741140175783533, 2.155803201652006, 2.1375546066398576, 2.1193638470306535, 2.101226659001432, 2.083138904696455, 2.0650965762902165, 2.0470957998319443, 2.0291328388693257, 2.011204097849703, 1.9933061252971698, 1.9754356167645963, 1.9575894175597284, 1.939764525245021, 1.9219580919110897, 1.9041674262240216, 1.8863899952471046, 1.8686234260377124, 1.8508655070205133, 1.8331141891382916, 1.8153675867820418, 1.797623978502067, 1.7798818075022316, 1.7621396819195843, 1.7443963748917963, 1.7266508244151122, 1.7089021329955865, 1.6911495670967027, 1.6733925563863978, 1.6556306927869466, 1.6378637293310534, 1.6200915788278218, 1.6023143123422592, 1.5845321574922557, 1.566745496566896, 1.5489548644702513, 1.5311609464948384, 1.5133645759289787, 1.4955667315025152, 1.4777685346752982, 1.4599712467730774, 1.4421762659753874, 1.4243851241602443, 1.4065994836104005, 1.38882113358614, 1.3710519867695037, 1.3532940755850795, 1.3355495484024233, 1.3178206656252909, 1.300109795673025, 1.2824194108592795, 1.264752083173596, 1.2471104799711674, 1.229497359576356, 1.2119155668054504, 1.1943680284143678, 1.176857748476809, 1.1593878036987006, 1.1419613386745815, 1.1245815610917438, 1.1072517368879666, 1.0899751853686768, 1.0727552742894475, 1.055595414909734, 1.038499057023817, 1.021469683974902, 1.0045108076583833, 0.9876259635202657, 0.9708187055567618, 0.9540926013210794, 0.937451226943432, 0.9208981621703164, 0.9044369854290056], \"yaxis\": \"y\"}, {\"legendgroup\": \"7\", \"marker\": {\"color\": \"rgb(148, 103, 189)\"}, \"mode\": \"lines\", \"name\": \"7\", \"showlegend\": false, \"type\": \"scatter\", \"x\": [0.5356499999999998, 0.5360358431999999, 0.5364216863999999, 0.5368075295999999, 0.5371933727999999, 0.5375792159999998, 0.5379650591999998, 0.5383509023999998, 0.5387367455999998, 0.5391225887999999, 0.5395084319999999, 0.5398942751999999, 0.5402801183999999, 0.5406659615999998, 0.5410518047999998, 0.5414376479999998, 0.5418234911999998, 0.5422093343999999, 0.5425951775999999, 0.5429810207999999, 0.5433668639999999, 0.5437527071999999, 0.5441385503999998, 0.5445243935999998, 0.5449102367999998, 0.5452960799999998, 0.5456819231999999, 0.5460677663999999, 0.5464536095999999, 0.5468394527999999, 0.5472252959999998, 0.5476111391999998, 0.5479969823999998, 0.5483828255999998, 0.5487686687999999, 0.5491545119999999, 0.5495403551999999, 0.5499261983999999, 0.5503120415999999, 0.5506978847999998, 0.5510837279999998, 0.5514695711999998, 0.5518554143999999, 0.5522412575999999, 0.5526271007999999, 0.5530129439999999, 0.5533987871999999, 0.5537846303999998, 0.5541704735999998, 0.5545563167999998, 0.5549421599999999, 0.5553280031999999, 0.5557138463999999, 0.5560996895999999, 0.5564855327999999, 0.5568713759999999, 0.5572572191999998, 0.5576430623999998, 0.5580289055999998, 0.5584147487999999, 0.5588005919999999, 0.5591864351999999, 0.5595722783999999, 0.5599581215999999, 0.5603439647999998, 0.5607298079999998, 0.5611156511999998, 0.5615014943999999, 0.5618873375999999, 0.5622731807999999, 0.5626590239999999, 0.5630448671999999, 0.5634307103999998, 0.5638165535999998, 0.5642023967999998, 0.5645882399999999, 0.5649740831999999, 0.5653599263999999, 0.5657457695999999, 0.5661316127999999, 0.5665174559999999, 0.5669032991999998, 0.5672891423999998, 0.5676749855999998, 0.5680608287999999, 0.5684466719999999, 0.5688325151999999, 0.5692183583999999, 0.5696042015999999, 0.5699900447999999, 0.5703758879999998, 0.5707617311999998, 0.5711475743999999, 0.5715334175999999, 0.5719192607999999, 0.5723051039999999, 0.5726909471999999, 0.5730767903999999, 0.5734626335999998, 0.5738484767999998, 0.5742343199999999, 0.5746201631999999, 0.5750060063999999, 0.5753918495999999, 0.5757776927999999, 0.5761635359999999, 0.5765493791999998, 0.5769352223999998, 0.5773210655999998, 0.5777069087999999, 0.5780927519999999, 0.5784785951999999, 0.5788644383999999, 0.5792502815999999, 0.5796361247999999, 0.5800219679999998, 0.5804078111999998, 0.5807936543999999, 0.5811794975999999, 0.5815653407999999, 0.5819511839999999, 0.5823370271999999, 0.5827228703999999, 0.5831087135999998, 0.5834945567999998, 0.5838803999999999, 0.5842662431999999, 0.5846520863999999, 0.5850379295999999, 0.5854237727999999, 0.5858096159999999, 0.5861954591999999, 0.5865813023999998, 0.5869671455999999, 0.5873529887999999, 0.5877388319999999, 0.5881246751999999, 0.5885105183999999, 0.5888963615999999, 0.5892822047999999, 0.5896680479999998, 0.5900538911999998, 0.5904397343999999, 0.5908255775999999, 0.5912114207999999, 0.5915972639999999, 0.5919831071999999, 0.5923689503999999, 0.5927547935999999, 0.5931406367999998, 0.5935264799999999, 0.5939123231999999, 0.5942981663999999, 0.5946840095999999, 0.5950698527999999, 0.5954556959999999, 0.5958415391999999, 0.5962273823999998, 0.5966132255999999, 0.5969990687999999, 0.5973849119999999, 0.5977707551999999, 0.5981565983999999, 0.5985424415999999, 0.5989282847999999, 0.5993141279999998, 0.5996999711999998, 0.6000858143999999, 0.6004716575999999, 0.6008575007999999, 0.6012433439999999, 0.6016291871999999, 0.6020150303999999, 0.6024008735999999, 0.6027867167999998, 0.6031725599999999, 0.6035584031999999, 0.6039442463999999, 0.6043300895999999, 0.6047159327999999, 0.6051017759999999, 0.6054876191999999, 0.6058734624, 0.6062593055999999, 0.6066451487999999, 0.6070309919999999, 0.6074168351999999, 0.6078026783999999, 0.6081885215999999, 0.6085743647999999, 0.6089602079999998, 0.6093460512, 0.6097318943999999, 0.6101177375999999, 0.6105035807999999, 0.6108894239999999, 0.6112752671999999, 0.6116611103999999, 0.6120469535999999, 0.6124327967999998, 0.6128186399999999, 0.6132044831999999, 0.6135903263999999, 0.6139761695999999, 0.6143620127999999, 0.6147478559999999, 0.6151336991999999, 0.6155195424, 0.6159053855999999, 0.6162912287999999, 0.6166770719999999, 0.6170629151999999, 0.6174487583999999, 0.6178346015999999, 0.6182204447999999, 0.618606288, 0.6189921312, 0.6193779743999999, 0.6197638175999999, 0.6201496607999999, 0.6205355039999999, 0.6209213471999999, 0.6213071903999999, 0.6216930336, 0.6220788768, 0.62246472, 0.6228505631999999, 0.6232364063999999, 0.6236222495999999, 0.6240080927999999, 0.6243939359999999, 0.6247797791999999, 0.6251656224, 0.6255514655999999, 0.6259373087999999, 0.6263231519999999, 0.6267089951999999, 0.6270948383999999, 0.6274806815999999, 0.6278665247999999, 0.628252368, 0.6286382112, 0.6290240543999999, 0.6294098975999999, 0.6297957407999999, 0.6301815839999999, 0.6305674271999999, 0.6309532703999999, 0.6313391136, 0.6317249568, 0.6321108, 0.6324966431999999, 0.6328824863999999, 0.6332683295999999, 0.6336541727999999, 0.6340400159999999, 0.6344258591999999, 0.6348117024, 0.6351975456, 0.6355833888, 0.6359692319999999, 0.6363550751999999, 0.6367409183999999, 0.6371267615999999, 0.6375126047999999, 0.637898448, 0.6382842912, 0.6386701343999999, 0.6390559775999999, 0.6394418207999999, 0.6398276639999999, 0.6402135071999999, 0.6405993503999999, 0.6409851936, 0.6413710368, 0.64175688, 0.6421427231999999, 0.6425285663999999, 0.6429144095999999, 0.6433002527999999, 0.6436860959999999, 0.6440719391999999, 0.6444577824, 0.6448436256, 0.6452294687999999, 0.6456153119999999, 0.6460011551999999, 0.6463869983999999, 0.6467728415999999, 0.6471586847999999, 0.647544528, 0.6479303712, 0.6483162144, 0.6487020576, 0.6490879007999999, 0.6494737439999999, 0.6498595871999999, 0.6502454303999999, 0.6506312736, 0.6510171168, 0.65140296, 0.6517888031999999, 0.6521746463999999, 0.6525604895999999, 0.6529463327999999, 0.6533321759999999, 0.6537180192, 0.6541038624, 0.6544897056, 0.6548755488, 0.6552613919999999, 0.6556472351999999, 0.6560330783999999, 0.6564189215999999, 0.6568047647999999, 0.657190608, 0.6575764512, 0.6579622944, 0.6583481375999999, 0.6587339807999999, 0.6591198239999999, 0.6595056671999999, 0.6598915103999999, 0.6602773536, 0.6606631968, 0.66104904, 0.6614348831999999, 0.6618207264, 0.6622065695999999, 0.6625924127999999, 0.6629782559999999, 0.6633640992, 0.6637499424, 0.6641357856, 0.6645216288, 0.6649074719999999, 0.6652933152, 0.6656791583999999, 0.6660650015999999, 0.6664508447999999, 0.666836688, 0.6672225312, 0.6676083743999999, 0.6679942176, 0.6683800607999999, 0.6687659039999999, 0.6691517471999999, 0.6695375903999999, 0.6699234336, 0.6703092768, 0.67069512, 0.6710809631999999, 0.6714668064, 0.6718526495999999, 0.6722384927999999, 0.6726243359999999, 0.6730101792, 0.6733960224, 0.6737818656, 0.6741677088, 0.6745535519999999, 0.6749393951999999, 0.6753252383999999, 0.6757110815999999, 0.6760969247999999, 0.676482768, 0.6768686112, 0.6772544544, 0.6776402976, 0.6780261407999999, 0.6784119839999999, 0.6787978271999999, 0.6791836703999999, 0.6795695136, 0.6799553568, 0.6803412, 0.6807270432, 0.6811128864, 0.6814987295999999, 0.6818845727999999, 0.6822704159999999, 0.6826562592, 0.6830421024, 0.6834279456, 0.6838137888, 0.684199632, 0.6845854752, 0.6849713183999999, 0.6853571615999999, 0.6857430048, 0.686128848, 0.6865146912, 0.6869005344, 0.6872863776, 0.6876722207999999, 0.688058064, 0.6884439071999999, 0.6888297503999999, 0.6892155936, 0.6896014368, 0.68998728, 0.6903731232, 0.6907589664, 0.6911448095999999, 0.6915306528, 0.6919164959999999, 0.6923023392, 0.6926881824, 0.6930740256, 0.6934598688, 0.6938457119999999, 0.6942315552, 0.6946173983999999, 0.6950032415999999, 0.6953890848, 0.695774928, 0.6961607712, 0.6965466144, 0.6969324576, 0.6973183007999999, 0.697704144, 0.6980899871999999, 0.6984758303999999, 0.6988616736, 0.6992475168, 0.69963336, 0.7000192032, 0.7004050464, 0.7007908895999999, 0.7011767327999999, 0.7015625759999999, 0.7019484192, 0.7023342624, 0.7027201056, 0.7031059488, 0.7034917919999999, 0.7038776352, 0.7042634783999999, 0.7046493215999999, 0.7050351648, 0.705421008, 0.7058068512, 0.7061926944, 0.7065785376, 0.7069643807999999, 0.707350224, 0.7077360671999999, 0.7081219103999999, 0.7085077536, 0.7088935968, 0.70927944, 0.7096652832, 0.7100511264, 0.7104369696, 0.7108228127999999, 0.7112086559999999, 0.7115944992, 0.7119803424, 0.7123661856, 0.7127520288, 0.713137872, 0.7135237152, 0.7139095583999999, 0.7142954015999999, 0.7146812448, 0.715067088, 0.7154529312, 0.7158387744, 0.7162246176, 0.7166104608, 0.716996304, 0.7173821471999999, 0.7177679904, 0.7181538336, 0.7185396768, 0.71892552, 0.7193113632, 0.7196972064, 0.7200830495999999, 0.7204688928, 0.7208547359999999, 0.7212405792, 0.7216264224, 0.7220122656, 0.7223981088, 0.722783952, 0.7231697952, 0.7235556383999999, 0.7239414816, 0.7243273248, 0.724713168, 0.7250990112, 0.7254848544, 0.7258706976, 0.7262565408, 0.726642384, 0.7270282271999999, 0.7274140704000001, 0.7277999136, 0.7281857568], \"xaxis\": \"x\", \"y\": [2.564318487186438, 2.6017528578143985, 2.6393197601959772, 2.6770113492405634, 2.7148196843426216, 2.75273673271289, 2.790754372776831, 2.8288643976403884, 2.867058518623169, 2.90532836885914, 2.9436655069650826, 2.9820614207770757, 3.020507531155322, 3.0589951958576616, 3.097515713482218, 3.13606032747947, 3.1746202302343445, 3.2131865672186564, 3.2517504412143636, 3.2903029166080833, 3.3288350237572386, 3.367337763428242, 3.4058021113069894, 3.444219022582053, 3.482579436600529, 3.520874281596965, 3.559094479495175, 3.597230950782956, 3.6352746194595, 3.673216418055162, 3.711047292723158, 3.748758208402576, 3.7863401540518473, 3.8237841479518444, 3.861081243077379, 3.898222532535769, 3.9351991550709338, 3.9720023006312646, 4.0086232159992, 4.04505321048032, 4.081283661649497, 4.117306021151164, 4.153111820550939, 4.1886926772351325, 4.224040300354601, 4.2591464968091195, 4.294003177268087, 4.3286023622231395, 4.362936188067933, 4.39699691319999, 4.430776924139368, 4.464268741658414, 4.4974650269166965, 4.5303585875948515, 4.562942384020823, 4.595209535281601, 4.627153325313409, 4.6587672089629315, 4.690044818011714, 4.7209799671561266, 4.751566659934382, 4.781799094592306, 4.811671669879143, 4.841178990764496, 4.870315874067271, 4.8990773539873596, 4.927458687530497, 4.955455359816761, 4.98306308926285, 5.010277832628253, 5.03709578991533, 5.0635134091131775, 5.089527390775144, 5.115134692419885, 5.140332532745547, 5.165118395647195, 5.189490034027076, 5.213445473387771, 5.236983015198145, 5.260101240022297, 5.282799010401641, 5.3050754734806524, 5.3269300633667855, 5.348362503215434, 5.3693728070310245, 5.389961281175556, 5.410128525576268, 5.4298754346243925, 5.449203197757352, 5.468113299717117, 5.486607520477846, 5.504687934836417, 5.52235691165977, 5.539617112783692, 5.5564714915580184, 5.5729232910337565, 5.588976041788277, 5.604633559385241, 5.61989994146648, 5.634779564473829, 5.6492770799992025, 5.6633974107622755, 5.677145746215474, 5.690527537776726, 5.703548493691195, 5.716214573523826, 5.728531982285228, 5.740507164194226, 5.7521467960809645, 5.763457780435342, 5.7744472381061405, 5.7851225006569855, 5.795491102385991, 5.805560772016632, 5.815339424068107, 5.82483514991417, 5.834056208540063, 5.8430110170078695, 5.851708140641285, 5.860156282941474, 5.8683642752462015, 5.876341066145246, 5.884095710665434, 5.891637359239447, 5.898975246472964, 5.906118679725215, 5.91307702751862, 5.919859707793568, 5.9264761760248135, 5.932935913216462, 5.939248413792824, 5.945423173402729, 5.951469676655312, 5.957397384805418, 5.96321572340709, 5.968934069953787, 5.974561741524104, 5.980107982451953, 5.9855819520401585, 5.990992712336532, 5.99634921599146, 6.001660294216048, 6.006934644859665, 6.0121808206258205, 6.017407217444931, 6.022622063022509, 6.027833405580966, 6.033049102813039, 6.03827681106444, 6.043523974763081, 6.048797816111838, 6.054105325061276, 6.059453249578499, 6.064848086227712, 6.070296071077512, 6.075803170949507, 6.08137507502224, 6.087017186803756, 6.092734616485621, 6.098532173690441, 6.1044143606244115, 6.110385365645597, 6.11644905725802, 6.122608978540897, 6.12886834202163, 6.135230025000404, 6.141696565333468, 6.1482701576814565, 6.154952650228283, 6.1617455418754, 6.168649979915379, 6.175666758188055, 6.182796315721639, 6.190038735860432, 6.197393745880009, 6.204860717090002, 6.212438665423713, 6.2201262525132694, 6.227921787247989, 6.235823227813228, 6.243828184205951, 6.251933921222748, 6.260137361915363, 6.268435091507905, 6.2768233617696, 6.285298095835945, 6.29385489347088, 6.302489036761654, 6.311195496237815, 6.319968937404962, 6.328803727683528, 6.337693943742323, 6.346633379216026, 6.355615552795566, 6.3646337166796165, 6.373680865375306, 6.382749744835711, 6.391832861921412, 6.400922494173051, 6.410010699881501, 6.419089328442069, 6.42815003097878, 6.437184271224674, 6.446183336643743, 6.455138349779994, 6.464040279818999, 6.472879954347013, 6.481648071292787, 6.490335211036925, 6.498931848673715, 6.5074283664100525, 6.515815066086347, 6.524082181803866, 6.532219892643345, 6.540218335459262, 6.548067617734565, 6.555757830480386, 6.563279061165299, 6.570621406658932, 6.577774986174484, 6.584729954194961, 6.591476513367887, 6.598004927353365, 6.604305533610357, 6.61036875610623, 6.6161851179345925, 6.621745253826562, 6.627039922540765, 6.632060019117325, 6.636796586981309, 6.641240829881184, 6.645384123647888, 6.649218027760283, 6.652734296702905, 6.655924891101932, 6.6587819886255675, 6.661297994635064, 6.663465552572818, 6.665277554074046, 6.666727148788816, 6.667807753901219, 6.668513063332864, 6.668837056617771, 6.668774007436226, 6.668318491795155, 6.667465395842898, 6.666209923306501, 6.664547602539769, 6.662474293170819, 6.659986192337862, 6.657079840502526, 6.6537521268300654, 6.650000294126458, 6.645821943322377, 6.641215037494763, 6.636177905416842, 6.630709244627984, 6.624808124015299, 6.61847398589913, 6.6117066476153346, 6.604506302587651, 6.596873520883883, 6.588809249250516, 6.580314810620611, 6.571391903090735, 6.56204259836315, 6.552269339650328, 6.54207493903938, 6.531462574314883, 6.520435785239266, 6.508998469290688, 6.497154876859203, 6.484909605902793, 6.472267596065721, 6.459234122262541, 6.445814787731987, 6.432015516565844, 6.417842545718885, 6.4033024165069765, 6.3884019656011555, 6.373148315526769, 6.357548864677545, 6.341611276855569, 6.325343470348965, 6.3087536065603596, 6.29185007819989, 6.274641497057763, 6.257136681372229, 6.239344642809807, 6.221274573075717, 6.202935830173214, 6.1843379243316585, 6.165490503623956, 6.146403339294959, 6.127086310823253, 6.1075493907396075, 6.087802629226301, 6.067856138522023, 6.047720077158133, 6.0274046340524805, 6.006920012487874, 5.986276414002678, 5.965484022221749, 5.944552986656347, 5.923493406502116, 5.902315314464665, 5.881028660642531, 5.859643296497727, 5.838168958944129, 5.816615254584177, 5.79499164412455, 5.773307427001144, 5.75157172624422, 5.729793473613685, 5.707981395035027, 5.68614399636557, 5.664289549520709, 5.642426078989245, 5.620561348766391, 5.59870284973255, 5.576857787505302, 5.555033070791223, 5.53323530026352, 5.511470757990445, 5.489745397438746, 5.468064834075072, 5.446434336587613, 5.424858818748633, 5.403342831938008, 5.381890558345733, 5.360505804871113, 5.339191997734032, 5.317952177812885, 5.296788996722068, 5.27570471364041, 5.254701192900438, 5.233779902346713, 5.2129419124699945, 5.19218789632201, 5.171518130214419, 5.150932495203385, 5.130430479359735, 5.110011180822882, 5.089673311634849, 5.069415202349289, 5.049234807408102, 5.02912971127724, 5.009097135330851, 4.989133945471744, 4.969236660474109, 4.949401461033005, 4.929624199503295, 4.909900410309208, 4.8902253210042, 4.870593863959005, 4.851000688654642, 4.831440174555427, 4.811906444535792, 4.7923933788333875, 4.772894629499693, 4.753403635318123, 4.73391363715855, 4.714417693736181, 4.694908697741563, 4.675379392307796, 4.655822387780163, 4.636230178752595, 4.616595161334864, 4.596909650613741, 4.577165898270969, 4.5573561103204545, 4.537472464926942, 4.517507130268046, 4.497452282401591, 4.477300123100149, 4.4570428976147545, 4.43667291232997, 4.416182552272749, 4.395564298437991, 4.374810744893944, 4.353914615631539, 4.332868781121906, 4.311666274547494, 4.290300307672744, 4.2687642863213116, 4.247051825427755, 4.2251567636326905, 4.2030731773915155, 4.180795394568041, 4.158318007485663, 4.135635885409953, 4.112744186438041, 4.089638368771562, 4.066314201351499, 4.042767773834737, 4.0189955058937565, 3.9949941558227473, 3.970760828434549, 3.9462929822353607, 3.9215884358650555, 3.8966453737932474, 3.871462351262858, 3.846038298474625, 3.820372524007954, 3.7944647174751474, 3.7683149514080285, 3.7419236823774327, 3.7152917513482944, 3.688420383274301, 3.6613111859381626, 3.6339661480451584, 3.606387636579174, 3.5785783934323927, 3.5505415313208797, 3.522280529000588, 3.4937992257990578, 3.4651018154801054, 3.4361928394599537, 3.407077179394639, 3.3777600491598516, 3.3482469862455284, 3.318543842588856, 3.288656774870016, 3.2585922342966454, 3.228356955903282, 3.1979579473933932, 3.1674024775521423, 3.1366980642588715, 3.1058524621287966, 3.0748736498140805, 3.0437698169948697, 3.0125493510911667, 2.981220823726952, 2.9497929769778817, 2.9182747094342987, 2.886675062111185, 2.855003204236681, 2.8232684189508546, 2.791480088945822, 2.759647682078637, 2.727780736987455, 2.6958888487414527, 2.6639816545543327, 2.6320688195907334, 2.6001600228942188, 2.568264943464843, 2.536393246513642, 2.5045545699202716, 2.4727585109196566, 2.441014613042083, 2.409332353330522, 2.377721129857889, 2.3461902495657694, 2.3147489164452044, 2.2834062200788843, 2.252171124562948, 2.221052457825506, 2.190058901357533, 2.159198980370819, 2.128481054396205, 2.0979133083341552, 2.0675037439683903, 2.0372601719520462, 2.0071902042744725, 1.9773012472156324, 1.9476004947935623, 1.9180949227092463, 1.8887912827920335, 1.8596960979471253, 1.8308156576060437, 1.8021560136790171, 1.7737229770078384, 1.7455221143157857, 1.7175587456508608, 1.6898379423167322, 1.6623645252853887, 1.6351430640840576, 1.6081778761479875, 1.5814730266300525, 1.5550323286568821, 1.5288593440206055, 1.5029573842942816, 1.477329512358679, 1.4519785443268556, 1.4269070518529223, 1.4021173648101448, 1.3776115743236295, 1.3533915361416855, 1.3294588743301101, 1.3058149852728491, 1.2824610419621902, 1.2593979985616672, 1.2366265952241002, 1.2141473631476, 1.1919606298516356, 1.170066524655781, 1.1484649843431323, 1.127155758990948, 1.1061384179507647, 1.0854123559604054], \"yaxis\": \"y\"}, {\"legendgroup\": \"8\", \"marker\": {\"color\": \"rgb(140, 86, 75)\"}, \"mode\": \"lines\", \"name\": \"8\", \"showlegend\": false, \"type\": \"scatter\", \"x\": [0.46249999999999997, 0.4629, 0.4633, 0.46369999999999995, 0.46409999999999996, 0.46449999999999997, 0.4649, 0.4653, 0.46569999999999995, 0.46609999999999996, 0.46649999999999997, 0.4669, 0.46729999999999994, 0.46769999999999995, 0.46809999999999996, 0.46849999999999997, 0.4689, 0.46929999999999994, 0.46969999999999995, 0.47009999999999996, 0.4705, 0.4709, 0.47129999999999994, 0.47169999999999995, 0.47209999999999996, 0.4725, 0.4729, 0.47329999999999994, 0.47369999999999995, 0.47409999999999997, 0.4745, 0.47489999999999993, 0.47529999999999994, 0.47569999999999996, 0.47609999999999997, 0.4765, 0.47689999999999994, 0.47729999999999995, 0.47769999999999996, 0.47809999999999997, 0.4785, 0.47889999999999994, 0.47929999999999995, 0.47969999999999996, 0.48009999999999997, 0.4804999999999999, 0.48089999999999994, 0.48129999999999995, 0.48169999999999996, 0.4821, 0.48249999999999993, 0.48289999999999994, 0.48329999999999995, 0.48369999999999996, 0.4841, 0.48449999999999993, 0.48489999999999994, 0.48529999999999995, 0.48569999999999997, 0.4861, 0.48649999999999993, 0.48689999999999994, 0.48729999999999996, 0.48769999999999997, 0.4881, 0.48849999999999993, 0.48889999999999995, 0.48929999999999996, 0.48969999999999997, 0.4901, 0.49049999999999994, 0.49089999999999995, 0.49129999999999996, 0.49169999999999997, 0.4920999999999999, 0.49249999999999994, 0.49289999999999995, 0.49329999999999996, 0.49369999999999997, 0.49409999999999993, 0.49449999999999994, 0.49489999999999995, 0.49529999999999996, 0.4956999999999999, 0.49609999999999993, 0.49649999999999994, 0.49689999999999995, 0.49729999999999996, 0.4976999999999999, 0.49809999999999993, 0.49849999999999994, 0.49889999999999995, 0.49929999999999997, 0.4996999999999999, 0.5001, 0.5005, 0.5008999999999999, 0.5013, 0.5016999999999999, 0.5021, 0.5025, 0.5028999999999999, 0.5033, 0.5036999999999999, 0.5041, 0.5045, 0.5048999999999999, 0.5053, 0.5056999999999999, 0.5061, 0.5065, 0.5068999999999999, 0.5073, 0.5076999999999999, 0.5081, 0.5085, 0.5088999999999999, 0.5093, 0.5096999999999999, 0.5101, 0.5105, 0.5108999999999999, 0.5113, 0.5116999999999999, 0.5120999999999999, 0.5125, 0.5128999999999999, 0.5133, 0.5136999999999999, 0.5140999999999999, 0.5145, 0.5148999999999999, 0.5153, 0.5156999999999999, 0.5160999999999999, 0.5165, 0.5168999999999999, 0.5173, 0.5176999999999999, 0.5180999999999999, 0.5185, 0.5188999999999999, 0.5193, 0.5196999999999999, 0.5200999999999999, 0.5205, 0.5208999999999999, 0.5213, 0.5216999999999999, 0.5220999999999999, 0.5225, 0.5228999999999999, 0.5233, 0.5236999999999999, 0.5240999999999999, 0.5245, 0.5248999999999999, 0.5252999999999999, 0.5257, 0.5260999999999999, 0.5265, 0.5268999999999999, 0.5272999999999999, 0.5277, 0.5280999999999999, 0.5285, 0.5288999999999999, 0.5292999999999999, 0.5297, 0.5300999999999999, 0.5305, 0.5308999999999999, 0.5312999999999999, 0.5317, 0.5320999999999999, 0.5325, 0.5328999999999999, 0.5332999999999999, 0.5337, 0.5340999999999999, 0.5345, 0.5348999999999999, 0.5352999999999999, 0.5357, 0.5360999999999999, 0.5365, 0.5368999999999999, 0.5372999999999999, 0.5377, 0.5380999999999999, 0.5385, 0.5388999999999999, 0.5392999999999999, 0.5397, 0.5400999999999999, 0.5405, 0.5408999999999999, 0.5412999999999999, 0.5417, 0.5420999999999999, 0.5425, 0.5428999999999999, 0.5432999999999999, 0.5437, 0.5440999999999999, 0.5445, 0.5448999999999999, 0.5452999999999999, 0.5457, 0.5460999999999999, 0.5465, 0.5468999999999999, 0.5472999999999999, 0.5477, 0.5480999999999999, 0.5484999999999999, 0.5488999999999999, 0.5492999999999999, 0.5497, 0.5500999999999999, 0.5504999999999999, 0.5509, 0.5512999999999999, 0.5517, 0.5520999999999999, 0.5524999999999999, 0.5529, 0.5532999999999999, 0.5537, 0.5540999999999999, 0.5544999999999999, 0.5549, 0.5552999999999999, 0.5557, 0.5560999999999999, 0.5564999999999999, 0.5569, 0.5572999999999999, 0.5576999999999999, 0.5580999999999999, 0.5584999999999999, 0.5589, 0.5592999999999999, 0.5596999999999999, 0.5600999999999999, 0.5604999999999999, 0.5609, 0.5612999999999999, 0.5616999999999999, 0.5620999999999999, 0.5624999999999999, 0.5629, 0.5632999999999999, 0.5636999999999999, 0.5640999999999999, 0.5644999999999999, 0.5649, 0.5652999999999999, 0.5656999999999999, 0.5660999999999999, 0.5664999999999999, 0.5669, 0.5672999999999999, 0.5676999999999999, 0.5680999999999999, 0.5684999999999999, 0.5689, 0.5692999999999999, 0.5696999999999999, 0.5700999999999999, 0.5704999999999999, 0.5709, 0.5712999999999999, 0.5716999999999999, 0.5720999999999999, 0.5724999999999999, 0.5729, 0.5732999999999999, 0.5736999999999999, 0.5740999999999999, 0.5744999999999999, 0.5749, 0.5752999999999999, 0.5756999999999999, 0.5761, 0.5764999999999999, 0.5769, 0.5772999999999999, 0.5776999999999999, 0.5781, 0.5784999999999999, 0.5789, 0.5792999999999999, 0.5796999999999999, 0.5801, 0.5804999999999999, 0.5808999999999999, 0.5812999999999999, 0.5816999999999999, 0.5821, 0.5824999999999999, 0.5828999999999999, 0.5832999999999999, 0.5836999999999999, 0.5841, 0.5844999999999999, 0.5848999999999999, 0.5852999999999999, 0.5856999999999999, 0.5860999999999998, 0.5864999999999999, 0.5868999999999999, 0.5872999999999999, 0.5876999999999999, 0.5880999999999998, 0.5884999999999999, 0.5888999999999999, 0.5892999999999999, 0.5896999999999999, 0.5900999999999998, 0.5904999999999999, 0.5909, 0.5912999999999999, 0.5916999999999999, 0.5920999999999998, 0.5924999999999999, 0.5929, 0.5932999999999999, 0.5936999999999999, 0.5940999999999999, 0.5944999999999999, 0.5948999999999999, 0.5952999999999999, 0.5956999999999999, 0.5960999999999999, 0.5964999999999999, 0.5968999999999999, 0.5972999999999999, 0.5976999999999999, 0.5980999999999999, 0.5984999999999999, 0.5988999999999999, 0.5992999999999999, 0.5996999999999999, 0.6000999999999999, 0.6004999999999999, 0.6008999999999999, 0.6013, 0.6016999999999999, 0.6020999999999999, 0.6024999999999999, 0.6028999999999999, 0.6033, 0.6036999999999999, 0.6040999999999999, 0.6044999999999999, 0.6048999999999999, 0.6053, 0.6056999999999999, 0.6060999999999999, 0.6064999999999998, 0.6068999999999999, 0.6073, 0.6076999999999999, 0.6080999999999999, 0.6084999999999998, 0.6088999999999999, 0.6093, 0.6096999999999999, 0.6100999999999999, 0.6104999999999998, 0.6108999999999999, 0.6113, 0.6116999999999999, 0.6120999999999999, 0.6124999999999998, 0.6128999999999999, 0.6133, 0.6136999999999999, 0.6140999999999999, 0.6144999999999998, 0.6148999999999999, 0.6153, 0.6156999999999999, 0.6160999999999999, 0.6164999999999998, 0.6168999999999999, 0.6173, 0.6176999999999999, 0.6180999999999999, 0.6184999999999998, 0.6188999999999999, 0.6193, 0.6196999999999999, 0.6200999999999999, 0.6204999999999998, 0.6208999999999999, 0.6212999999999999, 0.6216999999999999, 0.6220999999999999, 0.6224999999999998, 0.6228999999999999, 0.6232999999999999, 0.6236999999999999, 0.6240999999999999, 0.6244999999999998, 0.6248999999999999, 0.6252999999999999, 0.6256999999999999, 0.6260999999999999, 0.6264999999999998, 0.6268999999999999, 0.6272999999999999, 0.6276999999999999, 0.6280999999999999, 0.6284999999999998, 0.6288999999999999, 0.6292999999999999, 0.6296999999999999, 0.6300999999999999, 0.6304999999999998, 0.6308999999999999, 0.6312999999999999, 0.6316999999999999, 0.6320999999999999, 0.6324999999999998, 0.6328999999999999, 0.6332999999999999, 0.6336999999999999, 0.6340999999999999, 0.6344999999999998, 0.6348999999999999, 0.6352999999999999, 0.6356999999999999, 0.6360999999999999, 0.6364999999999998, 0.6368999999999999, 0.6372999999999999, 0.6376999999999999, 0.6380999999999999, 0.6384999999999998, 0.6388999999999999, 0.6392999999999999, 0.6396999999999999, 0.6400999999999999, 0.6404999999999998, 0.6408999999999999, 0.6412999999999999, 0.6416999999999999, 0.6420999999999999, 0.6424999999999998, 0.6428999999999999, 0.6432999999999999, 0.6436999999999999, 0.6440999999999999, 0.6444999999999999, 0.6448999999999999, 0.6452999999999999, 0.6456999999999998, 0.6460999999999999, 0.6464999999999999, 0.6468999999999999, 0.6472999999999999, 0.6476999999999998, 0.6480999999999999, 0.6484999999999999, 0.6488999999999999, 0.6492999999999999, 0.6496999999999998, 0.6500999999999999, 0.6504999999999999, 0.6508999999999998, 0.6512999999999999, 0.6516999999999998, 0.6520999999999999, 0.6524999999999999, 0.6528999999999998, 0.6532999999999999, 0.6536999999999998, 0.6540999999999999, 0.6544999999999999, 0.6548999999999998, 0.6552999999999999, 0.6556999999999998, 0.6560999999999999, 0.6564999999999999, 0.6568999999999998, 0.6572999999999999, 0.6576999999999998, 0.6580999999999999, 0.6584999999999999, 0.6588999999999998, 0.6592999999999999, 0.6596999999999998, 0.6600999999999999, 0.6604999999999999, 0.6608999999999998, 0.6612999999999999, 0.6616999999999998, 0.6620999999999999], \"xaxis\": \"x\", \"y\": [0.9931787189393451, 1.007074618124433, 1.0209549536482032, 1.0348173584495952, 1.0486595712233377, 1.0624794349904179, 1.0762748952446652, 1.090043997690261, 1.1037848855874257, 1.1174957967258896, 1.1311750600479984, 1.1448210919456194, 1.158432392257099, 1.17200753999263, 1.1855451888183013, 1.199044062331023, 1.2125029491581656, 1.225920697917379, 1.239296212073466, 1.2526284447305027, 1.2659163933984199, 1.2791590947743001, 1.2923556195792958, 1.305505067492666, 1.318606562224776, 1.3316592467710346, 1.3446622788886937, 1.3576148268381365, 1.370516065429807, 1.3833651724171516, 1.3961613252751162, 1.408903698402454, 1.421591460784833, 1.4342237741540362, 1.4467997916768522, 1.459318657205138, 1.471779505116382, 1.484181460771669, 1.4965236416153262, 1.5088051589378202, 1.5210251203204468, 1.5331826327773244, 1.5452768066069462, 1.557306759962123, 1.5692716241437557, 1.581170549620179, 1.5930027127702273, 1.6047673233443425, 1.6164636326343298, 1.628090942338442, 1.6396486141046613, 1.6511360797311916, 1.6625528519992714, 1.6738985361097012, 1.6851728416906389, 1.6963755953405708, 1.7075067536668045, 1.7185664167762433, 1.7295548421720104, 1.7404724590060978, 1.7513198826353116, 1.7620979294248245, 1.7728076317409964, 1.7834502530726672, 1.7940273032178644, 1.8045405534708479, 1.8149920517426883, 1.8253841375470194, 1.8357194567814656, 1.8460009762341827, 1.8562319977443917, 1.8664161719453711, 1.8765575115182915, 1.8866604038855816, 1.8967296232729935, 1.906770342070434, 1.916788141422772, 1.926789020983335, 1.9367794077645497, 1.9467661640222904, 1.956756594112864, 1.9667584502642173, 1.9767799372059185, 1.986829715605658, 1.9969169042635009, 2.007051081018856, 2.017242282329068, 2.0275010014827304, 2.0378381854152328, 2.048265230098573, 2.0587939744822705, 2.0694366929671086, 2.080206086398465, 2.091115271571146, 2.1021777692429477, 2.1134074906593856, 2.124818722597604, 2.1364261109426934, 2.1482446428152406, 2.160289627274331, 2.1725766746255126, 2.185121674368796, 2.197940771826802, 2.211050343498512, 2.224466971189144, 2.238207414971446, 2.2522885850387304, 2.2667275125143416, 2.2815413192867844, 2.2967471869439726, 2.3123623248838547, 2.328403937682648, 2.3448891918051404, 2.361835181744837, 2.3792588956846745, 2.397177180771423, 2.4156067080994634, 2.4345639375013293, 2.4540650822441696, 2.4741260737326622, 2.4947625263195583, 2.515989702326049, 2.537822477373981, 2.560275306132076, 2.583362188577839, 2.607096636875806, 2.631491642971759, 2.656559647001028, 2.682312506606817, 2.7087614672626623, 2.7359171336901382, 2.763789442460242, 2.7923876358637076, 2.8217202371316006, 2.8517950270841945, 2.8826190222815025, 2.914198454744707, 2.946538753313106, 2.9796445266958798, 3.013519548273444, 3.048166742697127, 3.0835881743309197, 3.1197850375730245, 3.156757649089001, 3.1945054419826775, 3.2330269619242804, 3.27231986524965, 3.312380919037636, 3.353206003166758, 3.3947901143456694, 3.437127372105779, 3.4802110267378716, 3.5240334691484985, 3.568586242605535, 3.6138600563362533, 3.659844800935287, 3.7065295655337924, 3.7539026566758924, 3.8019516188422706, 3.8506632565560093, 3.9000236580006136, 3.950018220074797, 4.000631674804843, 4.051848117030227, 4.103651033274608, 4.156023331710764, 4.208947373123945, 4.262405002776068, 4.316377583069617, 4.3708460269083025, 4.425790831649698, 4.481192113542896, 4.537029642544032, 4.593282877400823, 4.64993100089755, 4.706952955152025, 4.764327476855846, 4.822033132351248, 4.880048352438048, 4.9383514668066075, 4.996920737994805, 5.055734394768818, 5.114770664831533, 5.174007806764451, 5.233424141113385, 5.292998080532108, 5.352708158901692, 5.412533059349092, 5.472451641092179, 5.532442965044355, 5.59248631811733, 5.652561236165583, 5.712647525522933, 5.772725283086703, 5.832774914911755, 5.892777153283073, 5.952713072241298, 6.012564101543215, 6.072312039044662, 6.131939061500612, 6.191427733783747, 6.250761016528605, 6.30992227221606, 6.368895269717987, 6.427664187329013, 6.486213614318219, 6.544528551038908, 6.602594407641214, 6.660397001436716, 6.71792255297015, 6.775157680857807, 6.8320893954565545, 6.888705091432293, 6.944992539299581, 7.000939876008432, 7.056535594656902, 7.11176853341088, 7.166627863714597, 7.221103077877577, 7.2751839761244685, 7.3288606531956715, 7.382123484586931, 7.434963112515761, 7.487370431702899, 7.539336575054913, 7.5908528993340285, 7.641910970898292, 7.692502551593602, 7.742619584876549, 7.792254182243242, 7.8413986100368485, 7.8900452767018665, 7.938186720549335, 7.985815598093139, 8.032924673011616, 8.079506805785003, 8.125554944052759, 8.171062113729858, 8.216021410915518, 8.26042599462143, 8.30426908034092, 8.347543934474578, 8.390243869621045, 8.432362240736364, 8.473892442158402, 8.514827905487216, 8.555162098306253, 8.594888523722883, 8.634000720701925, 8.67249226515939, 8.71035677177899, 8.747587896508866, 8.784179339690743, 8.820124849770188, 8.855418227531597, 8.890053330798544, 8.924024079536654, 8.957324461292803, 8.989948536902965, 9.021890446397919, 9.053144415035245, 9.08370475938496, 9.113565893394945, 9.14272233436324, 9.171168708743657, 9.198899757712985, 9.22591034242901, 9.252195448910433, 9.277750192472629, 9.302569821655466, 9.326649721583266, 9.349985416700362, 9.372572572830116, 9.394406998509853, 9.415484645558903, 9.435801608842525, 9.455354125200001, 9.474138571511007, 9.49215146188065, 9.50938944392993, 9.525849294184802, 9.541527912563978, 9.556422315972066, 9.570529631011867, 9.583847085836211, 9.596372001166841, 9.608101780514511, 9.61903389964118, 9.629165895311855, 9.63849535338983, 9.647019896335427, 9.654737170174064, 9.661644831005198, 9.667740531128814, 9.673021904871192, 9.677486554195946, 9.681132034190561, 9.683955838522174, 9.685955384959367, 9.687128001059415, 9.687470910122453, 9.68698121751548, 9.685655897470086, 9.683491780458157, 9.680485541249483, 9.676633687754464, 9.671932550753647, 9.666378274613775, 9.65996680908748, 9.652693902290453, 9.644555094946345, 9.635545715985131, 9.625660879575884, 9.614895483669669, 9.603244210122012, 9.590701526458576, 9.577261689340382, 9.562918749778035, 9.547666560136701, 9.531498782965677, 9.514408901678221, 9.49639023309875, 9.477435941885846, 9.457539056830571, 9.436692489020704, 9.414889051852171, 9.392121482859977, 9.36838246733167, 9.34366466365722, 9.317960730360396, 9.291263354747462, 9.263565283100661, 9.234859352335171, 9.205138523030353, 9.174395913737724, 9.14262483646117, 9.109818833197105, 9.075971713416005, 9.041077592360356, 9.005130930028223, 8.968126570706348, 8.930059782912355, 8.890926299600968, 8.850722358486138, 8.809444742327829, 8.767090819029937, 8.723658581394533, 8.679146686376038, 8.633554493679526, 8.586882103546849, 8.539130393576103, 8.490301054421185, 8.440396624220643, 8.389420521608487, 8.33737707716264, 8.284271563151547, 8.23011022144427, 8.174900289454474, 8.118650023995572, 8.061368722929977, 8.00306674450326, 7.943755524261088, 7.883447589455268, 7.8221565708529965, 7.7598972118729765, 7.696685374980703, 7.632538045284667, 7.567473331285187, 7.5015104627369755, 7.4346697855970625, 7.366972754039711, 7.298441919530044, 7.2291009169586555, 7.15897444784953, 7.088088260663918, 7.016469128233218, 6.944144822363407, 6.871144085663916, 6.797496600663043, 6.723232956281673, 6.6483846117462235, 6.572983858030016, 6.497063776921361, 6.420658197823966, 6.343801652403355, 6.2665293272001374, 6.188877014337183, 6.110881060454559, 6.0325783140110945, 5.9540060710971, 5.87520201990718, 5.796204184025843, 5.717050864682478, 5.63778058213454, 5.558432016340605, 5.4790439470864385, 5.399655193727968, 5.320304554716082, 5.241030747067358, 5.161872345945117, 5.082867724512691, 5.004054994220198, 4.925471945682947, 4.847155990306655, 4.769144102812203, 4.691472764807215, 4.614177909548911, 4.537294868036916, 4.460858316569381, 4.3849022258911345, 4.309459812055105, 4.234563489113273, 4.160244823745874, 4.0865344919306485, 4.013462237747527, 3.941056834405404, 3.8693460475713404, 3.7983566010739462, 3.7281141450447395, 3.6586432265541537, 3.5899672627894406, 3.5221085168149906, 3.4550880759465956, 3.388925832763136, 3.3236404687719627, 3.259249440735041, 3.19576896965651, 3.13321403242321, 3.0715983560835105, 3.0109344147415658, 2.9512334290371367, 2.8925053681748727, 2.8347589544591827, 2.7780016702857298, 2.7222397675332632, 2.6674782792948855, 2.613721033881306, 2.5609706710244486, 2.509228660204341, 2.45849532101787, 2.408769845504352, 2.3600503223383025, 2.312333762797376, 2.2656161284094556, 2.2198923601812237, 2.1751564093072777, 2.1314012692578626, 2.0886190091411097, 2.0468008082346203, 2.0059369915807728, 1.9660170665389423, 1.927029760188392, 1.8889630574752838, 1.8518042399977688, 1.8155399253243236, 1.7801561067409402, 1.7456381933247669, 1.7119710502430479, 1.6791390391780958, 1.647126058781483, 1.6159155850626812, 1.5854907116199124, 1.5558341896241836, 1.5269284674697345, 1.4987557300079186, 1.4712979372843278, 1.444536862702453, 1.4184541305409708, 1.393031252754841, 1.3682496649946272, 1.3440907617819002, 1.3205359307824178, 1.297566586122904, 1.2751642007009165, 1.253310337441228, 1.2319866794563503, 1.2111750590723374, 1.1908574856853373, 1.1710161724179744, 1.1516335615485007, 1.1326923486896994, 1.114175505697869, 1.0960663022962764, 1.0783483264008178, 1.0610055031391583, 1.0440221125582472, 1.0273828060181305, 1.0110726212734977, 0.995076996247376, 0.9793817815043435, 0.9639732514337761, 0.9488381141560983, 0.9339635201679665, 0.9193370697446869, 0.9049468191205651, 0.8907812854703502, 0.876829450716846, 0.8630807641920234, 0.8495251441807391, 0.8361529783779085], \"yaxis\": \"y\"}, {\"legendgroup\": \"3\", \"marker\": {\"color\": \"rgb(31, 119, 180)\", \"symbol\": \"line-ns-open\"}, \"mode\": \"markers\", \"name\": \"3\", \"showlegend\": false, \"type\": \"scatter\", \"x\": [0.95005, 1.0, 0.9833500000000001, 0.9833500000000001, 0.8833500000000001, 0.9666999999999999, 0.8834500000000001, 0.9167, 0.9333499999999999, 0.8834000000000001, 0.98333335, 0.8500000999999999, 0.98333335, 0.9333333999999999, 0.98333335, 0.9666666999999999, 0.9333333500000001, 0.9666667, 0.7333335, 0.95000005, 0.95000005, 0.98333335, 0.9666666999999999, 0.9166667499999999, 0.9333334000000001, 0.9500000499999999, 0.9666667, 0.9833333499999999, 0.98333335, 0.9500000499999999, 0.8500001, 0.9500000499999999, 0.8666667, 0.95000005, 0.91666675, 0.8333334499999999, 0.8666668, 0.9833333499999999, 0.98333335, 0.9333333499999998, 0.9000000499999999, 0.95000005, 0.9666667, 0.9500000499999999, 0.8000001000000001, 0.71666665, 0.98333335, 0.86666675, 0.9666667, 0.9333334], \"xaxis\": \"x\", \"y\": [\"3\", \"3\", \"3\", \"3\", \"3\", \"3\", \"3\", \"3\", \"3\", \"3\", \"3\", \"3\", \"3\", \"3\", \"3\", \"3\", \"3\", \"3\", \"3\", \"3\", \"3\", \"3\", \"3\", \"3\", \"3\", \"3\", \"3\", \"3\", \"3\", \"3\", \"3\", \"3\", \"3\", \"3\", \"3\", \"3\", \"3\", \"3\", \"3\", \"3\", \"3\", \"3\", \"3\", \"3\", \"3\", \"3\", \"3\", \"3\", \"3\", \"3\"], \"yaxis\": \"y2\"}, {\"legendgroup\": \"4\", \"marker\": {\"color\": \"rgb(255, 127, 14)\", \"symbol\": \"line-ns-open\"}, \"mode\": \"markers\", \"name\": \"4\", \"showlegend\": false, \"type\": \"scatter\", \"x\": [0.8374999999999999, 0.9375, 0.8624999999999998, 0.9, 0.7874999999999999, 0.8124999999999999, 0.8875, 0.9125000000000001, 0.7874999999999999, 0.6375, 0.8500000000000001, 0.9125000000000001, 0.9000000000000001, 0.7499999999999998, 0.8999999999999999, 0.825, 0.7874999999999999, 0.8375000000000001, 0.65, 0.8874999999999998, 0.825, 0.9, 0.8124999999999999, 0.7499999999999999, 0.825, 0.8749999999999999, 0.8374999999999998, 0.9125, 0.85, 0.8624999999999999, 0.7999999999999999, 0.8374999999999999, 0.8375, 0.7499999999999999, 0.9249999999999998, 0.65, 0.725, 0.975, 0.8875, 0.775, 0.825, 0.8374999999999998, 0.8500000000000001, 0.8374999999999998, 0.6625, 0.675, 0.9125, 0.8375, 0.7999999999999999, 0.7374999999999999], \"xaxis\": \"x\", \"y\": [\"4\", \"4\", \"4\", \"4\", \"4\", \"4\", \"4\", \"4\", \"4\", \"4\", \"4\", \"4\", \"4\", \"4\", \"4\", \"4\", \"4\", \"4\", \"4\", \"4\", \"4\", \"4\", \"4\", \"4\", \"4\", \"4\", \"4\", \"4\", \"4\", \"4\", \"4\", \"4\", \"4\", \"4\", \"4\", \"4\", \"4\", \"4\", \"4\", \"4\", \"4\", \"4\", \"4\", \"4\", \"4\", \"4\", \"4\", \"4\", \"4\", \"4\"], \"yaxis\": \"y2\"}, {\"legendgroup\": \"5\", \"marker\": {\"color\": \"rgb(44, 160, 44)\", \"symbol\": \"line-ns-open\"}, \"mode\": \"markers\", \"name\": \"5\", \"showlegend\": false, \"type\": \"scatter\", \"x\": [0.73, 0.8000000000000002, 0.81, 0.7999999999999999, 0.59, 0.7300000000000001, 0.8099999999999999, 0.7800000000000001, 0.7, 0.6100000000000001, 0.7399999999999999, 0.73, 0.7799999999999999, 0.72, 0.8, 0.7400000000000001, 0.6799999999999999, 0.77, 0.5999999999999999, 0.74, 0.7800000000000002, 0.8, 0.6700000000000002, 0.7300000000000001, 0.6499999999999999, 0.7200000000000001, 0.6699999999999999, 0.8199999999999998, 0.76, 0.7200000000000001, 0.7, 0.7500000000000001, 0.6100000000000001, 0.5900000000000001, 0.8000000000000002, 0.5900000000000001, 0.6, 0.8, 0.7499999999999999, 0.6900000000000002, 0.7, 0.78, 0.7000000000000001, 0.7800000000000002, 0.64, 0.62, 0.8199999999999998, 0.7699999999999999, 0.6699999999999999, 0.7000000000000001], \"xaxis\": \"x\", \"y\": [\"5\", \"5\", \"5\", \"5\", \"5\", \"5\", \"5\", \"5\", \"5\", \"5\", \"5\", \"5\", \"5\", \"5\", \"5\", \"5\", \"5\", \"5\", \"5\", \"5\", \"5\", \"5\", \"5\", \"5\", \"5\", \"5\", \"5\", \"5\", \"5\", \"5\", \"5\", \"5\", \"5\", \"5\", \"5\", \"5\", \"5\", \"5\", \"5\", \"5\", \"5\", \"5\", \"5\", \"5\", \"5\", \"5\", \"5\", \"5\", \"5\", \"5\"], \"yaxis\": \"y2\"}, {\"legendgroup\": \"6\", \"marker\": {\"color\": \"rgb(214, 39, 40)\", \"symbol\": \"line-ns-open\"}, \"mode\": \"markers\", \"name\": \"6\", \"showlegend\": false, \"type\": \"scatter\", \"x\": [0.6832, 0.7834500000000002, 0.6834, 0.6833500000000001, 0.60835, 0.6667, 0.70835, 0.68335, 0.6417, 0.5666500000000001, 0.63333325, 0.47499994999999995, 0.70833325, 0.6333333, 0.75833335, 0.61666675, 0.6250001, 0.6499999999999999, 0.575, 0.6416666499999999, 0.6416666999999999, 0.7166666500000001, 0.6166666, 0.6416666499999998, 0.625, 0.6083333999999999, 0.6166668, 0.7583333999999998, 0.6749999999999999, 0.6666666000000001, 0.6500000500000002, 0.65000005, 0.6000000999999999, 0.5833333499999999, 0.6500000000000001, 0.5916666500000002, 0.53333335, 0.74166665, 0.6916666, 0.5750000000000002, 0.5666667, 0.6333334, 0.65000005, 0.73333335, 0.63333335, 0.54999995, 0.7250001, 0.625, 0.5499999999999999, 0.66666675], \"xaxis\": \"x\", \"y\": [\"6\", \"6\", \"6\", \"6\", \"6\", \"6\", \"6\", \"6\", \"6\", \"6\", \"6\", \"6\", \"6\", \"6\", \"6\", \"6\", \"6\", \"6\", \"6\", \"6\", \"6\", \"6\", \"6\", \"6\", \"6\", \"6\", \"6\", \"6\", \"6\", \"6\", \"6\", \"6\", \"6\", \"6\", \"6\", \"6\", \"6\", \"6\", \"6\", \"6\", \"6\", \"6\", \"6\", \"6\", \"6\", \"6\", \"6\", \"6\", \"6\", \"6\"], \"yaxis\": \"y2\"}, {\"legendgroup\": \"7\", \"marker\": {\"color\": \"rgb(148, 103, 189)\", \"symbol\": \"line-ns-open\"}, \"mode\": \"markers\", \"name\": \"7\", \"showlegend\": false, \"type\": \"scatter\", \"x\": [0.6855000000000002, 0.67835, 0.6783999999999999, 0.63555, 0.5356499999999998, 0.6425999999999998, 0.6498999999999999, 0.6926500000000001, 0.5927, 0.5498999999999999, 0.59285735, 0.6428572999999997, 0.6142858999999998, 0.5785715, 0.6928572999999999, 0.6214288499999999, 0.5785716499999999, 0.6357145, 0.5857144999999999, 0.6214287000000001, 0.6785715500000001, 0.6428572000000001, 0.6000001999999999, 0.6214287999999998, 0.55714305, 0.62857165, 0.5500000500000001, 0.7000002000000001, 0.69285725, 0.69285735, 0.6142859499999999, 0.6500002999999999, 0.56428575, 0.5785716500000001, 0.6642859, 0.5357144, 0.61428585, 0.65714295, 0.6214287000000001, 0.5785716500000001, 0.56428585, 0.6357144499999999, 0.5928572499999999, 0.7285716, 0.5714287, 0.6071429499999998, 0.6500001, 0.6500001999999999, 0.5714286499999999, 0.5571429499999999], \"xaxis\": \"x\", \"y\": [\"7\", \"7\", \"7\", \"7\", \"7\", \"7\", \"7\", \"7\", \"7\", \"7\", \"7\", \"7\", \"7\", \"7\", \"7\", \"7\", \"7\", \"7\", \"7\", \"7\", \"7\", \"7\", \"7\", \"7\", \"7\", \"7\", \"7\", \"7\", \"7\", \"7\", \"7\", \"7\", \"7\", \"7\", \"7\", \"7\", \"7\", \"7\", \"7\", \"7\", \"7\", \"7\", \"7\", \"7\", \"7\", \"7\", \"7\", \"7\", \"7\", \"7\"], \"yaxis\": \"y2\"}, {\"legendgroup\": \"8\", \"marker\": {\"color\": \"rgb(140, 86, 75)\", \"symbol\": \"line-ns-open\"}, \"mode\": \"markers\", \"name\": \"8\", \"showlegend\": false, \"type\": \"scatter\", \"x\": [0.5999999999999999, 0.60625, 0.5625, 0.60625, 0.5750000000000001, 0.59375, 0.6125, 0.5437500000000001, 0.58125, 0.5, 0.575, 0.5750000000000001, 0.60625, 0.49999999999999994, 0.5999999999999999, 0.5625, 0.5499999999999998, 0.6125, 0.5375, 0.5749999999999998, 0.6062500000000001, 0.61875, 0.61875, 0.5625, 0.5375000000000001, 0.54375, 0.59375, 0.61875, 0.5875, 0.54375, 0.5625000000000001, 0.5812500000000002, 0.5499999999999999, 0.47499999999999987, 0.60625, 0.5750000000000001, 0.5499999999999999, 0.6624999999999999, 0.5562500000000001, 0.5187499999999999, 0.49375, 0.6000000000000001, 0.5750000000000001, 0.64375, 0.5687499999999999, 0.5312499999999999, 0.5812499999999999, 0.59375, 0.46249999999999997, 0.58125], \"xaxis\": \"x\", \"y\": [\"8\", \"8\", \"8\", \"8\", \"8\", \"8\", \"8\", \"8\", \"8\", \"8\", \"8\", \"8\", \"8\", \"8\", \"8\", \"8\", \"8\", \"8\", \"8\", \"8\", \"8\", \"8\", \"8\", \"8\", \"8\", \"8\", \"8\", \"8\", \"8\", \"8\", \"8\", \"8\", \"8\", \"8\", \"8\", \"8\", \"8\", \"8\", \"8\", \"8\", \"8\", \"8\", \"8\", \"8\", \"8\", \"8\", \"8\", \"8\", \"8\", \"8\"], \"yaxis\": \"y2\"}],\n",
       "                        {\"barmode\": \"overlay\", \"hovermode\": \"closest\", \"legend\": {\"traceorder\": \"reversed\"}, \"template\": {\"data\": {\"bar\": [{\"error_x\": {\"color\": \"#2a3f5f\"}, \"error_y\": {\"color\": \"#2a3f5f\"}, \"marker\": {\"line\": {\"color\": \"#E5ECF6\", \"width\": 0.5}}, \"type\": \"bar\"}], \"barpolar\": [{\"marker\": {\"line\": {\"color\": \"#E5ECF6\", \"width\": 0.5}}, \"type\": \"barpolar\"}], \"carpet\": [{\"aaxis\": {\"endlinecolor\": \"#2a3f5f\", \"gridcolor\": \"white\", \"linecolor\": \"white\", \"minorgridcolor\": \"white\", \"startlinecolor\": \"#2a3f5f\"}, \"baxis\": {\"endlinecolor\": \"#2a3f5f\", \"gridcolor\": \"white\", \"linecolor\": \"white\", \"minorgridcolor\": \"white\", \"startlinecolor\": \"#2a3f5f\"}, \"type\": \"carpet\"}], \"choropleth\": [{\"colorbar\": {\"outlinewidth\": 0, \"ticks\": \"\"}, \"type\": \"choropleth\"}], \"contour\": [{\"colorbar\": {\"outlinewidth\": 0, \"ticks\": \"\"}, \"colorscale\": [[0.0, \"#0d0887\"], [0.1111111111111111, \"#46039f\"], [0.2222222222222222, \"#7201a8\"], [0.3333333333333333, \"#9c179e\"], [0.4444444444444444, \"#bd3786\"], [0.5555555555555556, \"#d8576b\"], [0.6666666666666666, \"#ed7953\"], [0.7777777777777778, \"#fb9f3a\"], [0.8888888888888888, \"#fdca26\"], [1.0, \"#f0f921\"]], \"type\": \"contour\"}], \"contourcarpet\": [{\"colorbar\": {\"outlinewidth\": 0, \"ticks\": \"\"}, \"type\": \"contourcarpet\"}], \"heatmap\": [{\"colorbar\": {\"outlinewidth\": 0, \"ticks\": \"\"}, \"colorscale\": [[0.0, \"#0d0887\"], [0.1111111111111111, \"#46039f\"], [0.2222222222222222, \"#7201a8\"], [0.3333333333333333, \"#9c179e\"], [0.4444444444444444, \"#bd3786\"], [0.5555555555555556, \"#d8576b\"], [0.6666666666666666, \"#ed7953\"], [0.7777777777777778, \"#fb9f3a\"], [0.8888888888888888, \"#fdca26\"], [1.0, \"#f0f921\"]], \"type\": \"heatmap\"}], \"heatmapgl\": [{\"colorbar\": {\"outlinewidth\": 0, \"ticks\": \"\"}, \"colorscale\": [[0.0, \"#0d0887\"], [0.1111111111111111, \"#46039f\"], [0.2222222222222222, \"#7201a8\"], [0.3333333333333333, \"#9c179e\"], [0.4444444444444444, \"#bd3786\"], [0.5555555555555556, \"#d8576b\"], [0.6666666666666666, \"#ed7953\"], [0.7777777777777778, \"#fb9f3a\"], [0.8888888888888888, \"#fdca26\"], [1.0, \"#f0f921\"]], \"type\": \"heatmapgl\"}], \"histogram\": [{\"marker\": {\"colorbar\": {\"outlinewidth\": 0, \"ticks\": \"\"}}, \"type\": \"histogram\"}], \"histogram2d\": [{\"colorbar\": {\"outlinewidth\": 0, \"ticks\": \"\"}, \"colorscale\": [[0.0, \"#0d0887\"], [0.1111111111111111, \"#46039f\"], [0.2222222222222222, \"#7201a8\"], [0.3333333333333333, \"#9c179e\"], [0.4444444444444444, \"#bd3786\"], [0.5555555555555556, \"#d8576b\"], [0.6666666666666666, \"#ed7953\"], [0.7777777777777778, \"#fb9f3a\"], [0.8888888888888888, \"#fdca26\"], [1.0, \"#f0f921\"]], \"type\": \"histogram2d\"}], \"histogram2dcontour\": [{\"colorbar\": {\"outlinewidth\": 0, \"ticks\": \"\"}, \"colorscale\": [[0.0, \"#0d0887\"], [0.1111111111111111, \"#46039f\"], [0.2222222222222222, \"#7201a8\"], [0.3333333333333333, \"#9c179e\"], [0.4444444444444444, \"#bd3786\"], [0.5555555555555556, \"#d8576b\"], [0.6666666666666666, \"#ed7953\"], [0.7777777777777778, \"#fb9f3a\"], [0.8888888888888888, \"#fdca26\"], [1.0, \"#f0f921\"]], \"type\": \"histogram2dcontour\"}], \"mesh3d\": [{\"colorbar\": {\"outlinewidth\": 0, \"ticks\": \"\"}, \"type\": \"mesh3d\"}], \"parcoords\": [{\"line\": {\"colorbar\": {\"outlinewidth\": 0, \"ticks\": \"\"}}, \"type\": \"parcoords\"}], \"scatter\": [{\"marker\": {\"colorbar\": {\"outlinewidth\": 0, \"ticks\": \"\"}}, \"type\": \"scatter\"}], \"scatter3d\": [{\"line\": {\"colorbar\": {\"outlinewidth\": 0, \"ticks\": \"\"}}, \"marker\": {\"colorbar\": {\"outlinewidth\": 0, \"ticks\": \"\"}}, \"type\": \"scatter3d\"}], \"scattercarpet\": [{\"marker\": {\"colorbar\": {\"outlinewidth\": 0, \"ticks\": \"\"}}, \"type\": \"scattercarpet\"}], \"scattergeo\": [{\"marker\": {\"colorbar\": {\"outlinewidth\": 0, \"ticks\": \"\"}}, \"type\": \"scattergeo\"}], \"scattergl\": [{\"marker\": {\"colorbar\": {\"outlinewidth\": 0, \"ticks\": \"\"}}, \"type\": \"scattergl\"}], \"scattermapbox\": [{\"marker\": {\"colorbar\": {\"outlinewidth\": 0, \"ticks\": \"\"}}, \"type\": \"scattermapbox\"}], \"scatterpolar\": [{\"marker\": {\"colorbar\": {\"outlinewidth\": 0, \"ticks\": \"\"}}, \"type\": \"scatterpolar\"}], \"scatterpolargl\": [{\"marker\": {\"colorbar\": {\"outlinewidth\": 0, \"ticks\": \"\"}}, \"type\": \"scatterpolargl\"}], \"scatterternary\": [{\"marker\": {\"colorbar\": {\"outlinewidth\": 0, \"ticks\": \"\"}}, \"type\": \"scatterternary\"}], \"surface\": [{\"colorbar\": {\"outlinewidth\": 0, \"ticks\": \"\"}, \"colorscale\": [[0.0, \"#0d0887\"], [0.1111111111111111, \"#46039f\"], [0.2222222222222222, \"#7201a8\"], [0.3333333333333333, \"#9c179e\"], [0.4444444444444444, \"#bd3786\"], [0.5555555555555556, \"#d8576b\"], [0.6666666666666666, \"#ed7953\"], [0.7777777777777778, \"#fb9f3a\"], [0.8888888888888888, \"#fdca26\"], [1.0, \"#f0f921\"]], \"type\": \"surface\"}], \"table\": [{\"cells\": {\"fill\": {\"color\": \"#EBF0F8\"}, \"line\": {\"color\": \"white\"}}, \"header\": {\"fill\": {\"color\": \"#C8D4E3\"}, \"line\": {\"color\": \"white\"}}, \"type\": \"table\"}]}, \"layout\": {\"annotationdefaults\": {\"arrowcolor\": \"#2a3f5f\", \"arrowhead\": 0, \"arrowwidth\": 1}, \"colorscale\": {\"diverging\": [[0, \"#8e0152\"], [0.1, \"#c51b7d\"], [0.2, \"#de77ae\"], [0.3, \"#f1b6da\"], [0.4, \"#fde0ef\"], [0.5, \"#f7f7f7\"], [0.6, \"#e6f5d0\"], [0.7, \"#b8e186\"], [0.8, \"#7fbc41\"], [0.9, \"#4d9221\"], [1, \"#276419\"]], \"sequential\": [[0.0, \"#0d0887\"], [0.1111111111111111, \"#46039f\"], [0.2222222222222222, \"#7201a8\"], [0.3333333333333333, \"#9c179e\"], [0.4444444444444444, \"#bd3786\"], [0.5555555555555556, \"#d8576b\"], [0.6666666666666666, \"#ed7953\"], [0.7777777777777778, \"#fb9f3a\"], [0.8888888888888888, \"#fdca26\"], [1.0, \"#f0f921\"]], \"sequentialminus\": [[0.0, \"#0d0887\"], [0.1111111111111111, \"#46039f\"], [0.2222222222222222, \"#7201a8\"], [0.3333333333333333, \"#9c179e\"], [0.4444444444444444, \"#bd3786\"], [0.5555555555555556, \"#d8576b\"], [0.6666666666666666, \"#ed7953\"], [0.7777777777777778, \"#fb9f3a\"], [0.8888888888888888, \"#fdca26\"], [1.0, \"#f0f921\"]]}, \"colorway\": [\"#636efa\", \"#EF553B\", \"#00cc96\", \"#ab63fa\", \"#FFA15A\", \"#19d3f3\", \"#FF6692\", \"#B6E880\", \"#FF97FF\", \"#FECB52\"], \"font\": {\"color\": \"#2a3f5f\"}, \"geo\": {\"bgcolor\": \"white\", \"lakecolor\": \"white\", \"landcolor\": \"#E5ECF6\", \"showlakes\": true, \"showland\": true, \"subunitcolor\": \"white\"}, \"hoverlabel\": {\"align\": \"left\"}, \"hovermode\": \"closest\", \"mapbox\": {\"style\": \"light\"}, \"paper_bgcolor\": \"white\", \"plot_bgcolor\": \"#E5ECF6\", \"polar\": {\"angularaxis\": {\"gridcolor\": \"white\", \"linecolor\": \"white\", \"ticks\": \"\"}, \"bgcolor\": \"#E5ECF6\", \"radialaxis\": {\"gridcolor\": \"white\", \"linecolor\": \"white\", \"ticks\": \"\"}}, \"scene\": {\"xaxis\": {\"backgroundcolor\": \"#E5ECF6\", \"gridcolor\": \"white\", \"gridwidth\": 2, \"linecolor\": \"white\", \"showbackground\": true, \"ticks\": \"\", \"zerolinecolor\": \"white\"}, \"yaxis\": {\"backgroundcolor\": \"#E5ECF6\", \"gridcolor\": \"white\", \"gridwidth\": 2, \"linecolor\": \"white\", \"showbackground\": true, \"ticks\": \"\", \"zerolinecolor\": \"white\"}, \"zaxis\": {\"backgroundcolor\": \"#E5ECF6\", \"gridcolor\": \"white\", \"gridwidth\": 2, \"linecolor\": \"white\", \"showbackground\": true, \"ticks\": \"\", \"zerolinecolor\": \"white\"}}, \"shapedefaults\": {\"line\": {\"color\": \"#2a3f5f\"}}, \"ternary\": {\"aaxis\": {\"gridcolor\": \"white\", \"linecolor\": \"white\", \"ticks\": \"\"}, \"baxis\": {\"gridcolor\": \"white\", \"linecolor\": \"white\", \"ticks\": \"\"}, \"bgcolor\": \"#E5ECF6\", \"caxis\": {\"gridcolor\": \"white\", \"linecolor\": \"white\", \"ticks\": \"\"}}, \"title\": {\"x\": 0.05}, \"xaxis\": {\"automargin\": true, \"gridcolor\": \"white\", \"linecolor\": \"white\", \"ticks\": \"\", \"zerolinecolor\": \"white\", \"zerolinewidth\": 2}, \"yaxis\": {\"automargin\": true, \"gridcolor\": \"white\", \"linecolor\": \"white\", \"ticks\": \"\", \"zerolinecolor\": \"white\", \"zerolinewidth\": 2}}}, \"title\": {\"text\": \"Hist and Rug plots of accuracy distribution for various target loads\"}, \"xaxis\": {\"anchor\": \"y2\", \"domain\": [0.0, 1.0], \"title\": {\"text\": \"Accuracy distribution for target loads\"}, \"zeroline\": false}, \"yaxis\": {\"anchor\": \"free\", \"domain\": [0.35, 1], \"position\": 0.0, \"title\": {\"text\": \"Frequency\"}}, \"yaxis2\": {\"anchor\": \"x\", \"domain\": [0, 0.25], \"dtick\": 1, \"showticklabels\": false}},\n",
       "                        {\"responsive\": true}\n",
       "                    ).then(function(){\n",
       "                            \n",
       "var gd = document.getElementById('f69eaa21-7d17-44af-aa9a-801f5ed0680d');\n",
       "var x = new MutationObserver(function (mutations, observer) {{\n",
       "        var display = window.getComputedStyle(gd).display;\n",
       "        if (!display || display === 'none') {{\n",
       "            console.log([gd, 'removed!']);\n",
       "            Plotly.purge(gd);\n",
       "            observer.disconnect();\n",
       "        }}\n",
       "}});\n",
       "\n",
       "// Listen for the removal of the full notebook cells\n",
       "var notebookContainer = gd.closest('#notebook-container');\n",
       "if (notebookContainer) {{\n",
       "    x.observe(notebookContainer, {childList: true});\n",
       "}}\n",
       "\n",
       "// Listen for the clearing of the current output cell\n",
       "var outputEl = gd.closest('.output');\n",
       "if (outputEl) {{\n",
       "    x.observe(outputEl, {childList: true});\n",
       "}}\n",
       "\n",
       "                        })\n",
       "                };\n",
       "                });\n",
       "            </script>\n",
       "        </div>"
      ]
     },
     "metadata": {},
     "output_type": "display_data"
    }
   ],
   "source": [
    "sec1_trace = []\n",
    "for target in subject_data['num_targets'].unique().sort():\n",
    "    target_data = subject_data[subject_data['num_targets']==target]\n",
    "    #sec3_trace.append(go.Histogram(x = target_data['avg_accuracy'].to_numpy(),\n",
    "    #                             histnorm = 'percent', name='Target load: ' + str(target)))\n",
    "    sec1_trace.append(target_data['avg_accuracy'].to_numpy())\n",
    "\n",
    "group_labels = ['3','4','5','6','7','8']\n",
    "        \n",
    "fig = ff.create_distplot(sec1_trace,group_labels, curve_type='kde', bin_size = accuracy_data['std_acc'].to_numpy())\n",
    "\n",
    "\n",
    "fig['layout'].update(title='Hist and Rug plots of accuracy distribution for various target loads')\n",
    "fig['layout']['xaxis'].update(title='Accuracy distribution for target loads')\n",
    "fig['layout']['yaxis'].update(title='Frequency')\n",
    "\n",
    "iplot(fig, filename='histograms of accuracies for various target loads')  "
   ]
  },
  {
   "cell_type": "code",
   "execution_count": 8,
   "metadata": {},
   "outputs": [
    {
     "data": {
      "text/plain": [
       "50.0"
      ]
     },
     "execution_count": 8,
     "metadata": {},
     "output_type": "execute_result"
    }
   ],
   "source": [
    "len(subject_data)/6"
   ]
  },
  {
   "cell_type": "markdown",
   "metadata": {},
   "source": [
    "<a id = section 2></a>\n",
    "# [Consistencies in individual differences in the behavioral data](#section 2) \n",
    "\n",
    "In this section, we check whether the individual differences we observe are consistent across the individuals across conditions. We check for the consistencies in the following ways:\n",
    "\n",
    "* First, obtain the individual rankings of all the 50 participants by collapsing across 120 trials\n",
    "* Second, check if these rankings are consistent when the compared across target load sets [3,5,7] vs. [4,6,8]\n",
    "* Third, check if these rankings are consistent across speed conditions [2.8 8.4] vs. [5.6 11.2]\n"
   ]
  },
  {
   "cell_type": "markdown",
   "metadata": {},
   "source": [
    "## Obtain rankings of participants across the 120 trials"
   ]
  },
  {
   "cell_type": "code",
   "execution_count": 9,
   "metadata": {},
   "outputs": [
    {
     "data": {
      "text/html": [
       "<div style=\"max-height:1000px;max-width:1500px;overflow:auto;\"><table frame=\"box\" rules=\"cols\">\n",
       "    <tr>\n",
       "        <th style=\"padding-left: 1em; padding-right: 1em; text-align: center\">subject_Num</th>\n",
       "        <th style=\"padding-left: 1em; padding-right: 1em; text-align: center\">avg_accuracy</th>\n",
       "        <th style=\"padding-left: 1em; padding-right: 1em; text-align: center\">rank</th>\n",
       "    </tr>\n",
       "    <tr>\n",
       "        <td style=\"padding-left: 1em; padding-right: 1em; text-align: center; vertical-align: top\">101</td>\n",
       "        <td style=\"padding-left: 1em; padding-right: 1em; text-align: center; vertical-align: top\">0.7477083333333335</td>\n",
       "        <td style=\"padding-left: 1em; padding-right: 1em; text-align: center; vertical-align: top\">16</td>\n",
       "    </tr>\n",
       "    <tr>\n",
       "        <td style=\"padding-left: 1em; padding-right: 1em; text-align: center; vertical-align: top\">102</td>\n",
       "        <td style=\"padding-left: 1em; padding-right: 1em; text-align: center; vertical-align: top\">0.8009250000000003</td>\n",
       "        <td style=\"padding-left: 1em; padding-right: 1em; text-align: center; vertical-align: top\">2</td>\n",
       "    </tr>\n",
       "    <tr>\n",
       "        <td style=\"padding-left: 1em; padding-right: 1em; text-align: center; vertical-align: top\">103</td>\n",
       "        <td style=\"padding-left: 1em; padding-right: 1em; text-align: center; vertical-align: top\">0.7633583333333335</td>\n",
       "        <td style=\"padding-left: 1em; padding-right: 1em; text-align: center; vertical-align: top\">10</td>\n",
       "    </tr>\n",
       "    <tr>\n",
       "        <td style=\"padding-left: 1em; padding-right: 1em; text-align: center; vertical-align: top\">104</td>\n",
       "        <td style=\"padding-left: 1em; padding-right: 1em; text-align: center; vertical-align: top\">0.7680833333333337</td>\n",
       "        <td style=\"padding-left: 1em; padding-right: 1em; text-align: center; vertical-align: top\">8</td>\n",
       "    </tr>\n",
       "    <tr>\n",
       "        <td style=\"padding-left: 1em; padding-right: 1em; text-align: center; vertical-align: top\">105</td>\n",
       "        <td style=\"padding-left: 1em; padding-right: 1em; text-align: center; vertical-align: top\">0.6633083333333334</td>\n",
       "        <td style=\"padding-left: 1em; padding-right: 1em; text-align: center; vertical-align: top\">43</td>\n",
       "    </tr>\n",
       "    <tr>\n",
       "        <td style=\"padding-left: 1em; padding-right: 1em; text-align: center; vertical-align: top\">106</td>\n",
       "        <td style=\"padding-left: 1em; padding-right: 1em; text-align: center; vertical-align: top\">0.7353749999999998</td>\n",
       "        <td style=\"padding-left: 1em; padding-right: 1em; text-align: center; vertical-align: top\">23</td>\n",
       "    </tr>\n",
       "    <tr>\n",
       "        <td style=\"padding-left: 1em; padding-right: 1em; text-align: center; vertical-align: top\">107</td>\n",
       "        <td style=\"padding-left: 1em; padding-right: 1em; text-align: center; vertical-align: top\">0.7586166666666667</td>\n",
       "        <td style=\"padding-left: 1em; padding-right: 1em; text-align: center; vertical-align: top\">12</td>\n",
       "    </tr>\n",
       "    <tr>\n",
       "        <td style=\"padding-left: 1em; padding-right: 1em; text-align: center; vertical-align: top\">108</td>\n",
       "        <td style=\"padding-left: 1em; padding-right: 1em; text-align: center; vertical-align: top\">0.7548249999999999</td>\n",
       "        <td style=\"padding-left: 1em; padding-right: 1em; text-align: center; vertical-align: top\">14</td>\n",
       "    </tr>\n",
       "    <tr>\n",
       "        <td style=\"padding-left: 1em; padding-right: 1em; text-align: center; vertical-align: top\">109</td>\n",
       "        <td style=\"padding-left: 1em; padding-right: 1em; text-align: center; vertical-align: top\">0.7060833333333331</td>\n",
       "        <td style=\"padding-left: 1em; padding-right: 1em; text-align: center; vertical-align: top\">30</td>\n",
       "    </tr>\n",
       "    <tr>\n",
       "        <td style=\"padding-left: 1em; padding-right: 1em; text-align: center; vertical-align: top\">110</td>\n",
       "        <td style=\"padding-left: 1em; padding-right: 1em; text-align: center; vertical-align: top\">0.6245749999999994</td>\n",
       "        <td style=\"padding-left: 1em; padding-right: 1em; text-align: center; vertical-align: top\">48</td>\n",
       "    </tr>\n",
       "</table>\n",
       "[50 rows x 3 columns]<br/>Note: Only the head of the SFrame is printed.<br/>You can use print_rows(num_rows=m, num_columns=n) to print more rows and columns.\n",
       "</div>"
      ],
      "text/plain": [
       "Columns:\n",
       "\tsubject_Num\tint\n",
       "\tavg_accuracy\tfloat\n",
       "\trank\tint\n",
       "\n",
       "Rows: 50\n",
       "\n",
       "Data:\n",
       "+-------------+--------------------+------+\n",
       "| subject_Num |    avg_accuracy    | rank |\n",
       "+-------------+--------------------+------+\n",
       "|     101     | 0.7477083333333335 |  16  |\n",
       "|     102     | 0.8009250000000003 |  2   |\n",
       "|     103     | 0.7633583333333335 |  10  |\n",
       "|     104     | 0.7680833333333337 |  8   |\n",
       "|     105     | 0.6633083333333334 |  43  |\n",
       "|     106     | 0.7353749999999998 |  23  |\n",
       "|     107     | 0.7586166666666667 |  12  |\n",
       "|     108     | 0.7548249999999999 |  14  |\n",
       "|     109     | 0.7060833333333331 |  30  |\n",
       "|     110     | 0.6245749999999994 |  48  |\n",
       "+-------------+--------------------+------+\n",
       "[50 rows x 3 columns]\n",
       "Note: Only the head of the SFrame is printed.\n",
       "You can use print_rows(num_rows=m, num_columns=n) to print more rows and columns."
      ]
     },
     "execution_count": 9,
     "metadata": {},
     "output_type": "execute_result"
    }
   ],
   "source": [
    "individual_ranking = behavior_data.groupby('subject_Num',operations = {'avg_accuracy':agg.MEAN('accuracy')})\n",
    "individual_ranking = individual_ranking.sort('avg_accuracy',ascending=False)\n",
    "individual_ranking['rank'] = np.arange(1,len(individual_ranking)+1)\n",
    "individual_ranking = individual_ranking.sort('subject_Num')\n",
    "individual_ranking"
   ]
  },
  {
   "cell_type": "markdown",
   "metadata": {},
   "source": [
    "## Check for consistencies when compared across target load sets for these ranked individuals"
   ]
  },
  {
   "cell_type": "code",
   "execution_count": 10,
   "metadata": {
    "code_folding": [
     23,
     29
    ]
   },
   "outputs": [
    {
     "name": "stdout",
     "output_type": "stream",
     "text": [
      "0.5691466972120702\n"
     ]
    },
    {
     "data": {
      "application/vnd.plotly.v1+json": {
       "config": {
        "plotlyServerURL": "https://plot.ly"
       },
       "data": [
        {
         "marker": {
          "color": "gray",
          "line": {
           "color": "black",
           "width": 1.5
          },
          "opacity": 0.65,
          "size": 12
         },
         "mode": "markers+text",
         "showlegend": false,
         "text": [
          1,
          2,
          3,
          4,
          5,
          6,
          7,
          8,
          9,
          10,
          11,
          12,
          13,
          14,
          15,
          16,
          17,
          18,
          19,
          20,
          21,
          22,
          23,
          24,
          25,
          26,
          27,
          28,
          29,
          30,
          31,
          32,
          33,
          34,
          35,
          36,
          37,
          38,
          39,
          40,
          41,
          42,
          43,
          44,
          45,
          46,
          47,
          48,
          49,
          50
         ],
         "textfont": {
          "size": 7
         },
         "type": "scatter",
         "x": [
          0.9194444499999999,
          0.9125,
          0.9052777833333335,
          0.8944444500000003,
          0.85583335,
          0.9052777833333333,
          0.89444445,
          0.89445,
          0.8877777833333335,
          0.8852833333333333,
          0.8805555833333333,
          0.8603166666666666,
          0.8644444500000001,
          0.8697333333333332,
          0.8736111166666666,
          0.8391833333333335,
          0.8516666833333333,
          0.8580555666666668,
          0.8558333500000002,
          0.8441666833333333,
          0.8458333499999999,
          0.8591666833333332,
          0.8364000000000001,
          0.8577777833333334,
          0.8247222499999999,
          0.8388889000000002,
          0.8438888999999999,
          0.8483333500000001,
          0.8163889000000002,
          0.8069499999999998,
          0.8247222333333332,
          0.7988889166666667,
          0.8308333666666665,
          0.7833333666666666,
          0.7902778,
          0.8002777833333332,
          0.8027778,
          0.8011111333333336,
          0.79944445,
          0.8083333500000002,
          0.7713888999999999,
          0.8122222333333333,
          0.7536166666666666,
          0.7633333499999997,
          0.7305555999999999,
          0.7008333666666666,
          0.6911111500000001,
          0.7103,
          0.6705555499999999,
          0.6611111666666668
         ],
         "y": [
          0.6871032,
          0.6893499999999999,
          0.6923612000000001,
          0.6837302166666666,
          0.7018849833333334,
          0.6520833999999999,
          0.6594246166666667,
          0.641716666666667,
          0.6429563833333335,
          0.6414333333333334,
          0.6401786333333331,
          0.6569166666666667,
          0.65178575,
          0.6399166666666666,
          0.6231151000000003,
          0.6562333333333332,
          0.64216275,
          0.6327381666666666,
          0.62301595,
          0.6344246500000001,
          0.62708345,
          0.6126984499999998,
          0.6343499999999999,
          0.6003968666666664,
          0.6229167333333333,
          0.6059524333333334,
          0.6001985333333333,
          0.5935516833333333,
          0.6118055999999998,
          0.6052166666666665,
          0.5868056166666671,
          0.6085318166666669,
          0.5642857499999998,
          0.6089286666666668,
          0.6016865666666668,
          0.5845239166666665,
          0.5732143500000003,
          0.5706349333333331,
          0.5574405499999998,
          0.5415675166666666,
          0.5714286166666666,
          0.5279762166666667,
          0.5729999999999997,
          0.5456350000000002,
          0.5658730666666665,
          0.5911706833333334,
          0.56746035,
          0.5388499999999998,
          0.5627976333333332,
          0.5660715
         ]
        },
        {
         "line": {
          "color": "black",
          "dash": "longdashdot",
          "width": 3.5
         },
         "mode": "lines",
         "name": "$r^{2}_{partial} = 0.753$",
         "opacity": 0.5,
         "showlegend": false,
         "type": "scatter",
         "x": [
          0.6611111666666668,
          0.6637205937710439,
          0.666330020875421,
          0.6689394479797981,
          0.6715488750841752,
          0.6741583021885523,
          0.6767677292929294,
          0.6793771563973066,
          0.6819865835016836,
          0.6845960106060607,
          0.6872054377104378,
          0.6898148648148149,
          0.6924242919191921,
          0.6950337190235691,
          0.6976431461279462,
          0.7002525732323234,
          0.7028620003367004,
          0.7054714274410775,
          0.7080808545454547,
          0.7106902816498317,
          0.7132997087542088,
          0.715909135858586,
          0.718518562962963,
          0.7211279900673402,
          0.7237374171717172,
          0.7263468442760943,
          0.7289562713804715,
          0.7315656984848485,
          0.7341751255892257,
          0.7367845526936028,
          0.7393939797979798,
          0.742003406902357,
          0.7446128340067341,
          0.7472222611111111,
          0.7498316882154883,
          0.7524411153198654,
          0.7550505424242424,
          0.7576599695286196,
          0.7602693966329966,
          0.7628788237373738,
          0.7654882508417509,
          0.7680976779461279,
          0.7707071050505051,
          0.7733165321548822,
          0.7759259592592593,
          0.7785353863636364,
          0.7811448134680135,
          0.7837542405723906,
          0.7863636676767677,
          0.7889730947811449,
          0.7915825218855219,
          0.794191948989899,
          0.796801376094276,
          0.7994108031986532,
          0.8020202303030303,
          0.8046296574074074,
          0.8072390845117845,
          0.8098485116161616,
          0.8124579387205387,
          0.8150673658249158,
          0.817676792929293,
          0.82028622003367,
          0.8228956471380471,
          0.8255050742424241,
          0.8281145013468013,
          0.8307239284511785,
          0.8333333555555555,
          0.8359427826599326,
          0.8385522097643097,
          0.8411616368686868,
          0.8437710639730639,
          0.8463804910774411,
          0.8489899181818181,
          0.8515993452861952,
          0.8542087723905724,
          0.8568181994949494,
          0.8594276265993266,
          0.8620370537037036,
          0.8646464808080807,
          0.8672559079124578,
          0.8698653350168349,
          0.8724747621212121,
          0.8750841892255892,
          0.8776936163299662,
          0.8803030434343433,
          0.8829124705387205,
          0.8855218976430975,
          0.8881313247474747,
          0.8907407518518518,
          0.8933501789562288,
          0.895959606060606,
          0.898569033164983,
          0.9011784602693602,
          0.9037878873737373,
          0.9063973144781143,
          0.9090067415824914,
          0.9116161686868686,
          0.9142255957912457,
          0.9168350228956228,
          0.9194444499999999
         ],
         "y": [
          0.5271506331229335,
          0.5285086168428414,
          0.5298666005627496,
          0.5312245842826575,
          0.5325825680025655,
          0.5339405517224736,
          0.5352985354423816,
          0.5366565191622896,
          0.5380145028821977,
          0.5393724866021057,
          0.5407304703220137,
          0.5420884540419217,
          0.5434464377618298,
          0.5448044214817378,
          0.5461624052016458,
          0.5475203889215539,
          0.5488783726414619,
          0.5502363563613698,
          0.551594340081278,
          0.5529523238011859,
          0.5543103075210938,
          0.5556682912410019,
          0.5570262749609098,
          0.558384258680818,
          0.5597422424007259,
          0.5611002261206339,
          0.562458209840542,
          0.56381619356045,
          0.565174177280358,
          0.566532161000266,
          0.5678901447201741,
          0.5692481284400821,
          0.5706061121599901,
          0.5719640958798982,
          0.5733220795998062,
          0.5746800633197142,
          0.5760380470396221,
          0.5773960307595303,
          0.5787540144794382,
          0.5801119981993463,
          0.5814699819192543,
          0.5828279656391623,
          0.5841859493590703,
          0.5855439330789782,
          0.5869019167988864,
          0.5882599005187943,
          0.5896178842387023,
          0.5909758679586103,
          0.5923338516785184,
          0.5936918353984264,
          0.5950498191183344,
          0.5964078028382425,
          0.5977657865581505,
          0.5991237702780585,
          0.6004817539979665,
          0.6018397377178746,
          0.6031977214377826,
          0.6045557051576905,
          0.6059136888775987,
          0.6072716725975066,
          0.6086296563174147,
          0.6099876400373226,
          0.6113456237572307,
          0.6127036074771386,
          0.6140615911970467,
          0.6154195749169548,
          0.6167775586368627,
          0.6181355423567707,
          0.6194935260766787,
          0.6208515097965868,
          0.6222094935164948,
          0.6235674772364028,
          0.6249254609563109,
          0.6262834446762189,
          0.6276414283961269,
          0.6289994121160349,
          0.630357395835943,
          0.631715379555851,
          0.633073363275759,
          0.634431346995667,
          0.635789330715575,
          0.6371473144354831,
          0.638505298155391,
          0.6398632818752991,
          0.641221265595207,
          0.6425792493151151,
          0.643937233035023,
          0.6452952167549311,
          0.6466532004748391,
          0.6480111841947471,
          0.6493691679146552,
          0.6507271516345632,
          0.6520851353544712,
          0.6534431190743792,
          0.6548011027942873,
          0.6561590865141953,
          0.6575170702341033,
          0.6588750539540114,
          0.6602330376739194,
          0.6615910213938274
         ]
        }
       ],
       "layout": {
        "annotations": [
         {
          "font": {
           "color": "black",
           "family": "Times"
          },
          "showarrow": false,
          "text": "$r^{2} = 0.569^{*}$",
          "x": 0.6525,
          "xref": "x",
          "y": 0.625,
          "yref": "y"
         }
        ],
        "font": {
         "color": "black",
         "family": "Times,Bold",
         "size": 12
        },
        "height": 400,
        "plot_bgcolor": "rgba(0,0,0,0)",
        "template": {
         "data": {
          "bar": [
           {
            "error_x": {
             "color": "#2a3f5f"
            },
            "error_y": {
             "color": "#2a3f5f"
            },
            "marker": {
             "line": {
              "color": "#E5ECF6",
              "width": 0.5
             }
            },
            "type": "bar"
           }
          ],
          "barpolar": [
           {
            "marker": {
             "line": {
              "color": "#E5ECF6",
              "width": 0.5
             }
            },
            "type": "barpolar"
           }
          ],
          "carpet": [
           {
            "aaxis": {
             "endlinecolor": "#2a3f5f",
             "gridcolor": "white",
             "linecolor": "white",
             "minorgridcolor": "white",
             "startlinecolor": "#2a3f5f"
            },
            "baxis": {
             "endlinecolor": "#2a3f5f",
             "gridcolor": "white",
             "linecolor": "white",
             "minorgridcolor": "white",
             "startlinecolor": "#2a3f5f"
            },
            "type": "carpet"
           }
          ],
          "choropleth": [
           {
            "colorbar": {
             "outlinewidth": 0,
             "ticks": ""
            },
            "type": "choropleth"
           }
          ],
          "contour": [
           {
            "colorbar": {
             "outlinewidth": 0,
             "ticks": ""
            },
            "colorscale": [
             [
              0,
              "#0d0887"
             ],
             [
              0.1111111111111111,
              "#46039f"
             ],
             [
              0.2222222222222222,
              "#7201a8"
             ],
             [
              0.3333333333333333,
              "#9c179e"
             ],
             [
              0.4444444444444444,
              "#bd3786"
             ],
             [
              0.5555555555555556,
              "#d8576b"
             ],
             [
              0.6666666666666666,
              "#ed7953"
             ],
             [
              0.7777777777777778,
              "#fb9f3a"
             ],
             [
              0.8888888888888888,
              "#fdca26"
             ],
             [
              1,
              "#f0f921"
             ]
            ],
            "type": "contour"
           }
          ],
          "contourcarpet": [
           {
            "colorbar": {
             "outlinewidth": 0,
             "ticks": ""
            },
            "type": "contourcarpet"
           }
          ],
          "heatmap": [
           {
            "colorbar": {
             "outlinewidth": 0,
             "ticks": ""
            },
            "colorscale": [
             [
              0,
              "#0d0887"
             ],
             [
              0.1111111111111111,
              "#46039f"
             ],
             [
              0.2222222222222222,
              "#7201a8"
             ],
             [
              0.3333333333333333,
              "#9c179e"
             ],
             [
              0.4444444444444444,
              "#bd3786"
             ],
             [
              0.5555555555555556,
              "#d8576b"
             ],
             [
              0.6666666666666666,
              "#ed7953"
             ],
             [
              0.7777777777777778,
              "#fb9f3a"
             ],
             [
              0.8888888888888888,
              "#fdca26"
             ],
             [
              1,
              "#f0f921"
             ]
            ],
            "type": "heatmap"
           }
          ],
          "heatmapgl": [
           {
            "colorbar": {
             "outlinewidth": 0,
             "ticks": ""
            },
            "colorscale": [
             [
              0,
              "#0d0887"
             ],
             [
              0.1111111111111111,
              "#46039f"
             ],
             [
              0.2222222222222222,
              "#7201a8"
             ],
             [
              0.3333333333333333,
              "#9c179e"
             ],
             [
              0.4444444444444444,
              "#bd3786"
             ],
             [
              0.5555555555555556,
              "#d8576b"
             ],
             [
              0.6666666666666666,
              "#ed7953"
             ],
             [
              0.7777777777777778,
              "#fb9f3a"
             ],
             [
              0.8888888888888888,
              "#fdca26"
             ],
             [
              1,
              "#f0f921"
             ]
            ],
            "type": "heatmapgl"
           }
          ],
          "histogram": [
           {
            "marker": {
             "colorbar": {
              "outlinewidth": 0,
              "ticks": ""
             }
            },
            "type": "histogram"
           }
          ],
          "histogram2d": [
           {
            "colorbar": {
             "outlinewidth": 0,
             "ticks": ""
            },
            "colorscale": [
             [
              0,
              "#0d0887"
             ],
             [
              0.1111111111111111,
              "#46039f"
             ],
             [
              0.2222222222222222,
              "#7201a8"
             ],
             [
              0.3333333333333333,
              "#9c179e"
             ],
             [
              0.4444444444444444,
              "#bd3786"
             ],
             [
              0.5555555555555556,
              "#d8576b"
             ],
             [
              0.6666666666666666,
              "#ed7953"
             ],
             [
              0.7777777777777778,
              "#fb9f3a"
             ],
             [
              0.8888888888888888,
              "#fdca26"
             ],
             [
              1,
              "#f0f921"
             ]
            ],
            "type": "histogram2d"
           }
          ],
          "histogram2dcontour": [
           {
            "colorbar": {
             "outlinewidth": 0,
             "ticks": ""
            },
            "colorscale": [
             [
              0,
              "#0d0887"
             ],
             [
              0.1111111111111111,
              "#46039f"
             ],
             [
              0.2222222222222222,
              "#7201a8"
             ],
             [
              0.3333333333333333,
              "#9c179e"
             ],
             [
              0.4444444444444444,
              "#bd3786"
             ],
             [
              0.5555555555555556,
              "#d8576b"
             ],
             [
              0.6666666666666666,
              "#ed7953"
             ],
             [
              0.7777777777777778,
              "#fb9f3a"
             ],
             [
              0.8888888888888888,
              "#fdca26"
             ],
             [
              1,
              "#f0f921"
             ]
            ],
            "type": "histogram2dcontour"
           }
          ],
          "mesh3d": [
           {
            "colorbar": {
             "outlinewidth": 0,
             "ticks": ""
            },
            "type": "mesh3d"
           }
          ],
          "parcoords": [
           {
            "line": {
             "colorbar": {
              "outlinewidth": 0,
              "ticks": ""
             }
            },
            "type": "parcoords"
           }
          ],
          "scatter": [
           {
            "marker": {
             "colorbar": {
              "outlinewidth": 0,
              "ticks": ""
             }
            },
            "type": "scatter"
           }
          ],
          "scatter3d": [
           {
            "line": {
             "colorbar": {
              "outlinewidth": 0,
              "ticks": ""
             }
            },
            "marker": {
             "colorbar": {
              "outlinewidth": 0,
              "ticks": ""
             }
            },
            "type": "scatter3d"
           }
          ],
          "scattercarpet": [
           {
            "marker": {
             "colorbar": {
              "outlinewidth": 0,
              "ticks": ""
             }
            },
            "type": "scattercarpet"
           }
          ],
          "scattergeo": [
           {
            "marker": {
             "colorbar": {
              "outlinewidth": 0,
              "ticks": ""
             }
            },
            "type": "scattergeo"
           }
          ],
          "scattergl": [
           {
            "marker": {
             "colorbar": {
              "outlinewidth": 0,
              "ticks": ""
             }
            },
            "type": "scattergl"
           }
          ],
          "scattermapbox": [
           {
            "marker": {
             "colorbar": {
              "outlinewidth": 0,
              "ticks": ""
             }
            },
            "type": "scattermapbox"
           }
          ],
          "scatterpolar": [
           {
            "marker": {
             "colorbar": {
              "outlinewidth": 0,
              "ticks": ""
             }
            },
            "type": "scatterpolar"
           }
          ],
          "scatterpolargl": [
           {
            "marker": {
             "colorbar": {
              "outlinewidth": 0,
              "ticks": ""
             }
            },
            "type": "scatterpolargl"
           }
          ],
          "scatterternary": [
           {
            "marker": {
             "colorbar": {
              "outlinewidth": 0,
              "ticks": ""
             }
            },
            "type": "scatterternary"
           }
          ],
          "surface": [
           {
            "colorbar": {
             "outlinewidth": 0,
             "ticks": ""
            },
            "colorscale": [
             [
              0,
              "#0d0887"
             ],
             [
              0.1111111111111111,
              "#46039f"
             ],
             [
              0.2222222222222222,
              "#7201a8"
             ],
             [
              0.3333333333333333,
              "#9c179e"
             ],
             [
              0.4444444444444444,
              "#bd3786"
             ],
             [
              0.5555555555555556,
              "#d8576b"
             ],
             [
              0.6666666666666666,
              "#ed7953"
             ],
             [
              0.7777777777777778,
              "#fb9f3a"
             ],
             [
              0.8888888888888888,
              "#fdca26"
             ],
             [
              1,
              "#f0f921"
             ]
            ],
            "type": "surface"
           }
          ],
          "table": [
           {
            "cells": {
             "fill": {
              "color": "#EBF0F8"
             },
             "line": {
              "color": "white"
             }
            },
            "header": {
             "fill": {
              "color": "#C8D4E3"
             },
             "line": {
              "color": "white"
             }
            },
            "type": "table"
           }
          ]
         },
         "layout": {
          "annotationdefaults": {
           "arrowcolor": "#2a3f5f",
           "arrowhead": 0,
           "arrowwidth": 1
          },
          "colorscale": {
           "diverging": [
            [
             0,
             "#8e0152"
            ],
            [
             0.1,
             "#c51b7d"
            ],
            [
             0.2,
             "#de77ae"
            ],
            [
             0.3,
             "#f1b6da"
            ],
            [
             0.4,
             "#fde0ef"
            ],
            [
             0.5,
             "#f7f7f7"
            ],
            [
             0.6,
             "#e6f5d0"
            ],
            [
             0.7,
             "#b8e186"
            ],
            [
             0.8,
             "#7fbc41"
            ],
            [
             0.9,
             "#4d9221"
            ],
            [
             1,
             "#276419"
            ]
           ],
           "sequential": [
            [
             0,
             "#0d0887"
            ],
            [
             0.1111111111111111,
             "#46039f"
            ],
            [
             0.2222222222222222,
             "#7201a8"
            ],
            [
             0.3333333333333333,
             "#9c179e"
            ],
            [
             0.4444444444444444,
             "#bd3786"
            ],
            [
             0.5555555555555556,
             "#d8576b"
            ],
            [
             0.6666666666666666,
             "#ed7953"
            ],
            [
             0.7777777777777778,
             "#fb9f3a"
            ],
            [
             0.8888888888888888,
             "#fdca26"
            ],
            [
             1,
             "#f0f921"
            ]
           ],
           "sequentialminus": [
            [
             0,
             "#0d0887"
            ],
            [
             0.1111111111111111,
             "#46039f"
            ],
            [
             0.2222222222222222,
             "#7201a8"
            ],
            [
             0.3333333333333333,
             "#9c179e"
            ],
            [
             0.4444444444444444,
             "#bd3786"
            ],
            [
             0.5555555555555556,
             "#d8576b"
            ],
            [
             0.6666666666666666,
             "#ed7953"
            ],
            [
             0.7777777777777778,
             "#fb9f3a"
            ],
            [
             0.8888888888888888,
             "#fdca26"
            ],
            [
             1,
             "#f0f921"
            ]
           ]
          },
          "colorway": [
           "#636efa",
           "#EF553B",
           "#00cc96",
           "#ab63fa",
           "#FFA15A",
           "#19d3f3",
           "#FF6692",
           "#B6E880",
           "#FF97FF",
           "#FECB52"
          ],
          "font": {
           "color": "#2a3f5f"
          },
          "geo": {
           "bgcolor": "white",
           "lakecolor": "white",
           "landcolor": "#E5ECF6",
           "showlakes": true,
           "showland": true,
           "subunitcolor": "white"
          },
          "hoverlabel": {
           "align": "left"
          },
          "hovermode": "closest",
          "mapbox": {
           "style": "light"
          },
          "paper_bgcolor": "white",
          "plot_bgcolor": "#E5ECF6",
          "polar": {
           "angularaxis": {
            "gridcolor": "white",
            "linecolor": "white",
            "ticks": ""
           },
           "bgcolor": "#E5ECF6",
           "radialaxis": {
            "gridcolor": "white",
            "linecolor": "white",
            "ticks": ""
           }
          },
          "scene": {
           "xaxis": {
            "backgroundcolor": "#E5ECF6",
            "gridcolor": "white",
            "gridwidth": 2,
            "linecolor": "white",
            "showbackground": true,
            "ticks": "",
            "zerolinecolor": "white"
           },
           "yaxis": {
            "backgroundcolor": "#E5ECF6",
            "gridcolor": "white",
            "gridwidth": 2,
            "linecolor": "white",
            "showbackground": true,
            "ticks": "",
            "zerolinecolor": "white"
           },
           "zaxis": {
            "backgroundcolor": "#E5ECF6",
            "gridcolor": "white",
            "gridwidth": 2,
            "linecolor": "white",
            "showbackground": true,
            "ticks": "",
            "zerolinecolor": "white"
           }
          },
          "shapedefaults": {
           "line": {
            "color": "#2a3f5f"
           }
          },
          "ternary": {
           "aaxis": {
            "gridcolor": "white",
            "linecolor": "white",
            "ticks": ""
           },
           "baxis": {
            "gridcolor": "white",
            "linecolor": "white",
            "ticks": ""
           },
           "bgcolor": "#E5ECF6",
           "caxis": {
            "gridcolor": "white",
            "linecolor": "white",
            "ticks": ""
           }
          },
          "title": {
           "x": 0.05
          },
          "xaxis": {
           "automargin": true,
           "gridcolor": "white",
           "linecolor": "white",
           "ticks": "",
           "zerolinecolor": "white",
           "zerolinewidth": 2
          },
          "yaxis": {
           "automargin": true,
           "gridcolor": "white",
           "linecolor": "white",
           "ticks": "",
           "zerolinecolor": "white",
           "zerolinewidth": 2
          }
         }
        },
        "title": {
         "text": ""
        },
        "width": 400,
        "xaxis": {
         "gridcolor": "#DFDFDF",
         "gridwidth": 1.5,
         "linecolor": "#AFAFAF",
         "linewidth": 2,
         "nticks": 8,
         "range": [
          0.5,
          0.95
         ],
         "showgrid": true,
         "showline": true,
         "tickvals": [
          "",
          0.6,
          0.7,
          0.8,
          0.9
         ],
         "title": {
          "text": "Accuracy (Loads 3-5)"
         },
         "zeroline": true,
         "zerolinecolor": "#AFAFAF",
         "zerolinewidth": 2.5
        },
        "yaxis": {
         "gridcolor": "#DFDFDF",
         "gridwidth": 1.5,
         "linecolor": "#AFAFAF",
         "linewidth": 2,
         "nticks": 8,
         "range": [
          0.5,
          0.75
         ],
         "showgrid": true,
         "showline": true,
         "title": {
          "text": "Accuracy (Loads 6-8)"
         },
         "zeroline": true,
         "zerolinecolor": "#AFAFAF",
         "zerolinewidth": 2.5
        }
       }
      },
      "text/html": [
       "<div>\n",
       "        \n",
       "        \n",
       "            <div id=\"0231cb47-0ce5-402b-bafe-a81eabea4eb2\" class=\"plotly-graph-div\" style=\"height:400px; width:400px;\"></div>\n",
       "            <script type=\"text/javascript\">\n",
       "                require([\"plotly\"], function(Plotly) {\n",
       "                    window.PLOTLYENV=window.PLOTLYENV || {};\n",
       "                    \n",
       "                if (document.getElementById(\"0231cb47-0ce5-402b-bafe-a81eabea4eb2\")) {\n",
       "                    Plotly.newPlot(\n",
       "                        '0231cb47-0ce5-402b-bafe-a81eabea4eb2',\n",
       "                        [{\"marker\": {\"color\": \"gray\", \"line\": {\"color\": \"black\", \"width\": 1.5}, \"opacity\": 0.65, \"size\": 12}, \"mode\": \"markers+text\", \"showlegend\": false, \"text\": [1.0, 2.0, 3.0, 4.0, 5.0, 6.0, 7.0, 8.0, 9.0, 10.0, 11.0, 12.0, 13.0, 14.0, 15.0, 16.0, 17.0, 18.0, 19.0, 20.0, 21.0, 22.0, 23.0, 24.0, 25.0, 26.0, 27.0, 28.0, 29.0, 30.0, 31.0, 32.0, 33.0, 34.0, 35.0, 36.0, 37.0, 38.0, 39.0, 40.0, 41.0, 42.0, 43.0, 44.0, 45.0, 46.0, 47.0, 48.0, 49.0, 50.0], \"textfont\": {\"size\": 7}, \"type\": \"scatter\", \"x\": [0.9194444499999999, 0.9125, 0.9052777833333335, 0.8944444500000003, 0.85583335, 0.9052777833333333, 0.89444445, 0.89445, 0.8877777833333335, 0.8852833333333333, 0.8805555833333333, 0.8603166666666666, 0.8644444500000001, 0.8697333333333332, 0.8736111166666666, 0.8391833333333335, 0.8516666833333333, 0.8580555666666668, 0.8558333500000002, 0.8441666833333333, 0.8458333499999999, 0.8591666833333332, 0.8364000000000001, 0.8577777833333334, 0.8247222499999999, 0.8388889000000002, 0.8438888999999999, 0.8483333500000001, 0.8163889000000002, 0.8069499999999998, 0.8247222333333332, 0.7988889166666667, 0.8308333666666665, 0.7833333666666666, 0.7902778, 0.8002777833333332, 0.8027778, 0.8011111333333336, 0.79944445, 0.8083333500000002, 0.7713888999999999, 0.8122222333333333, 0.7536166666666666, 0.7633333499999997, 0.7305555999999999, 0.7008333666666666, 0.6911111500000001, 0.7103, 0.6705555499999999, 0.6611111666666668], \"y\": [0.6871032, 0.6893499999999999, 0.6923612000000001, 0.6837302166666666, 0.7018849833333334, 0.6520833999999999, 0.6594246166666667, 0.641716666666667, 0.6429563833333335, 0.6414333333333334, 0.6401786333333331, 0.6569166666666667, 0.65178575, 0.6399166666666666, 0.6231151000000003, 0.6562333333333332, 0.64216275, 0.6327381666666666, 0.62301595, 0.6344246500000001, 0.62708345, 0.6126984499999998, 0.6343499999999999, 0.6003968666666664, 0.6229167333333333, 0.6059524333333334, 0.6001985333333333, 0.5935516833333333, 0.6118055999999998, 0.6052166666666665, 0.5868056166666671, 0.6085318166666669, 0.5642857499999998, 0.6089286666666668, 0.6016865666666668, 0.5845239166666665, 0.5732143500000003, 0.5706349333333331, 0.5574405499999998, 0.5415675166666666, 0.5714286166666666, 0.5279762166666667, 0.5729999999999997, 0.5456350000000002, 0.5658730666666665, 0.5911706833333334, 0.56746035, 0.5388499999999998, 0.5627976333333332, 0.5660715]}, {\"line\": {\"color\": \"black\", \"dash\": \"longdashdot\", \"width\": 3.5}, \"mode\": \"lines\", \"name\": \"$r^{2}_{partial} = 0.753$\", \"opacity\": 0.5, \"showlegend\": false, \"type\": \"scatter\", \"x\": [0.6611111666666668, 0.6637205937710439, 0.666330020875421, 0.6689394479797981, 0.6715488750841752, 0.6741583021885523, 0.6767677292929294, 0.6793771563973066, 0.6819865835016836, 0.6845960106060607, 0.6872054377104378, 0.6898148648148149, 0.6924242919191921, 0.6950337190235691, 0.6976431461279462, 0.7002525732323234, 0.7028620003367004, 0.7054714274410775, 0.7080808545454547, 0.7106902816498317, 0.7132997087542088, 0.715909135858586, 0.718518562962963, 0.7211279900673402, 0.7237374171717172, 0.7263468442760943, 0.7289562713804715, 0.7315656984848485, 0.7341751255892257, 0.7367845526936028, 0.7393939797979798, 0.742003406902357, 0.7446128340067341, 0.7472222611111111, 0.7498316882154883, 0.7524411153198654, 0.7550505424242424, 0.7576599695286196, 0.7602693966329966, 0.7628788237373738, 0.7654882508417509, 0.7680976779461279, 0.7707071050505051, 0.7733165321548822, 0.7759259592592593, 0.7785353863636364, 0.7811448134680135, 0.7837542405723906, 0.7863636676767677, 0.7889730947811449, 0.7915825218855219, 0.794191948989899, 0.796801376094276, 0.7994108031986532, 0.8020202303030303, 0.8046296574074074, 0.8072390845117845, 0.8098485116161616, 0.8124579387205387, 0.8150673658249158, 0.817676792929293, 0.82028622003367, 0.8228956471380471, 0.8255050742424241, 0.8281145013468013, 0.8307239284511785, 0.8333333555555555, 0.8359427826599326, 0.8385522097643097, 0.8411616368686868, 0.8437710639730639, 0.8463804910774411, 0.8489899181818181, 0.8515993452861952, 0.8542087723905724, 0.8568181994949494, 0.8594276265993266, 0.8620370537037036, 0.8646464808080807, 0.8672559079124578, 0.8698653350168349, 0.8724747621212121, 0.8750841892255892, 0.8776936163299662, 0.8803030434343433, 0.8829124705387205, 0.8855218976430975, 0.8881313247474747, 0.8907407518518518, 0.8933501789562288, 0.895959606060606, 0.898569033164983, 0.9011784602693602, 0.9037878873737373, 0.9063973144781143, 0.9090067415824914, 0.9116161686868686, 0.9142255957912457, 0.9168350228956228, 0.9194444499999999], \"y\": [0.5271506331229335, 0.5285086168428414, 0.5298666005627496, 0.5312245842826575, 0.5325825680025655, 0.5339405517224736, 0.5352985354423816, 0.5366565191622896, 0.5380145028821977, 0.5393724866021057, 0.5407304703220137, 0.5420884540419217, 0.5434464377618298, 0.5448044214817378, 0.5461624052016458, 0.5475203889215539, 0.5488783726414619, 0.5502363563613698, 0.551594340081278, 0.5529523238011859, 0.5543103075210938, 0.5556682912410019, 0.5570262749609098, 0.558384258680818, 0.5597422424007259, 0.5611002261206339, 0.562458209840542, 0.56381619356045, 0.565174177280358, 0.566532161000266, 0.5678901447201741, 0.5692481284400821, 0.5706061121599901, 0.5719640958798982, 0.5733220795998062, 0.5746800633197142, 0.5760380470396221, 0.5773960307595303, 0.5787540144794382, 0.5801119981993463, 0.5814699819192543, 0.5828279656391623, 0.5841859493590703, 0.5855439330789782, 0.5869019167988864, 0.5882599005187943, 0.5896178842387023, 0.5909758679586103, 0.5923338516785184, 0.5936918353984264, 0.5950498191183344, 0.5964078028382425, 0.5977657865581505, 0.5991237702780585, 0.6004817539979665, 0.6018397377178746, 0.6031977214377826, 0.6045557051576905, 0.6059136888775987, 0.6072716725975066, 0.6086296563174147, 0.6099876400373226, 0.6113456237572307, 0.6127036074771386, 0.6140615911970467, 0.6154195749169548, 0.6167775586368627, 0.6181355423567707, 0.6194935260766787, 0.6208515097965868, 0.6222094935164948, 0.6235674772364028, 0.6249254609563109, 0.6262834446762189, 0.6276414283961269, 0.6289994121160349, 0.630357395835943, 0.631715379555851, 0.633073363275759, 0.634431346995667, 0.635789330715575, 0.6371473144354831, 0.638505298155391, 0.6398632818752991, 0.641221265595207, 0.6425792493151151, 0.643937233035023, 0.6452952167549311, 0.6466532004748391, 0.6480111841947471, 0.6493691679146552, 0.6507271516345632, 0.6520851353544712, 0.6534431190743792, 0.6548011027942873, 0.6561590865141953, 0.6575170702341033, 0.6588750539540114, 0.6602330376739194, 0.6615910213938274]}],\n",
       "                        {\"annotations\": [{\"font\": {\"color\": \"black\", \"family\": \"Times\"}, \"showarrow\": false, \"text\": \"$r^{2} = 0.569^{*}$\", \"x\": 0.6525, \"xref\": \"x\", \"y\": 0.625, \"yref\": \"y\"}], \"font\": {\"color\": \"black\", \"family\": \"Times,Bold\", \"size\": 12}, \"height\": 400, \"plot_bgcolor\": \"rgba(0,0,0,0)\", \"template\": {\"data\": {\"bar\": [{\"error_x\": {\"color\": \"#2a3f5f\"}, \"error_y\": {\"color\": \"#2a3f5f\"}, \"marker\": {\"line\": {\"color\": \"#E5ECF6\", \"width\": 0.5}}, \"type\": \"bar\"}], \"barpolar\": [{\"marker\": {\"line\": {\"color\": \"#E5ECF6\", \"width\": 0.5}}, \"type\": \"barpolar\"}], \"carpet\": [{\"aaxis\": {\"endlinecolor\": \"#2a3f5f\", \"gridcolor\": \"white\", \"linecolor\": \"white\", \"minorgridcolor\": \"white\", \"startlinecolor\": \"#2a3f5f\"}, \"baxis\": {\"endlinecolor\": \"#2a3f5f\", \"gridcolor\": \"white\", \"linecolor\": \"white\", \"minorgridcolor\": \"white\", \"startlinecolor\": \"#2a3f5f\"}, \"type\": \"carpet\"}], \"choropleth\": [{\"colorbar\": {\"outlinewidth\": 0, \"ticks\": \"\"}, \"type\": \"choropleth\"}], \"contour\": [{\"colorbar\": {\"outlinewidth\": 0, \"ticks\": \"\"}, \"colorscale\": [[0.0, \"#0d0887\"], [0.1111111111111111, \"#46039f\"], [0.2222222222222222, \"#7201a8\"], [0.3333333333333333, \"#9c179e\"], [0.4444444444444444, \"#bd3786\"], [0.5555555555555556, \"#d8576b\"], [0.6666666666666666, \"#ed7953\"], [0.7777777777777778, \"#fb9f3a\"], [0.8888888888888888, \"#fdca26\"], [1.0, \"#f0f921\"]], \"type\": \"contour\"}], \"contourcarpet\": [{\"colorbar\": {\"outlinewidth\": 0, \"ticks\": \"\"}, \"type\": \"contourcarpet\"}], \"heatmap\": [{\"colorbar\": {\"outlinewidth\": 0, \"ticks\": \"\"}, \"colorscale\": [[0.0, \"#0d0887\"], [0.1111111111111111, \"#46039f\"], [0.2222222222222222, \"#7201a8\"], [0.3333333333333333, \"#9c179e\"], [0.4444444444444444, \"#bd3786\"], [0.5555555555555556, \"#d8576b\"], [0.6666666666666666, \"#ed7953\"], [0.7777777777777778, \"#fb9f3a\"], [0.8888888888888888, \"#fdca26\"], [1.0, \"#f0f921\"]], \"type\": \"heatmap\"}], \"heatmapgl\": [{\"colorbar\": {\"outlinewidth\": 0, \"ticks\": \"\"}, \"colorscale\": [[0.0, \"#0d0887\"], [0.1111111111111111, \"#46039f\"], [0.2222222222222222, \"#7201a8\"], [0.3333333333333333, \"#9c179e\"], [0.4444444444444444, \"#bd3786\"], [0.5555555555555556, \"#d8576b\"], [0.6666666666666666, \"#ed7953\"], [0.7777777777777778, \"#fb9f3a\"], [0.8888888888888888, \"#fdca26\"], [1.0, \"#f0f921\"]], \"type\": \"heatmapgl\"}], \"histogram\": [{\"marker\": {\"colorbar\": {\"outlinewidth\": 0, \"ticks\": \"\"}}, \"type\": \"histogram\"}], \"histogram2d\": [{\"colorbar\": {\"outlinewidth\": 0, \"ticks\": \"\"}, \"colorscale\": [[0.0, \"#0d0887\"], [0.1111111111111111, \"#46039f\"], [0.2222222222222222, \"#7201a8\"], [0.3333333333333333, \"#9c179e\"], [0.4444444444444444, \"#bd3786\"], [0.5555555555555556, \"#d8576b\"], [0.6666666666666666, \"#ed7953\"], [0.7777777777777778, \"#fb9f3a\"], [0.8888888888888888, \"#fdca26\"], [1.0, \"#f0f921\"]], \"type\": \"histogram2d\"}], \"histogram2dcontour\": [{\"colorbar\": {\"outlinewidth\": 0, \"ticks\": \"\"}, \"colorscale\": [[0.0, \"#0d0887\"], [0.1111111111111111, \"#46039f\"], [0.2222222222222222, \"#7201a8\"], [0.3333333333333333, \"#9c179e\"], [0.4444444444444444, \"#bd3786\"], [0.5555555555555556, \"#d8576b\"], [0.6666666666666666, \"#ed7953\"], [0.7777777777777778, \"#fb9f3a\"], [0.8888888888888888, \"#fdca26\"], [1.0, \"#f0f921\"]], \"type\": \"histogram2dcontour\"}], \"mesh3d\": [{\"colorbar\": {\"outlinewidth\": 0, \"ticks\": \"\"}, \"type\": \"mesh3d\"}], \"parcoords\": [{\"line\": {\"colorbar\": {\"outlinewidth\": 0, \"ticks\": \"\"}}, \"type\": \"parcoords\"}], \"scatter\": [{\"marker\": {\"colorbar\": {\"outlinewidth\": 0, \"ticks\": \"\"}}, \"type\": \"scatter\"}], \"scatter3d\": [{\"line\": {\"colorbar\": {\"outlinewidth\": 0, \"ticks\": \"\"}}, \"marker\": {\"colorbar\": {\"outlinewidth\": 0, \"ticks\": \"\"}}, \"type\": \"scatter3d\"}], \"scattercarpet\": [{\"marker\": {\"colorbar\": {\"outlinewidth\": 0, \"ticks\": \"\"}}, \"type\": \"scattercarpet\"}], \"scattergeo\": [{\"marker\": {\"colorbar\": {\"outlinewidth\": 0, \"ticks\": \"\"}}, \"type\": \"scattergeo\"}], \"scattergl\": [{\"marker\": {\"colorbar\": {\"outlinewidth\": 0, \"ticks\": \"\"}}, \"type\": \"scattergl\"}], \"scattermapbox\": [{\"marker\": {\"colorbar\": {\"outlinewidth\": 0, \"ticks\": \"\"}}, \"type\": \"scattermapbox\"}], \"scatterpolar\": [{\"marker\": {\"colorbar\": {\"outlinewidth\": 0, \"ticks\": \"\"}}, \"type\": \"scatterpolar\"}], \"scatterpolargl\": [{\"marker\": {\"colorbar\": {\"outlinewidth\": 0, \"ticks\": \"\"}}, \"type\": \"scatterpolargl\"}], \"scatterternary\": [{\"marker\": {\"colorbar\": {\"outlinewidth\": 0, \"ticks\": \"\"}}, \"type\": \"scatterternary\"}], \"surface\": [{\"colorbar\": {\"outlinewidth\": 0, \"ticks\": \"\"}, \"colorscale\": [[0.0, \"#0d0887\"], [0.1111111111111111, \"#46039f\"], [0.2222222222222222, \"#7201a8\"], [0.3333333333333333, \"#9c179e\"], [0.4444444444444444, \"#bd3786\"], [0.5555555555555556, \"#d8576b\"], [0.6666666666666666, \"#ed7953\"], [0.7777777777777778, \"#fb9f3a\"], [0.8888888888888888, \"#fdca26\"], [1.0, \"#f0f921\"]], \"type\": \"surface\"}], \"table\": [{\"cells\": {\"fill\": {\"color\": \"#EBF0F8\"}, \"line\": {\"color\": \"white\"}}, \"header\": {\"fill\": {\"color\": \"#C8D4E3\"}, \"line\": {\"color\": \"white\"}}, \"type\": \"table\"}]}, \"layout\": {\"annotationdefaults\": {\"arrowcolor\": \"#2a3f5f\", \"arrowhead\": 0, \"arrowwidth\": 1}, \"colorscale\": {\"diverging\": [[0, \"#8e0152\"], [0.1, \"#c51b7d\"], [0.2, \"#de77ae\"], [0.3, \"#f1b6da\"], [0.4, \"#fde0ef\"], [0.5, \"#f7f7f7\"], [0.6, \"#e6f5d0\"], [0.7, \"#b8e186\"], [0.8, \"#7fbc41\"], [0.9, \"#4d9221\"], [1, \"#276419\"]], \"sequential\": [[0.0, \"#0d0887\"], [0.1111111111111111, \"#46039f\"], [0.2222222222222222, \"#7201a8\"], [0.3333333333333333, \"#9c179e\"], [0.4444444444444444, \"#bd3786\"], [0.5555555555555556, \"#d8576b\"], [0.6666666666666666, \"#ed7953\"], [0.7777777777777778, \"#fb9f3a\"], [0.8888888888888888, \"#fdca26\"], [1.0, \"#f0f921\"]], \"sequentialminus\": [[0.0, \"#0d0887\"], [0.1111111111111111, \"#46039f\"], [0.2222222222222222, \"#7201a8\"], [0.3333333333333333, \"#9c179e\"], [0.4444444444444444, \"#bd3786\"], [0.5555555555555556, \"#d8576b\"], [0.6666666666666666, \"#ed7953\"], [0.7777777777777778, \"#fb9f3a\"], [0.8888888888888888, \"#fdca26\"], [1.0, \"#f0f921\"]]}, \"colorway\": [\"#636efa\", \"#EF553B\", \"#00cc96\", \"#ab63fa\", \"#FFA15A\", \"#19d3f3\", \"#FF6692\", \"#B6E880\", \"#FF97FF\", \"#FECB52\"], \"font\": {\"color\": \"#2a3f5f\"}, \"geo\": {\"bgcolor\": \"white\", \"lakecolor\": \"white\", \"landcolor\": \"#E5ECF6\", \"showlakes\": true, \"showland\": true, \"subunitcolor\": \"white\"}, \"hoverlabel\": {\"align\": \"left\"}, \"hovermode\": \"closest\", \"mapbox\": {\"style\": \"light\"}, \"paper_bgcolor\": \"white\", \"plot_bgcolor\": \"#E5ECF6\", \"polar\": {\"angularaxis\": {\"gridcolor\": \"white\", \"linecolor\": \"white\", \"ticks\": \"\"}, \"bgcolor\": \"#E5ECF6\", \"radialaxis\": {\"gridcolor\": \"white\", \"linecolor\": \"white\", \"ticks\": \"\"}}, \"scene\": {\"xaxis\": {\"backgroundcolor\": \"#E5ECF6\", \"gridcolor\": \"white\", \"gridwidth\": 2, \"linecolor\": \"white\", \"showbackground\": true, \"ticks\": \"\", \"zerolinecolor\": \"white\"}, \"yaxis\": {\"backgroundcolor\": \"#E5ECF6\", \"gridcolor\": \"white\", \"gridwidth\": 2, \"linecolor\": \"white\", \"showbackground\": true, \"ticks\": \"\", \"zerolinecolor\": \"white\"}, \"zaxis\": {\"backgroundcolor\": \"#E5ECF6\", \"gridcolor\": \"white\", \"gridwidth\": 2, \"linecolor\": \"white\", \"showbackground\": true, \"ticks\": \"\", \"zerolinecolor\": \"white\"}}, \"shapedefaults\": {\"line\": {\"color\": \"#2a3f5f\"}}, \"ternary\": {\"aaxis\": {\"gridcolor\": \"white\", \"linecolor\": \"white\", \"ticks\": \"\"}, \"baxis\": {\"gridcolor\": \"white\", \"linecolor\": \"white\", \"ticks\": \"\"}, \"bgcolor\": \"#E5ECF6\", \"caxis\": {\"gridcolor\": \"white\", \"linecolor\": \"white\", \"ticks\": \"\"}}, \"title\": {\"x\": 0.05}, \"xaxis\": {\"automargin\": true, \"gridcolor\": \"white\", \"linecolor\": \"white\", \"ticks\": \"\", \"zerolinecolor\": \"white\", \"zerolinewidth\": 2}, \"yaxis\": {\"automargin\": true, \"gridcolor\": \"white\", \"linecolor\": \"white\", \"ticks\": \"\", \"zerolinecolor\": \"white\", \"zerolinewidth\": 2}}}, \"title\": {\"text\": \"\"}, \"width\": 400, \"xaxis\": {\"gridcolor\": \"#DFDFDF\", \"gridwidth\": 1.5, \"linecolor\": \"#AFAFAF\", \"linewidth\": 2, \"nticks\": 8, \"range\": [0.5, 0.95], \"showgrid\": true, \"showline\": true, \"tickvals\": [\"\", 0.6, 0.7, 0.8, 0.9], \"title\": {\"text\": \"Accuracy (Loads 3-5)\"}, \"zeroline\": true, \"zerolinecolor\": \"#AFAFAF\", \"zerolinewidth\": 2.5}, \"yaxis\": {\"gridcolor\": \"#DFDFDF\", \"gridwidth\": 1.5, \"linecolor\": \"#AFAFAF\", \"linewidth\": 2, \"nticks\": 8, \"range\": [0.5, 0.75], \"showgrid\": true, \"showline\": true, \"title\": {\"text\": \"Accuracy (Loads 6-8)\"}, \"zeroline\": true, \"zerolinecolor\": \"#AFAFAF\", \"zerolinewidth\": 2.5}},\n",
       "                        {\"responsive\": true}\n",
       "                    ).then(function(){\n",
       "                            \n",
       "var gd = document.getElementById('0231cb47-0ce5-402b-bafe-a81eabea4eb2');\n",
       "var x = new MutationObserver(function (mutations, observer) {{\n",
       "        var display = window.getComputedStyle(gd).display;\n",
       "        if (!display || display === 'none') {{\n",
       "            console.log([gd, 'removed!']);\n",
       "            Plotly.purge(gd);\n",
       "            observer.disconnect();\n",
       "        }}\n",
       "}});\n",
       "\n",
       "// Listen for the removal of the full notebook cells\n",
       "var notebookContainer = gd.closest('#notebook-container');\n",
       "if (notebookContainer) {{\n",
       "    x.observe(notebookContainer, {childList: true});\n",
       "}}\n",
       "\n",
       "// Listen for the clearing of the current output cell\n",
       "var outputEl = gd.closest('.output');\n",
       "if (outputEl) {{\n",
       "    x.observe(outputEl, {childList: true});\n",
       "}}\n",
       "\n",
       "                        })\n",
       "                };\n",
       "                });\n",
       "            </script>\n",
       "        </div>"
      ]
     },
     "metadata": {},
     "output_type": "display_data"
    }
   ],
   "source": [
    "odd_set = [6,7,8]\n",
    "even_set = [3,4,5]\n",
    "sub_id = individual_ranking['subject_Num'].to_numpy()\n",
    "\n",
    "even_load_data = behavior_data.filter_by(even_set,'num_targets')\n",
    "individual_even_load_data = even_load_data.groupby('subject_Num',operations = {'avg_accuracy':agg.MEAN('accuracy')})\n",
    "individual_even_load_data = individual_even_load_data.sort('subject_Num')\n",
    "individual_even_load_data['rank'] = individual_ranking['rank']\n",
    "individual_even_load_data = individual_even_load_data.sort('rank')\n",
    "\n",
    "odd_load_data = behavior_data.filter_by(odd_set,'num_targets')\n",
    "individual_odd_load_data = odd_load_data.groupby('subject_Num',operations = {'avg_accuracy':agg.MEAN('accuracy')})\n",
    "individual_odd_load_data = individual_odd_load_data.sort('subject_Num')\n",
    "individual_odd_load_data['rank'] = individual_ranking['rank']\n",
    "individual_odd_load_data = individual_odd_load_data.sort('rank')\n",
    "\n",
    "hsb = individual_odd_load_data\n",
    "hsb['avg_accuracy_even'] = individual_even_load_data['avg_accuracy']\n",
    "hsb2 = hsb.to_dataframe()\n",
    "\n",
    "mod = ols(\"avg_accuracy ~ avg_accuracy_even\", data=hsb2)\n",
    "res = mod.fit()\n",
    "print(res.rsquared)\n",
    "\n",
    "sec2_trace = go.Scatter(x = individual_even_load_data['avg_accuracy'].to_numpy(),\n",
    "                       y = individual_odd_load_data['avg_accuracy'].to_numpy(),\n",
    "                       mode='markers+text', marker = dict(size = 12, opacity = 0.65, color = 'gray',line = dict(width = 1.5, color='black')),\n",
    "                       text = individual_even_load_data['rank'].to_numpy(),\n",
    "                        textfont = dict(size = 7),\n",
    "                       showlegend=False)\n",
    "\n",
    "sec2_trace_fit = go.Scatter(x = np.linspace(individual_even_load_data['avg_accuracy'].min(),individual_even_load_data['avg_accuracy'].max(),100),\n",
    "                   y = np.linspace(individual_even_load_data['avg_accuracy'].min(),individual_even_load_data['avg_accuracy'].max(),100)*res.params[1] + res.params[0],\n",
    "                    mode='lines', opacity = 0.5,\n",
    "                  line = dict(width = 3.5, color='black', dash = 'longdashdot'),\n",
    "                    name = '$r^{2}_{partial} = 0.753$',\n",
    "                   showlegend=False)\n",
    "\n",
    "\n",
    "layout = go.Layout(title = '',font = dict(size = 12),\n",
    "                  xaxis = dict(title = 'Accuracy (Loads 3-5)'),\n",
    "                  yaxis = dict(title = 'Accuracy (Loads 6-8)'), plot_bgcolor = 'rgba(0,0,0,0)')\n",
    "\n",
    "fig = go.Figure(data = [sec2_trace, sec2_trace_fit], layout = layout)\n",
    "fig['layout']['annotations']= [dict(x=.6525,y=.625,xref='x',yref='y',text='$r^{2} = 0.569^{*}$', showarrow=False, font=dict(\n",
    "                family=\"Times\", color='black'\n",
    "            ))]\n",
    "fig['layout'].update(width = 400, height = 400, font = dict(family = 'Times,Bold', size = 12, color='black'))\n",
    "fig.update_xaxes(showline=True, linewidth = 2, tickvals=['',0.6,0.7,0.8,0.9],linecolor = '#AFAFAF', range = [0.5, 0.95], showgrid=True, gridwidth=1.5, gridcolor='#DFDFDF', zeroline=True, zerolinecolor = '#AFAFAF', zerolinewidth = 2.5, nticks = 8)\n",
    "fig.update_yaxes(showline = True, linewidth = 2, linecolor = '#AFAFAF',range = [0.5, 0.75], showgrid=True, gridwidth=1.5, gridcolor='#DFDFDF', zeroline=True, zerolinecolor = '#AFAFAF', zerolinewidth = 2.5, nticks = 8)\n",
    "fig.show()\n",
    "fig.write_image(\"/Users/supadhy6/Dropbox/Shared with Adi/Results_images/consistent_individual_differences_split_by_target_load.png\")\n",
    "fig.write_image(\"/Users/supadhy6/Dropbox/Shared with Adi/Results_images/consistent_individual_differences_split_by_target_load.svg\")\n",
    "fig.write_image(\"/Users/supadhy6/Dropbox/Shared with Adi/Results_images/consistent_individual_differences_split_by_target_load.pdf\")\n",
    "#py.iplot(fig, filename='split half correlations across target loads')"
   ]
  },
  {
   "cell_type": "code",
   "execution_count": 11,
   "metadata": {},
   "outputs": [
    {
     "data": {
      "text/html": [
       "<table class=\"simpletable\">\n",
       "<caption>OLS Regression Results</caption>\n",
       "<tr>\n",
       "  <th>Dep. Variable:</th>      <td>avg_accuracy</td>   <th>  R-squared:         </th> <td>   0.569</td>\n",
       "</tr>\n",
       "<tr>\n",
       "  <th>Model:</th>                   <td>OLS</td>       <th>  Adj. R-squared:    </th> <td>   0.560</td>\n",
       "</tr>\n",
       "<tr>\n",
       "  <th>Method:</th>             <td>Least Squares</td>  <th>  F-statistic:       </th> <td>   63.41</td>\n",
       "</tr>\n",
       "<tr>\n",
       "  <th>Date:</th>             <td>Thu, 21 May 2020</td> <th>  Prob (F-statistic):</th> <td>2.51e-10</td>\n",
       "</tr>\n",
       "<tr>\n",
       "  <th>Time:</th>                 <td>10:31:15</td>     <th>  Log-Likelihood:    </th> <td>  107.38</td>\n",
       "</tr>\n",
       "<tr>\n",
       "  <th>No. Observations:</th>      <td>    50</td>      <th>  AIC:               </th> <td>  -210.8</td>\n",
       "</tr>\n",
       "<tr>\n",
       "  <th>Df Residuals:</th>          <td>    48</td>      <th>  BIC:               </th> <td>  -206.9</td>\n",
       "</tr>\n",
       "<tr>\n",
       "  <th>Df Model:</th>              <td>     1</td>      <th>                     </th>     <td> </td>   \n",
       "</tr>\n",
       "<tr>\n",
       "  <th>Covariance Type:</th>      <td>nonrobust</td>    <th>                     </th>     <td> </td>   \n",
       "</tr>\n",
       "</table>\n",
       "<table class=\"simpletable\">\n",
       "<tr>\n",
       "          <td></td>             <th>coef</th>     <th>std err</th>      <th>t</th>      <th>P>|t|</th>  <th>[0.025</th>    <th>0.975]</th>  \n",
       "</tr>\n",
       "<tr>\n",
       "  <th>Intercept</th>         <td>    0.1831</td> <td>    0.054</td> <td>    3.387</td> <td> 0.001</td> <td>    0.074</td> <td>    0.292</td>\n",
       "</tr>\n",
       "<tr>\n",
       "  <th>avg_accuracy_even</th> <td>    0.5204</td> <td>    0.065</td> <td>    7.963</td> <td> 0.000</td> <td>    0.389</td> <td>    0.652</td>\n",
       "</tr>\n",
       "</table>\n",
       "<table class=\"simpletable\">\n",
       "<tr>\n",
       "  <th>Omnibus:</th>       <td> 1.863</td> <th>  Durbin-Watson:     </th> <td>   1.305</td>\n",
       "</tr>\n",
       "<tr>\n",
       "  <th>Prob(Omnibus):</th> <td> 0.394</td> <th>  Jarque-Bera (JB):  </th> <td>   1.020</td>\n",
       "</tr>\n",
       "<tr>\n",
       "  <th>Skew:</th>          <td>-0.257</td> <th>  Prob(JB):          </th> <td>   0.600</td>\n",
       "</tr>\n",
       "<tr>\n",
       "  <th>Kurtosis:</th>      <td> 3.475</td> <th>  Cond. No.          </th> <td>    27.0</td>\n",
       "</tr>\n",
       "</table><br/><br/>Warnings:<br/>[1] Standard Errors assume that the covariance matrix of the errors is correctly specified."
      ],
      "text/plain": [
       "<class 'statsmodels.iolib.summary.Summary'>\n",
       "\"\"\"\n",
       "                            OLS Regression Results                            \n",
       "==============================================================================\n",
       "Dep. Variable:           avg_accuracy   R-squared:                       0.569\n",
       "Model:                            OLS   Adj. R-squared:                  0.560\n",
       "Method:                 Least Squares   F-statistic:                     63.41\n",
       "Date:                Thu, 21 May 2020   Prob (F-statistic):           2.51e-10\n",
       "Time:                        10:31:15   Log-Likelihood:                 107.38\n",
       "No. Observations:                  50   AIC:                            -210.8\n",
       "Df Residuals:                      48   BIC:                            -206.9\n",
       "Df Model:                           1                                         \n",
       "Covariance Type:            nonrobust                                         \n",
       "=====================================================================================\n",
       "                        coef    std err          t      P>|t|      [0.025      0.975]\n",
       "-------------------------------------------------------------------------------------\n",
       "Intercept             0.1831      0.054      3.387      0.001       0.074       0.292\n",
       "avg_accuracy_even     0.5204      0.065      7.963      0.000       0.389       0.652\n",
       "==============================================================================\n",
       "Omnibus:                        1.863   Durbin-Watson:                   1.305\n",
       "Prob(Omnibus):                  0.394   Jarque-Bera (JB):                1.020\n",
       "Skew:                          -0.257   Prob(JB):                        0.600\n",
       "Kurtosis:                       3.475   Cond. No.                         27.0\n",
       "==============================================================================\n",
       "\n",
       "Warnings:\n",
       "[1] Standard Errors assume that the covariance matrix of the errors is correctly specified.\n",
       "\"\"\""
      ]
     },
     "execution_count": 11,
     "metadata": {},
     "output_type": "execute_result"
    }
   ],
   "source": [
    "res.summary()"
   ]
  },
  {
   "cell_type": "markdown",
   "metadata": {},
   "source": [
    "## Check for consistencies when compared across speeds for these ranked individuals"
   ]
  },
  {
   "cell_type": "code",
   "execution_count": 12,
   "metadata": {
    "code_folding": [
     23,
     29
    ]
   },
   "outputs": [
    {
     "name": "stdout",
     "output_type": "stream",
     "text": [
      "0.7758722970900835\n"
     ]
    },
    {
     "data": {
      "application/vnd.plotly.v1+json": {
       "config": {
        "plotlyServerURL": "https://plot.ly"
       },
       "data": [
        {
         "marker": {
          "color": "gray",
          "line": {
           "color": "black",
           "width": 1.5
          },
          "opacity": 0.85,
          "size": 12
         },
         "mode": "markers+text",
         "showlegend": false,
         "text": [
          1,
          2,
          3,
          4,
          5,
          6,
          7,
          8,
          9,
          10,
          11,
          12,
          13,
          14,
          15,
          16,
          17,
          18,
          19,
          20,
          21,
          22,
          23,
          24,
          25,
          26,
          27,
          28,
          29,
          30,
          31,
          32,
          33,
          34,
          35,
          36,
          37,
          38,
          39,
          40,
          41,
          42,
          43,
          44,
          45,
          46,
          47,
          48,
          49,
          50
         ],
         "textfont": {
          "size": 7
         },
         "type": "scatter",
         "x": [
          0.8811905000000002,
          0.8744000000000001,
          0.8838690833333335,
          0.8588690833333334,
          0.8657341333333335,
          0.8514682999999998,
          0.8481150999999999,
          0.8314666666666668,
          0.8399801833333335,
          0.8454500000000003,
          0.8315674833333332,
          0.8394666666666667,
          0.8398214333333336,
          0.83725,
          0.8093055666666665,
          0.8167500000000001,
          0.8543849666666665,
          0.8286309833333332,
          0.812381,
          0.8027381000000001,
          0.8030556166666666,
          0.8047024166666668,
          0.8087833333333332,
          0.8008730333333332,
          0.7886309833333334,
          0.7835119500000001,
          0.79763895,
          0.7671627333333335,
          0.7682540166666667,
          0.7752333333333334,
          0.7376587499999998,
          0.7907936833333333,
          0.78371035,
          0.7557341833333332,
          0.7583135166666666,
          0.7751786333333335,
          0.7579166999999999,
          0.7489285999999999,
          0.7286111499999999,
          0.7440873499999997,
          0.7030555833333333,
          0.7144444833333335,
          0.71885,
          0.7134127666666666,
          0.6974405333333333,
          0.7039881333333332,
          0.6692063666666666,
          0.6868999999999997,
          0.6586508166666668,
          0.6725199000000001
         ],
         "y": [
          0.7253571500000001,
          0.7274499999999999,
          0.7137698999999998,
          0.7193055833333334,
          0.6919842,
          0.705892883333333,
          0.7057539666666665,
          0.7047,
          0.6907539833333336,
          0.6812666666666665,
          0.6891667333333336,
          0.6777666666666667,
          0.6764087666666666,
          0.6724000000000001,
          0.6874206499999999,
          0.6786666666666666,
          0.6394444666666671,
          0.6621627499999999,
          0.6664682999999999,
          0.6758532333333332,
          0.6698611833333332,
          0.6671627166666669,
          0.6619666666666668,
          0.6573016166666666,
          0.6590080000000001,
          0.6613293833333336,
          0.6464484833333334,
          0.6747223000000002,
          0.6599404833333333,
          0.6369333333333332,
          0.6738690999999998,
          0.61662705,
          0.6114087666666669,
          0.6365278499999998,
          0.6336508499999999,
          0.6096230666666668,
          0.6180754500000002,
          0.6228174666666665,
          0.62827385,
          0.605813516666667,
          0.6397619333333335,
          0.6257539666666662,
          0.6077666666666666,
          0.5955555833333334,
          0.5989881333333335,
          0.5880159166666665,
          0.5893651333333332,
          0.5622499999999999,
          0.5747023666666665,
          0.5546627666666666
         ]
        },
        {
         "line": {
          "color": "black",
          "dash": "longdashdot",
          "width": 3.5
         },
         "mode": "lines",
         "name": "$r^{2}_{partial} = 0.771$",
         "opacity": 0.5,
         "showlegend": false,
         "type": "scatter",
         "x": [
          0.6586508166666668,
          0.6609257486531988,
          0.6632006806397308,
          0.6654756126262628,
          0.6677505446127947,
          0.6700254765993268,
          0.6723004085858587,
          0.6745753405723907,
          0.6768502725589227,
          0.6791252045454547,
          0.6814001365319867,
          0.6836750685185187,
          0.6859500005050506,
          0.6882249324915827,
          0.6904998644781146,
          0.6927747964646466,
          0.6950497284511786,
          0.6973246604377106,
          0.6995995924242425,
          0.7018745244107746,
          0.7041494563973065,
          0.7064243883838385,
          0.7086993203703705,
          0.7109742523569025,
          0.7132491843434345,
          0.7155241163299665,
          0.7177990483164984,
          0.7200739803030305,
          0.7223489122895624,
          0.7246238442760944,
          0.7268987762626264,
          0.7291737082491584,
          0.7314486402356903,
          0.7337235722222224,
          0.7359985042087543,
          0.7382734361952863,
          0.7405483681818184,
          0.7428233001683503,
          0.7450982321548822,
          0.7473731641414143,
          0.7496480961279463,
          0.7519230281144783,
          0.7541979601010103,
          0.7564728920875422,
          0.7587478240740743,
          0.7610227560606062,
          0.7632976880471382,
          0.7655726200336702,
          0.7678475520202022,
          0.7701224840067341,
          0.7723974159932662,
          0.7746723479797981,
          0.7769472799663302,
          0.7792222119528621,
          0.7814971439393941,
          0.7837720759259261,
          0.7860470079124581,
          0.78832193989899,
          0.7905968718855221,
          0.792871803872054,
          0.795146735858586,
          0.797421667845118,
          0.79969659983165,
          0.8019715318181819,
          0.804246463804714,
          0.8065213957912459,
          0.8087963277777779,
          0.8110712597643099,
          0.8133461917508419,
          0.8156211237373738,
          0.8178960557239059,
          0.8201709877104378,
          0.8224459196969698,
          0.8247208516835018,
          0.8269957836700338,
          0.8292707156565658,
          0.8315456476430978,
          0.8338205796296297,
          0.8360955116161618,
          0.8383704436026937,
          0.8406453755892258,
          0.8429203075757578,
          0.8451952395622897,
          0.8474701715488218,
          0.8497451035353537,
          0.8520200355218857,
          0.8542949675084177,
          0.8565698994949497,
          0.8588448314814816,
          0.8611197634680137,
          0.8633946954545456,
          0.8656696274410776,
          0.8679445594276096,
          0.8702194914141416,
          0.8724944234006735,
          0.8747693553872056,
          0.8770442873737375,
          0.8793192193602695,
          0.8815941513468015,
          0.8838690833333335
         ],
         "y": [
          0.5717585911657002,
          0.573191652022615,
          0.5746247128795299,
          0.5760577737364447,
          0.5774908345933596,
          0.5789238954502745,
          0.5803569563071893,
          0.5817900171641042,
          0.583223078021019,
          0.5846561388779339,
          0.5860891997348487,
          0.5875222605917636,
          0.5889553214486785,
          0.5903883823055933,
          0.5918214431625082,
          0.593254504019423,
          0.5946875648763379,
          0.5961206257332528,
          0.5975536865901676,
          0.5989867474470825,
          0.6004198083039973,
          0.6018528691609122,
          0.603285930017827,
          0.6047189908747419,
          0.6061520517316568,
          0.6075851125885716,
          0.6090181734454865,
          0.6104512343024013,
          0.6118842951593162,
          0.613317356016231,
          0.6147504168731459,
          0.6161834777300608,
          0.6176165385869756,
          0.6190495994438905,
          0.6204826603008053,
          0.6219157211577202,
          0.6233487820146351,
          0.6247818428715499,
          0.6262149037284648,
          0.6276479645853796,
          0.6290810254422945,
          0.6305140862992094,
          0.6319471471561242,
          0.6333802080130391,
          0.6348132688699539,
          0.6362463297268688,
          0.6376793905837836,
          0.6391124514406985,
          0.6405455122976134,
          0.6419785731545282,
          0.6434116340114431,
          0.6448446948683579,
          0.6462777557252728,
          0.6477108165821877,
          0.6491438774391025,
          0.6505769382960174,
          0.6520099991529322,
          0.6534430600098471,
          0.654876120866762,
          0.6563091817236768,
          0.6577422425805917,
          0.6591753034375065,
          0.6606083642944214,
          0.6620414251513362,
          0.6634744860082511,
          0.664907546865166,
          0.6663406077220808,
          0.6677736685789957,
          0.6692067294359105,
          0.6706397902928254,
          0.6720728511497402,
          0.6735059120066551,
          0.67493897286357,
          0.6763720337204848,
          0.6778050945773997,
          0.6792381554343145,
          0.6806712162912294,
          0.6821042771481443,
          0.6835373380050591,
          0.684970398861974,
          0.6864034597188888,
          0.6878365205758037,
          0.6892695814327185,
          0.6907026422896334,
          0.6921357031465483,
          0.6935687640034631,
          0.695001824860378,
          0.6964348857172928,
          0.6978679465742077,
          0.6993010074311226,
          0.7007340682880374,
          0.7021671291449523,
          0.7036001900018671,
          0.705033250858782,
          0.7064663117156968,
          0.7078993725726117,
          0.7093324334295266,
          0.7107654942864414,
          0.7121985551433563,
          0.7136316160002711
         ]
        }
       ],
       "layout": {
        "annotations": [
         {
          "font": {
           "color": "black",
           "family": "Times"
          },
          "showarrow": false,
          "text": "$r^{2} = 0.775^{*}$",
          "x": 0.655,
          "xref": "x",
          "y": 0.69,
          "yref": "y"
         }
        ],
        "font": {
         "color": "black",
         "family": "Times, Bold",
         "size": 12
        },
        "height": 400,
        "plot_bgcolor": "rgba(0,0,0,0)",
        "template": {
         "data": {
          "bar": [
           {
            "error_x": {
             "color": "#2a3f5f"
            },
            "error_y": {
             "color": "#2a3f5f"
            },
            "marker": {
             "line": {
              "color": "#E5ECF6",
              "width": 0.5
             }
            },
            "type": "bar"
           }
          ],
          "barpolar": [
           {
            "marker": {
             "line": {
              "color": "#E5ECF6",
              "width": 0.5
             }
            },
            "type": "barpolar"
           }
          ],
          "carpet": [
           {
            "aaxis": {
             "endlinecolor": "#2a3f5f",
             "gridcolor": "white",
             "linecolor": "white",
             "minorgridcolor": "white",
             "startlinecolor": "#2a3f5f"
            },
            "baxis": {
             "endlinecolor": "#2a3f5f",
             "gridcolor": "white",
             "linecolor": "white",
             "minorgridcolor": "white",
             "startlinecolor": "#2a3f5f"
            },
            "type": "carpet"
           }
          ],
          "choropleth": [
           {
            "colorbar": {
             "outlinewidth": 0,
             "ticks": ""
            },
            "type": "choropleth"
           }
          ],
          "contour": [
           {
            "colorbar": {
             "outlinewidth": 0,
             "ticks": ""
            },
            "colorscale": [
             [
              0,
              "#0d0887"
             ],
             [
              0.1111111111111111,
              "#46039f"
             ],
             [
              0.2222222222222222,
              "#7201a8"
             ],
             [
              0.3333333333333333,
              "#9c179e"
             ],
             [
              0.4444444444444444,
              "#bd3786"
             ],
             [
              0.5555555555555556,
              "#d8576b"
             ],
             [
              0.6666666666666666,
              "#ed7953"
             ],
             [
              0.7777777777777778,
              "#fb9f3a"
             ],
             [
              0.8888888888888888,
              "#fdca26"
             ],
             [
              1,
              "#f0f921"
             ]
            ],
            "type": "contour"
           }
          ],
          "contourcarpet": [
           {
            "colorbar": {
             "outlinewidth": 0,
             "ticks": ""
            },
            "type": "contourcarpet"
           }
          ],
          "heatmap": [
           {
            "colorbar": {
             "outlinewidth": 0,
             "ticks": ""
            },
            "colorscale": [
             [
              0,
              "#0d0887"
             ],
             [
              0.1111111111111111,
              "#46039f"
             ],
             [
              0.2222222222222222,
              "#7201a8"
             ],
             [
              0.3333333333333333,
              "#9c179e"
             ],
             [
              0.4444444444444444,
              "#bd3786"
             ],
             [
              0.5555555555555556,
              "#d8576b"
             ],
             [
              0.6666666666666666,
              "#ed7953"
             ],
             [
              0.7777777777777778,
              "#fb9f3a"
             ],
             [
              0.8888888888888888,
              "#fdca26"
             ],
             [
              1,
              "#f0f921"
             ]
            ],
            "type": "heatmap"
           }
          ],
          "heatmapgl": [
           {
            "colorbar": {
             "outlinewidth": 0,
             "ticks": ""
            },
            "colorscale": [
             [
              0,
              "#0d0887"
             ],
             [
              0.1111111111111111,
              "#46039f"
             ],
             [
              0.2222222222222222,
              "#7201a8"
             ],
             [
              0.3333333333333333,
              "#9c179e"
             ],
             [
              0.4444444444444444,
              "#bd3786"
             ],
             [
              0.5555555555555556,
              "#d8576b"
             ],
             [
              0.6666666666666666,
              "#ed7953"
             ],
             [
              0.7777777777777778,
              "#fb9f3a"
             ],
             [
              0.8888888888888888,
              "#fdca26"
             ],
             [
              1,
              "#f0f921"
             ]
            ],
            "type": "heatmapgl"
           }
          ],
          "histogram": [
           {
            "marker": {
             "colorbar": {
              "outlinewidth": 0,
              "ticks": ""
             }
            },
            "type": "histogram"
           }
          ],
          "histogram2d": [
           {
            "colorbar": {
             "outlinewidth": 0,
             "ticks": ""
            },
            "colorscale": [
             [
              0,
              "#0d0887"
             ],
             [
              0.1111111111111111,
              "#46039f"
             ],
             [
              0.2222222222222222,
              "#7201a8"
             ],
             [
              0.3333333333333333,
              "#9c179e"
             ],
             [
              0.4444444444444444,
              "#bd3786"
             ],
             [
              0.5555555555555556,
              "#d8576b"
             ],
             [
              0.6666666666666666,
              "#ed7953"
             ],
             [
              0.7777777777777778,
              "#fb9f3a"
             ],
             [
              0.8888888888888888,
              "#fdca26"
             ],
             [
              1,
              "#f0f921"
             ]
            ],
            "type": "histogram2d"
           }
          ],
          "histogram2dcontour": [
           {
            "colorbar": {
             "outlinewidth": 0,
             "ticks": ""
            },
            "colorscale": [
             [
              0,
              "#0d0887"
             ],
             [
              0.1111111111111111,
              "#46039f"
             ],
             [
              0.2222222222222222,
              "#7201a8"
             ],
             [
              0.3333333333333333,
              "#9c179e"
             ],
             [
              0.4444444444444444,
              "#bd3786"
             ],
             [
              0.5555555555555556,
              "#d8576b"
             ],
             [
              0.6666666666666666,
              "#ed7953"
             ],
             [
              0.7777777777777778,
              "#fb9f3a"
             ],
             [
              0.8888888888888888,
              "#fdca26"
             ],
             [
              1,
              "#f0f921"
             ]
            ],
            "type": "histogram2dcontour"
           }
          ],
          "mesh3d": [
           {
            "colorbar": {
             "outlinewidth": 0,
             "ticks": ""
            },
            "type": "mesh3d"
           }
          ],
          "parcoords": [
           {
            "line": {
             "colorbar": {
              "outlinewidth": 0,
              "ticks": ""
             }
            },
            "type": "parcoords"
           }
          ],
          "scatter": [
           {
            "marker": {
             "colorbar": {
              "outlinewidth": 0,
              "ticks": ""
             }
            },
            "type": "scatter"
           }
          ],
          "scatter3d": [
           {
            "line": {
             "colorbar": {
              "outlinewidth": 0,
              "ticks": ""
             }
            },
            "marker": {
             "colorbar": {
              "outlinewidth": 0,
              "ticks": ""
             }
            },
            "type": "scatter3d"
           }
          ],
          "scattercarpet": [
           {
            "marker": {
             "colorbar": {
              "outlinewidth": 0,
              "ticks": ""
             }
            },
            "type": "scattercarpet"
           }
          ],
          "scattergeo": [
           {
            "marker": {
             "colorbar": {
              "outlinewidth": 0,
              "ticks": ""
             }
            },
            "type": "scattergeo"
           }
          ],
          "scattergl": [
           {
            "marker": {
             "colorbar": {
              "outlinewidth": 0,
              "ticks": ""
             }
            },
            "type": "scattergl"
           }
          ],
          "scattermapbox": [
           {
            "marker": {
             "colorbar": {
              "outlinewidth": 0,
              "ticks": ""
             }
            },
            "type": "scattermapbox"
           }
          ],
          "scatterpolar": [
           {
            "marker": {
             "colorbar": {
              "outlinewidth": 0,
              "ticks": ""
             }
            },
            "type": "scatterpolar"
           }
          ],
          "scatterpolargl": [
           {
            "marker": {
             "colorbar": {
              "outlinewidth": 0,
              "ticks": ""
             }
            },
            "type": "scatterpolargl"
           }
          ],
          "scatterternary": [
           {
            "marker": {
             "colorbar": {
              "outlinewidth": 0,
              "ticks": ""
             }
            },
            "type": "scatterternary"
           }
          ],
          "surface": [
           {
            "colorbar": {
             "outlinewidth": 0,
             "ticks": ""
            },
            "colorscale": [
             [
              0,
              "#0d0887"
             ],
             [
              0.1111111111111111,
              "#46039f"
             ],
             [
              0.2222222222222222,
              "#7201a8"
             ],
             [
              0.3333333333333333,
              "#9c179e"
             ],
             [
              0.4444444444444444,
              "#bd3786"
             ],
             [
              0.5555555555555556,
              "#d8576b"
             ],
             [
              0.6666666666666666,
              "#ed7953"
             ],
             [
              0.7777777777777778,
              "#fb9f3a"
             ],
             [
              0.8888888888888888,
              "#fdca26"
             ],
             [
              1,
              "#f0f921"
             ]
            ],
            "type": "surface"
           }
          ],
          "table": [
           {
            "cells": {
             "fill": {
              "color": "#EBF0F8"
             },
             "line": {
              "color": "white"
             }
            },
            "header": {
             "fill": {
              "color": "#C8D4E3"
             },
             "line": {
              "color": "white"
             }
            },
            "type": "table"
           }
          ]
         },
         "layout": {
          "annotationdefaults": {
           "arrowcolor": "#2a3f5f",
           "arrowhead": 0,
           "arrowwidth": 1
          },
          "colorscale": {
           "diverging": [
            [
             0,
             "#8e0152"
            ],
            [
             0.1,
             "#c51b7d"
            ],
            [
             0.2,
             "#de77ae"
            ],
            [
             0.3,
             "#f1b6da"
            ],
            [
             0.4,
             "#fde0ef"
            ],
            [
             0.5,
             "#f7f7f7"
            ],
            [
             0.6,
             "#e6f5d0"
            ],
            [
             0.7,
             "#b8e186"
            ],
            [
             0.8,
             "#7fbc41"
            ],
            [
             0.9,
             "#4d9221"
            ],
            [
             1,
             "#276419"
            ]
           ],
           "sequential": [
            [
             0,
             "#0d0887"
            ],
            [
             0.1111111111111111,
             "#46039f"
            ],
            [
             0.2222222222222222,
             "#7201a8"
            ],
            [
             0.3333333333333333,
             "#9c179e"
            ],
            [
             0.4444444444444444,
             "#bd3786"
            ],
            [
             0.5555555555555556,
             "#d8576b"
            ],
            [
             0.6666666666666666,
             "#ed7953"
            ],
            [
             0.7777777777777778,
             "#fb9f3a"
            ],
            [
             0.8888888888888888,
             "#fdca26"
            ],
            [
             1,
             "#f0f921"
            ]
           ],
           "sequentialminus": [
            [
             0,
             "#0d0887"
            ],
            [
             0.1111111111111111,
             "#46039f"
            ],
            [
             0.2222222222222222,
             "#7201a8"
            ],
            [
             0.3333333333333333,
             "#9c179e"
            ],
            [
             0.4444444444444444,
             "#bd3786"
            ],
            [
             0.5555555555555556,
             "#d8576b"
            ],
            [
             0.6666666666666666,
             "#ed7953"
            ],
            [
             0.7777777777777778,
             "#fb9f3a"
            ],
            [
             0.8888888888888888,
             "#fdca26"
            ],
            [
             1,
             "#f0f921"
            ]
           ]
          },
          "colorway": [
           "#636efa",
           "#EF553B",
           "#00cc96",
           "#ab63fa",
           "#FFA15A",
           "#19d3f3",
           "#FF6692",
           "#B6E880",
           "#FF97FF",
           "#FECB52"
          ],
          "font": {
           "color": "#2a3f5f"
          },
          "geo": {
           "bgcolor": "white",
           "lakecolor": "white",
           "landcolor": "#E5ECF6",
           "showlakes": true,
           "showland": true,
           "subunitcolor": "white"
          },
          "hoverlabel": {
           "align": "left"
          },
          "hovermode": "closest",
          "mapbox": {
           "style": "light"
          },
          "paper_bgcolor": "white",
          "plot_bgcolor": "#E5ECF6",
          "polar": {
           "angularaxis": {
            "gridcolor": "white",
            "linecolor": "white",
            "ticks": ""
           },
           "bgcolor": "#E5ECF6",
           "radialaxis": {
            "gridcolor": "white",
            "linecolor": "white",
            "ticks": ""
           }
          },
          "scene": {
           "xaxis": {
            "backgroundcolor": "#E5ECF6",
            "gridcolor": "white",
            "gridwidth": 2,
            "linecolor": "white",
            "showbackground": true,
            "ticks": "",
            "zerolinecolor": "white"
           },
           "yaxis": {
            "backgroundcolor": "#E5ECF6",
            "gridcolor": "white",
            "gridwidth": 2,
            "linecolor": "white",
            "showbackground": true,
            "ticks": "",
            "zerolinecolor": "white"
           },
           "zaxis": {
            "backgroundcolor": "#E5ECF6",
            "gridcolor": "white",
            "gridwidth": 2,
            "linecolor": "white",
            "showbackground": true,
            "ticks": "",
            "zerolinecolor": "white"
           }
          },
          "shapedefaults": {
           "line": {
            "color": "#2a3f5f"
           }
          },
          "ternary": {
           "aaxis": {
            "gridcolor": "white",
            "linecolor": "white",
            "ticks": ""
           },
           "baxis": {
            "gridcolor": "white",
            "linecolor": "white",
            "ticks": ""
           },
           "bgcolor": "#E5ECF6",
           "caxis": {
            "gridcolor": "white",
            "linecolor": "white",
            "ticks": ""
           }
          },
          "title": {
           "x": 0.05
          },
          "xaxis": {
           "automargin": true,
           "gridcolor": "white",
           "linecolor": "white",
           "ticks": "",
           "zerolinecolor": "white",
           "zerolinewidth": 2
          },
          "yaxis": {
           "automargin": true,
           "gridcolor": "white",
           "linecolor": "white",
           "ticks": "",
           "zerolinecolor": "white",
           "zerolinewidth": 2
          }
         }
        },
        "title": {
         "text": ""
        },
        "width": 400,
        "xaxis": {
         "gridcolor": "#DFDFDF",
         "gridwidth": 1.5,
         "linecolor": "#AFAFAF",
         "linewidth": 2,
         "nticks": 6,
         "range": [
          0.5,
          0.95
         ],
         "showgrid": true,
         "showline": true,
         "tickvals": [
          "",
          0.6,
          0.7,
          0.8,
          0.9
         ],
         "title": {
          "text": "Accuracy (Low speed)"
         },
         "zeroline": true,
         "zerolinecolor": "#AFAFAF",
         "zerolinewidth": 2.5
        },
        "yaxis": {
         "gridcolor": "#DFDFDF",
         "gridwidth": 1.5,
         "linecolor": "#AFAFAF",
         "linewidth": 2,
         "nticks": 6,
         "range": [
          0.5,
          0.75
         ],
         "showgrid": true,
         "showline": true,
         "title": {
          "text": "Accuracy (High speed)"
         },
         "zeroline": true,
         "zerolinecolor": "#AFAFAF",
         "zerolinewidth": 2.5
        }
       }
      },
      "text/html": [
       "<div>\n",
       "        \n",
       "        \n",
       "            <div id=\"e30b41a8-bad9-446c-829b-9265864f9293\" class=\"plotly-graph-div\" style=\"height:400px; width:400px;\"></div>\n",
       "            <script type=\"text/javascript\">\n",
       "                require([\"plotly\"], function(Plotly) {\n",
       "                    window.PLOTLYENV=window.PLOTLYENV || {};\n",
       "                    \n",
       "                if (document.getElementById(\"e30b41a8-bad9-446c-829b-9265864f9293\")) {\n",
       "                    Plotly.newPlot(\n",
       "                        'e30b41a8-bad9-446c-829b-9265864f9293',\n",
       "                        [{\"marker\": {\"color\": \"gray\", \"line\": {\"color\": \"black\", \"width\": 1.5}, \"opacity\": 0.85, \"size\": 12}, \"mode\": \"markers+text\", \"showlegend\": false, \"text\": [1.0, 2.0, 3.0, 4.0, 5.0, 6.0, 7.0, 8.0, 9.0, 10.0, 11.0, 12.0, 13.0, 14.0, 15.0, 16.0, 17.0, 18.0, 19.0, 20.0, 21.0, 22.0, 23.0, 24.0, 25.0, 26.0, 27.0, 28.0, 29.0, 30.0, 31.0, 32.0, 33.0, 34.0, 35.0, 36.0, 37.0, 38.0, 39.0, 40.0, 41.0, 42.0, 43.0, 44.0, 45.0, 46.0, 47.0, 48.0, 49.0, 50.0], \"textfont\": {\"size\": 7}, \"type\": \"scatter\", \"x\": [0.8811905000000002, 0.8744000000000001, 0.8838690833333335, 0.8588690833333334, 0.8657341333333335, 0.8514682999999998, 0.8481150999999999, 0.8314666666666668, 0.8399801833333335, 0.8454500000000003, 0.8315674833333332, 0.8394666666666667, 0.8398214333333336, 0.83725, 0.8093055666666665, 0.8167500000000001, 0.8543849666666665, 0.8286309833333332, 0.812381, 0.8027381000000001, 0.8030556166666666, 0.8047024166666668, 0.8087833333333332, 0.8008730333333332, 0.7886309833333334, 0.7835119500000001, 0.79763895, 0.7671627333333335, 0.7682540166666667, 0.7752333333333334, 0.7376587499999998, 0.7907936833333333, 0.78371035, 0.7557341833333332, 0.7583135166666666, 0.7751786333333335, 0.7579166999999999, 0.7489285999999999, 0.7286111499999999, 0.7440873499999997, 0.7030555833333333, 0.7144444833333335, 0.71885, 0.7134127666666666, 0.6974405333333333, 0.7039881333333332, 0.6692063666666666, 0.6868999999999997, 0.6586508166666668, 0.6725199000000001], \"y\": [0.7253571500000001, 0.7274499999999999, 0.7137698999999998, 0.7193055833333334, 0.6919842, 0.705892883333333, 0.7057539666666665, 0.7047, 0.6907539833333336, 0.6812666666666665, 0.6891667333333336, 0.6777666666666667, 0.6764087666666666, 0.6724000000000001, 0.6874206499999999, 0.6786666666666666, 0.6394444666666671, 0.6621627499999999, 0.6664682999999999, 0.6758532333333332, 0.6698611833333332, 0.6671627166666669, 0.6619666666666668, 0.6573016166666666, 0.6590080000000001, 0.6613293833333336, 0.6464484833333334, 0.6747223000000002, 0.6599404833333333, 0.6369333333333332, 0.6738690999999998, 0.61662705, 0.6114087666666669, 0.6365278499999998, 0.6336508499999999, 0.6096230666666668, 0.6180754500000002, 0.6228174666666665, 0.62827385, 0.605813516666667, 0.6397619333333335, 0.6257539666666662, 0.6077666666666666, 0.5955555833333334, 0.5989881333333335, 0.5880159166666665, 0.5893651333333332, 0.5622499999999999, 0.5747023666666665, 0.5546627666666666]}, {\"line\": {\"color\": \"black\", \"dash\": \"longdashdot\", \"width\": 3.5}, \"mode\": \"lines\", \"name\": \"$r^{2}_{partial} = 0.771$\", \"opacity\": 0.5, \"showlegend\": false, \"type\": \"scatter\", \"x\": [0.6586508166666668, 0.6609257486531988, 0.6632006806397308, 0.6654756126262628, 0.6677505446127947, 0.6700254765993268, 0.6723004085858587, 0.6745753405723907, 0.6768502725589227, 0.6791252045454547, 0.6814001365319867, 0.6836750685185187, 0.6859500005050506, 0.6882249324915827, 0.6904998644781146, 0.6927747964646466, 0.6950497284511786, 0.6973246604377106, 0.6995995924242425, 0.7018745244107746, 0.7041494563973065, 0.7064243883838385, 0.7086993203703705, 0.7109742523569025, 0.7132491843434345, 0.7155241163299665, 0.7177990483164984, 0.7200739803030305, 0.7223489122895624, 0.7246238442760944, 0.7268987762626264, 0.7291737082491584, 0.7314486402356903, 0.7337235722222224, 0.7359985042087543, 0.7382734361952863, 0.7405483681818184, 0.7428233001683503, 0.7450982321548822, 0.7473731641414143, 0.7496480961279463, 0.7519230281144783, 0.7541979601010103, 0.7564728920875422, 0.7587478240740743, 0.7610227560606062, 0.7632976880471382, 0.7655726200336702, 0.7678475520202022, 0.7701224840067341, 0.7723974159932662, 0.7746723479797981, 0.7769472799663302, 0.7792222119528621, 0.7814971439393941, 0.7837720759259261, 0.7860470079124581, 0.78832193989899, 0.7905968718855221, 0.792871803872054, 0.795146735858586, 0.797421667845118, 0.79969659983165, 0.8019715318181819, 0.804246463804714, 0.8065213957912459, 0.8087963277777779, 0.8110712597643099, 0.8133461917508419, 0.8156211237373738, 0.8178960557239059, 0.8201709877104378, 0.8224459196969698, 0.8247208516835018, 0.8269957836700338, 0.8292707156565658, 0.8315456476430978, 0.8338205796296297, 0.8360955116161618, 0.8383704436026937, 0.8406453755892258, 0.8429203075757578, 0.8451952395622897, 0.8474701715488218, 0.8497451035353537, 0.8520200355218857, 0.8542949675084177, 0.8565698994949497, 0.8588448314814816, 0.8611197634680137, 0.8633946954545456, 0.8656696274410776, 0.8679445594276096, 0.8702194914141416, 0.8724944234006735, 0.8747693553872056, 0.8770442873737375, 0.8793192193602695, 0.8815941513468015, 0.8838690833333335], \"y\": [0.5717585911657002, 0.573191652022615, 0.5746247128795299, 0.5760577737364447, 0.5774908345933596, 0.5789238954502745, 0.5803569563071893, 0.5817900171641042, 0.583223078021019, 0.5846561388779339, 0.5860891997348487, 0.5875222605917636, 0.5889553214486785, 0.5903883823055933, 0.5918214431625082, 0.593254504019423, 0.5946875648763379, 0.5961206257332528, 0.5975536865901676, 0.5989867474470825, 0.6004198083039973, 0.6018528691609122, 0.603285930017827, 0.6047189908747419, 0.6061520517316568, 0.6075851125885716, 0.6090181734454865, 0.6104512343024013, 0.6118842951593162, 0.613317356016231, 0.6147504168731459, 0.6161834777300608, 0.6176165385869756, 0.6190495994438905, 0.6204826603008053, 0.6219157211577202, 0.6233487820146351, 0.6247818428715499, 0.6262149037284648, 0.6276479645853796, 0.6290810254422945, 0.6305140862992094, 0.6319471471561242, 0.6333802080130391, 0.6348132688699539, 0.6362463297268688, 0.6376793905837836, 0.6391124514406985, 0.6405455122976134, 0.6419785731545282, 0.6434116340114431, 0.6448446948683579, 0.6462777557252728, 0.6477108165821877, 0.6491438774391025, 0.6505769382960174, 0.6520099991529322, 0.6534430600098471, 0.654876120866762, 0.6563091817236768, 0.6577422425805917, 0.6591753034375065, 0.6606083642944214, 0.6620414251513362, 0.6634744860082511, 0.664907546865166, 0.6663406077220808, 0.6677736685789957, 0.6692067294359105, 0.6706397902928254, 0.6720728511497402, 0.6735059120066551, 0.67493897286357, 0.6763720337204848, 0.6778050945773997, 0.6792381554343145, 0.6806712162912294, 0.6821042771481443, 0.6835373380050591, 0.684970398861974, 0.6864034597188888, 0.6878365205758037, 0.6892695814327185, 0.6907026422896334, 0.6921357031465483, 0.6935687640034631, 0.695001824860378, 0.6964348857172928, 0.6978679465742077, 0.6993010074311226, 0.7007340682880374, 0.7021671291449523, 0.7036001900018671, 0.705033250858782, 0.7064663117156968, 0.7078993725726117, 0.7093324334295266, 0.7107654942864414, 0.7121985551433563, 0.7136316160002711]}],\n",
       "                        {\"annotations\": [{\"font\": {\"color\": \"black\", \"family\": \"Times\"}, \"showarrow\": false, \"text\": \"$r^{2} = 0.775^{*}$\", \"x\": 0.655, \"xref\": \"x\", \"y\": 0.69, \"yref\": \"y\"}], \"font\": {\"color\": \"black\", \"family\": \"Times, Bold\", \"size\": 12}, \"height\": 400, \"plot_bgcolor\": \"rgba(0,0,0,0)\", \"template\": {\"data\": {\"bar\": [{\"error_x\": {\"color\": \"#2a3f5f\"}, \"error_y\": {\"color\": \"#2a3f5f\"}, \"marker\": {\"line\": {\"color\": \"#E5ECF6\", \"width\": 0.5}}, \"type\": \"bar\"}], \"barpolar\": [{\"marker\": {\"line\": {\"color\": \"#E5ECF6\", \"width\": 0.5}}, \"type\": \"barpolar\"}], \"carpet\": [{\"aaxis\": {\"endlinecolor\": \"#2a3f5f\", \"gridcolor\": \"white\", \"linecolor\": \"white\", \"minorgridcolor\": \"white\", \"startlinecolor\": \"#2a3f5f\"}, \"baxis\": {\"endlinecolor\": \"#2a3f5f\", \"gridcolor\": \"white\", \"linecolor\": \"white\", \"minorgridcolor\": \"white\", \"startlinecolor\": \"#2a3f5f\"}, \"type\": \"carpet\"}], \"choropleth\": [{\"colorbar\": {\"outlinewidth\": 0, \"ticks\": \"\"}, \"type\": \"choropleth\"}], \"contour\": [{\"colorbar\": {\"outlinewidth\": 0, \"ticks\": \"\"}, \"colorscale\": [[0.0, \"#0d0887\"], [0.1111111111111111, \"#46039f\"], [0.2222222222222222, \"#7201a8\"], [0.3333333333333333, \"#9c179e\"], [0.4444444444444444, \"#bd3786\"], [0.5555555555555556, \"#d8576b\"], [0.6666666666666666, \"#ed7953\"], [0.7777777777777778, \"#fb9f3a\"], [0.8888888888888888, \"#fdca26\"], [1.0, \"#f0f921\"]], \"type\": \"contour\"}], \"contourcarpet\": [{\"colorbar\": {\"outlinewidth\": 0, \"ticks\": \"\"}, \"type\": \"contourcarpet\"}], \"heatmap\": [{\"colorbar\": {\"outlinewidth\": 0, \"ticks\": \"\"}, \"colorscale\": [[0.0, \"#0d0887\"], [0.1111111111111111, \"#46039f\"], [0.2222222222222222, \"#7201a8\"], [0.3333333333333333, \"#9c179e\"], [0.4444444444444444, \"#bd3786\"], [0.5555555555555556, \"#d8576b\"], [0.6666666666666666, \"#ed7953\"], [0.7777777777777778, \"#fb9f3a\"], [0.8888888888888888, \"#fdca26\"], [1.0, \"#f0f921\"]], \"type\": \"heatmap\"}], \"heatmapgl\": [{\"colorbar\": {\"outlinewidth\": 0, \"ticks\": \"\"}, \"colorscale\": [[0.0, \"#0d0887\"], [0.1111111111111111, \"#46039f\"], [0.2222222222222222, \"#7201a8\"], [0.3333333333333333, \"#9c179e\"], [0.4444444444444444, \"#bd3786\"], [0.5555555555555556, \"#d8576b\"], [0.6666666666666666, \"#ed7953\"], [0.7777777777777778, \"#fb9f3a\"], [0.8888888888888888, \"#fdca26\"], [1.0, \"#f0f921\"]], \"type\": \"heatmapgl\"}], \"histogram\": [{\"marker\": {\"colorbar\": {\"outlinewidth\": 0, \"ticks\": \"\"}}, \"type\": \"histogram\"}], \"histogram2d\": [{\"colorbar\": {\"outlinewidth\": 0, \"ticks\": \"\"}, \"colorscale\": [[0.0, \"#0d0887\"], [0.1111111111111111, \"#46039f\"], [0.2222222222222222, \"#7201a8\"], [0.3333333333333333, \"#9c179e\"], [0.4444444444444444, \"#bd3786\"], [0.5555555555555556, \"#d8576b\"], [0.6666666666666666, \"#ed7953\"], [0.7777777777777778, \"#fb9f3a\"], [0.8888888888888888, \"#fdca26\"], [1.0, \"#f0f921\"]], \"type\": \"histogram2d\"}], \"histogram2dcontour\": [{\"colorbar\": {\"outlinewidth\": 0, \"ticks\": \"\"}, \"colorscale\": [[0.0, \"#0d0887\"], [0.1111111111111111, \"#46039f\"], [0.2222222222222222, \"#7201a8\"], [0.3333333333333333, \"#9c179e\"], [0.4444444444444444, \"#bd3786\"], [0.5555555555555556, \"#d8576b\"], [0.6666666666666666, \"#ed7953\"], [0.7777777777777778, \"#fb9f3a\"], [0.8888888888888888, \"#fdca26\"], [1.0, \"#f0f921\"]], \"type\": \"histogram2dcontour\"}], \"mesh3d\": [{\"colorbar\": {\"outlinewidth\": 0, \"ticks\": \"\"}, \"type\": \"mesh3d\"}], \"parcoords\": [{\"line\": {\"colorbar\": {\"outlinewidth\": 0, \"ticks\": \"\"}}, \"type\": \"parcoords\"}], \"scatter\": [{\"marker\": {\"colorbar\": {\"outlinewidth\": 0, \"ticks\": \"\"}}, \"type\": \"scatter\"}], \"scatter3d\": [{\"line\": {\"colorbar\": {\"outlinewidth\": 0, \"ticks\": \"\"}}, \"marker\": {\"colorbar\": {\"outlinewidth\": 0, \"ticks\": \"\"}}, \"type\": \"scatter3d\"}], \"scattercarpet\": [{\"marker\": {\"colorbar\": {\"outlinewidth\": 0, \"ticks\": \"\"}}, \"type\": \"scattercarpet\"}], \"scattergeo\": [{\"marker\": {\"colorbar\": {\"outlinewidth\": 0, \"ticks\": \"\"}}, \"type\": \"scattergeo\"}], \"scattergl\": [{\"marker\": {\"colorbar\": {\"outlinewidth\": 0, \"ticks\": \"\"}}, \"type\": \"scattergl\"}], \"scattermapbox\": [{\"marker\": {\"colorbar\": {\"outlinewidth\": 0, \"ticks\": \"\"}}, \"type\": \"scattermapbox\"}], \"scatterpolar\": [{\"marker\": {\"colorbar\": {\"outlinewidth\": 0, \"ticks\": \"\"}}, \"type\": \"scatterpolar\"}], \"scatterpolargl\": [{\"marker\": {\"colorbar\": {\"outlinewidth\": 0, \"ticks\": \"\"}}, \"type\": \"scatterpolargl\"}], \"scatterternary\": [{\"marker\": {\"colorbar\": {\"outlinewidth\": 0, \"ticks\": \"\"}}, \"type\": \"scatterternary\"}], \"surface\": [{\"colorbar\": {\"outlinewidth\": 0, \"ticks\": \"\"}, \"colorscale\": [[0.0, \"#0d0887\"], [0.1111111111111111, \"#46039f\"], [0.2222222222222222, \"#7201a8\"], [0.3333333333333333, \"#9c179e\"], [0.4444444444444444, \"#bd3786\"], [0.5555555555555556, \"#d8576b\"], [0.6666666666666666, \"#ed7953\"], [0.7777777777777778, \"#fb9f3a\"], [0.8888888888888888, \"#fdca26\"], [1.0, \"#f0f921\"]], \"type\": \"surface\"}], \"table\": [{\"cells\": {\"fill\": {\"color\": \"#EBF0F8\"}, \"line\": {\"color\": \"white\"}}, \"header\": {\"fill\": {\"color\": \"#C8D4E3\"}, \"line\": {\"color\": \"white\"}}, \"type\": \"table\"}]}, \"layout\": {\"annotationdefaults\": {\"arrowcolor\": \"#2a3f5f\", \"arrowhead\": 0, \"arrowwidth\": 1}, \"colorscale\": {\"diverging\": [[0, \"#8e0152\"], [0.1, \"#c51b7d\"], [0.2, \"#de77ae\"], [0.3, \"#f1b6da\"], [0.4, \"#fde0ef\"], [0.5, \"#f7f7f7\"], [0.6, \"#e6f5d0\"], [0.7, \"#b8e186\"], [0.8, \"#7fbc41\"], [0.9, \"#4d9221\"], [1, \"#276419\"]], \"sequential\": [[0.0, \"#0d0887\"], [0.1111111111111111, \"#46039f\"], [0.2222222222222222, \"#7201a8\"], [0.3333333333333333, \"#9c179e\"], [0.4444444444444444, \"#bd3786\"], [0.5555555555555556, \"#d8576b\"], [0.6666666666666666, \"#ed7953\"], [0.7777777777777778, \"#fb9f3a\"], [0.8888888888888888, \"#fdca26\"], [1.0, \"#f0f921\"]], \"sequentialminus\": [[0.0, \"#0d0887\"], [0.1111111111111111, \"#46039f\"], [0.2222222222222222, \"#7201a8\"], [0.3333333333333333, \"#9c179e\"], [0.4444444444444444, \"#bd3786\"], [0.5555555555555556, \"#d8576b\"], [0.6666666666666666, \"#ed7953\"], [0.7777777777777778, \"#fb9f3a\"], [0.8888888888888888, \"#fdca26\"], [1.0, \"#f0f921\"]]}, \"colorway\": [\"#636efa\", \"#EF553B\", \"#00cc96\", \"#ab63fa\", \"#FFA15A\", \"#19d3f3\", \"#FF6692\", \"#B6E880\", \"#FF97FF\", \"#FECB52\"], \"font\": {\"color\": \"#2a3f5f\"}, \"geo\": {\"bgcolor\": \"white\", \"lakecolor\": \"white\", \"landcolor\": \"#E5ECF6\", \"showlakes\": true, \"showland\": true, \"subunitcolor\": \"white\"}, \"hoverlabel\": {\"align\": \"left\"}, \"hovermode\": \"closest\", \"mapbox\": {\"style\": \"light\"}, \"paper_bgcolor\": \"white\", \"plot_bgcolor\": \"#E5ECF6\", \"polar\": {\"angularaxis\": {\"gridcolor\": \"white\", \"linecolor\": \"white\", \"ticks\": \"\"}, \"bgcolor\": \"#E5ECF6\", \"radialaxis\": {\"gridcolor\": \"white\", \"linecolor\": \"white\", \"ticks\": \"\"}}, \"scene\": {\"xaxis\": {\"backgroundcolor\": \"#E5ECF6\", \"gridcolor\": \"white\", \"gridwidth\": 2, \"linecolor\": \"white\", \"showbackground\": true, \"ticks\": \"\", \"zerolinecolor\": \"white\"}, \"yaxis\": {\"backgroundcolor\": \"#E5ECF6\", \"gridcolor\": \"white\", \"gridwidth\": 2, \"linecolor\": \"white\", \"showbackground\": true, \"ticks\": \"\", \"zerolinecolor\": \"white\"}, \"zaxis\": {\"backgroundcolor\": \"#E5ECF6\", \"gridcolor\": \"white\", \"gridwidth\": 2, \"linecolor\": \"white\", \"showbackground\": true, \"ticks\": \"\", \"zerolinecolor\": \"white\"}}, \"shapedefaults\": {\"line\": {\"color\": \"#2a3f5f\"}}, \"ternary\": {\"aaxis\": {\"gridcolor\": \"white\", \"linecolor\": \"white\", \"ticks\": \"\"}, \"baxis\": {\"gridcolor\": \"white\", \"linecolor\": \"white\", \"ticks\": \"\"}, \"bgcolor\": \"#E5ECF6\", \"caxis\": {\"gridcolor\": \"white\", \"linecolor\": \"white\", \"ticks\": \"\"}}, \"title\": {\"x\": 0.05}, \"xaxis\": {\"automargin\": true, \"gridcolor\": \"white\", \"linecolor\": \"white\", \"ticks\": \"\", \"zerolinecolor\": \"white\", \"zerolinewidth\": 2}, \"yaxis\": {\"automargin\": true, \"gridcolor\": \"white\", \"linecolor\": \"white\", \"ticks\": \"\", \"zerolinecolor\": \"white\", \"zerolinewidth\": 2}}}, \"title\": {\"text\": \"\"}, \"width\": 400, \"xaxis\": {\"gridcolor\": \"#DFDFDF\", \"gridwidth\": 1.5, \"linecolor\": \"#AFAFAF\", \"linewidth\": 2, \"nticks\": 6, \"range\": [0.5, 0.95], \"showgrid\": true, \"showline\": true, \"tickvals\": [\"\", 0.6, 0.7, 0.8, 0.9], \"title\": {\"text\": \"Accuracy (Low speed)\"}, \"zeroline\": true, \"zerolinecolor\": \"#AFAFAF\", \"zerolinewidth\": 2.5}, \"yaxis\": {\"gridcolor\": \"#DFDFDF\", \"gridwidth\": 1.5, \"linecolor\": \"#AFAFAF\", \"linewidth\": 2, \"nticks\": 6, \"range\": [0.5, 0.75], \"showgrid\": true, \"showline\": true, \"title\": {\"text\": \"Accuracy (High speed)\"}, \"zeroline\": true, \"zerolinecolor\": \"#AFAFAF\", \"zerolinewidth\": 2.5}},\n",
       "                        {\"responsive\": true}\n",
       "                    ).then(function(){\n",
       "                            \n",
       "var gd = document.getElementById('e30b41a8-bad9-446c-829b-9265864f9293');\n",
       "var x = new MutationObserver(function (mutations, observer) {{\n",
       "        var display = window.getComputedStyle(gd).display;\n",
       "        if (!display || display === 'none') {{\n",
       "            console.log([gd, 'removed!']);\n",
       "            Plotly.purge(gd);\n",
       "            observer.disconnect();\n",
       "        }}\n",
       "}});\n",
       "\n",
       "// Listen for the removal of the full notebook cells\n",
       "var notebookContainer = gd.closest('#notebook-container');\n",
       "if (notebookContainer) {{\n",
       "    x.observe(notebookContainer, {childList: true});\n",
       "}}\n",
       "\n",
       "// Listen for the clearing of the current output cell\n",
       "var outputEl = gd.closest('.output');\n",
       "if (outputEl) {{\n",
       "    x.observe(outputEl, {childList: true});\n",
       "}}\n",
       "\n",
       "                        })\n",
       "                };\n",
       "                });\n",
       "            </script>\n",
       "        </div>"
      ]
     },
     "metadata": {},
     "output_type": "display_data"
    }
   ],
   "source": [
    "odd_set = [5.0, 6.26]\n",
    "even_set = [1.57,3.13]\n",
    "sub_id = individual_ranking['subject_Num'].to_numpy()\n",
    "\n",
    "even_load_data = behavior_data.filter_by(even_set,'speed (deg/sec)')\n",
    "individual_even_load_data = even_load_data.groupby('subject_Num',operations = {'avg_accuracy':agg.MEAN('accuracy')})\n",
    "individual_even_load_data = individual_even_load_data.sort('subject_Num')\n",
    "individual_even_load_data['rank'] = individual_ranking['rank']\n",
    "individual_even_load_data = individual_even_load_data.sort('rank')\n",
    "\n",
    "odd_load_data = behavior_data.filter_by(odd_set,'speed (deg/sec)')\n",
    "individual_odd_load_data = odd_load_data.groupby('subject_Num',operations = {'avg_accuracy':agg.MEAN('accuracy')})\n",
    "individual_odd_load_data = individual_odd_load_data.sort('subject_Num')\n",
    "individual_odd_load_data['rank'] = individual_ranking['rank']\n",
    "individual_odd_load_data = individual_odd_load_data.sort('rank')\n",
    "\n",
    "hsb = individual_odd_load_data\n",
    "hsb['avg_accuracy_even'] = individual_even_load_data['avg_accuracy']\n",
    "hsb2 = hsb.to_dataframe()\n",
    "\n",
    "mod = ols(\"avg_accuracy ~ avg_accuracy_even\", data=hsb2)\n",
    "res = mod.fit()\n",
    "print(res.rsquared)\n",
    "sec2_trace = go.Scatter(x = individual_even_load_data['avg_accuracy'].to_numpy(),\n",
    "                       y = individual_odd_load_data['avg_accuracy'].to_numpy(),\n",
    "                       mode='markers+text', marker = dict(size = 12, opacity = 0.85, color = 'gray',line = dict(width = 1.5, color='black')),\n",
    "                       text = individual_even_load_data['rank'].to_numpy(),\n",
    "                        textfont = dict(size = 7),\n",
    "                       showlegend=False)\n",
    "\n",
    "sec2_trace_fit = go.Scatter(x = np.linspace(individual_even_load_data['avg_accuracy'].min(),individual_even_load_data['avg_accuracy'].max(),100),\n",
    "                   y = np.linspace(individual_even_load_data['avg_accuracy'].min(),individual_even_load_data['avg_accuracy'].max(),100)*res.params[1] + res.params[0],\n",
    "                    mode='lines', opacity = 0.5,\n",
    "                  line = dict(width = 3.5, color='black', dash = 'longdashdot'),\n",
    "                    name = '$r^{2}_{partial} = 0.771$',\n",
    "                   showlegend=False)\n",
    "\n",
    "\n",
    "layout = go.Layout(title = '',\n",
    "                  xaxis = dict(title = 'Accuracy (Low speed)'),\n",
    "                  yaxis = dict(title = 'Accuracy (High speed)'))\n",
    "\n",
    "fig = go.Figure(data = [sec2_trace, sec2_trace_fit], layout = layout )\n",
    "fig['layout']['annotations']= [dict(x=.655,y=.69,xref='x',yref='y',text='$r^{2} = 0.775^{*}$', showarrow=False, font=dict(\n",
    "                family=\"Times\", color='black'\n",
    "            ))]\n",
    "fig['layout'].update(width = 400, height = 400, font = dict(family = \"Times, Bold\", size = 12, color = 'black'), plot_bgcolor = 'rgba(0,0,0,0)')\n",
    "fig.update_xaxes(showgrid=True, showline=True, tickvals = ['',0.6, 0.7, 0.8, 0.9],linewidth = 2, linecolor = '#AFAFAF', range = [0.5, 0.95], gridwidth=1.5, gridcolor='#DFDFDF', zeroline=True, zerolinecolor = '#AFAFAF', zerolinewidth = 2.5, nticks = 6)\n",
    "fig.update_yaxes(showgrid=True, showline=True, linewidth = 2, linecolor = '#AFAFAF', range = [0.5, 0.75],gridwidth=1.5, gridcolor='#DFDFDF', zeroline=True, zerolinecolor = '#AFAFAF', zerolinewidth = 2.5, nticks = 6)\n",
    "fig.show()\n",
    "fig.write_image(\"/Users/supadhy6/Dropbox/Shared with Adi/Results_images/consistent_individual_differences_split_by_speed.png\")\n",
    "fig.write_image(\"/Users/supadhy6/Dropbox/Shared with Adi/Results_images/consistent_individual_differences_split_by_speed.svg\")\n",
    "fig.write_image(\"/Users/supadhy6/Dropbox/Shared with Adi/Results_images/consistent_individual_differences_split_by_speed.pdf\")\n",
    "#py.iplot(fig, filename='split half correlations across speeds')"
   ]
  },
  {
   "cell_type": "code",
   "execution_count": 28,
   "metadata": {},
   "outputs": [
    {
     "data": {
      "text/html": [
       "<pre>Materializing SFrame</pre>"
      ],
      "text/plain": [
       "Materializing SFrame"
      ]
     },
     "metadata": {},
     "output_type": "display_data"
    }
   ],
   "source": [
    "avg_acc_data = behavior_data.groupby(['subject_Num'], operations = {'avg_acc':agg.MEAN('accuracy')})\n",
    "avg_acc_data = avg_acc_data.sort(['subject_Num'])\n",
    "avg_acc_data.explore()"
   ]
  },
  {
   "cell_type": "markdown",
   "metadata": {},
   "source": [
    "## Split half correlations across participants"
   ]
  },
  {
   "cell_type": "code",
   "execution_count": 33,
   "metadata": {},
   "outputs": [
    {
     "name": "stdout",
     "output_type": "stream",
     "text": [
      "0.008320122241024852\n"
     ]
    }
   ],
   "source": [
    "dataframe = tc.SFrame()\n",
    "dataframe['first_half'] = avg_acc_data[0:25]['avg_acc']\n",
    "dataframe['second_half'] = avg_acc_data[25:]['avg_acc']\n",
    "data_frame_pd = dataframe.to_dataframe()\n",
    "mod = ols(\"first_half ~ second_half\", data=data_frame_pd)\n",
    "res = mod.fit()\n",
    "print(res.rsquared)"
   ]
  },
  {
   "cell_type": "markdown",
   "metadata": {
    "collapsed": true
   },
   "source": [
    "<a id = section 3></a>\n",
    "# [Analysis using number of targets chosen](#section 3) \n"
   ]
  },
  {
   "cell_type": "markdown",
   "metadata": {},
   "source": [
    "## Group the behavioral data by target load"
   ]
  },
  {
   "cell_type": "code",
   "execution_count": 14,
   "metadata": {
    "code_folding": [
     0
    ]
   },
   "outputs": [],
   "source": [
    "target_data = behavior_data.groupby('num_targets',operations = {'avg_num_targets_chosen':agg.MEAN('num_targets_chosen'),\n",
    "                                                               'std_num_targets_chosen':agg.STD('num_targets_chosen')})\n",
    "target_data = target_data.sort('num_targets')"
   ]
  },
  {
   "cell_type": "markdown",
   "metadata": {},
   "source": [
    "## Plot the grouped data"
   ]
  },
  {
   "cell_type": "code",
   "execution_count": 15,
   "metadata": {
    "code_folding": [
     0,
     5,
     12,
     19
    ]
   },
   "outputs": [
    {
     "data": {
      "application/vnd.plotly.v1+json": {
       "config": {
        "linkText": "Export to plot.ly",
        "plotlyServerURL": "https://plot.ly",
        "showLink": false
       },
       "data": [
        {
         "line": {
          "color": "beige"
         },
         "mode": "lines",
         "showlegend": false,
         "type": "scatter",
         "x": [
          3,
          4,
          5,
          6,
          7,
          8
         ],
         "y": [
          3.275688292095906,
          4.109938269252663,
          4.630247533492774,
          4.966735022548436,
          5.48051272679859,
          5.66964110710194
         ]
        },
        {
         "fill": "tonexty",
         "fillcolor": "lightgray",
         "line": {
          "color": "black",
          "width": 2
         },
         "mode": "markers+lines",
         "name": "avg",
         "type": "scatter",
         "x": [
          3,
          4,
          5,
          6,
          7,
          8
         ],
         "y": [
          2.784999999999997,
          3.3,
          3.6040000000000014,
          3.862999999999998,
          4.350999999999995,
          4.5719999999999885
         ]
        },
        {
         "fill": "tonexty",
         "fillcolor": "lightgray",
         "line": {
          "color": "beige"
         },
         "mode": "lines",
         "name": "std",
         "type": "scatter",
         "x": [
          3,
          4,
          5,
          6,
          7,
          8
         ],
         "y": [
          2.2943117079040882,
          2.4900617307473363,
          2.5777524665072287,
          2.75926497745156,
          3.221487273201399,
          3.4743588928980365
         ]
        }
       ],
       "layout": {
        "template": {
         "data": {
          "bar": [
           {
            "error_x": {
             "color": "#2a3f5f"
            },
            "error_y": {
             "color": "#2a3f5f"
            },
            "marker": {
             "line": {
              "color": "#E5ECF6",
              "width": 0.5
             }
            },
            "type": "bar"
           }
          ],
          "barpolar": [
           {
            "marker": {
             "line": {
              "color": "#E5ECF6",
              "width": 0.5
             }
            },
            "type": "barpolar"
           }
          ],
          "carpet": [
           {
            "aaxis": {
             "endlinecolor": "#2a3f5f",
             "gridcolor": "white",
             "linecolor": "white",
             "minorgridcolor": "white",
             "startlinecolor": "#2a3f5f"
            },
            "baxis": {
             "endlinecolor": "#2a3f5f",
             "gridcolor": "white",
             "linecolor": "white",
             "minorgridcolor": "white",
             "startlinecolor": "#2a3f5f"
            },
            "type": "carpet"
           }
          ],
          "choropleth": [
           {
            "colorbar": {
             "outlinewidth": 0,
             "ticks": ""
            },
            "type": "choropleth"
           }
          ],
          "contour": [
           {
            "colorbar": {
             "outlinewidth": 0,
             "ticks": ""
            },
            "colorscale": [
             [
              0,
              "#0d0887"
             ],
             [
              0.1111111111111111,
              "#46039f"
             ],
             [
              0.2222222222222222,
              "#7201a8"
             ],
             [
              0.3333333333333333,
              "#9c179e"
             ],
             [
              0.4444444444444444,
              "#bd3786"
             ],
             [
              0.5555555555555556,
              "#d8576b"
             ],
             [
              0.6666666666666666,
              "#ed7953"
             ],
             [
              0.7777777777777778,
              "#fb9f3a"
             ],
             [
              0.8888888888888888,
              "#fdca26"
             ],
             [
              1,
              "#f0f921"
             ]
            ],
            "type": "contour"
           }
          ],
          "contourcarpet": [
           {
            "colorbar": {
             "outlinewidth": 0,
             "ticks": ""
            },
            "type": "contourcarpet"
           }
          ],
          "heatmap": [
           {
            "colorbar": {
             "outlinewidth": 0,
             "ticks": ""
            },
            "colorscale": [
             [
              0,
              "#0d0887"
             ],
             [
              0.1111111111111111,
              "#46039f"
             ],
             [
              0.2222222222222222,
              "#7201a8"
             ],
             [
              0.3333333333333333,
              "#9c179e"
             ],
             [
              0.4444444444444444,
              "#bd3786"
             ],
             [
              0.5555555555555556,
              "#d8576b"
             ],
             [
              0.6666666666666666,
              "#ed7953"
             ],
             [
              0.7777777777777778,
              "#fb9f3a"
             ],
             [
              0.8888888888888888,
              "#fdca26"
             ],
             [
              1,
              "#f0f921"
             ]
            ],
            "type": "heatmap"
           }
          ],
          "heatmapgl": [
           {
            "colorbar": {
             "outlinewidth": 0,
             "ticks": ""
            },
            "colorscale": [
             [
              0,
              "#0d0887"
             ],
             [
              0.1111111111111111,
              "#46039f"
             ],
             [
              0.2222222222222222,
              "#7201a8"
             ],
             [
              0.3333333333333333,
              "#9c179e"
             ],
             [
              0.4444444444444444,
              "#bd3786"
             ],
             [
              0.5555555555555556,
              "#d8576b"
             ],
             [
              0.6666666666666666,
              "#ed7953"
             ],
             [
              0.7777777777777778,
              "#fb9f3a"
             ],
             [
              0.8888888888888888,
              "#fdca26"
             ],
             [
              1,
              "#f0f921"
             ]
            ],
            "type": "heatmapgl"
           }
          ],
          "histogram": [
           {
            "marker": {
             "colorbar": {
              "outlinewidth": 0,
              "ticks": ""
             }
            },
            "type": "histogram"
           }
          ],
          "histogram2d": [
           {
            "colorbar": {
             "outlinewidth": 0,
             "ticks": ""
            },
            "colorscale": [
             [
              0,
              "#0d0887"
             ],
             [
              0.1111111111111111,
              "#46039f"
             ],
             [
              0.2222222222222222,
              "#7201a8"
             ],
             [
              0.3333333333333333,
              "#9c179e"
             ],
             [
              0.4444444444444444,
              "#bd3786"
             ],
             [
              0.5555555555555556,
              "#d8576b"
             ],
             [
              0.6666666666666666,
              "#ed7953"
             ],
             [
              0.7777777777777778,
              "#fb9f3a"
             ],
             [
              0.8888888888888888,
              "#fdca26"
             ],
             [
              1,
              "#f0f921"
             ]
            ],
            "type": "histogram2d"
           }
          ],
          "histogram2dcontour": [
           {
            "colorbar": {
             "outlinewidth": 0,
             "ticks": ""
            },
            "colorscale": [
             [
              0,
              "#0d0887"
             ],
             [
              0.1111111111111111,
              "#46039f"
             ],
             [
              0.2222222222222222,
              "#7201a8"
             ],
             [
              0.3333333333333333,
              "#9c179e"
             ],
             [
              0.4444444444444444,
              "#bd3786"
             ],
             [
              0.5555555555555556,
              "#d8576b"
             ],
             [
              0.6666666666666666,
              "#ed7953"
             ],
             [
              0.7777777777777778,
              "#fb9f3a"
             ],
             [
              0.8888888888888888,
              "#fdca26"
             ],
             [
              1,
              "#f0f921"
             ]
            ],
            "type": "histogram2dcontour"
           }
          ],
          "mesh3d": [
           {
            "colorbar": {
             "outlinewidth": 0,
             "ticks": ""
            },
            "type": "mesh3d"
           }
          ],
          "parcoords": [
           {
            "line": {
             "colorbar": {
              "outlinewidth": 0,
              "ticks": ""
             }
            },
            "type": "parcoords"
           }
          ],
          "scatter": [
           {
            "marker": {
             "colorbar": {
              "outlinewidth": 0,
              "ticks": ""
             }
            },
            "type": "scatter"
           }
          ],
          "scatter3d": [
           {
            "line": {
             "colorbar": {
              "outlinewidth": 0,
              "ticks": ""
             }
            },
            "marker": {
             "colorbar": {
              "outlinewidth": 0,
              "ticks": ""
             }
            },
            "type": "scatter3d"
           }
          ],
          "scattercarpet": [
           {
            "marker": {
             "colorbar": {
              "outlinewidth": 0,
              "ticks": ""
             }
            },
            "type": "scattercarpet"
           }
          ],
          "scattergeo": [
           {
            "marker": {
             "colorbar": {
              "outlinewidth": 0,
              "ticks": ""
             }
            },
            "type": "scattergeo"
           }
          ],
          "scattergl": [
           {
            "marker": {
             "colorbar": {
              "outlinewidth": 0,
              "ticks": ""
             }
            },
            "type": "scattergl"
           }
          ],
          "scattermapbox": [
           {
            "marker": {
             "colorbar": {
              "outlinewidth": 0,
              "ticks": ""
             }
            },
            "type": "scattermapbox"
           }
          ],
          "scatterpolar": [
           {
            "marker": {
             "colorbar": {
              "outlinewidth": 0,
              "ticks": ""
             }
            },
            "type": "scatterpolar"
           }
          ],
          "scatterpolargl": [
           {
            "marker": {
             "colorbar": {
              "outlinewidth": 0,
              "ticks": ""
             }
            },
            "type": "scatterpolargl"
           }
          ],
          "scatterternary": [
           {
            "marker": {
             "colorbar": {
              "outlinewidth": 0,
              "ticks": ""
             }
            },
            "type": "scatterternary"
           }
          ],
          "surface": [
           {
            "colorbar": {
             "outlinewidth": 0,
             "ticks": ""
            },
            "colorscale": [
             [
              0,
              "#0d0887"
             ],
             [
              0.1111111111111111,
              "#46039f"
             ],
             [
              0.2222222222222222,
              "#7201a8"
             ],
             [
              0.3333333333333333,
              "#9c179e"
             ],
             [
              0.4444444444444444,
              "#bd3786"
             ],
             [
              0.5555555555555556,
              "#d8576b"
             ],
             [
              0.6666666666666666,
              "#ed7953"
             ],
             [
              0.7777777777777778,
              "#fb9f3a"
             ],
             [
              0.8888888888888888,
              "#fdca26"
             ],
             [
              1,
              "#f0f921"
             ]
            ],
            "type": "surface"
           }
          ],
          "table": [
           {
            "cells": {
             "fill": {
              "color": "#EBF0F8"
             },
             "line": {
              "color": "white"
             }
            },
            "header": {
             "fill": {
              "color": "#C8D4E3"
             },
             "line": {
              "color": "white"
             }
            },
            "type": "table"
           }
          ]
         },
         "layout": {
          "annotationdefaults": {
           "arrowcolor": "#2a3f5f",
           "arrowhead": 0,
           "arrowwidth": 1
          },
          "colorscale": {
           "diverging": [
            [
             0,
             "#8e0152"
            ],
            [
             0.1,
             "#c51b7d"
            ],
            [
             0.2,
             "#de77ae"
            ],
            [
             0.3,
             "#f1b6da"
            ],
            [
             0.4,
             "#fde0ef"
            ],
            [
             0.5,
             "#f7f7f7"
            ],
            [
             0.6,
             "#e6f5d0"
            ],
            [
             0.7,
             "#b8e186"
            ],
            [
             0.8,
             "#7fbc41"
            ],
            [
             0.9,
             "#4d9221"
            ],
            [
             1,
             "#276419"
            ]
           ],
           "sequential": [
            [
             0,
             "#0d0887"
            ],
            [
             0.1111111111111111,
             "#46039f"
            ],
            [
             0.2222222222222222,
             "#7201a8"
            ],
            [
             0.3333333333333333,
             "#9c179e"
            ],
            [
             0.4444444444444444,
             "#bd3786"
            ],
            [
             0.5555555555555556,
             "#d8576b"
            ],
            [
             0.6666666666666666,
             "#ed7953"
            ],
            [
             0.7777777777777778,
             "#fb9f3a"
            ],
            [
             0.8888888888888888,
             "#fdca26"
            ],
            [
             1,
             "#f0f921"
            ]
           ],
           "sequentialminus": [
            [
             0,
             "#0d0887"
            ],
            [
             0.1111111111111111,
             "#46039f"
            ],
            [
             0.2222222222222222,
             "#7201a8"
            ],
            [
             0.3333333333333333,
             "#9c179e"
            ],
            [
             0.4444444444444444,
             "#bd3786"
            ],
            [
             0.5555555555555556,
             "#d8576b"
            ],
            [
             0.6666666666666666,
             "#ed7953"
            ],
            [
             0.7777777777777778,
             "#fb9f3a"
            ],
            [
             0.8888888888888888,
             "#fdca26"
            ],
            [
             1,
             "#f0f921"
            ]
           ]
          },
          "colorway": [
           "#636efa",
           "#EF553B",
           "#00cc96",
           "#ab63fa",
           "#FFA15A",
           "#19d3f3",
           "#FF6692",
           "#B6E880",
           "#FF97FF",
           "#FECB52"
          ],
          "font": {
           "color": "#2a3f5f"
          },
          "geo": {
           "bgcolor": "white",
           "lakecolor": "white",
           "landcolor": "#E5ECF6",
           "showlakes": true,
           "showland": true,
           "subunitcolor": "white"
          },
          "hoverlabel": {
           "align": "left"
          },
          "hovermode": "closest",
          "mapbox": {
           "style": "light"
          },
          "paper_bgcolor": "white",
          "plot_bgcolor": "#E5ECF6",
          "polar": {
           "angularaxis": {
            "gridcolor": "white",
            "linecolor": "white",
            "ticks": ""
           },
           "bgcolor": "#E5ECF6",
           "radialaxis": {
            "gridcolor": "white",
            "linecolor": "white",
            "ticks": ""
           }
          },
          "scene": {
           "xaxis": {
            "backgroundcolor": "#E5ECF6",
            "gridcolor": "white",
            "gridwidth": 2,
            "linecolor": "white",
            "showbackground": true,
            "ticks": "",
            "zerolinecolor": "white"
           },
           "yaxis": {
            "backgroundcolor": "#E5ECF6",
            "gridcolor": "white",
            "gridwidth": 2,
            "linecolor": "white",
            "showbackground": true,
            "ticks": "",
            "zerolinecolor": "white"
           },
           "zaxis": {
            "backgroundcolor": "#E5ECF6",
            "gridcolor": "white",
            "gridwidth": 2,
            "linecolor": "white",
            "showbackground": true,
            "ticks": "",
            "zerolinecolor": "white"
           }
          },
          "shapedefaults": {
           "line": {
            "color": "#2a3f5f"
           }
          },
          "ternary": {
           "aaxis": {
            "gridcolor": "white",
            "linecolor": "white",
            "ticks": ""
           },
           "baxis": {
            "gridcolor": "white",
            "linecolor": "white",
            "ticks": ""
           },
           "bgcolor": "#E5ECF6",
           "caxis": {
            "gridcolor": "white",
            "linecolor": "white",
            "ticks": ""
           }
          },
          "title": {
           "x": 0.05
          },
          "xaxis": {
           "automargin": true,
           "gridcolor": "white",
           "linecolor": "white",
           "ticks": "",
           "zerolinecolor": "white",
           "zerolinewidth": 2
          },
          "yaxis": {
           "automargin": true,
           "gridcolor": "white",
           "linecolor": "white",
           "ticks": "",
           "zerolinecolor": "white",
           "zerolinewidth": 2
          }
         }
        },
        "title": {
         "text": "avg. number of targets chosen vs. target load"
        },
        "xaxis": {
         "range": [
          2,
          9
         ],
         "title": {
          "text": "target load"
         }
        },
        "yaxis": {
         "title": {
          "text": "avg. number of targets chosen"
         }
        }
       }
      },
      "text/html": [
       "<div>\n",
       "        \n",
       "        \n",
       "            <div id=\"a512105e-dbd2-4a35-8504-35ed783ccd7c\" class=\"plotly-graph-div\" style=\"height:525px; width:100%;\"></div>\n",
       "            <script type=\"text/javascript\">\n",
       "                require([\"plotly\"], function(Plotly) {\n",
       "                    window.PLOTLYENV=window.PLOTLYENV || {};\n",
       "                    \n",
       "                if (document.getElementById(\"a512105e-dbd2-4a35-8504-35ed783ccd7c\")) {\n",
       "                    Plotly.newPlot(\n",
       "                        'a512105e-dbd2-4a35-8504-35ed783ccd7c',\n",
       "                        [{\"line\": {\"color\": \"beige\"}, \"mode\": \"lines\", \"showlegend\": false, \"type\": \"scatter\", \"x\": [3, 4, 5, 6, 7, 8], \"y\": [3.275688292095906, 4.109938269252663, 4.630247533492774, 4.966735022548436, 5.48051272679859, 5.66964110710194]}, {\"fill\": \"tonexty\", \"fillcolor\": \"lightgray\", \"line\": {\"color\": \"black\", \"width\": 2}, \"mode\": \"markers+lines\", \"name\": \"avg\", \"type\": \"scatter\", \"x\": [3, 4, 5, 6, 7, 8], \"y\": [2.784999999999997, 3.3, 3.6040000000000014, 3.862999999999998, 4.350999999999995, 4.5719999999999885]}, {\"fill\": \"tonexty\", \"fillcolor\": \"lightgray\", \"line\": {\"color\": \"beige\"}, \"mode\": \"lines\", \"name\": \"std\", \"type\": \"scatter\", \"x\": [3, 4, 5, 6, 7, 8], \"y\": [2.2943117079040882, 2.4900617307473363, 2.5777524665072287, 2.75926497745156, 3.221487273201399, 3.4743588928980365]}],\n",
       "                        {\"template\": {\"data\": {\"bar\": [{\"error_x\": {\"color\": \"#2a3f5f\"}, \"error_y\": {\"color\": \"#2a3f5f\"}, \"marker\": {\"line\": {\"color\": \"#E5ECF6\", \"width\": 0.5}}, \"type\": \"bar\"}], \"barpolar\": [{\"marker\": {\"line\": {\"color\": \"#E5ECF6\", \"width\": 0.5}}, \"type\": \"barpolar\"}], \"carpet\": [{\"aaxis\": {\"endlinecolor\": \"#2a3f5f\", \"gridcolor\": \"white\", \"linecolor\": \"white\", \"minorgridcolor\": \"white\", \"startlinecolor\": \"#2a3f5f\"}, \"baxis\": {\"endlinecolor\": \"#2a3f5f\", \"gridcolor\": \"white\", \"linecolor\": \"white\", \"minorgridcolor\": \"white\", \"startlinecolor\": \"#2a3f5f\"}, \"type\": \"carpet\"}], \"choropleth\": [{\"colorbar\": {\"outlinewidth\": 0, \"ticks\": \"\"}, \"type\": \"choropleth\"}], \"contour\": [{\"colorbar\": {\"outlinewidth\": 0, \"ticks\": \"\"}, \"colorscale\": [[0.0, \"#0d0887\"], [0.1111111111111111, \"#46039f\"], [0.2222222222222222, \"#7201a8\"], [0.3333333333333333, \"#9c179e\"], [0.4444444444444444, \"#bd3786\"], [0.5555555555555556, \"#d8576b\"], [0.6666666666666666, \"#ed7953\"], [0.7777777777777778, \"#fb9f3a\"], [0.8888888888888888, \"#fdca26\"], [1.0, \"#f0f921\"]], \"type\": \"contour\"}], \"contourcarpet\": [{\"colorbar\": {\"outlinewidth\": 0, \"ticks\": \"\"}, \"type\": \"contourcarpet\"}], \"heatmap\": [{\"colorbar\": {\"outlinewidth\": 0, \"ticks\": \"\"}, \"colorscale\": [[0.0, \"#0d0887\"], [0.1111111111111111, \"#46039f\"], [0.2222222222222222, \"#7201a8\"], [0.3333333333333333, \"#9c179e\"], [0.4444444444444444, \"#bd3786\"], [0.5555555555555556, \"#d8576b\"], [0.6666666666666666, \"#ed7953\"], [0.7777777777777778, \"#fb9f3a\"], [0.8888888888888888, \"#fdca26\"], [1.0, \"#f0f921\"]], \"type\": \"heatmap\"}], \"heatmapgl\": [{\"colorbar\": {\"outlinewidth\": 0, \"ticks\": \"\"}, \"colorscale\": [[0.0, \"#0d0887\"], [0.1111111111111111, \"#46039f\"], [0.2222222222222222, \"#7201a8\"], [0.3333333333333333, \"#9c179e\"], [0.4444444444444444, \"#bd3786\"], [0.5555555555555556, \"#d8576b\"], [0.6666666666666666, \"#ed7953\"], [0.7777777777777778, \"#fb9f3a\"], [0.8888888888888888, \"#fdca26\"], [1.0, \"#f0f921\"]], \"type\": \"heatmapgl\"}], \"histogram\": [{\"marker\": {\"colorbar\": {\"outlinewidth\": 0, \"ticks\": \"\"}}, \"type\": \"histogram\"}], \"histogram2d\": [{\"colorbar\": {\"outlinewidth\": 0, \"ticks\": \"\"}, \"colorscale\": [[0.0, \"#0d0887\"], [0.1111111111111111, \"#46039f\"], [0.2222222222222222, \"#7201a8\"], [0.3333333333333333, \"#9c179e\"], [0.4444444444444444, \"#bd3786\"], [0.5555555555555556, \"#d8576b\"], [0.6666666666666666, \"#ed7953\"], [0.7777777777777778, \"#fb9f3a\"], [0.8888888888888888, \"#fdca26\"], [1.0, \"#f0f921\"]], \"type\": \"histogram2d\"}], \"histogram2dcontour\": [{\"colorbar\": {\"outlinewidth\": 0, \"ticks\": \"\"}, \"colorscale\": [[0.0, \"#0d0887\"], [0.1111111111111111, \"#46039f\"], [0.2222222222222222, \"#7201a8\"], [0.3333333333333333, \"#9c179e\"], [0.4444444444444444, \"#bd3786\"], [0.5555555555555556, \"#d8576b\"], [0.6666666666666666, \"#ed7953\"], [0.7777777777777778, \"#fb9f3a\"], [0.8888888888888888, \"#fdca26\"], [1.0, \"#f0f921\"]], \"type\": \"histogram2dcontour\"}], \"mesh3d\": [{\"colorbar\": {\"outlinewidth\": 0, \"ticks\": \"\"}, \"type\": \"mesh3d\"}], \"parcoords\": [{\"line\": {\"colorbar\": {\"outlinewidth\": 0, \"ticks\": \"\"}}, \"type\": \"parcoords\"}], \"scatter\": [{\"marker\": {\"colorbar\": {\"outlinewidth\": 0, \"ticks\": \"\"}}, \"type\": \"scatter\"}], \"scatter3d\": [{\"line\": {\"colorbar\": {\"outlinewidth\": 0, \"ticks\": \"\"}}, \"marker\": {\"colorbar\": {\"outlinewidth\": 0, \"ticks\": \"\"}}, \"type\": \"scatter3d\"}], \"scattercarpet\": [{\"marker\": {\"colorbar\": {\"outlinewidth\": 0, \"ticks\": \"\"}}, \"type\": \"scattercarpet\"}], \"scattergeo\": [{\"marker\": {\"colorbar\": {\"outlinewidth\": 0, \"ticks\": \"\"}}, \"type\": \"scattergeo\"}], \"scattergl\": [{\"marker\": {\"colorbar\": {\"outlinewidth\": 0, \"ticks\": \"\"}}, \"type\": \"scattergl\"}], \"scattermapbox\": [{\"marker\": {\"colorbar\": {\"outlinewidth\": 0, \"ticks\": \"\"}}, \"type\": \"scattermapbox\"}], \"scatterpolar\": [{\"marker\": {\"colorbar\": {\"outlinewidth\": 0, \"ticks\": \"\"}}, \"type\": \"scatterpolar\"}], \"scatterpolargl\": [{\"marker\": {\"colorbar\": {\"outlinewidth\": 0, \"ticks\": \"\"}}, \"type\": \"scatterpolargl\"}], \"scatterternary\": [{\"marker\": {\"colorbar\": {\"outlinewidth\": 0, \"ticks\": \"\"}}, \"type\": \"scatterternary\"}], \"surface\": [{\"colorbar\": {\"outlinewidth\": 0, \"ticks\": \"\"}, \"colorscale\": [[0.0, \"#0d0887\"], [0.1111111111111111, \"#46039f\"], [0.2222222222222222, \"#7201a8\"], [0.3333333333333333, \"#9c179e\"], [0.4444444444444444, \"#bd3786\"], [0.5555555555555556, \"#d8576b\"], [0.6666666666666666, \"#ed7953\"], [0.7777777777777778, \"#fb9f3a\"], [0.8888888888888888, \"#fdca26\"], [1.0, \"#f0f921\"]], \"type\": \"surface\"}], \"table\": [{\"cells\": {\"fill\": {\"color\": \"#EBF0F8\"}, \"line\": {\"color\": \"white\"}}, \"header\": {\"fill\": {\"color\": \"#C8D4E3\"}, \"line\": {\"color\": \"white\"}}, \"type\": \"table\"}]}, \"layout\": {\"annotationdefaults\": {\"arrowcolor\": \"#2a3f5f\", \"arrowhead\": 0, \"arrowwidth\": 1}, \"colorscale\": {\"diverging\": [[0, \"#8e0152\"], [0.1, \"#c51b7d\"], [0.2, \"#de77ae\"], [0.3, \"#f1b6da\"], [0.4, \"#fde0ef\"], [0.5, \"#f7f7f7\"], [0.6, \"#e6f5d0\"], [0.7, \"#b8e186\"], [0.8, \"#7fbc41\"], [0.9, \"#4d9221\"], [1, \"#276419\"]], \"sequential\": [[0.0, \"#0d0887\"], [0.1111111111111111, \"#46039f\"], [0.2222222222222222, \"#7201a8\"], [0.3333333333333333, \"#9c179e\"], [0.4444444444444444, \"#bd3786\"], [0.5555555555555556, \"#d8576b\"], [0.6666666666666666, \"#ed7953\"], [0.7777777777777778, \"#fb9f3a\"], [0.8888888888888888, \"#fdca26\"], [1.0, \"#f0f921\"]], \"sequentialminus\": [[0.0, \"#0d0887\"], [0.1111111111111111, \"#46039f\"], [0.2222222222222222, \"#7201a8\"], [0.3333333333333333, \"#9c179e\"], [0.4444444444444444, \"#bd3786\"], [0.5555555555555556, \"#d8576b\"], [0.6666666666666666, \"#ed7953\"], [0.7777777777777778, \"#fb9f3a\"], [0.8888888888888888, \"#fdca26\"], [1.0, \"#f0f921\"]]}, \"colorway\": [\"#636efa\", \"#EF553B\", \"#00cc96\", \"#ab63fa\", \"#FFA15A\", \"#19d3f3\", \"#FF6692\", \"#B6E880\", \"#FF97FF\", \"#FECB52\"], \"font\": {\"color\": \"#2a3f5f\"}, \"geo\": {\"bgcolor\": \"white\", \"lakecolor\": \"white\", \"landcolor\": \"#E5ECF6\", \"showlakes\": true, \"showland\": true, \"subunitcolor\": \"white\"}, \"hoverlabel\": {\"align\": \"left\"}, \"hovermode\": \"closest\", \"mapbox\": {\"style\": \"light\"}, \"paper_bgcolor\": \"white\", \"plot_bgcolor\": \"#E5ECF6\", \"polar\": {\"angularaxis\": {\"gridcolor\": \"white\", \"linecolor\": \"white\", \"ticks\": \"\"}, \"bgcolor\": \"#E5ECF6\", \"radialaxis\": {\"gridcolor\": \"white\", \"linecolor\": \"white\", \"ticks\": \"\"}}, \"scene\": {\"xaxis\": {\"backgroundcolor\": \"#E5ECF6\", \"gridcolor\": \"white\", \"gridwidth\": 2, \"linecolor\": \"white\", \"showbackground\": true, \"ticks\": \"\", \"zerolinecolor\": \"white\"}, \"yaxis\": {\"backgroundcolor\": \"#E5ECF6\", \"gridcolor\": \"white\", \"gridwidth\": 2, \"linecolor\": \"white\", \"showbackground\": true, \"ticks\": \"\", \"zerolinecolor\": \"white\"}, \"zaxis\": {\"backgroundcolor\": \"#E5ECF6\", \"gridcolor\": \"white\", \"gridwidth\": 2, \"linecolor\": \"white\", \"showbackground\": true, \"ticks\": \"\", \"zerolinecolor\": \"white\"}}, \"shapedefaults\": {\"line\": {\"color\": \"#2a3f5f\"}}, \"ternary\": {\"aaxis\": {\"gridcolor\": \"white\", \"linecolor\": \"white\", \"ticks\": \"\"}, \"baxis\": {\"gridcolor\": \"white\", \"linecolor\": \"white\", \"ticks\": \"\"}, \"bgcolor\": \"#E5ECF6\", \"caxis\": {\"gridcolor\": \"white\", \"linecolor\": \"white\", \"ticks\": \"\"}}, \"title\": {\"x\": 0.05}, \"xaxis\": {\"automargin\": true, \"gridcolor\": \"white\", \"linecolor\": \"white\", \"ticks\": \"\", \"zerolinecolor\": \"white\", \"zerolinewidth\": 2}, \"yaxis\": {\"automargin\": true, \"gridcolor\": \"white\", \"linecolor\": \"white\", \"ticks\": \"\", \"zerolinecolor\": \"white\", \"zerolinewidth\": 2}}}, \"title\": {\"text\": \"avg. number of targets chosen vs. target load\"}, \"xaxis\": {\"range\": [2, 9], \"title\": {\"text\": \"target load\"}}, \"yaxis\": {\"title\": {\"text\": \"avg. number of targets chosen\"}}},\n",
       "                        {\"responsive\": true}\n",
       "                    ).then(function(){\n",
       "                            \n",
       "var gd = document.getElementById('a512105e-dbd2-4a35-8504-35ed783ccd7c');\n",
       "var x = new MutationObserver(function (mutations, observer) {{\n",
       "        var display = window.getComputedStyle(gd).display;\n",
       "        if (!display || display === 'none') {{\n",
       "            console.log([gd, 'removed!']);\n",
       "            Plotly.purge(gd);\n",
       "            observer.disconnect();\n",
       "        }}\n",
       "}});\n",
       "\n",
       "// Listen for the removal of the full notebook cells\n",
       "var notebookContainer = gd.closest('#notebook-container');\n",
       "if (notebookContainer) {{\n",
       "    x.observe(notebookContainer, {childList: true});\n",
       "}}\n",
       "\n",
       "// Listen for the clearing of the current output cell\n",
       "var outputEl = gd.closest('.output');\n",
       "if (outputEl) {{\n",
       "    x.observe(outputEl, {childList: true});\n",
       "}}\n",
       "\n",
       "                        })\n",
       "                };\n",
       "                });\n",
       "            </script>\n",
       "        </div>"
      ]
     },
     "metadata": {},
     "output_type": "display_data"
    }
   ],
   "source": [
    "sec3_trace_before = go.Scatter(x = target_data['num_targets'].to_numpy(),\n",
    "                   y = target_data['avg_num_targets_chosen'].to_numpy() + target_data['std_num_targets_chosen'].to_numpy(),\n",
    "                   mode = 'lines',\n",
    "                   line = dict(color = 'beige'), showlegend=False)\n",
    "sec3_trace = go.Scatter(x = target_data['num_targets'].to_numpy(),\n",
    "                  y = target_data['avg_num_targets_chosen'].to_numpy(),\n",
    "                  mode='markers+lines',\n",
    "                  line = dict(width = 2,\n",
    "                             color = 'black'),\n",
    "                  fill = 'tonexty',\n",
    "                  fillcolor = 'lightgray', name = 'avg')\n",
    "sec3_trace_after = go.Scatter(x = target_data['num_targets'].to_numpy(),\n",
    "                   y = target_data['avg_num_targets_chosen'].to_numpy() - target_data['std_num_targets_chosen'].to_numpy(),\n",
    "                   mode = 'lines',\n",
    "                   line = dict(color = 'beige'),\n",
    "                   fill = 'tonexty',\n",
    "                   fillcolor='lightgray',name='std')\n",
    "\n",
    "layout = go.Layout(title = 'avg. number of targets chosen vs. target load',\n",
    "                  xaxis = dict(title = 'target load', range = [2,9]),\n",
    "                  yaxis = dict(title = 'avg. number of targets chosen'))\n",
    "\n",
    "fig = go.Figure(data = [sec3_trace_before, sec3_trace, sec3_trace_after], layout = layout )\n",
    "iplot(fig, filename='MOT_avg_num_targets_chosen_vs_target_load')"
   ]
  },
  {
   "cell_type": "markdown",
   "metadata": {},
   "source": [
    "<a id = section 3.1></a>\n",
    "# [Subject wise analysis of the number of targets chosen:](#section 3.1)  Appendix to [Section 3](#section 3)"
   ]
  },
  {
   "cell_type": "markdown",
   "metadata": {},
   "source": [
    "## Plot the subject ranks vs avg. number of targets chosen for each target load\n",
    "\n",
    "* For each target load, Plot the overall individual ranks against the avg. number of targets chosen (y axis in the above figure)\n",
    "* Ideally we should expect a negative slope : Best performers (low rank) on an avg. should track more number of targets"
   ]
  },
  {
   "cell_type": "code",
   "execution_count": 16,
   "metadata": {
    "code_folding": [
     1
    ]
   },
   "outputs": [
    {
     "name": "stderr",
     "output_type": "stream",
     "text": [
      "/Users/supadhy6/miniconda3/envs/adiLab/lib/python3.6/site-packages/plotly/tools.py:465: DeprecationWarning:\n",
      "\n",
      "plotly.tools.make_subplots is deprecated, please use plotly.subplots.make_subplots instead\n",
      "\n"
     ]
    },
    {
     "data": {
      "application/vnd.plotly.v1+json": {
       "config": {
        "linkText": "Export to plot.ly",
        "plotlyServerURL": "https://plot.ly",
        "showLink": false
       },
       "data": [
        {
         "line": {
          "width": 2
         },
         "mode": "markers",
         "name": "Target load : 3",
         "type": "scatter",
         "x": [
          16,
          2,
          10,
          8,
          43,
          23,
          12,
          14,
          30,
          48,
          24,
          33,
          9,
          38,
          4,
          27,
          36,
          18,
          50,
          22,
          17,
          7,
          29,
          32,
          37,
          28,
          31,
          3,
          13,
          20,
          34,
          21,
          41,
          44,
          11,
          47,
          45,
          1,
          15,
          39,
          40,
          19,
          26,
          5,
          46,
          49,
          6,
          25,
          42,
          35
         ],
         "xaxis": "x",
         "y": [
          2.8500000000000005,
          3,
          2.95,
          2.95,
          2.65,
          2.9,
          2.6499999999999995,
          2.75,
          2.8000000000000003,
          2.6499999999999995,
          2.9499999999999997,
          2.5499999999999994,
          2.95,
          2.8,
          2.9499999999999997,
          2.9,
          2.8000000000000003,
          2.9000000000000004,
          2.2,
          2.85,
          2.85,
          2.95,
          2.9000000000000004,
          2.75,
          2.8,
          2.8500000000000005,
          2.9000000000000004,
          2.95,
          2.95,
          2.85,
          2.55,
          2.8499999999999996,
          2.5999999999999996,
          2.85,
          2.7499999999999996,
          2.5,
          2.6,
          2.95,
          2.95,
          2.7999999999999994,
          2.7000000000000006,
          2.85,
          2.9,
          2.85,
          2.4,
          2.149999999999999,
          2.9499999999999997,
          2.6,
          2.8999999999999995,
          2.8
         ],
         "yaxis": "y"
        },
        {
         "line": {
          "width": 2
         },
         "mode": "markers",
         "name": "Target load : 4",
         "type": "scatter",
         "x": [
          16,
          2,
          10,
          8,
          43,
          23,
          12,
          14,
          30,
          48,
          24,
          33,
          9,
          38,
          4,
          27,
          36,
          18,
          50,
          22,
          17,
          7,
          29,
          32,
          37,
          28,
          31,
          3,
          13,
          20,
          34,
          21,
          41,
          44,
          11,
          47,
          45,
          1,
          15,
          39,
          40,
          19,
          26,
          5,
          46,
          49,
          6,
          25,
          42,
          35
         ],
         "xaxis": "x2",
         "y": [
          3.3499999999999996,
          3.75,
          3.4499999999999993,
          3.6,
          3.1499999999999995,
          3.2499999999999996,
          3.55,
          3.6500000000000004,
          3.1499999999999995,
          2.55,
          3.4000000000000004,
          3.6500000000000004,
          3.6000000000000005,
          2.999999999999999,
          3.5999999999999996,
          3.3,
          3.1499999999999995,
          3.3500000000000005,
          2.6,
          3.5499999999999994,
          3.3,
          3.6,
          3.2499999999999996,
          2.9999999999999996,
          3.3,
          3.4999999999999996,
          3.349999999999999,
          3.65,
          3.4,
          3.4499999999999997,
          3.1999999999999997,
          3.3499999999999996,
          3.35,
          2.9999999999999996,
          3.6999999999999993,
          2.6,
          2.9,
          3.9,
          3.55,
          3.1,
          3.3,
          3.349999999999999,
          3.4000000000000004,
          3.349999999999999,
          2.65,
          2.7,
          3.65,
          3.35,
          3.1999999999999997,
          2.9499999999999997
         ],
         "yaxis": "y2"
        },
        {
         "line": {
          "width": 2
         },
         "mode": "markers",
         "name": "Target load : 5",
         "type": "scatter",
         "x": [
          16,
          2,
          10,
          8,
          43,
          23,
          12,
          14,
          30,
          48,
          24,
          33,
          9,
          38,
          4,
          27,
          36,
          18,
          50,
          22,
          17,
          7,
          29,
          32,
          37,
          28,
          31,
          3,
          13,
          20,
          34,
          21,
          41,
          44,
          11,
          47,
          45,
          1,
          15,
          39,
          40,
          19,
          26,
          5,
          46,
          49,
          6,
          25,
          42,
          35
         ],
         "xaxis": "x3",
         "y": [
          3.650000000000001,
          4,
          4.050000000000001,
          3.9999999999999996,
          2.9499999999999997,
          3.6499999999999995,
          4.05,
          3.9000000000000012,
          3.5,
          3.0499999999999994,
          3.6999999999999997,
          3.6500000000000004,
          3.8999999999999995,
          3.6,
          3.9999999999999982,
          3.7,
          3.4000000000000004,
          3.8499999999999996,
          2.9999999999999996,
          3.6999999999999993,
          3.9,
          3.9999999999999996,
          3.3500000000000005,
          3.6499999999999995,
          3.250000000000001,
          3.6000000000000005,
          3.349999999999999,
          4.1,
          3.8000000000000003,
          3.5999999999999996,
          3.5,
          3.75,
          3.05,
          2.95,
          4,
          2.95,
          2.9999999999999996,
          4.000000000000001,
          3.75,
          3.4500000000000006,
          3.5000000000000004,
          3.9,
          3.499999999999999,
          3.9,
          3.1999999999999997,
          3.1,
          4.100000000000001,
          3.8500000000000005,
          3.3499999999999988,
          3.5000000000000004
         ],
         "yaxis": "y3"
        },
        {
         "line": {
          "width": 2
         },
         "mode": "markers",
         "name": "Target load : 6",
         "type": "scatter",
         "x": [
          16,
          2,
          10,
          8,
          43,
          23,
          12,
          14,
          30,
          48,
          24,
          33,
          9,
          38,
          4,
          27,
          36,
          18,
          50,
          22,
          17,
          7,
          29,
          32,
          37,
          28,
          31,
          3,
          13,
          20,
          34,
          21,
          41,
          44,
          11,
          47,
          45,
          1,
          15,
          39,
          40,
          19,
          26,
          5,
          46,
          49,
          6,
          25,
          42,
          35
         ],
         "xaxis": "x4",
         "y": [
          4.1,
          4.7,
          4.1,
          4.1000000000000005,
          3.65,
          4,
          4.25,
          4.1,
          3.85,
          3.3999999999999995,
          3.8000000000000003,
          2.85,
          4.25,
          3.8000000000000003,
          4.550000000000001,
          3.7,
          3.7499999999999996,
          3.8999999999999995,
          3.4499999999999993,
          3.8500000000000005,
          3.8499999999999996,
          4.3,
          3.7,
          3.8499999999999996,
          3.7499999999999996,
          3.65,
          3.7,
          4.55,
          4.050000000000001,
          3.9999999999999996,
          3.9,
          3.900000000000001,
          3.6,
          3.5,
          3.9,
          3.55,
          3.1999999999999997,
          4.450000000000001,
          4.1499999999999995,
          3.4499999999999997,
          3.3999999999999995,
          3.8,
          3.9,
          4.4,
          3.8000000000000003,
          3.3000000000000007,
          4.3500000000000005,
          3.75,
          3.2999999999999994,
          3.999999999999999
         ],
         "yaxis": "y4"
        },
        {
         "line": {
          "width": 2
         },
         "mode": "markers",
         "name": "Target load : 7",
         "type": "scatter",
         "x": [
          16,
          2,
          10,
          8,
          43,
          23,
          12,
          14,
          30,
          48,
          24,
          33,
          9,
          38,
          4,
          27,
          36,
          18,
          50,
          22,
          17,
          7,
          29,
          32,
          37,
          28,
          31,
          3,
          13,
          20,
          34,
          21,
          41,
          44,
          11,
          47,
          45,
          1,
          15,
          39,
          40,
          19,
          26,
          5,
          46,
          49,
          6,
          25,
          42,
          35
         ],
         "xaxis": "x5",
         "y": [
          4.8,
          4.750000000000002,
          4.749999999999999,
          4.450000000000001,
          3.75,
          4.5,
          4.55,
          4.85,
          4.150000000000001,
          3.85,
          4.150000000000001,
          4.5,
          4.300000000000001,
          4.050000000000001,
          4.8500000000000005,
          4.350000000000001,
          4.049999999999999,
          4.45,
          4.1,
          4.35,
          4.75,
          4.5,
          4.200000000000001,
          4.3500000000000005,
          3.9000000000000004,
          4.4,
          3.85,
          4.900000000000001,
          4.85,
          4.85,
          4.3,
          4.55,
          3.95,
          4.05,
          4.65,
          3.75,
          4.300000000000001,
          4.6,
          4.35,
          4.05,
          3.949999999999999,
          4.45,
          4.150000000000001,
          5.1000000000000005,
          3.9999999999999996,
          4.25,
          4.549999999999999,
          4.550000000000001,
          4.000000000000001,
          3.9
         ],
         "yaxis": "y5"
        },
        {
         "line": {
          "width": 2
         },
         "mode": "markers",
         "name": "Target load : 8",
         "type": "scatter",
         "x": [
          16,
          2,
          10,
          8,
          43,
          23,
          12,
          14,
          30,
          48,
          24,
          33,
          9,
          38,
          4,
          27,
          36,
          18,
          50,
          22,
          17,
          7,
          29,
          32,
          37,
          28,
          31,
          3,
          13,
          20,
          34,
          21,
          41,
          44,
          11,
          47,
          45,
          1,
          15,
          39,
          40,
          19,
          26,
          5,
          46,
          49,
          6,
          25,
          42,
          35
         ],
         "xaxis": "x6",
         "y": [
          4.799999999999999,
          4.85,
          4.5,
          4.85,
          4.6000000000000005,
          4.75,
          4.9,
          4.3500000000000005,
          4.65,
          4,
          4.6,
          4.6000000000000005,
          4.85,
          3.9999999999999996,
          4.799999999999999,
          4.5,
          4.399999999999999,
          4.9,
          4.3,
          4.599999999999999,
          4.8500000000000005,
          4.95,
          4.95,
          4.5,
          4.300000000000001,
          4.35,
          4.75,
          4.95,
          4.7,
          4.35,
          4.500000000000001,
          4.650000000000001,
          4.3999999999999995,
          3.799999999999999,
          4.85,
          4.6000000000000005,
          4.3999999999999995,
          5.299999999999999,
          4.450000000000001,
          4.1499999999999995,
          3.95,
          4.800000000000001,
          4.6000000000000005,
          5.15,
          4.549999999999999,
          4.249999999999999,
          4.6499999999999995,
          4.75,
          3.6999999999999997,
          4.65
         ],
         "yaxis": "y6"
        }
       ],
       "layout": {
        "font": {
         "size": 15
        },
        "height": 700,
        "legend": {
         "traceorder": "normal"
        },
        "margin": {
         "b": 130,
         "l": 130,
         "r": 80,
         "t": 150
        },
        "template": {
         "data": {
          "bar": [
           {
            "error_x": {
             "color": "#2a3f5f"
            },
            "error_y": {
             "color": "#2a3f5f"
            },
            "marker": {
             "line": {
              "color": "#E5ECF6",
              "width": 0.5
             }
            },
            "type": "bar"
           }
          ],
          "barpolar": [
           {
            "marker": {
             "line": {
              "color": "#E5ECF6",
              "width": 0.5
             }
            },
            "type": "barpolar"
           }
          ],
          "carpet": [
           {
            "aaxis": {
             "endlinecolor": "#2a3f5f",
             "gridcolor": "white",
             "linecolor": "white",
             "minorgridcolor": "white",
             "startlinecolor": "#2a3f5f"
            },
            "baxis": {
             "endlinecolor": "#2a3f5f",
             "gridcolor": "white",
             "linecolor": "white",
             "minorgridcolor": "white",
             "startlinecolor": "#2a3f5f"
            },
            "type": "carpet"
           }
          ],
          "choropleth": [
           {
            "colorbar": {
             "outlinewidth": 0,
             "ticks": ""
            },
            "type": "choropleth"
           }
          ],
          "contour": [
           {
            "colorbar": {
             "outlinewidth": 0,
             "ticks": ""
            },
            "colorscale": [
             [
              0,
              "#0d0887"
             ],
             [
              0.1111111111111111,
              "#46039f"
             ],
             [
              0.2222222222222222,
              "#7201a8"
             ],
             [
              0.3333333333333333,
              "#9c179e"
             ],
             [
              0.4444444444444444,
              "#bd3786"
             ],
             [
              0.5555555555555556,
              "#d8576b"
             ],
             [
              0.6666666666666666,
              "#ed7953"
             ],
             [
              0.7777777777777778,
              "#fb9f3a"
             ],
             [
              0.8888888888888888,
              "#fdca26"
             ],
             [
              1,
              "#f0f921"
             ]
            ],
            "type": "contour"
           }
          ],
          "contourcarpet": [
           {
            "colorbar": {
             "outlinewidth": 0,
             "ticks": ""
            },
            "type": "contourcarpet"
           }
          ],
          "heatmap": [
           {
            "colorbar": {
             "outlinewidth": 0,
             "ticks": ""
            },
            "colorscale": [
             [
              0,
              "#0d0887"
             ],
             [
              0.1111111111111111,
              "#46039f"
             ],
             [
              0.2222222222222222,
              "#7201a8"
             ],
             [
              0.3333333333333333,
              "#9c179e"
             ],
             [
              0.4444444444444444,
              "#bd3786"
             ],
             [
              0.5555555555555556,
              "#d8576b"
             ],
             [
              0.6666666666666666,
              "#ed7953"
             ],
             [
              0.7777777777777778,
              "#fb9f3a"
             ],
             [
              0.8888888888888888,
              "#fdca26"
             ],
             [
              1,
              "#f0f921"
             ]
            ],
            "type": "heatmap"
           }
          ],
          "heatmapgl": [
           {
            "colorbar": {
             "outlinewidth": 0,
             "ticks": ""
            },
            "colorscale": [
             [
              0,
              "#0d0887"
             ],
             [
              0.1111111111111111,
              "#46039f"
             ],
             [
              0.2222222222222222,
              "#7201a8"
             ],
             [
              0.3333333333333333,
              "#9c179e"
             ],
             [
              0.4444444444444444,
              "#bd3786"
             ],
             [
              0.5555555555555556,
              "#d8576b"
             ],
             [
              0.6666666666666666,
              "#ed7953"
             ],
             [
              0.7777777777777778,
              "#fb9f3a"
             ],
             [
              0.8888888888888888,
              "#fdca26"
             ],
             [
              1,
              "#f0f921"
             ]
            ],
            "type": "heatmapgl"
           }
          ],
          "histogram": [
           {
            "marker": {
             "colorbar": {
              "outlinewidth": 0,
              "ticks": ""
             }
            },
            "type": "histogram"
           }
          ],
          "histogram2d": [
           {
            "colorbar": {
             "outlinewidth": 0,
             "ticks": ""
            },
            "colorscale": [
             [
              0,
              "#0d0887"
             ],
             [
              0.1111111111111111,
              "#46039f"
             ],
             [
              0.2222222222222222,
              "#7201a8"
             ],
             [
              0.3333333333333333,
              "#9c179e"
             ],
             [
              0.4444444444444444,
              "#bd3786"
             ],
             [
              0.5555555555555556,
              "#d8576b"
             ],
             [
              0.6666666666666666,
              "#ed7953"
             ],
             [
              0.7777777777777778,
              "#fb9f3a"
             ],
             [
              0.8888888888888888,
              "#fdca26"
             ],
             [
              1,
              "#f0f921"
             ]
            ],
            "type": "histogram2d"
           }
          ],
          "histogram2dcontour": [
           {
            "colorbar": {
             "outlinewidth": 0,
             "ticks": ""
            },
            "colorscale": [
             [
              0,
              "#0d0887"
             ],
             [
              0.1111111111111111,
              "#46039f"
             ],
             [
              0.2222222222222222,
              "#7201a8"
             ],
             [
              0.3333333333333333,
              "#9c179e"
             ],
             [
              0.4444444444444444,
              "#bd3786"
             ],
             [
              0.5555555555555556,
              "#d8576b"
             ],
             [
              0.6666666666666666,
              "#ed7953"
             ],
             [
              0.7777777777777778,
              "#fb9f3a"
             ],
             [
              0.8888888888888888,
              "#fdca26"
             ],
             [
              1,
              "#f0f921"
             ]
            ],
            "type": "histogram2dcontour"
           }
          ],
          "mesh3d": [
           {
            "colorbar": {
             "outlinewidth": 0,
             "ticks": ""
            },
            "type": "mesh3d"
           }
          ],
          "parcoords": [
           {
            "line": {
             "colorbar": {
              "outlinewidth": 0,
              "ticks": ""
             }
            },
            "type": "parcoords"
           }
          ],
          "scatter": [
           {
            "marker": {
             "colorbar": {
              "outlinewidth": 0,
              "ticks": ""
             }
            },
            "type": "scatter"
           }
          ],
          "scatter3d": [
           {
            "line": {
             "colorbar": {
              "outlinewidth": 0,
              "ticks": ""
             }
            },
            "marker": {
             "colorbar": {
              "outlinewidth": 0,
              "ticks": ""
             }
            },
            "type": "scatter3d"
           }
          ],
          "scattercarpet": [
           {
            "marker": {
             "colorbar": {
              "outlinewidth": 0,
              "ticks": ""
             }
            },
            "type": "scattercarpet"
           }
          ],
          "scattergeo": [
           {
            "marker": {
             "colorbar": {
              "outlinewidth": 0,
              "ticks": ""
             }
            },
            "type": "scattergeo"
           }
          ],
          "scattergl": [
           {
            "marker": {
             "colorbar": {
              "outlinewidth": 0,
              "ticks": ""
             }
            },
            "type": "scattergl"
           }
          ],
          "scattermapbox": [
           {
            "marker": {
             "colorbar": {
              "outlinewidth": 0,
              "ticks": ""
             }
            },
            "type": "scattermapbox"
           }
          ],
          "scatterpolar": [
           {
            "marker": {
             "colorbar": {
              "outlinewidth": 0,
              "ticks": ""
             }
            },
            "type": "scatterpolar"
           }
          ],
          "scatterpolargl": [
           {
            "marker": {
             "colorbar": {
              "outlinewidth": 0,
              "ticks": ""
             }
            },
            "type": "scatterpolargl"
           }
          ],
          "scatterternary": [
           {
            "marker": {
             "colorbar": {
              "outlinewidth": 0,
              "ticks": ""
             }
            },
            "type": "scatterternary"
           }
          ],
          "surface": [
           {
            "colorbar": {
             "outlinewidth": 0,
             "ticks": ""
            },
            "colorscale": [
             [
              0,
              "#0d0887"
             ],
             [
              0.1111111111111111,
              "#46039f"
             ],
             [
              0.2222222222222222,
              "#7201a8"
             ],
             [
              0.3333333333333333,
              "#9c179e"
             ],
             [
              0.4444444444444444,
              "#bd3786"
             ],
             [
              0.5555555555555556,
              "#d8576b"
             ],
             [
              0.6666666666666666,
              "#ed7953"
             ],
             [
              0.7777777777777778,
              "#fb9f3a"
             ],
             [
              0.8888888888888888,
              "#fdca26"
             ],
             [
              1,
              "#f0f921"
             ]
            ],
            "type": "surface"
           }
          ],
          "table": [
           {
            "cells": {
             "fill": {
              "color": "#EBF0F8"
             },
             "line": {
              "color": "white"
             }
            },
            "header": {
             "fill": {
              "color": "#C8D4E3"
             },
             "line": {
              "color": "white"
             }
            },
            "type": "table"
           }
          ]
         },
         "layout": {
          "annotationdefaults": {
           "arrowcolor": "#2a3f5f",
           "arrowhead": 0,
           "arrowwidth": 1
          },
          "colorscale": {
           "diverging": [
            [
             0,
             "#8e0152"
            ],
            [
             0.1,
             "#c51b7d"
            ],
            [
             0.2,
             "#de77ae"
            ],
            [
             0.3,
             "#f1b6da"
            ],
            [
             0.4,
             "#fde0ef"
            ],
            [
             0.5,
             "#f7f7f7"
            ],
            [
             0.6,
             "#e6f5d0"
            ],
            [
             0.7,
             "#b8e186"
            ],
            [
             0.8,
             "#7fbc41"
            ],
            [
             0.9,
             "#4d9221"
            ],
            [
             1,
             "#276419"
            ]
           ],
           "sequential": [
            [
             0,
             "#0d0887"
            ],
            [
             0.1111111111111111,
             "#46039f"
            ],
            [
             0.2222222222222222,
             "#7201a8"
            ],
            [
             0.3333333333333333,
             "#9c179e"
            ],
            [
             0.4444444444444444,
             "#bd3786"
            ],
            [
             0.5555555555555556,
             "#d8576b"
            ],
            [
             0.6666666666666666,
             "#ed7953"
            ],
            [
             0.7777777777777778,
             "#fb9f3a"
            ],
            [
             0.8888888888888888,
             "#fdca26"
            ],
            [
             1,
             "#f0f921"
            ]
           ],
           "sequentialminus": [
            [
             0,
             "#0d0887"
            ],
            [
             0.1111111111111111,
             "#46039f"
            ],
            [
             0.2222222222222222,
             "#7201a8"
            ],
            [
             0.3333333333333333,
             "#9c179e"
            ],
            [
             0.4444444444444444,
             "#bd3786"
            ],
            [
             0.5555555555555556,
             "#d8576b"
            ],
            [
             0.6666666666666666,
             "#ed7953"
            ],
            [
             0.7777777777777778,
             "#fb9f3a"
            ],
            [
             0.8888888888888888,
             "#fdca26"
            ],
            [
             1,
             "#f0f921"
            ]
           ]
          },
          "colorway": [
           "#636efa",
           "#EF553B",
           "#00cc96",
           "#ab63fa",
           "#FFA15A",
           "#19d3f3",
           "#FF6692",
           "#B6E880",
           "#FF97FF",
           "#FECB52"
          ],
          "font": {
           "color": "#2a3f5f"
          },
          "geo": {
           "bgcolor": "white",
           "lakecolor": "white",
           "landcolor": "#E5ECF6",
           "showlakes": true,
           "showland": true,
           "subunitcolor": "white"
          },
          "hoverlabel": {
           "align": "left"
          },
          "hovermode": "closest",
          "mapbox": {
           "style": "light"
          },
          "paper_bgcolor": "white",
          "plot_bgcolor": "#E5ECF6",
          "polar": {
           "angularaxis": {
            "gridcolor": "white",
            "linecolor": "white",
            "ticks": ""
           },
           "bgcolor": "#E5ECF6",
           "radialaxis": {
            "gridcolor": "white",
            "linecolor": "white",
            "ticks": ""
           }
          },
          "scene": {
           "xaxis": {
            "backgroundcolor": "#E5ECF6",
            "gridcolor": "white",
            "gridwidth": 2,
            "linecolor": "white",
            "showbackground": true,
            "ticks": "",
            "zerolinecolor": "white"
           },
           "yaxis": {
            "backgroundcolor": "#E5ECF6",
            "gridcolor": "white",
            "gridwidth": 2,
            "linecolor": "white",
            "showbackground": true,
            "ticks": "",
            "zerolinecolor": "white"
           },
           "zaxis": {
            "backgroundcolor": "#E5ECF6",
            "gridcolor": "white",
            "gridwidth": 2,
            "linecolor": "white",
            "showbackground": true,
            "ticks": "",
            "zerolinecolor": "white"
           }
          },
          "shapedefaults": {
           "line": {
            "color": "#2a3f5f"
           }
          },
          "ternary": {
           "aaxis": {
            "gridcolor": "white",
            "linecolor": "white",
            "ticks": ""
           },
           "baxis": {
            "gridcolor": "white",
            "linecolor": "white",
            "ticks": ""
           },
           "bgcolor": "#E5ECF6",
           "caxis": {
            "gridcolor": "white",
            "linecolor": "white",
            "ticks": ""
           }
          },
          "title": {
           "x": 0.05
          },
          "xaxis": {
           "automargin": true,
           "gridcolor": "white",
           "linecolor": "white",
           "ticks": "",
           "zerolinecolor": "white",
           "zerolinewidth": 2
          },
          "yaxis": {
           "automargin": true,
           "gridcolor": "white",
           "linecolor": "white",
           "ticks": "",
           "zerolinecolor": "white",
           "zerolinewidth": 2
          }
         }
        },
        "width": 1000,
        "xaxis": {
         "anchor": "y",
         "domain": [
          0,
          0.2888888888888889
         ]
        },
        "xaxis2": {
         "anchor": "y2",
         "domain": [
          0.35555555555555557,
          0.6444444444444445
         ]
        },
        "xaxis3": {
         "anchor": "y3",
         "domain": [
          0.7111111111111111,
          1
         ]
        },
        "xaxis4": {
         "anchor": "y4",
         "domain": [
          0,
          0.2888888888888889
         ]
        },
        "xaxis5": {
         "anchor": "y5",
         "domain": [
          0.35555555555555557,
          0.6444444444444445
         ],
         "title": {
          "text": "overall ranked individual performance in the experiment"
         }
        },
        "xaxis6": {
         "anchor": "y6",
         "domain": [
          0.7111111111111111,
          1
         ]
        },
        "yaxis": {
         "anchor": "x",
         "domain": [
          0.575,
          1
         ]
        },
        "yaxis2": {
         "anchor": "x2",
         "domain": [
          0.575,
          1
         ]
        },
        "yaxis3": {
         "anchor": "x3",
         "domain": [
          0.575,
          1
         ]
        },
        "yaxis4": {
         "anchor": "x4",
         "domain": [
          0,
          0.425
         ],
         "title": {
          "text": "avg num. targets chosen"
         }
        },
        "yaxis5": {
         "anchor": "x5",
         "domain": [
          0,
          0.425
         ]
        },
        "yaxis6": {
         "anchor": "x6",
         "domain": [
          0,
          0.425
         ]
        }
       }
      },
      "text/html": [
       "<div>\n",
       "        \n",
       "        \n",
       "            <div id=\"54a6d9c1-27c7-4422-8dd6-ff7c286ae759\" class=\"plotly-graph-div\" style=\"height:700px; width:1000px;\"></div>\n",
       "            <script type=\"text/javascript\">\n",
       "                require([\"plotly\"], function(Plotly) {\n",
       "                    window.PLOTLYENV=window.PLOTLYENV || {};\n",
       "                    \n",
       "                if (document.getElementById(\"54a6d9c1-27c7-4422-8dd6-ff7c286ae759\")) {\n",
       "                    Plotly.newPlot(\n",
       "                        '54a6d9c1-27c7-4422-8dd6-ff7c286ae759',\n",
       "                        [{\"line\": {\"width\": 2}, \"mode\": \"markers\", \"name\": \"Target load : 3\", \"type\": \"scatter\", \"x\": [16, 2, 10, 8, 43, 23, 12, 14, 30, 48, 24, 33, 9, 38, 4, 27, 36, 18, 50, 22, 17, 7, 29, 32, 37, 28, 31, 3, 13, 20, 34, 21, 41, 44, 11, 47, 45, 1, 15, 39, 40, 19, 26, 5, 46, 49, 6, 25, 42, 35], \"xaxis\": \"x\", \"y\": [2.8500000000000005, 3.0, 2.95, 2.95, 2.65, 2.9, 2.6499999999999995, 2.75, 2.8000000000000003, 2.6499999999999995, 2.9499999999999997, 2.5499999999999994, 2.95, 2.8, 2.9499999999999997, 2.9, 2.8000000000000003, 2.9000000000000004, 2.2, 2.85, 2.85, 2.95, 2.9000000000000004, 2.75, 2.8, 2.8500000000000005, 2.9000000000000004, 2.95, 2.95, 2.85, 2.55, 2.8499999999999996, 2.5999999999999996, 2.85, 2.7499999999999996, 2.5, 2.6, 2.95, 2.95, 2.7999999999999994, 2.7000000000000006, 2.85, 2.9, 2.85, 2.4, 2.149999999999999, 2.9499999999999997, 2.6, 2.8999999999999995, 2.8], \"yaxis\": \"y\"}, {\"line\": {\"width\": 2}, \"mode\": \"markers\", \"name\": \"Target load : 4\", \"type\": \"scatter\", \"x\": [16, 2, 10, 8, 43, 23, 12, 14, 30, 48, 24, 33, 9, 38, 4, 27, 36, 18, 50, 22, 17, 7, 29, 32, 37, 28, 31, 3, 13, 20, 34, 21, 41, 44, 11, 47, 45, 1, 15, 39, 40, 19, 26, 5, 46, 49, 6, 25, 42, 35], \"xaxis\": \"x2\", \"y\": [3.3499999999999996, 3.75, 3.4499999999999993, 3.6, 3.1499999999999995, 3.2499999999999996, 3.55, 3.6500000000000004, 3.1499999999999995, 2.55, 3.4000000000000004, 3.6500000000000004, 3.6000000000000005, 2.999999999999999, 3.5999999999999996, 3.3, 3.1499999999999995, 3.3500000000000005, 2.6, 3.5499999999999994, 3.3, 3.6, 3.2499999999999996, 2.9999999999999996, 3.3, 3.4999999999999996, 3.349999999999999, 3.65, 3.4, 3.4499999999999997, 3.1999999999999997, 3.3499999999999996, 3.35, 2.9999999999999996, 3.6999999999999993, 2.6, 2.9, 3.9, 3.55, 3.1, 3.3, 3.349999999999999, 3.4000000000000004, 3.349999999999999, 2.65, 2.7, 3.65, 3.35, 3.1999999999999997, 2.9499999999999997], \"yaxis\": \"y2\"}, {\"line\": {\"width\": 2}, \"mode\": \"markers\", \"name\": \"Target load : 5\", \"type\": \"scatter\", \"x\": [16, 2, 10, 8, 43, 23, 12, 14, 30, 48, 24, 33, 9, 38, 4, 27, 36, 18, 50, 22, 17, 7, 29, 32, 37, 28, 31, 3, 13, 20, 34, 21, 41, 44, 11, 47, 45, 1, 15, 39, 40, 19, 26, 5, 46, 49, 6, 25, 42, 35], \"xaxis\": \"x3\", \"y\": [3.650000000000001, 4.0, 4.050000000000001, 3.9999999999999996, 2.9499999999999997, 3.6499999999999995, 4.05, 3.9000000000000012, 3.5, 3.0499999999999994, 3.6999999999999997, 3.6500000000000004, 3.8999999999999995, 3.6, 3.9999999999999982, 3.7, 3.4000000000000004, 3.8499999999999996, 2.9999999999999996, 3.6999999999999993, 3.9, 3.9999999999999996, 3.3500000000000005, 3.6499999999999995, 3.250000000000001, 3.6000000000000005, 3.349999999999999, 4.1, 3.8000000000000003, 3.5999999999999996, 3.5, 3.75, 3.05, 2.95, 4.0, 2.95, 2.9999999999999996, 4.000000000000001, 3.75, 3.4500000000000006, 3.5000000000000004, 3.9, 3.499999999999999, 3.9, 3.1999999999999997, 3.1, 4.100000000000001, 3.8500000000000005, 3.3499999999999988, 3.5000000000000004], \"yaxis\": \"y3\"}, {\"line\": {\"width\": 2}, \"mode\": \"markers\", \"name\": \"Target load : 6\", \"type\": \"scatter\", \"x\": [16, 2, 10, 8, 43, 23, 12, 14, 30, 48, 24, 33, 9, 38, 4, 27, 36, 18, 50, 22, 17, 7, 29, 32, 37, 28, 31, 3, 13, 20, 34, 21, 41, 44, 11, 47, 45, 1, 15, 39, 40, 19, 26, 5, 46, 49, 6, 25, 42, 35], \"xaxis\": \"x4\", \"y\": [4.1, 4.7, 4.1, 4.1000000000000005, 3.65, 4.0, 4.25, 4.1, 3.85, 3.3999999999999995, 3.8000000000000003, 2.85, 4.25, 3.8000000000000003, 4.550000000000001, 3.7, 3.7499999999999996, 3.8999999999999995, 3.4499999999999993, 3.8500000000000005, 3.8499999999999996, 4.3, 3.7, 3.8499999999999996, 3.7499999999999996, 3.65, 3.7, 4.55, 4.050000000000001, 3.9999999999999996, 3.9, 3.900000000000001, 3.6, 3.5, 3.9, 3.55, 3.1999999999999997, 4.450000000000001, 4.1499999999999995, 3.4499999999999997, 3.3999999999999995, 3.8, 3.9, 4.4, 3.8000000000000003, 3.3000000000000007, 4.3500000000000005, 3.75, 3.2999999999999994, 3.999999999999999], \"yaxis\": \"y4\"}, {\"line\": {\"width\": 2}, \"mode\": \"markers\", \"name\": \"Target load : 7\", \"type\": \"scatter\", \"x\": [16, 2, 10, 8, 43, 23, 12, 14, 30, 48, 24, 33, 9, 38, 4, 27, 36, 18, 50, 22, 17, 7, 29, 32, 37, 28, 31, 3, 13, 20, 34, 21, 41, 44, 11, 47, 45, 1, 15, 39, 40, 19, 26, 5, 46, 49, 6, 25, 42, 35], \"xaxis\": \"x5\", \"y\": [4.8, 4.750000000000002, 4.749999999999999, 4.450000000000001, 3.75, 4.5, 4.55, 4.85, 4.150000000000001, 3.85, 4.150000000000001, 4.5, 4.300000000000001, 4.050000000000001, 4.8500000000000005, 4.350000000000001, 4.049999999999999, 4.45, 4.1, 4.35, 4.75, 4.5, 4.200000000000001, 4.3500000000000005, 3.9000000000000004, 4.4, 3.85, 4.900000000000001, 4.85, 4.85, 4.3, 4.55, 3.95, 4.05, 4.65, 3.75, 4.300000000000001, 4.6, 4.35, 4.05, 3.949999999999999, 4.45, 4.150000000000001, 5.1000000000000005, 3.9999999999999996, 4.25, 4.549999999999999, 4.550000000000001, 4.000000000000001, 3.9], \"yaxis\": \"y5\"}, {\"line\": {\"width\": 2}, \"mode\": \"markers\", \"name\": \"Target load : 8\", \"type\": \"scatter\", \"x\": [16, 2, 10, 8, 43, 23, 12, 14, 30, 48, 24, 33, 9, 38, 4, 27, 36, 18, 50, 22, 17, 7, 29, 32, 37, 28, 31, 3, 13, 20, 34, 21, 41, 44, 11, 47, 45, 1, 15, 39, 40, 19, 26, 5, 46, 49, 6, 25, 42, 35], \"xaxis\": \"x6\", \"y\": [4.799999999999999, 4.85, 4.5, 4.85, 4.6000000000000005, 4.75, 4.9, 4.3500000000000005, 4.65, 4.0, 4.6, 4.6000000000000005, 4.85, 3.9999999999999996, 4.799999999999999, 4.5, 4.399999999999999, 4.9, 4.3, 4.599999999999999, 4.8500000000000005, 4.95, 4.95, 4.5, 4.300000000000001, 4.35, 4.75, 4.95, 4.7, 4.35, 4.500000000000001, 4.650000000000001, 4.3999999999999995, 3.799999999999999, 4.85, 4.6000000000000005, 4.3999999999999995, 5.299999999999999, 4.450000000000001, 4.1499999999999995, 3.95, 4.800000000000001, 4.6000000000000005, 5.15, 4.549999999999999, 4.249999999999999, 4.6499999999999995, 4.75, 3.6999999999999997, 4.65], \"yaxis\": \"y6\"}],\n",
       "                        {\"font\": {\"size\": 15}, \"height\": 700, \"legend\": {\"traceorder\": \"normal\"}, \"margin\": {\"b\": 130, \"l\": 130, \"r\": 80, \"t\": 150}, \"template\": {\"data\": {\"bar\": [{\"error_x\": {\"color\": \"#2a3f5f\"}, \"error_y\": {\"color\": \"#2a3f5f\"}, \"marker\": {\"line\": {\"color\": \"#E5ECF6\", \"width\": 0.5}}, \"type\": \"bar\"}], \"barpolar\": [{\"marker\": {\"line\": {\"color\": \"#E5ECF6\", \"width\": 0.5}}, \"type\": \"barpolar\"}], \"carpet\": [{\"aaxis\": {\"endlinecolor\": \"#2a3f5f\", \"gridcolor\": \"white\", \"linecolor\": \"white\", \"minorgridcolor\": \"white\", \"startlinecolor\": \"#2a3f5f\"}, \"baxis\": {\"endlinecolor\": \"#2a3f5f\", \"gridcolor\": \"white\", \"linecolor\": \"white\", \"minorgridcolor\": \"white\", \"startlinecolor\": \"#2a3f5f\"}, \"type\": \"carpet\"}], \"choropleth\": [{\"colorbar\": {\"outlinewidth\": 0, \"ticks\": \"\"}, \"type\": \"choropleth\"}], \"contour\": [{\"colorbar\": {\"outlinewidth\": 0, \"ticks\": \"\"}, \"colorscale\": [[0.0, \"#0d0887\"], [0.1111111111111111, \"#46039f\"], [0.2222222222222222, \"#7201a8\"], [0.3333333333333333, \"#9c179e\"], [0.4444444444444444, \"#bd3786\"], [0.5555555555555556, \"#d8576b\"], [0.6666666666666666, \"#ed7953\"], [0.7777777777777778, \"#fb9f3a\"], [0.8888888888888888, \"#fdca26\"], [1.0, \"#f0f921\"]], \"type\": \"contour\"}], \"contourcarpet\": [{\"colorbar\": {\"outlinewidth\": 0, \"ticks\": \"\"}, \"type\": \"contourcarpet\"}], \"heatmap\": [{\"colorbar\": {\"outlinewidth\": 0, \"ticks\": \"\"}, \"colorscale\": [[0.0, \"#0d0887\"], [0.1111111111111111, \"#46039f\"], [0.2222222222222222, \"#7201a8\"], [0.3333333333333333, \"#9c179e\"], [0.4444444444444444, \"#bd3786\"], [0.5555555555555556, \"#d8576b\"], [0.6666666666666666, \"#ed7953\"], [0.7777777777777778, \"#fb9f3a\"], [0.8888888888888888, \"#fdca26\"], [1.0, \"#f0f921\"]], \"type\": \"heatmap\"}], \"heatmapgl\": [{\"colorbar\": {\"outlinewidth\": 0, \"ticks\": \"\"}, \"colorscale\": [[0.0, \"#0d0887\"], [0.1111111111111111, \"#46039f\"], [0.2222222222222222, \"#7201a8\"], [0.3333333333333333, \"#9c179e\"], [0.4444444444444444, \"#bd3786\"], [0.5555555555555556, \"#d8576b\"], [0.6666666666666666, \"#ed7953\"], [0.7777777777777778, \"#fb9f3a\"], [0.8888888888888888, \"#fdca26\"], [1.0, \"#f0f921\"]], \"type\": \"heatmapgl\"}], \"histogram\": [{\"marker\": {\"colorbar\": {\"outlinewidth\": 0, \"ticks\": \"\"}}, \"type\": \"histogram\"}], \"histogram2d\": [{\"colorbar\": {\"outlinewidth\": 0, \"ticks\": \"\"}, \"colorscale\": [[0.0, \"#0d0887\"], [0.1111111111111111, \"#46039f\"], [0.2222222222222222, \"#7201a8\"], [0.3333333333333333, \"#9c179e\"], [0.4444444444444444, \"#bd3786\"], [0.5555555555555556, \"#d8576b\"], [0.6666666666666666, \"#ed7953\"], [0.7777777777777778, \"#fb9f3a\"], [0.8888888888888888, \"#fdca26\"], [1.0, \"#f0f921\"]], \"type\": \"histogram2d\"}], \"histogram2dcontour\": [{\"colorbar\": {\"outlinewidth\": 0, \"ticks\": \"\"}, \"colorscale\": [[0.0, \"#0d0887\"], [0.1111111111111111, \"#46039f\"], [0.2222222222222222, \"#7201a8\"], [0.3333333333333333, \"#9c179e\"], [0.4444444444444444, \"#bd3786\"], [0.5555555555555556, \"#d8576b\"], [0.6666666666666666, \"#ed7953\"], [0.7777777777777778, \"#fb9f3a\"], [0.8888888888888888, \"#fdca26\"], [1.0, \"#f0f921\"]], \"type\": \"histogram2dcontour\"}], \"mesh3d\": [{\"colorbar\": {\"outlinewidth\": 0, \"ticks\": \"\"}, \"type\": \"mesh3d\"}], \"parcoords\": [{\"line\": {\"colorbar\": {\"outlinewidth\": 0, \"ticks\": \"\"}}, \"type\": \"parcoords\"}], \"scatter\": [{\"marker\": {\"colorbar\": {\"outlinewidth\": 0, \"ticks\": \"\"}}, \"type\": \"scatter\"}], \"scatter3d\": [{\"line\": {\"colorbar\": {\"outlinewidth\": 0, \"ticks\": \"\"}}, \"marker\": {\"colorbar\": {\"outlinewidth\": 0, \"ticks\": \"\"}}, \"type\": \"scatter3d\"}], \"scattercarpet\": [{\"marker\": {\"colorbar\": {\"outlinewidth\": 0, \"ticks\": \"\"}}, \"type\": \"scattercarpet\"}], \"scattergeo\": [{\"marker\": {\"colorbar\": {\"outlinewidth\": 0, \"ticks\": \"\"}}, \"type\": \"scattergeo\"}], \"scattergl\": [{\"marker\": {\"colorbar\": {\"outlinewidth\": 0, \"ticks\": \"\"}}, \"type\": \"scattergl\"}], \"scattermapbox\": [{\"marker\": {\"colorbar\": {\"outlinewidth\": 0, \"ticks\": \"\"}}, \"type\": \"scattermapbox\"}], \"scatterpolar\": [{\"marker\": {\"colorbar\": {\"outlinewidth\": 0, \"ticks\": \"\"}}, \"type\": \"scatterpolar\"}], \"scatterpolargl\": [{\"marker\": {\"colorbar\": {\"outlinewidth\": 0, \"ticks\": \"\"}}, \"type\": \"scatterpolargl\"}], \"scatterternary\": [{\"marker\": {\"colorbar\": {\"outlinewidth\": 0, \"ticks\": \"\"}}, \"type\": \"scatterternary\"}], \"surface\": [{\"colorbar\": {\"outlinewidth\": 0, \"ticks\": \"\"}, \"colorscale\": [[0.0, \"#0d0887\"], [0.1111111111111111, \"#46039f\"], [0.2222222222222222, \"#7201a8\"], [0.3333333333333333, \"#9c179e\"], [0.4444444444444444, \"#bd3786\"], [0.5555555555555556, \"#d8576b\"], [0.6666666666666666, \"#ed7953\"], [0.7777777777777778, \"#fb9f3a\"], [0.8888888888888888, \"#fdca26\"], [1.0, \"#f0f921\"]], \"type\": \"surface\"}], \"table\": [{\"cells\": {\"fill\": {\"color\": \"#EBF0F8\"}, \"line\": {\"color\": \"white\"}}, \"header\": {\"fill\": {\"color\": \"#C8D4E3\"}, \"line\": {\"color\": \"white\"}}, \"type\": \"table\"}]}, \"layout\": {\"annotationdefaults\": {\"arrowcolor\": \"#2a3f5f\", \"arrowhead\": 0, \"arrowwidth\": 1}, \"colorscale\": {\"diverging\": [[0, \"#8e0152\"], [0.1, \"#c51b7d\"], [0.2, \"#de77ae\"], [0.3, \"#f1b6da\"], [0.4, \"#fde0ef\"], [0.5, \"#f7f7f7\"], [0.6, \"#e6f5d0\"], [0.7, \"#b8e186\"], [0.8, \"#7fbc41\"], [0.9, \"#4d9221\"], [1, \"#276419\"]], \"sequential\": [[0.0, \"#0d0887\"], [0.1111111111111111, \"#46039f\"], [0.2222222222222222, \"#7201a8\"], [0.3333333333333333, \"#9c179e\"], [0.4444444444444444, \"#bd3786\"], [0.5555555555555556, \"#d8576b\"], [0.6666666666666666, \"#ed7953\"], [0.7777777777777778, \"#fb9f3a\"], [0.8888888888888888, \"#fdca26\"], [1.0, \"#f0f921\"]], \"sequentialminus\": [[0.0, \"#0d0887\"], [0.1111111111111111, \"#46039f\"], [0.2222222222222222, \"#7201a8\"], [0.3333333333333333, \"#9c179e\"], [0.4444444444444444, \"#bd3786\"], [0.5555555555555556, \"#d8576b\"], [0.6666666666666666, \"#ed7953\"], [0.7777777777777778, \"#fb9f3a\"], [0.8888888888888888, \"#fdca26\"], [1.0, \"#f0f921\"]]}, \"colorway\": [\"#636efa\", \"#EF553B\", \"#00cc96\", \"#ab63fa\", \"#FFA15A\", \"#19d3f3\", \"#FF6692\", \"#B6E880\", \"#FF97FF\", \"#FECB52\"], \"font\": {\"color\": \"#2a3f5f\"}, \"geo\": {\"bgcolor\": \"white\", \"lakecolor\": \"white\", \"landcolor\": \"#E5ECF6\", \"showlakes\": true, \"showland\": true, \"subunitcolor\": \"white\"}, \"hoverlabel\": {\"align\": \"left\"}, \"hovermode\": \"closest\", \"mapbox\": {\"style\": \"light\"}, \"paper_bgcolor\": \"white\", \"plot_bgcolor\": \"#E5ECF6\", \"polar\": {\"angularaxis\": {\"gridcolor\": \"white\", \"linecolor\": \"white\", \"ticks\": \"\"}, \"bgcolor\": \"#E5ECF6\", \"radialaxis\": {\"gridcolor\": \"white\", \"linecolor\": \"white\", \"ticks\": \"\"}}, \"scene\": {\"xaxis\": {\"backgroundcolor\": \"#E5ECF6\", \"gridcolor\": \"white\", \"gridwidth\": 2, \"linecolor\": \"white\", \"showbackground\": true, \"ticks\": \"\", \"zerolinecolor\": \"white\"}, \"yaxis\": {\"backgroundcolor\": \"#E5ECF6\", \"gridcolor\": \"white\", \"gridwidth\": 2, \"linecolor\": \"white\", \"showbackground\": true, \"ticks\": \"\", \"zerolinecolor\": \"white\"}, \"zaxis\": {\"backgroundcolor\": \"#E5ECF6\", \"gridcolor\": \"white\", \"gridwidth\": 2, \"linecolor\": \"white\", \"showbackground\": true, \"ticks\": \"\", \"zerolinecolor\": \"white\"}}, \"shapedefaults\": {\"line\": {\"color\": \"#2a3f5f\"}}, \"ternary\": {\"aaxis\": {\"gridcolor\": \"white\", \"linecolor\": \"white\", \"ticks\": \"\"}, \"baxis\": {\"gridcolor\": \"white\", \"linecolor\": \"white\", \"ticks\": \"\"}, \"bgcolor\": \"#E5ECF6\", \"caxis\": {\"gridcolor\": \"white\", \"linecolor\": \"white\", \"ticks\": \"\"}}, \"title\": {\"x\": 0.05}, \"xaxis\": {\"automargin\": true, \"gridcolor\": \"white\", \"linecolor\": \"white\", \"ticks\": \"\", \"zerolinecolor\": \"white\", \"zerolinewidth\": 2}, \"yaxis\": {\"automargin\": true, \"gridcolor\": \"white\", \"linecolor\": \"white\", \"ticks\": \"\", \"zerolinecolor\": \"white\", \"zerolinewidth\": 2}}}, \"width\": 1000, \"xaxis\": {\"anchor\": \"y\", \"domain\": [0.0, 0.2888888888888889]}, \"xaxis2\": {\"anchor\": \"y2\", \"domain\": [0.35555555555555557, 0.6444444444444445]}, \"xaxis3\": {\"anchor\": \"y3\", \"domain\": [0.7111111111111111, 1.0]}, \"xaxis4\": {\"anchor\": \"y4\", \"domain\": [0.0, 0.2888888888888889]}, \"xaxis5\": {\"anchor\": \"y5\", \"domain\": [0.35555555555555557, 0.6444444444444445], \"title\": {\"text\": \"overall ranked individual performance in the experiment\"}}, \"xaxis6\": {\"anchor\": \"y6\", \"domain\": [0.7111111111111111, 1.0]}, \"yaxis\": {\"anchor\": \"x\", \"domain\": [0.575, 1.0]}, \"yaxis2\": {\"anchor\": \"x2\", \"domain\": [0.575, 1.0]}, \"yaxis3\": {\"anchor\": \"x3\", \"domain\": [0.575, 1.0]}, \"yaxis4\": {\"anchor\": \"x4\", \"domain\": [0.0, 0.425], \"title\": {\"text\": \"avg num. targets chosen\"}}, \"yaxis5\": {\"anchor\": \"x5\", \"domain\": [0.0, 0.425]}, \"yaxis6\": {\"anchor\": \"x6\", \"domain\": [0.0, 0.425]}},\n",
       "                        {\"responsive\": true}\n",
       "                    ).then(function(){\n",
       "                            \n",
       "var gd = document.getElementById('54a6d9c1-27c7-4422-8dd6-ff7c286ae759');\n",
       "var x = new MutationObserver(function (mutations, observer) {{\n",
       "        var display = window.getComputedStyle(gd).display;\n",
       "        if (!display || display === 'none') {{\n",
       "            console.log([gd, 'removed!']);\n",
       "            Plotly.purge(gd);\n",
       "            observer.disconnect();\n",
       "        }}\n",
       "}});\n",
       "\n",
       "// Listen for the removal of the full notebook cells\n",
       "var notebookContainer = gd.closest('#notebook-container');\n",
       "if (notebookContainer) {{\n",
       "    x.observe(notebookContainer, {childList: true});\n",
       "}}\n",
       "\n",
       "// Listen for the clearing of the current output cell\n",
       "var outputEl = gd.closest('.output');\n",
       "if (outputEl) {{\n",
       "    x.observe(outputEl, {childList: true});\n",
       "}}\n",
       "\n",
       "                        })\n",
       "                };\n",
       "                });\n",
       "            </script>\n",
       "        </div>"
      ]
     },
     "metadata": {},
     "output_type": "display_data"
    }
   ],
   "source": [
    "sec2_trace = []\n",
    "for target in subject_data['num_targets'].unique().sort():\n",
    "    rank_data = subject_data[subject_data['num_targets']==target]\n",
    "    rank_data = rank_data.sort('subject_Num')\n",
    "    rank_data['rank'] = individual_ranking['rank']\n",
    "    sec2_trace.append(go.Scatter(x = rank_data['rank'].to_numpy(),\n",
    "                           y = rank_data['avg_num_targets_chosen'].to_numpy(),\n",
    "                           mode='markers',\n",
    "                           line=dict(width = 2),\n",
    "                           name = 'Target load : '+ str(target)))\n",
    "\n",
    "fig = tools.make_subplots(rows=2, cols=3)\n",
    "fig.add_trace(sec2_trace[0],1,1)\n",
    "fig.add_trace(sec2_trace[1],1,2)\n",
    "fig.add_trace(sec2_trace[2],1,3)\n",
    "fig.add_trace(sec2_trace[3],2,1)\n",
    "fig.add_trace(sec2_trace[4],2,2)\n",
    "fig.add_trace(sec2_trace[5],2,3)\n",
    "\n",
    "\n",
    "\n",
    "fig['layout'].update(height=700, width=1000, margin = dict(l=130, b=130, r=80, t=150), font = dict(size=15))\n",
    "fig['layout']['legend'].update(traceorder='normal')\n",
    "\n",
    "fig['layout']['yaxis4'].update(title='avg num. targets chosen')\n",
    "fig['layout']['xaxis5'].update(title='overall ranked individual performance in the experiment')\n",
    "\n",
    "\n",
    "iplot(fig, filename='subejct ranks vs. num targets chosen')    "
   ]
  },
  {
   "cell_type": "markdown",
   "metadata": {
    "collapsed": true
   },
   "source": [
    "<a id = section 3.2></a>\n",
    "# [Proportion of number of targets selected for each target load:](#section 3.2)  "
   ]
  },
  {
   "cell_type": "code",
   "execution_count": 17,
   "metadata": {},
   "outputs": [],
   "source": [
    "def compute_sum(x):\n",
    "    sum_counts = numT_select_by_target_load[numT_select_by_target_load['num_targets']==x['num_targets']]['count'].sum()\n",
    "    return x['count']/sum_counts"
   ]
  },
  {
   "cell_type": "code",
   "execution_count": 18,
   "metadata": {},
   "outputs": [
    {
     "data": {
      "text/html": [
       "<pre>Materializing SFrame</pre>"
      ],
      "text/plain": [
       "Materializing SFrame"
      ]
     },
     "metadata": {},
     "output_type": "display_data"
    }
   ],
   "source": [
    "numT_select_by_target_load = behavior_data.groupby(['num_targets','num_targets_chosen'],operations = {'count':agg.COUNT('num_targets_chosen')})\n",
    "numT_select_by_target_load['avg_propT'] = numT_select_by_target_load.apply(lambda x: compute_sum(x))\n",
    "numT_select_by_target_load = numT_select_by_target_load.sort(['num_targets','num_targets_chosen'])\n",
    "numT_select_by_target_load.explore()"
   ]
  },
  {
   "cell_type": "code",
   "execution_count": 20,
   "metadata": {},
   "outputs": [
    {
     "data": {
      "application/vnd.plotly.v1+json": {
       "config": {
        "linkText": "Export to plot.ly",
        "plotlyServerURL": "https://plot.ly",
        "showLink": false
       },
       "data": [
        {
         "line": {
          "color": "rgb(102,194,165)",
          "shape": "spline",
          "width": 3
         },
         "marker": {
          "color": "rgb(102,194,165)",
          "line": {
           "color": "black",
           "width": 1.5
          },
          "size": 12
         },
         "mode": "markers+text+lines",
         "name": "Target load:3",
         "showlegend": false,
         "text": "3",
         "type": "scatter",
         "x": [
          0,
          1,
          2,
          3
         ],
         "y": [
          0.006,
          0.018,
          0.161,
          0.815
         ]
        },
        {
         "line": {
          "color": "rgb(252,141,98)",
          "shape": "spline",
          "width": 3
         },
         "marker": {
          "color": "rgb(252,141,98)",
          "line": {
           "color": "black",
           "width": 1.5
          },
          "size": 12
         },
         "mode": "markers+text+lines",
         "name": "Target load:4",
         "showlegend": false,
         "text": "4",
         "type": "scatter",
         "x": [
          0,
          1,
          2,
          3,
          4
         ],
         "y": [
          0.001,
          0.021,
          0.154,
          0.325,
          0.499
         ]
        },
        {
         "line": {
          "color": "rgb(141,160,203)",
          "shape": "spline",
          "width": 3
         },
         "marker": {
          "color": "rgb(141,160,203)",
          "line": {
           "color": "black",
           "width": 1.5
          },
          "size": 12
         },
         "mode": "markers+text+lines",
         "name": "Target load:5",
         "showlegend": false,
         "text": "5",
         "type": "scatter",
         "x": [
          0,
          1,
          2,
          3,
          4,
          5
         ],
         "y": [
          0.001,
          0.012,
          0.126,
          0.343,
          0.279,
          0.239
         ]
        },
        {
         "line": {
          "color": "rgb(231,138,195)",
          "shape": "spline",
          "width": 3
         },
         "marker": {
          "color": "rgb(231,138,195)",
          "line": {
           "color": "black",
           "width": 1.5
          },
          "size": 12
         },
         "mode": "markers+text+lines",
         "name": "Target load:6",
         "showlegend": false,
         "text": "6",
         "type": "scatter",
         "x": [
          1,
          2,
          3,
          4,
          5,
          6
         ],
         "y": [
          0.006,
          0.094,
          0.29,
          0.33,
          0.201,
          0.079
         ]
        },
        {
         "line": {
          "color": "rgb(166,216,84)",
          "shape": "spline",
          "width": 3
         },
         "marker": {
          "color": "rgb(166,216,84)",
          "line": {
           "color": "black",
           "width": 1.5
          },
          "size": 12
         },
         "mode": "markers+text+lines",
         "name": "Target load:7",
         "showlegend": false,
         "text": "7",
         "type": "scatter",
         "x": [
          1,
          2,
          3,
          4,
          5,
          6,
          7
         ],
         "y": [
          0.003,
          0.038,
          0.177,
          0.352,
          0.279,
          0.119,
          0.032
         ]
        },
        {
         "line": {
          "color": "rgb(255,217,47)",
          "shape": "spline",
          "width": 3
         },
         "marker": {
          "color": "rgb(255,217,47)",
          "line": {
           "color": "black",
           "width": 1.5
          },
          "size": 12
         },
         "mode": "markers+text+lines",
         "name": "Target load:8",
         "showlegend": false,
         "text": "8",
         "type": "scatter",
         "x": [
          1,
          2,
          3,
          4,
          5,
          6,
          7,
          8
         ],
         "y": [
          0.002,
          0.03,
          0.12,
          0.313,
          0.345,
          0.159,
          0.029,
          0.002
         ]
        }
       ],
       "layout": {
        "font": {
         "color": "black",
         "family": "Times,Bold",
         "size": 12
        },
        "height": 400,
        "paper_bgcolor": "rgba(0,0,0,0)",
        "plot_bgcolor": "rgba(0,0,0,0)",
        "template": {
         "data": {
          "bar": [
           {
            "error_x": {
             "color": "#2a3f5f"
            },
            "error_y": {
             "color": "#2a3f5f"
            },
            "marker": {
             "line": {
              "color": "#E5ECF6",
              "width": 0.5
             }
            },
            "type": "bar"
           }
          ],
          "barpolar": [
           {
            "marker": {
             "line": {
              "color": "#E5ECF6",
              "width": 0.5
             }
            },
            "type": "barpolar"
           }
          ],
          "carpet": [
           {
            "aaxis": {
             "endlinecolor": "#2a3f5f",
             "gridcolor": "white",
             "linecolor": "white",
             "minorgridcolor": "white",
             "startlinecolor": "#2a3f5f"
            },
            "baxis": {
             "endlinecolor": "#2a3f5f",
             "gridcolor": "white",
             "linecolor": "white",
             "minorgridcolor": "white",
             "startlinecolor": "#2a3f5f"
            },
            "type": "carpet"
           }
          ],
          "choropleth": [
           {
            "colorbar": {
             "outlinewidth": 0,
             "ticks": ""
            },
            "type": "choropleth"
           }
          ],
          "contour": [
           {
            "colorbar": {
             "outlinewidth": 0,
             "ticks": ""
            },
            "colorscale": [
             [
              0,
              "#0d0887"
             ],
             [
              0.1111111111111111,
              "#46039f"
             ],
             [
              0.2222222222222222,
              "#7201a8"
             ],
             [
              0.3333333333333333,
              "#9c179e"
             ],
             [
              0.4444444444444444,
              "#bd3786"
             ],
             [
              0.5555555555555556,
              "#d8576b"
             ],
             [
              0.6666666666666666,
              "#ed7953"
             ],
             [
              0.7777777777777778,
              "#fb9f3a"
             ],
             [
              0.8888888888888888,
              "#fdca26"
             ],
             [
              1,
              "#f0f921"
             ]
            ],
            "type": "contour"
           }
          ],
          "contourcarpet": [
           {
            "colorbar": {
             "outlinewidth": 0,
             "ticks": ""
            },
            "type": "contourcarpet"
           }
          ],
          "heatmap": [
           {
            "colorbar": {
             "outlinewidth": 0,
             "ticks": ""
            },
            "colorscale": [
             [
              0,
              "#0d0887"
             ],
             [
              0.1111111111111111,
              "#46039f"
             ],
             [
              0.2222222222222222,
              "#7201a8"
             ],
             [
              0.3333333333333333,
              "#9c179e"
             ],
             [
              0.4444444444444444,
              "#bd3786"
             ],
             [
              0.5555555555555556,
              "#d8576b"
             ],
             [
              0.6666666666666666,
              "#ed7953"
             ],
             [
              0.7777777777777778,
              "#fb9f3a"
             ],
             [
              0.8888888888888888,
              "#fdca26"
             ],
             [
              1,
              "#f0f921"
             ]
            ],
            "type": "heatmap"
           }
          ],
          "heatmapgl": [
           {
            "colorbar": {
             "outlinewidth": 0,
             "ticks": ""
            },
            "colorscale": [
             [
              0,
              "#0d0887"
             ],
             [
              0.1111111111111111,
              "#46039f"
             ],
             [
              0.2222222222222222,
              "#7201a8"
             ],
             [
              0.3333333333333333,
              "#9c179e"
             ],
             [
              0.4444444444444444,
              "#bd3786"
             ],
             [
              0.5555555555555556,
              "#d8576b"
             ],
             [
              0.6666666666666666,
              "#ed7953"
             ],
             [
              0.7777777777777778,
              "#fb9f3a"
             ],
             [
              0.8888888888888888,
              "#fdca26"
             ],
             [
              1,
              "#f0f921"
             ]
            ],
            "type": "heatmapgl"
           }
          ],
          "histogram": [
           {
            "marker": {
             "colorbar": {
              "outlinewidth": 0,
              "ticks": ""
             }
            },
            "type": "histogram"
           }
          ],
          "histogram2d": [
           {
            "colorbar": {
             "outlinewidth": 0,
             "ticks": ""
            },
            "colorscale": [
             [
              0,
              "#0d0887"
             ],
             [
              0.1111111111111111,
              "#46039f"
             ],
             [
              0.2222222222222222,
              "#7201a8"
             ],
             [
              0.3333333333333333,
              "#9c179e"
             ],
             [
              0.4444444444444444,
              "#bd3786"
             ],
             [
              0.5555555555555556,
              "#d8576b"
             ],
             [
              0.6666666666666666,
              "#ed7953"
             ],
             [
              0.7777777777777778,
              "#fb9f3a"
             ],
             [
              0.8888888888888888,
              "#fdca26"
             ],
             [
              1,
              "#f0f921"
             ]
            ],
            "type": "histogram2d"
           }
          ],
          "histogram2dcontour": [
           {
            "colorbar": {
             "outlinewidth": 0,
             "ticks": ""
            },
            "colorscale": [
             [
              0,
              "#0d0887"
             ],
             [
              0.1111111111111111,
              "#46039f"
             ],
             [
              0.2222222222222222,
              "#7201a8"
             ],
             [
              0.3333333333333333,
              "#9c179e"
             ],
             [
              0.4444444444444444,
              "#bd3786"
             ],
             [
              0.5555555555555556,
              "#d8576b"
             ],
             [
              0.6666666666666666,
              "#ed7953"
             ],
             [
              0.7777777777777778,
              "#fb9f3a"
             ],
             [
              0.8888888888888888,
              "#fdca26"
             ],
             [
              1,
              "#f0f921"
             ]
            ],
            "type": "histogram2dcontour"
           }
          ],
          "mesh3d": [
           {
            "colorbar": {
             "outlinewidth": 0,
             "ticks": ""
            },
            "type": "mesh3d"
           }
          ],
          "parcoords": [
           {
            "line": {
             "colorbar": {
              "outlinewidth": 0,
              "ticks": ""
             }
            },
            "type": "parcoords"
           }
          ],
          "scatter": [
           {
            "marker": {
             "colorbar": {
              "outlinewidth": 0,
              "ticks": ""
             }
            },
            "type": "scatter"
           }
          ],
          "scatter3d": [
           {
            "line": {
             "colorbar": {
              "outlinewidth": 0,
              "ticks": ""
             }
            },
            "marker": {
             "colorbar": {
              "outlinewidth": 0,
              "ticks": ""
             }
            },
            "type": "scatter3d"
           }
          ],
          "scattercarpet": [
           {
            "marker": {
             "colorbar": {
              "outlinewidth": 0,
              "ticks": ""
             }
            },
            "type": "scattercarpet"
           }
          ],
          "scattergeo": [
           {
            "marker": {
             "colorbar": {
              "outlinewidth": 0,
              "ticks": ""
             }
            },
            "type": "scattergeo"
           }
          ],
          "scattergl": [
           {
            "marker": {
             "colorbar": {
              "outlinewidth": 0,
              "ticks": ""
             }
            },
            "type": "scattergl"
           }
          ],
          "scattermapbox": [
           {
            "marker": {
             "colorbar": {
              "outlinewidth": 0,
              "ticks": ""
             }
            },
            "type": "scattermapbox"
           }
          ],
          "scatterpolar": [
           {
            "marker": {
             "colorbar": {
              "outlinewidth": 0,
              "ticks": ""
             }
            },
            "type": "scatterpolar"
           }
          ],
          "scatterpolargl": [
           {
            "marker": {
             "colorbar": {
              "outlinewidth": 0,
              "ticks": ""
             }
            },
            "type": "scatterpolargl"
           }
          ],
          "scatterternary": [
           {
            "marker": {
             "colorbar": {
              "outlinewidth": 0,
              "ticks": ""
             }
            },
            "type": "scatterternary"
           }
          ],
          "surface": [
           {
            "colorbar": {
             "outlinewidth": 0,
             "ticks": ""
            },
            "colorscale": [
             [
              0,
              "#0d0887"
             ],
             [
              0.1111111111111111,
              "#46039f"
             ],
             [
              0.2222222222222222,
              "#7201a8"
             ],
             [
              0.3333333333333333,
              "#9c179e"
             ],
             [
              0.4444444444444444,
              "#bd3786"
             ],
             [
              0.5555555555555556,
              "#d8576b"
             ],
             [
              0.6666666666666666,
              "#ed7953"
             ],
             [
              0.7777777777777778,
              "#fb9f3a"
             ],
             [
              0.8888888888888888,
              "#fdca26"
             ],
             [
              1,
              "#f0f921"
             ]
            ],
            "type": "surface"
           }
          ],
          "table": [
           {
            "cells": {
             "fill": {
              "color": "#EBF0F8"
             },
             "line": {
              "color": "white"
             }
            },
            "header": {
             "fill": {
              "color": "#C8D4E3"
             },
             "line": {
              "color": "white"
             }
            },
            "type": "table"
           }
          ]
         },
         "layout": {
          "annotationdefaults": {
           "arrowcolor": "#2a3f5f",
           "arrowhead": 0,
           "arrowwidth": 1
          },
          "colorscale": {
           "diverging": [
            [
             0,
             "#8e0152"
            ],
            [
             0.1,
             "#c51b7d"
            ],
            [
             0.2,
             "#de77ae"
            ],
            [
             0.3,
             "#f1b6da"
            ],
            [
             0.4,
             "#fde0ef"
            ],
            [
             0.5,
             "#f7f7f7"
            ],
            [
             0.6,
             "#e6f5d0"
            ],
            [
             0.7,
             "#b8e186"
            ],
            [
             0.8,
             "#7fbc41"
            ],
            [
             0.9,
             "#4d9221"
            ],
            [
             1,
             "#276419"
            ]
           ],
           "sequential": [
            [
             0,
             "#0d0887"
            ],
            [
             0.1111111111111111,
             "#46039f"
            ],
            [
             0.2222222222222222,
             "#7201a8"
            ],
            [
             0.3333333333333333,
             "#9c179e"
            ],
            [
             0.4444444444444444,
             "#bd3786"
            ],
            [
             0.5555555555555556,
             "#d8576b"
            ],
            [
             0.6666666666666666,
             "#ed7953"
            ],
            [
             0.7777777777777778,
             "#fb9f3a"
            ],
            [
             0.8888888888888888,
             "#fdca26"
            ],
            [
             1,
             "#f0f921"
            ]
           ],
           "sequentialminus": [
            [
             0,
             "#0d0887"
            ],
            [
             0.1111111111111111,
             "#46039f"
            ],
            [
             0.2222222222222222,
             "#7201a8"
            ],
            [
             0.3333333333333333,
             "#9c179e"
            ],
            [
             0.4444444444444444,
             "#bd3786"
            ],
            [
             0.5555555555555556,
             "#d8576b"
            ],
            [
             0.6666666666666666,
             "#ed7953"
            ],
            [
             0.7777777777777778,
             "#fb9f3a"
            ],
            [
             0.8888888888888888,
             "#fdca26"
            ],
            [
             1,
             "#f0f921"
            ]
           ]
          },
          "colorway": [
           "#636efa",
           "#EF553B",
           "#00cc96",
           "#ab63fa",
           "#FFA15A",
           "#19d3f3",
           "#FF6692",
           "#B6E880",
           "#FF97FF",
           "#FECB52"
          ],
          "font": {
           "color": "#2a3f5f"
          },
          "geo": {
           "bgcolor": "white",
           "lakecolor": "white",
           "landcolor": "#E5ECF6",
           "showlakes": true,
           "showland": true,
           "subunitcolor": "white"
          },
          "hoverlabel": {
           "align": "left"
          },
          "hovermode": "closest",
          "mapbox": {
           "style": "light"
          },
          "paper_bgcolor": "white",
          "plot_bgcolor": "#E5ECF6",
          "polar": {
           "angularaxis": {
            "gridcolor": "white",
            "linecolor": "white",
            "ticks": ""
           },
           "bgcolor": "#E5ECF6",
           "radialaxis": {
            "gridcolor": "white",
            "linecolor": "white",
            "ticks": ""
           }
          },
          "scene": {
           "xaxis": {
            "backgroundcolor": "#E5ECF6",
            "gridcolor": "white",
            "gridwidth": 2,
            "linecolor": "white",
            "showbackground": true,
            "ticks": "",
            "zerolinecolor": "white"
           },
           "yaxis": {
            "backgroundcolor": "#E5ECF6",
            "gridcolor": "white",
            "gridwidth": 2,
            "linecolor": "white",
            "showbackground": true,
            "ticks": "",
            "zerolinecolor": "white"
           },
           "zaxis": {
            "backgroundcolor": "#E5ECF6",
            "gridcolor": "white",
            "gridwidth": 2,
            "linecolor": "white",
            "showbackground": true,
            "ticks": "",
            "zerolinecolor": "white"
           }
          },
          "shapedefaults": {
           "line": {
            "color": "#2a3f5f"
           }
          },
          "ternary": {
           "aaxis": {
            "gridcolor": "white",
            "linecolor": "white",
            "ticks": ""
           },
           "baxis": {
            "gridcolor": "white",
            "linecolor": "white",
            "ticks": ""
           },
           "bgcolor": "#E5ECF6",
           "caxis": {
            "gridcolor": "white",
            "linecolor": "white",
            "ticks": ""
           }
          },
          "title": {
           "x": 0.05
          },
          "xaxis": {
           "automargin": true,
           "gridcolor": "white",
           "linecolor": "white",
           "ticks": "",
           "zerolinecolor": "white",
           "zerolinewidth": 2
          },
          "yaxis": {
           "automargin": true,
           "gridcolor": "white",
           "linecolor": "white",
           "ticks": "",
           "zerolinecolor": "white",
           "zerolinewidth": 2
          }
         }
        },
        "title": {
         "text": ""
        },
        "width": 400,
        "xaxis": {
         "gridcolor": "#DFDFDF",
         "gridwidth": 1.5,
         "linecolor": "#AFAFAF",
         "linewidth": 2,
         "nticks": 6,
         "showgrid": true,
         "showline": true,
         "title": {
          "text": "Number of Targets Accurately Chosen"
         },
         "zeroline": false,
         "zerolinecolor": "#AFAFAF",
         "zerolinewidth": 2.5
        },
        "yaxis": {
         "gridcolor": "#DFDFDF",
         "gridwidth": 1.5,
         "linecolor": "#AFAFAF",
         "linewidth": 2,
         "nticks": 6,
         "showgrid": true,
         "showline": true,
         "title": {
          "text": "Frequency"
         },
         "zeroline": false,
         "zerolinecolor": "#AFAFAF",
         "zerolinewidth": 2.5
        }
       }
      },
      "text/html": [
       "<div>\n",
       "        \n",
       "        \n",
       "            <div id=\"89c34732-e88a-4937-9c16-9b5a650c5cdd\" class=\"plotly-graph-div\" style=\"height:400px; width:400px;\"></div>\n",
       "            <script type=\"text/javascript\">\n",
       "                require([\"plotly\"], function(Plotly) {\n",
       "                    window.PLOTLYENV=window.PLOTLYENV || {};\n",
       "                    \n",
       "                if (document.getElementById(\"89c34732-e88a-4937-9c16-9b5a650c5cdd\")) {\n",
       "                    Plotly.newPlot(\n",
       "                        '89c34732-e88a-4937-9c16-9b5a650c5cdd',\n",
       "                        [{\"line\": {\"color\": \"rgb(102,194,165)\", \"shape\": \"spline\", \"width\": 3}, \"marker\": {\"color\": \"rgb(102,194,165)\", \"line\": {\"color\": \"black\", \"width\": 1.5}, \"size\": 12}, \"mode\": \"markers+text+lines\", \"name\": \"Target load:3\", \"showlegend\": false, \"text\": \"3\", \"type\": \"scatter\", \"x\": [0, 1, 2, 3], \"y\": [0.006, 0.018, 0.161, 0.815]}, {\"line\": {\"color\": \"rgb(252,141,98)\", \"shape\": \"spline\", \"width\": 3}, \"marker\": {\"color\": \"rgb(252,141,98)\", \"line\": {\"color\": \"black\", \"width\": 1.5}, \"size\": 12}, \"mode\": \"markers+text+lines\", \"name\": \"Target load:4\", \"showlegend\": false, \"text\": \"4\", \"type\": \"scatter\", \"x\": [0, 1, 2, 3, 4], \"y\": [0.001, 0.021, 0.154, 0.325, 0.499]}, {\"line\": {\"color\": \"rgb(141,160,203)\", \"shape\": \"spline\", \"width\": 3}, \"marker\": {\"color\": \"rgb(141,160,203)\", \"line\": {\"color\": \"black\", \"width\": 1.5}, \"size\": 12}, \"mode\": \"markers+text+lines\", \"name\": \"Target load:5\", \"showlegend\": false, \"text\": \"5\", \"type\": \"scatter\", \"x\": [0, 1, 2, 3, 4, 5], \"y\": [0.001, 0.012, 0.126, 0.343, 0.279, 0.239]}, {\"line\": {\"color\": \"rgb(231,138,195)\", \"shape\": \"spline\", \"width\": 3}, \"marker\": {\"color\": \"rgb(231,138,195)\", \"line\": {\"color\": \"black\", \"width\": 1.5}, \"size\": 12}, \"mode\": \"markers+text+lines\", \"name\": \"Target load:6\", \"showlegend\": false, \"text\": \"6\", \"type\": \"scatter\", \"x\": [1, 2, 3, 4, 5, 6], \"y\": [0.006, 0.094, 0.29, 0.33, 0.201, 0.079]}, {\"line\": {\"color\": \"rgb(166,216,84)\", \"shape\": \"spline\", \"width\": 3}, \"marker\": {\"color\": \"rgb(166,216,84)\", \"line\": {\"color\": \"black\", \"width\": 1.5}, \"size\": 12}, \"mode\": \"markers+text+lines\", \"name\": \"Target load:7\", \"showlegend\": false, \"text\": \"7\", \"type\": \"scatter\", \"x\": [1, 2, 3, 4, 5, 6, 7], \"y\": [0.003, 0.038, 0.177, 0.352, 0.279, 0.119, 0.032]}, {\"line\": {\"color\": \"rgb(255,217,47)\", \"shape\": \"spline\", \"width\": 3}, \"marker\": {\"color\": \"rgb(255,217,47)\", \"line\": {\"color\": \"black\", \"width\": 1.5}, \"size\": 12}, \"mode\": \"markers+text+lines\", \"name\": \"Target load:8\", \"showlegend\": false, \"text\": \"8\", \"type\": \"scatter\", \"x\": [1, 2, 3, 4, 5, 6, 7, 8], \"y\": [0.002, 0.03, 0.12, 0.313, 0.345, 0.159, 0.029, 0.002]}],\n",
       "                        {\"font\": {\"color\": \"black\", \"family\": \"Times,Bold\", \"size\": 12}, \"height\": 400, \"paper_bgcolor\": \"rgba(0,0,0,0)\", \"plot_bgcolor\": \"rgba(0,0,0,0)\", \"template\": {\"data\": {\"bar\": [{\"error_x\": {\"color\": \"#2a3f5f\"}, \"error_y\": {\"color\": \"#2a3f5f\"}, \"marker\": {\"line\": {\"color\": \"#E5ECF6\", \"width\": 0.5}}, \"type\": \"bar\"}], \"barpolar\": [{\"marker\": {\"line\": {\"color\": \"#E5ECF6\", \"width\": 0.5}}, \"type\": \"barpolar\"}], \"carpet\": [{\"aaxis\": {\"endlinecolor\": \"#2a3f5f\", \"gridcolor\": \"white\", \"linecolor\": \"white\", \"minorgridcolor\": \"white\", \"startlinecolor\": \"#2a3f5f\"}, \"baxis\": {\"endlinecolor\": \"#2a3f5f\", \"gridcolor\": \"white\", \"linecolor\": \"white\", \"minorgridcolor\": \"white\", \"startlinecolor\": \"#2a3f5f\"}, \"type\": \"carpet\"}], \"choropleth\": [{\"colorbar\": {\"outlinewidth\": 0, \"ticks\": \"\"}, \"type\": \"choropleth\"}], \"contour\": [{\"colorbar\": {\"outlinewidth\": 0, \"ticks\": \"\"}, \"colorscale\": [[0.0, \"#0d0887\"], [0.1111111111111111, \"#46039f\"], [0.2222222222222222, \"#7201a8\"], [0.3333333333333333, \"#9c179e\"], [0.4444444444444444, \"#bd3786\"], [0.5555555555555556, \"#d8576b\"], [0.6666666666666666, \"#ed7953\"], [0.7777777777777778, \"#fb9f3a\"], [0.8888888888888888, \"#fdca26\"], [1.0, \"#f0f921\"]], \"type\": \"contour\"}], \"contourcarpet\": [{\"colorbar\": {\"outlinewidth\": 0, \"ticks\": \"\"}, \"type\": \"contourcarpet\"}], \"heatmap\": [{\"colorbar\": {\"outlinewidth\": 0, \"ticks\": \"\"}, \"colorscale\": [[0.0, \"#0d0887\"], [0.1111111111111111, \"#46039f\"], [0.2222222222222222, \"#7201a8\"], [0.3333333333333333, \"#9c179e\"], [0.4444444444444444, \"#bd3786\"], [0.5555555555555556, \"#d8576b\"], [0.6666666666666666, \"#ed7953\"], [0.7777777777777778, \"#fb9f3a\"], [0.8888888888888888, \"#fdca26\"], [1.0, \"#f0f921\"]], \"type\": \"heatmap\"}], \"heatmapgl\": [{\"colorbar\": {\"outlinewidth\": 0, \"ticks\": \"\"}, \"colorscale\": [[0.0, \"#0d0887\"], [0.1111111111111111, \"#46039f\"], [0.2222222222222222, \"#7201a8\"], [0.3333333333333333, \"#9c179e\"], [0.4444444444444444, \"#bd3786\"], [0.5555555555555556, \"#d8576b\"], [0.6666666666666666, \"#ed7953\"], [0.7777777777777778, \"#fb9f3a\"], [0.8888888888888888, \"#fdca26\"], [1.0, \"#f0f921\"]], \"type\": \"heatmapgl\"}], \"histogram\": [{\"marker\": {\"colorbar\": {\"outlinewidth\": 0, \"ticks\": \"\"}}, \"type\": \"histogram\"}], \"histogram2d\": [{\"colorbar\": {\"outlinewidth\": 0, \"ticks\": \"\"}, \"colorscale\": [[0.0, \"#0d0887\"], [0.1111111111111111, \"#46039f\"], [0.2222222222222222, \"#7201a8\"], [0.3333333333333333, \"#9c179e\"], [0.4444444444444444, \"#bd3786\"], [0.5555555555555556, \"#d8576b\"], [0.6666666666666666, \"#ed7953\"], [0.7777777777777778, \"#fb9f3a\"], [0.8888888888888888, \"#fdca26\"], [1.0, \"#f0f921\"]], \"type\": \"histogram2d\"}], \"histogram2dcontour\": [{\"colorbar\": {\"outlinewidth\": 0, \"ticks\": \"\"}, \"colorscale\": [[0.0, \"#0d0887\"], [0.1111111111111111, \"#46039f\"], [0.2222222222222222, \"#7201a8\"], [0.3333333333333333, \"#9c179e\"], [0.4444444444444444, \"#bd3786\"], [0.5555555555555556, \"#d8576b\"], [0.6666666666666666, \"#ed7953\"], [0.7777777777777778, \"#fb9f3a\"], [0.8888888888888888, \"#fdca26\"], [1.0, \"#f0f921\"]], \"type\": \"histogram2dcontour\"}], \"mesh3d\": [{\"colorbar\": {\"outlinewidth\": 0, \"ticks\": \"\"}, \"type\": \"mesh3d\"}], \"parcoords\": [{\"line\": {\"colorbar\": {\"outlinewidth\": 0, \"ticks\": \"\"}}, \"type\": \"parcoords\"}], \"scatter\": [{\"marker\": {\"colorbar\": {\"outlinewidth\": 0, \"ticks\": \"\"}}, \"type\": \"scatter\"}], \"scatter3d\": [{\"line\": {\"colorbar\": {\"outlinewidth\": 0, \"ticks\": \"\"}}, \"marker\": {\"colorbar\": {\"outlinewidth\": 0, \"ticks\": \"\"}}, \"type\": \"scatter3d\"}], \"scattercarpet\": [{\"marker\": {\"colorbar\": {\"outlinewidth\": 0, \"ticks\": \"\"}}, \"type\": \"scattercarpet\"}], \"scattergeo\": [{\"marker\": {\"colorbar\": {\"outlinewidth\": 0, \"ticks\": \"\"}}, \"type\": \"scattergeo\"}], \"scattergl\": [{\"marker\": {\"colorbar\": {\"outlinewidth\": 0, \"ticks\": \"\"}}, \"type\": \"scattergl\"}], \"scattermapbox\": [{\"marker\": {\"colorbar\": {\"outlinewidth\": 0, \"ticks\": \"\"}}, \"type\": \"scattermapbox\"}], \"scatterpolar\": [{\"marker\": {\"colorbar\": {\"outlinewidth\": 0, \"ticks\": \"\"}}, \"type\": \"scatterpolar\"}], \"scatterpolargl\": [{\"marker\": {\"colorbar\": {\"outlinewidth\": 0, \"ticks\": \"\"}}, \"type\": \"scatterpolargl\"}], \"scatterternary\": [{\"marker\": {\"colorbar\": {\"outlinewidth\": 0, \"ticks\": \"\"}}, \"type\": \"scatterternary\"}], \"surface\": [{\"colorbar\": {\"outlinewidth\": 0, \"ticks\": \"\"}, \"colorscale\": [[0.0, \"#0d0887\"], [0.1111111111111111, \"#46039f\"], [0.2222222222222222, \"#7201a8\"], [0.3333333333333333, \"#9c179e\"], [0.4444444444444444, \"#bd3786\"], [0.5555555555555556, \"#d8576b\"], [0.6666666666666666, \"#ed7953\"], [0.7777777777777778, \"#fb9f3a\"], [0.8888888888888888, \"#fdca26\"], [1.0, \"#f0f921\"]], \"type\": \"surface\"}], \"table\": [{\"cells\": {\"fill\": {\"color\": \"#EBF0F8\"}, \"line\": {\"color\": \"white\"}}, \"header\": {\"fill\": {\"color\": \"#C8D4E3\"}, \"line\": {\"color\": \"white\"}}, \"type\": \"table\"}]}, \"layout\": {\"annotationdefaults\": {\"arrowcolor\": \"#2a3f5f\", \"arrowhead\": 0, \"arrowwidth\": 1}, \"colorscale\": {\"diverging\": [[0, \"#8e0152\"], [0.1, \"#c51b7d\"], [0.2, \"#de77ae\"], [0.3, \"#f1b6da\"], [0.4, \"#fde0ef\"], [0.5, \"#f7f7f7\"], [0.6, \"#e6f5d0\"], [0.7, \"#b8e186\"], [0.8, \"#7fbc41\"], [0.9, \"#4d9221\"], [1, \"#276419\"]], \"sequential\": [[0.0, \"#0d0887\"], [0.1111111111111111, \"#46039f\"], [0.2222222222222222, \"#7201a8\"], [0.3333333333333333, \"#9c179e\"], [0.4444444444444444, \"#bd3786\"], [0.5555555555555556, \"#d8576b\"], [0.6666666666666666, \"#ed7953\"], [0.7777777777777778, \"#fb9f3a\"], [0.8888888888888888, \"#fdca26\"], [1.0, \"#f0f921\"]], \"sequentialminus\": [[0.0, \"#0d0887\"], [0.1111111111111111, \"#46039f\"], [0.2222222222222222, \"#7201a8\"], [0.3333333333333333, \"#9c179e\"], [0.4444444444444444, \"#bd3786\"], [0.5555555555555556, \"#d8576b\"], [0.6666666666666666, \"#ed7953\"], [0.7777777777777778, \"#fb9f3a\"], [0.8888888888888888, \"#fdca26\"], [1.0, \"#f0f921\"]]}, \"colorway\": [\"#636efa\", \"#EF553B\", \"#00cc96\", \"#ab63fa\", \"#FFA15A\", \"#19d3f3\", \"#FF6692\", \"#B6E880\", \"#FF97FF\", \"#FECB52\"], \"font\": {\"color\": \"#2a3f5f\"}, \"geo\": {\"bgcolor\": \"white\", \"lakecolor\": \"white\", \"landcolor\": \"#E5ECF6\", \"showlakes\": true, \"showland\": true, \"subunitcolor\": \"white\"}, \"hoverlabel\": {\"align\": \"left\"}, \"hovermode\": \"closest\", \"mapbox\": {\"style\": \"light\"}, \"paper_bgcolor\": \"white\", \"plot_bgcolor\": \"#E5ECF6\", \"polar\": {\"angularaxis\": {\"gridcolor\": \"white\", \"linecolor\": \"white\", \"ticks\": \"\"}, \"bgcolor\": \"#E5ECF6\", \"radialaxis\": {\"gridcolor\": \"white\", \"linecolor\": \"white\", \"ticks\": \"\"}}, \"scene\": {\"xaxis\": {\"backgroundcolor\": \"#E5ECF6\", \"gridcolor\": \"white\", \"gridwidth\": 2, \"linecolor\": \"white\", \"showbackground\": true, \"ticks\": \"\", \"zerolinecolor\": \"white\"}, \"yaxis\": {\"backgroundcolor\": \"#E5ECF6\", \"gridcolor\": \"white\", \"gridwidth\": 2, \"linecolor\": \"white\", \"showbackground\": true, \"ticks\": \"\", \"zerolinecolor\": \"white\"}, \"zaxis\": {\"backgroundcolor\": \"#E5ECF6\", \"gridcolor\": \"white\", \"gridwidth\": 2, \"linecolor\": \"white\", \"showbackground\": true, \"ticks\": \"\", \"zerolinecolor\": \"white\"}}, \"shapedefaults\": {\"line\": {\"color\": \"#2a3f5f\"}}, \"ternary\": {\"aaxis\": {\"gridcolor\": \"white\", \"linecolor\": \"white\", \"ticks\": \"\"}, \"baxis\": {\"gridcolor\": \"white\", \"linecolor\": \"white\", \"ticks\": \"\"}, \"bgcolor\": \"#E5ECF6\", \"caxis\": {\"gridcolor\": \"white\", \"linecolor\": \"white\", \"ticks\": \"\"}}, \"title\": {\"x\": 0.05}, \"xaxis\": {\"automargin\": true, \"gridcolor\": \"white\", \"linecolor\": \"white\", \"ticks\": \"\", \"zerolinecolor\": \"white\", \"zerolinewidth\": 2}, \"yaxis\": {\"automargin\": true, \"gridcolor\": \"white\", \"linecolor\": \"white\", \"ticks\": \"\", \"zerolinecolor\": \"white\", \"zerolinewidth\": 2}}}, \"title\": {\"text\": \"\"}, \"width\": 400, \"xaxis\": {\"gridcolor\": \"#DFDFDF\", \"gridwidth\": 1.5, \"linecolor\": \"#AFAFAF\", \"linewidth\": 2, \"nticks\": 6, \"showgrid\": true, \"showline\": true, \"title\": {\"text\": \"Number of Targets Accurately Chosen\"}, \"zeroline\": false, \"zerolinecolor\": \"#AFAFAF\", \"zerolinewidth\": 2.5}, \"yaxis\": {\"gridcolor\": \"#DFDFDF\", \"gridwidth\": 1.5, \"linecolor\": \"#AFAFAF\", \"linewidth\": 2, \"nticks\": 6, \"showgrid\": true, \"showline\": true, \"title\": {\"text\": \"Frequency\"}, \"zeroline\": false, \"zerolinecolor\": \"#AFAFAF\", \"zerolinewidth\": 2.5}},\n",
       "                        {\"responsive\": true}\n",
       "                    ).then(function(){\n",
       "                            \n",
       "var gd = document.getElementById('89c34732-e88a-4937-9c16-9b5a650c5cdd');\n",
       "var x = new MutationObserver(function (mutations, observer) {{\n",
       "        var display = window.getComputedStyle(gd).display;\n",
       "        if (!display || display === 'none') {{\n",
       "            console.log([gd, 'removed!']);\n",
       "            Plotly.purge(gd);\n",
       "            observer.disconnect();\n",
       "        }}\n",
       "}});\n",
       "\n",
       "// Listen for the removal of the full notebook cells\n",
       "var notebookContainer = gd.closest('#notebook-container');\n",
       "if (notebookContainer) {{\n",
       "    x.observe(notebookContainer, {childList: true});\n",
       "}}\n",
       "\n",
       "// Listen for the clearing of the current output cell\n",
       "var outputEl = gd.closest('.output');\n",
       "if (outputEl) {{\n",
       "    x.observe(outputEl, {childList: true});\n",
       "}}\n",
       "\n",
       "                        })\n",
       "                };\n",
       "                });\n",
       "            </script>\n",
       "        </div>"
      ]
     },
     "metadata": {},
     "output_type": "display_data"
    }
   ],
   "source": [
    "trace = []\n",
    "import colorlover as cl\n",
    "target_load_colors = cl.scales['6']['qual']['Set2']\n",
    "for i,target in enumerate(numT_select_by_target_load['num_targets'].unique().sort()):\n",
    "    target_load_data = numT_select_by_target_load[numT_select_by_target_load['num_targets']==target]\n",
    "    trace.append(go.Scatter(x = target_load_data['num_targets_chosen'].to_numpy(),\n",
    "                           y = target_load_data['avg_propT'].to_numpy(),\n",
    "                           name = 'Target load:' + str(target),\n",
    "                           mode='markers+text+lines',\n",
    "                           line = dict(shape='spline',width = 3, color = target_load_colors[i]),\n",
    "                           text = str(target),\n",
    "                           showlegend=False, \n",
    "                           marker = dict(size = 12, line = dict(color='black', width = 1.5), color = target_load_colors[i])))\n",
    "    \n",
    "layout = go.Layout(title = '',\n",
    "                  xaxis = dict(title = 'Number of Targets Accurately Chosen'),\n",
    "                  yaxis = dict(title = 'Frequency'))\n",
    "\n",
    "fig = go.Figure(data = trace, layout = layout )\n",
    "#fig['layout'].update(width = 900, height = 600, )\n",
    "fig['layout'].update(width = 400, height = 400, font = dict(family = \"Times,Bold\", size = 12, color = 'black'), plot_bgcolor = 'rgba(0,0,0,0)', paper_bgcolor = 'rgba(0,0,0,0)')\n",
    "fig.update_xaxes(showgrid=True, showline=True, linewidth = 2, linecolor = '#AFAFAF', gridwidth=1.5, gridcolor='#DFDFDF', zeroline=False, zerolinecolor = '#AFAFAF', zerolinewidth = 2.5, nticks = 6)\n",
    "fig.update_yaxes(showgrid=True, showline=True, linewidth = 2, linecolor = '#AFAFAF', gridwidth=1.5, gridcolor='#DFDFDF', zeroline=False, zerolinecolor = '#AFAFAF', zerolinewidth = 2.5, nticks = 6)\n",
    "#fig.show()\n",
    "fig.write_image(\"/Users/supadhy6/Dropbox/Shared with Adi/Results_images/num_targetsChosen_as_function_of_load.png\")\n",
    "fig.write_image(\"/Users/supadhy6/Dropbox/Shared with Adi/Results_images/num_targetsChosen_as_function_of_load.svg\")\n",
    "fig.write_image(\"/Users/supadhy6/Dropbox/Shared with Adi/Results_images/num_targetsChosen_as_function_of_load.pdf\")\n",
    "#py.iplot(fig, filename='split half correlations across speeds')\n",
    "iplot(fig, filename='Number of targets chosen as a function of target load')"
   ]
  },
  {
   "cell_type": "markdown",
   "metadata": {},
   "source": [
    "<a id = section 3.3></a>\n",
    "# [Centroid Model : Number of targets chosen as a function of target load](#section 3.3)"
   ]
  },
  {
   "cell_type": "code",
   "execution_count": 21,
   "metadata": {},
   "outputs": [
    {
     "data": {
      "text/html": [
       "<pre>Parsing JSON records from /Volumes/My Passport/Github/MOT_bayesian_model/data/MOT_correspondences_replication/correspondences_sub_20_Hz_Centroid.json</pre>"
      ],
      "text/plain": [
       "Parsing JSON records from /Volumes/My Passport/Github/MOT_bayesian_model/data/MOT_correspondences_replication/correspondences_sub_20_Hz_Centroid.json"
      ]
     },
     "metadata": {},
     "output_type": "display_data"
    },
    {
     "data": {
      "text/html": [
       "<pre>Successfully parsed an SArray of 12000 elements from the JSON file /Volumes/My Passport/Github/MOT_bayesian_model/data/MOT_correspondences_replication/correspondences_sub_20_Hz_Centroid.json</pre>"
      ],
      "text/plain": [
       "Successfully parsed an SArray of 12000 elements from the JSON file /Volumes/My Passport/Github/MOT_bayesian_model/data/MOT_correspondences_replication/correspondences_sub_20_Hz_Centroid.json"
      ]
     },
     "metadata": {},
     "output_type": "display_data"
    }
   ],
   "source": [
    "import turicreate as tc\n",
    "destPath='./data/MOT_correspondences_replication/'\n",
    "centroid_model_data = tc.SFrame.read_json(destPath+'correspondences_sub_20_Hz_Centroid.json')"
   ]
  },
  {
   "cell_type": "code",
   "execution_count": 22,
   "metadata": {},
   "outputs": [
    {
     "data": {
      "text/html": [
       "<pre>Materializing SFrame</pre>"
      ],
      "text/plain": [
       "Materializing SFrame"
      ]
     },
     "metadata": {},
     "output_type": "display_data"
    }
   ],
   "source": [
    "centroid_model_data['num_targets_chosen'] = centroid_model_data.apply(lambda x: int(x['num_targets']*x['predicted_accuracy']))\n",
    "centroid_model_data.explore()"
   ]
  },
  {
   "cell_type": "code",
   "execution_count": 23,
   "metadata": {},
   "outputs": [],
   "source": [
    "def compute_sum_centroid(x):\n",
    "    sum_counts = centroid_numT_select_by_target_load[centroid_numT_select_by_target_load['num_targets']==x['num_targets']]['count'].sum()\n",
    "    return x['count']/sum_counts"
   ]
  },
  {
   "cell_type": "code",
   "execution_count": 24,
   "metadata": {},
   "outputs": [
    {
     "data": {
      "text/html": [
       "<pre>Materializing SFrame</pre>"
      ],
      "text/plain": [
       "Materializing SFrame"
      ]
     },
     "metadata": {},
     "output_type": "display_data"
    }
   ],
   "source": [
    "centroid_numT_select_by_target_load = centroid_model_data.groupby(['num_targets','num_targets_chosen'],operations = {'count':agg.COUNT('num_targets_chosen')})\n",
    "centroid_numT_select_by_target_load['avg_propT'] = centroid_numT_select_by_target_load.apply(lambda x: compute_sum_centroid(x))\n",
    "centroid_numT_select_by_target_load = centroid_numT_select_by_target_load.sort(['num_targets','num_targets_chosen'])\n",
    "centroid_numT_select_by_target_load.explore()"
   ]
  },
  {
   "cell_type": "code",
   "execution_count": 25,
   "metadata": {},
   "outputs": [
    {
     "data": {
      "application/vnd.plotly.v1+json": {
       "config": {
        "plotlyServerURL": "https://plot.ly"
       },
       "data": [
        {
         "line": {
          "color": "rgb(102,194,165)",
          "shape": "spline",
          "width": 3
         },
         "marker": {
          "color": "rgb(102,194,165)",
          "line": {
           "color": "black",
           "width": 1.5
          },
          "opacity": 1,
          "size": 18
         },
         "mode": "markers+text+lines",
         "name": "Target load:3",
         "showlegend": false,
         "text": "3",
         "type": "scatter",
         "x": [
          0,
          2,
          3
         ],
         "y": [
          0.041,
          0.3445,
          0.6145
         ]
        },
        {
         "line": {
          "color": "rgb(252,141,98)",
          "shape": "spline",
          "width": 3
         },
         "marker": {
          "color": "rgb(252,141,98)",
          "line": {
           "color": "black",
           "width": 1.5
          },
          "opacity": 1,
          "size": 18
         },
         "mode": "markers+text+lines",
         "name": "Target load:4",
         "showlegend": false,
         "text": "4",
         "type": "scatter",
         "x": [
          0,
          1,
          2,
          3,
          4
         ],
         "y": [
          0.0005,
          0.015,
          0.161,
          0.456,
          0.3675
         ]
        },
        {
         "line": {
          "color": "rgb(141,160,203)",
          "shape": "spline",
          "width": 3
         },
         "marker": {
          "color": "rgb(141,160,203)",
          "line": {
           "color": "black",
           "width": 1.5
          },
          "opacity": 1,
          "size": 18
         },
         "mode": "markers+text+lines",
         "name": "Target load:5",
         "showlegend": false,
         "text": "5",
         "type": "scatter",
         "x": [
          1,
          2,
          3,
          4,
          5
         ],
         "y": [
          0.004,
          0.0665,
          0.241,
          0.407,
          0.2815
         ]
        },
        {
         "line": {
          "color": "rgb(231,138,195)",
          "shape": "spline",
          "width": 3
         },
         "marker": {
          "color": "rgb(231,138,195)",
          "line": {
           "color": "black",
           "width": 1.5
          },
          "opacity": 1,
          "size": 18
         },
         "mode": "markers+text+lines",
         "name": "Target load:6",
         "showlegend": false,
         "text": "6",
         "type": "scatter",
         "x": [
          1,
          3,
          4,
          6
         ],
         "y": [
          0.0275,
          0.1215,
          0.7545,
          0.0965
         ]
        },
        {
         "line": {
          "color": "rgb(166,216,84)",
          "shape": "spline",
          "width": 3
         },
         "marker": {
          "color": "rgb(166,216,84)",
          "line": {
           "color": "black",
           "width": 1.5
          },
          "opacity": 1,
          "size": 18
         },
         "mode": "markers+text+lines",
         "name": "Target load:7",
         "showlegend": false,
         "text": "7",
         "type": "scatter",
         "x": [
          1,
          2,
          4,
          5,
          6,
          7
         ],
         "y": [
          0.0095,
          0.0745,
          0.198,
          0.344,
          0.2675,
          0.1065
         ]
        },
        {
         "line": {
          "color": "rgb(255,217,47)",
          "shape": "spline",
          "width": 3
         },
         "marker": {
          "color": "rgb(255,217,47)",
          "line": {
           "color": "black",
           "width": 1.5
          },
          "opacity": 1,
          "size": 18
         },
         "mode": "markers+text+lines",
         "name": "Target load:8",
         "showlegend": false,
         "text": "8",
         "type": "scatter",
         "x": [
          2,
          3,
          4,
          5,
          6,
          7,
          8
         ],
         "y": [
          0.0065,
          0.0485,
          0.1895,
          0.3135,
          0.298,
          0.1275,
          0.0165
         ]
        }
       ],
       "layout": {
        "font": {
         "color": "black",
         "family": "Times,Bold",
         "size": 14
        },
        "height": 500,
        "paper_bgcolor": "rgba(0,0,0,0)",
        "plot_bgcolor": "rgba(0,0,0,0)",
        "template": {
         "data": {
          "bar": [
           {
            "error_x": {
             "color": "#2a3f5f"
            },
            "error_y": {
             "color": "#2a3f5f"
            },
            "marker": {
             "line": {
              "color": "#E5ECF6",
              "width": 0.5
             }
            },
            "type": "bar"
           }
          ],
          "barpolar": [
           {
            "marker": {
             "line": {
              "color": "#E5ECF6",
              "width": 0.5
             }
            },
            "type": "barpolar"
           }
          ],
          "carpet": [
           {
            "aaxis": {
             "endlinecolor": "#2a3f5f",
             "gridcolor": "white",
             "linecolor": "white",
             "minorgridcolor": "white",
             "startlinecolor": "#2a3f5f"
            },
            "baxis": {
             "endlinecolor": "#2a3f5f",
             "gridcolor": "white",
             "linecolor": "white",
             "minorgridcolor": "white",
             "startlinecolor": "#2a3f5f"
            },
            "type": "carpet"
           }
          ],
          "choropleth": [
           {
            "colorbar": {
             "outlinewidth": 0,
             "ticks": ""
            },
            "type": "choropleth"
           }
          ],
          "contour": [
           {
            "colorbar": {
             "outlinewidth": 0,
             "ticks": ""
            },
            "colorscale": [
             [
              0,
              "#0d0887"
             ],
             [
              0.1111111111111111,
              "#46039f"
             ],
             [
              0.2222222222222222,
              "#7201a8"
             ],
             [
              0.3333333333333333,
              "#9c179e"
             ],
             [
              0.4444444444444444,
              "#bd3786"
             ],
             [
              0.5555555555555556,
              "#d8576b"
             ],
             [
              0.6666666666666666,
              "#ed7953"
             ],
             [
              0.7777777777777778,
              "#fb9f3a"
             ],
             [
              0.8888888888888888,
              "#fdca26"
             ],
             [
              1,
              "#f0f921"
             ]
            ],
            "type": "contour"
           }
          ],
          "contourcarpet": [
           {
            "colorbar": {
             "outlinewidth": 0,
             "ticks": ""
            },
            "type": "contourcarpet"
           }
          ],
          "heatmap": [
           {
            "colorbar": {
             "outlinewidth": 0,
             "ticks": ""
            },
            "colorscale": [
             [
              0,
              "#0d0887"
             ],
             [
              0.1111111111111111,
              "#46039f"
             ],
             [
              0.2222222222222222,
              "#7201a8"
             ],
             [
              0.3333333333333333,
              "#9c179e"
             ],
             [
              0.4444444444444444,
              "#bd3786"
             ],
             [
              0.5555555555555556,
              "#d8576b"
             ],
             [
              0.6666666666666666,
              "#ed7953"
             ],
             [
              0.7777777777777778,
              "#fb9f3a"
             ],
             [
              0.8888888888888888,
              "#fdca26"
             ],
             [
              1,
              "#f0f921"
             ]
            ],
            "type": "heatmap"
           }
          ],
          "heatmapgl": [
           {
            "colorbar": {
             "outlinewidth": 0,
             "ticks": ""
            },
            "colorscale": [
             [
              0,
              "#0d0887"
             ],
             [
              0.1111111111111111,
              "#46039f"
             ],
             [
              0.2222222222222222,
              "#7201a8"
             ],
             [
              0.3333333333333333,
              "#9c179e"
             ],
             [
              0.4444444444444444,
              "#bd3786"
             ],
             [
              0.5555555555555556,
              "#d8576b"
             ],
             [
              0.6666666666666666,
              "#ed7953"
             ],
             [
              0.7777777777777778,
              "#fb9f3a"
             ],
             [
              0.8888888888888888,
              "#fdca26"
             ],
             [
              1,
              "#f0f921"
             ]
            ],
            "type": "heatmapgl"
           }
          ],
          "histogram": [
           {
            "marker": {
             "colorbar": {
              "outlinewidth": 0,
              "ticks": ""
             }
            },
            "type": "histogram"
           }
          ],
          "histogram2d": [
           {
            "colorbar": {
             "outlinewidth": 0,
             "ticks": ""
            },
            "colorscale": [
             [
              0,
              "#0d0887"
             ],
             [
              0.1111111111111111,
              "#46039f"
             ],
             [
              0.2222222222222222,
              "#7201a8"
             ],
             [
              0.3333333333333333,
              "#9c179e"
             ],
             [
              0.4444444444444444,
              "#bd3786"
             ],
             [
              0.5555555555555556,
              "#d8576b"
             ],
             [
              0.6666666666666666,
              "#ed7953"
             ],
             [
              0.7777777777777778,
              "#fb9f3a"
             ],
             [
              0.8888888888888888,
              "#fdca26"
             ],
             [
              1,
              "#f0f921"
             ]
            ],
            "type": "histogram2d"
           }
          ],
          "histogram2dcontour": [
           {
            "colorbar": {
             "outlinewidth": 0,
             "ticks": ""
            },
            "colorscale": [
             [
              0,
              "#0d0887"
             ],
             [
              0.1111111111111111,
              "#46039f"
             ],
             [
              0.2222222222222222,
              "#7201a8"
             ],
             [
              0.3333333333333333,
              "#9c179e"
             ],
             [
              0.4444444444444444,
              "#bd3786"
             ],
             [
              0.5555555555555556,
              "#d8576b"
             ],
             [
              0.6666666666666666,
              "#ed7953"
             ],
             [
              0.7777777777777778,
              "#fb9f3a"
             ],
             [
              0.8888888888888888,
              "#fdca26"
             ],
             [
              1,
              "#f0f921"
             ]
            ],
            "type": "histogram2dcontour"
           }
          ],
          "mesh3d": [
           {
            "colorbar": {
             "outlinewidth": 0,
             "ticks": ""
            },
            "type": "mesh3d"
           }
          ],
          "parcoords": [
           {
            "line": {
             "colorbar": {
              "outlinewidth": 0,
              "ticks": ""
             }
            },
            "type": "parcoords"
           }
          ],
          "scatter": [
           {
            "marker": {
             "colorbar": {
              "outlinewidth": 0,
              "ticks": ""
             }
            },
            "type": "scatter"
           }
          ],
          "scatter3d": [
           {
            "line": {
             "colorbar": {
              "outlinewidth": 0,
              "ticks": ""
             }
            },
            "marker": {
             "colorbar": {
              "outlinewidth": 0,
              "ticks": ""
             }
            },
            "type": "scatter3d"
           }
          ],
          "scattercarpet": [
           {
            "marker": {
             "colorbar": {
              "outlinewidth": 0,
              "ticks": ""
             }
            },
            "type": "scattercarpet"
           }
          ],
          "scattergeo": [
           {
            "marker": {
             "colorbar": {
              "outlinewidth": 0,
              "ticks": ""
             }
            },
            "type": "scattergeo"
           }
          ],
          "scattergl": [
           {
            "marker": {
             "colorbar": {
              "outlinewidth": 0,
              "ticks": ""
             }
            },
            "type": "scattergl"
           }
          ],
          "scattermapbox": [
           {
            "marker": {
             "colorbar": {
              "outlinewidth": 0,
              "ticks": ""
             }
            },
            "type": "scattermapbox"
           }
          ],
          "scatterpolar": [
           {
            "marker": {
             "colorbar": {
              "outlinewidth": 0,
              "ticks": ""
             }
            },
            "type": "scatterpolar"
           }
          ],
          "scatterpolargl": [
           {
            "marker": {
             "colorbar": {
              "outlinewidth": 0,
              "ticks": ""
             }
            },
            "type": "scatterpolargl"
           }
          ],
          "scatterternary": [
           {
            "marker": {
             "colorbar": {
              "outlinewidth": 0,
              "ticks": ""
             }
            },
            "type": "scatterternary"
           }
          ],
          "surface": [
           {
            "colorbar": {
             "outlinewidth": 0,
             "ticks": ""
            },
            "colorscale": [
             [
              0,
              "#0d0887"
             ],
             [
              0.1111111111111111,
              "#46039f"
             ],
             [
              0.2222222222222222,
              "#7201a8"
             ],
             [
              0.3333333333333333,
              "#9c179e"
             ],
             [
              0.4444444444444444,
              "#bd3786"
             ],
             [
              0.5555555555555556,
              "#d8576b"
             ],
             [
              0.6666666666666666,
              "#ed7953"
             ],
             [
              0.7777777777777778,
              "#fb9f3a"
             ],
             [
              0.8888888888888888,
              "#fdca26"
             ],
             [
              1,
              "#f0f921"
             ]
            ],
            "type": "surface"
           }
          ],
          "table": [
           {
            "cells": {
             "fill": {
              "color": "#EBF0F8"
             },
             "line": {
              "color": "white"
             }
            },
            "header": {
             "fill": {
              "color": "#C8D4E3"
             },
             "line": {
              "color": "white"
             }
            },
            "type": "table"
           }
          ]
         },
         "layout": {
          "annotationdefaults": {
           "arrowcolor": "#2a3f5f",
           "arrowhead": 0,
           "arrowwidth": 1
          },
          "colorscale": {
           "diverging": [
            [
             0,
             "#8e0152"
            ],
            [
             0.1,
             "#c51b7d"
            ],
            [
             0.2,
             "#de77ae"
            ],
            [
             0.3,
             "#f1b6da"
            ],
            [
             0.4,
             "#fde0ef"
            ],
            [
             0.5,
             "#f7f7f7"
            ],
            [
             0.6,
             "#e6f5d0"
            ],
            [
             0.7,
             "#b8e186"
            ],
            [
             0.8,
             "#7fbc41"
            ],
            [
             0.9,
             "#4d9221"
            ],
            [
             1,
             "#276419"
            ]
           ],
           "sequential": [
            [
             0,
             "#0d0887"
            ],
            [
             0.1111111111111111,
             "#46039f"
            ],
            [
             0.2222222222222222,
             "#7201a8"
            ],
            [
             0.3333333333333333,
             "#9c179e"
            ],
            [
             0.4444444444444444,
             "#bd3786"
            ],
            [
             0.5555555555555556,
             "#d8576b"
            ],
            [
             0.6666666666666666,
             "#ed7953"
            ],
            [
             0.7777777777777778,
             "#fb9f3a"
            ],
            [
             0.8888888888888888,
             "#fdca26"
            ],
            [
             1,
             "#f0f921"
            ]
           ],
           "sequentialminus": [
            [
             0,
             "#0d0887"
            ],
            [
             0.1111111111111111,
             "#46039f"
            ],
            [
             0.2222222222222222,
             "#7201a8"
            ],
            [
             0.3333333333333333,
             "#9c179e"
            ],
            [
             0.4444444444444444,
             "#bd3786"
            ],
            [
             0.5555555555555556,
             "#d8576b"
            ],
            [
             0.6666666666666666,
             "#ed7953"
            ],
            [
             0.7777777777777778,
             "#fb9f3a"
            ],
            [
             0.8888888888888888,
             "#fdca26"
            ],
            [
             1,
             "#f0f921"
            ]
           ]
          },
          "colorway": [
           "#636efa",
           "#EF553B",
           "#00cc96",
           "#ab63fa",
           "#FFA15A",
           "#19d3f3",
           "#FF6692",
           "#B6E880",
           "#FF97FF",
           "#FECB52"
          ],
          "font": {
           "color": "#2a3f5f"
          },
          "geo": {
           "bgcolor": "white",
           "lakecolor": "white",
           "landcolor": "#E5ECF6",
           "showlakes": true,
           "showland": true,
           "subunitcolor": "white"
          },
          "hoverlabel": {
           "align": "left"
          },
          "hovermode": "closest",
          "mapbox": {
           "style": "light"
          },
          "paper_bgcolor": "white",
          "plot_bgcolor": "#E5ECF6",
          "polar": {
           "angularaxis": {
            "gridcolor": "white",
            "linecolor": "white",
            "ticks": ""
           },
           "bgcolor": "#E5ECF6",
           "radialaxis": {
            "gridcolor": "white",
            "linecolor": "white",
            "ticks": ""
           }
          },
          "scene": {
           "xaxis": {
            "backgroundcolor": "#E5ECF6",
            "gridcolor": "white",
            "gridwidth": 2,
            "linecolor": "white",
            "showbackground": true,
            "ticks": "",
            "zerolinecolor": "white"
           },
           "yaxis": {
            "backgroundcolor": "#E5ECF6",
            "gridcolor": "white",
            "gridwidth": 2,
            "linecolor": "white",
            "showbackground": true,
            "ticks": "",
            "zerolinecolor": "white"
           },
           "zaxis": {
            "backgroundcolor": "#E5ECF6",
            "gridcolor": "white",
            "gridwidth": 2,
            "linecolor": "white",
            "showbackground": true,
            "ticks": "",
            "zerolinecolor": "white"
           }
          },
          "shapedefaults": {
           "line": {
            "color": "#2a3f5f"
           }
          },
          "ternary": {
           "aaxis": {
            "gridcolor": "white",
            "linecolor": "white",
            "ticks": ""
           },
           "baxis": {
            "gridcolor": "white",
            "linecolor": "white",
            "ticks": ""
           },
           "bgcolor": "#E5ECF6",
           "caxis": {
            "gridcolor": "white",
            "linecolor": "white",
            "ticks": ""
           }
          },
          "title": {
           "x": 0.05
          },
          "xaxis": {
           "automargin": true,
           "gridcolor": "white",
           "linecolor": "white",
           "ticks": "",
           "zerolinecolor": "white",
           "zerolinewidth": 2
          },
          "yaxis": {
           "automargin": true,
           "gridcolor": "white",
           "linecolor": "white",
           "ticks": "",
           "zerolinecolor": "white",
           "zerolinewidth": 2
          }
         }
        },
        "title": {
         "text": ""
        },
        "width": 500,
        "xaxis": {
         "gridcolor": "#DFDFDF",
         "gridwidth": 1.5,
         "linecolor": "#AFAFAF",
         "linewidth": 2,
         "nticks": 6,
         "showgrid": true,
         "showline": true,
         "title": {
          "text": "Number of Targets Accurately Chosen"
         },
         "zeroline": false,
         "zerolinecolor": "#AFAFAF",
         "zerolinewidth": 2.5
        },
        "yaxis": {
         "gridcolor": "#DFDFDF",
         "gridwidth": 1.5,
         "linecolor": "#AFAFAF",
         "linewidth": 2,
         "nticks": 6,
         "showgrid": true,
         "showline": true,
         "title": {
          "text": "Frequency"
         },
         "zeroline": false,
         "zerolinecolor": "#AFAFAF",
         "zerolinewidth": 2.5
        }
       }
      },
      "text/html": [
       "<div>\n",
       "        \n",
       "        \n",
       "            <div id=\"62fee570-9fe1-455d-b469-074e7c7e492d\" class=\"plotly-graph-div\" style=\"height:500px; width:500px;\"></div>\n",
       "            <script type=\"text/javascript\">\n",
       "                require([\"plotly\"], function(Plotly) {\n",
       "                    window.PLOTLYENV=window.PLOTLYENV || {};\n",
       "                    \n",
       "                if (document.getElementById(\"62fee570-9fe1-455d-b469-074e7c7e492d\")) {\n",
       "                    Plotly.newPlot(\n",
       "                        '62fee570-9fe1-455d-b469-074e7c7e492d',\n",
       "                        [{\"line\": {\"color\": \"rgb(102,194,165)\", \"shape\": \"spline\", \"width\": 3}, \"marker\": {\"color\": \"rgb(102,194,165)\", \"line\": {\"color\": \"black\", \"width\": 1.5}, \"opacity\": 1.0, \"size\": 18}, \"mode\": \"markers+text+lines\", \"name\": \"Target load:3\", \"showlegend\": false, \"text\": \"3\", \"type\": \"scatter\", \"x\": [0, 2, 3], \"y\": [0.041, 0.3445, 0.6145]}, {\"line\": {\"color\": \"rgb(252,141,98)\", \"shape\": \"spline\", \"width\": 3}, \"marker\": {\"color\": \"rgb(252,141,98)\", \"line\": {\"color\": \"black\", \"width\": 1.5}, \"opacity\": 1.0, \"size\": 18}, \"mode\": \"markers+text+lines\", \"name\": \"Target load:4\", \"showlegend\": false, \"text\": \"4\", \"type\": \"scatter\", \"x\": [0, 1, 2, 3, 4], \"y\": [0.0005, 0.015, 0.161, 0.456, 0.3675]}, {\"line\": {\"color\": \"rgb(141,160,203)\", \"shape\": \"spline\", \"width\": 3}, \"marker\": {\"color\": \"rgb(141,160,203)\", \"line\": {\"color\": \"black\", \"width\": 1.5}, \"opacity\": 1.0, \"size\": 18}, \"mode\": \"markers+text+lines\", \"name\": \"Target load:5\", \"showlegend\": false, \"text\": \"5\", \"type\": \"scatter\", \"x\": [1, 2, 3, 4, 5], \"y\": [0.004, 0.0665, 0.241, 0.407, 0.2815]}, {\"line\": {\"color\": \"rgb(231,138,195)\", \"shape\": \"spline\", \"width\": 3}, \"marker\": {\"color\": \"rgb(231,138,195)\", \"line\": {\"color\": \"black\", \"width\": 1.5}, \"opacity\": 1.0, \"size\": 18}, \"mode\": \"markers+text+lines\", \"name\": \"Target load:6\", \"showlegend\": false, \"text\": \"6\", \"type\": \"scatter\", \"x\": [1, 3, 4, 6], \"y\": [0.0275, 0.1215, 0.7545, 0.0965]}, {\"line\": {\"color\": \"rgb(166,216,84)\", \"shape\": \"spline\", \"width\": 3}, \"marker\": {\"color\": \"rgb(166,216,84)\", \"line\": {\"color\": \"black\", \"width\": 1.5}, \"opacity\": 1.0, \"size\": 18}, \"mode\": \"markers+text+lines\", \"name\": \"Target load:7\", \"showlegend\": false, \"text\": \"7\", \"type\": \"scatter\", \"x\": [1, 2, 4, 5, 6, 7], \"y\": [0.0095, 0.0745, 0.198, 0.344, 0.2675, 0.1065]}, {\"line\": {\"color\": \"rgb(255,217,47)\", \"shape\": \"spline\", \"width\": 3}, \"marker\": {\"color\": \"rgb(255,217,47)\", \"line\": {\"color\": \"black\", \"width\": 1.5}, \"opacity\": 1.0, \"size\": 18}, \"mode\": \"markers+text+lines\", \"name\": \"Target load:8\", \"showlegend\": false, \"text\": \"8\", \"type\": \"scatter\", \"x\": [2, 3, 4, 5, 6, 7, 8], \"y\": [0.0065, 0.0485, 0.1895, 0.3135, 0.298, 0.1275, 0.0165]}],\n",
       "                        {\"font\": {\"color\": \"black\", \"family\": \"Times,Bold\", \"size\": 14}, \"height\": 500, \"paper_bgcolor\": \"rgba(0,0,0,0)\", \"plot_bgcolor\": \"rgba(0,0,0,0)\", \"template\": {\"data\": {\"bar\": [{\"error_x\": {\"color\": \"#2a3f5f\"}, \"error_y\": {\"color\": \"#2a3f5f\"}, \"marker\": {\"line\": {\"color\": \"#E5ECF6\", \"width\": 0.5}}, \"type\": \"bar\"}], \"barpolar\": [{\"marker\": {\"line\": {\"color\": \"#E5ECF6\", \"width\": 0.5}}, \"type\": \"barpolar\"}], \"carpet\": [{\"aaxis\": {\"endlinecolor\": \"#2a3f5f\", \"gridcolor\": \"white\", \"linecolor\": \"white\", \"minorgridcolor\": \"white\", \"startlinecolor\": \"#2a3f5f\"}, \"baxis\": {\"endlinecolor\": \"#2a3f5f\", \"gridcolor\": \"white\", \"linecolor\": \"white\", \"minorgridcolor\": \"white\", \"startlinecolor\": \"#2a3f5f\"}, \"type\": \"carpet\"}], \"choropleth\": [{\"colorbar\": {\"outlinewidth\": 0, \"ticks\": \"\"}, \"type\": \"choropleth\"}], \"contour\": [{\"colorbar\": {\"outlinewidth\": 0, \"ticks\": \"\"}, \"colorscale\": [[0.0, \"#0d0887\"], [0.1111111111111111, \"#46039f\"], [0.2222222222222222, \"#7201a8\"], [0.3333333333333333, \"#9c179e\"], [0.4444444444444444, \"#bd3786\"], [0.5555555555555556, \"#d8576b\"], [0.6666666666666666, \"#ed7953\"], [0.7777777777777778, \"#fb9f3a\"], [0.8888888888888888, \"#fdca26\"], [1.0, \"#f0f921\"]], \"type\": \"contour\"}], \"contourcarpet\": [{\"colorbar\": {\"outlinewidth\": 0, \"ticks\": \"\"}, \"type\": \"contourcarpet\"}], \"heatmap\": [{\"colorbar\": {\"outlinewidth\": 0, \"ticks\": \"\"}, \"colorscale\": [[0.0, \"#0d0887\"], [0.1111111111111111, \"#46039f\"], [0.2222222222222222, \"#7201a8\"], [0.3333333333333333, \"#9c179e\"], [0.4444444444444444, \"#bd3786\"], [0.5555555555555556, \"#d8576b\"], [0.6666666666666666, \"#ed7953\"], [0.7777777777777778, \"#fb9f3a\"], [0.8888888888888888, \"#fdca26\"], [1.0, \"#f0f921\"]], \"type\": \"heatmap\"}], \"heatmapgl\": [{\"colorbar\": {\"outlinewidth\": 0, \"ticks\": \"\"}, \"colorscale\": [[0.0, \"#0d0887\"], [0.1111111111111111, \"#46039f\"], [0.2222222222222222, \"#7201a8\"], [0.3333333333333333, \"#9c179e\"], [0.4444444444444444, \"#bd3786\"], [0.5555555555555556, \"#d8576b\"], [0.6666666666666666, \"#ed7953\"], [0.7777777777777778, \"#fb9f3a\"], [0.8888888888888888, \"#fdca26\"], [1.0, \"#f0f921\"]], \"type\": \"heatmapgl\"}], \"histogram\": [{\"marker\": {\"colorbar\": {\"outlinewidth\": 0, \"ticks\": \"\"}}, \"type\": \"histogram\"}], \"histogram2d\": [{\"colorbar\": {\"outlinewidth\": 0, \"ticks\": \"\"}, \"colorscale\": [[0.0, \"#0d0887\"], [0.1111111111111111, \"#46039f\"], [0.2222222222222222, \"#7201a8\"], [0.3333333333333333, \"#9c179e\"], [0.4444444444444444, \"#bd3786\"], [0.5555555555555556, \"#d8576b\"], [0.6666666666666666, \"#ed7953\"], [0.7777777777777778, \"#fb9f3a\"], [0.8888888888888888, \"#fdca26\"], [1.0, \"#f0f921\"]], \"type\": \"histogram2d\"}], \"histogram2dcontour\": [{\"colorbar\": {\"outlinewidth\": 0, \"ticks\": \"\"}, \"colorscale\": [[0.0, \"#0d0887\"], [0.1111111111111111, \"#46039f\"], [0.2222222222222222, \"#7201a8\"], [0.3333333333333333, \"#9c179e\"], [0.4444444444444444, \"#bd3786\"], [0.5555555555555556, \"#d8576b\"], [0.6666666666666666, \"#ed7953\"], [0.7777777777777778, \"#fb9f3a\"], [0.8888888888888888, \"#fdca26\"], [1.0, \"#f0f921\"]], \"type\": \"histogram2dcontour\"}], \"mesh3d\": [{\"colorbar\": {\"outlinewidth\": 0, \"ticks\": \"\"}, \"type\": \"mesh3d\"}], \"parcoords\": [{\"line\": {\"colorbar\": {\"outlinewidth\": 0, \"ticks\": \"\"}}, \"type\": \"parcoords\"}], \"scatter\": [{\"marker\": {\"colorbar\": {\"outlinewidth\": 0, \"ticks\": \"\"}}, \"type\": \"scatter\"}], \"scatter3d\": [{\"line\": {\"colorbar\": {\"outlinewidth\": 0, \"ticks\": \"\"}}, \"marker\": {\"colorbar\": {\"outlinewidth\": 0, \"ticks\": \"\"}}, \"type\": \"scatter3d\"}], \"scattercarpet\": [{\"marker\": {\"colorbar\": {\"outlinewidth\": 0, \"ticks\": \"\"}}, \"type\": \"scattercarpet\"}], \"scattergeo\": [{\"marker\": {\"colorbar\": {\"outlinewidth\": 0, \"ticks\": \"\"}}, \"type\": \"scattergeo\"}], \"scattergl\": [{\"marker\": {\"colorbar\": {\"outlinewidth\": 0, \"ticks\": \"\"}}, \"type\": \"scattergl\"}], \"scattermapbox\": [{\"marker\": {\"colorbar\": {\"outlinewidth\": 0, \"ticks\": \"\"}}, \"type\": \"scattermapbox\"}], \"scatterpolar\": [{\"marker\": {\"colorbar\": {\"outlinewidth\": 0, \"ticks\": \"\"}}, \"type\": \"scatterpolar\"}], \"scatterpolargl\": [{\"marker\": {\"colorbar\": {\"outlinewidth\": 0, \"ticks\": \"\"}}, \"type\": \"scatterpolargl\"}], \"scatterternary\": [{\"marker\": {\"colorbar\": {\"outlinewidth\": 0, \"ticks\": \"\"}}, \"type\": \"scatterternary\"}], \"surface\": [{\"colorbar\": {\"outlinewidth\": 0, \"ticks\": \"\"}, \"colorscale\": [[0.0, \"#0d0887\"], [0.1111111111111111, \"#46039f\"], [0.2222222222222222, \"#7201a8\"], [0.3333333333333333, \"#9c179e\"], [0.4444444444444444, \"#bd3786\"], [0.5555555555555556, \"#d8576b\"], [0.6666666666666666, \"#ed7953\"], [0.7777777777777778, \"#fb9f3a\"], [0.8888888888888888, \"#fdca26\"], [1.0, \"#f0f921\"]], \"type\": \"surface\"}], \"table\": [{\"cells\": {\"fill\": {\"color\": \"#EBF0F8\"}, \"line\": {\"color\": \"white\"}}, \"header\": {\"fill\": {\"color\": \"#C8D4E3\"}, \"line\": {\"color\": \"white\"}}, \"type\": \"table\"}]}, \"layout\": {\"annotationdefaults\": {\"arrowcolor\": \"#2a3f5f\", \"arrowhead\": 0, \"arrowwidth\": 1}, \"colorscale\": {\"diverging\": [[0, \"#8e0152\"], [0.1, \"#c51b7d\"], [0.2, \"#de77ae\"], [0.3, \"#f1b6da\"], [0.4, \"#fde0ef\"], [0.5, \"#f7f7f7\"], [0.6, \"#e6f5d0\"], [0.7, \"#b8e186\"], [0.8, \"#7fbc41\"], [0.9, \"#4d9221\"], [1, \"#276419\"]], \"sequential\": [[0.0, \"#0d0887\"], [0.1111111111111111, \"#46039f\"], [0.2222222222222222, \"#7201a8\"], [0.3333333333333333, \"#9c179e\"], [0.4444444444444444, \"#bd3786\"], [0.5555555555555556, \"#d8576b\"], [0.6666666666666666, \"#ed7953\"], [0.7777777777777778, \"#fb9f3a\"], [0.8888888888888888, \"#fdca26\"], [1.0, \"#f0f921\"]], \"sequentialminus\": [[0.0, \"#0d0887\"], [0.1111111111111111, \"#46039f\"], [0.2222222222222222, \"#7201a8\"], [0.3333333333333333, \"#9c179e\"], [0.4444444444444444, \"#bd3786\"], [0.5555555555555556, \"#d8576b\"], [0.6666666666666666, \"#ed7953\"], [0.7777777777777778, \"#fb9f3a\"], [0.8888888888888888, \"#fdca26\"], [1.0, \"#f0f921\"]]}, \"colorway\": [\"#636efa\", \"#EF553B\", \"#00cc96\", \"#ab63fa\", \"#FFA15A\", \"#19d3f3\", \"#FF6692\", \"#B6E880\", \"#FF97FF\", \"#FECB52\"], \"font\": {\"color\": \"#2a3f5f\"}, \"geo\": {\"bgcolor\": \"white\", \"lakecolor\": \"white\", \"landcolor\": \"#E5ECF6\", \"showlakes\": true, \"showland\": true, \"subunitcolor\": \"white\"}, \"hoverlabel\": {\"align\": \"left\"}, \"hovermode\": \"closest\", \"mapbox\": {\"style\": \"light\"}, \"paper_bgcolor\": \"white\", \"plot_bgcolor\": \"#E5ECF6\", \"polar\": {\"angularaxis\": {\"gridcolor\": \"white\", \"linecolor\": \"white\", \"ticks\": \"\"}, \"bgcolor\": \"#E5ECF6\", \"radialaxis\": {\"gridcolor\": \"white\", \"linecolor\": \"white\", \"ticks\": \"\"}}, \"scene\": {\"xaxis\": {\"backgroundcolor\": \"#E5ECF6\", \"gridcolor\": \"white\", \"gridwidth\": 2, \"linecolor\": \"white\", \"showbackground\": true, \"ticks\": \"\", \"zerolinecolor\": \"white\"}, \"yaxis\": {\"backgroundcolor\": \"#E5ECF6\", \"gridcolor\": \"white\", \"gridwidth\": 2, \"linecolor\": \"white\", \"showbackground\": true, \"ticks\": \"\", \"zerolinecolor\": \"white\"}, \"zaxis\": {\"backgroundcolor\": \"#E5ECF6\", \"gridcolor\": \"white\", \"gridwidth\": 2, \"linecolor\": \"white\", \"showbackground\": true, \"ticks\": \"\", \"zerolinecolor\": \"white\"}}, \"shapedefaults\": {\"line\": {\"color\": \"#2a3f5f\"}}, \"ternary\": {\"aaxis\": {\"gridcolor\": \"white\", \"linecolor\": \"white\", \"ticks\": \"\"}, \"baxis\": {\"gridcolor\": \"white\", \"linecolor\": \"white\", \"ticks\": \"\"}, \"bgcolor\": \"#E5ECF6\", \"caxis\": {\"gridcolor\": \"white\", \"linecolor\": \"white\", \"ticks\": \"\"}}, \"title\": {\"x\": 0.05}, \"xaxis\": {\"automargin\": true, \"gridcolor\": \"white\", \"linecolor\": \"white\", \"ticks\": \"\", \"zerolinecolor\": \"white\", \"zerolinewidth\": 2}, \"yaxis\": {\"automargin\": true, \"gridcolor\": \"white\", \"linecolor\": \"white\", \"ticks\": \"\", \"zerolinecolor\": \"white\", \"zerolinewidth\": 2}}}, \"title\": {\"text\": \"\"}, \"width\": 500, \"xaxis\": {\"gridcolor\": \"#DFDFDF\", \"gridwidth\": 1.5, \"linecolor\": \"#AFAFAF\", \"linewidth\": 2, \"nticks\": 6, \"showgrid\": true, \"showline\": true, \"title\": {\"text\": \"Number of Targets Accurately Chosen\"}, \"zeroline\": false, \"zerolinecolor\": \"#AFAFAF\", \"zerolinewidth\": 2.5}, \"yaxis\": {\"gridcolor\": \"#DFDFDF\", \"gridwidth\": 1.5, \"linecolor\": \"#AFAFAF\", \"linewidth\": 2, \"nticks\": 6, \"showgrid\": true, \"showline\": true, \"title\": {\"text\": \"Frequency\"}, \"zeroline\": false, \"zerolinecolor\": \"#AFAFAF\", \"zerolinewidth\": 2.5}},\n",
       "                        {\"responsive\": true}\n",
       "                    ).then(function(){\n",
       "                            \n",
       "var gd = document.getElementById('62fee570-9fe1-455d-b469-074e7c7e492d');\n",
       "var x = new MutationObserver(function (mutations, observer) {{\n",
       "        var display = window.getComputedStyle(gd).display;\n",
       "        if (!display || display === 'none') {{\n",
       "            console.log([gd, 'removed!']);\n",
       "            Plotly.purge(gd);\n",
       "            observer.disconnect();\n",
       "        }}\n",
       "}});\n",
       "\n",
       "// Listen for the removal of the full notebook cells\n",
       "var notebookContainer = gd.closest('#notebook-container');\n",
       "if (notebookContainer) {{\n",
       "    x.observe(notebookContainer, {childList: true});\n",
       "}}\n",
       "\n",
       "// Listen for the clearing of the current output cell\n",
       "var outputEl = gd.closest('.output');\n",
       "if (outputEl) {{\n",
       "    x.observe(outputEl, {childList: true});\n",
       "}}\n",
       "\n",
       "                        })\n",
       "                };\n",
       "                });\n",
       "            </script>\n",
       "        </div>"
      ]
     },
     "metadata": {},
     "output_type": "display_data"
    }
   ],
   "source": [
    "trace = []\n",
    "import colorlover as cl\n",
    "target_load_colors = cl.scales['6']['qual']['Set2']\n",
    "for i,target in enumerate(centroid_numT_select_by_target_load['num_targets'].unique().sort()):\n",
    "    target_load_data = centroid_numT_select_by_target_load[centroid_numT_select_by_target_load['num_targets']==target]\n",
    "    trace.append(go.Scatter(x = target_load_data['num_targets_chosen'].to_numpy(),\n",
    "                           y = target_load_data['avg_propT'].to_numpy(),\n",
    "                           name = 'Target load:' + str(target),\n",
    "                           mode='markers+text+lines',\n",
    "                           line = dict(shape='spline',width = 3, color = target_load_colors[i]),\n",
    "                           text = str(target),\n",
    "                           showlegend=False, \n",
    "                           marker = dict(size = 18, opacity = 1.0, line = dict(color='black', width = 1.5), color = target_load_colors[i])))\n",
    "    \n",
    "layout = go.Layout(title = '',\n",
    "                  xaxis = dict(title = 'Number of Targets Accurately Chosen'),\n",
    "                  yaxis = dict(title = 'Frequency'))\n",
    "\n",
    "fig = go.Figure(data = trace, layout = layout )\n",
    "#fig['layout'].update(width = 900, height = 600, )\n",
    "fig['layout'].update(width = 500, height = 500, font = dict(size = 14, family = 'Times,Bold', color='black'), plot_bgcolor = 'rgba(0,0,0,0)', paper_bgcolor = 'rgba(0,0,0,0)')\n",
    "fig.update_xaxes(showgrid=True, showline=True, linewidth = 2, linecolor = '#AFAFAF', gridwidth=1.5, gridcolor='#DFDFDF', zeroline=False, zerolinecolor = '#AFAFAF', zerolinewidth = 2.5, nticks = 6)\n",
    "fig.update_yaxes(showgrid=True, showline=True, linewidth = 2, linecolor = '#AFAFAF', gridwidth=1.5, gridcolor='#DFDFDF', zeroline=False, zerolinecolor = '#AFAFAF', zerolinewidth = 2.5, nticks = 6)\n",
    "fig.show()\n",
    "fig.write_image(\"/Users/supadhy6/Dropbox/Shared with Adi/Results_images/Centroid_model_num_targetsChosen_as_function_of_load.png\")\n",
    "fig.write_image(\"/Users/supadhy6/Dropbox/Shared with Adi/Results_images/Centroid_model_num_targetsChosen_as_function_of_load.svg\")\n",
    "fig.write_image(\"/Users/supadhy6/Dropbox/Shared with Adi/Results_images/Centroid_model_num_targetsChosen_as_function_of_load.pdf\")\n",
    "#py.iplot(fig, filename='split half correlations across speeds')\n",
    "#py.iplot(fig, filename='Number of targets chosen as a function of target load')"
   ]
  }
 ],
 "metadata": {
  "anaconda-cloud": {},
  "kernelspec": {
   "display_name": "adiLab (3.7)",
   "language": "python",
   "name": "adilab"
  },
  "language_info": {
   "codemirror_mode": {
    "name": "ipython",
    "version": 3
   },
   "file_extension": ".py",
   "mimetype": "text/x-python",
   "name": "python",
   "nbconvert_exporter": "python",
   "pygments_lexer": "ipython3",
   "version": "3.6.0"
  },
  "toc": {
   "base_numbering": 1,
   "nav_menu": {},
   "number_sections": true,
   "sideBar": true,
   "skip_h1_title": false,
   "title_cell": "Table of Contents",
   "title_sidebar": "Contents",
   "toc_cell": true,
   "toc_position": {},
   "toc_section_display": true,
   "toc_window_display": false
  }
 },
 "nbformat": 4,
 "nbformat_minor": 1
}

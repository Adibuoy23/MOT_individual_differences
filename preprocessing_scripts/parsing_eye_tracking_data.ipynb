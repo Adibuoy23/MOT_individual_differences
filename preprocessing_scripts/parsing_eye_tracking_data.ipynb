{
 "cells": [
  {
   "cell_type": "code",
   "execution_count": 1,
   "metadata": {},
   "outputs": [],
   "source": [
    "import pandas as pd\n",
    "import numpy as np\n",
    "import sys\n",
    "import os\n",
    "import scipy.io\n",
    "import re\n",
    "import turicreate as tc"
   ]
  },
  {
   "cell_type": "code",
   "execution_count": 2,
   "metadata": {},
   "outputs": [
    {
     "name": "stdout",
     "output_type": "stream",
     "text": [
      "137\n"
     ]
    }
   ],
   "source": [
    "sub_num = 137\n",
    "sampling_rate = 1000\n",
    "ascii_path = '../data/eye_tracking_raw_files/'\n",
    "trial_order_path = '../data/Trial_order_files/'\n",
    "trajectory_path = '../data/processed_files/MOT_json_files/'\n",
    "processed_eye_data = '../data/processed_files/MOT_pre_trial_json_files/MOT_pre_trial_entire_duration_json_files/'\n",
    "for file in os.listdir('./data/eye_tracking_raw_files/'):\n",
    "    if str('{0:03}'.format(sub_num)) in file:\n",
    "        print(file)\n",
    "        sub_dir = file\n",
    "ascii_path = ascii_path+sub_dir+'/'"
   ]
  },
  {
   "cell_type": "code",
   "execution_count": 3,
   "metadata": {},
   "outputs": [
    {
     "data": {
      "text/plain": [
       "'./data/eye_tracking_raw_files/137/'"
      ]
     },
     "execution_count": 3,
     "metadata": {},
     "output_type": "execute_result"
    }
   ],
   "source": [
    "ascii_path"
   ]
  },
  {
   "cell_type": "code",
   "execution_count": 4,
   "metadata": {},
   "outputs": [
    {
     "data": {
      "text/plain": [
       "'./data/Trial_order_files/'"
      ]
     },
     "execution_count": 4,
     "metadata": {},
     "output_type": "execute_result"
    }
   ],
   "source": [
    "trial_order_path"
   ]
  },
  {
   "cell_type": "code",
   "execution_count": 5,
   "metadata": {},
   "outputs": [],
   "source": [
    "TARGET_ON = 'TargetOn'\n",
    "TARGET_OFF = 'TrackingStart'\n",
    "EFIX = 'EFIX'\n",
    "\n",
    "def expand_efix(chunk_parts, chunk_list):\n",
    "    ts_start = int(chunk_parts[2])\n",
    "    ts_end = int(chunk_parts[3])\n",
    "    efix_entries = [c for c in chunk_list if int(c[1]) <= ts_end and int(c[1]) >= ts_start]\n",
    "    for entry in efix_entries:\n",
    "        entry[len(entry) - 1] = float(0.75)\n",
    "        #entry[len(entry) - 2] = float(chunk_parts[-1])"
   ]
  },
  {
   "cell_type": "code",
   "execution_count": 6,
   "metadata": {
    "scrolled": true
   },
   "outputs": [
    {
     "name": "stdout",
     "output_type": "stream",
     "text": [
      "137\n",
      "1\n",
      "[120  96  29  37  19  31  89  88 116 109  32   3 118  52  93  65  13  66\n",
      " 112   8  98  51 102  27  42  74  57 110  71  75]\n",
      "137\n",
      "2\n",
      "[ 69  59  67 104  48  30   4  83 100  35  97  55  73  78  86  39  25  14\n",
      "  38 117  44 108  95  77  11  43  53  60 101  90]\n",
      "137\n",
      "3\n",
      "[114   5  64  81  87  94  80  56 103  76   2  45 105  50  26  18  22  49\n",
      " 106  34  61  28  46  24 107  58  85  47  84  23]\n",
      "137\n",
      "4\n",
      "[ 40  91  16  99  41  12  70  33 113  79  68  20  62 111   1  15  82  72\n",
      "  21  92  36  10   6  63  17  54 119   7   9 115]\n"
     ]
    }
   ],
   "source": [
    "rand_p = 0\n",
    "num_trials_per_block = 30\n",
    "t = []\n",
    "\n",
    "for file in os.listdir(ascii_path):\n",
    "    if '.asc' in file:\n",
    "        sub_num = file[-9:-6]\n",
    "        print(sub_num)\n",
    "        with open(ascii_path+file) as ascii_file:\n",
    "            start_chunk = False\n",
    "            chunk_index = 0\n",
    "            chunk_list = []\n",
    "            block_num = int(file[-5])\n",
    "            print(block_num)\n",
    "            trial_order_mat = scipy.io.loadmat(trial_order_path+'TrialOrder_'+str(sub_num)+'.mat')\n",
    "            trial_values = trial_order_mat['p'].flatten()[num_trials_per_block*(block_num-1):num_trials_per_block*(block_num)]\n",
    "            t.append(trial_values)\n",
    "            print(trial_values)\n",
    "            for line in ascii_file:\n",
    "                line = line.replace('\\n', '').replace('\\r', '').replace('\\t', ' ').replace('...', '')\n",
    "                chunk_parts = [p for p in line.split(' ') if p != '']\n",
    "\n",
    "                if len(chunk_parts) >= 3:\n",
    "                    if chunk_parts[2] == TARGET_ON:\n",
    "                        start_chunk = True\n",
    "                        rand_p = trial_values[chunk_index]\n",
    "                        chunk_index += 1\n",
    "                    elif chunk_parts[2] == TARGET_OFF:\n",
    "                        start_chunk = False\n",
    "\n",
    "                if start_chunk == True:\n",
    "                    if chunk_parts[0] == EFIX:\n",
    "                        expand_efix(chunk_parts, chunk_list)\n",
    "                        continue\n",
    "                    else:\n",
    "                        try:\n",
    "                            time_stamp = int(chunk_parts[0])\n",
    "                            chunk_list.append([rand_p, time_stamp, float(chunk_parts[1]),\n",
    "                                               float(chunk_parts[2]), float(chunk_parts[3]), float(0.25)])\n",
    "                        except ValueError:\n",
    "                            if chunk_parts[0].isdigit() and chunk_parts[1] == '.' and chunk_parts[2] == '.':\n",
    "                                chunk_list.append([rand_p, int(chunk_parts[0]), -230491, -230491, -230491, float(0.5)])\n",
    "                            continue\n",
    "\n",
    "        with open(os.path.splitext(ascii_path+file)[0]+'_pre_tracking_entire_duration.csv', 'w') as csv_file:\n",
    "            csv_file.write('Trial Number, Timestamp, X, Y, Pupil Area, Fixation flag\\n')\n",
    "            if sampling_rate == 1000:\n",
    "                for l in chunk_list[::2]:\n",
    "                    csv_file.write(str(l).replace('[', '').replace(']', '') + '\\n')\n",
    "            else:\n",
    "                for l in chunk_list:\n",
    "                    csv_file.write(str(l).replace('[', '').replace(']', '') + '\\n')"
   ]
  },
  {
   "cell_type": "code",
   "execution_count": 7,
   "metadata": {},
   "outputs": [
    {
     "data": {
      "text/plain": [
       "array([[120,  96,  29,  37,  19,  31,  89,  88, 116, 109,  32,   3, 118,\n",
       "         52,  93,  65,  13,  66, 112,   8,  98,  51, 102,  27,  42,  74,\n",
       "         57, 110,  71,  75,  69,  59,  67, 104,  48,  30,   4,  83, 100,\n",
       "         35,  97,  55,  73,  78,  86,  39,  25,  14,  38, 117,  44, 108,\n",
       "         95,  77,  11,  43,  53,  60, 101,  90, 114,   5,  64,  81,  87,\n",
       "         94,  80,  56, 103,  76,   2,  45, 105,  50,  26,  18,  22,  49,\n",
       "        106,  34,  61,  28,  46,  24, 107,  58,  85,  47,  84,  23,  40,\n",
       "         91,  16,  99,  41,  12,  70,  33, 113,  79,  68,  20,  62, 111,\n",
       "          1,  15,  82,  72,  21,  92,  36,  10,   6,  63,  17,  54, 119,\n",
       "          7,   9, 115]], dtype=uint8)"
      ]
     },
     "execution_count": 7,
     "metadata": {},
     "output_type": "execute_result"
    }
   ],
   "source": [
    "trial_order_mat['p']"
   ]
  },
  {
   "cell_type": "code",
   "execution_count": 8,
   "metadata": {},
   "outputs": [],
   "source": [
    "num_trials = np.shape(np.unique(trial_order_mat['p']))[0]"
   ]
  },
  {
   "cell_type": "code",
   "execution_count": 9,
   "metadata": {},
   "outputs": [
    {
     "data": {
      "text/plain": [
       "'137'"
      ]
     },
     "execution_count": 9,
     "metadata": {},
     "output_type": "execute_result"
    }
   ],
   "source": [
    "sub_dir"
   ]
  },
  {
   "cell_type": "code",
   "execution_count": 10,
   "metadata": {
    "scrolled": true
   },
   "outputs": [
    {
     "data": {
      "text/html": [
       "<pre>Finished parsing file /Volumes/My Passport/Github/MOT_bayesian_model/data/eye_tracking_raw_files/137/eye_MOT_137_1_pre_tracking_entire_duration.csv</pre>"
      ],
      "text/plain": [
       "Finished parsing file /Volumes/My Passport/Github/MOT_bayesian_model/data/eye_tracking_raw_files/137/eye_MOT_137_1_pre_tracking_entire_duration.csv"
      ]
     },
     "metadata": {},
     "output_type": "display_data"
    },
    {
     "data": {
      "text/html": [
       "<pre>Parsing completed. Parsed 30506 lines in 0.053995 secs.</pre>"
      ],
      "text/plain": [
       "Parsing completed. Parsed 30506 lines in 0.053995 secs."
      ]
     },
     "metadata": {},
     "output_type": "display_data"
    },
    {
     "data": {
      "text/html": [
       "<pre>Finished parsing file /Volumes/My Passport/Github/MOT_bayesian_model/data/eye_tracking_raw_files/137/eye_MOT_137_2_pre_tracking_entire_duration.csv</pre>"
      ],
      "text/plain": [
       "Finished parsing file /Volumes/My Passport/Github/MOT_bayesian_model/data/eye_tracking_raw_files/137/eye_MOT_137_2_pre_tracking_entire_duration.csv"
      ]
     },
     "metadata": {},
     "output_type": "display_data"
    },
    {
     "data": {
      "text/html": [
       "<pre>Parsing completed. Parsed 29484 lines in 0.024596 secs.</pre>"
      ],
      "text/plain": [
       "Parsing completed. Parsed 29484 lines in 0.024596 secs."
      ]
     },
     "metadata": {},
     "output_type": "display_data"
    },
    {
     "data": {
      "text/html": [
       "<pre>Finished parsing file /Volumes/My Passport/Github/MOT_bayesian_model/data/eye_tracking_raw_files/137/eye_MOT_137_3_pre_tracking_entire_duration.csv</pre>"
      ],
      "text/plain": [
       "Finished parsing file /Volumes/My Passport/Github/MOT_bayesian_model/data/eye_tracking_raw_files/137/eye_MOT_137_3_pre_tracking_entire_duration.csv"
      ]
     },
     "metadata": {},
     "output_type": "display_data"
    },
    {
     "data": {
      "text/html": [
       "<pre>Parsing completed. Parsed 30499 lines in 0.025923 secs.</pre>"
      ],
      "text/plain": [
       "Parsing completed. Parsed 30499 lines in 0.025923 secs."
      ]
     },
     "metadata": {},
     "output_type": "display_data"
    },
    {
     "data": {
      "text/html": [
       "<pre>Finished parsing file /Volumes/My Passport/Github/MOT_bayesian_model/data/eye_tracking_raw_files/137/eye_MOT_137_4_pre_tracking_entire_duration.csv</pre>"
      ],
      "text/plain": [
       "Finished parsing file /Volumes/My Passport/Github/MOT_bayesian_model/data/eye_tracking_raw_files/137/eye_MOT_137_4_pre_tracking_entire_duration.csv"
      ]
     },
     "metadata": {},
     "output_type": "display_data"
    },
    {
     "data": {
      "text/html": [
       "<pre>Parsing completed. Parsed 30502 lines in 0.026724 secs.</pre>"
      ],
      "text/plain": [
       "Parsing completed. Parsed 30502 lines in 0.026724 secs."
      ]
     },
     "metadata": {},
     "output_type": "display_data"
    }
   ],
   "source": [
    "eye_data = tc.SFrame.read_csv(ascii_path+'eye_MOT_'+sub_dir+'_1_pre_tracking_entire_duration.csv', column_type_hints = [int,int,float,float,float, float])\n",
    "eye_data = eye_data.append(tc.SFrame.read_csv(ascii_path+'eye_MOT_'+sub_dir+'_2_pre_tracking_entire_duration.csv',column_type_hints = [int,int,float,float,float, float]))\n",
    "eye_data = eye_data.append(tc.SFrame.read_csv(ascii_path+'eye_MOT_'+sub_dir+'_3_pre_tracking_entire_duration.csv',column_type_hints = [int,int,float,float,float, float]))\n",
    "eye_data = eye_data.append(tc.SFrame.read_csv(ascii_path+'eye_MOT_'+sub_dir+'_4_pre_tracking_entire_duration.csv',column_type_hints = [int,int,float,float,float, float]))\n",
    "eye_data = eye_data.sort('Trial Number')\n",
    "#eye_data.explore()"
   ]
  },
  {
   "cell_type": "code",
   "execution_count": 11,
   "metadata": {},
   "outputs": [
    {
     "data": {
      "text/plain": [
       "1008.2583333333333"
      ]
     },
     "execution_count": 11,
     "metadata": {},
     "output_type": "execute_result"
    }
   ],
   "source": [
    "len(eye_data)/120"
   ]
  },
  {
   "cell_type": "code",
   "execution_count": 12,
   "metadata": {},
   "outputs": [
    {
     "data": {
      "text/plain": [
       "119"
      ]
     },
     "execution_count": 12,
     "metadata": {},
     "output_type": "execute_result"
    }
   ],
   "source": [
    "len(eye_data['Trial Number'].unique().sort())"
   ]
  },
  {
   "cell_type": "code",
   "execution_count": 13,
   "metadata": {},
   "outputs": [
    {
     "data": {
      "text/plain": [
       "array([  1,   1,   2,   2,   3,   3,   4,   4,   5,   5,   6,   6,   7,\n",
       "         7,   8,   8,   9,   9,  10,  10,  11,  11,  12,  12,  13,  13,\n",
       "        14,  14,  15,  15,  16,  16,  17,  17,  18,  18,  19,  19,  20,\n",
       "        20,  21,  21,  22,  22,  23,  23,  24,  24,  25,  25,  26,  26,\n",
       "        27,  27,  28,  28,  29,  29,  30,  30,  31,  31,  32,  32,  33,\n",
       "        33,  34,  34,  35,  35,  36,  36,  37,  37,  38,  38,  39,  39,\n",
       "        40,  40,  41,  41,  42,  42,  43,  43,  44,  44,  45,  45,  46,\n",
       "        46,  47,  47,  48,  48,  49,  49,  50,  50,  51,  51,  52,  52,\n",
       "        53,  53,  54,  54,  55,  55,  56,  56,  57,  57,  58,  58,  59,\n",
       "        59,  60,  60,  61,  61,  62,  62,  63,  63,  64,  64,  65,  65,\n",
       "        66,  66,  67,  67,  68,  68,  69,  69,  70,  70,  71,  71,  72,\n",
       "        72,  73,  73,  74,  74,  75,  75,  76,  76,  77,  77,  78,  78,\n",
       "        79,  79,  80,  80,  81,  81,  82,  82,  83,  83,  84,  84,  85,\n",
       "        85,  86,  86,  87,  87,  88,  88,  89,  89,  90,  90,  91,  91,\n",
       "        92,  92,  93,  93,  94,  94,  95,  95,  96,  96,  97,  97,  98,\n",
       "        98,  99,  99, 100, 100, 101, 101, 102, 102, 103, 103, 104, 104,\n",
       "       105, 105, 106, 106, 107, 107, 108, 108, 109, 109, 110, 110, 111,\n",
       "       111, 112, 112, 113, 113, 114, 114, 115, 115, 116, 116, 117, 117,\n",
       "       118, 118, 119, 119, 120, 120])"
      ]
     },
     "execution_count": 13,
     "metadata": {},
     "output_type": "execute_result"
    }
   ],
   "source": [
    "np.repeat(np.arange(1,num_trials+1),2)"
   ]
  },
  {
   "cell_type": "code",
   "execution_count": 14,
   "metadata": {},
   "outputs": [],
   "source": [
    "monitor_refresh_rate = 60\n",
    "eye_tracker_sampling_rate = 500\n",
    "trial_duration = 2\n",
    "num_frames_per_trial = int(monitor_refresh_rate * trial_duration)\n",
    "num_trials = 120 #len(eye_data['Trial Number'].unique())\n",
    "samples = np.floor(eye_tracker_sampling_rate/monitor_refresh_rate)"
   ]
  },
  {
   "cell_type": "code",
   "execution_count": 15,
   "metadata": {},
   "outputs": [
    {
     "name": "stdout",
     "output_type": "stream",
     "text": [
      "69\n"
     ]
    }
   ],
   "source": [
    "downsampled_eye_data = np.zeros([num_frames_per_trial*num_trials,6]) # 6 because of the format of the eye tracking asc file\n",
    "downsampled_eye_data[:,0] = np.repeat(np.arange(1,num_trials+1),num_frames_per_trial)\n",
    "for trial in range(1,num_trials+1):\n",
    "    if trial in eye_data['Trial Number'].unique().sort():\n",
    "        trial_array = np.zeros([num_frames_per_trial,6])\n",
    "        trial_df = eye_data[eye_data['Trial Number']==trial][0::samples] # get every nth element from the data frame\n",
    "        trial_df = trial_df[0:num_frames_per_trial]\n",
    "        array = trial_df.to_numpy()\n",
    "        array[array==-230491] = np.nan\n",
    "        trial_array[0:len(trial_df),:] = array\n",
    "        trial_array[len(trial_df):,:] = trial_array[len(trial_df)-1,:]\n",
    "        downsampled_eye_data[(trial-1)*num_frames_per_trial:(trial*num_frames_per_trial),:]=trial_array\n",
    "    else:\n",
    "        print(trial)\n",
    "        downsampled_eye_data[(trial-1)*num_frames_per_trial:(trial*num_frames_per_trial),1:]=np.nan"
   ]
  },
  {
   "cell_type": "code",
   "execution_count": 16,
   "metadata": {},
   "outputs": [],
   "source": [
    "# trial = 32\n",
    "# eye_data[eye_data['Trial Number']==trial].explore()"
   ]
  },
  {
   "cell_type": "code",
   "execution_count": 17,
   "metadata": {},
   "outputs": [],
   "source": [
    "def loops_fill(arr):\n",
    "    out = arr.copy()\n",
    "    for row_idx in range(out.shape[0]):\n",
    "        for col_idx in range(1, out.shape[1]): #1st column is trial number, so excluding that column\n",
    "            if pd.isnull(out[row_idx, col_idx]):\n",
    "                if out[row_idx,0]==out[row_idx-1,0]:\n",
    "                    out[row_idx, col_idx] = out[row_idx-1, col_idx]\n",
    "                else:\n",
    "                    trial_value = out[row_idx,0]\n",
    "                    trial_rows = np.where(out==trial_value)[0]\n",
    "                    col_vals =  np.array(out[np.where(out==trial_value)[0],col_idx],dtype=np.float)\n",
    "                    print(col_vals)\n",
    "                    print(np.nanmean(col_vals))\n",
    "                    out[row_idx, col_idx] = np.nanmean(col_vals)\n",
    "                    \n",
    "    return out"
   ]
  },
  {
   "cell_type": "code",
   "execution_count": 18,
   "metadata": {},
   "outputs": [
    {
     "data": {
      "text/plain": [
       "array([[1.0000000e+00, 1.0818693e+07, 6.4640000e+02, 5.6370000e+02,\n",
       "        1.8000000e+03, 2.5000000e-01],\n",
       "       [1.0000000e+00, 1.0818683e+07, 6.4630000e+02, 5.6770000e+02,\n",
       "        1.7990000e+03, 2.5000000e-01],\n",
       "       [1.0000000e+00, 1.0818667e+07, 6.4470000e+02, 5.6770000e+02,\n",
       "        1.7880000e+03, 2.5000000e-01],\n",
       "       ...,\n",
       "       [1.2000000e+02, 7.9170190e+06, 5.2990000e+02, 3.5820000e+02,\n",
       "        2.1410000e+03, 7.5000000e-01],\n",
       "       [1.2000000e+02, 7.9170350e+06, 5.2970000e+02, 3.5830000e+02,\n",
       "        2.1520000e+03, 7.5000000e-01],\n",
       "       [1.2000000e+02, 7.9170510e+06, 5.2980000e+02, 3.5490000e+02,\n",
       "        2.1570000e+03, 7.5000000e-01]])"
      ]
     },
     "execution_count": 18,
     "metadata": {},
     "output_type": "execute_result"
    }
   ],
   "source": [
    "downsampled_eye_data"
   ]
  },
  {
   "cell_type": "code",
   "execution_count": 19,
   "metadata": {},
   "outputs": [],
   "source": [
    "deye_data = tc.SFrame(downsampled_eye_data).unpack('X1')\n",
    "\n",
    "deye_data = deye_data.rename(dict(zip(deye_data.column_names(),\n",
    "                                ['Trial Number','Time stamp','X','Y','Pupil size','Fixation flag'])))\n",
    "deye_data = deye_data.sort(['Trial Number','Time stamp'])\n",
    "#downsampled_eye_data.explore()"
   ]
  },
  {
   "cell_type": "code",
   "execution_count": 20,
   "metadata": {},
   "outputs": [
    {
     "name": "stdout",
     "output_type": "stream",
     "text": [
      "[nan nan nan nan nan nan nan nan nan nan nan nan nan nan nan nan nan nan\n",
      " nan nan nan nan nan nan nan nan nan nan nan nan nan nan nan nan nan nan\n",
      " nan nan nan nan nan nan nan nan nan nan nan nan nan nan nan nan nan nan\n",
      " nan nan nan nan nan nan nan nan nan nan nan nan nan nan nan nan nan nan\n",
      " nan nan nan nan nan nan nan nan nan nan nan nan nan nan nan nan nan nan\n",
      " nan nan nan nan nan nan nan nan nan nan nan nan nan nan nan nan nan nan\n",
      " nan nan nan nan nan nan nan nan nan nan nan nan]\n",
      "nan\n",
      "[nan nan nan nan nan nan nan nan nan nan nan nan nan nan nan nan nan nan\n",
      " nan nan nan nan nan nan nan nan nan nan nan nan nan nan nan nan nan nan\n",
      " nan nan nan nan nan nan nan nan nan nan nan nan nan nan nan nan nan nan\n",
      " nan nan nan nan nan nan nan nan nan nan nan nan nan nan nan nan nan nan\n",
      " nan nan nan nan nan nan nan nan nan nan nan nan nan nan nan nan nan nan\n",
      " nan nan nan nan nan nan nan nan nan nan nan nan nan nan nan nan nan nan\n",
      " nan nan nan nan nan nan nan nan nan nan nan nan]\n",
      "nan\n",
      "[nan nan nan nan nan nan nan nan nan nan nan nan nan nan nan nan nan nan\n",
      " nan nan nan nan nan nan nan nan nan nan nan nan nan nan nan nan nan nan\n",
      " nan nan nan nan nan nan nan nan nan nan nan nan nan nan nan nan nan nan\n",
      " nan nan nan nan nan nan nan nan nan nan nan nan nan nan nan nan nan nan\n",
      " nan nan nan nan nan nan nan nan nan nan nan nan nan nan nan nan nan nan\n",
      " nan nan nan nan nan nan nan nan nan nan nan nan nan nan nan nan nan nan\n",
      " nan nan nan nan nan nan nan nan nan nan nan nan]\n",
      "nan\n",
      "[nan nan nan nan nan nan nan nan nan nan nan nan nan nan nan nan nan nan\n",
      " nan nan nan nan nan nan nan nan nan nan nan nan nan nan nan nan nan nan\n",
      " nan nan nan nan nan nan nan nan nan nan nan nan nan nan nan nan nan nan\n",
      " nan nan nan nan nan nan nan nan nan nan nan nan nan nan nan nan nan nan\n",
      " nan nan nan nan nan nan nan nan nan nan nan nan nan nan nan nan nan nan\n",
      " nan nan nan nan nan nan nan nan nan nan nan nan nan nan nan nan nan nan\n",
      " nan nan nan nan nan nan nan nan nan nan nan nan]\n",
      "nan\n",
      "[nan nan nan nan nan nan nan nan nan nan nan nan nan nan nan nan nan nan\n",
      " nan nan nan nan nan nan nan nan nan nan nan nan nan nan nan nan nan nan\n",
      " nan nan nan nan nan nan nan nan nan nan nan nan nan nan nan nan nan nan\n",
      " nan nan nan nan nan nan nan nan nan nan nan nan nan nan nan nan nan nan\n",
      " nan nan nan nan nan nan nan nan nan nan nan nan nan nan nan nan nan nan\n",
      " nan nan nan nan nan nan nan nan nan nan nan nan nan nan nan nan nan nan\n",
      " nan nan nan nan nan nan nan nan nan nan nan nan]\n",
      "nan\n"
     ]
    },
    {
     "name": "stderr",
     "output_type": "stream",
     "text": [
      "/Users/supadhy6/miniconda3/envs/adiLab/lib/python3.6/site-packages/ipykernel_launcher.py:13: RuntimeWarning: Mean of empty slice\n",
      "  del sys.path[0]\n",
      "/Users/supadhy6/miniconda3/envs/adiLab/lib/python3.6/site-packages/ipykernel_launcher.py:14: RuntimeWarning: Mean of empty slice\n",
      "  \n"
     ]
    }
   ],
   "source": [
    "deye_data_array = deye_data.to_numpy()\n",
    "processed_array = loops_fill(deye_data_array)\n",
    "out_eye_data = tc.SFrame(processed_array.astype(float))\n",
    "out_eye_data = out_eye_data.unpack('X1')\n",
    "out_eye_data = out_eye_data.rename(dict(zip(out_eye_data.column_names(),\n",
    "                                ['Trial Number','Time stamp','X','Y','Pupil size','Fixation flag'])))\n",
    "#eye_data.show()"
   ]
  },
  {
   "cell_type": "code",
   "execution_count": 21,
   "metadata": {},
   "outputs": [
    {
     "data": {
      "text/html": [
       "<pre>Parsing JSON records from /Volumes/My Passport/Github/MOT_bayesian_model/data/MOT_json_files/behavior test trajectories_0_0_random_with fixation from sub_137</pre>"
      ],
      "text/plain": [
       "Parsing JSON records from /Volumes/My Passport/Github/MOT_bayesian_model/data/MOT_json_files/behavior test trajectories_0_0_random_with fixation from sub_137"
      ]
     },
     "metadata": {},
     "output_type": "display_data"
    },
    {
     "data": {
      "text/html": [
       "<pre>Successfully parsed an SArray of 72000 elements from the JSON file /Volumes/My Passport/Github/MOT_bayesian_model/data/MOT_json_files/behavior test trajectories_0_0_random_with fixation from sub_137</pre>"
      ],
      "text/plain": [
       "Successfully parsed an SArray of 72000 elements from the JSON file /Volumes/My Passport/Github/MOT_bayesian_model/data/MOT_json_files/behavior test trajectories_0_0_random_with fixation from sub_137"
      ]
     },
     "metadata": {},
     "output_type": "display_data"
    }
   ],
   "source": [
    "trajectory_data = tc.SFrame.read_json(trajectory_path+'behavior test trajectories_0_0_random_with fixation from sub_'+sub_dir)"
   ]
  },
  {
   "cell_type": "code",
   "execution_count": 22,
   "metadata": {},
   "outputs": [
    {
     "name": "stdout",
     "output_type": "stream",
     "text": [
      "14400\n"
     ]
    }
   ],
   "source": [
    "first_frame_data = trajectory_data[trajectory_data['Frame number']==1]\n",
    "first_frame_data = first_frame_data.sort(['Trial number'])\n",
    "first_frame_data_replicate = tc.SFrame()\n",
    "for i in range(num_frames_per_trial):\n",
    "    first_frame_data_replicate = first_frame_data_replicate.append(first_frame_data)\n",
    "print(len(first_frame_data_replicate))\n",
    "first_frame_data_replicate = first_frame_data_replicate.sort(['Trial number','Frame number'])"
   ]
  },
  {
   "cell_type": "code",
   "execution_count": 23,
   "metadata": {},
   "outputs": [],
   "source": [
    "first_frame_data_replicate['Time stamp'] = out_eye_data['Time stamp']\n",
    "first_frame_data_replicate['fixation.x'] = out_eye_data['X']\n",
    "first_frame_data_replicate['fixation.y'] = out_eye_data['Y']\n",
    "first_frame_data_replicate['Pupil size'] = out_eye_data['Pupil size'].astype(int)\n",
    "first_frame_data_replicate['Fixation flag'] = out_eye_data['Fixation flag']"
   ]
  },
  {
   "cell_type": "code",
   "execution_count": 24,
   "metadata": {},
   "outputs": [],
   "source": [
    "#first_frame_data_replicate[first_frame_data_replicate['Trial number']==1].explore()"
   ]
  },
  {
   "cell_type": "code",
   "execution_count": 25,
   "metadata": {},
   "outputs": [
    {
     "name": "stdout",
     "output_type": "stream",
     "text": [
      "120\n"
     ]
    },
    {
     "data": {
      "text/plain": [
       "array([69])"
      ]
     },
     "execution_count": 25,
     "metadata": {},
     "output_type": "execute_result"
    }
   ],
   "source": [
    "df = first_frame_data_replicate.to_dataframe()\n",
    "print(len(df[df.isnull().T.any().T]))\n",
    "df[df.isnull().T.any().T]['Trial number'].unique()"
   ]
  },
  {
   "cell_type": "code",
   "execution_count": 26,
   "metadata": {},
   "outputs": [
    {
     "name": "stdout",
     "output_type": "stream",
     "text": [
      "14400\n",
      "14280\n"
     ]
    }
   ],
   "source": [
    "print(len(first_frame_data_replicate))\n",
    "first_frame_data_replicate = first_frame_data_replicate.dropna('fixation.x',how='all')\n",
    "print(len(first_frame_data_replicate))"
   ]
  },
  {
   "cell_type": "code",
   "execution_count": 27,
   "metadata": {},
   "outputs": [
    {
     "data": {
      "text/html": [
       "<pre>Parsing JSON records from /Volumes/My Passport/Github/MOT_bayesian_model/data/MOT_pre_trial_json_files/MOT_pre_trial_entire_duration_json_files/sub_105_pre_tracking_entire_duration_with_trajectory_data</pre>"
      ],
      "text/plain": [
       "Parsing JSON records from /Volumes/My Passport/Github/MOT_bayesian_model/data/MOT_pre_trial_json_files/MOT_pre_trial_entire_duration_json_files/sub_105_pre_tracking_entire_duration_with_trajectory_data"
      ]
     },
     "metadata": {},
     "output_type": "display_data"
    },
    {
     "data": {
      "text/html": [
       "<pre>Successfully parsed an SArray of 14160 elements from the JSON file /Volumes/My Passport/Github/MOT_bayesian_model/data/MOT_pre_trial_json_files/MOT_pre_trial_entire_duration_json_files/sub_105_pre_tracking_entire_duration_with_trajectory_data</pre>"
      ],
      "text/plain": [
       "Successfully parsed an SArray of 14160 elements from the JSON file /Volumes/My Passport/Github/MOT_bayesian_model/data/MOT_pre_trial_json_files/MOT_pre_trial_entire_duration_json_files/sub_105_pre_tracking_entire_duration_with_trajectory_data"
      ]
     },
     "metadata": {},
     "output_type": "display_data"
    }
   ],
   "source": [
    "temp = tc.SFrame.read_json(processed_eye_data+'sub_105'+'_pre_tracking_entire_duration_with_trajectory_data',orient='records')\n",
    "#temp.explore()"
   ]
  },
  {
   "cell_type": "code",
   "execution_count": 28,
   "metadata": {},
   "outputs": [],
   "source": [
    "first_frame_data_replicate.export_json(processed_eye_data+'sub_'+sub_num+'_pre_tracking_entire_duration_with_trajectory_data',orient='records')"
   ]
  },
  {
   "cell_type": "code",
   "execution_count": 29,
   "metadata": {},
   "outputs": [
    {
     "data": {
      "text/plain": [
       "'./data/MOT_pre_trial_json_files/MOT_pre_trial_entire_duration_json_files/sub_137_pre_tracking'"
      ]
     },
     "execution_count": 29,
     "metadata": {},
     "output_type": "execute_result"
    }
   ],
   "source": [
    "processed_eye_data+'sub_'+sub_num+'_pre_tracking'"
   ]
  },
  {
   "cell_type": "code",
   "execution_count": 30,
   "metadata": {},
   "outputs": [
    {
     "data": {
      "text/plain": [
       "'./data/MOT_pre_trial_json_files/MOT_pre_trial_entire_duration_json_files/'"
      ]
     },
     "execution_count": 30,
     "metadata": {},
     "output_type": "execute_result"
    }
   ],
   "source": [
    "processed_eye_data"
   ]
  },
  {
   "cell_type": "code",
   "execution_count": 31,
   "metadata": {},
   "outputs": [
    {
     "name": "stdout",
     "output_type": "stream",
     "text": [
      "['Frame number', 'Number of Targets', 'Object 01.x', 'Object 01.y', 'Object 02.x', 'Object 02.y', 'Object 03.x', 'Object 03.y', 'Object 04.x', 'Object 04.y', 'Object 05.x', 'Object 05.y', 'Object 06.x', 'Object 06.y', 'Object 07.x', 'Object 07.y', 'Object 08.x', 'Object 08.y', 'Object 09.x', 'Object 09.y', 'Object 10.x', 'Object 10.y', 'Object 11.x', 'Object 11.y', 'Object 12.x', 'Object 12.y', 'Object 13.x', 'Object 13.y', 'Object 14.x', 'Object 14.y', 'Object 15.x', 'Object 15.y', 'Object 16.x', 'Object 16.y', 'Speed (deg/sec)', 'Subject ID', 'Trial number', 'fixation.x', 'fixation.y', 'Time stamp', 'Pupil size', 'Fixation flag']\n",
      "[<class 'int'>, <class 'int'>, <class 'float'>, <class 'float'>, <class 'float'>, <class 'float'>, <class 'float'>, <class 'float'>, <class 'float'>, <class 'float'>, <class 'float'>, <class 'float'>, <class 'float'>, <class 'float'>, <class 'float'>, <class 'float'>, <class 'float'>, <class 'float'>, <class 'float'>, <class 'float'>, <class 'float'>, <class 'float'>, <class 'float'>, <class 'float'>, <class 'float'>, <class 'float'>, <class 'float'>, <class 'float'>, <class 'float'>, <class 'float'>, <class 'float'>, <class 'float'>, <class 'float'>, <class 'float'>, <class 'float'>, <class 'int'>, <class 'int'>, <class 'float'>, <class 'float'>, <class 'float'>, <class 'int'>, <class 'float'>]\n"
     ]
    }
   ],
   "source": [
    "print(first_frame_data_replicate.column_names())\n",
    "print(first_frame_data_replicate.column_types())"
   ]
  },
  {
   "cell_type": "code",
   "execution_count": 32,
   "metadata": {},
   "outputs": [
    {
     "data": {
      "text/plain": [
       "120"
      ]
     },
     "execution_count": 32,
     "metadata": {},
     "output_type": "execute_result"
    }
   ],
   "source": [
    "len(out_eye_data['Trial Number'].unique())"
   ]
  },
  {
   "cell_type": "code",
   "execution_count": 33,
   "metadata": {},
   "outputs": [
    {
     "data": {
      "text/html": [
       "<pre>Materializing SFrame</pre>"
      ],
      "text/plain": [
       "Materializing SFrame"
      ]
     },
     "metadata": {},
     "output_type": "display_data"
    },
    {
     "name": "stdout",
     "output_type": "stream",
     "text": [
      "['Frame number', 'Number of Targets', 'Object 01.x', 'Object 01.y', 'Object 02.x', 'Object 02.y', 'Object 03.x', 'Object 03.y', 'Object 04.x', 'Object 04.y', 'Object 05.x', 'Object 05.y', 'Object 06.x', 'Object 06.y', 'Object 07.x', 'Object 07.y', 'Object 08.x', 'Object 08.y', 'Object 09.x', 'Object 09.y', 'Object 10.x', 'Object 10.y', 'Object 11.x', 'Object 11.y', 'Object 12.x', 'Object 12.y', 'Object 13.x', 'Object 13.y', 'Object 14.x', 'Object 14.y', 'Speed (deg/sec)', 'Subject ID', 'Trial number', 'fixation.x', 'fixation.y', 'Time stamp', 'Pupil size', 'Fixation flag']\n"
     ]
    }
   ],
   "source": [
    "trial_data = first_frame_data_replicate[first_frame_data_replicate['Trial number'] ==25]\n",
    "for name in trial_data.column_names():\n",
    "    if not trial_data[name].all(): # Remove all empty columns\n",
    "        trial_data = trial_data.remove_column(name)\n",
    "trial_data.explore()\n",
    "print(trial_data.column_names())"
   ]
  },
  {
   "cell_type": "code",
   "execution_count": 34,
   "metadata": {},
   "outputs": [
    {
     "data": {
      "text/plain": [
       "True"
      ]
     },
     "execution_count": 34,
     "metadata": {},
     "output_type": "execute_result"
    }
   ],
   "source": [
    "trial_data['fixation.y'].all()"
   ]
  },
  {
   "cell_type": "code",
   "execution_count": 36,
   "metadata": {},
   "outputs": [
    {
     "data": {
      "text/html": [
       "<pre>Parsing JSON records from /Volumes/My Passport/Github/MOT_bayesian_model/data/testing_output/correspondences_sub_20_Hz_128.json</pre>"
      ],
      "text/plain": [
       "Parsing JSON records from /Volumes/My Passport/Github/MOT_bayesian_model/data/testing_output/correspondences_sub_20_Hz_128.json"
      ]
     },
     "metadata": {},
     "output_type": "display_data"
    },
    {
     "data": {
      "text/html": [
       "<pre>Successfully parsed an SArray of 120 elements from the JSON file /Volumes/My Passport/Github/MOT_bayesian_model/data/testing_output/correspondences_sub_20_Hz_128.json</pre>"
      ],
      "text/plain": [
       "Successfully parsed an SArray of 120 elements from the JSON file /Volumes/My Passport/Github/MOT_bayesian_model/data/testing_output/correspondences_sub_20_Hz_128.json"
      ]
     },
     "metadata": {},
     "output_type": "display_data"
    },
    {
     "data": {
      "text/html": [
       "<pre>Materializing SFrame</pre>"
      ],
      "text/plain": [
       "Materializing SFrame"
      ]
     },
     "metadata": {},
     "output_type": "display_data"
    }
   ],
   "source": [
    "temp = tc.SFrame.read_json('./data/testing_output/correspondences_sub_20_Hz_128.json')\n",
    "temp.explore()"
   ]
  },
  {
   "cell_type": "markdown",
   "metadata": {},
   "source": []
  }
 ],
 "metadata": {
  "anaconda-cloud": {},
  "kernelspec": {
   "display_name": "adiLab (3.7)",
   "language": "python",
   "name": "adilab"
  },
  "language_info": {
   "codemirror_mode": {
    "name": "ipython",
    "version": 3
   },
   "file_extension": ".py",
   "mimetype": "text/x-python",
   "name": "python",
   "nbconvert_exporter": "python",
   "pygments_lexer": "ipython3",
   "version": "3.6.0"
  }
 },
 "nbformat": 4,
 "nbformat_minor": 1
}
